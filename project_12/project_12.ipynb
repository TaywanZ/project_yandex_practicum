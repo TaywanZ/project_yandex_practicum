{
 "cells": [
  {
   "cell_type": "markdown",
   "metadata": {
    "toc": true
   },
   "source": [
    "<h1>Содержание<span class=\"tocSkip\"></span></h1>\n",
    "<div class=\"toc\"><ul class=\"toc-item\"><li><ul class=\"toc-item\"><li><span><a href=\"#Общее-впечатление\" data-toc-modified-id=\"Общее-впечатление-0.1\"><span class=\"toc-item-num\">0.1&nbsp;&nbsp;</span><font color=\"orange\">Общее впечатление</font></a></span></li><li><span><a href=\"#Общее-впечатление-(ревью-2)\" data-toc-modified-id=\"Общее-впечатление-(ревью-2)-0.2\"><span class=\"toc-item-num\">0.2&nbsp;&nbsp;</span><font color=\"orange\">Общее впечатление (ревью 2)</font></a></span></li></ul></li><li><span><a href=\"#Подготовка\" data-toc-modified-id=\"Подготовка-1\"><span class=\"toc-item-num\">1&nbsp;&nbsp;</span>Подготовка</a></span></li><li><span><a href=\"#Предобработка-данных\" data-toc-modified-id=\"Предобработка-данных-2\"><span class=\"toc-item-num\">2&nbsp;&nbsp;</span>Предобработка данных</a></span><ul class=\"toc-item\"><li><span><a href=\"#Выводы\" data-toc-modified-id=\"Выводы-2.1\"><span class=\"toc-item-num\">2.1&nbsp;&nbsp;</span>Выводы</a></span></li></ul></li><li><span><a href=\"#Обучение-и-тест\" data-toc-modified-id=\"Обучение-и-тест-3\"><span class=\"toc-item-num\">3&nbsp;&nbsp;</span>Обучение и тест</a></span><ul class=\"toc-item\"><li><span><a href=\"#Обучение\" data-toc-modified-id=\"Обучение-3.1\"><span class=\"toc-item-num\">3.1&nbsp;&nbsp;</span>Обучение</a></span></li><li><span><a href=\"#Тест\" data-toc-modified-id=\"Тест-3.2\"><span class=\"toc-item-num\">3.2&nbsp;&nbsp;</span>Тест</a></span></li></ul></li><li><span><a href=\"#Выводы\" data-toc-modified-id=\"Выводы-4\"><span class=\"toc-item-num\">4&nbsp;&nbsp;</span>Выводы</a></span></li><li><span><a href=\"#Чек-лист-проверки\" data-toc-modified-id=\"Чек-лист-проверки-5\"><span class=\"toc-item-num\">5&nbsp;&nbsp;</span>Чек-лист проверки</a></span></li></ul></div>"
   ]
  },
  {
   "cell_type": "markdown",
   "metadata": {},
   "source": [
    "# Проект для «Викишоп»"
   ]
  },
  {
   "cell_type": "markdown",
   "metadata": {},
   "source": [
    "## Подготовка"
   ]
  },
  {
   "cell_type": "markdown",
   "metadata": {},
   "source": [
    "Произведем импорт необходимых модулей и функций."
   ]
  },
  {
   "cell_type": "code",
   "execution_count": 1,
   "metadata": {},
   "outputs": [],
   "source": [
    "import matplotlib.pyplot as plt\n",
    "import nltk\n",
    "import numpy as np\n",
    "import pandas as pd\n",
    "import re\n",
    "import seaborn as sns\n",
    "\n",
    "from catboost import CatBoostClassifier\n",
    "from nltk.corpus import stopwords\n",
    "from nltk.stem import WordNetLemmatizer\n",
    "from sklearn.ensemble import RandomForestClassifier\n",
    "from sklearn.feature_extraction.text import TfidfVectorizer\n",
    "from sklearn.linear_model import LogisticRegression\n",
    "from sklearn.metrics import f1_score\n",
    "from sklearn.model_selection import train_test_split, GridSearchCV\n",
    "from sklearn.pipeline import Pipeline\n",
    "from sklearn.tree import DecisionTreeClassifier\n",
    "from sklearn.utils import shuffle"
   ]
  },
  {
   "cell_type": "markdown",
   "metadata": {},
   "source": [
    "Далее, загрузим исходные данные и оснакомимся с ними."
   ]
  },
  {
   "cell_type": "code",
   "execution_count": 2,
   "metadata": {},
   "outputs": [],
   "source": [
    "df = pd.read_csv('/datasets/toxic_comments.csv')"
   ]
  },
  {
   "cell_type": "code",
   "execution_count": 3,
   "metadata": {},
   "outputs": [
    {
     "name": "stdout",
     "output_type": "stream",
     "text": [
      "<class 'pandas.core.frame.DataFrame'>\n",
      "RangeIndex: 159571 entries, 0 to 159570\n",
      "Data columns (total 2 columns):\n",
      " #   Column  Non-Null Count   Dtype \n",
      "---  ------  --------------   ----- \n",
      " 0   text    159571 non-null  object\n",
      " 1   toxic   159571 non-null  int64 \n",
      "dtypes: int64(1), object(1)\n",
      "memory usage: 2.4+ MB\n"
     ]
    }
   ],
   "source": [
    "df.info()"
   ]
  },
  {
   "cell_type": "code",
   "execution_count": 4,
   "metadata": {},
   "outputs": [
    {
     "data": {
      "text/html": [
       "<div>\n",
       "<style scoped>\n",
       "    .dataframe tbody tr th:only-of-type {\n",
       "        vertical-align: middle;\n",
       "    }\n",
       "\n",
       "    .dataframe tbody tr th {\n",
       "        vertical-align: top;\n",
       "    }\n",
       "\n",
       "    .dataframe thead th {\n",
       "        text-align: right;\n",
       "    }\n",
       "</style>\n",
       "<table border=\"1\" class=\"dataframe\">\n",
       "  <thead>\n",
       "    <tr style=\"text-align: right;\">\n",
       "      <th></th>\n",
       "      <th>text</th>\n",
       "      <th>toxic</th>\n",
       "    </tr>\n",
       "  </thead>\n",
       "  <tbody>\n",
       "    <tr>\n",
       "      <th>0</th>\n",
       "      <td>Explanation\\nWhy the edits made under my usern...</td>\n",
       "      <td>0</td>\n",
       "    </tr>\n",
       "    <tr>\n",
       "      <th>1</th>\n",
       "      <td>D'aww! He matches this background colour I'm s...</td>\n",
       "      <td>0</td>\n",
       "    </tr>\n",
       "    <tr>\n",
       "      <th>2</th>\n",
       "      <td>Hey man, I'm really not trying to edit war. It...</td>\n",
       "      <td>0</td>\n",
       "    </tr>\n",
       "    <tr>\n",
       "      <th>3</th>\n",
       "      <td>\"\\nMore\\nI can't make any real suggestions on ...</td>\n",
       "      <td>0</td>\n",
       "    </tr>\n",
       "    <tr>\n",
       "      <th>4</th>\n",
       "      <td>You, sir, are my hero. Any chance you remember...</td>\n",
       "      <td>0</td>\n",
       "    </tr>\n",
       "  </tbody>\n",
       "</table>\n",
       "</div>"
      ],
      "text/plain": [
       "                                                text  toxic\n",
       "0  Explanation\\nWhy the edits made under my usern...      0\n",
       "1  D'aww! He matches this background colour I'm s...      0\n",
       "2  Hey man, I'm really not trying to edit war. It...      0\n",
       "3  \"\\nMore\\nI can't make any real suggestions on ...      0\n",
       "4  You, sir, are my hero. Any chance you remember...      0"
      ]
     },
     "execution_count": 4,
     "metadata": {},
     "output_type": "execute_result"
    }
   ],
   "source": [
    "df.head()"
   ]
  },
  {
   "cell_type": "markdown",
   "metadata": {},
   "source": [
    "Теперь проверим, насколько сбалансированны классы в исходной выборке."
   ]
  },
  {
   "cell_type": "code",
   "execution_count": 5,
   "metadata": {},
   "outputs": [
    {
     "data": {
      "text/plain": [
       "<AxesSubplot:title={'center':'Баланс классов'}, xlabel='toxic', ylabel='count'>"
      ]
     },
     "execution_count": 5,
     "metadata": {},
     "output_type": "execute_result"
    },
    {
     "data": {
      "image/png": "[encoded data removed]",
      "text/plain": [
       "<Figure size 720x576 with 1 Axes>"
      ]
     },
     "metadata": {
      "needs_background": "light"
     },
     "output_type": "display_data"
    }
   ],
   "source": [
    "fig , ax1 = plt.subplots(figsize=(10,8))\n",
    "plt.title('Баланс классов')\n",
    "sns.countplot(x='toxic', data=df, ax=ax1)"
   ]
  },
  {
   "cell_type": "markdown",
   "metadata": {},
   "source": [
    "Судя по графику, классы не сбалансированы, необходимо будет это исправить методом upsampling."
   ]
  },
  {
   "cell_type": "markdown",
   "metadata": {},
   "source": [
    "## Предобработка данных"
   ]
  },
  {
   "cell_type": "markdown",
   "metadata": {},
   "source": [
    "Подготовим функцию, которая:\n",
    "\n",
    "1. Приведет текст к нижнему регистру;\n",
    "2. Удалит их текста все символы кроме латинских фукв и цифр;\n",
    "3. Лемматизирует текст;\n",
    "4. Вернёт обработанный текст;"
   ]
  },
  {
   "cell_type": "code",
   "execution_count": 6,
   "metadata": {},
   "outputs": [
    {
     "name": "stderr",
     "output_type": "stream",
     "text": [
      "[nltk_data] Downloading package wordnet to /home/jovyan/nltk_data...\n",
      "[nltk_data]   Package wordnet is already up-to-date!\n"
     ]
    }
   ],
   "source": [
    "nltk.download('wordnet')\n",
    "nlm = WordNetLemmatizer()\n",
    "def lemm(text):\n",
    "    text = text.lower()\n",
    "    clear_text = re.sub(r\"[^a-z]\", ' ', text)\n",
    "    lemmatize_text = ''.join(nlm.lemmatize(clear_text.split()))\n",
    "    return ' '.join(lemmatize_text.split())"
   ]
  },
  {
   "cell_type": "markdown",
   "metadata": {},
   "source": [
    "Прогоним через созданную функцию, исходные данные."
   ]
  },
  {
   "cell_type": "code",
   "execution_count": 7,
   "metadata": {},
   "outputs": [
    {
     "data": {
      "text/html": [
       "<div>\n",
       "<style scoped>\n",
       "    .dataframe tbody tr th:only-of-type {\n",
       "        vertical-align: middle;\n",
       "    }\n",
       "\n",
       "    .dataframe tbody tr th {\n",
       "        vertical-align: top;\n",
       "    }\n",
       "\n",
       "    .dataframe thead th {\n",
       "        text-align: right;\n",
       "    }\n",
       "</style>\n",
       "<table border=\"1\" class=\"dataframe\">\n",
       "  <thead>\n",
       "    <tr style=\"text-align: right;\">\n",
       "      <th></th>\n",
       "      <th>text</th>\n",
       "      <th>toxic</th>\n",
       "    </tr>\n",
       "  </thead>\n",
       "  <tbody>\n",
       "    <tr>\n",
       "      <th>0</th>\n",
       "      <td>explanation why the edits made under my userna...</td>\n",
       "      <td>0</td>\n",
       "    </tr>\n",
       "    <tr>\n",
       "      <th>1</th>\n",
       "      <td>d aww he matches this background colour i m se...</td>\n",
       "      <td>0</td>\n",
       "    </tr>\n",
       "    <tr>\n",
       "      <th>2</th>\n",
       "      <td>hey man i m really not trying to edit war it s...</td>\n",
       "      <td>0</td>\n",
       "    </tr>\n",
       "    <tr>\n",
       "      <th>3</th>\n",
       "      <td>more i can t make any real suggestions on impr...</td>\n",
       "      <td>0</td>\n",
       "    </tr>\n",
       "    <tr>\n",
       "      <th>4</th>\n",
       "      <td>you sir are my hero any chance you remember wh...</td>\n",
       "      <td>0</td>\n",
       "    </tr>\n",
       "  </tbody>\n",
       "</table>\n",
       "</div>"
      ],
      "text/plain": [
       "                                                text  toxic\n",
       "0  explanation why the edits made under my userna...      0\n",
       "1  d aww he matches this background colour i m se...      0\n",
       "2  hey man i m really not trying to edit war it s...      0\n",
       "3  more i can t make any real suggestions on impr...      0\n",
       "4  you sir are my hero any chance you remember wh...      0"
      ]
     },
     "execution_count": 7,
     "metadata": {},
     "output_type": "execute_result"
    }
   ],
   "source": [
    "df['text'] = df['text'].apply(lemm)\n",
    "df.head()"
   ]
  },
  {
   "cell_type": "markdown",
   "metadata": {},
   "source": [
    "Теперь, разделим исходный датасет на тренировочный и тестовый, в тренировочном датасете выровним баланс классом методом upsampling."
   ]
  },
  {
   "cell_type": "code",
   "execution_count": 8,
   "metadata": {},
   "outputs": [],
   "source": [
    "train, test = train_test_split(df, random_state=123, test_size=0.2)\n",
    "\n",
    "dop_row = train.query('toxic == 1')\n",
    "train = pd.concat([train] + [dop_row]*2)\n",
    "\n",
    "train = shuffle(train)"
   ]
  },
  {
   "cell_type": "markdown",
   "metadata": {},
   "source": [
    "Посмотрим как исменился баланс классов."
   ]
  },
  {
   "cell_type": "code",
   "execution_count": 9,
   "metadata": {},
   "outputs": [
    {
     "data": {
      "text/html": [
       "<div>\n",
       "<style scoped>\n",
       "    .dataframe tbody tr th:only-of-type {\n",
       "        vertical-align: middle;\n",
       "    }\n",
       "\n",
       "    .dataframe tbody tr th {\n",
       "        vertical-align: top;\n",
       "    }\n",
       "\n",
       "    .dataframe thead th {\n",
       "        text-align: right;\n",
       "    }\n",
       "</style>\n",
       "<table border=\"1\" class=\"dataframe\">\n",
       "  <thead>\n",
       "    <tr style=\"text-align: right;\">\n",
       "      <th></th>\n",
       "      <th>% toxic_1</th>\n",
       "      <th>% toxic_0</th>\n",
       "    </tr>\n",
       "  </thead>\n",
       "  <tbody>\n",
       "    <tr>\n",
       "      <th>Исходный фрейм</th>\n",
       "      <td>10.167888</td>\n",
       "      <td>89.832112</td>\n",
       "    </tr>\n",
       "    <tr>\n",
       "      <th>Сбалансированный</th>\n",
       "      <td>25.498049</td>\n",
       "      <td>74.501951</td>\n",
       "    </tr>\n",
       "  </tbody>\n",
       "</table>\n",
       "</div>"
      ],
      "text/plain": [
       "                  % toxic_1   % toxic_0\n",
       "Исходный фрейм    10.167888   89.832112\n",
       "Сбалансированный  25.498049   74.501951"
      ]
     },
     "execution_count": 9,
     "metadata": {},
     "output_type": "execute_result"
    }
   ],
   "source": [
    "list_data = [\n",
    "    [len(df.query('toxic == 1'))/df.shape[0] * 100, len(df.query('toxic == 0'))/df.shape[0] * 100],\n",
    "    [len(train.query('toxic == 1'))/ train.shape[0] * 100, len(train.query('toxic == 0'))/ train.shape[0] * 100],\n",
    "]\n",
    "\n",
    "data = pd.DataFrame(data=list_data, columns=['% toxic_1', ' % toxic_0'], index=['Исходный фрейм', 'Сбалансированный'])\n",
    "data"
   ]
  },
  {
   "cell_type": "markdown",
   "metadata": {},
   "source": [
    "Теперь разделим датасеты на признаки и целевой показатель."
   ]
  },
  {
   "cell_type": "code",
   "execution_count": 32,
   "metadata": {},
   "outputs": [],
   "source": [
    "features_train = train.text\n",
    "target_train = train.toxic\n",
    "\n",
    "features_test = test.text\n",
    "target_test = test.toxic"
   ]
  },
  {
   "cell_type": "markdown",
   "metadata": {},
   "source": [
    "Убедимся, что разделение прошло корректно."
   ]
  },
  {
   "cell_type": "code",
   "execution_count": 11,
   "metadata": {},
   "outputs": [
    {
     "name": "stdout",
     "output_type": "stream",
     "text": [
      "(153800,)\n",
      "(153800,)\n"
     ]
    }
   ],
   "source": [
    "print(features_train.shape)\n",
    "print(target_train.shape)"
   ]
  },
  {
   "cell_type": "markdown",
   "metadata": {},
   "source": [
    "Подготовим векторизатор."
   ]
  },
  {
   "cell_type": "code",
   "execution_count": 12,
   "metadata": {
    "scrolled": true
   },
   "outputs": [
    {
     "name": "stderr",
     "output_type": "stream",
     "text": [
      "[nltk_data] Downloading package stopwords to /home/jovyan/nltk_data...\n",
      "[nltk_data]   Package stopwords is already up-to-date!\n"
     ]
    }
   ],
   "source": [
    "nltk.download('stopwords')\n",
    "stopwords = set(stopwords.words('english'))\n",
    "\n",
    "tf_idf = TfidfVectorizer(stop_words=stopwords, lowercase=False)"
   ]
  },
  {
   "cell_type": "markdown",
   "metadata": {},
   "source": [
    "### Выводы"
   ]
  },
  {
   "cell_type": "markdown",
   "metadata": {},
   "source": [
    "В ходе предобработки, мы подготовили исходные тексты к векторизации, путим приведения в нижний регистр, очистки от лишниз символов и лемматизации. Далее, мы выровнили баланс классов (в тренировочной выборке) и векторизировали текст."
   ]
  },
  {
   "cell_type": "markdown",
   "metadata": {},
   "source": [
    "## Обучение и тест"
   ]
  },
  {
   "cell_type": "markdown",
   "metadata": {},
   "source": [
    "### Обучение"
   ]
  },
  {
   "cell_type": "markdown",
   "metadata": {},
   "source": [
    "Подготовим переменные для поиска оптимальных параметров у разных моделей с учетом верторизации текстов.\n",
    "\n",
    "Обучим разные модели, с разными гипперпараметрами, выберем модель, которая покажет наилучший результат на тренировочной выборке.\n",
    "\n"
   ]
  },
  {
   "cell_type": "code",
   "execution_count": 23,
   "metadata": {
    "scrolled": false
   },
   "outputs": [],
   "source": [
    "tree_mod = DecisionTreeClassifier(random_state=123)\n",
    "forest_mod = RandomForestClassifier(random_state=123)\n",
    "log_mod = LogisticRegression(random_state=123, class_weight='balanced')\n",
    "cat_mod = CatBoostClassifier(random_state=123, auto_class_weights='Balanced', iterations=100)\n",
    "\n",
    "step_tree = [('normalizer', tf_idf), ('classifier', tree_mod)]\n",
    "step_forest = [('normalizer', tf_idf), ('classifier', forest_mod)]\n",
    "step_log = [('normalizer', tf_idf), ('classifier', log_mod)]\n",
    "step_cat = [('normalizer', tf_idf), ('classifier', cat_mod)]\n",
    "\n",
    "pr_tree = {\n",
    "   'classifier__criterion':['gini', 'entropy'],        \n",
    "   'classifier__max_depth':list(range(1,15,5)) \n",
    "}\n",
    "pr_forest = {\n",
    "    'classifier__max_depth': list(range(5,15,5)),\n",
    "    'classifier__n_estimators': [100, 200],\n",
    "}\n",
    "pr_log = {\n",
    "    'classifier__solver': ['newton-cg', 'liblinear', 'sag'],\n",
    "    'classifier__max_iter': [100, 150]\n",
    "}\n",
    "pr_cat = {}"
   ]
  },
  {
   "cell_type": "code",
   "execution_count": 18,
   "metadata": {},
   "outputs": [
    {
     "name": "stdout",
     "output_type": "stream",
     "text": [
      "Fitting 3 folds for each of 6 candidates, totalling 18 fits\n"
     ]
    }
   ],
   "source": [
    "pipe = Pipeline(step_tree)\n",
    "tree_gs = GridSearchCV(\n",
    "    estimator=pipe, scoring='f1', param_grid=pr_tree, cv=3, n_jobs=-1, verbose=True).fit(features_train, target_train)"
   ]
  },
  {
   "cell_type": "code",
   "execution_count": 19,
   "metadata": {},
   "outputs": [
    {
     "name": "stdout",
     "output_type": "stream",
     "text": [
      "0.6164761871724725\n",
      "{'classifier__criterion': 'gini', 'classifier__max_depth': 11}\n"
     ]
    }
   ],
   "source": [
    "print(tree_gs.best_score_)\n",
    "print(tree_gs.best_params_)"
   ]
  },
  {
   "cell_type": "code",
   "execution_count": 20,
   "metadata": {},
   "outputs": [
    {
     "name": "stdout",
     "output_type": "stream",
     "text": [
      "Fitting 3 folds for each of 4 candidates, totalling 12 fits\n"
     ]
    }
   ],
   "source": [
    "pipe = Pipeline(step_forest)\n",
    "forest_gs = GridSearchCV(\n",
    "    estimator=pipe, scoring='f1', param_grid=pr_forest, cv=3, n_jobs=-1, verbose=True).fit(features_train, target_train)"
   ]
  },
  {
   "cell_type": "code",
   "execution_count": 21,
   "metadata": {},
   "outputs": [
    {
     "name": "stdout",
     "output_type": "stream",
     "text": [
      "0.000560796613603792\n",
      "{'classifier__max_depth': 10, 'classifier__n_estimators': 200}\n"
     ]
    }
   ],
   "source": [
    "print(forest_gs.best_score_)\n",
    "print(forest_gs.best_params_)"
   ]
  },
  {
   "cell_type": "code",
   "execution_count": 24,
   "metadata": {},
   "outputs": [
    {
     "name": "stdout",
     "output_type": "stream",
     "text": [
      "Fitting 3 folds for each of 6 candidates, totalling 18 fits\n"
     ]
    }
   ],
   "source": [
    "pipe = Pipeline(step_log)\n",
    "log_gs = GridSearchCV(\n",
    "    estimator=pipe, scoring='f1', param_grid=pr_log, cv=3, n_jobs=-1, verbose=True).fit(features_train, target_train)"
   ]
  },
  {
   "cell_type": "code",
   "execution_count": 25,
   "metadata": {},
   "outputs": [
    {
     "name": "stdout",
     "output_type": "stream",
     "text": [
      "{'classifier__max_iter': 100, 'classifier__solver': 'liblinear'}\n",
      "0.8937127194882072\n"
     ]
    }
   ],
   "source": [
    "print(log_gs.best_params_)\n",
    "print(log_gs.best_score_)"
   ]
  },
  {
   "cell_type": "code",
   "execution_count": 26,
   "metadata": {},
   "outputs": [
    {
     "name": "stdout",
     "output_type": "stream",
     "text": [
      "Fitting 3 folds for each of 1 candidates, totalling 3 fits\n",
      "Learning rate set to 0.5\n",
      "0:\tlearn: 0.5657586\ttotal: 2.51s\tremaining: 4m 8s\n",
      "1:\tlearn: 0.5233795\ttotal: 4.4s\tremaining: 3m 35s\n",
      "2:\tlearn: 0.4962126\ttotal: 6.28s\tremaining: 3m 22s\n",
      "3:\tlearn: 0.4756709\ttotal: 8.11s\tremaining: 3m 14s\n",
      "4:\tlearn: 0.4613998\ttotal: 9.99s\tremaining: 3m 9s\n",
      "5:\tlearn: 0.4472555\ttotal: 11.8s\tremaining: 3m 4s\n",
      "6:\tlearn: 0.4345586\ttotal: 13.7s\tremaining: 3m 2s\n",
      "7:\tlearn: 0.4230727\ttotal: 15.6s\tremaining: 2m 59s\n",
      "8:\tlearn: 0.4135347\ttotal: 17.4s\tremaining: 2m 55s\n",
      "9:\tlearn: 0.4059243\ttotal: 19.2s\tremaining: 2m 52s\n",
      "10:\tlearn: 0.4001978\ttotal: 21s\tremaining: 2m 49s\n",
      "11:\tlearn: 0.3940492\ttotal: 22.8s\tremaining: 2m 47s\n",
      "12:\tlearn: 0.3889794\ttotal: 24.7s\tremaining: 2m 45s\n",
      "13:\tlearn: 0.3838794\ttotal: 26.5s\tremaining: 2m 42s\n",
      "14:\tlearn: 0.3791186\ttotal: 28.4s\tremaining: 2m 40s\n",
      "15:\tlearn: 0.3749241\ttotal: 30.2s\tremaining: 2m 38s\n",
      "16:\tlearn: 0.3708595\ttotal: 32s\tremaining: 2m 36s\n",
      "17:\tlearn: 0.3675482\ttotal: 33.8s\tremaining: 2m 34s\n",
      "18:\tlearn: 0.3638031\ttotal: 35.7s\tremaining: 2m 32s\n",
      "19:\tlearn: 0.3597212\ttotal: 37.5s\tremaining: 2m 29s\n",
      "20:\tlearn: 0.3564380\ttotal: 39.3s\tremaining: 2m 27s\n",
      "21:\tlearn: 0.3520714\ttotal: 41s\tremaining: 2m 25s\n",
      "22:\tlearn: 0.3486651\ttotal: 42.8s\tremaining: 2m 23s\n",
      "23:\tlearn: 0.3440847\ttotal: 44.7s\tremaining: 2m 21s\n",
      "24:\tlearn: 0.3388852\ttotal: 46.4s\tremaining: 2m 19s\n",
      "25:\tlearn: 0.3352524\ttotal: 48.2s\tremaining: 2m 17s\n",
      "26:\tlearn: 0.3319306\ttotal: 50s\tremaining: 2m 15s\n",
      "27:\tlearn: 0.3286260\ttotal: 51.8s\tremaining: 2m 13s\n",
      "28:\tlearn: 0.3261770\ttotal: 53.5s\tremaining: 2m 11s\n",
      "29:\tlearn: 0.3235775\ttotal: 55.3s\tremaining: 2m 9s\n",
      "30:\tlearn: 0.3212338\ttotal: 57s\tremaining: 2m 6s\n",
      "31:\tlearn: 0.3186949\ttotal: 58.8s\tremaining: 2m 4s\n",
      "32:\tlearn: 0.3163291\ttotal: 1m\tremaining: 2m 3s\n",
      "33:\tlearn: 0.3137970\ttotal: 1m 2s\tremaining: 2m 1s\n",
      "34:\tlearn: 0.3120385\ttotal: 1m 4s\tremaining: 1m 59s\n",
      "35:\tlearn: 0.3096980\ttotal: 1m 5s\tremaining: 1m 57s\n",
      "36:\tlearn: 0.3077630\ttotal: 1m 7s\tremaining: 1m 55s\n",
      "37:\tlearn: 0.3058756\ttotal: 1m 9s\tremaining: 1m 53s\n",
      "38:\tlearn: 0.3036292\ttotal: 1m 11s\tremaining: 1m 51s\n",
      "39:\tlearn: 0.3014966\ttotal: 1m 13s\tremaining: 1m 49s\n",
      "40:\tlearn: 0.2989681\ttotal: 1m 14s\tremaining: 1m 47s\n",
      "41:\tlearn: 0.2972659\ttotal: 1m 16s\tremaining: 1m 45s\n",
      "42:\tlearn: 0.2955774\ttotal: 1m 18s\tremaining: 1m 43s\n",
      "43:\tlearn: 0.2934560\ttotal: 1m 20s\tremaining: 1m 41s\n",
      "44:\tlearn: 0.2916267\ttotal: 1m 21s\tremaining: 1m 40s\n",
      "45:\tlearn: 0.2899055\ttotal: 1m 23s\tremaining: 1m 38s\n",
      "46:\tlearn: 0.2882995\ttotal: 1m 25s\tremaining: 1m 36s\n",
      "47:\tlearn: 0.2867627\ttotal: 1m 27s\tremaining: 1m 34s\n",
      "48:\tlearn: 0.2851643\ttotal: 1m 28s\tremaining: 1m 32s\n",
      "49:\tlearn: 0.2835671\ttotal: 1m 30s\tremaining: 1m 30s\n",
      "50:\tlearn: 0.2823975\ttotal: 1m 32s\tremaining: 1m 28s\n",
      "51:\tlearn: 0.2810320\ttotal: 1m 34s\tremaining: 1m 26s\n",
      "52:\tlearn: 0.2796293\ttotal: 1m 35s\tremaining: 1m 24s\n",
      "53:\tlearn: 0.2780947\ttotal: 1m 37s\tremaining: 1m 23s\n",
      "54:\tlearn: 0.2771542\ttotal: 1m 39s\tremaining: 1m 21s\n",
      "55:\tlearn: 0.2758144\ttotal: 1m 40s\tremaining: 1m 19s\n",
      "56:\tlearn: 0.2744663\ttotal: 1m 42s\tremaining: 1m 17s\n",
      "57:\tlearn: 0.2735244\ttotal: 1m 44s\tremaining: 1m 15s\n",
      "58:\tlearn: 0.2720799\ttotal: 1m 46s\tremaining: 1m 13s\n",
      "59:\tlearn: 0.2710682\ttotal: 1m 47s\tremaining: 1m 11s\n",
      "60:\tlearn: 0.2702719\ttotal: 1m 49s\tremaining: 1m 9s\n",
      "61:\tlearn: 0.2690024\ttotal: 1m 51s\tremaining: 1m 8s\n",
      "62:\tlearn: 0.2677524\ttotal: 1m 52s\tremaining: 1m 6s\n",
      "63:\tlearn: 0.2660033\ttotal: 1m 54s\tremaining: 1m 4s\n",
      "64:\tlearn: 0.2651517\ttotal: 1m 56s\tremaining: 1m 2s\n",
      "65:\tlearn: 0.2640456\ttotal: 1m 57s\tremaining: 1m\n",
      "66:\tlearn: 0.2628449\ttotal: 1m 59s\tremaining: 59s\n",
      "67:\tlearn: 0.2617850\ttotal: 2m 1s\tremaining: 57.2s\n",
      "68:\tlearn: 0.2610175\ttotal: 2m 3s\tremaining: 55.3s\n",
      "69:\tlearn: 0.2598893\ttotal: 2m 4s\tremaining: 53.6s\n",
      "70:\tlearn: 0.2585806\ttotal: 2m 6s\tremaining: 51.8s\n",
      "71:\tlearn: 0.2570778\ttotal: 2m 8s\tremaining: 50s\n",
      "72:\tlearn: 0.2563415\ttotal: 2m 10s\tremaining: 48.1s\n",
      "73:\tlearn: 0.2537676\ttotal: 2m 11s\tremaining: 46.4s\n",
      "74:\tlearn: 0.2524504\ttotal: 2m 14s\tremaining: 44.7s\n",
      "75:\tlearn: 0.2517985\ttotal: 2m 15s\tremaining: 42.9s\n",
      "76:\tlearn: 0.2512257\ttotal: 2m 17s\tremaining: 41.1s\n",
      "77:\tlearn: 0.2505205\ttotal: 2m 19s\tremaining: 39.3s\n",
      "78:\tlearn: 0.2496193\ttotal: 2m 20s\tremaining: 37.5s\n",
      "79:\tlearn: 0.2486920\ttotal: 2m 22s\tremaining: 35.7s\n",
      "80:\tlearn: 0.2479925\ttotal: 2m 24s\tremaining: 33.9s\n",
      "81:\tlearn: 0.2473925\ttotal: 2m 26s\tremaining: 32.1s\n",
      "82:\tlearn: 0.2466544\ttotal: 2m 27s\tremaining: 30.3s\n",
      "83:\tlearn: 0.2456920\ttotal: 2m 29s\tremaining: 28.5s\n",
      "84:\tlearn: 0.2451075\ttotal: 2m 31s\tremaining: 26.7s\n",
      "85:\tlearn: 0.2441207\ttotal: 2m 32s\tremaining: 24.9s\n",
      "86:\tlearn: 0.2429035\ttotal: 2m 34s\tremaining: 23.1s\n",
      "87:\tlearn: 0.2422602\ttotal: 2m 36s\tremaining: 21.3s\n",
      "88:\tlearn: 0.2415295\ttotal: 2m 38s\tremaining: 19.5s\n",
      "89:\tlearn: 0.2405327\ttotal: 2m 40s\tremaining: 17.8s\n",
      "90:\tlearn: 0.2399645\ttotal: 2m 41s\tremaining: 16s\n",
      "91:\tlearn: 0.2388662\ttotal: 2m 43s\tremaining: 14.2s\n",
      "92:\tlearn: 0.2382961\ttotal: 2m 45s\tremaining: 12.4s\n",
      "93:\tlearn: 0.2372522\ttotal: 2m 47s\tremaining: 10.7s\n",
      "94:\tlearn: 0.2363619\ttotal: 2m 48s\tremaining: 8.89s\n",
      "95:\tlearn: 0.2358682\ttotal: 2m 50s\tremaining: 7.11s\n",
      "96:\tlearn: 0.2351374\ttotal: 2m 52s\tremaining: 5.33s\n",
      "97:\tlearn: 0.2339529\ttotal: 2m 54s\tremaining: 3.56s\n",
      "98:\tlearn: 0.2332860\ttotal: 2m 55s\tremaining: 1.78s\n",
      "99:\tlearn: 0.2328231\ttotal: 2m 57s\tremaining: 0us\n",
      "Learning rate set to 0.5\n",
      "0:\tlearn: 0.5668324\ttotal: 2.88s\tremaining: 4m 45s\n",
      "1:\tlearn: 0.5234217\ttotal: 4.83s\tremaining: 3m 56s\n",
      "2:\tlearn: 0.4954543\ttotal: 6.7s\tremaining: 3m 36s\n",
      "3:\tlearn: 0.4773032\ttotal: 8.62s\tremaining: 3m 26s\n",
      "4:\tlearn: 0.4550988\ttotal: 10.5s\tremaining: 3m 19s\n",
      "5:\tlearn: 0.4406586\ttotal: 12.4s\tremaining: 3m 14s\n",
      "6:\tlearn: 0.4280696\ttotal: 14.3s\tremaining: 3m 10s\n",
      "7:\tlearn: 0.4187384\ttotal: 16.2s\tremaining: 3m 6s\n",
      "8:\tlearn: 0.4116504\ttotal: 18.1s\tremaining: 3m 2s\n",
      "9:\tlearn: 0.4048266\ttotal: 20s\tremaining: 2m 59s\n",
      "10:\tlearn: 0.3990483\ttotal: 21.8s\tremaining: 2m 56s\n",
      "11:\tlearn: 0.3938146\ttotal: 23.7s\tremaining: 2m 53s\n",
      "12:\tlearn: 0.3879915\ttotal: 25.6s\tremaining: 2m 51s\n",
      "13:\tlearn: 0.3832357\ttotal: 27.5s\tremaining: 2m 48s\n",
      "14:\tlearn: 0.3793718\ttotal: 29.5s\tremaining: 2m 47s\n",
      "15:\tlearn: 0.3746035\ttotal: 31.3s\tremaining: 2m 44s\n",
      "16:\tlearn: 0.3696564\ttotal: 33.2s\tremaining: 2m 42s\n",
      "17:\tlearn: 0.3651933\ttotal: 35.1s\tremaining: 2m 39s\n",
      "18:\tlearn: 0.3613375\ttotal: 36.9s\tremaining: 2m 37s\n",
      "19:\tlearn: 0.3566807\ttotal: 38.8s\tremaining: 2m 35s\n",
      "20:\tlearn: 0.3533526\ttotal: 40.6s\tremaining: 2m 32s\n",
      "21:\tlearn: 0.3501204\ttotal: 42.4s\tremaining: 2m 30s\n",
      "22:\tlearn: 0.3467855\ttotal: 44.4s\tremaining: 2m 28s\n",
      "23:\tlearn: 0.3441287\ttotal: 46.2s\tremaining: 2m 26s\n",
      "24:\tlearn: 0.3386902\ttotal: 48s\tremaining: 2m 23s\n",
      "25:\tlearn: 0.3362188\ttotal: 49.8s\tremaining: 2m 21s\n",
      "26:\tlearn: 0.3319196\ttotal: 51.6s\tremaining: 2m 19s\n",
      "27:\tlearn: 0.3290787\ttotal: 53.3s\tremaining: 2m 17s\n",
      "28:\tlearn: 0.3263693\ttotal: 55.1s\tremaining: 2m 14s\n",
      "29:\tlearn: 0.3237573\ttotal: 56.9s\tremaining: 2m 12s\n",
      "30:\tlearn: 0.3215659\ttotal: 58.7s\tremaining: 2m 10s\n",
      "31:\tlearn: 0.3192333\ttotal: 1m\tremaining: 2m 8s\n",
      "32:\tlearn: 0.3168968\ttotal: 1m 2s\tremaining: 2m 6s\n",
      "33:\tlearn: 0.3147097\ttotal: 1m 4s\tremaining: 2m 4s\n",
      "34:\tlearn: 0.3120547\ttotal: 1m 5s\tremaining: 2m 2s\n",
      "35:\tlearn: 0.3097005\ttotal: 1m 7s\tremaining: 2m\n",
      "36:\tlearn: 0.3076530\ttotal: 1m 9s\tremaining: 1m 58s\n",
      "37:\tlearn: 0.3057536\ttotal: 1m 11s\tremaining: 1m 56s\n",
      "38:\tlearn: 0.3040904\ttotal: 1m 13s\tremaining: 1m 54s\n",
      "39:\tlearn: 0.3025720\ttotal: 1m 14s\tremaining: 1m 52s\n",
      "40:\tlearn: 0.3007559\ttotal: 1m 16s\tremaining: 1m 50s\n",
      "41:\tlearn: 0.2974266\ttotal: 1m 18s\tremaining: 1m 48s\n",
      "42:\tlearn: 0.2958450\ttotal: 1m 20s\tremaining: 1m 46s\n",
      "43:\tlearn: 0.2937667\ttotal: 1m 21s\tremaining: 1m 44s\n",
      "44:\tlearn: 0.2914766\ttotal: 1m 23s\tremaining: 1m 42s\n",
      "45:\tlearn: 0.2900349\ttotal: 1m 25s\tremaining: 1m 40s\n",
      "46:\tlearn: 0.2886314\ttotal: 1m 27s\tremaining: 1m 38s\n",
      "47:\tlearn: 0.2870300\ttotal: 1m 29s\tremaining: 1m 36s\n",
      "48:\tlearn: 0.2855099\ttotal: 1m 31s\tremaining: 1m 34s\n",
      "49:\tlearn: 0.2841651\ttotal: 1m 32s\tremaining: 1m 32s\n",
      "50:\tlearn: 0.2828457\ttotal: 1m 34s\tremaining: 1m 30s\n",
      "51:\tlearn: 0.2810784\ttotal: 1m 36s\tremaining: 1m 29s\n",
      "52:\tlearn: 0.2797187\ttotal: 1m 38s\tremaining: 1m 27s\n",
      "53:\tlearn: 0.2781783\ttotal: 1m 40s\tremaining: 1m 25s\n",
      "54:\tlearn: 0.2757776\ttotal: 1m 42s\tremaining: 1m 23s\n",
      "55:\tlearn: 0.2743694\ttotal: 1m 43s\tremaining: 1m 21s\n",
      "56:\tlearn: 0.2729397\ttotal: 1m 45s\tremaining: 1m 19s\n",
      "57:\tlearn: 0.2718119\ttotal: 1m 47s\tremaining: 1m 17s\n",
      "58:\tlearn: 0.2709426\ttotal: 1m 49s\tremaining: 1m 15s\n",
      "59:\tlearn: 0.2697111\ttotal: 1m 50s\tremaining: 1m 13s\n",
      "60:\tlearn: 0.2685571\ttotal: 1m 52s\tremaining: 1m 11s\n",
      "61:\tlearn: 0.2676002\ttotal: 1m 54s\tremaining: 1m 10s\n",
      "62:\tlearn: 0.2666137\ttotal: 1m 56s\tremaining: 1m 8s\n",
      "63:\tlearn: 0.2652014\ttotal: 1m 57s\tremaining: 1m 6s\n",
      "64:\tlearn: 0.2641381\ttotal: 1m 59s\tremaining: 1m 4s\n",
      "65:\tlearn: 0.2629681\ttotal: 2m 1s\tremaining: 1m 2s\n",
      "66:\tlearn: 0.2616568\ttotal: 2m 3s\tremaining: 1m\n",
      "67:\tlearn: 0.2595954\ttotal: 2m 4s\tremaining: 58.8s\n",
      "68:\tlearn: 0.2585330\ttotal: 2m 6s\tremaining: 56.9s\n",
      "69:\tlearn: 0.2575018\ttotal: 2m 8s\tremaining: 55.1s\n",
      "70:\tlearn: 0.2561475\ttotal: 2m 10s\tremaining: 53.2s\n",
      "71:\tlearn: 0.2549763\ttotal: 2m 12s\tremaining: 51.4s\n",
      "72:\tlearn: 0.2542369\ttotal: 2m 13s\tremaining: 49.5s\n",
      "73:\tlearn: 0.2535722\ttotal: 2m 15s\tremaining: 47.6s\n",
      "74:\tlearn: 0.2526703\ttotal: 2m 17s\tremaining: 45.8s\n",
      "75:\tlearn: 0.2519722\ttotal: 2m 18s\tremaining: 43.9s\n",
      "76:\tlearn: 0.2508943\ttotal: 2m 20s\tremaining: 42.1s\n",
      "77:\tlearn: 0.2498588\ttotal: 2m 22s\tremaining: 40.2s\n",
      "78:\tlearn: 0.2489610\ttotal: 2m 24s\tremaining: 38.4s\n",
      "79:\tlearn: 0.2479345\ttotal: 2m 26s\tremaining: 36.5s\n",
      "80:\tlearn: 0.2469233\ttotal: 2m 27s\tremaining: 34.7s\n",
      "81:\tlearn: 0.2457235\ttotal: 2m 29s\tremaining: 32.9s\n",
      "82:\tlearn: 0.2440824\ttotal: 2m 31s\tremaining: 31s\n",
      "83:\tlearn: 0.2432488\ttotal: 2m 33s\tremaining: 29.2s\n",
      "84:\tlearn: 0.2426093\ttotal: 2m 34s\tremaining: 27.3s\n",
      "85:\tlearn: 0.2420417\ttotal: 2m 36s\tremaining: 25.5s\n",
      "86:\tlearn: 0.2412504\ttotal: 2m 38s\tremaining: 23.7s\n",
      "87:\tlearn: 0.2406213\ttotal: 2m 40s\tremaining: 21.8s\n",
      "88:\tlearn: 0.2397578\ttotal: 2m 41s\tremaining: 20s\n",
      "89:\tlearn: 0.2391415\ttotal: 2m 43s\tremaining: 18.2s\n",
      "90:\tlearn: 0.2381510\ttotal: 2m 45s\tremaining: 16.4s\n",
      "91:\tlearn: 0.2372104\ttotal: 2m 47s\tremaining: 14.5s\n",
      "92:\tlearn: 0.2366458\ttotal: 2m 48s\tremaining: 12.7s\n",
      "93:\tlearn: 0.2358528\ttotal: 2m 50s\tremaining: 10.9s\n",
      "94:\tlearn: 0.2352222\ttotal: 2m 52s\tremaining: 9.07s\n",
      "95:\tlearn: 0.2340068\ttotal: 2m 54s\tremaining: 7.26s\n",
      "96:\tlearn: 0.2328038\ttotal: 2m 55s\tremaining: 5.44s\n",
      "97:\tlearn: 0.2323158\ttotal: 2m 57s\tremaining: 3.62s\n",
      "98:\tlearn: 0.2317156\ttotal: 2m 59s\tremaining: 1.81s\n",
      "99:\tlearn: 0.2312618\ttotal: 3m\tremaining: 0us\n",
      "Learning rate set to 0.5\n",
      "0:\tlearn: 0.5657327\ttotal: 2.5s\tremaining: 4m 7s\n",
      "1:\tlearn: 0.5201273\ttotal: 4.38s\tremaining: 3m 34s\n",
      "2:\tlearn: 0.4952315\ttotal: 6.28s\tremaining: 3m 22s\n",
      "3:\tlearn: 0.4727969\ttotal: 8.19s\tremaining: 3m 16s\n",
      "4:\tlearn: 0.4565671\ttotal: 10.4s\tremaining: 3m 18s\n",
      "5:\tlearn: 0.4436050\ttotal: 12.5s\tremaining: 3m 15s\n",
      "6:\tlearn: 0.4335411\ttotal: 14.4s\tremaining: 3m 11s\n",
      "7:\tlearn: 0.4226290\ttotal: 16.3s\tremaining: 3m 7s\n",
      "8:\tlearn: 0.4123051\ttotal: 18.2s\tremaining: 3m 4s\n",
      "9:\tlearn: 0.4047604\ttotal: 20.1s\tremaining: 3m\n",
      "10:\tlearn: 0.3972133\ttotal: 22s\tremaining: 2m 57s\n",
      "11:\tlearn: 0.3924491\ttotal: 23.9s\tremaining: 2m 55s\n",
      "12:\tlearn: 0.3874693\ttotal: 25.8s\tremaining: 2m 52s\n",
      "13:\tlearn: 0.3828030\ttotal: 27.7s\tremaining: 2m 50s\n",
      "14:\tlearn: 0.3775606\ttotal: 29.5s\tremaining: 2m 47s\n",
      "15:\tlearn: 0.3733564\ttotal: 31.4s\tremaining: 2m 44s\n",
      "16:\tlearn: 0.3684407\ttotal: 33.2s\tremaining: 2m 41s\n",
      "17:\tlearn: 0.3632468\ttotal: 35s\tremaining: 2m 39s\n",
      "18:\tlearn: 0.3598890\ttotal: 36.8s\tremaining: 2m 36s\n",
      "19:\tlearn: 0.3557234\ttotal: 38.7s\tremaining: 2m 34s\n",
      "20:\tlearn: 0.3514827\ttotal: 40.5s\tremaining: 2m 32s\n",
      "21:\tlearn: 0.3481458\ttotal: 42.3s\tremaining: 2m 30s\n",
      "22:\tlearn: 0.3433564\ttotal: 44.1s\tremaining: 2m 27s\n",
      "23:\tlearn: 0.3401475\ttotal: 45.9s\tremaining: 2m 25s\n",
      "24:\tlearn: 0.3372931\ttotal: 47.8s\tremaining: 2m 23s\n",
      "25:\tlearn: 0.3346086\ttotal: 49.6s\tremaining: 2m 21s\n",
      "26:\tlearn: 0.3323359\ttotal: 51.3s\tremaining: 2m 18s\n",
      "27:\tlearn: 0.3296190\ttotal: 53.1s\tremaining: 2m 16s\n",
      "28:\tlearn: 0.3269598\ttotal: 54.9s\tremaining: 2m 14s\n",
      "29:\tlearn: 0.3236950\ttotal: 56.8s\tremaining: 2m 12s\n",
      "30:\tlearn: 0.3201671\ttotal: 58.6s\tremaining: 2m 10s\n",
      "31:\tlearn: 0.3182784\ttotal: 1m\tremaining: 2m 8s\n",
      "32:\tlearn: 0.3162572\ttotal: 1m 2s\tremaining: 2m 6s\n",
      "33:\tlearn: 0.3139057\ttotal: 1m 3s\tremaining: 2m 4s\n",
      "34:\tlearn: 0.3119743\ttotal: 1m 5s\tremaining: 2m 2s\n",
      "35:\tlearn: 0.3090816\ttotal: 1m 7s\tremaining: 2m\n",
      "36:\tlearn: 0.3070130\ttotal: 1m 9s\tremaining: 1m 58s\n",
      "37:\tlearn: 0.3050924\ttotal: 1m 11s\tremaining: 1m 56s\n",
      "38:\tlearn: 0.3031482\ttotal: 1m 12s\tremaining: 1m 54s\n",
      "39:\tlearn: 0.3013048\ttotal: 1m 14s\tremaining: 1m 52s\n",
      "40:\tlearn: 0.2994313\ttotal: 1m 16s\tremaining: 1m 50s\n",
      "41:\tlearn: 0.2975067\ttotal: 1m 18s\tremaining: 1m 48s\n",
      "42:\tlearn: 0.2957121\ttotal: 1m 20s\tremaining: 1m 46s\n",
      "43:\tlearn: 0.2939660\ttotal: 1m 22s\tremaining: 1m 44s\n",
      "44:\tlearn: 0.2923148\ttotal: 1m 23s\tremaining: 1m 42s\n",
      "45:\tlearn: 0.2907626\ttotal: 1m 25s\tremaining: 1m 40s\n",
      "46:\tlearn: 0.2889693\ttotal: 1m 27s\tremaining: 1m 38s\n",
      "47:\tlearn: 0.2872055\ttotal: 1m 29s\tremaining: 1m 36s\n",
      "48:\tlearn: 0.2861676\ttotal: 1m 31s\tremaining: 1m 34s\n",
      "49:\tlearn: 0.2841373\ttotal: 1m 33s\tremaining: 1m 33s\n",
      "50:\tlearn: 0.2829202\ttotal: 1m 34s\tremaining: 1m 31s\n",
      "51:\tlearn: 0.2815469\ttotal: 1m 36s\tremaining: 1m 29s\n",
      "52:\tlearn: 0.2800043\ttotal: 1m 38s\tremaining: 1m 27s\n",
      "53:\tlearn: 0.2787342\ttotal: 1m 40s\tremaining: 1m 25s\n",
      "54:\tlearn: 0.2776765\ttotal: 1m 42s\tremaining: 1m 23s\n",
      "55:\tlearn: 0.2763301\ttotal: 1m 44s\tremaining: 1m 21s\n",
      "56:\tlearn: 0.2748159\ttotal: 1m 46s\tremaining: 1m 20s\n",
      "57:\tlearn: 0.2728069\ttotal: 1m 48s\tremaining: 1m 18s\n",
      "58:\tlearn: 0.2715683\ttotal: 1m 49s\tremaining: 1m 16s\n",
      "59:\tlearn: 0.2706946\ttotal: 1m 51s\tremaining: 1m 14s\n",
      "60:\tlearn: 0.2695151\ttotal: 1m 53s\tremaining: 1m 12s\n",
      "61:\tlearn: 0.2685029\ttotal: 1m 55s\tremaining: 1m 10s\n",
      "62:\tlearn: 0.2672364\ttotal: 1m 57s\tremaining: 1m 8s\n",
      "63:\tlearn: 0.2660954\ttotal: 1m 58s\tremaining: 1m 6s\n",
      "64:\tlearn: 0.2637332\ttotal: 2m\tremaining: 1m 5s\n",
      "65:\tlearn: 0.2625746\ttotal: 2m 2s\tremaining: 1m 3s\n",
      "66:\tlearn: 0.2613859\ttotal: 2m 4s\tremaining: 1m 1s\n",
      "67:\tlearn: 0.2605068\ttotal: 2m 6s\tremaining: 59.4s\n",
      "68:\tlearn: 0.2594737\ttotal: 2m 7s\tremaining: 57.5s\n",
      "69:\tlearn: 0.2584327\ttotal: 2m 9s\tremaining: 55.6s\n",
      "70:\tlearn: 0.2575969\ttotal: 2m 11s\tremaining: 53.7s\n",
      "71:\tlearn: 0.2562333\ttotal: 2m 13s\tremaining: 51.9s\n",
      "72:\tlearn: 0.2551364\ttotal: 2m 15s\tremaining: 50s\n",
      "73:\tlearn: 0.2540666\ttotal: 2m 16s\tremaining: 48.1s\n",
      "74:\tlearn: 0.2531806\ttotal: 2m 18s\tremaining: 46.2s\n",
      "75:\tlearn: 0.2518853\ttotal: 2m 20s\tremaining: 44.4s\n",
      "76:\tlearn: 0.2508958\ttotal: 2m 22s\tremaining: 42.5s\n",
      "77:\tlearn: 0.2496300\ttotal: 2m 24s\tremaining: 40.7s\n",
      "78:\tlearn: 0.2486956\ttotal: 2m 25s\tremaining: 38.8s\n",
      "79:\tlearn: 0.2477932\ttotal: 2m 27s\tremaining: 36.9s\n",
      "80:\tlearn: 0.2471507\ttotal: 2m 29s\tremaining: 35s\n",
      "81:\tlearn: 0.2462558\ttotal: 2m 31s\tremaining: 33.2s\n",
      "82:\tlearn: 0.2455516\ttotal: 2m 32s\tremaining: 31.3s\n",
      "83:\tlearn: 0.2449260\ttotal: 2m 34s\tremaining: 29.4s\n",
      "84:\tlearn: 0.2436105\ttotal: 2m 36s\tremaining: 27.6s\n",
      "85:\tlearn: 0.2430421\ttotal: 2m 38s\tremaining: 25.7s\n",
      "86:\tlearn: 0.2423427\ttotal: 2m 39s\tremaining: 23.9s\n",
      "87:\tlearn: 0.2412946\ttotal: 2m 41s\tremaining: 22s\n",
      "88:\tlearn: 0.2403702\ttotal: 2m 43s\tremaining: 20.2s\n",
      "89:\tlearn: 0.2397892\ttotal: 2m 45s\tremaining: 18.4s\n",
      "90:\tlearn: 0.2388630\ttotal: 2m 47s\tremaining: 16.5s\n",
      "91:\tlearn: 0.2380815\ttotal: 2m 48s\tremaining: 14.7s\n",
      "92:\tlearn: 0.2373721\ttotal: 2m 50s\tremaining: 12.8s\n",
      "93:\tlearn: 0.2368302\ttotal: 2m 52s\tremaining: 11s\n",
      "94:\tlearn: 0.2363078\ttotal: 2m 53s\tremaining: 9.15s\n",
      "95:\tlearn: 0.2354369\ttotal: 2m 55s\tremaining: 7.32s\n",
      "96:\tlearn: 0.2348153\ttotal: 2m 57s\tremaining: 5.49s\n",
      "97:\tlearn: 0.2341722\ttotal: 2m 59s\tremaining: 3.65s\n",
      "98:\tlearn: 0.2337012\ttotal: 3m\tremaining: 1.82s\n",
      "99:\tlearn: 0.2329575\ttotal: 3m 2s\tremaining: 0us\n",
      "Learning rate set to 0.5\n",
      "0:\tlearn: 0.5683120\ttotal: 3.41s\tremaining: 5m 37s\n",
      "1:\tlearn: 0.5192790\ttotal: 6.15s\tremaining: 5m 1s\n",
      "2:\tlearn: 0.4944177\ttotal: 8.76s\tremaining: 4m 43s\n",
      "3:\tlearn: 0.4733444\ttotal: 11.4s\tremaining: 4m 33s\n",
      "4:\tlearn: 0.4564871\ttotal: 14s\tremaining: 4m 26s\n",
      "5:\tlearn: 0.4404127\ttotal: 16.7s\tremaining: 4m 22s\n",
      "6:\tlearn: 0.4307822\ttotal: 19.4s\tremaining: 4m 17s\n",
      "7:\tlearn: 0.4208583\ttotal: 22.1s\tremaining: 4m 13s\n",
      "8:\tlearn: 0.4095309\ttotal: 24.7s\tremaining: 4m 9s\n",
      "9:\tlearn: 0.4019528\ttotal: 27.4s\tremaining: 4m 6s\n",
      "10:\tlearn: 0.3955767\ttotal: 30s\tremaining: 4m 2s\n",
      "11:\tlearn: 0.3901644\ttotal: 32.7s\tremaining: 3m 59s\n",
      "12:\tlearn: 0.3837996\ttotal: 35.2s\tremaining: 3m 55s\n",
      "13:\tlearn: 0.3792237\ttotal: 37.8s\tremaining: 3m 51s\n",
      "14:\tlearn: 0.3742657\ttotal: 40.3s\tremaining: 3m 48s\n",
      "15:\tlearn: 0.3705032\ttotal: 42.9s\tremaining: 3m 45s\n",
      "16:\tlearn: 0.3662939\ttotal: 45.4s\tremaining: 3m 41s\n",
      "17:\tlearn: 0.3630123\ttotal: 48s\tremaining: 3m 38s\n",
      "18:\tlearn: 0.3597300\ttotal: 50.5s\tremaining: 3m 35s\n",
      "19:\tlearn: 0.3568398\ttotal: 53s\tremaining: 3m 31s\n",
      "20:\tlearn: 0.3520029\ttotal: 55.5s\tremaining: 3m 28s\n",
      "21:\tlearn: 0.3486949\ttotal: 58.1s\tremaining: 3m 26s\n",
      "22:\tlearn: 0.3460487\ttotal: 1m\tremaining: 3m 22s\n",
      "23:\tlearn: 0.3431863\ttotal: 1m 3s\tremaining: 3m 20s\n",
      "24:\tlearn: 0.3400483\ttotal: 1m 5s\tremaining: 3m 17s\n",
      "25:\tlearn: 0.3350920\ttotal: 1m 8s\tremaining: 3m 14s\n",
      "26:\tlearn: 0.3321566\ttotal: 1m 10s\tremaining: 3m 11s\n",
      "27:\tlearn: 0.3291484\ttotal: 1m 13s\tremaining: 3m 8s\n",
      "28:\tlearn: 0.3271757\ttotal: 1m 16s\tremaining: 3m 6s\n",
      "29:\tlearn: 0.3245211\ttotal: 1m 18s\tremaining: 3m 3s\n",
      "30:\tlearn: 0.3219712\ttotal: 1m 21s\tremaining: 3m\n",
      "31:\tlearn: 0.3194909\ttotal: 1m 23s\tremaining: 2m 57s\n",
      "32:\tlearn: 0.3164365\ttotal: 1m 25s\tremaining: 2m 54s\n",
      "33:\tlearn: 0.3144698\ttotal: 1m 28s\tremaining: 2m 51s\n",
      "34:\tlearn: 0.3122186\ttotal: 1m 31s\tremaining: 2m 49s\n",
      "35:\tlearn: 0.3094613\ttotal: 1m 33s\tremaining: 2m 46s\n",
      "36:\tlearn: 0.3077356\ttotal: 1m 36s\tremaining: 2m 43s\n",
      "37:\tlearn: 0.3045244\ttotal: 1m 38s\tremaining: 2m 40s\n",
      "38:\tlearn: 0.3030524\ttotal: 1m 41s\tremaining: 2m 38s\n",
      "39:\tlearn: 0.3006454\ttotal: 1m 43s\tremaining: 2m 35s\n",
      "40:\tlearn: 0.2988710\ttotal: 1m 46s\tremaining: 2m 32s\n",
      "41:\tlearn: 0.2971045\ttotal: 1m 48s\tremaining: 2m 29s\n",
      "42:\tlearn: 0.2956858\ttotal: 1m 50s\tremaining: 2m 26s\n",
      "43:\tlearn: 0.2941197\ttotal: 1m 53s\tremaining: 2m 24s\n",
      "44:\tlearn: 0.2927477\ttotal: 1m 55s\tremaining: 2m 21s\n",
      "45:\tlearn: 0.2910133\ttotal: 1m 58s\tremaining: 2m 19s\n",
      "46:\tlearn: 0.2893138\ttotal: 2m 1s\tremaining: 2m 16s\n",
      "47:\tlearn: 0.2871301\ttotal: 2m 4s\tremaining: 2m 14s\n",
      "48:\tlearn: 0.2855791\ttotal: 2m 6s\tremaining: 2m 12s\n",
      "49:\tlearn: 0.2843028\ttotal: 2m 9s\tremaining: 2m 9s\n",
      "50:\tlearn: 0.2828018\ttotal: 2m 12s\tremaining: 2m 6s\n",
      "51:\tlearn: 0.2813124\ttotal: 2m 14s\tremaining: 2m 4s\n",
      "52:\tlearn: 0.2799984\ttotal: 2m 17s\tremaining: 2m 1s\n",
      "53:\tlearn: 0.2786969\ttotal: 2m 19s\tremaining: 1m 59s\n",
      "54:\tlearn: 0.2773388\ttotal: 2m 22s\tremaining: 1m 56s\n",
      "55:\tlearn: 0.2761669\ttotal: 2m 25s\tremaining: 1m 53s\n",
      "56:\tlearn: 0.2749652\ttotal: 2m 27s\tremaining: 1m 51s\n",
      "57:\tlearn: 0.2739081\ttotal: 2m 30s\tremaining: 1m 48s\n",
      "58:\tlearn: 0.2727479\ttotal: 2m 32s\tremaining: 1m 46s\n",
      "59:\tlearn: 0.2700841\ttotal: 2m 35s\tremaining: 1m 43s\n",
      "60:\tlearn: 0.2691836\ttotal: 2m 37s\tremaining: 1m 40s\n",
      "61:\tlearn: 0.2679585\ttotal: 2m 40s\tremaining: 1m 38s\n",
      "62:\tlearn: 0.2670318\ttotal: 2m 42s\tremaining: 1m 35s\n",
      "63:\tlearn: 0.2662093\ttotal: 2m 44s\tremaining: 1m 32s\n",
      "64:\tlearn: 0.2645809\ttotal: 2m 47s\tremaining: 1m 30s\n",
      "65:\tlearn: 0.2632298\ttotal: 2m 49s\tremaining: 1m 27s\n",
      "66:\tlearn: 0.2621998\ttotal: 2m 52s\tremaining: 1m 24s\n",
      "67:\tlearn: 0.2610885\ttotal: 2m 54s\tremaining: 1m 22s\n",
      "68:\tlearn: 0.2602515\ttotal: 2m 57s\tremaining: 1m 19s\n",
      "69:\tlearn: 0.2594580\ttotal: 2m 59s\tremaining: 1m 16s\n",
      "70:\tlearn: 0.2573974\ttotal: 3m 2s\tremaining: 1m 14s\n",
      "71:\tlearn: 0.2564810\ttotal: 3m 4s\tremaining: 1m 11s\n",
      "72:\tlearn: 0.2557680\ttotal: 3m 7s\tremaining: 1m 9s\n",
      "73:\tlearn: 0.2541000\ttotal: 3m 9s\tremaining: 1m 6s\n",
      "74:\tlearn: 0.2531569\ttotal: 3m 12s\tremaining: 1m 4s\n",
      "75:\tlearn: 0.2524079\ttotal: 3m 14s\tremaining: 1m 1s\n",
      "76:\tlearn: 0.2514351\ttotal: 3m 17s\tremaining: 58.8s\n",
      "77:\tlearn: 0.2504614\ttotal: 3m 19s\tremaining: 56.3s\n",
      "78:\tlearn: 0.2496740\ttotal: 3m 21s\tremaining: 53.7s\n",
      "79:\tlearn: 0.2486471\ttotal: 3m 24s\tremaining: 51.1s\n",
      "80:\tlearn: 0.2477543\ttotal: 3m 26s\tremaining: 48.5s\n",
      "81:\tlearn: 0.2467593\ttotal: 3m 29s\tremaining: 46s\n",
      "82:\tlearn: 0.2461124\ttotal: 3m 31s\tremaining: 43.4s\n",
      "83:\tlearn: 0.2452240\ttotal: 3m 34s\tremaining: 40.8s\n",
      "84:\tlearn: 0.2441413\ttotal: 3m 36s\tremaining: 38.2s\n",
      "85:\tlearn: 0.2434165\ttotal: 3m 38s\tremaining: 35.6s\n",
      "86:\tlearn: 0.2426261\ttotal: 3m 41s\tremaining: 33.1s\n",
      "87:\tlearn: 0.2418787\ttotal: 3m 43s\tremaining: 30.5s\n",
      "88:\tlearn: 0.2412130\ttotal: 3m 46s\tremaining: 28s\n",
      "89:\tlearn: 0.2405779\ttotal: 3m 48s\tremaining: 25.4s\n",
      "90:\tlearn: 0.2398651\ttotal: 3m 50s\tremaining: 22.8s\n",
      "91:\tlearn: 0.2388862\ttotal: 3m 53s\tremaining: 20.3s\n",
      "92:\tlearn: 0.2383755\ttotal: 3m 55s\tremaining: 17.7s\n",
      "93:\tlearn: 0.2375527\ttotal: 3m 58s\tremaining: 15.2s\n",
      "94:\tlearn: 0.2367256\ttotal: 4m\tremaining: 12.7s\n",
      "95:\tlearn: 0.2361441\ttotal: 4m 3s\tremaining: 10.1s\n",
      "96:\tlearn: 0.2355190\ttotal: 4m 5s\tremaining: 7.59s\n",
      "97:\tlearn: 0.2346112\ttotal: 4m 7s\tremaining: 5.06s\n",
      "98:\tlearn: 0.2339085\ttotal: 4m 10s\tremaining: 2.53s\n",
      "99:\tlearn: 0.2330235\ttotal: 4m 12s\tremaining: 0us\n"
     ]
    }
   ],
   "source": [
    "pipe = Pipeline(step_cat)\n",
    "cat_gs = GridSearchCV(\n",
    "    estimator=pipe, scoring='f1', param_grid=pr_cat, cv=3, n_jobs=-1, verbose=True).fit(features_train, target_train)"
   ]
  },
  {
   "cell_type": "code",
   "execution_count": 27,
   "metadata": {},
   "outputs": [
    {
     "name": "stdout",
     "output_type": "stream",
     "text": [
      "0.8571107462900436\n",
      "{}\n"
     ]
    }
   ],
   "source": [
    "print(cat_gs.best_score_)\n",
    "print(cat_gs.best_params_)"
   ]
  },
  {
   "cell_type": "code",
   "execution_count": 28,
   "metadata": {},
   "outputs": [
    {
     "data": {
      "text/html": [
       "<div>\n",
       "<style scoped>\n",
       "    .dataframe tbody tr th:only-of-type {\n",
       "        vertical-align: middle;\n",
       "    }\n",
       "\n",
       "    .dataframe tbody tr th {\n",
       "        vertical-align: top;\n",
       "    }\n",
       "\n",
       "    .dataframe thead th {\n",
       "        text-align: right;\n",
       "    }\n",
       "</style>\n",
       "<table border=\"1\" class=\"dataframe\">\n",
       "  <thead>\n",
       "    <tr style=\"text-align: right;\">\n",
       "      <th></th>\n",
       "      <th>f1_score</th>\n",
       "    </tr>\n",
       "  </thead>\n",
       "  <tbody>\n",
       "    <tr>\n",
       "      <th>logres</th>\n",
       "      <td>0.893713</td>\n",
       "    </tr>\n",
       "    <tr>\n",
       "      <th>catboost</th>\n",
       "      <td>0.857111</td>\n",
       "    </tr>\n",
       "    <tr>\n",
       "      <th>tree</th>\n",
       "      <td>0.616476</td>\n",
       "    </tr>\n",
       "    <tr>\n",
       "      <th>forest</th>\n",
       "      <td>0.000561</td>\n",
       "    </tr>\n",
       "  </tbody>\n",
       "</table>\n",
       "</div>"
      ],
      "text/plain": [
       "          f1_score\n",
       "logres    0.893713\n",
       "catboost  0.857111\n",
       "tree      0.616476\n",
       "forest    0.000561"
      ]
     },
     "metadata": {},
     "output_type": "display_data"
    }
   ],
   "source": [
    "list_data = [tree_gs.best_score_, forest_gs.best_score_, log_gs.best_score_, cat_gs.best_score_]\n",
    "data = pd.DataFrame(data=list_data, index=['tree', 'forest', 'logres', 'catboost'], columns=['f1_score'])\n",
    "display(data.sort_values('f1_score', ascending=False))"
   ]
  },
  {
   "cell_type": "markdown",
   "metadata": {},
   "source": [
    "Наилучшим образом показала себя модель логистической регрессии. Выберем её для теста."
   ]
  },
  {
   "cell_type": "markdown",
   "metadata": {},
   "source": [
    "### Тест"
   ]
  },
  {
   "cell_type": "markdown",
   "metadata": {},
   "source": [
    "Проверим, как поведет себя модель на тестовой выборке."
   ]
  },
  {
   "cell_type": "code",
   "execution_count": 33,
   "metadata": {},
   "outputs": [],
   "source": [
    "tf_idf = TfidfVectorizer(stop_words=stopwords, lowercase=False)\n",
    "\n",
    "features_train = tf_idf.fit_transform(features_train)\n",
    "features_test = tf_idf.transform(features_test)"
   ]
  },
  {
   "cell_type": "code",
   "execution_count": 34,
   "metadata": {},
   "outputs": [
    {
     "name": "stdout",
     "output_type": "stream",
     "text": [
      "0.7820321564727334\n"
     ]
    }
   ],
   "source": [
    "model = LogisticRegression(random_state=123, solver='liblinear')\n",
    "model.fit(features_train, target_train)\n",
    "print(f1_score(model.predict(features_test), target_test))"
   ]
  },
  {
   "cell_type": "markdown",
   "metadata": {},
   "source": [
    "## Выводы"
   ]
  },
  {
   "cell_type": "markdown",
   "metadata": {},
   "source": [
    "В ходе работы, была проведена предобработка текстовых данных, был выровнен баланс классов и обычены различные модели классификации. Наилучшим образом показала себ модель логистической регрессии. При проверке на тестовой выборке, необходимый порог был пройдет, задача выполнена."
   ]
  }
 ],
 "metadata": {
  "ExecuteTimeLog": [
   {
    "duration": 1092,
    "start_time": "2022-06-03T16:54:07.347Z"
   },
   {
    "duration": 3373,
    "start_time": "2022-06-03T16:54:35.144Z"
   },
   {
    "duration": 30,
    "start_time": "2022-06-03T16:54:45.740Z"
   },
   {
    "duration": 17,
    "start_time": "2022-06-03T16:54:53.677Z"
   },
   {
    "duration": 1925,
    "start_time": "2022-06-03T16:55:26.195Z"
   },
   {
    "duration": 3,
    "start_time": "2022-06-03T17:00:23.528Z"
   },
   {
    "duration": 1580,
    "start_time": "2022-06-03T17:01:33.182Z"
   },
   {
    "duration": 9,
    "start_time": "2022-06-03T17:02:15.447Z"
   },
   {
    "duration": 11,
    "start_time": "2022-06-03T17:02:20.206Z"
   },
   {
    "duration": 28,
    "start_time": "2022-06-03T17:03:50.210Z"
   },
   {
    "duration": 9,
    "start_time": "2022-06-03T17:04:09.005Z"
   },
   {
    "duration": 1150,
    "start_time": "2022-06-03T17:04:35.451Z"
   },
   {
    "duration": 3172,
    "start_time": "2022-06-03T17:04:36.603Z"
   },
   {
    "duration": 29,
    "start_time": "2022-06-03T17:04:39.777Z"
   },
   {
    "duration": 13,
    "start_time": "2022-06-03T17:04:39.808Z"
   },
   {
    "duration": 1223,
    "start_time": "2022-06-03T17:05:05.309Z"
   },
   {
    "duration": 3230,
    "start_time": "2022-06-03T17:05:09.100Z"
   },
   {
    "duration": 42,
    "start_time": "2022-06-03T17:05:12.333Z"
   },
   {
    "duration": 18,
    "start_time": "2022-06-03T17:05:12.377Z"
   },
   {
    "duration": 1103,
    "start_time": "2022-06-03T17:05:30.793Z"
   },
   {
    "duration": 3219,
    "start_time": "2022-06-03T17:05:31.899Z"
   },
   {
    "duration": 33,
    "start_time": "2022-06-03T17:05:35.119Z"
   },
   {
    "duration": 13,
    "start_time": "2022-06-03T17:05:35.154Z"
   },
   {
    "duration": 36,
    "start_time": "2022-06-03T17:05:35.171Z"
   },
   {
    "duration": 143,
    "start_time": "2022-06-03T17:05:35.209Z"
   },
   {
    "duration": 3119,
    "start_time": "2022-06-03T17:06:02.134Z"
   },
   {
    "duration": 6,
    "start_time": "2022-06-03T17:06:13.438Z"
   },
   {
    "duration": 1722,
    "start_time": "2022-06-03T17:06:36.433Z"
   },
   {
    "duration": 5,
    "start_time": "2022-06-03T17:06:39.145Z"
   },
   {
    "duration": 4,
    "start_time": "2022-06-03T17:07:39.803Z"
   },
   {
    "duration": 1559,
    "start_time": "2022-06-03T17:07:43.178Z"
   },
   {
    "duration": 5,
    "start_time": "2022-06-03T17:07:52.171Z"
   },
   {
    "duration": 32,
    "start_time": "2022-06-03T17:08:07.663Z"
   },
   {
    "duration": 4,
    "start_time": "2022-06-03T17:08:39.873Z"
   },
   {
    "duration": 292,
    "start_time": "2022-06-03T17:08:51.650Z"
   },
   {
    "duration": 772,
    "start_time": "2022-06-03T17:09:09.528Z"
   },
   {
    "duration": 28,
    "start_time": "2022-06-03T17:09:10.859Z"
   },
   {
    "duration": 8,
    "start_time": "2022-06-03T17:09:11.423Z"
   },
   {
    "duration": 21,
    "start_time": "2022-06-03T17:09:11.816Z"
   },
   {
    "duration": 151,
    "start_time": "2022-06-03T17:09:15.064Z"
   },
   {
    "duration": 1548,
    "start_time": "2022-06-03T17:09:19.246Z"
   },
   {
    "duration": 6,
    "start_time": "2022-06-03T17:09:22.912Z"
   },
   {
    "duration": 1087,
    "start_time": "2022-06-03T17:10:02.282Z"
   },
   {
    "duration": 256,
    "start_time": "2022-06-03T17:10:03.371Z"
   },
   {
    "duration": 872,
    "start_time": "2022-06-03T17:10:03.628Z"
   },
   {
    "duration": 34,
    "start_time": "2022-06-03T17:10:04.502Z"
   },
   {
    "duration": 8,
    "start_time": "2022-06-03T17:10:04.538Z"
   },
   {
    "duration": 141,
    "start_time": "2022-06-03T17:10:04.547Z"
   },
   {
    "duration": 0,
    "start_time": "2022-06-03T17:10:04.690Z"
   },
   {
    "duration": 0,
    "start_time": "2022-06-03T17:10:04.691Z"
   },
   {
    "duration": 10,
    "start_time": "2022-06-03T17:10:10.745Z"
   },
   {
    "duration": 1115,
    "start_time": "2022-06-03T17:10:49.554Z"
   },
   {
    "duration": 315,
    "start_time": "2022-06-03T17:10:50.671Z"
   },
   {
    "duration": 3201,
    "start_time": "2022-06-03T17:10:50.987Z"
   },
   {
    "duration": 29,
    "start_time": "2022-06-03T17:10:54.190Z"
   },
   {
    "duration": 59,
    "start_time": "2022-06-03T17:13:49.150Z"
   },
   {
    "duration": 1146,
    "start_time": "2022-06-03T17:13:54.888Z"
   },
   {
    "duration": 280,
    "start_time": "2022-06-03T17:13:56.037Z"
   },
   {
    "duration": 3113,
    "start_time": "2022-06-03T17:13:56.318Z"
   },
   {
    "duration": 28,
    "start_time": "2022-06-03T17:13:59.432Z"
   },
   {
    "duration": 8,
    "start_time": "2022-06-03T17:13:59.462Z"
   },
   {
    "duration": 1950,
    "start_time": "2022-06-03T17:13:59.471Z"
   },
   {
    "duration": 8,
    "start_time": "2022-06-03T17:14:01.423Z"
   },
   {
    "duration": 150,
    "start_time": "2022-06-03T17:14:01.433Z"
   },
   {
    "duration": 0,
    "start_time": "2022-06-03T17:14:01.585Z"
   },
   {
    "duration": 1134,
    "start_time": "2022-06-03T17:14:33.112Z"
   },
   {
    "duration": 310,
    "start_time": "2022-06-03T17:14:34.248Z"
   },
   {
    "duration": 3346,
    "start_time": "2022-06-03T17:14:34.559Z"
   },
   {
    "duration": 39,
    "start_time": "2022-06-03T17:14:37.907Z"
   },
   {
    "duration": 14,
    "start_time": "2022-06-03T17:14:37.949Z"
   },
   {
    "duration": 1929,
    "start_time": "2022-06-03T17:14:37.965Z"
   },
   {
    "duration": 10,
    "start_time": "2022-06-03T17:14:39.896Z"
   },
   {
    "duration": 159,
    "start_time": "2022-06-03T17:14:39.908Z"
   },
   {
    "duration": 0,
    "start_time": "2022-06-03T17:14:40.068Z"
   },
   {
    "duration": 1411,
    "start_time": "2022-06-03T17:15:15.743Z"
   },
   {
    "duration": 35,
    "start_time": "2022-06-03T17:26:03.255Z"
   },
   {
    "duration": 4,
    "start_time": "2022-06-03T17:27:17.144Z"
   },
   {
    "duration": 959,
    "start_time": "2022-06-03T17:27:41.213Z"
   },
   {
    "duration": 20,
    "start_time": "2022-06-03T17:27:58.244Z"
   },
   {
    "duration": 24363,
    "start_time": "2022-06-03T17:27:59.755Z"
   },
   {
    "duration": 5,
    "start_time": "2022-06-03T17:28:33.471Z"
   },
   {
    "duration": 1082,
    "start_time": "2022-06-03T17:28:40.602Z"
   },
   {
    "duration": 261,
    "start_time": "2022-06-03T17:28:41.686Z"
   },
   {
    "duration": 843,
    "start_time": "2022-06-03T17:28:41.949Z"
   },
   {
    "duration": 38,
    "start_time": "2022-06-03T17:28:42.794Z"
   },
   {
    "duration": 10,
    "start_time": "2022-06-03T17:28:42.840Z"
   },
   {
    "duration": 5,
    "start_time": "2022-06-03T17:28:42.851Z"
   },
   {
    "duration": 114621,
    "start_time": "2022-06-03T17:28:42.858Z"
   },
   {
    "duration": 26,
    "start_time": "2022-06-03T17:31:19.826Z"
   },
   {
    "duration": 14182,
    "start_time": "2022-06-03T17:31:27.565Z"
   },
   {
    "duration": 33,
    "start_time": "2022-06-03T17:32:02.148Z"
   },
   {
    "duration": 1179,
    "start_time": "2022-06-03T17:32:10.703Z"
   },
   {
    "duration": 256,
    "start_time": "2022-06-03T17:32:11.885Z"
   },
   {
    "duration": 942,
    "start_time": "2022-06-03T17:32:12.143Z"
   },
   {
    "duration": 43,
    "start_time": "2022-06-03T17:32:13.087Z"
   },
   {
    "duration": 9,
    "start_time": "2022-06-03T17:32:13.132Z"
   },
   {
    "duration": 3,
    "start_time": "2022-06-03T17:32:13.143Z"
   },
   {
    "duration": 117380,
    "start_time": "2022-06-03T17:32:13.148Z"
   },
   {
    "duration": 29,
    "start_time": "2022-06-03T17:34:59.076Z"
   },
   {
    "duration": 4,
    "start_time": "2022-06-03T17:35:17.154Z"
   },
   {
    "duration": 1222,
    "start_time": "2022-06-03T17:35:23.312Z"
   },
   {
    "duration": 278,
    "start_time": "2022-06-03T17:35:24.537Z"
   },
   {
    "duration": 904,
    "start_time": "2022-06-03T17:35:24.817Z"
   },
   {
    "duration": 40,
    "start_time": "2022-06-03T17:35:25.723Z"
   },
   {
    "duration": 12,
    "start_time": "2022-06-03T17:35:25.765Z"
   },
   {
    "duration": 6,
    "start_time": "2022-06-03T17:35:25.780Z"
   },
   {
    "duration": 11,
    "start_time": "2022-06-03T17:35:25.788Z"
   },
   {
    "duration": 904,
    "start_time": "2022-06-03T17:35:25.802Z"
   },
   {
    "duration": 138,
    "start_time": "2022-06-03T17:38:15.552Z"
   },
   {
    "duration": 7,
    "start_time": "2022-06-03T17:38:20.692Z"
   },
   {
    "duration": 4,
    "start_time": "2022-06-03T17:38:51.247Z"
   },
   {
    "duration": 14,
    "start_time": "2022-06-03T17:39:35.408Z"
   },
   {
    "duration": 11,
    "start_time": "2022-06-03T17:40:01.191Z"
   },
   {
    "duration": 17,
    "start_time": "2022-06-03T17:40:11.844Z"
   },
   {
    "duration": 3,
    "start_time": "2022-06-03T17:40:33.569Z"
   },
   {
    "duration": 5,
    "start_time": "2022-06-03T17:40:36.904Z"
   },
   {
    "duration": 6,
    "start_time": "2022-06-03T17:41:22.546Z"
   },
   {
    "duration": 1093,
    "start_time": "2022-06-03T17:41:58.283Z"
   },
   {
    "duration": 248,
    "start_time": "2022-06-03T17:41:59.378Z"
   },
   {
    "duration": 906,
    "start_time": "2022-06-03T17:41:59.628Z"
   },
   {
    "duration": 32,
    "start_time": "2022-06-03T17:42:00.536Z"
   },
   {
    "duration": 9,
    "start_time": "2022-06-03T17:42:00.571Z"
   },
   {
    "duration": 10,
    "start_time": "2022-06-03T17:42:00.582Z"
   },
   {
    "duration": 8,
    "start_time": "2022-06-03T17:42:00.594Z"
   },
   {
    "duration": 843,
    "start_time": "2022-06-03T17:42:00.604Z"
   },
   {
    "duration": 6,
    "start_time": "2022-06-03T17:42:01.449Z"
   },
   {
    "duration": 17,
    "start_time": "2022-06-03T17:42:01.456Z"
   },
   {
    "duration": 19,
    "start_time": "2022-06-03T17:42:01.475Z"
   },
   {
    "duration": 16,
    "start_time": "2022-06-03T17:42:01.495Z"
   },
   {
    "duration": 20,
    "start_time": "2022-06-03T17:42:01.512Z"
   },
   {
    "duration": 4,
    "start_time": "2022-06-03T17:42:20.952Z"
   },
   {
    "duration": 1207,
    "start_time": "2022-06-03T17:43:04.146Z"
   },
   {
    "duration": 253,
    "start_time": "2022-06-03T17:43:05.355Z"
   },
   {
    "duration": 907,
    "start_time": "2022-06-03T17:43:05.610Z"
   },
   {
    "duration": 36,
    "start_time": "2022-06-03T17:43:06.519Z"
   },
   {
    "duration": 9,
    "start_time": "2022-06-03T17:43:06.557Z"
   },
   {
    "duration": 6,
    "start_time": "2022-06-03T17:43:06.568Z"
   },
   {
    "duration": 39,
    "start_time": "2022-06-03T17:43:06.575Z"
   },
   {
    "duration": 781,
    "start_time": "2022-06-03T17:43:06.615Z"
   },
   {
    "duration": 6,
    "start_time": "2022-06-03T17:43:07.398Z"
   },
   {
    "duration": 6,
    "start_time": "2022-06-03T17:43:07.405Z"
   },
   {
    "duration": 26,
    "start_time": "2022-06-03T17:43:07.413Z"
   },
   {
    "duration": 12,
    "start_time": "2022-06-03T17:43:07.441Z"
   },
   {
    "duration": 9,
    "start_time": "2022-06-03T17:43:07.454Z"
   },
   {
    "duration": 1141,
    "start_time": "2022-06-03T17:44:07.248Z"
   },
   {
    "duration": 252,
    "start_time": "2022-06-03T17:44:08.392Z"
   },
   {
    "duration": 914,
    "start_time": "2022-06-03T17:44:08.646Z"
   },
   {
    "duration": 34,
    "start_time": "2022-06-03T17:44:09.563Z"
   },
   {
    "duration": 11,
    "start_time": "2022-06-03T17:44:09.599Z"
   },
   {
    "duration": 24,
    "start_time": "2022-06-03T17:44:09.611Z"
   },
   {
    "duration": 12,
    "start_time": "2022-06-03T17:44:09.637Z"
   },
   {
    "duration": 846,
    "start_time": "2022-06-03T17:44:09.651Z"
   },
   {
    "duration": 7,
    "start_time": "2022-06-03T17:44:10.499Z"
   },
   {
    "duration": 10,
    "start_time": "2022-06-03T17:44:10.509Z"
   },
   {
    "duration": 13,
    "start_time": "2022-06-03T17:44:10.531Z"
   },
   {
    "duration": 9,
    "start_time": "2022-06-03T17:44:10.546Z"
   },
   {
    "duration": 7,
    "start_time": "2022-06-03T17:44:10.556Z"
   },
   {
    "duration": 6,
    "start_time": "2022-06-03T17:45:44.333Z"
   },
   {
    "duration": 6,
    "start_time": "2022-06-03T17:46:17.539Z"
   },
   {
    "duration": 157,
    "start_time": "2022-06-03T17:47:03.770Z"
   },
   {
    "duration": 1277,
    "start_time": "2022-06-03T17:48:08.439Z"
   },
   {
    "duration": 188,
    "start_time": "2022-06-03T17:48:09.719Z"
   },
   {
    "duration": 1008,
    "start_time": "2022-06-03T17:48:09.909Z"
   },
   {
    "duration": 40,
    "start_time": "2022-06-03T17:48:10.918Z"
   },
   {
    "duration": 27,
    "start_time": "2022-06-03T17:48:10.961Z"
   },
   {
    "duration": 11,
    "start_time": "2022-06-03T17:48:10.991Z"
   },
   {
    "duration": 115445,
    "start_time": "2022-06-03T17:48:11.004Z"
   },
   {
    "duration": 34,
    "start_time": "2022-06-03T17:50:06.451Z"
   },
   {
    "duration": 3,
    "start_time": "2022-06-03T17:50:06.487Z"
   },
   {
    "duration": 7,
    "start_time": "2022-06-03T17:50:06.492Z"
   },
   {
    "duration": 41,
    "start_time": "2022-06-03T17:50:06.500Z"
   },
   {
    "duration": 6,
    "start_time": "2022-06-03T17:50:06.543Z"
   },
   {
    "duration": 149,
    "start_time": "2022-06-03T17:50:06.551Z"
   },
   {
    "duration": 1327,
    "start_time": "2022-06-03T17:53:22.512Z"
   },
   {
    "duration": 193,
    "start_time": "2022-06-03T17:53:23.845Z"
   },
   {
    "duration": 1019,
    "start_time": "2022-06-03T17:53:24.043Z"
   },
   {
    "duration": 34,
    "start_time": "2022-06-03T17:53:25.064Z"
   },
   {
    "duration": 37,
    "start_time": "2022-06-03T17:53:25.101Z"
   },
   {
    "duration": 21,
    "start_time": "2022-06-03T17:53:25.140Z"
   },
   {
    "duration": 115101,
    "start_time": "2022-06-03T17:53:25.164Z"
   },
   {
    "duration": 35,
    "start_time": "2022-06-03T17:55:20.266Z"
   },
   {
    "duration": 4,
    "start_time": "2022-06-03T17:55:20.303Z"
   },
   {
    "duration": 32,
    "start_time": "2022-06-03T17:55:20.308Z"
   },
   {
    "duration": 1925,
    "start_time": "2022-06-03T17:55:20.345Z"
   },
   {
    "duration": 0,
    "start_time": "2022-06-03T17:55:22.272Z"
   },
   {
    "duration": 0,
    "start_time": "2022-06-03T17:55:22.273Z"
   },
   {
    "duration": 1111,
    "start_time": "2022-06-03T17:56:36.467Z"
   },
   {
    "duration": 327,
    "start_time": "2022-06-03T17:56:37.580Z"
   },
   {
    "duration": 3253,
    "start_time": "2022-06-03T17:56:37.908Z"
   },
   {
    "duration": 33,
    "start_time": "2022-06-03T17:56:41.163Z"
   },
   {
    "duration": 9,
    "start_time": "2022-06-03T17:56:41.199Z"
   },
   {
    "duration": 7,
    "start_time": "2022-06-03T17:56:41.210Z"
   },
   {
    "duration": 4,
    "start_time": "2022-06-03T17:56:41.227Z"
   },
   {
    "duration": 35530,
    "start_time": "2022-06-03T17:56:41.233Z"
   },
   {
    "duration": 13,
    "start_time": "2022-06-03T17:57:16.766Z"
   },
   {
    "duration": 4,
    "start_time": "2022-06-03T17:57:16.781Z"
   },
   {
    "duration": 8,
    "start_time": "2022-06-03T17:57:16.788Z"
   },
   {
    "duration": 3865,
    "start_time": "2022-06-03T17:57:16.797Z"
   },
   {
    "duration": 6,
    "start_time": "2022-06-03T17:57:20.665Z"
   },
   {
    "duration": 32465,
    "start_time": "2022-06-03T17:57:20.675Z"
   },
   {
    "duration": 5,
    "start_time": "2022-06-03T17:58:16.129Z"
   },
   {
    "duration": 1166,
    "start_time": "2022-06-03T18:00:43.175Z"
   },
   {
    "duration": 1068,
    "start_time": "2022-06-03T18:00:44.344Z"
   },
   {
    "duration": 37,
    "start_time": "2022-06-03T18:00:45.414Z"
   },
   {
    "duration": 19,
    "start_time": "2022-06-03T18:00:45.452Z"
   },
   {
    "duration": 4,
    "start_time": "2022-06-03T18:00:45.474Z"
   },
   {
    "duration": 11,
    "start_time": "2022-06-03T18:00:45.480Z"
   },
   {
    "duration": 67931,
    "start_time": "2022-06-03T18:00:45.493Z"
   },
   {
    "duration": 30,
    "start_time": "2022-06-03T18:01:53.430Z"
   },
   {
    "duration": 3,
    "start_time": "2022-06-03T18:01:53.462Z"
   },
   {
    "duration": 189,
    "start_time": "2022-06-03T18:01:53.467Z"
   },
   {
    "duration": 7542,
    "start_time": "2022-06-03T18:01:53.658Z"
   },
   {
    "duration": 3,
    "start_time": "2022-06-03T18:02:01.202Z"
   },
   {
    "duration": 89609,
    "start_time": "2022-06-03T18:02:01.207Z"
   },
   {
    "duration": 4,
    "start_time": "2022-06-03T18:03:30.819Z"
   },
   {
    "duration": 1344,
    "start_time": "2022-06-03T18:04:10.549Z"
   },
   {
    "duration": 1168,
    "start_time": "2022-06-03T18:04:11.896Z"
   },
   {
    "duration": 44,
    "start_time": "2022-06-03T18:04:13.066Z"
   },
   {
    "duration": 33,
    "start_time": "2022-06-03T18:04:13.112Z"
   },
   {
    "duration": 10,
    "start_time": "2022-06-03T18:04:13.149Z"
   },
   {
    "duration": 24,
    "start_time": "2022-06-03T18:04:13.161Z"
   },
   {
    "duration": 103787,
    "start_time": "2022-06-03T18:04:13.187Z"
   },
   {
    "duration": 31,
    "start_time": "2022-06-03T18:05:56.976Z"
   },
   {
    "duration": 4,
    "start_time": "2022-06-03T18:05:57.008Z"
   },
   {
    "duration": 240,
    "start_time": "2022-06-03T18:05:57.014Z"
   },
   {
    "duration": 11222,
    "start_time": "2022-06-03T18:05:57.255Z"
   },
   {
    "duration": 3,
    "start_time": "2022-06-03T18:06:08.479Z"
   },
   {
    "duration": 158636,
    "start_time": "2022-06-03T18:06:08.484Z"
   },
   {
    "duration": 7,
    "start_time": "2022-06-03T18:08:47.123Z"
   },
   {
    "duration": 1111,
    "start_time": "2022-06-03T18:11:21.594Z"
   },
   {
    "duration": 939,
    "start_time": "2022-06-03T18:11:22.707Z"
   },
   {
    "duration": 40,
    "start_time": "2022-06-03T18:11:23.649Z"
   },
   {
    "duration": 38,
    "start_time": "2022-06-03T18:11:23.692Z"
   },
   {
    "duration": 5,
    "start_time": "2022-06-03T18:11:23.733Z"
   },
   {
    "duration": 116220,
    "start_time": "2022-06-03T18:11:23.740Z"
   },
   {
    "duration": 38,
    "start_time": "2022-06-03T18:13:19.963Z"
   },
   {
    "duration": 3,
    "start_time": "2022-06-03T18:13:20.003Z"
   },
   {
    "duration": 188,
    "start_time": "2022-06-03T18:13:20.007Z"
   },
   {
    "duration": 12649,
    "start_time": "2022-06-03T18:13:20.197Z"
   },
   {
    "duration": 5,
    "start_time": "2022-06-03T18:13:32.849Z"
   },
   {
    "duration": 182499,
    "start_time": "2022-06-03T18:13:32.856Z"
   },
   {
    "duration": 5,
    "start_time": "2022-06-03T18:16:35.357Z"
   },
   {
    "duration": 5,
    "start_time": "2022-06-03T18:19:19.291Z"
   },
   {
    "duration": 1353260,
    "start_time": "2022-06-03T18:20:40.807Z"
   },
   {
    "duration": 4,
    "start_time": "2022-06-03T18:43:58.309Z"
   },
   {
    "duration": 119,
    "start_time": "2022-06-03T18:47:08.908Z"
   },
   {
    "duration": 271895,
    "start_time": "2022-06-03T18:47:16.416Z"
   },
   {
    "duration": 4,
    "start_time": "2022-06-03T18:53:19.709Z"
   },
   {
    "duration": 37,
    "start_time": "2022-06-03T18:54:23.361Z"
   },
   {
    "duration": 4,
    "start_time": "2022-06-03T18:54:33.285Z"
   },
   {
    "duration": 2914,
    "start_time": "2022-06-03T18:59:04.722Z"
   },
   {
    "duration": 776225,
    "start_time": "2022-06-03T18:59:17.935Z"
   },
   {
    "duration": 15,
    "start_time": "2022-06-03T19:12:41.428Z"
   },
   {
    "duration": 17,
    "start_time": "2022-06-03T19:12:52.126Z"
   },
   {
    "duration": 985708,
    "start_time": "2022-06-03T19:13:01.678Z"
   },
   {
    "duration": 4,
    "start_time": "2022-06-03T19:30:06.301Z"
   },
   {
    "duration": 1125,
    "start_time": "2022-06-04T09:10:14.476Z"
   },
   {
    "duration": 2378,
    "start_time": "2022-06-04T09:10:15.603Z"
   },
   {
    "duration": 38,
    "start_time": "2022-06-04T09:10:17.984Z"
   },
   {
    "duration": 16,
    "start_time": "2022-06-04T09:10:18.024Z"
   },
   {
    "duration": 119,
    "start_time": "2022-06-04T09:10:25.534Z"
   },
   {
    "duration": 4,
    "start_time": "2022-06-04T09:10:28.429Z"
   },
   {
    "duration": 90567,
    "start_time": "2022-06-04T09:10:28.803Z"
   },
   {
    "duration": 49345,
    "start_time": "2022-06-04T09:15:35.578Z"
   },
   {
    "duration": 26,
    "start_time": "2022-06-04T09:16:28.076Z"
   },
   {
    "duration": 15,
    "start_time": "2022-06-04T09:16:47.975Z"
   },
   {
    "duration": 4,
    "start_time": "2022-06-04T09:16:53.230Z"
   },
   {
    "duration": 17,
    "start_time": "2022-06-04T09:16:55.946Z"
   },
   {
    "duration": 1091,
    "start_time": "2022-06-04T09:17:00.050Z"
   },
   {
    "duration": 242,
    "start_time": "2022-06-04T09:18:16.550Z"
   },
   {
    "duration": 226,
    "start_time": "2022-06-04T09:18:39.530Z"
   },
   {
    "duration": 894,
    "start_time": "2022-06-04T09:18:58.344Z"
   },
   {
    "duration": 1266,
    "start_time": "2022-06-04T09:19:15.222Z"
   },
   {
    "duration": 271,
    "start_time": "2022-06-04T09:19:54.437Z"
   },
   {
    "duration": 290,
    "start_time": "2022-06-04T09:20:48.410Z"
   },
   {
    "duration": 35,
    "start_time": "2022-06-04T09:21:12.038Z"
   },
   {
    "duration": 3,
    "start_time": "2022-06-04T09:21:12.976Z"
   },
   {
    "duration": 2,
    "start_time": "2022-06-04T09:21:20.172Z"
   },
   {
    "duration": 1634,
    "start_time": "2022-06-04T09:21:22.505Z"
   },
   {
    "duration": 2,
    "start_time": "2022-06-04T09:21:41.962Z"
   },
   {
    "duration": 1443,
    "start_time": "2022-06-04T09:21:53.255Z"
   },
   {
    "duration": 2283,
    "start_time": "2022-06-04T09:21:54.700Z"
   },
   {
    "duration": 31,
    "start_time": "2022-06-04T09:21:56.985Z"
   },
   {
    "duration": 10,
    "start_time": "2022-06-04T09:21:57.017Z"
   },
   {
    "duration": 14,
    "start_time": "2022-06-04T09:21:57.029Z"
   },
   {
    "duration": 86979,
    "start_time": "2022-06-04T09:21:57.044Z"
   },
   {
    "duration": 336,
    "start_time": "2022-06-04T09:23:24.024Z"
   },
   {
    "duration": 31,
    "start_time": "2022-06-04T09:23:24.362Z"
   },
   {
    "duration": 4,
    "start_time": "2022-06-04T09:23:24.395Z"
   },
   {
    "duration": 23,
    "start_time": "2022-06-04T09:23:24.400Z"
   },
   {
    "duration": 11073,
    "start_time": "2022-06-04T09:23:24.425Z"
   },
   {
    "duration": 3,
    "start_time": "2022-06-04T09:23:35.500Z"
   },
   {
    "duration": 179106,
    "start_time": "2022-06-04T09:23:35.505Z"
   },
   {
    "duration": 4,
    "start_time": "2022-06-04T09:26:34.613Z"
   },
   {
    "duration": 3,
    "start_time": "2022-06-04T09:33:54.763Z"
   },
   {
    "duration": 169355,
    "start_time": "2022-06-04T09:33:54.768Z"
   },
   {
    "duration": 4,
    "start_time": "2022-06-04T09:36:44.125Z"
   },
   {
    "duration": 626869,
    "start_time": "2022-06-04T09:36:44.131Z"
   },
   {
    "duration": 3,
    "start_time": "2022-06-04T09:47:11.002Z"
   },
   {
    "duration": 253164,
    "start_time": "2022-06-04T09:47:11.007Z"
   },
   {
    "duration": 5,
    "start_time": "2022-06-04T09:51:34.418Z"
   },
   {
    "duration": 7,
    "start_time": "2022-06-04T09:51:39.217Z"
   },
   {
    "duration": 7,
    "start_time": "2022-06-04T09:51:53.238Z"
   },
   {
    "duration": 116311,
    "start_time": "2022-06-04T09:52:36.382Z"
   },
   {
    "duration": 8,
    "start_time": "2022-06-04T09:54:58.594Z"
   },
   {
    "duration": 124613,
    "start_time": "2022-06-04T09:55:58.358Z"
   },
   {
    "duration": 5,
    "start_time": "2022-06-04T09:58:26.745Z"
   },
   {
    "duration": 10704,
    "start_time": "2022-06-04T10:02:01.745Z"
   },
   {
    "duration": 10958,
    "start_time": "2022-06-04T10:04:09.902Z"
   },
   {
    "duration": 10906,
    "start_time": "2022-06-04T10:04:36.650Z"
   },
   {
    "duration": 8,
    "start_time": "2022-06-04T10:07:36.689Z"
   },
   {
    "duration": 30205,
    "start_time": "2022-06-04T10:09:07.997Z"
   },
   {
    "duration": 1505,
    "start_time": "2022-06-04T10:19:13.316Z"
   },
   {
    "duration": 781,
    "start_time": "2022-06-04T10:19:14.823Z"
   },
   {
    "duration": 31,
    "start_time": "2022-06-04T10:19:15.605Z"
   },
   {
    "duration": 13,
    "start_time": "2022-06-04T10:19:15.637Z"
   },
   {
    "duration": 415,
    "start_time": "2022-06-04T10:19:17.824Z"
   },
   {
    "duration": 142,
    "start_time": "2022-06-04T10:19:26.976Z"
   },
   {
    "duration": 14,
    "start_time": "2022-06-04T10:19:47.544Z"
   },
   {
    "duration": 1492,
    "start_time": "2022-06-04T10:19:48.254Z"
   },
   {
    "duration": 9,
    "start_time": "2022-06-04T10:20:31.324Z"
   },
   {
    "duration": 545461,
    "start_time": "2022-06-04T10:20:32.696Z"
   },
   {
    "duration": 1569,
    "start_time": "2022-06-04T10:34:00.635Z"
   },
   {
    "duration": 835,
    "start_time": "2022-06-04T10:34:02.205Z"
   },
   {
    "duration": 26,
    "start_time": "2022-06-04T10:34:03.042Z"
   },
   {
    "duration": 17,
    "start_time": "2022-06-04T10:34:03.070Z"
   },
   {
    "duration": 217,
    "start_time": "2022-06-04T10:34:03.088Z"
   },
   {
    "duration": 632421,
    "start_time": "2022-06-04T10:34:03.307Z"
   },
   {
    "duration": 356,
    "start_time": "2022-06-04T10:44:35.730Z"
   },
   {
    "duration": 38,
    "start_time": "2022-06-04T10:44:36.091Z"
   },
   {
    "duration": 43,
    "start_time": "2022-06-04T10:44:36.132Z"
   },
   {
    "duration": 22,
    "start_time": "2022-06-04T10:44:36.176Z"
   },
   {
    "duration": 13646,
    "start_time": "2022-06-04T10:44:36.199Z"
   },
   {
    "duration": 4,
    "start_time": "2022-06-04T10:44:49.847Z"
   },
   {
    "duration": 207571,
    "start_time": "2022-06-04T10:44:49.858Z"
   },
   {
    "duration": 5,
    "start_time": "2022-06-04T10:48:17.431Z"
   },
   {
    "duration": 140436,
    "start_time": "2022-06-04T10:48:17.441Z"
   },
   {
    "duration": 6,
    "start_time": "2022-06-04T10:50:37.881Z"
   },
   {
    "duration": 101995,
    "start_time": "2022-06-04T10:50:37.888Z"
   },
   {
    "duration": 6,
    "start_time": "2022-06-04T10:52:19.885Z"
   },
   {
    "duration": 662979,
    "start_time": "2022-06-04T10:52:19.892Z"
   },
   {
    "duration": 6,
    "start_time": "2022-06-04T11:03:22.873Z"
   },
   {
    "duration": 22352,
    "start_time": "2022-06-04T11:03:22.881Z"
   },
   {
    "duration": 1850,
    "start_time": "2022-06-05T20:16:53.028Z"
   },
   {
    "duration": 1892,
    "start_time": "2022-06-05T20:32:15.218Z"
   },
   {
    "duration": 5406,
    "start_time": "2022-06-05T20:32:17.112Z"
   },
   {
    "duration": 35,
    "start_time": "2022-06-05T20:32:22.520Z"
   },
   {
    "duration": 60,
    "start_time": "2022-06-05T20:32:22.558Z"
   },
   {
    "duration": 5,
    "start_time": "2022-06-05T20:32:22.621Z"
   },
   {
    "duration": 109947,
    "start_time": "2022-06-05T20:32:22.628Z"
   },
   {
    "duration": 639,
    "start_time": "2022-06-05T20:34:12.578Z"
   },
   {
    "duration": 69,
    "start_time": "2022-06-05T20:34:13.224Z"
   },
   {
    "duration": 85,
    "start_time": "2022-06-05T20:34:13.301Z"
   },
   {
    "duration": 284,
    "start_time": "2022-06-05T20:34:13.388Z"
   },
   {
    "duration": 13810,
    "start_time": "2022-06-05T20:34:13.673Z"
   },
   {
    "duration": 4,
    "start_time": "2022-06-05T20:34:27.486Z"
   },
   {
    "duration": 196584,
    "start_time": "2022-06-05T20:34:27.492Z"
   },
   {
    "duration": 4,
    "start_time": "2022-06-05T20:37:44.079Z"
   },
   {
    "duration": 10214,
    "start_time": "2022-06-05T20:37:44.084Z"
   },
   {
    "duration": 0,
    "start_time": "2022-06-05T20:37:54.301Z"
   },
   {
    "duration": 0,
    "start_time": "2022-06-05T20:37:54.302Z"
   },
   {
    "duration": 0,
    "start_time": "2022-06-05T20:37:54.304Z"
   },
   {
    "duration": 0,
    "start_time": "2022-06-05T20:37:54.305Z"
   },
   {
    "duration": 0,
    "start_time": "2022-06-05T20:37:54.306Z"
   },
   {
    "duration": 185,
    "start_time": "2022-06-05T20:38:53.210Z"
   },
   {
    "duration": 182,
    "start_time": "2022-06-05T20:39:02.020Z"
   },
   {
    "duration": 1737,
    "start_time": "2022-06-05T20:39:13.560Z"
   },
   {
    "duration": 949,
    "start_time": "2022-06-05T20:39:15.299Z"
   },
   {
    "duration": 36,
    "start_time": "2022-06-05T20:39:16.250Z"
   },
   {
    "duration": 11,
    "start_time": "2022-06-05T20:39:16.288Z"
   },
   {
    "duration": 7,
    "start_time": "2022-06-05T20:39:16.301Z"
   },
   {
    "duration": 95937,
    "start_time": "2022-06-05T20:39:16.310Z"
   },
   {
    "duration": 167,
    "start_time": "2022-06-05T20:40:52.249Z"
   },
   {
    "duration": 53,
    "start_time": "2022-06-05T20:40:52.418Z"
   },
   {
    "duration": 4,
    "start_time": "2022-06-05T20:40:52.474Z"
   },
   {
    "duration": 290,
    "start_time": "2022-06-05T20:40:52.480Z"
   },
   {
    "duration": 13416,
    "start_time": "2022-06-05T20:40:52.772Z"
   },
   {
    "duration": 4,
    "start_time": "2022-06-05T20:41:06.190Z"
   },
   {
    "duration": 189520,
    "start_time": "2022-06-05T20:41:06.195Z"
   },
   {
    "duration": 3,
    "start_time": "2022-06-05T20:44:15.719Z"
   },
   {
    "duration": 131459,
    "start_time": "2022-06-05T20:44:15.724Z"
   },
   {
    "duration": 4,
    "start_time": "2022-06-05T20:46:27.185Z"
   },
   {
    "duration": 221961,
    "start_time": "2022-06-05T20:46:27.190Z"
   },
   {
    "duration": 4,
    "start_time": "2022-06-05T20:50:09.153Z"
   },
   {
    "duration": 2841,
    "start_time": "2022-06-05T20:50:09.161Z"
   },
   {
    "duration": 0,
    "start_time": "2022-06-05T20:50:12.004Z"
   },
   {
    "duration": 2046992,
    "start_time": "2022-06-05T20:51:48.709Z"
   },
   {
    "duration": 3,
    "start_time": "2022-06-05T21:29:11.947Z"
   },
   {
    "duration": 11,
    "start_time": "2022-06-05T21:37:52.866Z"
   },
   {
    "duration": 4,
    "start_time": "2022-06-05T21:37:58.172Z"
   },
   {
    "duration": 4,
    "start_time": "2022-06-05T21:38:16.788Z"
   },
   {
    "duration": 4,
    "start_time": "2022-06-05T21:38:24.947Z"
   },
   {
    "duration": 171,
    "start_time": "2022-06-05T21:55:47.750Z"
   },
   {
    "duration": 163,
    "start_time": "2022-06-05T21:56:17.443Z"
   },
   {
    "duration": 1727,
    "start_time": "2022-06-05T21:56:59.570Z"
   },
   {
    "duration": 3626,
    "start_time": "2022-06-05T21:57:01.299Z"
   },
   {
    "duration": 37,
    "start_time": "2022-06-05T21:57:04.926Z"
   },
   {
    "duration": 10,
    "start_time": "2022-06-05T21:57:04.965Z"
   },
   {
    "duration": 5,
    "start_time": "2022-06-05T21:57:04.977Z"
   },
   {
    "duration": 70356,
    "start_time": "2022-06-05T21:57:04.984Z"
   },
   {
    "duration": 158,
    "start_time": "2022-06-05T21:58:15.342Z"
   },
   {
    "duration": 173,
    "start_time": "2022-06-05T21:58:15.502Z"
   },
   {
    "duration": 194,
    "start_time": "2022-06-05T21:58:43.258Z"
   },
   {
    "duration": 208,
    "start_time": "2022-06-05T21:59:17.188Z"
   },
   {
    "duration": 303,
    "start_time": "2022-06-05T21:59:25.455Z"
   },
   {
    "duration": 1471,
    "start_time": "2022-06-05T21:59:43.609Z"
   },
   {
    "duration": 799,
    "start_time": "2022-06-05T21:59:45.082Z"
   },
   {
    "duration": 24,
    "start_time": "2022-06-05T21:59:45.883Z"
   },
   {
    "duration": 22,
    "start_time": "2022-06-05T21:59:45.908Z"
   },
   {
    "duration": 5,
    "start_time": "2022-06-05T21:59:45.933Z"
   },
   {
    "duration": 71114,
    "start_time": "2022-06-05T21:59:45.940Z"
   },
   {
    "duration": 152,
    "start_time": "2022-06-05T22:00:57.055Z"
   },
   {
    "duration": 236,
    "start_time": "2022-06-05T22:00:57.209Z"
   },
   {
    "duration": 4,
    "start_time": "2022-06-05T22:00:57.446Z"
   },
   {
    "duration": 246,
    "start_time": "2022-06-05T22:00:57.451Z"
   },
   {
    "duration": 63,
    "start_time": "2022-06-05T22:01:17.579Z"
   },
   {
    "duration": 6,
    "start_time": "2022-06-05T22:01:21.101Z"
   },
   {
    "duration": 1548,
    "start_time": "2022-06-05T22:01:35.584Z"
   },
   {
    "duration": 3539,
    "start_time": "2022-06-05T22:01:37.135Z"
   },
   {
    "duration": 30,
    "start_time": "2022-06-05T22:01:40.675Z"
   },
   {
    "duration": 12,
    "start_time": "2022-06-05T22:01:40.707Z"
   },
   {
    "duration": 4,
    "start_time": "2022-06-05T22:01:40.721Z"
   },
   {
    "duration": 70145,
    "start_time": "2022-06-05T22:01:40.729Z"
   },
   {
    "duration": 142,
    "start_time": "2022-06-05T22:02:50.875Z"
   },
   {
    "duration": 250,
    "start_time": "2022-06-05T22:02:51.018Z"
   },
   {
    "duration": 3,
    "start_time": "2022-06-05T22:02:51.270Z"
   },
   {
    "duration": 222,
    "start_time": "2022-06-05T22:02:51.274Z"
   },
   {
    "duration": 13118,
    "start_time": "2022-06-05T22:02:51.498Z"
   },
   {
    "duration": 4,
    "start_time": "2022-06-05T22:03:04.617Z"
   },
   {
    "duration": 177312,
    "start_time": "2022-06-05T22:03:04.629Z"
   },
   {
    "duration": 3,
    "start_time": "2022-06-05T22:06:01.946Z"
   },
   {
    "duration": 128739,
    "start_time": "2022-06-05T22:06:01.951Z"
   },
   {
    "duration": 3,
    "start_time": "2022-06-05T22:08:10.691Z"
   },
   {
    "duration": 248002,
    "start_time": "2022-06-05T22:08:10.695Z"
   },
   {
    "duration": 4,
    "start_time": "2022-06-05T22:12:18.699Z"
   },
   {
    "duration": 19065,
    "start_time": "2022-06-05T22:12:18.704Z"
   },
   {
    "duration": 0,
    "start_time": "2022-06-05T22:12:37.771Z"
   },
   {
    "duration": 30274,
    "start_time": "2022-06-05T22:12:56.043Z"
   },
   {
    "duration": 40,
    "start_time": "2022-06-05T22:18:44.438Z"
   },
   {
    "duration": 54,
    "start_time": "2022-06-05T22:19:49.061Z"
   },
   {
    "duration": 64,
    "start_time": "2022-06-05T22:20:07.860Z"
   },
   {
    "duration": 1414,
    "start_time": "2022-06-05T22:20:53.059Z"
   },
   {
    "duration": 835,
    "start_time": "2022-06-05T22:20:54.477Z"
   },
   {
    "duration": 35,
    "start_time": "2022-06-05T22:20:55.313Z"
   },
   {
    "duration": 11,
    "start_time": "2022-06-05T22:20:55.350Z"
   },
   {
    "duration": 3,
    "start_time": "2022-06-05T22:20:55.363Z"
   },
   {
    "duration": 72277,
    "start_time": "2022-06-05T22:20:55.368Z"
   },
   {
    "duration": 161,
    "start_time": "2022-06-05T22:22:07.647Z"
   },
   {
    "duration": 85,
    "start_time": "2022-06-05T22:22:07.810Z"
   },
   {
    "duration": 58,
    "start_time": "2022-06-05T22:22:07.897Z"
   },
   {
    "duration": 15,
    "start_time": "2022-06-05T22:22:07.957Z"
   },
   {
    "duration": 6,
    "start_time": "2022-06-05T22:22:07.974Z"
   },
   {
    "duration": 224,
    "start_time": "2022-06-05T22:22:07.981Z"
   },
   {
    "duration": 13539,
    "start_time": "2022-06-05T22:22:08.206Z"
   },
   {
    "duration": 3,
    "start_time": "2022-06-05T22:22:24.044Z"
   },
   {
    "duration": 235725,
    "start_time": "2022-06-05T22:22:29.317Z"
   },
   {
    "duration": 3,
    "start_time": "2022-06-05T22:26:56.460Z"
   },
   {
    "duration": 29156,
    "start_time": "2022-06-05T22:26:59.884Z"
   },
   {
    "duration": 1378,
    "start_time": "2022-06-05T22:48:17.676Z"
   },
   {
    "duration": 753,
    "start_time": "2022-06-05T22:48:19.056Z"
   },
   {
    "duration": 29,
    "start_time": "2022-06-05T22:48:19.810Z"
   },
   {
    "duration": 9,
    "start_time": "2022-06-05T22:48:19.840Z"
   },
   {
    "duration": 149,
    "start_time": "2022-06-05T22:48:19.851Z"
   },
   {
    "duration": 4,
    "start_time": "2022-06-05T22:48:20.001Z"
   },
   {
    "duration": 65746,
    "start_time": "2022-06-05T22:48:20.007Z"
   },
   {
    "duration": 63,
    "start_time": "2022-06-05T22:49:25.754Z"
   },
   {
    "duration": 49,
    "start_time": "2022-06-05T22:49:25.819Z"
   },
   {
    "duration": 13,
    "start_time": "2022-06-05T22:49:25.870Z"
   },
   {
    "duration": 9,
    "start_time": "2022-06-05T22:49:25.884Z"
   },
   {
    "duration": 184,
    "start_time": "2022-06-05T22:49:25.895Z"
   },
   {
    "duration": 12144,
    "start_time": "2022-06-05T22:49:26.080Z"
   },
   {
    "duration": 3,
    "start_time": "2022-06-05T22:49:38.227Z"
   },
   {
    "duration": 165026,
    "start_time": "2022-06-05T22:49:38.231Z"
   },
   {
    "duration": 3,
    "start_time": "2022-06-05T22:52:23.259Z"
   },
   {
    "duration": 113861,
    "start_time": "2022-06-05T22:52:23.263Z"
   },
   {
    "duration": 3,
    "start_time": "2022-06-05T22:54:17.128Z"
   },
   {
    "duration": 230829,
    "start_time": "2022-06-05T22:54:17.132Z"
   },
   {
    "duration": 4,
    "start_time": "2022-06-05T22:58:07.962Z"
   },
   {
    "duration": 139,
    "start_time": "2022-06-05T22:58:07.968Z"
   },
   {
    "duration": 0,
    "start_time": "2022-06-05T22:58:08.109Z"
   },
   {
    "duration": 0,
    "start_time": "2022-06-05T22:58:08.110Z"
   },
   {
    "duration": 0,
    "start_time": "2022-06-05T22:58:08.111Z"
   },
   {
    "duration": 629793,
    "start_time": "2022-06-05T22:59:58.370Z"
   },
   {
    "duration": 3,
    "start_time": "2022-06-05T23:10:28.166Z"
   },
   {
    "duration": 6,
    "start_time": "2022-06-05T23:10:28.170Z"
   },
   {
    "duration": 8,
    "start_time": "2022-06-05T23:11:00.875Z"
   },
   {
    "duration": 10,
    "start_time": "2022-06-05T23:11:17.736Z"
   },
   {
    "duration": 15,
    "start_time": "2022-06-05T23:11:52.169Z"
   },
   {
    "duration": 11,
    "start_time": "2022-06-05T23:11:57.035Z"
   },
   {
    "duration": 10310,
    "start_time": "2022-06-05T23:13:15.073Z"
   },
   {
    "duration": 733,
    "start_time": "2022-06-07T11:39:53.046Z"
   },
   {
    "duration": 1373,
    "start_time": "2022-06-07T11:49:18.021Z"
   },
   {
    "duration": 2323,
    "start_time": "2022-06-07T11:49:19.396Z"
   },
   {
    "duration": 34,
    "start_time": "2022-06-07T11:49:21.722Z"
   },
   {
    "duration": 20,
    "start_time": "2022-06-07T11:49:21.757Z"
   },
   {
    "duration": 145,
    "start_time": "2022-06-07T11:49:21.780Z"
   },
   {
    "duration": 316,
    "start_time": "2022-06-07T11:49:21.928Z"
   },
   {
    "duration": 6636,
    "start_time": "2022-06-07T11:49:22.245Z"
   },
   {
    "duration": 57,
    "start_time": "2022-06-07T11:49:28.883Z"
   },
   {
    "duration": 51,
    "start_time": "2022-06-07T11:49:28.942Z"
   },
   {
    "duration": 12,
    "start_time": "2022-06-07T11:49:28.994Z"
   },
   {
    "duration": 11,
    "start_time": "2022-06-07T11:49:29.008Z"
   },
   {
    "duration": 7,
    "start_time": "2022-06-07T11:49:29.021Z"
   },
   {
    "duration": 5,
    "start_time": "2022-06-07T11:49:29.029Z"
   },
   {
    "duration": 5,
    "start_time": "2022-06-07T11:49:47.244Z"
   },
   {
    "duration": 510,
    "start_time": "2022-06-07T11:50:54.679Z"
   },
   {
    "duration": 331,
    "start_time": "2022-06-07T11:51:21.633Z"
   },
   {
    "duration": 12,
    "start_time": "2022-06-07T11:53:26.343Z"
   },
   {
    "duration": 129,
    "start_time": "2022-06-07T11:53:50.442Z"
   },
   {
    "duration": 1450,
    "start_time": "2022-06-07T11:55:32.166Z"
   },
   {
    "duration": 755,
    "start_time": "2022-06-07T11:55:33.618Z"
   },
   {
    "duration": 23,
    "start_time": "2022-06-07T11:55:34.375Z"
   },
   {
    "duration": 25,
    "start_time": "2022-06-07T11:55:34.399Z"
   },
   {
    "duration": 145,
    "start_time": "2022-06-07T11:55:34.426Z"
   },
   {
    "duration": 132,
    "start_time": "2022-06-07T11:55:34.573Z"
   },
   {
    "duration": 6545,
    "start_time": "2022-06-07T11:55:34.706Z"
   },
   {
    "duration": 55,
    "start_time": "2022-06-07T11:55:41.253Z"
   },
   {
    "duration": 50,
    "start_time": "2022-06-07T11:55:41.310Z"
   },
   {
    "duration": 14,
    "start_time": "2022-06-07T11:55:41.362Z"
   },
   {
    "duration": 8,
    "start_time": "2022-06-07T11:55:41.377Z"
   },
   {
    "duration": 8,
    "start_time": "2022-06-07T11:55:41.386Z"
   },
   {
    "duration": 6,
    "start_time": "2022-06-07T11:55:41.395Z"
   },
   {
    "duration": 252,
    "start_time": "2022-06-07T11:56:57.551Z"
   },
   {
    "duration": 189,
    "start_time": "2022-06-07T11:57:11.224Z"
   },
   {
    "duration": 200,
    "start_time": "2022-06-07T11:57:21.661Z"
   },
   {
    "duration": 184,
    "start_time": "2022-06-07T11:57:38.795Z"
   },
   {
    "duration": 4,
    "start_time": "2022-06-07T12:00:56.781Z"
   },
   {
    "duration": 805,
    "start_time": "2022-06-07T12:00:56.797Z"
   },
   {
    "duration": 23,
    "start_time": "2022-06-07T12:00:57.605Z"
   },
   {
    "duration": 9,
    "start_time": "2022-06-07T12:00:57.630Z"
   },
   {
    "duration": 145,
    "start_time": "2022-06-07T12:00:57.640Z"
   },
   {
    "duration": 4,
    "start_time": "2022-06-07T12:00:57.787Z"
   },
   {
    "duration": 5596,
    "start_time": "2022-06-07T12:00:57.793Z"
   },
   {
    "duration": 58,
    "start_time": "2022-06-07T12:01:03.390Z"
   },
   {
    "duration": 48,
    "start_time": "2022-06-07T12:01:03.449Z"
   },
   {
    "duration": 14,
    "start_time": "2022-06-07T12:01:03.499Z"
   },
   {
    "duration": 8,
    "start_time": "2022-06-07T12:01:03.515Z"
   },
   {
    "duration": 7,
    "start_time": "2022-06-07T12:01:03.524Z"
   },
   {
    "duration": 5,
    "start_time": "2022-06-07T12:01:03.532Z"
   },
   {
    "duration": 201,
    "start_time": "2022-06-07T12:01:13.825Z"
   },
   {
    "duration": 3,
    "start_time": "2022-06-07T12:01:30.825Z"
   },
   {
    "duration": 4,
    "start_time": "2022-06-07T12:01:38.569Z"
   },
   {
    "duration": 4,
    "start_time": "2022-06-07T12:01:49.382Z"
   },
   {
    "duration": 6,
    "start_time": "2022-06-07T12:01:53.598Z"
   },
   {
    "duration": 4,
    "start_time": "2022-06-07T12:01:56.424Z"
   },
   {
    "duration": 1431,
    "start_time": "2022-06-07T12:07:47.702Z"
   },
   {
    "duration": 754,
    "start_time": "2022-06-07T12:07:49.135Z"
   },
   {
    "duration": 26,
    "start_time": "2022-06-07T12:07:49.891Z"
   },
   {
    "duration": 18,
    "start_time": "2022-06-07T12:07:49.919Z"
   },
   {
    "duration": 155,
    "start_time": "2022-06-07T12:07:49.939Z"
   },
   {
    "duration": 141,
    "start_time": "2022-06-07T12:07:50.095Z"
   },
   {
    "duration": 6533,
    "start_time": "2022-06-07T12:07:50.238Z"
   },
   {
    "duration": 56,
    "start_time": "2022-06-07T12:07:56.773Z"
   },
   {
    "duration": 51,
    "start_time": "2022-06-07T12:07:56.831Z"
   },
   {
    "duration": 5,
    "start_time": "2022-06-07T12:07:56.884Z"
   },
   {
    "duration": 27,
    "start_time": "2022-06-07T12:07:56.890Z"
   },
   {
    "duration": 13,
    "start_time": "2022-06-07T12:07:56.919Z"
   },
   {
    "duration": 24,
    "start_time": "2022-06-07T12:07:56.933Z"
   },
   {
    "duration": 39,
    "start_time": "2022-06-07T12:07:56.959Z"
   },
   {
    "duration": 142,
    "start_time": "2022-06-07T12:07:56.999Z"
   },
   {
    "duration": 98679,
    "start_time": "2022-06-07T12:08:02.856Z"
   },
   {
    "duration": 5,
    "start_time": "2022-06-07T12:10:30.204Z"
   },
   {
    "duration": 1458,
    "start_time": "2022-06-07T12:19:27.859Z"
   },
   {
    "duration": 773,
    "start_time": "2022-06-07T12:19:29.319Z"
   },
   {
    "duration": 32,
    "start_time": "2022-06-07T12:19:30.094Z"
   },
   {
    "duration": 15,
    "start_time": "2022-06-07T12:19:30.128Z"
   },
   {
    "duration": 154,
    "start_time": "2022-06-07T12:19:30.159Z"
   },
   {
    "duration": 215,
    "start_time": "2022-06-07T12:19:30.314Z"
   },
   {
    "duration": 6538,
    "start_time": "2022-06-07T12:19:30.531Z"
   },
   {
    "duration": 74,
    "start_time": "2022-06-07T12:19:37.071Z"
   },
   {
    "duration": 62,
    "start_time": "2022-06-07T12:19:37.147Z"
   },
   {
    "duration": 8,
    "start_time": "2022-06-07T12:19:37.211Z"
   },
   {
    "duration": 18,
    "start_time": "2022-06-07T12:19:37.221Z"
   },
   {
    "duration": 19,
    "start_time": "2022-06-07T12:19:37.240Z"
   },
   {
    "duration": 6,
    "start_time": "2022-06-07T12:19:37.261Z"
   },
   {
    "duration": 13,
    "start_time": "2022-06-07T12:19:37.270Z"
   },
   {
    "duration": 176,
    "start_time": "2022-06-07T12:19:37.285Z"
   },
   {
    "duration": 0,
    "start_time": "2022-06-07T12:19:37.463Z"
   },
   {
    "duration": 0,
    "start_time": "2022-06-07T12:19:37.465Z"
   },
   {
    "duration": 0,
    "start_time": "2022-06-07T12:19:37.466Z"
   },
   {
    "duration": 0,
    "start_time": "2022-06-07T12:19:37.467Z"
   },
   {
    "duration": 0,
    "start_time": "2022-06-07T12:19:37.468Z"
   },
   {
    "duration": 0,
    "start_time": "2022-06-07T12:19:37.469Z"
   },
   {
    "duration": 0,
    "start_time": "2022-06-07T12:19:37.471Z"
   },
   {
    "duration": 0,
    "start_time": "2022-06-07T12:19:37.472Z"
   },
   {
    "duration": 0,
    "start_time": "2022-06-07T12:19:37.474Z"
   },
   {
    "duration": 0,
    "start_time": "2022-06-07T12:19:37.475Z"
   },
   {
    "duration": 0,
    "start_time": "2022-06-07T12:19:37.476Z"
   },
   {
    "duration": 5,
    "start_time": "2022-06-07T12:20:01.260Z"
   },
   {
    "duration": 5,
    "start_time": "2022-06-07T12:20:02.734Z"
   },
   {
    "duration": 168348,
    "start_time": "2022-06-07T12:20:06.267Z"
   },
   {
    "duration": 4,
    "start_time": "2022-06-07T12:22:54.617Z"
   },
   {
    "duration": 140252,
    "start_time": "2022-06-07T12:22:54.622Z"
   },
   {
    "duration": 2,
    "start_time": "2022-06-07T12:25:14.876Z"
   },
   {
    "duration": 64,
    "start_time": "2022-06-07T12:25:14.880Z"
   },
   {
    "duration": 0,
    "start_time": "2022-06-07T12:25:14.946Z"
   },
   {
    "duration": 0,
    "start_time": "2022-06-07T12:25:14.947Z"
   },
   {
    "duration": 0,
    "start_time": "2022-06-07T12:25:14.948Z"
   },
   {
    "duration": 0,
    "start_time": "2022-06-07T12:25:14.949Z"
   },
   {
    "duration": 6,
    "start_time": "2022-06-07T12:27:06.048Z"
   },
   {
    "duration": 346308,
    "start_time": "2022-06-07T12:27:09.076Z"
   },
   {
    "duration": 4,
    "start_time": "2022-06-07T12:32:55.386Z"
   },
   {
    "duration": 939382,
    "start_time": "2022-06-07T12:32:55.392Z"
   },
   {
    "duration": 3,
    "start_time": "2022-06-07T12:48:34.777Z"
   },
   {
    "duration": 49,
    "start_time": "2022-06-07T12:48:34.781Z"
   },
   {
    "duration": 482,
    "start_time": "2022-06-07T12:48:56.725Z"
   },
   {
    "duration": 6234,
    "start_time": "2022-06-07T12:49:18.022Z"
   },
   {
    "duration": 10732,
    "start_time": "2022-06-07T12:49:31.879Z"
   },
   {
    "duration": 6,
    "start_time": "2022-06-07T12:50:10.530Z"
   },
   {
    "duration": 7238,
    "start_time": "2022-06-07T12:50:15.520Z"
   },
   {
    "duration": 10694,
    "start_time": "2022-06-07T12:50:24.212Z"
   }
  ],
  "kernelspec": {
   "display_name": "Python 3 (ipykernel)",
   "language": "python",
   "name": "python3"
  },
  "language_info": {
   "codemirror_mode": {
    "name": "ipython",
    "version": 3
   },
   "file_extension": ".py",
   "mimetype": "text/x-python",
   "name": "python",
   "nbconvert_exporter": "python",
   "pygments_lexer": "ipython3",
   "version": "3.9.7"
  },
  "toc": {
   "base_numbering": 1,
   "nav_menu": {},
   "number_sections": true,
   "sideBar": true,
   "skip_h1_title": true,
   "title_cell": "Содержание",
   "title_sidebar": "Contents",
   "toc_cell": true,
   "toc_position": {
    "height": "calc(100% - 180px)",
    "left": "10px",
    "top": "150px",
    "width": "302.391px"
   },
   "toc_section_display": true,
   "toc_window_display": false
  }
 },
 "nbformat": 4,
 "nbformat_minor": 2
}
