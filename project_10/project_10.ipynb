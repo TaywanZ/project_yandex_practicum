{
 "cells": [
  {
   "cell_type": "markdown",
   "metadata": {},
   "source": [
    "# Определение стоимости автомобилей"
   ]
  },
  {
   "cell_type": "markdown",
   "metadata": {},
   "source": [
    "## Подготовка данных"
   ]
  },
  {
   "cell_type": "markdown",
   "metadata": {},
   "source": [
    "### Импорт библиотек и данных"
   ]
  },
  {
   "cell_type": "markdown",
   "metadata": {},
   "source": [
    "Импортируем необходимые библиотеки и первично ознакомимся с данными."
   ]
  },
  {
   "cell_type": "code",
   "execution_count": 1,
   "metadata": {},
   "outputs": [],
   "source": [
    "import pandas as pd\n",
    "import numpy as np\n",
    "import seaborn as sns\n",
    "import matplotlib.pyplot as plt\n",
    "import time\n",
    "from lightgbm import LGBMRegressor\n",
    "from sklearn.model_selection import train_test_split, GridSearchCV\n",
    "from sklearn.linear_model import LinearRegression\n",
    "from sklearn.ensemble import RandomForestRegressor\n",
    "from sklearn.tree import DecisionTreeRegressor\n",
    "from sklearn.metrics import mean_squared_error, make_scorer\n",
    "from sklearn.dummy import DummyRegressor\n",
    "from sklearn.preprocessing import OrdinalEncoder\n",
    "from catboost import CatBoostRegressor, Pool, cv"
   ]
  },
  {
   "cell_type": "code",
   "execution_count": 2,
   "metadata": {},
   "outputs": [],
   "source": [
    "pd.set_option('display.precision', 2)"
   ]
  },
  {
   "cell_type": "code",
   "execution_count": 3,
   "metadata": {},
   "outputs": [],
   "source": [
    "data = pd.read_csv('/datasets/autos.csv')"
   ]
  },
  {
   "cell_type": "markdown",
   "metadata": {},
   "source": [
    "Подготовим функцию для ознакомления с датасетом"
   ]
  },
  {
   "cell_type": "code",
   "execution_count": 4,
   "metadata": {},
   "outputs": [],
   "source": [
    "def info_data(df):\n",
    "    print(df.info())\n",
    "    print()\n",
    "    print((df.isna().sum() / df.shape[0]) * 100)\n",
    "    print()\n",
    "    display(df.head(10))"
   ]
  },
  {
   "cell_type": "markdown",
   "metadata": {},
   "source": [
    "Ознакомимся с датасетом"
   ]
  },
  {
   "cell_type": "code",
   "execution_count": 5,
   "metadata": {},
   "outputs": [
    {
     "name": "stdout",
     "output_type": "stream",
     "text": [
      "<class 'pandas.core.frame.DataFrame'>\n",
      "RangeIndex: 354369 entries, 0 to 354368\n",
      "Data columns (total 16 columns):\n",
      " #   Column             Non-Null Count   Dtype \n",
      "---  ------             --------------   ----- \n",
      " 0   DateCrawled        354369 non-null  object\n",
      " 1   Price              354369 non-null  int64 \n",
      " 2   VehicleType        316879 non-null  object\n",
      " 3   RegistrationYear   354369 non-null  int64 \n",
      " 4   Gearbox            334536 non-null  object\n",
      " 5   Power              354369 non-null  int64 \n",
      " 6   Model              334664 non-null  object\n",
      " 7   Kilometer          354369 non-null  int64 \n",
      " 8   RegistrationMonth  354369 non-null  int64 \n",
      " 9   FuelType           321474 non-null  object\n",
      " 10  Brand              354369 non-null  object\n",
      " 11  NotRepaired        283215 non-null  object\n",
      " 12  DateCreated        354369 non-null  object\n",
      " 13  NumberOfPictures   354369 non-null  int64 \n",
      " 14  PostalCode         354369 non-null  int64 \n",
      " 15  LastSeen           354369 non-null  object\n",
      "dtypes: int64(7), object(9)\n",
      "memory usage: 43.3+ MB\n",
      "None\n",
      "\n",
      "DateCrawled           0.00\n",
      "Price                 0.00\n",
      "VehicleType          10.58\n",
      "RegistrationYear      0.00\n",
      "Gearbox               5.60\n",
      "Power                 0.00\n",
      "Model                 5.56\n",
      "Kilometer             0.00\n",
      "RegistrationMonth     0.00\n",
      "FuelType              9.28\n",
      "Brand                 0.00\n",
      "NotRepaired          20.08\n",
      "DateCreated           0.00\n",
      "NumberOfPictures      0.00\n",
      "PostalCode            0.00\n",
      "LastSeen              0.00\n",
      "dtype: float64\n",
      "\n"
     ]
    },
    {
     "data": {
      "text/html": [
       "<div>\n",
       "<style scoped>\n",
       "    .dataframe tbody tr th:only-of-type {\n",
       "        vertical-align: middle;\n",
       "    }\n",
       "\n",
       "    .dataframe tbody tr th {\n",
       "        vertical-align: top;\n",
       "    }\n",
       "\n",
       "    .dataframe thead th {\n",
       "        text-align: right;\n",
       "    }\n",
       "</style>\n",
       "<table border=\"1\" class=\"dataframe\">\n",
       "  <thead>\n",
       "    <tr style=\"text-align: right;\">\n",
       "      <th></th>\n",
       "      <th>DateCrawled</th>\n",
       "      <th>Price</th>\n",
       "      <th>VehicleType</th>\n",
       "      <th>RegistrationYear</th>\n",
       "      <th>Gearbox</th>\n",
       "      <th>Power</th>\n",
       "      <th>Model</th>\n",
       "      <th>Kilometer</th>\n",
       "      <th>RegistrationMonth</th>\n",
       "      <th>FuelType</th>\n",
       "      <th>Brand</th>\n",
       "      <th>NotRepaired</th>\n",
       "      <th>DateCreated</th>\n",
       "      <th>NumberOfPictures</th>\n",
       "      <th>PostalCode</th>\n",
       "      <th>LastSeen</th>\n",
       "    </tr>\n",
       "  </thead>\n",
       "  <tbody>\n",
       "    <tr>\n",
       "      <th>0</th>\n",
       "      <td>2016-03-24 11:52:17</td>\n",
       "      <td>480</td>\n",
       "      <td>NaN</td>\n",
       "      <td>1993</td>\n",
       "      <td>manual</td>\n",
       "      <td>0</td>\n",
       "      <td>golf</td>\n",
       "      <td>150000</td>\n",
       "      <td>0</td>\n",
       "      <td>petrol</td>\n",
       "      <td>volkswagen</td>\n",
       "      <td>NaN</td>\n",
       "      <td>2016-03-24 00:00:00</td>\n",
       "      <td>0</td>\n",
       "      <td>70435</td>\n",
       "      <td>2016-04-07 03:16:57</td>\n",
       "    </tr>\n",
       "    <tr>\n",
       "      <th>1</th>\n",
       "      <td>2016-03-24 10:58:45</td>\n",
       "      <td>18300</td>\n",
       "      <td>coupe</td>\n",
       "      <td>2011</td>\n",
       "      <td>manual</td>\n",
       "      <td>190</td>\n",
       "      <td>NaN</td>\n",
       "      <td>125000</td>\n",
       "      <td>5</td>\n",
       "      <td>gasoline</td>\n",
       "      <td>audi</td>\n",
       "      <td>yes</td>\n",
       "      <td>2016-03-24 00:00:00</td>\n",
       "      <td>0</td>\n",
       "      <td>66954</td>\n",
       "      <td>2016-04-07 01:46:50</td>\n",
       "    </tr>\n",
       "    <tr>\n",
       "      <th>2</th>\n",
       "      <td>2016-03-14 12:52:21</td>\n",
       "      <td>9800</td>\n",
       "      <td>suv</td>\n",
       "      <td>2004</td>\n",
       "      <td>auto</td>\n",
       "      <td>163</td>\n",
       "      <td>grand</td>\n",
       "      <td>125000</td>\n",
       "      <td>8</td>\n",
       "      <td>gasoline</td>\n",
       "      <td>jeep</td>\n",
       "      <td>NaN</td>\n",
       "      <td>2016-03-14 00:00:00</td>\n",
       "      <td>0</td>\n",
       "      <td>90480</td>\n",
       "      <td>2016-04-05 12:47:46</td>\n",
       "    </tr>\n",
       "    <tr>\n",
       "      <th>3</th>\n",
       "      <td>2016-03-17 16:54:04</td>\n",
       "      <td>1500</td>\n",
       "      <td>small</td>\n",
       "      <td>2001</td>\n",
       "      <td>manual</td>\n",
       "      <td>75</td>\n",
       "      <td>golf</td>\n",
       "      <td>150000</td>\n",
       "      <td>6</td>\n",
       "      <td>petrol</td>\n",
       "      <td>volkswagen</td>\n",
       "      <td>no</td>\n",
       "      <td>2016-03-17 00:00:00</td>\n",
       "      <td>0</td>\n",
       "      <td>91074</td>\n",
       "      <td>2016-03-17 17:40:17</td>\n",
       "    </tr>\n",
       "    <tr>\n",
       "      <th>4</th>\n",
       "      <td>2016-03-31 17:25:20</td>\n",
       "      <td>3600</td>\n",
       "      <td>small</td>\n",
       "      <td>2008</td>\n",
       "      <td>manual</td>\n",
       "      <td>69</td>\n",
       "      <td>fabia</td>\n",
       "      <td>90000</td>\n",
       "      <td>7</td>\n",
       "      <td>gasoline</td>\n",
       "      <td>skoda</td>\n",
       "      <td>no</td>\n",
       "      <td>2016-03-31 00:00:00</td>\n",
       "      <td>0</td>\n",
       "      <td>60437</td>\n",
       "      <td>2016-04-06 10:17:21</td>\n",
       "    </tr>\n",
       "    <tr>\n",
       "      <th>5</th>\n",
       "      <td>2016-04-04 17:36:23</td>\n",
       "      <td>650</td>\n",
       "      <td>sedan</td>\n",
       "      <td>1995</td>\n",
       "      <td>manual</td>\n",
       "      <td>102</td>\n",
       "      <td>3er</td>\n",
       "      <td>150000</td>\n",
       "      <td>10</td>\n",
       "      <td>petrol</td>\n",
       "      <td>bmw</td>\n",
       "      <td>yes</td>\n",
       "      <td>2016-04-04 00:00:00</td>\n",
       "      <td>0</td>\n",
       "      <td>33775</td>\n",
       "      <td>2016-04-06 19:17:07</td>\n",
       "    </tr>\n",
       "    <tr>\n",
       "      <th>6</th>\n",
       "      <td>2016-04-01 20:48:51</td>\n",
       "      <td>2200</td>\n",
       "      <td>convertible</td>\n",
       "      <td>2004</td>\n",
       "      <td>manual</td>\n",
       "      <td>109</td>\n",
       "      <td>2_reihe</td>\n",
       "      <td>150000</td>\n",
       "      <td>8</td>\n",
       "      <td>petrol</td>\n",
       "      <td>peugeot</td>\n",
       "      <td>no</td>\n",
       "      <td>2016-04-01 00:00:00</td>\n",
       "      <td>0</td>\n",
       "      <td>67112</td>\n",
       "      <td>2016-04-05 18:18:39</td>\n",
       "    </tr>\n",
       "    <tr>\n",
       "      <th>7</th>\n",
       "      <td>2016-03-21 18:54:38</td>\n",
       "      <td>0</td>\n",
       "      <td>sedan</td>\n",
       "      <td>1980</td>\n",
       "      <td>manual</td>\n",
       "      <td>50</td>\n",
       "      <td>other</td>\n",
       "      <td>40000</td>\n",
       "      <td>7</td>\n",
       "      <td>petrol</td>\n",
       "      <td>volkswagen</td>\n",
       "      <td>no</td>\n",
       "      <td>2016-03-21 00:00:00</td>\n",
       "      <td>0</td>\n",
       "      <td>19348</td>\n",
       "      <td>2016-03-25 16:47:58</td>\n",
       "    </tr>\n",
       "    <tr>\n",
       "      <th>8</th>\n",
       "      <td>2016-04-04 23:42:13</td>\n",
       "      <td>14500</td>\n",
       "      <td>bus</td>\n",
       "      <td>2014</td>\n",
       "      <td>manual</td>\n",
       "      <td>125</td>\n",
       "      <td>c_max</td>\n",
       "      <td>30000</td>\n",
       "      <td>8</td>\n",
       "      <td>petrol</td>\n",
       "      <td>ford</td>\n",
       "      <td>NaN</td>\n",
       "      <td>2016-04-04 00:00:00</td>\n",
       "      <td>0</td>\n",
       "      <td>94505</td>\n",
       "      <td>2016-04-04 23:42:13</td>\n",
       "    </tr>\n",
       "    <tr>\n",
       "      <th>9</th>\n",
       "      <td>2016-03-17 10:53:50</td>\n",
       "      <td>999</td>\n",
       "      <td>small</td>\n",
       "      <td>1998</td>\n",
       "      <td>manual</td>\n",
       "      <td>101</td>\n",
       "      <td>golf</td>\n",
       "      <td>150000</td>\n",
       "      <td>0</td>\n",
       "      <td>NaN</td>\n",
       "      <td>volkswagen</td>\n",
       "      <td>NaN</td>\n",
       "      <td>2016-03-17 00:00:00</td>\n",
       "      <td>0</td>\n",
       "      <td>27472</td>\n",
       "      <td>2016-03-31 17:17:06</td>\n",
       "    </tr>\n",
       "  </tbody>\n",
       "</table>\n",
       "</div>"
      ],
      "text/plain": [
       "           DateCrawled  Price  VehicleType  RegistrationYear Gearbox  Power  \\\n",
       "0  2016-03-24 11:52:17    480          NaN              1993  manual      0   \n",
       "1  2016-03-24 10:58:45  18300        coupe              2011  manual    190   \n",
       "2  2016-03-14 12:52:21   9800          suv              2004    auto    163   \n",
       "3  2016-03-17 16:54:04   1500        small              2001  manual     75   \n",
       "4  2016-03-31 17:25:20   3600        small              2008  manual     69   \n",
       "5  2016-04-04 17:36:23    650        sedan              1995  manual    102   \n",
       "6  2016-04-01 20:48:51   2200  convertible              2004  manual    109   \n",
       "7  2016-03-21 18:54:38      0        sedan              1980  manual     50   \n",
       "8  2016-04-04 23:42:13  14500          bus              2014  manual    125   \n",
       "9  2016-03-17 10:53:50    999        small              1998  manual    101   \n",
       "\n",
       "     Model  Kilometer  RegistrationMonth  FuelType       Brand NotRepaired  \\\n",
       "0     golf     150000                  0    petrol  volkswagen         NaN   \n",
       "1      NaN     125000                  5  gasoline        audi         yes   \n",
       "2    grand     125000                  8  gasoline        jeep         NaN   \n",
       "3     golf     150000                  6    petrol  volkswagen          no   \n",
       "4    fabia      90000                  7  gasoline       skoda          no   \n",
       "5      3er     150000                 10    petrol         bmw         yes   \n",
       "6  2_reihe     150000                  8    petrol     peugeot          no   \n",
       "7    other      40000                  7    petrol  volkswagen          no   \n",
       "8    c_max      30000                  8    petrol        ford         NaN   \n",
       "9     golf     150000                  0       NaN  volkswagen         NaN   \n",
       "\n",
       "           DateCreated  NumberOfPictures  PostalCode             LastSeen  \n",
       "0  2016-03-24 00:00:00                 0       70435  2016-04-07 03:16:57  \n",
       "1  2016-03-24 00:00:00                 0       66954  2016-04-07 01:46:50  \n",
       "2  2016-03-14 00:00:00                 0       90480  2016-04-05 12:47:46  \n",
       "3  2016-03-17 00:00:00                 0       91074  2016-03-17 17:40:17  \n",
       "4  2016-03-31 00:00:00                 0       60437  2016-04-06 10:17:21  \n",
       "5  2016-04-04 00:00:00                 0       33775  2016-04-06 19:17:07  \n",
       "6  2016-04-01 00:00:00                 0       67112  2016-04-05 18:18:39  \n",
       "7  2016-03-21 00:00:00                 0       19348  2016-03-25 16:47:58  \n",
       "8  2016-04-04 00:00:00                 0       94505  2016-04-04 23:42:13  \n",
       "9  2016-03-17 00:00:00                 0       27472  2016-03-31 17:17:06  "
      ]
     },
     "metadata": {},
     "output_type": "display_data"
    }
   ],
   "source": [
    "info_data(data)"
   ]
  },
  {
   "cell_type": "markdown",
   "metadata": {},
   "source": [
    "В датасете имебтся пропусти в категориальных данных. Так же имеются столбцы с датами, опознанные как строки, исправим этот момент."
   ]
  },
  {
   "cell_type": "code",
   "execution_count": 6,
   "metadata": {
    "scrolled": true
   },
   "outputs": [
    {
     "data": {
      "text/html": [
       "<div>\n",
       "<style scoped>\n",
       "    .dataframe tbody tr th:only-of-type {\n",
       "        vertical-align: middle;\n",
       "    }\n",
       "\n",
       "    .dataframe tbody tr th {\n",
       "        vertical-align: top;\n",
       "    }\n",
       "\n",
       "    .dataframe thead th {\n",
       "        text-align: right;\n",
       "    }\n",
       "</style>\n",
       "<table border=\"1\" class=\"dataframe\">\n",
       "  <thead>\n",
       "    <tr style=\"text-align: right;\">\n",
       "      <th></th>\n",
       "      <th>DateCrawled</th>\n",
       "      <th>Price</th>\n",
       "      <th>VehicleType</th>\n",
       "      <th>RegistrationYear</th>\n",
       "      <th>Gearbox</th>\n",
       "      <th>Power</th>\n",
       "      <th>Model</th>\n",
       "      <th>Kilometer</th>\n",
       "      <th>RegistrationMonth</th>\n",
       "      <th>FuelType</th>\n",
       "      <th>...</th>\n",
       "      <th>LastSeen</th>\n",
       "      <th>y_DateCrawled</th>\n",
       "      <th>m_DateCrawled</th>\n",
       "      <th>d_DateCrawled</th>\n",
       "      <th>y_DateCreated</th>\n",
       "      <th>m_DateCreated</th>\n",
       "      <th>d_DateCreated</th>\n",
       "      <th>y_LastSeen</th>\n",
       "      <th>m_LastSeen</th>\n",
       "      <th>d_LastSeen</th>\n",
       "    </tr>\n",
       "  </thead>\n",
       "  <tbody>\n",
       "    <tr>\n",
       "      <th>0</th>\n",
       "      <td>2016-03-24 11:52:17</td>\n",
       "      <td>480</td>\n",
       "      <td>NaN</td>\n",
       "      <td>1993</td>\n",
       "      <td>manual</td>\n",
       "      <td>0</td>\n",
       "      <td>golf</td>\n",
       "      <td>150000</td>\n",
       "      <td>0</td>\n",
       "      <td>petrol</td>\n",
       "      <td>...</td>\n",
       "      <td>2016-04-07 03:16:57</td>\n",
       "      <td>2016</td>\n",
       "      <td>3</td>\n",
       "      <td>24</td>\n",
       "      <td>2016</td>\n",
       "      <td>3</td>\n",
       "      <td>24</td>\n",
       "      <td>2016</td>\n",
       "      <td>4</td>\n",
       "      <td>7</td>\n",
       "    </tr>\n",
       "    <tr>\n",
       "      <th>1</th>\n",
       "      <td>2016-03-24 10:58:45</td>\n",
       "      <td>18300</td>\n",
       "      <td>coupe</td>\n",
       "      <td>2011</td>\n",
       "      <td>manual</td>\n",
       "      <td>190</td>\n",
       "      <td>NaN</td>\n",
       "      <td>125000</td>\n",
       "      <td>5</td>\n",
       "      <td>gasoline</td>\n",
       "      <td>...</td>\n",
       "      <td>2016-04-07 01:46:50</td>\n",
       "      <td>2016</td>\n",
       "      <td>3</td>\n",
       "      <td>24</td>\n",
       "      <td>2016</td>\n",
       "      <td>3</td>\n",
       "      <td>24</td>\n",
       "      <td>2016</td>\n",
       "      <td>4</td>\n",
       "      <td>7</td>\n",
       "    </tr>\n",
       "    <tr>\n",
       "      <th>2</th>\n",
       "      <td>2016-03-14 12:52:21</td>\n",
       "      <td>9800</td>\n",
       "      <td>suv</td>\n",
       "      <td>2004</td>\n",
       "      <td>auto</td>\n",
       "      <td>163</td>\n",
       "      <td>grand</td>\n",
       "      <td>125000</td>\n",
       "      <td>8</td>\n",
       "      <td>gasoline</td>\n",
       "      <td>...</td>\n",
       "      <td>2016-04-05 12:47:46</td>\n",
       "      <td>2016</td>\n",
       "      <td>3</td>\n",
       "      <td>14</td>\n",
       "      <td>2016</td>\n",
       "      <td>3</td>\n",
       "      <td>14</td>\n",
       "      <td>2016</td>\n",
       "      <td>4</td>\n",
       "      <td>5</td>\n",
       "    </tr>\n",
       "    <tr>\n",
       "      <th>3</th>\n",
       "      <td>2016-03-17 16:54:04</td>\n",
       "      <td>1500</td>\n",
       "      <td>small</td>\n",
       "      <td>2001</td>\n",
       "      <td>manual</td>\n",
       "      <td>75</td>\n",
       "      <td>golf</td>\n",
       "      <td>150000</td>\n",
       "      <td>6</td>\n",
       "      <td>petrol</td>\n",
       "      <td>...</td>\n",
       "      <td>2016-03-17 17:40:17</td>\n",
       "      <td>2016</td>\n",
       "      <td>3</td>\n",
       "      <td>17</td>\n",
       "      <td>2016</td>\n",
       "      <td>3</td>\n",
       "      <td>17</td>\n",
       "      <td>2016</td>\n",
       "      <td>3</td>\n",
       "      <td>17</td>\n",
       "    </tr>\n",
       "    <tr>\n",
       "      <th>4</th>\n",
       "      <td>2016-03-31 17:25:20</td>\n",
       "      <td>3600</td>\n",
       "      <td>small</td>\n",
       "      <td>2008</td>\n",
       "      <td>manual</td>\n",
       "      <td>69</td>\n",
       "      <td>fabia</td>\n",
       "      <td>90000</td>\n",
       "      <td>7</td>\n",
       "      <td>gasoline</td>\n",
       "      <td>...</td>\n",
       "      <td>2016-04-06 10:17:21</td>\n",
       "      <td>2016</td>\n",
       "      <td>3</td>\n",
       "      <td>31</td>\n",
       "      <td>2016</td>\n",
       "      <td>3</td>\n",
       "      <td>31</td>\n",
       "      <td>2016</td>\n",
       "      <td>4</td>\n",
       "      <td>6</td>\n",
       "    </tr>\n",
       "  </tbody>\n",
       "</table>\n",
       "<p>5 rows × 25 columns</p>\n",
       "</div>"
      ],
      "text/plain": [
       "          DateCrawled  Price VehicleType  RegistrationYear Gearbox  Power  \\\n",
       "0 2016-03-24 11:52:17    480         NaN              1993  manual      0   \n",
       "1 2016-03-24 10:58:45  18300       coupe              2011  manual    190   \n",
       "2 2016-03-14 12:52:21   9800         suv              2004    auto    163   \n",
       "3 2016-03-17 16:54:04   1500       small              2001  manual     75   \n",
       "4 2016-03-31 17:25:20   3600       small              2008  manual     69   \n",
       "\n",
       "   Model  Kilometer  RegistrationMonth  FuelType  ...            LastSeen  \\\n",
       "0   golf     150000                  0    petrol  ... 2016-04-07 03:16:57   \n",
       "1    NaN     125000                  5  gasoline  ... 2016-04-07 01:46:50   \n",
       "2  grand     125000                  8  gasoline  ... 2016-04-05 12:47:46   \n",
       "3   golf     150000                  6    petrol  ... 2016-03-17 17:40:17   \n",
       "4  fabia      90000                  7  gasoline  ... 2016-04-06 10:17:21   \n",
       "\n",
       "  y_DateCrawled m_DateCrawled  d_DateCrawled  y_DateCreated m_DateCreated  \\\n",
       "0          2016             3             24           2016             3   \n",
       "1          2016             3             24           2016             3   \n",
       "2          2016             3             14           2016             3   \n",
       "3          2016             3             17           2016             3   \n",
       "4          2016             3             31           2016             3   \n",
       "\n",
       "   d_DateCreated  y_LastSeen  m_LastSeen  d_LastSeen  \n",
       "0             24        2016           4           7  \n",
       "1             24        2016           4           7  \n",
       "2             14        2016           4           5  \n",
       "3             17        2016           3          17  \n",
       "4             31        2016           4           6  \n",
       "\n",
       "[5 rows x 25 columns]"
      ]
     },
     "execution_count": 6,
     "metadata": {},
     "output_type": "execute_result"
    }
   ],
   "source": [
    "columns = ['DateCrawled', 'DateCreated', 'LastSeen']\n",
    "list_year = list()\n",
    "list_month = list()\n",
    "list_day = list()\n",
    "for col in columns:\n",
    "    data[col] = pd.to_datetime(data[col], format='%Y-%m-%d %H:%M:%S')\n",
    "    year = 'y_' + col\n",
    "    month = 'm_' + col\n",
    "    day = 'd_' + col\n",
    "    data[year] = pd.DatetimeIndex(data[col]).year\n",
    "    data[month] = pd.DatetimeIndex(data[col]).month\n",
    "    data[day] = pd.DatetimeIndex(data[col]).day\n",
    "    list_year.append(year)\n",
    "    list_month.append(month)\n",
    "    list_day.append(day)\n",
    "data.head()"
   ]
  },
  {
   "cell_type": "markdown",
   "metadata": {},
   "source": [
    "Заполним пропуски в данных. Ввиду того, что пропуски только в категориальных данных, будем заполнять `unknow`."
   ]
  },
  {
   "cell_type": "code",
   "execution_count": 7,
   "metadata": {},
   "outputs": [
    {
     "data": {
      "text/html": [
       "<div>\n",
       "<style scoped>\n",
       "    .dataframe tbody tr th:only-of-type {\n",
       "        vertical-align: middle;\n",
       "    }\n",
       "\n",
       "    .dataframe tbody tr th {\n",
       "        vertical-align: top;\n",
       "    }\n",
       "\n",
       "    .dataframe thead th {\n",
       "        text-align: right;\n",
       "    }\n",
       "</style>\n",
       "<table border=\"1\" class=\"dataframe\">\n",
       "  <thead>\n",
       "    <tr style=\"text-align: right;\">\n",
       "      <th></th>\n",
       "      <th>DateCrawled</th>\n",
       "      <th>Price</th>\n",
       "      <th>VehicleType</th>\n",
       "      <th>RegistrationYear</th>\n",
       "      <th>Gearbox</th>\n",
       "      <th>Power</th>\n",
       "      <th>Model</th>\n",
       "      <th>Kilometer</th>\n",
       "      <th>RegistrationMonth</th>\n",
       "      <th>FuelType</th>\n",
       "      <th>...</th>\n",
       "      <th>LastSeen</th>\n",
       "      <th>y_DateCrawled</th>\n",
       "      <th>m_DateCrawled</th>\n",
       "      <th>d_DateCrawled</th>\n",
       "      <th>y_DateCreated</th>\n",
       "      <th>m_DateCreated</th>\n",
       "      <th>d_DateCreated</th>\n",
       "      <th>y_LastSeen</th>\n",
       "      <th>m_LastSeen</th>\n",
       "      <th>d_LastSeen</th>\n",
       "    </tr>\n",
       "  </thead>\n",
       "  <tbody>\n",
       "    <tr>\n",
       "      <th>0</th>\n",
       "      <td>2016-03-24 11:52:17</td>\n",
       "      <td>480</td>\n",
       "      <td>unknow</td>\n",
       "      <td>1993</td>\n",
       "      <td>manual</td>\n",
       "      <td>0</td>\n",
       "      <td>golf</td>\n",
       "      <td>150000</td>\n",
       "      <td>0</td>\n",
       "      <td>petrol</td>\n",
       "      <td>...</td>\n",
       "      <td>2016-04-07 03:16:57</td>\n",
       "      <td>2016</td>\n",
       "      <td>3</td>\n",
       "      <td>24</td>\n",
       "      <td>2016</td>\n",
       "      <td>3</td>\n",
       "      <td>24</td>\n",
       "      <td>2016</td>\n",
       "      <td>4</td>\n",
       "      <td>7</td>\n",
       "    </tr>\n",
       "    <tr>\n",
       "      <th>1</th>\n",
       "      <td>2016-03-24 10:58:45</td>\n",
       "      <td>18300</td>\n",
       "      <td>coupe</td>\n",
       "      <td>2011</td>\n",
       "      <td>manual</td>\n",
       "      <td>190</td>\n",
       "      <td>unknow</td>\n",
       "      <td>125000</td>\n",
       "      <td>5</td>\n",
       "      <td>gasoline</td>\n",
       "      <td>...</td>\n",
       "      <td>2016-04-07 01:46:50</td>\n",
       "      <td>2016</td>\n",
       "      <td>3</td>\n",
       "      <td>24</td>\n",
       "      <td>2016</td>\n",
       "      <td>3</td>\n",
       "      <td>24</td>\n",
       "      <td>2016</td>\n",
       "      <td>4</td>\n",
       "      <td>7</td>\n",
       "    </tr>\n",
       "    <tr>\n",
       "      <th>2</th>\n",
       "      <td>2016-03-14 12:52:21</td>\n",
       "      <td>9800</td>\n",
       "      <td>suv</td>\n",
       "      <td>2004</td>\n",
       "      <td>auto</td>\n",
       "      <td>163</td>\n",
       "      <td>grand</td>\n",
       "      <td>125000</td>\n",
       "      <td>8</td>\n",
       "      <td>gasoline</td>\n",
       "      <td>...</td>\n",
       "      <td>2016-04-05 12:47:46</td>\n",
       "      <td>2016</td>\n",
       "      <td>3</td>\n",
       "      <td>14</td>\n",
       "      <td>2016</td>\n",
       "      <td>3</td>\n",
       "      <td>14</td>\n",
       "      <td>2016</td>\n",
       "      <td>4</td>\n",
       "      <td>5</td>\n",
       "    </tr>\n",
       "    <tr>\n",
       "      <th>3</th>\n",
       "      <td>2016-03-17 16:54:04</td>\n",
       "      <td>1500</td>\n",
       "      <td>small</td>\n",
       "      <td>2001</td>\n",
       "      <td>manual</td>\n",
       "      <td>75</td>\n",
       "      <td>golf</td>\n",
       "      <td>150000</td>\n",
       "      <td>6</td>\n",
       "      <td>petrol</td>\n",
       "      <td>...</td>\n",
       "      <td>2016-03-17 17:40:17</td>\n",
       "      <td>2016</td>\n",
       "      <td>3</td>\n",
       "      <td>17</td>\n",
       "      <td>2016</td>\n",
       "      <td>3</td>\n",
       "      <td>17</td>\n",
       "      <td>2016</td>\n",
       "      <td>3</td>\n",
       "      <td>17</td>\n",
       "    </tr>\n",
       "    <tr>\n",
       "      <th>4</th>\n",
       "      <td>2016-03-31 17:25:20</td>\n",
       "      <td>3600</td>\n",
       "      <td>small</td>\n",
       "      <td>2008</td>\n",
       "      <td>manual</td>\n",
       "      <td>69</td>\n",
       "      <td>fabia</td>\n",
       "      <td>90000</td>\n",
       "      <td>7</td>\n",
       "      <td>gasoline</td>\n",
       "      <td>...</td>\n",
       "      <td>2016-04-06 10:17:21</td>\n",
       "      <td>2016</td>\n",
       "      <td>3</td>\n",
       "      <td>31</td>\n",
       "      <td>2016</td>\n",
       "      <td>3</td>\n",
       "      <td>31</td>\n",
       "      <td>2016</td>\n",
       "      <td>4</td>\n",
       "      <td>6</td>\n",
       "    </tr>\n",
       "    <tr>\n",
       "      <th>...</th>\n",
       "      <td>...</td>\n",
       "      <td>...</td>\n",
       "      <td>...</td>\n",
       "      <td>...</td>\n",
       "      <td>...</td>\n",
       "      <td>...</td>\n",
       "      <td>...</td>\n",
       "      <td>...</td>\n",
       "      <td>...</td>\n",
       "      <td>...</td>\n",
       "      <td>...</td>\n",
       "      <td>...</td>\n",
       "      <td>...</td>\n",
       "      <td>...</td>\n",
       "      <td>...</td>\n",
       "      <td>...</td>\n",
       "      <td>...</td>\n",
       "      <td>...</td>\n",
       "      <td>...</td>\n",
       "      <td>...</td>\n",
       "      <td>...</td>\n",
       "    </tr>\n",
       "    <tr>\n",
       "      <th>354364</th>\n",
       "      <td>2016-03-21 09:50:58</td>\n",
       "      <td>0</td>\n",
       "      <td>unknow</td>\n",
       "      <td>2005</td>\n",
       "      <td>manual</td>\n",
       "      <td>0</td>\n",
       "      <td>colt</td>\n",
       "      <td>150000</td>\n",
       "      <td>7</td>\n",
       "      <td>petrol</td>\n",
       "      <td>...</td>\n",
       "      <td>2016-03-21 10:42:49</td>\n",
       "      <td>2016</td>\n",
       "      <td>3</td>\n",
       "      <td>21</td>\n",
       "      <td>2016</td>\n",
       "      <td>3</td>\n",
       "      <td>21</td>\n",
       "      <td>2016</td>\n",
       "      <td>3</td>\n",
       "      <td>21</td>\n",
       "    </tr>\n",
       "    <tr>\n",
       "      <th>354365</th>\n",
       "      <td>2016-03-14 17:48:27</td>\n",
       "      <td>2200</td>\n",
       "      <td>unknow</td>\n",
       "      <td>2005</td>\n",
       "      <td>unknow</td>\n",
       "      <td>0</td>\n",
       "      <td>unknow</td>\n",
       "      <td>20000</td>\n",
       "      <td>1</td>\n",
       "      <td>unknow</td>\n",
       "      <td>...</td>\n",
       "      <td>2016-04-06 00:46:52</td>\n",
       "      <td>2016</td>\n",
       "      <td>3</td>\n",
       "      <td>14</td>\n",
       "      <td>2016</td>\n",
       "      <td>3</td>\n",
       "      <td>14</td>\n",
       "      <td>2016</td>\n",
       "      <td>4</td>\n",
       "      <td>6</td>\n",
       "    </tr>\n",
       "    <tr>\n",
       "      <th>354366</th>\n",
       "      <td>2016-03-05 19:56:21</td>\n",
       "      <td>1199</td>\n",
       "      <td>convertible</td>\n",
       "      <td>2000</td>\n",
       "      <td>auto</td>\n",
       "      <td>101</td>\n",
       "      <td>fortwo</td>\n",
       "      <td>125000</td>\n",
       "      <td>3</td>\n",
       "      <td>petrol</td>\n",
       "      <td>...</td>\n",
       "      <td>2016-03-11 18:17:12</td>\n",
       "      <td>2016</td>\n",
       "      <td>3</td>\n",
       "      <td>5</td>\n",
       "      <td>2016</td>\n",
       "      <td>3</td>\n",
       "      <td>5</td>\n",
       "      <td>2016</td>\n",
       "      <td>3</td>\n",
       "      <td>11</td>\n",
       "    </tr>\n",
       "    <tr>\n",
       "      <th>354367</th>\n",
       "      <td>2016-03-19 18:57:12</td>\n",
       "      <td>9200</td>\n",
       "      <td>bus</td>\n",
       "      <td>1996</td>\n",
       "      <td>manual</td>\n",
       "      <td>102</td>\n",
       "      <td>transporter</td>\n",
       "      <td>150000</td>\n",
       "      <td>3</td>\n",
       "      <td>gasoline</td>\n",
       "      <td>...</td>\n",
       "      <td>2016-04-07 07:15:26</td>\n",
       "      <td>2016</td>\n",
       "      <td>3</td>\n",
       "      <td>19</td>\n",
       "      <td>2016</td>\n",
       "      <td>3</td>\n",
       "      <td>19</td>\n",
       "      <td>2016</td>\n",
       "      <td>4</td>\n",
       "      <td>7</td>\n",
       "    </tr>\n",
       "    <tr>\n",
       "      <th>354368</th>\n",
       "      <td>2016-03-20 19:41:08</td>\n",
       "      <td>3400</td>\n",
       "      <td>wagon</td>\n",
       "      <td>2002</td>\n",
       "      <td>manual</td>\n",
       "      <td>100</td>\n",
       "      <td>golf</td>\n",
       "      <td>150000</td>\n",
       "      <td>6</td>\n",
       "      <td>gasoline</td>\n",
       "      <td>...</td>\n",
       "      <td>2016-03-24 12:45:21</td>\n",
       "      <td>2016</td>\n",
       "      <td>3</td>\n",
       "      <td>20</td>\n",
       "      <td>2016</td>\n",
       "      <td>3</td>\n",
       "      <td>20</td>\n",
       "      <td>2016</td>\n",
       "      <td>3</td>\n",
       "      <td>24</td>\n",
       "    </tr>\n",
       "  </tbody>\n",
       "</table>\n",
       "<p>354369 rows × 25 columns</p>\n",
       "</div>"
      ],
      "text/plain": [
       "               DateCrawled  Price  VehicleType  RegistrationYear Gearbox  \\\n",
       "0      2016-03-24 11:52:17    480       unknow              1993  manual   \n",
       "1      2016-03-24 10:58:45  18300        coupe              2011  manual   \n",
       "2      2016-03-14 12:52:21   9800          suv              2004    auto   \n",
       "3      2016-03-17 16:54:04   1500        small              2001  manual   \n",
       "4      2016-03-31 17:25:20   3600        small              2008  manual   \n",
       "...                    ...    ...          ...               ...     ...   \n",
       "354364 2016-03-21 09:50:58      0       unknow              2005  manual   \n",
       "354365 2016-03-14 17:48:27   2200       unknow              2005  unknow   \n",
       "354366 2016-03-05 19:56:21   1199  convertible              2000    auto   \n",
       "354367 2016-03-19 18:57:12   9200          bus              1996  manual   \n",
       "354368 2016-03-20 19:41:08   3400        wagon              2002  manual   \n",
       "\n",
       "        Power        Model  Kilometer  RegistrationMonth  FuelType  ...  \\\n",
       "0           0         golf     150000                  0    petrol  ...   \n",
       "1         190       unknow     125000                  5  gasoline  ...   \n",
       "2         163        grand     125000                  8  gasoline  ...   \n",
       "3          75         golf     150000                  6    petrol  ...   \n",
       "4          69        fabia      90000                  7  gasoline  ...   \n",
       "...       ...          ...        ...                ...       ...  ...   \n",
       "354364      0         colt     150000                  7    petrol  ...   \n",
       "354365      0       unknow      20000                  1    unknow  ...   \n",
       "354366    101       fortwo     125000                  3    petrol  ...   \n",
       "354367    102  transporter     150000                  3  gasoline  ...   \n",
       "354368    100         golf     150000                  6  gasoline  ...   \n",
       "\n",
       "                  LastSeen y_DateCrawled m_DateCrawled  d_DateCrawled  \\\n",
       "0      2016-04-07 03:16:57          2016             3             24   \n",
       "1      2016-04-07 01:46:50          2016             3             24   \n",
       "2      2016-04-05 12:47:46          2016             3             14   \n",
       "3      2016-03-17 17:40:17          2016             3             17   \n",
       "4      2016-04-06 10:17:21          2016             3             31   \n",
       "...                    ...           ...           ...            ...   \n",
       "354364 2016-03-21 10:42:49          2016             3             21   \n",
       "354365 2016-04-06 00:46:52          2016             3             14   \n",
       "354366 2016-03-11 18:17:12          2016             3              5   \n",
       "354367 2016-04-07 07:15:26          2016             3             19   \n",
       "354368 2016-03-24 12:45:21          2016             3             20   \n",
       "\n",
       "        y_DateCreated m_DateCreated  d_DateCreated  y_LastSeen  m_LastSeen  \\\n",
       "0                2016             3             24        2016           4   \n",
       "1                2016             3             24        2016           4   \n",
       "2                2016             3             14        2016           4   \n",
       "3                2016             3             17        2016           3   \n",
       "4                2016             3             31        2016           4   \n",
       "...               ...           ...            ...         ...         ...   \n",
       "354364           2016             3             21        2016           3   \n",
       "354365           2016             3             14        2016           4   \n",
       "354366           2016             3              5        2016           3   \n",
       "354367           2016             3             19        2016           4   \n",
       "354368           2016             3             20        2016           3   \n",
       "\n",
       "        d_LastSeen  \n",
       "0                7  \n",
       "1                7  \n",
       "2                5  \n",
       "3               17  \n",
       "4                6  \n",
       "...            ...  \n",
       "354364          21  \n",
       "354365           6  \n",
       "354366          11  \n",
       "354367           7  \n",
       "354368          24  \n",
       "\n",
       "[354369 rows x 25 columns]"
      ]
     },
     "execution_count": 7,
     "metadata": {},
     "output_type": "execute_result"
    }
   ],
   "source": [
    "columns_nan = ['VehicleType', 'Gearbox', 'Model', 'FuelType', 'NotRepaired']\n",
    "for col in columns_nan:\n",
    "    data[col] = data[col].fillna('unknow')\n",
    "data"
   ]
  },
  {
   "cell_type": "markdown",
   "metadata": {},
   "source": [
    "### Анализ данных"
   ]
  },
  {
   "cell_type": "markdown",
   "metadata": {},
   "source": [
    "Перед обучением моделей, убедимся, что все данные, которые есть в датасете валидны, а так же, что в том, что в данных нет выбросов, которые могут повлиять на качество модели.\n",
    "\n",
    "Для начала посмотрим, как распределены данных по датам."
   ]
  },
  {
   "cell_type": "code",
   "execution_count": 8,
   "metadata": {},
   "outputs": [
    {
     "data": {
      "image/png": "[encoded data removed]",
      "text/plain": [
       "<Figure size 792x648 with 1 Axes>"
      ]
     },
     "metadata": {
      "needs_background": "light"
     },
     "output_type": "display_data"
    },
    {
     "data": {
      "image/png": "[encoded data removed]",
      "text/plain": [
       "<Figure size 792x648 with 1 Axes>"
      ]
     },
     "metadata": {
      "needs_background": "light"
     },
     "output_type": "display_data"
    },
    {
     "data": {
      "image/png": "[encoded data removed]",
      "text/plain": [
       "<Figure size 792x648 with 1 Axes>"
      ]
     },
     "metadata": {
      "needs_background": "light"
     },
     "output_type": "display_data"
    }
   ],
   "source": [
    "list_columns_date = [list_year, list_month, list_day]\n",
    "for col in list_columns_date:\n",
    "    fig, ax1 = plt.subplots(figsize=(11,9))\n",
    "    plt.title(str(col))\n",
    "    plt.grid()\n",
    "    sns.histplot(data[col], discrete=True, stat=\"density\", common_norm=False, alpha=0.5, ax=ax1)\n",
    "    "
   ]
  },
  {
   "cell_type": "markdown",
   "metadata": {},
   "source": [
    "Отметим, что все данные от 2016 года. В нашем случае, когда проверка моделей будет осуществляться на части имеющихся данных, столбцы с годами можно удалить, дабы уменьшить загрузку машины.\n",
    "\n",
    "Так же, можно отметить выброс в активности пользователей в разбивке по дням."
   ]
  },
  {
   "cell_type": "markdown",
   "metadata": {},
   "source": [
    "Ознакомимся с числовыми данными."
   ]
  },
  {
   "cell_type": "code",
   "execution_count": 9,
   "metadata": {},
   "outputs": [
    {
     "name": "stdout",
     "output_type": "stream",
     "text": [
      "RegistrationYear\n",
      "\n",
      "count    354369.00\n",
      "mean       2004.23\n",
      "std          90.23\n",
      "min        1000.00\n",
      "25%        1999.00\n",
      "50%        2003.00\n",
      "75%        2008.00\n",
      "max        9999.00\n",
      "Name: RegistrationYear, dtype: float64\n",
      "\n",
      "RegistrationMonth\n",
      "\n",
      "count    354369.00\n",
      "mean          5.71\n",
      "std           3.73\n",
      "min           0.00\n",
      "25%           3.00\n",
      "50%           6.00\n",
      "75%           9.00\n",
      "max          12.00\n",
      "Name: RegistrationMonth, dtype: float64\n",
      "\n",
      "Price\n",
      "\n",
      "count    354369.00\n",
      "mean       4416.66\n",
      "std        4514.16\n",
      "min           0.00\n",
      "25%        1050.00\n",
      "50%        2700.00\n",
      "75%        6400.00\n",
      "max       20000.00\n",
      "Name: Price, dtype: float64\n",
      "\n",
      "Kilometer\n",
      "\n",
      "count    354369.00\n",
      "mean     128211.17\n",
      "std       37905.34\n",
      "min        5000.00\n",
      "25%      125000.00\n",
      "50%      150000.00\n",
      "75%      150000.00\n",
      "max      150000.00\n",
      "Name: Kilometer, dtype: float64\n",
      "\n",
      "NumberOfPictures\n",
      "\n",
      "count    354369.0\n",
      "mean          0.0\n",
      "std           0.0\n",
      "min           0.0\n",
      "25%           0.0\n",
      "50%           0.0\n",
      "75%           0.0\n",
      "max           0.0\n",
      "Name: NumberOfPictures, dtype: float64\n",
      "\n",
      "Power\n",
      "\n",
      "count    354369.00\n",
      "mean        110.09\n",
      "std         189.85\n",
      "min           0.00\n",
      "25%          69.00\n",
      "50%         105.00\n",
      "75%         143.00\n",
      "max       20000.00\n",
      "Name: Power, dtype: float64\n",
      "\n"
     ]
    }
   ],
   "source": [
    "list_numeric_col = ['RegistrationYear', 'RegistrationMonth', 'Price', 'Kilometer', 'NumberOfPictures', 'Power']\n",
    "list_numeric_lim = [(1900,2020), (0,12), (0,20000), (0, 200000), (0,5), (0, 3000)]\n",
    "for col in list_numeric_col:\n",
    "    print(col)\n",
    "    print()\n",
    "    print(data[col].describe())\n",
    "    print()"
   ]
  },
  {
   "cell_type": "code",
   "execution_count": 10,
   "metadata": {
    "scrolled": false
   },
   "outputs": [
    {
     "name": "stderr",
     "output_type": "stream",
     "text": [
      "/opt/conda/lib/python3.9/site-packages/seaborn/_decorators.py:36: FutureWarning: Pass the following variable as a keyword arg: x. From version 0.12, the only valid positional argument will be `data`, and passing other arguments without an explicit keyword will result in an error or misinterpretation.\n",
      "  warnings.warn(\n",
      "/opt/conda/lib/python3.9/site-packages/seaborn/_decorators.py:36: FutureWarning: Pass the following variable as a keyword arg: x. From version 0.12, the only valid positional argument will be `data`, and passing other arguments without an explicit keyword will result in an error or misinterpretation.\n",
      "  warnings.warn(\n",
      "/opt/conda/lib/python3.9/site-packages/seaborn/_decorators.py:36: FutureWarning: Pass the following variable as a keyword arg: x. From version 0.12, the only valid positional argument will be `data`, and passing other arguments without an explicit keyword will result in an error or misinterpretation.\n",
      "  warnings.warn(\n",
      "/opt/conda/lib/python3.9/site-packages/seaborn/_decorators.py:36: FutureWarning: Pass the following variable as a keyword arg: x. From version 0.12, the only valid positional argument will be `data`, and passing other arguments without an explicit keyword will result in an error or misinterpretation.\n",
      "  warnings.warn(\n",
      "/opt/conda/lib/python3.9/site-packages/seaborn/_decorators.py:36: FutureWarning: Pass the following variable as a keyword arg: x. From version 0.12, the only valid positional argument will be `data`, and passing other arguments without an explicit keyword will result in an error or misinterpretation.\n",
      "  warnings.warn(\n",
      "/opt/conda/lib/python3.9/site-packages/seaborn/_decorators.py:36: FutureWarning: Pass the following variable as a keyword arg: x. From version 0.12, the only valid positional argument will be `data`, and passing other arguments without an explicit keyword will result in an error or misinterpretation.\n",
      "  warnings.warn(\n"
     ]
    },
    {
     "data": {
      "image/png": "[encoded data removed]",
      "text/plain": [
       "<Figure size 648x504 with 1 Axes>"
      ]
     },
     "metadata": {
      "needs_background": "light"
     },
     "output_type": "display_data"
    },
    {
     "data": {
      "image/png": "[encoded data removed]",
      "text/plain": [
       "<Figure size 648x504 with 1 Axes>"
      ]
     },
     "metadata": {
      "needs_background": "light"
     },
     "output_type": "display_data"
    },
    {
     "data": {
      "image/png": "[encoded data removed]",
      "text/plain": [
       "<Figure size 648x504 with 1 Axes>"
      ]
     },
     "metadata": {
      "needs_background": "light"
     },
     "output_type": "display_data"
    },
    {
     "data": {
      "image/png": "[encoded data removed]",
      "text/plain": [
       "<Figure size 648x504 with 1 Axes>"
      ]
     },
     "metadata": {
      "needs_background": "light"
     },
     "output_type": "display_data"
    },
    {
     "data": {
      "image/png": "[encoded data removed]",
      "text/plain": [
       "<Figure size 648x504 with 1 Axes>"
      ]
     },
     "metadata": {
      "needs_background": "light"
     },
     "output_type": "display_data"
    },
    {
     "data": {
      "image/png": "[encoded data removed]",
      "text/plain": [
       "<Figure size 648x504 with 1 Axes>"
      ]
     },
     "metadata": {
      "needs_background": "light"
     },
     "output_type": "display_data"
    }
   ],
   "source": [
    "for col, lim in zip(list_numeric_col, list_numeric_lim):\n",
    "    fig, ax1 = plt.subplots(figsize=(9,7))\n",
    "    plt.title(str(col))\n",
    "    plt.grid()\n",
    "    plt.xlim(lim)\n",
    "    sns.boxplot(data[col], ax=ax1)"
   ]
  },
  {
   "cell_type": "markdown",
   "metadata": {},
   "source": [
    "Беглое ознакомление показало, что есть выбросы и просто не валидные строки, например `RegistrationMonth` = 0.\n",
    "Так же обращают на себя внимание следующие выбросы:\n",
    "\n",
    "- `Power` = 0 и `Power` > 270;\n",
    "- `Price` = 0;\n",
    "- 1985 > `RegistrationYear` > 2016;\n",
    "\n",
    "Все эти выбросы могут ухудшить качество модели. Следует исследовать их влияние.\n",
    "\n",
    "На основе числового исследование данных, ознакомимся с данными и графически."
   ]
  },
  {
   "cell_type": "code",
   "execution_count": 11,
   "metadata": {
    "scrolled": false
   },
   "outputs": [
    {
     "data": {
      "image/png": "[encoded data removed]",
      "text/plain": [
       "<Figure size 792x648 with 1 Axes>"
      ]
     },
     "metadata": {
      "needs_background": "light"
     },
     "output_type": "display_data"
    },
    {
     "data": {
      "image/png": "[encoded data removed]",
      "text/plain": [
       "<Figure size 792x648 with 1 Axes>"
      ]
     },
     "metadata": {
      "needs_background": "light"
     },
     "output_type": "display_data"
    },
    {
     "data": {
      "image/png": "[encoded data removed]",
      "text/plain": [
       "<Figure size 792x648 with 1 Axes>"
      ]
     },
     "metadata": {
      "needs_background": "light"
     },
     "output_type": "display_data"
    },
    {
     "data": {
      "image/png": "[encoded data removed]",
      "text/plain": [
       "<Figure size 792x648 with 1 Axes>"
      ]
     },
     "metadata": {
      "needs_background": "light"
     },
     "output_type": "display_data"
    }
   ],
   "source": [
    "list_numeric_col = ['Price', 'Kilometer', 'Power', 'RegistrationYear']\n",
    "bins_list = [\n",
    "    [i for i in range(0,25000, 1000)],\n",
    "    [i for i in range(0,200000, 15000)],\n",
    "    [i for i in range(0, 200, 10)],\n",
    "    [i for i in range(1960, 2017,3)]]\n",
    "for col, bb in zip(list_numeric_col, bins_list):\n",
    "    fig, ax1 = plt.subplots(figsize=(11,9))\n",
    "    plt.title('Распределение данных')\n",
    "    plt.grid()\n",
    "    sns.histplot(data[col], ax=ax1, bins=bb)"
   ]
  },
  {
   "cell_type": "markdown",
   "metadata": {},
   "source": [
    "В целом, все данные в порядке и распределены нормально (некоторые со смещением). Однако, имеется большой выброс `Power` = 0."
   ]
  },
  {
   "cell_type": "markdown",
   "metadata": {},
   "source": [
    "Теперь посмотрим на категориальные данные."
   ]
  },
  {
   "cell_type": "code",
   "execution_count": 12,
   "metadata": {
    "scrolled": false
   },
   "outputs": [
    {
     "data": {
      "image/png": "[encoded data removed]",
      "text/plain": [
       "<Figure size 864x648 with 1 Axes>"
      ]
     },
     "metadata": {
      "needs_background": "light"
     },
     "output_type": "display_data"
    },
    {
     "data": {
      "image/png": "[encoded data removed]",
      "text/plain": [
       "<Figure size 864x648 with 1 Axes>"
      ]
     },
     "metadata": {
      "needs_background": "light"
     },
     "output_type": "display_data"
    },
    {
     "data": {
      "image/png": "[encoded data removed]",
      "text/plain": [
       "<Figure size 864x648 with 1 Axes>"
      ]
     },
     "metadata": {
      "needs_background": "light"
     },
     "output_type": "display_data"
    },
    {
     "data": {
      "image/png": "[encoded data removed]",
      "text/plain": [
       "<Figure size 864x1800 with 1 Axes>"
      ]
     },
     "metadata": {
      "needs_background": "light"
     },
     "output_type": "display_data"
    },
    {
     "data": {
      "image/png": "[encoded data removed]",
      "text/plain": [
       "<Figure size 864x1800 with 1 Axes>"
      ]
     },
     "metadata": {
      "needs_background": "light"
     },
     "output_type": "display_data"
    }
   ],
   "source": [
    "list_cat1 = ['VehicleType', 'Gearbox', 'FuelType']\n",
    "for col in list_cat1:\n",
    "    fig, ax1 = plt.subplots(figsize = (12,9))\n",
    "    plt.grid()\n",
    "    plt.title('Распределение данных')\n",
    "    sns.barplot(data=data,\n",
    "                y=list(data[col].value_counts().index),\n",
    "                x=data[col].value_counts(), ax=ax1)\n",
    "\n",
    "list_cat2 = ['Model', 'Brand']\n",
    "for col in list_cat2:\n",
    "    fig, ax1 = plt.subplots(figsize = (12,25))\n",
    "    plt.grid()\n",
    "    plt.title('Распределение данных')\n",
    "    sns.barplot(data=data,\n",
    "                y=list(data[col].value_counts()[data[col].value_counts() > 1000].index),\n",
    "                x=data[col].value_counts()[data[col].value_counts() > 1000], ax=ax1)"
   ]
  },
  {
   "cell_type": "markdown",
   "metadata": {},
   "source": [
    "Здесь замечаний нет.\n",
    "\n",
    "Посмотрим, сколько строк с данными, которые мы определили как выброс, имеется в датасете."
   ]
  },
  {
   "cell_type": "code",
   "execution_count": 13,
   "metadata": {},
   "outputs": [
    {
     "data": {
      "text/html": [
       "<div>\n",
       "<style scoped>\n",
       "    .dataframe tbody tr th:only-of-type {\n",
       "        vertical-align: middle;\n",
       "    }\n",
       "\n",
       "    .dataframe tbody tr th {\n",
       "        vertical-align: top;\n",
       "    }\n",
       "\n",
       "    .dataframe thead th {\n",
       "        text-align: right;\n",
       "    }\n",
       "</style>\n",
       "<table border=\"1\" class=\"dataframe\">\n",
       "  <thead>\n",
       "    <tr style=\"text-align: right;\">\n",
       "      <th></th>\n",
       "      <th>DateCrawled</th>\n",
       "      <th>Price</th>\n",
       "      <th>VehicleType</th>\n",
       "      <th>RegistrationYear</th>\n",
       "      <th>Gearbox</th>\n",
       "      <th>Power</th>\n",
       "      <th>Model</th>\n",
       "      <th>Kilometer</th>\n",
       "      <th>RegistrationMonth</th>\n",
       "      <th>FuelType</th>\n",
       "      <th>...</th>\n",
       "      <th>LastSeen</th>\n",
       "      <th>y_DateCrawled</th>\n",
       "      <th>m_DateCrawled</th>\n",
       "      <th>d_DateCrawled</th>\n",
       "      <th>y_DateCreated</th>\n",
       "      <th>m_DateCreated</th>\n",
       "      <th>d_DateCreated</th>\n",
       "      <th>y_LastSeen</th>\n",
       "      <th>m_LastSeen</th>\n",
       "      <th>d_LastSeen</th>\n",
       "    </tr>\n",
       "  </thead>\n",
       "  <tbody>\n",
       "    <tr>\n",
       "      <th>0</th>\n",
       "      <td>2016-03-24 11:52:17</td>\n",
       "      <td>480</td>\n",
       "      <td>unknow</td>\n",
       "      <td>1993</td>\n",
       "      <td>manual</td>\n",
       "      <td>0</td>\n",
       "      <td>golf</td>\n",
       "      <td>150000</td>\n",
       "      <td>0</td>\n",
       "      <td>petrol</td>\n",
       "      <td>...</td>\n",
       "      <td>2016-04-07 03:16:57</td>\n",
       "      <td>2016</td>\n",
       "      <td>3</td>\n",
       "      <td>24</td>\n",
       "      <td>2016</td>\n",
       "      <td>3</td>\n",
       "      <td>24</td>\n",
       "      <td>2016</td>\n",
       "      <td>4</td>\n",
       "      <td>7</td>\n",
       "    </tr>\n",
       "    <tr>\n",
       "      <th>7</th>\n",
       "      <td>2016-03-21 18:54:38</td>\n",
       "      <td>0</td>\n",
       "      <td>sedan</td>\n",
       "      <td>1980</td>\n",
       "      <td>manual</td>\n",
       "      <td>50</td>\n",
       "      <td>other</td>\n",
       "      <td>40000</td>\n",
       "      <td>7</td>\n",
       "      <td>petrol</td>\n",
       "      <td>...</td>\n",
       "      <td>2016-03-25 16:47:58</td>\n",
       "      <td>2016</td>\n",
       "      <td>3</td>\n",
       "      <td>21</td>\n",
       "      <td>2016</td>\n",
       "      <td>3</td>\n",
       "      <td>21</td>\n",
       "      <td>2016</td>\n",
       "      <td>3</td>\n",
       "      <td>25</td>\n",
       "    </tr>\n",
       "    <tr>\n",
       "      <th>9</th>\n",
       "      <td>2016-03-17 10:53:50</td>\n",
       "      <td>999</td>\n",
       "      <td>small</td>\n",
       "      <td>1998</td>\n",
       "      <td>manual</td>\n",
       "      <td>101</td>\n",
       "      <td>golf</td>\n",
       "      <td>150000</td>\n",
       "      <td>0</td>\n",
       "      <td>unknow</td>\n",
       "      <td>...</td>\n",
       "      <td>2016-03-31 17:17:06</td>\n",
       "      <td>2016</td>\n",
       "      <td>3</td>\n",
       "      <td>17</td>\n",
       "      <td>2016</td>\n",
       "      <td>3</td>\n",
       "      <td>17</td>\n",
       "      <td>2016</td>\n",
       "      <td>3</td>\n",
       "      <td>31</td>\n",
       "    </tr>\n",
       "    <tr>\n",
       "      <th>15</th>\n",
       "      <td>2016-03-11 21:39:15</td>\n",
       "      <td>450</td>\n",
       "      <td>small</td>\n",
       "      <td>1910</td>\n",
       "      <td>unknow</td>\n",
       "      <td>0</td>\n",
       "      <td>ka</td>\n",
       "      <td>5000</td>\n",
       "      <td>0</td>\n",
       "      <td>petrol</td>\n",
       "      <td>...</td>\n",
       "      <td>2016-03-19 08:46:47</td>\n",
       "      <td>2016</td>\n",
       "      <td>3</td>\n",
       "      <td>11</td>\n",
       "      <td>2016</td>\n",
       "      <td>3</td>\n",
       "      <td>11</td>\n",
       "      <td>2016</td>\n",
       "      <td>3</td>\n",
       "      <td>19</td>\n",
       "    </tr>\n",
       "    <tr>\n",
       "      <th>16</th>\n",
       "      <td>2016-04-01 12:46:46</td>\n",
       "      <td>300</td>\n",
       "      <td>unknow</td>\n",
       "      <td>2016</td>\n",
       "      <td>unknow</td>\n",
       "      <td>60</td>\n",
       "      <td>polo</td>\n",
       "      <td>150000</td>\n",
       "      <td>0</td>\n",
       "      <td>petrol</td>\n",
       "      <td>...</td>\n",
       "      <td>2016-04-01 12:46:46</td>\n",
       "      <td>2016</td>\n",
       "      <td>4</td>\n",
       "      <td>1</td>\n",
       "      <td>2016</td>\n",
       "      <td>4</td>\n",
       "      <td>1</td>\n",
       "      <td>2016</td>\n",
       "      <td>4</td>\n",
       "      <td>1</td>\n",
       "    </tr>\n",
       "    <tr>\n",
       "      <th>...</th>\n",
       "      <td>...</td>\n",
       "      <td>...</td>\n",
       "      <td>...</td>\n",
       "      <td>...</td>\n",
       "      <td>...</td>\n",
       "      <td>...</td>\n",
       "      <td>...</td>\n",
       "      <td>...</td>\n",
       "      <td>...</td>\n",
       "      <td>...</td>\n",
       "      <td>...</td>\n",
       "      <td>...</td>\n",
       "      <td>...</td>\n",
       "      <td>...</td>\n",
       "      <td>...</td>\n",
       "      <td>...</td>\n",
       "      <td>...</td>\n",
       "      <td>...</td>\n",
       "      <td>...</td>\n",
       "      <td>...</td>\n",
       "      <td>...</td>\n",
       "    </tr>\n",
       "    <tr>\n",
       "      <th>354338</th>\n",
       "      <td>2016-03-31 19:52:33</td>\n",
       "      <td>180</td>\n",
       "      <td>unknow</td>\n",
       "      <td>1995</td>\n",
       "      <td>unknow</td>\n",
       "      <td>0</td>\n",
       "      <td>unknow</td>\n",
       "      <td>125000</td>\n",
       "      <td>3</td>\n",
       "      <td>petrol</td>\n",
       "      <td>...</td>\n",
       "      <td>2016-04-06 14:18:04</td>\n",
       "      <td>2016</td>\n",
       "      <td>3</td>\n",
       "      <td>31</td>\n",
       "      <td>2016</td>\n",
       "      <td>3</td>\n",
       "      <td>31</td>\n",
       "      <td>2016</td>\n",
       "      <td>4</td>\n",
       "      <td>6</td>\n",
       "    </tr>\n",
       "    <tr>\n",
       "      <th>354346</th>\n",
       "      <td>2016-03-07 17:06:35</td>\n",
       "      <td>2600</td>\n",
       "      <td>unknow</td>\n",
       "      <td>2005</td>\n",
       "      <td>auto</td>\n",
       "      <td>0</td>\n",
       "      <td>c_klasse</td>\n",
       "      <td>150000</td>\n",
       "      <td>9</td>\n",
       "      <td>unknow</td>\n",
       "      <td>...</td>\n",
       "      <td>2016-03-08 21:28:38</td>\n",
       "      <td>2016</td>\n",
       "      <td>3</td>\n",
       "      <td>7</td>\n",
       "      <td>2016</td>\n",
       "      <td>3</td>\n",
       "      <td>7</td>\n",
       "      <td>2016</td>\n",
       "      <td>3</td>\n",
       "      <td>8</td>\n",
       "    </tr>\n",
       "    <tr>\n",
       "      <th>354363</th>\n",
       "      <td>2016-03-27 20:36:20</td>\n",
       "      <td>1150</td>\n",
       "      <td>bus</td>\n",
       "      <td>2000</td>\n",
       "      <td>manual</td>\n",
       "      <td>0</td>\n",
       "      <td>zafira</td>\n",
       "      <td>150000</td>\n",
       "      <td>3</td>\n",
       "      <td>petrol</td>\n",
       "      <td>...</td>\n",
       "      <td>2016-03-29 10:17:23</td>\n",
       "      <td>2016</td>\n",
       "      <td>3</td>\n",
       "      <td>27</td>\n",
       "      <td>2016</td>\n",
       "      <td>3</td>\n",
       "      <td>27</td>\n",
       "      <td>2016</td>\n",
       "      <td>3</td>\n",
       "      <td>29</td>\n",
       "    </tr>\n",
       "    <tr>\n",
       "      <th>354364</th>\n",
       "      <td>2016-03-21 09:50:58</td>\n",
       "      <td>0</td>\n",
       "      <td>unknow</td>\n",
       "      <td>2005</td>\n",
       "      <td>manual</td>\n",
       "      <td>0</td>\n",
       "      <td>colt</td>\n",
       "      <td>150000</td>\n",
       "      <td>7</td>\n",
       "      <td>petrol</td>\n",
       "      <td>...</td>\n",
       "      <td>2016-03-21 10:42:49</td>\n",
       "      <td>2016</td>\n",
       "      <td>3</td>\n",
       "      <td>21</td>\n",
       "      <td>2016</td>\n",
       "      <td>3</td>\n",
       "      <td>21</td>\n",
       "      <td>2016</td>\n",
       "      <td>3</td>\n",
       "      <td>21</td>\n",
       "    </tr>\n",
       "    <tr>\n",
       "      <th>354365</th>\n",
       "      <td>2016-03-14 17:48:27</td>\n",
       "      <td>2200</td>\n",
       "      <td>unknow</td>\n",
       "      <td>2005</td>\n",
       "      <td>unknow</td>\n",
       "      <td>0</td>\n",
       "      <td>unknow</td>\n",
       "      <td>20000</td>\n",
       "      <td>1</td>\n",
       "      <td>unknow</td>\n",
       "      <td>...</td>\n",
       "      <td>2016-04-06 00:46:52</td>\n",
       "      <td>2016</td>\n",
       "      <td>3</td>\n",
       "      <td>14</td>\n",
       "      <td>2016</td>\n",
       "      <td>3</td>\n",
       "      <td>14</td>\n",
       "      <td>2016</td>\n",
       "      <td>4</td>\n",
       "      <td>6</td>\n",
       "    </tr>\n",
       "  </tbody>\n",
       "</table>\n",
       "<p>84237 rows × 25 columns</p>\n",
       "</div>"
      ],
      "text/plain": [
       "               DateCrawled  Price VehicleType  RegistrationYear Gearbox  \\\n",
       "0      2016-03-24 11:52:17    480      unknow              1993  manual   \n",
       "7      2016-03-21 18:54:38      0       sedan              1980  manual   \n",
       "9      2016-03-17 10:53:50    999       small              1998  manual   \n",
       "15     2016-03-11 21:39:15    450       small              1910  unknow   \n",
       "16     2016-04-01 12:46:46    300      unknow              2016  unknow   \n",
       "...                    ...    ...         ...               ...     ...   \n",
       "354338 2016-03-31 19:52:33    180      unknow              1995  unknow   \n",
       "354346 2016-03-07 17:06:35   2600      unknow              2005    auto   \n",
       "354363 2016-03-27 20:36:20   1150         bus              2000  manual   \n",
       "354364 2016-03-21 09:50:58      0      unknow              2005  manual   \n",
       "354365 2016-03-14 17:48:27   2200      unknow              2005  unknow   \n",
       "\n",
       "        Power     Model  Kilometer  RegistrationMonth FuelType  ...  \\\n",
       "0           0      golf     150000                  0   petrol  ...   \n",
       "7          50     other      40000                  7   petrol  ...   \n",
       "9         101      golf     150000                  0   unknow  ...   \n",
       "15          0        ka       5000                  0   petrol  ...   \n",
       "16         60      polo     150000                  0   petrol  ...   \n",
       "...       ...       ...        ...                ...      ...  ...   \n",
       "354338      0    unknow     125000                  3   petrol  ...   \n",
       "354346      0  c_klasse     150000                  9   unknow  ...   \n",
       "354363      0    zafira     150000                  3   petrol  ...   \n",
       "354364      0      colt     150000                  7   petrol  ...   \n",
       "354365      0    unknow      20000                  1   unknow  ...   \n",
       "\n",
       "                  LastSeen y_DateCrawled m_DateCrawled  d_DateCrawled  \\\n",
       "0      2016-04-07 03:16:57          2016             3             24   \n",
       "7      2016-03-25 16:47:58          2016             3             21   \n",
       "9      2016-03-31 17:17:06          2016             3             17   \n",
       "15     2016-03-19 08:46:47          2016             3             11   \n",
       "16     2016-04-01 12:46:46          2016             4              1   \n",
       "...                    ...           ...           ...            ...   \n",
       "354338 2016-04-06 14:18:04          2016             3             31   \n",
       "354346 2016-03-08 21:28:38          2016             3              7   \n",
       "354363 2016-03-29 10:17:23          2016             3             27   \n",
       "354364 2016-03-21 10:42:49          2016             3             21   \n",
       "354365 2016-04-06 00:46:52          2016             3             14   \n",
       "\n",
       "        y_DateCreated m_DateCreated  d_DateCreated  y_LastSeen  m_LastSeen  \\\n",
       "0                2016             3             24        2016           4   \n",
       "7                2016             3             21        2016           3   \n",
       "9                2016             3             17        2016           3   \n",
       "15               2016             3             11        2016           3   \n",
       "16               2016             4              1        2016           4   \n",
       "...               ...           ...            ...         ...         ...   \n",
       "354338           2016             3             31        2016           4   \n",
       "354346           2016             3              7        2016           3   \n",
       "354363           2016             3             27        2016           3   \n",
       "354364           2016             3             21        2016           3   \n",
       "354365           2016             3             14        2016           4   \n",
       "\n",
       "        d_LastSeen  \n",
       "0                7  \n",
       "7               25  \n",
       "9               31  \n",
       "15              19  \n",
       "16               1  \n",
       "...            ...  \n",
       "354338           6  \n",
       "354346           8  \n",
       "354363          29  \n",
       "354364          21  \n",
       "354365           6  \n",
       "\n",
       "[84237 rows x 25 columns]"
      ]
     },
     "metadata": {},
     "output_type": "display_data"
    },
    {
     "name": "stdout",
     "output_type": "stream",
     "text": [
      "Доля строк с выбросами: 0.2377098448227695\n"
     ]
    }
   ],
   "source": [
    "display(data.query(\n",
    "'Power == 0 or RegistrationMonth == 0 or Price == 0 or RegistrationYear < 1985 or RegistrationYear > 2016 or Power > 270'))\n",
    "print('Доля строк с выбросами:', \n",
    "      data.query(\n",
    "'Power == 0 or RegistrationMonth == 0 or Price == 0 or RegistrationYear < 1985 or RegistrationYear > 2016 or Power > 270').shape[0] / data.shape[0])"
   ]
  },
  {
   "cell_type": "markdown",
   "metadata": {},
   "source": [
    "Почти 20%. Уменьшение исходной выборки на такую долю не желательно, но выбросы могут сильно влиять на результат. Поэтому на следубщем этапе посмотрим, насколько сильно различается качество моделей при обучение на выборке с выбросами и без них."
   ]
  },
  {
   "cell_type": "markdown",
   "metadata": {},
   "source": [
    "Удалим столбцы, данные в которых не влияют на цену."
   ]
  },
  {
   "cell_type": "code",
   "execution_count": 14,
   "metadata": {},
   "outputs": [
    {
     "data": {
      "text/html": [
       "<div>\n",
       "<style scoped>\n",
       "    .dataframe tbody tr th:only-of-type {\n",
       "        vertical-align: middle;\n",
       "    }\n",
       "\n",
       "    .dataframe tbody tr th {\n",
       "        vertical-align: top;\n",
       "    }\n",
       "\n",
       "    .dataframe thead th {\n",
       "        text-align: right;\n",
       "    }\n",
       "</style>\n",
       "<table border=\"1\" class=\"dataframe\">\n",
       "  <thead>\n",
       "    <tr style=\"text-align: right;\">\n",
       "      <th></th>\n",
       "      <th>Price</th>\n",
       "      <th>VehicleType</th>\n",
       "      <th>RegistrationYear</th>\n",
       "      <th>Gearbox</th>\n",
       "      <th>Power</th>\n",
       "      <th>Model</th>\n",
       "      <th>Kilometer</th>\n",
       "      <th>RegistrationMonth</th>\n",
       "      <th>FuelType</th>\n",
       "      <th>Brand</th>\n",
       "      <th>NotRepaired</th>\n",
       "      <th>m_DateCrawled</th>\n",
       "      <th>d_DateCrawled</th>\n",
       "      <th>m_DateCreated</th>\n",
       "      <th>d_DateCreated</th>\n",
       "    </tr>\n",
       "  </thead>\n",
       "  <tbody>\n",
       "    <tr>\n",
       "      <th>0</th>\n",
       "      <td>480</td>\n",
       "      <td>unknow</td>\n",
       "      <td>1993</td>\n",
       "      <td>manual</td>\n",
       "      <td>0</td>\n",
       "      <td>golf</td>\n",
       "      <td>150000</td>\n",
       "      <td>0</td>\n",
       "      <td>petrol</td>\n",
       "      <td>volkswagen</td>\n",
       "      <td>unknow</td>\n",
       "      <td>3</td>\n",
       "      <td>24</td>\n",
       "      <td>3</td>\n",
       "      <td>24</td>\n",
       "    </tr>\n",
       "    <tr>\n",
       "      <th>1</th>\n",
       "      <td>18300</td>\n",
       "      <td>coupe</td>\n",
       "      <td>2011</td>\n",
       "      <td>manual</td>\n",
       "      <td>190</td>\n",
       "      <td>unknow</td>\n",
       "      <td>125000</td>\n",
       "      <td>5</td>\n",
       "      <td>gasoline</td>\n",
       "      <td>audi</td>\n",
       "      <td>yes</td>\n",
       "      <td>3</td>\n",
       "      <td>24</td>\n",
       "      <td>3</td>\n",
       "      <td>24</td>\n",
       "    </tr>\n",
       "    <tr>\n",
       "      <th>2</th>\n",
       "      <td>9800</td>\n",
       "      <td>suv</td>\n",
       "      <td>2004</td>\n",
       "      <td>auto</td>\n",
       "      <td>163</td>\n",
       "      <td>grand</td>\n",
       "      <td>125000</td>\n",
       "      <td>8</td>\n",
       "      <td>gasoline</td>\n",
       "      <td>jeep</td>\n",
       "      <td>unknow</td>\n",
       "      <td>3</td>\n",
       "      <td>14</td>\n",
       "      <td>3</td>\n",
       "      <td>14</td>\n",
       "    </tr>\n",
       "    <tr>\n",
       "      <th>3</th>\n",
       "      <td>1500</td>\n",
       "      <td>small</td>\n",
       "      <td>2001</td>\n",
       "      <td>manual</td>\n",
       "      <td>75</td>\n",
       "      <td>golf</td>\n",
       "      <td>150000</td>\n",
       "      <td>6</td>\n",
       "      <td>petrol</td>\n",
       "      <td>volkswagen</td>\n",
       "      <td>no</td>\n",
       "      <td>3</td>\n",
       "      <td>17</td>\n",
       "      <td>3</td>\n",
       "      <td>17</td>\n",
       "    </tr>\n",
       "    <tr>\n",
       "      <th>4</th>\n",
       "      <td>3600</td>\n",
       "      <td>small</td>\n",
       "      <td>2008</td>\n",
       "      <td>manual</td>\n",
       "      <td>69</td>\n",
       "      <td>fabia</td>\n",
       "      <td>90000</td>\n",
       "      <td>7</td>\n",
       "      <td>gasoline</td>\n",
       "      <td>skoda</td>\n",
       "      <td>no</td>\n",
       "      <td>3</td>\n",
       "      <td>31</td>\n",
       "      <td>3</td>\n",
       "      <td>31</td>\n",
       "    </tr>\n",
       "    <tr>\n",
       "      <th>...</th>\n",
       "      <td>...</td>\n",
       "      <td>...</td>\n",
       "      <td>...</td>\n",
       "      <td>...</td>\n",
       "      <td>...</td>\n",
       "      <td>...</td>\n",
       "      <td>...</td>\n",
       "      <td>...</td>\n",
       "      <td>...</td>\n",
       "      <td>...</td>\n",
       "      <td>...</td>\n",
       "      <td>...</td>\n",
       "      <td>...</td>\n",
       "      <td>...</td>\n",
       "      <td>...</td>\n",
       "    </tr>\n",
       "    <tr>\n",
       "      <th>354364</th>\n",
       "      <td>0</td>\n",
       "      <td>unknow</td>\n",
       "      <td>2005</td>\n",
       "      <td>manual</td>\n",
       "      <td>0</td>\n",
       "      <td>colt</td>\n",
       "      <td>150000</td>\n",
       "      <td>7</td>\n",
       "      <td>petrol</td>\n",
       "      <td>mitsubishi</td>\n",
       "      <td>yes</td>\n",
       "      <td>3</td>\n",
       "      <td>21</td>\n",
       "      <td>3</td>\n",
       "      <td>21</td>\n",
       "    </tr>\n",
       "    <tr>\n",
       "      <th>354365</th>\n",
       "      <td>2200</td>\n",
       "      <td>unknow</td>\n",
       "      <td>2005</td>\n",
       "      <td>unknow</td>\n",
       "      <td>0</td>\n",
       "      <td>unknow</td>\n",
       "      <td>20000</td>\n",
       "      <td>1</td>\n",
       "      <td>unknow</td>\n",
       "      <td>sonstige_autos</td>\n",
       "      <td>unknow</td>\n",
       "      <td>3</td>\n",
       "      <td>14</td>\n",
       "      <td>3</td>\n",
       "      <td>14</td>\n",
       "    </tr>\n",
       "    <tr>\n",
       "      <th>354366</th>\n",
       "      <td>1199</td>\n",
       "      <td>convertible</td>\n",
       "      <td>2000</td>\n",
       "      <td>auto</td>\n",
       "      <td>101</td>\n",
       "      <td>fortwo</td>\n",
       "      <td>125000</td>\n",
       "      <td>3</td>\n",
       "      <td>petrol</td>\n",
       "      <td>smart</td>\n",
       "      <td>no</td>\n",
       "      <td>3</td>\n",
       "      <td>5</td>\n",
       "      <td>3</td>\n",
       "      <td>5</td>\n",
       "    </tr>\n",
       "    <tr>\n",
       "      <th>354367</th>\n",
       "      <td>9200</td>\n",
       "      <td>bus</td>\n",
       "      <td>1996</td>\n",
       "      <td>manual</td>\n",
       "      <td>102</td>\n",
       "      <td>transporter</td>\n",
       "      <td>150000</td>\n",
       "      <td>3</td>\n",
       "      <td>gasoline</td>\n",
       "      <td>volkswagen</td>\n",
       "      <td>no</td>\n",
       "      <td>3</td>\n",
       "      <td>19</td>\n",
       "      <td>3</td>\n",
       "      <td>19</td>\n",
       "    </tr>\n",
       "    <tr>\n",
       "      <th>354368</th>\n",
       "      <td>3400</td>\n",
       "      <td>wagon</td>\n",
       "      <td>2002</td>\n",
       "      <td>manual</td>\n",
       "      <td>100</td>\n",
       "      <td>golf</td>\n",
       "      <td>150000</td>\n",
       "      <td>6</td>\n",
       "      <td>gasoline</td>\n",
       "      <td>volkswagen</td>\n",
       "      <td>unknow</td>\n",
       "      <td>3</td>\n",
       "      <td>20</td>\n",
       "      <td>3</td>\n",
       "      <td>20</td>\n",
       "    </tr>\n",
       "  </tbody>\n",
       "</table>\n",
       "<p>354369 rows × 15 columns</p>\n",
       "</div>"
      ],
      "text/plain": [
       "        Price  VehicleType  RegistrationYear Gearbox  Power        Model  \\\n",
       "0         480       unknow              1993  manual      0         golf   \n",
       "1       18300        coupe              2011  manual    190       unknow   \n",
       "2        9800          suv              2004    auto    163        grand   \n",
       "3        1500        small              2001  manual     75         golf   \n",
       "4        3600        small              2008  manual     69        fabia   \n",
       "...       ...          ...               ...     ...    ...          ...   \n",
       "354364      0       unknow              2005  manual      0         colt   \n",
       "354365   2200       unknow              2005  unknow      0       unknow   \n",
       "354366   1199  convertible              2000    auto    101       fortwo   \n",
       "354367   9200          bus              1996  manual    102  transporter   \n",
       "354368   3400        wagon              2002  manual    100         golf   \n",
       "\n",
       "        Kilometer  RegistrationMonth  FuelType           Brand NotRepaired  \\\n",
       "0          150000                  0    petrol      volkswagen      unknow   \n",
       "1          125000                  5  gasoline            audi         yes   \n",
       "2          125000                  8  gasoline            jeep      unknow   \n",
       "3          150000                  6    petrol      volkswagen          no   \n",
       "4           90000                  7  gasoline           skoda          no   \n",
       "...           ...                ...       ...             ...         ...   \n",
       "354364     150000                  7    petrol      mitsubishi         yes   \n",
       "354365      20000                  1    unknow  sonstige_autos      unknow   \n",
       "354366     125000                  3    petrol           smart          no   \n",
       "354367     150000                  3  gasoline      volkswagen          no   \n",
       "354368     150000                  6  gasoline      volkswagen      unknow   \n",
       "\n",
       "        m_DateCrawled  d_DateCrawled  m_DateCreated  d_DateCreated  \n",
       "0                   3             24              3             24  \n",
       "1                   3             24              3             24  \n",
       "2                   3             14              3             14  \n",
       "3                   3             17              3             17  \n",
       "4                   3             31              3             31  \n",
       "...               ...            ...            ...            ...  \n",
       "354364              3             21              3             21  \n",
       "354365              3             14              3             14  \n",
       "354366              3              5              3              5  \n",
       "354367              3             19              3             19  \n",
       "354368              3             20              3             20  \n",
       "\n",
       "[354369 rows x 15 columns]"
      ]
     },
     "execution_count": 14,
     "metadata": {},
     "output_type": "execute_result"
    }
   ],
   "source": [
    "data = data.drop([*columns, 'y_DateCrawled', 'y_DateCreated', 'y_LastSeen',\n",
    "                  'm_LastSeen', 'd_LastSeen', 'NumberOfPictures', 'PostalCode'], axis=1)\n",
    "data"
   ]
  },
  {
   "cell_type": "markdown",
   "metadata": {},
   "source": [
    "Из исходного датасета удалим строки с выбросами."
   ]
  },
  {
   "cell_type": "code",
   "execution_count": 15,
   "metadata": {},
   "outputs": [
    {
     "data": {
      "text/html": [
       "<div>\n",
       "<style scoped>\n",
       "    .dataframe tbody tr th:only-of-type {\n",
       "        vertical-align: middle;\n",
       "    }\n",
       "\n",
       "    .dataframe tbody tr th {\n",
       "        vertical-align: top;\n",
       "    }\n",
       "\n",
       "    .dataframe thead th {\n",
       "        text-align: right;\n",
       "    }\n",
       "</style>\n",
       "<table border=\"1\" class=\"dataframe\">\n",
       "  <thead>\n",
       "    <tr style=\"text-align: right;\">\n",
       "      <th></th>\n",
       "      <th>Price</th>\n",
       "      <th>VehicleType</th>\n",
       "      <th>RegistrationYear</th>\n",
       "      <th>Gearbox</th>\n",
       "      <th>Power</th>\n",
       "      <th>Model</th>\n",
       "      <th>Kilometer</th>\n",
       "      <th>RegistrationMonth</th>\n",
       "      <th>FuelType</th>\n",
       "      <th>Brand</th>\n",
       "      <th>NotRepaired</th>\n",
       "      <th>m_DateCrawled</th>\n",
       "      <th>d_DateCrawled</th>\n",
       "      <th>m_DateCreated</th>\n",
       "      <th>d_DateCreated</th>\n",
       "    </tr>\n",
       "  </thead>\n",
       "  <tbody>\n",
       "    <tr>\n",
       "      <th>1</th>\n",
       "      <td>18300</td>\n",
       "      <td>coupe</td>\n",
       "      <td>2011</td>\n",
       "      <td>manual</td>\n",
       "      <td>190</td>\n",
       "      <td>unknow</td>\n",
       "      <td>125000</td>\n",
       "      <td>5</td>\n",
       "      <td>gasoline</td>\n",
       "      <td>audi</td>\n",
       "      <td>yes</td>\n",
       "      <td>3</td>\n",
       "      <td>24</td>\n",
       "      <td>3</td>\n",
       "      <td>24</td>\n",
       "    </tr>\n",
       "    <tr>\n",
       "      <th>2</th>\n",
       "      <td>9800</td>\n",
       "      <td>suv</td>\n",
       "      <td>2004</td>\n",
       "      <td>auto</td>\n",
       "      <td>163</td>\n",
       "      <td>grand</td>\n",
       "      <td>125000</td>\n",
       "      <td>8</td>\n",
       "      <td>gasoline</td>\n",
       "      <td>jeep</td>\n",
       "      <td>unknow</td>\n",
       "      <td>3</td>\n",
       "      <td>14</td>\n",
       "      <td>3</td>\n",
       "      <td>14</td>\n",
       "    </tr>\n",
       "    <tr>\n",
       "      <th>3</th>\n",
       "      <td>1500</td>\n",
       "      <td>small</td>\n",
       "      <td>2001</td>\n",
       "      <td>manual</td>\n",
       "      <td>75</td>\n",
       "      <td>golf</td>\n",
       "      <td>150000</td>\n",
       "      <td>6</td>\n",
       "      <td>petrol</td>\n",
       "      <td>volkswagen</td>\n",
       "      <td>no</td>\n",
       "      <td>3</td>\n",
       "      <td>17</td>\n",
       "      <td>3</td>\n",
       "      <td>17</td>\n",
       "    </tr>\n",
       "    <tr>\n",
       "      <th>4</th>\n",
       "      <td>3600</td>\n",
       "      <td>small</td>\n",
       "      <td>2008</td>\n",
       "      <td>manual</td>\n",
       "      <td>69</td>\n",
       "      <td>fabia</td>\n",
       "      <td>90000</td>\n",
       "      <td>7</td>\n",
       "      <td>gasoline</td>\n",
       "      <td>skoda</td>\n",
       "      <td>no</td>\n",
       "      <td>3</td>\n",
       "      <td>31</td>\n",
       "      <td>3</td>\n",
       "      <td>31</td>\n",
       "    </tr>\n",
       "    <tr>\n",
       "      <th>5</th>\n",
       "      <td>650</td>\n",
       "      <td>sedan</td>\n",
       "      <td>1995</td>\n",
       "      <td>manual</td>\n",
       "      <td>102</td>\n",
       "      <td>3er</td>\n",
       "      <td>150000</td>\n",
       "      <td>10</td>\n",
       "      <td>petrol</td>\n",
       "      <td>bmw</td>\n",
       "      <td>yes</td>\n",
       "      <td>4</td>\n",
       "      <td>4</td>\n",
       "      <td>4</td>\n",
       "      <td>4</td>\n",
       "    </tr>\n",
       "    <tr>\n",
       "      <th>...</th>\n",
       "      <td>...</td>\n",
       "      <td>...</td>\n",
       "      <td>...</td>\n",
       "      <td>...</td>\n",
       "      <td>...</td>\n",
       "      <td>...</td>\n",
       "      <td>...</td>\n",
       "      <td>...</td>\n",
       "      <td>...</td>\n",
       "      <td>...</td>\n",
       "      <td>...</td>\n",
       "      <td>...</td>\n",
       "      <td>...</td>\n",
       "      <td>...</td>\n",
       "      <td>...</td>\n",
       "    </tr>\n",
       "    <tr>\n",
       "      <th>354361</th>\n",
       "      <td>5250</td>\n",
       "      <td>unknow</td>\n",
       "      <td>2016</td>\n",
       "      <td>auto</td>\n",
       "      <td>150</td>\n",
       "      <td>159</td>\n",
       "      <td>150000</td>\n",
       "      <td>12</td>\n",
       "      <td>unknow</td>\n",
       "      <td>alfa_romeo</td>\n",
       "      <td>no</td>\n",
       "      <td>3</td>\n",
       "      <td>9</td>\n",
       "      <td>3</td>\n",
       "      <td>9</td>\n",
       "    </tr>\n",
       "    <tr>\n",
       "      <th>354362</th>\n",
       "      <td>3200</td>\n",
       "      <td>sedan</td>\n",
       "      <td>2004</td>\n",
       "      <td>manual</td>\n",
       "      <td>225</td>\n",
       "      <td>leon</td>\n",
       "      <td>150000</td>\n",
       "      <td>5</td>\n",
       "      <td>petrol</td>\n",
       "      <td>seat</td>\n",
       "      <td>yes</td>\n",
       "      <td>3</td>\n",
       "      <td>19</td>\n",
       "      <td>3</td>\n",
       "      <td>19</td>\n",
       "    </tr>\n",
       "    <tr>\n",
       "      <th>354366</th>\n",
       "      <td>1199</td>\n",
       "      <td>convertible</td>\n",
       "      <td>2000</td>\n",
       "      <td>auto</td>\n",
       "      <td>101</td>\n",
       "      <td>fortwo</td>\n",
       "      <td>125000</td>\n",
       "      <td>3</td>\n",
       "      <td>petrol</td>\n",
       "      <td>smart</td>\n",
       "      <td>no</td>\n",
       "      <td>3</td>\n",
       "      <td>5</td>\n",
       "      <td>3</td>\n",
       "      <td>5</td>\n",
       "    </tr>\n",
       "    <tr>\n",
       "      <th>354367</th>\n",
       "      <td>9200</td>\n",
       "      <td>bus</td>\n",
       "      <td>1996</td>\n",
       "      <td>manual</td>\n",
       "      <td>102</td>\n",
       "      <td>transporter</td>\n",
       "      <td>150000</td>\n",
       "      <td>3</td>\n",
       "      <td>gasoline</td>\n",
       "      <td>volkswagen</td>\n",
       "      <td>no</td>\n",
       "      <td>3</td>\n",
       "      <td>19</td>\n",
       "      <td>3</td>\n",
       "      <td>19</td>\n",
       "    </tr>\n",
       "    <tr>\n",
       "      <th>354368</th>\n",
       "      <td>3400</td>\n",
       "      <td>wagon</td>\n",
       "      <td>2002</td>\n",
       "      <td>manual</td>\n",
       "      <td>100</td>\n",
       "      <td>golf</td>\n",
       "      <td>150000</td>\n",
       "      <td>6</td>\n",
       "      <td>gasoline</td>\n",
       "      <td>volkswagen</td>\n",
       "      <td>unknow</td>\n",
       "      <td>3</td>\n",
       "      <td>20</td>\n",
       "      <td>3</td>\n",
       "      <td>20</td>\n",
       "    </tr>\n",
       "  </tbody>\n",
       "</table>\n",
       "<p>269703 rows × 15 columns</p>\n",
       "</div>"
      ],
      "text/plain": [
       "        Price  VehicleType  RegistrationYear Gearbox  Power        Model  \\\n",
       "1       18300        coupe              2011  manual    190       unknow   \n",
       "2        9800          suv              2004    auto    163        grand   \n",
       "3        1500        small              2001  manual     75         golf   \n",
       "4        3600        small              2008  manual     69        fabia   \n",
       "5         650        sedan              1995  manual    102          3er   \n",
       "...       ...          ...               ...     ...    ...          ...   \n",
       "354361   5250       unknow              2016    auto    150          159   \n",
       "354362   3200        sedan              2004  manual    225         leon   \n",
       "354366   1199  convertible              2000    auto    101       fortwo   \n",
       "354367   9200          bus              1996  manual    102  transporter   \n",
       "354368   3400        wagon              2002  manual    100         golf   \n",
       "\n",
       "        Kilometer  RegistrationMonth  FuelType       Brand NotRepaired  \\\n",
       "1          125000                  5  gasoline        audi         yes   \n",
       "2          125000                  8  gasoline        jeep      unknow   \n",
       "3          150000                  6    petrol  volkswagen          no   \n",
       "4           90000                  7  gasoline       skoda          no   \n",
       "5          150000                 10    petrol         bmw         yes   \n",
       "...           ...                ...       ...         ...         ...   \n",
       "354361     150000                 12    unknow  alfa_romeo          no   \n",
       "354362     150000                  5    petrol        seat         yes   \n",
       "354366     125000                  3    petrol       smart          no   \n",
       "354367     150000                  3  gasoline  volkswagen          no   \n",
       "354368     150000                  6  gasoline  volkswagen      unknow   \n",
       "\n",
       "        m_DateCrawled  d_DateCrawled  m_DateCreated  d_DateCreated  \n",
       "1                   3             24              3             24  \n",
       "2                   3             14              3             14  \n",
       "3                   3             17              3             17  \n",
       "4                   3             31              3             31  \n",
       "5                   4              4              4              4  \n",
       "...               ...            ...            ...            ...  \n",
       "354361              3              9              3              9  \n",
       "354362              3             19              3             19  \n",
       "354366              3              5              3              5  \n",
       "354367              3             19              3             19  \n",
       "354368              3             20              3             20  \n",
       "\n",
       "[269703 rows x 15 columns]"
      ]
     },
     "execution_count": 15,
     "metadata": {},
     "output_type": "execute_result"
    }
   ],
   "source": [
    "data = data.query('Power != 0 and RegistrationMonth != 0 and Price != 0 and RegistrationYear > 1985 and RegistrationYear <= 2016 and Power < 270')\n",
    "data"
   ]
  },
  {
   "cell_type": "markdown",
   "metadata": {},
   "source": [
    "Скопируем исходный датасет и для него же, обработаем категориальные признаки."
   ]
  },
  {
   "cell_type": "code",
   "execution_count": 16,
   "metadata": {},
   "outputs": [],
   "source": [
    "data_1 = data.copy(deep=True)"
   ]
  },
  {
   "cell_type": "code",
   "execution_count": 17,
   "metadata": {},
   "outputs": [
    {
     "data": {
      "text/html": [
       "<div>\n",
       "<style scoped>\n",
       "    .dataframe tbody tr th:only-of-type {\n",
       "        vertical-align: middle;\n",
       "    }\n",
       "\n",
       "    .dataframe tbody tr th {\n",
       "        vertical-align: top;\n",
       "    }\n",
       "\n",
       "    .dataframe thead th {\n",
       "        text-align: right;\n",
       "    }\n",
       "</style>\n",
       "<table border=\"1\" class=\"dataframe\">\n",
       "  <thead>\n",
       "    <tr style=\"text-align: right;\">\n",
       "      <th></th>\n",
       "      <th>Price</th>\n",
       "      <th>VehicleType</th>\n",
       "      <th>RegistrationYear</th>\n",
       "      <th>Gearbox</th>\n",
       "      <th>Power</th>\n",
       "      <th>Model</th>\n",
       "      <th>Kilometer</th>\n",
       "      <th>RegistrationMonth</th>\n",
       "      <th>FuelType</th>\n",
       "      <th>Brand</th>\n",
       "      <th>NotRepaired</th>\n",
       "      <th>m_DateCrawled</th>\n",
       "      <th>d_DateCrawled</th>\n",
       "      <th>m_DateCreated</th>\n",
       "      <th>d_DateCreated</th>\n",
       "    </tr>\n",
       "  </thead>\n",
       "  <tbody>\n",
       "    <tr>\n",
       "      <th>0</th>\n",
       "      <td>18300</td>\n",
       "      <td>2.0</td>\n",
       "      <td>2011</td>\n",
       "      <td>1.0</td>\n",
       "      <td>190</td>\n",
       "      <td>224.0</td>\n",
       "      <td>125000</td>\n",
       "      <td>5</td>\n",
       "      <td>2.0</td>\n",
       "      <td>1.0</td>\n",
       "      <td>2.0</td>\n",
       "      <td>3</td>\n",
       "      <td>24</td>\n",
       "      <td>3</td>\n",
       "      <td>24</td>\n",
       "    </tr>\n",
       "    <tr>\n",
       "      <th>1</th>\n",
       "      <td>9800</td>\n",
       "      <td>6.0</td>\n",
       "      <td>2004</td>\n",
       "      <td>0.0</td>\n",
       "      <td>163</td>\n",
       "      <td>117.0</td>\n",
       "      <td>125000</td>\n",
       "      <td>8</td>\n",
       "      <td>2.0</td>\n",
       "      <td>14.0</td>\n",
       "      <td>1.0</td>\n",
       "      <td>3</td>\n",
       "      <td>14</td>\n",
       "      <td>3</td>\n",
       "      <td>14</td>\n",
       "    </tr>\n",
       "    <tr>\n",
       "      <th>2</th>\n",
       "      <td>1500</td>\n",
       "      <td>5.0</td>\n",
       "      <td>2001</td>\n",
       "      <td>1.0</td>\n",
       "      <td>75</td>\n",
       "      <td>116.0</td>\n",
       "      <td>150000</td>\n",
       "      <td>6</td>\n",
       "      <td>6.0</td>\n",
       "      <td>38.0</td>\n",
       "      <td>0.0</td>\n",
       "      <td>3</td>\n",
       "      <td>17</td>\n",
       "      <td>3</td>\n",
       "      <td>17</td>\n",
       "    </tr>\n",
       "    <tr>\n",
       "      <th>3</th>\n",
       "      <td>3600</td>\n",
       "      <td>5.0</td>\n",
       "      <td>2008</td>\n",
       "      <td>1.0</td>\n",
       "      <td>69</td>\n",
       "      <td>101.0</td>\n",
       "      <td>90000</td>\n",
       "      <td>7</td>\n",
       "      <td>2.0</td>\n",
       "      <td>31.0</td>\n",
       "      <td>0.0</td>\n",
       "      <td>3</td>\n",
       "      <td>31</td>\n",
       "      <td>3</td>\n",
       "      <td>31</td>\n",
       "    </tr>\n",
       "    <tr>\n",
       "      <th>4</th>\n",
       "      <td>650</td>\n",
       "      <td>4.0</td>\n",
       "      <td>1995</td>\n",
       "      <td>1.0</td>\n",
       "      <td>102</td>\n",
       "      <td>11.0</td>\n",
       "      <td>150000</td>\n",
       "      <td>10</td>\n",
       "      <td>6.0</td>\n",
       "      <td>2.0</td>\n",
       "      <td>2.0</td>\n",
       "      <td>4</td>\n",
       "      <td>4</td>\n",
       "      <td>4</td>\n",
       "      <td>4</td>\n",
       "    </tr>\n",
       "    <tr>\n",
       "      <th>...</th>\n",
       "      <td>...</td>\n",
       "      <td>...</td>\n",
       "      <td>...</td>\n",
       "      <td>...</td>\n",
       "      <td>...</td>\n",
       "      <td>...</td>\n",
       "      <td>...</td>\n",
       "      <td>...</td>\n",
       "      <td>...</td>\n",
       "      <td>...</td>\n",
       "      <td>...</td>\n",
       "      <td>...</td>\n",
       "      <td>...</td>\n",
       "      <td>...</td>\n",
       "      <td>...</td>\n",
       "    </tr>\n",
       "    <tr>\n",
       "      <th>269698</th>\n",
       "      <td>5250</td>\n",
       "      <td>7.0</td>\n",
       "      <td>2016</td>\n",
       "      <td>0.0</td>\n",
       "      <td>150</td>\n",
       "      <td>4.0</td>\n",
       "      <td>150000</td>\n",
       "      <td>12</td>\n",
       "      <td>7.0</td>\n",
       "      <td>0.0</td>\n",
       "      <td>0.0</td>\n",
       "      <td>3</td>\n",
       "      <td>9</td>\n",
       "      <td>3</td>\n",
       "      <td>9</td>\n",
       "    </tr>\n",
       "    <tr>\n",
       "      <th>269699</th>\n",
       "      <td>3200</td>\n",
       "      <td>4.0</td>\n",
       "      <td>2004</td>\n",
       "      <td>1.0</td>\n",
       "      <td>225</td>\n",
       "      <td>140.0</td>\n",
       "      <td>150000</td>\n",
       "      <td>5</td>\n",
       "      <td>6.0</td>\n",
       "      <td>30.0</td>\n",
       "      <td>2.0</td>\n",
       "      <td>3</td>\n",
       "      <td>19</td>\n",
       "      <td>3</td>\n",
       "      <td>19</td>\n",
       "    </tr>\n",
       "    <tr>\n",
       "      <th>269700</th>\n",
       "      <td>1199</td>\n",
       "      <td>1.0</td>\n",
       "      <td>2000</td>\n",
       "      <td>0.0</td>\n",
       "      <td>101</td>\n",
       "      <td>106.0</td>\n",
       "      <td>125000</td>\n",
       "      <td>3</td>\n",
       "      <td>6.0</td>\n",
       "      <td>32.0</td>\n",
       "      <td>0.0</td>\n",
       "      <td>3</td>\n",
       "      <td>5</td>\n",
       "      <td>3</td>\n",
       "      <td>5</td>\n",
       "    </tr>\n",
       "    <tr>\n",
       "      <th>269701</th>\n",
       "      <td>9200</td>\n",
       "      <td>0.0</td>\n",
       "      <td>1996</td>\n",
       "      <td>1.0</td>\n",
       "      <td>102</td>\n",
       "      <td>220.0</td>\n",
       "      <td>150000</td>\n",
       "      <td>3</td>\n",
       "      <td>2.0</td>\n",
       "      <td>38.0</td>\n",
       "      <td>0.0</td>\n",
       "      <td>3</td>\n",
       "      <td>19</td>\n",
       "      <td>3</td>\n",
       "      <td>19</td>\n",
       "    </tr>\n",
       "    <tr>\n",
       "      <th>269702</th>\n",
       "      <td>3400</td>\n",
       "      <td>8.0</td>\n",
       "      <td>2002</td>\n",
       "      <td>1.0</td>\n",
       "      <td>100</td>\n",
       "      <td>116.0</td>\n",
       "      <td>150000</td>\n",
       "      <td>6</td>\n",
       "      <td>2.0</td>\n",
       "      <td>38.0</td>\n",
       "      <td>1.0</td>\n",
       "      <td>3</td>\n",
       "      <td>20</td>\n",
       "      <td>3</td>\n",
       "      <td>20</td>\n",
       "    </tr>\n",
       "  </tbody>\n",
       "</table>\n",
       "<p>269703 rows × 15 columns</p>\n",
       "</div>"
      ],
      "text/plain": [
       "        Price  VehicleType  RegistrationYear  Gearbox  Power  Model  \\\n",
       "0       18300          2.0              2011      1.0    190  224.0   \n",
       "1        9800          6.0              2004      0.0    163  117.0   \n",
       "2        1500          5.0              2001      1.0     75  116.0   \n",
       "3        3600          5.0              2008      1.0     69  101.0   \n",
       "4         650          4.0              1995      1.0    102   11.0   \n",
       "...       ...          ...               ...      ...    ...    ...   \n",
       "269698   5250          7.0              2016      0.0    150    4.0   \n",
       "269699   3200          4.0              2004      1.0    225  140.0   \n",
       "269700   1199          1.0              2000      0.0    101  106.0   \n",
       "269701   9200          0.0              1996      1.0    102  220.0   \n",
       "269702   3400          8.0              2002      1.0    100  116.0   \n",
       "\n",
       "        Kilometer  RegistrationMonth  FuelType  Brand  NotRepaired  \\\n",
       "0          125000                  5       2.0    1.0          2.0   \n",
       "1          125000                  8       2.0   14.0          1.0   \n",
       "2          150000                  6       6.0   38.0          0.0   \n",
       "3           90000                  7       2.0   31.0          0.0   \n",
       "4          150000                 10       6.0    2.0          2.0   \n",
       "...           ...                ...       ...    ...          ...   \n",
       "269698     150000                 12       7.0    0.0          0.0   \n",
       "269699     150000                  5       6.0   30.0          2.0   \n",
       "269700     125000                  3       6.0   32.0          0.0   \n",
       "269701     150000                  3       2.0   38.0          0.0   \n",
       "269702     150000                  6       2.0   38.0          1.0   \n",
       "\n",
       "        m_DateCrawled  d_DateCrawled  m_DateCreated  d_DateCreated  \n",
       "0                   3             24              3             24  \n",
       "1                   3             14              3             14  \n",
       "2                   3             17              3             17  \n",
       "3                   3             31              3             31  \n",
       "4                   4              4              4              4  \n",
       "...               ...            ...            ...            ...  \n",
       "269698              3              9              3              9  \n",
       "269699              3             19              3             19  \n",
       "269700              3              5              3              5  \n",
       "269701              3             19              3             19  \n",
       "269702              3             20              3             20  \n",
       "\n",
       "[269703 rows x 15 columns]"
      ]
     },
     "execution_count": 17,
     "metadata": {},
     "output_type": "execute_result"
    }
   ],
   "source": [
    "f_cat = ['VehicleType', 'Gearbox', 'Model', 'FuelType', 'NotRepaired', 'Brand']\n",
    "encoder = OrdinalEncoder()\n",
    "data = data.reset_index(drop=True)\n",
    "data[f_cat] = pd.DataFrame(encoder.fit_transform(data[f_cat]), columns=f_cat)\n",
    "data"
   ]
  },
  {
   "cell_type": "markdown",
   "metadata": {},
   "source": [
    "Оптимизируем использование памяти. Приведем данные в ряде стобцов к типу `int16`."
   ]
  },
  {
   "cell_type": "code",
   "execution_count": 18,
   "metadata": {},
   "outputs": [],
   "source": [
    "col = list(data.columns)\n",
    "col.remove('Price')\n",
    "col.remove('Kilometer')\n",
    "data[col] = data[col].astype('int16')"
   ]
  },
  {
   "cell_type": "code",
   "execution_count": 19,
   "metadata": {},
   "outputs": [
    {
     "name": "stdout",
     "output_type": "stream",
     "text": [
      "<class 'pandas.core.frame.DataFrame'>\n",
      "RangeIndex: 269703 entries, 0 to 269702\n",
      "Data columns (total 15 columns):\n",
      " #   Column             Non-Null Count   Dtype\n",
      "---  ------             --------------   -----\n",
      " 0   Price              269703 non-null  int64\n",
      " 1   VehicleType        269703 non-null  int16\n",
      " 2   RegistrationYear   269703 non-null  int16\n",
      " 3   Gearbox            269703 non-null  int16\n",
      " 4   Power              269703 non-null  int16\n",
      " 5   Model              269703 non-null  int16\n",
      " 6   Kilometer          269703 non-null  int64\n",
      " 7   RegistrationMonth  269703 non-null  int16\n",
      " 8   FuelType           269703 non-null  int16\n",
      " 9   Brand              269703 non-null  int16\n",
      " 10  NotRepaired        269703 non-null  int16\n",
      " 11  m_DateCrawled      269703 non-null  int16\n",
      " 12  d_DateCrawled      269703 non-null  int16\n",
      " 13  m_DateCreated      269703 non-null  int16\n",
      " 14  d_DateCreated      269703 non-null  int16\n",
      "dtypes: int16(13), int64(2)\n",
      "memory usage: 10.8 MB\n"
     ]
    }
   ],
   "source": [
    "data.info()"
   ]
  },
  {
   "cell_type": "markdown",
   "metadata": {},
   "source": [
    "Разделим получившиеся датасеты на учебные, валидационные и тестовые."
   ]
  },
  {
   "cell_type": "code",
   "execution_count": 20,
   "metadata": {},
   "outputs": [],
   "source": [
    "data_train, data_test = train_test_split(data, test_size=0.2, random_state=123)\n",
    "data_params = data_train.copy(deep=True)\n",
    "data_train, data_valid = train_test_split(data_train, test_size=0.25, random_state=123)\n",
    "\n",
    "data_1_train, data_1_test = train_test_split(data_1, test_size=0.2, random_state=123)\n",
    "data_1_params = data_1_train.copy(deep=True)\n",
    "data_1_train, data_1_valid = train_test_split(data_1_train, test_size=0.25, random_state=123)"
   ]
  },
  {
   "cell_type": "markdown",
   "metadata": {},
   "source": [
    "### Вывод"
   ]
  },
  {
   "cell_type": "markdown",
   "metadata": {},
   "source": [
    "В данном разделе были импортированы необходимые библиотеки и исходные данные. Проведён анализ данные и их предобработка. Подготовлены 4 датасета: 2 тренировочных (с выбросами и без них) и два тестовых."
   ]
  },
  {
   "cell_type": "markdown",
   "metadata": {},
   "source": [
    "## Обучение моделей"
   ]
  },
  {
   "cell_type": "markdown",
   "metadata": {},
   "source": [
    "В этом разделе определим наилучшие гиперпараметры для моделей.\n",
    "\n",
    "Для этого, подготовим функцию."
   ]
  },
  {
   "cell_type": "code",
   "execution_count": 21,
   "metadata": {},
   "outputs": [],
   "source": [
    "def score1(predict, target):\n",
    "    # принимает массив предсказаний и правильных ответов, высчитывает MSE, возвращает RMSE\n",
    "    \n",
    "    scores = abs(mean_squared_error(target, predict) ** 0.5)\n",
    "    \n",
    "    return scores\n",
    "\n",
    "def predict_model(model, train, valid, flag=0, features_cat=None):\n",
    "    # функция замера времени обучения и предсказания моделей\n",
    "    \n",
    "    if flag == 0:\n",
    "        t1= time.time()\n",
    "        model.fit(train.drop('Price', axis=1), train['Price'])\n",
    "    elif flag == 1:\n",
    "        try:\n",
    "            t1= time.time()\n",
    "            model.fit(train.drop('Price', axis=1), train['Price'], cat_features=features_cat, verbose=False)\n",
    "        except:\n",
    "            t1= time.time()\n",
    "            model.fit(train.drop('Price', axis=1), train['Price'], categorical_feature=features_cat, verbose=False)\n",
    "\n",
    "    t2 = time.time() - t1\n",
    "    t3 = time.time()\n",
    "    predict = model.predict(valid.drop('Price', axis=1))\n",
    "    t3 = time.time() - t3\n",
    "    RMSE = score1(predict, valid['Price'])\n",
    "    list_result = [t2, t3, RMSE]\n",
    "    \n",
    "    return list_result\n",
    "\n",
    "def train_model(model, params, features, target, x, flag=0, f_cat=None):\n",
    "    # принимает на вход модель, её параметры, признаки, таргет и число блоков кросс-валидации\n",
    "    # возвращает параметры для лучшей оценки и саму оценку с использованием функции score1\n",
    "    \n",
    "    my_score = make_scorer(score1, greater_is_better=False)\n",
    "    res = GridSearchCV(model, params, n_jobs=-1, cv=x, scoring=my_score)\n",
    "    if flag == 0:\n",
    "        res.fit(features, target)\n",
    "    else:\n",
    "        res.fit(features, target, cat_features=f_cat, verbose=False)\n",
    "        \n",
    "    return res.best_params_, res.best_score_"
   ]
  },
  {
   "cell_type": "markdown",
   "metadata": {},
   "source": [
    "Теперь в цикле обучим модели и найдём лучшие параметры."
   ]
  },
  {
   "cell_type": "code",
   "execution_count": 22,
   "metadata": {},
   "outputs": [
    {
     "name": "stdout",
     "output_type": "stream",
     "text": [
      "Dummy\n",
      "{'strategy': 'mean'}\n",
      "Лучшая оценка -4548.325572514578\n",
      "\n",
      "DesTree\n",
      "{'max_depth': 7}\n",
      "Лучшая оценка -2069.382937709363\n",
      "\n",
      "RForest\n",
      "{'max_depth': 7, 'n_estimators': 5}\n",
      "Лучшая оценка -2023.966157072847\n",
      "\n",
      "CatBoost\n",
      "{'iterations': 180}\n",
      "Лучшая оценка -1538.2523410601027\n",
      "\n"
     ]
    }
   ],
   "source": [
    "list_model = {'Dummy':DummyRegressor(),\n",
    "              'DesTree':DecisionTreeRegressor(random_state=123),\n",
    "              'RForest':RandomForestRegressor(random_state=123),\n",
    "              'CatBoost': CatBoostRegressor()}\n",
    "# словарь с именами (для читабельности) и самими моделями\n",
    "\n",
    "list_param = [{'strategy': ['median', 'mean']},\n",
    "              {'max_depth':[i for i in range(1,8)]},\n",
    "             {'max_depth':[i for i in range(1,8)],'n_estimators':[i for i in range(1,6)]},\n",
    "             {'iterations': [i for i in range(100, 200, 20)]}]\n",
    "# список параметров для каждой модели\n",
    "spec_model = ['CatBoost', 'LGBM']\n",
    "\n",
    "\n",
    "for md, pr in zip(list_model, list_param):\n",
    "    if md not in spec_model:\n",
    "        params, score = train_model(list_model[md], pr, data_params.drop('Price', axis=1), data_params['Price'], 3)\n",
    "    else:\n",
    "        params, score = train_model(list_model[md], pr, data_1_params.drop('Price', axis=1), data_1_params['Price'], 3, flag=1, f_cat=f_cat)\n",
    "    print(md)\n",
    "    print(params)\n",
    "    print('Лучшая оценка', score)\n",
    "    print()\n",
    "    "
   ]
  },
  {
   "cell_type": "markdown",
   "metadata": {},
   "source": [
    "Далее, изучим время обучение и предсказания."
   ]
  },
  {
   "cell_type": "code",
   "execution_count": 23,
   "metadata": {},
   "outputs": [
    {
     "name": "stderr",
     "output_type": "stream",
     "text": [
      "/opt/conda/lib/python3.9/site-packages/lightgbm/sklearn.py:736: UserWarning: 'verbose' argument is deprecated and will be removed in a future release of LightGBM. Pass 'log_evaluation()' callback via 'callbacks' argument instead.\n",
      "  _log_warning(\"'verbose' argument is deprecated and will be removed in a future release of LightGBM. \"\n",
      "/opt/conda/lib/python3.9/site-packages/lightgbm/basic.py:2065: UserWarning: Using categorical_feature in Dataset.\n",
      "  _log_warning('Using categorical_feature in Dataset.')\n"
     ]
    },
    {
     "data": {
      "text/html": [
       "<div>\n",
       "<style scoped>\n",
       "    .dataframe tbody tr th:only-of-type {\n",
       "        vertical-align: middle;\n",
       "    }\n",
       "\n",
       "    .dataframe tbody tr th {\n",
       "        vertical-align: top;\n",
       "    }\n",
       "\n",
       "    .dataframe thead th {\n",
       "        text-align: right;\n",
       "    }\n",
       "</style>\n",
       "<table border=\"1\" class=\"dataframe\">\n",
       "  <thead>\n",
       "    <tr style=\"text-align: right;\">\n",
       "      <th></th>\n",
       "      <th>Обучение</th>\n",
       "      <th>Предсказание</th>\n",
       "      <th>Оценка</th>\n",
       "    </tr>\n",
       "  </thead>\n",
       "  <tbody>\n",
       "    <tr>\n",
       "      <th>DesTree</th>\n",
       "      <td>0.33</td>\n",
       "      <td>7.49e-03</td>\n",
       "      <td>2077.76</td>\n",
       "    </tr>\n",
       "    <tr>\n",
       "      <th>RForest</th>\n",
       "      <td>1.14</td>\n",
       "      <td>2.00e-02</td>\n",
       "      <td>2031.29</td>\n",
       "    </tr>\n",
       "    <tr>\n",
       "      <th>CatBoost</th>\n",
       "      <td>13.40</td>\n",
       "      <td>7.71e-02</td>\n",
       "      <td>1532.29</td>\n",
       "    </tr>\n",
       "    <tr>\n",
       "      <th>LGBM</th>\n",
       "      <td>406.92</td>\n",
       "      <td>6.23e-01</td>\n",
       "      <td>1512.57</td>\n",
       "    </tr>\n",
       "  </tbody>\n",
       "</table>\n",
       "</div>"
      ],
      "text/plain": [
       "          Обучение  Предсказание   Оценка\n",
       "DesTree       0.33      7.49e-03  2077.76\n",
       "RForest       1.14      2.00e-02  2031.29\n",
       "CatBoost     13.40      7.71e-02  1532.29\n",
       "LGBM        406.92      6.23e-01  1512.57"
      ]
     },
     "metadata": {},
     "output_type": "display_data"
    }
   ],
   "source": [
    "list_model = {\n",
    "            'DesTree':DecisionTreeRegressor(max_depth=7, random_state=123),\n",
    "            'RForest':RandomForestRegressor(max_depth=7, n_estimators= 5, random_state=123),\n",
    "            'CatBoost': CatBoostRegressor(loss_function='RMSE', iterations=180),\n",
    "            'LGBM': LGBMRegressor()           \n",
    "}\n",
    "# список моделей с гиперпараметрами\n",
    "data_1_train[f_cat] = data_1_train[f_cat].astype('category')\n",
    "data_1_valid[f_cat] = data_1_valid[f_cat].astype('category')\n",
    "# подготовка данный для моделей бустинга\n",
    "\n",
    "list_result = []\n",
    "name_model = []\n",
    "\n",
    "for mod in list_model:\n",
    "    if mod not in  spec_model:\n",
    "        res = predict_model(list_model[mod], data_train, data_valid)\n",
    "    elif mod in spec_model:\n",
    "        res = predict_model(list_model[mod], data_1_train, data_1_valid, flag=1, features_cat=f_cat)\n",
    "    list_result.append(res)\n",
    "    name_model.append(mod)\n",
    "\n",
    "df = pd.DataFrame(data=list_result, index=name_model, columns=['Обучение', 'Предсказание', 'Оценка'])\n",
    "display(df)"
   ]
  },
  {
   "cell_type": "markdown",
   "metadata": {},
   "source": [
    "Далее, определим лучшую модель. Так как в условиях задачи, не указано, какой показатель является наиболее приоритетным, будем считать, что они равнозначны (коэффициенты равны 1). Для определения лучшей модели, отнормируем все показатели по минимому, для каждого отдельного столбца, домножем на поправочные коэффициенты (у нас = 1), и сложим. Лучшей моделью будем считать ту, котороя даст наибольшую оценку."
   ]
  },
  {
   "cell_type": "code",
   "execution_count": 24,
   "metadata": {},
   "outputs": [
    {
     "data": {
      "text/html": [
       "<div>\n",
       "<style scoped>\n",
       "    .dataframe tbody tr th:only-of-type {\n",
       "        vertical-align: middle;\n",
       "    }\n",
       "\n",
       "    .dataframe tbody tr th {\n",
       "        vertical-align: top;\n",
       "    }\n",
       "\n",
       "    .dataframe thead th {\n",
       "        text-align: right;\n",
       "    }\n",
       "</style>\n",
       "<table border=\"1\" class=\"dataframe\">\n",
       "  <thead>\n",
       "    <tr style=\"text-align: right;\">\n",
       "      <th></th>\n",
       "      <th>Обучение</th>\n",
       "      <th>Предсказание</th>\n",
       "      <th>Оценка</th>\n",
       "      <th>Score</th>\n",
       "    </tr>\n",
       "  </thead>\n",
       "  <tbody>\n",
       "    <tr>\n",
       "      <th>DesTree</th>\n",
       "      <td>1.00e+00</td>\n",
       "      <td>1.00</td>\n",
       "      <td>0.73</td>\n",
       "      <td>2.73</td>\n",
       "    </tr>\n",
       "    <tr>\n",
       "      <th>RForest</th>\n",
       "      <td>2.93e-01</td>\n",
       "      <td>0.37</td>\n",
       "      <td>0.74</td>\n",
       "      <td>1.41</td>\n",
       "    </tr>\n",
       "    <tr>\n",
       "      <th>CatBoost</th>\n",
       "      <td>2.49e-02</td>\n",
       "      <td>0.10</td>\n",
       "      <td>0.99</td>\n",
       "      <td>1.11</td>\n",
       "    </tr>\n",
       "    <tr>\n",
       "      <th>LGBM</th>\n",
       "      <td>8.19e-04</td>\n",
       "      <td>0.01</td>\n",
       "      <td>1.00</td>\n",
       "      <td>1.01</td>\n",
       "    </tr>\n",
       "  </tbody>\n",
       "</table>\n",
       "</div>"
      ],
      "text/plain": [
       "          Обучение  Предсказание  Оценка  Score\n",
       "DesTree   1.00e+00          1.00    0.73   2.73\n",
       "RForest   2.93e-01          0.37    0.74   1.41\n",
       "CatBoost  2.49e-02          0.10    0.99   1.11\n",
       "LGBM      8.19e-04          0.01    1.00   1.01"
      ]
     },
     "metadata": {},
     "output_type": "display_data"
    },
    {
     "data": {
      "text/plain": [
       "Index(['DesTree'], dtype='object')"
      ]
     },
     "metadata": {},
     "output_type": "display_data"
    }
   ],
   "source": [
    "list_coef = [1, 1, 1]\n",
    "df['Score'] = [0] * df.shape[0]\n",
    "for col, k in zip(list(df.columns), list_coef):\n",
    "    df['Score'] += (df[col].min() / df[col]) * k\n",
    "    df[col] = df[col].min() / df[col]\n",
    "display(df)\n",
    "display(df[df['Score'] == df['Score'].max()].index)"
   ]
  },
  {
   "cell_type": "markdown",
   "metadata": {},
   "source": [
    "Лучшей моделью по соотношение время/качество явлется Решающее дерево. Его и проверим на тестовой выборке."
   ]
  },
  {
   "cell_type": "markdown",
   "metadata": {},
   "source": [
    "### Выводы"
   ]
  },
  {
   "cell_type": "markdown",
   "metadata": {},
   "source": [
    "В данном разделе, мы обученили 5 моделей (4 рабочих, и одна валидационная). Убедились, что все модели адекватны (результаты лучше, чем у валидационной модели, где используется только среднее значение по выборке). И выбрали наилучшую модель."
   ]
  },
  {
   "cell_type": "markdown",
   "metadata": {},
   "source": [
    "## Анализ моделей"
   ]
  },
  {
   "cell_type": "markdown",
   "metadata": {},
   "source": [
    "Проверим выбранную модель на тестовой выборке."
   ]
  },
  {
   "cell_type": "code",
   "execution_count": 25,
   "metadata": {},
   "outputs": [
    {
     "name": "stdout",
     "output_type": "stream",
     "text": [
      "2062.2165094082297\n"
     ]
    }
   ],
   "source": [
    "model = DecisionTreeRegressor(max_depth=7, random_state=123)\n",
    "model.fit(data_params.drop('Price', axis=1), data_params['Price'])\n",
    "predict = model.predict(data_test.drop('Price', axis=1))\n",
    "print(score1(predict, data_test['Price']))"
   ]
  },
  {
   "cell_type": "markdown",
   "metadata": {},
   "source": [
    "## Выводы"
   ]
  },
  {
   "cell_type": "markdown",
   "metadata": {},
   "source": [
    "В ходе работы были подгруженные исходные данные и необходимые библиотеки. Проведена предобработка и анализ данных. Удалены данные, не влияющие на целевой признак, а так же заполнены пропуски.\n",
    "\n",
    "Далее были исследованы 5 моделей с разными гиперпараметрами. В результате исследования, были выбраны оптимальные гиперпараметры.\n",
    "\n",
    "На конечном этапе, было проведено исследование скорости работы моделей и их качетсва. При условии, игнорирования модели `CatBoost`, наиболее оптимальной видится модель `DecisionTreeRegressor`, которая адекватна (оценка лучше, чем у статичной модели), и при этом имеется лучшие показатели по времени обучения и предсказания."
   ]
  }
 ],
 "metadata": {
  "ExecuteTimeLog": [
   {
    "duration": 1364,
    "start_time": "2022-05-11T20:18:31.013Z"
   },
   {
    "duration": 194,
    "start_time": "2022-05-11T20:19:21.666Z"
   },
   {
    "duration": 9,
    "start_time": "2022-05-11T20:19:27.144Z"
   },
   {
    "duration": 3,
    "start_time": "2022-05-11T20:19:39.309Z"
   },
   {
    "duration": 723,
    "start_time": "2022-05-11T20:20:19.623Z"
   },
   {
    "duration": 3,
    "start_time": "2022-05-11T20:21:18.562Z"
   },
   {
    "duration": 264,
    "start_time": "2022-05-11T20:21:26.339Z"
   },
   {
    "duration": 1704,
    "start_time": "2022-05-11T20:28:41.951Z"
   },
   {
    "duration": 106,
    "start_time": "2022-05-11T20:28:52.128Z"
   },
   {
    "duration": 78,
    "start_time": "2022-05-11T20:31:16.880Z"
   },
   {
    "duration": 271,
    "start_time": "2022-05-11T20:32:21.756Z"
   },
   {
    "duration": 1114,
    "start_time": "2022-05-11T20:33:15.406Z"
   },
   {
    "duration": 706,
    "start_time": "2022-05-11T20:33:16.521Z"
   },
   {
    "duration": 4,
    "start_time": "2022-05-11T20:33:17.229Z"
   },
   {
    "duration": 262,
    "start_time": "2022-05-11T20:33:17.235Z"
   },
   {
    "duration": 507,
    "start_time": "2022-05-11T20:33:17.501Z"
   },
   {
    "duration": 513,
    "start_time": "2022-05-11T20:34:08.337Z"
   },
   {
    "duration": 192,
    "start_time": "2022-05-11T20:36:41.754Z"
   },
   {
    "duration": 344,
    "start_time": "2022-05-11T20:37:09.539Z"
   },
   {
    "duration": 4,
    "start_time": "2022-05-11T20:37:21.486Z"
   },
   {
    "duration": 14,
    "start_time": "2022-05-11T20:37:52.147Z"
   },
   {
    "duration": 13,
    "start_time": "2022-05-11T20:38:11.595Z"
   },
   {
    "duration": 3752,
    "start_time": "2022-05-11T20:38:20.298Z"
   },
   {
    "duration": 4086,
    "start_time": "2022-05-11T20:41:49.746Z"
   },
   {
    "duration": 379,
    "start_time": "2022-05-11T20:42:37.232Z"
   },
   {
    "duration": 392,
    "start_time": "2022-05-11T20:42:44.941Z"
   },
   {
    "duration": 110,
    "start_time": "2022-05-11T20:45:01.034Z"
   },
   {
    "duration": 293,
    "start_time": "2022-05-11T20:45:09.747Z"
   },
   {
    "duration": 4843,
    "start_time": "2022-05-11T20:45:55.023Z"
   },
   {
    "duration": 15,
    "start_time": "2022-05-11T20:46:31.586Z"
   },
   {
    "duration": 5551,
    "start_time": "2022-05-11T20:46:38.799Z"
   },
   {
    "duration": 4773,
    "start_time": "2022-05-11T20:47:15.356Z"
   },
   {
    "duration": 3,
    "start_time": "2022-05-11T20:50:38.772Z"
   },
   {
    "duration": 173,
    "start_time": "2022-05-11T20:50:40.792Z"
   },
   {
    "duration": 9,
    "start_time": "2022-05-11T20:54:59.469Z"
   },
   {
    "duration": 2,
    "start_time": "2022-05-11T20:55:04.250Z"
   },
   {
    "duration": 177,
    "start_time": "2022-05-11T20:55:08.676Z"
   },
   {
    "duration": 188,
    "start_time": "2022-05-11T20:57:15.333Z"
   },
   {
    "duration": 229,
    "start_time": "2022-05-11T21:00:11.537Z"
   },
   {
    "duration": 226,
    "start_time": "2022-05-11T21:00:23.554Z"
   },
   {
    "duration": 33,
    "start_time": "2022-05-11T21:09:31.998Z"
   },
   {
    "duration": 15,
    "start_time": "2022-05-11T21:10:37.496Z"
   },
   {
    "duration": 888,
    "start_time": "2022-05-11T21:10:49.804Z"
   },
   {
    "duration": 3,
    "start_time": "2022-05-11T21:14:36.758Z"
   },
   {
    "duration": 2,
    "start_time": "2022-05-11T21:15:35.023Z"
   },
   {
    "duration": 3,
    "start_time": "2022-05-11T21:19:04.184Z"
   },
   {
    "duration": 119,
    "start_time": "2022-05-11T21:23:08.631Z"
   },
   {
    "duration": 417,
    "start_time": "2022-05-11T21:23:21.135Z"
   },
   {
    "duration": 3,
    "start_time": "2022-05-11T21:23:51.049Z"
   },
   {
    "duration": 327,
    "start_time": "2022-05-11T21:23:52.053Z"
   },
   {
    "duration": 62144,
    "start_time": "2022-05-11T21:24:29.550Z"
   },
   {
    "duration": 1647,
    "start_time": "2022-05-11T21:25:40.709Z"
   },
   {
    "duration": 4,
    "start_time": "2022-05-11T21:25:42.358Z"
   },
   {
    "duration": 850,
    "start_time": "2022-05-11T21:25:42.364Z"
   },
   {
    "duration": 6,
    "start_time": "2022-05-11T21:25:43.217Z"
   },
   {
    "duration": 369,
    "start_time": "2022-05-11T21:25:43.225Z"
   },
   {
    "duration": 805,
    "start_time": "2022-05-11T21:25:43.595Z"
   },
   {
    "duration": 7370,
    "start_time": "2022-05-11T21:25:44.402Z"
   },
   {
    "duration": 213,
    "start_time": "2022-05-11T21:25:51.774Z"
   },
   {
    "duration": 276,
    "start_time": "2022-05-11T21:25:51.989Z"
   },
   {
    "duration": 60,
    "start_time": "2022-05-11T21:25:52.268Z"
   },
   {
    "duration": 960,
    "start_time": "2022-05-11T21:25:52.330Z"
   },
   {
    "duration": 11,
    "start_time": "2022-05-11T21:25:53.291Z"
   },
   {
    "duration": 24,
    "start_time": "2022-05-11T21:25:53.304Z"
   },
   {
    "duration": 31622,
    "start_time": "2022-05-11T21:25:53.329Z"
   },
   {
    "duration": 1650,
    "start_time": "2022-05-11T21:26:37.948Z"
   },
   {
    "duration": 4,
    "start_time": "2022-05-11T21:26:39.604Z"
   },
   {
    "duration": 813,
    "start_time": "2022-05-11T21:26:39.613Z"
   },
   {
    "duration": 7,
    "start_time": "2022-05-11T21:26:40.428Z"
   },
   {
    "duration": 285,
    "start_time": "2022-05-11T21:26:40.437Z"
   },
   {
    "duration": 667,
    "start_time": "2022-05-11T21:26:40.724Z"
   },
   {
    "duration": 4769,
    "start_time": "2022-05-11T21:26:41.392Z"
   },
   {
    "duration": 191,
    "start_time": "2022-05-11T21:26:46.163Z"
   },
   {
    "duration": 266,
    "start_time": "2022-05-11T21:26:46.356Z"
   },
   {
    "duration": 40,
    "start_time": "2022-05-11T21:26:46.624Z"
   },
   {
    "duration": 1001,
    "start_time": "2022-05-11T21:26:46.666Z"
   },
   {
    "duration": 3,
    "start_time": "2022-05-11T21:26:47.668Z"
   },
   {
    "duration": 7,
    "start_time": "2022-05-11T21:26:47.673Z"
   },
   {
    "duration": 13919,
    "start_time": "2022-05-11T21:26:47.682Z"
   },
   {
    "duration": 1572,
    "start_time": "2022-05-11T21:27:41.687Z"
   },
   {
    "duration": 3,
    "start_time": "2022-05-11T21:27:43.262Z"
   },
   {
    "duration": 982,
    "start_time": "2022-05-11T21:27:43.267Z"
   },
   {
    "duration": 4,
    "start_time": "2022-05-11T21:27:44.251Z"
   },
   {
    "duration": 491,
    "start_time": "2022-05-11T21:27:44.257Z"
   },
   {
    "duration": 553,
    "start_time": "2022-05-11T21:27:44.749Z"
   },
   {
    "duration": 5069,
    "start_time": "2022-05-11T21:27:45.304Z"
   },
   {
    "duration": 188,
    "start_time": "2022-05-11T21:27:50.374Z"
   },
   {
    "duration": 263,
    "start_time": "2022-05-11T21:27:50.564Z"
   },
   {
    "duration": 40,
    "start_time": "2022-05-11T21:27:50.829Z"
   },
   {
    "duration": 906,
    "start_time": "2022-05-11T21:27:50.871Z"
   },
   {
    "duration": 3,
    "start_time": "2022-05-11T21:27:51.779Z"
   },
   {
    "duration": 26,
    "start_time": "2022-05-11T21:27:51.784Z"
   },
   {
    "duration": 68065,
    "start_time": "2022-05-11T21:27:51.815Z"
   },
   {
    "duration": 9,
    "start_time": "2022-05-11T21:29:10.226Z"
   },
   {
    "duration": 5,
    "start_time": "2022-05-11T21:29:17.510Z"
   },
   {
    "duration": 4,
    "start_time": "2022-05-11T21:29:28.593Z"
   },
   {
    "duration": 1997,
    "start_time": "2022-05-11T21:29:42.567Z"
   },
   {
    "duration": 3,
    "start_time": "2022-05-11T21:29:44.566Z"
   },
   {
    "duration": 943,
    "start_time": "2022-05-11T21:29:44.570Z"
   },
   {
    "duration": 4,
    "start_time": "2022-05-11T21:29:45.515Z"
   },
   {
    "duration": 261,
    "start_time": "2022-05-11T21:29:45.522Z"
   },
   {
    "duration": 546,
    "start_time": "2022-05-11T21:29:45.785Z"
   },
   {
    "duration": 4593,
    "start_time": "2022-05-11T21:29:46.332Z"
   },
   {
    "duration": 187,
    "start_time": "2022-05-11T21:29:50.927Z"
   },
   {
    "duration": 2816,
    "start_time": "2022-05-11T21:29:51.115Z"
   },
   {
    "duration": 41,
    "start_time": "2022-05-11T21:29:53.933Z"
   },
   {
    "duration": 966,
    "start_time": "2022-05-11T21:29:53.975Z"
   },
   {
    "duration": 2,
    "start_time": "2022-05-11T21:29:54.943Z"
   },
   {
    "duration": 6,
    "start_time": "2022-05-11T21:29:54.947Z"
   },
   {
    "duration": 279829,
    "start_time": "2022-05-11T21:29:54.955Z"
   },
   {
    "duration": 62466,
    "start_time": "2022-05-11T21:37:25.495Z"
   },
   {
    "duration": 68,
    "start_time": "2022-05-11T21:46:27.973Z"
   },
   {
    "duration": 6,
    "start_time": "2022-05-11T21:46:35.258Z"
   },
   {
    "duration": 2,
    "start_time": "2022-05-11T21:47:05.258Z"
   },
   {
    "duration": 6669,
    "start_time": "2022-05-11T21:47:07.555Z"
   },
   {
    "duration": 26294,
    "start_time": "2022-05-11T21:47:36.614Z"
   },
   {
    "duration": 14752,
    "start_time": "2022-05-11T21:48:28.882Z"
   },
   {
    "duration": 9296,
    "start_time": "2022-05-11T21:48:52.297Z"
   },
   {
    "duration": 3207,
    "start_time": "2022-05-11T21:49:08.730Z"
   },
   {
    "duration": 5764,
    "start_time": "2022-05-11T21:50:48.870Z"
   },
   {
    "duration": 283,
    "start_time": "2022-05-11T21:51:30.432Z"
   },
   {
    "duration": 5846,
    "start_time": "2022-05-11T21:51:47.488Z"
   },
   {
    "duration": 5657,
    "start_time": "2022-05-11T21:52:20.150Z"
   },
   {
    "duration": 4,
    "start_time": "2022-05-11T21:53:28.926Z"
   },
   {
    "duration": 3,
    "start_time": "2022-05-11T21:53:30.572Z"
   },
   {
    "duration": 3,
    "start_time": "2022-05-11T21:53:30.917Z"
   },
   {
    "duration": 6309,
    "start_time": "2022-05-11T21:53:32.981Z"
   },
   {
    "duration": 5671,
    "start_time": "2022-05-11T21:53:44.030Z"
   },
   {
    "duration": 3,
    "start_time": "2022-05-11T21:55:16.882Z"
   },
   {
    "duration": 6483,
    "start_time": "2022-05-11T21:55:18.690Z"
   },
   {
    "duration": 5708,
    "start_time": "2022-05-11T21:55:30.861Z"
   },
   {
    "duration": 3,
    "start_time": "2022-05-11T21:57:23.503Z"
   },
   {
    "duration": 7538,
    "start_time": "2022-05-11T21:57:26.485Z"
   },
   {
    "duration": 7056,
    "start_time": "2022-05-11T21:57:39.006Z"
   },
   {
    "duration": 44454,
    "start_time": "2022-05-11T21:57:52.864Z"
   },
   {
    "duration": 221,
    "start_time": "2022-05-11T21:59:05.526Z"
   },
   {
    "duration": 219086,
    "start_time": "2022-05-11T21:59:42.624Z"
   },
   {
    "duration": 1952,
    "start_time": "2022-05-12T07:06:29.722Z"
   },
   {
    "duration": 5,
    "start_time": "2022-05-12T07:07:01.681Z"
   },
   {
    "duration": 251,
    "start_time": "2022-05-12T07:07:50.919Z"
   },
   {
    "duration": 277,
    "start_time": "2022-05-12T07:07:57.791Z"
   },
   {
    "duration": 1739,
    "start_time": "2022-05-12T07:08:37.125Z"
   },
   {
    "duration": 3,
    "start_time": "2022-05-12T07:08:38.867Z"
   },
   {
    "duration": 919,
    "start_time": "2022-05-12T07:08:38.872Z"
   },
   {
    "duration": 4,
    "start_time": "2022-05-12T07:08:39.792Z"
   },
   {
    "duration": 366,
    "start_time": "2022-05-12T07:08:39.799Z"
   },
   {
    "duration": 669,
    "start_time": "2022-05-12T07:08:40.167Z"
   },
   {
    "duration": 5345,
    "start_time": "2022-05-12T07:08:40.837Z"
   },
   {
    "duration": 249,
    "start_time": "2022-05-12T07:08:46.184Z"
   },
   {
    "duration": 288,
    "start_time": "2022-05-12T07:08:46.434Z"
   },
   {
    "duration": 58,
    "start_time": "2022-05-12T07:08:46.723Z"
   },
   {
    "duration": 1253,
    "start_time": "2022-05-12T07:08:46.783Z"
   },
   {
    "duration": 6,
    "start_time": "2022-05-12T07:08:48.042Z"
   },
   {
    "duration": 104732,
    "start_time": "2022-05-12T07:08:48.050Z"
   },
   {
    "duration": 58131,
    "start_time": "2022-05-12T07:10:32.784Z"
   },
   {
    "duration": 228926,
    "start_time": "2022-05-12T07:11:30.917Z"
   },
   {
    "duration": 2446,
    "start_time": "2022-05-12T07:15:19.845Z"
   },
   {
    "duration": 6,
    "start_time": "2022-05-12T07:15:22.293Z"
   },
   {
    "duration": 4,
    "start_time": "2022-05-12T07:22:33.947Z"
   },
   {
    "duration": 7,
    "start_time": "2022-05-12T07:22:33.953Z"
   },
   {
    "duration": 762,
    "start_time": "2022-05-12T07:22:33.970Z"
   },
   {
    "duration": 3,
    "start_time": "2022-05-12T07:22:34.735Z"
   },
   {
    "duration": 344,
    "start_time": "2022-05-12T07:22:34.743Z"
   },
   {
    "duration": 543,
    "start_time": "2022-05-12T07:22:35.089Z"
   },
   {
    "duration": 4987,
    "start_time": "2022-05-12T07:22:35.635Z"
   },
   {
    "duration": 44,
    "start_time": "2022-05-12T07:23:01.766Z"
   },
   {
    "duration": 4,
    "start_time": "2022-05-12T07:24:59.656Z"
   },
   {
    "duration": 67,
    "start_time": "2022-05-12T07:24:59.662Z"
   },
   {
    "duration": 881,
    "start_time": "2022-05-12T07:24:59.731Z"
   },
   {
    "duration": 3,
    "start_time": "2022-05-12T07:25:00.615Z"
   },
   {
    "duration": 299,
    "start_time": "2022-05-12T07:25:00.621Z"
   },
   {
    "duration": 542,
    "start_time": "2022-05-12T07:25:00.922Z"
   },
   {
    "duration": 172240,
    "start_time": "2022-05-12T07:25:05.434Z"
   },
   {
    "duration": 9798,
    "start_time": "2022-05-12T07:28:31.847Z"
   },
   {
    "duration": 4823,
    "start_time": "2022-05-12T07:28:45.666Z"
   },
   {
    "duration": 80821,
    "start_time": "2022-05-12T07:28:53.625Z"
   },
   {
    "duration": 60342,
    "start_time": "2022-05-12T07:30:27.590Z"
   },
   {
    "duration": 54241,
    "start_time": "2022-05-12T07:33:21.766Z"
   },
   {
    "duration": 4,
    "start_time": "2022-05-12T07:34:57.354Z"
   },
   {
    "duration": 42,
    "start_time": "2022-05-12T07:35:34.564Z"
   },
   {
    "duration": 21,
    "start_time": "2022-05-12T07:35:43.298Z"
   },
   {
    "duration": 16947,
    "start_time": "2022-05-12T07:35:51.703Z"
   },
   {
    "duration": 5191,
    "start_time": "2022-05-12T07:36:24.517Z"
   },
   {
    "duration": 15,
    "start_time": "2022-05-12T07:37:21.301Z"
   },
   {
    "duration": 15,
    "start_time": "2022-05-12T07:37:24.053Z"
   },
   {
    "duration": 5327,
    "start_time": "2022-05-12T07:37:36.472Z"
   },
   {
    "duration": 5375,
    "start_time": "2022-05-12T07:38:12.504Z"
   },
   {
    "duration": 5264,
    "start_time": "2022-05-12T07:38:26.956Z"
   },
   {
    "duration": 5119,
    "start_time": "2022-05-12T07:38:50.036Z"
   },
   {
    "duration": 5313,
    "start_time": "2022-05-12T07:39:07.130Z"
   },
   {
    "duration": 5344,
    "start_time": "2022-05-12T07:40:51.899Z"
   },
   {
    "duration": 5303,
    "start_time": "2022-05-12T07:41:04.594Z"
   },
   {
    "duration": 5402,
    "start_time": "2022-05-12T07:41:22.644Z"
   },
   {
    "duration": 5616,
    "start_time": "2022-05-12T07:41:57.334Z"
   },
   {
    "duration": 3914,
    "start_time": "2022-05-12T07:42:13.535Z"
   },
   {
    "duration": 3744,
    "start_time": "2022-05-12T07:42:40.055Z"
   },
   {
    "duration": 4324,
    "start_time": "2022-05-12T07:42:57.382Z"
   },
   {
    "duration": 55599,
    "start_time": "2022-05-12T07:44:07.751Z"
   },
   {
    "duration": 1454,
    "start_time": "2022-05-12T07:50:02.078Z"
   },
   {
    "duration": 18,
    "start_time": "2022-05-12T07:51:20.562Z"
   },
   {
    "duration": 60,
    "start_time": "2022-05-12T07:51:34.706Z"
   },
   {
    "duration": 60,
    "start_time": "2022-05-12T07:51:45.615Z"
   },
   {
    "duration": 53,
    "start_time": "2022-05-12T07:52:14.219Z"
   },
   {
    "duration": 69,
    "start_time": "2022-05-12T07:55:57.332Z"
   },
   {
    "duration": 1746,
    "start_time": "2022-05-12T07:56:34.857Z"
   },
   {
    "duration": 405,
    "start_time": "2022-05-12T08:00:40.319Z"
   },
   {
    "duration": 407,
    "start_time": "2022-05-12T08:01:17.439Z"
   },
   {
    "duration": 29,
    "start_time": "2022-05-12T08:01:38.219Z"
   },
   {
    "duration": 26,
    "start_time": "2022-05-12T08:01:57.671Z"
   },
   {
    "duration": 223,
    "start_time": "2022-05-12T08:02:11.796Z"
   },
   {
    "duration": 8,
    "start_time": "2022-05-12T08:02:16.397Z"
   },
   {
    "duration": 7195,
    "start_time": "2022-05-12T08:02:20.820Z"
   },
   {
    "duration": 291,
    "start_time": "2022-05-12T08:02:56.314Z"
   },
   {
    "duration": 53,
    "start_time": "2022-05-12T08:03:10.031Z"
   },
   {
    "duration": 329,
    "start_time": "2022-05-12T08:03:43.985Z"
   },
   {
    "duration": 50,
    "start_time": "2022-05-12T08:04:12.154Z"
   },
   {
    "duration": 6068,
    "start_time": "2022-05-12T08:04:30.940Z"
   },
   {
    "duration": 5646,
    "start_time": "2022-05-12T08:05:10.934Z"
   },
   {
    "duration": 5700,
    "start_time": "2022-05-12T08:05:31.603Z"
   },
   {
    "duration": 38,
    "start_time": "2022-05-12T08:06:21.776Z"
   },
   {
    "duration": 51,
    "start_time": "2022-05-12T08:06:47.328Z"
   },
   {
    "duration": 4,
    "start_time": "2022-05-12T08:07:09.890Z"
   },
   {
    "duration": 14,
    "start_time": "2022-05-12T08:07:39.838Z"
   },
   {
    "duration": 212,
    "start_time": "2022-05-12T08:08:04.555Z"
   },
   {
    "duration": 60,
    "start_time": "2022-05-12T08:08:08.126Z"
   },
   {
    "duration": 45,
    "start_time": "2022-05-12T08:08:14.962Z"
   },
   {
    "duration": 69,
    "start_time": "2022-05-12T08:08:41.864Z"
   },
   {
    "duration": 1702,
    "start_time": "2022-05-12T08:09:26.911Z"
   },
   {
    "duration": 2067,
    "start_time": "2022-05-12T08:10:29.367Z"
   },
   {
    "duration": 2429,
    "start_time": "2022-05-12T08:10:45.378Z"
   },
   {
    "duration": 6467,
    "start_time": "2022-05-12T08:21:16.462Z"
   },
   {
    "duration": 359,
    "start_time": "2022-05-12T08:33:40.574Z"
   },
   {
    "duration": 287,
    "start_time": "2022-05-12T08:33:57.356Z"
   },
   {
    "duration": 304,
    "start_time": "2022-05-12T08:34:28.697Z"
   },
   {
    "duration": 321,
    "start_time": "2022-05-12T08:34:52.962Z"
   },
   {
    "duration": 338,
    "start_time": "2022-05-12T08:35:06.494Z"
   },
   {
    "duration": 87,
    "start_time": "2022-05-12T08:35:44.337Z"
   },
   {
    "duration": 76,
    "start_time": "2022-05-12T08:36:00.561Z"
   },
   {
    "duration": 103,
    "start_time": "2022-05-12T08:36:06.116Z"
   },
   {
    "duration": 122,
    "start_time": "2022-05-12T08:36:08.165Z"
   },
   {
    "duration": 112,
    "start_time": "2022-05-12T08:36:18.573Z"
   },
   {
    "duration": 107,
    "start_time": "2022-05-12T08:36:21.875Z"
   },
   {
    "duration": 7678,
    "start_time": "2022-05-12T08:36:36.212Z"
   },
   {
    "duration": 2504,
    "start_time": "2022-05-12T08:37:32.939Z"
   },
   {
    "duration": 5,
    "start_time": "2022-05-12T08:38:46.072Z"
   },
   {
    "duration": 52,
    "start_time": "2022-05-12T08:38:46.080Z"
   },
   {
    "duration": 928,
    "start_time": "2022-05-12T08:38:46.134Z"
   },
   {
    "duration": 5,
    "start_time": "2022-05-12T08:38:47.065Z"
   },
   {
    "duration": 520,
    "start_time": "2022-05-12T08:38:47.073Z"
   },
   {
    "duration": 809,
    "start_time": "2022-05-12T08:38:47.595Z"
   },
   {
    "duration": 408,
    "start_time": "2022-05-12T08:38:48.406Z"
   },
   {
    "duration": 6101,
    "start_time": "2022-05-12T08:38:48.817Z"
   },
   {
    "duration": 99,
    "start_time": "2022-05-12T08:38:54.921Z"
   },
   {
    "duration": 2015,
    "start_time": "2022-05-12T08:38:55.022Z"
   },
   {
    "duration": 2856,
    "start_time": "2022-05-12T08:38:57.045Z"
   },
   {
    "duration": 76,
    "start_time": "2022-05-12T08:40:38.127Z"
   },
   {
    "duration": 54,
    "start_time": "2022-05-12T08:43:57.016Z"
   },
   {
    "duration": 165,
    "start_time": "2022-05-12T08:43:57.516Z"
   },
   {
    "duration": 2684,
    "start_time": "2022-05-12T08:44:36.359Z"
   },
   {
    "duration": 1925,
    "start_time": "2022-05-12T08:47:21.587Z"
   },
   {
    "duration": 3,
    "start_time": "2022-05-12T08:47:23.515Z"
   },
   {
    "duration": 1178,
    "start_time": "2022-05-12T08:47:23.519Z"
   },
   {
    "duration": 4,
    "start_time": "2022-05-12T08:47:24.699Z"
   },
   {
    "duration": 372,
    "start_time": "2022-05-12T08:47:24.705Z"
   },
   {
    "duration": 706,
    "start_time": "2022-05-12T08:47:25.080Z"
   },
   {
    "duration": 386,
    "start_time": "2022-05-12T08:47:25.788Z"
   },
   {
    "duration": 5052,
    "start_time": "2022-05-12T08:47:26.176Z"
   },
   {
    "duration": 85,
    "start_time": "2022-05-12T08:47:31.231Z"
   },
   {
    "duration": 1960,
    "start_time": "2022-05-12T08:47:31.319Z"
   },
   {
    "duration": 2591,
    "start_time": "2022-05-12T08:47:33.282Z"
   },
   {
    "duration": 79,
    "start_time": "2022-05-12T08:47:35.875Z"
   },
   {
    "duration": 46,
    "start_time": "2022-05-12T08:47:35.956Z"
   },
   {
    "duration": 108,
    "start_time": "2022-05-12T08:47:36.006Z"
   },
   {
    "duration": 80,
    "start_time": "2022-05-12T08:47:36.117Z"
   },
   {
    "duration": 2404,
    "start_time": "2022-05-12T08:47:36.199Z"
   },
   {
    "duration": 4,
    "start_time": "2022-05-12T08:47:38.605Z"
   },
   {
    "duration": 102604,
    "start_time": "2022-05-12T08:47:38.611Z"
   },
   {
    "duration": 86567,
    "start_time": "2022-05-12T08:49:21.217Z"
   },
   {
    "duration": 41737,
    "start_time": "2022-05-12T08:50:47.786Z"
   },
   {
    "duration": 40321,
    "start_time": "2022-05-12T08:51:29.525Z"
   },
   {
    "duration": 202116,
    "start_time": "2022-05-12T08:52:09.849Z"
   },
   {
    "duration": 179891,
    "start_time": "2022-05-12T08:55:31.967Z"
   },
   {
    "duration": 2163,
    "start_time": "2022-05-12T08:58:31.861Z"
   },
   {
    "duration": 1761,
    "start_time": "2022-05-12T08:58:34.026Z"
   },
   {
    "duration": 177,
    "start_time": "2022-05-12T11:38:38.854Z"
   },
   {
    "duration": 14,
    "start_time": "2022-05-12T11:38:45.408Z"
   },
   {
    "duration": 26,
    "start_time": "2022-05-12T11:39:24.763Z"
   },
   {
    "duration": 16,
    "start_time": "2022-05-12T11:44:35.160Z"
   },
   {
    "duration": 10,
    "start_time": "2022-05-12T11:46:08.843Z"
   },
   {
    "duration": 11,
    "start_time": "2022-05-12T11:46:30.504Z"
   },
   {
    "duration": 122,
    "start_time": "2022-05-12T11:46:32.800Z"
   },
   {
    "duration": 127,
    "start_time": "2022-05-12T11:46:47.027Z"
   },
   {
    "duration": 139,
    "start_time": "2022-05-12T11:47:35.926Z"
   },
   {
    "duration": 11,
    "start_time": "2022-05-12T11:47:40.759Z"
   },
   {
    "duration": 5362,
    "start_time": "2022-05-12T11:47:46.718Z"
   },
   {
    "duration": 4,
    "start_time": "2022-05-12T11:49:20.264Z"
   },
   {
    "duration": 12,
    "start_time": "2022-05-12T11:49:34.031Z"
   },
   {
    "duration": 13,
    "start_time": "2022-05-12T11:49:37.353Z"
   },
   {
    "duration": 5937,
    "start_time": "2022-05-12T11:49:48.186Z"
   },
   {
    "duration": 183,
    "start_time": "2022-05-12T11:50:13.926Z"
   },
   {
    "duration": 4420,
    "start_time": "2022-05-12T11:50:32.794Z"
   },
   {
    "duration": 3063,
    "start_time": "2022-05-12T11:51:01.776Z"
   },
   {
    "duration": 3020,
    "start_time": "2022-05-12T11:51:13.534Z"
   },
   {
    "duration": 3492,
    "start_time": "2022-05-12T11:51:27.976Z"
   },
   {
    "duration": 3019,
    "start_time": "2022-05-12T11:51:56.408Z"
   },
   {
    "duration": 2955,
    "start_time": "2022-05-12T11:52:11.623Z"
   },
   {
    "duration": 7400,
    "start_time": "2022-05-12T11:52:38.914Z"
   },
   {
    "duration": 28,
    "start_time": "2022-05-12T11:58:29.712Z"
   },
   {
    "duration": 17,
    "start_time": "2022-05-12T11:59:19.455Z"
   },
   {
    "duration": 4,
    "start_time": "2022-05-12T11:59:21.856Z"
   },
   {
    "duration": 31,
    "start_time": "2022-05-12T12:01:02.146Z"
   },
   {
    "duration": 494,
    "start_time": "2022-05-12T12:02:05.253Z"
   },
   {
    "duration": 10779,
    "start_time": "2022-05-12T12:02:19.464Z"
   },
   {
    "duration": 5,
    "start_time": "2022-05-12T12:06:26.955Z"
   },
   {
    "duration": 38794,
    "start_time": "2022-05-12T12:06:29.279Z"
   },
   {
    "duration": 4,
    "start_time": "2022-05-12T12:13:04.151Z"
   },
   {
    "duration": 236,
    "start_time": "2022-05-12T12:20:52.508Z"
   },
   {
    "duration": 8,
    "start_time": "2022-05-12T12:21:22.763Z"
   },
   {
    "duration": 74,
    "start_time": "2022-05-12T12:21:49.034Z"
   },
   {
    "duration": 131,
    "start_time": "2022-05-12T12:22:36.239Z"
   },
   {
    "duration": 1940,
    "start_time": "2022-05-12T12:22:42.648Z"
   },
   {
    "duration": 73,
    "start_time": "2022-05-12T12:24:06.242Z"
   },
   {
    "duration": 7517,
    "start_time": "2022-05-12T12:24:59.545Z"
   },
   {
    "duration": 1942,
    "start_time": "2022-05-12T12:25:57.709Z"
   },
   {
    "duration": 1786,
    "start_time": "2022-05-12T12:28:56.153Z"
   },
   {
    "duration": 1903,
    "start_time": "2022-05-12T12:29:17.361Z"
   },
   {
    "duration": 1185,
    "start_time": "2022-05-12T12:30:56.357Z"
   },
   {
    "duration": 1104,
    "start_time": "2022-05-12T12:31:14.032Z"
   },
   {
    "duration": 3072,
    "start_time": "2022-05-12T12:31:21.202Z"
   },
   {
    "duration": 5,
    "start_time": "2022-05-12T12:32:14.008Z"
   },
   {
    "duration": 10,
    "start_time": "2022-05-12T12:32:14.015Z"
   },
   {
    "duration": 1246,
    "start_time": "2022-05-12T12:32:14.026Z"
   },
   {
    "duration": 4,
    "start_time": "2022-05-12T12:32:15.274Z"
   },
   {
    "duration": 347,
    "start_time": "2022-05-12T12:32:15.279Z"
   },
   {
    "duration": 575,
    "start_time": "2022-05-12T12:32:15.629Z"
   },
   {
    "duration": 296,
    "start_time": "2022-05-12T12:32:16.207Z"
   },
   {
    "duration": 4124,
    "start_time": "2022-05-12T12:32:16.505Z"
   },
   {
    "duration": 88,
    "start_time": "2022-05-12T12:32:20.631Z"
   },
   {
    "duration": 1007,
    "start_time": "2022-05-12T12:32:20.722Z"
   },
   {
    "duration": 4103,
    "start_time": "2022-05-12T12:32:21.730Z"
   },
   {
    "duration": 2456,
    "start_time": "2022-05-12T12:33:37.007Z"
   },
   {
    "duration": 694,
    "start_time": "2022-05-12T12:34:12.045Z"
   },
   {
    "duration": 1671,
    "start_time": "2022-05-12T12:34:26.297Z"
   },
   {
    "duration": 1436,
    "start_time": "2022-05-12T12:35:30.584Z"
   },
   {
    "duration": 1340,
    "start_time": "2022-05-12T12:35:44.783Z"
   },
   {
    "duration": 347,
    "start_time": "2022-05-12T12:35:57.838Z"
   },
   {
    "duration": 344,
    "start_time": "2022-05-12T12:36:37.709Z"
   },
   {
    "duration": 487,
    "start_time": "2022-05-12T12:36:43.305Z"
   },
   {
    "duration": 352,
    "start_time": "2022-05-12T12:38:38.785Z"
   },
   {
    "duration": 342,
    "start_time": "2022-05-12T12:39:40.831Z"
   },
   {
    "duration": 450,
    "start_time": "2022-05-12T12:39:48.536Z"
   },
   {
    "duration": 341,
    "start_time": "2022-05-12T12:40:02.791Z"
   },
   {
    "duration": 358,
    "start_time": "2022-05-12T12:40:09.189Z"
   },
   {
    "duration": 336,
    "start_time": "2022-05-12T12:40:25.362Z"
   },
   {
    "duration": 460,
    "start_time": "2022-05-12T12:40:48.176Z"
   },
   {
    "duration": 323,
    "start_time": "2022-05-12T12:41:48.733Z"
   },
   {
    "duration": 338,
    "start_time": "2022-05-12T12:42:01.372Z"
   },
   {
    "duration": 6704,
    "start_time": "2022-05-12T12:42:32.434Z"
   },
   {
    "duration": 235,
    "start_time": "2022-05-12T12:43:17.952Z"
   },
   {
    "duration": 173,
    "start_time": "2022-05-12T12:43:21.534Z"
   },
   {
    "duration": 324,
    "start_time": "2022-05-12T12:43:54.597Z"
   },
   {
    "duration": 199,
    "start_time": "2022-05-12T12:44:28.588Z"
   },
   {
    "duration": 318,
    "start_time": "2022-05-12T12:44:35.751Z"
   },
   {
    "duration": 65,
    "start_time": "2022-05-12T12:45:45.289Z"
   },
   {
    "duration": 70,
    "start_time": "2022-05-12T12:47:05.785Z"
   },
   {
    "duration": 77,
    "start_time": "2022-05-12T12:47:22.070Z"
   },
   {
    "duration": 134,
    "start_time": "2022-05-12T12:47:29.423Z"
   },
   {
    "duration": 143,
    "start_time": "2022-05-12T12:47:32.167Z"
   },
   {
    "duration": 64,
    "start_time": "2022-05-12T12:47:34.405Z"
   },
   {
    "duration": 37,
    "start_time": "2022-05-12T12:48:57.801Z"
   },
   {
    "duration": 37,
    "start_time": "2022-05-12T12:52:26.943Z"
   },
   {
    "duration": 57,
    "start_time": "2022-05-12T12:53:20.803Z"
   },
   {
    "duration": 4,
    "start_time": "2022-05-12T12:54:08.620Z"
   },
   {
    "duration": 36,
    "start_time": "2022-05-12T12:54:08.626Z"
   },
   {
    "duration": 768,
    "start_time": "2022-05-12T12:54:08.664Z"
   },
   {
    "duration": 9,
    "start_time": "2022-05-12T12:54:09.434Z"
   },
   {
    "duration": 272,
    "start_time": "2022-05-12T12:54:09.445Z"
   },
   {
    "duration": 509,
    "start_time": "2022-05-12T12:54:09.718Z"
   },
   {
    "duration": 288,
    "start_time": "2022-05-12T12:54:10.229Z"
   },
   {
    "duration": 3817,
    "start_time": "2022-05-12T12:54:10.519Z"
   },
   {
    "duration": 71,
    "start_time": "2022-05-12T12:54:14.338Z"
   },
   {
    "duration": 1272,
    "start_time": "2022-05-12T12:54:14.412Z"
   },
   {
    "duration": 2285,
    "start_time": "2022-05-12T12:54:15.685Z"
   },
   {
    "duration": 61,
    "start_time": "2022-05-12T12:54:17.971Z"
   },
   {
    "duration": 45,
    "start_time": "2022-05-12T12:54:18.042Z"
   },
   {
    "duration": 35,
    "start_time": "2022-05-12T12:54:18.089Z"
   },
   {
    "duration": 57,
    "start_time": "2022-05-12T12:54:18.143Z"
   },
   {
    "duration": 43,
    "start_time": "2022-05-12T12:54:56.642Z"
   },
   {
    "duration": 1597,
    "start_time": "2022-05-12T12:55:34.481Z"
   },
   {
    "duration": 1960,
    "start_time": "2022-05-12T12:57:44.418Z"
   },
   {
    "duration": 456,
    "start_time": "2022-05-12T12:58:54.349Z"
   },
   {
    "duration": 725,
    "start_time": "2022-05-12T12:59:03.489Z"
   },
   {
    "duration": 175780,
    "start_time": "2022-05-12T13:04:35.768Z"
   },
   {
    "duration": 41840,
    "start_time": "2022-05-12T13:08:29.311Z"
   },
   {
    "duration": 337545,
    "start_time": "2022-05-12T13:09:25.983Z"
   },
   {
    "duration": 1805,
    "start_time": "2022-05-12T13:15:52.063Z"
   },
   {
    "duration": 3,
    "start_time": "2022-05-12T13:15:53.871Z"
   },
   {
    "duration": 1271,
    "start_time": "2022-05-12T13:15:53.879Z"
   },
   {
    "duration": 3,
    "start_time": "2022-05-12T13:15:55.153Z"
   },
   {
    "duration": 306,
    "start_time": "2022-05-12T13:15:55.158Z"
   },
   {
    "duration": 610,
    "start_time": "2022-05-12T13:15:55.466Z"
   },
   {
    "duration": 325,
    "start_time": "2022-05-12T13:15:56.078Z"
   },
   {
    "duration": 4028,
    "start_time": "2022-05-12T13:15:56.405Z"
   },
   {
    "duration": 81,
    "start_time": "2022-05-12T13:16:00.435Z"
   },
   {
    "duration": 1418,
    "start_time": "2022-05-12T13:16:00.518Z"
   },
   {
    "duration": 2220,
    "start_time": "2022-05-12T13:16:01.938Z"
   },
   {
    "duration": 84,
    "start_time": "2022-05-12T13:16:04.160Z"
   },
   {
    "duration": 44,
    "start_time": "2022-05-12T13:16:04.247Z"
   },
   {
    "duration": 57,
    "start_time": "2022-05-12T13:16:04.292Z"
   },
   {
    "duration": 60,
    "start_time": "2022-05-12T13:16:04.351Z"
   },
   {
    "duration": 1768,
    "start_time": "2022-05-12T13:16:04.413Z"
   },
   {
    "duration": 810,
    "start_time": "2022-05-12T13:16:06.183Z"
   },
   {
    "duration": 5,
    "start_time": "2022-05-12T13:16:06.995Z"
   },
   {
    "duration": 341794,
    "start_time": "2022-05-12T13:16:07.002Z"
   },
   {
    "duration": 51341,
    "start_time": "2022-05-12T13:21:48.797Z"
   },
   {
    "duration": 14033,
    "start_time": "2022-05-12T13:22:40.143Z"
   },
   {
    "duration": 16017,
    "start_time": "2022-05-12T13:22:54.178Z"
   },
   {
    "duration": 30237,
    "start_time": "2022-05-12T13:23:10.197Z"
   },
   {
    "duration": 92414,
    "start_time": "2022-05-12T13:23:40.436Z"
   },
   {
    "duration": 1694,
    "start_time": "2022-05-12T13:26:35.718Z"
   },
   {
    "duration": 3,
    "start_time": "2022-05-12T13:26:37.415Z"
   },
   {
    "duration": 858,
    "start_time": "2022-05-12T13:26:37.419Z"
   },
   {
    "duration": 3,
    "start_time": "2022-05-12T13:26:38.279Z"
   },
   {
    "duration": 289,
    "start_time": "2022-05-12T13:26:38.285Z"
   },
   {
    "duration": 573,
    "start_time": "2022-05-12T13:26:38.576Z"
   },
   {
    "duration": 320,
    "start_time": "2022-05-12T13:26:39.151Z"
   },
   {
    "duration": 4003,
    "start_time": "2022-05-12T13:26:39.473Z"
   },
   {
    "duration": 79,
    "start_time": "2022-05-12T13:26:43.478Z"
   },
   {
    "duration": 1320,
    "start_time": "2022-05-12T13:26:43.559Z"
   },
   {
    "duration": 2171,
    "start_time": "2022-05-12T13:26:44.881Z"
   },
   {
    "duration": 75,
    "start_time": "2022-05-12T13:26:47.053Z"
   },
   {
    "duration": 50,
    "start_time": "2022-05-12T13:26:47.130Z"
   },
   {
    "duration": 35,
    "start_time": "2022-05-12T13:26:47.183Z"
   },
   {
    "duration": 79,
    "start_time": "2022-05-12T13:26:47.220Z"
   },
   {
    "duration": 1680,
    "start_time": "2022-05-12T13:26:47.302Z"
   },
   {
    "duration": 785,
    "start_time": "2022-05-12T13:26:48.983Z"
   },
   {
    "duration": 4,
    "start_time": "2022-05-12T13:26:49.771Z"
   },
   {
    "duration": 143,
    "start_time": "2022-05-12T13:26:49.777Z"
   },
   {
    "duration": 33934,
    "start_time": "2022-05-12T13:26:57.063Z"
   },
   {
    "duration": 458312,
    "start_time": "2022-05-12T13:28:04.744Z"
   },
   {
    "duration": 426,
    "start_time": "2022-05-12T13:39:45.158Z"
   },
   {
    "duration": 6216,
    "start_time": "2022-05-12T13:40:05.494Z"
   },
   {
    "duration": 5234,
    "start_time": "2022-05-12T13:41:24.697Z"
   },
   {
    "duration": 67153,
    "start_time": "2022-05-12T13:42:07.470Z"
   },
   {
    "duration": 4986,
    "start_time": "2022-05-12T13:43:57.311Z"
   },
   {
    "duration": 7873,
    "start_time": "2022-05-12T13:44:08.584Z"
   },
   {
    "duration": 15452,
    "start_time": "2022-05-12T13:44:26.108Z"
   },
   {
    "duration": 14673,
    "start_time": "2022-05-12T13:45:12.804Z"
   },
   {
    "duration": 10089,
    "start_time": "2022-05-12T13:46:44.602Z"
   },
   {
    "duration": 854937,
    "start_time": "2022-05-12T13:46:56.507Z"
   },
   {
    "duration": 14,
    "start_time": "2022-05-12T14:05:30.570Z"
   },
   {
    "duration": 107995,
    "start_time": "2022-05-12T14:06:09.294Z"
   },
   {
    "duration": 34604,
    "start_time": "2022-05-12T14:09:41.956Z"
   },
   {
    "duration": 2135,
    "start_time": "2022-05-12T14:11:11.336Z"
   },
   {
    "duration": 7,
    "start_time": "2022-05-12T14:11:13.474Z"
   },
   {
    "duration": 1692,
    "start_time": "2022-05-12T14:11:13.485Z"
   },
   {
    "duration": 5,
    "start_time": "2022-05-12T14:11:15.180Z"
   },
   {
    "duration": 450,
    "start_time": "2022-05-12T14:11:15.188Z"
   },
   {
    "duration": 647,
    "start_time": "2022-05-12T14:11:15.643Z"
   },
   {
    "duration": 343,
    "start_time": "2022-05-12T14:11:16.292Z"
   },
   {
    "duration": 4477,
    "start_time": "2022-05-12T14:11:16.637Z"
   },
   {
    "duration": 85,
    "start_time": "2022-05-12T14:11:21.116Z"
   },
   {
    "duration": 1453,
    "start_time": "2022-05-12T14:11:21.203Z"
   },
   {
    "duration": 2329,
    "start_time": "2022-05-12T14:11:22.657Z"
   },
   {
    "duration": 85,
    "start_time": "2022-05-12T14:11:24.988Z"
   },
   {
    "duration": 37,
    "start_time": "2022-05-12T14:11:25.075Z"
   },
   {
    "duration": 38,
    "start_time": "2022-05-12T14:11:25.115Z"
   },
   {
    "duration": 58,
    "start_time": "2022-05-12T14:11:25.155Z"
   },
   {
    "duration": 1714,
    "start_time": "2022-05-12T14:11:25.215Z"
   },
   {
    "duration": 829,
    "start_time": "2022-05-12T14:11:26.931Z"
   },
   {
    "duration": 5,
    "start_time": "2022-05-12T14:11:27.764Z"
   },
   {
    "duration": 980320,
    "start_time": "2022-05-12T14:11:27.771Z"
   },
   {
    "duration": 12940,
    "start_time": "2022-05-12T14:27:48.092Z"
   },
   {
    "duration": 478472,
    "start_time": "2022-05-12T14:28:01.033Z"
   },
   {
    "duration": 30,
    "start_time": "2022-05-12T14:38:55.372Z"
   },
   {
    "duration": 4,
    "start_time": "2022-05-12T14:39:26.297Z"
   },
   {
    "duration": 16,
    "start_time": "2022-05-12T14:39:26.303Z"
   },
   {
    "duration": 1351,
    "start_time": "2022-05-12T14:39:26.321Z"
   },
   {
    "duration": 5,
    "start_time": "2022-05-12T14:39:27.676Z"
   },
   {
    "duration": 530,
    "start_time": "2022-05-12T14:39:27.684Z"
   },
   {
    "duration": 588,
    "start_time": "2022-05-12T14:39:28.217Z"
   },
   {
    "duration": 305,
    "start_time": "2022-05-12T14:39:28.808Z"
   },
   {
    "duration": 6592,
    "start_time": "2022-05-12T14:39:29.115Z"
   },
   {
    "duration": 83,
    "start_time": "2022-05-12T14:39:35.709Z"
   },
   {
    "duration": 1642,
    "start_time": "2022-05-12T14:39:35.795Z"
   },
   {
    "duration": 2786,
    "start_time": "2022-05-12T14:39:37.443Z"
   },
   {
    "duration": 78,
    "start_time": "2022-05-12T14:39:40.231Z"
   },
   {
    "duration": 121,
    "start_time": "2022-05-12T14:40:48.704Z"
   },
   {
    "duration": 89,
    "start_time": "2022-05-12T14:41:15.858Z"
   },
   {
    "duration": 158,
    "start_time": "2022-05-12T14:43:20.846Z"
   },
   {
    "duration": 136,
    "start_time": "2022-05-12T14:55:23.595Z"
   },
   {
    "duration": 8,
    "start_time": "2022-05-12T14:55:27.799Z"
   },
   {
    "duration": 4,
    "start_time": "2022-05-12T14:55:34.624Z"
   },
   {
    "duration": 6,
    "start_time": "2022-05-12T15:01:22.973Z"
   },
   {
    "duration": 9968,
    "start_time": "2022-05-12T15:08:23.093Z"
   },
   {
    "duration": 7,
    "start_time": "2022-05-12T15:09:00.110Z"
   },
   {
    "duration": 195489,
    "start_time": "2022-05-12T15:09:00.576Z"
   },
   {
    "duration": 1781,
    "start_time": "2022-05-12T15:13:39.728Z"
   },
   {
    "duration": 3,
    "start_time": "2022-05-12T15:13:41.511Z"
   },
   {
    "duration": 985,
    "start_time": "2022-05-12T15:13:41.515Z"
   },
   {
    "duration": 4,
    "start_time": "2022-05-12T15:13:42.502Z"
   },
   {
    "duration": 370,
    "start_time": "2022-05-12T15:13:42.508Z"
   },
   {
    "duration": 678,
    "start_time": "2022-05-12T15:13:42.880Z"
   },
   {
    "duration": 357,
    "start_time": "2022-05-12T15:13:43.560Z"
   },
   {
    "duration": 4541,
    "start_time": "2022-05-12T15:13:43.920Z"
   },
   {
    "duration": 96,
    "start_time": "2022-05-12T15:13:48.463Z"
   },
   {
    "duration": 1498,
    "start_time": "2022-05-12T15:13:48.561Z"
   },
   {
    "duration": 2349,
    "start_time": "2022-05-12T15:13:50.061Z"
   },
   {
    "duration": 113,
    "start_time": "2022-05-12T15:13:52.412Z"
   },
   {
    "duration": 60,
    "start_time": "2022-05-12T15:13:52.527Z"
   },
   {
    "duration": 53,
    "start_time": "2022-05-12T15:13:52.591Z"
   },
   {
    "duration": 63,
    "start_time": "2022-05-12T15:13:52.646Z"
   },
   {
    "duration": 2197,
    "start_time": "2022-05-12T15:13:52.711Z"
   },
   {
    "duration": 869,
    "start_time": "2022-05-12T15:13:54.911Z"
   },
   {
    "duration": 5,
    "start_time": "2022-05-12T15:13:55.782Z"
   },
   {
    "duration": 753021,
    "start_time": "2022-05-12T15:13:55.788Z"
   },
   {
    "duration": 12720,
    "start_time": "2022-05-12T15:26:28.812Z"
   },
   {
    "duration": 53121,
    "start_time": "2022-05-12T15:26:41.534Z"
   },
   {
    "duration": 5,
    "start_time": "2022-05-12T15:27:34.657Z"
   },
   {
    "duration": 89905,
    "start_time": "2022-05-12T15:27:34.664Z"
   },
   {
    "duration": 4,
    "start_time": "2022-05-12T15:31:19.102Z"
   },
   {
    "duration": 13,
    "start_time": "2022-05-12T15:31:56.149Z"
   },
   {
    "duration": 147,
    "start_time": "2022-05-12T15:34:35.853Z"
   },
   {
    "duration": 4,
    "start_time": "2022-05-12T15:34:59.893Z"
   },
   {
    "duration": 13,
    "start_time": "2022-05-12T15:35:15.333Z"
   },
   {
    "duration": 12,
    "start_time": "2022-05-12T15:35:36.180Z"
   },
   {
    "duration": 13,
    "start_time": "2022-05-12T15:35:39.860Z"
   },
   {
    "duration": 22,
    "start_time": "2022-05-12T15:37:27.725Z"
   },
   {
    "duration": 28,
    "start_time": "2022-05-12T15:37:42.705Z"
   },
   {
    "duration": 9,
    "start_time": "2022-05-12T15:38:19.025Z"
   },
   {
    "duration": 2,
    "start_time": "2022-05-12T15:46:28.725Z"
   },
   {
    "duration": 1831,
    "start_time": "2022-05-12T15:55:31.222Z"
   },
   {
    "duration": 3,
    "start_time": "2022-05-12T15:55:33.056Z"
   },
   {
    "duration": 1361,
    "start_time": "2022-05-12T15:55:33.060Z"
   },
   {
    "duration": 4,
    "start_time": "2022-05-12T15:55:34.422Z"
   },
   {
    "duration": 360,
    "start_time": "2022-05-12T15:55:34.428Z"
   },
   {
    "duration": 644,
    "start_time": "2022-05-12T15:55:34.790Z"
   },
   {
    "duration": 340,
    "start_time": "2022-05-12T15:55:35.436Z"
   },
   {
    "duration": 4500,
    "start_time": "2022-05-12T15:55:35.778Z"
   },
   {
    "duration": 95,
    "start_time": "2022-05-12T15:55:40.280Z"
   },
   {
    "duration": 1409,
    "start_time": "2022-05-12T15:55:40.377Z"
   },
   {
    "duration": 2306,
    "start_time": "2022-05-12T15:55:41.787Z"
   },
   {
    "duration": 99,
    "start_time": "2022-05-12T15:55:44.095Z"
   },
   {
    "duration": 55,
    "start_time": "2022-05-12T15:55:44.197Z"
   },
   {
    "duration": 24,
    "start_time": "2022-05-12T15:55:44.261Z"
   },
   {
    "duration": 69,
    "start_time": "2022-05-12T15:55:44.287Z"
   },
   {
    "duration": 1800,
    "start_time": "2022-05-12T15:55:44.358Z"
   },
   {
    "duration": 832,
    "start_time": "2022-05-12T15:55:46.160Z"
   },
   {
    "duration": 5,
    "start_time": "2022-05-12T15:55:46.994Z"
   },
   {
    "duration": 995233,
    "start_time": "2022-05-12T15:55:47.001Z"
   },
   {
    "duration": 14256,
    "start_time": "2022-05-12T16:12:22.236Z"
   },
   {
    "duration": 48569,
    "start_time": "2022-05-12T16:12:36.495Z"
   },
   {
    "duration": 80,
    "start_time": "2022-05-12T16:13:25.066Z"
   },
   {
    "duration": 6,
    "start_time": "2022-05-12T16:13:25.155Z"
   },
   {
    "duration": 91291,
    "start_time": "2022-05-12T16:13:25.163Z"
   },
   {
    "duration": 10,
    "start_time": "2022-05-12T16:14:56.458Z"
   },
   {
    "duration": 1892,
    "start_time": "2022-05-13T06:22:56.091Z"
   },
   {
    "duration": 3,
    "start_time": "2022-05-13T06:22:57.985Z"
   },
   {
    "duration": 835,
    "start_time": "2022-05-13T06:22:57.989Z"
   },
   {
    "duration": 3,
    "start_time": "2022-05-13T06:22:58.827Z"
   },
   {
    "duration": 297,
    "start_time": "2022-05-13T06:22:58.831Z"
   },
   {
    "duration": 578,
    "start_time": "2022-05-13T06:22:59.130Z"
   },
   {
    "duration": 314,
    "start_time": "2022-05-13T06:22:59.710Z"
   },
   {
    "duration": 3863,
    "start_time": "2022-05-13T06:23:00.025Z"
   },
   {
    "duration": 78,
    "start_time": "2022-05-13T06:23:03.890Z"
   },
   {
    "duration": 1349,
    "start_time": "2022-05-13T06:23:03.971Z"
   },
   {
    "duration": 2204,
    "start_time": "2022-05-13T06:23:05.321Z"
   },
   {
    "duration": 98,
    "start_time": "2022-05-13T06:23:07.527Z"
   },
   {
    "duration": 36,
    "start_time": "2022-05-13T06:23:07.627Z"
   },
   {
    "duration": 22,
    "start_time": "2022-05-13T06:23:07.665Z"
   },
   {
    "duration": 73,
    "start_time": "2022-05-13T06:23:07.689Z"
   },
   {
    "duration": 1765,
    "start_time": "2022-05-13T06:23:07.764Z"
   },
   {
    "duration": 753,
    "start_time": "2022-05-13T06:23:09.531Z"
   },
   {
    "duration": 5,
    "start_time": "2022-05-13T06:23:10.286Z"
   },
   {
    "duration": 553497,
    "start_time": "2022-05-13T06:23:10.292Z"
   },
   {
    "duration": 12765,
    "start_time": "2022-05-13T06:32:23.792Z"
   },
   {
    "duration": 17964,
    "start_time": "2022-05-13T06:32:36.559Z"
   },
   {
    "duration": 4,
    "start_time": "2022-05-13T06:32:54.525Z"
   },
   {
    "duration": 5,
    "start_time": "2022-05-13T06:32:54.531Z"
   },
   {
    "duration": 62099,
    "start_time": "2022-05-13T06:32:54.538Z"
   },
   {
    "duration": 10,
    "start_time": "2022-05-13T06:33:56.638Z"
   },
   {
    "duration": 46,
    "start_time": "2022-05-13T12:43:15.564Z"
   },
   {
    "duration": 2000,
    "start_time": "2022-05-13T12:43:25.508Z"
   },
   {
    "duration": 4,
    "start_time": "2022-05-13T12:43:27.511Z"
   },
   {
    "duration": 1143,
    "start_time": "2022-05-13T12:43:27.516Z"
   },
   {
    "duration": 4,
    "start_time": "2022-05-13T12:43:28.661Z"
   },
   {
    "duration": 478,
    "start_time": "2022-05-13T12:43:28.667Z"
   },
   {
    "duration": 607,
    "start_time": "2022-05-13T12:43:29.146Z"
   },
   {
    "duration": 310,
    "start_time": "2022-05-13T12:43:29.755Z"
   },
   {
    "duration": 80,
    "start_time": "2022-05-13T12:43:34.859Z"
   },
   {
    "duration": 191,
    "start_time": "2022-05-13T12:43:38.956Z"
   },
   {
    "duration": 12,
    "start_time": "2022-05-13T12:44:10.444Z"
   },
   {
    "duration": 37,
    "start_time": "2022-05-13T12:44:13.681Z"
   },
   {
    "duration": 350,
    "start_time": "2022-05-13T12:44:25.875Z"
   },
   {
    "duration": 30,
    "start_time": "2022-05-13T12:45:20.642Z"
   },
   {
    "duration": 280,
    "start_time": "2022-05-13T12:45:40.766Z"
   },
   {
    "duration": 177,
    "start_time": "2022-05-13T12:45:57.566Z"
   },
   {
    "duration": 95,
    "start_time": "2022-05-13T12:47:01.428Z"
   },
   {
    "duration": 153,
    "start_time": "2022-05-13T12:47:13.592Z"
   },
   {
    "duration": 1450,
    "start_time": "2022-05-13T13:09:53.726Z"
   },
   {
    "duration": 3629,
    "start_time": "2022-05-13T13:10:12.798Z"
   },
   {
    "duration": 12,
    "start_time": "2022-05-13T13:10:55.612Z"
   },
   {
    "duration": 82,
    "start_time": "2022-05-13T13:10:59.900Z"
   },
   {
    "duration": 823,
    "start_time": "2022-05-13T13:11:02.418Z"
   },
   {
    "duration": 939,
    "start_time": "2022-05-13T13:11:07.161Z"
   },
   {
    "duration": 742,
    "start_time": "2022-05-13T13:11:34.166Z"
   },
   {
    "duration": 86,
    "start_time": "2022-05-13T13:15:17.587Z"
   },
   {
    "duration": 80,
    "start_time": "2022-05-13T13:15:41.977Z"
   },
   {
    "duration": 12,
    "start_time": "2022-05-13T13:16:19.582Z"
   },
   {
    "duration": 13,
    "start_time": "2022-05-13T13:16:51.279Z"
   },
   {
    "duration": 4,
    "start_time": "2022-05-13T13:17:03.308Z"
   },
   {
    "duration": 21,
    "start_time": "2022-05-13T13:17:03.313Z"
   },
   {
    "duration": 9805,
    "start_time": "2022-05-13T13:17:03.335Z"
   },
   {
    "duration": 3,
    "start_time": "2022-05-13T13:17:13.142Z"
   },
   {
    "duration": 248,
    "start_time": "2022-05-13T13:17:13.147Z"
   },
   {
    "duration": 475,
    "start_time": "2022-05-13T13:17:13.400Z"
   },
   {
    "duration": 254,
    "start_time": "2022-05-13T13:17:13.877Z"
   },
   {
    "duration": 3605,
    "start_time": "2022-05-13T13:17:14.133Z"
   },
   {
    "duration": 70,
    "start_time": "2022-05-13T13:17:17.741Z"
   },
   {
    "duration": 911,
    "start_time": "2022-05-13T13:17:17.812Z"
   },
   {
    "duration": 1122,
    "start_time": "2022-05-13T13:17:18.725Z"
   },
   {
    "duration": 2049,
    "start_time": "2022-05-13T13:17:19.848Z"
   },
   {
    "duration": 80,
    "start_time": "2022-05-13T13:17:21.900Z"
   },
   {
    "duration": 13,
    "start_time": "2022-05-13T13:17:34.218Z"
   },
   {
    "duration": 36,
    "start_time": "2022-05-13T13:17:57.244Z"
   },
   {
    "duration": 8,
    "start_time": "2022-05-13T13:18:37.660Z"
   },
   {
    "duration": 13,
    "start_time": "2022-05-13T13:18:40.784Z"
   },
   {
    "duration": 48,
    "start_time": "2022-05-13T13:18:41.934Z"
   },
   {
    "duration": 316,
    "start_time": "2022-05-13T13:20:24.438Z"
   },
   {
    "duration": 10,
    "start_time": "2022-05-13T13:20:39.984Z"
   },
   {
    "duration": 3,
    "start_time": "2022-05-13T13:20:50.236Z"
   },
   {
    "duration": 41,
    "start_time": "2022-05-13T13:21:44.804Z"
   },
   {
    "duration": 1319,
    "start_time": "2022-05-13T13:21:47.950Z"
   },
   {
    "duration": 783,
    "start_time": "2022-05-13T13:22:55.413Z"
   },
   {
    "duration": 820,
    "start_time": "2022-05-13T13:23:11.012Z"
   },
   {
    "duration": 38,
    "start_time": "2022-05-13T13:23:30.909Z"
   },
   {
    "duration": 5408,
    "start_time": "2022-05-13T13:23:51.770Z"
   },
   {
    "duration": 1626,
    "start_time": "2022-05-13T13:24:37.009Z"
   },
   {
    "duration": 3,
    "start_time": "2022-05-13T13:24:38.637Z"
   },
   {
    "duration": 836,
    "start_time": "2022-05-13T13:24:38.641Z"
   },
   {
    "duration": 3,
    "start_time": "2022-05-13T13:24:39.479Z"
   },
   {
    "duration": 271,
    "start_time": "2022-05-13T13:24:39.484Z"
   },
   {
    "duration": 797,
    "start_time": "2022-05-13T13:24:39.757Z"
   },
   {
    "duration": 414,
    "start_time": "2022-05-13T13:24:40.555Z"
   },
   {
    "duration": 4429,
    "start_time": "2022-05-13T13:24:40.971Z"
   },
   {
    "duration": 61,
    "start_time": "2022-05-13T13:24:45.402Z"
   },
   {
    "duration": 868,
    "start_time": "2022-05-13T13:24:45.465Z"
   },
   {
    "duration": 1323,
    "start_time": "2022-05-13T13:24:46.335Z"
   },
   {
    "duration": 2169,
    "start_time": "2022-05-13T13:24:47.660Z"
   },
   {
    "duration": 93,
    "start_time": "2022-05-13T13:24:49.830Z"
   },
   {
    "duration": 34,
    "start_time": "2022-05-13T13:24:49.926Z"
   },
   {
    "duration": 53,
    "start_time": "2022-05-13T13:24:49.962Z"
   },
   {
    "duration": 51,
    "start_time": "2022-05-13T13:24:50.017Z"
   },
   {
    "duration": 30,
    "start_time": "2022-05-13T13:24:50.070Z"
   },
   {
    "duration": 1210,
    "start_time": "2022-05-13T13:24:50.102Z"
   },
   {
    "duration": 638,
    "start_time": "2022-05-13T13:25:28.856Z"
   },
   {
    "duration": 764,
    "start_time": "2022-05-13T13:25:59.784Z"
   },
   {
    "duration": 111,
    "start_time": "2022-05-13T13:27:48.812Z"
   },
   {
    "duration": 12,
    "start_time": "2022-05-13T13:27:58.431Z"
   },
   {
    "duration": 15,
    "start_time": "2022-05-13T13:28:05.603Z"
   },
   {
    "duration": 13,
    "start_time": "2022-05-13T13:28:19.854Z"
   },
   {
    "duration": 4,
    "start_time": "2022-05-13T13:28:27.193Z"
   },
   {
    "duration": 605636,
    "start_time": "2022-05-13T13:28:29.086Z"
   },
   {
    "duration": 16428,
    "start_time": "2022-05-13T13:46:38.828Z"
   },
   {
    "duration": 22208,
    "start_time": "2022-05-13T13:46:59.902Z"
   },
   {
    "duration": 3,
    "start_time": "2022-05-13T13:47:52.143Z"
   },
   {
    "duration": 202,
    "start_time": "2022-05-13T13:52:53.162Z"
   },
   {
    "duration": 12,
    "start_time": "2022-05-13T13:52:57.468Z"
   },
   {
    "duration": 7,
    "start_time": "2022-05-13T13:53:02.229Z"
   },
   {
    "duration": 348933,
    "start_time": "2022-05-13T13:53:03.191Z"
   },
   {
    "duration": 8,
    "start_time": "2022-05-13T13:58:55.569Z"
   },
   {
    "duration": 496642,
    "start_time": "2022-05-13T13:59:44.575Z"
   },
   {
    "duration": 4,
    "start_time": "2022-05-13T14:08:23.362Z"
   },
   {
    "duration": 17357,
    "start_time": "2022-05-13T14:09:53.983Z"
   },
   {
    "duration": 28299,
    "start_time": "2022-05-13T14:10:15.513Z"
   },
   {
    "duration": 8,
    "start_time": "2022-05-13T14:10:48.520Z"
   },
   {
    "duration": 1687,
    "start_time": "2022-05-13T14:16:30.444Z"
   },
   {
    "duration": 2,
    "start_time": "2022-05-13T14:16:32.134Z"
   },
   {
    "duration": 911,
    "start_time": "2022-05-13T14:16:32.138Z"
   },
   {
    "duration": 3,
    "start_time": "2022-05-13T14:16:33.051Z"
   },
   {
    "duration": 339,
    "start_time": "2022-05-13T14:16:33.056Z"
   },
   {
    "duration": 596,
    "start_time": "2022-05-13T14:16:33.401Z"
   },
   {
    "duration": 307,
    "start_time": "2022-05-13T14:16:33.999Z"
   },
   {
    "duration": 3748,
    "start_time": "2022-05-13T14:16:34.308Z"
   },
   {
    "duration": 76,
    "start_time": "2022-05-13T14:16:38.058Z"
   },
   {
    "duration": 915,
    "start_time": "2022-05-13T14:16:38.136Z"
   },
   {
    "duration": 1202,
    "start_time": "2022-05-13T14:16:39.053Z"
   },
   {
    "duration": 2157,
    "start_time": "2022-05-13T14:16:40.257Z"
   },
   {
    "duration": 102,
    "start_time": "2022-05-13T14:16:42.416Z"
   },
   {
    "duration": 44,
    "start_time": "2022-05-13T14:16:42.520Z"
   },
   {
    "duration": 57,
    "start_time": "2022-05-13T14:16:42.565Z"
   },
   {
    "duration": 57,
    "start_time": "2022-05-13T14:16:42.624Z"
   },
   {
    "duration": 27,
    "start_time": "2022-05-13T14:16:42.683Z"
   },
   {
    "duration": 1365,
    "start_time": "2022-05-13T14:16:42.712Z"
   },
   {
    "duration": 657,
    "start_time": "2022-05-13T14:16:44.079Z"
   },
   {
    "duration": 779,
    "start_time": "2022-05-13T14:16:44.737Z"
   },
   {
    "duration": 4,
    "start_time": "2022-05-13T14:16:45.518Z"
   },
   {
    "duration": 645667,
    "start_time": "2022-05-13T14:16:45.523Z"
   },
   {
    "duration": 17294,
    "start_time": "2022-05-13T14:27:31.192Z"
   },
   {
    "duration": 46923,
    "start_time": "2022-05-13T14:27:48.488Z"
   },
   {
    "duration": 8,
    "start_time": "2022-05-13T14:28:35.417Z"
   },
   {
    "duration": 14480,
    "start_time": "2022-05-13T14:28:35.426Z"
   },
   {
    "duration": 7,
    "start_time": "2022-05-13T14:28:49.910Z"
   },
   {
    "duration": 135,
    "start_time": "2022-05-13T14:28:49.919Z"
   },
   {
    "duration": 9,
    "start_time": "2022-05-13T14:29:03.025Z"
   },
   {
    "duration": 1549,
    "start_time": "2022-05-13T14:29:31.304Z"
   },
   {
    "duration": 3,
    "start_time": "2022-05-13T14:29:32.855Z"
   },
   {
    "duration": 796,
    "start_time": "2022-05-13T14:29:32.860Z"
   },
   {
    "duration": 3,
    "start_time": "2022-05-13T14:29:33.658Z"
   },
   {
    "duration": 269,
    "start_time": "2022-05-13T14:29:33.663Z"
   },
   {
    "duration": 544,
    "start_time": "2022-05-13T14:29:33.933Z"
   },
   {
    "duration": 289,
    "start_time": "2022-05-13T14:29:34.479Z"
   },
   {
    "duration": 3583,
    "start_time": "2022-05-13T14:29:34.770Z"
   },
   {
    "duration": 66,
    "start_time": "2022-05-13T14:29:38.354Z"
   },
   {
    "duration": 811,
    "start_time": "2022-05-13T14:29:38.423Z"
   },
   {
    "duration": 1097,
    "start_time": "2022-05-13T14:29:39.235Z"
   },
   {
    "duration": 2015,
    "start_time": "2022-05-13T14:29:40.334Z"
   },
   {
    "duration": 87,
    "start_time": "2022-05-13T14:29:42.351Z"
   },
   {
    "duration": 33,
    "start_time": "2022-05-13T14:29:42.440Z"
   },
   {
    "duration": 46,
    "start_time": "2022-05-13T14:29:42.474Z"
   },
   {
    "duration": 46,
    "start_time": "2022-05-13T14:29:42.521Z"
   },
   {
    "duration": 11,
    "start_time": "2022-05-13T14:29:42.569Z"
   },
   {
    "duration": 1190,
    "start_time": "2022-05-13T14:29:42.582Z"
   },
   {
    "duration": 645,
    "start_time": "2022-05-13T14:29:43.774Z"
   },
   {
    "duration": 739,
    "start_time": "2022-05-13T14:29:44.421Z"
   },
   {
    "duration": 4,
    "start_time": "2022-05-13T14:29:45.162Z"
   },
   {
    "duration": 523814,
    "start_time": "2022-05-13T14:29:45.167Z"
   },
   {
    "duration": 16252,
    "start_time": "2022-05-13T14:38:28.982Z"
   },
   {
    "duration": 23120,
    "start_time": "2022-05-13T14:38:45.236Z"
   },
   {
    "duration": 3,
    "start_time": "2022-05-13T14:39:08.358Z"
   },
   {
    "duration": 9,
    "start_time": "2022-05-13T14:39:08.363Z"
   },
   {
    "duration": 14632,
    "start_time": "2022-05-13T14:39:08.373Z"
   },
   {
    "duration": 7,
    "start_time": "2022-05-13T14:39:23.008Z"
   },
   {
    "duration": 2090,
    "start_time": "2022-05-14T09:04:09.319Z"
   },
   {
    "duration": 4,
    "start_time": "2022-05-14T09:04:11.412Z"
   },
   {
    "duration": 1142,
    "start_time": "2022-05-14T09:04:11.418Z"
   },
   {
    "duration": 5,
    "start_time": "2022-05-14T09:04:12.563Z"
   },
   {
    "duration": 359,
    "start_time": "2022-05-14T09:04:12.572Z"
   },
   {
    "duration": 809,
    "start_time": "2022-05-14T09:04:12.934Z"
   },
   {
    "duration": 419,
    "start_time": "2022-05-14T09:04:13.745Z"
   },
   {
    "duration": 5398,
    "start_time": "2022-05-14T09:04:14.166Z"
   },
   {
    "duration": 100,
    "start_time": "2022-05-14T09:04:19.566Z"
   },
   {
    "duration": 1422,
    "start_time": "2022-05-14T09:04:19.668Z"
   },
   {
    "duration": 2087,
    "start_time": "2022-05-14T09:04:21.092Z"
   },
   {
    "duration": 3496,
    "start_time": "2022-05-14T09:04:23.181Z"
   },
   {
    "duration": 142,
    "start_time": "2022-05-14T09:04:26.679Z"
   },
   {
    "duration": 65,
    "start_time": "2022-05-14T09:04:26.825Z"
   },
   {
    "duration": 20,
    "start_time": "2022-05-14T09:04:26.892Z"
   },
   {
    "duration": 111,
    "start_time": "2022-05-14T09:04:26.914Z"
   },
   {
    "duration": 26,
    "start_time": "2022-05-14T09:04:27.027Z"
   },
   {
    "duration": 2041,
    "start_time": "2022-05-14T09:04:27.055Z"
   },
   {
    "duration": 934,
    "start_time": "2022-05-14T09:04:29.098Z"
   },
   {
    "duration": 1058,
    "start_time": "2022-05-14T09:04:30.034Z"
   },
   {
    "duration": 6,
    "start_time": "2022-05-14T09:04:31.094Z"
   },
   {
    "duration": 771024,
    "start_time": "2022-05-14T09:04:31.101Z"
   },
   {
    "duration": 24429,
    "start_time": "2022-05-14T09:17:22.127Z"
   },
   {
    "duration": 49426,
    "start_time": "2022-05-14T09:17:46.558Z"
   },
   {
    "duration": 5,
    "start_time": "2022-05-14T09:18:35.987Z"
   },
   {
    "duration": 15,
    "start_time": "2022-05-14T09:18:35.995Z"
   },
   {
    "duration": 39255,
    "start_time": "2022-05-14T09:18:36.012Z"
   },
   {
    "duration": 12,
    "start_time": "2022-05-14T09:19:15.269Z"
   },
   {
    "duration": 2206,
    "start_time": "2022-05-14T10:01:51.757Z"
   },
   {
    "duration": 11,
    "start_time": "2022-05-14T10:02:36.900Z"
   },
   {
    "duration": 5,
    "start_time": "2022-05-14T10:02:47.491Z"
   },
   {
    "duration": 4,
    "start_time": "2022-05-14T10:02:47.703Z"
   },
   {
    "duration": 996,
    "start_time": "2022-05-14T10:02:47.836Z"
   },
   {
    "duration": 5,
    "start_time": "2022-05-14T10:02:48.835Z"
   },
   {
    "duration": 369,
    "start_time": "2022-05-14T10:02:48.842Z"
   },
   {
    "duration": 775,
    "start_time": "2022-05-14T10:02:49.213Z"
   },
   {
    "duration": 349,
    "start_time": "2022-05-14T10:02:49.990Z"
   },
   {
    "duration": 5848,
    "start_time": "2022-05-14T10:02:50.468Z"
   },
   {
    "duration": 100,
    "start_time": "2022-05-14T10:02:56.319Z"
   },
   {
    "duration": 1423,
    "start_time": "2022-05-14T10:02:56.421Z"
   },
   {
    "duration": 327,
    "start_time": "2022-05-14T10:02:57.851Z"
   },
   {
    "duration": 163,
    "start_time": "2022-05-14T10:04:34.655Z"
   },
   {
    "duration": 182,
    "start_time": "2022-05-14T10:04:43.123Z"
   },
   {
    "duration": 181,
    "start_time": "2022-05-14T10:05:01.982Z"
   },
   {
    "duration": 183,
    "start_time": "2022-05-14T10:05:12.063Z"
   },
   {
    "duration": 185,
    "start_time": "2022-05-14T10:05:23.530Z"
   },
   {
    "duration": 171,
    "start_time": "2022-05-14T10:05:30.278Z"
   },
   {
    "duration": 155,
    "start_time": "2022-05-14T10:05:41.374Z"
   },
   {
    "duration": 197,
    "start_time": "2022-05-14T10:28:19.023Z"
   },
   {
    "duration": 169,
    "start_time": "2022-05-14T10:29:20.961Z"
   },
   {
    "duration": 139,
    "start_time": "2022-05-14T10:39:00.686Z"
   },
   {
    "duration": 136,
    "start_time": "2022-05-14T11:18:50.616Z"
   },
   {
    "duration": 1896,
    "start_time": "2022-05-14T11:41:17.930Z"
   },
   {
    "duration": 3,
    "start_time": "2022-05-14T11:41:19.828Z"
   },
   {
    "duration": 892,
    "start_time": "2022-05-14T11:41:19.832Z"
   },
   {
    "duration": 4,
    "start_time": "2022-05-14T11:41:20.726Z"
   },
   {
    "duration": 326,
    "start_time": "2022-05-14T11:41:20.732Z"
   },
   {
    "duration": 632,
    "start_time": "2022-05-14T11:41:21.060Z"
   },
   {
    "duration": 345,
    "start_time": "2022-05-14T11:41:21.694Z"
   },
   {
    "duration": 4577,
    "start_time": "2022-05-14T11:41:22.041Z"
   },
   {
    "duration": 94,
    "start_time": "2022-05-14T11:41:26.621Z"
   },
   {
    "duration": 1022,
    "start_time": "2022-05-14T11:41:31.025Z"
   },
   {
    "duration": 100,
    "start_time": "2022-05-14T11:43:33.758Z"
   },
   {
    "duration": 125,
    "start_time": "2022-05-14T11:44:09.410Z"
   },
   {
    "duration": 34,
    "start_time": "2022-05-14T11:44:12.160Z"
   },
   {
    "duration": 173,
    "start_time": "2022-05-14T11:44:13.272Z"
   },
   {
    "duration": 75,
    "start_time": "2022-05-14T11:45:07.644Z"
   },
   {
    "duration": 3,
    "start_time": "2022-05-14T11:45:13.503Z"
   },
   {
    "duration": 9,
    "start_time": "2022-05-14T11:45:13.508Z"
   },
   {
    "duration": 942,
    "start_time": "2022-05-14T11:45:13.519Z"
   },
   {
    "duration": 6,
    "start_time": "2022-05-14T11:45:14.463Z"
   },
   {
    "duration": 329,
    "start_time": "2022-05-14T11:45:14.471Z"
   },
   {
    "duration": 587,
    "start_time": "2022-05-14T11:45:14.802Z"
   },
   {
    "duration": 288,
    "start_time": "2022-05-14T11:45:15.392Z"
   },
   {
    "duration": 4324,
    "start_time": "2022-05-14T11:45:15.683Z"
   },
   {
    "duration": 85,
    "start_time": "2022-05-14T11:45:20.009Z"
   },
   {
    "duration": 880,
    "start_time": "2022-05-14T11:45:20.096Z"
   },
   {
    "duration": 1478,
    "start_time": "2022-05-14T11:45:20.978Z"
   },
   {
    "duration": 2496,
    "start_time": "2022-05-14T11:45:22.457Z"
   },
   {
    "duration": 112,
    "start_time": "2022-05-14T11:45:24.956Z"
   },
   {
    "duration": 45,
    "start_time": "2022-05-14T11:45:25.072Z"
   },
   {
    "duration": 79,
    "start_time": "2022-05-14T11:45:25.118Z"
   },
   {
    "duration": 49,
    "start_time": "2022-05-14T11:45:25.199Z"
   },
   {
    "duration": 21,
    "start_time": "2022-05-14T11:45:25.250Z"
   },
   {
    "duration": 1542,
    "start_time": "2022-05-14T11:45:25.272Z"
   },
   {
    "duration": 38,
    "start_time": "2022-05-14T11:45:29.195Z"
   },
   {
    "duration": 441,
    "start_time": "2022-05-14T11:45:29.688Z"
   },
   {
    "duration": 5337,
    "start_time": "2022-05-14T11:45:30.752Z"
   },
   {
    "duration": 972,
    "start_time": "2022-05-14T11:46:15.183Z"
   },
   {
    "duration": 1677,
    "start_time": "2022-05-14T11:51:01.517Z"
   },
   {
    "duration": 2,
    "start_time": "2022-05-14T11:51:03.197Z"
   },
   {
    "duration": 881,
    "start_time": "2022-05-14T11:51:03.201Z"
   },
   {
    "duration": 4,
    "start_time": "2022-05-14T11:51:04.085Z"
   },
   {
    "duration": 315,
    "start_time": "2022-05-14T11:51:04.092Z"
   },
   {
    "duration": 621,
    "start_time": "2022-05-14T11:51:04.409Z"
   },
   {
    "duration": 325,
    "start_time": "2022-05-14T11:51:05.032Z"
   },
   {
    "duration": 4314,
    "start_time": "2022-05-14T11:51:05.358Z"
   },
   {
    "duration": 72,
    "start_time": "2022-05-14T11:51:09.674Z"
   },
   {
    "duration": 987,
    "start_time": "2022-05-14T11:51:09.748Z"
   },
   {
    "duration": 1309,
    "start_time": "2022-05-14T11:51:10.737Z"
   },
   {
    "duration": 2500,
    "start_time": "2022-05-14T11:51:12.048Z"
   },
   {
    "duration": 116,
    "start_time": "2022-05-14T11:51:14.551Z"
   },
   {
    "duration": 46,
    "start_time": "2022-05-14T11:51:14.670Z"
   },
   {
    "duration": 84,
    "start_time": "2022-05-14T11:51:14.717Z"
   },
   {
    "duration": 64,
    "start_time": "2022-05-14T11:51:14.803Z"
   },
   {
    "duration": 13,
    "start_time": "2022-05-14T11:51:14.869Z"
   },
   {
    "duration": 1553,
    "start_time": "2022-05-14T11:51:14.884Z"
   },
   {
    "duration": 705,
    "start_time": "2022-05-14T11:51:16.439Z"
   },
   {
    "duration": 830,
    "start_time": "2022-05-14T11:51:17.146Z"
   },
   {
    "duration": 6,
    "start_time": "2022-05-14T11:51:17.979Z"
   },
   {
    "duration": 634557,
    "start_time": "2022-05-14T11:51:17.986Z"
   },
   {
    "duration": 0,
    "start_time": "2022-05-14T12:01:52.546Z"
   },
   {
    "duration": 0,
    "start_time": "2022-05-14T12:01:52.547Z"
   },
   {
    "duration": 0,
    "start_time": "2022-05-14T12:01:52.550Z"
   },
   {
    "duration": 0,
    "start_time": "2022-05-14T12:01:52.551Z"
   },
   {
    "duration": 0,
    "start_time": "2022-05-14T12:01:52.567Z"
   },
   {
    "duration": 0,
    "start_time": "2022-05-14T12:01:52.568Z"
   },
   {
    "duration": 0,
    "start_time": "2022-05-14T12:01:52.571Z"
   },
   {
    "duration": 0,
    "start_time": "2022-05-14T12:01:52.572Z"
   },
   {
    "duration": 1872,
    "start_time": "2022-05-15T08:39:15.414Z"
   },
   {
    "duration": 3,
    "start_time": "2022-05-15T08:39:17.289Z"
   },
   {
    "duration": 866,
    "start_time": "2022-05-15T08:39:17.293Z"
   },
   {
    "duration": 3,
    "start_time": "2022-05-15T08:39:18.161Z"
   },
   {
    "duration": 284,
    "start_time": "2022-05-15T08:39:18.166Z"
   },
   {
    "duration": 564,
    "start_time": "2022-05-15T08:39:18.452Z"
   },
   {
    "duration": 314,
    "start_time": "2022-05-15T08:39:19.018Z"
   },
   {
    "duration": 3946,
    "start_time": "2022-05-15T08:39:19.333Z"
   },
   {
    "duration": 86,
    "start_time": "2022-05-15T08:39:23.281Z"
   },
   {
    "duration": 954,
    "start_time": "2022-05-15T08:39:23.369Z"
   },
   {
    "duration": 1229,
    "start_time": "2022-05-15T08:39:24.325Z"
   },
   {
    "duration": 2273,
    "start_time": "2022-05-15T08:39:25.555Z"
   },
   {
    "duration": 101,
    "start_time": "2022-05-15T08:39:27.830Z"
   },
   {
    "duration": 38,
    "start_time": "2022-05-15T08:39:27.934Z"
   },
   {
    "duration": 72,
    "start_time": "2022-05-15T08:39:27.974Z"
   },
   {
    "duration": 27,
    "start_time": "2022-05-15T08:39:28.048Z"
   },
   {
    "duration": 676,
    "start_time": "2022-05-15T08:39:28.076Z"
   },
   {
    "duration": 259,
    "start_time": "2022-05-15T08:39:28.754Z"
   },
   {
    "duration": 0,
    "start_time": "2022-05-15T08:39:29.015Z"
   },
   {
    "duration": 275,
    "start_time": "2022-05-15T08:39:43.192Z"
   },
   {
    "duration": 8,
    "start_time": "2022-05-15T08:39:46.034Z"
   },
   {
    "duration": 6,
    "start_time": "2022-05-15T08:40:46.615Z"
   },
   {
    "duration": 23,
    "start_time": "2022-05-15T08:40:51.549Z"
   },
   {
    "duration": 6,
    "start_time": "2022-05-15T08:41:32.428Z"
   },
   {
    "duration": 23,
    "start_time": "2022-05-15T08:41:35.784Z"
   },
   {
    "duration": 6,
    "start_time": "2022-05-15T08:42:09.460Z"
   },
   {
    "duration": 35828,
    "start_time": "2022-05-15T08:42:13.355Z"
   },
   {
    "duration": 6,
    "start_time": "2022-05-15T08:43:19.070Z"
   },
   {
    "duration": 7257,
    "start_time": "2022-05-15T08:43:20.614Z"
   },
   {
    "duration": 203627,
    "start_time": "2022-05-15T08:43:32.874Z"
   },
   {
    "duration": 221,
    "start_time": "2022-05-15T08:48:07.808Z"
   },
   {
    "duration": 1599,
    "start_time": "2022-05-15T08:48:31.846Z"
   },
   {
    "duration": 3,
    "start_time": "2022-05-15T08:48:33.447Z"
   },
   {
    "duration": 1349,
    "start_time": "2022-05-15T08:48:33.451Z"
   },
   {
    "duration": 4,
    "start_time": "2022-05-15T08:48:34.802Z"
   },
   {
    "duration": 481,
    "start_time": "2022-05-15T08:48:34.809Z"
   },
   {
    "duration": 833,
    "start_time": "2022-05-15T08:48:35.292Z"
   },
   {
    "duration": 435,
    "start_time": "2022-05-15T08:48:36.127Z"
   },
   {
    "duration": 5382,
    "start_time": "2022-05-15T08:48:36.564Z"
   },
   {
    "duration": 70,
    "start_time": "2022-05-15T08:48:41.948Z"
   },
   {
    "duration": 911,
    "start_time": "2022-05-15T08:48:42.019Z"
   },
   {
    "duration": 1923,
    "start_time": "2022-05-15T08:48:42.932Z"
   },
   {
    "duration": 3531,
    "start_time": "2022-05-15T08:48:44.857Z"
   },
   {
    "duration": 134,
    "start_time": "2022-05-15T08:48:48.391Z"
   },
   {
    "duration": 57,
    "start_time": "2022-05-15T08:48:48.528Z"
   },
   {
    "duration": 70,
    "start_time": "2022-05-15T08:48:48.600Z"
   },
   {
    "duration": 48,
    "start_time": "2022-05-15T08:48:48.672Z"
   },
   {
    "duration": 1057,
    "start_time": "2022-05-15T08:48:48.722Z"
   },
   {
    "duration": 327,
    "start_time": "2022-05-15T08:48:49.781Z"
   },
   {
    "duration": 9,
    "start_time": "2022-05-15T08:48:50.110Z"
   },
   {
    "duration": 4694,
    "start_time": "2022-05-15T08:48:58.960Z"
   },
   {
    "duration": 122510,
    "start_time": "2022-05-15T08:49:13.497Z"
   },
   {
    "duration": 172,
    "start_time": "2022-05-15T08:53:49.952Z"
   },
   {
    "duration": 11,
    "start_time": "2022-05-15T08:54:01.454Z"
   },
   {
    "duration": 12,
    "start_time": "2022-05-15T08:54:13.395Z"
   },
   {
    "duration": 6,
    "start_time": "2022-05-15T08:56:37.315Z"
   },
   {
    "duration": 9118,
    "start_time": "2022-05-15T08:57:26.800Z"
   },
   {
    "duration": 6,
    "start_time": "2022-05-15T08:59:05.723Z"
   },
   {
    "duration": 38,
    "start_time": "2022-05-15T09:08:38.990Z"
   },
   {
    "duration": 10,
    "start_time": "2022-05-15T09:08:47.614Z"
   },
   {
    "duration": 39,
    "start_time": "2022-05-15T09:09:07.680Z"
   },
   {
    "duration": 48,
    "start_time": "2022-05-15T09:11:10.615Z"
   },
   {
    "duration": 42,
    "start_time": "2022-05-15T09:12:50.913Z"
   },
   {
    "duration": 49,
    "start_time": "2022-05-15T09:13:15.179Z"
   },
   {
    "duration": 29,
    "start_time": "2022-05-15T09:13:20.641Z"
   },
   {
    "duration": 9,
    "start_time": "2022-05-15T09:24:38.839Z"
   },
   {
    "duration": 38,
    "start_time": "2022-05-15T09:24:44.314Z"
   },
   {
    "duration": 17,
    "start_time": "2022-05-15T09:24:59.683Z"
   },
   {
    "duration": 26,
    "start_time": "2022-05-15T09:26:50.701Z"
   },
   {
    "duration": 30,
    "start_time": "2022-05-15T09:27:12.971Z"
   },
   {
    "duration": 25916,
    "start_time": "2022-05-15T09:31:18.117Z"
   },
   {
    "duration": 154307,
    "start_time": "2022-05-15T09:31:55.324Z"
   },
   {
    "duration": 24610,
    "start_time": "2022-05-15T09:36:54.101Z"
   },
   {
    "duration": 1612,
    "start_time": "2022-05-15T09:38:00.414Z"
   },
   {
    "duration": 3,
    "start_time": "2022-05-15T09:38:02.028Z"
   },
   {
    "duration": 872,
    "start_time": "2022-05-15T09:38:02.032Z"
   },
   {
    "duration": 4,
    "start_time": "2022-05-15T09:38:02.906Z"
   },
   {
    "duration": 302,
    "start_time": "2022-05-15T09:38:02.913Z"
   },
   {
    "duration": 588,
    "start_time": "2022-05-15T09:38:03.217Z"
   },
   {
    "duration": 303,
    "start_time": "2022-05-15T09:38:03.806Z"
   },
   {
    "duration": 3860,
    "start_time": "2022-05-15T09:38:04.111Z"
   },
   {
    "duration": 81,
    "start_time": "2022-05-15T09:38:07.973Z"
   },
   {
    "duration": 869,
    "start_time": "2022-05-15T09:38:08.056Z"
   },
   {
    "duration": 1190,
    "start_time": "2022-05-15T09:38:08.927Z"
   },
   {
    "duration": 2216,
    "start_time": "2022-05-15T09:38:10.120Z"
   },
   {
    "duration": 95,
    "start_time": "2022-05-15T09:38:12.337Z"
   },
   {
    "duration": 43,
    "start_time": "2022-05-15T09:38:12.434Z"
   },
   {
    "duration": 61,
    "start_time": "2022-05-15T09:38:12.478Z"
   },
   {
    "duration": 73,
    "start_time": "2022-05-15T09:38:12.541Z"
   },
   {
    "duration": 710,
    "start_time": "2022-05-15T09:38:12.616Z"
   },
   {
    "duration": 211,
    "start_time": "2022-05-15T09:38:13.327Z"
   },
   {
    "duration": 7,
    "start_time": "2022-05-15T09:38:13.539Z"
   },
   {
    "duration": 123472,
    "start_time": "2022-05-15T09:38:13.547Z"
   },
   {
    "duration": 124,
    "start_time": "2022-05-15T09:40:17.021Z"
   },
   {
    "duration": 13,
    "start_time": "2022-05-15T09:42:06.715Z"
   },
   {
    "duration": 101311,
    "start_time": "2022-05-15T09:42:14.115Z"
   },
   {
    "duration": 12,
    "start_time": "2022-05-15T09:47:54.272Z"
   },
   {
    "duration": 10,
    "start_time": "2022-05-15T09:48:06.274Z"
   },
   {
    "duration": 263,
    "start_time": "2022-05-15T09:48:17.642Z"
   },
   {
    "duration": 143317,
    "start_time": "2022-05-15T09:49:28.105Z"
   },
   {
    "duration": 1660,
    "start_time": "2022-05-15T09:52:40.252Z"
   },
   {
    "duration": 5,
    "start_time": "2022-05-15T09:52:41.915Z"
   },
   {
    "duration": 1094,
    "start_time": "2022-05-15T09:52:41.925Z"
   },
   {
    "duration": 4,
    "start_time": "2022-05-15T09:52:43.023Z"
   },
   {
    "duration": 337,
    "start_time": "2022-05-15T09:52:43.029Z"
   },
   {
    "duration": 623,
    "start_time": "2022-05-15T09:52:43.367Z"
   },
   {
    "duration": 429,
    "start_time": "2022-05-15T09:52:43.992Z"
   },
   {
    "duration": 4356,
    "start_time": "2022-05-15T09:52:44.424Z"
   },
   {
    "duration": 85,
    "start_time": "2022-05-15T09:52:48.782Z"
   },
   {
    "duration": 1039,
    "start_time": "2022-05-15T09:52:48.869Z"
   },
   {
    "duration": 1331,
    "start_time": "2022-05-15T09:52:49.910Z"
   },
   {
    "duration": 2883,
    "start_time": "2022-05-15T09:52:51.244Z"
   },
   {
    "duration": 100,
    "start_time": "2022-05-15T09:52:54.128Z"
   },
   {
    "duration": 42,
    "start_time": "2022-05-15T09:52:54.231Z"
   },
   {
    "duration": 77,
    "start_time": "2022-05-15T09:52:54.274Z"
   },
   {
    "duration": 27,
    "start_time": "2022-05-15T09:52:54.352Z"
   },
   {
    "duration": 743,
    "start_time": "2022-05-15T09:52:54.381Z"
   },
   {
    "duration": 228,
    "start_time": "2022-05-15T09:52:55.126Z"
   },
   {
    "duration": 7,
    "start_time": "2022-05-15T09:52:55.355Z"
   },
   {
    "duration": 124,
    "start_time": "2022-05-15T09:52:55.364Z"
   },
   {
    "duration": 0,
    "start_time": "2022-05-15T09:52:55.489Z"
   },
   {
    "duration": 0,
    "start_time": "2022-05-15T09:52:55.491Z"
   },
   {
    "duration": 141748,
    "start_time": "2022-05-15T09:53:48.186Z"
   },
   {
    "duration": 199,
    "start_time": "2022-05-15T09:56:24.598Z"
   },
   {
    "duration": 253831,
    "start_time": "2022-05-15T09:56:30.094Z"
   },
   {
    "duration": 7566,
    "start_time": "2022-05-15T10:09:57.826Z"
   },
   {
    "duration": 66875,
    "start_time": "2022-05-15T10:10:14.092Z"
   },
   {
    "duration": 7,
    "start_time": "2022-05-15T10:14:33.612Z"
   },
   {
    "duration": 182,
    "start_time": "2022-05-15T10:14:36.685Z"
   },
   {
    "duration": 47286,
    "start_time": "2022-05-15T10:14:47.188Z"
   },
   {
    "duration": 178448,
    "start_time": "2022-05-15T10:15:37.726Z"
   },
   {
    "duration": 25125,
    "start_time": "2022-05-15T10:18:50.184Z"
   },
   {
    "duration": 10,
    "start_time": "2022-05-15T10:19:22.708Z"
   },
   {
    "duration": 143514,
    "start_time": "2022-05-15T10:19:24.684Z"
   },
   {
    "duration": 71571,
    "start_time": "2022-05-15T10:23:33.795Z"
   },
   {
    "duration": 753703,
    "start_time": "2022-05-15T10:25:26.260Z"
   },
   {
    "duration": 7,
    "start_time": "2022-05-15T10:38:13.183Z"
   },
   {
    "duration": 675688,
    "start_time": "2022-05-15T10:38:13.721Z"
   },
   {
    "duration": 1785,
    "start_time": "2022-05-15T10:49:38.235Z"
   },
   {
    "duration": 9,
    "start_time": "2022-05-15T10:49:40.022Z"
   },
   {
    "duration": 1001,
    "start_time": "2022-05-15T10:49:40.036Z"
   },
   {
    "duration": 4,
    "start_time": "2022-05-15T10:49:41.041Z"
   },
   {
    "duration": 334,
    "start_time": "2022-05-15T10:49:41.046Z"
   },
   {
    "duration": 643,
    "start_time": "2022-05-15T10:49:41.382Z"
   },
   {
    "duration": 345,
    "start_time": "2022-05-15T10:49:42.027Z"
   },
   {
    "duration": 4320,
    "start_time": "2022-05-15T10:49:42.373Z"
   },
   {
    "duration": 73,
    "start_time": "2022-05-15T10:49:46.694Z"
   },
   {
    "duration": 1138,
    "start_time": "2022-05-15T10:49:46.770Z"
   },
   {
    "duration": 2067,
    "start_time": "2022-05-15T10:49:47.910Z"
   },
   {
    "duration": 2383,
    "start_time": "2022-05-15T10:49:49.980Z"
   },
   {
    "duration": 101,
    "start_time": "2022-05-15T10:49:52.364Z"
   },
   {
    "duration": 50,
    "start_time": "2022-05-15T10:49:52.467Z"
   },
   {
    "duration": 43,
    "start_time": "2022-05-15T10:49:52.518Z"
   },
   {
    "duration": 48,
    "start_time": "2022-05-15T10:49:52.562Z"
   },
   {
    "duration": 762,
    "start_time": "2022-05-15T10:49:52.612Z"
   },
   {
    "duration": 232,
    "start_time": "2022-05-15T10:49:53.376Z"
   },
   {
    "duration": 15,
    "start_time": "2022-05-15T10:49:53.611Z"
   },
   {
    "duration": 441616,
    "start_time": "2022-05-15T10:49:56.150Z"
   },
   {
    "duration": 300640,
    "start_time": "2022-05-15T10:59:09.650Z"
   },
   {
    "duration": 7,
    "start_time": "2022-05-15T11:05:24.538Z"
   },
   {
    "duration": 51284,
    "start_time": "2022-05-15T11:05:27.278Z"
   },
   {
    "duration": 0,
    "start_time": "2022-05-15T11:06:18.564Z"
   },
   {
    "duration": 14835,
    "start_time": "2022-05-15T11:06:20.297Z"
   },
   {
    "duration": 0,
    "start_time": "2022-05-15T11:06:35.134Z"
   },
   {
    "duration": 7,
    "start_time": "2022-05-15T11:06:38.379Z"
   },
   {
    "duration": 93373,
    "start_time": "2022-05-15T11:06:40.965Z"
   },
   {
    "duration": 343548,
    "start_time": "2022-05-15T11:10:32.888Z"
   },
   {
    "duration": 35,
    "start_time": "2022-05-15T11:19:41.198Z"
   },
   {
    "duration": 31,
    "start_time": "2022-05-15T11:20:36.784Z"
   },
   {
    "duration": 4,
    "start_time": "2022-05-15T11:21:18.055Z"
   },
   {
    "duration": 18,
    "start_time": "2022-05-15T11:22:44.311Z"
   },
   {
    "duration": 7702,
    "start_time": "2022-05-15T11:22:50.036Z"
   },
   {
    "duration": 3754,
    "start_time": "2022-05-15T11:24:21.081Z"
   },
   {
    "duration": 38248,
    "start_time": "2022-05-15T11:27:01.024Z"
   },
   {
    "duration": 2185,
    "start_time": "2022-05-15T11:27:54.595Z"
   },
   {
    "duration": 247710,
    "start_time": "2022-05-15T11:28:06.323Z"
   },
   {
    "duration": 51199,
    "start_time": "2022-05-15T11:33:00.567Z"
   },
   {
    "duration": 1885,
    "start_time": "2022-05-15T11:34:49.161Z"
   },
   {
    "duration": 3,
    "start_time": "2022-05-15T11:34:51.048Z"
   },
   {
    "duration": 967,
    "start_time": "2022-05-15T11:34:51.052Z"
   },
   {
    "duration": 7,
    "start_time": "2022-05-15T11:34:52.021Z"
   },
   {
    "duration": 422,
    "start_time": "2022-05-15T11:34:52.031Z"
   },
   {
    "duration": 776,
    "start_time": "2022-05-15T11:34:52.455Z"
   },
   {
    "duration": 329,
    "start_time": "2022-05-15T11:34:53.233Z"
   },
   {
    "duration": 4816,
    "start_time": "2022-05-15T11:34:53.564Z"
   },
   {
    "duration": 77,
    "start_time": "2022-05-15T11:34:58.382Z"
   },
   {
    "duration": 897,
    "start_time": "2022-05-15T11:34:58.461Z"
   },
   {
    "duration": 1493,
    "start_time": "2022-05-15T11:34:59.359Z"
   },
   {
    "duration": 2727,
    "start_time": "2022-05-15T11:35:00.854Z"
   },
   {
    "duration": 101,
    "start_time": "2022-05-15T11:35:03.583Z"
   },
   {
    "duration": 60,
    "start_time": "2022-05-15T11:35:03.687Z"
   },
   {
    "duration": 71,
    "start_time": "2022-05-15T11:35:03.749Z"
   },
   {
    "duration": 30,
    "start_time": "2022-05-15T11:35:03.822Z"
   },
   {
    "duration": 736,
    "start_time": "2022-05-15T11:35:03.854Z"
   },
   {
    "duration": 240,
    "start_time": "2022-05-15T11:35:04.592Z"
   },
   {
    "duration": 7,
    "start_time": "2022-05-15T11:35:04.835Z"
   },
   {
    "duration": 54786,
    "start_time": "2022-05-15T11:35:34.245Z"
   },
   {
    "duration": 8,
    "start_time": "2022-05-15T11:37:44.233Z"
   },
   {
    "duration": 245386,
    "start_time": "2022-05-15T11:37:46.547Z"
   },
   {
    "duration": 285259,
    "start_time": "2022-05-15T11:42:10.753Z"
   },
   {
    "duration": 533,
    "start_time": "2022-05-15T11:47:41.991Z"
   },
   {
    "duration": 6452,
    "start_time": "2022-05-15T11:50:58.155Z"
   },
   {
    "duration": 8689,
    "start_time": "2022-05-15T11:51:51.145Z"
   },
   {
    "duration": 1652,
    "start_time": "2022-05-15T11:55:38.437Z"
   },
   {
    "duration": 3,
    "start_time": "2022-05-15T11:55:40.091Z"
   },
   {
    "duration": 856,
    "start_time": "2022-05-15T11:55:40.095Z"
   },
   {
    "duration": 3,
    "start_time": "2022-05-15T11:55:40.953Z"
   },
   {
    "duration": 319,
    "start_time": "2022-05-15T11:55:40.958Z"
   },
   {
    "duration": 633,
    "start_time": "2022-05-15T11:55:41.279Z"
   },
   {
    "duration": 325,
    "start_time": "2022-05-15T11:55:41.913Z"
   },
   {
    "duration": 4232,
    "start_time": "2022-05-15T11:55:42.242Z"
   },
   {
    "duration": 78,
    "start_time": "2022-05-15T11:55:46.476Z"
   },
   {
    "duration": 906,
    "start_time": "2022-05-15T11:55:46.556Z"
   },
   {
    "duration": 1303,
    "start_time": "2022-05-15T11:55:47.465Z"
   },
   {
    "duration": 2373,
    "start_time": "2022-05-15T11:55:48.770Z"
   },
   {
    "duration": 99,
    "start_time": "2022-05-15T11:55:51.145Z"
   },
   {
    "duration": 32,
    "start_time": "2022-05-15T11:55:51.247Z"
   },
   {
    "duration": 66,
    "start_time": "2022-05-15T11:55:51.280Z"
   },
   {
    "duration": 26,
    "start_time": "2022-05-15T11:55:51.348Z"
   },
   {
    "duration": 768,
    "start_time": "2022-05-15T11:55:51.376Z"
   },
   {
    "duration": 224,
    "start_time": "2022-05-15T11:55:52.145Z"
   },
   {
    "duration": 7,
    "start_time": "2022-05-15T11:55:52.370Z"
   },
   {
    "duration": 241754,
    "start_time": "2022-05-15T11:55:52.379Z"
   },
   {
    "duration": 268395,
    "start_time": "2022-05-15T11:59:54.135Z"
   },
   {
    "duration": 576,
    "start_time": "2022-05-15T12:04:22.532Z"
   },
   {
    "duration": 1749,
    "start_time": "2022-05-16T10:56:45.125Z"
   },
   {
    "duration": 3,
    "start_time": "2022-05-16T10:56:46.877Z"
   },
   {
    "duration": 723,
    "start_time": "2022-05-16T10:56:46.882Z"
   },
   {
    "duration": 4,
    "start_time": "2022-05-16T10:56:47.608Z"
   },
   {
    "duration": 289,
    "start_time": "2022-05-16T10:56:47.614Z"
   },
   {
    "duration": 522,
    "start_time": "2022-05-16T10:56:47.904Z"
   },
   {
    "duration": 278,
    "start_time": "2022-05-16T10:56:48.427Z"
   },
   {
    "duration": 3590,
    "start_time": "2022-05-16T10:56:48.707Z"
   },
   {
    "duration": 77,
    "start_time": "2022-05-16T10:56:52.299Z"
   },
   {
    "duration": 840,
    "start_time": "2022-05-16T10:56:52.379Z"
   },
   {
    "duration": 1119,
    "start_time": "2022-05-16T10:56:53.221Z"
   },
   {
    "duration": 2041,
    "start_time": "2022-05-16T10:56:54.341Z"
   },
   {
    "duration": 96,
    "start_time": "2022-05-16T10:56:56.383Z"
   },
   {
    "duration": 40,
    "start_time": "2022-05-16T10:56:56.481Z"
   },
   {
    "duration": 62,
    "start_time": "2022-05-16T10:56:56.522Z"
   },
   {
    "duration": 25,
    "start_time": "2022-05-16T10:56:56.586Z"
   },
   {
    "duration": 624,
    "start_time": "2022-05-16T10:56:56.613Z"
   },
   {
    "duration": 271,
    "start_time": "2022-05-16T10:56:57.238Z"
   },
   {
    "duration": 8,
    "start_time": "2022-05-16T10:56:57.510Z"
   },
   {
    "duration": 215535,
    "start_time": "2022-05-16T10:56:57.520Z"
   },
   {
    "duration": 19820,
    "start_time": "2022-05-16T11:00:33.056Z"
   },
   {
    "duration": 507,
    "start_time": "2022-05-16T11:00:52.878Z"
   },
   {
    "duration": 642,
    "start_time": "2022-05-16T11:30:50.323Z"
   },
   {
    "duration": 0,
    "start_time": "2022-05-16T11:30:50.966Z"
   },
   {
    "duration": 0,
    "start_time": "2022-05-16T11:30:50.968Z"
   },
   {
    "duration": 0,
    "start_time": "2022-05-16T11:30:50.969Z"
   },
   {
    "duration": 0,
    "start_time": "2022-05-16T11:30:50.970Z"
   },
   {
    "duration": 0,
    "start_time": "2022-05-16T11:30:50.971Z"
   },
   {
    "duration": 1590,
    "start_time": "2022-05-16T11:31:18.587Z"
   },
   {
    "duration": 3,
    "start_time": "2022-05-16T11:31:20.179Z"
   },
   {
    "duration": 759,
    "start_time": "2022-05-16T11:31:20.183Z"
   },
   {
    "duration": 3,
    "start_time": "2022-05-16T11:31:20.944Z"
   },
   {
    "duration": 281,
    "start_time": "2022-05-16T11:31:20.948Z"
   },
   {
    "duration": 515,
    "start_time": "2022-05-16T11:31:21.230Z"
   },
   {
    "duration": 277,
    "start_time": "2022-05-16T11:31:21.746Z"
   },
   {
    "duration": 3502,
    "start_time": "2022-05-16T11:31:22.024Z"
   },
   {
    "duration": 73,
    "start_time": "2022-05-16T11:31:25.528Z"
   },
   {
    "duration": 800,
    "start_time": "2022-05-16T11:31:25.604Z"
   },
   {
    "duration": 1102,
    "start_time": "2022-05-16T11:31:26.406Z"
   },
   {
    "duration": 2235,
    "start_time": "2022-05-16T11:31:27.510Z"
   },
   {
    "duration": 88,
    "start_time": "2022-05-16T11:31:29.747Z"
   },
   {
    "duration": 39,
    "start_time": "2022-05-16T11:31:29.837Z"
   },
   {
    "duration": 38,
    "start_time": "2022-05-16T11:31:29.878Z"
   },
   {
    "duration": 14,
    "start_time": "2022-05-16T11:31:29.917Z"
   },
   {
    "duration": 730,
    "start_time": "2022-05-16T11:31:29.933Z"
   },
   {
    "duration": 0,
    "start_time": "2022-05-16T11:31:30.664Z"
   },
   {
    "duration": 0,
    "start_time": "2022-05-16T11:31:30.666Z"
   },
   {
    "duration": 0,
    "start_time": "2022-05-16T11:31:30.667Z"
   },
   {
    "duration": 0,
    "start_time": "2022-05-16T11:31:30.668Z"
   },
   {
    "duration": 0,
    "start_time": "2022-05-16T11:31:30.669Z"
   },
   {
    "duration": 1281,
    "start_time": "2022-05-16T11:38:46.717Z"
   },
   {
    "duration": 0,
    "start_time": "2022-05-16T11:38:48.000Z"
   },
   {
    "duration": 0,
    "start_time": "2022-05-16T11:38:48.001Z"
   },
   {
    "duration": 0,
    "start_time": "2022-05-16T11:38:48.002Z"
   },
   {
    "duration": 0,
    "start_time": "2022-05-16T11:38:48.003Z"
   },
   {
    "duration": 0,
    "start_time": "2022-05-16T11:38:48.003Z"
   },
   {
    "duration": 13,
    "start_time": "2022-05-16T11:39:13.753Z"
   },
   {
    "duration": 0,
    "start_time": "2022-05-16T11:39:13.767Z"
   },
   {
    "duration": 0,
    "start_time": "2022-05-16T11:39:13.768Z"
   },
   {
    "duration": 0,
    "start_time": "2022-05-16T11:39:13.769Z"
   },
   {
    "duration": 11,
    "start_time": "2022-05-16T11:39:13.808Z"
   },
   {
    "duration": 0,
    "start_time": "2022-05-16T11:39:13.820Z"
   },
   {
    "duration": 19,
    "start_time": "2022-05-16T11:39:50.993Z"
   },
   {
    "duration": 598,
    "start_time": "2022-05-16T11:40:26.673Z"
   },
   {
    "duration": 207,
    "start_time": "2022-05-16T11:40:27.273Z"
   },
   {
    "duration": 7,
    "start_time": "2022-05-16T11:40:27.482Z"
   },
   {
    "duration": 205406,
    "start_time": "2022-05-16T11:40:27.491Z"
   },
   {
    "duration": 20171,
    "start_time": "2022-05-16T11:43:52.899Z"
   },
   {
    "duration": 463,
    "start_time": "2022-05-16T11:44:13.071Z"
   },
   {
    "duration": 2252,
    "start_time": "2022-05-16T12:26:24.588Z"
   },
   {
    "duration": 5,
    "start_time": "2022-05-16T12:26:26.843Z"
   },
   {
    "duration": 1522,
    "start_time": "2022-05-16T12:26:26.851Z"
   },
   {
    "duration": 5,
    "start_time": "2022-05-16T12:26:28.376Z"
   },
   {
    "duration": 379,
    "start_time": "2022-05-16T12:26:28.386Z"
   },
   {
    "duration": 831,
    "start_time": "2022-05-16T12:26:28.767Z"
   },
   {
    "duration": 585,
    "start_time": "2022-05-16T12:26:29.601Z"
   },
   {
    "duration": 8644,
    "start_time": "2022-05-16T12:26:30.189Z"
   },
   {
    "duration": 130,
    "start_time": "2022-05-16T12:26:38.836Z"
   },
   {
    "duration": 1624,
    "start_time": "2022-05-16T12:26:38.969Z"
   },
   {
    "duration": 2148,
    "start_time": "2022-05-16T12:26:40.595Z"
   },
   {
    "duration": 4515,
    "start_time": "2022-05-16T12:26:42.746Z"
   },
   {
    "duration": 200,
    "start_time": "2022-05-16T12:26:47.264Z"
   },
   {
    "duration": 99,
    "start_time": "2022-05-16T12:26:47.469Z"
   },
   {
    "duration": 119,
    "start_time": "2022-05-16T12:26:47.570Z"
   },
   {
    "duration": 34,
    "start_time": "2022-05-16T12:26:47.692Z"
   },
   {
    "duration": 938,
    "start_time": "2022-05-16T12:26:47.728Z"
   },
   {
    "duration": 1983,
    "start_time": "2022-05-16T12:27:10.079Z"
   },
   {
    "duration": 4,
    "start_time": "2022-05-16T12:27:12.065Z"
   },
   {
    "duration": 1064,
    "start_time": "2022-05-16T12:27:12.071Z"
   },
   {
    "duration": 5,
    "start_time": "2022-05-16T12:27:13.138Z"
   },
   {
    "duration": 365,
    "start_time": "2022-05-16T12:27:13.157Z"
   },
   {
    "duration": 823,
    "start_time": "2022-05-16T12:27:13.524Z"
   },
   {
    "duration": 430,
    "start_time": "2022-05-16T12:27:14.349Z"
   },
   {
    "duration": 5456,
    "start_time": "2022-05-16T12:27:14.781Z"
   },
   {
    "duration": 94,
    "start_time": "2022-05-16T12:27:20.239Z"
   },
   {
    "duration": 1481,
    "start_time": "2022-05-16T12:27:20.336Z"
   },
   {
    "duration": 2108,
    "start_time": "2022-05-16T12:27:21.819Z"
   },
   {
    "duration": 3692,
    "start_time": "2022-05-16T12:27:23.929Z"
   },
   {
    "duration": 156,
    "start_time": "2022-05-16T12:27:27.623Z"
   },
   {
    "duration": 79,
    "start_time": "2022-05-16T12:27:27.781Z"
   },
   {
    "duration": 94,
    "start_time": "2022-05-16T12:27:27.862Z"
   },
   {
    "duration": 35,
    "start_time": "2022-05-16T12:27:27.958Z"
   },
   {
    "duration": 1062,
    "start_time": "2022-05-16T12:27:27.996Z"
   },
   {
    "duration": 1297,
    "start_time": "2022-05-16T12:27:58.840Z"
   },
   {
    "duration": 33,
    "start_time": "2022-05-16T12:28:29.463Z"
   },
   {
    "duration": 8,
    "start_time": "2022-05-16T12:28:42.560Z"
   },
   {
    "duration": 16,
    "start_time": "2022-05-16T12:28:42.571Z"
   },
   {
    "duration": 1529,
    "start_time": "2022-05-16T12:28:42.590Z"
   },
   {
    "duration": 6,
    "start_time": "2022-05-16T12:28:44.123Z"
   },
   {
    "duration": 653,
    "start_time": "2022-05-16T12:28:44.132Z"
   },
   {
    "duration": 750,
    "start_time": "2022-05-16T12:28:44.787Z"
   },
   {
    "duration": 384,
    "start_time": "2022-05-16T12:28:45.539Z"
   },
   {
    "duration": 5448,
    "start_time": "2022-05-16T12:28:45.925Z"
   },
   {
    "duration": 103,
    "start_time": "2022-05-16T12:28:51.376Z"
   },
   {
    "duration": 1899,
    "start_time": "2022-05-16T12:28:51.484Z"
   },
   {
    "duration": 3146,
    "start_time": "2022-05-16T12:28:53.386Z"
   },
   {
    "duration": 5570,
    "start_time": "2022-05-16T12:28:56.535Z"
   },
   {
    "duration": 180,
    "start_time": "2022-05-16T12:29:02.108Z"
   },
   {
    "duration": 82,
    "start_time": "2022-05-16T12:29:02.290Z"
   },
   {
    "duration": 119,
    "start_time": "2022-05-16T12:29:02.374Z"
   },
   {
    "duration": 45,
    "start_time": "2022-05-16T12:29:02.496Z"
   },
   {
    "duration": 19,
    "start_time": "2022-05-16T12:29:06.078Z"
   },
   {
    "duration": 877,
    "start_time": "2022-05-16T12:29:06.986Z"
   },
   {
    "duration": 138,
    "start_time": "2022-05-16T12:29:21.202Z"
   },
   {
    "duration": 708,
    "start_time": "2022-05-16T12:34:06.429Z"
   },
   {
    "duration": 84,
    "start_time": "2022-05-16T12:34:46.953Z"
   },
   {
    "duration": 34,
    "start_time": "2022-05-16T12:35:03.937Z"
   },
   {
    "duration": 6,
    "start_time": "2022-05-16T12:35:12.384Z"
   },
   {
    "duration": 11,
    "start_time": "2022-05-16T12:35:12.393Z"
   },
   {
    "duration": 1010,
    "start_time": "2022-05-16T12:35:12.406Z"
   },
   {
    "duration": 4,
    "start_time": "2022-05-16T12:35:13.419Z"
   },
   {
    "duration": 349,
    "start_time": "2022-05-16T12:35:13.425Z"
   },
   {
    "duration": 740,
    "start_time": "2022-05-16T12:35:13.776Z"
   },
   {
    "duration": 368,
    "start_time": "2022-05-16T12:35:14.518Z"
   },
   {
    "duration": 5455,
    "start_time": "2022-05-16T12:35:14.888Z"
   },
   {
    "duration": 119,
    "start_time": "2022-05-16T12:35:20.347Z"
   },
   {
    "duration": 1490,
    "start_time": "2022-05-16T12:35:20.469Z"
   },
   {
    "duration": 2072,
    "start_time": "2022-05-16T12:35:21.962Z"
   },
   {
    "duration": 3555,
    "start_time": "2022-05-16T12:35:24.037Z"
   },
   {
    "duration": 151,
    "start_time": "2022-05-16T12:35:27.594Z"
   },
   {
    "duration": 70,
    "start_time": "2022-05-16T12:35:27.747Z"
   },
   {
    "duration": 214,
    "start_time": "2022-05-16T12:35:27.820Z"
   },
   {
    "duration": 52,
    "start_time": "2022-05-16T12:35:28.036Z"
   },
   {
    "duration": 19,
    "start_time": "2022-05-16T12:35:32.506Z"
   },
   {
    "duration": 714,
    "start_time": "2022-05-16T12:35:32.955Z"
   },
   {
    "duration": 6,
    "start_time": "2022-05-16T12:35:43.772Z"
   },
   {
    "duration": 7,
    "start_time": "2022-05-16T12:35:43.780Z"
   },
   {
    "duration": 968,
    "start_time": "2022-05-16T12:35:43.789Z"
   },
   {
    "duration": 5,
    "start_time": "2022-05-16T12:35:44.759Z"
   },
   {
    "duration": 349,
    "start_time": "2022-05-16T12:35:44.767Z"
   },
   {
    "duration": 747,
    "start_time": "2022-05-16T12:35:45.118Z"
   },
   {
    "duration": 388,
    "start_time": "2022-05-16T12:35:45.868Z"
   },
   {
    "duration": 84,
    "start_time": "2022-05-16T12:35:54.192Z"
   },
   {
    "duration": 63,
    "start_time": "2022-05-16T12:35:54.279Z"
   },
   {
    "duration": 0,
    "start_time": "2022-05-16T12:35:54.346Z"
   },
   {
    "duration": 0,
    "start_time": "2022-05-16T12:35:54.348Z"
   },
   {
    "duration": 0,
    "start_time": "2022-05-16T12:35:54.350Z"
   },
   {
    "duration": 0,
    "start_time": "2022-05-16T12:35:54.356Z"
   },
   {
    "duration": 0,
    "start_time": "2022-05-16T12:35:54.359Z"
   },
   {
    "duration": 0,
    "start_time": "2022-05-16T12:35:54.361Z"
   },
   {
    "duration": 0,
    "start_time": "2022-05-16T12:35:54.363Z"
   },
   {
    "duration": 0,
    "start_time": "2022-05-16T12:35:54.365Z"
   },
   {
    "duration": 0,
    "start_time": "2022-05-16T12:35:54.368Z"
   },
   {
    "duration": 0,
    "start_time": "2022-05-16T12:35:54.370Z"
   },
   {
    "duration": 0,
    "start_time": "2022-05-16T12:35:54.372Z"
   },
   {
    "duration": 0,
    "start_time": "2022-05-16T12:35:54.374Z"
   },
   {
    "duration": 2075,
    "start_time": "2022-05-16T12:36:04.568Z"
   },
   {
    "duration": 11,
    "start_time": "2022-05-16T12:36:06.645Z"
   },
   {
    "duration": 1050,
    "start_time": "2022-05-16T12:36:06.658Z"
   },
   {
    "duration": 5,
    "start_time": "2022-05-16T12:36:07.711Z"
   },
   {
    "duration": 367,
    "start_time": "2022-05-16T12:36:07.718Z"
   },
   {
    "duration": 824,
    "start_time": "2022-05-16T12:36:08.088Z"
   },
   {
    "duration": 412,
    "start_time": "2022-05-16T12:36:08.915Z"
   },
   {
    "duration": 7156,
    "start_time": "2022-05-16T12:36:09.329Z"
   },
   {
    "duration": 133,
    "start_time": "2022-05-16T12:36:16.488Z"
   },
   {
    "duration": 2040,
    "start_time": "2022-05-16T12:36:16.626Z"
   },
   {
    "duration": 2270,
    "start_time": "2022-05-16T12:36:18.669Z"
   },
   {
    "duration": 5496,
    "start_time": "2022-05-16T12:36:20.942Z"
   },
   {
    "duration": 149,
    "start_time": "2022-05-16T12:36:26.441Z"
   },
   {
    "duration": 66,
    "start_time": "2022-05-16T12:36:26.592Z"
   },
   {
    "duration": 70,
    "start_time": "2022-05-16T12:36:26.661Z"
   },
   {
    "duration": 40,
    "start_time": "2022-05-16T12:36:26.733Z"
   },
   {
    "duration": 603,
    "start_time": "2022-05-16T12:36:44.069Z"
   },
   {
    "duration": 600,
    "start_time": "2022-05-16T12:36:53.104Z"
   },
   {
    "duration": 34,
    "start_time": "2022-05-16T12:37:32.238Z"
   },
   {
    "duration": 676,
    "start_time": "2022-05-16T12:38:55.873Z"
   },
   {
    "duration": 26,
    "start_time": "2022-05-16T12:39:11.117Z"
   },
   {
    "duration": 31,
    "start_time": "2022-05-16T12:40:02.274Z"
   },
   {
    "duration": 6,
    "start_time": "2022-05-16T12:40:21.782Z"
   },
   {
    "duration": 182,
    "start_time": "2022-05-16T12:40:29.320Z"
   },
   {
    "duration": 5,
    "start_time": "2022-05-16T12:40:32.706Z"
   },
   {
    "duration": 30,
    "start_time": "2022-05-16T12:41:32.299Z"
   },
   {
    "duration": 6,
    "start_time": "2022-05-16T12:42:17.999Z"
   },
   {
    "duration": 4,
    "start_time": "2022-05-16T12:43:24.813Z"
   },
   {
    "duration": 7,
    "start_time": "2022-05-16T12:43:27.500Z"
   },
   {
    "duration": 7,
    "start_time": "2022-05-16T12:43:34.457Z"
   },
   {
    "duration": 12,
    "start_time": "2022-05-16T12:43:41.788Z"
   },
   {
    "duration": 11,
    "start_time": "2022-05-16T12:43:48.406Z"
   },
   {
    "duration": 19,
    "start_time": "2022-05-16T12:43:52.466Z"
   },
   {
    "duration": 130,
    "start_time": "2022-05-16T12:44:05.494Z"
   },
   {
    "duration": 15,
    "start_time": "2022-05-16T12:44:07.843Z"
   },
   {
    "duration": 135,
    "start_time": "2022-05-16T12:44:14.972Z"
   },
   {
    "duration": 4,
    "start_time": "2022-05-16T12:44:57.247Z"
   },
   {
    "duration": 4,
    "start_time": "2022-05-16T12:44:59.290Z"
   },
   {
    "duration": 5,
    "start_time": "2022-05-16T12:45:06.751Z"
   },
   {
    "duration": 5,
    "start_time": "2022-05-16T12:45:38.037Z"
   },
   {
    "duration": 5,
    "start_time": "2022-05-16T12:46:00.548Z"
   },
   {
    "duration": 63,
    "start_time": "2022-05-16T12:46:44.726Z"
   },
   {
    "duration": 25,
    "start_time": "2022-05-16T12:46:51.424Z"
   },
   {
    "duration": 335,
    "start_time": "2022-05-16T12:47:21.256Z"
   },
   {
    "duration": 10,
    "start_time": "2022-05-16T12:47:23.716Z"
   },
   {
    "duration": 488252,
    "start_time": "2022-05-16T12:47:25.727Z"
   },
   {
    "duration": 467026,
    "start_time": "2022-05-16T12:55:44.739Z"
   },
   {
    "duration": 7,
    "start_time": "2022-05-16T13:06:21.131Z"
   },
   {
    "duration": 10,
    "start_time": "2022-05-16T13:06:21.140Z"
   },
   {
    "duration": 1200,
    "start_time": "2022-05-16T13:06:21.153Z"
   },
   {
    "duration": 5,
    "start_time": "2022-05-16T13:06:22.358Z"
   },
   {
    "duration": 353,
    "start_time": "2022-05-16T13:06:22.366Z"
   },
   {
    "duration": 749,
    "start_time": "2022-05-16T13:06:22.723Z"
   },
   {
    "duration": 386,
    "start_time": "2022-05-16T13:06:23.475Z"
   },
   {
    "duration": 5599,
    "start_time": "2022-05-16T13:06:23.864Z"
   },
   {
    "duration": 118,
    "start_time": "2022-05-16T13:06:29.466Z"
   },
   {
    "duration": 1971,
    "start_time": "2022-05-16T13:06:29.588Z"
   },
   {
    "duration": 3559,
    "start_time": "2022-05-16T13:06:31.562Z"
   },
   {
    "duration": 6360,
    "start_time": "2022-05-16T13:06:35.124Z"
   },
   {
    "duration": 227,
    "start_time": "2022-05-16T13:06:41.487Z"
   },
   {
    "duration": 71,
    "start_time": "2022-05-16T13:06:41.717Z"
   },
   {
    "duration": 84,
    "start_time": "2022-05-16T13:06:41.790Z"
   },
   {
    "duration": 30,
    "start_time": "2022-05-16T13:06:41.877Z"
   },
   {
    "duration": 1758,
    "start_time": "2022-05-16T13:06:41.909Z"
   },
   {
    "duration": 1626,
    "start_time": "2022-05-16T13:07:24.265Z"
   },
   {
    "duration": 13,
    "start_time": "2022-05-16T13:07:29.576Z"
   },
   {
    "duration": 54,
    "start_time": "2022-05-16T13:07:52.818Z"
   },
   {
    "duration": 19,
    "start_time": "2022-05-16T13:07:58.182Z"
   },
   {
    "duration": 2567,
    "start_time": "2022-05-16T13:08:57.169Z"
   },
   {
    "duration": 83,
    "start_time": "2022-05-16T13:09:49.304Z"
   },
   {
    "duration": 41,
    "start_time": "2022-05-16T13:09:51.458Z"
   },
   {
    "duration": 2398,
    "start_time": "2022-05-16T13:10:39.809Z"
   },
   {
    "duration": 4,
    "start_time": "2022-05-16T13:10:42.210Z"
   },
   {
    "duration": 1099,
    "start_time": "2022-05-16T13:10:42.218Z"
   },
   {
    "duration": 6,
    "start_time": "2022-05-16T13:10:43.320Z"
   },
   {
    "duration": 648,
    "start_time": "2022-05-16T13:10:43.329Z"
   },
   {
    "duration": 1243,
    "start_time": "2022-05-16T13:10:43.980Z"
   },
   {
    "duration": 561,
    "start_time": "2022-05-16T13:10:45.227Z"
   },
   {
    "duration": 8566,
    "start_time": "2022-05-16T13:10:45.791Z"
   },
   {
    "duration": 102,
    "start_time": "2022-05-16T13:10:54.360Z"
   },
   {
    "duration": 1496,
    "start_time": "2022-05-16T13:10:54.464Z"
   },
   {
    "duration": 3033,
    "start_time": "2022-05-16T13:10:55.963Z"
   },
   {
    "duration": 3729,
    "start_time": "2022-05-16T13:10:58.999Z"
   },
   {
    "duration": 152,
    "start_time": "2022-05-16T13:11:02.732Z"
   },
   {
    "duration": 77,
    "start_time": "2022-05-16T13:11:02.886Z"
   },
   {
    "duration": 91,
    "start_time": "2022-05-16T13:11:02.966Z"
   },
   {
    "duration": 33,
    "start_time": "2022-05-16T13:11:03.060Z"
   },
   {
    "duration": 806,
    "start_time": "2022-05-16T13:11:03.096Z"
   },
   {
    "duration": 106,
    "start_time": "2022-05-16T13:11:03.904Z"
   },
   {
    "duration": 25,
    "start_time": "2022-05-16T13:11:04.012Z"
   },
   {
    "duration": 357,
    "start_time": "2022-05-16T13:11:04.040Z"
   },
   {
    "duration": 11,
    "start_time": "2022-05-16T13:11:04.399Z"
   },
   {
    "duration": 484505,
    "start_time": "2022-05-16T13:11:04.413Z"
   },
   {
    "duration": 468457,
    "start_time": "2022-05-16T13:19:08.920Z"
   },
   {
    "duration": 953,
    "start_time": "2022-05-16T13:26:57.380Z"
   },
   {
    "duration": 2217,
    "start_time": "2022-05-16T13:33:00.307Z"
   },
   {
    "duration": 5,
    "start_time": "2022-05-16T13:33:02.527Z"
   },
   {
    "duration": 1157,
    "start_time": "2022-05-16T13:33:02.534Z"
   },
   {
    "duration": 5,
    "start_time": "2022-05-16T13:33:03.695Z"
   },
   {
    "duration": 626,
    "start_time": "2022-05-16T13:33:03.703Z"
   },
   {
    "duration": 963,
    "start_time": "2022-05-16T13:33:04.332Z"
   },
   {
    "duration": 593,
    "start_time": "2022-05-16T13:33:05.298Z"
   },
   {
    "duration": 8104,
    "start_time": "2022-05-16T13:33:05.894Z"
   },
   {
    "duration": 105,
    "start_time": "2022-05-16T13:33:14.001Z"
   },
   {
    "duration": 1541,
    "start_time": "2022-05-16T13:33:14.110Z"
   },
   {
    "duration": 2223,
    "start_time": "2022-05-16T13:33:15.653Z"
   },
   {
    "duration": 4011,
    "start_time": "2022-05-16T13:33:17.879Z"
   },
   {
    "duration": 193,
    "start_time": "2022-05-16T13:33:21.893Z"
   },
   {
    "duration": 84,
    "start_time": "2022-05-16T13:33:22.088Z"
   },
   {
    "duration": 98,
    "start_time": "2022-05-16T13:33:22.175Z"
   },
   {
    "duration": 35,
    "start_time": "2022-05-16T13:33:22.278Z"
   },
   {
    "duration": 1259,
    "start_time": "2022-05-16T13:33:22.315Z"
   },
   {
    "duration": 82,
    "start_time": "2022-05-16T13:33:23.577Z"
   },
   {
    "duration": 28,
    "start_time": "2022-05-16T13:33:23.662Z"
   },
   {
    "duration": 352,
    "start_time": "2022-05-16T13:33:23.692Z"
   },
   {
    "duration": 11,
    "start_time": "2022-05-16T13:33:24.046Z"
   },
   {
    "duration": 467868,
    "start_time": "2022-05-16T13:33:24.061Z"
   },
   {
    "duration": 189567,
    "start_time": "2022-05-16T13:41:11.931Z"
   },
   {
    "duration": 736,
    "start_time": "2022-05-16T13:44:21.501Z"
   },
   {
    "duration": 3336,
    "start_time": "2022-05-17T08:02:25.626Z"
   },
   {
    "duration": 3,
    "start_time": "2022-05-17T08:02:28.964Z"
   },
   {
    "duration": 767,
    "start_time": "2022-05-17T08:02:28.969Z"
   },
   {
    "duration": 4,
    "start_time": "2022-05-17T08:02:29.739Z"
   },
   {
    "duration": 264,
    "start_time": "2022-05-17T08:02:29.744Z"
   },
   {
    "duration": 538,
    "start_time": "2022-05-17T08:02:30.010Z"
   },
   {
    "duration": 298,
    "start_time": "2022-05-17T08:02:30.550Z"
   },
   {
    "duration": 3501,
    "start_time": "2022-05-17T08:02:30.849Z"
   },
   {
    "duration": 69,
    "start_time": "2022-05-17T08:02:34.351Z"
   },
   {
    "duration": 826,
    "start_time": "2022-05-17T08:02:34.422Z"
   },
   {
    "duration": 1110,
    "start_time": "2022-05-17T08:02:35.249Z"
   },
   {
    "duration": 2065,
    "start_time": "2022-05-17T08:02:36.361Z"
   },
   {
    "duration": 95,
    "start_time": "2022-05-17T08:02:38.427Z"
   },
   {
    "duration": 52,
    "start_time": "2022-05-17T08:02:38.524Z"
   },
   {
    "duration": 47,
    "start_time": "2022-05-17T08:02:38.578Z"
   },
   {
    "duration": 39,
    "start_time": "2022-05-17T08:02:38.626Z"
   },
   {
    "duration": 439,
    "start_time": "2022-05-17T08:02:38.666Z"
   },
   {
    "duration": 58,
    "start_time": "2022-05-17T08:02:39.106Z"
   },
   {
    "duration": 16,
    "start_time": "2022-05-17T08:02:39.165Z"
   },
   {
    "duration": 189,
    "start_time": "2022-05-17T08:02:39.182Z"
   },
   {
    "duration": 8,
    "start_time": "2022-05-17T08:02:39.373Z"
   },
   {
    "duration": 204136,
    "start_time": "2022-05-17T08:02:39.383Z"
   },
   {
    "duration": 21457,
    "start_time": "2022-05-17T08:06:03.521Z"
   },
   {
    "duration": 518,
    "start_time": "2022-05-17T08:06:24.980Z"
   },
   {
    "duration": 1562,
    "start_time": "2022-05-17T09:04:21.609Z"
   },
   {
    "duration": 2,
    "start_time": "2022-05-17T09:04:23.173Z"
   },
   {
    "duration": 712,
    "start_time": "2022-05-17T09:04:23.177Z"
   },
   {
    "duration": 3,
    "start_time": "2022-05-17T09:04:23.890Z"
   },
   {
    "duration": 247,
    "start_time": "2022-05-17T09:04:23.895Z"
   },
   {
    "duration": 512,
    "start_time": "2022-05-17T09:04:24.143Z"
   },
   {
    "duration": 273,
    "start_time": "2022-05-17T09:04:24.657Z"
   },
   {
    "duration": 3453,
    "start_time": "2022-05-17T09:04:24.932Z"
   },
   {
    "duration": 64,
    "start_time": "2022-05-17T09:04:28.386Z"
   },
   {
    "duration": 854,
    "start_time": "2022-05-17T09:04:28.451Z"
   },
   {
    "duration": 1167,
    "start_time": "2022-05-17T09:04:29.307Z"
   },
   {
    "duration": 2676,
    "start_time": "2022-05-17T09:04:30.476Z"
   },
   {
    "duration": 95,
    "start_time": "2022-05-17T09:04:33.154Z"
   },
   {
    "duration": 48,
    "start_time": "2022-05-17T09:04:33.251Z"
   },
   {
    "duration": 46,
    "start_time": "2022-05-17T09:04:33.301Z"
   },
   {
    "duration": 39,
    "start_time": "2022-05-17T09:04:33.349Z"
   },
   {
    "duration": 439,
    "start_time": "2022-05-17T09:04:33.390Z"
   },
   {
    "duration": 63,
    "start_time": "2022-05-17T09:04:33.831Z"
   },
   {
    "duration": 16,
    "start_time": "2022-05-17T09:04:33.896Z"
   },
   {
    "duration": 200,
    "start_time": "2022-05-17T09:04:33.914Z"
   },
   {
    "duration": 7,
    "start_time": "2022-05-17T09:04:34.116Z"
   },
   {
    "duration": 184964,
    "start_time": "2022-05-17T09:04:34.125Z"
   },
   {
    "duration": 20292,
    "start_time": "2022-05-17T09:07:39.091Z"
   },
   {
    "duration": 517,
    "start_time": "2022-05-17T09:07:59.384Z"
   },
   {
    "duration": 27490,
    "start_time": "2022-05-17T09:11:13.399Z"
   },
   {
    "duration": 6,
    "start_time": "2022-05-17T09:12:09.534Z"
   },
   {
    "duration": 61308,
    "start_time": "2022-05-17T09:12:13.979Z"
   },
   {
    "duration": 44476,
    "start_time": "2022-05-17T09:14:25.807Z"
   },
   {
    "duration": 17687,
    "start_time": "2022-05-17T09:15:45.790Z"
   },
   {
    "duration": 1912,
    "start_time": "2022-05-17T09:18:48.914Z"
   },
   {
    "duration": 974,
    "start_time": "2022-05-17T09:19:05.516Z"
   },
   {
    "duration": 10,
    "start_time": "2022-05-17T09:19:42.289Z"
   },
   {
    "duration": 2129,
    "start_time": "2022-05-17T09:20:54.687Z"
   },
   {
    "duration": 1653,
    "start_time": "2022-05-17T09:21:07.243Z"
   },
   {
    "duration": 6,
    "start_time": "2022-05-17T09:21:11.771Z"
   },
   {
    "duration": 4,
    "start_time": "2022-05-17T09:21:42.288Z"
   },
   {
    "duration": 9,
    "start_time": "2022-05-17T09:21:45.699Z"
   },
   {
    "duration": 9,
    "start_time": "2022-05-17T09:21:58.399Z"
   },
   {
    "duration": 12,
    "start_time": "2022-05-17T09:22:13.564Z"
   },
   {
    "duration": 12,
    "start_time": "2022-05-17T09:22:36.710Z"
   },
   {
    "duration": 15,
    "start_time": "2022-05-17T09:22:40.915Z"
   },
   {
    "duration": 5,
    "start_time": "2022-05-17T09:22:59.934Z"
   },
   {
    "duration": 11,
    "start_time": "2022-05-17T09:23:02.200Z"
   },
   {
    "duration": 10,
    "start_time": "2022-05-17T09:23:05.143Z"
   },
   {
    "duration": 215041,
    "start_time": "2022-05-17T09:23:30.776Z"
   },
   {
    "duration": 5,
    "start_time": "2022-05-17T09:27:43.296Z"
   },
   {
    "duration": 10,
    "start_time": "2022-05-17T09:27:45.917Z"
   },
   {
    "duration": 9,
    "start_time": "2022-05-17T09:28:21.688Z"
   },
   {
    "duration": 9,
    "start_time": "2022-05-17T09:28:41.295Z"
   },
   {
    "duration": 9,
    "start_time": "2022-05-17T09:29:31.597Z"
   },
   {
    "duration": 9,
    "start_time": "2022-05-17T09:29:35.330Z"
   },
   {
    "duration": 8,
    "start_time": "2022-05-17T09:29:37.047Z"
   },
   {
    "duration": 8,
    "start_time": "2022-05-17T09:29:40.110Z"
   },
   {
    "duration": 8,
    "start_time": "2022-05-17T09:30:59.996Z"
   },
   {
    "duration": 310,
    "start_time": "2022-05-17T09:31:30.894Z"
   },
   {
    "duration": 10,
    "start_time": "2022-05-17T09:33:29.303Z"
   },
   {
    "duration": 11,
    "start_time": "2022-05-17T09:33:56.265Z"
   },
   {
    "duration": 5,
    "start_time": "2022-05-17T09:34:40.485Z"
   },
   {
    "duration": 16,
    "start_time": "2022-05-17T09:34:42.648Z"
   },
   {
    "duration": 17,
    "start_time": "2022-05-17T09:34:45.185Z"
   },
   {
    "duration": 12,
    "start_time": "2022-05-17T09:35:18.050Z"
   },
   {
    "duration": 17530,
    "start_time": "2022-05-17T09:41:00.647Z"
   },
   {
    "duration": 6,
    "start_time": "2022-05-17T09:43:07.964Z"
   },
   {
    "duration": 11,
    "start_time": "2022-05-17T09:43:30.189Z"
   },
   {
    "duration": 103,
    "start_time": "2022-05-17T09:43:39.015Z"
   },
   {
    "duration": 6,
    "start_time": "2022-05-17T09:43:41.489Z"
   },
   {
    "duration": 6,
    "start_time": "2022-05-17T09:43:57.599Z"
   },
   {
    "duration": 7,
    "start_time": "2022-05-17T09:44:16.510Z"
   },
   {
    "duration": 3,
    "start_time": "2022-05-17T09:45:44.821Z"
   },
   {
    "duration": 2045,
    "start_time": "2022-05-17T09:45:47.629Z"
   },
   {
    "duration": 12,
    "start_time": "2022-05-17T09:45:58.464Z"
   },
   {
    "duration": 7,
    "start_time": "2022-05-17T09:46:06.580Z"
   },
   {
    "duration": 10,
    "start_time": "2022-05-17T09:46:09.677Z"
   },
   {
    "duration": 11,
    "start_time": "2022-05-17T09:46:29.253Z"
   },
   {
    "duration": 12,
    "start_time": "2022-05-17T09:47:31.857Z"
   },
   {
    "duration": 1818,
    "start_time": "2022-05-17T09:47:41.411Z"
   },
   {
    "duration": 2034,
    "start_time": "2022-05-17T09:47:55.778Z"
   },
   {
    "duration": 119,
    "start_time": "2022-05-17T09:48:21.343Z"
   },
   {
    "duration": 9,
    "start_time": "2022-05-17T09:48:24.106Z"
   },
   {
    "duration": 13,
    "start_time": "2022-05-17T09:48:34.389Z"
   },
   {
    "duration": 15,
    "start_time": "2022-05-17T09:49:13.998Z"
   },
   {
    "duration": 14,
    "start_time": "2022-05-17T09:50:03.411Z"
   },
   {
    "duration": 15,
    "start_time": "2022-05-17T09:50:16.932Z"
   },
   {
    "duration": 1426,
    "start_time": "2022-05-17T09:50:34.118Z"
   },
   {
    "duration": 3,
    "start_time": "2022-05-17T09:50:35.546Z"
   },
   {
    "duration": 735,
    "start_time": "2022-05-17T09:50:35.551Z"
   },
   {
    "duration": 3,
    "start_time": "2022-05-17T09:50:36.288Z"
   },
   {
    "duration": 278,
    "start_time": "2022-05-17T09:50:36.293Z"
   },
   {
    "duration": 530,
    "start_time": "2022-05-17T09:50:36.573Z"
   },
   {
    "duration": 294,
    "start_time": "2022-05-17T09:50:37.104Z"
   },
   {
    "duration": 3478,
    "start_time": "2022-05-17T09:50:37.400Z"
   },
   {
    "duration": 62,
    "start_time": "2022-05-17T09:50:40.879Z"
   },
   {
    "duration": 861,
    "start_time": "2022-05-17T09:50:40.943Z"
   },
   {
    "duration": 1139,
    "start_time": "2022-05-17T09:50:41.805Z"
   },
   {
    "duration": 2072,
    "start_time": "2022-05-17T09:50:42.946Z"
   },
   {
    "duration": 99,
    "start_time": "2022-05-17T09:50:45.020Z"
   },
   {
    "duration": 31,
    "start_time": "2022-05-17T09:50:45.123Z"
   },
   {
    "duration": 41,
    "start_time": "2022-05-17T09:50:45.172Z"
   },
   {
    "duration": 16,
    "start_time": "2022-05-17T09:50:45.215Z"
   },
   {
    "duration": 452,
    "start_time": "2022-05-17T09:50:45.233Z"
   },
   {
    "duration": 56,
    "start_time": "2022-05-17T09:50:45.688Z"
   },
   {
    "duration": 33,
    "start_time": "2022-05-17T09:50:45.746Z"
   },
   {
    "duration": 203,
    "start_time": "2022-05-17T09:50:45.781Z"
   },
   {
    "duration": 8,
    "start_time": "2022-05-17T09:50:45.986Z"
   },
   {
    "duration": 196270,
    "start_time": "2022-05-17T09:50:45.996Z"
   },
   {
    "duration": 422643,
    "start_time": "2022-05-17T09:54:02.268Z"
   },
   {
    "duration": 15,
    "start_time": "2022-05-17T10:01:04.913Z"
   },
   {
    "duration": 496,
    "start_time": "2022-05-17T10:01:04.929Z"
   },
   {
    "duration": 120,
    "start_time": "2022-05-17T10:03:10.297Z"
   }
  ],
  "kernelspec": {
   "display_name": "Python 3 (ipykernel)",
   "language": "python",
   "name": "python3"
  },
  "language_info": {
   "codemirror_mode": {
    "name": "ipython",
    "version": 3
   },
   "file_extension": ".py",
   "mimetype": "text/x-python",
   "name": "python",
   "nbconvert_exporter": "python",
   "pygments_lexer": "ipython3",
   "version": "3.9.7"
  },
  "toc": {
   "base_numbering": 1,
   "nav_menu": {},
   "number_sections": true,
   "sideBar": true,
   "skip_h1_title": true,
   "title_cell": "Table of Contents",
   "title_sidebar": "Contents",
   "toc_cell": false,
   "toc_position": {
    "height": "calc(100% - 180px)",
    "left": "10px",
    "top": "150px",
    "width": "222.188px"
   },
   "toc_section_display": true,
   "toc_window_display": true
  }
 },
 "nbformat": 4,
 "nbformat_minor": 2
}
