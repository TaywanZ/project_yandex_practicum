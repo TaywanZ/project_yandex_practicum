{
 "cells": [
  {
   "cell_type": "markdown",
   "metadata": {
    "toc": true
   },
   "source": [
    "<h1>Содержание<span class=\"tocSkip\"></span></h1>\n",
    "<div class=\"toc\"><ul class=\"toc-item\"><li><span><a href=\"#Подготовка\" data-toc-modified-id=\"Подготовка-1\"><span class=\"toc-item-num\">1&nbsp;&nbsp;</span>Подготовка</a></span></li><li><span><a href=\"#Анализ\" data-toc-modified-id=\"Анализ-2\"><span class=\"toc-item-num\">2&nbsp;&nbsp;</span>Анализ</a></span><ul class=\"toc-item\"><li><span><a href=\"#Выводы\" data-toc-modified-id=\"Выводы-2.1\"><span class=\"toc-item-num\">2.1&nbsp;&nbsp;</span>Выводы</a></span></li></ul></li><li><span><a href=\"#Обучение\" data-toc-modified-id=\"Обучение-3\"><span class=\"toc-item-num\">3&nbsp;&nbsp;</span>Обучение</a></span><ul class=\"toc-item\"><li><span><a href=\"#Выводы\" data-toc-modified-id=\"Выводы-3.1\"><span class=\"toc-item-num\">3.1&nbsp;&nbsp;</span>Выводы</a></span></li></ul></li><li><span><a href=\"#Тестирование\" data-toc-modified-id=\"Тестирование-4\"><span class=\"toc-item-num\">4&nbsp;&nbsp;</span>Тестирование</a></span></li><li><span><a href=\"#Общие-выводы\" data-toc-modified-id=\"Общие-выводы-5\"><span class=\"toc-item-num\">5&nbsp;&nbsp;</span>Общие выводы</a></span></li><li><span><a href=\"#Чек-лист-проверки\" data-toc-modified-id=\"Чек-лист-проверки-6\"><span class=\"toc-item-num\">6&nbsp;&nbsp;</span>Чек-лист проверки</a></span></li></ul></div>"
   ]
  },
  {
   "cell_type": "markdown",
   "metadata": {},
   "source": [
    "#  Прогнозирование заказов такси"
   ]
  },
  {
   "cell_type": "markdown",
   "metadata": {},
   "source": [
    "## Подготовка"
   ]
  },
  {
   "cell_type": "markdown",
   "metadata": {},
   "source": [
    "Для начала импортируем необходимые функции и библиотеки"
   ]
  },
  {
   "cell_type": "code",
   "execution_count": 1,
   "metadata": {},
   "outputs": [],
   "source": [
    "import pandas as pd\n",
    "import numpy as np\n",
    "import seaborn as sns\n",
    "import matplotlib.pyplot as plt\n",
    "\n",
    "from statsmodels.tsa.seasonal import seasonal_decompose\n",
    "from datetime import datetime\n",
    "from sklearn.model_selection import train_test_split\n",
    "from sklearn.linear_model import LinearRegression\n",
    "from sklearn.ensemble import RandomForestRegressor\n",
    "from sklearn.tree import DecisionTreeRegressor\n",
    "from sklearn.metrics import mean_squared_error\n",
    "from sklearn.dummy import DummyRegressor\n",
    "from catboost import CatBoostRegressor"
   ]
  },
  {
   "cell_type": "markdown",
   "metadata": {},
   "source": [
    "Далее, загрузим исходные данные и ознакомимся с ними."
   ]
  },
  {
   "cell_type": "code",
   "execution_count": 2,
   "metadata": {},
   "outputs": [],
   "source": [
    "df = pd.read_csv('/datasets/taxi.csv', index_col=[0], parse_dates=[0])"
   ]
  },
  {
   "cell_type": "code",
   "execution_count": 3,
   "metadata": {},
   "outputs": [],
   "source": [
    "def data_info(data):\n",
    "    print(data.info())\n",
    "    print(data.isna().sum() / data.shape[0])\n",
    "    print(data.head(5))"
   ]
  },
  {
   "cell_type": "code",
   "execution_count": 4,
   "metadata": {},
   "outputs": [
    {
     "name": "stdout",
     "output_type": "stream",
     "text": [
      "<class 'pandas.core.frame.DataFrame'>\n",
      "DatetimeIndex: 26496 entries, 2018-03-01 00:00:00 to 2018-08-31 23:50:00\n",
      "Data columns (total 1 columns):\n",
      " #   Column      Non-Null Count  Dtype\n",
      "---  ------      --------------  -----\n",
      " 0   num_orders  26496 non-null  int64\n",
      "dtypes: int64(1)\n",
      "memory usage: 414.0 KB\n",
      "None\n",
      "num_orders    0.0\n",
      "dtype: float64\n",
      "                     num_orders\n",
      "datetime                       \n",
      "2018-03-01 00:00:00           9\n",
      "2018-03-01 00:10:00          14\n",
      "2018-03-01 00:20:00          28\n",
      "2018-03-01 00:30:00          20\n",
      "2018-03-01 00:40:00          32\n"
     ]
    }
   ],
   "source": [
    "data_info(df)"
   ]
  },
  {
   "cell_type": "markdown",
   "metadata": {},
   "source": [
    "Пропусков в данных нет, типы данных адекватны. Можно переходить к дальнейшей подготовке.\n",
    "\n",
    "Отсортируем данные по времени (индексу)."
   ]
  },
  {
   "cell_type": "code",
   "execution_count": 5,
   "metadata": {},
   "outputs": [
    {
     "data": {
      "text/html": [
       "<div>\n",
       "<style scoped>\n",
       "    .dataframe tbody tr th:only-of-type {\n",
       "        vertical-align: middle;\n",
       "    }\n",
       "\n",
       "    .dataframe tbody tr th {\n",
       "        vertical-align: top;\n",
       "    }\n",
       "\n",
       "    .dataframe thead th {\n",
       "        text-align: right;\n",
       "    }\n",
       "</style>\n",
       "<table border=\"1\" class=\"dataframe\">\n",
       "  <thead>\n",
       "    <tr style=\"text-align: right;\">\n",
       "      <th></th>\n",
       "      <th>num_orders</th>\n",
       "    </tr>\n",
       "    <tr>\n",
       "      <th>datetime</th>\n",
       "      <th></th>\n",
       "    </tr>\n",
       "  </thead>\n",
       "  <tbody>\n",
       "    <tr>\n",
       "      <th>2018-03-01 00:00:00</th>\n",
       "      <td>9</td>\n",
       "    </tr>\n",
       "    <tr>\n",
       "      <th>2018-03-01 00:10:00</th>\n",
       "      <td>14</td>\n",
       "    </tr>\n",
       "    <tr>\n",
       "      <th>2018-03-01 00:20:00</th>\n",
       "      <td>28</td>\n",
       "    </tr>\n",
       "    <tr>\n",
       "      <th>2018-03-01 00:30:00</th>\n",
       "      <td>20</td>\n",
       "    </tr>\n",
       "    <tr>\n",
       "      <th>2018-03-01 00:40:00</th>\n",
       "      <td>32</td>\n",
       "    </tr>\n",
       "    <tr>\n",
       "      <th>2018-03-01 00:50:00</th>\n",
       "      <td>21</td>\n",
       "    </tr>\n",
       "    <tr>\n",
       "      <th>2018-03-01 01:00:00</th>\n",
       "      <td>7</td>\n",
       "    </tr>\n",
       "    <tr>\n",
       "      <th>2018-03-01 01:10:00</th>\n",
       "      <td>5</td>\n",
       "    </tr>\n",
       "    <tr>\n",
       "      <th>2018-03-01 01:20:00</th>\n",
       "      <td>17</td>\n",
       "    </tr>\n",
       "    <tr>\n",
       "      <th>2018-03-01 01:30:00</th>\n",
       "      <td>12</td>\n",
       "    </tr>\n",
       "  </tbody>\n",
       "</table>\n",
       "</div>"
      ],
      "text/plain": [
       "                     num_orders\n",
       "datetime                       \n",
       "2018-03-01 00:00:00           9\n",
       "2018-03-01 00:10:00          14\n",
       "2018-03-01 00:20:00          28\n",
       "2018-03-01 00:30:00          20\n",
       "2018-03-01 00:40:00          32\n",
       "2018-03-01 00:50:00          21\n",
       "2018-03-01 01:00:00           7\n",
       "2018-03-01 01:10:00           5\n",
       "2018-03-01 01:20:00          17\n",
       "2018-03-01 01:30:00          12"
      ]
     },
     "execution_count": 5,
     "metadata": {},
     "output_type": "execute_result"
    }
   ],
   "source": [
    "df = df.sort_index()\n",
    "df.head(10)"
   ]
  },
  {
   "cell_type": "markdown",
   "metadata": {},
   "source": [
    "Укрупним данных, в соответствие с условиями задачи до промежутков в 1 час."
   ]
  },
  {
   "cell_type": "code",
   "execution_count": 6,
   "metadata": {},
   "outputs": [
    {
     "data": {
      "text/html": [
       "<div>\n",
       "<style scoped>\n",
       "    .dataframe tbody tr th:only-of-type {\n",
       "        vertical-align: middle;\n",
       "    }\n",
       "\n",
       "    .dataframe tbody tr th {\n",
       "        vertical-align: top;\n",
       "    }\n",
       "\n",
       "    .dataframe thead th {\n",
       "        text-align: right;\n",
       "    }\n",
       "</style>\n",
       "<table border=\"1\" class=\"dataframe\">\n",
       "  <thead>\n",
       "    <tr style=\"text-align: right;\">\n",
       "      <th></th>\n",
       "      <th>num_orders</th>\n",
       "    </tr>\n",
       "    <tr>\n",
       "      <th>datetime</th>\n",
       "      <th></th>\n",
       "    </tr>\n",
       "  </thead>\n",
       "  <tbody>\n",
       "    <tr>\n",
       "      <th>2018-03-01 00:00:00</th>\n",
       "      <td>124</td>\n",
       "    </tr>\n",
       "    <tr>\n",
       "      <th>2018-03-01 01:00:00</th>\n",
       "      <td>85</td>\n",
       "    </tr>\n",
       "    <tr>\n",
       "      <th>2018-03-01 02:00:00</th>\n",
       "      <td>71</td>\n",
       "    </tr>\n",
       "    <tr>\n",
       "      <th>2018-03-01 03:00:00</th>\n",
       "      <td>66</td>\n",
       "    </tr>\n",
       "    <tr>\n",
       "      <th>2018-03-01 04:00:00</th>\n",
       "      <td>43</td>\n",
       "    </tr>\n",
       "    <tr>\n",
       "      <th>2018-03-01 05:00:00</th>\n",
       "      <td>6</td>\n",
       "    </tr>\n",
       "    <tr>\n",
       "      <th>2018-03-01 06:00:00</th>\n",
       "      <td>12</td>\n",
       "    </tr>\n",
       "    <tr>\n",
       "      <th>2018-03-01 07:00:00</th>\n",
       "      <td>15</td>\n",
       "    </tr>\n",
       "    <tr>\n",
       "      <th>2018-03-01 08:00:00</th>\n",
       "      <td>34</td>\n",
       "    </tr>\n",
       "    <tr>\n",
       "      <th>2018-03-01 09:00:00</th>\n",
       "      <td>69</td>\n",
       "    </tr>\n",
       "  </tbody>\n",
       "</table>\n",
       "</div>"
      ],
      "text/plain": [
       "                     num_orders\n",
       "datetime                       \n",
       "2018-03-01 00:00:00         124\n",
       "2018-03-01 01:00:00          85\n",
       "2018-03-01 02:00:00          71\n",
       "2018-03-01 03:00:00          66\n",
       "2018-03-01 04:00:00          43\n",
       "2018-03-01 05:00:00           6\n",
       "2018-03-01 06:00:00          12\n",
       "2018-03-01 07:00:00          15\n",
       "2018-03-01 08:00:00          34\n",
       "2018-03-01 09:00:00          69"
      ]
     },
     "execution_count": 6,
     "metadata": {},
     "output_type": "execute_result"
    }
   ],
   "source": [
    "df = df.resample('1H').sum()\n",
    "df.head(10)"
   ]
  },
  {
   "cell_type": "markdown",
   "metadata": {},
   "source": [
    "Данные готовы к дальнейшей работе."
   ]
  },
  {
   "cell_type": "markdown",
   "metadata": {},
   "source": [
    "## Анализ"
   ]
  },
  {
   "cell_type": "markdown",
   "metadata": {},
   "source": [
    "Для начала посомтрим на тренд, сезонность и шум в данных."
   ]
  },
  {
   "cell_type": "code",
   "execution_count": 7,
   "metadata": {},
   "outputs": [
    {
     "data": {
      "text/plain": [
       "<AxesSubplot:title={'center':'Trend'}, xlabel='datetime'>"
      ]
     },
     "execution_count": 7,
     "metadata": {},
     "output_type": "execute_result"
    },
    {
     "data": {
      "image/png": "[encoded data removed]",
      "text/plain": [
       "<Figure size 1080x576 with 1 Axes>"
      ]
     },
     "metadata": {
      "needs_background": "light"
     },
     "output_type": "display_data"
    }
   ],
   "source": [
    "decomposed = seasonal_decompose(df)\n",
    "decomposed.trend.plot(figsize=(15,8), grid=True, title='Trend')"
   ]
  },
  {
   "cell_type": "markdown",
   "metadata": {},
   "source": [
    "Заметен явный восходящий тренд."
   ]
  },
  {
   "cell_type": "code",
   "execution_count": 8,
   "metadata": {},
   "outputs": [
    {
     "data": {
      "text/plain": [
       "<AxesSubplot:title={'center':'Seasonal'}, xlabel='datetime'>"
      ]
     },
     "execution_count": 8,
     "metadata": {},
     "output_type": "execute_result"
    },
    {
     "data": {
      "image/png": "[encoded data removed]",
      "text/plain": [
       "<Figure size 1080x576 with 1 Axes>"
      ]
     },
     "metadata": {
      "needs_background": "light"
     },
     "output_type": "display_data"
    }
   ],
   "source": [
    "decomposed.seasonal.plot(figsize=(15,8), grid=True, title='Seasonal')"
   ]
  },
  {
   "cell_type": "markdown",
   "metadata": {},
   "source": [
    "В данном масшатбе тяжело что-то говорить о сезонности кроме того, что она есть. Далее подробнее исследуем этот вопрос."
   ]
  },
  {
   "cell_type": "code",
   "execution_count": 9,
   "metadata": {},
   "outputs": [
    {
     "data": {
      "text/plain": [
       "<AxesSubplot:title={'center':'Resid'}, xlabel='datetime'>"
      ]
     },
     "execution_count": 9,
     "metadata": {},
     "output_type": "execute_result"
    },
    {
     "data": {
      "image/png": "[encoded data removed]",
      "text/plain": [
       "<Figure size 1080x576 with 1 Axes>"
      ]
     },
     "metadata": {
      "needs_background": "light"
     },
     "output_type": "display_data"
    }
   ],
   "source": [
    "decomposed.resid.plot(figsize=(15,8), grid=True, title='Resid')"
   ]
  },
  {
   "cell_type": "markdown",
   "metadata": {},
   "source": [
    "В данных имеется сильный шум. Это осложнит предсказание."
   ]
  },
  {
   "cell_type": "markdown",
   "metadata": {},
   "source": [
    "Попробуем убрать часть шумов, перейдя от абсолютного значения с среднему значению за 24 часа. Так же ознакомимся со стандартным отклонением за этот же период."
   ]
  },
  {
   "cell_type": "code",
   "execution_count": 10,
   "metadata": {},
   "outputs": [
    {
     "data": {
      "text/plain": [
       "<AxesSubplot:title={'center':'Mean and std for 1 day'}, xlabel='datetime'>"
      ]
     },
     "execution_count": 10,
     "metadata": {},
     "output_type": "execute_result"
    },
    {
     "data": {
      "image/png": "[encoded data removed]",
      "text/plain": [
       "<Figure size 1080x504 with 1 Axes>"
      ]
     },
     "metadata": {
      "needs_background": "light"
     },
     "output_type": "display_data"
    }
   ],
   "source": [
    "df1 = df.copy(deep=True)\n",
    "df1['mean_1d'] = df['num_orders'].rolling(24).mean()\n",
    "df1['std'] = df['num_orders'].rolling(24).std()\n",
    "df1 = df1.dropna()\n",
    "fig, ax1 = plt.subplots(figsize=(15,7))\n",
    "plt.grid()\n",
    "plt.title('Mean and std for 1 day')\n",
    "sns.lineplot(data=df1[['mean_1d', 'std']], ax=ax1)"
   ]
  },
  {
   "cell_type": "markdown",
   "metadata": {},
   "source": [
    "В данных все так же есть шумы. Отдано уже можем говорить о том, что ряд не стаионарный. И среднее значение и стандартное отклонение меняются.\n",
    "\n",
    "Ещё сгладим данные, взяв период в 1 неделю."
   ]
  },
  {
   "cell_type": "code",
   "execution_count": 11,
   "metadata": {},
   "outputs": [
    {
     "data": {
      "text/plain": [
       "<AxesSubplot:title={'center':'Mean and std for 7 day'}, xlabel='datetime'>"
      ]
     },
     "execution_count": 11,
     "metadata": {},
     "output_type": "execute_result"
    },
    {
     "data": {
      "image/png": "[encoded data removed]",
      "text/plain": [
       "<Figure size 1080x504 with 1 Axes>"
      ]
     },
     "metadata": {
      "needs_background": "light"
     },
     "output_type": "display_data"
    }
   ],
   "source": [
    "df1 = df.copy(deep=True)\n",
    "df1['mean_1d'] = df['num_orders'].rolling(24*7).mean()\n",
    "df1['std'] = df['num_orders'].rolling(24*7).std()\n",
    "df1 = df1.dropna()\n",
    "fig, ax1 = plt.subplots(figsize=(15,7))\n",
    "plt.grid()\n",
    "plt.title('Mean and std for 7 day')\n",
    "sns.lineplot(data=df1[['mean_1d', 'std']], ax=ax1)"
   ]
  },
  {
   "cell_type": "markdown",
   "metadata": {},
   "source": [
    "Теперь можно однозначно говорить, что среднее значение числа заказов и их стандартное отклонение во времени растут."
   ]
  },
  {
   "cell_type": "markdown",
   "metadata": {},
   "source": [
    "Проверим сезонность данных. Выберем для этого строки соответствующие времени *00:00:00* для каждого дня в выборке.\n",
    "Если сезонность имеется, то разность фактического количества заказов и смещенного на 7 дней будут примерно равны, в то время, как такая же разность, но для смещение в 1 день, будут значительно отличасться.\n",
    "\n",
    "Построим графики и проверим это."
   ]
  },
  {
   "cell_type": "code",
   "execution_count": 12,
   "metadata": {},
   "outputs": [
    {
     "data": {
      "text/plain": [
       "<AxesSubplot:title={'center':'Value with an offset of 7 day'}, xlabel='datetime'>"
      ]
     },
     "execution_count": 12,
     "metadata": {},
     "output_type": "execute_result"
    },
    {
     "data": {
      "image/png": "[encoded data removed]",
      "text/plain": [
       "<Figure size 1080x504 with 1 Axes>"
      ]
     },
     "metadata": {
      "needs_background": "light"
     },
     "output_type": "display_data"
    }
   ],
   "source": [
    "del df1\n",
    "df1 = df.copy(deep=True)\n",
    "time_s = pd.Timestamp('00:00:00').time()\n",
    "df1 = df1[df1.index.time == time_s]\n",
    "df1['delta_1'] = df1['num_orders'] - df1['num_orders'].shift(1)\n",
    "df1['delta_2'] = df1['num_orders'] - df1['num_orders'].shift(7)\n",
    "fig , ax1 = plt.subplots(figsize=(15,7))\n",
    "plt.grid()\n",
    "plt.title('Value with an offset of 7 day')\n",
    "sns.lineplot(data=df1[['delta_1', 'delta_2']], ax=ax1)"
   ]
  },
  {
   "cell_type": "markdown",
   "metadata": {},
   "source": [
    "Из графиков видно, что сезонность имеется и её период равен примерно 7 дням. Посмотрим на числовое выражение этого заключения.\n",
    "Выведем стандартное отклоние для исходной выборки. MAE дельты заказов со смещением в 1 час (из исходной выборки) и MAE дельты для смещений в 1 и 7 дней у преобразованной выборки."
   ]
  },
  {
   "cell_type": "code",
   "execution_count": 13,
   "metadata": {},
   "outputs": [
    {
     "name": "stdout",
     "output_type": "stream",
     "text": [
      "all_str 45.023853419354026\n",
      "delta_1H 29.19977349943375\n",
      "delta_1D 43.387978142076506\n",
      "delta_7D 27.779661016949152\n"
     ]
    }
   ],
   "source": [
    "print('all_str', df['num_orders'].std())\n",
    "print('delta_1H', (df['num_orders']-df['num_orders'].shift(1)).abs().mean())\n",
    "print('delta_1D', df1['delta_1'].abs().mean())\n",
    "print('delta_7D', df1['delta_2'].abs().mean())"
   ]
  },
  {
   "cell_type": "markdown",
   "metadata": {},
   "source": [
    "MAE для смещения в 7 дней оказалось меньше, как и было предположенно исходя из графиков. При этом MAE меньше стандартного отклонения по исходной выборке."
   ]
  },
  {
   "cell_type": "markdown",
   "metadata": {},
   "source": [
    "### Выводы"
   ]
  },
  {
   "cell_type": "markdown",
   "metadata": {},
   "source": [
    "Было определено, что у нас представлен не стационарный временной ряд.\n",
    "У значений из выборки четко прослеживается восходящий тренд, а так же сезонность с периодом 7 дней. В значениях имеется сильный шум, который затрудним предсказание."
   ]
  },
  {
   "cell_type": "markdown",
   "metadata": {},
   "source": [
    "## Обучение"
   ]
  },
  {
   "cell_type": "markdown",
   "metadata": {},
   "source": [
    "Обучать будем 5 моделей: решающее дерево, рандомный лес, линейную регрессию и CatBoost. Адекватность модели проверим на модели dummy.\n",
    "\n",
    "Создадим несколько функций. Первые две будум делить выборку на две части, не перемешивая строки и создавать новые признаки для обучения. Исходя из анализа будем использовать смещение кратное 7 дням."
   ]
  },
  {
   "cell_type": "markdown",
   "metadata": {},
   "source": []
  },
  {
   "cell_type": "code",
   "execution_count": 14,
   "metadata": {},
   "outputs": [],
   "source": [
    "def train_split(df):\n",
    "    # деление выборок на тестовую и тренировочную\n",
    "    train, test = train_test_split(df, test_size=0.1, random_state=123, shuffle=False)\n",
    "    return train, test\n",
    "\n",
    "def make_features(df, rol, log, st):\n",
    "    # создание новых признаков\n",
    "    \n",
    "    df['sm'] = df['num_orders'].shift(1).rolling(rol).mean()\n",
    "    df['st'] = df['num_orders'].shift(1).rolling(st).std()\n",
    "    # срднее значение и стандартное отклонине за rol и st часов\n",
    "\n",
    "    #df['month'] = df.index.month\n",
    "    #df['day'] = df.index.day\n",
    "    \n",
    "    df['dayWeek'] = df.index.dayofweek\n",
    "    df['house'] = df.index.hour\n",
    "    # разбитие даны и времени на отдельные показатели\n",
    "    \n",
    "    for i in range(1, log):\n",
    "        st = 'log_' + str(i)\n",
    "        df[st] = df['num_orders'].shift(24*7 * i)\n",
    "    df = df.dropna()\n",
    "    # создание смещенных данных на период кратный 7 дням\n",
    "    \n",
    "    return train_split(df)"
   ]
  },
  {
   "cell_type": "markdown",
   "metadata": {},
   "source": [
    "Следубщие две функции будут обучать модель и производить кросс-валидацию и учетом требования: не перемешивать строки (не использовать данные из будщего)."
   ]
  },
  {
   "cell_type": "code",
   "execution_count": 15,
   "metadata": {},
   "outputs": [],
   "source": [
    "def fit_m(model, t_f, t_t, v_f, v_t):\n",
    "    # обучение модели, возвращает RMSE\n",
    "    model.fit(t_f, t_t)\n",
    "    model.predict(v_f)\n",
    "    return mean_squared_error(model.predict(v_f), v_t) ** 0.5\n",
    "\n",
    "def timeSeachCV(train, x, model):\n",
    "    # кросс-валидация\n",
    "    \n",
    "    per = train.shape[0] // x\n",
    "    # разбитие на отрезки\n",
    "    list_score = list()\n",
    "    \n",
    "    for i in range(1,x):\n",
    "        stop = per * i\n",
    "        tr = train[:stop]\n",
    "        vl = train[stop:]\n",
    "        list_score.append(fit_m(\n",
    "            model, tr.drop('num_orders', axis=1), tr['num_orders'], vl.drop('num_orders', axis=1), vl['num_orders']))\n",
    "        scor = sum(list_score) / len(list_score)\n",
    "    # последовательное прохождение отрезков с обученим\n",
    "    \n",
    "    return scor"
   ]
  },
  {
   "cell_type": "markdown",
   "metadata": {},
   "source": [
    "А так же функции обучение каждой модели, каждая функция возвращает лучшую оценку и значение гиперпараметров, при которых оценка была получена."
   ]
  },
  {
   "cell_type": "code",
   "execution_count": 16,
   "metadata": {},
   "outputs": [],
   "source": [
    "def tree_m(df):\n",
    "    best_score = 10000\n",
    "    best_params = 0\n",
    "    for i in range(3,10):\n",
    "        model = DecisionTreeRegressor(max_depth=i)\n",
    "        result = timeSeachCV(train, 3, model)  \n",
    "        if result < best_score:\n",
    "            best_score = result\n",
    "            best_params = i\n",
    "    return [best_score, best_params]"
   ]
  },
  {
   "cell_type": "code",
   "execution_count": 17,
   "metadata": {},
   "outputs": [],
   "source": [
    "def forest_m(df):\n",
    "    best_score = 10000\n",
    "    best_params = 0\n",
    "    for est in range(90, 121, 10):\n",
    "        for depth in range(5,10):\n",
    "            model = RandomForestRegressor(max_depth=depth, n_estimators=est)\n",
    "            result = timeSeachCV(train, 3, model)  \n",
    "        if result < best_score:\n",
    "            best_score = result\n",
    "            best_params = (depth, est)\n",
    "    return [best_score, best_params]"
   ]
  },
  {
   "cell_type": "code",
   "execution_count": 18,
   "metadata": {},
   "outputs": [],
   "source": [
    "def lin_m(df):\n",
    "    model = LinearRegression()\n",
    "    return [timeSeachCV(train, 3, model), ()]"
   ]
  },
  {
   "cell_type": "code",
   "execution_count": 19,
   "metadata": {},
   "outputs": [],
   "source": [
    "def cat_m(df):\n",
    "    model = CatBoostRegressor(loss_function='RMSE', verbose=False)\n",
    "    return [timeSeachCV(train, 3, model), ()]"
   ]
  },
  {
   "cell_type": "code",
   "execution_count": 20,
   "metadata": {},
   "outputs": [],
   "source": [
    "def dummy_m(df):\n",
    "    st = ['mean', 'median']\n",
    "    best_score = 10000\n",
    "    best_params = ''\n",
    "    for s in st:\n",
    "        model = DummyRegressor(strategy=s)\n",
    "        result = timeSeachCV(train, 3, model)  \n",
    "        if result < best_score:\n",
    "            best_score = result\n",
    "            best_params = s\n",
    "    return [best_score, best_params]"
   ]
  },
  {
   "cell_type": "markdown",
   "metadata": {},
   "source": [
    "Итерационно обучим каждую модель, определяя наилучшие гиперпараметры и значения смещения данных."
   ]
  },
  {
   "cell_type": "code",
   "execution_count": 21,
   "metadata": {
    "scrolled": false
   },
   "outputs": [
    {
     "name": "stdout",
     "output_type": "stream",
     "text": [
      "log 1\n",
      "log 2\n",
      "log 3\n"
     ]
    }
   ],
   "source": [
    "list_result = list()\n",
    "list_columns = ['log', 'tree', 'forest', 'lin', 'cat','dummy', 'param_tree', 'param_forest', 'param_dummy']\n",
    "\n",
    "for log in range(1, 4):\n",
    "    # log - множитель коэффициента (он равен 24) смещения данных\n",
    "    \n",
    "    print('log', log)\n",
    "    df1 = df.copy(deep=True)\n",
    "    train, test = make_features(df1, 24, log, 24)\n",
    "    res1 = tree_m(train)\n",
    "    res2 = forest_m(train)\n",
    "    res3 = lin_m(train)\n",
    "    res4 = cat_m(train)\n",
    "    res5 = dummy_m(train)\n",
    "    del df1\n",
    "    list_result.append([log, res1[0], res2[0], res3[0], res4[0], res5[0],res1[1], res2[1], res5[1]])\n",
    "\n",
    "all_res = pd.DataFrame(data=list_result, columns=list_columns)"
   ]
  },
  {
   "cell_type": "markdown",
   "metadata": {},
   "source": [
    "Ознакомимся с результатами."
   ]
  },
  {
   "cell_type": "code",
   "execution_count": 22,
   "metadata": {},
   "outputs": [
    {
     "data": {
      "text/html": [
       "<div>\n",
       "<style scoped>\n",
       "    .dataframe tbody tr th:only-of-type {\n",
       "        vertical-align: middle;\n",
       "    }\n",
       "\n",
       "    .dataframe tbody tr th {\n",
       "        vertical-align: top;\n",
       "    }\n",
       "\n",
       "    .dataframe thead th {\n",
       "        text-align: right;\n",
       "    }\n",
       "</style>\n",
       "<table border=\"1\" class=\"dataframe\">\n",
       "  <thead>\n",
       "    <tr style=\"text-align: right;\">\n",
       "      <th></th>\n",
       "      <th>log</th>\n",
       "      <th>tree</th>\n",
       "      <th>forest</th>\n",
       "      <th>lin</th>\n",
       "      <th>cat</th>\n",
       "      <th>dummy</th>\n",
       "      <th>param_tree</th>\n",
       "      <th>param_forest</th>\n",
       "      <th>param_dummy</th>\n",
       "    </tr>\n",
       "  </thead>\n",
       "  <tbody>\n",
       "    <tr>\n",
       "      <th>0</th>\n",
       "      <td>1</td>\n",
       "      <td>38.015870</td>\n",
       "      <td>33.772180</td>\n",
       "      <td>39.470911</td>\n",
       "      <td>35.089720</td>\n",
       "      <td>49.703856</td>\n",
       "      <td>7</td>\n",
       "      <td>(9, 110)</td>\n",
       "      <td>mean</td>\n",
       "    </tr>\n",
       "    <tr>\n",
       "      <th>1</th>\n",
       "      <td>2</td>\n",
       "      <td>29.319171</td>\n",
       "      <td>26.846228</td>\n",
       "      <td>27.359996</td>\n",
       "      <td>27.726334</td>\n",
       "      <td>49.541828</td>\n",
       "      <td>5</td>\n",
       "      <td>(9, 90)</td>\n",
       "      <td>mean</td>\n",
       "    </tr>\n",
       "    <tr>\n",
       "      <th>2</th>\n",
       "      <td>3</td>\n",
       "      <td>28.773194</td>\n",
       "      <td>26.563283</td>\n",
       "      <td>25.389838</td>\n",
       "      <td>27.492423</td>\n",
       "      <td>49.711117</td>\n",
       "      <td>5</td>\n",
       "      <td>(9, 120)</td>\n",
       "      <td>mean</td>\n",
       "    </tr>\n",
       "  </tbody>\n",
       "</table>\n",
       "</div>"
      ],
      "text/plain": [
       "   log       tree     forest        lin        cat      dummy  param_tree  \\\n",
       "0    1  38.015870  33.772180  39.470911  35.089720  49.703856           7   \n",
       "1    2  29.319171  26.846228  27.359996  27.726334  49.541828           5   \n",
       "2    3  28.773194  26.563283  25.389838  27.492423  49.711117           5   \n",
       "\n",
       "  param_forest param_dummy  \n",
       "0     (9, 110)        mean  \n",
       "1      (9, 90)        mean  \n",
       "2     (9, 120)        mean  "
      ]
     },
     "execution_count": 22,
     "metadata": {},
     "output_type": "execute_result"
    }
   ],
   "source": [
    "all_res"
   ]
  },
  {
   "cell_type": "markdown",
   "metadata": {},
   "source": [
    "Лучшие результаты получены для линейной регрессии, при множителе коэффицента смещения значений 3."
   ]
  },
  {
   "cell_type": "markdown",
   "metadata": {},
   "source": [
    "### Выводы"
   ]
  },
  {
   "cell_type": "markdown",
   "metadata": {},
   "source": [
    "Мы рассмотрели разные модели. Все они оказались адекватными. Наилучший результат показала модель линейной регрессии.\n",
    "Так же стоит обратить внимание, что при увеличение числа и периодов смешений (7, (7,14), (7,14,21)) улушается качество модели на тестовой выборке. Это модет быть рабочим способом ещё улучшить качество предсказаний."
   ]
  },
  {
   "cell_type": "markdown",
   "metadata": {},
   "source": [
    "\n",
    "## Тестирование"
   ]
  },
  {
   "cell_type": "markdown",
   "metadata": {},
   "source": [
    "Проверим выбранную модель на тестовой выборке."
   ]
  },
  {
   "cell_type": "code",
   "execution_count": 23,
   "metadata": {},
   "outputs": [
    {
     "name": "stdout",
     "output_type": "stream",
     "text": [
      "34.73068583858713\n"
     ]
    }
   ],
   "source": [
    "model = LinearRegression()\n",
    "df2 = df.copy(deep=True)\n",
    "train, test = make_features(df2, 24, 3, 24)\n",
    "model.fit(train.drop('num_orders', axis=1), train['num_orders'])\n",
    "predict = model.predict(test.drop('num_orders', axis=1))\n",
    "print(mean_squared_error(predict, test['num_orders']) ** 0.5)"
   ]
  },
  {
   "cell_type": "markdown",
   "metadata": {},
   "source": [
    "Модель показала результаты несколько хуже, чем при обучении, но при этом все ещё адекватна и удовлетворяет условиям задачи."
   ]
  },
  {
   "cell_type": "markdown",
   "metadata": {},
   "source": [
    "Отдельно ознакомимся с результатами предсказаний. Создадим датасет и графически исзобразим ошибки."
   ]
  },
  {
   "cell_type": "code",
   "execution_count": 24,
   "metadata": {},
   "outputs": [
    {
     "data": {
      "text/html": [
       "<div>\n",
       "<style scoped>\n",
       "    .dataframe tbody tr th:only-of-type {\n",
       "        vertical-align: middle;\n",
       "    }\n",
       "\n",
       "    .dataframe tbody tr th {\n",
       "        vertical-align: top;\n",
       "    }\n",
       "\n",
       "    .dataframe thead th {\n",
       "        text-align: right;\n",
       "    }\n",
       "</style>\n",
       "<table border=\"1\" class=\"dataframe\">\n",
       "  <thead>\n",
       "    <tr style=\"text-align: right;\">\n",
       "      <th></th>\n",
       "      <th>num_orders</th>\n",
       "      <th>pred</th>\n",
       "    </tr>\n",
       "    <tr>\n",
       "      <th>datetime</th>\n",
       "      <th></th>\n",
       "      <th></th>\n",
       "    </tr>\n",
       "  </thead>\n",
       "  <tbody>\n",
       "    <tr>\n",
       "      <th>2018-08-15 00:00:00</th>\n",
       "      <td>211</td>\n",
       "      <td>203.612700</td>\n",
       "    </tr>\n",
       "    <tr>\n",
       "      <th>2018-08-15 01:00:00</th>\n",
       "      <td>98</td>\n",
       "      <td>137.294113</td>\n",
       "    </tr>\n",
       "    <tr>\n",
       "      <th>2018-08-15 02:00:00</th>\n",
       "      <td>157</td>\n",
       "      <td>149.989990</td>\n",
       "    </tr>\n",
       "    <tr>\n",
       "      <th>2018-08-15 03:00:00</th>\n",
       "      <td>102</td>\n",
       "      <td>111.257859</td>\n",
       "    </tr>\n",
       "    <tr>\n",
       "      <th>2018-08-15 04:00:00</th>\n",
       "      <td>137</td>\n",
       "      <td>120.174780</td>\n",
       "    </tr>\n",
       "    <tr>\n",
       "      <th>2018-08-15 05:00:00</th>\n",
       "      <td>85</td>\n",
       "      <td>88.846395</td>\n",
       "    </tr>\n",
       "    <tr>\n",
       "      <th>2018-08-15 06:00:00</th>\n",
       "      <td>36</td>\n",
       "      <td>86.788394</td>\n",
       "    </tr>\n",
       "    <tr>\n",
       "      <th>2018-08-15 07:00:00</th>\n",
       "      <td>28</td>\n",
       "      <td>54.307944</td>\n",
       "    </tr>\n",
       "    <tr>\n",
       "      <th>2018-08-15 08:00:00</th>\n",
       "      <td>92</td>\n",
       "      <td>103.180190</td>\n",
       "    </tr>\n",
       "    <tr>\n",
       "      <th>2018-08-15 09:00:00</th>\n",
       "      <td>131</td>\n",
       "      <td>131.512312</td>\n",
       "    </tr>\n",
       "  </tbody>\n",
       "</table>\n",
       "</div>"
      ],
      "text/plain": [
       "                     num_orders        pred\n",
       "datetime                                   \n",
       "2018-08-15 00:00:00         211  203.612700\n",
       "2018-08-15 01:00:00          98  137.294113\n",
       "2018-08-15 02:00:00         157  149.989990\n",
       "2018-08-15 03:00:00         102  111.257859\n",
       "2018-08-15 04:00:00         137  120.174780\n",
       "2018-08-15 05:00:00          85   88.846395\n",
       "2018-08-15 06:00:00          36   86.788394\n",
       "2018-08-15 07:00:00          28   54.307944\n",
       "2018-08-15 08:00:00          92  103.180190\n",
       "2018-08-15 09:00:00         131  131.512312"
      ]
     },
     "execution_count": 24,
     "metadata": {},
     "output_type": "execute_result"
    }
   ],
   "source": [
    "ddd = pd.DataFrame(test['num_orders'])\n",
    "ddd['pred'] = predict\n",
    "ddd.head(10)"
   ]
  },
  {
   "cell_type": "code",
   "execution_count": 25,
   "metadata": {},
   "outputs": [
    {
     "data": {
      "text/html": [
       "<div>\n",
       "<style scoped>\n",
       "    .dataframe tbody tr th:only-of-type {\n",
       "        vertical-align: middle;\n",
       "    }\n",
       "\n",
       "    .dataframe tbody tr th {\n",
       "        vertical-align: top;\n",
       "    }\n",
       "\n",
       "    .dataframe thead th {\n",
       "        text-align: right;\n",
       "    }\n",
       "</style>\n",
       "<table border=\"1\" class=\"dataframe\">\n",
       "  <thead>\n",
       "    <tr style=\"text-align: right;\">\n",
       "      <th></th>\n",
       "      <th>num_orders</th>\n",
       "      <th>pred</th>\n",
       "    </tr>\n",
       "    <tr>\n",
       "      <th>datetime</th>\n",
       "      <th></th>\n",
       "      <th></th>\n",
       "    </tr>\n",
       "  </thead>\n",
       "  <tbody>\n",
       "    <tr>\n",
       "      <th>2018-08-15 00:00:00</th>\n",
       "      <td>211</td>\n",
       "      <td>203.612700</td>\n",
       "    </tr>\n",
       "    <tr>\n",
       "      <th>2018-08-15 01:00:00</th>\n",
       "      <td>98</td>\n",
       "      <td>137.294113</td>\n",
       "    </tr>\n",
       "    <tr>\n",
       "      <th>2018-08-15 02:00:00</th>\n",
       "      <td>157</td>\n",
       "      <td>149.989990</td>\n",
       "    </tr>\n",
       "    <tr>\n",
       "      <th>2018-08-15 03:00:00</th>\n",
       "      <td>102</td>\n",
       "      <td>111.257859</td>\n",
       "    </tr>\n",
       "    <tr>\n",
       "      <th>2018-08-15 04:00:00</th>\n",
       "      <td>137</td>\n",
       "      <td>120.174780</td>\n",
       "    </tr>\n",
       "    <tr>\n",
       "      <th>2018-08-15 05:00:00</th>\n",
       "      <td>85</td>\n",
       "      <td>88.846395</td>\n",
       "    </tr>\n",
       "    <tr>\n",
       "      <th>2018-08-15 06:00:00</th>\n",
       "      <td>36</td>\n",
       "      <td>86.788394</td>\n",
       "    </tr>\n",
       "    <tr>\n",
       "      <th>2018-08-15 07:00:00</th>\n",
       "      <td>28</td>\n",
       "      <td>54.307944</td>\n",
       "    </tr>\n",
       "    <tr>\n",
       "      <th>2018-08-15 08:00:00</th>\n",
       "      <td>92</td>\n",
       "      <td>103.180190</td>\n",
       "    </tr>\n",
       "    <tr>\n",
       "      <th>2018-08-15 09:00:00</th>\n",
       "      <td>131</td>\n",
       "      <td>131.512312</td>\n",
       "    </tr>\n",
       "  </tbody>\n",
       "</table>\n",
       "</div>"
      ],
      "text/plain": [
       "                     num_orders        pred\n",
       "datetime                                   \n",
       "2018-08-15 00:00:00         211  203.612700\n",
       "2018-08-15 01:00:00          98  137.294113\n",
       "2018-08-15 02:00:00         157  149.989990\n",
       "2018-08-15 03:00:00         102  111.257859\n",
       "2018-08-15 04:00:00         137  120.174780\n",
       "2018-08-15 05:00:00          85   88.846395\n",
       "2018-08-15 06:00:00          36   86.788394\n",
       "2018-08-15 07:00:00          28   54.307944\n",
       "2018-08-15 08:00:00          92  103.180190\n",
       "2018-08-15 09:00:00         131  131.512312"
      ]
     },
     "execution_count": 25,
     "metadata": {},
     "output_type": "execute_result"
    }
   ],
   "source": [
    "ddd = ddd['2018-08-15 00:00:00': '2018-08-17 00:00:00']\n",
    "ddd.head(10)"
   ]
  },
  {
   "cell_type": "code",
   "execution_count": 26,
   "metadata": {},
   "outputs": [
    {
     "data": {
      "image/png": "[encoded data removed]",
      "text/plain": [
       "<Figure size 1224x576 with 1 Axes>"
      ]
     },
     "metadata": {
      "needs_background": "light"
     },
     "output_type": "display_data"
    },
    {
     "data": {
      "image/png": "[encoded data removed]",
      "text/plain": [
       "<Figure size 576x1224 with 1 Axes>"
      ]
     },
     "metadata": {
      "needs_background": "light"
     },
     "output_type": "display_data"
    }
   ],
   "source": [
    "fig, ax1 = plt.subplots(figsize=(17, 8))\n",
    "plt.grid()\n",
    "plt.title('Результаты модели за 2 дня')\n",
    "sns.lineplot(data=ddd, ax=ax1)\n",
    "plt.show()\n",
    "fig, ax2 = plt.subplots(figsize=(8, 17))\n",
    "plt.grid()\n",
    "plt.title('Prediction error')\n",
    "sns.barplot(data=ddd, y=ddd.index, x=ddd['pred'] - ddd['num_orders'], ax=ax2)\n",
    "plt.show()"
   ]
  },
  {
   "cell_type": "markdown",
   "metadata": {},
   "source": [
    "Из графика видно, что модель хорошо предсказывает момент появления скачков, но плохо предсказывает их величину. Это может стать направлением для улучшения модели."
   ]
  },
  {
   "cell_type": "markdown",
   "metadata": {},
   "source": [
    "## Общие выводы"
   ]
  },
  {
   "cell_type": "markdown",
   "metadata": {},
   "source": [
    "В ходе работы мы загрузили, подготовили и проанализировали исходные данные.\n",
    "\n",
    "Убедились, что временной ряд не стационарен, имеет выраженный восходящий тренд и сезонность с периодом в 7 дней.\n",
    "\n",
    "Далее, были обучены разные модели и выбрана наилучшая. Так же были определены параметры для создания доп. признаков.\n",
    "\n",
    "Выбраная модель была проверяна на тестовой выборке и показала удовлетворительный результатэ"
   ]
  }
 ],
 "metadata": {
  "ExecuteTimeLog": [
   {
    "duration": 1439,
    "start_time": "2022-05-18T19:53:59.393Z"
   },
   {
    "duration": 8,
    "start_time": "2022-05-18T19:54:06.303Z"
   },
   {
    "duration": 7,
    "start_time": "2022-05-18T19:54:08.555Z"
   },
   {
    "duration": 21,
    "start_time": "2022-05-18T19:54:10.449Z"
   },
   {
    "duration": 3,
    "start_time": "2022-05-18T19:54:29.043Z"
   },
   {
    "duration": 83,
    "start_time": "2022-05-18T19:54:48.722Z"
   },
   {
    "duration": 3,
    "start_time": "2022-05-18T19:55:49.917Z"
   },
   {
    "duration": 218,
    "start_time": "2022-05-18T19:55:57.591Z"
   },
   {
    "duration": 1072,
    "start_time": "2022-05-18T19:58:16.794Z"
   },
   {
    "duration": 33,
    "start_time": "2022-05-18T19:58:17.868Z"
   },
   {
    "duration": 3,
    "start_time": "2022-05-18T19:58:17.902Z"
   },
   {
    "duration": 73,
    "start_time": "2022-05-18T19:58:17.906Z"
   },
   {
    "duration": 3,
    "start_time": "2022-05-18T19:58:17.981Z"
   },
   {
    "duration": 9,
    "start_time": "2022-05-18T19:58:42.576Z"
   },
   {
    "duration": 9,
    "start_time": "2022-05-18T19:58:46.364Z"
   },
   {
    "duration": 2,
    "start_time": "2022-05-18T19:58:56.555Z"
   },
   {
    "duration": 3,
    "start_time": "2022-05-18T19:58:59.326Z"
   },
   {
    "duration": 3,
    "start_time": "2022-05-18T19:59:08.143Z"
   },
   {
    "duration": 107,
    "start_time": "2022-05-18T19:59:14.546Z"
   },
   {
    "duration": 9,
    "start_time": "2022-05-18T19:59:37.844Z"
   },
   {
    "duration": 38,
    "start_time": "2022-05-18T19:59:42.788Z"
   },
   {
    "duration": 3,
    "start_time": "2022-05-18T19:59:43.299Z"
   },
   {
    "duration": 11,
    "start_time": "2022-05-18T19:59:43.682Z"
   },
   {
    "duration": 3,
    "start_time": "2022-05-18T19:59:45.600Z"
   },
   {
    "duration": 8,
    "start_time": "2022-05-18T19:59:47.646Z"
   },
   {
    "duration": 4,
    "start_time": "2022-05-18T19:59:58.571Z"
   },
   {
    "duration": 7,
    "start_time": "2022-05-18T20:00:02.038Z"
   },
   {
    "duration": 6,
    "start_time": "2022-05-18T20:00:30.047Z"
   },
   {
    "duration": 9,
    "start_time": "2022-05-18T20:00:30.584Z"
   },
   {
    "duration": 1105,
    "start_time": "2022-05-18T20:00:52.786Z"
   },
   {
    "duration": 34,
    "start_time": "2022-05-18T20:00:53.892Z"
   },
   {
    "duration": 3,
    "start_time": "2022-05-18T20:00:53.928Z"
   },
   {
    "duration": 80,
    "start_time": "2022-05-18T20:00:53.932Z"
   },
   {
    "duration": 3,
    "start_time": "2022-05-18T20:00:54.014Z"
   },
   {
    "duration": 12,
    "start_time": "2022-05-18T20:00:54.018Z"
   },
   {
    "duration": 25,
    "start_time": "2022-05-18T20:00:54.032Z"
   },
   {
    "duration": 8,
    "start_time": "2022-05-18T20:00:54.059Z"
   },
   {
    "duration": 3,
    "start_time": "2022-05-18T20:01:55.930Z"
   },
   {
    "duration": 221,
    "start_time": "2022-05-18T20:02:17.859Z"
   },
   {
    "duration": 40,
    "start_time": "2022-05-18T20:04:04.504Z"
   },
   {
    "duration": 109,
    "start_time": "2022-05-18T20:04:08.195Z"
   },
   {
    "duration": 533,
    "start_time": "2022-05-18T20:04:14.336Z"
   },
   {
    "duration": 11,
    "start_time": "2022-05-18T20:05:52.221Z"
   },
   {
    "duration": 474,
    "start_time": "2022-05-18T20:06:45.289Z"
   },
   {
    "duration": 2,
    "start_time": "2022-05-18T20:07:24.943Z"
   },
   {
    "duration": 59,
    "start_time": "2022-05-18T20:07:24.948Z"
   },
   {
    "duration": 4,
    "start_time": "2022-05-18T20:07:25.008Z"
   },
   {
    "duration": 18,
    "start_time": "2022-05-18T20:07:25.013Z"
   },
   {
    "duration": 3,
    "start_time": "2022-05-18T20:07:25.033Z"
   },
   {
    "duration": 12,
    "start_time": "2022-05-18T20:07:25.038Z"
   },
   {
    "duration": 8,
    "start_time": "2022-05-18T20:07:25.051Z"
   },
   {
    "duration": 9,
    "start_time": "2022-05-18T20:07:25.061Z"
   },
   {
    "duration": 163,
    "start_time": "2022-05-18T20:07:25.071Z"
   },
   {
    "duration": 493,
    "start_time": "2022-05-18T20:07:30.236Z"
   },
   {
    "duration": 12,
    "start_time": "2022-05-18T20:07:33.016Z"
   },
   {
    "duration": 11,
    "start_time": "2022-05-18T20:07:41.484Z"
   },
   {
    "duration": 474,
    "start_time": "2022-05-18T20:07:46.024Z"
   },
   {
    "duration": 869,
    "start_time": "2022-05-18T20:08:52.949Z"
   },
   {
    "duration": 838,
    "start_time": "2022-05-18T20:09:35.468Z"
   },
   {
    "duration": 130,
    "start_time": "2022-05-18T20:09:50.092Z"
   },
   {
    "duration": 128,
    "start_time": "2022-05-18T20:10:05.311Z"
   },
   {
    "duration": 70,
    "start_time": "2022-05-18T20:10:16.777Z"
   },
   {
    "duration": 163,
    "start_time": "2022-05-18T20:10:22.545Z"
   },
   {
    "duration": 123,
    "start_time": "2022-05-18T20:10:28.896Z"
   },
   {
    "duration": 125,
    "start_time": "2022-05-18T20:11:36.519Z"
   },
   {
    "duration": 157,
    "start_time": "2022-05-18T20:11:55.166Z"
   },
   {
    "duration": 399,
    "start_time": "2022-05-18T20:12:20.073Z"
   },
   {
    "duration": 868,
    "start_time": "2022-05-18T20:12:40.444Z"
   },
   {
    "duration": 13,
    "start_time": "2022-05-18T20:13:18.849Z"
   },
   {
    "duration": 23,
    "start_time": "2022-05-18T20:13:23.143Z"
   },
   {
    "duration": 10,
    "start_time": "2022-05-18T20:13:41.144Z"
   },
   {
    "duration": 17,
    "start_time": "2022-05-18T20:13:44.775Z"
   },
   {
    "duration": 5,
    "start_time": "2022-05-18T20:13:48.818Z"
   },
   {
    "duration": 338,
    "start_time": "2022-05-18T20:14:09.329Z"
   },
   {
    "duration": 352,
    "start_time": "2022-05-18T20:14:23.473Z"
   },
   {
    "duration": 359,
    "start_time": "2022-05-18T20:14:30.520Z"
   },
   {
    "duration": 375,
    "start_time": "2022-05-18T20:14:39.066Z"
   },
   {
    "duration": 19,
    "start_time": "2022-05-18T20:15:32.848Z"
   },
   {
    "duration": 18,
    "start_time": "2022-05-18T20:16:32.247Z"
   },
   {
    "duration": 313,
    "start_time": "2022-05-18T20:16:33.545Z"
   },
   {
    "duration": 5,
    "start_time": "2022-05-18T20:17:16.900Z"
   },
   {
    "duration": 16,
    "start_time": "2022-05-18T20:17:30.790Z"
   },
   {
    "duration": 18,
    "start_time": "2022-05-18T20:17:52.050Z"
   },
   {
    "duration": 238,
    "start_time": "2022-05-18T20:17:57.645Z"
   },
   {
    "duration": 16,
    "start_time": "2022-05-18T20:19:48.009Z"
   },
   {
    "duration": 235,
    "start_time": "2022-05-18T20:19:55.864Z"
   },
   {
    "duration": 205,
    "start_time": "2022-05-18T20:20:14.013Z"
   },
   {
    "duration": 1133,
    "start_time": "2022-05-18T20:20:28.517Z"
   },
   {
    "duration": 49,
    "start_time": "2022-05-18T20:20:29.652Z"
   },
   {
    "duration": 3,
    "start_time": "2022-05-18T20:20:29.703Z"
   },
   {
    "duration": 92,
    "start_time": "2022-05-18T20:20:29.707Z"
   },
   {
    "duration": 3,
    "start_time": "2022-05-18T20:20:29.801Z"
   },
   {
    "duration": 26,
    "start_time": "2022-05-18T20:20:29.805Z"
   },
   {
    "duration": 26,
    "start_time": "2022-05-18T20:20:29.832Z"
   },
   {
    "duration": 24,
    "start_time": "2022-05-18T20:20:29.859Z"
   },
   {
    "duration": 599,
    "start_time": "2022-05-18T20:20:29.884Z"
   },
   {
    "duration": 13,
    "start_time": "2022-05-18T20:20:30.485Z"
   },
   {
    "duration": 43,
    "start_time": "2022-05-18T20:20:30.500Z"
   },
   {
    "duration": 230,
    "start_time": "2022-05-18T20:20:30.544Z"
   },
   {
    "duration": 1065,
    "start_time": "2022-05-18T20:20:54.702Z"
   },
   {
    "duration": 34,
    "start_time": "2022-05-18T20:20:55.768Z"
   },
   {
    "duration": 3,
    "start_time": "2022-05-18T20:20:55.804Z"
   },
   {
    "duration": 77,
    "start_time": "2022-05-18T20:20:55.808Z"
   },
   {
    "duration": 3,
    "start_time": "2022-05-18T20:20:55.886Z"
   },
   {
    "duration": 15,
    "start_time": "2022-05-18T20:20:55.890Z"
   },
   {
    "duration": 9,
    "start_time": "2022-05-18T20:20:55.907Z"
   },
   {
    "duration": 9,
    "start_time": "2022-05-18T20:20:55.917Z"
   },
   {
    "duration": 586,
    "start_time": "2022-05-18T20:20:55.957Z"
   },
   {
    "duration": 20,
    "start_time": "2022-05-18T20:20:56.554Z"
   },
   {
    "duration": 239,
    "start_time": "2022-05-18T20:20:56.576Z"
   },
   {
    "duration": 5,
    "start_time": "2022-05-18T20:21:46.382Z"
   },
   {
    "duration": 244,
    "start_time": "2022-05-18T20:21:54.121Z"
   },
   {
    "duration": 5,
    "start_time": "2022-05-18T20:22:01.020Z"
   },
   {
    "duration": 245,
    "start_time": "2022-05-18T20:22:01.768Z"
   },
   {
    "duration": 111,
    "start_time": "2022-05-18T20:33:08.674Z"
   },
   {
    "duration": 26,
    "start_time": "2022-05-18T20:33:39.708Z"
   },
   {
    "duration": 19,
    "start_time": "2022-05-18T20:34:54.005Z"
   },
   {
    "duration": 12,
    "start_time": "2022-05-18T20:34:57.367Z"
   },
   {
    "duration": 8,
    "start_time": "2022-05-18T20:35:05.680Z"
   },
   {
    "duration": 171,
    "start_time": "2022-05-18T20:35:12.198Z"
   },
   {
    "duration": 6,
    "start_time": "2022-05-18T20:35:32.394Z"
   },
   {
    "duration": 297,
    "start_time": "2022-05-18T20:35:35.669Z"
   },
   {
    "duration": 170,
    "start_time": "2022-05-18T20:35:51.278Z"
   },
   {
    "duration": 210,
    "start_time": "2022-05-18T20:36:20.397Z"
   },
   {
    "duration": 209,
    "start_time": "2022-05-18T20:36:22.683Z"
   },
   {
    "duration": 194,
    "start_time": "2022-05-18T20:36:24.488Z"
   },
   {
    "duration": 4,
    "start_time": "2022-05-18T20:41:24.871Z"
   },
   {
    "duration": 11,
    "start_time": "2022-05-18T20:42:05.570Z"
   },
   {
    "duration": 3,
    "start_time": "2022-05-18T20:42:10.049Z"
   },
   {
    "duration": 3,
    "start_time": "2022-05-18T20:42:15.419Z"
   },
   {
    "duration": 3,
    "start_time": "2022-05-18T20:42:26.542Z"
   },
   {
    "duration": 17,
    "start_time": "2022-05-18T20:42:27.222Z"
   },
   {
    "duration": 3,
    "start_time": "2022-05-18T20:42:33.704Z"
   },
   {
    "duration": 37,
    "start_time": "2022-05-18T20:42:33.709Z"
   },
   {
    "duration": 3,
    "start_time": "2022-05-18T20:42:33.748Z"
   },
   {
    "duration": 15,
    "start_time": "2022-05-18T20:42:33.752Z"
   },
   {
    "duration": 3,
    "start_time": "2022-05-18T20:42:33.769Z"
   },
   {
    "duration": 12,
    "start_time": "2022-05-18T20:42:33.774Z"
   },
   {
    "duration": 10,
    "start_time": "2022-05-18T20:42:33.787Z"
   },
   {
    "duration": 9,
    "start_time": "2022-05-18T20:42:33.799Z"
   },
   {
    "duration": 510,
    "start_time": "2022-05-18T20:42:33.810Z"
   },
   {
    "duration": 13,
    "start_time": "2022-05-18T20:42:34.321Z"
   },
   {
    "duration": 5,
    "start_time": "2022-05-18T20:42:34.352Z"
   },
   {
    "duration": 239,
    "start_time": "2022-05-18T20:42:34.359Z"
   },
   {
    "duration": 201,
    "start_time": "2022-05-18T20:42:34.600Z"
   },
   {
    "duration": 203,
    "start_time": "2022-05-18T20:42:34.804Z"
   },
   {
    "duration": 361,
    "start_time": "2022-05-18T20:42:35.009Z"
   },
   {
    "duration": 4,
    "start_time": "2022-05-18T20:42:35.372Z"
   },
   {
    "duration": 18,
    "start_time": "2022-05-18T20:42:35.377Z"
   },
   {
    "duration": 1238,
    "start_time": "2022-05-18T20:42:47.025Z"
   },
   {
    "duration": 33,
    "start_time": "2022-05-18T20:42:48.265Z"
   },
   {
    "duration": 2,
    "start_time": "2022-05-18T20:42:48.300Z"
   },
   {
    "duration": 17,
    "start_time": "2022-05-18T20:42:48.304Z"
   },
   {
    "duration": 3,
    "start_time": "2022-05-18T20:42:48.323Z"
   },
   {
    "duration": 13,
    "start_time": "2022-05-18T20:42:48.328Z"
   },
   {
    "duration": 8,
    "start_time": "2022-05-18T20:42:48.351Z"
   },
   {
    "duration": 8,
    "start_time": "2022-05-18T20:42:48.360Z"
   },
   {
    "duration": 575,
    "start_time": "2022-05-18T20:42:48.370Z"
   },
   {
    "duration": 14,
    "start_time": "2022-05-18T20:42:48.947Z"
   },
   {
    "duration": 5,
    "start_time": "2022-05-18T20:42:48.962Z"
   },
   {
    "duration": 280,
    "start_time": "2022-05-18T20:42:48.968Z"
   },
   {
    "duration": 198,
    "start_time": "2022-05-18T20:42:49.249Z"
   },
   {
    "duration": 206,
    "start_time": "2022-05-18T20:42:49.449Z"
   },
   {
    "duration": 212,
    "start_time": "2022-05-18T20:42:49.657Z"
   },
   {
    "duration": 3,
    "start_time": "2022-05-18T20:42:49.871Z"
   },
   {
    "duration": 14,
    "start_time": "2022-05-18T20:42:49.876Z"
   },
   {
    "duration": 3,
    "start_time": "2022-05-18T20:42:49.891Z"
   },
   {
    "duration": 1251,
    "start_time": "2022-05-18T20:43:24.896Z"
   },
   {
    "duration": 35,
    "start_time": "2022-05-18T20:43:26.149Z"
   },
   {
    "duration": 3,
    "start_time": "2022-05-18T20:43:26.186Z"
   },
   {
    "duration": 19,
    "start_time": "2022-05-18T20:43:26.190Z"
   },
   {
    "duration": 3,
    "start_time": "2022-05-18T20:43:26.211Z"
   },
   {
    "duration": 15,
    "start_time": "2022-05-18T20:43:26.215Z"
   },
   {
    "duration": 26,
    "start_time": "2022-05-18T20:43:26.231Z"
   },
   {
    "duration": 9,
    "start_time": "2022-05-18T20:43:26.259Z"
   },
   {
    "duration": 583,
    "start_time": "2022-05-18T20:43:26.269Z"
   },
   {
    "duration": 12,
    "start_time": "2022-05-18T20:43:26.853Z"
   },
   {
    "duration": 9,
    "start_time": "2022-05-18T20:43:26.867Z"
   },
   {
    "duration": 274,
    "start_time": "2022-05-18T20:43:26.878Z"
   },
   {
    "duration": 213,
    "start_time": "2022-05-18T20:43:27.154Z"
   },
   {
    "duration": 205,
    "start_time": "2022-05-18T20:43:27.369Z"
   },
   {
    "duration": 205,
    "start_time": "2022-05-18T20:43:27.576Z"
   },
   {
    "duration": 4,
    "start_time": "2022-05-18T20:43:27.782Z"
   },
   {
    "duration": 15,
    "start_time": "2022-05-18T20:43:27.787Z"
   },
   {
    "duration": 3,
    "start_time": "2022-05-18T20:43:27.804Z"
   },
   {
    "duration": 1305,
    "start_time": "2022-05-18T20:43:39.847Z"
   },
   {
    "duration": 36,
    "start_time": "2022-05-18T20:43:41.153Z"
   },
   {
    "duration": 3,
    "start_time": "2022-05-18T20:43:41.191Z"
   },
   {
    "duration": 23,
    "start_time": "2022-05-18T20:43:41.197Z"
   },
   {
    "duration": 4,
    "start_time": "2022-05-18T20:43:41.221Z"
   },
   {
    "duration": 16,
    "start_time": "2022-05-18T20:43:41.226Z"
   },
   {
    "duration": 8,
    "start_time": "2022-05-18T20:43:41.253Z"
   },
   {
    "duration": 9,
    "start_time": "2022-05-18T20:43:41.263Z"
   },
   {
    "duration": 606,
    "start_time": "2022-05-18T20:43:41.274Z"
   },
   {
    "duration": 12,
    "start_time": "2022-05-18T20:43:41.883Z"
   },
   {
    "duration": 8,
    "start_time": "2022-05-18T20:43:41.896Z"
   },
   {
    "duration": 312,
    "start_time": "2022-05-18T20:43:41.905Z"
   },
   {
    "duration": 196,
    "start_time": "2022-05-18T20:43:42.219Z"
   },
   {
    "duration": 262,
    "start_time": "2022-05-18T20:43:42.417Z"
   },
   {
    "duration": 221,
    "start_time": "2022-05-18T20:43:42.681Z"
   },
   {
    "duration": 4,
    "start_time": "2022-05-18T20:43:42.904Z"
   },
   {
    "duration": 20,
    "start_time": "2022-05-18T20:43:42.910Z"
   },
   {
    "duration": 27,
    "start_time": "2022-05-18T20:43:42.932Z"
   },
   {
    "duration": 33,
    "start_time": "2022-05-18T20:43:48.615Z"
   },
   {
    "duration": 1229,
    "start_time": "2022-05-18T20:44:17.451Z"
   },
   {
    "duration": 35,
    "start_time": "2022-05-18T20:44:18.682Z"
   },
   {
    "duration": 3,
    "start_time": "2022-05-18T20:44:18.719Z"
   },
   {
    "duration": 20,
    "start_time": "2022-05-18T20:44:18.724Z"
   },
   {
    "duration": 7,
    "start_time": "2022-05-18T20:44:18.746Z"
   },
   {
    "duration": 14,
    "start_time": "2022-05-18T20:44:18.754Z"
   },
   {
    "duration": 9,
    "start_time": "2022-05-18T20:44:18.769Z"
   },
   {
    "duration": 8,
    "start_time": "2022-05-18T20:44:18.780Z"
   },
   {
    "duration": 632,
    "start_time": "2022-05-18T20:44:18.789Z"
   },
   {
    "duration": 12,
    "start_time": "2022-05-18T20:44:19.423Z"
   },
   {
    "duration": 17,
    "start_time": "2022-05-18T20:44:19.436Z"
   },
   {
    "duration": 301,
    "start_time": "2022-05-18T20:44:19.455Z"
   },
   {
    "duration": 236,
    "start_time": "2022-05-18T20:44:19.758Z"
   },
   {
    "duration": 249,
    "start_time": "2022-05-18T20:44:19.996Z"
   },
   {
    "duration": 230,
    "start_time": "2022-05-18T20:44:20.251Z"
   },
   {
    "duration": 4,
    "start_time": "2022-05-18T20:44:20.482Z"
   },
   {
    "duration": 18,
    "start_time": "2022-05-18T20:44:20.487Z"
   },
   {
    "duration": 23,
    "start_time": "2022-05-18T20:44:20.506Z"
   },
   {
    "duration": 1249,
    "start_time": "2022-05-18T20:44:45.347Z"
   },
   {
    "duration": 33,
    "start_time": "2022-05-18T20:44:46.598Z"
   },
   {
    "duration": 3,
    "start_time": "2022-05-18T20:44:46.633Z"
   },
   {
    "duration": 23,
    "start_time": "2022-05-18T20:44:46.637Z"
   },
   {
    "duration": 3,
    "start_time": "2022-05-18T20:44:46.662Z"
   },
   {
    "duration": 13,
    "start_time": "2022-05-18T20:44:46.666Z"
   },
   {
    "duration": 11,
    "start_time": "2022-05-18T20:44:46.681Z"
   },
   {
    "duration": 9,
    "start_time": "2022-05-18T20:44:46.693Z"
   },
   {
    "duration": 604,
    "start_time": "2022-05-18T20:44:46.704Z"
   },
   {
    "duration": 12,
    "start_time": "2022-05-18T20:44:47.309Z"
   },
   {
    "duration": 9,
    "start_time": "2022-05-18T20:44:47.323Z"
   },
   {
    "duration": 286,
    "start_time": "2022-05-18T20:44:47.334Z"
   },
   {
    "duration": 200,
    "start_time": "2022-05-18T20:44:47.621Z"
   },
   {
    "duration": 214,
    "start_time": "2022-05-18T20:44:47.823Z"
   },
   {
    "duration": 220,
    "start_time": "2022-05-18T20:44:48.038Z"
   },
   {
    "duration": 4,
    "start_time": "2022-05-18T20:44:48.259Z"
   },
   {
    "duration": 16,
    "start_time": "2022-05-18T20:44:48.265Z"
   },
   {
    "duration": 26,
    "start_time": "2022-05-18T20:44:48.283Z"
   },
   {
    "duration": 30,
    "start_time": "2022-05-18T20:45:03.223Z"
   },
   {
    "duration": 13,
    "start_time": "2022-05-18T20:49:54.748Z"
   },
   {
    "duration": 11,
    "start_time": "2022-05-18T20:50:08.831Z"
   },
   {
    "duration": 29,
    "start_time": "2022-05-18T20:50:31.848Z"
   },
   {
    "duration": 114,
    "start_time": "2022-05-18T20:50:36.247Z"
   },
   {
    "duration": 4,
    "start_time": "2022-05-18T20:50:38.458Z"
   },
   {
    "duration": 8,
    "start_time": "2022-05-18T20:50:44.477Z"
   },
   {
    "duration": 6,
    "start_time": "2022-05-18T20:50:51.910Z"
   },
   {
    "duration": 5,
    "start_time": "2022-05-18T20:50:55.588Z"
   },
   {
    "duration": 13,
    "start_time": "2022-05-18T20:51:27.243Z"
   },
   {
    "duration": 10,
    "start_time": "2022-05-18T20:51:34.151Z"
   },
   {
    "duration": 8,
    "start_time": "2022-05-18T20:51:51.161Z"
   },
   {
    "duration": 86,
    "start_time": "2022-05-18T20:53:28.541Z"
   },
   {
    "duration": 13,
    "start_time": "2022-05-18T20:55:15.577Z"
   },
   {
    "duration": 1289,
    "start_time": "2022-05-18T20:56:05.175Z"
   },
   {
    "duration": 36,
    "start_time": "2022-05-18T20:56:06.466Z"
   },
   {
    "duration": 4,
    "start_time": "2022-05-18T20:56:06.503Z"
   },
   {
    "duration": 19,
    "start_time": "2022-05-18T20:56:06.509Z"
   },
   {
    "duration": 3,
    "start_time": "2022-05-18T20:56:06.530Z"
   },
   {
    "duration": 19,
    "start_time": "2022-05-18T20:56:06.534Z"
   },
   {
    "duration": 9,
    "start_time": "2022-05-18T20:56:06.555Z"
   },
   {
    "duration": 9,
    "start_time": "2022-05-18T20:56:06.565Z"
   },
   {
    "duration": 578,
    "start_time": "2022-05-18T20:56:06.575Z"
   },
   {
    "duration": 12,
    "start_time": "2022-05-18T20:56:07.155Z"
   },
   {
    "duration": 7,
    "start_time": "2022-05-18T20:56:07.168Z"
   },
   {
    "duration": 315,
    "start_time": "2022-05-18T20:56:07.177Z"
   },
   {
    "duration": 210,
    "start_time": "2022-05-18T20:56:07.494Z"
   },
   {
    "duration": 225,
    "start_time": "2022-05-18T20:56:07.706Z"
   },
   {
    "duration": 310,
    "start_time": "2022-05-18T20:56:07.933Z"
   },
   {
    "duration": 8,
    "start_time": "2022-05-18T20:56:08.245Z"
   },
   {
    "duration": 13,
    "start_time": "2022-05-18T20:56:08.255Z"
   },
   {
    "duration": 28,
    "start_time": "2022-05-18T20:56:08.269Z"
   },
   {
    "duration": 22,
    "start_time": "2022-05-18T20:56:08.299Z"
   },
   {
    "duration": 8,
    "start_time": "2022-05-18T20:56:08.323Z"
   },
   {
    "duration": 29,
    "start_time": "2022-05-18T20:56:08.332Z"
   },
   {
    "duration": 4,
    "start_time": "2022-05-18T21:00:32.223Z"
   },
   {
    "duration": 3,
    "start_time": "2022-05-18T21:06:55.058Z"
   },
   {
    "duration": 126,
    "start_time": "2022-05-18T21:06:56.090Z"
   },
   {
    "duration": 11,
    "start_time": "2022-05-18T21:07:12.848Z"
   },
   {
    "duration": 12,
    "start_time": "2022-05-18T21:07:21.122Z"
   },
   {
    "duration": 93088,
    "start_time": "2022-05-18T21:07:48.131Z"
   },
   {
    "duration": 93614,
    "start_time": "2022-05-18T21:11:21.708Z"
   },
   {
    "duration": 91865,
    "start_time": "2022-05-18T21:13:41.274Z"
   },
   {
    "duration": 25,
    "start_time": "2022-05-18T21:17:19.366Z"
   },
   {
    "duration": 35496,
    "start_time": "2022-05-18T21:17:33.488Z"
   },
   {
    "duration": 41,
    "start_time": "2022-05-18T21:31:15.957Z"
   },
   {
    "duration": 5,
    "start_time": "2022-05-18T21:31:28.193Z"
   },
   {
    "duration": 5,
    "start_time": "2022-05-18T21:31:42.274Z"
   },
   {
    "duration": 5,
    "start_time": "2022-05-18T21:32:04.770Z"
   },
   {
    "duration": 4,
    "start_time": "2022-05-18T21:32:13.207Z"
   },
   {
    "duration": 8,
    "start_time": "2022-05-18T21:32:14.456Z"
   },
   {
    "duration": 5,
    "start_time": "2022-05-18T21:33:10.698Z"
   },
   {
    "duration": 7,
    "start_time": "2022-05-18T21:33:11.503Z"
   },
   {
    "duration": 4,
    "start_time": "2022-05-18T21:33:40.977Z"
   },
   {
    "duration": 6,
    "start_time": "2022-05-18T21:33:41.828Z"
   },
   {
    "duration": 6,
    "start_time": "2022-05-18T21:33:50.388Z"
   },
   {
    "duration": 7,
    "start_time": "2022-05-18T21:33:51.921Z"
   },
   {
    "duration": 4,
    "start_time": "2022-05-18T21:34:24.024Z"
   },
   {
    "duration": 7,
    "start_time": "2022-05-18T21:34:24.717Z"
   },
   {
    "duration": 4,
    "start_time": "2022-05-18T21:34:58.438Z"
   },
   {
    "duration": 5,
    "start_time": "2022-05-18T21:34:59.243Z"
   },
   {
    "duration": 4,
    "start_time": "2022-05-18T21:35:29.436Z"
   },
   {
    "duration": 5,
    "start_time": "2022-05-18T21:35:29.905Z"
   },
   {
    "duration": 11,
    "start_time": "2022-05-18T21:40:40.285Z"
   },
   {
    "duration": 5,
    "start_time": "2022-05-18T21:40:42.306Z"
   },
   {
    "duration": 19,
    "start_time": "2022-05-18T21:40:42.862Z"
   },
   {
    "duration": 4,
    "start_time": "2022-05-18T21:41:03.798Z"
   },
   {
    "duration": 263,
    "start_time": "2022-05-18T21:41:04.190Z"
   },
   {
    "duration": 47,
    "start_time": "2022-05-18T21:50:53.512Z"
   },
   {
    "duration": 37,
    "start_time": "2022-05-18T21:51:17.747Z"
   },
   {
    "duration": 9,
    "start_time": "2022-05-18T21:51:27.743Z"
   },
   {
    "duration": 9,
    "start_time": "2022-05-18T21:51:35.912Z"
   },
   {
    "duration": 2,
    "start_time": "2022-05-18T21:51:42.054Z"
   },
   {
    "duration": 5,
    "start_time": "2022-05-18T21:51:53.344Z"
   },
   {
    "duration": 3,
    "start_time": "2022-05-18T21:52:03.347Z"
   },
   {
    "duration": 3,
    "start_time": "2022-05-18T21:52:35.683Z"
   },
   {
    "duration": 3,
    "start_time": "2022-05-18T21:52:36.415Z"
   },
   {
    "duration": 3,
    "start_time": "2022-05-18T21:52:39.998Z"
   },
   {
    "duration": 3,
    "start_time": "2022-05-18T21:52:40.373Z"
   },
   {
    "duration": 9,
    "start_time": "2022-05-18T21:55:04.907Z"
   },
   {
    "duration": 5,
    "start_time": "2022-05-18T21:55:07.872Z"
   },
   {
    "duration": 14,
    "start_time": "2022-05-18T21:55:08.905Z"
   },
   {
    "duration": 8,
    "start_time": "2022-05-18T21:55:22.504Z"
   },
   {
    "duration": 16,
    "start_time": "2022-05-18T21:55:22.858Z"
   },
   {
    "duration": 6,
    "start_time": "2022-05-18T21:55:35.794Z"
   },
   {
    "duration": 4,
    "start_time": "2022-05-18T21:55:36.587Z"
   },
   {
    "duration": 5,
    "start_time": "2022-05-18T21:55:46.758Z"
   },
   {
    "duration": 4,
    "start_time": "2022-05-18T21:55:47.094Z"
   },
   {
    "duration": 5,
    "start_time": "2022-05-18T21:55:54.877Z"
   },
   {
    "duration": 15,
    "start_time": "2022-05-18T21:55:55.289Z"
   },
   {
    "duration": 5,
    "start_time": "2022-05-18T21:56:10.448Z"
   },
   {
    "duration": 4,
    "start_time": "2022-05-18T21:56:10.857Z"
   },
   {
    "duration": 5,
    "start_time": "2022-05-18T21:56:32.455Z"
   },
   {
    "duration": 3,
    "start_time": "2022-05-18T21:56:33.615Z"
   },
   {
    "duration": 8,
    "start_time": "2022-05-18T21:56:52.353Z"
   },
   {
    "duration": 20,
    "start_time": "2022-05-18T21:56:52.975Z"
   },
   {
    "duration": 6,
    "start_time": "2022-05-18T21:57:20.715Z"
   },
   {
    "duration": 3,
    "start_time": "2022-05-18T21:57:21.136Z"
   },
   {
    "duration": 6,
    "start_time": "2022-05-18T21:57:25.178Z"
   },
   {
    "duration": 12,
    "start_time": "2022-05-18T21:57:25.455Z"
   },
   {
    "duration": 5,
    "start_time": "2022-05-18T21:57:28.149Z"
   },
   {
    "duration": 3,
    "start_time": "2022-05-18T21:57:28.481Z"
   },
   {
    "duration": 6,
    "start_time": "2022-05-18T21:57:40.768Z"
   },
   {
    "duration": 17,
    "start_time": "2022-05-18T21:57:41.011Z"
   },
   {
    "duration": 43,
    "start_time": "2022-05-18T21:57:48.269Z"
   },
   {
    "duration": 14,
    "start_time": "2022-05-18T21:57:48.526Z"
   },
   {
    "duration": 7,
    "start_time": "2022-05-18T21:57:53.787Z"
   },
   {
    "duration": 3,
    "start_time": "2022-05-18T21:57:54.171Z"
   },
   {
    "duration": 5,
    "start_time": "2022-05-18T21:57:59.153Z"
   },
   {
    "duration": 3,
    "start_time": "2022-05-18T21:57:59.471Z"
   },
   {
    "duration": 5,
    "start_time": "2022-05-18T22:00:07.247Z"
   },
   {
    "duration": 27,
    "start_time": "2022-05-18T22:00:10.989Z"
   },
   {
    "duration": 6,
    "start_time": "2022-05-18T22:00:57.601Z"
   },
   {
    "duration": 30,
    "start_time": "2022-05-18T22:00:58.050Z"
   },
   {
    "duration": 5,
    "start_time": "2022-05-18T22:01:11.347Z"
   },
   {
    "duration": 26,
    "start_time": "2022-05-18T22:01:11.822Z"
   },
   {
    "duration": 48,
    "start_time": "2022-05-18T22:01:44.929Z"
   },
   {
    "duration": 25,
    "start_time": "2022-05-18T22:01:45.640Z"
   },
   {
    "duration": 124,
    "start_time": "2022-05-18T22:01:51.889Z"
   },
   {
    "duration": 33,
    "start_time": "2022-05-18T22:01:52.151Z"
   },
   {
    "duration": 6,
    "start_time": "2022-05-18T22:01:58.837Z"
   },
   {
    "duration": 13,
    "start_time": "2022-05-18T22:01:59.275Z"
   },
   {
    "duration": 6,
    "start_time": "2022-05-18T22:02:23.197Z"
   },
   {
    "duration": 25,
    "start_time": "2022-05-18T22:02:23.575Z"
   },
   {
    "duration": 7,
    "start_time": "2022-05-18T22:05:05.045Z"
   },
   {
    "duration": 76,
    "start_time": "2022-05-18T22:05:05.614Z"
   },
   {
    "duration": 6,
    "start_time": "2022-05-18T22:05:46.445Z"
   },
   {
    "duration": 73,
    "start_time": "2022-05-18T22:05:46.830Z"
   },
   {
    "duration": 7,
    "start_time": "2022-05-18T22:05:58.705Z"
   },
   {
    "duration": 75,
    "start_time": "2022-05-18T22:05:59.015Z"
   },
   {
    "duration": 7,
    "start_time": "2022-05-18T22:06:08.405Z"
   },
   {
    "duration": 75,
    "start_time": "2022-05-18T22:06:08.701Z"
   },
   {
    "duration": 7,
    "start_time": "2022-05-18T22:06:21.953Z"
   },
   {
    "duration": 79,
    "start_time": "2022-05-18T22:06:22.271Z"
   },
   {
    "duration": 7,
    "start_time": "2022-05-18T22:06:40.727Z"
   },
   {
    "duration": 79,
    "start_time": "2022-05-18T22:06:41.549Z"
   },
   {
    "duration": 7,
    "start_time": "2022-05-18T22:06:55.265Z"
   },
   {
    "duration": 75,
    "start_time": "2022-05-18T22:06:55.654Z"
   },
   {
    "duration": 6,
    "start_time": "2022-05-18T22:07:03.807Z"
   },
   {
    "duration": 76,
    "start_time": "2022-05-18T22:07:04.194Z"
   },
   {
    "duration": 3,
    "start_time": "2022-05-18T22:08:12.766Z"
   },
   {
    "duration": 3,
    "start_time": "2022-05-18T22:08:20.365Z"
   },
   {
    "duration": 3,
    "start_time": "2022-05-18T22:08:25.710Z"
   },
   {
    "duration": 3,
    "start_time": "2022-05-18T22:08:30.006Z"
   },
   {
    "duration": 3,
    "start_time": "2022-05-18T22:08:45.467Z"
   },
   {
    "duration": 3,
    "start_time": "2022-05-18T22:09:39.808Z"
   },
   {
    "duration": 7,
    "start_time": "2022-05-18T22:10:01.709Z"
   },
   {
    "duration": 17,
    "start_time": "2022-05-18T22:10:02.114Z"
   },
   {
    "duration": 7,
    "start_time": "2022-05-18T22:10:12.300Z"
   },
   {
    "duration": 41,
    "start_time": "2022-05-18T22:10:12.799Z"
   },
   {
    "duration": 6,
    "start_time": "2022-05-18T22:10:29.059Z"
   },
   {
    "duration": 40,
    "start_time": "2022-05-18T22:10:29.514Z"
   },
   {
    "duration": 6,
    "start_time": "2022-05-18T22:10:49.478Z"
   },
   {
    "duration": 40,
    "start_time": "2022-05-18T22:10:49.768Z"
   },
   {
    "duration": 6,
    "start_time": "2022-05-18T22:11:32.042Z"
   },
   {
    "duration": 42,
    "start_time": "2022-05-18T22:11:32.495Z"
   },
   {
    "duration": 11,
    "start_time": "2022-05-18T22:12:08.593Z"
   },
   {
    "duration": 388,
    "start_time": "2022-05-18T22:12:08.984Z"
   },
   {
    "duration": 5,
    "start_time": "2022-05-18T22:13:58.348Z"
   },
   {
    "duration": 13,
    "start_time": "2022-05-18T22:15:33.516Z"
   },
   {
    "duration": 13,
    "start_time": "2022-05-18T22:15:38.754Z"
   },
   {
    "duration": 330,
    "start_time": "2022-05-18T22:15:56.633Z"
   },
   {
    "duration": 333,
    "start_time": "2022-05-18T22:16:26.739Z"
   },
   {
    "duration": 34,
    "start_time": "2022-05-18T22:19:58.853Z"
   },
   {
    "duration": 358,
    "start_time": "2022-05-18T22:20:12.157Z"
   },
   {
    "duration": 5,
    "start_time": "2022-05-18T22:21:28.191Z"
   },
   {
    "duration": 92890,
    "start_time": "2022-05-18T22:21:32.720Z"
   },
   {
    "duration": 1678,
    "start_time": "2022-05-19T10:41:33.473Z"
   },
   {
    "duration": 143,
    "start_time": "2022-05-19T10:41:35.153Z"
   },
   {
    "duration": 4,
    "start_time": "2022-05-19T10:41:35.297Z"
   },
   {
    "duration": 23,
    "start_time": "2022-05-19T10:41:35.303Z"
   },
   {
    "duration": 3,
    "start_time": "2022-05-19T10:41:35.329Z"
   },
   {
    "duration": 17,
    "start_time": "2022-05-19T10:41:35.334Z"
   },
   {
    "duration": 13,
    "start_time": "2022-05-19T10:41:35.353Z"
   },
   {
    "duration": 12,
    "start_time": "2022-05-19T10:41:35.367Z"
   },
   {
    "duration": 679,
    "start_time": "2022-05-19T10:41:35.403Z"
   },
   {
    "duration": 23,
    "start_time": "2022-05-19T10:41:36.084Z"
   },
   {
    "duration": 6,
    "start_time": "2022-05-19T10:41:36.109Z"
   },
   {
    "duration": 308,
    "start_time": "2022-05-19T10:41:36.117Z"
   },
   {
    "duration": 244,
    "start_time": "2022-05-19T10:41:36.426Z"
   },
   {
    "duration": 233,
    "start_time": "2022-05-19T10:41:36.673Z"
   },
   {
    "duration": 318,
    "start_time": "2022-05-19T10:41:36.908Z"
   },
   {
    "duration": 4,
    "start_time": "2022-05-19T10:41:37.229Z"
   },
   {
    "duration": 18,
    "start_time": "2022-05-19T10:41:37.235Z"
   },
   {
    "duration": 25,
    "start_time": "2022-05-19T10:41:37.254Z"
   },
   {
    "duration": 40,
    "start_time": "2022-05-19T10:41:37.281Z"
   },
   {
    "duration": 9,
    "start_time": "2022-05-19T10:41:37.322Z"
   },
   {
    "duration": 72,
    "start_time": "2022-05-19T10:41:37.332Z"
   },
   {
    "duration": 93,
    "start_time": "2022-05-19T10:41:37.411Z"
   },
   {
    "duration": 4,
    "start_time": "2022-05-19T10:41:44.582Z"
   },
   {
    "duration": 4,
    "start_time": "2022-05-19T10:41:44.980Z"
   },
   {
    "duration": 23,
    "start_time": "2022-05-19T10:43:09.760Z"
   },
   {
    "duration": 20,
    "start_time": "2022-05-19T10:43:34.890Z"
   },
   {
    "duration": 369,
    "start_time": "2022-05-19T10:46:03.591Z"
   },
   {
    "duration": 1208,
    "start_time": "2022-05-19T10:46:31.580Z"
   },
   {
    "duration": 382,
    "start_time": "2022-05-19T10:46:44.991Z"
   },
   {
    "duration": 5,
    "start_time": "2022-05-19T10:47:08.725Z"
   },
   {
    "duration": 4,
    "start_time": "2022-05-19T10:47:22.583Z"
   },
   {
    "duration": 380,
    "start_time": "2022-05-19T10:47:32.060Z"
   },
   {
    "duration": 5,
    "start_time": "2022-05-19T10:49:49.757Z"
   },
   {
    "duration": 111835,
    "start_time": "2022-05-19T10:49:53.409Z"
   },
   {
    "duration": 391,
    "start_time": "2022-05-19T10:52:49.816Z"
   },
   {
    "duration": 20,
    "start_time": "2022-05-19T10:53:20.322Z"
   },
   {
    "duration": 1418,
    "start_time": "2022-05-19T10:55:00.534Z"
   },
   {
    "duration": 47,
    "start_time": "2022-05-19T10:55:01.954Z"
   },
   {
    "duration": 9,
    "start_time": "2022-05-19T10:55:02.006Z"
   },
   {
    "duration": 31,
    "start_time": "2022-05-19T10:55:02.017Z"
   },
   {
    "duration": 4,
    "start_time": "2022-05-19T10:55:02.049Z"
   },
   {
    "duration": 21,
    "start_time": "2022-05-19T10:55:02.054Z"
   },
   {
    "duration": 17,
    "start_time": "2022-05-19T10:55:02.077Z"
   },
   {
    "duration": 27,
    "start_time": "2022-05-19T10:55:02.096Z"
   },
   {
    "duration": 672,
    "start_time": "2022-05-19T10:55:02.125Z"
   },
   {
    "duration": 25,
    "start_time": "2022-05-19T10:55:02.803Z"
   },
   {
    "duration": 7,
    "start_time": "2022-05-19T10:55:02.830Z"
   },
   {
    "duration": 299,
    "start_time": "2022-05-19T10:55:02.838Z"
   },
   {
    "duration": 236,
    "start_time": "2022-05-19T10:55:03.138Z"
   },
   {
    "duration": 248,
    "start_time": "2022-05-19T10:55:03.376Z"
   },
   {
    "duration": 315,
    "start_time": "2022-05-19T10:55:03.625Z"
   },
   {
    "duration": 4,
    "start_time": "2022-05-19T10:55:03.941Z"
   },
   {
    "duration": 17,
    "start_time": "2022-05-19T10:55:03.948Z"
   },
   {
    "duration": 46,
    "start_time": "2022-05-19T10:55:03.967Z"
   },
   {
    "duration": 25,
    "start_time": "2022-05-19T10:55:04.015Z"
   },
   {
    "duration": 6,
    "start_time": "2022-05-19T10:55:04.041Z"
   },
   {
    "duration": 260,
    "start_time": "2022-05-19T10:55:04.048Z"
   },
   {
    "duration": 0,
    "start_time": "2022-05-19T10:55:04.310Z"
   },
   {
    "duration": 0,
    "start_time": "2022-05-19T10:55:04.313Z"
   },
   {
    "duration": 0,
    "start_time": "2022-05-19T10:55:04.316Z"
   },
   {
    "duration": 0,
    "start_time": "2022-05-19T10:55:04.317Z"
   },
   {
    "duration": 0,
    "start_time": "2022-05-19T10:55:04.319Z"
   },
   {
    "duration": 0,
    "start_time": "2022-05-19T10:55:04.320Z"
   },
   {
    "duration": 1462,
    "start_time": "2022-05-19T10:55:29.619Z"
   },
   {
    "duration": 65,
    "start_time": "2022-05-19T10:55:31.084Z"
   },
   {
    "duration": 4,
    "start_time": "2022-05-19T10:55:31.151Z"
   },
   {
    "duration": 35,
    "start_time": "2022-05-19T10:55:31.157Z"
   },
   {
    "duration": 20,
    "start_time": "2022-05-19T10:55:31.194Z"
   },
   {
    "duration": 44,
    "start_time": "2022-05-19T10:55:31.216Z"
   },
   {
    "duration": 30,
    "start_time": "2022-05-19T10:55:31.262Z"
   },
   {
    "duration": 45,
    "start_time": "2022-05-19T10:55:31.295Z"
   },
   {
    "duration": 725,
    "start_time": "2022-05-19T10:55:31.342Z"
   },
   {
    "duration": 13,
    "start_time": "2022-05-19T10:55:32.069Z"
   },
   {
    "duration": 18,
    "start_time": "2022-05-19T10:55:32.084Z"
   },
   {
    "duration": 334,
    "start_time": "2022-05-19T10:55:32.103Z"
   },
   {
    "duration": 281,
    "start_time": "2022-05-19T10:55:32.438Z"
   },
   {
    "duration": 240,
    "start_time": "2022-05-19T10:55:32.722Z"
   },
   {
    "duration": 363,
    "start_time": "2022-05-19T10:55:32.963Z"
   },
   {
    "duration": 5,
    "start_time": "2022-05-19T10:55:33.328Z"
   },
   {
    "duration": 18,
    "start_time": "2022-05-19T10:55:33.335Z"
   },
   {
    "duration": 21,
    "start_time": "2022-05-19T10:55:33.355Z"
   },
   {
    "duration": 59,
    "start_time": "2022-05-19T10:55:33.378Z"
   },
   {
    "duration": 8,
    "start_time": "2022-05-19T10:55:33.439Z"
   },
   {
    "duration": 6,
    "start_time": "2022-05-19T10:55:33.449Z"
   },
   {
    "duration": 6,
    "start_time": "2022-05-19T10:55:33.457Z"
   },
   {
    "duration": 497,
    "start_time": "2022-05-19T10:55:33.465Z"
   },
   {
    "duration": 119434,
    "start_time": "2022-05-19T10:55:33.964Z"
   },
   {
    "duration": 324,
    "start_time": "2022-05-19T10:57:33.401Z"
   },
   {
    "duration": 26,
    "start_time": "2022-05-19T10:57:33.803Z"
   },
   {
    "duration": 1392,
    "start_time": "2022-05-19T11:07:28.381Z"
   },
   {
    "duration": 51,
    "start_time": "2022-05-19T11:07:29.776Z"
   },
   {
    "duration": 8,
    "start_time": "2022-05-19T11:07:29.829Z"
   },
   {
    "duration": 30,
    "start_time": "2022-05-19T11:07:29.840Z"
   },
   {
    "duration": 3,
    "start_time": "2022-05-19T11:07:29.872Z"
   },
   {
    "duration": 17,
    "start_time": "2022-05-19T11:07:29.877Z"
   },
   {
    "duration": 16,
    "start_time": "2022-05-19T11:07:29.896Z"
   },
   {
    "duration": 12,
    "start_time": "2022-05-19T11:07:29.914Z"
   },
   {
    "duration": 663,
    "start_time": "2022-05-19T11:07:29.928Z"
   },
   {
    "duration": 18,
    "start_time": "2022-05-19T11:07:30.593Z"
   },
   {
    "duration": 19,
    "start_time": "2022-05-19T11:07:30.612Z"
   },
   {
    "duration": 276,
    "start_time": "2022-05-19T11:07:30.633Z"
   },
   {
    "duration": 257,
    "start_time": "2022-05-19T11:07:30.910Z"
   },
   {
    "duration": 278,
    "start_time": "2022-05-19T11:07:31.169Z"
   },
   {
    "duration": 319,
    "start_time": "2022-05-19T11:07:31.449Z"
   },
   {
    "duration": 6,
    "start_time": "2022-05-19T11:07:31.769Z"
   },
   {
    "duration": 11,
    "start_time": "2022-05-19T11:07:31.777Z"
   },
   {
    "duration": 13,
    "start_time": "2022-05-19T11:07:31.790Z"
   },
   {
    "duration": 25,
    "start_time": "2022-05-19T11:07:31.805Z"
   },
   {
    "duration": 8,
    "start_time": "2022-05-19T11:07:31.832Z"
   },
   {
    "duration": 25,
    "start_time": "2022-05-19T11:07:31.843Z"
   },
   {
    "duration": 164,
    "start_time": "2022-05-19T11:07:31.870Z"
   },
   {
    "duration": 7,
    "start_time": "2022-05-19T11:07:50.235Z"
   },
   {
    "duration": 5,
    "start_time": "2022-05-19T11:07:55.484Z"
   },
   {
    "duration": 11930,
    "start_time": "2022-05-19T11:07:58.701Z"
   },
   {
    "duration": 5,
    "start_time": "2022-05-19T11:08:41.949Z"
   },
   {
    "duration": 4,
    "start_time": "2022-05-19T11:08:42.283Z"
   },
   {
    "duration": 4,
    "start_time": "2022-05-19T11:08:42.695Z"
   },
   {
    "duration": 4,
    "start_time": "2022-05-19T11:08:42.999Z"
   },
   {
    "duration": 2,
    "start_time": "2022-05-19T11:08:43.480Z"
   },
   {
    "duration": 3,
    "start_time": "2022-05-19T11:08:44.281Z"
   },
   {
    "duration": 71791,
    "start_time": "2022-05-19T11:08:44.956Z"
   },
   {
    "duration": 45,
    "start_time": "2022-05-19T11:13:51.816Z"
   },
   {
    "duration": 23392,
    "start_time": "2022-05-19T11:14:03.844Z"
   },
   {
    "duration": 292,
    "start_time": "2022-05-19T11:23:34.986Z"
   },
   {
    "duration": 1291,
    "start_time": "2022-05-19T11:24:02.540Z"
   },
   {
    "duration": 45,
    "start_time": "2022-05-19T11:24:03.833Z"
   },
   {
    "duration": 3,
    "start_time": "2022-05-19T11:24:03.880Z"
   },
   {
    "duration": 19,
    "start_time": "2022-05-19T11:24:03.885Z"
   },
   {
    "duration": 3,
    "start_time": "2022-05-19T11:24:03.906Z"
   },
   {
    "duration": 16,
    "start_time": "2022-05-19T11:24:03.910Z"
   },
   {
    "duration": 9,
    "start_time": "2022-05-19T11:24:03.928Z"
   },
   {
    "duration": 14,
    "start_time": "2022-05-19T11:24:03.938Z"
   },
   {
    "duration": 610,
    "start_time": "2022-05-19T11:24:03.954Z"
   },
   {
    "duration": 13,
    "start_time": "2022-05-19T11:24:04.566Z"
   },
   {
    "duration": 21,
    "start_time": "2022-05-19T11:24:04.581Z"
   },
   {
    "duration": 285,
    "start_time": "2022-05-19T11:24:04.604Z"
   },
   {
    "duration": 222,
    "start_time": "2022-05-19T11:24:04.891Z"
   },
   {
    "duration": 227,
    "start_time": "2022-05-19T11:24:05.114Z"
   },
   {
    "duration": 299,
    "start_time": "2022-05-19T11:24:05.342Z"
   },
   {
    "duration": 4,
    "start_time": "2022-05-19T11:24:05.643Z"
   },
   {
    "duration": 10,
    "start_time": "2022-05-19T11:24:05.649Z"
   },
   {
    "duration": 8,
    "start_time": "2022-05-19T11:24:05.660Z"
   },
   {
    "duration": 9,
    "start_time": "2022-05-19T11:24:05.669Z"
   },
   {
    "duration": 8,
    "start_time": "2022-05-19T11:24:05.679Z"
   },
   {
    "duration": 0,
    "start_time": "2022-05-19T11:24:05.688Z"
   },
   {
    "duration": 0,
    "start_time": "2022-05-19T11:24:05.690Z"
   },
   {
    "duration": 3,
    "start_time": "2022-05-19T11:24:19.104Z"
   },
   {
    "duration": 4,
    "start_time": "2022-05-19T11:24:20.444Z"
   },
   {
    "duration": 11434,
    "start_time": "2022-05-19T11:24:20.897Z"
   },
   {
    "duration": 5,
    "start_time": "2022-05-19T11:24:53.878Z"
   },
   {
    "duration": 402439,
    "start_time": "2022-05-19T11:24:57.288Z"
   },
   {
    "duration": 44087,
    "start_time": "2022-05-19T11:31:56.841Z"
   },
   {
    "duration": 1378,
    "start_time": "2022-05-19T11:33:38.074Z"
   },
   {
    "duration": 47,
    "start_time": "2022-05-19T11:33:39.454Z"
   },
   {
    "duration": 3,
    "start_time": "2022-05-19T11:33:39.503Z"
   },
   {
    "duration": 22,
    "start_time": "2022-05-19T11:33:39.508Z"
   },
   {
    "duration": 2,
    "start_time": "2022-05-19T11:33:39.533Z"
   },
   {
    "duration": 14,
    "start_time": "2022-05-19T11:33:39.537Z"
   },
   {
    "duration": 10,
    "start_time": "2022-05-19T11:33:39.552Z"
   },
   {
    "duration": 9,
    "start_time": "2022-05-19T11:33:39.563Z"
   },
   {
    "duration": 618,
    "start_time": "2022-05-19T11:33:39.603Z"
   },
   {
    "duration": 13,
    "start_time": "2022-05-19T11:33:40.223Z"
   },
   {
    "duration": 6,
    "start_time": "2022-05-19T11:33:40.238Z"
   },
   {
    "duration": 299,
    "start_time": "2022-05-19T11:33:40.246Z"
   },
   {
    "duration": 216,
    "start_time": "2022-05-19T11:33:40.546Z"
   },
   {
    "duration": 222,
    "start_time": "2022-05-19T11:33:40.764Z"
   },
   {
    "duration": 372,
    "start_time": "2022-05-19T11:33:40.988Z"
   },
   {
    "duration": 8,
    "start_time": "2022-05-19T11:33:41.363Z"
   },
   {
    "duration": 13,
    "start_time": "2022-05-19T11:33:41.372Z"
   },
   {
    "duration": 16,
    "start_time": "2022-05-19T11:33:41.387Z"
   },
   {
    "duration": 12,
    "start_time": "2022-05-19T11:33:41.406Z"
   },
   {
    "duration": 12,
    "start_time": "2022-05-19T11:33:41.421Z"
   },
   {
    "duration": 6,
    "start_time": "2022-05-19T11:33:41.435Z"
   },
   {
    "duration": 104396,
    "start_time": "2022-05-19T11:33:41.443Z"
   },
   {
    "duration": 5741,
    "start_time": "2022-05-19T11:35:37.072Z"
   },
   {
    "duration": 1311,
    "start_time": "2022-05-19T11:35:46.446Z"
   },
   {
    "duration": 46,
    "start_time": "2022-05-19T11:35:47.759Z"
   },
   {
    "duration": 3,
    "start_time": "2022-05-19T11:35:47.807Z"
   },
   {
    "duration": 20,
    "start_time": "2022-05-19T11:35:47.812Z"
   },
   {
    "duration": 3,
    "start_time": "2022-05-19T11:35:47.835Z"
   },
   {
    "duration": 13,
    "start_time": "2022-05-19T11:35:47.840Z"
   },
   {
    "duration": 12,
    "start_time": "2022-05-19T11:35:47.854Z"
   },
   {
    "duration": 9,
    "start_time": "2022-05-19T11:35:47.867Z"
   },
   {
    "duration": 682,
    "start_time": "2022-05-19T11:35:47.877Z"
   },
   {
    "duration": 12,
    "start_time": "2022-05-19T11:35:48.561Z"
   },
   {
    "duration": 10,
    "start_time": "2022-05-19T11:35:48.574Z"
   },
   {
    "duration": 291,
    "start_time": "2022-05-19T11:35:48.586Z"
   },
   {
    "duration": 215,
    "start_time": "2022-05-19T11:35:48.879Z"
   },
   {
    "duration": 218,
    "start_time": "2022-05-19T11:35:49.103Z"
   },
   {
    "duration": 311,
    "start_time": "2022-05-19T11:35:49.323Z"
   },
   {
    "duration": 6,
    "start_time": "2022-05-19T11:35:49.637Z"
   },
   {
    "duration": 8,
    "start_time": "2022-05-19T11:35:49.644Z"
   },
   {
    "duration": 7,
    "start_time": "2022-05-19T11:35:49.654Z"
   },
   {
    "duration": 5,
    "start_time": "2022-05-19T11:35:49.663Z"
   },
   {
    "duration": 8,
    "start_time": "2022-05-19T11:35:49.670Z"
   },
   {
    "duration": 24,
    "start_time": "2022-05-19T11:35:49.679Z"
   },
   {
    "duration": 565333,
    "start_time": "2022-05-19T11:35:49.704Z"
   },
   {
    "duration": 13,
    "start_time": "2022-05-19T11:47:48.545Z"
   },
   {
    "duration": 4,
    "start_time": "2022-05-19T11:47:54.856Z"
   },
   {
    "duration": 4,
    "start_time": "2022-05-19T11:48:03.226Z"
   },
   {
    "duration": 4,
    "start_time": "2022-05-19T11:48:09.505Z"
   },
   {
    "duration": 4,
    "start_time": "2022-05-19T11:48:42.562Z"
   },
   {
    "duration": 4,
    "start_time": "2022-05-19T11:48:52.890Z"
   },
   {
    "duration": 4,
    "start_time": "2022-05-19T11:49:04.410Z"
   },
   {
    "duration": 3,
    "start_time": "2022-05-19T11:49:40.717Z"
   },
   {
    "duration": 5,
    "start_time": "2022-05-19T11:49:46.195Z"
   },
   {
    "duration": 5,
    "start_time": "2022-05-19T11:49:49.527Z"
   },
   {
    "duration": 99,
    "start_time": "2022-05-19T11:50:16.333Z"
   },
   {
    "duration": 4,
    "start_time": "2022-05-19T11:50:18.740Z"
   },
   {
    "duration": 4,
    "start_time": "2022-05-19T11:50:30.292Z"
   },
   {
    "duration": 4,
    "start_time": "2022-05-19T11:50:36.851Z"
   },
   {
    "duration": 100,
    "start_time": "2022-05-19T11:52:16.198Z"
   },
   {
    "duration": 5,
    "start_time": "2022-05-19T11:52:19.320Z"
   },
   {
    "duration": 4,
    "start_time": "2022-05-19T11:52:28.858Z"
   },
   {
    "duration": 3,
    "start_time": "2022-05-19T11:54:37.227Z"
   },
   {
    "duration": 4,
    "start_time": "2022-05-19T11:56:15.540Z"
   },
   {
    "duration": 3,
    "start_time": "2022-05-19T11:56:17.450Z"
   },
   {
    "duration": 4,
    "start_time": "2022-05-19T11:56:17.745Z"
   },
   {
    "duration": 46,
    "start_time": "2022-05-19T11:56:24.412Z"
   },
   {
    "duration": 69,
    "start_time": "2022-05-19T11:56:53.867Z"
   },
   {
    "duration": 5,
    "start_time": "2022-05-19T11:57:00.393Z"
   },
   {
    "duration": 5,
    "start_time": "2022-05-19T11:57:01.459Z"
   },
   {
    "duration": 5,
    "start_time": "2022-05-19T11:57:01.760Z"
   },
   {
    "duration": 4,
    "start_time": "2022-05-19T11:57:02.162Z"
   },
   {
    "duration": 3,
    "start_time": "2022-05-19T11:57:02.521Z"
   },
   {
    "duration": 249,
    "start_time": "2022-05-19T11:57:03.009Z"
   },
   {
    "duration": 4,
    "start_time": "2022-05-19T11:57:29.813Z"
   },
   {
    "duration": 4,
    "start_time": "2022-05-19T11:57:30.135Z"
   },
   {
    "duration": 4,
    "start_time": "2022-05-19T11:57:32.546Z"
   },
   {
    "duration": 3,
    "start_time": "2022-05-19T11:57:32.879Z"
   },
   {
    "duration": 234,
    "start_time": "2022-05-19T11:57:33.363Z"
   },
   {
    "duration": 5,
    "start_time": "2022-05-19T11:58:23.448Z"
   },
   {
    "duration": 3,
    "start_time": "2022-05-19T11:58:24.935Z"
   },
   {
    "duration": 4,
    "start_time": "2022-05-19T11:58:25.193Z"
   },
   {
    "duration": 3,
    "start_time": "2022-05-19T11:58:25.514Z"
   },
   {
    "duration": 4,
    "start_time": "2022-05-19T11:58:25.862Z"
   },
   {
    "duration": 272,
    "start_time": "2022-05-19T11:58:26.347Z"
   },
   {
    "duration": 3,
    "start_time": "2022-05-19T11:58:44.299Z"
   },
   {
    "duration": 5,
    "start_time": "2022-05-19T11:58:44.627Z"
   },
   {
    "duration": 8,
    "start_time": "2022-05-19T11:58:44.899Z"
   },
   {
    "duration": 3,
    "start_time": "2022-05-19T11:58:45.241Z"
   },
   {
    "duration": 250,
    "start_time": "2022-05-19T11:58:45.715Z"
   },
   {
    "duration": 4,
    "start_time": "2022-05-19T11:59:17.409Z"
   },
   {
    "duration": 7,
    "start_time": "2022-05-19T11:59:17.920Z"
   },
   {
    "duration": 5,
    "start_time": "2022-05-19T11:59:18.302Z"
   },
   {
    "duration": 3,
    "start_time": "2022-05-19T11:59:18.649Z"
   },
   {
    "duration": 231,
    "start_time": "2022-05-19T11:59:19.131Z"
   },
   {
    "duration": 4,
    "start_time": "2022-05-19T11:59:31.413Z"
   },
   {
    "duration": 5,
    "start_time": "2022-05-19T11:59:31.713Z"
   },
   {
    "duration": 3,
    "start_time": "2022-05-19T11:59:31.919Z"
   },
   {
    "duration": 3,
    "start_time": "2022-05-19T11:59:32.273Z"
   },
   {
    "duration": 227,
    "start_time": "2022-05-19T11:59:32.724Z"
   },
   {
    "duration": 6,
    "start_time": "2022-05-19T11:59:54.198Z"
   },
   {
    "duration": 5,
    "start_time": "2022-05-19T11:59:54.449Z"
   },
   {
    "duration": 3,
    "start_time": "2022-05-19T11:59:54.658Z"
   },
   {
    "duration": 11,
    "start_time": "2022-05-19T11:59:55.001Z"
   },
   {
    "duration": 23280,
    "start_time": "2022-05-19T11:59:55.439Z"
   },
   {
    "duration": 4,
    "start_time": "2022-05-19T12:01:03.177Z"
   },
   {
    "duration": 3,
    "start_time": "2022-05-19T12:01:03.457Z"
   },
   {
    "duration": 3,
    "start_time": "2022-05-19T12:01:03.843Z"
   },
   {
    "duration": 103981,
    "start_time": "2022-05-19T12:01:04.333Z"
   },
   {
    "duration": 4,
    "start_time": "2022-05-19T12:07:11.869Z"
   },
   {
    "duration": 11824,
    "start_time": "2022-05-19T12:07:26.025Z"
   },
   {
    "duration": 1497,
    "start_time": "2022-05-19T12:07:42.695Z"
   },
   {
    "duration": 70,
    "start_time": "2022-05-19T12:07:44.194Z"
   },
   {
    "duration": 4,
    "start_time": "2022-05-19T12:07:44.266Z"
   },
   {
    "duration": 17,
    "start_time": "2022-05-19T12:07:44.272Z"
   },
   {
    "duration": 2,
    "start_time": "2022-05-19T12:07:44.293Z"
   },
   {
    "duration": 21,
    "start_time": "2022-05-19T12:07:44.297Z"
   },
   {
    "duration": 31,
    "start_time": "2022-05-19T12:07:44.323Z"
   },
   {
    "duration": 9,
    "start_time": "2022-05-19T12:07:44.355Z"
   },
   {
    "duration": 756,
    "start_time": "2022-05-19T12:07:44.365Z"
   },
   {
    "duration": 30,
    "start_time": "2022-05-19T12:07:45.136Z"
   },
   {
    "duration": 6,
    "start_time": "2022-05-19T12:07:45.168Z"
   },
   {
    "duration": 372,
    "start_time": "2022-05-19T12:07:45.176Z"
   },
   {
    "duration": 272,
    "start_time": "2022-05-19T12:07:45.550Z"
   },
   {
    "duration": 247,
    "start_time": "2022-05-19T12:07:45.830Z"
   },
   {
    "duration": 372,
    "start_time": "2022-05-19T12:07:46.078Z"
   },
   {
    "duration": 5,
    "start_time": "2022-05-19T12:07:46.451Z"
   },
   {
    "duration": 11,
    "start_time": "2022-05-19T12:07:46.458Z"
   },
   {
    "duration": 15,
    "start_time": "2022-05-19T12:07:46.471Z"
   },
   {
    "duration": 6,
    "start_time": "2022-05-19T12:07:46.488Z"
   },
   {
    "duration": 46,
    "start_time": "2022-05-19T12:07:46.495Z"
   },
   {
    "duration": 5,
    "start_time": "2022-05-19T12:07:46.543Z"
   },
   {
    "duration": 175086,
    "start_time": "2022-05-19T12:07:46.549Z"
   },
   {
    "duration": 7,
    "start_time": "2022-05-19T12:10:41.637Z"
   },
   {
    "duration": 1360,
    "start_time": "2022-05-19T12:14:25.439Z"
   },
   {
    "duration": 53,
    "start_time": "2022-05-19T12:14:26.801Z"
   },
   {
    "duration": 4,
    "start_time": "2022-05-19T12:14:26.856Z"
   },
   {
    "duration": 21,
    "start_time": "2022-05-19T12:14:26.862Z"
   },
   {
    "duration": 3,
    "start_time": "2022-05-19T12:14:26.885Z"
   },
   {
    "duration": 16,
    "start_time": "2022-05-19T12:14:26.889Z"
   },
   {
    "duration": 15,
    "start_time": "2022-05-19T12:14:26.911Z"
   },
   {
    "duration": 9,
    "start_time": "2022-05-19T12:14:26.928Z"
   },
   {
    "duration": 636,
    "start_time": "2022-05-19T12:14:26.938Z"
   },
   {
    "duration": 12,
    "start_time": "2022-05-19T12:14:27.576Z"
   },
   {
    "duration": 17,
    "start_time": "2022-05-19T12:14:27.591Z"
   },
   {
    "duration": 284,
    "start_time": "2022-05-19T12:14:27.617Z"
   },
   {
    "duration": 235,
    "start_time": "2022-05-19T12:14:27.906Z"
   },
   {
    "duration": 212,
    "start_time": "2022-05-19T12:14:28.144Z"
   },
   {
    "duration": 369,
    "start_time": "2022-05-19T12:14:28.357Z"
   },
   {
    "duration": 8,
    "start_time": "2022-05-19T12:14:28.728Z"
   },
   {
    "duration": 8,
    "start_time": "2022-05-19T12:14:28.739Z"
   },
   {
    "duration": 10,
    "start_time": "2022-05-19T12:14:28.749Z"
   },
   {
    "duration": 7,
    "start_time": "2022-05-19T12:14:28.761Z"
   },
   {
    "duration": 5,
    "start_time": "2022-05-19T12:14:28.769Z"
   },
   {
    "duration": 6,
    "start_time": "2022-05-19T12:14:28.776Z"
   },
   {
    "duration": 560847,
    "start_time": "2022-05-19T12:14:28.784Z"
   },
   {
    "duration": 4,
    "start_time": "2022-05-19T12:23:49.633Z"
   },
   {
    "duration": 7,
    "start_time": "2022-05-19T12:26:27.473Z"
   },
   {
    "duration": 272,
    "start_time": "2022-05-19T12:31:09.855Z"
   },
   {
    "duration": 4,
    "start_time": "2022-05-19T12:31:25.076Z"
   },
   {
    "duration": 21,
    "start_time": "2022-05-19T12:31:30.808Z"
   },
   {
    "duration": 20,
    "start_time": "2022-05-19T12:32:30.661Z"
   },
   {
    "duration": 19,
    "start_time": "2022-05-19T12:32:34.137Z"
   },
   {
    "duration": 38,
    "start_time": "2022-05-19T12:32:39.302Z"
   },
   {
    "duration": 78,
    "start_time": "2022-05-19T12:32:48.246Z"
   },
   {
    "duration": 8461,
    "start_time": "2022-05-19T12:33:51.386Z"
   },
   {
    "duration": 1368,
    "start_time": "2022-05-19T12:34:02.029Z"
   },
   {
    "duration": 45,
    "start_time": "2022-05-19T12:34:03.398Z"
   },
   {
    "duration": 3,
    "start_time": "2022-05-19T12:34:03.445Z"
   },
   {
    "duration": 24,
    "start_time": "2022-05-19T12:34:03.449Z"
   },
   {
    "duration": 2,
    "start_time": "2022-05-19T12:34:03.475Z"
   },
   {
    "duration": 15,
    "start_time": "2022-05-19T12:34:03.479Z"
   },
   {
    "duration": 15,
    "start_time": "2022-05-19T12:34:03.496Z"
   },
   {
    "duration": 11,
    "start_time": "2022-05-19T12:34:03.512Z"
   },
   {
    "duration": 612,
    "start_time": "2022-05-19T12:34:03.525Z"
   },
   {
    "duration": 12,
    "start_time": "2022-05-19T12:34:04.138Z"
   },
   {
    "duration": 11,
    "start_time": "2022-05-19T12:34:04.151Z"
   },
   {
    "duration": 290,
    "start_time": "2022-05-19T12:34:04.163Z"
   },
   {
    "duration": 223,
    "start_time": "2022-05-19T12:34:04.454Z"
   },
   {
    "duration": 238,
    "start_time": "2022-05-19T12:34:04.680Z"
   },
   {
    "duration": 306,
    "start_time": "2022-05-19T12:34:04.920Z"
   },
   {
    "duration": 5,
    "start_time": "2022-05-19T12:34:05.228Z"
   },
   {
    "duration": 8,
    "start_time": "2022-05-19T12:34:05.234Z"
   },
   {
    "duration": 5,
    "start_time": "2022-05-19T12:34:05.243Z"
   },
   {
    "duration": 7,
    "start_time": "2022-05-19T12:34:05.249Z"
   },
   {
    "duration": 6,
    "start_time": "2022-05-19T12:34:05.257Z"
   },
   {
    "duration": 5,
    "start_time": "2022-05-19T12:34:05.264Z"
   },
   {
    "duration": 1551,
    "start_time": "2022-05-19T19:07:57.415Z"
   },
   {
    "duration": 146,
    "start_time": "2022-05-19T19:07:58.968Z"
   },
   {
    "duration": 3,
    "start_time": "2022-05-19T19:07:59.116Z"
   },
   {
    "duration": 24,
    "start_time": "2022-05-19T19:07:59.121Z"
   },
   {
    "duration": 3,
    "start_time": "2022-05-19T19:07:59.147Z"
   },
   {
    "duration": 18,
    "start_time": "2022-05-19T19:07:59.152Z"
   },
   {
    "duration": 26,
    "start_time": "2022-05-19T19:07:59.171Z"
   },
   {
    "duration": 13,
    "start_time": "2022-05-19T19:07:59.199Z"
   },
   {
    "duration": 654,
    "start_time": "2022-05-19T19:07:59.214Z"
   },
   {
    "duration": 13,
    "start_time": "2022-05-19T19:08:08.456Z"
   },
   {
    "duration": 5,
    "start_time": "2022-05-19T19:08:16.757Z"
   },
   {
    "duration": 358,
    "start_time": "2022-05-19T19:08:18.808Z"
   },
   {
    "duration": 4,
    "start_time": "2022-05-19T19:08:43.322Z"
   },
   {
    "duration": 52,
    "start_time": "2022-05-19T19:08:43.328Z"
   },
   {
    "duration": 2,
    "start_time": "2022-05-19T19:08:43.382Z"
   },
   {
    "duration": 18,
    "start_time": "2022-05-19T19:08:43.386Z"
   },
   {
    "duration": 3,
    "start_time": "2022-05-19T19:08:43.406Z"
   },
   {
    "duration": 12,
    "start_time": "2022-05-19T19:08:43.411Z"
   },
   {
    "duration": 10,
    "start_time": "2022-05-19T19:08:43.424Z"
   },
   {
    "duration": 9,
    "start_time": "2022-05-19T19:08:43.436Z"
   },
   {
    "duration": 491,
    "start_time": "2022-05-19T19:08:43.447Z"
   },
   {
    "duration": 14,
    "start_time": "2022-05-19T19:08:43.939Z"
   },
   {
    "duration": 20,
    "start_time": "2022-05-19T19:08:43.955Z"
   },
   {
    "duration": 334,
    "start_time": "2022-05-19T19:09:22.018Z"
   },
   {
    "duration": 4,
    "start_time": "2022-05-19T19:09:25.373Z"
   },
   {
    "duration": 50,
    "start_time": "2022-05-19T19:09:25.379Z"
   },
   {
    "duration": 3,
    "start_time": "2022-05-19T19:09:25.430Z"
   },
   {
    "duration": 25,
    "start_time": "2022-05-19T19:09:25.435Z"
   },
   {
    "duration": 3,
    "start_time": "2022-05-19T19:09:25.464Z"
   },
   {
    "duration": 21,
    "start_time": "2022-05-19T19:09:25.468Z"
   },
   {
    "duration": 10,
    "start_time": "2022-05-19T19:09:25.491Z"
   },
   {
    "duration": 15,
    "start_time": "2022-05-19T19:09:25.503Z"
   },
   {
    "duration": 555,
    "start_time": "2022-05-19T19:09:25.520Z"
   },
   {
    "duration": 12,
    "start_time": "2022-05-19T19:09:26.077Z"
   },
   {
    "duration": 4,
    "start_time": "2022-05-19T19:09:26.091Z"
   },
   {
    "duration": 356,
    "start_time": "2022-05-19T19:09:26.096Z"
   },
   {
    "duration": 6,
    "start_time": "2022-05-19T19:10:21.570Z"
   },
   {
    "duration": 71,
    "start_time": "2022-05-19T19:10:21.578Z"
   },
   {
    "duration": 3,
    "start_time": "2022-05-19T19:10:21.651Z"
   },
   {
    "duration": 27,
    "start_time": "2022-05-19T19:10:21.656Z"
   },
   {
    "duration": 5,
    "start_time": "2022-05-19T19:10:21.686Z"
   },
   {
    "duration": 19,
    "start_time": "2022-05-19T19:10:21.693Z"
   },
   {
    "duration": 23,
    "start_time": "2022-05-19T19:10:21.714Z"
   },
   {
    "duration": 19,
    "start_time": "2022-05-19T19:10:21.739Z"
   },
   {
    "duration": 494,
    "start_time": "2022-05-19T19:10:21.759Z"
   },
   {
    "duration": 17,
    "start_time": "2022-05-19T19:10:22.255Z"
   },
   {
    "duration": 729,
    "start_time": "2022-05-19T19:10:22.274Z"
   },
   {
    "duration": 8,
    "start_time": "2022-05-19T19:10:47.558Z"
   },
   {
    "duration": 409,
    "start_time": "2022-05-19T19:10:49.984Z"
   },
   {
    "duration": 4,
    "start_time": "2022-05-19T19:11:14.575Z"
   },
   {
    "duration": 64,
    "start_time": "2022-05-19T19:11:14.581Z"
   },
   {
    "duration": 9,
    "start_time": "2022-05-19T19:11:14.648Z"
   },
   {
    "duration": 51,
    "start_time": "2022-05-19T19:11:14.658Z"
   },
   {
    "duration": 17,
    "start_time": "2022-05-19T19:11:14.712Z"
   },
   {
    "duration": 45,
    "start_time": "2022-05-19T19:11:14.731Z"
   },
   {
    "duration": 48,
    "start_time": "2022-05-19T19:11:14.778Z"
   },
   {
    "duration": 23,
    "start_time": "2022-05-19T19:11:14.828Z"
   },
   {
    "duration": 521,
    "start_time": "2022-05-19T19:11:14.853Z"
   },
   {
    "duration": 13,
    "start_time": "2022-05-19T19:11:15.376Z"
   },
   {
    "duration": 23,
    "start_time": "2022-05-19T19:11:15.391Z"
   },
   {
    "duration": 412,
    "start_time": "2022-05-19T19:11:18.867Z"
   },
   {
    "duration": 4,
    "start_time": "2022-05-19T19:15:26.227Z"
   },
   {
    "duration": 5,
    "start_time": "2022-05-19T19:16:06.120Z"
   },
   {
    "duration": 4,
    "start_time": "2022-05-19T19:17:00.949Z"
   },
   {
    "duration": 5,
    "start_time": "2022-05-19T19:17:17.545Z"
   },
   {
    "duration": 36,
    "start_time": "2022-05-19T19:17:22.507Z"
   },
   {
    "duration": 5,
    "start_time": "2022-05-19T19:18:15.976Z"
   },
   {
    "duration": 7,
    "start_time": "2022-05-19T19:18:16.293Z"
   },
   {
    "duration": 32,
    "start_time": "2022-05-19T19:18:22.226Z"
   },
   {
    "duration": 1302,
    "start_time": "2022-05-19T19:19:14.013Z"
   },
   {
    "duration": 45,
    "start_time": "2022-05-19T19:19:15.317Z"
   },
   {
    "duration": 3,
    "start_time": "2022-05-19T19:19:15.363Z"
   },
   {
    "duration": 19,
    "start_time": "2022-05-19T19:19:15.368Z"
   },
   {
    "duration": 2,
    "start_time": "2022-05-19T19:19:15.389Z"
   },
   {
    "duration": 12,
    "start_time": "2022-05-19T19:19:15.392Z"
   },
   {
    "duration": 11,
    "start_time": "2022-05-19T19:19:15.405Z"
   },
   {
    "duration": 7,
    "start_time": "2022-05-19T19:19:15.418Z"
   },
   {
    "duration": 571,
    "start_time": "2022-05-19T19:19:15.426Z"
   },
   {
    "duration": 19,
    "start_time": "2022-05-19T19:19:15.999Z"
   },
   {
    "duration": 11,
    "start_time": "2022-05-19T19:19:16.020Z"
   },
   {
    "duration": 402,
    "start_time": "2022-05-19T19:19:16.032Z"
   },
   {
    "duration": 204,
    "start_time": "2022-05-19T19:19:16.435Z"
   },
   {
    "duration": 204,
    "start_time": "2022-05-19T19:19:16.641Z"
   },
   {
    "duration": 291,
    "start_time": "2022-05-19T19:19:16.846Z"
   },
   {
    "duration": 5,
    "start_time": "2022-05-19T19:19:17.138Z"
   },
   {
    "duration": 9,
    "start_time": "2022-05-19T19:19:17.144Z"
   },
   {
    "duration": 181,
    "start_time": "2022-05-19T19:19:17.154Z"
   },
   {
    "duration": 4,
    "start_time": "2022-05-19T19:20:09.126Z"
   },
   {
    "duration": 14,
    "start_time": "2022-05-19T19:20:11.045Z"
   },
   {
    "duration": 4,
    "start_time": "2022-05-19T19:20:20.851Z"
   },
   {
    "duration": 190,
    "start_time": "2022-05-19T19:20:23.423Z"
   },
   {
    "duration": 1311,
    "start_time": "2022-05-19T19:21:42.385Z"
   },
   {
    "duration": 48,
    "start_time": "2022-05-19T19:21:43.698Z"
   },
   {
    "duration": 3,
    "start_time": "2022-05-19T19:21:43.747Z"
   },
   {
    "duration": 22,
    "start_time": "2022-05-19T19:21:43.751Z"
   },
   {
    "duration": 3,
    "start_time": "2022-05-19T19:21:43.775Z"
   },
   {
    "duration": 11,
    "start_time": "2022-05-19T19:21:43.780Z"
   },
   {
    "duration": 9,
    "start_time": "2022-05-19T19:21:43.793Z"
   },
   {
    "duration": 9,
    "start_time": "2022-05-19T19:21:43.803Z"
   },
   {
    "duration": 580,
    "start_time": "2022-05-19T19:21:43.813Z"
   },
   {
    "duration": 19,
    "start_time": "2022-05-19T19:21:44.395Z"
   },
   {
    "duration": 6,
    "start_time": "2022-05-19T19:21:44.416Z"
   },
   {
    "duration": 414,
    "start_time": "2022-05-19T19:21:44.424Z"
   },
   {
    "duration": 206,
    "start_time": "2022-05-19T19:21:44.840Z"
   },
   {
    "duration": 212,
    "start_time": "2022-05-19T19:21:45.049Z"
   },
   {
    "duration": 302,
    "start_time": "2022-05-19T19:21:45.263Z"
   },
   {
    "duration": 5,
    "start_time": "2022-05-19T19:21:45.567Z"
   },
   {
    "duration": 6,
    "start_time": "2022-05-19T19:21:45.573Z"
   },
   {
    "duration": 431,
    "start_time": "2022-05-19T19:21:45.581Z"
   },
   {
    "duration": 1338,
    "start_time": "2022-05-19T19:23:01.877Z"
   },
   {
    "duration": 47,
    "start_time": "2022-05-19T19:23:03.217Z"
   },
   {
    "duration": 2,
    "start_time": "2022-05-19T19:23:03.266Z"
   },
   {
    "duration": 23,
    "start_time": "2022-05-19T19:23:03.270Z"
   },
   {
    "duration": 3,
    "start_time": "2022-05-19T19:23:03.295Z"
   },
   {
    "duration": 12,
    "start_time": "2022-05-19T19:23:03.299Z"
   },
   {
    "duration": 14,
    "start_time": "2022-05-19T19:23:03.313Z"
   },
   {
    "duration": 12,
    "start_time": "2022-05-19T19:23:03.329Z"
   },
   {
    "duration": 595,
    "start_time": "2022-05-19T19:23:03.342Z"
   },
   {
    "duration": 12,
    "start_time": "2022-05-19T19:23:03.939Z"
   },
   {
    "duration": 11,
    "start_time": "2022-05-19T19:23:03.953Z"
   },
   {
    "duration": 416,
    "start_time": "2022-05-19T19:23:03.966Z"
   },
   {
    "duration": 206,
    "start_time": "2022-05-19T19:23:04.384Z"
   },
   {
    "duration": 219,
    "start_time": "2022-05-19T19:23:04.593Z"
   },
   {
    "duration": 295,
    "start_time": "2022-05-19T19:23:04.813Z"
   },
   {
    "duration": 5,
    "start_time": "2022-05-19T19:23:05.111Z"
   },
   {
    "duration": 6,
    "start_time": "2022-05-19T19:23:05.117Z"
   },
   {
    "duration": 394,
    "start_time": "2022-05-19T19:23:05.125Z"
   },
   {
    "duration": 1282,
    "start_time": "2022-05-19T19:23:29.364Z"
   },
   {
    "duration": 47,
    "start_time": "2022-05-19T19:23:30.648Z"
   },
   {
    "duration": 3,
    "start_time": "2022-05-19T19:23:30.697Z"
   },
   {
    "duration": 36,
    "start_time": "2022-05-19T19:23:30.701Z"
   },
   {
    "duration": 5,
    "start_time": "2022-05-19T19:23:30.740Z"
   },
   {
    "duration": 27,
    "start_time": "2022-05-19T19:23:30.747Z"
   },
   {
    "duration": 32,
    "start_time": "2022-05-19T19:23:30.775Z"
   },
   {
    "duration": 23,
    "start_time": "2022-05-19T19:23:30.809Z"
   },
   {
    "duration": 588,
    "start_time": "2022-05-19T19:23:30.833Z"
   },
   {
    "duration": 13,
    "start_time": "2022-05-19T19:23:31.422Z"
   },
   {
    "duration": 6,
    "start_time": "2022-05-19T19:23:31.436Z"
   },
   {
    "duration": 570,
    "start_time": "2022-05-19T19:23:31.444Z"
   },
   {
    "duration": 231,
    "start_time": "2022-05-19T19:23:32.015Z"
   },
   {
    "duration": 231,
    "start_time": "2022-05-19T19:23:32.249Z"
   },
   {
    "duration": 321,
    "start_time": "2022-05-19T19:23:32.481Z"
   },
   {
    "duration": 8,
    "start_time": "2022-05-19T19:23:32.804Z"
   },
   {
    "duration": 10,
    "start_time": "2022-05-19T19:23:32.814Z"
   },
   {
    "duration": 396,
    "start_time": "2022-05-19T19:23:32.825Z"
   },
   {
    "duration": 1363,
    "start_time": "2022-05-19T19:24:40.083Z"
   },
   {
    "duration": 54,
    "start_time": "2022-05-19T19:24:41.448Z"
   },
   {
    "duration": 4,
    "start_time": "2022-05-19T19:24:41.503Z"
   },
   {
    "duration": 26,
    "start_time": "2022-05-19T19:24:41.509Z"
   },
   {
    "duration": 5,
    "start_time": "2022-05-19T19:24:41.538Z"
   },
   {
    "duration": 18,
    "start_time": "2022-05-19T19:24:41.546Z"
   },
   {
    "duration": 18,
    "start_time": "2022-05-19T19:24:41.566Z"
   },
   {
    "duration": 14,
    "start_time": "2022-05-19T19:24:41.586Z"
   },
   {
    "duration": 584,
    "start_time": "2022-05-19T19:24:41.602Z"
   },
   {
    "duration": 13,
    "start_time": "2022-05-19T19:24:42.187Z"
   },
   {
    "duration": 14,
    "start_time": "2022-05-19T19:24:42.201Z"
   },
   {
    "duration": 421,
    "start_time": "2022-05-19T19:24:42.217Z"
   },
   {
    "duration": 211,
    "start_time": "2022-05-19T19:24:42.640Z"
   },
   {
    "duration": 201,
    "start_time": "2022-05-19T19:24:42.854Z"
   },
   {
    "duration": 274,
    "start_time": "2022-05-19T19:24:43.057Z"
   },
   {
    "duration": 5,
    "start_time": "2022-05-19T19:24:43.332Z"
   },
   {
    "duration": 7,
    "start_time": "2022-05-19T19:24:43.338Z"
   },
   {
    "duration": 367,
    "start_time": "2022-05-19T19:24:43.346Z"
   },
   {
    "duration": 1414,
    "start_time": "2022-05-19T19:25:00.880Z"
   },
   {
    "duration": 45,
    "start_time": "2022-05-19T19:25:02.296Z"
   },
   {
    "duration": 3,
    "start_time": "2022-05-19T19:25:02.343Z"
   },
   {
    "duration": 20,
    "start_time": "2022-05-19T19:25:02.347Z"
   },
   {
    "duration": 3,
    "start_time": "2022-05-19T19:25:02.369Z"
   },
   {
    "duration": 16,
    "start_time": "2022-05-19T19:25:02.373Z"
   },
   {
    "duration": 21,
    "start_time": "2022-05-19T19:25:02.391Z"
   },
   {
    "duration": 8,
    "start_time": "2022-05-19T19:25:02.414Z"
   },
   {
    "duration": 555,
    "start_time": "2022-05-19T19:25:02.424Z"
   },
   {
    "duration": 11,
    "start_time": "2022-05-19T19:25:02.982Z"
   },
   {
    "duration": 19,
    "start_time": "2022-05-19T19:25:02.995Z"
   },
   {
    "duration": 411,
    "start_time": "2022-05-19T19:25:03.015Z"
   },
   {
    "duration": 203,
    "start_time": "2022-05-19T19:25:03.428Z"
   },
   {
    "duration": 204,
    "start_time": "2022-05-19T19:25:03.633Z"
   },
   {
    "duration": 281,
    "start_time": "2022-05-19T19:25:03.839Z"
   },
   {
    "duration": 4,
    "start_time": "2022-05-19T19:25:04.121Z"
   },
   {
    "duration": 6,
    "start_time": "2022-05-19T19:25:04.127Z"
   },
   {
    "duration": 187,
    "start_time": "2022-05-19T19:25:04.135Z"
   },
   {
    "duration": 4,
    "start_time": "2022-05-19T19:25:41.027Z"
   },
   {
    "duration": 1312,
    "start_time": "2022-05-19T19:25:47.408Z"
   },
   {
    "duration": 45,
    "start_time": "2022-05-19T19:25:48.722Z"
   },
   {
    "duration": 4,
    "start_time": "2022-05-19T19:25:48.771Z"
   },
   {
    "duration": 22,
    "start_time": "2022-05-19T19:25:48.776Z"
   },
   {
    "duration": 3,
    "start_time": "2022-05-19T19:25:48.799Z"
   },
   {
    "duration": 13,
    "start_time": "2022-05-19T19:25:48.803Z"
   },
   {
    "duration": 8,
    "start_time": "2022-05-19T19:25:48.818Z"
   },
   {
    "duration": 7,
    "start_time": "2022-05-19T19:25:48.827Z"
   },
   {
    "duration": 562,
    "start_time": "2022-05-19T19:25:48.836Z"
   },
   {
    "duration": 14,
    "start_time": "2022-05-19T19:25:49.400Z"
   },
   {
    "duration": 5,
    "start_time": "2022-05-19T19:25:49.416Z"
   },
   {
    "duration": 419,
    "start_time": "2022-05-19T19:25:49.423Z"
   },
   {
    "duration": 200,
    "start_time": "2022-05-19T19:25:49.843Z"
   },
   {
    "duration": 207,
    "start_time": "2022-05-19T19:25:50.045Z"
   },
   {
    "duration": 291,
    "start_time": "2022-05-19T19:25:50.254Z"
   },
   {
    "duration": 5,
    "start_time": "2022-05-19T19:25:50.546Z"
   },
   {
    "duration": 6,
    "start_time": "2022-05-19T19:25:50.552Z"
   },
   {
    "duration": 145,
    "start_time": "2022-05-19T19:25:50.559Z"
   },
   {
    "duration": 6,
    "start_time": "2022-05-19T19:26:47.268Z"
   },
   {
    "duration": 5,
    "start_time": "2022-05-19T19:26:47.694Z"
   },
   {
    "duration": 368,
    "start_time": "2022-05-19T19:26:50.651Z"
   },
   {
    "duration": 708,
    "start_time": "2022-05-19T19:27:46.494Z"
   },
   {
    "duration": 561,
    "start_time": "2022-05-19T19:28:07.477Z"
   },
   {
    "duration": 540,
    "start_time": "2022-05-19T19:28:37.485Z"
   },
   {
    "duration": 240,
    "start_time": "2022-05-19T19:29:31.805Z"
   },
   {
    "duration": 284,
    "start_time": "2022-05-19T19:29:51.479Z"
   },
   {
    "duration": 241,
    "start_time": "2022-05-19T19:30:00.503Z"
   },
   {
    "duration": 1346,
    "start_time": "2022-05-19T19:31:09.223Z"
   },
   {
    "duration": 47,
    "start_time": "2022-05-19T19:31:10.572Z"
   },
   {
    "duration": 3,
    "start_time": "2022-05-19T19:31:10.621Z"
   },
   {
    "duration": 43,
    "start_time": "2022-05-19T19:31:10.625Z"
   },
   {
    "duration": 7,
    "start_time": "2022-05-19T19:31:10.670Z"
   },
   {
    "duration": 37,
    "start_time": "2022-05-19T19:31:10.678Z"
   },
   {
    "duration": 11,
    "start_time": "2022-05-19T19:31:10.717Z"
   },
   {
    "duration": 20,
    "start_time": "2022-05-19T19:31:10.730Z"
   },
   {
    "duration": 407,
    "start_time": "2022-05-19T19:31:10.751Z"
   },
   {
    "duration": 13,
    "start_time": "2022-05-19T19:31:11.159Z"
   },
   {
    "duration": 6,
    "start_time": "2022-05-19T19:31:11.174Z"
   },
   {
    "duration": 394,
    "start_time": "2022-05-19T19:31:15.624Z"
   },
   {
    "duration": 1279,
    "start_time": "2022-05-19T19:32:39.250Z"
   },
   {
    "duration": 55,
    "start_time": "2022-05-19T19:32:40.532Z"
   },
   {
    "duration": 3,
    "start_time": "2022-05-19T19:32:40.589Z"
   },
   {
    "duration": 20,
    "start_time": "2022-05-19T19:32:40.594Z"
   },
   {
    "duration": 3,
    "start_time": "2022-05-19T19:32:40.615Z"
   },
   {
    "duration": 12,
    "start_time": "2022-05-19T19:32:40.619Z"
   },
   {
    "duration": 15,
    "start_time": "2022-05-19T19:32:40.632Z"
   },
   {
    "duration": 9,
    "start_time": "2022-05-19T19:32:40.648Z"
   },
   {
    "duration": 392,
    "start_time": "2022-05-19T19:32:40.658Z"
   },
   {
    "duration": 12,
    "start_time": "2022-05-19T19:32:41.051Z"
   },
   {
    "duration": 7,
    "start_time": "2022-05-19T19:32:41.064Z"
   },
   {
    "duration": 393,
    "start_time": "2022-05-19T19:32:41.072Z"
   },
   {
    "duration": 292,
    "start_time": "2022-05-19T19:32:41.467Z"
   },
   {
    "duration": 213,
    "start_time": "2022-05-19T19:32:41.762Z"
   },
   {
    "duration": 298,
    "start_time": "2022-05-19T19:32:41.976Z"
   },
   {
    "duration": 5,
    "start_time": "2022-05-19T19:32:42.275Z"
   },
   {
    "duration": 7,
    "start_time": "2022-05-19T19:32:42.281Z"
   },
   {
    "duration": 328,
    "start_time": "2022-05-19T19:32:42.290Z"
   },
   {
    "duration": 1327,
    "start_time": "2022-05-19T19:33:58.098Z"
   },
   {
    "duration": 52,
    "start_time": "2022-05-19T19:33:59.427Z"
   },
   {
    "duration": 3,
    "start_time": "2022-05-19T19:33:59.481Z"
   },
   {
    "duration": 22,
    "start_time": "2022-05-19T19:33:59.487Z"
   },
   {
    "duration": 3,
    "start_time": "2022-05-19T19:33:59.510Z"
   },
   {
    "duration": 12,
    "start_time": "2022-05-19T19:33:59.514Z"
   },
   {
    "duration": 10,
    "start_time": "2022-05-19T19:33:59.528Z"
   },
   {
    "duration": 13,
    "start_time": "2022-05-19T19:33:59.539Z"
   },
   {
    "duration": 425,
    "start_time": "2022-05-19T19:33:59.553Z"
   },
   {
    "duration": 13,
    "start_time": "2022-05-19T19:33:59.981Z"
   },
   {
    "duration": 27,
    "start_time": "2022-05-19T19:33:59.995Z"
   },
   {
    "duration": 381,
    "start_time": "2022-05-19T19:34:00.024Z"
   },
   {
    "duration": 214,
    "start_time": "2022-05-19T19:34:00.406Z"
   },
   {
    "duration": 215,
    "start_time": "2022-05-19T19:34:00.622Z"
   },
   {
    "duration": 304,
    "start_time": "2022-05-19T19:34:00.838Z"
   },
   {
    "duration": 5,
    "start_time": "2022-05-19T19:34:01.144Z"
   },
   {
    "duration": 15,
    "start_time": "2022-05-19T19:34:01.150Z"
   },
   {
    "duration": 448,
    "start_time": "2022-05-19T19:34:01.167Z"
   },
   {
    "duration": 1319,
    "start_time": "2022-05-19T19:36:07.121Z"
   },
   {
    "duration": 46,
    "start_time": "2022-05-19T19:36:08.442Z"
   },
   {
    "duration": 4,
    "start_time": "2022-05-19T19:36:08.489Z"
   },
   {
    "duration": 22,
    "start_time": "2022-05-19T19:36:08.495Z"
   },
   {
    "duration": 3,
    "start_time": "2022-05-19T19:36:08.519Z"
   },
   {
    "duration": 18,
    "start_time": "2022-05-19T19:36:08.524Z"
   },
   {
    "duration": 15,
    "start_time": "2022-05-19T19:36:08.544Z"
   },
   {
    "duration": 11,
    "start_time": "2022-05-19T19:36:08.561Z"
   },
   {
    "duration": 388,
    "start_time": "2022-05-19T19:36:08.574Z"
   },
   {
    "duration": 14,
    "start_time": "2022-05-19T19:36:08.963Z"
   },
   {
    "duration": 6,
    "start_time": "2022-05-19T19:36:08.978Z"
   },
   {
    "duration": 372,
    "start_time": "2022-05-19T19:36:08.985Z"
   },
   {
    "duration": 233,
    "start_time": "2022-05-19T19:36:09.359Z"
   },
   {
    "duration": 208,
    "start_time": "2022-05-19T19:36:09.594Z"
   },
   {
    "duration": 292,
    "start_time": "2022-05-19T19:36:09.803Z"
   },
   {
    "duration": 5,
    "start_time": "2022-05-19T19:36:10.097Z"
   },
   {
    "duration": 9,
    "start_time": "2022-05-19T19:36:10.104Z"
   },
   {
    "duration": 298,
    "start_time": "2022-05-19T19:36:10.115Z"
   },
   {
    "duration": 1370,
    "start_time": "2022-05-19T19:37:12.579Z"
   },
   {
    "duration": 46,
    "start_time": "2022-05-19T19:37:13.951Z"
   },
   {
    "duration": 4,
    "start_time": "2022-05-19T19:37:13.998Z"
   },
   {
    "duration": 20,
    "start_time": "2022-05-19T19:37:14.003Z"
   },
   {
    "duration": 3,
    "start_time": "2022-05-19T19:37:14.025Z"
   },
   {
    "duration": 16,
    "start_time": "2022-05-19T19:37:14.030Z"
   },
   {
    "duration": 10,
    "start_time": "2022-05-19T19:37:14.048Z"
   },
   {
    "duration": 11,
    "start_time": "2022-05-19T19:37:14.060Z"
   },
   {
    "duration": 433,
    "start_time": "2022-05-19T19:37:14.073Z"
   },
   {
    "duration": 14,
    "start_time": "2022-05-19T19:37:14.507Z"
   },
   {
    "duration": 7,
    "start_time": "2022-05-19T19:37:14.523Z"
   },
   {
    "duration": 389,
    "start_time": "2022-05-19T19:37:14.531Z"
   },
   {
    "duration": 219,
    "start_time": "2022-05-19T19:37:14.922Z"
   },
   {
    "duration": 226,
    "start_time": "2022-05-19T19:37:15.143Z"
   },
   {
    "duration": 314,
    "start_time": "2022-05-19T19:37:15.370Z"
   },
   {
    "duration": 5,
    "start_time": "2022-05-19T19:37:15.685Z"
   },
   {
    "duration": 6,
    "start_time": "2022-05-19T19:37:15.692Z"
   },
   {
    "duration": 315,
    "start_time": "2022-05-19T19:37:15.699Z"
   },
   {
    "duration": 332,
    "start_time": "2022-05-19T19:38:08.789Z"
   },
   {
    "duration": 1494,
    "start_time": "2022-05-19T19:41:07.084Z"
   },
   {
    "duration": 50,
    "start_time": "2022-05-19T19:41:08.580Z"
   },
   {
    "duration": 3,
    "start_time": "2022-05-19T19:41:08.631Z"
   },
   {
    "duration": 19,
    "start_time": "2022-05-19T19:41:08.636Z"
   },
   {
    "duration": 3,
    "start_time": "2022-05-19T19:41:08.657Z"
   },
   {
    "duration": 13,
    "start_time": "2022-05-19T19:41:08.662Z"
   },
   {
    "duration": 10,
    "start_time": "2022-05-19T19:41:08.677Z"
   },
   {
    "duration": 29,
    "start_time": "2022-05-19T19:41:08.688Z"
   },
   {
    "duration": 411,
    "start_time": "2022-05-19T19:41:08.719Z"
   },
   {
    "duration": 12,
    "start_time": "2022-05-19T19:41:09.132Z"
   },
   {
    "duration": 5,
    "start_time": "2022-05-19T19:41:09.146Z"
   },
   {
    "duration": 389,
    "start_time": "2022-05-19T19:41:09.153Z"
   },
   {
    "duration": 227,
    "start_time": "2022-05-19T19:41:09.544Z"
   },
   {
    "duration": 214,
    "start_time": "2022-05-19T19:41:09.773Z"
   },
   {
    "duration": 297,
    "start_time": "2022-05-19T19:41:09.989Z"
   },
   {
    "duration": 6,
    "start_time": "2022-05-19T19:41:10.288Z"
   },
   {
    "duration": 16,
    "start_time": "2022-05-19T19:41:10.296Z"
   },
   {
    "duration": 500,
    "start_time": "2022-05-19T19:41:10.313Z"
   },
   {
    "duration": 328,
    "start_time": "2022-05-19T19:41:10.816Z"
   },
   {
    "duration": 36,
    "start_time": "2022-05-19T19:41:40.619Z"
   },
   {
    "duration": 34,
    "start_time": "2022-05-19T19:41:55.518Z"
   },
   {
    "duration": 29,
    "start_time": "2022-05-19T19:42:05.129Z"
   },
   {
    "duration": 1327,
    "start_time": "2022-05-19T19:42:59.916Z"
   },
   {
    "duration": 47,
    "start_time": "2022-05-19T19:43:01.246Z"
   },
   {
    "duration": 3,
    "start_time": "2022-05-19T19:43:01.294Z"
   },
   {
    "duration": 28,
    "start_time": "2022-05-19T19:43:01.299Z"
   },
   {
    "duration": 3,
    "start_time": "2022-05-19T19:43:01.329Z"
   },
   {
    "duration": 13,
    "start_time": "2022-05-19T19:43:01.333Z"
   },
   {
    "duration": 14,
    "start_time": "2022-05-19T19:43:01.347Z"
   },
   {
    "duration": 11,
    "start_time": "2022-05-19T19:43:01.363Z"
   },
   {
    "duration": 486,
    "start_time": "2022-05-19T19:43:01.376Z"
   },
   {
    "duration": 14,
    "start_time": "2022-05-19T19:43:01.863Z"
   },
   {
    "duration": 6,
    "start_time": "2022-05-19T19:43:01.879Z"
   },
   {
    "duration": 392,
    "start_time": "2022-05-19T19:43:01.887Z"
   },
   {
    "duration": 208,
    "start_time": "2022-05-19T19:43:02.281Z"
   },
   {
    "duration": 198,
    "start_time": "2022-05-19T19:43:02.492Z"
   },
   {
    "duration": 283,
    "start_time": "2022-05-19T19:43:02.691Z"
   },
   {
    "duration": 5,
    "start_time": "2022-05-19T19:43:02.976Z"
   },
   {
    "duration": 11,
    "start_time": "2022-05-19T19:43:02.982Z"
   },
   {
    "duration": 326,
    "start_time": "2022-05-19T19:43:02.994Z"
   },
   {
    "duration": 119,
    "start_time": "2022-05-19T19:43:03.321Z"
   },
   {
    "duration": 1303,
    "start_time": "2022-05-19T19:43:37.222Z"
   },
   {
    "duration": 46,
    "start_time": "2022-05-19T19:43:38.527Z"
   },
   {
    "duration": 2,
    "start_time": "2022-05-19T19:43:38.575Z"
   },
   {
    "duration": 20,
    "start_time": "2022-05-19T19:43:38.579Z"
   },
   {
    "duration": 2,
    "start_time": "2022-05-19T19:43:38.601Z"
   },
   {
    "duration": 14,
    "start_time": "2022-05-19T19:43:38.605Z"
   },
   {
    "duration": 9,
    "start_time": "2022-05-19T19:43:38.620Z"
   },
   {
    "duration": 8,
    "start_time": "2022-05-19T19:43:38.630Z"
   },
   {
    "duration": 371,
    "start_time": "2022-05-19T19:43:38.639Z"
   },
   {
    "duration": 13,
    "start_time": "2022-05-19T19:43:39.012Z"
   },
   {
    "duration": 7,
    "start_time": "2022-05-19T19:43:39.026Z"
   },
   {
    "duration": 406,
    "start_time": "2022-05-19T19:43:39.034Z"
   },
   {
    "duration": 221,
    "start_time": "2022-05-19T19:43:39.442Z"
   },
   {
    "duration": 202,
    "start_time": "2022-05-19T19:43:39.664Z"
   },
   {
    "duration": 292,
    "start_time": "2022-05-19T19:43:39.867Z"
   },
   {
    "duration": 5,
    "start_time": "2022-05-19T19:43:40.160Z"
   },
   {
    "duration": 8,
    "start_time": "2022-05-19T19:43:40.166Z"
   },
   {
    "duration": 442,
    "start_time": "2022-05-19T19:43:40.175Z"
   },
   {
    "duration": 215,
    "start_time": "2022-05-19T19:43:40.619Z"
   },
   {
    "duration": 1308,
    "start_time": "2022-05-19T19:44:05.615Z"
   },
   {
    "duration": 47,
    "start_time": "2022-05-19T19:44:06.925Z"
   },
   {
    "duration": 3,
    "start_time": "2022-05-19T19:44:06.974Z"
   },
   {
    "duration": 21,
    "start_time": "2022-05-19T19:44:06.979Z"
   },
   {
    "duration": 3,
    "start_time": "2022-05-19T19:44:07.003Z"
   },
   {
    "duration": 16,
    "start_time": "2022-05-19T19:44:07.008Z"
   },
   {
    "duration": 9,
    "start_time": "2022-05-19T19:44:07.026Z"
   },
   {
    "duration": 8,
    "start_time": "2022-05-19T19:44:07.037Z"
   },
   {
    "duration": 419,
    "start_time": "2022-05-19T19:44:07.047Z"
   },
   {
    "duration": 12,
    "start_time": "2022-05-19T19:44:07.468Z"
   },
   {
    "duration": 7,
    "start_time": "2022-05-19T19:44:07.481Z"
   },
   {
    "duration": 381,
    "start_time": "2022-05-19T19:44:07.490Z"
   },
   {
    "duration": 206,
    "start_time": "2022-05-19T19:44:07.873Z"
   },
   {
    "duration": 207,
    "start_time": "2022-05-19T19:44:08.081Z"
   },
   {
    "duration": 292,
    "start_time": "2022-05-19T19:44:08.289Z"
   },
   {
    "duration": 5,
    "start_time": "2022-05-19T19:44:08.582Z"
   },
   {
    "duration": 7,
    "start_time": "2022-05-19T19:44:08.588Z"
   },
   {
    "duration": 422,
    "start_time": "2022-05-19T19:44:08.597Z"
   },
   {
    "duration": 216,
    "start_time": "2022-05-19T19:44:09.021Z"
   },
   {
    "duration": 1364,
    "start_time": "2022-05-19T19:45:01.648Z"
   },
   {
    "duration": 45,
    "start_time": "2022-05-19T19:45:03.014Z"
   },
   {
    "duration": 3,
    "start_time": "2022-05-19T19:45:03.061Z"
   },
   {
    "duration": 21,
    "start_time": "2022-05-19T19:45:03.065Z"
   },
   {
    "duration": 2,
    "start_time": "2022-05-19T19:45:03.088Z"
   },
   {
    "duration": 12,
    "start_time": "2022-05-19T19:45:03.092Z"
   },
   {
    "duration": 9,
    "start_time": "2022-05-19T19:45:03.105Z"
   },
   {
    "duration": 8,
    "start_time": "2022-05-19T19:45:03.116Z"
   },
   {
    "duration": 433,
    "start_time": "2022-05-19T19:45:03.125Z"
   },
   {
    "duration": 14,
    "start_time": "2022-05-19T19:45:03.560Z"
   },
   {
    "duration": 13,
    "start_time": "2022-05-19T19:45:03.576Z"
   },
   {
    "duration": 445,
    "start_time": "2022-05-19T19:45:03.591Z"
   },
   {
    "duration": 275,
    "start_time": "2022-05-19T19:45:04.039Z"
   },
   {
    "duration": 237,
    "start_time": "2022-05-19T19:45:04.316Z"
   },
   {
    "duration": 330,
    "start_time": "2022-05-19T19:45:04.555Z"
   },
   {
    "duration": 5,
    "start_time": "2022-05-19T19:45:04.888Z"
   },
   {
    "duration": 18,
    "start_time": "2022-05-19T19:45:04.894Z"
   },
   {
    "duration": 407,
    "start_time": "2022-05-19T19:45:04.914Z"
   },
   {
    "duration": 158,
    "start_time": "2022-05-19T19:45:05.414Z"
   },
   {
    "duration": 1338,
    "start_time": "2022-05-19T19:45:21.721Z"
   },
   {
    "duration": 47,
    "start_time": "2022-05-19T19:45:23.061Z"
   },
   {
    "duration": 3,
    "start_time": "2022-05-19T19:45:23.110Z"
   },
   {
    "duration": 28,
    "start_time": "2022-05-19T19:45:23.116Z"
   },
   {
    "duration": 3,
    "start_time": "2022-05-19T19:45:23.146Z"
   },
   {
    "duration": 15,
    "start_time": "2022-05-19T19:45:23.151Z"
   },
   {
    "duration": 10,
    "start_time": "2022-05-19T19:45:23.167Z"
   },
   {
    "duration": 8,
    "start_time": "2022-05-19T19:45:23.179Z"
   },
   {
    "duration": 370,
    "start_time": "2022-05-19T19:45:23.188Z"
   },
   {
    "duration": 12,
    "start_time": "2022-05-19T19:45:23.559Z"
   },
   {
    "duration": 5,
    "start_time": "2022-05-19T19:45:23.573Z"
   },
   {
    "duration": 375,
    "start_time": "2022-05-19T19:45:23.580Z"
   },
   {
    "duration": 213,
    "start_time": "2022-05-19T19:45:23.956Z"
   },
   {
    "duration": 205,
    "start_time": "2022-05-19T19:45:24.171Z"
   },
   {
    "duration": 290,
    "start_time": "2022-05-19T19:45:24.377Z"
   },
   {
    "duration": 7,
    "start_time": "2022-05-19T19:45:24.669Z"
   },
   {
    "duration": 10,
    "start_time": "2022-05-19T19:45:24.677Z"
   },
   {
    "duration": 1025,
    "start_time": "2022-05-19T19:45:24.689Z"
   },
   {
    "duration": 398,
    "start_time": "2022-05-19T19:45:25.716Z"
   },
   {
    "duration": 1408,
    "start_time": "2022-05-19T19:46:01.771Z"
   },
   {
    "duration": 45,
    "start_time": "2022-05-19T19:46:03.181Z"
   },
   {
    "duration": 3,
    "start_time": "2022-05-19T19:46:03.228Z"
   },
   {
    "duration": 23,
    "start_time": "2022-05-19T19:46:03.232Z"
   },
   {
    "duration": 3,
    "start_time": "2022-05-19T19:46:03.257Z"
   },
   {
    "duration": 17,
    "start_time": "2022-05-19T19:46:03.262Z"
   },
   {
    "duration": 31,
    "start_time": "2022-05-19T19:46:03.281Z"
   },
   {
    "duration": 9,
    "start_time": "2022-05-19T19:46:03.314Z"
   },
   {
    "duration": 417,
    "start_time": "2022-05-19T19:46:03.325Z"
   },
   {
    "duration": 12,
    "start_time": "2022-05-19T19:46:03.744Z"
   },
   {
    "duration": 9,
    "start_time": "2022-05-19T19:46:03.757Z"
   },
   {
    "duration": 417,
    "start_time": "2022-05-19T19:46:03.768Z"
   },
   {
    "duration": 215,
    "start_time": "2022-05-19T19:46:04.187Z"
   },
   {
    "duration": 204,
    "start_time": "2022-05-19T19:46:04.411Z"
   },
   {
    "duration": 301,
    "start_time": "2022-05-19T19:46:04.617Z"
   },
   {
    "duration": 5,
    "start_time": "2022-05-19T19:46:04.919Z"
   },
   {
    "duration": 9,
    "start_time": "2022-05-19T19:46:04.925Z"
   },
   {
    "duration": 386,
    "start_time": "2022-05-19T19:46:04.935Z"
   },
   {
    "duration": 306,
    "start_time": "2022-05-19T19:46:05.413Z"
   },
   {
    "duration": 1292,
    "start_time": "2022-05-19T19:46:41.571Z"
   },
   {
    "duration": 47,
    "start_time": "2022-05-19T19:46:42.865Z"
   },
   {
    "duration": 4,
    "start_time": "2022-05-19T19:46:42.913Z"
   },
   {
    "duration": 48,
    "start_time": "2022-05-19T19:46:42.918Z"
   },
   {
    "duration": 22,
    "start_time": "2022-05-19T19:46:42.968Z"
   },
   {
    "duration": 39,
    "start_time": "2022-05-19T19:46:42.991Z"
   },
   {
    "duration": 45,
    "start_time": "2022-05-19T19:46:43.032Z"
   },
   {
    "duration": 33,
    "start_time": "2022-05-19T19:46:43.079Z"
   },
   {
    "duration": 380,
    "start_time": "2022-05-19T19:46:43.114Z"
   },
   {
    "duration": 12,
    "start_time": "2022-05-19T19:46:43.496Z"
   },
   {
    "duration": 18,
    "start_time": "2022-05-19T19:46:43.510Z"
   },
   {
    "duration": 396,
    "start_time": "2022-05-19T19:46:43.530Z"
   },
   {
    "duration": 206,
    "start_time": "2022-05-19T19:46:43.927Z"
   },
   {
    "duration": 204,
    "start_time": "2022-05-19T19:46:44.135Z"
   },
   {
    "duration": 299,
    "start_time": "2022-05-19T19:46:44.340Z"
   },
   {
    "duration": 5,
    "start_time": "2022-05-19T19:46:44.641Z"
   },
   {
    "duration": 10,
    "start_time": "2022-05-19T19:46:44.647Z"
   },
   {
    "duration": 558,
    "start_time": "2022-05-19T19:46:44.659Z"
   },
   {
    "duration": 302,
    "start_time": "2022-05-19T19:46:45.219Z"
   },
   {
    "duration": 1386,
    "start_time": "2022-05-19T19:47:30.193Z"
   },
   {
    "duration": 52,
    "start_time": "2022-05-19T19:47:31.581Z"
   },
   {
    "duration": 3,
    "start_time": "2022-05-19T19:47:31.636Z"
   },
   {
    "duration": 24,
    "start_time": "2022-05-19T19:47:31.643Z"
   },
   {
    "duration": 4,
    "start_time": "2022-05-19T19:47:31.669Z"
   },
   {
    "duration": 16,
    "start_time": "2022-05-19T19:47:31.675Z"
   },
   {
    "duration": 24,
    "start_time": "2022-05-19T19:47:31.692Z"
   },
   {
    "duration": 14,
    "start_time": "2022-05-19T19:47:31.718Z"
   },
   {
    "duration": 404,
    "start_time": "2022-05-19T19:47:31.734Z"
   },
   {
    "duration": 14,
    "start_time": "2022-05-19T19:47:32.140Z"
   },
   {
    "duration": 22,
    "start_time": "2022-05-19T19:47:32.156Z"
   },
   {
    "duration": 454,
    "start_time": "2022-05-19T19:47:32.180Z"
   },
   {
    "duration": 255,
    "start_time": "2022-05-19T19:47:32.636Z"
   },
   {
    "duration": 241,
    "start_time": "2022-05-19T19:47:32.893Z"
   },
   {
    "duration": 305,
    "start_time": "2022-05-19T19:47:33.136Z"
   },
   {
    "duration": 6,
    "start_time": "2022-05-19T19:47:33.443Z"
   },
   {
    "duration": 34,
    "start_time": "2022-05-19T19:47:33.451Z"
   },
   {
    "duration": 830,
    "start_time": "2022-05-19T19:47:33.487Z"
   },
   {
    "duration": 395,
    "start_time": "2022-05-19T19:47:34.320Z"
   },
   {
    "duration": 6,
    "start_time": "2022-05-19T19:48:48.378Z"
   },
   {
    "duration": 1334,
    "start_time": "2022-05-19T19:48:55.799Z"
   },
   {
    "duration": 51,
    "start_time": "2022-05-19T19:48:57.135Z"
   },
   {
    "duration": 3,
    "start_time": "2022-05-19T19:48:57.188Z"
   },
   {
    "duration": 19,
    "start_time": "2022-05-19T19:48:57.193Z"
   },
   {
    "duration": 2,
    "start_time": "2022-05-19T19:48:57.214Z"
   },
   {
    "duration": 13,
    "start_time": "2022-05-19T19:48:57.218Z"
   },
   {
    "duration": 11,
    "start_time": "2022-05-19T19:48:57.233Z"
   },
   {
    "duration": 12,
    "start_time": "2022-05-19T19:48:57.246Z"
   },
   {
    "duration": 418,
    "start_time": "2022-05-19T19:48:57.260Z"
   },
   {
    "duration": 14,
    "start_time": "2022-05-19T19:48:57.680Z"
   },
   {
    "duration": 6,
    "start_time": "2022-05-19T19:48:57.696Z"
   },
   {
    "duration": 384,
    "start_time": "2022-05-19T19:48:57.703Z"
   },
   {
    "duration": 219,
    "start_time": "2022-05-19T19:48:58.089Z"
   },
   {
    "duration": 216,
    "start_time": "2022-05-19T19:48:58.310Z"
   },
   {
    "duration": 293,
    "start_time": "2022-05-19T19:48:58.528Z"
   },
   {
    "duration": 6,
    "start_time": "2022-05-19T19:48:58.823Z"
   },
   {
    "duration": 6,
    "start_time": "2022-05-19T19:48:58.831Z"
   },
   {
    "duration": 1180,
    "start_time": "2022-05-19T19:48:58.838Z"
   },
   {
    "duration": 397,
    "start_time": "2022-05-19T19:49:00.020Z"
   },
   {
    "duration": 1306,
    "start_time": "2022-05-19T19:50:08.429Z"
   },
   {
    "duration": 46,
    "start_time": "2022-05-19T19:50:09.737Z"
   },
   {
    "duration": 3,
    "start_time": "2022-05-19T19:50:09.784Z"
   },
   {
    "duration": 20,
    "start_time": "2022-05-19T19:50:09.789Z"
   },
   {
    "duration": 3,
    "start_time": "2022-05-19T19:50:09.811Z"
   },
   {
    "duration": 12,
    "start_time": "2022-05-19T19:50:09.815Z"
   },
   {
    "duration": 9,
    "start_time": "2022-05-19T19:50:09.829Z"
   },
   {
    "duration": 7,
    "start_time": "2022-05-19T19:50:09.840Z"
   },
   {
    "duration": 397,
    "start_time": "2022-05-19T19:50:09.849Z"
   },
   {
    "duration": 12,
    "start_time": "2022-05-19T19:50:10.248Z"
   },
   {
    "duration": 9,
    "start_time": "2022-05-19T19:50:10.262Z"
   },
   {
    "duration": 385,
    "start_time": "2022-05-19T19:50:10.272Z"
   },
   {
    "duration": 208,
    "start_time": "2022-05-19T19:50:10.658Z"
   },
   {
    "duration": 215,
    "start_time": "2022-05-19T19:50:10.868Z"
   },
   {
    "duration": 288,
    "start_time": "2022-05-19T19:50:11.085Z"
   },
   {
    "duration": 4,
    "start_time": "2022-05-19T19:50:11.375Z"
   },
   {
    "duration": 30,
    "start_time": "2022-05-19T19:50:11.381Z"
   },
   {
    "duration": 904,
    "start_time": "2022-05-19T19:50:11.413Z"
   },
   {
    "duration": 303,
    "start_time": "2022-05-19T19:50:12.319Z"
   },
   {
    "duration": 1353,
    "start_time": "2022-05-19T19:50:39.090Z"
   },
   {
    "duration": 49,
    "start_time": "2022-05-19T19:50:40.445Z"
   },
   {
    "duration": 4,
    "start_time": "2022-05-19T19:50:40.495Z"
   },
   {
    "duration": 18,
    "start_time": "2022-05-19T19:50:40.500Z"
   },
   {
    "duration": 3,
    "start_time": "2022-05-19T19:50:40.520Z"
   },
   {
    "duration": 15,
    "start_time": "2022-05-19T19:50:40.524Z"
   },
   {
    "duration": 13,
    "start_time": "2022-05-19T19:50:40.541Z"
   },
   {
    "duration": 12,
    "start_time": "2022-05-19T19:50:40.555Z"
   },
   {
    "duration": 394,
    "start_time": "2022-05-19T19:50:40.568Z"
   },
   {
    "duration": 12,
    "start_time": "2022-05-19T19:50:40.963Z"
   },
   {
    "duration": 7,
    "start_time": "2022-05-19T19:50:40.977Z"
   },
   {
    "duration": 388,
    "start_time": "2022-05-19T19:50:40.986Z"
   },
   {
    "duration": 300,
    "start_time": "2022-05-19T19:50:41.376Z"
   },
   {
    "duration": 228,
    "start_time": "2022-05-19T19:50:41.679Z"
   },
   {
    "duration": 300,
    "start_time": "2022-05-19T19:50:41.912Z"
   },
   {
    "duration": 4,
    "start_time": "2022-05-19T19:50:42.213Z"
   },
   {
    "duration": 9,
    "start_time": "2022-05-19T19:50:42.219Z"
   },
   {
    "duration": 393,
    "start_time": "2022-05-19T19:50:42.229Z"
   },
   {
    "duration": 28,
    "start_time": "2022-05-19T19:50:42.624Z"
   },
   {
    "duration": 1422,
    "start_time": "2022-05-19T19:51:35.160Z"
   },
   {
    "duration": 51,
    "start_time": "2022-05-19T19:51:36.584Z"
   },
   {
    "duration": 3,
    "start_time": "2022-05-19T19:51:36.637Z"
   },
   {
    "duration": 27,
    "start_time": "2022-05-19T19:51:36.642Z"
   },
   {
    "duration": 4,
    "start_time": "2022-05-19T19:51:36.673Z"
   },
   {
    "duration": 21,
    "start_time": "2022-05-19T19:51:36.679Z"
   },
   {
    "duration": 18,
    "start_time": "2022-05-19T19:51:36.702Z"
   },
   {
    "duration": 24,
    "start_time": "2022-05-19T19:51:36.722Z"
   },
   {
    "duration": 402,
    "start_time": "2022-05-19T19:51:36.748Z"
   },
   {
    "duration": 14,
    "start_time": "2022-05-19T19:51:37.151Z"
   },
   {
    "duration": 7,
    "start_time": "2022-05-19T19:51:37.167Z"
   },
   {
    "duration": 430,
    "start_time": "2022-05-19T19:51:37.176Z"
   },
   {
    "duration": 213,
    "start_time": "2022-05-19T19:51:37.607Z"
   },
   {
    "duration": 205,
    "start_time": "2022-05-19T19:51:37.823Z"
   },
   {
    "duration": 290,
    "start_time": "2022-05-19T19:51:38.029Z"
   },
   {
    "duration": 5,
    "start_time": "2022-05-19T19:51:38.320Z"
   },
   {
    "duration": 7,
    "start_time": "2022-05-19T19:51:38.327Z"
   },
   {
    "duration": 884,
    "start_time": "2022-05-19T19:51:38.336Z"
   },
   {
    "duration": 110,
    "start_time": "2022-05-19T19:51:39.311Z"
   },
   {
    "duration": 1321,
    "start_time": "2022-05-19T19:51:55.300Z"
   },
   {
    "duration": 46,
    "start_time": "2022-05-19T19:51:56.623Z"
   },
   {
    "duration": 3,
    "start_time": "2022-05-19T19:51:56.671Z"
   },
   {
    "duration": 20,
    "start_time": "2022-05-19T19:51:56.675Z"
   },
   {
    "duration": 3,
    "start_time": "2022-05-19T19:51:56.697Z"
   },
   {
    "duration": 16,
    "start_time": "2022-05-19T19:51:56.701Z"
   },
   {
    "duration": 9,
    "start_time": "2022-05-19T19:51:56.719Z"
   },
   {
    "duration": 10,
    "start_time": "2022-05-19T19:51:56.730Z"
   },
   {
    "duration": 405,
    "start_time": "2022-05-19T19:51:56.741Z"
   },
   {
    "duration": 12,
    "start_time": "2022-05-19T19:51:57.147Z"
   },
   {
    "duration": 8,
    "start_time": "2022-05-19T19:51:57.161Z"
   },
   {
    "duration": 465,
    "start_time": "2022-05-19T19:51:57.172Z"
   },
   {
    "duration": 213,
    "start_time": "2022-05-19T19:51:57.639Z"
   },
   {
    "duration": 207,
    "start_time": "2022-05-19T19:51:57.855Z"
   },
   {
    "duration": 284,
    "start_time": "2022-05-19T19:51:58.064Z"
   },
   {
    "duration": 5,
    "start_time": "2022-05-19T19:51:58.350Z"
   },
   {
    "duration": 16,
    "start_time": "2022-05-19T19:51:58.356Z"
   },
   {
    "duration": 349,
    "start_time": "2022-05-19T19:51:58.374Z"
   },
   {
    "duration": 302,
    "start_time": "2022-05-19T19:51:58.811Z"
   },
   {
    "duration": 1361,
    "start_time": "2022-05-19T19:52:26.800Z"
   },
   {
    "duration": 46,
    "start_time": "2022-05-19T19:52:28.163Z"
   },
   {
    "duration": 2,
    "start_time": "2022-05-19T19:52:28.211Z"
   },
   {
    "duration": 18,
    "start_time": "2022-05-19T19:52:28.215Z"
   },
   {
    "duration": 3,
    "start_time": "2022-05-19T19:52:28.235Z"
   },
   {
    "duration": 11,
    "start_time": "2022-05-19T19:52:28.239Z"
   },
   {
    "duration": 7,
    "start_time": "2022-05-19T19:52:28.252Z"
   },
   {
    "duration": 7,
    "start_time": "2022-05-19T19:52:28.261Z"
   },
   {
    "duration": 473,
    "start_time": "2022-05-19T19:52:28.269Z"
   },
   {
    "duration": 14,
    "start_time": "2022-05-19T19:52:28.744Z"
   },
   {
    "duration": 7,
    "start_time": "2022-05-19T19:52:28.759Z"
   },
   {
    "duration": 393,
    "start_time": "2022-05-19T19:52:28.768Z"
   },
   {
    "duration": 218,
    "start_time": "2022-05-19T19:52:29.162Z"
   },
   {
    "duration": 276,
    "start_time": "2022-05-19T19:52:29.383Z"
   },
   {
    "duration": 308,
    "start_time": "2022-05-19T19:52:29.661Z"
   },
   {
    "duration": 6,
    "start_time": "2022-05-19T19:52:29.971Z"
   },
   {
    "duration": 23,
    "start_time": "2022-05-19T19:52:29.978Z"
   },
   {
    "duration": 317,
    "start_time": "2022-05-19T19:52:30.003Z"
   },
   {
    "duration": 142,
    "start_time": "2022-05-19T19:52:30.412Z"
   },
   {
    "duration": 1345,
    "start_time": "2022-05-19T19:52:44.401Z"
   },
   {
    "duration": 47,
    "start_time": "2022-05-19T19:52:45.749Z"
   },
   {
    "duration": 3,
    "start_time": "2022-05-19T19:52:45.798Z"
   },
   {
    "duration": 19,
    "start_time": "2022-05-19T19:52:45.803Z"
   },
   {
    "duration": 3,
    "start_time": "2022-05-19T19:52:45.824Z"
   },
   {
    "duration": 15,
    "start_time": "2022-05-19T19:52:45.829Z"
   },
   {
    "duration": 9,
    "start_time": "2022-05-19T19:52:45.846Z"
   },
   {
    "duration": 8,
    "start_time": "2022-05-19T19:52:45.857Z"
   },
   {
    "duration": 408,
    "start_time": "2022-05-19T19:52:45.866Z"
   },
   {
    "duration": 13,
    "start_time": "2022-05-19T19:52:46.276Z"
   },
   {
    "duration": 6,
    "start_time": "2022-05-19T19:52:46.290Z"
   },
   {
    "duration": 393,
    "start_time": "2022-05-19T19:52:46.297Z"
   },
   {
    "duration": 220,
    "start_time": "2022-05-19T19:52:46.692Z"
   },
   {
    "duration": 212,
    "start_time": "2022-05-19T19:52:46.914Z"
   },
   {
    "duration": 312,
    "start_time": "2022-05-19T19:52:47.127Z"
   },
   {
    "duration": 5,
    "start_time": "2022-05-19T19:52:47.440Z"
   },
   {
    "duration": 8,
    "start_time": "2022-05-19T19:52:47.447Z"
   },
   {
    "duration": 262,
    "start_time": "2022-05-19T19:52:47.457Z"
   },
   {
    "duration": 124,
    "start_time": "2022-05-19T19:52:47.720Z"
   },
   {
    "duration": 1322,
    "start_time": "2022-05-19T19:55:01.554Z"
   },
   {
    "duration": 46,
    "start_time": "2022-05-19T19:55:02.878Z"
   },
   {
    "duration": 4,
    "start_time": "2022-05-19T19:55:02.926Z"
   },
   {
    "duration": 20,
    "start_time": "2022-05-19T19:55:02.932Z"
   },
   {
    "duration": 4,
    "start_time": "2022-05-19T19:55:02.954Z"
   },
   {
    "duration": 16,
    "start_time": "2022-05-19T19:55:02.959Z"
   },
   {
    "duration": 10,
    "start_time": "2022-05-19T19:55:02.976Z"
   },
   {
    "duration": 31,
    "start_time": "2022-05-19T19:55:02.987Z"
   },
   {
    "duration": 410,
    "start_time": "2022-05-19T19:55:03.020Z"
   },
   {
    "duration": 13,
    "start_time": "2022-05-19T19:55:03.431Z"
   },
   {
    "duration": 26,
    "start_time": "2022-05-19T19:55:03.446Z"
   },
   {
    "duration": 407,
    "start_time": "2022-05-19T19:55:03.473Z"
   },
   {
    "duration": 225,
    "start_time": "2022-05-19T19:55:03.882Z"
   },
   {
    "duration": 216,
    "start_time": "2022-05-19T19:55:04.113Z"
   },
   {
    "duration": 305,
    "start_time": "2022-05-19T19:55:04.330Z"
   },
   {
    "duration": 5,
    "start_time": "2022-05-19T19:55:04.637Z"
   },
   {
    "duration": 11,
    "start_time": "2022-05-19T19:55:04.643Z"
   },
   {
    "duration": 263,
    "start_time": "2022-05-19T19:55:04.656Z"
   },
   {
    "duration": 126,
    "start_time": "2022-05-19T19:55:04.921Z"
   },
   {
    "duration": 1478,
    "start_time": "2022-05-19T19:55:31.177Z"
   },
   {
    "duration": 48,
    "start_time": "2022-05-19T19:55:32.657Z"
   },
   {
    "duration": 3,
    "start_time": "2022-05-19T19:55:32.707Z"
   },
   {
    "duration": 22,
    "start_time": "2022-05-19T19:55:32.712Z"
   },
   {
    "duration": 3,
    "start_time": "2022-05-19T19:55:32.736Z"
   },
   {
    "duration": 15,
    "start_time": "2022-05-19T19:55:32.740Z"
   },
   {
    "duration": 10,
    "start_time": "2022-05-19T19:55:32.757Z"
   },
   {
    "duration": 10,
    "start_time": "2022-05-19T19:55:32.768Z"
   },
   {
    "duration": 438,
    "start_time": "2022-05-19T19:55:32.780Z"
   },
   {
    "duration": 13,
    "start_time": "2022-05-19T19:55:33.220Z"
   },
   {
    "duration": 6,
    "start_time": "2022-05-19T19:55:33.235Z"
   },
   {
    "duration": 456,
    "start_time": "2022-05-19T19:55:33.243Z"
   },
   {
    "duration": 250,
    "start_time": "2022-05-19T19:55:33.700Z"
   },
   {
    "duration": 242,
    "start_time": "2022-05-19T19:55:33.953Z"
   },
   {
    "duration": 321,
    "start_time": "2022-05-19T19:55:34.197Z"
   },
   {
    "duration": 6,
    "start_time": "2022-05-19T19:55:34.520Z"
   },
   {
    "duration": 10,
    "start_time": "2022-05-19T19:55:34.528Z"
   },
   {
    "duration": 778,
    "start_time": "2022-05-19T19:55:34.539Z"
   },
   {
    "duration": 224,
    "start_time": "2022-05-19T19:55:35.320Z"
   },
   {
    "duration": 1336,
    "start_time": "2022-05-19T20:00:59.453Z"
   },
   {
    "duration": 49,
    "start_time": "2022-05-19T20:01:00.791Z"
   },
   {
    "duration": 3,
    "start_time": "2022-05-19T20:01:00.841Z"
   },
   {
    "duration": 21,
    "start_time": "2022-05-19T20:01:00.845Z"
   },
   {
    "duration": 3,
    "start_time": "2022-05-19T20:01:00.868Z"
   },
   {
    "duration": 26,
    "start_time": "2022-05-19T20:01:00.872Z"
   },
   {
    "duration": 15,
    "start_time": "2022-05-19T20:01:00.899Z"
   },
   {
    "duration": 22,
    "start_time": "2022-05-19T20:01:00.915Z"
   },
   {
    "duration": 407,
    "start_time": "2022-05-19T20:01:00.939Z"
   },
   {
    "duration": 12,
    "start_time": "2022-05-19T20:01:01.347Z"
   },
   {
    "duration": 7,
    "start_time": "2022-05-19T20:01:01.361Z"
   },
   {
    "duration": 484,
    "start_time": "2022-05-19T20:01:01.370Z"
   },
   {
    "duration": 252,
    "start_time": "2022-05-19T20:01:01.856Z"
   },
   {
    "duration": 221,
    "start_time": "2022-05-19T20:01:02.111Z"
   },
   {
    "duration": 302,
    "start_time": "2022-05-19T20:01:02.334Z"
   },
   {
    "duration": 4,
    "start_time": "2022-05-19T20:01:02.638Z"
   },
   {
    "duration": 10,
    "start_time": "2022-05-19T20:01:02.644Z"
   },
   {
    "duration": 969,
    "start_time": "2022-05-19T20:01:02.656Z"
   },
   {
    "duration": 304,
    "start_time": "2022-05-19T20:01:03.711Z"
   },
   {
    "duration": 1355,
    "start_time": "2022-05-19T20:03:53.798Z"
   },
   {
    "duration": 47,
    "start_time": "2022-05-19T20:03:55.156Z"
   },
   {
    "duration": 2,
    "start_time": "2022-05-19T20:03:55.205Z"
   },
   {
    "duration": 20,
    "start_time": "2022-05-19T20:03:55.209Z"
   },
   {
    "duration": 3,
    "start_time": "2022-05-19T20:03:55.231Z"
   },
   {
    "duration": 27,
    "start_time": "2022-05-19T20:03:55.236Z"
   },
   {
    "duration": 11,
    "start_time": "2022-05-19T20:03:55.265Z"
   },
   {
    "duration": 11,
    "start_time": "2022-05-19T20:03:55.277Z"
   },
   {
    "duration": 416,
    "start_time": "2022-05-19T20:03:55.290Z"
   },
   {
    "duration": 13,
    "start_time": "2022-05-19T20:03:55.707Z"
   },
   {
    "duration": 9,
    "start_time": "2022-05-19T20:03:55.722Z"
   },
   {
    "duration": 411,
    "start_time": "2022-05-19T20:03:55.733Z"
   },
   {
    "duration": 222,
    "start_time": "2022-05-19T20:03:56.146Z"
   },
   {
    "duration": 208,
    "start_time": "2022-05-19T20:03:56.371Z"
   },
   {
    "duration": 296,
    "start_time": "2022-05-19T20:03:56.581Z"
   },
   {
    "duration": 6,
    "start_time": "2022-05-19T20:03:56.879Z"
   },
   {
    "duration": 12,
    "start_time": "2022-05-19T20:03:56.886Z"
   },
   {
    "duration": 917,
    "start_time": "2022-05-19T20:03:56.899Z"
   },
   {
    "duration": 396,
    "start_time": "2022-05-19T20:03:57.819Z"
   },
   {
    "duration": 1315,
    "start_time": "2022-05-19T20:04:33.812Z"
   },
   {
    "duration": 48,
    "start_time": "2022-05-19T20:04:35.128Z"
   },
   {
    "duration": 3,
    "start_time": "2022-05-19T20:04:35.177Z"
   },
   {
    "duration": 21,
    "start_time": "2022-05-19T20:04:35.182Z"
   },
   {
    "duration": 3,
    "start_time": "2022-05-19T20:04:35.205Z"
   },
   {
    "duration": 13,
    "start_time": "2022-05-19T20:04:35.209Z"
   },
   {
    "duration": 11,
    "start_time": "2022-05-19T20:04:35.223Z"
   },
   {
    "duration": 8,
    "start_time": "2022-05-19T20:04:35.235Z"
   },
   {
    "duration": 409,
    "start_time": "2022-05-19T20:04:35.245Z"
   },
   {
    "duration": 12,
    "start_time": "2022-05-19T20:04:35.655Z"
   },
   {
    "duration": 6,
    "start_time": "2022-05-19T20:04:35.668Z"
   },
   {
    "duration": 381,
    "start_time": "2022-05-19T20:04:35.675Z"
   },
   {
    "duration": 225,
    "start_time": "2022-05-19T20:04:36.058Z"
   },
   {
    "duration": 223,
    "start_time": "2022-05-19T20:04:36.285Z"
   },
   {
    "duration": 299,
    "start_time": "2022-05-19T20:04:36.509Z"
   },
   {
    "duration": 4,
    "start_time": "2022-05-19T20:04:36.812Z"
   },
   {
    "duration": 12,
    "start_time": "2022-05-19T20:04:36.818Z"
   },
   {
    "duration": 886,
    "start_time": "2022-05-19T20:04:36.831Z"
   },
   {
    "duration": 400,
    "start_time": "2022-05-19T20:04:37.719Z"
   },
   {
    "duration": 1340,
    "start_time": "2022-05-19T20:05:08.987Z"
   },
   {
    "duration": 46,
    "start_time": "2022-05-19T20:05:10.329Z"
   },
   {
    "duration": 4,
    "start_time": "2022-05-19T20:05:10.379Z"
   },
   {
    "duration": 19,
    "start_time": "2022-05-19T20:05:10.385Z"
   },
   {
    "duration": 3,
    "start_time": "2022-05-19T20:05:10.406Z"
   },
   {
    "duration": 13,
    "start_time": "2022-05-19T20:05:10.411Z"
   },
   {
    "duration": 11,
    "start_time": "2022-05-19T20:05:10.425Z"
   },
   {
    "duration": 9,
    "start_time": "2022-05-19T20:05:10.437Z"
   },
   {
    "duration": 386,
    "start_time": "2022-05-19T20:05:10.448Z"
   },
   {
    "duration": 13,
    "start_time": "2022-05-19T20:05:10.835Z"
   },
   {
    "duration": 6,
    "start_time": "2022-05-19T20:05:10.849Z"
   },
   {
    "duration": 370,
    "start_time": "2022-05-19T20:05:10.856Z"
   },
   {
    "duration": 231,
    "start_time": "2022-05-19T20:05:11.228Z"
   },
   {
    "duration": 266,
    "start_time": "2022-05-19T20:05:11.461Z"
   },
   {
    "duration": 295,
    "start_time": "2022-05-19T20:05:11.729Z"
   },
   {
    "duration": 5,
    "start_time": "2022-05-19T20:05:12.025Z"
   },
   {
    "duration": 25,
    "start_time": "2022-05-19T20:05:12.031Z"
   },
   {
    "duration": 857,
    "start_time": "2022-05-19T20:05:12.058Z"
   },
   {
    "duration": 299,
    "start_time": "2022-05-19T20:05:12.918Z"
   },
   {
    "duration": 1402,
    "start_time": "2022-05-19T20:05:33.314Z"
   },
   {
    "duration": 49,
    "start_time": "2022-05-19T20:05:34.719Z"
   },
   {
    "duration": 3,
    "start_time": "2022-05-19T20:05:34.770Z"
   },
   {
    "duration": 25,
    "start_time": "2022-05-19T20:05:34.775Z"
   },
   {
    "duration": 3,
    "start_time": "2022-05-19T20:05:34.801Z"
   },
   {
    "duration": 17,
    "start_time": "2022-05-19T20:05:34.805Z"
   },
   {
    "duration": 14,
    "start_time": "2022-05-19T20:05:34.823Z"
   },
   {
    "duration": 21,
    "start_time": "2022-05-19T20:05:34.839Z"
   },
   {
    "duration": 424,
    "start_time": "2022-05-19T20:05:34.862Z"
   },
   {
    "duration": 13,
    "start_time": "2022-05-19T20:05:35.288Z"
   },
   {
    "duration": 6,
    "start_time": "2022-05-19T20:05:35.303Z"
   },
   {
    "duration": 442,
    "start_time": "2022-05-19T20:05:35.312Z"
   },
   {
    "duration": 239,
    "start_time": "2022-05-19T20:05:35.756Z"
   },
   {
    "duration": 235,
    "start_time": "2022-05-19T20:05:35.996Z"
   },
   {
    "duration": 303,
    "start_time": "2022-05-19T20:05:36.233Z"
   },
   {
    "duration": 5,
    "start_time": "2022-05-19T20:05:36.537Z"
   },
   {
    "duration": 30,
    "start_time": "2022-05-19T20:05:36.544Z"
   },
   {
    "duration": 942,
    "start_time": "2022-05-19T20:05:36.575Z"
   },
   {
    "duration": 401,
    "start_time": "2022-05-19T20:05:37.519Z"
   },
   {
    "duration": 1416,
    "start_time": "2022-05-19T20:06:40.185Z"
   },
   {
    "duration": 61,
    "start_time": "2022-05-19T20:06:41.605Z"
   },
   {
    "duration": 4,
    "start_time": "2022-05-19T20:06:41.668Z"
   },
   {
    "duration": 29,
    "start_time": "2022-05-19T20:06:41.674Z"
   },
   {
    "duration": 6,
    "start_time": "2022-05-19T20:06:41.707Z"
   },
   {
    "duration": 20,
    "start_time": "2022-05-19T20:06:41.715Z"
   },
   {
    "duration": 22,
    "start_time": "2022-05-19T20:06:41.736Z"
   },
   {
    "duration": 9,
    "start_time": "2022-05-19T20:06:41.759Z"
   },
   {
    "duration": 365,
    "start_time": "2022-05-19T20:06:41.769Z"
   },
   {
    "duration": 13,
    "start_time": "2022-05-19T20:06:42.135Z"
   },
   {
    "duration": 26,
    "start_time": "2022-05-19T20:06:42.149Z"
   },
   {
    "duration": 390,
    "start_time": "2022-05-19T20:06:42.177Z"
   },
   {
    "duration": 219,
    "start_time": "2022-05-19T20:06:42.568Z"
   },
   {
    "duration": 203,
    "start_time": "2022-05-19T20:06:42.790Z"
   },
   {
    "duration": 302,
    "start_time": "2022-05-19T20:06:42.995Z"
   },
   {
    "duration": 4,
    "start_time": "2022-05-19T20:06:43.299Z"
   },
   {
    "duration": 5,
    "start_time": "2022-05-19T20:06:43.311Z"
   },
   {
    "duration": 795,
    "start_time": "2022-05-19T20:06:43.317Z"
   },
   {
    "duration": 297,
    "start_time": "2022-05-19T20:06:44.115Z"
   },
   {
    "duration": 1317,
    "start_time": "2022-05-19T20:21:25.470Z"
   },
   {
    "duration": 47,
    "start_time": "2022-05-19T20:21:26.789Z"
   },
   {
    "duration": 4,
    "start_time": "2022-05-19T20:21:26.840Z"
   },
   {
    "duration": 19,
    "start_time": "2022-05-19T20:21:26.846Z"
   },
   {
    "duration": 3,
    "start_time": "2022-05-19T20:21:26.866Z"
   },
   {
    "duration": 15,
    "start_time": "2022-05-19T20:21:26.870Z"
   },
   {
    "duration": 29,
    "start_time": "2022-05-19T20:21:26.887Z"
   },
   {
    "duration": 9,
    "start_time": "2022-05-19T20:21:26.918Z"
   },
   {
    "duration": 412,
    "start_time": "2022-05-19T20:21:26.930Z"
   },
   {
    "duration": 14,
    "start_time": "2022-05-19T20:21:27.343Z"
   },
   {
    "duration": 7,
    "start_time": "2022-05-19T20:21:27.359Z"
   },
   {
    "duration": 423,
    "start_time": "2022-05-19T20:21:27.368Z"
   },
   {
    "duration": 230,
    "start_time": "2022-05-19T20:21:27.792Z"
   },
   {
    "duration": 267,
    "start_time": "2022-05-19T20:21:28.024Z"
   },
   {
    "duration": 346,
    "start_time": "2022-05-19T20:21:28.293Z"
   },
   {
    "duration": 6,
    "start_time": "2022-05-19T20:21:28.641Z"
   },
   {
    "duration": 12,
    "start_time": "2022-05-19T20:21:28.649Z"
   },
   {
    "duration": 6,
    "start_time": "2022-05-19T20:21:28.662Z"
   },
   {
    "duration": 5,
    "start_time": "2022-05-19T20:21:28.670Z"
   },
   {
    "duration": 8,
    "start_time": "2022-05-19T20:21:28.677Z"
   },
   {
    "duration": 9,
    "start_time": "2022-05-19T20:21:28.687Z"
   },
   {
    "duration": 14064,
    "start_time": "2022-05-19T20:21:28.698Z"
   },
   {
    "duration": 1392,
    "start_time": "2022-05-19T20:22:19.568Z"
   },
   {
    "duration": 47,
    "start_time": "2022-05-19T20:22:20.962Z"
   },
   {
    "duration": 3,
    "start_time": "2022-05-19T20:22:21.011Z"
   },
   {
    "duration": 22,
    "start_time": "2022-05-19T20:22:21.015Z"
   },
   {
    "duration": 2,
    "start_time": "2022-05-19T20:22:21.040Z"
   },
   {
    "duration": 14,
    "start_time": "2022-05-19T20:22:21.044Z"
   },
   {
    "duration": 10,
    "start_time": "2022-05-19T20:22:21.060Z"
   },
   {
    "duration": 10,
    "start_time": "2022-05-19T20:22:21.072Z"
   },
   {
    "duration": 458,
    "start_time": "2022-05-19T20:22:21.084Z"
   },
   {
    "duration": 20,
    "start_time": "2022-05-19T20:22:21.544Z"
   },
   {
    "duration": 8,
    "start_time": "2022-05-19T20:22:21.568Z"
   },
   {
    "duration": 426,
    "start_time": "2022-05-19T20:22:21.578Z"
   },
   {
    "duration": 233,
    "start_time": "2022-05-19T20:22:22.006Z"
   },
   {
    "duration": 208,
    "start_time": "2022-05-19T20:22:22.241Z"
   },
   {
    "duration": 289,
    "start_time": "2022-05-19T20:22:22.451Z"
   },
   {
    "duration": 5,
    "start_time": "2022-05-19T20:22:22.741Z"
   },
   {
    "duration": 7,
    "start_time": "2022-05-19T20:22:22.747Z"
   },
   {
    "duration": 5,
    "start_time": "2022-05-19T20:22:22.756Z"
   },
   {
    "duration": 5,
    "start_time": "2022-05-19T20:22:22.762Z"
   },
   {
    "duration": 7,
    "start_time": "2022-05-19T20:22:22.769Z"
   },
   {
    "duration": 5,
    "start_time": "2022-05-19T20:22:22.778Z"
   },
   {
    "duration": 207784,
    "start_time": "2022-05-19T20:22:22.785Z"
   },
   {
    "duration": 1343,
    "start_time": "2022-05-19T20:27:18.095Z"
   },
   {
    "duration": 49,
    "start_time": "2022-05-19T20:27:19.440Z"
   },
   {
    "duration": 3,
    "start_time": "2022-05-19T20:27:19.491Z"
   },
   {
    "duration": 23,
    "start_time": "2022-05-19T20:27:19.495Z"
   },
   {
    "duration": 3,
    "start_time": "2022-05-19T20:27:19.520Z"
   },
   {
    "duration": 13,
    "start_time": "2022-05-19T20:27:19.524Z"
   },
   {
    "duration": 10,
    "start_time": "2022-05-19T20:27:19.538Z"
   },
   {
    "duration": 8,
    "start_time": "2022-05-19T20:27:19.549Z"
   },
   {
    "duration": 412,
    "start_time": "2022-05-19T20:27:19.558Z"
   },
   {
    "duration": 12,
    "start_time": "2022-05-19T20:27:19.971Z"
   },
   {
    "duration": 7,
    "start_time": "2022-05-19T20:27:19.985Z"
   },
   {
    "duration": 379,
    "start_time": "2022-05-19T20:27:19.994Z"
   },
   {
    "duration": 210,
    "start_time": "2022-05-19T20:27:20.374Z"
   },
   {
    "duration": 213,
    "start_time": "2022-05-19T20:27:20.586Z"
   },
   {
    "duration": 298,
    "start_time": "2022-05-19T20:27:20.801Z"
   },
   {
    "duration": 11,
    "start_time": "2022-05-19T20:27:21.101Z"
   },
   {
    "duration": 9,
    "start_time": "2022-05-19T20:27:21.114Z"
   },
   {
    "duration": 7,
    "start_time": "2022-05-19T20:27:21.125Z"
   },
   {
    "duration": 5,
    "start_time": "2022-05-19T20:27:21.133Z"
   },
   {
    "duration": 5,
    "start_time": "2022-05-19T20:27:21.139Z"
   },
   {
    "duration": 6,
    "start_time": "2022-05-19T20:27:21.145Z"
   },
   {
    "duration": 1167700,
    "start_time": "2022-05-19T20:27:21.152Z"
   },
   {
    "duration": 0,
    "start_time": "2022-05-19T20:46:48.854Z"
   },
   {
    "duration": 1355,
    "start_time": "2022-05-19T20:46:54.902Z"
   },
   {
    "duration": 48,
    "start_time": "2022-05-19T20:46:56.259Z"
   },
   {
    "duration": 3,
    "start_time": "2022-05-19T20:46:56.309Z"
   },
   {
    "duration": 21,
    "start_time": "2022-05-19T20:46:56.313Z"
   },
   {
    "duration": 7,
    "start_time": "2022-05-19T20:46:56.336Z"
   },
   {
    "duration": 27,
    "start_time": "2022-05-19T20:46:56.344Z"
   },
   {
    "duration": 13,
    "start_time": "2022-05-19T20:46:56.373Z"
   },
   {
    "duration": 12,
    "start_time": "2022-05-19T20:46:56.388Z"
   },
   {
    "duration": 408,
    "start_time": "2022-05-19T20:46:56.402Z"
   },
   {
    "duration": 13,
    "start_time": "2022-05-19T20:46:56.811Z"
   },
   {
    "duration": 6,
    "start_time": "2022-05-19T20:46:56.826Z"
   },
   {
    "duration": 449,
    "start_time": "2022-05-19T20:46:56.833Z"
   },
   {
    "duration": 278,
    "start_time": "2022-05-19T20:46:57.284Z"
   },
   {
    "duration": 225,
    "start_time": "2022-05-19T20:46:57.566Z"
   },
   {
    "duration": 304,
    "start_time": "2022-05-19T20:46:57.793Z"
   },
   {
    "duration": 5,
    "start_time": "2022-05-19T20:46:58.098Z"
   },
   {
    "duration": 5,
    "start_time": "2022-05-19T20:46:58.112Z"
   },
   {
    "duration": 9,
    "start_time": "2022-05-19T20:46:58.119Z"
   },
   {
    "duration": 14,
    "start_time": "2022-05-19T20:46:58.130Z"
   },
   {
    "duration": 6,
    "start_time": "2022-05-19T20:46:58.146Z"
   },
   {
    "duration": 9,
    "start_time": "2022-05-19T20:46:58.154Z"
   },
   {
    "duration": 19462,
    "start_time": "2022-05-19T20:46:58.165Z"
   },
   {
    "duration": 1270,
    "start_time": "2022-05-19T20:47:59.858Z"
   },
   {
    "duration": 47,
    "start_time": "2022-05-19T20:48:01.130Z"
   },
   {
    "duration": 3,
    "start_time": "2022-05-19T20:48:01.178Z"
   },
   {
    "duration": 28,
    "start_time": "2022-05-19T20:48:01.183Z"
   },
   {
    "duration": 3,
    "start_time": "2022-05-19T20:48:01.213Z"
   },
   {
    "duration": 15,
    "start_time": "2022-05-19T20:48:01.217Z"
   },
   {
    "duration": 13,
    "start_time": "2022-05-19T20:48:01.234Z"
   },
   {
    "duration": 11,
    "start_time": "2022-05-19T20:48:01.248Z"
   },
   {
    "duration": 470,
    "start_time": "2022-05-19T20:48:01.260Z"
   },
   {
    "duration": 13,
    "start_time": "2022-05-19T20:48:01.732Z"
   },
   {
    "duration": 6,
    "start_time": "2022-05-19T20:48:01.746Z"
   },
   {
    "duration": 417,
    "start_time": "2022-05-19T20:48:01.753Z"
   },
   {
    "duration": 211,
    "start_time": "2022-05-19T20:48:02.171Z"
   },
   {
    "duration": 213,
    "start_time": "2022-05-19T20:48:02.383Z"
   },
   {
    "duration": 301,
    "start_time": "2022-05-19T20:48:02.597Z"
   },
   {
    "duration": 11,
    "start_time": "2022-05-19T20:48:02.901Z"
   },
   {
    "duration": 5,
    "start_time": "2022-05-19T20:48:02.914Z"
   },
   {
    "duration": 9,
    "start_time": "2022-05-19T20:48:02.921Z"
   },
   {
    "duration": 6,
    "start_time": "2022-05-19T20:48:02.931Z"
   },
   {
    "duration": 4,
    "start_time": "2022-05-19T20:48:02.939Z"
   },
   {
    "duration": 5,
    "start_time": "2022-05-19T20:48:02.945Z"
   },
   {
    "duration": 19888,
    "start_time": "2022-05-19T20:48:02.951Z"
   },
   {
    "duration": 1348,
    "start_time": "2022-05-19T20:48:47.618Z"
   },
   {
    "duration": 46,
    "start_time": "2022-05-19T20:48:48.968Z"
   },
   {
    "duration": 3,
    "start_time": "2022-05-19T20:48:49.016Z"
   },
   {
    "duration": 18,
    "start_time": "2022-05-19T20:48:49.021Z"
   },
   {
    "duration": 2,
    "start_time": "2022-05-19T20:48:49.041Z"
   },
   {
    "duration": 14,
    "start_time": "2022-05-19T20:48:49.045Z"
   },
   {
    "duration": 8,
    "start_time": "2022-05-19T20:48:49.061Z"
   },
   {
    "duration": 7,
    "start_time": "2022-05-19T20:48:49.071Z"
   },
   {
    "duration": 398,
    "start_time": "2022-05-19T20:48:49.080Z"
   },
   {
    "duration": 15,
    "start_time": "2022-05-19T20:48:49.481Z"
   },
   {
    "duration": 5,
    "start_time": "2022-05-19T20:48:49.498Z"
   },
   {
    "duration": 428,
    "start_time": "2022-05-19T20:48:49.505Z"
   },
   {
    "duration": 252,
    "start_time": "2022-05-19T20:48:49.934Z"
   },
   {
    "duration": 243,
    "start_time": "2022-05-19T20:48:50.188Z"
   },
   {
    "duration": 289,
    "start_time": "2022-05-19T20:48:50.433Z"
   },
   {
    "duration": 6,
    "start_time": "2022-05-19T20:48:50.724Z"
   },
   {
    "duration": 6,
    "start_time": "2022-05-19T20:48:50.731Z"
   },
   {
    "duration": 7,
    "start_time": "2022-05-19T20:48:50.739Z"
   },
   {
    "duration": 6,
    "start_time": "2022-05-19T20:48:50.747Z"
   },
   {
    "duration": 10,
    "start_time": "2022-05-19T20:48:50.755Z"
   },
   {
    "duration": 5,
    "start_time": "2022-05-19T20:48:50.767Z"
   },
   {
    "duration": 1833653,
    "start_time": "2022-05-19T20:48:50.773Z"
   },
   {
    "duration": 133,
    "start_time": "2022-05-19T21:21:11.578Z"
   },
   {
    "duration": 9,
    "start_time": "2022-05-19T21:21:13.930Z"
   },
   {
    "duration": 17,
    "start_time": "2022-05-19T21:21:21.304Z"
   },
   {
    "duration": 142,
    "start_time": "2022-05-19T21:23:08.873Z"
   },
   {
    "duration": 3532,
    "start_time": "2022-05-19T21:25:38.214Z"
   },
   {
    "duration": 11566,
    "start_time": "2022-05-19T21:35:29.243Z"
   },
   {
    "duration": 1450,
    "start_time": "2022-05-19T22:32:53.205Z"
   },
   {
    "duration": 47,
    "start_time": "2022-05-19T22:32:54.657Z"
   },
   {
    "duration": 3,
    "start_time": "2022-05-19T22:32:54.706Z"
   },
   {
    "duration": 26,
    "start_time": "2022-05-19T22:32:54.712Z"
   },
   {
    "duration": 3,
    "start_time": "2022-05-19T22:32:54.740Z"
   },
   {
    "duration": 18,
    "start_time": "2022-05-19T22:32:54.744Z"
   },
   {
    "duration": 10,
    "start_time": "2022-05-19T22:32:54.763Z"
   },
   {
    "duration": 8,
    "start_time": "2022-05-19T22:32:54.775Z"
   },
   {
    "duration": 413,
    "start_time": "2022-05-19T22:32:54.785Z"
   },
   {
    "duration": 15,
    "start_time": "2022-05-19T22:32:55.201Z"
   },
   {
    "duration": 9,
    "start_time": "2022-05-19T22:32:55.218Z"
   },
   {
    "duration": 399,
    "start_time": "2022-05-19T22:32:55.229Z"
   },
   {
    "duration": 220,
    "start_time": "2022-05-19T22:32:55.630Z"
   },
   {
    "duration": 209,
    "start_time": "2022-05-19T22:32:55.852Z"
   },
   {
    "duration": 299,
    "start_time": "2022-05-19T22:32:56.063Z"
   },
   {
    "duration": 5,
    "start_time": "2022-05-19T22:32:56.364Z"
   },
   {
    "duration": 9,
    "start_time": "2022-05-19T22:32:56.371Z"
   },
   {
    "duration": 6,
    "start_time": "2022-05-19T22:32:56.381Z"
   },
   {
    "duration": 7,
    "start_time": "2022-05-19T22:32:56.389Z"
   },
   {
    "duration": 15,
    "start_time": "2022-05-19T22:32:56.397Z"
   },
   {
    "duration": 3,
    "start_time": "2022-05-19T22:32:56.413Z"
   },
   {
    "duration": 5,
    "start_time": "2022-05-19T22:32:56.418Z"
   },
   {
    "duration": 9,
    "start_time": "2022-05-19T22:34:20.583Z"
   },
   {
    "duration": 1301,
    "start_time": "2022-05-19T22:34:45.342Z"
   },
   {
    "duration": 48,
    "start_time": "2022-05-19T22:34:46.645Z"
   },
   {
    "duration": 4,
    "start_time": "2022-05-19T22:34:46.695Z"
   },
   {
    "duration": 20,
    "start_time": "2022-05-19T22:34:46.701Z"
   },
   {
    "duration": 3,
    "start_time": "2022-05-19T22:34:46.723Z"
   },
   {
    "duration": 15,
    "start_time": "2022-05-19T22:34:46.728Z"
   },
   {
    "duration": 10,
    "start_time": "2022-05-19T22:34:46.745Z"
   },
   {
    "duration": 10,
    "start_time": "2022-05-19T22:34:46.757Z"
   },
   {
    "duration": 456,
    "start_time": "2022-05-19T22:34:46.770Z"
   },
   {
    "duration": 19,
    "start_time": "2022-05-19T22:34:47.229Z"
   },
   {
    "duration": 15,
    "start_time": "2022-05-19T22:34:47.250Z"
   },
   {
    "duration": 419,
    "start_time": "2022-05-19T22:34:47.268Z"
   },
   {
    "duration": 246,
    "start_time": "2022-05-19T22:34:47.689Z"
   },
   {
    "duration": 220,
    "start_time": "2022-05-19T22:34:47.937Z"
   },
   {
    "duration": 308,
    "start_time": "2022-05-19T22:34:48.159Z"
   },
   {
    "duration": 5,
    "start_time": "2022-05-19T22:34:48.469Z"
   },
   {
    "duration": 11,
    "start_time": "2022-05-19T22:34:48.476Z"
   },
   {
    "duration": 6,
    "start_time": "2022-05-19T22:34:48.488Z"
   },
   {
    "duration": 19,
    "start_time": "2022-05-19T22:34:48.496Z"
   },
   {
    "duration": 5,
    "start_time": "2022-05-19T22:34:48.517Z"
   },
   {
    "duration": 6,
    "start_time": "2022-05-19T22:34:48.524Z"
   },
   {
    "duration": 10,
    "start_time": "2022-05-19T22:34:48.532Z"
   },
   {
    "duration": 449016,
    "start_time": "2022-05-19T22:34:48.545Z"
   },
   {
    "duration": 10,
    "start_time": "2022-05-19T22:42:17.563Z"
   },
   {
    "duration": 48,
    "start_time": "2022-05-19T22:43:12.073Z"
   },
   {
    "duration": 3448,
    "start_time": "2022-05-19T22:43:36.072Z"
   },
   {
    "duration": 7195,
    "start_time": "2022-05-19T22:43:44.237Z"
   },
   {
    "duration": 107,
    "start_time": "2022-05-19T22:45:10.909Z"
   },
   {
    "duration": 31,
    "start_time": "2022-05-19T22:45:18.256Z"
   },
   {
    "duration": 281,
    "start_time": "2022-05-19T22:45:21.430Z"
   },
   {
    "duration": 225,
    "start_time": "2022-05-19T22:45:24.588Z"
   },
   {
    "duration": 153,
    "start_time": "2022-05-19T22:45:28.162Z"
   },
   {
    "duration": 162,
    "start_time": "2022-05-19T22:45:35.356Z"
   },
   {
    "duration": 294,
    "start_time": "2022-05-19T22:45:40.022Z"
   },
   {
    "duration": 151,
    "start_time": "2022-05-19T22:45:43.968Z"
   },
   {
    "duration": 201,
    "start_time": "2022-05-19T22:45:46.914Z"
   },
   {
    "duration": 76,
    "start_time": "2022-05-19T22:45:49.741Z"
   },
   {
    "duration": 128,
    "start_time": "2022-05-19T22:45:53.289Z"
   },
   {
    "duration": 149,
    "start_time": "2022-05-19T22:45:56.664Z"
   },
   {
    "duration": 218,
    "start_time": "2022-05-19T22:46:09.896Z"
   },
   {
    "duration": 1276,
    "start_time": "2022-05-19T22:53:48.655Z"
   },
   {
    "duration": 48,
    "start_time": "2022-05-19T22:53:49.933Z"
   },
   {
    "duration": 3,
    "start_time": "2022-05-19T22:53:49.982Z"
   },
   {
    "duration": 19,
    "start_time": "2022-05-19T22:53:49.987Z"
   },
   {
    "duration": 3,
    "start_time": "2022-05-19T22:53:50.008Z"
   },
   {
    "duration": 15,
    "start_time": "2022-05-19T22:53:50.013Z"
   },
   {
    "duration": 10,
    "start_time": "2022-05-19T22:53:50.029Z"
   },
   {
    "duration": 8,
    "start_time": "2022-05-19T22:53:50.041Z"
   },
   {
    "duration": 392,
    "start_time": "2022-05-19T22:53:50.050Z"
   },
   {
    "duration": 13,
    "start_time": "2022-05-19T22:53:50.444Z"
   },
   {
    "duration": 7,
    "start_time": "2022-05-19T22:53:50.459Z"
   },
   {
    "duration": 370,
    "start_time": "2022-05-19T22:53:50.467Z"
   },
   {
    "duration": 206,
    "start_time": "2022-05-19T22:53:50.839Z"
   },
   {
    "duration": 206,
    "start_time": "2022-05-19T22:53:51.047Z"
   },
   {
    "duration": 326,
    "start_time": "2022-05-19T22:53:51.255Z"
   },
   {
    "duration": 4,
    "start_time": "2022-05-19T22:53:51.583Z"
   },
   {
    "duration": 8,
    "start_time": "2022-05-19T22:53:51.588Z"
   },
   {
    "duration": 5,
    "start_time": "2022-05-19T22:53:51.597Z"
   },
   {
    "duration": 3,
    "start_time": "2022-05-19T22:53:51.612Z"
   },
   {
    "duration": 6,
    "start_time": "2022-05-19T22:53:51.617Z"
   },
   {
    "duration": 4,
    "start_time": "2022-05-19T22:53:51.625Z"
   },
   {
    "duration": 7,
    "start_time": "2022-05-19T22:53:51.631Z"
   },
   {
    "duration": 326553,
    "start_time": "2022-05-19T22:53:51.639Z"
   },
   {
    "duration": 11,
    "start_time": "2022-05-19T22:59:18.193Z"
   },
   {
    "duration": 119,
    "start_time": "2022-05-19T23:02:13.001Z"
   },
   {
    "duration": 4076,
    "start_time": "2022-05-19T23:02:26.165Z"
   },
   {
    "duration": 9453,
    "start_time": "2022-05-19T23:02:43.790Z"
   },
   {
    "duration": 1300,
    "start_time": "2022-05-19T23:03:27.313Z"
   },
   {
    "duration": 45,
    "start_time": "2022-05-19T23:03:28.615Z"
   },
   {
    "duration": 3,
    "start_time": "2022-05-19T23:03:28.662Z"
   },
   {
    "duration": 18,
    "start_time": "2022-05-19T23:03:28.667Z"
   },
   {
    "duration": 3,
    "start_time": "2022-05-19T23:03:28.687Z"
   },
   {
    "duration": 14,
    "start_time": "2022-05-19T23:03:28.691Z"
   },
   {
    "duration": 12,
    "start_time": "2022-05-19T23:03:28.707Z"
   },
   {
    "duration": 9,
    "start_time": "2022-05-19T23:03:28.721Z"
   },
   {
    "duration": 395,
    "start_time": "2022-05-19T23:03:28.731Z"
   },
   {
    "duration": 13,
    "start_time": "2022-05-19T23:03:29.128Z"
   },
   {
    "duration": 8,
    "start_time": "2022-05-19T23:03:29.143Z"
   },
   {
    "duration": 386,
    "start_time": "2022-05-19T23:03:29.153Z"
   },
   {
    "duration": 204,
    "start_time": "2022-05-19T23:03:29.541Z"
   },
   {
    "duration": 210,
    "start_time": "2022-05-19T23:03:29.747Z"
   },
   {
    "duration": 305,
    "start_time": "2022-05-19T23:03:29.959Z"
   },
   {
    "duration": 5,
    "start_time": "2022-05-19T23:03:30.265Z"
   },
   {
    "duration": 10,
    "start_time": "2022-05-19T23:03:30.271Z"
   },
   {
    "duration": 5,
    "start_time": "2022-05-19T23:03:30.283Z"
   },
   {
    "duration": 20,
    "start_time": "2022-05-19T23:03:30.290Z"
   },
   {
    "duration": 8,
    "start_time": "2022-05-19T23:03:30.312Z"
   },
   {
    "duration": 9,
    "start_time": "2022-05-19T23:03:30.322Z"
   },
   {
    "duration": 10,
    "start_time": "2022-05-19T23:03:30.332Z"
   },
   {
    "duration": 343524,
    "start_time": "2022-05-19T23:03:30.343Z"
   },
   {
    "duration": 12,
    "start_time": "2022-05-19T23:09:13.869Z"
   },
   {
    "duration": 234,
    "start_time": "2022-05-19T23:09:13.883Z"
   },
   {
    "duration": 4908,
    "start_time": "2022-05-19T23:09:14.121Z"
   },
   {
    "duration": 9192,
    "start_time": "2022-05-19T23:09:19.030Z"
   },
   {
    "duration": 63,
    "start_time": "2022-05-19T23:09:55.654Z"
   },
   {
    "duration": 3424,
    "start_time": "2022-05-19T23:10:08.853Z"
   },
   {
    "duration": 7051,
    "start_time": "2022-05-19T23:10:20.498Z"
   },
   {
    "duration": 6,
    "start_time": "2022-05-19T23:11:08.387Z"
   },
   {
    "duration": 3,
    "start_time": "2022-05-19T23:11:15.627Z"
   },
   {
    "duration": 56,
    "start_time": "2022-05-19T23:11:46.461Z"
   },
   {
    "duration": 32,
    "start_time": "2022-05-19T23:12:03.566Z"
   },
   {
    "duration": 4,
    "start_time": "2022-05-19T23:13:55.092Z"
   },
   {
    "duration": 61,
    "start_time": "2022-05-19T23:14:03.956Z"
   },
   {
    "duration": 37,
    "start_time": "2022-05-19T23:14:08.757Z"
   },
   {
    "duration": 42,
    "start_time": "2022-05-19T23:14:19.145Z"
   },
   {
    "duration": 139,
    "start_time": "2022-05-19T23:14:32.271Z"
   },
   {
    "duration": 20,
    "start_time": "2022-05-19T23:14:55.654Z"
   },
   {
    "duration": 17,
    "start_time": "2022-05-19T23:15:22.878Z"
   },
   {
    "duration": 7170,
    "start_time": "2022-05-19T23:16:37.167Z"
   },
   {
    "duration": 3,
    "start_time": "2022-05-19T23:16:45.901Z"
   },
   {
    "duration": 9,
    "start_time": "2022-05-19T23:16:50.766Z"
   },
   {
    "duration": 11,
    "start_time": "2022-05-19T23:17:03.088Z"
   },
   {
    "duration": 31,
    "start_time": "2022-05-19T23:18:31.241Z"
   },
   {
    "duration": 284,
    "start_time": "2022-05-19T23:18:55.878Z"
   },
   {
    "duration": 9405,
    "start_time": "2022-05-19T23:19:30.710Z"
   },
   {
    "duration": 121,
    "start_time": "2022-05-19T23:20:11.967Z"
   },
   {
    "duration": 339,
    "start_time": "2022-05-19T23:20:25.449Z"
   },
   {
    "duration": 141,
    "start_time": "2022-05-19T23:21:48.368Z"
   },
   {
    "duration": 818,
    "start_time": "2022-05-19T23:21:51.286Z"
   },
   {
    "duration": 302,
    "start_time": "2022-05-19T23:24:06.300Z"
   },
   {
    "duration": 294,
    "start_time": "2022-05-19T23:25:00.342Z"
   },
   {
    "duration": 342,
    "start_time": "2022-05-19T23:26:13.680Z"
   },
   {
    "duration": 340,
    "start_time": "2022-05-19T23:26:21.973Z"
   },
   {
    "duration": 565,
    "start_time": "2022-05-19T23:26:48.700Z"
   },
   {
    "duration": 4,
    "start_time": "2022-05-19T23:32:11.293Z"
   },
   {
    "duration": 45,
    "start_time": "2022-05-19T23:32:38.967Z"
   },
   {
    "duration": 4,
    "start_time": "2022-05-19T23:33:31.055Z"
   },
   {
    "duration": 1305,
    "start_time": "2022-05-19T23:33:40.712Z"
   },
   {
    "duration": 959,
    "start_time": "2022-05-19T23:33:49.957Z"
   },
   {
    "duration": 995,
    "start_time": "2022-05-19T23:33:54.620Z"
   },
   {
    "duration": 3,
    "start_time": "2022-05-19T23:34:45.704Z"
   },
   {
    "duration": 810,
    "start_time": "2022-05-19T23:34:54.410Z"
   },
   {
    "duration": 4,
    "start_time": "2022-05-19T23:35:06.437Z"
   },
   {
    "duration": 1788,
    "start_time": "2022-05-20T08:19:42.105Z"
   },
   {
    "duration": 157,
    "start_time": "2022-05-20T08:19:43.895Z"
   },
   {
    "duration": 3,
    "start_time": "2022-05-20T08:19:44.054Z"
   },
   {
    "duration": 23,
    "start_time": "2022-05-20T08:19:44.059Z"
   },
   {
    "duration": 2,
    "start_time": "2022-05-20T08:19:44.084Z"
   },
   {
    "duration": 13,
    "start_time": "2022-05-20T08:19:44.088Z"
   },
   {
    "duration": 10,
    "start_time": "2022-05-20T08:19:44.102Z"
   },
   {
    "duration": 10,
    "start_time": "2022-05-20T08:19:44.114Z"
   },
   {
    "duration": 444,
    "start_time": "2022-05-20T08:19:44.125Z"
   },
   {
    "duration": 186,
    "start_time": "2022-05-20T08:19:49.169Z"
   },
   {
    "duration": 6,
    "start_time": "2022-05-20T08:19:56.790Z"
   },
   {
    "duration": 15,
    "start_time": "2022-05-20T08:20:02.614Z"
   },
   {
    "duration": 11,
    "start_time": "2022-05-20T08:23:40.072Z"
   },
   {
    "duration": 24,
    "start_time": "2022-05-20T08:23:54.704Z"
   },
   {
    "duration": 24,
    "start_time": "2022-05-20T08:24:35.898Z"
   },
   {
    "duration": 10,
    "start_time": "2022-05-20T08:24:46.782Z"
   },
   {
    "duration": 8,
    "start_time": "2022-05-20T08:26:50.885Z"
   },
   {
    "duration": 3,
    "start_time": "2022-05-20T08:49:38.348Z"
   },
   {
    "duration": 22,
    "start_time": "2022-05-20T09:04:08.407Z"
   },
   {
    "duration": 10,
    "start_time": "2022-05-20T09:04:25.242Z"
   },
   {
    "duration": 10,
    "start_time": "2022-05-20T09:04:36.583Z"
   },
   {
    "duration": 13,
    "start_time": "2022-05-20T09:04:40.977Z"
   },
   {
    "duration": 5,
    "start_time": "2022-05-20T09:04:51.230Z"
   },
   {
    "duration": 3,
    "start_time": "2022-05-20T09:05:07.070Z"
   },
   {
    "duration": 15,
    "start_time": "2022-05-20T09:05:14.691Z"
   },
   {
    "duration": 8,
    "start_time": "2022-05-20T09:07:39.812Z"
   },
   {
    "duration": 10,
    "start_time": "2022-05-20T09:08:13.286Z"
   },
   {
    "duration": 15,
    "start_time": "2022-05-20T09:08:19.710Z"
   },
   {
    "duration": 11,
    "start_time": "2022-05-20T09:08:37.251Z"
   },
   {
    "duration": 10,
    "start_time": "2022-05-20T09:08:57.651Z"
   },
   {
    "duration": 6,
    "start_time": "2022-05-20T09:09:09.809Z"
   },
   {
    "duration": 8,
    "start_time": "2022-05-20T09:09:15.953Z"
   },
   {
    "duration": 7,
    "start_time": "2022-05-20T09:09:27.421Z"
   },
   {
    "duration": 4,
    "start_time": "2022-05-20T09:09:28.084Z"
   },
   {
    "duration": 3,
    "start_time": "2022-05-20T09:09:33.259Z"
   },
   {
    "duration": 4,
    "start_time": "2022-05-20T09:09:33.943Z"
   },
   {
    "duration": 4,
    "start_time": "2022-05-20T09:09:40.331Z"
   },
   {
    "duration": 10,
    "start_time": "2022-05-20T09:09:43.128Z"
   },
   {
    "duration": 43,
    "start_time": "2022-05-20T09:09:55.038Z"
   },
   {
    "duration": 3,
    "start_time": "2022-05-20T09:09:59.451Z"
   },
   {
    "duration": 5,
    "start_time": "2022-05-20T09:10:00.414Z"
   },
   {
    "duration": 4,
    "start_time": "2022-05-20T09:10:03.391Z"
   },
   {
    "duration": 8,
    "start_time": "2022-05-20T09:10:34.149Z"
   },
   {
    "duration": 44,
    "start_time": "2022-05-20T09:12:02.571Z"
   },
   {
    "duration": 27,
    "start_time": "2022-05-20T09:12:13.598Z"
   },
   {
    "duration": 40,
    "start_time": "2022-05-20T09:12:23.490Z"
   },
   {
    "duration": 37,
    "start_time": "2022-05-20T09:12:32.965Z"
   },
   {
    "duration": 13,
    "start_time": "2022-05-20T09:12:49.294Z"
   },
   {
    "duration": 18,
    "start_time": "2022-05-20T09:13:04.455Z"
   },
   {
    "duration": 12,
    "start_time": "2022-05-20T09:13:21.809Z"
   },
   {
    "duration": 4,
    "start_time": "2022-05-20T09:13:38.693Z"
   },
   {
    "duration": 56,
    "start_time": "2022-05-20T09:13:38.699Z"
   },
   {
    "duration": 3,
    "start_time": "2022-05-20T09:13:38.756Z"
   },
   {
    "duration": 16,
    "start_time": "2022-05-20T09:13:38.761Z"
   },
   {
    "duration": 3,
    "start_time": "2022-05-20T09:13:38.779Z"
   },
   {
    "duration": 13,
    "start_time": "2022-05-20T09:13:38.783Z"
   },
   {
    "duration": 21,
    "start_time": "2022-05-20T09:13:38.798Z"
   },
   {
    "duration": 14,
    "start_time": "2022-05-20T09:13:38.822Z"
   },
   {
    "duration": 325,
    "start_time": "2022-05-20T09:13:38.838Z"
   },
   {
    "duration": 3,
    "start_time": "2022-05-20T09:13:39.166Z"
   },
   {
    "duration": 7,
    "start_time": "2022-05-20T09:13:39.170Z"
   },
   {
    "duration": 45,
    "start_time": "2022-05-20T09:13:39.179Z"
   },
   {
    "duration": 9,
    "start_time": "2022-05-20T09:13:41.246Z"
   },
   {
    "duration": 12,
    "start_time": "2022-05-20T09:13:59.108Z"
   },
   {
    "duration": 42,
    "start_time": "2022-05-20T09:14:36.997Z"
   },
   {
    "duration": 14,
    "start_time": "2022-05-20T09:14:43.951Z"
   },
   {
    "duration": 10,
    "start_time": "2022-05-20T09:15:17.420Z"
   },
   {
    "duration": 6,
    "start_time": "2022-05-20T09:15:25.544Z"
   },
   {
    "duration": 4,
    "start_time": "2022-05-20T09:15:37.681Z"
   },
   {
    "duration": 56,
    "start_time": "2022-05-20T09:15:37.687Z"
   },
   {
    "duration": 3,
    "start_time": "2022-05-20T09:15:37.745Z"
   },
   {
    "duration": 21,
    "start_time": "2022-05-20T09:15:37.749Z"
   },
   {
    "duration": 3,
    "start_time": "2022-05-20T09:15:37.772Z"
   },
   {
    "duration": 16,
    "start_time": "2022-05-20T09:15:37.776Z"
   },
   {
    "duration": 13,
    "start_time": "2022-05-20T09:15:37.794Z"
   },
   {
    "duration": 21,
    "start_time": "2022-05-20T09:15:37.808Z"
   },
   {
    "duration": 275,
    "start_time": "2022-05-20T09:15:37.831Z"
   },
   {
    "duration": 3,
    "start_time": "2022-05-20T09:15:38.107Z"
   },
   {
    "duration": 9,
    "start_time": "2022-05-20T09:15:38.112Z"
   },
   {
    "duration": 18,
    "start_time": "2022-05-20T09:15:38.122Z"
   },
   {
    "duration": 621,
    "start_time": "2022-05-20T09:15:38.142Z"
   },
   {
    "duration": 12,
    "start_time": "2022-05-20T09:15:52.754Z"
   },
   {
    "duration": 5,
    "start_time": "2022-05-20T09:17:13.813Z"
   },
   {
    "duration": 4,
    "start_time": "2022-05-20T09:17:21.547Z"
   },
   {
    "duration": 11,
    "start_time": "2022-05-20T09:18:04.868Z"
   },
   {
    "duration": 4,
    "start_time": "2022-05-20T09:18:17.638Z"
   },
   {
    "duration": 6,
    "start_time": "2022-05-20T09:18:22.236Z"
   },
   {
    "duration": 4,
    "start_time": "2022-05-20T09:18:29.902Z"
   },
   {
    "duration": 4,
    "start_time": "2022-05-20T09:18:32.360Z"
   },
   {
    "duration": 6,
    "start_time": "2022-05-20T09:18:32.801Z"
   },
   {
    "duration": 4,
    "start_time": "2022-05-20T09:18:35.398Z"
   },
   {
    "duration": 60,
    "start_time": "2022-05-20T09:18:35.404Z"
   },
   {
    "duration": 3,
    "start_time": "2022-05-20T09:18:35.466Z"
   },
   {
    "duration": 16,
    "start_time": "2022-05-20T09:18:35.471Z"
   },
   {
    "duration": 3,
    "start_time": "2022-05-20T09:18:35.490Z"
   },
   {
    "duration": 11,
    "start_time": "2022-05-20T09:18:35.494Z"
   },
   {
    "duration": 10,
    "start_time": "2022-05-20T09:18:35.506Z"
   },
   {
    "duration": 14,
    "start_time": "2022-05-20T09:18:35.518Z"
   },
   {
    "duration": 284,
    "start_time": "2022-05-20T09:18:35.534Z"
   },
   {
    "duration": 3,
    "start_time": "2022-05-20T09:18:35.820Z"
   },
   {
    "duration": 14,
    "start_time": "2022-05-20T09:18:35.825Z"
   },
   {
    "duration": 16,
    "start_time": "2022-05-20T09:18:35.840Z"
   },
   {
    "duration": 6,
    "start_time": "2022-05-20T09:18:35.857Z"
   },
   {
    "duration": 5,
    "start_time": "2022-05-20T09:18:35.865Z"
   },
   {
    "duration": 3,
    "start_time": "2022-05-20T09:18:38.911Z"
   },
   {
    "duration": 12,
    "start_time": "2022-05-20T09:18:39.396Z"
   },
   {
    "duration": 230,
    "start_time": "2022-05-20T09:19:10.146Z"
   },
   {
    "duration": 14,
    "start_time": "2022-05-20T09:20:23.264Z"
   },
   {
    "duration": 401,
    "start_time": "2022-05-20T09:20:38.723Z"
   },
   {
    "duration": 5,
    "start_time": "2022-05-20T09:21:12.363Z"
   },
   {
    "duration": 245,
    "start_time": "2022-05-20T09:21:25.768Z"
   },
   {
    "duration": 15,
    "start_time": "2022-05-20T09:21:39.640Z"
   },
   {
    "duration": 4,
    "start_time": "2022-05-20T09:21:44.092Z"
   },
   {
    "duration": 231,
    "start_time": "2022-05-20T09:21:45.179Z"
   },
   {
    "duration": 5,
    "start_time": "2022-05-20T09:22:41.820Z"
   },
   {
    "duration": 59,
    "start_time": "2022-05-20T09:22:41.827Z"
   },
   {
    "duration": 4,
    "start_time": "2022-05-20T09:22:41.888Z"
   },
   {
    "duration": 18,
    "start_time": "2022-05-20T09:22:41.894Z"
   },
   {
    "duration": 4,
    "start_time": "2022-05-20T09:22:41.914Z"
   },
   {
    "duration": 17,
    "start_time": "2022-05-20T09:22:41.919Z"
   },
   {
    "duration": 9,
    "start_time": "2022-05-20T09:22:41.938Z"
   },
   {
    "duration": 10,
    "start_time": "2022-05-20T09:22:41.949Z"
   },
   {
    "duration": 308,
    "start_time": "2022-05-20T09:22:41.961Z"
   },
   {
    "duration": 3,
    "start_time": "2022-05-20T09:22:42.272Z"
   },
   {
    "duration": 11,
    "start_time": "2022-05-20T09:22:42.277Z"
   },
   {
    "duration": 23,
    "start_time": "2022-05-20T09:22:42.289Z"
   },
   {
    "duration": 17,
    "start_time": "2022-05-20T09:22:42.314Z"
   },
   {
    "duration": 5,
    "start_time": "2022-05-20T09:22:42.333Z"
   },
   {
    "duration": 14,
    "start_time": "2022-05-20T09:22:42.340Z"
   },
   {
    "duration": 19,
    "start_time": "2022-05-20T09:22:43.999Z"
   },
   {
    "duration": 7,
    "start_time": "2022-05-20T09:23:23.752Z"
   },
   {
    "duration": 307,
    "start_time": "2022-05-20T09:23:31.662Z"
   },
   {
    "duration": 4,
    "start_time": "2022-05-20T09:23:56.185Z"
   },
   {
    "duration": 4,
    "start_time": "2022-05-20T09:24:04.058Z"
   },
   {
    "duration": 4,
    "start_time": "2022-05-20T09:25:22.797Z"
   },
   {
    "duration": 55,
    "start_time": "2022-05-20T09:25:22.804Z"
   },
   {
    "duration": 3,
    "start_time": "2022-05-20T09:25:22.861Z"
   },
   {
    "duration": 16,
    "start_time": "2022-05-20T09:25:22.866Z"
   },
   {
    "duration": 5,
    "start_time": "2022-05-20T09:25:22.884Z"
   },
   {
    "duration": 16,
    "start_time": "2022-05-20T09:25:22.891Z"
   },
   {
    "duration": 8,
    "start_time": "2022-05-20T09:25:22.909Z"
   },
   {
    "duration": 10,
    "start_time": "2022-05-20T09:25:22.919Z"
   },
   {
    "duration": 281,
    "start_time": "2022-05-20T09:25:22.931Z"
   },
   {
    "duration": 3,
    "start_time": "2022-05-20T09:25:23.214Z"
   },
   {
    "duration": 6,
    "start_time": "2022-05-20T09:25:23.218Z"
   },
   {
    "duration": 18,
    "start_time": "2022-05-20T09:25:23.226Z"
   },
   {
    "duration": 5,
    "start_time": "2022-05-20T09:25:23.245Z"
   },
   {
    "duration": 4,
    "start_time": "2022-05-20T09:25:23.253Z"
   },
   {
    "duration": 13,
    "start_time": "2022-05-20T09:25:23.259Z"
   },
   {
    "duration": 20,
    "start_time": "2022-05-20T09:25:23.301Z"
   },
   {
    "duration": 9,
    "start_time": "2022-05-20T09:25:23.323Z"
   },
   {
    "duration": 296,
    "start_time": "2022-05-20T09:25:26.785Z"
   },
   {
    "duration": 5,
    "start_time": "2022-05-20T09:25:30.955Z"
   },
   {
    "duration": 5,
    "start_time": "2022-05-20T09:25:31.538Z"
   },
   {
    "duration": 168,
    "start_time": "2022-05-20T09:26:40.006Z"
   },
   {
    "duration": 780,
    "start_time": "2022-05-20T09:26:59.722Z"
   },
   {
    "duration": 873,
    "start_time": "2022-05-20T09:27:28.189Z"
   },
   {
    "duration": 841,
    "start_time": "2022-05-20T09:27:36.419Z"
   },
   {
    "duration": 333,
    "start_time": "2022-05-20T09:27:45.142Z"
   },
   {
    "duration": 4,
    "start_time": "2022-05-20T09:29:00.761Z"
   },
   {
    "duration": 5,
    "start_time": "2022-05-20T09:29:05.513Z"
   },
   {
    "duration": 4,
    "start_time": "2022-05-20T09:29:41.815Z"
   },
   {
    "duration": 52,
    "start_time": "2022-05-20T09:29:41.827Z"
   },
   {
    "duration": 4,
    "start_time": "2022-05-20T09:29:41.882Z"
   },
   {
    "duration": 19,
    "start_time": "2022-05-20T09:29:41.888Z"
   },
   {
    "duration": 3,
    "start_time": "2022-05-20T09:29:41.909Z"
   },
   {
    "duration": 11,
    "start_time": "2022-05-20T09:29:41.914Z"
   },
   {
    "duration": 9,
    "start_time": "2022-05-20T09:29:41.927Z"
   },
   {
    "duration": 11,
    "start_time": "2022-05-20T09:29:41.938Z"
   },
   {
    "duration": 315,
    "start_time": "2022-05-20T09:29:41.951Z"
   },
   {
    "duration": 3,
    "start_time": "2022-05-20T09:29:42.268Z"
   },
   {
    "duration": 7,
    "start_time": "2022-05-20T09:29:42.273Z"
   },
   {
    "duration": 31,
    "start_time": "2022-05-20T09:29:42.281Z"
   },
   {
    "duration": 4,
    "start_time": "2022-05-20T09:29:42.314Z"
   },
   {
    "duration": 6,
    "start_time": "2022-05-20T09:29:42.319Z"
   },
   {
    "duration": 16,
    "start_time": "2022-05-20T09:29:42.328Z"
   },
   {
    "duration": 24,
    "start_time": "2022-05-20T09:29:42.346Z"
   },
   {
    "duration": 9,
    "start_time": "2022-05-20T09:29:42.401Z"
   },
   {
    "duration": 11,
    "start_time": "2022-05-20T09:29:51.257Z"
   },
   {
    "duration": 327,
    "start_time": "2022-05-20T09:29:55.590Z"
   },
   {
    "duration": 5,
    "start_time": "2022-05-20T09:30:00.295Z"
   },
   {
    "duration": 5,
    "start_time": "2022-05-20T09:30:00.679Z"
   },
   {
    "duration": 5,
    "start_time": "2022-05-20T09:30:55.920Z"
   },
   {
    "duration": 67,
    "start_time": "2022-05-20T09:30:55.927Z"
   },
   {
    "duration": 3,
    "start_time": "2022-05-20T09:30:55.996Z"
   },
   {
    "duration": 36,
    "start_time": "2022-05-20T09:30:56.000Z"
   },
   {
    "duration": 3,
    "start_time": "2022-05-20T09:30:56.038Z"
   },
   {
    "duration": 27,
    "start_time": "2022-05-20T09:30:56.043Z"
   },
   {
    "duration": 29,
    "start_time": "2022-05-20T09:30:56.072Z"
   },
   {
    "duration": 28,
    "start_time": "2022-05-20T09:30:56.104Z"
   },
   {
    "duration": 320,
    "start_time": "2022-05-20T09:30:56.134Z"
   },
   {
    "duration": 2,
    "start_time": "2022-05-20T09:30:56.456Z"
   },
   {
    "duration": 10,
    "start_time": "2022-05-20T09:30:56.460Z"
   },
   {
    "duration": 18,
    "start_time": "2022-05-20T09:30:56.472Z"
   },
   {
    "duration": 9,
    "start_time": "2022-05-20T09:30:56.503Z"
   },
   {
    "duration": 15,
    "start_time": "2022-05-20T09:30:56.516Z"
   },
   {
    "duration": 22,
    "start_time": "2022-05-20T09:30:56.533Z"
   },
   {
    "duration": 31,
    "start_time": "2022-05-20T09:30:56.557Z"
   },
   {
    "duration": 12,
    "start_time": "2022-05-20T09:30:56.591Z"
   },
   {
    "duration": 347,
    "start_time": "2022-05-20T09:30:59.560Z"
   },
   {
    "duration": 5,
    "start_time": "2022-05-20T09:31:01.644Z"
   },
   {
    "duration": 5,
    "start_time": "2022-05-20T09:31:02.065Z"
   },
   {
    "duration": 10,
    "start_time": "2022-05-20T09:31:52.237Z"
   },
   {
    "duration": 346,
    "start_time": "2022-05-20T09:31:52.867Z"
   },
   {
    "duration": 5,
    "start_time": "2022-05-20T09:31:55.388Z"
   },
   {
    "duration": 6,
    "start_time": "2022-05-20T09:31:55.720Z"
   },
   {
    "duration": 6,
    "start_time": "2022-05-20T09:32:17.075Z"
   },
   {
    "duration": 5,
    "start_time": "2022-05-20T09:32:21.573Z"
   },
   {
    "duration": 4,
    "start_time": "2022-05-20T09:32:46.086Z"
   },
   {
    "duration": 58,
    "start_time": "2022-05-20T09:32:46.092Z"
   },
   {
    "duration": 3,
    "start_time": "2022-05-20T09:32:46.152Z"
   },
   {
    "duration": 16,
    "start_time": "2022-05-20T09:32:46.157Z"
   },
   {
    "duration": 15,
    "start_time": "2022-05-20T09:32:46.174Z"
   },
   {
    "duration": 19,
    "start_time": "2022-05-20T09:32:46.191Z"
   },
   {
    "duration": 16,
    "start_time": "2022-05-20T09:32:46.212Z"
   },
   {
    "duration": 45,
    "start_time": "2022-05-20T09:32:46.229Z"
   },
   {
    "duration": 292,
    "start_time": "2022-05-20T09:32:46.276Z"
   },
   {
    "duration": 3,
    "start_time": "2022-05-20T09:32:46.573Z"
   },
   {
    "duration": 25,
    "start_time": "2022-05-20T09:32:46.578Z"
   },
   {
    "duration": 22,
    "start_time": "2022-05-20T09:32:46.605Z"
   },
   {
    "duration": 10,
    "start_time": "2022-05-20T09:32:46.629Z"
   },
   {
    "duration": 24,
    "start_time": "2022-05-20T09:32:46.641Z"
   },
   {
    "duration": 20,
    "start_time": "2022-05-20T09:32:46.667Z"
   },
   {
    "duration": 35,
    "start_time": "2022-05-20T09:32:46.689Z"
   },
   {
    "duration": 10,
    "start_time": "2022-05-20T09:32:46.726Z"
   },
   {
    "duration": 314,
    "start_time": "2022-05-20T09:32:48.539Z"
   },
   {
    "duration": 5,
    "start_time": "2022-05-20T09:32:50.444Z"
   },
   {
    "duration": 6,
    "start_time": "2022-05-20T09:32:50.741Z"
   },
   {
    "duration": 6,
    "start_time": "2022-05-20T09:36:12.925Z"
   },
   {
    "duration": 5,
    "start_time": "2022-05-20T09:38:24.824Z"
   },
   {
    "duration": 11,
    "start_time": "2022-05-20T09:38:59.532Z"
   },
   {
    "duration": 20,
    "start_time": "2022-05-20T09:39:10.032Z"
   },
   {
    "duration": 10,
    "start_time": "2022-05-20T09:39:48.053Z"
   },
   {
    "duration": 18,
    "start_time": "2022-05-20T09:41:04.831Z"
   },
   {
    "duration": 5,
    "start_time": "2022-05-20T09:42:28.339Z"
   },
   {
    "duration": 23,
    "start_time": "2022-05-20T09:42:28.933Z"
   },
   {
    "duration": 11,
    "start_time": "2022-05-20T09:42:34.300Z"
   },
   {
    "duration": 1450,
    "start_time": "2022-05-20T09:43:34.112Z"
   },
   {
    "duration": 52,
    "start_time": "2022-05-20T09:43:35.564Z"
   },
   {
    "duration": 4,
    "start_time": "2022-05-20T09:43:35.618Z"
   },
   {
    "duration": 24,
    "start_time": "2022-05-20T09:43:35.625Z"
   },
   {
    "duration": 4,
    "start_time": "2022-05-20T09:43:35.652Z"
   },
   {
    "duration": 15,
    "start_time": "2022-05-20T09:43:35.657Z"
   },
   {
    "duration": 28,
    "start_time": "2022-05-20T09:43:35.674Z"
   },
   {
    "duration": 9,
    "start_time": "2022-05-20T09:43:35.704Z"
   },
   {
    "duration": 457,
    "start_time": "2022-05-20T09:43:35.716Z"
   },
   {
    "duration": 4,
    "start_time": "2022-05-20T09:43:36.175Z"
   },
   {
    "duration": 10,
    "start_time": "2022-05-20T09:43:36.181Z"
   },
   {
    "duration": 16,
    "start_time": "2022-05-20T09:43:36.193Z"
   },
   {
    "duration": 9,
    "start_time": "2022-05-20T09:43:36.211Z"
   },
   {
    "duration": 7,
    "start_time": "2022-05-20T09:43:36.223Z"
   },
   {
    "duration": 12,
    "start_time": "2022-05-20T09:43:36.232Z"
   },
   {
    "duration": 19,
    "start_time": "2022-05-20T09:43:36.246Z"
   },
   {
    "duration": 36,
    "start_time": "2022-05-20T09:43:36.267Z"
   },
   {
    "duration": 330,
    "start_time": "2022-05-20T09:43:36.304Z"
   },
   {
    "duration": 5,
    "start_time": "2022-05-20T09:43:36.636Z"
   },
   {
    "duration": 9,
    "start_time": "2022-05-20T09:43:36.644Z"
   },
   {
    "duration": 259,
    "start_time": "2022-05-20T09:43:36.655Z"
   },
   {
    "duration": 269,
    "start_time": "2022-05-20T09:43:36.916Z"
   },
   {
    "duration": 327,
    "start_time": "2022-05-20T09:43:37.187Z"
   },
   {
    "duration": 5,
    "start_time": "2022-05-20T09:43:37.516Z"
   },
   {
    "duration": 29,
    "start_time": "2022-05-20T09:43:37.523Z"
   },
   {
    "duration": 12,
    "start_time": "2022-05-20T09:43:37.554Z"
   },
   {
    "duration": 15,
    "start_time": "2022-05-20T09:43:43.295Z"
   },
   {
    "duration": 1364,
    "start_time": "2022-05-20T09:44:37.027Z"
   },
   {
    "duration": 59,
    "start_time": "2022-05-20T09:44:38.393Z"
   },
   {
    "duration": 4,
    "start_time": "2022-05-20T09:44:38.454Z"
   },
   {
    "duration": 34,
    "start_time": "2022-05-20T09:44:38.461Z"
   },
   {
    "duration": 3,
    "start_time": "2022-05-20T09:44:38.497Z"
   },
   {
    "duration": 17,
    "start_time": "2022-05-20T09:44:38.502Z"
   },
   {
    "duration": 17,
    "start_time": "2022-05-20T09:44:38.523Z"
   },
   {
    "duration": 17,
    "start_time": "2022-05-20T09:44:38.542Z"
   },
   {
    "duration": 452,
    "start_time": "2022-05-20T09:44:38.561Z"
   },
   {
    "duration": 4,
    "start_time": "2022-05-20T09:44:39.016Z"
   },
   {
    "duration": 14,
    "start_time": "2022-05-20T09:44:39.022Z"
   },
   {
    "duration": 18,
    "start_time": "2022-05-20T09:44:39.038Z"
   },
   {
    "duration": 4,
    "start_time": "2022-05-20T09:44:39.058Z"
   },
   {
    "duration": 8,
    "start_time": "2022-05-20T09:44:39.064Z"
   },
   {
    "duration": 19,
    "start_time": "2022-05-20T09:44:39.073Z"
   },
   {
    "duration": 23,
    "start_time": "2022-05-20T09:44:39.094Z"
   },
   {
    "duration": 9,
    "start_time": "2022-05-20T09:44:39.118Z"
   },
   {
    "duration": 343,
    "start_time": "2022-05-20T09:44:39.129Z"
   },
   {
    "duration": 6,
    "start_time": "2022-05-20T09:44:39.474Z"
   },
   {
    "duration": 29,
    "start_time": "2022-05-20T09:44:39.481Z"
   },
   {
    "duration": 256,
    "start_time": "2022-05-20T09:44:39.512Z"
   },
   {
    "duration": 249,
    "start_time": "2022-05-20T09:44:39.770Z"
   },
   {
    "duration": 327,
    "start_time": "2022-05-20T09:44:40.022Z"
   },
   {
    "duration": 7,
    "start_time": "2022-05-20T09:44:40.351Z"
   },
   {
    "duration": 45,
    "start_time": "2022-05-20T09:44:40.360Z"
   },
   {
    "duration": 16,
    "start_time": "2022-05-20T09:44:40.407Z"
   },
   {
    "duration": 24,
    "start_time": "2022-05-20T09:44:40.426Z"
   },
   {
    "duration": 15,
    "start_time": "2022-05-20T09:44:49.068Z"
   },
   {
    "duration": 1453,
    "start_time": "2022-05-20T09:47:11.986Z"
   },
   {
    "duration": 51,
    "start_time": "2022-05-20T09:47:13.441Z"
   },
   {
    "duration": 3,
    "start_time": "2022-05-20T09:47:13.493Z"
   },
   {
    "duration": 21,
    "start_time": "2022-05-20T09:47:13.498Z"
   },
   {
    "duration": 2,
    "start_time": "2022-05-20T09:47:13.521Z"
   },
   {
    "duration": 13,
    "start_time": "2022-05-20T09:47:13.525Z"
   },
   {
    "duration": 10,
    "start_time": "2022-05-20T09:47:13.540Z"
   },
   {
    "duration": 8,
    "start_time": "2022-05-20T09:47:13.552Z"
   },
   {
    "duration": 447,
    "start_time": "2022-05-20T09:47:13.562Z"
   },
   {
    "duration": 3,
    "start_time": "2022-05-20T09:47:14.012Z"
   },
   {
    "duration": 13,
    "start_time": "2022-05-20T09:47:14.016Z"
   },
   {
    "duration": 22,
    "start_time": "2022-05-20T09:47:14.030Z"
   },
   {
    "duration": 6,
    "start_time": "2022-05-20T09:47:14.054Z"
   },
   {
    "duration": 5,
    "start_time": "2022-05-20T09:47:14.062Z"
   },
   {
    "duration": 16,
    "start_time": "2022-05-20T09:47:14.068Z"
   },
   {
    "duration": 28,
    "start_time": "2022-05-20T09:47:14.086Z"
   },
   {
    "duration": 8,
    "start_time": "2022-05-20T09:47:14.116Z"
   },
   {
    "duration": 349,
    "start_time": "2022-05-20T09:47:14.126Z"
   },
   {
    "duration": 5,
    "start_time": "2022-05-20T09:47:14.477Z"
   },
   {
    "duration": 19,
    "start_time": "2022-05-20T09:47:14.484Z"
   },
   {
    "duration": 237,
    "start_time": "2022-05-20T09:47:14.505Z"
   },
   {
    "duration": 250,
    "start_time": "2022-05-20T09:47:14.744Z"
   },
   {
    "duration": 329,
    "start_time": "2022-05-20T09:47:14.996Z"
   },
   {
    "duration": 5,
    "start_time": "2022-05-20T09:47:15.327Z"
   },
   {
    "duration": 5,
    "start_time": "2022-05-20T09:47:15.334Z"
   },
   {
    "duration": 10,
    "start_time": "2022-05-20T09:47:15.341Z"
   },
   {
    "duration": 5,
    "start_time": "2022-05-20T09:47:15.352Z"
   },
   {
    "duration": 4,
    "start_time": "2022-05-20T09:47:15.360Z"
   },
   {
    "duration": 5,
    "start_time": "2022-05-20T09:47:15.366Z"
   },
   {
    "duration": 5,
    "start_time": "2022-05-20T09:47:15.372Z"
   },
   {
    "duration": 43549,
    "start_time": "2022-05-20T09:47:15.378Z"
   },
   {
    "duration": 11,
    "start_time": "2022-05-20T09:48:06.717Z"
   },
   {
    "duration": 23,
    "start_time": "2022-05-20T09:48:23.415Z"
   },
   {
    "duration": 907,
    "start_time": "2022-05-20T09:48:28.917Z"
   },
   {
    "duration": 2517,
    "start_time": "2022-05-20T09:48:33.701Z"
   },
   {
    "duration": 23,
    "start_time": "2022-05-20T09:48:44.898Z"
   },
   {
    "duration": 3,
    "start_time": "2022-05-20T09:48:48.139Z"
   },
   {
    "duration": 23,
    "start_time": "2022-05-20T09:49:11.045Z"
   },
   {
    "duration": 4,
    "start_time": "2022-05-20T09:49:13.512Z"
   },
   {
    "duration": 12,
    "start_time": "2022-05-20T09:49:14.223Z"
   },
   {
    "duration": 625,
    "start_time": "2022-05-20T09:49:19.604Z"
   },
   {
    "duration": 4,
    "start_time": "2022-05-20T10:05:05.334Z"
   },
   {
    "duration": 48,
    "start_time": "2022-05-20T10:05:06.930Z"
   },
   {
    "duration": 3,
    "start_time": "2022-05-20T10:05:09.064Z"
   },
   {
    "duration": 14,
    "start_time": "2022-05-20T10:05:09.619Z"
   },
   {
    "duration": 11,
    "start_time": "2022-05-20T10:05:15.511Z"
   },
   {
    "duration": 12,
    "start_time": "2022-05-20T10:05:27.453Z"
   },
   {
    "duration": 272,
    "start_time": "2022-05-20T10:06:32.736Z"
   },
   {
    "duration": 276,
    "start_time": "2022-05-20T10:06:39.846Z"
   },
   {
    "duration": 273,
    "start_time": "2022-05-20T10:06:49.393Z"
   },
   {
    "duration": 279,
    "start_time": "2022-05-20T10:06:55.988Z"
   },
   {
    "duration": 320,
    "start_time": "2022-05-20T10:07:37.051Z"
   },
   {
    "duration": 286,
    "start_time": "2022-05-20T10:08:22.643Z"
   },
   {
    "duration": 331,
    "start_time": "2022-05-20T10:10:05.075Z"
   },
   {
    "duration": 319,
    "start_time": "2022-05-20T10:10:16.527Z"
   },
   {
    "duration": 352,
    "start_time": "2022-05-20T10:10:59.036Z"
   },
   {
    "duration": 15,
    "start_time": "2022-05-20T10:12:53.870Z"
   },
   {
    "duration": 299,
    "start_time": "2022-05-20T10:13:40.833Z"
   },
   {
    "duration": 176,
    "start_time": "2022-05-20T10:13:59.761Z"
   },
   {
    "duration": 324,
    "start_time": "2022-05-20T10:14:22.750Z"
   },
   {
    "duration": 4,
    "start_time": "2022-05-20T10:14:51.848Z"
   },
   {
    "duration": 49,
    "start_time": "2022-05-20T10:14:51.855Z"
   },
   {
    "duration": 3,
    "start_time": "2022-05-20T10:14:51.905Z"
   },
   {
    "duration": 20,
    "start_time": "2022-05-20T10:14:51.910Z"
   },
   {
    "duration": 8,
    "start_time": "2022-05-20T10:14:51.932Z"
   },
   {
    "duration": 11,
    "start_time": "2022-05-20T10:14:51.942Z"
   },
   {
    "duration": 300,
    "start_time": "2022-05-20T10:14:51.955Z"
   },
   {
    "duration": 333,
    "start_time": "2022-05-20T10:14:52.258Z"
   },
   {
    "duration": 309,
    "start_time": "2022-05-20T10:14:52.594Z"
   },
   {
    "duration": 328,
    "start_time": "2022-05-20T10:14:55.207Z"
   },
   {
    "duration": 712,
    "start_time": "2022-05-20T10:15:01.215Z"
   },
   {
    "duration": 1064,
    "start_time": "2022-05-20T10:15:56.365Z"
   },
   {
    "duration": 593,
    "start_time": "2022-05-20T10:16:21.720Z"
   },
   {
    "duration": 13,
    "start_time": "2022-05-20T10:18:32.938Z"
   },
   {
    "duration": 726,
    "start_time": "2022-05-20T10:22:43.706Z"
   },
   {
    "duration": 711,
    "start_time": "2022-05-20T10:24:31.099Z"
   },
   {
    "duration": 921,
    "start_time": "2022-05-20T10:24:42.863Z"
   },
   {
    "duration": 312,
    "start_time": "2022-05-20T10:25:39.798Z"
   },
   {
    "duration": 586,
    "start_time": "2022-05-20T10:26:37.425Z"
   },
   {
    "duration": 5,
    "start_time": "2022-05-20T10:26:53.188Z"
   },
   {
    "duration": 5,
    "start_time": "2022-05-20T10:27:54.467Z"
   },
   {
    "duration": 8,
    "start_time": "2022-05-20T10:29:00.950Z"
   },
   {
    "duration": 111,
    "start_time": "2022-05-20T10:30:02.771Z"
   },
   {
    "duration": 44,
    "start_time": "2022-05-20T10:30:05.521Z"
   },
   {
    "duration": 9,
    "start_time": "2022-05-20T10:30:08.473Z"
   },
   {
    "duration": 1492,
    "start_time": "2022-05-20T10:32:19.163Z"
   },
   {
    "duration": 62,
    "start_time": "2022-05-20T10:32:20.657Z"
   },
   {
    "duration": 4,
    "start_time": "2022-05-20T10:32:20.722Z"
   },
   {
    "duration": 24,
    "start_time": "2022-05-20T10:32:20.728Z"
   },
   {
    "duration": 10,
    "start_time": "2022-05-20T10:32:20.754Z"
   },
   {
    "duration": 15,
    "start_time": "2022-05-20T10:32:20.766Z"
   },
   {
    "duration": 382,
    "start_time": "2022-05-20T10:32:20.783Z"
   },
   {
    "duration": 429,
    "start_time": "2022-05-20T10:32:21.168Z"
   },
   {
    "duration": 326,
    "start_time": "2022-05-20T10:32:21.598Z"
   },
   {
    "duration": 869,
    "start_time": "2022-05-20T10:32:21.926Z"
   },
   {
    "duration": 591,
    "start_time": "2022-05-20T10:32:22.796Z"
   },
   {
    "duration": 148,
    "start_time": "2022-05-20T10:32:23.388Z"
   },
   {
    "duration": 0,
    "start_time": "2022-05-20T10:32:23.538Z"
   },
   {
    "duration": 0,
    "start_time": "2022-05-20T10:32:23.540Z"
   },
   {
    "duration": 0,
    "start_time": "2022-05-20T10:32:23.541Z"
   },
   {
    "duration": 0,
    "start_time": "2022-05-20T10:32:23.542Z"
   },
   {
    "duration": 0,
    "start_time": "2022-05-20T10:32:23.544Z"
   },
   {
    "duration": 0,
    "start_time": "2022-05-20T10:32:23.544Z"
   },
   {
    "duration": 0,
    "start_time": "2022-05-20T10:32:23.546Z"
   },
   {
    "duration": 0,
    "start_time": "2022-05-20T10:32:23.546Z"
   },
   {
    "duration": 0,
    "start_time": "2022-05-20T10:32:23.548Z"
   },
   {
    "duration": 0,
    "start_time": "2022-05-20T10:32:23.549Z"
   },
   {
    "duration": 344,
    "start_time": "2022-05-20T10:33:28.051Z"
   },
   {
    "duration": 9,
    "start_time": "2022-05-20T10:33:34.065Z"
   },
   {
    "duration": 6,
    "start_time": "2022-05-20T10:33:37.844Z"
   },
   {
    "duration": 6,
    "start_time": "2022-05-20T10:33:39.076Z"
   },
   {
    "duration": 4,
    "start_time": "2022-05-20T10:33:39.534Z"
   },
   {
    "duration": 4,
    "start_time": "2022-05-20T10:33:39.957Z"
   },
   {
    "duration": 3,
    "start_time": "2022-05-20T10:33:40.447Z"
   },
   {
    "duration": 3,
    "start_time": "2022-05-20T10:33:40.926Z"
   },
   {
    "duration": 4,
    "start_time": "2022-05-20T10:33:41.432Z"
   },
   {
    "duration": 70208,
    "start_time": "2022-05-20T10:33:42.216Z"
   },
   {
    "duration": 12,
    "start_time": "2022-05-20T10:35:15.868Z"
   },
   {
    "duration": 23,
    "start_time": "2022-05-20T10:35:47.893Z"
   },
   {
    "duration": 10,
    "start_time": "2022-05-20T10:36:15.623Z"
   },
   {
    "duration": 660,
    "start_time": "2022-05-20T10:36:27.178Z"
   },
   {
    "duration": 789,
    "start_time": "2022-05-20T10:37:01.681Z"
   },
   {
    "duration": 47,
    "start_time": "2022-05-20T10:43:50.327Z"
   },
   {
    "duration": 15,
    "start_time": "2022-05-20T10:53:09.317Z"
   },
   {
    "duration": 1347,
    "start_time": "2022-05-20T11:13:24.414Z"
   },
   {
    "duration": 50,
    "start_time": "2022-05-20T11:13:25.763Z"
   },
   {
    "duration": 3,
    "start_time": "2022-05-20T11:13:25.818Z"
   },
   {
    "duration": 24,
    "start_time": "2022-05-20T11:13:25.823Z"
   },
   {
    "duration": 10,
    "start_time": "2022-05-20T11:13:25.849Z"
   },
   {
    "duration": 13,
    "start_time": "2022-05-20T11:13:25.860Z"
   },
   {
    "duration": 334,
    "start_time": "2022-05-20T11:13:25.875Z"
   },
   {
    "duration": 319,
    "start_time": "2022-05-20T11:13:26.210Z"
   },
   {
    "duration": 289,
    "start_time": "2022-05-20T11:13:26.532Z"
   },
   {
    "duration": 788,
    "start_time": "2022-05-20T11:13:26.823Z"
   },
   {
    "duration": 596,
    "start_time": "2022-05-20T11:13:27.613Z"
   },
   {
    "duration": 343,
    "start_time": "2022-05-20T11:13:28.211Z"
   },
   {
    "duration": 8,
    "start_time": "2022-05-20T11:13:28.556Z"
   },
   {
    "duration": 6,
    "start_time": "2022-05-20T11:13:28.566Z"
   },
   {
    "duration": 5,
    "start_time": "2022-05-20T11:13:28.574Z"
   },
   {
    "duration": 5,
    "start_time": "2022-05-20T11:13:28.602Z"
   },
   {
    "duration": 12,
    "start_time": "2022-05-20T11:13:28.608Z"
   },
   {
    "duration": 5,
    "start_time": "2022-05-20T11:13:28.622Z"
   },
   {
    "duration": 6,
    "start_time": "2022-05-20T11:13:28.628Z"
   },
   {
    "duration": 7,
    "start_time": "2022-05-20T11:13:28.636Z"
   },
   {
    "duration": 68202,
    "start_time": "2022-05-20T11:13:28.644Z"
   },
   {
    "duration": 12,
    "start_time": "2022-05-20T11:14:36.848Z"
   },
   {
    "duration": 25,
    "start_time": "2022-05-20T11:14:36.862Z"
   },
   {
    "duration": 19,
    "start_time": "2022-05-20T11:14:36.889Z"
   },
   {
    "duration": 676,
    "start_time": "2022-05-20T11:14:36.910Z"
   },
   {
    "duration": 621,
    "start_time": "2022-05-20T11:16:03.113Z"
   },
   {
    "duration": 2413,
    "start_time": "2022-05-21T07:09:15.968Z"
   },
   {
    "duration": 34,
    "start_time": "2022-05-21T07:09:18.382Z"
   },
   {
    "duration": 4,
    "start_time": "2022-05-21T07:09:18.418Z"
   },
   {
    "duration": 53,
    "start_time": "2022-05-21T07:09:18.435Z"
   },
   {
    "duration": 11,
    "start_time": "2022-05-21T07:09:18.490Z"
   },
   {
    "duration": 19,
    "start_time": "2022-05-21T07:09:19.568Z"
   },
   {
    "duration": 1658,
    "start_time": "2022-05-23T21:13:13.346Z"
   },
   {
    "duration": 127,
    "start_time": "2022-05-23T21:13:15.007Z"
   },
   {
    "duration": 4,
    "start_time": "2022-05-23T21:13:15.135Z"
   },
   {
    "duration": 28,
    "start_time": "2022-05-23T21:13:15.141Z"
   },
   {
    "duration": 11,
    "start_time": "2022-05-23T21:13:15.171Z"
   },
   {
    "duration": 17,
    "start_time": "2022-05-23T21:13:15.183Z"
   },
   {
    "duration": 345,
    "start_time": "2022-05-23T21:13:15.202Z"
   },
   {
    "duration": 307,
    "start_time": "2022-05-23T21:13:15.549Z"
   },
   {
    "duration": 317,
    "start_time": "2022-05-23T21:13:15.858Z"
   },
   {
    "duration": 791,
    "start_time": "2022-05-23T21:13:16.178Z"
   },
   {
    "duration": 575,
    "start_time": "2022-05-23T21:13:16.971Z"
   },
   {
    "duration": 316,
    "start_time": "2022-05-23T21:13:17.549Z"
   },
   {
    "duration": 8,
    "start_time": "2022-05-23T21:13:17.867Z"
   },
   {
    "duration": 9,
    "start_time": "2022-05-23T21:13:17.877Z"
   },
   {
    "duration": 7,
    "start_time": "2022-05-23T21:13:17.888Z"
   },
   {
    "duration": 27,
    "start_time": "2022-05-23T21:13:17.896Z"
   },
   {
    "duration": 4,
    "start_time": "2022-05-23T21:13:17.925Z"
   },
   {
    "duration": 18,
    "start_time": "2022-05-23T21:13:17.931Z"
   },
   {
    "duration": 9,
    "start_time": "2022-05-23T21:13:17.952Z"
   },
   {
    "duration": 8,
    "start_time": "2022-05-23T21:13:17.963Z"
   },
   {
    "duration": 59255,
    "start_time": "2022-05-23T21:13:17.972Z"
   },
   {
    "duration": 17,
    "start_time": "2022-05-23T21:14:17.229Z"
   },
   {
    "duration": 22,
    "start_time": "2022-05-23T21:14:17.248Z"
   },
   {
    "duration": 11,
    "start_time": "2022-05-23T21:14:17.271Z"
   },
   {
    "duration": 781,
    "start_time": "2022-05-23T21:14:17.283Z"
   },
   {
    "duration": 18,
    "start_time": "2022-05-23T21:15:52.924Z"
   },
   {
    "duration": 533,
    "start_time": "2022-05-23T21:16:02.953Z"
   },
   {
    "duration": 10,
    "start_time": "2022-05-23T21:18:16.749Z"
   },
   {
    "duration": 14,
    "start_time": "2022-05-23T21:18:21.374Z"
   },
   {
    "duration": 509,
    "start_time": "2022-05-23T21:18:24.140Z"
   },
   {
    "duration": 10,
    "start_time": "2022-05-23T21:19:44.408Z"
   },
   {
    "duration": 13,
    "start_time": "2022-05-23T21:19:44.965Z"
   },
   {
    "duration": 544,
    "start_time": "2022-05-23T21:19:45.421Z"
   },
   {
    "duration": 2280,
    "start_time": "2022-05-23T21:20:21.058Z"
   },
   {
    "duration": 2166,
    "start_time": "2022-05-23T21:20:47.556Z"
   },
   {
    "duration": 2351,
    "start_time": "2022-05-23T21:21:06.726Z"
   },
   {
    "duration": 10,
    "start_time": "2022-05-23T21:22:15.036Z"
   },
   {
    "duration": 12,
    "start_time": "2022-05-23T21:22:15.679Z"
   },
   {
    "duration": 998,
    "start_time": "2022-05-23T21:22:19.392Z"
   },
   {
    "duration": 1257,
    "start_time": "2022-05-23T21:26:33.171Z"
   },
   {
    "duration": 48,
    "start_time": "2022-05-23T21:26:34.430Z"
   },
   {
    "duration": 3,
    "start_time": "2022-05-23T21:26:34.482Z"
   },
   {
    "duration": 17,
    "start_time": "2022-05-23T21:26:34.487Z"
   },
   {
    "duration": 10,
    "start_time": "2022-05-23T21:26:34.506Z"
   },
   {
    "duration": 13,
    "start_time": "2022-05-23T21:26:34.523Z"
   },
   {
    "duration": 301,
    "start_time": "2022-05-23T21:26:34.538Z"
   },
   {
    "duration": 295,
    "start_time": "2022-05-23T21:26:34.841Z"
   },
   {
    "duration": 270,
    "start_time": "2022-05-23T21:26:35.137Z"
   },
   {
    "duration": 742,
    "start_time": "2022-05-23T21:26:35.409Z"
   },
   {
    "duration": 525,
    "start_time": "2022-05-23T21:26:36.152Z"
   },
   {
    "duration": 283,
    "start_time": "2022-05-23T21:26:36.679Z"
   },
   {
    "duration": 8,
    "start_time": "2022-05-23T21:26:36.964Z"
   },
   {
    "duration": 6,
    "start_time": "2022-05-23T21:26:36.973Z"
   },
   {
    "duration": 7,
    "start_time": "2022-05-23T21:26:36.980Z"
   },
   {
    "duration": 5,
    "start_time": "2022-05-23T21:26:36.988Z"
   },
   {
    "duration": 31,
    "start_time": "2022-05-23T21:26:36.994Z"
   },
   {
    "duration": 5,
    "start_time": "2022-05-23T21:26:37.026Z"
   },
   {
    "duration": 4,
    "start_time": "2022-05-23T21:26:37.033Z"
   },
   {
    "duration": 4,
    "start_time": "2022-05-23T21:26:37.039Z"
   },
   {
    "duration": 54764,
    "start_time": "2022-05-23T21:26:37.044Z"
   },
   {
    "duration": 11,
    "start_time": "2022-05-23T21:27:31.810Z"
   },
   {
    "duration": 28,
    "start_time": "2022-05-23T21:27:31.823Z"
   },
   {
    "duration": 10,
    "start_time": "2022-05-23T21:27:31.853Z"
   },
   {
    "duration": 59,
    "start_time": "2022-05-23T21:27:31.865Z"
   },
   {
    "duration": 1144,
    "start_time": "2022-05-23T21:27:31.927Z"
   }
  ],
  "kernelspec": {
   "display_name": "Python 3 (ipykernel)",
   "language": "python",
   "name": "python3"
  },
  "language_info": {
   "codemirror_mode": {
    "name": "ipython",
    "version": 3
   },
   "file_extension": ".py",
   "mimetype": "text/x-python",
   "name": "python",
   "nbconvert_exporter": "python",
   "pygments_lexer": "ipython3",
   "version": "3.9.7"
  },
  "toc": {
   "base_numbering": 1,
   "nav_menu": {},
   "number_sections": true,
   "sideBar": true,
   "skip_h1_title": true,
   "title_cell": "Содержание",
   "title_sidebar": "Contents",
   "toc_cell": true,
   "toc_position": {},
   "toc_section_display": true,
   "toc_window_display": true
  }
 },
 "nbformat": 4,
 "nbformat_minor": 2
}
