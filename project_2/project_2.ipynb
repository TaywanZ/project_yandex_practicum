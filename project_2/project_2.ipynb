{
 "cells": [
  {
   "cell_type": "markdown",
   "metadata": {
    "toc": true
   },
   "source": [
    "<h1>Содержание<span class=\"tocSkip\"></span></h1>\n",
    "<div class=\"toc\"><ul class=\"toc-item\"><li><span><a href=\"#Изучение-данных-из-файла\" data-toc-modified-id=\"Изучение-данных-из-файла-1\"><span class=\"toc-item-num\">1&nbsp;&nbsp;</span>Изучение данных из файла</a></span><ul class=\"toc-item\"><li><span><a href=\"#Вывод\" data-toc-modified-id=\"Вывод-1.1\"><span class=\"toc-item-num\">1.1&nbsp;&nbsp;</span>Вывод</a></span></li></ul></li><li><span><a href=\"#Предобработка-данных\" data-toc-modified-id=\"Предобработка-данных-2\"><span class=\"toc-item-num\">2&nbsp;&nbsp;</span>Предобработка данных</a></span><ul class=\"toc-item\"><li><span><a href=\"#Вывод\" data-toc-modified-id=\"Вывод-2.1\"><span class=\"toc-item-num\">2.1&nbsp;&nbsp;</span>Вывод</a></span></li></ul></li><li><span><a href=\"#Расчёты-и-добавление-результатов-в-таблицу\" data-toc-modified-id=\"Расчёты-и-добавление-результатов-в-таблицу-3\"><span class=\"toc-item-num\">3&nbsp;&nbsp;</span>Расчёты и добавление результатов в таблицу</a></span></li><li><span><a href=\"#Исследовательский-анализ-данных\" data-toc-modified-id=\"Исследовательский-анализ-данных-4\"><span class=\"toc-item-num\">4&nbsp;&nbsp;</span>Исследовательский анализ данных</a></span><ul class=\"toc-item\"><li><span><a href=\"#Фильтрация-выбросов\" data-toc-modified-id=\"Фильтрация-выбросов-4.1\"><span class=\"toc-item-num\">4.1&nbsp;&nbsp;</span>Фильтрация выбросов</a></span></li><li><span><a href=\"#Изучение-зависимостей\" data-toc-modified-id=\"Изучение-зависимостей-4.2\"><span class=\"toc-item-num\">4.2&nbsp;&nbsp;</span>Изучение зависимостей</a></span></li></ul></li><li><span><a href=\"#Общий-вывод\" data-toc-modified-id=\"Общий-вывод-5\"><span class=\"toc-item-num\">5&nbsp;&nbsp;</span>Общий вывод</a></span></li><li><span><a href=\"#Чек-лист-готовности-проекта\" data-toc-modified-id=\"Чек-лист-готовности-проекта-6\"><span class=\"toc-item-num\">6&nbsp;&nbsp;</span>Чек-лист готовности проекта</a></span></li></ul></div>"
   ]
  },
  {
   "cell_type": "markdown",
   "metadata": {},
   "source": [
    "# Исследование объявлений о продаже квартир\n",
    "\n",
    "В вашем распоряжении данные сервиса Яндекс.Недвижимость — архив объявлений о продаже квартир в Санкт-Петербурге и соседних населённых пунктах за несколько лет. Нужно научиться определять рыночную стоимость объектов недвижимости. Ваша задача — установить параметры. Это позволит построить автоматизированную систему: она отследит аномалии и мошенническую деятельность. \n",
    "\n",
    "По каждой квартире на продажу доступны два вида данных. Первые вписаны пользователем, вторые получены автоматически на основе картографических данных. Например, расстояние до центра, аэропорта, ближайшего парка и водоёма. "
   ]
  },
  {
   "cell_type": "markdown",
   "metadata": {},
   "source": [
    "## Изучение данных из файла"
   ]
  },
  {
   "cell_type": "code",
   "execution_count": 541,
   "metadata": {
    "scrolled": false
   },
   "outputs": [
    {
     "data": {
      "text/html": [
       "<div>\n",
       "<style scoped>\n",
       "    .dataframe tbody tr th:only-of-type {\n",
       "        vertical-align: middle;\n",
       "    }\n",
       "\n",
       "    .dataframe tbody tr th {\n",
       "        vertical-align: top;\n",
       "    }\n",
       "\n",
       "    .dataframe thead th {\n",
       "        text-align: right;\n",
       "    }\n",
       "</style>\n",
       "<table border=\"1\" class=\"dataframe\">\n",
       "  <thead>\n",
       "    <tr style=\"text-align: right;\">\n",
       "      <th></th>\n",
       "      <th>total_images</th>\n",
       "      <th>last_price</th>\n",
       "      <th>total_area</th>\n",
       "      <th>first_day_exposition</th>\n",
       "      <th>rooms</th>\n",
       "      <th>ceiling_height</th>\n",
       "      <th>floors_total</th>\n",
       "      <th>living_area</th>\n",
       "      <th>floor</th>\n",
       "      <th>is_apartment</th>\n",
       "      <th>...</th>\n",
       "      <th>kitchen_area</th>\n",
       "      <th>balcony</th>\n",
       "      <th>locality_name</th>\n",
       "      <th>airports_nearest</th>\n",
       "      <th>cityCenters_nearest</th>\n",
       "      <th>parks_around3000</th>\n",
       "      <th>parks_nearest</th>\n",
       "      <th>ponds_around3000</th>\n",
       "      <th>ponds_nearest</th>\n",
       "      <th>days_exposition</th>\n",
       "    </tr>\n",
       "  </thead>\n",
       "  <tbody>\n",
       "    <tr>\n",
       "      <td>0</td>\n",
       "      <td>20</td>\n",
       "      <td>13,000,000.000</td>\n",
       "      <td>108.000</td>\n",
       "      <td>2019-03-07T00:00:00</td>\n",
       "      <td>3</td>\n",
       "      <td>2.700</td>\n",
       "      <td>16.000</td>\n",
       "      <td>51.000</td>\n",
       "      <td>8</td>\n",
       "      <td>NaN</td>\n",
       "      <td>...</td>\n",
       "      <td>25.000</td>\n",
       "      <td>nan</td>\n",
       "      <td>Санкт-Петербург</td>\n",
       "      <td>18,863.000</td>\n",
       "      <td>16,028.000</td>\n",
       "      <td>1.000</td>\n",
       "      <td>482.000</td>\n",
       "      <td>2.000</td>\n",
       "      <td>755.000</td>\n",
       "      <td>nan</td>\n",
       "    </tr>\n",
       "    <tr>\n",
       "      <td>1</td>\n",
       "      <td>7</td>\n",
       "      <td>3,350,000.000</td>\n",
       "      <td>40.400</td>\n",
       "      <td>2018-12-04T00:00:00</td>\n",
       "      <td>1</td>\n",
       "      <td>nan</td>\n",
       "      <td>11.000</td>\n",
       "      <td>18.600</td>\n",
       "      <td>1</td>\n",
       "      <td>NaN</td>\n",
       "      <td>...</td>\n",
       "      <td>11.000</td>\n",
       "      <td>2.000</td>\n",
       "      <td>посёлок Шушары</td>\n",
       "      <td>12,817.000</td>\n",
       "      <td>18,603.000</td>\n",
       "      <td>0.000</td>\n",
       "      <td>nan</td>\n",
       "      <td>0.000</td>\n",
       "      <td>nan</td>\n",
       "      <td>81.000</td>\n",
       "    </tr>\n",
       "    <tr>\n",
       "      <td>2</td>\n",
       "      <td>10</td>\n",
       "      <td>5,196,000.000</td>\n",
       "      <td>56.000</td>\n",
       "      <td>2015-08-20T00:00:00</td>\n",
       "      <td>2</td>\n",
       "      <td>nan</td>\n",
       "      <td>5.000</td>\n",
       "      <td>34.300</td>\n",
       "      <td>4</td>\n",
       "      <td>NaN</td>\n",
       "      <td>...</td>\n",
       "      <td>8.300</td>\n",
       "      <td>0.000</td>\n",
       "      <td>Санкт-Петербург</td>\n",
       "      <td>21,741.000</td>\n",
       "      <td>13,933.000</td>\n",
       "      <td>1.000</td>\n",
       "      <td>90.000</td>\n",
       "      <td>2.000</td>\n",
       "      <td>574.000</td>\n",
       "      <td>558.000</td>\n",
       "    </tr>\n",
       "    <tr>\n",
       "      <td>3</td>\n",
       "      <td>0</td>\n",
       "      <td>64,900,000.000</td>\n",
       "      <td>159.000</td>\n",
       "      <td>2015-07-24T00:00:00</td>\n",
       "      <td>3</td>\n",
       "      <td>nan</td>\n",
       "      <td>14.000</td>\n",
       "      <td>nan</td>\n",
       "      <td>9</td>\n",
       "      <td>NaN</td>\n",
       "      <td>...</td>\n",
       "      <td>nan</td>\n",
       "      <td>0.000</td>\n",
       "      <td>Санкт-Петербург</td>\n",
       "      <td>28,098.000</td>\n",
       "      <td>6,800.000</td>\n",
       "      <td>2.000</td>\n",
       "      <td>84.000</td>\n",
       "      <td>3.000</td>\n",
       "      <td>234.000</td>\n",
       "      <td>424.000</td>\n",
       "    </tr>\n",
       "    <tr>\n",
       "      <td>4</td>\n",
       "      <td>2</td>\n",
       "      <td>10,000,000.000</td>\n",
       "      <td>100.000</td>\n",
       "      <td>2018-06-19T00:00:00</td>\n",
       "      <td>2</td>\n",
       "      <td>3.030</td>\n",
       "      <td>14.000</td>\n",
       "      <td>32.000</td>\n",
       "      <td>13</td>\n",
       "      <td>NaN</td>\n",
       "      <td>...</td>\n",
       "      <td>41.000</td>\n",
       "      <td>nan</td>\n",
       "      <td>Санкт-Петербург</td>\n",
       "      <td>31,856.000</td>\n",
       "      <td>8,098.000</td>\n",
       "      <td>2.000</td>\n",
       "      <td>112.000</td>\n",
       "      <td>1.000</td>\n",
       "      <td>48.000</td>\n",
       "      <td>121.000</td>\n",
       "    </tr>\n",
       "    <tr>\n",
       "      <td>5</td>\n",
       "      <td>10</td>\n",
       "      <td>2,890,000.000</td>\n",
       "      <td>30.400</td>\n",
       "      <td>2018-09-10T00:00:00</td>\n",
       "      <td>1</td>\n",
       "      <td>nan</td>\n",
       "      <td>12.000</td>\n",
       "      <td>14.400</td>\n",
       "      <td>5</td>\n",
       "      <td>NaN</td>\n",
       "      <td>...</td>\n",
       "      <td>9.100</td>\n",
       "      <td>nan</td>\n",
       "      <td>городской посёлок Янино-1</td>\n",
       "      <td>nan</td>\n",
       "      <td>nan</td>\n",
       "      <td>nan</td>\n",
       "      <td>nan</td>\n",
       "      <td>nan</td>\n",
       "      <td>nan</td>\n",
       "      <td>55.000</td>\n",
       "    </tr>\n",
       "    <tr>\n",
       "      <td>6</td>\n",
       "      <td>6</td>\n",
       "      <td>3,700,000.000</td>\n",
       "      <td>37.300</td>\n",
       "      <td>2017-11-02T00:00:00</td>\n",
       "      <td>1</td>\n",
       "      <td>nan</td>\n",
       "      <td>26.000</td>\n",
       "      <td>10.600</td>\n",
       "      <td>6</td>\n",
       "      <td>NaN</td>\n",
       "      <td>...</td>\n",
       "      <td>14.400</td>\n",
       "      <td>1.000</td>\n",
       "      <td>посёлок Парголово</td>\n",
       "      <td>52,996.000</td>\n",
       "      <td>19,143.000</td>\n",
       "      <td>0.000</td>\n",
       "      <td>nan</td>\n",
       "      <td>0.000</td>\n",
       "      <td>nan</td>\n",
       "      <td>155.000</td>\n",
       "    </tr>\n",
       "    <tr>\n",
       "      <td>7</td>\n",
       "      <td>5</td>\n",
       "      <td>7,915,000.000</td>\n",
       "      <td>71.600</td>\n",
       "      <td>2019-04-18T00:00:00</td>\n",
       "      <td>2</td>\n",
       "      <td>nan</td>\n",
       "      <td>24.000</td>\n",
       "      <td>nan</td>\n",
       "      <td>22</td>\n",
       "      <td>NaN</td>\n",
       "      <td>...</td>\n",
       "      <td>18.900</td>\n",
       "      <td>2.000</td>\n",
       "      <td>Санкт-Петербург</td>\n",
       "      <td>23,982.000</td>\n",
       "      <td>11,634.000</td>\n",
       "      <td>0.000</td>\n",
       "      <td>nan</td>\n",
       "      <td>0.000</td>\n",
       "      <td>nan</td>\n",
       "      <td>nan</td>\n",
       "    </tr>\n",
       "    <tr>\n",
       "      <td>8</td>\n",
       "      <td>20</td>\n",
       "      <td>2,900,000.000</td>\n",
       "      <td>33.160</td>\n",
       "      <td>2018-05-23T00:00:00</td>\n",
       "      <td>1</td>\n",
       "      <td>nan</td>\n",
       "      <td>27.000</td>\n",
       "      <td>15.430</td>\n",
       "      <td>26</td>\n",
       "      <td>NaN</td>\n",
       "      <td>...</td>\n",
       "      <td>8.810</td>\n",
       "      <td>nan</td>\n",
       "      <td>посёлок Мурино</td>\n",
       "      <td>nan</td>\n",
       "      <td>nan</td>\n",
       "      <td>nan</td>\n",
       "      <td>nan</td>\n",
       "      <td>nan</td>\n",
       "      <td>nan</td>\n",
       "      <td>189.000</td>\n",
       "    </tr>\n",
       "    <tr>\n",
       "      <td>9</td>\n",
       "      <td>18</td>\n",
       "      <td>5,400,000.000</td>\n",
       "      <td>61.000</td>\n",
       "      <td>2017-02-26T00:00:00</td>\n",
       "      <td>3</td>\n",
       "      <td>2.500</td>\n",
       "      <td>9.000</td>\n",
       "      <td>43.600</td>\n",
       "      <td>7</td>\n",
       "      <td>NaN</td>\n",
       "      <td>...</td>\n",
       "      <td>6.500</td>\n",
       "      <td>2.000</td>\n",
       "      <td>Санкт-Петербург</td>\n",
       "      <td>50,898.000</td>\n",
       "      <td>15,008.000</td>\n",
       "      <td>0.000</td>\n",
       "      <td>nan</td>\n",
       "      <td>0.000</td>\n",
       "      <td>nan</td>\n",
       "      <td>289.000</td>\n",
       "    </tr>\n",
       "    <tr>\n",
       "      <td>10</td>\n",
       "      <td>5</td>\n",
       "      <td>5,050,000.000</td>\n",
       "      <td>39.600</td>\n",
       "      <td>2017-11-16T00:00:00</td>\n",
       "      <td>1</td>\n",
       "      <td>2.670</td>\n",
       "      <td>12.000</td>\n",
       "      <td>20.300</td>\n",
       "      <td>3</td>\n",
       "      <td>NaN</td>\n",
       "      <td>...</td>\n",
       "      <td>8.500</td>\n",
       "      <td>nan</td>\n",
       "      <td>Санкт-Петербург</td>\n",
       "      <td>38,357.000</td>\n",
       "      <td>13,878.000</td>\n",
       "      <td>1.000</td>\n",
       "      <td>310.000</td>\n",
       "      <td>2.000</td>\n",
       "      <td>553.000</td>\n",
       "      <td>137.000</td>\n",
       "    </tr>\n",
       "    <tr>\n",
       "      <td>11</td>\n",
       "      <td>9</td>\n",
       "      <td>3,300,000.000</td>\n",
       "      <td>44.000</td>\n",
       "      <td>2018-08-27T00:00:00</td>\n",
       "      <td>2</td>\n",
       "      <td>nan</td>\n",
       "      <td>5.000</td>\n",
       "      <td>31.000</td>\n",
       "      <td>4</td>\n",
       "      <td>False</td>\n",
       "      <td>...</td>\n",
       "      <td>6.000</td>\n",
       "      <td>1.000</td>\n",
       "      <td>Ломоносов</td>\n",
       "      <td>48,252.000</td>\n",
       "      <td>51,677.000</td>\n",
       "      <td>0.000</td>\n",
       "      <td>nan</td>\n",
       "      <td>0.000</td>\n",
       "      <td>nan</td>\n",
       "      <td>7.000</td>\n",
       "    </tr>\n",
       "    <tr>\n",
       "      <td>12</td>\n",
       "      <td>10</td>\n",
       "      <td>3,890,000.000</td>\n",
       "      <td>54.000</td>\n",
       "      <td>2016-06-30T00:00:00</td>\n",
       "      <td>2</td>\n",
       "      <td>nan</td>\n",
       "      <td>5.000</td>\n",
       "      <td>30.000</td>\n",
       "      <td>5</td>\n",
       "      <td>NaN</td>\n",
       "      <td>...</td>\n",
       "      <td>9.000</td>\n",
       "      <td>0.000</td>\n",
       "      <td>Сертолово</td>\n",
       "      <td>nan</td>\n",
       "      <td>nan</td>\n",
       "      <td>nan</td>\n",
       "      <td>nan</td>\n",
       "      <td>nan</td>\n",
       "      <td>nan</td>\n",
       "      <td>90.000</td>\n",
       "    </tr>\n",
       "    <tr>\n",
       "      <td>13</td>\n",
       "      <td>20</td>\n",
       "      <td>3,550,000.000</td>\n",
       "      <td>42.800</td>\n",
       "      <td>2017-07-01T00:00:00</td>\n",
       "      <td>2</td>\n",
       "      <td>2.560</td>\n",
       "      <td>5.000</td>\n",
       "      <td>27.000</td>\n",
       "      <td>5</td>\n",
       "      <td>NaN</td>\n",
       "      <td>...</td>\n",
       "      <td>5.200</td>\n",
       "      <td>1.000</td>\n",
       "      <td>Петергоф</td>\n",
       "      <td>37,868.000</td>\n",
       "      <td>33,058.000</td>\n",
       "      <td>1.000</td>\n",
       "      <td>294.000</td>\n",
       "      <td>3.000</td>\n",
       "      <td>298.000</td>\n",
       "      <td>366.000</td>\n",
       "    </tr>\n",
       "    <tr>\n",
       "      <td>14</td>\n",
       "      <td>1</td>\n",
       "      <td>4,400,000.000</td>\n",
       "      <td>36.000</td>\n",
       "      <td>2016-06-23T00:00:00</td>\n",
       "      <td>1</td>\n",
       "      <td>nan</td>\n",
       "      <td>6.000</td>\n",
       "      <td>17.000</td>\n",
       "      <td>1</td>\n",
       "      <td>NaN</td>\n",
       "      <td>...</td>\n",
       "      <td>8.000</td>\n",
       "      <td>0.000</td>\n",
       "      <td>Пушкин</td>\n",
       "      <td>20,782.000</td>\n",
       "      <td>30,759.000</td>\n",
       "      <td>0.000</td>\n",
       "      <td>nan</td>\n",
       "      <td>1.000</td>\n",
       "      <td>96.000</td>\n",
       "      <td>203.000</td>\n",
       "    </tr>\n",
       "  </tbody>\n",
       "</table>\n",
       "<p>15 rows × 22 columns</p>\n",
       "</div>"
      ],
      "text/plain": [
       "    total_images     last_price  total_area first_day_exposition  rooms  \\\n",
       "0             20 13,000,000.000     108.000  2019-03-07T00:00:00      3   \n",
       "1              7  3,350,000.000      40.400  2018-12-04T00:00:00      1   \n",
       "2             10  5,196,000.000      56.000  2015-08-20T00:00:00      2   \n",
       "3              0 64,900,000.000     159.000  2015-07-24T00:00:00      3   \n",
       "4              2 10,000,000.000     100.000  2018-06-19T00:00:00      2   \n",
       "5             10  2,890,000.000      30.400  2018-09-10T00:00:00      1   \n",
       "6              6  3,700,000.000      37.300  2017-11-02T00:00:00      1   \n",
       "7              5  7,915,000.000      71.600  2019-04-18T00:00:00      2   \n",
       "8             20  2,900,000.000      33.160  2018-05-23T00:00:00      1   \n",
       "9             18  5,400,000.000      61.000  2017-02-26T00:00:00      3   \n",
       "10             5  5,050,000.000      39.600  2017-11-16T00:00:00      1   \n",
       "11             9  3,300,000.000      44.000  2018-08-27T00:00:00      2   \n",
       "12            10  3,890,000.000      54.000  2016-06-30T00:00:00      2   \n",
       "13            20  3,550,000.000      42.800  2017-07-01T00:00:00      2   \n",
       "14             1  4,400,000.000      36.000  2016-06-23T00:00:00      1   \n",
       "\n",
       "    ceiling_height  floors_total  living_area  floor is_apartment  ...  \\\n",
       "0            2.700        16.000       51.000      8          NaN  ...   \n",
       "1              nan        11.000       18.600      1          NaN  ...   \n",
       "2              nan         5.000       34.300      4          NaN  ...   \n",
       "3              nan        14.000          nan      9          NaN  ...   \n",
       "4            3.030        14.000       32.000     13          NaN  ...   \n",
       "5              nan        12.000       14.400      5          NaN  ...   \n",
       "6              nan        26.000       10.600      6          NaN  ...   \n",
       "7              nan        24.000          nan     22          NaN  ...   \n",
       "8              nan        27.000       15.430     26          NaN  ...   \n",
       "9            2.500         9.000       43.600      7          NaN  ...   \n",
       "10           2.670        12.000       20.300      3          NaN  ...   \n",
       "11             nan         5.000       31.000      4        False  ...   \n",
       "12             nan         5.000       30.000      5          NaN  ...   \n",
       "13           2.560         5.000       27.000      5          NaN  ...   \n",
       "14             nan         6.000       17.000      1          NaN  ...   \n",
       "\n",
       "    kitchen_area  balcony              locality_name  airports_nearest  \\\n",
       "0         25.000      nan            Санкт-Петербург        18,863.000   \n",
       "1         11.000    2.000             посёлок Шушары        12,817.000   \n",
       "2          8.300    0.000            Санкт-Петербург        21,741.000   \n",
       "3            nan    0.000            Санкт-Петербург        28,098.000   \n",
       "4         41.000      nan            Санкт-Петербург        31,856.000   \n",
       "5          9.100      nan  городской посёлок Янино-1               nan   \n",
       "6         14.400    1.000          посёлок Парголово        52,996.000   \n",
       "7         18.900    2.000            Санкт-Петербург        23,982.000   \n",
       "8          8.810      nan             посёлок Мурино               nan   \n",
       "9          6.500    2.000            Санкт-Петербург        50,898.000   \n",
       "10         8.500      nan            Санкт-Петербург        38,357.000   \n",
       "11         6.000    1.000                  Ломоносов        48,252.000   \n",
       "12         9.000    0.000                  Сертолово               nan   \n",
       "13         5.200    1.000                   Петергоф        37,868.000   \n",
       "14         8.000    0.000                     Пушкин        20,782.000   \n",
       "\n",
       "   cityCenters_nearest  parks_around3000  parks_nearest  ponds_around3000  \\\n",
       "0           16,028.000             1.000        482.000             2.000   \n",
       "1           18,603.000             0.000            nan             0.000   \n",
       "2           13,933.000             1.000         90.000             2.000   \n",
       "3            6,800.000             2.000         84.000             3.000   \n",
       "4            8,098.000             2.000        112.000             1.000   \n",
       "5                  nan               nan            nan               nan   \n",
       "6           19,143.000             0.000            nan             0.000   \n",
       "7           11,634.000             0.000            nan             0.000   \n",
       "8                  nan               nan            nan               nan   \n",
       "9           15,008.000             0.000            nan             0.000   \n",
       "10          13,878.000             1.000        310.000             2.000   \n",
       "11          51,677.000             0.000            nan             0.000   \n",
       "12                 nan               nan            nan               nan   \n",
       "13          33,058.000             1.000        294.000             3.000   \n",
       "14          30,759.000             0.000            nan             1.000   \n",
       "\n",
       "    ponds_nearest  days_exposition  \n",
       "0         755.000              nan  \n",
       "1             nan           81.000  \n",
       "2         574.000          558.000  \n",
       "3         234.000          424.000  \n",
       "4          48.000          121.000  \n",
       "5             nan           55.000  \n",
       "6             nan          155.000  \n",
       "7             nan              nan  \n",
       "8             nan          189.000  \n",
       "9             nan          289.000  \n",
       "10        553.000          137.000  \n",
       "11            nan            7.000  \n",
       "12            nan           90.000  \n",
       "13        298.000          366.000  \n",
       "14         96.000          203.000  \n",
       "\n",
       "[15 rows x 22 columns]"
      ]
     },
     "metadata": {},
     "output_type": "display_data"
    }
   ],
   "source": [
    "import pandas as pd\n",
    "\n",
    "\n",
    "pd.set_option('display.float_format', '{:,.3f}'.format)\n",
    "\n",
    "data = pd.read_csv('real_estate_data.csv', sep='\\t')\n",
    "display(data.head(15))"
   ]
  },
  {
   "cell_type": "code",
   "execution_count": 542,
   "metadata": {},
   "outputs": [
    {
     "name": "stdout",
     "output_type": "stream",
     "text": [
      "<class 'pandas.core.frame.DataFrame'>\n",
      "RangeIndex: 23699 entries, 0 to 23698\n",
      "Data columns (total 22 columns):\n",
      "total_images            23699 non-null int64\n",
      "last_price              23699 non-null float64\n",
      "total_area              23699 non-null float64\n",
      "first_day_exposition    23699 non-null object\n",
      "rooms                   23699 non-null int64\n",
      "ceiling_height          14504 non-null float64\n",
      "floors_total            23613 non-null float64\n",
      "living_area             21796 non-null float64\n",
      "floor                   23699 non-null int64\n",
      "is_apartment            2775 non-null object\n",
      "studio                  23699 non-null bool\n",
      "open_plan               23699 non-null bool\n",
      "kitchen_area            21421 non-null float64\n",
      "balcony                 12180 non-null float64\n",
      "locality_name           23650 non-null object\n",
      "airports_nearest        18157 non-null float64\n",
      "cityCenters_nearest     18180 non-null float64\n",
      "parks_around3000        18181 non-null float64\n",
      "parks_nearest           8079 non-null float64\n",
      "ponds_around3000        18181 non-null float64\n",
      "ponds_nearest           9110 non-null float64\n",
      "days_exposition         20518 non-null float64\n",
      "dtypes: bool(2), float64(14), int64(3), object(3)\n",
      "memory usage: 3.7+ MB\n"
     ]
    }
   ],
   "source": [
    "data.info()"
   ]
  },
  {
   "cell_type": "markdown",
   "metadata": {},
   "source": [
    "### Вывод"
   ]
  },
  {
   "cell_type": "markdown",
   "metadata": {},
   "source": [
    "Нами был обработан файл `real_estate_data.csv`, по первым строкам фрейма, а так же общей информации о нём, можем отметить два важных факта:\n",
    "- В фрейме много строк с пропусками в данных, которые необходимо обработать;\n",
    "- Тип данных, в ряде столбцом следует изменить, для дальнейшей работы и оптимизации потребления памяти."
   ]
  },
  {
   "cell_type": "markdown",
   "metadata": {},
   "source": [
    "## Предобработка данных"
   ]
  },
  {
   "cell_type": "markdown",
   "metadata": {},
   "source": [
    "Подробнее ознакомимся с пропусками в данных. Определим сколько всего пропусков в каждом столбце."
   ]
  },
  {
   "cell_type": "code",
   "execution_count": 543,
   "metadata": {
    "scrolled": false
   },
   "outputs": [
    {
     "data": {
      "text/plain": [
       "total_images           0.000\n",
       "last_price             0.000\n",
       "total_area             0.000\n",
       "first_day_exposition   0.000\n",
       "rooms                  0.000\n",
       "ceiling_height         0.388\n",
       "floors_total           0.004\n",
       "living_area            0.080\n",
       "floor                  0.000\n",
       "is_apartment           0.883\n",
       "studio                 0.000\n",
       "open_plan              0.000\n",
       "kitchen_area           0.096\n",
       "balcony                0.486\n",
       "locality_name          0.002\n",
       "airports_nearest       0.234\n",
       "cityCenters_nearest    0.233\n",
       "parks_around3000       0.233\n",
       "parks_nearest          0.659\n",
       "ponds_around3000       0.233\n",
       "ponds_nearest          0.616\n",
       "days_exposition        0.134\n",
       "dtype: float64"
      ]
     },
     "execution_count": 543,
     "metadata": {},
     "output_type": "execute_result"
    }
   ],
   "source": [
    "data.isna().mean()"
   ]
  },
  {
   "cell_type": "markdown",
   "metadata": {},
   "source": [
    "Данные, о расстояниях, до чего либо, собирались в автоматическом режиме. Наличие пропуском в этих данных можно объяснить двумя причинами:\n",
    "\n",
    "- пользователь указал не корректный адрес и система не смогла определить точное местоположение квартиры;\n",
    "- ошибки при экспорте данных.\n",
    "\n",
    "Пропусти в остальных данных с наибольшей долью вероятности связаны с человеческим фактором - люди при составление объявления или специально или случайно не указали эти параметры."
   ]
  },
  {
   "cell_type": "markdown",
   "metadata": {},
   "source": [
    "Для началал заполним пропуски в столбцах, где отстутствие данные в большой долью вероятно говорит об отсутствие объекта.\n",
    "В нашем случае это столбцы `balcony`, `parks_around3000`, `ponds_around3000`."
   ]
  },
  {
   "cell_type": "code",
   "execution_count": 544,
   "metadata": {
    "scrolled": false
   },
   "outputs": [
    {
     "data": {
      "text/plain": [
       "total_images                0\n",
       "last_price                  0\n",
       "total_area                  0\n",
       "first_day_exposition        0\n",
       "rooms                       0\n",
       "ceiling_height           9195\n",
       "floors_total               86\n",
       "living_area              1903\n",
       "floor                       0\n",
       "is_apartment            20924\n",
       "studio                      0\n",
       "open_plan                   0\n",
       "kitchen_area             2278\n",
       "balcony                     0\n",
       "locality_name               0\n",
       "airports_nearest         5542\n",
       "cityCenters_nearest      5519\n",
       "parks_around3000            0\n",
       "parks_nearest           15620\n",
       "ponds_around3000            0\n",
       "ponds_nearest           14589\n",
       "days_exposition          3181\n",
       "dtype: int64"
      ]
     },
     "execution_count": 544,
     "metadata": {},
     "output_type": "execute_result"
    }
   ],
   "source": [
    "data_v1 = data.copy(deep=True)\n",
    "columns_NaN = ['balcony', 'parks_around3000', 'ponds_around3000']\n",
    "for name in columns_NaN:\n",
    "    data_v1[name] = data_v1[name].fillna(0)\n",
    "data_v1['locality_name'] = data_v1['locality_name'].fillna('unknow')\n",
    "data_v1.isna().sum()"
   ]
  },
  {
   "cell_type": "markdown",
   "metadata": {},
   "source": [
    "Заполним пропуски в столбце `ceiling_height`. Для этого сгруппируем данные по населённым пунктам, предположив, что внутри одного населнённого пункта разброс в соотношениях разных типов домов (в архитектуроном плане), а значит и квартир с разными высотами потолков, меньше, чем во всей выборке. Далее заполним пропуски в базовой таблице средними значениями для каждого населённого пункта."
   ]
  },
  {
   "cell_type": "code",
   "execution_count": 545,
   "metadata": {
    "scrolled": true
   },
   "outputs": [
    {
     "data": {
      "text/html": [
       "<div>\n",
       "<style scoped>\n",
       "    .dataframe tbody tr th:only-of-type {\n",
       "        vertical-align: middle;\n",
       "    }\n",
       "\n",
       "    .dataframe tbody tr th {\n",
       "        vertical-align: top;\n",
       "    }\n",
       "\n",
       "    .dataframe thead th {\n",
       "        text-align: right;\n",
       "    }\n",
       "</style>\n",
       "<table border=\"1\" class=\"dataframe\">\n",
       "  <thead>\n",
       "    <tr style=\"text-align: right;\">\n",
       "      <th></th>\n",
       "      <th>ceiling_height</th>\n",
       "    </tr>\n",
       "    <tr>\n",
       "      <th>locality_name</th>\n",
       "      <th></th>\n",
       "    </tr>\n",
       "  </thead>\n",
       "  <tbody>\n",
       "    <tr>\n",
       "      <td>деревня Мины</td>\n",
       "      <td>27.000</td>\n",
       "    </tr>\n",
       "    <tr>\n",
       "      <td>деревня Нижняя</td>\n",
       "      <td>27.000</td>\n",
       "    </tr>\n",
       "    <tr>\n",
       "      <td>поселок Новый Свет</td>\n",
       "      <td>13.850</td>\n",
       "    </tr>\n",
       "    <tr>\n",
       "      <td>городской поселок Большая Ижора</td>\n",
       "      <td>4.663</td>\n",
       "    </tr>\n",
       "    <tr>\n",
       "      <td>Бокситогорск</td>\n",
       "      <td>3.900</td>\n",
       "    </tr>\n",
       "    <tr>\n",
       "      <td>...</td>\n",
       "      <td>...</td>\n",
       "    </tr>\n",
       "    <tr>\n",
       "      <td>посёлок Сапёрное</td>\n",
       "      <td>2.500</td>\n",
       "    </tr>\n",
       "    <tr>\n",
       "      <td>деревня Хязельки</td>\n",
       "      <td>2.500</td>\n",
       "    </tr>\n",
       "    <tr>\n",
       "      <td>село Копорье</td>\n",
       "      <td>2.475</td>\n",
       "    </tr>\n",
       "    <tr>\n",
       "      <td>городской посёлок Свирьстрой</td>\n",
       "      <td>2.450</td>\n",
       "    </tr>\n",
       "    <tr>\n",
       "      <td>Высоцк</td>\n",
       "      <td>2.433</td>\n",
       "    </tr>\n",
       "  </tbody>\n",
       "</table>\n",
       "<p>284 rows × 1 columns</p>\n",
       "</div>"
      ],
      "text/plain": [
       "                                 ceiling_height\n",
       "locality_name                                  \n",
       "деревня Мины                             27.000\n",
       "деревня Нижняя                           27.000\n",
       "поселок Новый Свет                       13.850\n",
       "городской поселок Большая Ижора           4.663\n",
       "Бокситогорск                              3.900\n",
       "...                                         ...\n",
       "посёлок Сапёрное                          2.500\n",
       "деревня Хязельки                          2.500\n",
       "село Копорье                              2.475\n",
       "городской посёлок Свирьстрой              2.450\n",
       "Высоцк                                    2.433\n",
       "\n",
       "[284 rows x 1 columns]"
      ]
     },
     "metadata": {},
     "output_type": "display_data"
    }
   ],
   "source": [
    "data_ch = data_v1.copy(deep=True)\n",
    "data_ch = data_ch.pivot_table(index='locality_name', values='ceiling_height', aggfunc='mean')\n",
    "display(data_ch.sort_values(by='ceiling_height', ascending=False))\n",
    "\n",
    "dict_ch = data_ch.to_dict('index')\n",
    "\n",
    "ch_mean = data_ch['ceiling_height'].mean()"
   ]
  },
  {
   "cell_type": "code",
   "execution_count": 546,
   "metadata": {
    "scrolled": false
   },
   "outputs": [
    {
     "data": {
      "text/html": [
       "<div>\n",
       "<style scoped>\n",
       "    .dataframe tbody tr th:only-of-type {\n",
       "        vertical-align: middle;\n",
       "    }\n",
       "\n",
       "    .dataframe tbody tr th {\n",
       "        vertical-align: top;\n",
       "    }\n",
       "\n",
       "    .dataframe thead th {\n",
       "        text-align: right;\n",
       "    }\n",
       "</style>\n",
       "<table border=\"1\" class=\"dataframe\">\n",
       "  <thead>\n",
       "    <tr style=\"text-align: right;\">\n",
       "      <th></th>\n",
       "      <th>total_images</th>\n",
       "      <th>last_price</th>\n",
       "      <th>total_area</th>\n",
       "      <th>first_day_exposition</th>\n",
       "      <th>rooms</th>\n",
       "      <th>ceiling_height</th>\n",
       "      <th>floors_total</th>\n",
       "      <th>living_area</th>\n",
       "      <th>floor</th>\n",
       "      <th>is_apartment</th>\n",
       "      <th>...</th>\n",
       "      <th>kitchen_area</th>\n",
       "      <th>balcony</th>\n",
       "      <th>locality_name</th>\n",
       "      <th>airports_nearest</th>\n",
       "      <th>cityCenters_nearest</th>\n",
       "      <th>parks_around3000</th>\n",
       "      <th>parks_nearest</th>\n",
       "      <th>ponds_around3000</th>\n",
       "      <th>ponds_nearest</th>\n",
       "      <th>days_exposition</th>\n",
       "    </tr>\n",
       "  </thead>\n",
       "  <tbody>\n",
       "    <tr>\n",
       "      <td>0</td>\n",
       "      <td>20</td>\n",
       "      <td>13,000,000.000</td>\n",
       "      <td>108.000</td>\n",
       "      <td>2019-03-07T00:00:00</td>\n",
       "      <td>3</td>\n",
       "      <td>2.700</td>\n",
       "      <td>16.000</td>\n",
       "      <td>51.000</td>\n",
       "      <td>8</td>\n",
       "      <td>NaN</td>\n",
       "      <td>...</td>\n",
       "      <td>25.000</td>\n",
       "      <td>0.000</td>\n",
       "      <td>Санкт-Петербург</td>\n",
       "      <td>18,863.000</td>\n",
       "      <td>16,028.000</td>\n",
       "      <td>1.000</td>\n",
       "      <td>482.000</td>\n",
       "      <td>2.000</td>\n",
       "      <td>755.000</td>\n",
       "      <td>nan</td>\n",
       "    </tr>\n",
       "    <tr>\n",
       "      <td>1</td>\n",
       "      <td>7</td>\n",
       "      <td>3,350,000.000</td>\n",
       "      <td>40.400</td>\n",
       "      <td>2018-12-04T00:00:00</td>\n",
       "      <td>1</td>\n",
       "      <td>2.644</td>\n",
       "      <td>11.000</td>\n",
       "      <td>18.600</td>\n",
       "      <td>1</td>\n",
       "      <td>NaN</td>\n",
       "      <td>...</td>\n",
       "      <td>11.000</td>\n",
       "      <td>2.000</td>\n",
       "      <td>посёлок Шушары</td>\n",
       "      <td>12,817.000</td>\n",
       "      <td>18,603.000</td>\n",
       "      <td>0.000</td>\n",
       "      <td>nan</td>\n",
       "      <td>0.000</td>\n",
       "      <td>nan</td>\n",
       "      <td>81.000</td>\n",
       "    </tr>\n",
       "    <tr>\n",
       "      <td>2</td>\n",
       "      <td>10</td>\n",
       "      <td>5,196,000.000</td>\n",
       "      <td>56.000</td>\n",
       "      <td>2015-08-20T00:00:00</td>\n",
       "      <td>2</td>\n",
       "      <td>2.804</td>\n",
       "      <td>5.000</td>\n",
       "      <td>34.300</td>\n",
       "      <td>4</td>\n",
       "      <td>NaN</td>\n",
       "      <td>...</td>\n",
       "      <td>8.300</td>\n",
       "      <td>0.000</td>\n",
       "      <td>Санкт-Петербург</td>\n",
       "      <td>21,741.000</td>\n",
       "      <td>13,933.000</td>\n",
       "      <td>1.000</td>\n",
       "      <td>90.000</td>\n",
       "      <td>2.000</td>\n",
       "      <td>574.000</td>\n",
       "      <td>558.000</td>\n",
       "    </tr>\n",
       "    <tr>\n",
       "      <td>3</td>\n",
       "      <td>0</td>\n",
       "      <td>64,900,000.000</td>\n",
       "      <td>159.000</td>\n",
       "      <td>2015-07-24T00:00:00</td>\n",
       "      <td>3</td>\n",
       "      <td>2.804</td>\n",
       "      <td>14.000</td>\n",
       "      <td>nan</td>\n",
       "      <td>9</td>\n",
       "      <td>NaN</td>\n",
       "      <td>...</td>\n",
       "      <td>nan</td>\n",
       "      <td>0.000</td>\n",
       "      <td>Санкт-Петербург</td>\n",
       "      <td>28,098.000</td>\n",
       "      <td>6,800.000</td>\n",
       "      <td>2.000</td>\n",
       "      <td>84.000</td>\n",
       "      <td>3.000</td>\n",
       "      <td>234.000</td>\n",
       "      <td>424.000</td>\n",
       "    </tr>\n",
       "    <tr>\n",
       "      <td>4</td>\n",
       "      <td>2</td>\n",
       "      <td>10,000,000.000</td>\n",
       "      <td>100.000</td>\n",
       "      <td>2018-06-19T00:00:00</td>\n",
       "      <td>2</td>\n",
       "      <td>3.030</td>\n",
       "      <td>14.000</td>\n",
       "      <td>32.000</td>\n",
       "      <td>13</td>\n",
       "      <td>NaN</td>\n",
       "      <td>...</td>\n",
       "      <td>41.000</td>\n",
       "      <td>0.000</td>\n",
       "      <td>Санкт-Петербург</td>\n",
       "      <td>31,856.000</td>\n",
       "      <td>8,098.000</td>\n",
       "      <td>2.000</td>\n",
       "      <td>112.000</td>\n",
       "      <td>1.000</td>\n",
       "      <td>48.000</td>\n",
       "      <td>121.000</td>\n",
       "    </tr>\n",
       "    <tr>\n",
       "      <td>5</td>\n",
       "      <td>10</td>\n",
       "      <td>2,890,000.000</td>\n",
       "      <td>30.400</td>\n",
       "      <td>2018-09-10T00:00:00</td>\n",
       "      <td>1</td>\n",
       "      <td>2.618</td>\n",
       "      <td>12.000</td>\n",
       "      <td>14.400</td>\n",
       "      <td>5</td>\n",
       "      <td>NaN</td>\n",
       "      <td>...</td>\n",
       "      <td>9.100</td>\n",
       "      <td>0.000</td>\n",
       "      <td>городской посёлок Янино-1</td>\n",
       "      <td>nan</td>\n",
       "      <td>nan</td>\n",
       "      <td>0.000</td>\n",
       "      <td>nan</td>\n",
       "      <td>0.000</td>\n",
       "      <td>nan</td>\n",
       "      <td>55.000</td>\n",
       "    </tr>\n",
       "    <tr>\n",
       "      <td>6</td>\n",
       "      <td>6</td>\n",
       "      <td>3,700,000.000</td>\n",
       "      <td>37.300</td>\n",
       "      <td>2017-11-02T00:00:00</td>\n",
       "      <td>1</td>\n",
       "      <td>2.630</td>\n",
       "      <td>26.000</td>\n",
       "      <td>10.600</td>\n",
       "      <td>6</td>\n",
       "      <td>NaN</td>\n",
       "      <td>...</td>\n",
       "      <td>14.400</td>\n",
       "      <td>1.000</td>\n",
       "      <td>посёлок Парголово</td>\n",
       "      <td>52,996.000</td>\n",
       "      <td>19,143.000</td>\n",
       "      <td>0.000</td>\n",
       "      <td>nan</td>\n",
       "      <td>0.000</td>\n",
       "      <td>nan</td>\n",
       "      <td>155.000</td>\n",
       "    </tr>\n",
       "    <tr>\n",
       "      <td>7</td>\n",
       "      <td>5</td>\n",
       "      <td>7,915,000.000</td>\n",
       "      <td>71.600</td>\n",
       "      <td>2019-04-18T00:00:00</td>\n",
       "      <td>2</td>\n",
       "      <td>2.804</td>\n",
       "      <td>24.000</td>\n",
       "      <td>nan</td>\n",
       "      <td>22</td>\n",
       "      <td>NaN</td>\n",
       "      <td>...</td>\n",
       "      <td>18.900</td>\n",
       "      <td>2.000</td>\n",
       "      <td>Санкт-Петербург</td>\n",
       "      <td>23,982.000</td>\n",
       "      <td>11,634.000</td>\n",
       "      <td>0.000</td>\n",
       "      <td>nan</td>\n",
       "      <td>0.000</td>\n",
       "      <td>nan</td>\n",
       "      <td>nan</td>\n",
       "    </tr>\n",
       "    <tr>\n",
       "      <td>8</td>\n",
       "      <td>20</td>\n",
       "      <td>2,900,000.000</td>\n",
       "      <td>33.160</td>\n",
       "      <td>2018-05-23T00:00:00</td>\n",
       "      <td>1</td>\n",
       "      <td>2.939</td>\n",
       "      <td>27.000</td>\n",
       "      <td>15.430</td>\n",
       "      <td>26</td>\n",
       "      <td>NaN</td>\n",
       "      <td>...</td>\n",
       "      <td>8.810</td>\n",
       "      <td>0.000</td>\n",
       "      <td>посёлок Мурино</td>\n",
       "      <td>nan</td>\n",
       "      <td>nan</td>\n",
       "      <td>0.000</td>\n",
       "      <td>nan</td>\n",
       "      <td>0.000</td>\n",
       "      <td>nan</td>\n",
       "      <td>189.000</td>\n",
       "    </tr>\n",
       "    <tr>\n",
       "      <td>9</td>\n",
       "      <td>18</td>\n",
       "      <td>5,400,000.000</td>\n",
       "      <td>61.000</td>\n",
       "      <td>2017-02-26T00:00:00</td>\n",
       "      <td>3</td>\n",
       "      <td>2.500</td>\n",
       "      <td>9.000</td>\n",
       "      <td>43.600</td>\n",
       "      <td>7</td>\n",
       "      <td>NaN</td>\n",
       "      <td>...</td>\n",
       "      <td>6.500</td>\n",
       "      <td>2.000</td>\n",
       "      <td>Санкт-Петербург</td>\n",
       "      <td>50,898.000</td>\n",
       "      <td>15,008.000</td>\n",
       "      <td>0.000</td>\n",
       "      <td>nan</td>\n",
       "      <td>0.000</td>\n",
       "      <td>nan</td>\n",
       "      <td>289.000</td>\n",
       "    </tr>\n",
       "    <tr>\n",
       "      <td>10</td>\n",
       "      <td>5</td>\n",
       "      <td>5,050,000.000</td>\n",
       "      <td>39.600</td>\n",
       "      <td>2017-11-16T00:00:00</td>\n",
       "      <td>1</td>\n",
       "      <td>2.670</td>\n",
       "      <td>12.000</td>\n",
       "      <td>20.300</td>\n",
       "      <td>3</td>\n",
       "      <td>NaN</td>\n",
       "      <td>...</td>\n",
       "      <td>8.500</td>\n",
       "      <td>0.000</td>\n",
       "      <td>Санкт-Петербург</td>\n",
       "      <td>38,357.000</td>\n",
       "      <td>13,878.000</td>\n",
       "      <td>1.000</td>\n",
       "      <td>310.000</td>\n",
       "      <td>2.000</td>\n",
       "      <td>553.000</td>\n",
       "      <td>137.000</td>\n",
       "    </tr>\n",
       "    <tr>\n",
       "      <td>11</td>\n",
       "      <td>9</td>\n",
       "      <td>3,300,000.000</td>\n",
       "      <td>44.000</td>\n",
       "      <td>2018-08-27T00:00:00</td>\n",
       "      <td>2</td>\n",
       "      <td>2.605</td>\n",
       "      <td>5.000</td>\n",
       "      <td>31.000</td>\n",
       "      <td>4</td>\n",
       "      <td>False</td>\n",
       "      <td>...</td>\n",
       "      <td>6.000</td>\n",
       "      <td>1.000</td>\n",
       "      <td>Ломоносов</td>\n",
       "      <td>48,252.000</td>\n",
       "      <td>51,677.000</td>\n",
       "      <td>0.000</td>\n",
       "      <td>nan</td>\n",
       "      <td>0.000</td>\n",
       "      <td>nan</td>\n",
       "      <td>7.000</td>\n",
       "    </tr>\n",
       "    <tr>\n",
       "      <td>12</td>\n",
       "      <td>10</td>\n",
       "      <td>3,890,000.000</td>\n",
       "      <td>54.000</td>\n",
       "      <td>2016-06-30T00:00:00</td>\n",
       "      <td>2</td>\n",
       "      <td>2.659</td>\n",
       "      <td>5.000</td>\n",
       "      <td>30.000</td>\n",
       "      <td>5</td>\n",
       "      <td>NaN</td>\n",
       "      <td>...</td>\n",
       "      <td>9.000</td>\n",
       "      <td>0.000</td>\n",
       "      <td>Сертолово</td>\n",
       "      <td>nan</td>\n",
       "      <td>nan</td>\n",
       "      <td>0.000</td>\n",
       "      <td>nan</td>\n",
       "      <td>0.000</td>\n",
       "      <td>nan</td>\n",
       "      <td>90.000</td>\n",
       "    </tr>\n",
       "    <tr>\n",
       "      <td>13</td>\n",
       "      <td>20</td>\n",
       "      <td>3,550,000.000</td>\n",
       "      <td>42.800</td>\n",
       "      <td>2017-07-01T00:00:00</td>\n",
       "      <td>2</td>\n",
       "      <td>2.560</td>\n",
       "      <td>5.000</td>\n",
       "      <td>27.000</td>\n",
       "      <td>5</td>\n",
       "      <td>NaN</td>\n",
       "      <td>...</td>\n",
       "      <td>5.200</td>\n",
       "      <td>1.000</td>\n",
       "      <td>Петергоф</td>\n",
       "      <td>37,868.000</td>\n",
       "      <td>33,058.000</td>\n",
       "      <td>1.000</td>\n",
       "      <td>294.000</td>\n",
       "      <td>3.000</td>\n",
       "      <td>298.000</td>\n",
       "      <td>366.000</td>\n",
       "    </tr>\n",
       "    <tr>\n",
       "      <td>14</td>\n",
       "      <td>1</td>\n",
       "      <td>4,400,000.000</td>\n",
       "      <td>36.000</td>\n",
       "      <td>2016-06-23T00:00:00</td>\n",
       "      <td>1</td>\n",
       "      <td>2.707</td>\n",
       "      <td>6.000</td>\n",
       "      <td>17.000</td>\n",
       "      <td>1</td>\n",
       "      <td>NaN</td>\n",
       "      <td>...</td>\n",
       "      <td>8.000</td>\n",
       "      <td>0.000</td>\n",
       "      <td>Пушкин</td>\n",
       "      <td>20,782.000</td>\n",
       "      <td>30,759.000</td>\n",
       "      <td>0.000</td>\n",
       "      <td>nan</td>\n",
       "      <td>1.000</td>\n",
       "      <td>96.000</td>\n",
       "      <td>203.000</td>\n",
       "    </tr>\n",
       "  </tbody>\n",
       "</table>\n",
       "<p>15 rows × 22 columns</p>\n",
       "</div>"
      ],
      "text/plain": [
       "    total_images     last_price  total_area first_day_exposition  rooms  \\\n",
       "0             20 13,000,000.000     108.000  2019-03-07T00:00:00      3   \n",
       "1              7  3,350,000.000      40.400  2018-12-04T00:00:00      1   \n",
       "2             10  5,196,000.000      56.000  2015-08-20T00:00:00      2   \n",
       "3              0 64,900,000.000     159.000  2015-07-24T00:00:00      3   \n",
       "4              2 10,000,000.000     100.000  2018-06-19T00:00:00      2   \n",
       "5             10  2,890,000.000      30.400  2018-09-10T00:00:00      1   \n",
       "6              6  3,700,000.000      37.300  2017-11-02T00:00:00      1   \n",
       "7              5  7,915,000.000      71.600  2019-04-18T00:00:00      2   \n",
       "8             20  2,900,000.000      33.160  2018-05-23T00:00:00      1   \n",
       "9             18  5,400,000.000      61.000  2017-02-26T00:00:00      3   \n",
       "10             5  5,050,000.000      39.600  2017-11-16T00:00:00      1   \n",
       "11             9  3,300,000.000      44.000  2018-08-27T00:00:00      2   \n",
       "12            10  3,890,000.000      54.000  2016-06-30T00:00:00      2   \n",
       "13            20  3,550,000.000      42.800  2017-07-01T00:00:00      2   \n",
       "14             1  4,400,000.000      36.000  2016-06-23T00:00:00      1   \n",
       "\n",
       "    ceiling_height  floors_total  living_area  floor is_apartment  ...  \\\n",
       "0            2.700        16.000       51.000      8          NaN  ...   \n",
       "1            2.644        11.000       18.600      1          NaN  ...   \n",
       "2            2.804         5.000       34.300      4          NaN  ...   \n",
       "3            2.804        14.000          nan      9          NaN  ...   \n",
       "4            3.030        14.000       32.000     13          NaN  ...   \n",
       "5            2.618        12.000       14.400      5          NaN  ...   \n",
       "6            2.630        26.000       10.600      6          NaN  ...   \n",
       "7            2.804        24.000          nan     22          NaN  ...   \n",
       "8            2.939        27.000       15.430     26          NaN  ...   \n",
       "9            2.500         9.000       43.600      7          NaN  ...   \n",
       "10           2.670        12.000       20.300      3          NaN  ...   \n",
       "11           2.605         5.000       31.000      4        False  ...   \n",
       "12           2.659         5.000       30.000      5          NaN  ...   \n",
       "13           2.560         5.000       27.000      5          NaN  ...   \n",
       "14           2.707         6.000       17.000      1          NaN  ...   \n",
       "\n",
       "    kitchen_area  balcony              locality_name  airports_nearest  \\\n",
       "0         25.000    0.000            Санкт-Петербург        18,863.000   \n",
       "1         11.000    2.000             посёлок Шушары        12,817.000   \n",
       "2          8.300    0.000            Санкт-Петербург        21,741.000   \n",
       "3            nan    0.000            Санкт-Петербург        28,098.000   \n",
       "4         41.000    0.000            Санкт-Петербург        31,856.000   \n",
       "5          9.100    0.000  городской посёлок Янино-1               nan   \n",
       "6         14.400    1.000          посёлок Парголово        52,996.000   \n",
       "7         18.900    2.000            Санкт-Петербург        23,982.000   \n",
       "8          8.810    0.000             посёлок Мурино               nan   \n",
       "9          6.500    2.000            Санкт-Петербург        50,898.000   \n",
       "10         8.500    0.000            Санкт-Петербург        38,357.000   \n",
       "11         6.000    1.000                  Ломоносов        48,252.000   \n",
       "12         9.000    0.000                  Сертолово               nan   \n",
       "13         5.200    1.000                   Петергоф        37,868.000   \n",
       "14         8.000    0.000                     Пушкин        20,782.000   \n",
       "\n",
       "   cityCenters_nearest  parks_around3000  parks_nearest  ponds_around3000  \\\n",
       "0           16,028.000             1.000        482.000             2.000   \n",
       "1           18,603.000             0.000            nan             0.000   \n",
       "2           13,933.000             1.000         90.000             2.000   \n",
       "3            6,800.000             2.000         84.000             3.000   \n",
       "4            8,098.000             2.000        112.000             1.000   \n",
       "5                  nan             0.000            nan             0.000   \n",
       "6           19,143.000             0.000            nan             0.000   \n",
       "7           11,634.000             0.000            nan             0.000   \n",
       "8                  nan             0.000            nan             0.000   \n",
       "9           15,008.000             0.000            nan             0.000   \n",
       "10          13,878.000             1.000        310.000             2.000   \n",
       "11          51,677.000             0.000            nan             0.000   \n",
       "12                 nan             0.000            nan             0.000   \n",
       "13          33,058.000             1.000        294.000             3.000   \n",
       "14          30,759.000             0.000            nan             1.000   \n",
       "\n",
       "    ponds_nearest  days_exposition  \n",
       "0         755.000              nan  \n",
       "1             nan           81.000  \n",
       "2         574.000          558.000  \n",
       "3         234.000          424.000  \n",
       "4          48.000          121.000  \n",
       "5             nan           55.000  \n",
       "6             nan          155.000  \n",
       "7             nan              nan  \n",
       "8             nan          189.000  \n",
       "9             nan          289.000  \n",
       "10        553.000          137.000  \n",
       "11            nan            7.000  \n",
       "12            nan           90.000  \n",
       "13        298.000          366.000  \n",
       "14         96.000          203.000  \n",
       "\n",
       "[15 rows x 22 columns]"
      ]
     },
     "metadata": {},
     "output_type": "display_data"
    }
   ],
   "source": [
    "def replace_ch(row):\n",
    "    if row['ceiling_height'] == 'not':\n",
    "        try:\n",
    "            ch = dict_ch[row['locality_name']]['ceiling_height']\n",
    "        except:\n",
    "            ch = ch_mean\n",
    "        row['ceiling_height'] = ch\n",
    "    return row\n",
    "\n",
    "data_v1['ceiling_height'] = data_v1['ceiling_height'].fillna('not')\n",
    "data_v1 = data_v1.apply(replace_ch, axis=1)\n",
    "display(data_v1.head(15))"
   ]
  },
  {
   "cell_type": "markdown",
   "metadata": {},
   "source": [
    "Теперь заполним пропуски в стобцах `living_area` и `kitchen_area`. Воспользуемся той же логикой, что и в предидущем действие: внутри одного населенного пункта разброс соотношений жилой площади и кухни к общей площади меньше, чем во всей выборке. Так же сгруппируем данные по населённым пунктам, после чего в базовой таблице заполним пропуски средним значением."
   ]
  },
  {
   "cell_type": "code",
   "execution_count": 547,
   "metadata": {},
   "outputs": [
    {
     "data": {
      "text/html": [
       "<div>\n",
       "<style scoped>\n",
       "    .dataframe tbody tr th:only-of-type {\n",
       "        vertical-align: middle;\n",
       "    }\n",
       "\n",
       "    .dataframe tbody tr th {\n",
       "        vertical-align: top;\n",
       "    }\n",
       "\n",
       "    .dataframe thead th {\n",
       "        text-align: right;\n",
       "    }\n",
       "</style>\n",
       "<table border=\"1\" class=\"dataframe\">\n",
       "  <thead>\n",
       "    <tr style=\"text-align: right;\">\n",
       "      <th></th>\n",
       "      <th>percent_la</th>\n",
       "      <th>percent_ka</th>\n",
       "    </tr>\n",
       "    <tr>\n",
       "      <th>locality_name</th>\n",
       "      <th></th>\n",
       "      <th></th>\n",
       "    </tr>\n",
       "  </thead>\n",
       "  <tbody>\n",
       "    <tr>\n",
       "      <td>unknow</td>\n",
       "      <td>0.561</td>\n",
       "      <td>0.178</td>\n",
       "    </tr>\n",
       "    <tr>\n",
       "      <td>Бокситогорск</td>\n",
       "      <td>0.664</td>\n",
       "      <td>0.144</td>\n",
       "    </tr>\n",
       "    <tr>\n",
       "      <td>Волосово</td>\n",
       "      <td>0.565</td>\n",
       "      <td>0.155</td>\n",
       "    </tr>\n",
       "    <tr>\n",
       "      <td>Волхов</td>\n",
       "      <td>0.643</td>\n",
       "      <td>0.149</td>\n",
       "    </tr>\n",
       "    <tr>\n",
       "      <td>Всеволожск</td>\n",
       "      <td>0.551</td>\n",
       "      <td>0.185</td>\n",
       "    </tr>\n",
       "    <tr>\n",
       "      <td>...</td>\n",
       "      <td>...</td>\n",
       "      <td>...</td>\n",
       "    </tr>\n",
       "    <tr>\n",
       "      <td>село Путилово</td>\n",
       "      <td>0.577</td>\n",
       "      <td>0.155</td>\n",
       "    </tr>\n",
       "    <tr>\n",
       "      <td>село Рождествено</td>\n",
       "      <td>0.505</td>\n",
       "      <td>0.163</td>\n",
       "    </tr>\n",
       "    <tr>\n",
       "      <td>село Русско-Высоцкое</td>\n",
       "      <td>0.522</td>\n",
       "      <td>0.215</td>\n",
       "    </tr>\n",
       "    <tr>\n",
       "      <td>село Старая Ладога</td>\n",
       "      <td>0.372</td>\n",
       "      <td>0.141</td>\n",
       "    </tr>\n",
       "    <tr>\n",
       "      <td>село Шум</td>\n",
       "      <td>0.717</td>\n",
       "      <td>0.110</td>\n",
       "    </tr>\n",
       "  </tbody>\n",
       "</table>\n",
       "<p>365 rows × 2 columns</p>\n",
       "</div>"
      ],
      "text/plain": [
       "                      percent_la  percent_ka\n",
       "locality_name                               \n",
       "unknow                     0.561       0.178\n",
       "Бокситогорск               0.664       0.144\n",
       "Волосово                   0.565       0.155\n",
       "Волхов                     0.643       0.149\n",
       "Всеволожск                 0.551       0.185\n",
       "...                          ...         ...\n",
       "село Путилово              0.577       0.155\n",
       "село Рождествено           0.505       0.163\n",
       "село Русско-Высоцкое       0.522       0.215\n",
       "село Старая Ладога         0.372       0.141\n",
       "село Шум                   0.717       0.110\n",
       "\n",
       "[365 rows x 2 columns]"
      ]
     },
     "metadata": {},
     "output_type": "display_data"
    }
   ],
   "source": [
    "data_la_ka = data_v1.copy(deep=True)\n",
    "data_la_ka = data_la_ka.pivot_table(index='locality_name', values=['living_area', 'kitchen_area', 'total_area'], aggfunc='mean')\n",
    "data_la_ka['percent_la'] = data_la_ka['living_area'] / data_la_ka['total_area']\n",
    "data_la_ka['percent_ka'] = data_la_ka['kitchen_area'] / data_la_ka['total_area']\n",
    "data_la_ka = data_la_ka.drop(columns=['kitchen_area', 'living_area', 'total_area'])\n",
    "\n",
    "# создадим словарь из таблицы, использовав индекс как улючи\n",
    "dict_la_ka = data_la_ka.to_dict('index')\n",
    "\n",
    "# расситаем среднее значение по всем населённым пунктам\n",
    "la_mean = data_la_ka['percent_la'].mean()\n",
    "ka_mean = data_la_ka['percent_ka'].mean()\n",
    "\n",
    "display(data_la_ka)"
   ]
  },
  {
   "cell_type": "code",
   "execution_count": 548,
   "metadata": {},
   "outputs": [
    {
     "data": {
      "text/html": [
       "<div>\n",
       "<style scoped>\n",
       "    .dataframe tbody tr th:only-of-type {\n",
       "        vertical-align: middle;\n",
       "    }\n",
       "\n",
       "    .dataframe tbody tr th {\n",
       "        vertical-align: top;\n",
       "    }\n",
       "\n",
       "    .dataframe thead th {\n",
       "        text-align: right;\n",
       "    }\n",
       "</style>\n",
       "<table border=\"1\" class=\"dataframe\">\n",
       "  <thead>\n",
       "    <tr style=\"text-align: right;\">\n",
       "      <th></th>\n",
       "      <th>total_images</th>\n",
       "      <th>last_price</th>\n",
       "      <th>total_area</th>\n",
       "      <th>first_day_exposition</th>\n",
       "      <th>rooms</th>\n",
       "      <th>ceiling_height</th>\n",
       "      <th>floors_total</th>\n",
       "      <th>living_area</th>\n",
       "      <th>floor</th>\n",
       "      <th>is_apartment</th>\n",
       "      <th>...</th>\n",
       "      <th>kitchen_area</th>\n",
       "      <th>balcony</th>\n",
       "      <th>locality_name</th>\n",
       "      <th>airports_nearest</th>\n",
       "      <th>cityCenters_nearest</th>\n",
       "      <th>parks_around3000</th>\n",
       "      <th>parks_nearest</th>\n",
       "      <th>ponds_around3000</th>\n",
       "      <th>ponds_nearest</th>\n",
       "      <th>days_exposition</th>\n",
       "    </tr>\n",
       "  </thead>\n",
       "  <tbody>\n",
       "    <tr>\n",
       "      <td>0</td>\n",
       "      <td>20</td>\n",
       "      <td>13,000,000.000</td>\n",
       "      <td>108.000</td>\n",
       "      <td>2019-03-07T00:00:00</td>\n",
       "      <td>3</td>\n",
       "      <td>2.700</td>\n",
       "      <td>16.000</td>\n",
       "      <td>51.000</td>\n",
       "      <td>8</td>\n",
       "      <td>NaN</td>\n",
       "      <td>...</td>\n",
       "      <td>25.000</td>\n",
       "      <td>0.000</td>\n",
       "      <td>Санкт-Петербург</td>\n",
       "      <td>18,863.000</td>\n",
       "      <td>16,028.000</td>\n",
       "      <td>1.000</td>\n",
       "      <td>482.000</td>\n",
       "      <td>2.000</td>\n",
       "      <td>755.000</td>\n",
       "      <td>nan</td>\n",
       "    </tr>\n",
       "    <tr>\n",
       "      <td>1</td>\n",
       "      <td>7</td>\n",
       "      <td>3,350,000.000</td>\n",
       "      <td>40.400</td>\n",
       "      <td>2018-12-04T00:00:00</td>\n",
       "      <td>1</td>\n",
       "      <td>2.644</td>\n",
       "      <td>11.000</td>\n",
       "      <td>18.600</td>\n",
       "      <td>1</td>\n",
       "      <td>NaN</td>\n",
       "      <td>...</td>\n",
       "      <td>11.000</td>\n",
       "      <td>2.000</td>\n",
       "      <td>посёлок Шушары</td>\n",
       "      <td>12,817.000</td>\n",
       "      <td>18,603.000</td>\n",
       "      <td>0.000</td>\n",
       "      <td>nan</td>\n",
       "      <td>0.000</td>\n",
       "      <td>nan</td>\n",
       "      <td>81.000</td>\n",
       "    </tr>\n",
       "    <tr>\n",
       "      <td>2</td>\n",
       "      <td>10</td>\n",
       "      <td>5,196,000.000</td>\n",
       "      <td>56.000</td>\n",
       "      <td>2015-08-20T00:00:00</td>\n",
       "      <td>2</td>\n",
       "      <td>2.804</td>\n",
       "      <td>5.000</td>\n",
       "      <td>34.300</td>\n",
       "      <td>4</td>\n",
       "      <td>NaN</td>\n",
       "      <td>...</td>\n",
       "      <td>8.300</td>\n",
       "      <td>0.000</td>\n",
       "      <td>Санкт-Петербург</td>\n",
       "      <td>21,741.000</td>\n",
       "      <td>13,933.000</td>\n",
       "      <td>1.000</td>\n",
       "      <td>90.000</td>\n",
       "      <td>2.000</td>\n",
       "      <td>574.000</td>\n",
       "      <td>558.000</td>\n",
       "    </tr>\n",
       "    <tr>\n",
       "      <td>3</td>\n",
       "      <td>0</td>\n",
       "      <td>64,900,000.000</td>\n",
       "      <td>159.000</td>\n",
       "      <td>2015-07-24T00:00:00</td>\n",
       "      <td>3</td>\n",
       "      <td>2.804</td>\n",
       "      <td>14.000</td>\n",
       "      <td>90.755</td>\n",
       "      <td>9</td>\n",
       "      <td>NaN</td>\n",
       "      <td>...</td>\n",
       "      <td>27.394</td>\n",
       "      <td>0.000</td>\n",
       "      <td>Санкт-Петербург</td>\n",
       "      <td>28,098.000</td>\n",
       "      <td>6,800.000</td>\n",
       "      <td>2.000</td>\n",
       "      <td>84.000</td>\n",
       "      <td>3.000</td>\n",
       "      <td>234.000</td>\n",
       "      <td>424.000</td>\n",
       "    </tr>\n",
       "    <tr>\n",
       "      <td>4</td>\n",
       "      <td>2</td>\n",
       "      <td>10,000,000.000</td>\n",
       "      <td>100.000</td>\n",
       "      <td>2018-06-19T00:00:00</td>\n",
       "      <td>2</td>\n",
       "      <td>3.030</td>\n",
       "      <td>14.000</td>\n",
       "      <td>32.000</td>\n",
       "      <td>13</td>\n",
       "      <td>NaN</td>\n",
       "      <td>...</td>\n",
       "      <td>41.000</td>\n",
       "      <td>0.000</td>\n",
       "      <td>Санкт-Петербург</td>\n",
       "      <td>31,856.000</td>\n",
       "      <td>8,098.000</td>\n",
       "      <td>2.000</td>\n",
       "      <td>112.000</td>\n",
       "      <td>1.000</td>\n",
       "      <td>48.000</td>\n",
       "      <td>121.000</td>\n",
       "    </tr>\n",
       "    <tr>\n",
       "      <td>...</td>\n",
       "      <td>...</td>\n",
       "      <td>...</td>\n",
       "      <td>...</td>\n",
       "      <td>...</td>\n",
       "      <td>...</td>\n",
       "      <td>...</td>\n",
       "      <td>...</td>\n",
       "      <td>...</td>\n",
       "      <td>...</td>\n",
       "      <td>...</td>\n",
       "      <td>...</td>\n",
       "      <td>...</td>\n",
       "      <td>...</td>\n",
       "      <td>...</td>\n",
       "      <td>...</td>\n",
       "      <td>...</td>\n",
       "      <td>...</td>\n",
       "      <td>...</td>\n",
       "      <td>...</td>\n",
       "      <td>...</td>\n",
       "      <td>...</td>\n",
       "    </tr>\n",
       "    <tr>\n",
       "      <td>23694</td>\n",
       "      <td>9</td>\n",
       "      <td>9,700,000.000</td>\n",
       "      <td>133.810</td>\n",
       "      <td>2017-03-21T00:00:00</td>\n",
       "      <td>3</td>\n",
       "      <td>3.700</td>\n",
       "      <td>5.000</td>\n",
       "      <td>73.300</td>\n",
       "      <td>3</td>\n",
       "      <td>NaN</td>\n",
       "      <td>...</td>\n",
       "      <td>13.830</td>\n",
       "      <td>0.000</td>\n",
       "      <td>Санкт-Петербург</td>\n",
       "      <td>24,665.000</td>\n",
       "      <td>4,232.000</td>\n",
       "      <td>1.000</td>\n",
       "      <td>796.000</td>\n",
       "      <td>3.000</td>\n",
       "      <td>381.000</td>\n",
       "      <td>nan</td>\n",
       "    </tr>\n",
       "    <tr>\n",
       "      <td>23695</td>\n",
       "      <td>14</td>\n",
       "      <td>3,100,000.000</td>\n",
       "      <td>59.000</td>\n",
       "      <td>2018-01-15T00:00:00</td>\n",
       "      <td>3</td>\n",
       "      <td>2.542</td>\n",
       "      <td>5.000</td>\n",
       "      <td>38.000</td>\n",
       "      <td>4</td>\n",
       "      <td>NaN</td>\n",
       "      <td>...</td>\n",
       "      <td>8.500</td>\n",
       "      <td>0.000</td>\n",
       "      <td>Тосно</td>\n",
       "      <td>nan</td>\n",
       "      <td>nan</td>\n",
       "      <td>0.000</td>\n",
       "      <td>nan</td>\n",
       "      <td>0.000</td>\n",
       "      <td>nan</td>\n",
       "      <td>45.000</td>\n",
       "    </tr>\n",
       "    <tr>\n",
       "      <td>23696</td>\n",
       "      <td>18</td>\n",
       "      <td>2,500,000.000</td>\n",
       "      <td>56.700</td>\n",
       "      <td>2018-02-11T00:00:00</td>\n",
       "      <td>2</td>\n",
       "      <td>2.838</td>\n",
       "      <td>3.000</td>\n",
       "      <td>29.700</td>\n",
       "      <td>1</td>\n",
       "      <td>NaN</td>\n",
       "      <td>...</td>\n",
       "      <td>9.248</td>\n",
       "      <td>0.000</td>\n",
       "      <td>село Рождествено</td>\n",
       "      <td>nan</td>\n",
       "      <td>nan</td>\n",
       "      <td>0.000</td>\n",
       "      <td>nan</td>\n",
       "      <td>0.000</td>\n",
       "      <td>nan</td>\n",
       "      <td>nan</td>\n",
       "    </tr>\n",
       "    <tr>\n",
       "      <td>23697</td>\n",
       "      <td>13</td>\n",
       "      <td>11,475,000.000</td>\n",
       "      <td>76.750</td>\n",
       "      <td>2017-03-28T00:00:00</td>\n",
       "      <td>2</td>\n",
       "      <td>3.000</td>\n",
       "      <td>17.000</td>\n",
       "      <td>43.808</td>\n",
       "      <td>12</td>\n",
       "      <td>NaN</td>\n",
       "      <td>...</td>\n",
       "      <td>23.300</td>\n",
       "      <td>2.000</td>\n",
       "      <td>Санкт-Петербург</td>\n",
       "      <td>39,140.000</td>\n",
       "      <td>10,364.000</td>\n",
       "      <td>2.000</td>\n",
       "      <td>173.000</td>\n",
       "      <td>3.000</td>\n",
       "      <td>196.000</td>\n",
       "      <td>602.000</td>\n",
       "    </tr>\n",
       "    <tr>\n",
       "      <td>23698</td>\n",
       "      <td>4</td>\n",
       "      <td>1,350,000.000</td>\n",
       "      <td>32.300</td>\n",
       "      <td>2017-07-21T00:00:00</td>\n",
       "      <td>1</td>\n",
       "      <td>2.500</td>\n",
       "      <td>5.000</td>\n",
       "      <td>12.300</td>\n",
       "      <td>1</td>\n",
       "      <td>NaN</td>\n",
       "      <td>...</td>\n",
       "      <td>9.000</td>\n",
       "      <td>0.000</td>\n",
       "      <td>поселок Новый Учхоз</td>\n",
       "      <td>nan</td>\n",
       "      <td>nan</td>\n",
       "      <td>0.000</td>\n",
       "      <td>nan</td>\n",
       "      <td>0.000</td>\n",
       "      <td>nan</td>\n",
       "      <td>nan</td>\n",
       "    </tr>\n",
       "  </tbody>\n",
       "</table>\n",
       "<p>23699 rows × 22 columns</p>\n",
       "</div>"
      ],
      "text/plain": [
       "       total_images     last_price  total_area first_day_exposition  rooms  \\\n",
       "0                20 13,000,000.000     108.000  2019-03-07T00:00:00      3   \n",
       "1                 7  3,350,000.000      40.400  2018-12-04T00:00:00      1   \n",
       "2                10  5,196,000.000      56.000  2015-08-20T00:00:00      2   \n",
       "3                 0 64,900,000.000     159.000  2015-07-24T00:00:00      3   \n",
       "4                 2 10,000,000.000     100.000  2018-06-19T00:00:00      2   \n",
       "...             ...            ...         ...                  ...    ...   \n",
       "23694             9  9,700,000.000     133.810  2017-03-21T00:00:00      3   \n",
       "23695            14  3,100,000.000      59.000  2018-01-15T00:00:00      3   \n",
       "23696            18  2,500,000.000      56.700  2018-02-11T00:00:00      2   \n",
       "23697            13 11,475,000.000      76.750  2017-03-28T00:00:00      2   \n",
       "23698             4  1,350,000.000      32.300  2017-07-21T00:00:00      1   \n",
       "\n",
       "       ceiling_height  floors_total  living_area  floor is_apartment  ...  \\\n",
       "0               2.700        16.000       51.000      8          NaN  ...   \n",
       "1               2.644        11.000       18.600      1          NaN  ...   \n",
       "2               2.804         5.000       34.300      4          NaN  ...   \n",
       "3               2.804        14.000       90.755      9          NaN  ...   \n",
       "4               3.030        14.000       32.000     13          NaN  ...   \n",
       "...               ...           ...          ...    ...          ...  ...   \n",
       "23694           3.700         5.000       73.300      3          NaN  ...   \n",
       "23695           2.542         5.000       38.000      4          NaN  ...   \n",
       "23696           2.838         3.000       29.700      1          NaN  ...   \n",
       "23697           3.000        17.000       43.808     12          NaN  ...   \n",
       "23698           2.500         5.000       12.300      1          NaN  ...   \n",
       "\n",
       "       kitchen_area  balcony        locality_name  airports_nearest  \\\n",
       "0            25.000    0.000      Санкт-Петербург        18,863.000   \n",
       "1            11.000    2.000       посёлок Шушары        12,817.000   \n",
       "2             8.300    0.000      Санкт-Петербург        21,741.000   \n",
       "3            27.394    0.000      Санкт-Петербург        28,098.000   \n",
       "4            41.000    0.000      Санкт-Петербург        31,856.000   \n",
       "...             ...      ...                  ...               ...   \n",
       "23694        13.830    0.000      Санкт-Петербург        24,665.000   \n",
       "23695         8.500    0.000                Тосно               nan   \n",
       "23696         9.248    0.000     село Рождествено               nan   \n",
       "23697        23.300    2.000      Санкт-Петербург        39,140.000   \n",
       "23698         9.000    0.000  поселок Новый Учхоз               nan   \n",
       "\n",
       "      cityCenters_nearest  parks_around3000  parks_nearest  ponds_around3000  \\\n",
       "0              16,028.000             1.000        482.000             2.000   \n",
       "1              18,603.000             0.000            nan             0.000   \n",
       "2              13,933.000             1.000         90.000             2.000   \n",
       "3               6,800.000             2.000         84.000             3.000   \n",
       "4               8,098.000             2.000        112.000             1.000   \n",
       "...                   ...               ...            ...               ...   \n",
       "23694           4,232.000             1.000        796.000             3.000   \n",
       "23695                 nan             0.000            nan             0.000   \n",
       "23696                 nan             0.000            nan             0.000   \n",
       "23697          10,364.000             2.000        173.000             3.000   \n",
       "23698                 nan             0.000            nan             0.000   \n",
       "\n",
       "       ponds_nearest  days_exposition  \n",
       "0            755.000              nan  \n",
       "1                nan           81.000  \n",
       "2            574.000          558.000  \n",
       "3            234.000          424.000  \n",
       "4             48.000          121.000  \n",
       "...              ...              ...  \n",
       "23694        381.000              nan  \n",
       "23695            nan           45.000  \n",
       "23696            nan              nan  \n",
       "23697        196.000          602.000  \n",
       "23698            nan              nan  \n",
       "\n",
       "[23699 rows x 22 columns]"
      ]
     },
     "metadata": {},
     "output_type": "display_data"
    },
    {
     "name": "stdout",
     "output_type": "stream",
     "text": [
      "total_images                0\n",
      "last_price                  0\n",
      "total_area                  0\n",
      "first_day_exposition        0\n",
      "rooms                       0\n",
      "ceiling_height              0\n",
      "floors_total               86\n",
      "living_area                17\n",
      "floor                       0\n",
      "is_apartment            20924\n",
      "studio                      0\n",
      "open_plan                   0\n",
      "kitchen_area               19\n",
      "balcony                     0\n",
      "locality_name               0\n",
      "airports_nearest         5542\n",
      "cityCenters_nearest      5519\n",
      "parks_around3000            0\n",
      "parks_nearest           15620\n",
      "ponds_around3000            0\n",
      "ponds_nearest           14589\n",
      "days_exposition          3181\n",
      "dtype: int64\n"
     ]
    }
   ],
   "source": [
    "def replace_area(row):\n",
    "    # убедимся, что в строке есть пропущенные значения\n",
    "    if row['living_area'] == 'not' or row['kitchen_area'] == 'not':\n",
    "        area = row['total_area']\n",
    "        locality = row['locality_name']\n",
    "        # для каждого пропуска отдельно произведем операции\n",
    "        if row['living_area'] == 'not':\n",
    "            # найдём соотношение из кловаря, ключом будет населнный пункт для строки\n",
    "            try:\n",
    "                per_la = dict_la_ka[row['locality_name']]['percent_la']\n",
    "            # есть НП, не попавшие словарь (у всех объявлений пропущены знач.), для них подставим среднее по всей выборке\n",
    "            except:\n",
    "                per_la = la_mean\n",
    "            row['living_area'] = area * per_la\n",
    "        if row['kitchen_area'] == 'not':\n",
    "            try:\n",
    "                per_ka = dict_la_ka[row['locality_name']]['percent_ka']\n",
    "            except:\n",
    "                per_ka = ka_mean\n",
    "            row['kitchen_area'] = area * per_ka\n",
    "    return row\n",
    "\n",
    "# присвоим пропущенным значениям значение 'not', что бы можно было их опознать\n",
    "data_v1['kitchen_area'] = data_v1['kitchen_area'].fillna('not')\n",
    "data_v1['living_area'] = data_v1['living_area'].fillna('not')\n",
    "# произведем пропущенных значений через метод .apply\n",
    "data_v1 = data_v1.apply(replace_area, axis=1)\n",
    "display(data_v1)\n",
    "print(data_v1.isna().sum())"
   ]
  },
  {
   "cell_type": "markdown",
   "metadata": {},
   "source": [
    "Пропуски в столбце `floors_total` составляют менее 1%. Данные пропуски проигнорируем."
   ]
  },
  {
   "cell_type": "markdown",
   "metadata": {},
   "source": [
    "Далее проверим, можем ли мы заполнить пропуски в столбце `cityCenters_nearest` средним значением для каждого населенного пункта (столбец `locality_name`).\n",
    "Для этого:\n",
    "- добавим столбец `Nan_nearest`, в которое поместим булевое значение, есть ли в строке пропуск значения `cityCenters_nearest`;\n",
    "- сгруппируем таблицу по столбцу `locality_name`, посчитаем для каждого населенного пункта каличество пропущенных значений и каличество заполненых значений, а так же среднее значением для столбца `cityCenters_nearest`;\n",
    "- добавим к таблице столбец `Nan_percent` в котором рассчитаем процент пропущенных значений;\n",
    "- рассмотрим количество населённых пунктов с процентом пропусков до и от 50."
   ]
  },
  {
   "cell_type": "code",
   "execution_count": 549,
   "metadata": {
    "scrolled": false
   },
   "outputs": [
    {
     "data": {
      "text/html": [
       "<div>\n",
       "<style scoped>\n",
       "    .dataframe tbody tr th:only-of-type {\n",
       "        vertical-align: middle;\n",
       "    }\n",
       "\n",
       "    .dataframe tbody tr th {\n",
       "        vertical-align: top;\n",
       "    }\n",
       "\n",
       "    .dataframe thead th {\n",
       "        text-align: right;\n",
       "    }\n",
       "</style>\n",
       "<table border=\"1\" class=\"dataframe\">\n",
       "  <thead>\n",
       "    <tr style=\"text-align: right;\">\n",
       "      <th></th>\n",
       "      <th>total_images</th>\n",
       "      <th>last_price</th>\n",
       "      <th>total_area</th>\n",
       "      <th>first_day_exposition</th>\n",
       "      <th>rooms</th>\n",
       "      <th>ceiling_height</th>\n",
       "      <th>floors_total</th>\n",
       "      <th>living_area</th>\n",
       "      <th>floor</th>\n",
       "      <th>is_apartment</th>\n",
       "      <th>...</th>\n",
       "      <th>balcony</th>\n",
       "      <th>locality_name</th>\n",
       "      <th>airports_nearest</th>\n",
       "      <th>cityCenters_nearest</th>\n",
       "      <th>parks_around3000</th>\n",
       "      <th>parks_nearest</th>\n",
       "      <th>ponds_around3000</th>\n",
       "      <th>ponds_nearest</th>\n",
       "      <th>days_exposition</th>\n",
       "      <th>Nan_nearest</th>\n",
       "    </tr>\n",
       "  </thead>\n",
       "  <tbody>\n",
       "    <tr>\n",
       "      <td>0</td>\n",
       "      <td>20</td>\n",
       "      <td>13,000,000.000</td>\n",
       "      <td>108.000</td>\n",
       "      <td>2019-03-07T00:00:00</td>\n",
       "      <td>3</td>\n",
       "      <td>2.700</td>\n",
       "      <td>16.000</td>\n",
       "      <td>51.000</td>\n",
       "      <td>8</td>\n",
       "      <td>NaN</td>\n",
       "      <td>...</td>\n",
       "      <td>0.000</td>\n",
       "      <td>Санкт-Петербург</td>\n",
       "      <td>18,863.000</td>\n",
       "      <td>16,028.000</td>\n",
       "      <td>1.000</td>\n",
       "      <td>482.000</td>\n",
       "      <td>2.000</td>\n",
       "      <td>755.000</td>\n",
       "      <td>nan</td>\n",
       "      <td>False</td>\n",
       "    </tr>\n",
       "    <tr>\n",
       "      <td>1</td>\n",
       "      <td>7</td>\n",
       "      <td>3,350,000.000</td>\n",
       "      <td>40.400</td>\n",
       "      <td>2018-12-04T00:00:00</td>\n",
       "      <td>1</td>\n",
       "      <td>2.644</td>\n",
       "      <td>11.000</td>\n",
       "      <td>18.600</td>\n",
       "      <td>1</td>\n",
       "      <td>NaN</td>\n",
       "      <td>...</td>\n",
       "      <td>2.000</td>\n",
       "      <td>посёлок Шушары</td>\n",
       "      <td>12,817.000</td>\n",
       "      <td>18,603.000</td>\n",
       "      <td>0.000</td>\n",
       "      <td>nan</td>\n",
       "      <td>0.000</td>\n",
       "      <td>nan</td>\n",
       "      <td>81.000</td>\n",
       "      <td>False</td>\n",
       "    </tr>\n",
       "    <tr>\n",
       "      <td>2</td>\n",
       "      <td>10</td>\n",
       "      <td>5,196,000.000</td>\n",
       "      <td>56.000</td>\n",
       "      <td>2015-08-20T00:00:00</td>\n",
       "      <td>2</td>\n",
       "      <td>2.804</td>\n",
       "      <td>5.000</td>\n",
       "      <td>34.300</td>\n",
       "      <td>4</td>\n",
       "      <td>NaN</td>\n",
       "      <td>...</td>\n",
       "      <td>0.000</td>\n",
       "      <td>Санкт-Петербург</td>\n",
       "      <td>21,741.000</td>\n",
       "      <td>13,933.000</td>\n",
       "      <td>1.000</td>\n",
       "      <td>90.000</td>\n",
       "      <td>2.000</td>\n",
       "      <td>574.000</td>\n",
       "      <td>558.000</td>\n",
       "      <td>False</td>\n",
       "    </tr>\n",
       "    <tr>\n",
       "      <td>3</td>\n",
       "      <td>0</td>\n",
       "      <td>64,900,000.000</td>\n",
       "      <td>159.000</td>\n",
       "      <td>2015-07-24T00:00:00</td>\n",
       "      <td>3</td>\n",
       "      <td>2.804</td>\n",
       "      <td>14.000</td>\n",
       "      <td>90.755</td>\n",
       "      <td>9</td>\n",
       "      <td>NaN</td>\n",
       "      <td>...</td>\n",
       "      <td>0.000</td>\n",
       "      <td>Санкт-Петербург</td>\n",
       "      <td>28,098.000</td>\n",
       "      <td>6,800.000</td>\n",
       "      <td>2.000</td>\n",
       "      <td>84.000</td>\n",
       "      <td>3.000</td>\n",
       "      <td>234.000</td>\n",
       "      <td>424.000</td>\n",
       "      <td>False</td>\n",
       "    </tr>\n",
       "    <tr>\n",
       "      <td>4</td>\n",
       "      <td>2</td>\n",
       "      <td>10,000,000.000</td>\n",
       "      <td>100.000</td>\n",
       "      <td>2018-06-19T00:00:00</td>\n",
       "      <td>2</td>\n",
       "      <td>3.030</td>\n",
       "      <td>14.000</td>\n",
       "      <td>32.000</td>\n",
       "      <td>13</td>\n",
       "      <td>NaN</td>\n",
       "      <td>...</td>\n",
       "      <td>0.000</td>\n",
       "      <td>Санкт-Петербург</td>\n",
       "      <td>31,856.000</td>\n",
       "      <td>8,098.000</td>\n",
       "      <td>2.000</td>\n",
       "      <td>112.000</td>\n",
       "      <td>1.000</td>\n",
       "      <td>48.000</td>\n",
       "      <td>121.000</td>\n",
       "      <td>False</td>\n",
       "    </tr>\n",
       "  </tbody>\n",
       "</table>\n",
       "<p>5 rows × 23 columns</p>\n",
       "</div>"
      ],
      "text/plain": [
       "   total_images     last_price  total_area first_day_exposition  rooms  \\\n",
       "0            20 13,000,000.000     108.000  2019-03-07T00:00:00      3   \n",
       "1             7  3,350,000.000      40.400  2018-12-04T00:00:00      1   \n",
       "2            10  5,196,000.000      56.000  2015-08-20T00:00:00      2   \n",
       "3             0 64,900,000.000     159.000  2015-07-24T00:00:00      3   \n",
       "4             2 10,000,000.000     100.000  2018-06-19T00:00:00      2   \n",
       "\n",
       "   ceiling_height  floors_total  living_area  floor is_apartment  ...  \\\n",
       "0           2.700        16.000       51.000      8          NaN  ...   \n",
       "1           2.644        11.000       18.600      1          NaN  ...   \n",
       "2           2.804         5.000       34.300      4          NaN  ...   \n",
       "3           2.804        14.000       90.755      9          NaN  ...   \n",
       "4           3.030        14.000       32.000     13          NaN  ...   \n",
       "\n",
       "   balcony    locality_name  airports_nearest  cityCenters_nearest  \\\n",
       "0    0.000  Санкт-Петербург        18,863.000           16,028.000   \n",
       "1    2.000   посёлок Шушары        12,817.000           18,603.000   \n",
       "2    0.000  Санкт-Петербург        21,741.000           13,933.000   \n",
       "3    0.000  Санкт-Петербург        28,098.000            6,800.000   \n",
       "4    0.000  Санкт-Петербург        31,856.000            8,098.000   \n",
       "\n",
       "  parks_around3000  parks_nearest  ponds_around3000  ponds_nearest  \\\n",
       "0            1.000        482.000             2.000        755.000   \n",
       "1            0.000            nan             0.000            nan   \n",
       "2            1.000         90.000             2.000        574.000   \n",
       "3            2.000         84.000             3.000        234.000   \n",
       "4            2.000        112.000             1.000         48.000   \n",
       "\n",
       "   days_exposition  Nan_nearest  \n",
       "0              nan        False  \n",
       "1           81.000        False  \n",
       "2          558.000        False  \n",
       "3          424.000        False  \n",
       "4          121.000        False  \n",
       "\n",
       "[5 rows x 23 columns]"
      ]
     },
     "metadata": {},
     "output_type": "display_data"
    },
    {
     "data": {
      "text/html": [
       "<div>\n",
       "<style scoped>\n",
       "    .dataframe tbody tr th:only-of-type {\n",
       "        vertical-align: middle;\n",
       "    }\n",
       "\n",
       "    .dataframe tbody tr th {\n",
       "        vertical-align: top;\n",
       "    }\n",
       "\n",
       "    .dataframe thead th {\n",
       "        text-align: right;\n",
       "    }\n",
       "</style>\n",
       "<table border=\"1\" class=\"dataframe\">\n",
       "  <thead>\n",
       "    <tr style=\"text-align: right;\">\n",
       "      <th></th>\n",
       "      <th>sum_Nan</th>\n",
       "      <th>count</th>\n",
       "      <th>mean</th>\n",
       "      <th>Nan_percent</th>\n",
       "    </tr>\n",
       "    <tr>\n",
       "      <th>locality_name</th>\n",
       "      <th></th>\n",
       "      <th></th>\n",
       "      <th></th>\n",
       "      <th></th>\n",
       "    </tr>\n",
       "  </thead>\n",
       "  <tbody>\n",
       "    <tr>\n",
       "      <td>unknow</td>\n",
       "      <td>8.000</td>\n",
       "      <td>41</td>\n",
       "      <td>11,279.000</td>\n",
       "      <td>16.330</td>\n",
       "    </tr>\n",
       "    <tr>\n",
       "      <td>Бокситогорск</td>\n",
       "      <td>16.000</td>\n",
       "      <td>0</td>\n",
       "      <td>nan</td>\n",
       "      <td>100.000</td>\n",
       "    </tr>\n",
       "    <tr>\n",
       "      <td>Волосово</td>\n",
       "      <td>36.000</td>\n",
       "      <td>0</td>\n",
       "      <td>nan</td>\n",
       "      <td>100.000</td>\n",
       "    </tr>\n",
       "    <tr>\n",
       "      <td>Волхов</td>\n",
       "      <td>111.000</td>\n",
       "      <td>0</td>\n",
       "      <td>nan</td>\n",
       "      <td>100.000</td>\n",
       "    </tr>\n",
       "    <tr>\n",
       "      <td>Всеволожск</td>\n",
       "      <td>398.000</td>\n",
       "      <td>0</td>\n",
       "      <td>nan</td>\n",
       "      <td>100.000</td>\n",
       "    </tr>\n",
       "  </tbody>\n",
       "</table>\n",
       "</div>"
      ],
      "text/plain": [
       "               sum_Nan  count       mean  Nan_percent\n",
       "locality_name                                        \n",
       "unknow           8.000     41 11,279.000       16.330\n",
       "Бокситогорск    16.000      0        nan      100.000\n",
       "Волосово        36.000      0        nan      100.000\n",
       "Волхов         111.000      0        nan      100.000\n",
       "Всеволожск     398.000      0        nan      100.000"
      ]
     },
     "metadata": {},
     "output_type": "display_data"
    },
    {
     "name": "stdout",
     "output_type": "stream",
     "text": [
      "Количество населённых пунктов с пропусками от 50%: 338\n",
      "Количество населённых пунктов с пропусками до 50%: 27\n"
     ]
    }
   ],
   "source": [
    "nearect_city = data_v1.copy(deep=True)\n",
    "nearect_city['Nan_nearest'] = nearect_city['cityCenters_nearest'].isna()\n",
    "display(nearect_city.head())\n",
    "#nearect_city = nearect_city.dropna(subset=['cityCenters_nearest'])\n",
    "nearect_city = (nearect_city\n",
    "                .pivot_table(index='locality_name',\n",
    "                             values=['cityCenters_nearest', 'Nan_nearest'],\n",
    "                             aggfunc={'Nan_nearest': ['sum'], 'cityCenters_nearest': ['mean', 'count']}))\n",
    "nearect_city.columns = ['sum_Nan', 'count','mean']\n",
    "nearect_city['mean'] = nearect_city['mean'].round(0)\n",
    "nearect_city['Nan_percent'] = ((nearect_city['sum_Nan'] / (nearect_city['count']+nearect_city['sum_Nan'])) * 100).round(2)\n",
    "display(nearect_city.head())\n",
    "print('Количество населённых пунктов с пропусками от 50%:', nearect_city.query(\"Nan_percent > 50\").shape[0])\n",
    "print('Количество населённых пунктов с пропусками до 50%:', nearect_city.query(\"Nan_percent < 50\").shape[0])\n"
   ]
  },
  {
   "cell_type": "markdown",
   "metadata": {},
   "source": [
    "Из полученных результатов видно, что по большинству пунктов количество объявлений с пропустом значений в `cityCenters_nearest` составляет более 50%. В такой ситуации замена пропущенных значений на стреднее сильно исказит результаты для этих населённых пунктов. Из-за этого, принимаем решением пропуски не трогать."
   ]
  },
  {
   "cell_type": "markdown",
   "metadata": {},
   "source": [
    "Далее, преобразуем типы данных, для столбцов `balcony`, `last_price`, `parks_around3000`, `ponds_around3000`, `is_apartment`, `first_day_exposition`.\n",
    "Столбцы `balcony`, `last_price`, `parks_around3000`, `ponds_around3000` приведём к типу `int64`. Это допустимо ввиду малой погрешности, которая образуется из-за округления дробной части.\n",
    "Столбец `is_apartment` к булевому типу.\n",
    "Столбец `first_day_exposition` к типу datatime.\n",
    "Остальные столбцы или уже имеют оптимальный тип данных или же для их приведения к нему необходимо избавится от пропусков, что в данный момент не рационально."
   ]
  },
  {
   "cell_type": "code",
   "execution_count": 550,
   "metadata": {
    "scrolled": false
   },
   "outputs": [
    {
     "name": "stdout",
     "output_type": "stream",
     "text": [
      "<class 'pandas.core.frame.DataFrame'>\n",
      "RangeIndex: 23699 entries, 0 to 23698\n",
      "Data columns (total 22 columns):\n",
      "total_images            23699 non-null int64\n",
      "last_price              23699 non-null int64\n",
      "total_area              23699 non-null float64\n",
      "first_day_exposition    23699 non-null datetime64[ns]\n",
      "rooms                   23699 non-null int64\n",
      "ceiling_height          23699 non-null float64\n",
      "floors_total            23613 non-null float64\n",
      "living_area             23682 non-null float64\n",
      "floor                   23699 non-null int64\n",
      "is_apartment            23699 non-null bool\n",
      "studio                  23699 non-null bool\n",
      "open_plan               23699 non-null bool\n",
      "kitchen_area            23680 non-null float64\n",
      "balcony                 23699 non-null int64\n",
      "locality_name           23699 non-null object\n",
      "airports_nearest        18157 non-null float64\n",
      "cityCenters_nearest     18180 non-null float64\n",
      "parks_around3000        23699 non-null int64\n",
      "parks_nearest           8079 non-null float64\n",
      "ponds_around3000        23699 non-null int64\n",
      "ponds_nearest           9110 non-null float64\n",
      "days_exposition         20518 non-null float64\n",
      "dtypes: bool(3), datetime64[ns](1), float64(10), int64(7), object(1)\n",
      "memory usage: 3.5+ MB\n"
     ]
    }
   ],
   "source": [
    "columns_to_int = [\n",
    "    'balcony',\n",
    "    'last_price',\n",
    "    'parks_around3000',\n",
    "    'ponds_around3000',\n",
    "]\n",
    "for column in columns_to_int:\n",
    "    data_v1[column] = data_v1[column].round(0).astype('int64')\n",
    "data_v1['is_apartment'] = data_v1['is_apartment'].astype('bool')\n",
    "data_v1['first_day_exposition'] = pd.to_datetime(data_v1['first_day_exposition'], format='%Y-%m-%dT%H:%M:%S')\n",
    "data_v1.info()"
   ]
  },
  {
   "cell_type": "markdown",
   "metadata": {},
   "source": [
    "<div class=\"alert alert-success\">\n",
    "<b>✅ Комментарий ревьюера :</b> \n",
    "\n",
    "Согласен\n",
    "</div>"
   ]
  },
  {
   "cell_type": "markdown",
   "metadata": {},
   "source": [
    "### Вывод"
   ]
  },
  {
   "cell_type": "markdown",
   "metadata": {},
   "source": [
    "В ходе предварительной обработки данных были заполнены пропуски в столбцах: `balcony`, `parks_around3000`, `ponds_around3000` и `is_apartment`.\n",
    "Так же был изменены типы данных в столбцах: `balcony`, `last_price`, `parks_around3000`, `ponds_around3000`, `is_apartment`, `first_day_exposition`."
   ]
  },
  {
   "cell_type": "markdown",
   "metadata": {},
   "source": [
    "## Расчёты и добавление результатов в таблицу"
   ]
  },
  {
   "cell_type": "markdown",
   "metadata": {},
   "source": [
    "Произведем для каждой строки рассчёт:\n",
    "- цены за квадратный метр;\n",
    "- доли жилой площади;\n",
    "- доли площади кухни;\n",
    "\n",
    "Для удобства отображения округлим цену за квадратный метр до целой части, доли площадей до 2-х цифр после точки."
   ]
  },
  {
   "cell_type": "code",
   "execution_count": 551,
   "metadata": {
    "scrolled": false
   },
   "outputs": [
    {
     "data": {
      "text/html": [
       "<div>\n",
       "<style scoped>\n",
       "    .dataframe tbody tr th:only-of-type {\n",
       "        vertical-align: middle;\n",
       "    }\n",
       "\n",
       "    .dataframe tbody tr th {\n",
       "        vertical-align: top;\n",
       "    }\n",
       "\n",
       "    .dataframe thead th {\n",
       "        text-align: right;\n",
       "    }\n",
       "</style>\n",
       "<table border=\"1\" class=\"dataframe\">\n",
       "  <thead>\n",
       "    <tr style=\"text-align: right;\">\n",
       "      <th></th>\n",
       "      <th>total_images</th>\n",
       "      <th>last_price</th>\n",
       "      <th>total_area</th>\n",
       "      <th>first_day_exposition</th>\n",
       "      <th>rooms</th>\n",
       "      <th>ceiling_height</th>\n",
       "      <th>floors_total</th>\n",
       "      <th>living_area</th>\n",
       "      <th>floor</th>\n",
       "      <th>is_apartment</th>\n",
       "      <th>...</th>\n",
       "      <th>airports_nearest</th>\n",
       "      <th>cityCenters_nearest</th>\n",
       "      <th>parks_around3000</th>\n",
       "      <th>parks_nearest</th>\n",
       "      <th>ponds_around3000</th>\n",
       "      <th>ponds_nearest</th>\n",
       "      <th>days_exposition</th>\n",
       "      <th>price_for_meter</th>\n",
       "      <th>living_for_total</th>\n",
       "      <th>kitchen_for_total</th>\n",
       "    </tr>\n",
       "  </thead>\n",
       "  <tbody>\n",
       "    <tr>\n",
       "      <td>0</td>\n",
       "      <td>20</td>\n",
       "      <td>13000000</td>\n",
       "      <td>108.000</td>\n",
       "      <td>2019-03-07</td>\n",
       "      <td>3</td>\n",
       "      <td>2.700</td>\n",
       "      <td>16.000</td>\n",
       "      <td>51.000</td>\n",
       "      <td>8</td>\n",
       "      <td>True</td>\n",
       "      <td>...</td>\n",
       "      <td>18,863.000</td>\n",
       "      <td>16,028.000</td>\n",
       "      <td>1</td>\n",
       "      <td>482.000</td>\n",
       "      <td>2</td>\n",
       "      <td>755.000</td>\n",
       "      <td>nan</td>\n",
       "      <td>120370</td>\n",
       "      <td>0.470</td>\n",
       "      <td>0.230</td>\n",
       "    </tr>\n",
       "    <tr>\n",
       "      <td>1</td>\n",
       "      <td>7</td>\n",
       "      <td>3350000</td>\n",
       "      <td>40.400</td>\n",
       "      <td>2018-12-04</td>\n",
       "      <td>1</td>\n",
       "      <td>2.644</td>\n",
       "      <td>11.000</td>\n",
       "      <td>18.600</td>\n",
       "      <td>1</td>\n",
       "      <td>True</td>\n",
       "      <td>...</td>\n",
       "      <td>12,817.000</td>\n",
       "      <td>18,603.000</td>\n",
       "      <td>0</td>\n",
       "      <td>nan</td>\n",
       "      <td>0</td>\n",
       "      <td>nan</td>\n",
       "      <td>81.000</td>\n",
       "      <td>82920</td>\n",
       "      <td>0.460</td>\n",
       "      <td>0.270</td>\n",
       "    </tr>\n",
       "    <tr>\n",
       "      <td>2</td>\n",
       "      <td>10</td>\n",
       "      <td>5196000</td>\n",
       "      <td>56.000</td>\n",
       "      <td>2015-08-20</td>\n",
       "      <td>2</td>\n",
       "      <td>2.804</td>\n",
       "      <td>5.000</td>\n",
       "      <td>34.300</td>\n",
       "      <td>4</td>\n",
       "      <td>True</td>\n",
       "      <td>...</td>\n",
       "      <td>21,741.000</td>\n",
       "      <td>13,933.000</td>\n",
       "      <td>1</td>\n",
       "      <td>90.000</td>\n",
       "      <td>2</td>\n",
       "      <td>574.000</td>\n",
       "      <td>558.000</td>\n",
       "      <td>92785</td>\n",
       "      <td>0.610</td>\n",
       "      <td>0.150</td>\n",
       "    </tr>\n",
       "    <tr>\n",
       "      <td>3</td>\n",
       "      <td>0</td>\n",
       "      <td>64900000</td>\n",
       "      <td>159.000</td>\n",
       "      <td>2015-07-24</td>\n",
       "      <td>3</td>\n",
       "      <td>2.804</td>\n",
       "      <td>14.000</td>\n",
       "      <td>90.755</td>\n",
       "      <td>9</td>\n",
       "      <td>True</td>\n",
       "      <td>...</td>\n",
       "      <td>28,098.000</td>\n",
       "      <td>6,800.000</td>\n",
       "      <td>2</td>\n",
       "      <td>84.000</td>\n",
       "      <td>3</td>\n",
       "      <td>234.000</td>\n",
       "      <td>424.000</td>\n",
       "      <td>408176</td>\n",
       "      <td>0.570</td>\n",
       "      <td>0.170</td>\n",
       "    </tr>\n",
       "    <tr>\n",
       "      <td>4</td>\n",
       "      <td>2</td>\n",
       "      <td>10000000</td>\n",
       "      <td>100.000</td>\n",
       "      <td>2018-06-19</td>\n",
       "      <td>2</td>\n",
       "      <td>3.030</td>\n",
       "      <td>14.000</td>\n",
       "      <td>32.000</td>\n",
       "      <td>13</td>\n",
       "      <td>True</td>\n",
       "      <td>...</td>\n",
       "      <td>31,856.000</td>\n",
       "      <td>8,098.000</td>\n",
       "      <td>2</td>\n",
       "      <td>112.000</td>\n",
       "      <td>1</td>\n",
       "      <td>48.000</td>\n",
       "      <td>121.000</td>\n",
       "      <td>100000</td>\n",
       "      <td>0.320</td>\n",
       "      <td>0.410</td>\n",
       "    </tr>\n",
       "    <tr>\n",
       "      <td>5</td>\n",
       "      <td>10</td>\n",
       "      <td>2890000</td>\n",
       "      <td>30.400</td>\n",
       "      <td>2018-09-10</td>\n",
       "      <td>1</td>\n",
       "      <td>2.618</td>\n",
       "      <td>12.000</td>\n",
       "      <td>14.400</td>\n",
       "      <td>5</td>\n",
       "      <td>True</td>\n",
       "      <td>...</td>\n",
       "      <td>nan</td>\n",
       "      <td>nan</td>\n",
       "      <td>0</td>\n",
       "      <td>nan</td>\n",
       "      <td>0</td>\n",
       "      <td>nan</td>\n",
       "      <td>55.000</td>\n",
       "      <td>95065</td>\n",
       "      <td>0.470</td>\n",
       "      <td>0.300</td>\n",
       "    </tr>\n",
       "    <tr>\n",
       "      <td>6</td>\n",
       "      <td>6</td>\n",
       "      <td>3700000</td>\n",
       "      <td>37.300</td>\n",
       "      <td>2017-11-02</td>\n",
       "      <td>1</td>\n",
       "      <td>2.630</td>\n",
       "      <td>26.000</td>\n",
       "      <td>10.600</td>\n",
       "      <td>6</td>\n",
       "      <td>True</td>\n",
       "      <td>...</td>\n",
       "      <td>52,996.000</td>\n",
       "      <td>19,143.000</td>\n",
       "      <td>0</td>\n",
       "      <td>nan</td>\n",
       "      <td>0</td>\n",
       "      <td>nan</td>\n",
       "      <td>155.000</td>\n",
       "      <td>99195</td>\n",
       "      <td>0.280</td>\n",
       "      <td>0.390</td>\n",
       "    </tr>\n",
       "    <tr>\n",
       "      <td>7</td>\n",
       "      <td>5</td>\n",
       "      <td>7915000</td>\n",
       "      <td>71.600</td>\n",
       "      <td>2019-04-18</td>\n",
       "      <td>2</td>\n",
       "      <td>2.804</td>\n",
       "      <td>24.000</td>\n",
       "      <td>40.868</td>\n",
       "      <td>22</td>\n",
       "      <td>True</td>\n",
       "      <td>...</td>\n",
       "      <td>23,982.000</td>\n",
       "      <td>11,634.000</td>\n",
       "      <td>0</td>\n",
       "      <td>nan</td>\n",
       "      <td>0</td>\n",
       "      <td>nan</td>\n",
       "      <td>nan</td>\n",
       "      <td>110544</td>\n",
       "      <td>0.570</td>\n",
       "      <td>0.260</td>\n",
       "    </tr>\n",
       "    <tr>\n",
       "      <td>8</td>\n",
       "      <td>20</td>\n",
       "      <td>2900000</td>\n",
       "      <td>33.160</td>\n",
       "      <td>2018-05-23</td>\n",
       "      <td>1</td>\n",
       "      <td>2.939</td>\n",
       "      <td>27.000</td>\n",
       "      <td>15.430</td>\n",
       "      <td>26</td>\n",
       "      <td>True</td>\n",
       "      <td>...</td>\n",
       "      <td>nan</td>\n",
       "      <td>nan</td>\n",
       "      <td>0</td>\n",
       "      <td>nan</td>\n",
       "      <td>0</td>\n",
       "      <td>nan</td>\n",
       "      <td>189.000</td>\n",
       "      <td>87454</td>\n",
       "      <td>0.470</td>\n",
       "      <td>0.270</td>\n",
       "    </tr>\n",
       "    <tr>\n",
       "      <td>9</td>\n",
       "      <td>18</td>\n",
       "      <td>5400000</td>\n",
       "      <td>61.000</td>\n",
       "      <td>2017-02-26</td>\n",
       "      <td>3</td>\n",
       "      <td>2.500</td>\n",
       "      <td>9.000</td>\n",
       "      <td>43.600</td>\n",
       "      <td>7</td>\n",
       "      <td>True</td>\n",
       "      <td>...</td>\n",
       "      <td>50,898.000</td>\n",
       "      <td>15,008.000</td>\n",
       "      <td>0</td>\n",
       "      <td>nan</td>\n",
       "      <td>0</td>\n",
       "      <td>nan</td>\n",
       "      <td>289.000</td>\n",
       "      <td>88524</td>\n",
       "      <td>0.710</td>\n",
       "      <td>0.110</td>\n",
       "    </tr>\n",
       "  </tbody>\n",
       "</table>\n",
       "<p>10 rows × 25 columns</p>\n",
       "</div>"
      ],
      "text/plain": [
       "   total_images  last_price  total_area first_day_exposition  rooms  \\\n",
       "0            20    13000000     108.000           2019-03-07      3   \n",
       "1             7     3350000      40.400           2018-12-04      1   \n",
       "2            10     5196000      56.000           2015-08-20      2   \n",
       "3             0    64900000     159.000           2015-07-24      3   \n",
       "4             2    10000000     100.000           2018-06-19      2   \n",
       "5            10     2890000      30.400           2018-09-10      1   \n",
       "6             6     3700000      37.300           2017-11-02      1   \n",
       "7             5     7915000      71.600           2019-04-18      2   \n",
       "8            20     2900000      33.160           2018-05-23      1   \n",
       "9            18     5400000      61.000           2017-02-26      3   \n",
       "\n",
       "   ceiling_height  floors_total  living_area  floor  is_apartment  ...  \\\n",
       "0           2.700        16.000       51.000      8          True  ...   \n",
       "1           2.644        11.000       18.600      1          True  ...   \n",
       "2           2.804         5.000       34.300      4          True  ...   \n",
       "3           2.804        14.000       90.755      9          True  ...   \n",
       "4           3.030        14.000       32.000     13          True  ...   \n",
       "5           2.618        12.000       14.400      5          True  ...   \n",
       "6           2.630        26.000       10.600      6          True  ...   \n",
       "7           2.804        24.000       40.868     22          True  ...   \n",
       "8           2.939        27.000       15.430     26          True  ...   \n",
       "9           2.500         9.000       43.600      7          True  ...   \n",
       "\n",
       "   airports_nearest  cityCenters_nearest  parks_around3000  parks_nearest  \\\n",
       "0        18,863.000           16,028.000                 1        482.000   \n",
       "1        12,817.000           18,603.000                 0            nan   \n",
       "2        21,741.000           13,933.000                 1         90.000   \n",
       "3        28,098.000            6,800.000                 2         84.000   \n",
       "4        31,856.000            8,098.000                 2        112.000   \n",
       "5               nan                  nan                 0            nan   \n",
       "6        52,996.000           19,143.000                 0            nan   \n",
       "7        23,982.000           11,634.000                 0            nan   \n",
       "8               nan                  nan                 0            nan   \n",
       "9        50,898.000           15,008.000                 0            nan   \n",
       "\n",
       "  ponds_around3000  ponds_nearest  days_exposition  price_for_meter  \\\n",
       "0                2        755.000              nan           120370   \n",
       "1                0            nan           81.000            82920   \n",
       "2                2        574.000          558.000            92785   \n",
       "3                3        234.000          424.000           408176   \n",
       "4                1         48.000          121.000           100000   \n",
       "5                0            nan           55.000            95065   \n",
       "6                0            nan          155.000            99195   \n",
       "7                0            nan              nan           110544   \n",
       "8                0            nan          189.000            87454   \n",
       "9                0            nan          289.000            88524   \n",
       "\n",
       "   living_for_total  kitchen_for_total  \n",
       "0             0.470              0.230  \n",
       "1             0.460              0.270  \n",
       "2             0.610              0.150  \n",
       "3             0.570              0.170  \n",
       "4             0.320              0.410  \n",
       "5             0.470              0.300  \n",
       "6             0.280              0.390  \n",
       "7             0.570              0.260  \n",
       "8             0.470              0.270  \n",
       "9             0.710              0.110  \n",
       "\n",
       "[10 rows x 25 columns]"
      ]
     },
     "execution_count": 551,
     "metadata": {},
     "output_type": "execute_result"
    }
   ],
   "source": [
    "data_v2 = data_v1.copy(deep=True)\n",
    "data_v2['price_for_meter'] = data_v2['last_price'] / data_v2['total_area']\n",
    "data_v2['price_for_meter'] = data_v2['price_for_meter'].astype('int')\n",
    "data_v2['living_for_total'] = (data_v2['living_area'] / data_v2['total_area']).round(2)\n",
    "data_v2['kitchen_for_total'] = (data_v2['kitchen_area'] / data_v2['total_area']).round(2)\n",
    "data_v2.head(10)"
   ]
  },
  {
   "cell_type": "markdown",
   "metadata": {},
   "source": [
    "Далее, добавим столбцы, в которые внесём день недели, месяц и год создания объявления о продаже."
   ]
  },
  {
   "cell_type": "code",
   "execution_count": 552,
   "metadata": {
    "scrolled": false
   },
   "outputs": [
    {
     "data": {
      "text/html": [
       "<div>\n",
       "<style scoped>\n",
       "    .dataframe tbody tr th:only-of-type {\n",
       "        vertical-align: middle;\n",
       "    }\n",
       "\n",
       "    .dataframe tbody tr th {\n",
       "        vertical-align: top;\n",
       "    }\n",
       "\n",
       "    .dataframe thead th {\n",
       "        text-align: right;\n",
       "    }\n",
       "</style>\n",
       "<table border=\"1\" class=\"dataframe\">\n",
       "  <thead>\n",
       "    <tr style=\"text-align: right;\">\n",
       "      <th></th>\n",
       "      <th>total_images</th>\n",
       "      <th>last_price</th>\n",
       "      <th>total_area</th>\n",
       "      <th>first_day_exposition</th>\n",
       "      <th>rooms</th>\n",
       "      <th>ceiling_height</th>\n",
       "      <th>floors_total</th>\n",
       "      <th>living_area</th>\n",
       "      <th>floor</th>\n",
       "      <th>is_apartment</th>\n",
       "      <th>...</th>\n",
       "      <th>parks_nearest</th>\n",
       "      <th>ponds_around3000</th>\n",
       "      <th>ponds_nearest</th>\n",
       "      <th>days_exposition</th>\n",
       "      <th>price_for_meter</th>\n",
       "      <th>living_for_total</th>\n",
       "      <th>kitchen_for_total</th>\n",
       "      <th>weekday</th>\n",
       "      <th>month</th>\n",
       "      <th>years</th>\n",
       "    </tr>\n",
       "  </thead>\n",
       "  <tbody>\n",
       "    <tr>\n",
       "      <td>0</td>\n",
       "      <td>20</td>\n",
       "      <td>13000000</td>\n",
       "      <td>108.000</td>\n",
       "      <td>2019-03-07</td>\n",
       "      <td>3</td>\n",
       "      <td>2.700</td>\n",
       "      <td>16.000</td>\n",
       "      <td>51.000</td>\n",
       "      <td>8</td>\n",
       "      <td>True</td>\n",
       "      <td>...</td>\n",
       "      <td>482.000</td>\n",
       "      <td>2</td>\n",
       "      <td>755.000</td>\n",
       "      <td>nan</td>\n",
       "      <td>120370</td>\n",
       "      <td>0.470</td>\n",
       "      <td>0.230</td>\n",
       "      <td>3</td>\n",
       "      <td>3</td>\n",
       "      <td>2019</td>\n",
       "    </tr>\n",
       "    <tr>\n",
       "      <td>1</td>\n",
       "      <td>7</td>\n",
       "      <td>3350000</td>\n",
       "      <td>40.400</td>\n",
       "      <td>2018-12-04</td>\n",
       "      <td>1</td>\n",
       "      <td>2.644</td>\n",
       "      <td>11.000</td>\n",
       "      <td>18.600</td>\n",
       "      <td>1</td>\n",
       "      <td>True</td>\n",
       "      <td>...</td>\n",
       "      <td>nan</td>\n",
       "      <td>0</td>\n",
       "      <td>nan</td>\n",
       "      <td>81.000</td>\n",
       "      <td>82920</td>\n",
       "      <td>0.460</td>\n",
       "      <td>0.270</td>\n",
       "      <td>1</td>\n",
       "      <td>12</td>\n",
       "      <td>2018</td>\n",
       "    </tr>\n",
       "    <tr>\n",
       "      <td>2</td>\n",
       "      <td>10</td>\n",
       "      <td>5196000</td>\n",
       "      <td>56.000</td>\n",
       "      <td>2015-08-20</td>\n",
       "      <td>2</td>\n",
       "      <td>2.804</td>\n",
       "      <td>5.000</td>\n",
       "      <td>34.300</td>\n",
       "      <td>4</td>\n",
       "      <td>True</td>\n",
       "      <td>...</td>\n",
       "      <td>90.000</td>\n",
       "      <td>2</td>\n",
       "      <td>574.000</td>\n",
       "      <td>558.000</td>\n",
       "      <td>92785</td>\n",
       "      <td>0.610</td>\n",
       "      <td>0.150</td>\n",
       "      <td>3</td>\n",
       "      <td>8</td>\n",
       "      <td>2015</td>\n",
       "    </tr>\n",
       "    <tr>\n",
       "      <td>3</td>\n",
       "      <td>0</td>\n",
       "      <td>64900000</td>\n",
       "      <td>159.000</td>\n",
       "      <td>2015-07-24</td>\n",
       "      <td>3</td>\n",
       "      <td>2.804</td>\n",
       "      <td>14.000</td>\n",
       "      <td>90.755</td>\n",
       "      <td>9</td>\n",
       "      <td>True</td>\n",
       "      <td>...</td>\n",
       "      <td>84.000</td>\n",
       "      <td>3</td>\n",
       "      <td>234.000</td>\n",
       "      <td>424.000</td>\n",
       "      <td>408176</td>\n",
       "      <td>0.570</td>\n",
       "      <td>0.170</td>\n",
       "      <td>4</td>\n",
       "      <td>7</td>\n",
       "      <td>2015</td>\n",
       "    </tr>\n",
       "    <tr>\n",
       "      <td>4</td>\n",
       "      <td>2</td>\n",
       "      <td>10000000</td>\n",
       "      <td>100.000</td>\n",
       "      <td>2018-06-19</td>\n",
       "      <td>2</td>\n",
       "      <td>3.030</td>\n",
       "      <td>14.000</td>\n",
       "      <td>32.000</td>\n",
       "      <td>13</td>\n",
       "      <td>True</td>\n",
       "      <td>...</td>\n",
       "      <td>112.000</td>\n",
       "      <td>1</td>\n",
       "      <td>48.000</td>\n",
       "      <td>121.000</td>\n",
       "      <td>100000</td>\n",
       "      <td>0.320</td>\n",
       "      <td>0.410</td>\n",
       "      <td>1</td>\n",
       "      <td>6</td>\n",
       "      <td>2018</td>\n",
       "    </tr>\n",
       "    <tr>\n",
       "      <td>5</td>\n",
       "      <td>10</td>\n",
       "      <td>2890000</td>\n",
       "      <td>30.400</td>\n",
       "      <td>2018-09-10</td>\n",
       "      <td>1</td>\n",
       "      <td>2.618</td>\n",
       "      <td>12.000</td>\n",
       "      <td>14.400</td>\n",
       "      <td>5</td>\n",
       "      <td>True</td>\n",
       "      <td>...</td>\n",
       "      <td>nan</td>\n",
       "      <td>0</td>\n",
       "      <td>nan</td>\n",
       "      <td>55.000</td>\n",
       "      <td>95065</td>\n",
       "      <td>0.470</td>\n",
       "      <td>0.300</td>\n",
       "      <td>0</td>\n",
       "      <td>9</td>\n",
       "      <td>2018</td>\n",
       "    </tr>\n",
       "    <tr>\n",
       "      <td>6</td>\n",
       "      <td>6</td>\n",
       "      <td>3700000</td>\n",
       "      <td>37.300</td>\n",
       "      <td>2017-11-02</td>\n",
       "      <td>1</td>\n",
       "      <td>2.630</td>\n",
       "      <td>26.000</td>\n",
       "      <td>10.600</td>\n",
       "      <td>6</td>\n",
       "      <td>True</td>\n",
       "      <td>...</td>\n",
       "      <td>nan</td>\n",
       "      <td>0</td>\n",
       "      <td>nan</td>\n",
       "      <td>155.000</td>\n",
       "      <td>99195</td>\n",
       "      <td>0.280</td>\n",
       "      <td>0.390</td>\n",
       "      <td>3</td>\n",
       "      <td>11</td>\n",
       "      <td>2017</td>\n",
       "    </tr>\n",
       "    <tr>\n",
       "      <td>7</td>\n",
       "      <td>5</td>\n",
       "      <td>7915000</td>\n",
       "      <td>71.600</td>\n",
       "      <td>2019-04-18</td>\n",
       "      <td>2</td>\n",
       "      <td>2.804</td>\n",
       "      <td>24.000</td>\n",
       "      <td>40.868</td>\n",
       "      <td>22</td>\n",
       "      <td>True</td>\n",
       "      <td>...</td>\n",
       "      <td>nan</td>\n",
       "      <td>0</td>\n",
       "      <td>nan</td>\n",
       "      <td>nan</td>\n",
       "      <td>110544</td>\n",
       "      <td>0.570</td>\n",
       "      <td>0.260</td>\n",
       "      <td>3</td>\n",
       "      <td>4</td>\n",
       "      <td>2019</td>\n",
       "    </tr>\n",
       "    <tr>\n",
       "      <td>8</td>\n",
       "      <td>20</td>\n",
       "      <td>2900000</td>\n",
       "      <td>33.160</td>\n",
       "      <td>2018-05-23</td>\n",
       "      <td>1</td>\n",
       "      <td>2.939</td>\n",
       "      <td>27.000</td>\n",
       "      <td>15.430</td>\n",
       "      <td>26</td>\n",
       "      <td>True</td>\n",
       "      <td>...</td>\n",
       "      <td>nan</td>\n",
       "      <td>0</td>\n",
       "      <td>nan</td>\n",
       "      <td>189.000</td>\n",
       "      <td>87454</td>\n",
       "      <td>0.470</td>\n",
       "      <td>0.270</td>\n",
       "      <td>2</td>\n",
       "      <td>5</td>\n",
       "      <td>2018</td>\n",
       "    </tr>\n",
       "    <tr>\n",
       "      <td>9</td>\n",
       "      <td>18</td>\n",
       "      <td>5400000</td>\n",
       "      <td>61.000</td>\n",
       "      <td>2017-02-26</td>\n",
       "      <td>3</td>\n",
       "      <td>2.500</td>\n",
       "      <td>9.000</td>\n",
       "      <td>43.600</td>\n",
       "      <td>7</td>\n",
       "      <td>True</td>\n",
       "      <td>...</td>\n",
       "      <td>nan</td>\n",
       "      <td>0</td>\n",
       "      <td>nan</td>\n",
       "      <td>289.000</td>\n",
       "      <td>88524</td>\n",
       "      <td>0.710</td>\n",
       "      <td>0.110</td>\n",
       "      <td>6</td>\n",
       "      <td>2</td>\n",
       "      <td>2017</td>\n",
       "    </tr>\n",
       "  </tbody>\n",
       "</table>\n",
       "<p>10 rows × 28 columns</p>\n",
       "</div>"
      ],
      "text/plain": [
       "   total_images  last_price  total_area first_day_exposition  rooms  \\\n",
       "0            20    13000000     108.000           2019-03-07      3   \n",
       "1             7     3350000      40.400           2018-12-04      1   \n",
       "2            10     5196000      56.000           2015-08-20      2   \n",
       "3             0    64900000     159.000           2015-07-24      3   \n",
       "4             2    10000000     100.000           2018-06-19      2   \n",
       "5            10     2890000      30.400           2018-09-10      1   \n",
       "6             6     3700000      37.300           2017-11-02      1   \n",
       "7             5     7915000      71.600           2019-04-18      2   \n",
       "8            20     2900000      33.160           2018-05-23      1   \n",
       "9            18     5400000      61.000           2017-02-26      3   \n",
       "\n",
       "   ceiling_height  floors_total  living_area  floor  is_apartment  ...  \\\n",
       "0           2.700        16.000       51.000      8          True  ...   \n",
       "1           2.644        11.000       18.600      1          True  ...   \n",
       "2           2.804         5.000       34.300      4          True  ...   \n",
       "3           2.804        14.000       90.755      9          True  ...   \n",
       "4           3.030        14.000       32.000     13          True  ...   \n",
       "5           2.618        12.000       14.400      5          True  ...   \n",
       "6           2.630        26.000       10.600      6          True  ...   \n",
       "7           2.804        24.000       40.868     22          True  ...   \n",
       "8           2.939        27.000       15.430     26          True  ...   \n",
       "9           2.500         9.000       43.600      7          True  ...   \n",
       "\n",
       "   parks_nearest  ponds_around3000  ponds_nearest  days_exposition  \\\n",
       "0        482.000                 2        755.000              nan   \n",
       "1            nan                 0            nan           81.000   \n",
       "2         90.000                 2        574.000          558.000   \n",
       "3         84.000                 3        234.000          424.000   \n",
       "4        112.000                 1         48.000          121.000   \n",
       "5            nan                 0            nan           55.000   \n",
       "6            nan                 0            nan          155.000   \n",
       "7            nan                 0            nan              nan   \n",
       "8            nan                 0            nan          189.000   \n",
       "9            nan                 0            nan          289.000   \n",
       "\n",
       "  price_for_meter  living_for_total  kitchen_for_total  weekday  month  years  \n",
       "0          120370             0.470              0.230        3      3   2019  \n",
       "1           82920             0.460              0.270        1     12   2018  \n",
       "2           92785             0.610              0.150        3      8   2015  \n",
       "3          408176             0.570              0.170        4      7   2015  \n",
       "4          100000             0.320              0.410        1      6   2018  \n",
       "5           95065             0.470              0.300        0      9   2018  \n",
       "6           99195             0.280              0.390        3     11   2017  \n",
       "7          110544             0.570              0.260        3      4   2019  \n",
       "8           87454             0.470              0.270        2      5   2018  \n",
       "9           88524             0.710              0.110        6      2   2017  \n",
       "\n",
       "[10 rows x 28 columns]"
      ]
     },
     "execution_count": 552,
     "metadata": {},
     "output_type": "execute_result"
    }
   ],
   "source": [
    "data_v2['weekday'] = data_v2['first_day_exposition'].dt.weekday\n",
    "data_v2['month'] = data_v2['first_day_exposition'].dt.month\n",
    "data_v2['years'] = data_v2['first_day_exposition'].dt.year\n",
    "data_v2.head(10)"
   ]
  },
  {
   "cell_type": "markdown",
   "metadata": {},
   "source": [
    "В конце, произведем категоризацию данных об этаже квартиры. Для первого этажа пропишем цифру *0*, для последнего *2*, любой другой этаж пропишем как *1*."
   ]
  },
  {
   "cell_type": "code",
   "execution_count": 553,
   "metadata": {},
   "outputs": [
    {
     "data": {
      "text/plain": [
       "1    17446\n",
       "2     3336\n",
       "0     2917\n",
       "Name: type_floor, dtype: int64"
      ]
     },
     "metadata": {},
     "output_type": "display_data"
    }
   ],
   "source": [
    "def type_floor(row):\n",
    "    if row['floor'] == 1:\n",
    "        return 0\n",
    "    elif row['floor'] == row['floors_total']:\n",
    "        return 2\n",
    "    else:\n",
    "        return 1\n",
    "\n",
    "data_v2['type_floor'] = data_v2.apply(type_floor, axis=1)\n",
    "display(data_v2['type_floor'].value_counts())"
   ]
  },
  {
   "cell_type": "markdown",
   "metadata": {},
   "source": [
    "## Исследовательский анализ данных"
   ]
  },
  {
   "cell_type": "markdown",
   "metadata": {},
   "source": [
    "Построим гистограмму по количеству комнат в квартире, так же получим числовое описание данных."
   ]
  },
  {
   "cell_type": "code",
   "execution_count": 554,
   "metadata": {
    "scrolled": false
   },
   "outputs": [
    {
     "data": {
      "text/plain": [
       "count   23,699.000\n",
       "mean         2.071\n",
       "std          1.078\n",
       "min          0.000\n",
       "25%          1.000\n",
       "50%          2.000\n",
       "75%          3.000\n",
       "max         19.000\n",
       "Name: rooms, dtype: float64"
      ]
     },
     "metadata": {},
     "output_type": "display_data"
    },
    {
     "data": {
      "text/plain": [
       "<matplotlib.axes._subplots.AxesSubplot at 0x7fdc311de1d0>"
      ]
     },
     "execution_count": 554,
     "metadata": {},
     "output_type": "execute_result"
    },
    {
     "data": {
      "image/png": "[encoded data removed]",
      "text/plain": [
       "<Figure size 432x288 with 1 Axes>"
      ]
     },
     "metadata": {
      "needs_background": "light"
     },
     "output_type": "display_data"
    }
   ],
   "source": [
    "rooms_all = data_v2['rooms'].describe()\n",
    "display(rooms_all)\n",
    "data_v2['rooms'].hist()"
   ]
  },
  {
   "cell_type": "markdown",
   "metadata": {},
   "source": [
    "Уберем выбросы и внесем дополнительные параметры отображения гистограммы."
   ]
  },
  {
   "cell_type": "code",
   "execution_count": 555,
   "metadata": {
    "scrolled": false
   },
   "outputs": [
    {
     "name": "stdout",
     "output_type": "stream",
     "text": [
      "Число квартир с менее чем 1 комнатой: 197\n",
      "Число квартир с более чем 5 комнатами: 195\n"
     ]
    },
    {
     "data": {
      "text/plain": [
       "<matplotlib.axes._subplots.AxesSubplot at 0x7fdc31692750>"
      ]
     },
     "metadata": {},
     "output_type": "display_data"
    },
    {
     "data": {
      "image/png": "[encoded data removed]",
      "text/plain": [
       "<Figure size 432x288 with 1 Axes>"
      ]
     },
     "metadata": {
      "needs_background": "light"
     },
     "output_type": "display_data"
    }
   ],
   "source": [
    "print(\"Число квартир с менее чем 1 комнатой:\", data_v2.query('rooms < 1')['last_price'].count())\n",
    "print(\"Число квартир с более чем 5 комнатами:\", data_v2.query('rooms > 5')['last_price'].count())\n",
    "display(data_v2['rooms'].hist(bins=10, range=(0, 5)))"
   ]
  },
  {
   "cell_type": "markdown",
   "metadata": {},
   "source": [
    "Из гистограммы видно, что в наибольшем количестве объявлений, квартиры имеют 1-2 комнаты. Третий, по полулярности вариант - квартира с 3-ми комнатами. "
   ]
  },
  {
   "cell_type": "markdown",
   "metadata": {},
   "source": [
    "Далее изучим описание данный для высоты потолков. А так же построим гистограмму."
   ]
  },
  {
   "cell_type": "code",
   "execution_count": 556,
   "metadata": {
    "scrolled": false
   },
   "outputs": [
    {
     "data": {
      "text/plain": [
       "count   23,699.000\n",
       "mean         2.772\n",
       "std          1.009\n",
       "min          1.000\n",
       "25%          2.600\n",
       "50%          2.725\n",
       "75%          2.804\n",
       "max        100.000\n",
       "Name: ceiling_height, dtype: float64"
      ]
     },
     "metadata": {},
     "output_type": "display_data"
    },
    {
     "data": {
      "text/plain": [
       "<matplotlib.axes._subplots.AxesSubplot at 0x7fdc316e2bd0>"
      ]
     },
     "metadata": {},
     "output_type": "display_data"
    },
    {
     "data": {
      "image/png": "[encoded data removed]",
      "text/plain": [
       "<Figure size 432x288 with 1 Axes>"
      ]
     },
     "metadata": {
      "needs_background": "light"
     },
     "output_type": "display_data"
    }
   ],
   "source": [
    "height_all = data_v2['ceiling_height'].describe()\n",
    "display(height_all)\n",
    "display(data_v2['ceiling_height'].hist())"
   ]
  },
  {
   "cell_type": "markdown",
   "metadata": {},
   "source": [
    "Отбросим странный данные (выбросы) и уточним параметры выведения гистограммы."
   ]
  },
  {
   "cell_type": "code",
   "execution_count": 557,
   "metadata": {
    "scrolled": true
   },
   "outputs": [
    {
     "name": "stdout",
     "output_type": "stream",
     "text": [
      "Число квартир с потолками ниже 2.5 м: 75\n",
      "Число квартир с потолками выше 3.5 м: 326\n"
     ]
    },
    {
     "data": {
      "text/plain": [
       "<matplotlib.axes._subplots.AxesSubplot at 0x7fdc310d1510>"
      ]
     },
     "metadata": {},
     "output_type": "display_data"
    },
    {
     "data": {
      "image/png": "[encoded data removed]",
      "text/plain": [
       "<Figure size 432x288 with 1 Axes>"
      ]
     },
     "metadata": {
      "needs_background": "light"
     },
     "output_type": "display_data"
    }
   ],
   "source": [
    "print(\"Число квартир с потолками ниже 2.5 м:\", data_v2.query('ceiling_height < 2.5')['last_price'].count())\n",
    "print(\"Число квартир с потолками выше 3.5 м:\", data_v2.query('ceiling_height > 3.5')['last_price'].count())\n",
    "display(data_v2['ceiling_height'].hist(bins=20, range=(2.5,3.5)))"
   ]
  },
  {
   "cell_type": "markdown",
   "metadata": {},
   "source": [
    "По гистограмме выдно, что достаточно стандартной высотой потолка является диапазон 2.8-2.85 м. Есть всплески для высот 2.5-2.55, 2.6-2.65 и 2.7-2.75. На первый взгляд, анамально выглядит пик для высот 3-3.05 м. Однако это может объсняться большим количество квартив в домах старой постройки, которые в Санк-Петербурге много."
   ]
  },
  {
   "cell_type": "markdown",
   "metadata": {},
   "source": [
    "Следующими, изучим данные для общей площади квартир."
   ]
  },
  {
   "cell_type": "code",
   "execution_count": 558,
   "metadata": {
    "scrolled": false
   },
   "outputs": [
    {
     "data": {
      "text/plain": [
       "count   23,699.000\n",
       "mean        60.349\n",
       "std         35.654\n",
       "min         12.000\n",
       "25%         40.000\n",
       "50%         52.000\n",
       "75%         69.900\n",
       "max        900.000\n",
       "Name: total_area, dtype: float64"
      ]
     },
     "metadata": {},
     "output_type": "display_data"
    },
    {
     "data": {
      "text/plain": [
       "<matplotlib.axes._subplots.AxesSubplot at 0x7fdc2e8ec990>"
      ]
     },
     "metadata": {},
     "output_type": "display_data"
    },
    {
     "data": {
      "image/png": "[encoded data removed]",
      "text/plain": [
       "<Figure size 432x288 with 1 Axes>"
      ]
     },
     "metadata": {
      "needs_background": "light"
     },
     "output_type": "display_data"
    }
   ],
   "source": [
    "area_all = data_v2['total_area'].describe()\n",
    "display(area_all)\n",
    "display(data_v2['total_area'].hist())"
   ]
  },
  {
   "cell_type": "markdown",
   "metadata": {},
   "source": [
    "Уберем выбросы и задамим шаг гистограммы 10 кв.м."
   ]
  },
  {
   "cell_type": "code",
   "execution_count": 559,
   "metadata": {
    "scrolled": false
   },
   "outputs": [
    {
     "name": "stdout",
     "output_type": "stream",
     "text": [
      "Число квартир с площадью менее 20 кв.м: 27\n",
      "Число квартир с площадью более 170 кв.м: 369\n"
     ]
    },
    {
     "data": {
      "text/plain": [
       "<matplotlib.axes._subplots.AxesSubplot at 0x7fdc2e8f7090>"
      ]
     },
     "metadata": {},
     "output_type": "display_data"
    },
    {
     "data": {
      "image/png": "[encoded data removed]",
      "text/plain": [
       "<Figure size 432x288 with 1 Axes>"
      ]
     },
     "metadata": {
      "needs_background": "light"
     },
     "output_type": "display_data"
    }
   ],
   "source": [
    "print(\"Число квартир с площадью менее 20 кв.м:\", data_v2.query('total_area < 20')['last_price'].count())\n",
    "print(\"Число квартир с площадью более 170 кв.м:\", data_v2.query('total_area > 170')['last_price'].count())\n",
    "all_total_area = data_v2['total_area'].plot(kind='hist', bins=30, range=(20,170), grid=True, label='all')\n",
    "display(all_total_area)"
   ]
  },
  {
   "cell_type": "markdown",
   "metadata": {},
   "source": [
    "Тут видим очень правдоподобные данные, пиковое количество квартир приходится на диапазон 40-45 кв.м, после чего идёт достаточно плавная обратная зависимости числа объявлений от площади."
   ]
  },
  {
   "cell_type": "markdown",
   "metadata": {},
   "source": [
    "Далее расмотрим данные по ценам за квартиры."
   ]
  },
  {
   "cell_type": "code",
   "execution_count": 560,
   "metadata": {
    "scrolled": false
   },
   "outputs": [
    {
     "data": {
      "text/plain": [
       "count        23,699.000\n",
       "mean      6,541,548.772\n",
       "std      10,887,013.268\n",
       "min          12,190.000\n",
       "25%       3,400,000.000\n",
       "50%       4,650,000.000\n",
       "75%       6,800,000.000\n",
       "max     763,000,000.000\n",
       "Name: last_price, dtype: float64"
      ]
     },
     "metadata": {},
     "output_type": "display_data"
    },
    {
     "data": {
      "text/plain": [
       "<matplotlib.axes._subplots.AxesSubplot at 0x7fdc2e8d5f10>"
      ]
     },
     "metadata": {},
     "output_type": "display_data"
    },
    {
     "data": {
      "image/png": "[encoded data removed]",
      "text/plain": [
       "<Figure size 432x288 with 1 Axes>"
      ]
     },
     "metadata": {
      "needs_background": "light"
     },
     "output_type": "display_data"
    }
   ],
   "source": [
    "display(data_v2['last_price'].describe())\n",
    "display(data_v2['last_price'].hist())"
   ]
  },
  {
   "cell_type": "markdown",
   "metadata": {},
   "source": [
    "Уберем выбросы и зададим шаг 1 млн."
   ]
  },
  {
   "cell_type": "code",
   "execution_count": 561,
   "metadata": {
    "scrolled": false
   },
   "outputs": [
    {
     "name": "stdout",
     "output_type": "stream",
     "text": [
      "Число квартир с ценой менее 1 млн: 225\n",
      "Число квартис ценой более 31 млн: 307\n"
     ]
    },
    {
     "data": {
      "text/plain": [
       "<matplotlib.axes._subplots.AxesSubplot at 0x7fdc306f6410>"
      ]
     },
     "metadata": {},
     "output_type": "display_data"
    },
    {
     "data": {
      "image/png": "[encoded data removed]",
      "text/plain": [
       "<Figure size 432x288 with 1 Axes>"
      ]
     },
     "metadata": {
      "needs_background": "light"
     },
     "output_type": "display_data"
    }
   ],
   "source": [
    "print(\"Число квартир с ценой менее 1 млн:\", data_v2.query('last_price < 1000000')['total_area'].count())\n",
    "print(\"Число квартис ценой более 31 млн:\", data_v2.query('last_price > 31000000')['total_area'].count())\n",
    "display(data_v2['last_price'].hist(bins=30, range=(1000000,31000000)))"
   ]
  },
  {
   "cell_type": "markdown",
   "metadata": {},
   "source": [
    "Полученная гистограмма так же максимально правдоподобна. Наибольшее количество объявлений попадает в диапазоны: 3-4 и 4-5 млн.\n",
    "\n",
    "Отдельно рассмотрим цену за квадратный метр."
   ]
  },
  {
   "cell_type": "code",
   "execution_count": 562,
   "metadata": {
    "scrolled": false
   },
   "outputs": [
    {
     "data": {
      "text/plain": [
       "count      23,699.000\n",
       "mean       99,421.210\n",
       "std        50,306.808\n",
       "min           111.000\n",
       "25%        76,585.000\n",
       "50%        95,000.000\n",
       "75%       114,256.000\n",
       "max     1,907,500.000\n",
       "Name: price_for_meter, dtype: float64"
      ]
     },
     "metadata": {},
     "output_type": "display_data"
    },
    {
     "data": {
      "text/plain": [
       "<matplotlib.axes._subplots.AxesSubplot at 0x7fdc2e616890>"
      ]
     },
     "metadata": {},
     "output_type": "display_data"
    },
    {
     "data": {
      "image/png": "[encoded data removed]",
      "text/plain": [
       "<Figure size 720x360 with 1 Axes>"
      ]
     },
     "metadata": {
      "needs_background": "light"
     },
     "output_type": "display_data"
    }
   ],
   "source": [
    "pfm_all = data_v2['price_for_meter'].describe()\n",
    "display(pfm_all)\n",
    "display(data_v2['price_for_meter'].hist(figsize=(10,5)))"
   ]
  },
  {
   "cell_type": "code",
   "execution_count": 563,
   "metadata": {
    "scrolled": false
   },
   "outputs": [
    {
     "name": "stdout",
     "output_type": "stream",
     "text": [
      "Число квартир с ценой менее 10 000 за кв.м: 3\n",
      "Число квартис ценой более 210 000 за кв.м: 448\n"
     ]
    },
    {
     "data": {
      "text/plain": [
       "<matplotlib.axes._subplots.AxesSubplot at 0x7fdc2e5f6fd0>"
      ]
     },
     "metadata": {},
     "output_type": "display_data"
    },
    {
     "data": {
      "image/png": "[encoded data removed]",
      "text/plain": [
       "<Figure size 720x360 with 1 Axes>"
      ]
     },
     "metadata": {
      "needs_background": "light"
     },
     "output_type": "display_data"
    }
   ],
   "source": [
    "print(\"Число квартир с ценой менее 10 000 за кв.м:\", data_v2.query('price_for_meter < 10000')['total_area'].count())\n",
    "print(\"Число квартис ценой более 210 000 за кв.м:\", data_v2.query('price_for_meter > 210000')['total_area'].count())\n",
    "display(data_v2['price_for_meter'].hist(bins=40, range=(10000,210000), figsize=(10,5)))"
   ]
  },
  {
   "cell_type": "markdown",
   "metadata": {},
   "source": [
    "По гистограмме видно, что цена за квадратный метр полность соответствует графику нормального распределения.\n",
    "\n",
    "Далее расмотрим количество дней, которое объявление было активно."
   ]
  },
  {
   "cell_type": "code",
   "execution_count": 564,
   "metadata": {
    "scrolled": false
   },
   "outputs": [
    {
     "data": {
      "text/plain": [
       "count   20,518.000\n",
       "mean       180.889\n",
       "std        219.728\n",
       "min          1.000\n",
       "25%         45.000\n",
       "50%         95.000\n",
       "75%        232.000\n",
       "max      1,580.000\n",
       "Name: days_exposition, dtype: float64"
      ]
     },
     "metadata": {},
     "output_type": "display_data"
    },
    {
     "data": {
      "text/plain": [
       "<matplotlib.axes._subplots.AxesSubplot at 0x7fdc31022350>"
      ]
     },
     "metadata": {},
     "output_type": "display_data"
    },
    {
     "data": {
      "image/png": "[encoded data removed]",
      "text/plain": [
       "<Figure size 432x288 with 1 Axes>"
      ]
     },
     "metadata": {
      "needs_background": "light"
     },
     "output_type": "display_data"
    }
   ],
   "source": [
    "display(data_v2['days_exposition'].describe())\n",
    "display(data_v2['days_exposition'].hist())"
   ]
  },
  {
   "cell_type": "code",
   "execution_count": 565,
   "metadata": {
    "scrolled": false
   },
   "outputs": [
    {
     "name": "stdout",
     "output_type": "stream",
     "text": [
      "Число квартир проданных более чем за 800 дней: 591\n"
     ]
    },
    {
     "data": {
      "text/plain": [
       "<matplotlib.axes._subplots.AxesSubplot at 0x7fdc30fa60d0>"
      ]
     },
     "metadata": {},
     "output_type": "display_data"
    },
    {
     "data": {
      "text/plain": [
       "<matplotlib.axes._subplots.AxesSubplot at 0x7fdc30fa60d0>"
      ]
     },
     "metadata": {},
     "output_type": "display_data"
    },
    {
     "data": {
      "image/png": "[encoded data removed]",
      "text/plain": [
       "<Figure size 432x288 with 1 Axes>"
      ]
     },
     "metadata": {
      "needs_background": "light"
     },
     "output_type": "display_data"
    }
   ],
   "source": [
    "print(\"Число квартир проданных более чем за 800 дней:\", data_v2.query('days_exposition > 800')['total_area'].count())\n",
    "display(data_v2['days_exposition'].hist(bins=40, range=(0,800)))\n",
    "\n",
    "# для ответа на комментарий\n",
    "display(data_v2['days_exposition'].hist(bins=15, range=(0,150)))"
   ]
  },
  {
   "cell_type": "markdown",
   "metadata": {},
   "source": [
    "Для ответа на вопрос: \"С какого момента считать, что квартира продается долго?\", можно использовать три показателя: медиану, среднее время продажи и третий квартиль. В данном случае, считаю, что логичнее использовать Q3, следовательно, **продажу квартиры можно считать долгой если она продается более 232 дней.**"
   ]
  },
  {
   "cell_type": "markdown",
   "metadata": {},
   "source": [
    "### Фильтрация выбросов"
   ]
  },
  {
   "cell_type": "markdown",
   "metadata": {},
   "source": [
    "В ходе ознакомления с каждым их параметров, для каждого параметра в отдельности были определены граничные рамки, за пределами которых мы считаем, что данные являются выбросами. Создамим новый фрейм отфильтровав данные выборосы."
   ]
  },
  {
   "cell_type": "code",
   "execution_count": 566,
   "metadata": {},
   "outputs": [
    {
     "name": "stdout",
     "output_type": "stream",
     "text": [
      "<class 'pandas.core.frame.DataFrame'>\n",
      "Int64Index: 18784 entries, 1 to 23697\n",
      "Data columns (total 29 columns):\n",
      "total_images            18784 non-null int64\n",
      "last_price              18784 non-null int64\n",
      "total_area              18784 non-null float64\n",
      "first_day_exposition    18784 non-null datetime64[ns]\n",
      "rooms                   18784 non-null int64\n",
      "ceiling_height          18784 non-null float64\n",
      "floors_total            18714 non-null float64\n",
      "living_area             18776 non-null float64\n",
      "floor                   18784 non-null int64\n",
      "is_apartment            18784 non-null bool\n",
      "studio                  18784 non-null bool\n",
      "open_plan               18784 non-null bool\n",
      "kitchen_area            18774 non-null float64\n",
      "balcony                 18784 non-null int64\n",
      "locality_name           18784 non-null object\n",
      "airports_nearest        14535 non-null float64\n",
      "cityCenters_nearest     14554 non-null float64\n",
      "parks_around3000        18784 non-null int64\n",
      "parks_nearest           6148 non-null float64\n",
      "ponds_around3000        18784 non-null int64\n",
      "ponds_nearest           7036 non-null float64\n",
      "days_exposition         18784 non-null float64\n",
      "price_for_meter         18784 non-null int64\n",
      "living_for_total        18776 non-null float64\n",
      "kitchen_for_total       18774 non-null float64\n",
      "weekday                 18784 non-null int64\n",
      "month                   18784 non-null int64\n",
      "years                   18784 non-null int64\n",
      "type_floor              18784 non-null int64\n",
      "dtypes: bool(3), datetime64[ns](1), float64(12), int64(12), object(1)\n",
      "memory usage: 3.9+ MB\n"
     ]
    }
   ],
   "source": [
    "data_v3 = data_v2.copy(deep=True)\n",
    "data_v3 = data_v3.query('rooms >= 1 and rooms <= 5')\n",
    "data_v3 = data_v3.query('ceiling_height >= 2.5 and ceiling_height <= 3.5')\n",
    "data_v3 = data_v3.query('total_area >= 20 and total_area <= 170')\n",
    "data_v3 = data_v3.query('last_price >= 1000000 and last_price <= 31000000')\n",
    "data_v3 = data_v3.query('price_for_meter >= 10000 and price_for_meter <= 210000')\n",
    "data_v3 = data_v3.query('days_exposition <= 800')\n",
    "data_v3.info()"
   ]
  },
  {
   "cell_type": "markdown",
   "metadata": {},
   "source": [
    "Далее, изучим зависимость цены от ряда факторов. Для начала убедимся, что есть четкая корреляция, между ценой и общей площадью квартиры. Если она будет обнаружена, далее будет рассматривать зависимость цены за квадратный метр от других параметров. Это позволит нивелировать разброс по площадам квартир."
   ]
  },
  {
   "cell_type": "markdown",
   "metadata": {},
   "source": [
    "### Изучение зависимостей"
   ]
  },
  {
   "cell_type": "code",
   "execution_count": 567,
   "metadata": {
    "scrolled": true
   },
   "outputs": [
    {
     "name": "stdout",
     "output_type": "stream",
     "text": [
      "0.7934315899760436\n"
     ]
    },
    {
     "data": {
      "image/png": "[encoded data removed]",
      "text/plain": [
       "<Figure size 432x288 with 1 Axes>"
      ]
     },
     "metadata": {
      "needs_background": "light"
     },
     "output_type": "display_data"
    }
   ],
   "source": [
    "data_v3.plot(x='total_area', y='last_price', kind='scatter', grid=True, alpha=0.5)\n",
    "corr_price_all = data_v3['last_price'].corr(data_v3['total_area'])\n",
    "print(corr_price_all)"
   ]
  },
  {
   "cell_type": "markdown",
   "metadata": {},
   "source": [
    "И числовой рассчет, и диаграмма рассеивания показывают, что есть четкая положительная корреляция между ценой и общей площадью. Поэтому далее будем использовать цену за квадратный метр, вместо последней цены в обявлении."
   ]
  },
  {
   "cell_type": "markdown",
   "metadata": {},
   "source": [
    "Рассмотрим зависимость цены за метр от количества дней в продаже."
   ]
  },
  {
   "cell_type": "code",
   "execution_count": 568,
   "metadata": {
    "scrolled": false
   },
   "outputs": [
    {
     "name": "stdout",
     "output_type": "stream",
     "text": [
      "0.029101575652880005\n"
     ]
    },
    {
     "data": {
      "image/png": "[encoded data removed]",
      "text/plain": [
       "<Figure size 432x288 with 1 Axes>"
      ]
     },
     "metadata": {
      "needs_background": "light"
     },
     "output_type": "display_data"
    }
   ],
   "source": [
    "data_v3.plot(x='days_exposition', y='price_for_meter', kind='scatter', grid=True, alpha=0.2)\n",
    "print(data_days_exp['price_for_meter'].corr(data_days_exp['days_exposition']))"
   ]
  },
  {
   "cell_type": "markdown",
   "metadata": {},
   "source": [
    "Как таковой, корреляции между этими параметрами, ни в числовом выражении, ни на графике не видно. Однако, имеется два странных пика, примерно на значениеях 40-50 дней и 85-95 дней. На первом из них количество проданных квартир, с ценой за метр ниже среднего резко увеличивается, на втором, это происходит для квартир, с ценой за метр выше среднего."
   ]
  },
  {
   "cell_type": "markdown",
   "metadata": {},
   "source": [
    "Теперь изучим зависимость цены за метр от количества комнат, типа этажа и расстояния от центра."
   ]
  },
  {
   "cell_type": "code",
   "execution_count": 569,
   "metadata": {
    "scrolled": false
   },
   "outputs": [
    {
     "name": "stdout",
     "output_type": "stream",
     "text": [
      "18784\n",
      "rooms -0.12292847758938118\n",
      "type_floor 0.05274822807992271\n",
      "cityCenters_nearest -0.40622259769022206\n"
     ]
    },
    {
     "data": {
      "image/png": "[encoded data removed]",
      "text/plain": [
       "<Figure size 432x288 with 1 Axes>"
      ]
     },
     "metadata": {
      "needs_background": "light"
     },
     "output_type": "display_data"
    },
    {
     "data": {
      "image/png": "[encoded data removed]",
      "text/plain": [
       "<Figure size 432x288 with 1 Axes>"
      ]
     },
     "metadata": {
      "needs_background": "light"
     },
     "output_type": "display_data"
    },
    {
     "data": {
      "image/png": "[encoded data removed]",
      "text/plain": [
       "<Figure size 432x288 with 1 Axes>"
      ]
     },
     "metadata": {
      "needs_background": "light"
     },
     "output_type": "display_data"
    }
   ],
   "source": [
    "data_for_price = data_v3[[\n",
    "    'last_price',\n",
    "    'rooms',\n",
    "    'total_area',\n",
    "    'type_floor',\n",
    "    'cityCenters_nearest',\n",
    "    'weekday',\n",
    "    'month',\n",
    "    'years',\n",
    "    'locality_name',\n",
    "    'price_for_meter'\n",
    "]]\n",
    "columns = ['rooms',\n",
    "    'type_floor',\n",
    "    'cityCenters_nearest']\n",
    "#data_for_price = data_for_price.query('last_price > 1000000 and rooms < 5 and total_area < 170')\n",
    "print(data_for_price.shape[0])\n",
    "for column in columns:\n",
    "    data_for_price.plot(x=column, y='price_for_meter', kind='scatter', alpha=0.4)\n",
    "    print(column, data_for_price['price_for_meter'].corr(data_for_price[column]))"
   ]
  },
  {
   "cell_type": "markdown",
   "metadata": {},
   "source": [
    "Как видно из числовых значений и графиков, зависимость цены за метр от количества комнат явно не прослеживается, такая же ситуация с типом этажа. А вот с расстоянием от центра ситуация другая, видна четкая зависимость падения цены за метр при отдалении от центра.\n",
    "\n",
    "Отдельно стоит обратить внимание на аномальную пустоту на графике зависимости цены от удаленности от центра в промежутке ~ 35-45 км. Скорее всеге, на расстояние в 35 км от центра оканчивается городская агломерация Питера, и плотность жилых построет резко падает. А на расстояние 45 км, скорее всего имеется несколько крупных населённых пунктов."
   ]
  },
  {
   "cell_type": "markdown",
   "metadata": {},
   "source": [
    "Изучим зависимость средней цены за квадратный метр от месяца, дня недели и года, в котором было опубликовано объявление."
   ]
  },
  {
   "cell_type": "code",
   "execution_count": 570,
   "metadata": {
    "scrolled": false
   },
   "outputs": [
    {
     "data": {
      "text/plain": [
       "<matplotlib.axes._subplots.AxesSubplot at 0x7fdc30c015d0>"
      ]
     },
     "execution_count": 570,
     "metadata": {},
     "output_type": "execute_result"
    },
    {
     "data": {
      "image/png": "[encoded data removed]",
      "text/plain": [
       "<Figure size 720x360 with 1 Axes>"
      ]
     },
     "metadata": {
      "needs_background": "light"
     },
     "output_type": "display_data"
    }
   ],
   "source": [
    "data_for_price_m = data_for_price.pivot_table(index='month', values='price_for_meter', aggfunc=['mean','median'])\n",
    "data_for_price_m.columns = ['mean', 'median']\n",
    "data_for_price_m['mean'] = data_for_price_m['mean'].round(0).astype('int')\n",
    "data_for_price_m['median'] = data_for_price_m['median'].round(0).astype('int')\n",
    "data_for_price_m.plot(y=['mean', 'median'], grid=True, kind='bar', figsize=(10,5))"
   ]
  },
  {
   "cell_type": "markdown",
   "metadata": {},
   "source": [
    "Заметен некоторый спад удельной цена в 5 и 6 месяце."
   ]
  },
  {
   "cell_type": "code",
   "execution_count": 571,
   "metadata": {
    "scrolled": true
   },
   "outputs": [
    {
     "data": {
      "text/plain": [
       "<matplotlib.axes._subplots.AxesSubplot at 0x7fdc30b61890>"
      ]
     },
     "execution_count": 571,
     "metadata": {},
     "output_type": "execute_result"
    },
    {
     "data": {
      "image/png": "[encoded data removed]",
      "text/plain": [
       "<Figure size 720x360 with 1 Axes>"
      ]
     },
     "metadata": {
      "needs_background": "light"
     },
     "output_type": "display_data"
    }
   ],
   "source": [
    "data_for_price_w = data_for_price.pivot_table(index='weekday', values='price_for_meter', aggfunc=['mean','median'])\n",
    "data_for_price_w.columns = ['mean', 'median']\n",
    "data_for_price_w['mean'] = data_for_price_w['mean'].round(0).astype('int')\n",
    "data_for_price_w['median'] = data_for_price_w['median'].round(0).astype('int')\n",
    "data_for_price_w.plot(y=['mean', 'median'], grid=True, kind='bar', figsize=(10,5))"
   ]
  },
  {
   "cell_type": "markdown",
   "metadata": {},
   "source": [
    "Заметных изменений средней удельный цены нет."
   ]
  },
  {
   "cell_type": "code",
   "execution_count": 572,
   "metadata": {
    "scrolled": false
   },
   "outputs": [
    {
     "data": {
      "text/plain": [
       "<matplotlib.axes._subplots.AxesSubplot at 0x7fdc30a973d0>"
      ]
     },
     "execution_count": 572,
     "metadata": {},
     "output_type": "execute_result"
    },
    {
     "data": {
      "image/png": "[encoded data removed]",
      "text/plain": [
       "<Figure size 720x360 with 1 Axes>"
      ]
     },
     "metadata": {
      "needs_background": "light"
     },
     "output_type": "display_data"
    }
   ],
   "source": [
    "data_for_price_y = data_for_price.pivot_table(index='years', values='price_for_meter', aggfunc=['mean','median'])\n",
    "data_for_price_y.columns = ['mean', 'median']\n",
    "data_for_price_y['mean'] = data_for_price_y['mean'].round(0).astype('int')\n",
    "data_for_price_y['median'] = data_for_price_y['median'].round(0).astype('int')\n",
    "data_for_price_y.plot(y=['mean', 'median'], grid=True, kind='bar', figsize=(10,5))"
   ]
  },
  {
   "cell_type": "markdown",
   "metadata": {},
   "source": [
    "Видно, что средняя удельна цена с 2014 по 2017 год падала, после чего стала снова расти. Это можно связать с внешнеми факторами."
   ]
  },
  {
   "cell_type": "markdown",
   "metadata": {},
   "source": [
    "Теперь, создадим сводную таблицу по населённым пунктам в выборке. Найдём населённые пункты с наибольшей и наименьшей средней и медианной ценой за квадратный метр."
   ]
  },
  {
   "cell_type": "code",
   "execution_count": 573,
   "metadata": {
    "scrolled": false
   },
   "outputs": [
    {
     "data": {
      "text/html": [
       "<div>\n",
       "<style scoped>\n",
       "    .dataframe tbody tr th:only-of-type {\n",
       "        vertical-align: middle;\n",
       "    }\n",
       "\n",
       "    .dataframe tbody tr th {\n",
       "        vertical-align: top;\n",
       "    }\n",
       "\n",
       "    .dataframe thead th {\n",
       "        text-align: right;\n",
       "    }\n",
       "</style>\n",
       "<table border=\"1\" class=\"dataframe\">\n",
       "  <thead>\n",
       "    <tr style=\"text-align: right;\">\n",
       "      <th></th>\n",
       "      <th>median</th>\n",
       "      <th>mean</th>\n",
       "      <th>count</th>\n",
       "    </tr>\n",
       "    <tr>\n",
       "      <th>locality_name</th>\n",
       "      <th></th>\n",
       "      <th></th>\n",
       "      <th></th>\n",
       "    </tr>\n",
       "  </thead>\n",
       "  <tbody>\n",
       "    <tr>\n",
       "      <td>Санкт-Петербург</td>\n",
       "      <td>102,130.500</td>\n",
       "      <td>106,543.000</td>\n",
       "      <td>12424</td>\n",
       "    </tr>\n",
       "    <tr>\n",
       "      <td>посёлок Мурино</td>\n",
       "      <td>84,726.000</td>\n",
       "      <td>85,292.000</td>\n",
       "      <td>477</td>\n",
       "    </tr>\n",
       "    <tr>\n",
       "      <td>посёлок Шушары</td>\n",
       "      <td>75,933.000</td>\n",
       "      <td>77,582.000</td>\n",
       "      <td>396</td>\n",
       "    </tr>\n",
       "    <tr>\n",
       "      <td>Всеволожск</td>\n",
       "      <td>65,613.000</td>\n",
       "      <td>66,753.000</td>\n",
       "      <td>322</td>\n",
       "    </tr>\n",
       "    <tr>\n",
       "      <td>Колпино</td>\n",
       "      <td>73,820.500</td>\n",
       "      <td>74,711.000</td>\n",
       "      <td>302</td>\n",
       "    </tr>\n",
       "    <tr>\n",
       "      <td>посёлок Парголово</td>\n",
       "      <td>91,428.000</td>\n",
       "      <td>89,705.000</td>\n",
       "      <td>291</td>\n",
       "    </tr>\n",
       "    <tr>\n",
       "      <td>Пушкин</td>\n",
       "      <td>97,607.500</td>\n",
       "      <td>100,554.000</td>\n",
       "      <td>282</td>\n",
       "    </tr>\n",
       "    <tr>\n",
       "      <td>деревня Кудрово</td>\n",
       "      <td>91,428.000</td>\n",
       "      <td>92,303.000</td>\n",
       "      <td>275</td>\n",
       "    </tr>\n",
       "    <tr>\n",
       "      <td>Гатчина</td>\n",
       "      <td>67,647.000</td>\n",
       "      <td>68,334.000</td>\n",
       "      <td>257</td>\n",
       "    </tr>\n",
       "    <tr>\n",
       "      <td>Выборг</td>\n",
       "      <td>57,352.000</td>\n",
       "      <td>57,749.000</td>\n",
       "      <td>191</td>\n",
       "    </tr>\n",
       "  </tbody>\n",
       "</table>\n",
       "</div>"
      ],
      "text/plain": [
       "                       median        mean  count\n",
       "locality_name                                   \n",
       "Санкт-Петербург   102,130.500 106,543.000  12424\n",
       "посёлок Мурино     84,726.000  85,292.000    477\n",
       "посёлок Шушары     75,933.000  77,582.000    396\n",
       "Всеволожск         65,613.000  66,753.000    322\n",
       "Колпино            73,820.500  74,711.000    302\n",
       "посёлок Парголово  91,428.000  89,705.000    291\n",
       "Пушкин             97,607.500 100,554.000    282\n",
       "деревня Кудрово    91,428.000  92,303.000    275\n",
       "Гатчина            67,647.000  68,334.000    257\n",
       "Выборг             57,352.000  57,749.000    191"
      ]
     },
     "metadata": {},
     "output_type": "display_data"
    },
    {
     "data": {
      "text/html": [
       "<div>\n",
       "<style scoped>\n",
       "    .dataframe tbody tr th:only-of-type {\n",
       "        vertical-align: middle;\n",
       "    }\n",
       "\n",
       "    .dataframe tbody tr th {\n",
       "        vertical-align: top;\n",
       "    }\n",
       "\n",
       "    .dataframe thead th {\n",
       "        text-align: right;\n",
       "    }\n",
       "</style>\n",
       "<table border=\"1\" class=\"dataframe\">\n",
       "  <thead>\n",
       "    <tr style=\"text-align: right;\">\n",
       "      <th></th>\n",
       "      <th>median</th>\n",
       "      <th>mean</th>\n",
       "      <th>count</th>\n",
       "    </tr>\n",
       "    <tr>\n",
       "      <th>locality_name</th>\n",
       "      <th></th>\n",
       "      <th></th>\n",
       "      <th></th>\n",
       "    </tr>\n",
       "  </thead>\n",
       "  <tbody>\n",
       "    <tr>\n",
       "      <td>Санкт-Петербург</td>\n",
       "      <td>102,130.500</td>\n",
       "      <td>106,543.000</td>\n",
       "      <td>12424</td>\n",
       "    </tr>\n",
       "  </tbody>\n",
       "</table>\n",
       "</div>"
      ],
      "text/plain": [
       "                     median        mean  count\n",
       "locality_name                                 \n",
       "Санкт-Петербург 102,130.500 106,543.000  12424"
      ]
     },
     "metadata": {},
     "output_type": "display_data"
    },
    {
     "data": {
      "text/html": [
       "<div>\n",
       "<style scoped>\n",
       "    .dataframe tbody tr th:only-of-type {\n",
       "        vertical-align: middle;\n",
       "    }\n",
       "\n",
       "    .dataframe tbody tr th {\n",
       "        vertical-align: top;\n",
       "    }\n",
       "\n",
       "    .dataframe thead th {\n",
       "        text-align: right;\n",
       "    }\n",
       "</style>\n",
       "<table border=\"1\" class=\"dataframe\">\n",
       "  <thead>\n",
       "    <tr style=\"text-align: right;\">\n",
       "      <th></th>\n",
       "      <th>median</th>\n",
       "      <th>mean</th>\n",
       "      <th>count</th>\n",
       "    </tr>\n",
       "    <tr>\n",
       "      <th>locality_name</th>\n",
       "      <th></th>\n",
       "      <th></th>\n",
       "      <th></th>\n",
       "    </tr>\n",
       "  </thead>\n",
       "  <tbody>\n",
       "    <tr>\n",
       "      <td>Выборг</td>\n",
       "      <td>57,352.000</td>\n",
       "      <td>57,749.000</td>\n",
       "      <td>191</td>\n",
       "    </tr>\n",
       "  </tbody>\n",
       "</table>\n",
       "</div>"
      ],
      "text/plain": [
       "                  median       mean  count\n",
       "locality_name                             \n",
       "Выборг        57,352.000 57,749.000    191"
      ]
     },
     "metadata": {},
     "output_type": "display_data"
    },
    {
     "data": {
      "text/html": [
       "<div>\n",
       "<style scoped>\n",
       "    .dataframe tbody tr th:only-of-type {\n",
       "        vertical-align: middle;\n",
       "    }\n",
       "\n",
       "    .dataframe tbody tr th {\n",
       "        vertical-align: top;\n",
       "    }\n",
       "\n",
       "    .dataframe thead th {\n",
       "        text-align: right;\n",
       "    }\n",
       "</style>\n",
       "<table border=\"1\" class=\"dataframe\">\n",
       "  <thead>\n",
       "    <tr style=\"text-align: right;\">\n",
       "      <th></th>\n",
       "      <th>median</th>\n",
       "      <th>mean</th>\n",
       "      <th>count</th>\n",
       "    </tr>\n",
       "    <tr>\n",
       "      <th>locality_name</th>\n",
       "      <th></th>\n",
       "      <th></th>\n",
       "      <th></th>\n",
       "    </tr>\n",
       "  </thead>\n",
       "  <tbody>\n",
       "    <tr>\n",
       "      <td>Санкт-Петербург</td>\n",
       "      <td>102,130.500</td>\n",
       "      <td>106,543.000</td>\n",
       "      <td>12424</td>\n",
       "    </tr>\n",
       "  </tbody>\n",
       "</table>\n",
       "</div>"
      ],
      "text/plain": [
       "                     median        mean  count\n",
       "locality_name                                 \n",
       "Санкт-Петербург 102,130.500 106,543.000  12424"
      ]
     },
     "metadata": {},
     "output_type": "display_data"
    },
    {
     "data": {
      "text/html": [
       "<div>\n",
       "<style scoped>\n",
       "    .dataframe tbody tr th:only-of-type {\n",
       "        vertical-align: middle;\n",
       "    }\n",
       "\n",
       "    .dataframe tbody tr th {\n",
       "        vertical-align: top;\n",
       "    }\n",
       "\n",
       "    .dataframe thead th {\n",
       "        text-align: right;\n",
       "    }\n",
       "</style>\n",
       "<table border=\"1\" class=\"dataframe\">\n",
       "  <thead>\n",
       "    <tr style=\"text-align: right;\">\n",
       "      <th></th>\n",
       "      <th>median</th>\n",
       "      <th>mean</th>\n",
       "      <th>count</th>\n",
       "    </tr>\n",
       "    <tr>\n",
       "      <th>locality_name</th>\n",
       "      <th></th>\n",
       "      <th></th>\n",
       "      <th></th>\n",
       "    </tr>\n",
       "  </thead>\n",
       "  <tbody>\n",
       "    <tr>\n",
       "      <td>Выборг</td>\n",
       "      <td>57,352.000</td>\n",
       "      <td>57,749.000</td>\n",
       "      <td>191</td>\n",
       "    </tr>\n",
       "  </tbody>\n",
       "</table>\n",
       "</div>"
      ],
      "text/plain": [
       "                  median       mean  count\n",
       "locality_name                             \n",
       "Выборг        57,352.000 57,749.000    191"
      ]
     },
     "metadata": {},
     "output_type": "display_data"
    }
   ],
   "source": [
    "data_p = data_v3.pivot_table(index='locality_name', values='price_for_meter', aggfunc=['median', 'mean','count'])\n",
    "data_p.columns = ['median', 'mean', 'count']\n",
    "data_p['mean'] = data_p['mean'].round(0)\n",
    "data_p = data_p.sort_values(by='count', ascending=False)\n",
    "data_p = data_p[:10]\n",
    "display(data_p)\n",
    "display(data_p.sort_values(by='mean', ascending=False).head(1))\n",
    "display(data_p.sort_values(by='mean', ascending=True).head(1))\n",
    "display(data_p.sort_values(by='median', ascending=False).head(1))\n",
    "display(data_p.sort_values(by='median', ascending=True).head(1))"
   ]
  },
  {
   "cell_type": "markdown",
   "metadata": {},
   "source": [
    "Вполне ожидаемо, самая высакая средняя и медианная удельная цена в Санкт-Петербурге."
   ]
  },
  {
   "cell_type": "markdown",
   "metadata": {},
   "source": [
    "Далее, создадим выборку с квартирами только в Санкт-Петербурге. После чего, переведем расстояние до центра из метров в километры, после чего создадим сводную таблицу, относительно расстония до центра и вычислим среднюю и медианную удельные цены."
   ]
  },
  {
   "cell_type": "code",
   "execution_count": 574,
   "metadata": {
    "scrolled": true
   },
   "outputs": [
    {
     "data": {
      "text/html": [
       "<div>\n",
       "<style scoped>\n",
       "    .dataframe tbody tr th:only-of-type {\n",
       "        vertical-align: middle;\n",
       "    }\n",
       "\n",
       "    .dataframe tbody tr th {\n",
       "        vertical-align: top;\n",
       "    }\n",
       "\n",
       "    .dataframe thead th {\n",
       "        text-align: right;\n",
       "    }\n",
       "</style>\n",
       "<table border=\"1\" class=\"dataframe\">\n",
       "  <thead>\n",
       "    <tr style=\"text-align: right;\">\n",
       "      <th></th>\n",
       "      <th>mean</th>\n",
       "      <th>count</th>\n",
       "      <th>median</th>\n",
       "    </tr>\n",
       "    <tr>\n",
       "      <th>kilometer_to_centre</th>\n",
       "      <th></th>\n",
       "      <th></th>\n",
       "      <th></th>\n",
       "    </tr>\n",
       "  </thead>\n",
       "  <tbody>\n",
       "    <tr>\n",
       "      <td>0</td>\n",
       "      <td>110557</td>\n",
       "      <td>8</td>\n",
       "      <td>104081</td>\n",
       "    </tr>\n",
       "    <tr>\n",
       "      <td>1</td>\n",
       "      <td>122407</td>\n",
       "      <td>109</td>\n",
       "      <td>115789</td>\n",
       "    </tr>\n",
       "    <tr>\n",
       "      <td>2</td>\n",
       "      <td>117086</td>\n",
       "      <td>167</td>\n",
       "      <td>115034</td>\n",
       "    </tr>\n",
       "    <tr>\n",
       "      <td>3</td>\n",
       "      <td>110423</td>\n",
       "      <td>216</td>\n",
       "      <td>104919</td>\n",
       "    </tr>\n",
       "    <tr>\n",
       "      <td>4</td>\n",
       "      <td>118252</td>\n",
       "      <td>443</td>\n",
       "      <td>112500</td>\n",
       "    </tr>\n",
       "    <tr>\n",
       "      <td>5</td>\n",
       "      <td>125389</td>\n",
       "      <td>586</td>\n",
       "      <td>122576</td>\n",
       "    </tr>\n",
       "    <tr>\n",
       "      <td>6</td>\n",
       "      <td>124628</td>\n",
       "      <td>404</td>\n",
       "      <td>119828</td>\n",
       "    </tr>\n",
       "    <tr>\n",
       "      <td>7</td>\n",
       "      <td>119760</td>\n",
       "      <td>279</td>\n",
       "      <td>115231</td>\n",
       "    </tr>\n",
       "    <tr>\n",
       "      <td>8</td>\n",
       "      <td>120183</td>\n",
       "      <td>469</td>\n",
       "      <td>118364</td>\n",
       "    </tr>\n",
       "    <tr>\n",
       "      <td>9</td>\n",
       "      <td>108771</td>\n",
       "      <td>479</td>\n",
       "      <td>104000</td>\n",
       "    </tr>\n",
       "  </tbody>\n",
       "</table>\n",
       "</div>"
      ],
      "text/plain": [
       "                       mean  count  median\n",
       "kilometer_to_centre                       \n",
       "0                    110557      8  104081\n",
       "1                    122407    109  115789\n",
       "2                    117086    167  115034\n",
       "3                    110423    216  104919\n",
       "4                    118252    443  112500\n",
       "5                    125389    586  122576\n",
       "6                    124628    404  119828\n",
       "7                    119760    279  115231\n",
       "8                    120183    469  118364\n",
       "9                    108771    479  104000"
      ]
     },
     "metadata": {},
     "output_type": "display_data"
    }
   ],
   "source": [
    "data_spb = data_v3.query('locality_name == \"Санкт-Петербург\"')\n",
    "data_spb = data_spb.dropna(subset=['cityCenters_nearest'])\n",
    "data_spb['kilometer_to_centre'] = (data_spb['cityCenters_nearest'] / 1000).round(0).astype('int')\n",
    "data_spb_good = data_spb.pivot_table(index='kilometer_to_centre', values='price_for_meter' , aggfunc=['mean','count','median'])\n",
    "data_spb_good.columns = ['mean', 'count', 'median']\n",
    "data_spb_good['mean'] = data_spb_good['mean'].astype('int')\n",
    "data_spb_good['median'] = data_spb_good['median'].astype('int')\n",
    "display(data_spb_good.head(10))"
   ]
  },
  {
   "cell_type": "code",
   "execution_count": 575,
   "metadata": {
    "scrolled": false
   },
   "outputs": [
    {
     "data": {
      "text/plain": [
       "<matplotlib.axes._subplots.AxesSubplot at 0x7fdc30a1c550>"
      ]
     },
     "execution_count": 575,
     "metadata": {},
     "output_type": "execute_result"
    },
    {
     "data": {
      "image/png": "[encoded data removed]",
      "text/plain": [
       "<Figure size 720x360 with 1 Axes>"
      ]
     },
     "metadata": {
      "needs_background": "light"
     },
     "output_type": "display_data"
    }
   ],
   "source": [
    "data_spb_good.plot(y=['mean','median'], grid=True, title='Цены от удаленности от центра', figsize=(10,5), style='o-')"
   ]
  },
  {
   "cell_type": "markdown",
   "metadata": {},
   "source": [
    "На графике видны три пика. Пик в районе 26-28 км следует рассматривать отдельно, так как он не относится к теме работы.\n",
    "\n",
    "Пик в районе 0 км абсолютно логичем, квартиры прямо в центре города всегда имеют наибольшуя удельную цену. Далее видно резкое падение цены и новый пик, который приходится на 7-8 км. После 8 км характер шрафика меняется - удельная цена начинает постепенно падать, по мере отталения от центра. Поэтому границу в 8 км и будем считать центром города."
   ]
  },
  {
   "cell_type": "markdown",
   "metadata": {},
   "source": [
    "Мы определили границу центра, теперь проведем исследование зависимости цены квартиры от разных параметров.\n",
    "Для начала, созданим новый фрейм, в который отберем только квартиры в центре."
   ]
  },
  {
   "cell_type": "code",
   "execution_count": 576,
   "metadata": {
    "scrolled": false
   },
   "outputs": [
    {
     "name": "stdout",
     "output_type": "stream",
     "text": [
      "Строк в выборке: 2681\n"
     ]
    },
    {
     "data": {
      "text/html": [
       "<div>\n",
       "<style scoped>\n",
       "    .dataframe tbody tr th:only-of-type {\n",
       "        vertical-align: middle;\n",
       "    }\n",
       "\n",
       "    .dataframe tbody tr th {\n",
       "        vertical-align: top;\n",
       "    }\n",
       "\n",
       "    .dataframe thead th {\n",
       "        text-align: right;\n",
       "    }\n",
       "</style>\n",
       "<table border=\"1\" class=\"dataframe\">\n",
       "  <thead>\n",
       "    <tr style=\"text-align: right;\">\n",
       "      <th></th>\n",
       "      <th>total_images</th>\n",
       "      <th>last_price</th>\n",
       "      <th>total_area</th>\n",
       "      <th>first_day_exposition</th>\n",
       "      <th>rooms</th>\n",
       "      <th>ceiling_height</th>\n",
       "      <th>floors_total</th>\n",
       "      <th>living_area</th>\n",
       "      <th>floor</th>\n",
       "      <th>is_apartment</th>\n",
       "      <th>...</th>\n",
       "      <th>ponds_nearest</th>\n",
       "      <th>days_exposition</th>\n",
       "      <th>price_for_meter</th>\n",
       "      <th>living_for_total</th>\n",
       "      <th>kitchen_for_total</th>\n",
       "      <th>weekday</th>\n",
       "      <th>month</th>\n",
       "      <th>years</th>\n",
       "      <th>type_floor</th>\n",
       "      <th>kilometer_to_centre</th>\n",
       "    </tr>\n",
       "  </thead>\n",
       "  <tbody>\n",
       "    <tr>\n",
       "      <td>4</td>\n",
       "      <td>2</td>\n",
       "      <td>10000000</td>\n",
       "      <td>100.000</td>\n",
       "      <td>2018-06-19</td>\n",
       "      <td>2</td>\n",
       "      <td>3.030</td>\n",
       "      <td>14.000</td>\n",
       "      <td>32.000</td>\n",
       "      <td>13</td>\n",
       "      <td>True</td>\n",
       "      <td>...</td>\n",
       "      <td>48.000</td>\n",
       "      <td>121.000</td>\n",
       "      <td>100000</td>\n",
       "      <td>0.320</td>\n",
       "      <td>0.410</td>\n",
       "      <td>1</td>\n",
       "      <td>6</td>\n",
       "      <td>2018</td>\n",
       "      <td>1</td>\n",
       "      <td>8</td>\n",
       "    </tr>\n",
       "    <tr>\n",
       "      <td>24</td>\n",
       "      <td>8</td>\n",
       "      <td>6500000</td>\n",
       "      <td>97.200</td>\n",
       "      <td>2015-10-31</td>\n",
       "      <td>2</td>\n",
       "      <td>2.804</td>\n",
       "      <td>3.000</td>\n",
       "      <td>46.500</td>\n",
       "      <td>1</td>\n",
       "      <td>True</td>\n",
       "      <td>...</td>\n",
       "      <td>124.000</td>\n",
       "      <td>265.000</td>\n",
       "      <td>66872</td>\n",
       "      <td>0.480</td>\n",
       "      <td>0.200</td>\n",
       "      <td>5</td>\n",
       "      <td>10</td>\n",
       "      <td>2015</td>\n",
       "      <td>0</td>\n",
       "      <td>2</td>\n",
       "    </tr>\n",
       "    <tr>\n",
       "      <td>35</td>\n",
       "      <td>6</td>\n",
       "      <td>15500000</td>\n",
       "      <td>149.000</td>\n",
       "      <td>2017-06-26</td>\n",
       "      <td>5</td>\n",
       "      <td>2.804</td>\n",
       "      <td>5.000</td>\n",
       "      <td>104.000</td>\n",
       "      <td>4</td>\n",
       "      <td>True</td>\n",
       "      <td>...</td>\n",
       "      <td>779.000</td>\n",
       "      <td>644.000</td>\n",
       "      <td>104026</td>\n",
       "      <td>0.700</td>\n",
       "      <td>0.110</td>\n",
       "      <td>0</td>\n",
       "      <td>6</td>\n",
       "      <td>2017</td>\n",
       "      <td>1</td>\n",
       "      <td>4</td>\n",
       "    </tr>\n",
       "    <tr>\n",
       "      <td>61</td>\n",
       "      <td>18</td>\n",
       "      <td>7990000</td>\n",
       "      <td>74.000</td>\n",
       "      <td>2017-08-24</td>\n",
       "      <td>2</td>\n",
       "      <td>2.804</td>\n",
       "      <td>4.000</td>\n",
       "      <td>43.000</td>\n",
       "      <td>4</td>\n",
       "      <td>True</td>\n",
       "      <td>...</td>\n",
       "      <td>nan</td>\n",
       "      <td>609.000</td>\n",
       "      <td>107972</td>\n",
       "      <td>0.580</td>\n",
       "      <td>0.270</td>\n",
       "      <td>3</td>\n",
       "      <td>8</td>\n",
       "      <td>2017</td>\n",
       "      <td>2</td>\n",
       "      <td>4</td>\n",
       "    </tr>\n",
       "    <tr>\n",
       "      <td>63</td>\n",
       "      <td>2</td>\n",
       "      <td>20000000</td>\n",
       "      <td>118.000</td>\n",
       "      <td>2018-09-11</td>\n",
       "      <td>3</td>\n",
       "      <td>3.000</td>\n",
       "      <td>9.000</td>\n",
       "      <td>68.000</td>\n",
       "      <td>7</td>\n",
       "      <td>True</td>\n",
       "      <td>...</td>\n",
       "      <td>779.000</td>\n",
       "      <td>37.000</td>\n",
       "      <td>169491</td>\n",
       "      <td>0.580</td>\n",
       "      <td>0.140</td>\n",
       "      <td>1</td>\n",
       "      <td>9</td>\n",
       "      <td>2018</td>\n",
       "      <td>1</td>\n",
       "      <td>5</td>\n",
       "    </tr>\n",
       "    <tr>\n",
       "      <td>70</td>\n",
       "      <td>9</td>\n",
       "      <td>3400000</td>\n",
       "      <td>30.000</td>\n",
       "      <td>2018-09-05</td>\n",
       "      <td>1</td>\n",
       "      <td>2.804</td>\n",
       "      <td>5.000</td>\n",
       "      <td>16.000</td>\n",
       "      <td>1</td>\n",
       "      <td>True</td>\n",
       "      <td>...</td>\n",
       "      <td>nan</td>\n",
       "      <td>14.000</td>\n",
       "      <td>113333</td>\n",
       "      <td>0.530</td>\n",
       "      <td>0.230</td>\n",
       "      <td>2</td>\n",
       "      <td>9</td>\n",
       "      <td>2018</td>\n",
       "      <td>0</td>\n",
       "      <td>8</td>\n",
       "    </tr>\n",
       "    <tr>\n",
       "      <td>94</td>\n",
       "      <td>3</td>\n",
       "      <td>3500000</td>\n",
       "      <td>29.500</td>\n",
       "      <td>2019-04-26</td>\n",
       "      <td>1</td>\n",
       "      <td>2.500</td>\n",
       "      <td>5.000</td>\n",
       "      <td>15.600</td>\n",
       "      <td>2</td>\n",
       "      <td>True</td>\n",
       "      <td>...</td>\n",
       "      <td>nan</td>\n",
       "      <td>4.000</td>\n",
       "      <td>118644</td>\n",
       "      <td>0.530</td>\n",
       "      <td>0.190</td>\n",
       "      <td>4</td>\n",
       "      <td>4</td>\n",
       "      <td>2019</td>\n",
       "      <td>1</td>\n",
       "      <td>7</td>\n",
       "    </tr>\n",
       "    <tr>\n",
       "      <td>99</td>\n",
       "      <td>32</td>\n",
       "      <td>9600000</td>\n",
       "      <td>90.000</td>\n",
       "      <td>2017-09-26</td>\n",
       "      <td>4</td>\n",
       "      <td>2.804</td>\n",
       "      <td>5.000</td>\n",
       "      <td>67.000</td>\n",
       "      <td>2</td>\n",
       "      <td>True</td>\n",
       "      <td>...</td>\n",
       "      <td>nan</td>\n",
       "      <td>104.000</td>\n",
       "      <td>106666</td>\n",
       "      <td>0.740</td>\n",
       "      <td>0.090</td>\n",
       "      <td>1</td>\n",
       "      <td>9</td>\n",
       "      <td>2017</td>\n",
       "      <td>1</td>\n",
       "      <td>3</td>\n",
       "    </tr>\n",
       "    <tr>\n",
       "      <td>106</td>\n",
       "      <td>9</td>\n",
       "      <td>10500000</td>\n",
       "      <td>124.100</td>\n",
       "      <td>2017-05-25</td>\n",
       "      <td>5</td>\n",
       "      <td>3.200</td>\n",
       "      <td>4.000</td>\n",
       "      <td>79.400</td>\n",
       "      <td>3</td>\n",
       "      <td>True</td>\n",
       "      <td>...</td>\n",
       "      <td>nan</td>\n",
       "      <td>6.000</td>\n",
       "      <td>84609</td>\n",
       "      <td>0.640</td>\n",
       "      <td>0.160</td>\n",
       "      <td>3</td>\n",
       "      <td>5</td>\n",
       "      <td>2017</td>\n",
       "      <td>1</td>\n",
       "      <td>6</td>\n",
       "    </tr>\n",
       "    <tr>\n",
       "      <td>111</td>\n",
       "      <td>4</td>\n",
       "      <td>4590000</td>\n",
       "      <td>40.000</td>\n",
       "      <td>2017-05-29</td>\n",
       "      <td>1</td>\n",
       "      <td>2.804</td>\n",
       "      <td>6.000</td>\n",
       "      <td>18.000</td>\n",
       "      <td>1</td>\n",
       "      <td>True</td>\n",
       "      <td>...</td>\n",
       "      <td>nan</td>\n",
       "      <td>31.000</td>\n",
       "      <td>114750</td>\n",
       "      <td>0.450</td>\n",
       "      <td>0.250</td>\n",
       "      <td>0</td>\n",
       "      <td>5</td>\n",
       "      <td>2017</td>\n",
       "      <td>0</td>\n",
       "      <td>6</td>\n",
       "    </tr>\n",
       "    <tr>\n",
       "      <td>136</td>\n",
       "      <td>16</td>\n",
       "      <td>6500000</td>\n",
       "      <td>51.800</td>\n",
       "      <td>2018-08-01</td>\n",
       "      <td>2</td>\n",
       "      <td>3.450</td>\n",
       "      <td>6.000</td>\n",
       "      <td>25.600</td>\n",
       "      <td>2</td>\n",
       "      <td>True</td>\n",
       "      <td>...</td>\n",
       "      <td>812.000</td>\n",
       "      <td>163.000</td>\n",
       "      <td>125482</td>\n",
       "      <td>0.490</td>\n",
       "      <td>0.140</td>\n",
       "      <td>2</td>\n",
       "      <td>8</td>\n",
       "      <td>2018</td>\n",
       "      <td>1</td>\n",
       "      <td>4</td>\n",
       "    </tr>\n",
       "    <tr>\n",
       "      <td>137</td>\n",
       "      <td>11</td>\n",
       "      <td>13310800</td>\n",
       "      <td>85.100</td>\n",
       "      <td>2018-01-01</td>\n",
       "      <td>2</td>\n",
       "      <td>2.700</td>\n",
       "      <td>10.000</td>\n",
       "      <td>31.520</td>\n",
       "      <td>5</td>\n",
       "      <td>True</td>\n",
       "      <td>...</td>\n",
       "      <td>133.000</td>\n",
       "      <td>340.000</td>\n",
       "      <td>156413</td>\n",
       "      <td>0.370</td>\n",
       "      <td>0.320</td>\n",
       "      <td>0</td>\n",
       "      <td>1</td>\n",
       "      <td>2018</td>\n",
       "      <td>1</td>\n",
       "      <td>4</td>\n",
       "    </tr>\n",
       "    <tr>\n",
       "      <td>138</td>\n",
       "      <td>8</td>\n",
       "      <td>4800000</td>\n",
       "      <td>40.000</td>\n",
       "      <td>2017-11-18</td>\n",
       "      <td>2</td>\n",
       "      <td>2.804</td>\n",
       "      <td>3.000</td>\n",
       "      <td>29.000</td>\n",
       "      <td>2</td>\n",
       "      <td>True</td>\n",
       "      <td>...</td>\n",
       "      <td>729.000</td>\n",
       "      <td>80.000</td>\n",
       "      <td>120000</td>\n",
       "      <td>0.720</td>\n",
       "      <td>0.150</td>\n",
       "      <td>5</td>\n",
       "      <td>11</td>\n",
       "      <td>2017</td>\n",
       "      <td>1</td>\n",
       "      <td>3</td>\n",
       "    </tr>\n",
       "    <tr>\n",
       "      <td>143</td>\n",
       "      <td>9</td>\n",
       "      <td>2990000</td>\n",
       "      <td>30.000</td>\n",
       "      <td>2016-06-08</td>\n",
       "      <td>1</td>\n",
       "      <td>2.500</td>\n",
       "      <td>9.000</td>\n",
       "      <td>20.000</td>\n",
       "      <td>9</td>\n",
       "      <td>True</td>\n",
       "      <td>...</td>\n",
       "      <td>332.000</td>\n",
       "      <td>60.000</td>\n",
       "      <td>99666</td>\n",
       "      <td>0.670</td>\n",
       "      <td>0.190</td>\n",
       "      <td>2</td>\n",
       "      <td>6</td>\n",
       "      <td>2016</td>\n",
       "      <td>2</td>\n",
       "      <td>6</td>\n",
       "    </tr>\n",
       "    <tr>\n",
       "      <td>159</td>\n",
       "      <td>14</td>\n",
       "      <td>7050000</td>\n",
       "      <td>66.000</td>\n",
       "      <td>2017-09-04</td>\n",
       "      <td>3</td>\n",
       "      <td>3.000</td>\n",
       "      <td>4.000</td>\n",
       "      <td>37.800</td>\n",
       "      <td>4</td>\n",
       "      <td>False</td>\n",
       "      <td>...</td>\n",
       "      <td>1,013.000</td>\n",
       "      <td>98.000</td>\n",
       "      <td>106818</td>\n",
       "      <td>0.570</td>\n",
       "      <td>0.170</td>\n",
       "      <td>0</td>\n",
       "      <td>9</td>\n",
       "      <td>2017</td>\n",
       "      <td>2</td>\n",
       "      <td>5</td>\n",
       "    </tr>\n",
       "  </tbody>\n",
       "</table>\n",
       "<p>15 rows × 30 columns</p>\n",
       "</div>"
      ],
      "text/plain": [
       "     total_images  last_price  total_area first_day_exposition  rooms  \\\n",
       "4               2    10000000     100.000           2018-06-19      2   \n",
       "24              8     6500000      97.200           2015-10-31      2   \n",
       "35              6    15500000     149.000           2017-06-26      5   \n",
       "61             18     7990000      74.000           2017-08-24      2   \n",
       "63              2    20000000     118.000           2018-09-11      3   \n",
       "70              9     3400000      30.000           2018-09-05      1   \n",
       "94              3     3500000      29.500           2019-04-26      1   \n",
       "99             32     9600000      90.000           2017-09-26      4   \n",
       "106             9    10500000     124.100           2017-05-25      5   \n",
       "111             4     4590000      40.000           2017-05-29      1   \n",
       "136            16     6500000      51.800           2018-08-01      2   \n",
       "137            11    13310800      85.100           2018-01-01      2   \n",
       "138             8     4800000      40.000           2017-11-18      2   \n",
       "143             9     2990000      30.000           2016-06-08      1   \n",
       "159            14     7050000      66.000           2017-09-04      3   \n",
       "\n",
       "     ceiling_height  floors_total  living_area  floor  is_apartment  ...  \\\n",
       "4             3.030        14.000       32.000     13          True  ...   \n",
       "24            2.804         3.000       46.500      1          True  ...   \n",
       "35            2.804         5.000      104.000      4          True  ...   \n",
       "61            2.804         4.000       43.000      4          True  ...   \n",
       "63            3.000         9.000       68.000      7          True  ...   \n",
       "70            2.804         5.000       16.000      1          True  ...   \n",
       "94            2.500         5.000       15.600      2          True  ...   \n",
       "99            2.804         5.000       67.000      2          True  ...   \n",
       "106           3.200         4.000       79.400      3          True  ...   \n",
       "111           2.804         6.000       18.000      1          True  ...   \n",
       "136           3.450         6.000       25.600      2          True  ...   \n",
       "137           2.700        10.000       31.520      5          True  ...   \n",
       "138           2.804         3.000       29.000      2          True  ...   \n",
       "143           2.500         9.000       20.000      9          True  ...   \n",
       "159           3.000         4.000       37.800      4         False  ...   \n",
       "\n",
       "     ponds_nearest  days_exposition  price_for_meter  living_for_total  \\\n",
       "4           48.000          121.000           100000             0.320   \n",
       "24         124.000          265.000            66872             0.480   \n",
       "35         779.000          644.000           104026             0.700   \n",
       "61             nan          609.000           107972             0.580   \n",
       "63         779.000           37.000           169491             0.580   \n",
       "70             nan           14.000           113333             0.530   \n",
       "94             nan            4.000           118644             0.530   \n",
       "99             nan          104.000           106666             0.740   \n",
       "106            nan            6.000            84609             0.640   \n",
       "111            nan           31.000           114750             0.450   \n",
       "136        812.000          163.000           125482             0.490   \n",
       "137        133.000          340.000           156413             0.370   \n",
       "138        729.000           80.000           120000             0.720   \n",
       "143        332.000           60.000            99666             0.670   \n",
       "159      1,013.000           98.000           106818             0.570   \n",
       "\n",
       "    kitchen_for_total  weekday  month  years  type_floor  kilometer_to_centre  \n",
       "4               0.410        1      6   2018           1                    8  \n",
       "24              0.200        5     10   2015           0                    2  \n",
       "35              0.110        0      6   2017           1                    4  \n",
       "61              0.270        3      8   2017           2                    4  \n",
       "63              0.140        1      9   2018           1                    5  \n",
       "70              0.230        2      9   2018           0                    8  \n",
       "94              0.190        4      4   2019           1                    7  \n",
       "99              0.090        1      9   2017           1                    3  \n",
       "106             0.160        3      5   2017           1                    6  \n",
       "111             0.250        0      5   2017           0                    6  \n",
       "136             0.140        2      8   2018           1                    4  \n",
       "137             0.320        0      1   2018           1                    4  \n",
       "138             0.150        5     11   2017           1                    3  \n",
       "143             0.190        2      6   2016           2                    6  \n",
       "159             0.170        0      9   2017           2                    5  \n",
       "\n",
       "[15 rows x 30 columns]"
      ]
     },
     "metadata": {},
     "output_type": "display_data"
    }
   ],
   "source": [
    "data_spb_centre = data_spb.query('kilometer_to_centre <= 8')\n",
    "print(\"Строк в выборке:\", data_spb_centre.shape[0])\n",
    "display(data_spb_centre.head(15))\n"
   ]
  },
  {
   "cell_type": "markdown",
   "metadata": {},
   "source": [
    "Посмотрим на распределение количества объявлений про площади квартир."
   ]
  },
  {
   "cell_type": "code",
   "execution_count": 577,
   "metadata": {
    "scrolled": false
   },
   "outputs": [
    {
     "name": "stdout",
     "output_type": "stream",
     "text": [
      "count   2,681.000\n",
      "mean       73.239\n",
      "std        29.794\n",
      "min        20.000\n",
      "25%        49.350\n",
      "50%        68.720\n",
      "75%        90.300\n",
      "max       170.000\n",
      "Name: total_area, dtype: float64\n",
      "AxesSubplot(0.125,0.125;0.775x0.755)\n"
     ]
    },
    {
     "data": {
      "image/png": "[encoded data removed]",
      "text/plain": [
       "<Figure size 432x288 with 1 Axes>"
      ]
     },
     "metadata": {
      "needs_background": "light"
     },
     "output_type": "display_data"
    }
   ],
   "source": [
    "area_spb = data_spb_centre['total_area'].describe()\n",
    "print(data_spb_centre['total_area'].describe())\n",
    "print(data_spb_centre['total_area'].plot(bins=30, range=(20,170), kind='hist', label='Spb', grid=True))"
   ]
  },
  {
   "cell_type": "code",
   "execution_count": 578,
   "metadata": {},
   "outputs": [
    {
     "data": {
      "text/html": [
       "<div>\n",
       "<style scoped>\n",
       "    .dataframe tbody tr th:only-of-type {\n",
       "        vertical-align: middle;\n",
       "    }\n",
       "\n",
       "    .dataframe tbody tr th {\n",
       "        vertical-align: top;\n",
       "    }\n",
       "\n",
       "    .dataframe thead th {\n",
       "        text-align: right;\n",
       "    }\n",
       "</style>\n",
       "<table border=\"1\" class=\"dataframe\">\n",
       "  <thead>\n",
       "    <tr style=\"text-align: right;\">\n",
       "      <th></th>\n",
       "      <th>count</th>\n",
       "      <th>mean</th>\n",
       "      <th>std</th>\n",
       "      <th>min</th>\n",
       "      <th>25%</th>\n",
       "      <th>50%</th>\n",
       "      <th>75%</th>\n",
       "      <th>max</th>\n",
       "    </tr>\n",
       "  </thead>\n",
       "  <tbody>\n",
       "    <tr>\n",
       "      <td>area_spb</td>\n",
       "      <td>2,681.000</td>\n",
       "      <td>73.239</td>\n",
       "      <td>29.794</td>\n",
       "      <td>20.000</td>\n",
       "      <td>49.350</td>\n",
       "      <td>68.720</td>\n",
       "      <td>90.300</td>\n",
       "      <td>170.000</td>\n",
       "    </tr>\n",
       "    <tr>\n",
       "      <td>area_all</td>\n",
       "      <td>23,699.000</td>\n",
       "      <td>60.349</td>\n",
       "      <td>35.654</td>\n",
       "      <td>12.000</td>\n",
       "      <td>40.000</td>\n",
       "      <td>52.000</td>\n",
       "      <td>69.900</td>\n",
       "      <td>900.000</td>\n",
       "    </tr>\n",
       "  </tbody>\n",
       "</table>\n",
       "</div>"
      ],
      "text/plain": [
       "              count   mean    std    min    25%    50%    75%     max\n",
       "area_spb  2,681.000 73.239 29.794 20.000 49.350 68.720 90.300 170.000\n",
       "area_all 23,699.000 60.349 35.654 12.000 40.000 52.000 69.900 900.000"
      ]
     },
     "metadata": {},
     "output_type": "display_data"
    }
   ],
   "source": [
    "area = pd.DataFrame([area_spb, area_all])\n",
    "area.index = ['area_spb', 'area_all']\n",
    "display(area)"
   ]
  },
  {
   "cell_type": "markdown",
   "metadata": {},
   "source": [
    "Как видно из последней таблицы, в Питере заметно больше средняя и медианная площадь квартир"
   ]
  },
  {
   "cell_type": "code",
   "execution_count": 579,
   "metadata": {
    "scrolled": false
   },
   "outputs": [
    {
     "name": "stdout",
     "output_type": "stream",
     "text": [
      "count   2,681.000\n",
      "mean        2.891\n",
      "std         0.220\n",
      "min         2.500\n",
      "25%         2.804\n",
      "50%         2.804\n",
      "75%         3.000\n",
      "max         3.500\n",
      "Name: ceiling_height, dtype: float64\n"
     ]
    },
    {
     "data": {
      "text/plain": [
       "<matplotlib.axes._subplots.AxesSubplot at 0x7fdc308d1cd0>"
      ]
     },
     "execution_count": 579,
     "metadata": {},
     "output_type": "execute_result"
    },
    {
     "data": {
      "image/png": "[encoded data removed]",
      "text/plain": [
       "<Figure size 432x288 with 1 Axes>"
      ]
     },
     "metadata": {
      "needs_background": "light"
     },
     "output_type": "display_data"
    }
   ],
   "source": [
    "height_spb = data_spb_centre['ceiling_height'].describe()\n",
    "print(height_spb)\n",
    "data_spb_centre['ceiling_height'].plot(kind='hist', bins=20, grid=True, xlim=(2.5,3.5))"
   ]
  },
  {
   "cell_type": "code",
   "execution_count": 580,
   "metadata": {
    "scrolled": true
   },
   "outputs": [
    {
     "data": {
      "text/html": [
       "<div>\n",
       "<style scoped>\n",
       "    .dataframe tbody tr th:only-of-type {\n",
       "        vertical-align: middle;\n",
       "    }\n",
       "\n",
       "    .dataframe tbody tr th {\n",
       "        vertical-align: top;\n",
       "    }\n",
       "\n",
       "    .dataframe thead th {\n",
       "        text-align: right;\n",
       "    }\n",
       "</style>\n",
       "<table border=\"1\" class=\"dataframe\">\n",
       "  <thead>\n",
       "    <tr style=\"text-align: right;\">\n",
       "      <th></th>\n",
       "      <th>count</th>\n",
       "      <th>mean</th>\n",
       "      <th>std</th>\n",
       "      <th>min</th>\n",
       "      <th>25%</th>\n",
       "      <th>50%</th>\n",
       "      <th>75%</th>\n",
       "      <th>max</th>\n",
       "    </tr>\n",
       "  </thead>\n",
       "  <tbody>\n",
       "    <tr>\n",
       "      <td>height_spb</td>\n",
       "      <td>2,681.000</td>\n",
       "      <td>2.891</td>\n",
       "      <td>0.220</td>\n",
       "      <td>2.500</td>\n",
       "      <td>2.804</td>\n",
       "      <td>2.804</td>\n",
       "      <td>3.000</td>\n",
       "      <td>3.500</td>\n",
       "    </tr>\n",
       "    <tr>\n",
       "      <td>height_all</td>\n",
       "      <td>23,699.000</td>\n",
       "      <td>2.772</td>\n",
       "      <td>1.009</td>\n",
       "      <td>1.000</td>\n",
       "      <td>2.600</td>\n",
       "      <td>2.725</td>\n",
       "      <td>2.804</td>\n",
       "      <td>100.000</td>\n",
       "    </tr>\n",
       "  </tbody>\n",
       "</table>\n",
       "</div>"
      ],
      "text/plain": [
       "                count  mean   std   min   25%   50%   75%     max\n",
       "height_spb  2,681.000 2.891 0.220 2.500 2.804 2.804 3.000   3.500\n",
       "height_all 23,699.000 2.772 1.009 1.000 2.600 2.725 2.804 100.000"
      ]
     },
     "metadata": {},
     "output_type": "display_data"
    }
   ],
   "source": [
    "height = pd. DataFrame([height_spb, height_all])\n",
    "height.index = ['height_spb', 'height_all']\n",
    "display(height)"
   ]
  },
  {
   "cell_type": "markdown",
   "metadata": {},
   "source": [
    "Средняя высота потолков у квартир так же больше в Питере."
   ]
  },
  {
   "cell_type": "code",
   "execution_count": 581,
   "metadata": {
    "scrolled": false
   },
   "outputs": [
    {
     "name": "stdout",
     "output_type": "stream",
     "text": [
      "count   2,681.000\n",
      "mean        2.456\n",
      "std         1.032\n",
      "min         1.000\n",
      "25%         2.000\n",
      "50%         2.000\n",
      "75%         3.000\n",
      "max         5.000\n",
      "Name: rooms, dtype: float64\n"
     ]
    },
    {
     "data": {
      "text/plain": [
       "<matplotlib.axes._subplots.AxesSubplot at 0x7fdc308004d0>"
      ]
     },
     "execution_count": 581,
     "metadata": {},
     "output_type": "execute_result"
    },
    {
     "data": {
      "image/png": "[encoded data removed]",
      "text/plain": [
       "<Figure size 432x288 with 1 Axes>"
      ]
     },
     "metadata": {
      "needs_background": "light"
     },
     "output_type": "display_data"
    }
   ],
   "source": [
    "rooms_spb = data_spb_centre['rooms'].describe()\n",
    "print(rooms_spb)\n",
    "data_spb_centre['rooms'].plot(kind='hist', grid=True, xlim=(1,5), bins=4)"
   ]
  },
  {
   "cell_type": "code",
   "execution_count": 582,
   "metadata": {},
   "outputs": [
    {
     "data": {
      "text/html": [
       "<div>\n",
       "<style scoped>\n",
       "    .dataframe tbody tr th:only-of-type {\n",
       "        vertical-align: middle;\n",
       "    }\n",
       "\n",
       "    .dataframe tbody tr th {\n",
       "        vertical-align: top;\n",
       "    }\n",
       "\n",
       "    .dataframe thead th {\n",
       "        text-align: right;\n",
       "    }\n",
       "</style>\n",
       "<table border=\"1\" class=\"dataframe\">\n",
       "  <thead>\n",
       "    <tr style=\"text-align: right;\">\n",
       "      <th></th>\n",
       "      <th>count</th>\n",
       "      <th>mean</th>\n",
       "      <th>std</th>\n",
       "      <th>min</th>\n",
       "      <th>25%</th>\n",
       "      <th>50%</th>\n",
       "      <th>75%</th>\n",
       "      <th>max</th>\n",
       "    </tr>\n",
       "  </thead>\n",
       "  <tbody>\n",
       "    <tr>\n",
       "      <td>rooms_spb</td>\n",
       "      <td>2,681.000</td>\n",
       "      <td>2.456</td>\n",
       "      <td>1.032</td>\n",
       "      <td>1.000</td>\n",
       "      <td>2.000</td>\n",
       "      <td>2.000</td>\n",
       "      <td>3.000</td>\n",
       "      <td>5.000</td>\n",
       "    </tr>\n",
       "    <tr>\n",
       "      <td>rooms_all</td>\n",
       "      <td>23,699.000</td>\n",
       "      <td>2.071</td>\n",
       "      <td>1.078</td>\n",
       "      <td>0.000</td>\n",
       "      <td>1.000</td>\n",
       "      <td>2.000</td>\n",
       "      <td>3.000</td>\n",
       "      <td>19.000</td>\n",
       "    </tr>\n",
       "  </tbody>\n",
       "</table>\n",
       "</div>"
      ],
      "text/plain": [
       "               count  mean   std   min   25%   50%   75%    max\n",
       "rooms_spb  2,681.000 2.456 1.032 1.000 2.000 2.000 3.000  5.000\n",
       "rooms_all 23,699.000 2.071 1.078 0.000 1.000 2.000 3.000 19.000"
      ]
     },
     "metadata": {},
     "output_type": "display_data"
    }
   ],
   "source": [
    "rooms = pd.DataFrame([rooms_spb, rooms_all])\n",
    "rooms.index = ['rooms_spb', 'rooms_all']\n",
    "display(rooms)"
   ]
  },
  {
   "cell_type": "markdown",
   "metadata": {},
   "source": [
    "Количество комнат, у продаваемых в Питере квартир, так же в среднем больше."
   ]
  },
  {
   "cell_type": "code",
   "execution_count": 583,
   "metadata": {
    "scrolled": false
   },
   "outputs": [
    {
     "name": "stdout",
     "output_type": "stream",
     "text": [
      "count     2,681.000\n",
      "mean    120,710.426\n",
      "std      30,648.380\n",
      "min      15,345.000\n",
      "25%      97,616.000\n",
      "50%     116,363.000\n",
      "75%     140,116.000\n",
      "max     210,000.000\n",
      "Name: price_for_meter, dtype: float64\n"
     ]
    },
    {
     "data": {
      "text/plain": [
       "<matplotlib.axes._subplots.AxesSubplot at 0x7fdc307ee890>"
      ]
     },
     "execution_count": 583,
     "metadata": {},
     "output_type": "execute_result"
    },
    {
     "data": {
      "image/png": "[encoded data removed]",
      "text/plain": [
       "<Figure size 720x360 with 1 Axes>"
      ]
     },
     "metadata": {
      "needs_background": "light"
     },
     "output_type": "display_data"
    }
   ],
   "source": [
    "pfm_spb = data_spb_centre['price_for_meter'].describe()\n",
    "print(pfm_spb)\n",
    "data_spb_centre['price_for_meter'].plot(kind='hist', bins=55, grid=True, figsize=(10,5))"
   ]
  },
  {
   "cell_type": "code",
   "execution_count": 584,
   "metadata": {},
   "outputs": [
    {
     "data": {
      "text/html": [
       "<div>\n",
       "<style scoped>\n",
       "    .dataframe tbody tr th:only-of-type {\n",
       "        vertical-align: middle;\n",
       "    }\n",
       "\n",
       "    .dataframe tbody tr th {\n",
       "        vertical-align: top;\n",
       "    }\n",
       "\n",
       "    .dataframe thead th {\n",
       "        text-align: right;\n",
       "    }\n",
       "</style>\n",
       "<table border=\"1\" class=\"dataframe\">\n",
       "  <thead>\n",
       "    <tr style=\"text-align: right;\">\n",
       "      <th></th>\n",
       "      <th>count</th>\n",
       "      <th>mean</th>\n",
       "      <th>std</th>\n",
       "      <th>min</th>\n",
       "      <th>25%</th>\n",
       "      <th>50%</th>\n",
       "      <th>75%</th>\n",
       "      <th>max</th>\n",
       "    </tr>\n",
       "  </thead>\n",
       "  <tbody>\n",
       "    <tr>\n",
       "      <td>pfm_spb</td>\n",
       "      <td>2,681.000</td>\n",
       "      <td>120,710.426</td>\n",
       "      <td>30,648.380</td>\n",
       "      <td>15,345.000</td>\n",
       "      <td>97,616.000</td>\n",
       "      <td>116,363.000</td>\n",
       "      <td>140,116.000</td>\n",
       "      <td>210,000.000</td>\n",
       "    </tr>\n",
       "    <tr>\n",
       "      <td>pfm_all</td>\n",
       "      <td>23,699.000</td>\n",
       "      <td>99,421.210</td>\n",
       "      <td>50,306.808</td>\n",
       "      <td>111.000</td>\n",
       "      <td>76,585.000</td>\n",
       "      <td>95,000.000</td>\n",
       "      <td>114,256.000</td>\n",
       "      <td>1,907,500.000</td>\n",
       "    </tr>\n",
       "  </tbody>\n",
       "</table>\n",
       "</div>"
      ],
      "text/plain": [
       "             count        mean        std        min        25%         50%  \\\n",
       "pfm_spb  2,681.000 120,710.426 30,648.380 15,345.000 97,616.000 116,363.000   \n",
       "pfm_all 23,699.000  99,421.210 50,306.808    111.000 76,585.000  95,000.000   \n",
       "\n",
       "                75%           max  \n",
       "pfm_spb 140,116.000   210,000.000  \n",
       "pfm_all 114,256.000 1,907,500.000  "
      ]
     },
     "metadata": {},
     "output_type": "display_data"
    }
   ],
   "source": [
    "pfm = pd.DataFrame([pfm_spb, pfm_all])\n",
    "pfm.index = ['pfm_spb', 'pfm_all']\n",
    "display(pfm)"
   ]
  },
  {
   "cell_type": "markdown",
   "metadata": {},
   "source": [
    "Как и с другими параметрами, средняя цена за квадратный метр в центре Питера так же заметно больше, чем по всей изначальной выборке."
   ]
  },
  {
   "cell_type": "markdown",
   "metadata": {},
   "source": [
    "Перед тем, как перейти к исследованию зависимости цены за квартиру от ряда факторов, убедимся, что для квартир в центре Питера так же справедлива корреляция между ценой и общей площадью."
   ]
  },
  {
   "cell_type": "code",
   "execution_count": 585,
   "metadata": {
    "scrolled": true
   },
   "outputs": [
    {
     "name": "stdout",
     "output_type": "stream",
     "text": [
      "Корреляция для всей выборки:  0.793\n",
      "Корреляция для центра Питера: 0.801\n"
     ]
    },
    {
     "data": {
      "image/png": "[encoded data removed]",
      "text/plain": [
       "<Figure size 432x288 with 1 Axes>"
      ]
     },
     "metadata": {
      "needs_background": "light"
     },
     "output_type": "display_data"
    }
   ],
   "source": [
    "data_finish = data_spb_centre\n",
    "data_finish.plot(x='total_area', y='last_price', kind='scatter', alpha=0.4)\n",
    "print(\"Корреляция для всей выборки: \", corr_price_all.round(3))\n",
    "print(\"Корреляция для центра Питера:\", data_finish['last_price'].corr(data_finish['total_area']).round(3))"
   ]
  },
  {
   "cell_type": "markdown",
   "metadata": {},
   "source": [
    "Корреляция между ценой и общей площадью для Питера даже больше, а это означает, что мы так же далее можем операровать не ценой за квартиру, а ценой за квадратный метр. Тем самым, получая более точные зависимости с другими параметрами."
   ]
  },
  {
   "cell_type": "code",
   "execution_count": 586,
   "metadata": {
    "scrolled": false
   },
   "outputs": [
    {
     "name": "stdout",
     "output_type": "stream",
     "text": [
      "rooms -0.303\n",
      "type_floor 0.046\n",
      "cityCenters_nearest 0.047\n"
     ]
    },
    {
     "data": {
      "image/png": "[encoded data removed]",
      "text/plain": [
       "<Figure size 432x288 with 1 Axes>"
      ]
     },
     "metadata": {
      "needs_background": "light"
     },
     "output_type": "display_data"
    },
    {
     "data": {
      "image/png": "[encoded data removed]",
      "text/plain": [
       "<Figure size 432x288 with 1 Axes>"
      ]
     },
     "metadata": {
      "needs_background": "light"
     },
     "output_type": "display_data"
    },
    {
     "data": {
      "image/png": "[encoded data removed]",
      "text/plain": [
       "<Figure size 432x288 with 1 Axes>"
      ]
     },
     "metadata": {
      "needs_background": "light"
     },
     "output_type": "display_data"
    }
   ],
   "source": [
    "columns = ['rooms',\n",
    "    'type_floor',\n",
    "    'cityCenters_nearest']\n",
    "for column in columns:\n",
    "    data_finish.plot(x=column, y='price_for_meter', kind='scatter', alpha=0.4)\n",
    "    print(column, data_finish['price_for_meter'].corr(data_for_price[column]).round(3))"
   ]
  },
  {
   "cell_type": "markdown",
   "metadata": {},
   "source": [
    "В отличие от всей выборки, удельная цена квартир в центре Питера отрицательно коррелирует с количество комнат. В центре Питера увеличение количетсва комнат видет к уменьшению удельной цены квартиры.\n",
    "\n",
    "Так же, в отличие от всей выборки, в центре Питера практически нет никакой зависимости от расстояния от центра. В общей выборке были несколько аномалий, в так же некоторое смещение удельной цены при удалении от центра."
   ]
  },
  {
   "cell_type": "code",
   "execution_count": 587,
   "metadata": {
    "scrolled": true
   },
   "outputs": [
    {
     "data": {
      "text/plain": [
       "<matplotlib.axes._subplots.AxesSubplot at 0x7fdc303a8e10>"
      ]
     },
     "execution_count": 587,
     "metadata": {},
     "output_type": "execute_result"
    },
    {
     "data": {
      "image/png": "[encoded data removed]",
      "text/plain": [
       "<Figure size 432x288 with 1 Axes>"
      ]
     },
     "metadata": {
      "needs_background": "light"
     },
     "output_type": "display_data"
    }
   ],
   "source": [
    "data_for_m = data_finish.pivot_table(index='month', values='price_for_meter', aggfunc=['mean','median'])\n",
    "data_for_m.columns = ['mean', 'median']\n",
    "data_for_m['mean'] = data_for_m['mean'].round(0).astype('int')\n",
    "data_for_m['median'] = data_for_m['median'].round(0).astype('int')\n",
    "data_for_m.plot(y=['mean', 'median'], grid=True, kind='bar', ylim=(50000, 130000))"
   ]
  },
  {
   "cell_type": "code",
   "execution_count": 588,
   "metadata": {},
   "outputs": [
    {
     "data": {
      "text/plain": [
       "<matplotlib.axes._subplots.AxesSubplot at 0x7fdc302f9990>"
      ]
     },
     "execution_count": 588,
     "metadata": {},
     "output_type": "execute_result"
    },
    {
     "data": {
      "image/png": "[encoded data removed]",
      "text/plain": [
       "<Figure size 432x288 with 1 Axes>"
      ]
     },
     "metadata": {
      "needs_background": "light"
     },
     "output_type": "display_data"
    }
   ],
   "source": [
    "data_for_w = data_finish.pivot_table(index='weekday', values='price_for_meter', aggfunc=['mean','median'])\n",
    "data_for_w.columns = ['mean', 'median']\n",
    "data_for_w['mean'] = data_for_w['mean'].round(0).astype('int')\n",
    "data_for_w['median'] = data_for_w['median'].round(0).astype('int')\n",
    "data_for_w.plot(y=['mean', 'median'], grid=True, kind='bar', ylim=(50000, 130000))"
   ]
  },
  {
   "cell_type": "code",
   "execution_count": 589,
   "metadata": {
    "scrolled": true
   },
   "outputs": [
    {
     "data": {
      "text/plain": [
       "<matplotlib.axes._subplots.AxesSubplot at 0x7fdc3023f090>"
      ]
     },
     "execution_count": 589,
     "metadata": {},
     "output_type": "execute_result"
    },
    {
     "data": {
      "image/png": "[encoded data removed]",
      "text/plain": [
       "<Figure size 432x288 with 1 Axes>"
      ]
     },
     "metadata": {
      "needs_background": "light"
     },
     "output_type": "display_data"
    }
   ],
   "source": [
    "data_for_y = data_finish.pivot_table(index='years', values='price_for_meter', aggfunc=['mean','median'])\n",
    "data_for_y.columns = ['mean', 'median']\n",
    "data_for_y['mean'] = data_for_y['mean'].round(0).astype('int')\n",
    "data_for_y['median'] = data_for_y['median'].round(0).astype('int')\n",
    "data_for_y.plot(y=['mean', 'median'], grid=True, kind='bar', ylim=(50000, 150000))"
   ]
  },
  {
   "cell_type": "markdown",
   "metadata": {},
   "source": [
    "В центре Питера так же, как и во всей выборке, удельная цена квартиры меньше, если объявление опубликовано в 5-6 месяце, и точно так же имеется спор в средней удельной цене после 2014 года."
   ]
  },
  {
   "cell_type": "markdown",
   "metadata": {},
   "source": [
    "## Общий вывод"
   ]
  },
  {
   "cell_type": "markdown",
   "metadata": {},
   "source": [
    "В ходе работы, была полученна выборка объявлений о продаже квартир. В ходе предварительной обработки данных были заменены пропуски в столбцах `balcony`, `parks_around3000`, `ponds_around3000` и `is_apartment`. Так же был преобразован тип данных в столбцах: `balcony`, `last_price`, `parks_around3000`, `ponds_around3000`, `is_apartment`, `first_day_exposition`.\n",
    "\n",
    "Далее был проведен анализ следующих параметров: `last_price`, `rooms`, `ceiling_height`, `days_exposition` и `price_for_meter`. Определн парог, после которого можно считать, что объявление о продаже высит \"долго\". \n",
    "\n",
    "После чего были проанализированны зависимости:\n",
    "- цены от общей площади;\n",
    "- удельной цены (цена за квадратный метр) от количества комнат;\n",
    "- удельной цены от типа этажа квартиры;\n",
    "- удельной цены от удаленности от центра;\n",
    "- удельной цены от дня недели, месяца и года размещения объявления.\n",
    "\n",
    "После этого была получена выборка объявлений в Санкт-Петербурге. Определена граница центра города. И получена выборка объявлений о продаже квартир в центре города.\n",
    "\n",
    "Для этой выборке были исследованы параметры: `total_area`, `rooms`, `ceiling_height`, `price_for_meter`. А так же проанализированы зависимости удельной цена от:\n",
    "- количества комнат;\n",
    "- типа этажа квартиры;\n",
    "- удаленности от центра;\n",
    "- дня недели, месяца и года публикации объявления."
   ]
  }
 ],
 "metadata": {
  "ExecuteTimeLog": [
   {
    "duration": 1095,
    "start_time": "2022-01-20T15:23:46.595Z"
   },
   {
    "duration": 10,
    "start_time": "2022-01-20T15:23:47.692Z"
   },
   {
    "duration": 29,
    "start_time": "2022-01-20T15:23:47.705Z"
   },
   {
    "duration": 8923,
    "start_time": "2022-01-20T15:23:47.737Z"
   },
   {
    "duration": -159,
    "start_time": "2022-01-20T15:23:56.824Z"
   },
   {
    "duration": -161,
    "start_time": "2022-01-20T15:23:56.827Z"
   },
   {
    "duration": -161,
    "start_time": "2022-01-20T15:23:56.829Z"
   },
   {
    "duration": -162,
    "start_time": "2022-01-20T15:23:56.831Z"
   },
   {
    "duration": -162,
    "start_time": "2022-01-20T15:23:56.833Z"
   },
   {
    "duration": -163,
    "start_time": "2022-01-20T15:23:56.835Z"
   },
   {
    "duration": -163,
    "start_time": "2022-01-20T15:23:56.836Z"
   },
   {
    "duration": -165,
    "start_time": "2022-01-20T15:23:56.839Z"
   },
   {
    "duration": -165,
    "start_time": "2022-01-20T15:23:56.841Z"
   },
   {
    "duration": -166,
    "start_time": "2022-01-20T15:23:56.843Z"
   },
   {
    "duration": -167,
    "start_time": "2022-01-20T15:23:56.845Z"
   },
   {
    "duration": -168,
    "start_time": "2022-01-20T15:23:56.848Z"
   },
   {
    "duration": -169,
    "start_time": "2022-01-20T15:23:56.850Z"
   },
   {
    "duration": -169,
    "start_time": "2022-01-20T15:23:56.852Z"
   },
   {
    "duration": -170,
    "start_time": "2022-01-20T15:23:56.854Z"
   },
   {
    "duration": -216,
    "start_time": "2022-01-20T15:23:56.902Z"
   },
   {
    "duration": -217,
    "start_time": "2022-01-20T15:23:56.904Z"
   },
   {
    "duration": -218,
    "start_time": "2022-01-20T15:23:56.906Z"
   },
   {
    "duration": -219,
    "start_time": "2022-01-20T15:23:56.909Z"
   },
   {
    "duration": -220,
    "start_time": "2022-01-20T15:23:56.911Z"
   },
   {
    "duration": -221,
    "start_time": "2022-01-20T15:23:56.913Z"
   },
   {
    "duration": -221,
    "start_time": "2022-01-20T15:23:56.915Z"
   },
   {
    "duration": -222,
    "start_time": "2022-01-20T15:23:56.917Z"
   },
   {
    "duration": -223,
    "start_time": "2022-01-20T15:23:56.919Z"
   },
   {
    "duration": -224,
    "start_time": "2022-01-20T15:23:56.921Z"
   },
   {
    "duration": -225,
    "start_time": "2022-01-20T15:23:56.923Z"
   },
   {
    "duration": -225,
    "start_time": "2022-01-20T15:23:56.925Z"
   },
   {
    "duration": -226,
    "start_time": "2022-01-20T15:23:56.927Z"
   },
   {
    "duration": -192,
    "start_time": "2022-01-20T15:23:56.929Z"
   },
   {
    "duration": -193,
    "start_time": "2022-01-20T15:23:56.931Z"
   },
   {
    "duration": -194,
    "start_time": "2022-01-20T15:23:56.933Z"
   },
   {
    "duration": -198,
    "start_time": "2022-01-20T15:23:56.939Z"
   },
   {
    "duration": -199,
    "start_time": "2022-01-20T15:23:56.941Z"
   },
   {
    "duration": -200,
    "start_time": "2022-01-20T15:23:56.943Z"
   },
   {
    "duration": -202,
    "start_time": "2022-01-20T15:23:56.946Z"
   },
   {
    "duration": -202,
    "start_time": "2022-01-20T15:23:56.948Z"
   },
   {
    "duration": -203,
    "start_time": "2022-01-20T15:23:56.950Z"
   },
   {
    "duration": -204,
    "start_time": "2022-01-20T15:23:56.952Z"
   },
   {
    "duration": -204,
    "start_time": "2022-01-20T15:23:56.954Z"
   },
   {
    "duration": -205,
    "start_time": "2022-01-20T15:23:56.956Z"
   },
   {
    "duration": -206,
    "start_time": "2022-01-20T15:23:56.958Z"
   },
   {
    "duration": 1331,
    "start_time": "2022-01-20T15:24:22.040Z"
   },
   {
    "duration": 28,
    "start_time": "2022-01-20T15:24:23.374Z"
   },
   {
    "duration": 37,
    "start_time": "2022-01-20T15:24:23.406Z"
   },
   {
    "duration": 50,
    "start_time": "2022-01-20T15:24:23.447Z"
   },
   {
    "duration": 89,
    "start_time": "2022-01-20T15:24:23.500Z"
   },
   {
    "duration": 45,
    "start_time": "2022-01-20T15:24:23.591Z"
   },
   {
    "duration": 47,
    "start_time": "2022-01-20T15:24:23.639Z"
   },
   {
    "duration": 68,
    "start_time": "2022-01-20T15:24:23.689Z"
   },
   {
    "duration": 1044,
    "start_time": "2022-01-20T15:24:23.761Z"
   },
   {
    "duration": 469,
    "start_time": "2022-01-20T15:24:24.809Z"
   },
   {
    "duration": 337,
    "start_time": "2022-01-20T15:24:25.281Z"
   },
   {
    "duration": 300,
    "start_time": "2022-01-20T15:24:25.621Z"
   },
   {
    "duration": 330,
    "start_time": "2022-01-20T15:24:25.923Z"
   },
   {
    "duration": 297,
    "start_time": "2022-01-20T15:24:26.256Z"
   },
   {
    "duration": 338,
    "start_time": "2022-01-20T15:24:26.556Z"
   },
   {
    "duration": 310,
    "start_time": "2022-01-20T15:24:26.896Z"
   },
   {
    "duration": 371,
    "start_time": "2022-01-20T15:24:27.209Z"
   },
   {
    "duration": 325,
    "start_time": "2022-01-20T15:24:27.583Z"
   },
   {
    "duration": 433,
    "start_time": "2022-01-20T15:24:27.911Z"
   },
   {
    "duration": 324,
    "start_time": "2022-01-20T15:24:28.346Z"
   },
   {
    "duration": 457,
    "start_time": "2022-01-20T15:24:28.673Z"
   },
   {
    "duration": 772,
    "start_time": "2022-01-20T15:24:29.133Z"
   },
   {
    "duration": 775,
    "start_time": "2022-01-20T15:24:29.907Z"
   },
   {
    "duration": 759,
    "start_time": "2022-01-20T15:24:30.685Z"
   },
   {
    "duration": 2094,
    "start_time": "2022-01-20T15:24:31.447Z"
   },
   {
    "duration": 383,
    "start_time": "2022-01-20T15:24:33.544Z"
   },
   {
    "duration": 339,
    "start_time": "2022-01-20T15:24:33.932Z"
   },
   {
    "duration": 333,
    "start_time": "2022-01-20T15:24:34.273Z"
   },
   {
    "duration": 93,
    "start_time": "2022-01-20T15:24:34.608Z"
   },
   {
    "duration": 77,
    "start_time": "2022-01-20T15:24:34.703Z"
   },
   {
    "duration": 391,
    "start_time": "2022-01-20T15:24:34.783Z"
   },
   {
    "duration": 61,
    "start_time": "2022-01-20T15:24:35.177Z"
   },
   {
    "duration": 743,
    "start_time": "2022-01-20T15:24:35.241Z"
   },
   {
    "duration": 16,
    "start_time": "2022-01-20T15:24:35.987Z"
   },
   {
    "duration": 2817,
    "start_time": "2022-01-20T15:24:36.005Z"
   },
   {
    "duration": 23,
    "start_time": "2022-01-20T15:24:38.825Z"
   },
   {
    "duration": 495,
    "start_time": "2022-01-20T15:24:38.851Z"
   },
   {
    "duration": 16,
    "start_time": "2022-01-20T15:24:39.348Z"
   },
   {
    "duration": 1560,
    "start_time": "2022-01-20T15:24:39.366Z"
   },
   {
    "duration": 19,
    "start_time": "2022-01-20T15:24:40.928Z"
   },
   {
    "duration": 455,
    "start_time": "2022-01-20T15:24:40.949Z"
   },
   {
    "duration": 1421,
    "start_time": "2022-01-20T15:24:41.406Z"
   },
   {
    "duration": 420,
    "start_time": "2022-01-20T15:24:42.833Z"
   },
   {
    "duration": 350,
    "start_time": "2022-01-20T15:24:43.256Z"
   },
   {
    "duration": 424,
    "start_time": "2022-01-20T15:24:43.608Z"
   },
   {
    "duration": 871,
    "start_time": "2022-01-20T19:00:55.084Z"
   },
   {
    "duration": 2620,
    "start_time": "2022-01-20T19:01:01.928Z"
   },
   {
    "duration": -127,
    "start_time": "2022-01-20T19:01:04.676Z"
   },
   {
    "duration": 99,
    "start_time": "2022-01-20T19:01:59.843Z"
   },
   {
    "duration": 12,
    "start_time": "2022-01-20T19:02:02.958Z"
   },
   {
    "duration": 9,
    "start_time": "2022-01-20T19:02:06.542Z"
   },
   {
    "duration": 10,
    "start_time": "2022-01-20T19:02:10.104Z"
   },
   {
    "duration": 263,
    "start_time": "2022-01-20T19:04:45.620Z"
   },
   {
    "duration": 82,
    "start_time": "2022-01-20T19:04:55.217Z"
   },
   {
    "duration": 9,
    "start_time": "2022-01-20T19:05:06.736Z"
   },
   {
    "duration": 9,
    "start_time": "2022-01-20T19:05:25.101Z"
   },
   {
    "duration": 9,
    "start_time": "2022-01-20T19:05:35.146Z"
   },
   {
    "duration": 9,
    "start_time": "2022-01-20T19:05:39.976Z"
   },
   {
    "duration": 82,
    "start_time": "2022-01-20T19:05:53.214Z"
   },
   {
    "duration": 10,
    "start_time": "2022-01-20T19:05:56.886Z"
   },
   {
    "duration": 254,
    "start_time": "2022-01-20T19:11:44.524Z"
   },
   {
    "duration": 15,
    "start_time": "2022-01-20T19:11:49.331Z"
   },
   {
    "duration": 17,
    "start_time": "2022-01-20T19:11:52.446Z"
   },
   {
    "duration": 17,
    "start_time": "2022-01-20T19:12:26.533Z"
   },
   {
    "duration": 276,
    "start_time": "2022-01-20T19:23:57.368Z"
   },
   {
    "duration": 105,
    "start_time": "2022-01-20T19:24:04.940Z"
   },
   {
    "duration": 121,
    "start_time": "2022-01-20T19:24:21.341Z"
   },
   {
    "duration": 114,
    "start_time": "2022-01-20T19:24:35.660Z"
   },
   {
    "duration": 263,
    "start_time": "2022-01-20T19:25:10.833Z"
   },
   {
    "duration": 108,
    "start_time": "2022-01-20T19:25:25.311Z"
   },
   {
    "duration": 86,
    "start_time": "2022-01-20T19:26:15.050Z"
   },
   {
    "duration": 11,
    "start_time": "2022-01-20T19:26:15.138Z"
   },
   {
    "duration": 13,
    "start_time": "2022-01-20T19:26:15.160Z"
   },
   {
    "duration": 32,
    "start_time": "2022-01-20T19:26:15.175Z"
   },
   {
    "duration": 30,
    "start_time": "2022-01-20T19:26:15.208Z"
   },
   {
    "duration": 146,
    "start_time": "2022-01-20T19:26:22.154Z"
   },
   {
    "duration": 110,
    "start_time": "2022-01-20T19:26:55.785Z"
   },
   {
    "duration": 282,
    "start_time": "2022-01-20T19:50:18.059Z"
   },
   {
    "duration": 301,
    "start_time": "2022-01-20T19:50:41.705Z"
   },
   {
    "duration": 265,
    "start_time": "2022-01-20T19:52:37.682Z"
   },
   {
    "duration": 92,
    "start_time": "2022-01-20T19:53:04.262Z"
   },
   {
    "duration": 10,
    "start_time": "2022-01-20T19:53:04.356Z"
   },
   {
    "duration": 23,
    "start_time": "2022-01-20T19:53:04.367Z"
   },
   {
    "duration": 33,
    "start_time": "2022-01-20T19:53:04.391Z"
   },
   {
    "duration": 21,
    "start_time": "2022-01-20T19:53:06.250Z"
   },
   {
    "duration": 17,
    "start_time": "2022-01-20T19:53:28.854Z"
   },
   {
    "duration": 60,
    "start_time": "2022-01-20T20:01:32.274Z"
   },
   {
    "duration": 17,
    "start_time": "2022-01-20T20:01:58.172Z"
   },
   {
    "duration": 22,
    "start_time": "2022-01-20T20:09:45.214Z"
   },
   {
    "duration": 36,
    "start_time": "2022-01-20T20:10:22.367Z"
   },
   {
    "duration": 42,
    "start_time": "2022-01-20T20:21:17.371Z"
   },
   {
    "duration": 32,
    "start_time": "2022-01-20T20:21:26.880Z"
   },
   {
    "duration": 92,
    "start_time": "2022-01-20T20:34:33.750Z"
   },
   {
    "duration": 83,
    "start_time": "2022-01-20T20:34:39.569Z"
   },
   {
    "duration": 501,
    "start_time": "2022-01-20T20:35:31.625Z"
   },
   {
    "duration": 2828,
    "start_time": "2022-01-20T20:41:59.646Z"
   },
   {
    "duration": 2629,
    "start_time": "2022-01-20T20:43:12.491Z"
   },
   {
    "duration": 2541,
    "start_time": "2022-01-20T20:43:31.970Z"
   },
   {
    "duration": 89,
    "start_time": "2022-01-20T20:43:43.416Z"
   },
   {
    "duration": 2530,
    "start_time": "2022-01-20T20:43:49.034Z"
   },
   {
    "duration": 2735,
    "start_time": "2022-01-20T20:44:08.553Z"
   },
   {
    "duration": 538,
    "start_time": "2022-01-20T20:45:46.264Z"
   },
   {
    "duration": 474,
    "start_time": "2022-01-20T20:46:15.922Z"
   },
   {
    "duration": 247,
    "start_time": "2022-01-20T20:47:40.269Z"
   },
   {
    "duration": 256,
    "start_time": "2022-01-20T20:47:45.149Z"
   },
   {
    "duration": 82,
    "start_time": "2022-01-20T20:48:19.080Z"
   },
   {
    "duration": 2643,
    "start_time": "2022-01-20T20:48:51.455Z"
   },
   {
    "duration": 78,
    "start_time": "2022-01-20T20:49:14.346Z"
   },
   {
    "duration": 10,
    "start_time": "2022-01-20T20:49:14.426Z"
   },
   {
    "duration": 25,
    "start_time": "2022-01-20T20:49:14.438Z"
   },
   {
    "duration": 14,
    "start_time": "2022-01-20T20:49:14.465Z"
   },
   {
    "duration": 17,
    "start_time": "2022-01-20T20:49:14.481Z"
   },
   {
    "duration": 91,
    "start_time": "2022-01-20T20:49:14.500Z"
   },
   {
    "duration": 35,
    "start_time": "2022-01-20T20:49:14.593Z"
   },
   {
    "duration": 2602,
    "start_time": "2022-01-20T20:49:25.264Z"
   },
   {
    "duration": 3,
    "start_time": "2022-01-20T20:50:49.147Z"
   },
   {
    "duration": 3,
    "start_time": "2022-01-20T20:50:53.284Z"
   },
   {
    "duration": 254,
    "start_time": "2022-01-20T20:50:59.275Z"
   },
   {
    "duration": 242,
    "start_time": "2022-01-20T20:52:32.283Z"
   },
   {
    "duration": 3,
    "start_time": "2022-01-20T20:52:36.783Z"
   },
   {
    "duration": 4,
    "start_time": "2022-01-20T20:52:46.764Z"
   },
   {
    "duration": 3,
    "start_time": "2022-01-20T20:52:54.144Z"
   },
   {
    "duration": 6671,
    "start_time": "2022-01-20T21:02:34.008Z"
   },
   {
    "duration": 6664,
    "start_time": "2022-01-20T21:03:15.473Z"
   },
   {
    "duration": 462,
    "start_time": "2022-01-20T21:04:32.184Z"
   },
   {
    "duration": 7473,
    "start_time": "2022-01-20T21:06:29.347Z"
   },
   {
    "duration": 488,
    "start_time": "2022-01-20T21:08:02.829Z"
   },
   {
    "duration": 2834,
    "start_time": "2022-01-20T21:08:44.186Z"
   },
   {
    "duration": 20,
    "start_time": "2022-01-20T21:11:37.853Z"
   },
   {
    "duration": 79,
    "start_time": "2022-01-20T21:21:23.463Z"
   },
   {
    "duration": 10,
    "start_time": "2022-01-20T21:21:23.544Z"
   },
   {
    "duration": 24,
    "start_time": "2022-01-20T21:21:23.560Z"
   },
   {
    "duration": 19,
    "start_time": "2022-01-20T21:21:23.586Z"
   },
   {
    "duration": 20,
    "start_time": "2022-01-20T21:21:23.607Z"
   },
   {
    "duration": 77,
    "start_time": "2022-01-20T21:21:23.629Z"
   },
   {
    "duration": 28,
    "start_time": "2022-01-20T21:21:23.708Z"
   },
   {
    "duration": 3104,
    "start_time": "2022-01-20T21:21:23.738Z"
   },
   {
    "duration": 73,
    "start_time": "2022-01-20T21:21:26.845Z"
   },
   {
    "duration": 40,
    "start_time": "2022-01-20T21:21:26.920Z"
   },
   {
    "duration": 29,
    "start_time": "2022-01-20T21:21:26.962Z"
   },
   {
    "duration": 31,
    "start_time": "2022-01-20T21:21:26.993Z"
   },
   {
    "duration": 688,
    "start_time": "2022-01-20T21:21:27.026Z"
   },
   {
    "duration": 370,
    "start_time": "2022-01-20T21:21:27.716Z"
   },
   {
    "duration": 199,
    "start_time": "2022-01-20T21:21:28.087Z"
   },
   {
    "duration": 193,
    "start_time": "2022-01-20T21:21:28.288Z"
   },
   {
    "duration": 203,
    "start_time": "2022-01-20T21:21:28.483Z"
   },
   {
    "duration": 519,
    "start_time": "2022-01-20T21:21:28.688Z"
   },
   {
    "duration": 445,
    "start_time": "2022-01-20T21:21:48.137Z"
   },
   {
    "duration": 173,
    "start_time": "2022-01-20T21:22:35.527Z"
   },
   {
    "duration": 721,
    "start_time": "2022-01-20T21:26:25.207Z"
   },
   {
    "duration": 525,
    "start_time": "2022-01-20T21:27:50.897Z"
   },
   {
    "duration": 191,
    "start_time": "2022-01-20T21:28:00.941Z"
   },
   {
    "duration": 194,
    "start_time": "2022-01-20T21:28:33.924Z"
   },
   {
    "duration": 258,
    "start_time": "2022-01-20T21:28:47.126Z"
   },
   {
    "duration": 206,
    "start_time": "2022-01-20T21:28:55.899Z"
   },
   {
    "duration": 84,
    "start_time": "2022-01-20T21:29:20.796Z"
   },
   {
    "duration": 12,
    "start_time": "2022-01-20T21:29:20.881Z"
   },
   {
    "duration": 9,
    "start_time": "2022-01-20T21:29:20.895Z"
   },
   {
    "duration": 16,
    "start_time": "2022-01-20T21:29:20.906Z"
   },
   {
    "duration": 18,
    "start_time": "2022-01-20T21:29:20.960Z"
   },
   {
    "duration": 65,
    "start_time": "2022-01-20T21:29:20.980Z"
   },
   {
    "duration": 42,
    "start_time": "2022-01-20T21:29:21.046Z"
   },
   {
    "duration": 3211,
    "start_time": "2022-01-20T21:29:21.090Z"
   },
   {
    "duration": 126,
    "start_time": "2022-01-20T21:29:24.304Z"
   },
   {
    "duration": 40,
    "start_time": "2022-01-20T21:29:24.431Z"
   },
   {
    "duration": 43,
    "start_time": "2022-01-20T21:29:24.473Z"
   },
   {
    "duration": 36,
    "start_time": "2022-01-20T21:29:24.517Z"
   },
   {
    "duration": 597,
    "start_time": "2022-01-20T21:29:24.554Z"
   },
   {
    "duration": 207,
    "start_time": "2022-01-20T21:29:25.153Z"
   },
   {
    "duration": 206,
    "start_time": "2022-01-20T21:29:25.362Z"
   },
   {
    "duration": 210,
    "start_time": "2022-01-20T21:29:25.570Z"
   },
   {
    "duration": 278,
    "start_time": "2022-01-20T21:29:25.782Z"
   },
   {
    "duration": 185,
    "start_time": "2022-01-20T21:29:26.062Z"
   },
   {
    "duration": 202,
    "start_time": "2022-01-20T21:29:26.249Z"
   },
   {
    "duration": 198,
    "start_time": "2022-01-20T21:29:26.453Z"
   },
   {
    "duration": 225,
    "start_time": "2022-01-20T21:29:26.653Z"
   },
   {
    "duration": 301,
    "start_time": "2022-01-20T21:29:26.880Z"
   },
   {
    "duration": 270,
    "start_time": "2022-01-20T21:29:27.184Z"
   },
   {
    "duration": 243,
    "start_time": "2022-01-20T21:29:27.460Z"
   },
   {
    "duration": 255,
    "start_time": "2022-01-20T21:29:27.705Z"
   },
   {
    "duration": 537,
    "start_time": "2022-01-20T21:29:27.962Z"
   },
   {
    "duration": 536,
    "start_time": "2022-01-20T21:29:28.501Z"
   },
   {
    "duration": 509,
    "start_time": "2022-01-20T21:29:29.039Z"
   },
   {
    "duration": 1506,
    "start_time": "2022-01-20T21:29:29.550Z"
   },
   {
    "duration": 253,
    "start_time": "2022-01-20T21:29:31.061Z"
   },
   {
    "duration": 228,
    "start_time": "2022-01-20T21:29:31.316Z"
   },
   {
    "duration": 311,
    "start_time": "2022-01-20T21:29:31.546Z"
   },
   {
    "duration": 51,
    "start_time": "2022-01-20T21:29:31.860Z"
   },
   {
    "duration": 64,
    "start_time": "2022-01-20T21:29:31.912Z"
   },
   {
    "duration": 236,
    "start_time": "2022-01-20T21:29:31.977Z"
   },
   {
    "duration": 25,
    "start_time": "2022-01-20T21:29:32.215Z"
   },
   {
    "duration": 399,
    "start_time": "2022-01-20T21:29:32.241Z"
   },
   {
    "duration": 20,
    "start_time": "2022-01-20T21:29:32.641Z"
   },
   {
    "duration": 1726,
    "start_time": "2022-01-20T21:29:32.662Z"
   },
   {
    "duration": 10,
    "start_time": "2022-01-20T21:29:34.390Z"
   },
   {
    "duration": 255,
    "start_time": "2022-01-20T21:29:34.401Z"
   },
   {
    "duration": 10,
    "start_time": "2022-01-20T21:29:34.660Z"
   },
   {
    "duration": 921,
    "start_time": "2022-01-20T21:29:34.672Z"
   },
   {
    "duration": 10,
    "start_time": "2022-01-20T21:29:35.594Z"
   },
   {
    "duration": 336,
    "start_time": "2022-01-20T21:29:35.606Z"
   },
   {
    "duration": 1051,
    "start_time": "2022-01-20T21:29:35.944Z"
   },
   {
    "duration": 275,
    "start_time": "2022-01-20T21:29:36.997Z"
   },
   {
    "duration": 230,
    "start_time": "2022-01-20T21:29:37.274Z"
   },
   {
    "duration": 213,
    "start_time": "2022-01-20T21:29:37.506Z"
   },
   {
    "duration": 92,
    "start_time": "2022-01-20T21:34:15.926Z"
   },
   {
    "duration": 12,
    "start_time": "2022-01-20T21:34:16.021Z"
   },
   {
    "duration": 30,
    "start_time": "2022-01-20T21:34:16.036Z"
   },
   {
    "duration": 32,
    "start_time": "2022-01-20T21:34:16.068Z"
   },
   {
    "duration": 32,
    "start_time": "2022-01-20T21:34:16.101Z"
   },
   {
    "duration": 98,
    "start_time": "2022-01-20T21:34:19.436Z"
   },
   {
    "duration": 2905,
    "start_time": "2022-01-20T21:34:23.835Z"
   },
   {
    "duration": 3202,
    "start_time": "2022-01-20T21:34:39.185Z"
   },
   {
    "duration": 2619,
    "start_time": "2022-01-20T21:42:22.625Z"
   },
   {
    "duration": 24,
    "start_time": "2022-01-20T21:42:59.563Z"
   },
   {
    "duration": 2773,
    "start_time": "2022-01-20T21:43:20.718Z"
   },
   {
    "duration": 87,
    "start_time": "2022-01-20T21:44:07.072Z"
   },
   {
    "duration": 19,
    "start_time": "2022-01-20T21:44:11.727Z"
   },
   {
    "duration": 22,
    "start_time": "2022-01-20T21:44:18.008Z"
   },
   {
    "duration": 2621,
    "start_time": "2022-01-20T21:45:17.216Z"
   },
   {
    "duration": 26,
    "start_time": "2022-01-20T21:46:28.342Z"
   },
   {
    "duration": 24,
    "start_time": "2022-01-20T21:46:46.422Z"
   },
   {
    "duration": 24,
    "start_time": "2022-01-20T21:46:59.287Z"
   },
   {
    "duration": 291,
    "start_time": "2022-01-20T21:47:19.328Z"
   },
   {
    "duration": 27,
    "start_time": "2022-01-20T21:47:59.795Z"
   },
   {
    "duration": 7202,
    "start_time": "2022-01-20T21:48:24.790Z"
   },
   {
    "duration": 28,
    "start_time": "2022-01-20T21:48:55.938Z"
   },
   {
    "duration": 26,
    "start_time": "2022-01-20T21:49:15.761Z"
   },
   {
    "duration": 2722,
    "start_time": "2022-01-20T21:50:00.276Z"
   },
   {
    "duration": 21,
    "start_time": "2022-01-20T21:54:20.939Z"
   },
   {
    "duration": 267,
    "start_time": "2022-01-20T21:54:40.487Z"
   },
   {
    "duration": 79,
    "start_time": "2022-01-20T21:54:47.139Z"
   },
   {
    "duration": 252,
    "start_time": "2022-01-20T21:54:50.550Z"
   },
   {
    "duration": 19,
    "start_time": "2022-01-20T21:55:04.326Z"
   },
   {
    "duration": 20,
    "start_time": "2022-01-20T21:55:43.120Z"
   },
   {
    "duration": 21,
    "start_time": "2022-01-20T21:55:55.308Z"
   },
   {
    "duration": 3439,
    "start_time": "2022-01-20T21:56:21.900Z"
   },
   {
    "duration": 2810,
    "start_time": "2022-01-20T21:56:59.744Z"
   },
   {
    "duration": 97,
    "start_time": "2022-01-20T21:57:26.084Z"
   },
   {
    "duration": 10,
    "start_time": "2022-01-20T21:57:26.183Z"
   },
   {
    "duration": 46,
    "start_time": "2022-01-20T21:57:26.194Z"
   },
   {
    "duration": 36,
    "start_time": "2022-01-20T21:57:26.241Z"
   },
   {
    "duration": 48,
    "start_time": "2022-01-20T21:57:26.279Z"
   },
   {
    "duration": 489,
    "start_time": "2022-01-20T21:57:29.328Z"
   },
   {
    "duration": 966,
    "start_time": "2022-01-20T21:58:07.245Z"
   },
   {
    "duration": 960,
    "start_time": "2022-01-20T21:59:28.114Z"
   },
   {
    "duration": 260,
    "start_time": "2022-01-20T22:00:28.815Z"
   },
   {
    "duration": 84,
    "start_time": "2022-01-20T22:01:01.016Z"
   },
   {
    "duration": 11,
    "start_time": "2022-01-20T22:01:01.101Z"
   },
   {
    "duration": 17,
    "start_time": "2022-01-20T22:01:01.113Z"
   },
   {
    "duration": 38,
    "start_time": "2022-01-20T22:01:01.132Z"
   },
   {
    "duration": 19,
    "start_time": "2022-01-20T22:01:04.128Z"
   },
   {
    "duration": 978,
    "start_time": "2022-01-20T22:01:08.976Z"
   },
   {
    "duration": 249,
    "start_time": "2022-01-20T22:03:36.240Z"
   },
   {
    "duration": 331,
    "start_time": "2022-01-20T22:08:32.175Z"
   },
   {
    "duration": 82,
    "start_time": "2022-01-20T22:08:40.109Z"
   },
   {
    "duration": 9,
    "start_time": "2022-01-20T22:08:40.194Z"
   },
   {
    "duration": 9,
    "start_time": "2022-01-20T22:08:40.205Z"
   },
   {
    "duration": 18,
    "start_time": "2022-01-20T22:08:40.215Z"
   },
   {
    "duration": 22,
    "start_time": "2022-01-20T22:08:42.208Z"
   },
   {
    "duration": 98,
    "start_time": "2022-01-20T22:10:11.214Z"
   },
   {
    "duration": 350,
    "start_time": "2022-01-20T22:10:24.826Z"
   },
   {
    "duration": 83,
    "start_time": "2022-01-20T22:12:19.607Z"
   },
   {
    "duration": 27,
    "start_time": "2022-01-20T22:12:27.653Z"
   },
   {
    "duration": 82,
    "start_time": "2022-01-20T22:12:43.520Z"
   },
   {
    "duration": 9,
    "start_time": "2022-01-20T22:12:43.604Z"
   },
   {
    "duration": 18,
    "start_time": "2022-01-20T22:12:43.615Z"
   },
   {
    "duration": 29,
    "start_time": "2022-01-20T22:12:43.635Z"
   },
   {
    "duration": 31,
    "start_time": "2022-01-20T22:12:43.665Z"
   },
   {
    "duration": 27,
    "start_time": "2022-01-20T22:12:50.246Z"
   },
   {
    "duration": 27,
    "start_time": "2022-01-20T22:13:29.010Z"
   },
   {
    "duration": 666,
    "start_time": "2022-01-20T22:13:45.586Z"
   },
   {
    "duration": 787,
    "start_time": "2022-01-20T22:15:03.378Z"
   },
   {
    "duration": 27,
    "start_time": "2022-01-20T22:15:17.047Z"
   },
   {
    "duration": 264,
    "start_time": "2022-01-20T22:18:19.267Z"
   },
   {
    "duration": 291,
    "start_time": "2022-01-20T22:18:47.475Z"
   },
   {
    "duration": 737,
    "start_time": "2022-01-20T22:20:59.449Z"
   },
   {
    "duration": 253,
    "start_time": "2022-01-20T22:21:22.795Z"
   },
   {
    "duration": 86,
    "start_time": "2022-01-20T22:21:48.671Z"
   },
   {
    "duration": 283,
    "start_time": "2022-01-20T22:21:53.161Z"
   },
   {
    "duration": 245,
    "start_time": "2022-01-20T22:22:04.289Z"
   },
   {
    "duration": 279,
    "start_time": "2022-01-20T22:22:27.734Z"
   },
   {
    "duration": 2648,
    "start_time": "2022-01-20T22:22:36.468Z"
   },
   {
    "duration": 364,
    "start_time": "2022-01-20T22:22:50.040Z"
   },
   {
    "duration": 2825,
    "start_time": "2022-01-20T22:23:01.527Z"
   },
   {
    "duration": 2634,
    "start_time": "2022-01-20T22:23:31.540Z"
   },
   {
    "duration": 78,
    "start_time": "2022-01-20T22:23:38.391Z"
   },
   {
    "duration": 10,
    "start_time": "2022-01-20T22:23:38.471Z"
   },
   {
    "duration": 37,
    "start_time": "2022-01-20T22:23:38.483Z"
   },
   {
    "duration": 41,
    "start_time": "2022-01-20T22:23:38.522Z"
   },
   {
    "duration": 70,
    "start_time": "2022-01-20T22:23:38.565Z"
   },
   {
    "duration": 955,
    "start_time": "2022-01-20T22:23:40.737Z"
   },
   {
    "duration": 286,
    "start_time": "2022-01-20T22:24:59.112Z"
   },
   {
    "duration": 78,
    "start_time": "2022-01-20T22:25:08.526Z"
   },
   {
    "duration": 11,
    "start_time": "2022-01-20T22:25:08.606Z"
   },
   {
    "duration": 29,
    "start_time": "2022-01-20T22:25:08.619Z"
   },
   {
    "duration": 34,
    "start_time": "2022-01-20T22:25:08.649Z"
   },
   {
    "duration": 302,
    "start_time": "2022-01-20T22:25:12.379Z"
   },
   {
    "duration": 463,
    "start_time": "2022-01-20T22:25:23.500Z"
   },
   {
    "duration": 326,
    "start_time": "2022-01-20T22:25:58.164Z"
   },
   {
    "duration": 92,
    "start_time": "2022-01-20T22:26:12.627Z"
   },
   {
    "duration": 13,
    "start_time": "2022-01-20T22:26:12.721Z"
   },
   {
    "duration": 33,
    "start_time": "2022-01-20T22:26:12.737Z"
   },
   {
    "duration": 16,
    "start_time": "2022-01-20T22:26:12.772Z"
   },
   {
    "duration": 7645,
    "start_time": "2022-01-20T22:26:13.922Z"
   },
   {
    "duration": 6976,
    "start_time": "2022-01-20T22:27:11.275Z"
   },
   {
    "duration": 6452,
    "start_time": "2022-01-20T22:27:33.654Z"
   },
   {
    "duration": 47,
    "start_time": "2022-01-20T22:28:26.888Z"
   },
   {
    "duration": 33,
    "start_time": "2022-01-20T22:28:54.183Z"
   },
   {
    "duration": 264,
    "start_time": "2022-01-20T22:34:23.921Z"
   },
   {
    "duration": 272,
    "start_time": "2022-01-20T22:34:30.314Z"
   },
   {
    "duration": 21,
    "start_time": "2022-01-20T22:34:39.646Z"
   },
   {
    "duration": 3063,
    "start_time": "2022-01-20T22:34:45.417Z"
   },
   {
    "duration": 24,
    "start_time": "2022-01-20T22:36:12.064Z"
   },
   {
    "duration": 3189,
    "start_time": "2022-01-20T22:39:05.785Z"
   },
   {
    "duration": 82,
    "start_time": "2022-01-20T22:39:30.312Z"
   },
   {
    "duration": 10,
    "start_time": "2022-01-20T22:39:30.396Z"
   },
   {
    "duration": 16,
    "start_time": "2022-01-20T22:39:30.408Z"
   },
   {
    "duration": 18,
    "start_time": "2022-01-20T22:39:30.426Z"
   },
   {
    "duration": 35,
    "start_time": "2022-01-20T22:39:30.445Z"
   },
   {
    "duration": 2861,
    "start_time": "2022-01-20T22:39:30.481Z"
   },
   {
    "duration": 44,
    "start_time": "2022-01-20T22:39:33.344Z"
   },
   {
    "duration": 2986,
    "start_time": "2022-01-20T22:39:33.390Z"
   },
   {
    "duration": 79,
    "start_time": "2022-01-20T22:46:15.934Z"
   },
   {
    "duration": 11,
    "start_time": "2022-01-20T22:46:16.015Z"
   },
   {
    "duration": 41,
    "start_time": "2022-01-20T22:46:16.028Z"
   },
   {
    "duration": 39,
    "start_time": "2022-01-20T22:46:16.070Z"
   },
   {
    "duration": 38,
    "start_time": "2022-01-20T22:46:16.111Z"
   },
   {
    "duration": 3211,
    "start_time": "2022-01-20T22:46:16.151Z"
   },
   {
    "duration": 23,
    "start_time": "2022-01-20T22:46:19.364Z"
   },
   {
    "duration": 3016,
    "start_time": "2022-01-20T22:46:19.389Z"
   },
   {
    "duration": 61,
    "start_time": "2022-01-20T22:46:22.407Z"
   },
   {
    "duration": 20,
    "start_time": "2022-01-20T22:46:22.470Z"
   },
   {
    "duration": 24,
    "start_time": "2022-01-20T22:46:28.957Z"
   },
   {
    "duration": 30,
    "start_time": "2022-01-20T22:46:53.208Z"
   },
   {
    "duration": 570,
    "start_time": "2022-01-20T22:47:00.284Z"
   },
   {
    "duration": 184,
    "start_time": "2022-01-20T22:47:13.382Z"
   },
   {
    "duration": 78,
    "start_time": "2022-01-20T22:48:27.458Z"
   },
   {
    "duration": 11,
    "start_time": "2022-01-20T22:48:27.538Z"
   },
   {
    "duration": 10,
    "start_time": "2022-01-20T22:48:27.551Z"
   },
   {
    "duration": 14,
    "start_time": "2022-01-20T22:48:27.563Z"
   },
   {
    "duration": 24,
    "start_time": "2022-01-20T22:48:27.579Z"
   },
   {
    "duration": 2898,
    "start_time": "2022-01-20T22:48:27.605Z"
   },
   {
    "duration": 26,
    "start_time": "2022-01-20T22:48:30.505Z"
   },
   {
    "duration": 3333,
    "start_time": "2022-01-20T22:48:30.533Z"
   },
   {
    "duration": 45,
    "start_time": "2022-01-20T22:48:33.868Z"
   },
   {
    "duration": 47,
    "start_time": "2022-01-20T22:48:33.914Z"
   },
   {
    "duration": 30,
    "start_time": "2022-01-20T22:48:33.962Z"
   },
   {
    "duration": 32,
    "start_time": "2022-01-20T22:48:33.994Z"
   },
   {
    "duration": 586,
    "start_time": "2022-01-20T22:48:34.028Z"
   },
   {
    "duration": 182,
    "start_time": "2022-01-20T22:48:46.406Z"
   },
   {
    "duration": 671,
    "start_time": "2022-01-20T22:49:13.625Z"
   },
   {
    "duration": 209,
    "start_time": "2022-01-20T22:50:20.312Z"
   },
   {
    "duration": 430,
    "start_time": "2022-01-20T22:51:02.533Z"
   },
   {
    "duration": 252,
    "start_time": "2022-01-20T22:51:43.549Z"
   },
   {
    "duration": 2502,
    "start_time": "2022-01-20T22:52:19.945Z"
   },
   {
    "duration": 284,
    "start_time": "2022-01-20T22:52:41.217Z"
   },
   {
    "duration": 255,
    "start_time": "2022-01-20T22:52:51.345Z"
   },
   {
    "duration": 2628,
    "start_time": "2022-01-20T22:52:58.572Z"
   },
   {
    "duration": 180,
    "start_time": "2022-01-20T22:53:09.645Z"
   },
   {
    "duration": 417,
    "start_time": "2022-01-20T22:53:36.033Z"
   },
   {
    "duration": 685,
    "start_time": "2022-01-20T22:53:46.654Z"
   },
   {
    "duration": 196,
    "start_time": "2022-01-20T22:54:01.733Z"
   },
   {
    "duration": 79,
    "start_time": "2022-01-20T22:54:18.849Z"
   },
   {
    "duration": 10,
    "start_time": "2022-01-20T22:54:18.930Z"
   },
   {
    "duration": 22,
    "start_time": "2022-01-20T22:54:18.942Z"
   },
   {
    "duration": 14,
    "start_time": "2022-01-20T22:54:18.966Z"
   },
   {
    "duration": 21,
    "start_time": "2022-01-20T22:54:18.981Z"
   },
   {
    "duration": 2907,
    "start_time": "2022-01-20T22:54:19.003Z"
   },
   {
    "duration": 25,
    "start_time": "2022-01-20T22:54:21.911Z"
   },
   {
    "duration": 2723,
    "start_time": "2022-01-20T22:54:21.938Z"
   },
   {
    "duration": 44,
    "start_time": "2022-01-20T22:54:24.663Z"
   },
   {
    "duration": 20,
    "start_time": "2022-01-20T22:54:24.709Z"
   },
   {
    "duration": 50,
    "start_time": "2022-01-20T22:54:24.731Z"
   },
   {
    "duration": 28,
    "start_time": "2022-01-20T22:54:24.782Z"
   },
   {
    "duration": 571,
    "start_time": "2022-01-20T22:54:24.811Z"
   },
   {
    "duration": 194,
    "start_time": "2022-01-20T22:54:25.384Z"
   },
   {
    "duration": 194,
    "start_time": "2022-01-20T22:54:25.579Z"
   },
   {
    "duration": 354,
    "start_time": "2022-01-20T22:54:25.775Z"
   },
   {
    "duration": 176,
    "start_time": "2022-01-20T22:54:41.463Z"
   },
   {
    "duration": 207,
    "start_time": "2022-01-20T22:55:00.969Z"
   },
   {
    "duration": 153,
    "start_time": "2022-01-20T22:57:26.275Z"
   },
   {
    "duration": 199,
    "start_time": "2022-01-20T22:57:30.826Z"
   },
   {
    "duration": 419,
    "start_time": "2022-01-20T22:57:44.313Z"
   },
   {
    "duration": 182,
    "start_time": "2022-01-20T22:57:53.764Z"
   },
   {
    "duration": 185,
    "start_time": "2022-01-20T22:58:04.968Z"
   },
   {
    "duration": 86,
    "start_time": "2022-01-20T22:58:18.227Z"
   },
   {
    "duration": 175,
    "start_time": "2022-01-20T22:58:22.552Z"
   },
   {
    "duration": 182,
    "start_time": "2022-01-20T22:58:31.239Z"
   },
   {
    "duration": 211,
    "start_time": "2022-01-20T22:58:38.271Z"
   },
   {
    "duration": 191,
    "start_time": "2022-01-20T22:58:41.626Z"
   },
   {
    "duration": 223,
    "start_time": "2022-01-20T22:58:44.771Z"
   },
   {
    "duration": 196,
    "start_time": "2022-01-20T22:58:54.336Z"
   },
   {
    "duration": 221,
    "start_time": "2022-01-20T22:58:58.240Z"
   },
   {
    "duration": 209,
    "start_time": "2022-01-20T22:59:40.601Z"
   },
   {
    "duration": 258,
    "start_time": "2022-01-20T22:59:54.440Z"
   },
   {
    "duration": 615,
    "start_time": "2022-01-20T23:00:03.742Z"
   },
   {
    "duration": 255,
    "start_time": "2022-01-20T23:02:09.770Z"
   },
   {
    "duration": 524,
    "start_time": "2022-01-20T23:06:41.089Z"
   },
   {
    "duration": 506,
    "start_time": "2022-01-20T23:07:17.282Z"
   },
   {
    "duration": 508,
    "start_time": "2022-01-20T23:07:27.038Z"
   },
   {
    "duration": 215,
    "start_time": "2022-01-20T23:07:53.211Z"
   },
   {
    "duration": 303,
    "start_time": "2022-01-20T23:08:21.933Z"
   },
   {
    "duration": 283,
    "start_time": "2022-01-20T23:08:34.341Z"
   },
   {
    "duration": 82,
    "start_time": "2022-01-20T23:37:15.465Z"
   },
   {
    "duration": 15,
    "start_time": "2022-01-20T23:37:15.549Z"
   },
   {
    "duration": 20,
    "start_time": "2022-01-20T23:37:15.567Z"
   },
   {
    "duration": 44,
    "start_time": "2022-01-20T23:37:15.589Z"
   },
   {
    "duration": 85,
    "start_time": "2022-01-20T23:37:15.635Z"
   },
   {
    "duration": 3089,
    "start_time": "2022-01-20T23:37:15.722Z"
   },
   {
    "duration": 23,
    "start_time": "2022-01-20T23:37:18.813Z"
   },
   {
    "duration": 3063,
    "start_time": "2022-01-20T23:37:18.837Z"
   },
   {
    "duration": 59,
    "start_time": "2022-01-20T23:37:21.903Z"
   },
   {
    "duration": 24,
    "start_time": "2022-01-20T23:37:21.964Z"
   },
   {
    "duration": 42,
    "start_time": "2022-01-20T23:37:21.989Z"
   },
   {
    "duration": 46,
    "start_time": "2022-01-20T23:37:22.033Z"
   },
   {
    "duration": 583,
    "start_time": "2022-01-20T23:37:22.081Z"
   },
   {
    "duration": 201,
    "start_time": "2022-01-20T23:37:22.665Z"
   },
   {
    "duration": 203,
    "start_time": "2022-01-20T23:37:22.868Z"
   },
   {
    "duration": 195,
    "start_time": "2022-01-20T23:37:23.073Z"
   },
   {
    "duration": 221,
    "start_time": "2022-01-20T23:37:23.270Z"
   },
   {
    "duration": 190,
    "start_time": "2022-01-20T23:37:23.493Z"
   },
   {
    "duration": 210,
    "start_time": "2022-01-20T23:37:23.684Z"
   },
   {
    "duration": 199,
    "start_time": "2022-01-20T23:37:23.896Z"
   },
   {
    "duration": 237,
    "start_time": "2022-01-20T23:37:24.097Z"
   },
   {
    "duration": 225,
    "start_time": "2022-01-20T23:37:24.335Z"
   },
   {
    "duration": 278,
    "start_time": "2022-01-20T23:37:24.562Z"
   },
   {
    "duration": 207,
    "start_time": "2022-01-20T23:37:24.842Z"
   },
   {
    "duration": 275,
    "start_time": "2022-01-20T23:37:25.051Z"
   },
   {
    "duration": 35,
    "start_time": "2022-01-20T23:37:36.852Z"
   },
   {
    "duration": 492,
    "start_time": "2022-01-20T23:38:07.814Z"
   },
   {
    "duration": 685,
    "start_time": "2022-01-20T23:38:27.301Z"
   },
   {
    "duration": 41,
    "start_time": "2022-01-20T23:39:52.564Z"
   },
   {
    "duration": 480,
    "start_time": "2022-01-20T23:39:57.806Z"
   },
   {
    "duration": 481,
    "start_time": "2022-01-20T23:40:02.137Z"
   },
   {
    "duration": 479,
    "start_time": "2022-01-20T23:40:20.892Z"
   },
   {
    "duration": 548,
    "start_time": "2022-01-20T23:40:55.315Z"
   },
   {
    "duration": 519,
    "start_time": "2022-01-20T23:40:59.643Z"
   },
   {
    "duration": 498,
    "start_time": "2022-01-20T23:41:17.962Z"
   },
   {
    "duration": 1377,
    "start_time": "2022-01-20T23:42:10.766Z"
   },
   {
    "duration": 180,
    "start_time": "2022-01-20T23:45:42.012Z"
   },
   {
    "duration": 173,
    "start_time": "2022-01-20T23:45:47.282Z"
   },
   {
    "duration": 42,
    "start_time": "2022-01-20T23:46:01.831Z"
   },
   {
    "duration": 78,
    "start_time": "2022-01-20T23:46:12.924Z"
   },
   {
    "duration": 11,
    "start_time": "2022-01-20T23:46:13.004Z"
   },
   {
    "duration": 29,
    "start_time": "2022-01-20T23:46:13.018Z"
   },
   {
    "duration": 22,
    "start_time": "2022-01-20T23:46:13.049Z"
   },
   {
    "duration": 19,
    "start_time": "2022-01-20T23:46:13.073Z"
   },
   {
    "duration": 2848,
    "start_time": "2022-01-20T23:46:13.094Z"
   },
   {
    "duration": 36,
    "start_time": "2022-01-20T23:46:15.943Z"
   },
   {
    "duration": 3198,
    "start_time": "2022-01-20T23:46:15.980Z"
   },
   {
    "duration": 45,
    "start_time": "2022-01-20T23:46:19.181Z"
   },
   {
    "duration": 43,
    "start_time": "2022-01-20T23:46:19.229Z"
   },
   {
    "duration": 25,
    "start_time": "2022-01-20T23:46:19.274Z"
   },
   {
    "duration": 26,
    "start_time": "2022-01-20T23:46:19.301Z"
   },
   {
    "duration": 572,
    "start_time": "2022-01-20T23:46:19.329Z"
   },
   {
    "duration": 203,
    "start_time": "2022-01-20T23:46:19.903Z"
   },
   {
    "duration": 190,
    "start_time": "2022-01-20T23:46:20.107Z"
   },
   {
    "duration": 173,
    "start_time": "2022-01-20T23:46:20.299Z"
   },
   {
    "duration": 205,
    "start_time": "2022-01-20T23:46:20.474Z"
   },
   {
    "duration": 182,
    "start_time": "2022-01-20T23:46:20.681Z"
   },
   {
    "duration": 196,
    "start_time": "2022-01-20T23:46:20.864Z"
   },
   {
    "duration": 183,
    "start_time": "2022-01-20T23:46:21.062Z"
   },
   {
    "duration": 213,
    "start_time": "2022-01-20T23:46:21.247Z"
   },
   {
    "duration": 244,
    "start_time": "2022-01-20T23:46:21.462Z"
   },
   {
    "duration": 353,
    "start_time": "2022-01-20T23:46:21.708Z"
   },
   {
    "duration": 197,
    "start_time": "2022-01-20T23:46:22.063Z"
   },
   {
    "duration": 253,
    "start_time": "2022-01-20T23:46:22.262Z"
   },
   {
    "duration": 50,
    "start_time": "2022-01-20T23:46:22.516Z"
   },
   {
    "duration": 671,
    "start_time": "2022-01-20T23:46:22.569Z"
   },
   {
    "duration": 498,
    "start_time": "2022-01-20T23:46:23.242Z"
   },
   {
    "duration": 1331,
    "start_time": "2022-01-20T23:46:32.204Z"
   },
   {
    "duration": 218,
    "start_time": "2022-01-20T23:50:38.676Z"
   },
   {
    "duration": 198,
    "start_time": "2022-01-20T23:50:46.562Z"
   },
   {
    "duration": 188,
    "start_time": "2022-01-20T23:50:52.234Z"
   },
   {
    "duration": 487,
    "start_time": "2022-01-20T23:55:36.779Z"
   },
   {
    "duration": 7162,
    "start_time": "2022-01-20T23:55:43.825Z"
   },
   {
    "duration": 532,
    "start_time": "2022-01-20T23:56:11.903Z"
   },
   {
    "duration": 295,
    "start_time": "2022-01-20T23:56:20.904Z"
   },
   {
    "duration": 71,
    "start_time": "2022-01-21T00:01:14.743Z"
   },
   {
    "duration": 34,
    "start_time": "2022-01-21T00:01:25.929Z"
   },
   {
    "duration": 217,
    "start_time": "2022-01-21T00:01:29.422Z"
   },
   {
    "duration": 429,
    "start_time": "2022-01-21T00:02:24.596Z"
   },
   {
    "duration": 215,
    "start_time": "2022-01-21T00:02:37.178Z"
   },
   {
    "duration": 417,
    "start_time": "2022-01-21T00:04:26.135Z"
   },
   {
    "duration": 219,
    "start_time": "2022-01-21T00:04:37.269Z"
   },
   {
    "duration": 27,
    "start_time": "2022-01-21T00:05:02.577Z"
   },
   {
    "duration": 384,
    "start_time": "2022-01-21T00:05:25.879Z"
   },
   {
    "duration": 387,
    "start_time": "2022-01-21T00:05:48.988Z"
   },
   {
    "duration": 455,
    "start_time": "2022-01-21T00:06:14.163Z"
   },
   {
    "duration": 209,
    "start_time": "2022-01-21T00:06:25.996Z"
   },
   {
    "duration": 11,
    "start_time": "2022-01-21T00:06:42.141Z"
   },
   {
    "duration": 274,
    "start_time": "2022-01-21T00:07:40.582Z"
   },
   {
    "duration": 186,
    "start_time": "2022-01-21T00:11:44.722Z"
   },
   {
    "duration": 35,
    "start_time": "2022-01-21T00:12:14.566Z"
   },
   {
    "duration": 198,
    "start_time": "2022-01-21T00:13:07.668Z"
   },
   {
    "duration": 181,
    "start_time": "2022-01-21T00:13:16.090Z"
   },
   {
    "duration": 189,
    "start_time": "2022-01-21T00:13:37.556Z"
   },
   {
    "duration": 184,
    "start_time": "2022-01-21T00:13:42.772Z"
   },
   {
    "duration": 34,
    "start_time": "2022-01-21T00:13:57.588Z"
   },
   {
    "duration": 32,
    "start_time": "2022-01-21T00:15:36.994Z"
   },
   {
    "duration": 210,
    "start_time": "2022-01-21T00:16:47.837Z"
   },
   {
    "duration": 85,
    "start_time": "2022-01-21T00:17:28.298Z"
   },
   {
    "duration": 11,
    "start_time": "2022-01-21T00:17:28.386Z"
   },
   {
    "duration": 9,
    "start_time": "2022-01-21T00:17:28.400Z"
   },
   {
    "duration": 15,
    "start_time": "2022-01-21T00:17:28.411Z"
   },
   {
    "duration": 49,
    "start_time": "2022-01-21T00:17:28.428Z"
   },
   {
    "duration": 2883,
    "start_time": "2022-01-21T00:17:28.479Z"
   },
   {
    "duration": 28,
    "start_time": "2022-01-21T00:17:31.364Z"
   },
   {
    "duration": 2875,
    "start_time": "2022-01-21T00:17:31.395Z"
   },
   {
    "duration": 43,
    "start_time": "2022-01-21T00:17:34.273Z"
   },
   {
    "duration": 45,
    "start_time": "2022-01-21T00:17:34.318Z"
   },
   {
    "duration": 26,
    "start_time": "2022-01-21T00:17:34.365Z"
   },
   {
    "duration": 29,
    "start_time": "2022-01-21T00:17:34.392Z"
   },
   {
    "duration": 772,
    "start_time": "2022-01-21T00:17:34.422Z"
   },
   {
    "duration": 195,
    "start_time": "2022-01-21T00:17:35.196Z"
   },
   {
    "duration": 189,
    "start_time": "2022-01-21T00:17:35.392Z"
   },
   {
    "duration": 179,
    "start_time": "2022-01-21T00:17:35.583Z"
   },
   {
    "duration": 196,
    "start_time": "2022-01-21T00:17:35.764Z"
   },
   {
    "duration": 172,
    "start_time": "2022-01-21T00:17:35.962Z"
   },
   {
    "duration": 234,
    "start_time": "2022-01-21T00:17:36.136Z"
   },
   {
    "duration": 191,
    "start_time": "2022-01-21T00:17:36.372Z"
   },
   {
    "duration": 229,
    "start_time": "2022-01-21T00:17:36.565Z"
   },
   {
    "duration": 252,
    "start_time": "2022-01-21T00:17:36.796Z"
   },
   {
    "duration": 268,
    "start_time": "2022-01-21T00:17:37.051Z"
   },
   {
    "duration": 188,
    "start_time": "2022-01-21T00:17:37.321Z"
   },
   {
    "duration": 260,
    "start_time": "2022-01-21T00:17:37.511Z"
   },
   {
    "duration": 36,
    "start_time": "2022-01-21T00:17:37.773Z"
   },
   {
    "duration": 476,
    "start_time": "2022-01-21T00:17:37.810Z"
   },
   {
    "duration": 488,
    "start_time": "2022-01-21T00:17:38.287Z"
   },
   {
    "duration": 1268,
    "start_time": "2022-01-21T00:17:38.777Z"
   },
   {
    "duration": 250,
    "start_time": "2022-01-21T00:17:40.047Z"
   },
   {
    "duration": 204,
    "start_time": "2022-01-21T00:17:40.299Z"
   },
   {
    "duration": 206,
    "start_time": "2022-01-21T00:17:40.505Z"
   },
   {
    "duration": 54,
    "start_time": "2022-01-21T00:17:40.712Z"
   },
   {
    "duration": 36,
    "start_time": "2022-01-21T00:17:40.768Z"
   },
   {
    "duration": 245,
    "start_time": "2022-01-21T00:17:40.806Z"
   },
   {
    "duration": 31,
    "start_time": "2022-01-21T00:17:41.053Z"
   },
   {
    "duration": 41,
    "start_time": "2022-01-21T00:17:45.787Z"
   },
   {
    "duration": 32,
    "start_time": "2022-01-21T00:17:53.642Z"
   },
   {
    "duration": 340,
    "start_time": "2022-01-21T00:22:49.268Z"
   },
   {
    "duration": 32,
    "start_time": "2022-01-21T00:22:56.299Z"
   },
   {
    "duration": 35,
    "start_time": "2022-01-21T00:23:13.047Z"
   },
   {
    "duration": 208,
    "start_time": "2022-01-21T00:23:31.060Z"
   },
   {
    "duration": 206,
    "start_time": "2022-01-21T00:23:41.060Z"
   },
   {
    "duration": 306,
    "start_time": "2022-01-21T00:23:52.782Z"
   },
   {
    "duration": 92,
    "start_time": "2022-01-21T00:23:57.813Z"
   },
   {
    "duration": 216,
    "start_time": "2022-01-21T00:24:00.583Z"
   },
   {
    "duration": 1623,
    "start_time": "2022-01-21T00:24:13.625Z"
   },
   {
    "duration": 1888,
    "start_time": "2022-01-21T00:24:49.800Z"
   },
   {
    "duration": 312,
    "start_time": "2022-01-21T00:25:03.212Z"
   },
   {
    "duration": 245,
    "start_time": "2022-01-21T00:25:15.139Z"
   },
   {
    "duration": 519,
    "start_time": "2022-01-21T00:25:31.403Z"
   },
   {
    "duration": 186,
    "start_time": "2022-01-21T00:25:50.750Z"
   },
   {
    "duration": 9,
    "start_time": "2022-01-21T00:26:12.558Z"
   },
   {
    "duration": 343,
    "start_time": "2022-01-21T00:26:28.985Z"
   },
   {
    "duration": 164,
    "start_time": "2022-01-21T00:26:38.916Z"
   },
   {
    "duration": 10,
    "start_time": "2022-01-21T00:26:54.840Z"
   },
   {
    "duration": 944,
    "start_time": "2022-01-21T00:27:03.842Z"
   },
   {
    "duration": 950,
    "start_time": "2022-01-21T00:27:18.495Z"
   },
   {
    "duration": 547,
    "start_time": "2022-01-21T00:27:30.637Z"
   },
   {
    "duration": 736,
    "start_time": "2022-01-21T00:27:41.758Z"
   },
   {
    "duration": 312,
    "start_time": "2022-01-21T00:27:47.016Z"
   },
   {
    "duration": 347,
    "start_time": "2022-01-21T00:27:56.816Z"
   },
   {
    "duration": 281,
    "start_time": "2022-01-21T00:28:23.537Z"
   },
   {
    "duration": 266,
    "start_time": "2022-01-21T00:28:47.004Z"
   },
   {
    "duration": 387,
    "start_time": "2022-01-21T00:28:51.469Z"
   },
   {
    "duration": 338,
    "start_time": "2022-01-21T00:29:00.454Z"
   },
   {
    "duration": 249,
    "start_time": "2022-01-21T00:29:06.984Z"
   },
   {
    "duration": 330,
    "start_time": "2022-01-21T00:30:18.122Z"
   },
   {
    "duration": 330,
    "start_time": "2022-01-21T00:30:30.532Z"
   },
   {
    "duration": 304,
    "start_time": "2022-01-21T00:30:33.627Z"
   },
   {
    "duration": 307,
    "start_time": "2022-01-21T00:30:39.888Z"
   },
   {
    "duration": 304,
    "start_time": "2022-01-21T00:30:43.557Z"
   },
   {
    "duration": 10,
    "start_time": "2022-01-21T00:31:02.557Z"
   },
   {
    "duration": 343,
    "start_time": "2022-01-21T00:31:14.901Z"
   },
   {
    "duration": 375,
    "start_time": "2022-01-21T00:31:31.434Z"
   },
   {
    "duration": 1084,
    "start_time": "2022-01-21T00:31:44.981Z"
   },
   {
    "duration": 245,
    "start_time": "2022-01-21T00:32:02.470Z"
   },
   {
    "duration": 204,
    "start_time": "2022-01-21T00:32:09.872Z"
   },
   {
    "duration": 182,
    "start_time": "2022-01-21T00:32:12.852Z"
   },
   {
    "duration": 413,
    "start_time": "2022-01-21T00:34:41.874Z"
   },
   {
    "duration": 200,
    "start_time": "2022-01-21T00:34:49.901Z"
   },
   {
    "duration": 181,
    "start_time": "2022-01-21T00:34:58.430Z"
   },
   {
    "duration": 215,
    "start_time": "2022-01-21T00:35:15.749Z"
   },
   {
    "duration": 213,
    "start_time": "2022-01-21T00:35:28.829Z"
   },
   {
    "duration": 249,
    "start_time": "2022-01-21T00:35:38.918Z"
   },
   {
    "duration": 90,
    "start_time": "2022-01-21T00:38:02.137Z"
   },
   {
    "duration": 12,
    "start_time": "2022-01-21T00:38:02.260Z"
   },
   {
    "duration": 35,
    "start_time": "2022-01-21T00:38:02.274Z"
   },
   {
    "duration": 39,
    "start_time": "2022-01-21T00:38:02.311Z"
   },
   {
    "duration": 43,
    "start_time": "2022-01-21T00:38:02.352Z"
   },
   {
    "duration": 3299,
    "start_time": "2022-01-21T00:38:02.397Z"
   },
   {
    "duration": 23,
    "start_time": "2022-01-21T00:38:05.698Z"
   },
   {
    "duration": 2584,
    "start_time": "2022-01-21T00:38:05.723Z"
   },
   {
    "duration": 57,
    "start_time": "2022-01-21T00:38:08.310Z"
   },
   {
    "duration": 21,
    "start_time": "2022-01-21T00:38:08.369Z"
   },
   {
    "duration": 40,
    "start_time": "2022-01-21T00:38:08.392Z"
   },
   {
    "duration": 33,
    "start_time": "2022-01-21T00:38:08.433Z"
   },
   {
    "duration": 570,
    "start_time": "2022-01-21T00:38:08.468Z"
   },
   {
    "duration": 184,
    "start_time": "2022-01-21T00:38:09.039Z"
   },
   {
    "duration": 609,
    "start_time": "2022-01-21T00:38:09.225Z"
   },
   {
    "duration": 170,
    "start_time": "2022-01-21T00:38:09.836Z"
   },
   {
    "duration": 204,
    "start_time": "2022-01-21T00:38:10.008Z"
   },
   {
    "duration": 173,
    "start_time": "2022-01-21T00:38:10.213Z"
   },
   {
    "duration": 226,
    "start_time": "2022-01-21T00:38:10.388Z"
   },
   {
    "duration": 198,
    "start_time": "2022-01-21T00:38:10.616Z"
   },
   {
    "duration": 220,
    "start_time": "2022-01-21T00:38:10.816Z"
   },
   {
    "duration": 207,
    "start_time": "2022-01-21T00:38:11.038Z"
   },
   {
    "duration": 266,
    "start_time": "2022-01-21T00:38:11.246Z"
   },
   {
    "duration": 234,
    "start_time": "2022-01-21T00:38:11.514Z"
   },
   {
    "duration": 335,
    "start_time": "2022-01-21T00:38:11.750Z"
   },
   {
    "duration": 39,
    "start_time": "2022-01-21T00:38:12.086Z"
   },
   {
    "duration": 490,
    "start_time": "2022-01-21T00:38:12.128Z"
   },
   {
    "duration": 525,
    "start_time": "2022-01-21T00:38:12.620Z"
   },
   {
    "duration": 1279,
    "start_time": "2022-01-21T00:38:13.147Z"
   },
   {
    "duration": 375,
    "start_time": "2022-01-21T00:38:14.428Z"
   },
   {
    "duration": 218,
    "start_time": "2022-01-21T00:38:14.805Z"
   },
   {
    "duration": 227,
    "start_time": "2022-01-21T00:38:15.025Z"
   },
   {
    "duration": 48,
    "start_time": "2022-01-21T00:38:15.253Z"
   },
   {
    "duration": 57,
    "start_time": "2022-01-21T00:38:15.302Z"
   },
   {
    "duration": 222,
    "start_time": "2022-01-21T00:38:15.361Z"
   },
   {
    "duration": 25,
    "start_time": "2022-01-21T00:38:15.584Z"
   },
   {
    "duration": 227,
    "start_time": "2022-01-21T00:38:15.611Z"
   },
   {
    "duration": 9,
    "start_time": "2022-01-21T00:38:15.840Z"
   },
   {
    "duration": 201,
    "start_time": "2022-01-21T00:38:15.861Z"
   },
   {
    "duration": 8,
    "start_time": "2022-01-21T00:38:16.064Z"
   },
   {
    "duration": 183,
    "start_time": "2022-01-21T00:38:16.074Z"
   },
   {
    "duration": 9,
    "start_time": "2022-01-21T00:38:16.260Z"
   },
   {
    "duration": 334,
    "start_time": "2022-01-21T00:38:16.271Z"
   },
   {
    "duration": 9,
    "start_time": "2022-01-21T00:38:16.607Z"
   },
   {
    "duration": 353,
    "start_time": "2022-01-21T00:38:16.618Z"
   },
   {
    "duration": 1048,
    "start_time": "2022-01-21T00:38:16.972Z"
   },
   {
    "duration": 320,
    "start_time": "2022-01-21T00:38:18.022Z"
   },
   {
    "duration": 226,
    "start_time": "2022-01-21T00:38:18.344Z"
   },
   {
    "duration": 190,
    "start_time": "2022-01-21T00:38:18.572Z"
   }
  ],
  "kernelspec": {
   "display_name": "Python 3 (ipykernel)",
   "language": "python",
   "name": "python3"
  },
  "language_info": {
   "codemirror_mode": {
    "name": "ipython",
    "version": 3
   },
   "file_extension": ".py",
   "mimetype": "text/x-python",
   "name": "python",
   "nbconvert_exporter": "python",
   "pygments_lexer": "ipython3",
   "version": "3.9.7"
  },
  "toc": {
   "base_numbering": 1,
   "nav_menu": {},
   "number_sections": true,
   "sideBar": true,
   "skip_h1_title": true,
   "title_cell": "Содержание",
   "title_sidebar": "Contents",
   "toc_cell": true,
   "toc_position": {},
   "toc_section_display": true,
   "toc_window_display": false
  }
 },
 "nbformat": 4,
 "nbformat_minor": 2
}
