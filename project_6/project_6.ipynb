{
 "cells": [
  {
   "cell_type": "markdown",
   "metadata": {
    "toc": true
   },
   "source": [
    "<h1>Содержание<span class=\"tocSkip\"></span></h1>\n",
    "<div class=\"toc\"><ul class=\"toc-item\"><li><span><a href=\"#Подготовка-данных\" data-toc-modified-id=\"Подготовка-данных-1\"><span class=\"toc-item-num\">1&nbsp;&nbsp;</span>Подготовка данных</a></span><ul class=\"toc-item\"><li><span><a href=\"#Вывод-главы-1\" data-toc-modified-id=\"Вывод-главы-1-1.1\"><span class=\"toc-item-num\">1.1&nbsp;&nbsp;</span>Вывод главы 1</a></span></li></ul></li><li><span><a href=\"#Исследование-задачи\" data-toc-modified-id=\"Исследование-задачи-2\"><span class=\"toc-item-num\">2&nbsp;&nbsp;</span>Исследование задачи</a></span><ul class=\"toc-item\"><li><span><a href=\"#Вывод-главы-2\" data-toc-modified-id=\"Вывод-главы-2-2.1\"><span class=\"toc-item-num\">2.1&nbsp;&nbsp;</span>Вывод главы 2</a></span></li></ul></li><li><span><a href=\"#Борьба-с-дисбалансом\" data-toc-modified-id=\"Борьба-с-дисбалансом-3\"><span class=\"toc-item-num\">3&nbsp;&nbsp;</span>Борьба с дисбалансом</a></span><ul class=\"toc-item\"><li><span><a href=\"#Выводы-главы-3\" data-toc-modified-id=\"Выводы-главы-3-3.1\"><span class=\"toc-item-num\">3.1&nbsp;&nbsp;</span>Выводы главы 3</a></span></li></ul></li><li><span><a href=\"#Тестирование-модели\" data-toc-modified-id=\"Тестирование-модели-4\"><span class=\"toc-item-num\">4&nbsp;&nbsp;</span>Тестирование модели</a></span><ul class=\"toc-item\"><li><span><a href=\"#Выводы-по-проекту\" data-toc-modified-id=\"Выводы-по-проекту-4.1\"><span class=\"toc-item-num\">4.1&nbsp;&nbsp;</span>Выводы по проекту</a></span></li></ul></li><li><span><a href=\"#Чек-лист-готовности-проекта\" data-toc-modified-id=\"Чек-лист-готовности-проекта-5\"><span class=\"toc-item-num\">5&nbsp;&nbsp;</span>Чек-лист готовности проекта</a></span></li></ul></div>"
   ]
  },
  {
   "cell_type": "markdown",
   "metadata": {},
   "source": [
    "# Отток клиентов"
   ]
  },
  {
   "cell_type": "markdown",
   "metadata": {},
   "source": [
    "Из «Бета-Банка» стали уходить клиенты. Каждый месяц. Немного, но заметно. Банковские маркетологи посчитали: сохранять текущих клиентов дешевле, чем привлекать новых.\n",
    "\n",
    "Нужно спрогнозировать, уйдёт клиент из банка в ближайшее время или нет. Вам предоставлены исторические данные о поведении клиентов и расторжении договоров с банком. \n",
    "\n",
    "Постройте модель с предельно большим значением *F1*-меры. Чтобы сдать проект успешно, нужно довести метрику до 0.59. Проверьте *F1*-меру на тестовой выборке самостоятельно.\n",
    "\n",
    "Дополнительно измеряйте *AUC-ROC*, сравнивайте её значение с *F1*-мерой.\n",
    "\n",
    "Источник данных: [https://www.kaggle.com/barelydedicated/bank-customer-churn-modeling](https://www.kaggle.com/barelydedicated/bank-customer-churn-modeling)"
   ]
  },
  {
   "cell_type": "markdown",
   "metadata": {},
   "source": [
    "## Подготовка данных"
   ]
  },
  {
   "cell_type": "markdown",
   "metadata": {},
   "source": [
    "Произведем импорт всех неообходимых библиотек."
   ]
  },
  {
   "cell_type": "code",
   "execution_count": 212,
   "metadata": {},
   "outputs": [],
   "source": [
    "import pandas as pd\n",
    "\n",
    "from sklearn.metrics import roc_auc_score, f1_score\n",
    "from sklearn.utils import shuffle\n",
    "from sklearn.preprocessing import StandardScaler\n",
    "from sklearn.linear_model import LogisticRegression\n",
    "from sklearn.tree import DecisionTreeClassifier\n",
    "from sklearn.ensemble import RandomForestClassifier\n",
    "from sklearn.model_selection import train_test_split"
   ]
  },
  {
   "cell_type": "markdown",
   "metadata": {},
   "source": [
    "Далее, подгрузим данные и ознакомимся с ними."
   ]
  },
  {
   "cell_type": "code",
   "execution_count": 213,
   "metadata": {},
   "outputs": [
    {
     "data": {
      "text/html": [
       "<div>\n",
       "<style scoped>\n",
       "    .dataframe tbody tr th:only-of-type {\n",
       "        vertical-align: middle;\n",
       "    }\n",
       "\n",
       "    .dataframe tbody tr th {\n",
       "        vertical-align: top;\n",
       "    }\n",
       "\n",
       "    .dataframe thead th {\n",
       "        text-align: right;\n",
       "    }\n",
       "</style>\n",
       "<table border=\"1\" class=\"dataframe\">\n",
       "  <thead>\n",
       "    <tr style=\"text-align: right;\">\n",
       "      <th></th>\n",
       "      <th>RowNumber</th>\n",
       "      <th>CustomerId</th>\n",
       "      <th>Surname</th>\n",
       "      <th>CreditScore</th>\n",
       "      <th>Geography</th>\n",
       "      <th>Gender</th>\n",
       "      <th>Age</th>\n",
       "      <th>Tenure</th>\n",
       "      <th>Balance</th>\n",
       "      <th>NumOfProducts</th>\n",
       "      <th>HasCrCard</th>\n",
       "      <th>IsActiveMember</th>\n",
       "      <th>EstimatedSalary</th>\n",
       "      <th>Exited</th>\n",
       "    </tr>\n",
       "  </thead>\n",
       "  <tbody>\n",
       "    <tr>\n",
       "      <th>0</th>\n",
       "      <td>1</td>\n",
       "      <td>15634602</td>\n",
       "      <td>Hargrave</td>\n",
       "      <td>619</td>\n",
       "      <td>France</td>\n",
       "      <td>Female</td>\n",
       "      <td>42</td>\n",
       "      <td>2.0</td>\n",
       "      <td>0.00</td>\n",
       "      <td>1</td>\n",
       "      <td>1</td>\n",
       "      <td>1</td>\n",
       "      <td>101348.88</td>\n",
       "      <td>1</td>\n",
       "    </tr>\n",
       "    <tr>\n",
       "      <th>1</th>\n",
       "      <td>2</td>\n",
       "      <td>15647311</td>\n",
       "      <td>Hill</td>\n",
       "      <td>608</td>\n",
       "      <td>Spain</td>\n",
       "      <td>Female</td>\n",
       "      <td>41</td>\n",
       "      <td>1.0</td>\n",
       "      <td>83807.86</td>\n",
       "      <td>1</td>\n",
       "      <td>0</td>\n",
       "      <td>1</td>\n",
       "      <td>112542.58</td>\n",
       "      <td>0</td>\n",
       "    </tr>\n",
       "    <tr>\n",
       "      <th>2</th>\n",
       "      <td>3</td>\n",
       "      <td>15619304</td>\n",
       "      <td>Onio</td>\n",
       "      <td>502</td>\n",
       "      <td>France</td>\n",
       "      <td>Female</td>\n",
       "      <td>42</td>\n",
       "      <td>8.0</td>\n",
       "      <td>159660.80</td>\n",
       "      <td>3</td>\n",
       "      <td>1</td>\n",
       "      <td>0</td>\n",
       "      <td>113931.57</td>\n",
       "      <td>1</td>\n",
       "    </tr>\n",
       "    <tr>\n",
       "      <th>3</th>\n",
       "      <td>4</td>\n",
       "      <td>15701354</td>\n",
       "      <td>Boni</td>\n",
       "      <td>699</td>\n",
       "      <td>France</td>\n",
       "      <td>Female</td>\n",
       "      <td>39</td>\n",
       "      <td>1.0</td>\n",
       "      <td>0.00</td>\n",
       "      <td>2</td>\n",
       "      <td>0</td>\n",
       "      <td>0</td>\n",
       "      <td>93826.63</td>\n",
       "      <td>0</td>\n",
       "    </tr>\n",
       "    <tr>\n",
       "      <th>4</th>\n",
       "      <td>5</td>\n",
       "      <td>15737888</td>\n",
       "      <td>Mitchell</td>\n",
       "      <td>850</td>\n",
       "      <td>Spain</td>\n",
       "      <td>Female</td>\n",
       "      <td>43</td>\n",
       "      <td>2.0</td>\n",
       "      <td>125510.82</td>\n",
       "      <td>1</td>\n",
       "      <td>1</td>\n",
       "      <td>1</td>\n",
       "      <td>79084.10</td>\n",
       "      <td>0</td>\n",
       "    </tr>\n",
       "    <tr>\n",
       "      <th>5</th>\n",
       "      <td>6</td>\n",
       "      <td>15574012</td>\n",
       "      <td>Chu</td>\n",
       "      <td>645</td>\n",
       "      <td>Spain</td>\n",
       "      <td>Male</td>\n",
       "      <td>44</td>\n",
       "      <td>8.0</td>\n",
       "      <td>113755.78</td>\n",
       "      <td>2</td>\n",
       "      <td>1</td>\n",
       "      <td>0</td>\n",
       "      <td>149756.71</td>\n",
       "      <td>1</td>\n",
       "    </tr>\n",
       "    <tr>\n",
       "      <th>6</th>\n",
       "      <td>7</td>\n",
       "      <td>15592531</td>\n",
       "      <td>Bartlett</td>\n",
       "      <td>822</td>\n",
       "      <td>France</td>\n",
       "      <td>Male</td>\n",
       "      <td>50</td>\n",
       "      <td>7.0</td>\n",
       "      <td>0.00</td>\n",
       "      <td>2</td>\n",
       "      <td>1</td>\n",
       "      <td>1</td>\n",
       "      <td>10062.80</td>\n",
       "      <td>0</td>\n",
       "    </tr>\n",
       "    <tr>\n",
       "      <th>7</th>\n",
       "      <td>8</td>\n",
       "      <td>15656148</td>\n",
       "      <td>Obinna</td>\n",
       "      <td>376</td>\n",
       "      <td>Germany</td>\n",
       "      <td>Female</td>\n",
       "      <td>29</td>\n",
       "      <td>4.0</td>\n",
       "      <td>115046.74</td>\n",
       "      <td>4</td>\n",
       "      <td>1</td>\n",
       "      <td>0</td>\n",
       "      <td>119346.88</td>\n",
       "      <td>1</td>\n",
       "    </tr>\n",
       "    <tr>\n",
       "      <th>8</th>\n",
       "      <td>9</td>\n",
       "      <td>15792365</td>\n",
       "      <td>He</td>\n",
       "      <td>501</td>\n",
       "      <td>France</td>\n",
       "      <td>Male</td>\n",
       "      <td>44</td>\n",
       "      <td>4.0</td>\n",
       "      <td>142051.07</td>\n",
       "      <td>2</td>\n",
       "      <td>0</td>\n",
       "      <td>1</td>\n",
       "      <td>74940.50</td>\n",
       "      <td>0</td>\n",
       "    </tr>\n",
       "    <tr>\n",
       "      <th>9</th>\n",
       "      <td>10</td>\n",
       "      <td>15592389</td>\n",
       "      <td>H?</td>\n",
       "      <td>684</td>\n",
       "      <td>France</td>\n",
       "      <td>Male</td>\n",
       "      <td>27</td>\n",
       "      <td>2.0</td>\n",
       "      <td>134603.88</td>\n",
       "      <td>1</td>\n",
       "      <td>1</td>\n",
       "      <td>1</td>\n",
       "      <td>71725.73</td>\n",
       "      <td>0</td>\n",
       "    </tr>\n",
       "  </tbody>\n",
       "</table>\n",
       "</div>"
      ],
      "text/plain": [
       "   RowNumber  CustomerId   Surname  CreditScore Geography  Gender  Age  \\\n",
       "0          1    15634602  Hargrave          619    France  Female   42   \n",
       "1          2    15647311      Hill          608     Spain  Female   41   \n",
       "2          3    15619304      Onio          502    France  Female   42   \n",
       "3          4    15701354      Boni          699    France  Female   39   \n",
       "4          5    15737888  Mitchell          850     Spain  Female   43   \n",
       "5          6    15574012       Chu          645     Spain    Male   44   \n",
       "6          7    15592531  Bartlett          822    France    Male   50   \n",
       "7          8    15656148    Obinna          376   Germany  Female   29   \n",
       "8          9    15792365        He          501    France    Male   44   \n",
       "9         10    15592389        H?          684    France    Male   27   \n",
       "\n",
       "   Tenure    Balance  NumOfProducts  HasCrCard  IsActiveMember  \\\n",
       "0     2.0       0.00              1          1               1   \n",
       "1     1.0   83807.86              1          0               1   \n",
       "2     8.0  159660.80              3          1               0   \n",
       "3     1.0       0.00              2          0               0   \n",
       "4     2.0  125510.82              1          1               1   \n",
       "5     8.0  113755.78              2          1               0   \n",
       "6     7.0       0.00              2          1               1   \n",
       "7     4.0  115046.74              4          1               0   \n",
       "8     4.0  142051.07              2          0               1   \n",
       "9     2.0  134603.88              1          1               1   \n",
       "\n",
       "   EstimatedSalary  Exited  \n",
       "0        101348.88       1  \n",
       "1        112542.58       0  \n",
       "2        113931.57       1  \n",
       "3         93826.63       0  \n",
       "4         79084.10       0  \n",
       "5        149756.71       1  \n",
       "6         10062.80       0  \n",
       "7        119346.88       1  \n",
       "8         74940.50       0  \n",
       "9         71725.73       0  "
      ]
     },
     "execution_count": 213,
     "metadata": {},
     "output_type": "execute_result"
    }
   ],
   "source": [
    "data = pd.read_csv('/datasets/Churn.csv')\n",
    "data.head(10)"
   ]
  },
  {
   "cell_type": "markdown",
   "metadata": {},
   "source": [
    "Отметим, что столбцы: *RowNumber*, *CustomerId*, *Surname* не представляют интереса для обучения модели, так как эти данные носят лишь информационный (идентифицирующий) характер. Их из выборки надо будет позднее удалить.\n",
    "\n",
    "Так же, необходимо будет преобразовать категориальные данные в столбцах *geography* и *gender* методом OHE, что так же, сделаем позднее."
   ]
  },
  {
   "cell_type": "markdown",
   "metadata": {},
   "source": [
    "Ознакомимся с данными по выборке."
   ]
  },
  {
   "cell_type": "code",
   "execution_count": 214,
   "metadata": {},
   "outputs": [
    {
     "name": "stdout",
     "output_type": "stream",
     "text": [
      "<class 'pandas.core.frame.DataFrame'>\n",
      "RangeIndex: 10000 entries, 0 to 9999\n",
      "Data columns (total 14 columns):\n",
      " #   Column           Non-Null Count  Dtype  \n",
      "---  ------           --------------  -----  \n",
      " 0   RowNumber        10000 non-null  int64  \n",
      " 1   CustomerId       10000 non-null  int64  \n",
      " 2   Surname          10000 non-null  object \n",
      " 3   CreditScore      10000 non-null  int64  \n",
      " 4   Geography        10000 non-null  object \n",
      " 5   Gender           10000 non-null  object \n",
      " 6   Age              10000 non-null  int64  \n",
      " 7   Tenure           9091 non-null   float64\n",
      " 8   Balance          10000 non-null  float64\n",
      " 9   NumOfProducts    10000 non-null  int64  \n",
      " 10  HasCrCard        10000 non-null  int64  \n",
      " 11  IsActiveMember   10000 non-null  int64  \n",
      " 12  EstimatedSalary  10000 non-null  float64\n",
      " 13  Exited           10000 non-null  int64  \n",
      "dtypes: float64(3), int64(8), object(3)\n",
      "memory usage: 1.1+ MB\n"
     ]
    }
   ],
   "source": [
    "data.info()"
   ]
  },
  {
   "cell_type": "markdown",
   "metadata": {},
   "source": [
    "Видно, что в столбце *Tenure* имеются пропуски, их необходимо будет заполнить, для этого, посмотрим какие значение есть в данном столбце."
   ]
  },
  {
   "cell_type": "code",
   "execution_count": 215,
   "metadata": {},
   "outputs": [
    {
     "data": {
      "text/plain": [
       "1.0     952\n",
       "2.0     950\n",
       "8.0     933\n",
       "3.0     928\n",
       "5.0     927\n",
       "7.0     925\n",
       "4.0     885\n",
       "9.0     882\n",
       "6.0     881\n",
       "10.0    446\n",
       "0.0     382\n",
       "Name: Tenure, dtype: int64"
      ]
     },
     "execution_count": 215,
     "metadata": {},
     "output_type": "execute_result"
    }
   ],
   "source": [
    "data['Tenure'].value_counts()"
   ]
  },
  {
   "cell_type": "markdown",
   "metadata": {},
   "source": [
    "Наиболее логичным, будет заполнить пропуски в данных медианным значением столбца. Так и поступим."
   ]
  },
  {
   "cell_type": "code",
   "execution_count": 216,
   "metadata": {},
   "outputs": [
    {
     "name": "stdout",
     "output_type": "stream",
     "text": [
      "<class 'pandas.core.frame.DataFrame'>\n",
      "RangeIndex: 10000 entries, 0 to 9999\n",
      "Data columns (total 14 columns):\n",
      " #   Column           Non-Null Count  Dtype  \n",
      "---  ------           --------------  -----  \n",
      " 0   RowNumber        10000 non-null  int64  \n",
      " 1   CustomerId       10000 non-null  int64  \n",
      " 2   Surname          10000 non-null  object \n",
      " 3   CreditScore      10000 non-null  int64  \n",
      " 4   Geography        10000 non-null  object \n",
      " 5   Gender           10000 non-null  object \n",
      " 6   Age              10000 non-null  int64  \n",
      " 7   Tenure           10000 non-null  float64\n",
      " 8   Balance          10000 non-null  float64\n",
      " 9   NumOfProducts    10000 non-null  int64  \n",
      " 10  HasCrCard        10000 non-null  int64  \n",
      " 11  IsActiveMember   10000 non-null  int64  \n",
      " 12  EstimatedSalary  10000 non-null  float64\n",
      " 13  Exited           10000 non-null  int64  \n",
      "dtypes: float64(3), int64(8), object(3)\n",
      "memory usage: 1.1+ MB\n"
     ]
    }
   ],
   "source": [
    "data['Tenure'] = data['Tenure'].fillna(data['Tenure'].median())\n",
    "data.info()"
   ]
  },
  {
   "cell_type": "markdown",
   "metadata": {},
   "source": [
    "Теперь, удалим лишние столбцы, которые не дадут дополнительной информации для будующей модели."
   ]
  },
  {
   "cell_type": "code",
   "execution_count": 217,
   "metadata": {},
   "outputs": [
    {
     "data": {
      "text/html": [
       "<div>\n",
       "<style scoped>\n",
       "    .dataframe tbody tr th:only-of-type {\n",
       "        vertical-align: middle;\n",
       "    }\n",
       "\n",
       "    .dataframe tbody tr th {\n",
       "        vertical-align: top;\n",
       "    }\n",
       "\n",
       "    .dataframe thead th {\n",
       "        text-align: right;\n",
       "    }\n",
       "</style>\n",
       "<table border=\"1\" class=\"dataframe\">\n",
       "  <thead>\n",
       "    <tr style=\"text-align: right;\">\n",
       "      <th></th>\n",
       "      <th>CreditScore</th>\n",
       "      <th>Geography</th>\n",
       "      <th>Gender</th>\n",
       "      <th>Age</th>\n",
       "      <th>Tenure</th>\n",
       "      <th>Balance</th>\n",
       "      <th>NumOfProducts</th>\n",
       "      <th>HasCrCard</th>\n",
       "      <th>IsActiveMember</th>\n",
       "      <th>EstimatedSalary</th>\n",
       "      <th>Exited</th>\n",
       "    </tr>\n",
       "  </thead>\n",
       "  <tbody>\n",
       "    <tr>\n",
       "      <th>0</th>\n",
       "      <td>619</td>\n",
       "      <td>France</td>\n",
       "      <td>Female</td>\n",
       "      <td>42</td>\n",
       "      <td>2.0</td>\n",
       "      <td>0.00</td>\n",
       "      <td>1</td>\n",
       "      <td>1</td>\n",
       "      <td>1</td>\n",
       "      <td>101348.88</td>\n",
       "      <td>1</td>\n",
       "    </tr>\n",
       "    <tr>\n",
       "      <th>1</th>\n",
       "      <td>608</td>\n",
       "      <td>Spain</td>\n",
       "      <td>Female</td>\n",
       "      <td>41</td>\n",
       "      <td>1.0</td>\n",
       "      <td>83807.86</td>\n",
       "      <td>1</td>\n",
       "      <td>0</td>\n",
       "      <td>1</td>\n",
       "      <td>112542.58</td>\n",
       "      <td>0</td>\n",
       "    </tr>\n",
       "    <tr>\n",
       "      <th>2</th>\n",
       "      <td>502</td>\n",
       "      <td>France</td>\n",
       "      <td>Female</td>\n",
       "      <td>42</td>\n",
       "      <td>8.0</td>\n",
       "      <td>159660.80</td>\n",
       "      <td>3</td>\n",
       "      <td>1</td>\n",
       "      <td>0</td>\n",
       "      <td>113931.57</td>\n",
       "      <td>1</td>\n",
       "    </tr>\n",
       "    <tr>\n",
       "      <th>3</th>\n",
       "      <td>699</td>\n",
       "      <td>France</td>\n",
       "      <td>Female</td>\n",
       "      <td>39</td>\n",
       "      <td>1.0</td>\n",
       "      <td>0.00</td>\n",
       "      <td>2</td>\n",
       "      <td>0</td>\n",
       "      <td>0</td>\n",
       "      <td>93826.63</td>\n",
       "      <td>0</td>\n",
       "    </tr>\n",
       "    <tr>\n",
       "      <th>4</th>\n",
       "      <td>850</td>\n",
       "      <td>Spain</td>\n",
       "      <td>Female</td>\n",
       "      <td>43</td>\n",
       "      <td>2.0</td>\n",
       "      <td>125510.82</td>\n",
       "      <td>1</td>\n",
       "      <td>1</td>\n",
       "      <td>1</td>\n",
       "      <td>79084.10</td>\n",
       "      <td>0</td>\n",
       "    </tr>\n",
       "    <tr>\n",
       "      <th>...</th>\n",
       "      <td>...</td>\n",
       "      <td>...</td>\n",
       "      <td>...</td>\n",
       "      <td>...</td>\n",
       "      <td>...</td>\n",
       "      <td>...</td>\n",
       "      <td>...</td>\n",
       "      <td>...</td>\n",
       "      <td>...</td>\n",
       "      <td>...</td>\n",
       "      <td>...</td>\n",
       "    </tr>\n",
       "    <tr>\n",
       "      <th>9995</th>\n",
       "      <td>771</td>\n",
       "      <td>France</td>\n",
       "      <td>Male</td>\n",
       "      <td>39</td>\n",
       "      <td>5.0</td>\n",
       "      <td>0.00</td>\n",
       "      <td>2</td>\n",
       "      <td>1</td>\n",
       "      <td>0</td>\n",
       "      <td>96270.64</td>\n",
       "      <td>0</td>\n",
       "    </tr>\n",
       "    <tr>\n",
       "      <th>9996</th>\n",
       "      <td>516</td>\n",
       "      <td>France</td>\n",
       "      <td>Male</td>\n",
       "      <td>35</td>\n",
       "      <td>10.0</td>\n",
       "      <td>57369.61</td>\n",
       "      <td>1</td>\n",
       "      <td>1</td>\n",
       "      <td>1</td>\n",
       "      <td>101699.77</td>\n",
       "      <td>0</td>\n",
       "    </tr>\n",
       "    <tr>\n",
       "      <th>9997</th>\n",
       "      <td>709</td>\n",
       "      <td>France</td>\n",
       "      <td>Female</td>\n",
       "      <td>36</td>\n",
       "      <td>7.0</td>\n",
       "      <td>0.00</td>\n",
       "      <td>1</td>\n",
       "      <td>0</td>\n",
       "      <td>1</td>\n",
       "      <td>42085.58</td>\n",
       "      <td>1</td>\n",
       "    </tr>\n",
       "    <tr>\n",
       "      <th>9998</th>\n",
       "      <td>772</td>\n",
       "      <td>Germany</td>\n",
       "      <td>Male</td>\n",
       "      <td>42</td>\n",
       "      <td>3.0</td>\n",
       "      <td>75075.31</td>\n",
       "      <td>2</td>\n",
       "      <td>1</td>\n",
       "      <td>0</td>\n",
       "      <td>92888.52</td>\n",
       "      <td>1</td>\n",
       "    </tr>\n",
       "    <tr>\n",
       "      <th>9999</th>\n",
       "      <td>792</td>\n",
       "      <td>France</td>\n",
       "      <td>Female</td>\n",
       "      <td>28</td>\n",
       "      <td>5.0</td>\n",
       "      <td>130142.79</td>\n",
       "      <td>1</td>\n",
       "      <td>1</td>\n",
       "      <td>0</td>\n",
       "      <td>38190.78</td>\n",
       "      <td>0</td>\n",
       "    </tr>\n",
       "  </tbody>\n",
       "</table>\n",
       "<p>10000 rows × 11 columns</p>\n",
       "</div>"
      ],
      "text/plain": [
       "      CreditScore Geography  Gender  Age  Tenure    Balance  NumOfProducts  \\\n",
       "0             619    France  Female   42     2.0       0.00              1   \n",
       "1             608     Spain  Female   41     1.0   83807.86              1   \n",
       "2             502    France  Female   42     8.0  159660.80              3   \n",
       "3             699    France  Female   39     1.0       0.00              2   \n",
       "4             850     Spain  Female   43     2.0  125510.82              1   \n",
       "...           ...       ...     ...  ...     ...        ...            ...   \n",
       "9995          771    France    Male   39     5.0       0.00              2   \n",
       "9996          516    France    Male   35    10.0   57369.61              1   \n",
       "9997          709    France  Female   36     7.0       0.00              1   \n",
       "9998          772   Germany    Male   42     3.0   75075.31              2   \n",
       "9999          792    France  Female   28     5.0  130142.79              1   \n",
       "\n",
       "      HasCrCard  IsActiveMember  EstimatedSalary  Exited  \n",
       "0             1               1        101348.88       1  \n",
       "1             0               1        112542.58       0  \n",
       "2             1               0        113931.57       1  \n",
       "3             0               0         93826.63       0  \n",
       "4             1               1         79084.10       0  \n",
       "...         ...             ...              ...     ...  \n",
       "9995          1               0         96270.64       0  \n",
       "9996          1               1        101699.77       0  \n",
       "9997          0               1         42085.58       1  \n",
       "9998          1               0         92888.52       1  \n",
       "9999          1               0         38190.78       0  \n",
       "\n",
       "[10000 rows x 11 columns]"
      ]
     },
     "execution_count": 217,
     "metadata": {},
     "output_type": "execute_result"
    }
   ],
   "source": [
    "data_good = data.drop(['RowNumber', 'CustomerId', 'Surname'], axis=1)\n",
    "data_good"
   ]
  },
  {
   "cell_type": "markdown",
   "metadata": {},
   "source": [
    "Произведем замену категориальных признаком методом OHE, что бы не попасть в дамми ловушку, будет удалять избыточные стобцы."
   ]
  },
  {
   "cell_type": "code",
   "execution_count": 218,
   "metadata": {},
   "outputs": [
    {
     "data": {
      "text/html": [
       "<div>\n",
       "<style scoped>\n",
       "    .dataframe tbody tr th:only-of-type {\n",
       "        vertical-align: middle;\n",
       "    }\n",
       "\n",
       "    .dataframe tbody tr th {\n",
       "        vertical-align: top;\n",
       "    }\n",
       "\n",
       "    .dataframe thead th {\n",
       "        text-align: right;\n",
       "    }\n",
       "</style>\n",
       "<table border=\"1\" class=\"dataframe\">\n",
       "  <thead>\n",
       "    <tr style=\"text-align: right;\">\n",
       "      <th></th>\n",
       "      <th>CreditScore</th>\n",
       "      <th>Age</th>\n",
       "      <th>Tenure</th>\n",
       "      <th>Balance</th>\n",
       "      <th>NumOfProducts</th>\n",
       "      <th>HasCrCard</th>\n",
       "      <th>IsActiveMember</th>\n",
       "      <th>EstimatedSalary</th>\n",
       "      <th>Exited</th>\n",
       "      <th>Geography_Germany</th>\n",
       "      <th>Geography_Spain</th>\n",
       "      <th>Gender_Male</th>\n",
       "    </tr>\n",
       "  </thead>\n",
       "  <tbody>\n",
       "    <tr>\n",
       "      <th>0</th>\n",
       "      <td>619</td>\n",
       "      <td>42</td>\n",
       "      <td>2.0</td>\n",
       "      <td>0.00</td>\n",
       "      <td>1</td>\n",
       "      <td>1</td>\n",
       "      <td>1</td>\n",
       "      <td>101348.88</td>\n",
       "      <td>1</td>\n",
       "      <td>0</td>\n",
       "      <td>0</td>\n",
       "      <td>0</td>\n",
       "    </tr>\n",
       "    <tr>\n",
       "      <th>1</th>\n",
       "      <td>608</td>\n",
       "      <td>41</td>\n",
       "      <td>1.0</td>\n",
       "      <td>83807.86</td>\n",
       "      <td>1</td>\n",
       "      <td>0</td>\n",
       "      <td>1</td>\n",
       "      <td>112542.58</td>\n",
       "      <td>0</td>\n",
       "      <td>0</td>\n",
       "      <td>1</td>\n",
       "      <td>0</td>\n",
       "    </tr>\n",
       "    <tr>\n",
       "      <th>2</th>\n",
       "      <td>502</td>\n",
       "      <td>42</td>\n",
       "      <td>8.0</td>\n",
       "      <td>159660.80</td>\n",
       "      <td>3</td>\n",
       "      <td>1</td>\n",
       "      <td>0</td>\n",
       "      <td>113931.57</td>\n",
       "      <td>1</td>\n",
       "      <td>0</td>\n",
       "      <td>0</td>\n",
       "      <td>0</td>\n",
       "    </tr>\n",
       "    <tr>\n",
       "      <th>3</th>\n",
       "      <td>699</td>\n",
       "      <td>39</td>\n",
       "      <td>1.0</td>\n",
       "      <td>0.00</td>\n",
       "      <td>2</td>\n",
       "      <td>0</td>\n",
       "      <td>0</td>\n",
       "      <td>93826.63</td>\n",
       "      <td>0</td>\n",
       "      <td>0</td>\n",
       "      <td>0</td>\n",
       "      <td>0</td>\n",
       "    </tr>\n",
       "    <tr>\n",
       "      <th>4</th>\n",
       "      <td>850</td>\n",
       "      <td>43</td>\n",
       "      <td>2.0</td>\n",
       "      <td>125510.82</td>\n",
       "      <td>1</td>\n",
       "      <td>1</td>\n",
       "      <td>1</td>\n",
       "      <td>79084.10</td>\n",
       "      <td>0</td>\n",
       "      <td>0</td>\n",
       "      <td>1</td>\n",
       "      <td>0</td>\n",
       "    </tr>\n",
       "    <tr>\n",
       "      <th>...</th>\n",
       "      <td>...</td>\n",
       "      <td>...</td>\n",
       "      <td>...</td>\n",
       "      <td>...</td>\n",
       "      <td>...</td>\n",
       "      <td>...</td>\n",
       "      <td>...</td>\n",
       "      <td>...</td>\n",
       "      <td>...</td>\n",
       "      <td>...</td>\n",
       "      <td>...</td>\n",
       "      <td>...</td>\n",
       "    </tr>\n",
       "    <tr>\n",
       "      <th>9995</th>\n",
       "      <td>771</td>\n",
       "      <td>39</td>\n",
       "      <td>5.0</td>\n",
       "      <td>0.00</td>\n",
       "      <td>2</td>\n",
       "      <td>1</td>\n",
       "      <td>0</td>\n",
       "      <td>96270.64</td>\n",
       "      <td>0</td>\n",
       "      <td>0</td>\n",
       "      <td>0</td>\n",
       "      <td>1</td>\n",
       "    </tr>\n",
       "    <tr>\n",
       "      <th>9996</th>\n",
       "      <td>516</td>\n",
       "      <td>35</td>\n",
       "      <td>10.0</td>\n",
       "      <td>57369.61</td>\n",
       "      <td>1</td>\n",
       "      <td>1</td>\n",
       "      <td>1</td>\n",
       "      <td>101699.77</td>\n",
       "      <td>0</td>\n",
       "      <td>0</td>\n",
       "      <td>0</td>\n",
       "      <td>1</td>\n",
       "    </tr>\n",
       "    <tr>\n",
       "      <th>9997</th>\n",
       "      <td>709</td>\n",
       "      <td>36</td>\n",
       "      <td>7.0</td>\n",
       "      <td>0.00</td>\n",
       "      <td>1</td>\n",
       "      <td>0</td>\n",
       "      <td>1</td>\n",
       "      <td>42085.58</td>\n",
       "      <td>1</td>\n",
       "      <td>0</td>\n",
       "      <td>0</td>\n",
       "      <td>0</td>\n",
       "    </tr>\n",
       "    <tr>\n",
       "      <th>9998</th>\n",
       "      <td>772</td>\n",
       "      <td>42</td>\n",
       "      <td>3.0</td>\n",
       "      <td>75075.31</td>\n",
       "      <td>2</td>\n",
       "      <td>1</td>\n",
       "      <td>0</td>\n",
       "      <td>92888.52</td>\n",
       "      <td>1</td>\n",
       "      <td>1</td>\n",
       "      <td>0</td>\n",
       "      <td>1</td>\n",
       "    </tr>\n",
       "    <tr>\n",
       "      <th>9999</th>\n",
       "      <td>792</td>\n",
       "      <td>28</td>\n",
       "      <td>5.0</td>\n",
       "      <td>130142.79</td>\n",
       "      <td>1</td>\n",
       "      <td>1</td>\n",
       "      <td>0</td>\n",
       "      <td>38190.78</td>\n",
       "      <td>0</td>\n",
       "      <td>0</td>\n",
       "      <td>0</td>\n",
       "      <td>0</td>\n",
       "    </tr>\n",
       "  </tbody>\n",
       "</table>\n",
       "<p>10000 rows × 12 columns</p>\n",
       "</div>"
      ],
      "text/plain": [
       "      CreditScore  Age  Tenure    Balance  NumOfProducts  HasCrCard  \\\n",
       "0             619   42     2.0       0.00              1          1   \n",
       "1             608   41     1.0   83807.86              1          0   \n",
       "2             502   42     8.0  159660.80              3          1   \n",
       "3             699   39     1.0       0.00              2          0   \n",
       "4             850   43     2.0  125510.82              1          1   \n",
       "...           ...  ...     ...        ...            ...        ...   \n",
       "9995          771   39     5.0       0.00              2          1   \n",
       "9996          516   35    10.0   57369.61              1          1   \n",
       "9997          709   36     7.0       0.00              1          0   \n",
       "9998          772   42     3.0   75075.31              2          1   \n",
       "9999          792   28     5.0  130142.79              1          1   \n",
       "\n",
       "      IsActiveMember  EstimatedSalary  Exited  Geography_Germany  \\\n",
       "0                  1        101348.88       1                  0   \n",
       "1                  1        112542.58       0                  0   \n",
       "2                  0        113931.57       1                  0   \n",
       "3                  0         93826.63       0                  0   \n",
       "4                  1         79084.10       0                  0   \n",
       "...              ...              ...     ...                ...   \n",
       "9995               0         96270.64       0                  0   \n",
       "9996               1        101699.77       0                  0   \n",
       "9997               1         42085.58       1                  0   \n",
       "9998               0         92888.52       1                  1   \n",
       "9999               0         38190.78       0                  0   \n",
       "\n",
       "      Geography_Spain  Gender_Male  \n",
       "0                   0            0  \n",
       "1                   1            0  \n",
       "2                   0            0  \n",
       "3                   0            0  \n",
       "4                   1            0  \n",
       "...               ...          ...  \n",
       "9995                0            1  \n",
       "9996                0            1  \n",
       "9997                0            0  \n",
       "9998                0            1  \n",
       "9999                0            0  \n",
       "\n",
       "[10000 rows x 12 columns]"
      ]
     },
     "execution_count": 218,
     "metadata": {},
     "output_type": "execute_result"
    }
   ],
   "source": [
    "data_d = pd.get_dummies(data_good, columns=['Geography', 'Gender'], drop_first=True)\n",
    "data_d"
   ]
  },
  {
   "cell_type": "markdown",
   "metadata": {},
   "source": [
    "В столбцах *Balance* и *EstimatedSalary* видим большой разброс значений, для более точной работы модели произведем масшитабирование данных признаков."
   ]
  },
  {
   "cell_type": "markdown",
   "metadata": {},
   "source": [
    "В конце главы, разобьем исходную выборку на учебную, валидативную и тестовую. В соотношении: 60/20/20."
   ]
  },
  {
   "cell_type": "code",
   "execution_count": 219,
   "metadata": {},
   "outputs": [
    {
     "name": "stdout",
     "output_type": "stream",
     "text": [
      "Тренировочная база: (6000, 11) (6000,)\n",
      "Валидная база: (2000, 11) (2000,)\n",
      "Тестовая база: (2000, 11) (2000,)\n"
     ]
    }
   ],
   "source": [
    "features = data_d.drop(['Exited'], axis=1)\n",
    "target = data_d['Exited']\n",
    "\n",
    "features_train, features_valid, target_train, target_valid = train_test_split(features, target,\n",
    "                                                                               test_size=0.2, random_state=1234)\n",
    "features_train, features_test, target_train, target_test = train_test_split(features_train, target_train,\n",
    "                                                                               test_size=0.25, random_state=1234)\n",
    "print('Тренировочная база:', features_train.shape, target_train.shape)\n",
    "print('Валидная база:', features_valid.shape, target_valid.shape)\n",
    "print('Тестовая база:', features_test.shape, target_test.shape)"
   ]
  },
  {
   "cell_type": "code",
   "execution_count": 220,
   "metadata": {},
   "outputs": [],
   "source": [
    "numeric = ['Balance', 'EstimatedSalary']\n",
    "pd.options.mode.chained_assignment=None\n",
    "\n",
    "scaler = StandardScaler()\n",
    "scaler.fit(features_train[numeric])\n",
    "features_train[numeric] = scaler.transform(features_train[numeric])\n",
    "features_valid[numeric] = scaler.transform(features_valid[numeric])\n",
    "features_test[numeric] = scaler.transform(features_test[numeric])"
   ]
  },
  {
   "cell_type": "markdown",
   "metadata": {},
   "source": [
    "### Вывод главы 1"
   ]
  },
  {
   "cell_type": "markdown",
   "metadata": {},
   "source": [
    "В данной главе работы была произведена загрузка необзодимых библиотек и вводных данных. Данные были иссследованы, было выявлено, что для дальнейшей работы необходимо было сделать (и было сделано):\n",
    "\n",
    "1. Заполнить пропуски в столбце *Tenure*;\n",
    "2. Удалить не информативные для нашей работы столбцы;\n",
    "3. Произвести масштабирование признаков;\n",
    "4. Рабить исходную выборку на учебную, валидативную и тестовую."
   ]
  },
  {
   "cell_type": "markdown",
   "metadata": {},
   "source": [
    "## Исследование задачи"
   ]
  },
  {
   "cell_type": "markdown",
   "metadata": {},
   "source": [
    "Выясним, как представлены классы в учебной выборке, считая, что примерно такое же соотношение будет и в других выборках."
   ]
  },
  {
   "cell_type": "code",
   "execution_count": 221,
   "metadata": {},
   "outputs": [
    {
     "name": "stdout",
     "output_type": "stream",
     "text": [
      "0.25654450261780104\n"
     ]
    }
   ],
   "source": [
    "print(target_train[target_train==1].count() / target_train[target_train==0].count())"
   ]
  },
  {
   "cell_type": "code",
   "execution_count": 222,
   "metadata": {},
   "outputs": [
    {
     "data": {
      "text/plain": [
       "<AxesSubplot:title={'center':'Распределение классов в процентах'}>"
      ]
     },
     "execution_count": 222,
     "metadata": {},
     "output_type": "execute_result"
    },
    {
     "data": {
      "image/png": "[encoded data removed]",
      "text/plain": [
       "<Figure size 432x288 with 1 Axes>"
      ]
     },
     "metadata": {
      "needs_background": "light"
     },
     "output_type": "display_data"
    }
   ],
   "source": [
    "target_train.value_counts(normalize=True).plot(kind='bar', grid=True, title='Распределение классов в процентах')"
   ]
  },
  {
   "cell_type": "markdown",
   "metadata": {},
   "source": [
    "В соотношение классов присутствует вный дисбаланс. Для более точного предстаказания моделей будет необходимо данные дисбаланс убрать, однако в данный главе мы его проигнорируем и попробуем получить требуемое значение метрики качества модели."
   ]
  },
  {
   "cell_type": "markdown",
   "metadata": {},
   "source": [
    "Подготовим ряд функций, для улучшения читаемости кода."
   ]
  },
  {
   "cell_type": "code",
   "execution_count": 223,
   "metadata": {},
   "outputs": [],
   "source": [
    "def ar(model, f_valid=features_valid, t_valid=target_valid):\n",
    "    probabilities_valid = model.predict_proba(f_valid)\n",
    "    probabilities_one_valid = probabilities_valid[:, 1]\n",
    "    auc_roc = roc_auc_score(t_valid, probabilities_one_valid)\n",
    "    return auc_roc\n",
    "\n",
    "def lern(model, f_train=features_train, t_train=target_train, f_valid=features_valid, t_valid=target_valid):\n",
    "    model.fit(f_train, t_train)\n",
    "    f1 = f1_score(t_valid, model.predict(f_valid))\n",
    "    auc_roc = ar(model)\n",
    "    return [f1, auc_roc]"
   ]
  },
  {
   "cell_type": "markdown",
   "metadata": {},
   "source": [
    "Создадим структуру данных, для хранение результатов моделей."
   ]
  },
  {
   "cell_type": "code",
   "execution_count": 224,
   "metadata": {},
   "outputs": [],
   "source": [
    "list_score = []\n",
    "list_model = []"
   ]
  },
  {
   "cell_type": "markdown",
   "metadata": {},
   "source": [
    "Воспользуемся моделью линейной регресси."
   ]
  },
  {
   "cell_type": "code",
   "execution_count": 225,
   "metadata": {},
   "outputs": [
    {
     "name": "stdout",
     "output_type": "stream",
     "text": [
      "F1: 0.3175182481751825\n",
      "Auc_Roc: 0.7577492602284122\n"
     ]
    }
   ],
   "source": [
    "model = LogisticRegression(solver='liblinear', random_state=12345)\n",
    "score = lern(model)\n",
    "list_score.append(score)\n",
    "list_model.append('L_Regression_non_balance')\n",
    "print('F1:', score[0])\n",
    "print('Auc_Roc:', score[1])"
   ]
  },
  {
   "cell_type": "markdown",
   "metadata": {},
   "source": [
    "Далее, перейдем к модели решающего дерева. Через цикл найдем наиболее оптимальную глубину дерева."
   ]
  },
  {
   "cell_type": "code",
   "execution_count": 226,
   "metadata": {},
   "outputs": [
    {
     "name": "stdout",
     "output_type": "stream",
     "text": [
      "Лучшая метрика F1 0.5660377358490565\n",
      "Лучшая метрика Auc_Roc: 0.8170998813919934\n",
      "Параметры модели - глубина: 8\n"
     ]
    }
   ],
   "source": [
    "good_f = 0\n",
    "good_d = 0\n",
    "good_ar = 0\n",
    "\n",
    "for depth in range(1,20,1):\n",
    "    model = DecisionTreeClassifier(max_depth=depth, random_state=12345)\n",
    "    score = lern(model)\n",
    "    \n",
    "    if score[0] > good_f:\n",
    "        good_f = score[0]\n",
    "        good_d = depth\n",
    "        good_ar = score[1]\n",
    "\n",
    "print('Лучшая метрика F1', good_f)\n",
    "print('Лучшая метрика Auc_Roc:', good_ar)\n",
    "print('Параметры модели - глубина:', good_d)\n",
    "\n",
    "list_score.append([good_f, good_ar])\n",
    "list_model.append('Tree_non_balance')"
   ]
  },
  {
   "cell_type": "markdown",
   "metadata": {},
   "source": [
    "И под конец, модель рандомного леса."
   ]
  },
  {
   "cell_type": "code",
   "execution_count": 227,
   "metadata": {},
   "outputs": [
    {
     "name": "stdout",
     "output_type": "stream",
     "text": [
      "Лучшая метрика F1 0.5800604229607251\n",
      "Лучшая метрика Auc_Roc: 0.8456521606221419\n",
      "Параметры модели - глубина и число деревьев: 8 13\n"
     ]
    }
   ],
   "source": [
    "good_f = 0\n",
    "good_d = 0\n",
    "good_e = 0\n",
    "good_ar = 0\n",
    "\n",
    "for depth in range(1,11,1):\n",
    "    for est in range(1, 20, 1):\n",
    "        model = RandomForestClassifier(max_depth=depth, n_estimators=est, random_state=12345)\n",
    "        score = lern(model)\n",
    "        \n",
    "        if score[0] > good_f:\n",
    "            good_f = score[0]\n",
    "            good_d = depth\n",
    "            good_e = est\n",
    "            good_ar = score[1]\n",
    "            \n",
    "print('Лучшая метрика F1', good_f)\n",
    "print('Лучшая метрика Auc_Roc:', good_ar)\n",
    "print('Параметры модели - глубина и число деревьев:', good_d, good_e)\n",
    "\n",
    "list_score.append([good_f, good_ar])\n",
    "list_model.append('Forest_non_balance')"
   ]
  },
  {
   "cell_type": "markdown",
   "metadata": {},
   "source": [
    "### Вывод главы 2"
   ]
  },
  {
   "cell_type": "markdown",
   "metadata": {},
   "source": [
    "Из работы моделей видно, что при наличии дисбаланса классов получить требуемое значение метрики f1 не представляется возможным. максимальное значение получено для модели случайного леса и равно 0.58 при требуемом минимуме 0.59.\n",
    "\n",
    "Для достижение цели необходимо учесть дисбаланс классов."
   ]
  },
  {
   "cell_type": "markdown",
   "metadata": {},
   "source": [
    "## Борьба с дисбалансом"
   ]
  },
  {
   "cell_type": "markdown",
   "metadata": {},
   "source": [
    "Дисбаланс классов будем компенсировать двумя способами:\n",
    "\n",
    "1. Передавать в модели параметр **class_weight='balanced'** для введения веса классов;\n",
    "2. Прозиведем upsample учебной выборки, получив соотновешие классов примерно 1:1.\n",
    "\n",
    "Начнём с введения веса для классов."
   ]
  },
  {
   "cell_type": "markdown",
   "metadata": {},
   "source": [
    "Первой, обучим модель логической регресии."
   ]
  },
  {
   "cell_type": "code",
   "execution_count": 228,
   "metadata": {},
   "outputs": [
    {
     "name": "stdout",
     "output_type": "stream",
     "text": [
      "F1: 0.48555956678700357\n",
      "Auc_Roc: 0.7629597588711452\n"
     ]
    }
   ],
   "source": [
    "model = LogisticRegression(solver='liblinear', random_state=12345, class_weight='balanced')\n",
    "score = lern(model)\n",
    "list_score.append(score)\n",
    "list_model.append('L_Regression_class_weight')\n",
    "\n",
    "print('F1:', score[0])\n",
    "print('Auc_Roc:', score[1])"
   ]
  },
  {
   "cell_type": "markdown",
   "metadata": {},
   "source": [
    "Далее, модель решающего дерева."
   ]
  },
  {
   "cell_type": "code",
   "execution_count": 229,
   "metadata": {},
   "outputs": [
    {
     "name": "stdout",
     "output_type": "stream",
     "text": [
      "Лучшая метрика F1 0.5853174603174603\n",
      "Лучшая метрика Auc_Roc: 0.8146543554816463\n",
      "Параметры модели - глубина: 7\n"
     ]
    }
   ],
   "source": [
    "good_f = 0\n",
    "good_d = 0\n",
    "good_ar = 0\n",
    "for depth in range(1,20,1):\n",
    "    model = DecisionTreeClassifier(max_depth=depth, random_state=12345, class_weight='balanced')\n",
    "    score = lern(model)\n",
    "    \n",
    "    if score[0] > good_f:\n",
    "        good_f = score[0]\n",
    "        good_d = depth\n",
    "        good_ar = score[1]\n",
    "        \n",
    "print('Лучшая метрика F1', good_f)\n",
    "print('Лучшая метрика Auc_Roc:', good_ar)\n",
    "print('Параметры модели - глубина:', good_d)\n",
    "\n",
    "list_score.append([good_f, good_ar])\n",
    "list_model.append('Tree_class_weight')"
   ]
  },
  {
   "cell_type": "markdown",
   "metadata": {},
   "source": [
    "И, наконец, модель случайного леса."
   ]
  },
  {
   "cell_type": "code",
   "execution_count": 230,
   "metadata": {},
   "outputs": [
    {
     "name": "stdout",
     "output_type": "stream",
     "text": [
      "Лучшая метрика F1 0.616061606160616\n",
      "Лучшая метрика Auc_Roc: 0.8466953302682741\n",
      "Параметры модели - глубина и число деревьев: 7 16\n"
     ]
    }
   ],
   "source": [
    "good_f = 0\n",
    "good_d = 0\n",
    "good_e = 0\n",
    "good_ar = 0\n",
    "\n",
    "for depth in range(1,11,1):\n",
    "    for est in range(1, 20, 1):\n",
    "        model = RandomForestClassifier(max_depth=depth, n_estimators=est, random_state=12345, class_weight='balanced')\n",
    "        score = lern(model)\n",
    "        \n",
    "        if score[0] > good_f:\n",
    "            good_f = score[0]\n",
    "            good_d = depth\n",
    "            good_e = est\n",
    "            good_ar = score[1]\n",
    "\n",
    "print('Лучшая метрика F1', good_f)\n",
    "print('Лучшая метрика Auc_Roc:', good_ar)\n",
    "print('Параметры модели - глубина и число деревьев:', good_d, good_e)\n",
    "\n",
    "list_score.append([good_f, good_ar])\n",
    "list_model.append('Forest_class_weight')"
   ]
  },
  {
   "cell_type": "markdown",
   "metadata": {},
   "source": [
    "Теперь, создадим функцию, которая прозиведет upsample учебной выборки, что бы соотношение классов было примерно 1 к 1."
   ]
  },
  {
   "cell_type": "code",
   "execution_count": 231,
   "metadata": {},
   "outputs": [],
   "source": [
    "def upsample(features, target, repeat):\n",
    "    features_zeros = features[target == 0]\n",
    "    features_ones = features[target == 1]\n",
    "    target_zeros = target[target == 0]\n",
    "    target_ones = target[target == 1]\n",
    "\n",
    "    features_upsampled = pd.concat([features_zeros] + [features_ones] * repeat)\n",
    "    target_upsampled = pd.concat([target_zeros] + [target_ones] * repeat)\n",
    "    \n",
    "    features_upsampled, target_upsampled = shuffle(\n",
    "        features_upsampled, target_upsampled, random_state=12345)\n",
    "    \n",
    "    return features_upsampled, target_upsampled\n",
    "\n",
    "features_upsampled, target_upsampled = upsample(features_train, target_train, 4)"
   ]
  },
  {
   "cell_type": "markdown",
   "metadata": {},
   "source": [
    "И теперь обучим все те же модели, но уже без учета веса классов, но по измененным учебным выборкам."
   ]
  },
  {
   "cell_type": "code",
   "execution_count": 232,
   "metadata": {},
   "outputs": [
    {
     "name": "stdout",
     "output_type": "stream",
     "text": [
      "Лучшая метрика F1 0.6117908787541713\n",
      "Лучшая метрика Auc_Roc: 0.8503116517081999\n",
      "Параметры модели - глубина и число деревьев: 10 19\n"
     ]
    }
   ],
   "source": [
    "good_f = 0\n",
    "good_d = 0\n",
    "good_e = 0\n",
    "good_ar = 0\n",
    "\n",
    "for depth in range(1,11,1):\n",
    "    for est in range(1, 20, 1):\n",
    "        model = RandomForestClassifier(max_depth=depth, n_estimators=est, random_state=12345)\n",
    "        score = lern(model, f_train=features_upsampled, t_train=target_upsampled)\n",
    "\n",
    "        if score[0] > good_f:\n",
    "            good_f = score[0]\n",
    "            good_d = depth\n",
    "            good_e = est\n",
    "            good_ar = score[1]\n",
    "            \n",
    "print('Лучшая метрика F1', good_f)\n",
    "print('Лучшая метрика Auc_Roc:', good_ar)\n",
    "print('Параметры модели - глубина и число деревьев:', good_d, good_e)\n",
    "\n",
    "list_score.append([good_f, good_ar])\n",
    "list_model.append('Forest_upsamle')"
   ]
  },
  {
   "cell_type": "code",
   "execution_count": 233,
   "metadata": {},
   "outputs": [
    {
     "name": "stdout",
     "output_type": "stream",
     "text": [
      "F1: 0.48619768477292963\n",
      "Auc_Roc: 0.7631126042405421\n"
     ]
    }
   ],
   "source": [
    "model = LogisticRegression(solver='liblinear', random_state=12345)\n",
    "score = lern(model, f_train=features_upsampled, t_train=target_upsampled)\n",
    "\n",
    "print('F1:', score[0])\n",
    "print('Auc_Roc:', score[1])\n",
    "\n",
    "list_score.append(score)\n",
    "list_model.append('L_Regression_upsample')"
   ]
  },
  {
   "cell_type": "markdown",
   "metadata": {},
   "source": [
    "Модели обучены, результаты собраны. Создадим датафрейм с результатами, отсортируем из по величине f1 и тем самым, выберем лучшую модель."
   ]
  },
  {
   "cell_type": "code",
   "execution_count": 234,
   "metadata": {},
   "outputs": [
    {
     "data": {
      "text/html": [
       "<div>\n",
       "<style scoped>\n",
       "    .dataframe tbody tr th:only-of-type {\n",
       "        vertical-align: middle;\n",
       "    }\n",
       "\n",
       "    .dataframe tbody tr th {\n",
       "        vertical-align: top;\n",
       "    }\n",
       "\n",
       "    .dataframe thead th {\n",
       "        text-align: right;\n",
       "    }\n",
       "</style>\n",
       "<table border=\"1\" class=\"dataframe\">\n",
       "  <thead>\n",
       "    <tr style=\"text-align: right;\">\n",
       "      <th></th>\n",
       "      <th>f1</th>\n",
       "      <th>Auc_Roc</th>\n",
       "    </tr>\n",
       "  </thead>\n",
       "  <tbody>\n",
       "    <tr>\n",
       "      <th>Forest_class_weight</th>\n",
       "      <td>0.616062</td>\n",
       "      <td>0.846695</td>\n",
       "    </tr>\n",
       "    <tr>\n",
       "      <th>Forest_upsamle</th>\n",
       "      <td>0.611791</td>\n",
       "      <td>0.850312</td>\n",
       "    </tr>\n",
       "    <tr>\n",
       "      <th>Tree_class_weight</th>\n",
       "      <td>0.585317</td>\n",
       "      <td>0.814654</td>\n",
       "    </tr>\n",
       "    <tr>\n",
       "      <th>Forest_non_balance</th>\n",
       "      <td>0.580060</td>\n",
       "      <td>0.845652</td>\n",
       "    </tr>\n",
       "    <tr>\n",
       "      <th>Tree_non_balance</th>\n",
       "      <td>0.566038</td>\n",
       "      <td>0.817100</td>\n",
       "    </tr>\n",
       "    <tr>\n",
       "      <th>L_Regression_upsample</th>\n",
       "      <td>0.486198</td>\n",
       "      <td>0.763113</td>\n",
       "    </tr>\n",
       "    <tr>\n",
       "      <th>L_Regression_class_weight</th>\n",
       "      <td>0.485560</td>\n",
       "      <td>0.762960</td>\n",
       "    </tr>\n",
       "    <tr>\n",
       "      <th>L_Regression_non_balance</th>\n",
       "      <td>0.317518</td>\n",
       "      <td>0.757749</td>\n",
       "    </tr>\n",
       "  </tbody>\n",
       "</table>\n",
       "</div>"
      ],
      "text/plain": [
       "                                 f1   Auc_Roc\n",
       "Forest_class_weight        0.616062  0.846695\n",
       "Forest_upsamle             0.611791  0.850312\n",
       "Tree_class_weight          0.585317  0.814654\n",
       "Forest_non_balance         0.580060  0.845652\n",
       "Tree_non_balance           0.566038  0.817100\n",
       "L_Regression_upsample      0.486198  0.763113\n",
       "L_Regression_class_weight  0.485560  0.762960\n",
       "L_Regression_non_balance   0.317518  0.757749"
      ]
     },
     "execution_count": 234,
     "metadata": {},
     "output_type": "execute_result"
    }
   ],
   "source": [
    "result = pd.DataFrame(list_score, index=list_model, columns=['f1', 'Auc_Roc'])\n",
    "result.sort_values(by='f1', ascending=False)"
   ]
  },
  {
   "cell_type": "markdown",
   "metadata": {},
   "source": [
    "Как видно из таблицы, лучший результат показала модель случайного леса с сбалансированными классами методом upsample и гиперпараметрами: max_depth=10 , n_estimators=14. Тестированию подвергнем именно такую модель с такими параметрами."
   ]
  },
  {
   "cell_type": "markdown",
   "metadata": {},
   "source": [
    "### Выводы главы 3"
   ]
  },
  {
   "cell_type": "markdown",
   "metadata": {},
   "source": [
    "В главе 3 были получены оценки моделей, обученных с учетом дисбаланса классов. Дисбаланс классов нивелировался двумя способаи: придание весов классам и методом upsample. Итоговая таблица позваляет получить представление о качестве моделей с разными параметрами и способами учета дисбаланса классов."
   ]
  },
  {
   "cell_type": "markdown",
   "metadata": {},
   "source": [
    "## Тестирование модели"
   ]
  },
  {
   "cell_type": "markdown",
   "metadata": {},
   "source": [
    "Проведем тестирование модели случайного леса с гиперпараметрами, которые в проглой главе показали наибольшую метрику f1. Обучение модели будет производить на учебной выборке к которой применили метод upsample, для нивелирования дисбаланса классов. Првоерку будем осуществлять на тестовой выборке."
   ]
  },
  {
   "cell_type": "code",
   "execution_count": 235,
   "metadata": {},
   "outputs": [
    {
     "name": "stdout",
     "output_type": "stream",
     "text": [
      "F1: 0.6024636058230683\n",
      "Auc_roc: 0.8503116517081999\n"
     ]
    }
   ],
   "source": [
    "model = RandomForestClassifier(max_depth=10, n_estimators=19, random_state=12345)\n",
    "score = lern(model, f_train=features_upsampled, t_train=target_upsampled, f_valid=features_test, t_valid=target_test)\n",
    "print('F1:', score[0])\n",
    "print('Auc_roc:', score[1])"
   ]
  },
  {
   "cell_type": "markdown",
   "metadata": {},
   "source": [
    "Минимальной порог метрики пройдет, задание прокта выполнено."
   ]
  },
  {
   "cell_type": "markdown",
   "metadata": {},
   "source": [
    "### Выводы по проекту"
   ]
  },
  {
   "cell_type": "markdown",
   "metadata": {},
   "source": [
    "В ходе работы над проектом, были полученны исходные данные, которые были предварительно обработаны. Предобработка вклачала:\n",
    "\n",
    "1. Заполнение пропущенных значений медианой.\n",
    "2. Удаление неинформативных стобцов.\n",
    "3. Преобразование категориальных данных.\n",
    "4. Масштабирование признаков.\n",
    "5. Разбитие изходной выборки на учебную, валидативную и тренировочную.\n",
    "\n",
    "Далее, был проведет анализ моделей без учета дисбаланса классов. В ходе анализа, было показано, чтоб достичь требуемого порога метрики, не учитывая дисбаланс классов, невозможно.\n",
    "\n",
    "Следом, были применены два метода нивелирования дисбаланса классов:\n",
    "\n",
    "1. Придание классам веса;\n",
    "2. Приведение соотношение классов к значение, близкому как 1 к 1 методом upsample.\n",
    "\n",
    "В ходе применения методов были обучены модели и свормирована сводная таблица, показывающая значение метрики f1 для всех расмотренных моделей (и их наилучших гиперпараметров). На основе таблицы была выбрана модель (его гиперпараметры и учет дисбаланса классов) с наилучшей метрикой f1.\n",
    "\n",
    "В конце работы, было проведено тестирование модели - минимальный порог метрики пройден."
   ]
  },
  {
   "cell_type": "code",
   "execution_count": null,
   "metadata": {},
   "outputs": [],
   "source": []
  }
 ],
 "metadata": {
  "ExecuteTimeLog": [
   {
    "duration": 1520,
    "start_time": "2022-03-16T18:28:36.986Z"
   },
   {
    "duration": 79,
    "start_time": "2022-03-16T18:29:04.117Z"
   },
   {
    "duration": 12,
    "start_time": "2022-03-16T18:30:24.711Z"
   },
   {
    "duration": 9,
    "start_time": "2022-03-16T18:30:47.591Z"
   },
   {
    "duration": 8,
    "start_time": "2022-03-16T18:31:17.282Z"
   },
   {
    "duration": 12,
    "start_time": "2022-03-16T18:38:27.792Z"
   },
   {
    "duration": 14,
    "start_time": "2022-03-16T18:38:41.303Z"
   },
   {
    "duration": 13,
    "start_time": "2022-03-16T18:38:50.523Z"
   },
   {
    "duration": 434,
    "start_time": "2022-03-16T18:39:50.827Z"
   },
   {
    "duration": 32,
    "start_time": "2022-03-16T18:39:57.927Z"
   },
   {
    "duration": 48,
    "start_time": "2022-03-16T18:41:12.070Z"
   },
   {
    "duration": 20,
    "start_time": "2022-03-16T18:49:56.840Z"
   },
   {
    "duration": 4,
    "start_time": "2022-03-16T19:00:05.371Z"
   },
   {
    "duration": 52,
    "start_time": "2022-03-16T19:00:05.377Z"
   },
   {
    "duration": 11,
    "start_time": "2022-03-16T19:00:05.432Z"
   },
   {
    "duration": 17,
    "start_time": "2022-03-16T19:00:05.446Z"
   },
   {
    "duration": 21,
    "start_time": "2022-03-16T19:00:05.465Z"
   },
   {
    "duration": 16,
    "start_time": "2022-03-16T19:00:05.488Z"
   },
   {
    "duration": 29,
    "start_time": "2022-03-16T19:00:05.506Z"
   },
   {
    "duration": 76,
    "start_time": "2022-03-16T19:00:05.538Z"
   },
   {
    "duration": 35,
    "start_time": "2022-03-16T19:00:05.618Z"
   },
   {
    "duration": 38,
    "start_time": "2022-03-16T19:00:05.656Z"
   },
   {
    "duration": 268,
    "start_time": "2022-03-16T19:00:05.697Z"
   },
   {
    "duration": 57,
    "start_time": "2022-03-16T19:00:59.848Z"
   },
   {
    "duration": 9,
    "start_time": "2022-03-16T19:01:16.944Z"
   },
   {
    "duration": 10,
    "start_time": "2022-03-16T19:01:46.136Z"
   },
   {
    "duration": 10,
    "start_time": "2022-03-16T19:02:02.001Z"
   },
   {
    "duration": 7,
    "start_time": "2022-03-16T19:02:20.989Z"
   },
   {
    "duration": 7,
    "start_time": "2022-03-16T19:02:25.742Z"
   },
   {
    "duration": 47,
    "start_time": "2022-03-16T19:05:05.268Z"
   },
   {
    "duration": 48,
    "start_time": "2022-03-16T19:05:05.318Z"
   },
   {
    "duration": 20,
    "start_time": "2022-03-16T19:05:05.369Z"
   },
   {
    "duration": 19,
    "start_time": "2022-03-16T19:05:05.393Z"
   },
   {
    "duration": 7,
    "start_time": "2022-03-16T19:05:05.414Z"
   },
   {
    "duration": 16,
    "start_time": "2022-03-16T19:05:05.424Z"
   },
   {
    "duration": 56,
    "start_time": "2022-03-16T19:05:05.442Z"
   },
   {
    "duration": 40,
    "start_time": "2022-03-16T19:05:05.501Z"
   },
   {
    "duration": 55,
    "start_time": "2022-03-16T19:05:05.545Z"
   },
   {
    "duration": 18,
    "start_time": "2022-03-16T19:05:05.603Z"
   },
   {
    "duration": 237,
    "start_time": "2022-03-16T19:07:11.879Z"
   },
   {
    "duration": 252,
    "start_time": "2022-03-16T19:07:21.721Z"
   },
   {
    "duration": 50,
    "start_time": "2022-03-16T19:08:49.504Z"
   },
   {
    "duration": 18,
    "start_time": "2022-03-16T19:09:09.553Z"
   },
   {
    "duration": 165,
    "start_time": "2022-03-16T19:09:11.724Z"
   },
   {
    "duration": 92,
    "start_time": "2022-03-16T19:11:48.715Z"
   },
   {
    "duration": 277,
    "start_time": "2022-03-16T19:11:52.330Z"
   },
   {
    "duration": 6,
    "start_time": "2022-03-16T19:13:20.262Z"
   },
   {
    "duration": 787,
    "start_time": "2022-03-16T19:13:31.026Z"
   },
   {
    "duration": 6,
    "start_time": "2022-03-16T19:14:11.127Z"
   },
   {
    "duration": 75,
    "start_time": "2022-03-16T19:15:48.673Z"
   },
   {
    "duration": 4255,
    "start_time": "2022-03-16T19:15:52.324Z"
   },
   {
    "duration": 70,
    "start_time": "2022-03-16T19:17:56.206Z"
   },
   {
    "duration": 100,
    "start_time": "2022-03-16T19:18:08.990Z"
   },
   {
    "duration": 72,
    "start_time": "2022-03-16T19:18:28.172Z"
   },
   {
    "duration": 74,
    "start_time": "2022-03-16T19:18:31.204Z"
   },
   {
    "duration": 73,
    "start_time": "2022-03-16T19:18:35.898Z"
   },
   {
    "duration": 79,
    "start_time": "2022-03-16T19:19:02.220Z"
   },
   {
    "duration": 81,
    "start_time": "2022-03-16T19:19:05.321Z"
   },
   {
    "duration": 91,
    "start_time": "2022-03-16T19:19:10.759Z"
   },
   {
    "duration": 75,
    "start_time": "2022-03-16T19:19:15.673Z"
   },
   {
    "duration": 4,
    "start_time": "2022-03-16T19:19:29.384Z"
   },
   {
    "duration": 47,
    "start_time": "2022-03-16T19:19:29.391Z"
   },
   {
    "duration": 10,
    "start_time": "2022-03-16T19:19:29.441Z"
   },
   {
    "duration": 10,
    "start_time": "2022-03-16T19:19:29.482Z"
   },
   {
    "duration": 15,
    "start_time": "2022-03-16T19:19:29.494Z"
   },
   {
    "duration": 15,
    "start_time": "2022-03-16T19:19:29.512Z"
   },
   {
    "duration": 68,
    "start_time": "2022-03-16T19:19:29.530Z"
   },
   {
    "duration": 41,
    "start_time": "2022-03-16T19:19:29.602Z"
   },
   {
    "duration": 63,
    "start_time": "2022-03-16T19:19:29.646Z"
   },
   {
    "duration": 16,
    "start_time": "2022-03-16T19:19:29.711Z"
   },
   {
    "duration": 157,
    "start_time": "2022-03-16T19:19:29.730Z"
   },
   {
    "duration": 667,
    "start_time": "2022-03-16T19:19:29.890Z"
   },
   {
    "duration": 73,
    "start_time": "2022-03-16T19:19:30.560Z"
   },
   {
    "duration": 86,
    "start_time": "2022-03-16T19:20:32.033Z"
   },
   {
    "duration": 3672,
    "start_time": "2022-03-16T19:20:35.480Z"
   },
   {
    "duration": 254,
    "start_time": "2022-03-16T19:31:21.414Z"
   },
   {
    "duration": 54,
    "start_time": "2022-03-16T19:31:29.964Z"
   },
   {
    "duration": 638,
    "start_time": "2022-03-16T19:32:23.452Z"
   },
   {
    "duration": 546,
    "start_time": "2022-03-16T19:32:38.125Z"
   },
   {
    "duration": 594,
    "start_time": "2022-03-16T19:33:21.799Z"
   },
   {
    "duration": 3810,
    "start_time": "2022-03-16T19:33:49.547Z"
   },
   {
    "duration": 68,
    "start_time": "2022-03-16T19:34:35.459Z"
   },
   {
    "duration": 50,
    "start_time": "2022-03-16T19:34:48.330Z"
   },
   {
    "duration": 7006,
    "start_time": "2022-03-16T19:34:59.017Z"
   },
   {
    "duration": 86,
    "start_time": "2022-03-16T19:35:12.041Z"
   },
   {
    "duration": 21,
    "start_time": "2022-03-16T19:39:38.756Z"
   },
   {
    "duration": 9579,
    "start_time": "2022-03-16T19:40:05.388Z"
   },
   {
    "duration": 111,
    "start_time": "2022-03-16T19:40:47.947Z"
   },
   {
    "duration": 148,
    "start_time": "2022-03-16T19:41:26.738Z"
   },
   {
    "duration": 12866,
    "start_time": "2022-03-16T19:42:11.916Z"
   },
   {
    "duration": 96,
    "start_time": "2022-03-16T19:42:32.688Z"
   },
   {
    "duration": 120,
    "start_time": "2022-03-16T19:42:48.282Z"
   },
   {
    "duration": 113,
    "start_time": "2022-03-16T19:42:57.936Z"
   },
   {
    "duration": 115,
    "start_time": "2022-03-16T19:43:00.347Z"
   },
   {
    "duration": 5,
    "start_time": "2022-03-16T19:43:05.402Z"
   },
   {
    "duration": 49,
    "start_time": "2022-03-16T19:43:05.410Z"
   },
   {
    "duration": 18,
    "start_time": "2022-03-16T19:43:05.464Z"
   },
   {
    "duration": 9,
    "start_time": "2022-03-16T19:43:05.486Z"
   },
   {
    "duration": 9,
    "start_time": "2022-03-16T19:43:05.497Z"
   },
   {
    "duration": 15,
    "start_time": "2022-03-16T19:43:05.508Z"
   },
   {
    "duration": 67,
    "start_time": "2022-03-16T19:43:05.525Z"
   },
   {
    "duration": 44,
    "start_time": "2022-03-16T19:43:05.596Z"
   },
   {
    "duration": 60,
    "start_time": "2022-03-16T19:43:05.643Z"
   },
   {
    "duration": 18,
    "start_time": "2022-03-16T19:43:05.707Z"
   },
   {
    "duration": 159,
    "start_time": "2022-03-16T19:43:05.728Z"
   },
   {
    "duration": 653,
    "start_time": "2022-03-16T19:43:05.890Z"
   },
   {
    "duration": 3858,
    "start_time": "2022-03-16T19:43:06.546Z"
   },
   {
    "duration": 95,
    "start_time": "2022-03-16T19:43:10.407Z"
   },
   {
    "duration": 696,
    "start_time": "2022-03-16T19:43:10.583Z"
   },
   {
    "duration": 7000,
    "start_time": "2022-03-16T19:43:11.283Z"
   },
   {
    "duration": 20,
    "start_time": "2022-03-16T19:43:18.285Z"
   },
   {
    "duration": 9424,
    "start_time": "2022-03-16T19:43:18.307Z"
   },
   {
    "duration": 248,
    "start_time": "2022-03-16T19:43:27.734Z"
   },
   {
    "duration": 120,
    "start_time": "2022-03-16T19:43:27.984Z"
   },
   {
    "duration": 4,
    "start_time": "2022-03-16T19:44:04.654Z"
   },
   {
    "duration": 70,
    "start_time": "2022-03-16T19:44:04.661Z"
   },
   {
    "duration": 11,
    "start_time": "2022-03-16T19:44:04.734Z"
   },
   {
    "duration": 15,
    "start_time": "2022-03-16T19:44:04.748Z"
   },
   {
    "duration": 23,
    "start_time": "2022-03-16T19:44:04.766Z"
   },
   {
    "duration": 42,
    "start_time": "2022-03-16T19:44:04.792Z"
   },
   {
    "duration": 35,
    "start_time": "2022-03-16T19:44:04.837Z"
   },
   {
    "duration": 47,
    "start_time": "2022-03-16T19:44:04.977Z"
   },
   {
    "duration": 36,
    "start_time": "2022-03-16T19:44:05.027Z"
   },
   {
    "duration": 35,
    "start_time": "2022-03-16T19:44:05.066Z"
   },
   {
    "duration": 187,
    "start_time": "2022-03-16T19:44:05.104Z"
   },
   {
    "duration": 712,
    "start_time": "2022-03-16T19:44:05.295Z"
   },
   {
    "duration": 4410,
    "start_time": "2022-03-16T19:44:06.009Z"
   },
   {
    "duration": 159,
    "start_time": "2022-03-16T19:44:10.423Z"
   },
   {
    "duration": 915,
    "start_time": "2022-03-16T19:44:10.585Z"
   },
   {
    "duration": 7537,
    "start_time": "2022-03-16T19:44:11.506Z"
   },
   {
    "duration": 45,
    "start_time": "2022-03-16T19:44:19.046Z"
   },
   {
    "duration": 10413,
    "start_time": "2022-03-16T19:44:19.094Z"
   },
   {
    "duration": 179,
    "start_time": "2022-03-16T19:44:29.510Z"
   },
   {
    "duration": 231,
    "start_time": "2022-03-16T19:44:29.695Z"
   },
   {
    "duration": 163,
    "start_time": "2022-03-16T19:44:46.457Z"
   },
   {
    "duration": 14,
    "start_time": "2022-03-16T19:46:40.296Z"
   },
   {
    "duration": 15,
    "start_time": "2022-03-16T19:46:47.950Z"
   },
   {
    "duration": 6,
    "start_time": "2022-03-16T19:53:12.480Z"
   },
   {
    "duration": 84,
    "start_time": "2022-03-16T19:53:12.489Z"
   },
   {
    "duration": 17,
    "start_time": "2022-03-16T19:53:12.575Z"
   },
   {
    "duration": 38,
    "start_time": "2022-03-16T19:53:12.596Z"
   },
   {
    "duration": 17,
    "start_time": "2022-03-16T19:53:12.637Z"
   },
   {
    "duration": 16,
    "start_time": "2022-03-16T19:53:12.657Z"
   },
   {
    "duration": 41,
    "start_time": "2022-03-16T19:53:12.683Z"
   },
   {
    "duration": 75,
    "start_time": "2022-03-16T19:53:12.729Z"
   },
   {
    "duration": 38,
    "start_time": "2022-03-16T19:53:12.808Z"
   },
   {
    "duration": 49,
    "start_time": "2022-03-16T19:53:12.849Z"
   },
   {
    "duration": 294,
    "start_time": "2022-03-16T19:53:12.902Z"
   },
   {
    "duration": 811,
    "start_time": "2022-03-16T19:53:13.202Z"
   },
   {
    "duration": 5179,
    "start_time": "2022-03-16T19:53:14.016Z"
   },
   {
    "duration": 22,
    "start_time": "2022-03-16T19:53:19.176Z"
   },
   {
    "duration": 22,
    "start_time": "2022-03-16T19:53:19.178Z"
   },
   {
    "duration": 18,
    "start_time": "2022-03-16T19:53:19.184Z"
   },
   {
    "duration": 11,
    "start_time": "2022-03-16T19:53:19.193Z"
   },
   {
    "duration": 12,
    "start_time": "2022-03-16T19:53:19.194Z"
   },
   {
    "duration": 13,
    "start_time": "2022-03-16T19:53:19.195Z"
   },
   {
    "duration": 14,
    "start_time": "2022-03-16T19:53:19.196Z"
   },
   {
    "duration": 12,
    "start_time": "2022-03-16T19:53:19.201Z"
   },
   {
    "duration": 4603,
    "start_time": "2022-03-16T19:53:28.179Z"
   },
   {
    "duration": 5,
    "start_time": "2022-03-16T19:53:35.037Z"
   },
   {
    "duration": 84,
    "start_time": "2022-03-16T19:53:35.045Z"
   },
   {
    "duration": 12,
    "start_time": "2022-03-16T19:53:35.132Z"
   },
   {
    "duration": 12,
    "start_time": "2022-03-16T19:53:35.147Z"
   },
   {
    "duration": 12,
    "start_time": "2022-03-16T19:53:35.181Z"
   },
   {
    "duration": 50,
    "start_time": "2022-03-16T19:53:35.196Z"
   },
   {
    "duration": 42,
    "start_time": "2022-03-16T19:53:35.249Z"
   },
   {
    "duration": 44,
    "start_time": "2022-03-16T19:53:35.301Z"
   },
   {
    "duration": 79,
    "start_time": "2022-03-16T19:53:35.350Z"
   },
   {
    "duration": 21,
    "start_time": "2022-03-16T19:53:35.433Z"
   },
   {
    "duration": 135,
    "start_time": "2022-03-16T19:53:35.457Z"
   },
   {
    "duration": 1014,
    "start_time": "2022-03-16T19:53:35.599Z"
   },
   {
    "duration": 4723,
    "start_time": "2022-03-16T19:53:36.615Z"
   },
   {
    "duration": 146,
    "start_time": "2022-03-16T19:53:41.342Z"
   },
   {
    "duration": 857,
    "start_time": "2022-03-16T19:53:41.491Z"
   },
   {
    "duration": 8484,
    "start_time": "2022-03-16T19:53:42.351Z"
   },
   {
    "duration": 21,
    "start_time": "2022-03-16T19:53:50.837Z"
   },
   {
    "duration": 11753,
    "start_time": "2022-03-16T19:53:50.860Z"
   },
   {
    "duration": 173,
    "start_time": "2022-03-16T19:54:02.616Z"
   },
   {
    "duration": 337,
    "start_time": "2022-03-16T19:54:02.792Z"
   },
   {
    "duration": 14,
    "start_time": "2022-03-16T19:54:03.132Z"
   },
   {
    "duration": 6,
    "start_time": "2022-03-16T20:05:18.596Z"
   },
   {
    "duration": 14,
    "start_time": "2022-03-16T20:10:31.861Z"
   },
   {
    "duration": 43,
    "start_time": "2022-03-16T20:11:26.373Z"
   },
   {
    "duration": 241,
    "start_time": "2022-03-16T20:19:01.527Z"
   },
   {
    "duration": 13,
    "start_time": "2022-03-16T20:19:41.673Z"
   },
   {
    "duration": 10,
    "start_time": "2022-03-16T20:19:55.778Z"
   },
   {
    "duration": 9,
    "start_time": "2022-03-16T20:20:24.294Z"
   },
   {
    "duration": 8,
    "start_time": "2022-03-16T20:20:32.696Z"
   },
   {
    "duration": 375,
    "start_time": "2022-03-16T20:24:03.060Z"
   },
   {
    "duration": 6,
    "start_time": "2022-03-16T20:24:06.386Z"
   },
   {
    "duration": 156,
    "start_time": "2022-03-16T20:24:06.927Z"
   },
   {
    "duration": 4,
    "start_time": "2022-03-16T20:24:40.466Z"
   },
   {
    "duration": 140,
    "start_time": "2022-03-16T20:25:27.544Z"
   },
   {
    "duration": 635,
    "start_time": "2022-03-16T20:28:38.570Z"
   },
   {
    "duration": 4430,
    "start_time": "2022-03-16T20:29:58.046Z"
   },
   {
    "duration": 7722,
    "start_time": "2022-03-16T20:30:18.587Z"
   },
   {
    "duration": 167,
    "start_time": "2022-03-16T21:20:30.922Z"
   },
   {
    "duration": 402,
    "start_time": "2022-03-16T21:24:04.099Z"
   },
   {
    "duration": 4,
    "start_time": "2022-03-16T21:24:07.907Z"
   },
   {
    "duration": 378,
    "start_time": "2022-03-16T21:24:08.885Z"
   },
   {
    "duration": 93,
    "start_time": "2022-03-16T21:24:22.796Z"
   },
   {
    "duration": 857,
    "start_time": "2022-03-16T21:25:01.962Z"
   },
   {
    "duration": 611,
    "start_time": "2022-03-16T21:25:07.517Z"
   },
   {
    "duration": 7813,
    "start_time": "2022-03-16T21:25:44.388Z"
   },
   {
    "duration": 7919,
    "start_time": "2022-03-16T21:25:57.257Z"
   },
   {
    "duration": 871,
    "start_time": "2022-03-16T21:27:56.593Z"
   },
   {
    "duration": 90,
    "start_time": "2022-03-16T21:28:31.685Z"
   },
   {
    "duration": 7898,
    "start_time": "2022-03-16T21:28:35.861Z"
   },
   {
    "duration": 5,
    "start_time": "2022-03-16T21:31:50.950Z"
   },
   {
    "duration": 49,
    "start_time": "2022-03-16T21:31:50.958Z"
   },
   {
    "duration": 12,
    "start_time": "2022-03-16T21:31:51.010Z"
   },
   {
    "duration": 9,
    "start_time": "2022-03-16T21:31:51.025Z"
   },
   {
    "duration": 14,
    "start_time": "2022-03-16T21:31:51.037Z"
   },
   {
    "duration": 32,
    "start_time": "2022-03-16T21:31:51.082Z"
   },
   {
    "duration": 67,
    "start_time": "2022-03-16T21:31:51.117Z"
   },
   {
    "duration": 35,
    "start_time": "2022-03-16T21:31:51.186Z"
   },
   {
    "duration": 19,
    "start_time": "2022-03-16T21:31:51.225Z"
   },
   {
    "duration": 39,
    "start_time": "2022-03-16T21:31:51.247Z"
   },
   {
    "duration": 8,
    "start_time": "2022-03-16T21:31:51.289Z"
   },
   {
    "duration": 6,
    "start_time": "2022-03-16T21:31:51.300Z"
   },
   {
    "duration": 275,
    "start_time": "2022-03-16T21:31:51.309Z"
   },
   {
    "duration": 715,
    "start_time": "2022-03-16T21:31:51.590Z"
   },
   {
    "duration": 7567,
    "start_time": "2022-03-16T21:31:52.308Z"
   },
   {
    "duration": 113,
    "start_time": "2022-03-16T21:31:59.877Z"
   },
   {
    "duration": 1111,
    "start_time": "2022-03-16T21:31:59.993Z"
   },
   {
    "duration": 11358,
    "start_time": "2022-03-16T21:32:01.107Z"
   },
   {
    "duration": 35,
    "start_time": "2022-03-16T21:32:12.468Z"
   },
   {
    "duration": 14459,
    "start_time": "2022-03-16T21:32:12.506Z"
   },
   {
    "duration": 123,
    "start_time": "2022-03-16T21:32:26.968Z"
   },
   {
    "duration": 101,
    "start_time": "2022-03-16T21:32:27.095Z"
   },
   {
    "duration": 227,
    "start_time": "2022-03-16T21:32:27.199Z"
   },
   {
    "duration": 13,
    "start_time": "2022-03-16T21:32:27.428Z"
   },
   {
    "duration": 13,
    "start_time": "2022-03-16T21:33:05.824Z"
   },
   {
    "duration": 13,
    "start_time": "2022-03-16T21:33:15.995Z"
   },
   {
    "duration": 139,
    "start_time": "2022-03-16T21:39:16.804Z"
   },
   {
    "duration": 171,
    "start_time": "2022-03-16T21:40:17.025Z"
   },
   {
    "duration": 18595,
    "start_time": "2022-03-16T21:40:43.179Z"
   },
   {
    "duration": 280,
    "start_time": "2022-03-16T21:41:09.592Z"
   },
   {
    "duration": 5,
    "start_time": "2022-03-16T21:42:49.863Z"
   },
   {
    "duration": 57,
    "start_time": "2022-03-16T21:42:49.871Z"
   },
   {
    "duration": 11,
    "start_time": "2022-03-16T21:42:49.931Z"
   },
   {
    "duration": 18,
    "start_time": "2022-03-16T21:42:49.945Z"
   },
   {
    "duration": 38,
    "start_time": "2022-03-16T21:42:49.966Z"
   },
   {
    "duration": 33,
    "start_time": "2022-03-16T21:42:50.007Z"
   },
   {
    "duration": 50,
    "start_time": "2022-03-16T21:42:50.043Z"
   },
   {
    "duration": 35,
    "start_time": "2022-03-16T21:42:50.096Z"
   },
   {
    "duration": 18,
    "start_time": "2022-03-16T21:42:50.135Z"
   },
   {
    "duration": 13,
    "start_time": "2022-03-16T21:42:50.182Z"
   },
   {
    "duration": 20,
    "start_time": "2022-03-16T21:42:50.197Z"
   },
   {
    "duration": 33,
    "start_time": "2022-03-16T21:42:50.219Z"
   },
   {
    "duration": 237,
    "start_time": "2022-03-16T21:42:50.255Z"
   },
   {
    "duration": 715,
    "start_time": "2022-03-16T21:42:50.495Z"
   },
   {
    "duration": 13016,
    "start_time": "2022-03-16T21:42:51.212Z"
   },
   {
    "duration": 67,
    "start_time": "2022-03-16T21:43:04.230Z"
   },
   {
    "duration": 845,
    "start_time": "2022-03-16T21:43:04.385Z"
   },
   {
    "duration": 13724,
    "start_time": "2022-03-16T21:43:05.232Z"
   },
   {
    "duration": 33,
    "start_time": "2022-03-16T21:43:18.960Z"
   },
   {
    "duration": 17734,
    "start_time": "2022-03-16T21:43:18.996Z"
   },
   {
    "duration": 151,
    "start_time": "2022-03-16T21:43:36.733Z"
   },
   {
    "duration": 101,
    "start_time": "2022-03-16T21:43:36.887Z"
   },
   {
    "duration": 269,
    "start_time": "2022-03-16T21:43:36.991Z"
   },
   {
    "duration": 5,
    "start_time": "2022-03-16T21:45:27.777Z"
   },
   {
    "duration": 74,
    "start_time": "2022-03-16T21:45:27.785Z"
   },
   {
    "duration": 10,
    "start_time": "2022-03-16T21:45:27.863Z"
   },
   {
    "duration": 19,
    "start_time": "2022-03-16T21:45:27.876Z"
   },
   {
    "duration": 44,
    "start_time": "2022-03-16T21:45:27.897Z"
   },
   {
    "duration": 61,
    "start_time": "2022-03-16T21:45:27.943Z"
   },
   {
    "duration": 40,
    "start_time": "2022-03-16T21:45:28.006Z"
   },
   {
    "duration": 58,
    "start_time": "2022-03-16T21:45:28.049Z"
   },
   {
    "duration": 20,
    "start_time": "2022-03-16T21:45:28.111Z"
   },
   {
    "duration": 20,
    "start_time": "2022-03-16T21:45:28.133Z"
   },
   {
    "duration": 26,
    "start_time": "2022-03-16T21:45:28.156Z"
   },
   {
    "duration": 20,
    "start_time": "2022-03-16T21:45:28.184Z"
   },
   {
    "duration": 175,
    "start_time": "2022-03-16T21:45:28.207Z"
   },
   {
    "duration": 702,
    "start_time": "2022-03-16T21:45:28.386Z"
   },
   {
    "duration": 13090,
    "start_time": "2022-03-16T21:45:29.091Z"
   },
   {
    "duration": 104,
    "start_time": "2022-03-16T21:45:42.184Z"
   },
   {
    "duration": 701,
    "start_time": "2022-03-16T21:45:42.291Z"
   },
   {
    "duration": 13192,
    "start_time": "2022-03-16T21:45:42.995Z"
   },
   {
    "duration": 22,
    "start_time": "2022-03-16T21:45:56.190Z"
   },
   {
    "duration": 17379,
    "start_time": "2022-03-16T21:45:56.214Z"
   },
   {
    "duration": 293,
    "start_time": "2022-03-16T21:46:13.596Z"
   },
   {
    "duration": 91,
    "start_time": "2022-03-16T21:46:13.893Z"
   },
   {
    "duration": 249,
    "start_time": "2022-03-16T21:46:13.988Z"
   },
   {
    "duration": 6,
    "start_time": "2022-03-16T21:56:17.529Z"
   },
   {
    "duration": 67,
    "start_time": "2022-03-16T21:56:17.539Z"
   },
   {
    "duration": 16,
    "start_time": "2022-03-16T21:56:17.611Z"
   },
   {
    "duration": 12,
    "start_time": "2022-03-16T21:56:17.630Z"
   },
   {
    "duration": 47,
    "start_time": "2022-03-16T21:56:17.645Z"
   },
   {
    "duration": 42,
    "start_time": "2022-03-16T21:56:17.695Z"
   },
   {
    "duration": 68,
    "start_time": "2022-03-16T21:56:17.740Z"
   },
   {
    "duration": 35,
    "start_time": "2022-03-16T21:56:17.812Z"
   },
   {
    "duration": 37,
    "start_time": "2022-03-16T21:56:17.850Z"
   },
   {
    "duration": 7,
    "start_time": "2022-03-16T21:56:17.889Z"
   },
   {
    "duration": 5,
    "start_time": "2022-03-16T21:56:17.899Z"
   },
   {
    "duration": 8,
    "start_time": "2022-03-16T21:56:17.907Z"
   },
   {
    "duration": 168,
    "start_time": "2022-03-16T21:56:17.917Z"
   },
   {
    "duration": 712,
    "start_time": "2022-03-16T21:56:18.089Z"
   },
   {
    "duration": 12921,
    "start_time": "2022-03-16T21:56:18.803Z"
   },
   {
    "duration": 167,
    "start_time": "2022-03-16T21:56:31.727Z"
   },
   {
    "duration": 729,
    "start_time": "2022-03-16T21:56:31.984Z"
   },
   {
    "duration": 13222,
    "start_time": "2022-03-16T21:56:32.716Z"
   },
   {
    "duration": 21,
    "start_time": "2022-03-16T21:56:45.941Z"
   },
   {
    "duration": 17785,
    "start_time": "2022-03-16T21:56:45.965Z"
   },
   {
    "duration": 136,
    "start_time": "2022-03-16T21:57:03.753Z"
   },
   {
    "duration": 104,
    "start_time": "2022-03-16T21:57:03.892Z"
   },
   {
    "duration": 259,
    "start_time": "2022-03-16T21:57:04.086Z"
   },
   {
    "duration": 1383,
    "start_time": "2022-03-17T15:51:03.883Z"
   },
   {
    "duration": 51,
    "start_time": "2022-03-17T15:51:05.268Z"
   },
   {
    "duration": 17,
    "start_time": "2022-03-17T15:51:05.320Z"
   },
   {
    "duration": 6,
    "start_time": "2022-03-17T15:51:05.339Z"
   },
   {
    "duration": 24,
    "start_time": "2022-03-17T15:51:05.347Z"
   },
   {
    "duration": 49,
    "start_time": "2022-03-17T15:51:05.373Z"
   },
   {
    "duration": 30,
    "start_time": "2022-03-17T15:51:05.424Z"
   },
   {
    "duration": 45,
    "start_time": "2022-03-17T15:51:05.456Z"
   },
   {
    "duration": 146,
    "start_time": "2022-03-17T15:51:05.503Z"
   },
   {
    "duration": 0,
    "start_time": "2022-03-17T15:51:05.652Z"
   },
   {
    "duration": 0,
    "start_time": "2022-03-17T15:51:05.653Z"
   },
   {
    "duration": 0,
    "start_time": "2022-03-17T15:51:05.654Z"
   },
   {
    "duration": 0,
    "start_time": "2022-03-17T15:51:05.656Z"
   },
   {
    "duration": 0,
    "start_time": "2022-03-17T15:51:05.657Z"
   },
   {
    "duration": 0,
    "start_time": "2022-03-17T15:51:05.658Z"
   },
   {
    "duration": 0,
    "start_time": "2022-03-17T15:51:05.659Z"
   },
   {
    "duration": 0,
    "start_time": "2022-03-17T15:51:05.661Z"
   },
   {
    "duration": 0,
    "start_time": "2022-03-17T15:51:05.662Z"
   },
   {
    "duration": 0,
    "start_time": "2022-03-17T15:51:05.663Z"
   },
   {
    "duration": 0,
    "start_time": "2022-03-17T15:51:05.665Z"
   },
   {
    "duration": 0,
    "start_time": "2022-03-17T15:51:05.666Z"
   },
   {
    "duration": 0,
    "start_time": "2022-03-17T15:51:05.667Z"
   },
   {
    "duration": 0,
    "start_time": "2022-03-17T15:51:05.669Z"
   },
   {
    "duration": 3,
    "start_time": "2022-03-17T15:59:52.151Z"
   },
   {
    "duration": 14,
    "start_time": "2022-03-17T15:59:53.001Z"
   },
   {
    "duration": 1298,
    "start_time": "2022-03-17T16:00:06.923Z"
   },
   {
    "duration": 45,
    "start_time": "2022-03-17T16:00:08.223Z"
   },
   {
    "duration": 13,
    "start_time": "2022-03-17T16:00:08.269Z"
   },
   {
    "duration": 5,
    "start_time": "2022-03-17T16:00:08.284Z"
   },
   {
    "duration": 15,
    "start_time": "2022-03-17T16:00:08.303Z"
   },
   {
    "duration": 18,
    "start_time": "2022-03-17T16:00:08.320Z"
   },
   {
    "duration": 20,
    "start_time": "2022-03-17T16:00:08.340Z"
   },
   {
    "duration": 53,
    "start_time": "2022-03-17T16:00:08.362Z"
   },
   {
    "duration": 2,
    "start_time": "2022-03-17T16:00:08.417Z"
   },
   {
    "duration": 10,
    "start_time": "2022-03-17T16:00:08.422Z"
   },
   {
    "duration": 6,
    "start_time": "2022-03-17T16:00:08.434Z"
   },
   {
    "duration": 3,
    "start_time": "2022-03-17T16:00:08.441Z"
   },
   {
    "duration": 5,
    "start_time": "2022-03-17T16:00:08.445Z"
   },
   {
    "duration": 153,
    "start_time": "2022-03-17T16:00:08.452Z"
   },
   {
    "duration": 550,
    "start_time": "2022-03-17T16:00:08.607Z"
   },
   {
    "duration": 10143,
    "start_time": "2022-03-17T16:00:09.158Z"
   },
   {
    "duration": 35,
    "start_time": "2022-03-17T16:00:19.303Z"
   },
   {
    "duration": 542,
    "start_time": "2022-03-17T16:00:19.405Z"
   },
   {
    "duration": 9502,
    "start_time": "2022-03-17T16:00:19.948Z"
   },
   {
    "duration": 12,
    "start_time": "2022-03-17T16:00:29.451Z"
   },
   {
    "duration": 11558,
    "start_time": "2022-03-17T16:00:29.464Z"
   },
   {
    "duration": 88,
    "start_time": "2022-03-17T16:00:41.024Z"
   },
   {
    "duration": 90,
    "start_time": "2022-03-17T16:00:41.114Z"
   },
   {
    "duration": 244,
    "start_time": "2022-03-17T16:00:41.206Z"
   },
   {
    "duration": 186,
    "start_time": "2022-03-17T17:14:08.539Z"
   },
   {
    "duration": 234,
    "start_time": "2022-03-17T17:39:45.983Z"
   },
   {
    "duration": 201,
    "start_time": "2022-03-17T18:25:53.572Z"
   },
   {
    "duration": 1541,
    "start_time": "2022-03-18T16:18:26.100Z"
   },
   {
    "duration": 58,
    "start_time": "2022-03-18T16:18:27.645Z"
   },
   {
    "duration": 19,
    "start_time": "2022-03-18T16:18:27.705Z"
   },
   {
    "duration": 8,
    "start_time": "2022-03-18T16:18:27.727Z"
   },
   {
    "duration": 47,
    "start_time": "2022-03-18T16:18:27.739Z"
   },
   {
    "duration": 42,
    "start_time": "2022-03-18T16:18:27.789Z"
   },
   {
    "duration": 85,
    "start_time": "2022-03-18T16:18:35.967Z"
   },
   {
    "duration": 39,
    "start_time": "2022-03-18T16:18:40.540Z"
   },
   {
    "duration": 40,
    "start_time": "2022-03-18T16:24:14.217Z"
   },
   {
    "duration": 148,
    "start_time": "2022-03-18T16:24:18.198Z"
   },
   {
    "duration": 15,
    "start_time": "2022-03-18T16:25:22.766Z"
   },
   {
    "duration": 5,
    "start_time": "2022-03-18T16:25:28.161Z"
   },
   {
    "duration": 5,
    "start_time": "2022-03-18T16:25:36.397Z"
   },
   {
    "duration": 55,
    "start_time": "2022-03-18T16:25:36.405Z"
   },
   {
    "duration": 23,
    "start_time": "2022-03-18T16:25:36.462Z"
   },
   {
    "duration": 9,
    "start_time": "2022-03-18T16:25:36.487Z"
   },
   {
    "duration": 20,
    "start_time": "2022-03-18T16:25:36.501Z"
   },
   {
    "duration": 64,
    "start_time": "2022-03-18T16:25:36.524Z"
   },
   {
    "duration": 37,
    "start_time": "2022-03-18T16:25:36.591Z"
   },
   {
    "duration": 67,
    "start_time": "2022-03-18T16:25:36.630Z"
   },
   {
    "duration": 17,
    "start_time": "2022-03-18T16:25:39.973Z"
   },
   {
    "duration": 18,
    "start_time": "2022-03-18T16:29:15.698Z"
   },
   {
    "duration": 33,
    "start_time": "2022-03-18T16:30:49.001Z"
   },
   {
    "duration": 14,
    "start_time": "2022-03-18T16:32:01.701Z"
   },
   {
    "duration": 26,
    "start_time": "2022-03-18T16:32:07.997Z"
   },
   {
    "duration": 27,
    "start_time": "2022-03-18T16:32:14.823Z"
   },
   {
    "duration": 27,
    "start_time": "2022-03-18T16:32:28.676Z"
   },
   {
    "duration": 45750,
    "start_time": "2022-03-18T16:34:44.181Z"
   },
   {
    "duration": 26,
    "start_time": "2022-03-18T16:35:37.881Z"
   },
   {
    "duration": 15,
    "start_time": "2022-03-18T16:35:42.156Z"
   },
   {
    "duration": 1915,
    "start_time": "2022-03-20T18:17:25.499Z"
   },
   {
    "duration": 89,
    "start_time": "2022-03-20T18:17:27.416Z"
   },
   {
    "duration": 29,
    "start_time": "2022-03-20T18:17:27.508Z"
   },
   {
    "duration": 34,
    "start_time": "2022-03-20T18:17:27.542Z"
   },
   {
    "duration": 24,
    "start_time": "2022-03-20T18:17:27.582Z"
   },
   {
    "duration": 33,
    "start_time": "2022-03-20T18:17:27.608Z"
   },
   {
    "duration": 75,
    "start_time": "2022-03-20T18:17:27.644Z"
   },
   {
    "duration": 18,
    "start_time": "2022-03-20T18:17:27.722Z"
   },
   {
    "duration": 57,
    "start_time": "2022-03-20T18:17:27.742Z"
   },
   {
    "duration": 11,
    "start_time": "2022-03-20T18:17:27.803Z"
   },
   {
    "duration": 170,
    "start_time": "2022-03-20T18:17:31.819Z"
   },
   {
    "duration": 5,
    "start_time": "2022-03-20T18:18:28.927Z"
   },
   {
    "duration": 7,
    "start_time": "2022-03-20T18:18:36.987Z"
   },
   {
    "duration": 27955,
    "start_time": "2022-03-20T18:18:46.021Z"
   },
   {
    "duration": 27,
    "start_time": "2022-03-20T18:19:26.338Z"
   },
   {
    "duration": 19,
    "start_time": "2022-03-20T18:19:37.929Z"
   },
   {
    "duration": 21,
    "start_time": "2022-03-20T18:19:52.334Z"
   },
   {
    "duration": 20,
    "start_time": "2022-03-20T18:20:02.346Z"
   },
   {
    "duration": 25,
    "start_time": "2022-03-20T18:20:10.237Z"
   },
   {
    "duration": 66328,
    "start_time": "2022-03-20T18:20:14.430Z"
   },
   {
    "duration": 16,
    "start_time": "2022-03-20T18:21:29.329Z"
   },
   {
    "duration": 7,
    "start_time": "2022-03-20T18:21:48.796Z"
   },
   {
    "duration": 20,
    "start_time": "2022-03-20T18:22:09.652Z"
   },
   {
    "duration": 9,
    "start_time": "2022-03-20T18:23:26.345Z"
   },
   {
    "duration": 199,
    "start_time": "2022-03-20T18:23:35.162Z"
   },
   {
    "duration": 187,
    "start_time": "2022-03-20T18:24:24.129Z"
   },
   {
    "duration": 264,
    "start_time": "2022-03-20T18:24:58.840Z"
   },
   {
    "duration": 209,
    "start_time": "2022-03-20T18:25:29.848Z"
   },
   {
    "duration": 93,
    "start_time": "2022-03-20T18:29:30.343Z"
   },
   {
    "duration": 5,
    "start_time": "2022-03-20T18:29:35.925Z"
   },
   {
    "duration": 13,
    "start_time": "2022-03-20T18:29:55.391Z"
   },
   {
    "duration": 207,
    "start_time": "2022-03-20T18:30:04.389Z"
   },
   {
    "duration": 4,
    "start_time": "2022-03-20T18:30:11.588Z"
   },
   {
    "duration": 5,
    "start_time": "2022-03-20T18:30:12.072Z"
   },
   {
    "duration": 3,
    "start_time": "2022-03-20T18:30:14.127Z"
   },
   {
    "duration": 344,
    "start_time": "2022-03-20T18:30:16.932Z"
   },
   {
    "duration": 247,
    "start_time": "2022-03-20T18:31:13.630Z"
   },
   {
    "duration": 236,
    "start_time": "2022-03-20T18:31:49.739Z"
   },
   {
    "duration": 6,
    "start_time": "2022-03-20T18:44:50.557Z"
   },
   {
    "duration": 4,
    "start_time": "2022-03-20T18:44:52.795Z"
   },
   {
    "duration": 119,
    "start_time": "2022-03-20T18:44:54.963Z"
   },
   {
    "duration": 836,
    "start_time": "2022-03-20T18:45:55.921Z"
   },
   {
    "duration": 15125,
    "start_time": "2022-03-20T18:46:35.246Z"
   },
   {
    "duration": 59,
    "start_time": "2022-03-20T18:47:54.030Z"
   },
   {
    "duration": 5,
    "start_time": "2022-03-20T18:52:01.716Z"
   },
   {
    "duration": 61,
    "start_time": "2022-03-20T18:52:01.723Z"
   },
   {
    "duration": 17,
    "start_time": "2022-03-20T18:52:01.786Z"
   },
   {
    "duration": 13,
    "start_time": "2022-03-20T18:52:01.806Z"
   },
   {
    "duration": 37,
    "start_time": "2022-03-20T18:52:01.823Z"
   },
   {
    "duration": 30,
    "start_time": "2022-03-20T18:52:01.874Z"
   },
   {
    "duration": 70,
    "start_time": "2022-03-20T18:52:01.906Z"
   },
   {
    "duration": 19,
    "start_time": "2022-03-20T18:52:01.978Z"
   },
   {
    "duration": 27,
    "start_time": "2022-03-20T18:52:02.000Z"
   },
   {
    "duration": 7,
    "start_time": "2022-03-20T18:52:02.029Z"
   },
   {
    "duration": 221,
    "start_time": "2022-03-20T18:52:02.073Z"
   },
   {
    "duration": 4,
    "start_time": "2022-03-20T18:52:02.296Z"
   },
   {
    "duration": 15,
    "start_time": "2022-03-20T18:52:02.302Z"
   },
   {
    "duration": 0,
    "start_time": "2022-03-20T18:52:02.320Z"
   },
   {
    "duration": 0,
    "start_time": "2022-03-20T18:52:02.321Z"
   },
   {
    "duration": 0,
    "start_time": "2022-03-20T18:52:02.323Z"
   },
   {
    "duration": 0,
    "start_time": "2022-03-20T18:52:02.325Z"
   },
   {
    "duration": 0,
    "start_time": "2022-03-20T18:52:02.327Z"
   },
   {
    "duration": 5,
    "start_time": "2022-03-20T18:52:35.833Z"
   },
   {
    "duration": 62,
    "start_time": "2022-03-20T18:52:35.841Z"
   },
   {
    "duration": 26,
    "start_time": "2022-03-20T18:52:35.907Z"
   },
   {
    "duration": 39,
    "start_time": "2022-03-20T18:52:35.937Z"
   },
   {
    "duration": 26,
    "start_time": "2022-03-20T18:52:35.979Z"
   },
   {
    "duration": 71,
    "start_time": "2022-03-20T18:52:36.009Z"
   },
   {
    "duration": 52,
    "start_time": "2022-03-20T18:52:36.083Z"
   },
   {
    "duration": 41,
    "start_time": "2022-03-20T18:52:36.138Z"
   },
   {
    "duration": 26,
    "start_time": "2022-03-20T18:52:36.182Z"
   },
   {
    "duration": 7,
    "start_time": "2022-03-20T18:52:36.212Z"
   },
   {
    "duration": 252,
    "start_time": "2022-03-20T18:52:36.222Z"
   },
   {
    "duration": 5,
    "start_time": "2022-03-20T18:52:36.477Z"
   },
   {
    "duration": 6,
    "start_time": "2022-03-20T18:52:36.484Z"
   },
   {
    "duration": 5,
    "start_time": "2022-03-20T18:52:36.493Z"
   },
   {
    "duration": 178,
    "start_time": "2022-03-20T18:52:36.501Z"
   },
   {
    "duration": 828,
    "start_time": "2022-03-20T18:52:36.683Z"
   },
   {
    "duration": 14922,
    "start_time": "2022-03-20T18:52:37.516Z"
   },
   {
    "duration": 241,
    "start_time": "2022-03-20T18:52:52.441Z"
   },
   {
    "duration": 15538,
    "start_time": "2022-03-20T18:53:48.507Z"
   },
   {
    "duration": 15,
    "start_time": "2022-03-20T18:55:36.790Z"
   },
   {
    "duration": 16,
    "start_time": "2022-03-20T18:55:41.751Z"
   },
   {
    "duration": 18,
    "start_time": "2022-03-20T18:55:45.830Z"
   },
   {
    "duration": 16,
    "start_time": "2022-03-20T18:55:47.469Z"
   },
   {
    "duration": 20,
    "start_time": "2022-03-20T18:56:01.832Z"
   },
   {
    "duration": 23207,
    "start_time": "2022-03-20T18:56:15.619Z"
   },
   {
    "duration": 264,
    "start_time": "2022-03-20T18:57:15.313Z"
   },
   {
    "duration": 290,
    "start_time": "2022-03-20T18:57:21.984Z"
   },
   {
    "duration": 21,
    "start_time": "2022-03-20T18:57:27.526Z"
   },
   {
    "duration": 4,
    "start_time": "2022-03-20T18:57:53.656Z"
   },
   {
    "duration": 56,
    "start_time": "2022-03-20T18:57:53.664Z"
   },
   {
    "duration": 23,
    "start_time": "2022-03-20T18:57:53.722Z"
   },
   {
    "duration": 27,
    "start_time": "2022-03-20T18:57:53.749Z"
   },
   {
    "duration": 19,
    "start_time": "2022-03-20T18:57:53.779Z"
   },
   {
    "duration": 30,
    "start_time": "2022-03-20T18:57:53.801Z"
   },
   {
    "duration": 71,
    "start_time": "2022-03-20T18:57:53.833Z"
   },
   {
    "duration": 19,
    "start_time": "2022-03-20T18:57:53.906Z"
   },
   {
    "duration": 57,
    "start_time": "2022-03-20T18:57:53.928Z"
   },
   {
    "duration": 7,
    "start_time": "2022-03-20T18:57:53.991Z"
   },
   {
    "duration": 223,
    "start_time": "2022-03-20T18:57:54.001Z"
   },
   {
    "duration": 5,
    "start_time": "2022-03-20T18:57:54.226Z"
   },
   {
    "duration": 8,
    "start_time": "2022-03-20T18:57:54.233Z"
   },
   {
    "duration": 5,
    "start_time": "2022-03-20T18:57:54.243Z"
   },
   {
    "duration": 200,
    "start_time": "2022-03-20T18:57:54.273Z"
   },
   {
    "duration": 819,
    "start_time": "2022-03-20T18:57:54.476Z"
   },
   {
    "duration": 14979,
    "start_time": "2022-03-20T18:57:55.297Z"
   },
   {
    "duration": 103,
    "start_time": "2022-03-20T18:58:10.278Z"
   },
   {
    "duration": 108,
    "start_time": "2022-03-20T18:58:10.473Z"
   },
   {
    "duration": 0,
    "start_time": "2022-03-20T18:58:10.584Z"
   },
   {
    "duration": 0,
    "start_time": "2022-03-20T18:58:10.586Z"
   },
   {
    "duration": 0,
    "start_time": "2022-03-20T18:58:10.588Z"
   },
   {
    "duration": 0,
    "start_time": "2022-03-20T18:58:10.589Z"
   },
   {
    "duration": 4,
    "start_time": "2022-03-20T18:58:28.446Z"
   },
   {
    "duration": 50,
    "start_time": "2022-03-20T18:58:28.453Z"
   },
   {
    "duration": 20,
    "start_time": "2022-03-20T18:58:28.505Z"
   },
   {
    "duration": 8,
    "start_time": "2022-03-20T18:58:28.529Z"
   },
   {
    "duration": 52,
    "start_time": "2022-03-20T18:58:28.539Z"
   },
   {
    "duration": 31,
    "start_time": "2022-03-20T18:58:28.593Z"
   },
   {
    "duration": 75,
    "start_time": "2022-03-20T18:58:28.626Z"
   },
   {
    "duration": 18,
    "start_time": "2022-03-20T18:58:28.704Z"
   },
   {
    "duration": 51,
    "start_time": "2022-03-20T18:58:28.726Z"
   },
   {
    "duration": 7,
    "start_time": "2022-03-20T18:58:28.779Z"
   },
   {
    "duration": 225,
    "start_time": "2022-03-20T18:58:28.788Z"
   },
   {
    "duration": 4,
    "start_time": "2022-03-20T18:58:29.016Z"
   },
   {
    "duration": 8,
    "start_time": "2022-03-20T18:58:29.024Z"
   },
   {
    "duration": 8,
    "start_time": "2022-03-20T18:58:29.035Z"
   },
   {
    "duration": 327,
    "start_time": "2022-03-20T18:58:29.046Z"
   },
   {
    "duration": 763,
    "start_time": "2022-03-20T18:58:29.376Z"
   },
   {
    "duration": 20491,
    "start_time": "2022-03-20T18:58:30.142Z"
   },
   {
    "duration": 142,
    "start_time": "2022-03-20T18:58:50.635Z"
   },
   {
    "duration": 1132,
    "start_time": "2022-03-20T18:58:50.782Z"
   },
   {
    "duration": 15273,
    "start_time": "2022-03-20T18:58:51.916Z"
   },
   {
    "duration": 20,
    "start_time": "2022-03-20T18:59:07.192Z"
   },
   {
    "duration": 19997,
    "start_time": "2022-03-20T18:59:07.216Z"
   },
   {
    "duration": 163,
    "start_time": "2022-03-20T18:59:27.215Z"
   },
   {
    "duration": 17,
    "start_time": "2022-03-20T18:59:53.861Z"
   },
   {
    "duration": 7,
    "start_time": "2022-03-20T19:00:33.361Z"
   },
   {
    "duration": 4,
    "start_time": "2022-03-20T19:00:56.223Z"
   },
   {
    "duration": 5,
    "start_time": "2022-03-20T19:01:12.215Z"
   },
   {
    "duration": 217,
    "start_time": "2022-03-20T19:01:39.960Z"
   },
   {
    "duration": 229,
    "start_time": "2022-03-20T19:02:03.748Z"
   },
   {
    "duration": 202,
    "start_time": "2022-03-20T19:02:10.383Z"
   },
   {
    "duration": 7,
    "start_time": "2022-03-20T19:06:12.966Z"
   },
   {
    "duration": 70,
    "start_time": "2022-03-20T19:06:12.976Z"
   },
   {
    "duration": 50,
    "start_time": "2022-03-20T19:06:13.048Z"
   },
   {
    "duration": 10,
    "start_time": "2022-03-20T19:06:13.102Z"
   },
   {
    "duration": 27,
    "start_time": "2022-03-20T19:06:13.115Z"
   },
   {
    "duration": 54,
    "start_time": "2022-03-20T19:06:13.145Z"
   },
   {
    "duration": 35,
    "start_time": "2022-03-20T19:06:13.201Z"
   },
   {
    "duration": 41,
    "start_time": "2022-03-20T19:06:13.238Z"
   },
   {
    "duration": 28,
    "start_time": "2022-03-20T19:06:13.281Z"
   },
   {
    "duration": 7,
    "start_time": "2022-03-20T19:06:13.312Z"
   },
   {
    "duration": 237,
    "start_time": "2022-03-20T19:06:13.321Z"
   },
   {
    "duration": 5,
    "start_time": "2022-03-20T19:06:13.560Z"
   },
   {
    "duration": 5,
    "start_time": "2022-03-20T19:06:13.577Z"
   },
   {
    "duration": 5,
    "start_time": "2022-03-20T19:06:13.585Z"
   },
   {
    "duration": 184,
    "start_time": "2022-03-20T19:06:13.592Z"
   },
   {
    "duration": 822,
    "start_time": "2022-03-20T19:06:13.779Z"
   },
   {
    "duration": 14875,
    "start_time": "2022-03-20T19:06:14.604Z"
   },
   {
    "duration": 204,
    "start_time": "2022-03-20T19:06:29.481Z"
   },
   {
    "duration": 826,
    "start_time": "2022-03-20T19:06:29.776Z"
   },
   {
    "duration": 15164,
    "start_time": "2022-03-20T19:06:30.605Z"
   },
   {
    "duration": 18,
    "start_time": "2022-03-20T19:06:45.774Z"
   },
   {
    "duration": 19540,
    "start_time": "2022-03-20T19:06:45.794Z"
   },
   {
    "duration": 150,
    "start_time": "2022-03-20T19:07:05.336Z"
   },
   {
    "duration": 89,
    "start_time": "2022-03-20T19:07:05.488Z"
   },
   {
    "duration": 19,
    "start_time": "2022-03-20T19:07:42.366Z"
   },
   {
    "duration": 82,
    "start_time": "2022-03-20T19:10:46.222Z"
   },
   {
    "duration": 262,
    "start_time": "2022-03-20T19:10:52.841Z"
   },
   {
    "duration": 5,
    "start_time": "2022-03-20T19:11:36.546Z"
   },
   {
    "duration": 61,
    "start_time": "2022-03-20T19:11:36.554Z"
   },
   {
    "duration": 19,
    "start_time": "2022-03-20T19:11:36.617Z"
   },
   {
    "duration": 8,
    "start_time": "2022-03-20T19:11:36.638Z"
   },
   {
    "duration": 44,
    "start_time": "2022-03-20T19:11:36.650Z"
   },
   {
    "duration": 30,
    "start_time": "2022-03-20T19:11:36.697Z"
   },
   {
    "duration": 68,
    "start_time": "2022-03-20T19:11:36.730Z"
   },
   {
    "duration": 18,
    "start_time": "2022-03-20T19:11:36.800Z"
   },
   {
    "duration": 29,
    "start_time": "2022-03-20T19:11:36.820Z"
   },
   {
    "duration": 36,
    "start_time": "2022-03-20T19:11:36.851Z"
   },
   {
    "duration": 202,
    "start_time": "2022-03-20T19:11:36.889Z"
   },
   {
    "duration": 6,
    "start_time": "2022-03-20T19:11:37.093Z"
   },
   {
    "duration": 16,
    "start_time": "2022-03-20T19:11:37.101Z"
   },
   {
    "duration": 158,
    "start_time": "2022-03-20T19:11:37.120Z"
   },
   {
    "duration": 818,
    "start_time": "2022-03-20T19:11:37.282Z"
   },
   {
    "duration": 15059,
    "start_time": "2022-03-20T19:11:38.103Z"
   },
   {
    "duration": 310,
    "start_time": "2022-03-20T19:11:53.164Z"
   },
   {
    "duration": 752,
    "start_time": "2022-03-20T19:11:53.476Z"
   },
   {
    "duration": 15923,
    "start_time": "2022-03-20T19:11:54.230Z"
   },
   {
    "duration": 26,
    "start_time": "2022-03-20T19:12:10.155Z"
   },
   {
    "duration": 21765,
    "start_time": "2022-03-20T19:12:10.184Z"
   },
   {
    "duration": 128,
    "start_time": "2022-03-20T19:12:31.952Z"
   },
   {
    "duration": 191,
    "start_time": "2022-03-20T19:12:32.083Z"
   },
   {
    "duration": 273,
    "start_time": "2022-03-20T19:12:32.277Z"
   },
   {
    "duration": 6,
    "start_time": "2022-03-20T19:23:51.303Z"
   },
   {
    "duration": 68,
    "start_time": "2022-03-20T19:23:51.312Z"
   },
   {
    "duration": 21,
    "start_time": "2022-03-20T19:23:51.384Z"
   },
   {
    "duration": 9,
    "start_time": "2022-03-20T19:23:51.409Z"
   },
   {
    "duration": 58,
    "start_time": "2022-03-20T19:23:51.421Z"
   },
   {
    "duration": 31,
    "start_time": "2022-03-20T19:23:51.482Z"
   },
   {
    "duration": 63,
    "start_time": "2022-03-20T19:23:51.516Z"
   },
   {
    "duration": 19,
    "start_time": "2022-03-20T19:23:51.582Z"
   },
   {
    "duration": 27,
    "start_time": "2022-03-20T19:23:51.605Z"
   },
   {
    "duration": 37,
    "start_time": "2022-03-20T19:23:51.635Z"
   },
   {
    "duration": 308,
    "start_time": "2022-03-20T19:23:51.675Z"
   },
   {
    "duration": 8,
    "start_time": "2022-03-20T19:23:51.986Z"
   },
   {
    "duration": 10,
    "start_time": "2022-03-20T19:23:51.996Z"
   },
   {
    "duration": 169,
    "start_time": "2022-03-20T19:23:52.008Z"
   },
   {
    "duration": 834,
    "start_time": "2022-03-20T19:23:52.180Z"
   },
   {
    "duration": 15628,
    "start_time": "2022-03-20T19:23:53.016Z"
   },
   {
    "duration": 236,
    "start_time": "2022-03-20T19:24:08.646Z"
   },
   {
    "duration": 1048,
    "start_time": "2022-03-20T19:24:08.975Z"
   },
   {
    "duration": 15572,
    "start_time": "2022-03-20T19:24:10.027Z"
   },
   {
    "duration": 17,
    "start_time": "2022-03-20T19:24:25.601Z"
   },
   {
    "duration": 19722,
    "start_time": "2022-03-20T19:24:25.621Z"
   },
   {
    "duration": 136,
    "start_time": "2022-03-20T19:24:45.345Z"
   },
   {
    "duration": 193,
    "start_time": "2022-03-20T19:24:45.484Z"
   },
   {
    "duration": 21,
    "start_time": "2022-03-20T19:24:50.388Z"
   },
   {
    "duration": 468,
    "start_time": "2022-03-20T19:24:52.366Z"
   },
   {
    "duration": 470,
    "start_time": "2022-03-20T19:25:25.587Z"
   },
   {
    "duration": 5,
    "start_time": "2022-03-20T19:28:29.151Z"
   },
   {
    "duration": 53,
    "start_time": "2022-03-20T19:28:29.159Z"
   },
   {
    "duration": 19,
    "start_time": "2022-03-20T19:28:29.214Z"
   },
   {
    "duration": 40,
    "start_time": "2022-03-20T19:28:29.236Z"
   },
   {
    "duration": 20,
    "start_time": "2022-03-20T19:28:29.282Z"
   },
   {
    "duration": 73,
    "start_time": "2022-03-20T19:28:29.305Z"
   },
   {
    "duration": 44,
    "start_time": "2022-03-20T19:28:29.381Z"
   },
   {
    "duration": 19,
    "start_time": "2022-03-20T19:28:29.428Z"
   },
   {
    "duration": 31,
    "start_time": "2022-03-20T19:28:29.477Z"
   },
   {
    "duration": 9,
    "start_time": "2022-03-20T19:28:29.510Z"
   },
   {
    "duration": 224,
    "start_time": "2022-03-20T19:28:29.521Z"
   },
   {
    "duration": 7,
    "start_time": "2022-03-20T19:28:29.747Z"
   },
   {
    "duration": 20,
    "start_time": "2022-03-20T19:28:29.757Z"
   },
   {
    "duration": 195,
    "start_time": "2022-03-20T19:28:29.782Z"
   },
   {
    "duration": 888,
    "start_time": "2022-03-20T19:28:29.980Z"
   },
   {
    "duration": 15006,
    "start_time": "2022-03-20T19:28:30.875Z"
   },
   {
    "duration": 101,
    "start_time": "2022-03-20T19:28:45.884Z"
   },
   {
    "duration": 843,
    "start_time": "2022-03-20T19:28:46.073Z"
   },
   {
    "duration": 18713,
    "start_time": "2022-03-20T19:28:46.918Z"
   },
   {
    "duration": 20,
    "start_time": "2022-03-20T19:29:05.634Z"
   },
   {
    "duration": 20959,
    "start_time": "2022-03-20T19:29:05.656Z"
   },
   {
    "duration": 162,
    "start_time": "2022-03-20T19:29:26.618Z"
   },
   {
    "duration": 103,
    "start_time": "2022-03-20T19:29:26.782Z"
   },
   {
    "duration": 446,
    "start_time": "2022-03-20T19:29:26.888Z"
   }
  ],
  "kernelspec": {
   "display_name": "Python 3 (ipykernel)",
   "language": "python",
   "name": "python3"
  },
  "language_info": {
   "codemirror_mode": {
    "name": "ipython",
    "version": 3
   },
   "file_extension": ".py",
   "mimetype": "text/x-python",
   "name": "python",
   "nbconvert_exporter": "python",
   "pygments_lexer": "ipython3",
   "version": "3.9.7"
  },
  "toc": {
   "base_numbering": 1,
   "nav_menu": {},
   "number_sections": true,
   "sideBar": true,
   "skip_h1_title": true,
   "title_cell": "Содержание",
   "title_sidebar": "Contents",
   "toc_cell": true,
   "toc_position": {
    "height": "calc(100% - 180px)",
    "left": "10px",
    "top": "150px",
    "width": "309.188px"
   },
   "toc_section_display": true,
   "toc_window_display": false
  }
 },
 "nbformat": 4,
 "nbformat_minor": 2
}
