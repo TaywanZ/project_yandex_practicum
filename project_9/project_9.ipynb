{
 "cells": [
  {
   "cell_type": "markdown",
   "metadata": {
    "toc": true
   },
   "source": [
    "<h1>Содержание<span class=\"tocSkip\"></span></h1>\n",
    "<div class=\"toc\"><ul class=\"toc-item\"><li><span><a href=\"#Загрузка-данных\" data-toc-modified-id=\"Загрузка-данных-1\"><span class=\"toc-item-num\">1&nbsp;&nbsp;</span>Загрузка данных</a></span></li><li><span><a href=\"#Умножение-матриц\" data-toc-modified-id=\"Умножение-матриц-2\"><span class=\"toc-item-num\">2&nbsp;&nbsp;</span>Умножение матриц</a></span></li><li><span><a href=\"#Алгоритм-преобразования\" data-toc-modified-id=\"Алгоритм-преобразования-3\"><span class=\"toc-item-num\">3&nbsp;&nbsp;</span>Алгоритм преобразования</a></span></li><li><span><a href=\"#Проверка-алгоритма\" data-toc-modified-id=\"Проверка-алгоритма-4\"><span class=\"toc-item-num\">4&nbsp;&nbsp;</span>Проверка алгоритма</a></span><ul class=\"toc-item\"><li><span><a href=\"#Вывод\" data-toc-modified-id=\"Вывод-4.1\"><span class=\"toc-item-num\">4.1&nbsp;&nbsp;</span>Вывод</a></span></li></ul></li><li><span><a href=\"#Чек-лист-проверки\" data-toc-modified-id=\"Чек-лист-проверки-5\"><span class=\"toc-item-num\">5&nbsp;&nbsp;</span>Чек-лист проверки</a></span></li></ul></div>"
   ]
  },
  {
   "cell_type": "markdown",
   "metadata": {},
   "source": [
    "# Защита персональных данных клиентов"
   ]
  },
  {
   "cell_type": "markdown",
   "metadata": {},
   "source": [
    "## Загрузка данных"
   ]
  },
  {
   "cell_type": "markdown",
   "metadata": {},
   "source": [
    "Для начала произведем подгрузку необходимых библиотек."
   ]
  },
  {
   "cell_type": "code",
   "execution_count": 1,
   "metadata": {},
   "outputs": [],
   "source": [
    "import pandas as pd\n",
    "import numpy as np\n",
    "from sklearn.metrics import r2_score\n",
    "from sklearn.linear_model import LinearRegression\n",
    "from sklearn.model_selection import train_test_split"
   ]
  },
  {
   "cell_type": "markdown",
   "metadata": {},
   "source": [
    "Загрузим данные."
   ]
  },
  {
   "cell_type": "code",
   "execution_count": 2,
   "metadata": {},
   "outputs": [],
   "source": [
    "df = pd.read_csv('/datasets/insurance.csv')"
   ]
  },
  {
   "cell_type": "markdown",
   "metadata": {},
   "source": [
    "Доготовим функцию вывода информации о датафрейме. Вызовем её и ознакомимся с данными."
   ]
  },
  {
   "cell_type": "code",
   "execution_count": 3,
   "metadata": {},
   "outputs": [],
   "source": [
    "def info_df(df):\n",
    "    print(df.info())\n",
    "    print()\n",
    "    print(df.isna().sum() / df.shape[0])\n",
    "    print()\n",
    "    display(df.head())"
   ]
  },
  {
   "cell_type": "code",
   "execution_count": 4,
   "metadata": {},
   "outputs": [
    {
     "name": "stdout",
     "output_type": "stream",
     "text": [
      "<class 'pandas.core.frame.DataFrame'>\n",
      "RangeIndex: 5000 entries, 0 to 4999\n",
      "Data columns (total 5 columns):\n",
      " #   Column             Non-Null Count  Dtype  \n",
      "---  ------             --------------  -----  \n",
      " 0   Пол                5000 non-null   int64  \n",
      " 1   Возраст            5000 non-null   float64\n",
      " 2   Зарплата           5000 non-null   float64\n",
      " 3   Члены семьи        5000 non-null   int64  \n",
      " 4   Страховые выплаты  5000 non-null   int64  \n",
      "dtypes: float64(2), int64(3)\n",
      "memory usage: 195.4 KB\n",
      "None\n",
      "\n",
      "Пол                  0.0\n",
      "Возраст              0.0\n",
      "Зарплата             0.0\n",
      "Члены семьи          0.0\n",
      "Страховые выплаты    0.0\n",
      "dtype: float64\n",
      "\n"
     ]
    },
    {
     "data": {
      "text/html": [
       "<div>\n",
       "<style scoped>\n",
       "    .dataframe tbody tr th:only-of-type {\n",
       "        vertical-align: middle;\n",
       "    }\n",
       "\n",
       "    .dataframe tbody tr th {\n",
       "        vertical-align: top;\n",
       "    }\n",
       "\n",
       "    .dataframe thead th {\n",
       "        text-align: right;\n",
       "    }\n",
       "</style>\n",
       "<table border=\"1\" class=\"dataframe\">\n",
       "  <thead>\n",
       "    <tr style=\"text-align: right;\">\n",
       "      <th></th>\n",
       "      <th>Пол</th>\n",
       "      <th>Возраст</th>\n",
       "      <th>Зарплата</th>\n",
       "      <th>Члены семьи</th>\n",
       "      <th>Страховые выплаты</th>\n",
       "    </tr>\n",
       "  </thead>\n",
       "  <tbody>\n",
       "    <tr>\n",
       "      <th>0</th>\n",
       "      <td>1</td>\n",
       "      <td>41.0</td>\n",
       "      <td>49600.0</td>\n",
       "      <td>1</td>\n",
       "      <td>0</td>\n",
       "    </tr>\n",
       "    <tr>\n",
       "      <th>1</th>\n",
       "      <td>0</td>\n",
       "      <td>46.0</td>\n",
       "      <td>38000.0</td>\n",
       "      <td>1</td>\n",
       "      <td>1</td>\n",
       "    </tr>\n",
       "    <tr>\n",
       "      <th>2</th>\n",
       "      <td>0</td>\n",
       "      <td>29.0</td>\n",
       "      <td>21000.0</td>\n",
       "      <td>0</td>\n",
       "      <td>0</td>\n",
       "    </tr>\n",
       "    <tr>\n",
       "      <th>3</th>\n",
       "      <td>0</td>\n",
       "      <td>21.0</td>\n",
       "      <td>41700.0</td>\n",
       "      <td>2</td>\n",
       "      <td>0</td>\n",
       "    </tr>\n",
       "    <tr>\n",
       "      <th>4</th>\n",
       "      <td>1</td>\n",
       "      <td>28.0</td>\n",
       "      <td>26100.0</td>\n",
       "      <td>0</td>\n",
       "      <td>0</td>\n",
       "    </tr>\n",
       "  </tbody>\n",
       "</table>\n",
       "</div>"
      ],
      "text/plain": [
       "   Пол  Возраст  Зарплата  Члены семьи  Страховые выплаты\n",
       "0    1     41.0   49600.0            1                  0\n",
       "1    0     46.0   38000.0            1                  1\n",
       "2    0     29.0   21000.0            0                  0\n",
       "3    0     21.0   41700.0            2                  0\n",
       "4    1     28.0   26100.0            0                  0"
      ]
     },
     "metadata": {},
     "output_type": "display_data"
    }
   ],
   "source": [
    "info_df(df)"
   ]
  },
  {
   "cell_type": "markdown",
   "metadata": {},
   "source": [
    "В данных нет пропусков, но два стобца имеют не оптимальный тип данных. Приведём их к целочисленному типу."
   ]
  },
  {
   "cell_type": "code",
   "execution_count": 5,
   "metadata": {},
   "outputs": [],
   "source": [
    "df['Возраст'] = df['Возраст'].astype('int64')\n",
    "df['Зарплата'] = df['Зарплата'].astype('int64')"
   ]
  },
  {
   "cell_type": "code",
   "execution_count": 6,
   "metadata": {},
   "outputs": [
    {
     "name": "stdout",
     "output_type": "stream",
     "text": [
      "<class 'pandas.core.frame.DataFrame'>\n",
      "RangeIndex: 5000 entries, 0 to 4999\n",
      "Data columns (total 5 columns):\n",
      " #   Column             Non-Null Count  Dtype\n",
      "---  ------             --------------  -----\n",
      " 0   Пол                5000 non-null   int64\n",
      " 1   Возраст            5000 non-null   int64\n",
      " 2   Зарплата           5000 non-null   int64\n",
      " 3   Члены семьи        5000 non-null   int64\n",
      " 4   Страховые выплаты  5000 non-null   int64\n",
      "dtypes: int64(5)\n",
      "memory usage: 195.4 KB\n",
      "None\n",
      "\n",
      "Пол                  0.0\n",
      "Возраст              0.0\n",
      "Зарплата             0.0\n",
      "Члены семьи          0.0\n",
      "Страховые выплаты    0.0\n",
      "dtype: float64\n",
      "\n"
     ]
    },
    {
     "data": {
      "text/html": [
       "<div>\n",
       "<style scoped>\n",
       "    .dataframe tbody tr th:only-of-type {\n",
       "        vertical-align: middle;\n",
       "    }\n",
       "\n",
       "    .dataframe tbody tr th {\n",
       "        vertical-align: top;\n",
       "    }\n",
       "\n",
       "    .dataframe thead th {\n",
       "        text-align: right;\n",
       "    }\n",
       "</style>\n",
       "<table border=\"1\" class=\"dataframe\">\n",
       "  <thead>\n",
       "    <tr style=\"text-align: right;\">\n",
       "      <th></th>\n",
       "      <th>Пол</th>\n",
       "      <th>Возраст</th>\n",
       "      <th>Зарплата</th>\n",
       "      <th>Члены семьи</th>\n",
       "      <th>Страховые выплаты</th>\n",
       "    </tr>\n",
       "  </thead>\n",
       "  <tbody>\n",
       "    <tr>\n",
       "      <th>0</th>\n",
       "      <td>1</td>\n",
       "      <td>41</td>\n",
       "      <td>49600</td>\n",
       "      <td>1</td>\n",
       "      <td>0</td>\n",
       "    </tr>\n",
       "    <tr>\n",
       "      <th>1</th>\n",
       "      <td>0</td>\n",
       "      <td>46</td>\n",
       "      <td>38000</td>\n",
       "      <td>1</td>\n",
       "      <td>1</td>\n",
       "    </tr>\n",
       "    <tr>\n",
       "      <th>2</th>\n",
       "      <td>0</td>\n",
       "      <td>29</td>\n",
       "      <td>21000</td>\n",
       "      <td>0</td>\n",
       "      <td>0</td>\n",
       "    </tr>\n",
       "    <tr>\n",
       "      <th>3</th>\n",
       "      <td>0</td>\n",
       "      <td>21</td>\n",
       "      <td>41700</td>\n",
       "      <td>2</td>\n",
       "      <td>0</td>\n",
       "    </tr>\n",
       "    <tr>\n",
       "      <th>4</th>\n",
       "      <td>1</td>\n",
       "      <td>28</td>\n",
       "      <td>26100</td>\n",
       "      <td>0</td>\n",
       "      <td>0</td>\n",
       "    </tr>\n",
       "  </tbody>\n",
       "</table>\n",
       "</div>"
      ],
      "text/plain": [
       "   Пол  Возраст  Зарплата  Члены семьи  Страховые выплаты\n",
       "0    1       41     49600            1                  0\n",
       "1    0       46     38000            1                  1\n",
       "2    0       29     21000            0                  0\n",
       "3    0       21     41700            2                  0\n",
       "4    1       28     26100            0                  0"
      ]
     },
     "metadata": {},
     "output_type": "display_data"
    }
   ],
   "source": [
    "info_df(df)"
   ]
  },
  {
   "cell_type": "markdown",
   "metadata": {},
   "source": [
    "Теперь замечаний нет. С датафреймом можно работать."
   ]
  },
  {
   "cell_type": "markdown",
   "metadata": {},
   "source": [
    "## Умножение матриц"
   ]
  },
  {
   "cell_type": "markdown",
   "metadata": {},
   "source": [
    "В этом задании вы можете записывать формулы в *Jupyter Notebook.*\n",
    "\n",
    "Чтобы записать формулу внутри текста, окружите её символами доллара \\\\$; если снаружи —  двойными символами \\\\$\\\\$. Эти формулы записываются на языке вёрстки *LaTeX.* \n",
    "\n",
    "Для примера мы записали формулы линейной регрессии. Можете их скопировать и отредактировать, чтобы решить задачу.\n",
    "\n",
    "Работать в *LaTeX* необязательно."
   ]
  },
  {
   "cell_type": "markdown",
   "metadata": {},
   "source": [
    "Обозначения:\n",
    "\n",
    "- $X$ — матрица признаков (нулевой столбец состоит из единиц)\n",
    "\n",
    "- $y$ — вектор целевого признака\n",
    "\n",
    "- $P$ — матрица, на которую умножаются признаки\n",
    "\n",
    "- $w$ — вектор весов линейной регрессии (нулевой элемент равен сдвигу)"
   ]
  },
  {
   "cell_type": "markdown",
   "metadata": {},
   "source": [
    "Предсказания:\n",
    "\n",
    "$$\n",
    "a = Xw\n",
    "$$\n",
    "\n",
    "(1) Задача обучения:\n",
    "\n",
    "$$\n",
    "w = \\arg\\min_w MSE(Xw, y)\n",
    "$$\n",
    "\n",
    "(2) Формула обучения:\n",
    "\n",
    "$$\n",
    "w = (X^T X)^{-1} X^Ty\n",
    "$$"
   ]
  },
  {
   "cell_type": "markdown",
   "metadata": {},
   "source": [
    "**Ответ:** не изменится\n",
    "\n",
    "**Обоснование:**\n",
    "\n",
    "Рассмотрим два случая:\n",
    "\n",
    "- Обучение проходим на начальной матрице признаков;\n",
    "- Обучение проходит на матрице признаков, домноженной на матрицу P;\n",
    "\n",
    "В обоих случаях вектор целевых признаков **y** - одинаков. Это можно записать как:\n",
    "\n",
    "$$\n",
    "a_{1} = X𝑤_{1}\n",
    "$$\n",
    "$$\n",
    "a_{2} = XP𝑤_{2}\n",
    "$$\n",
    "\n",
    "(3) Или, можем это переписать в виде подставив в формулу (1) формулу (2):\n",
    "\n",
    "$$\n",
    "a_{1} = X(X^{T}X)^{-1}X^{T}y\n",
    "$$\n",
    "$$\n",
    "a_{2} = (XP)((XP)^{T}(XP))^{-1}(XP)^{T}y\n",
    "$$\n"
   ]
  },
  {
   "cell_type": "markdown",
   "metadata": {},
   "source": [
    "Далее, в явном виде выразим **y** из первого уравнения, домножив обе стороны слева на обратные матрицы:\n",
    "\n",
    "$$\n",
    "(X(X^{T}X)^{-1}X^{T})^{-1}a_{1} = (X(X^{T}X)^{-1}X^{T})^{-1}(X(X^{T}X)^{-1}X^{T})y\n",
    "$$\n",
    "\n",
    "Для удобстав поменяем части уравнения местами, умножение обратной матриы на начальную дает единичную матрицу:\n",
    "\n",
    "$$\n",
    "Ey = (X(X^{T}X)^{-1}X^{T})^{-1}a_{1}\n",
    "$$\n",
    "\n",
    "Умножение единичной матрицы на любую матрицу А дает матрицу А:\n",
    "\n",
    "$$\n",
    "y = (X(X^{T}X)^{-1}X^{T})^{-1}a_{1}\n",
    "$$\n",
    "\n",
    "Подставим полученное уравнение во вторую формулу в системе (3):\n",
    "\n",
    "$$\n",
    "a_{2} = (XP)((XP)^{T}(XP))^{-1}(XP)^{T}(X(X^{T}X)^{-1}X^{T})^{-1}a_{1}\n",
    "$$"
   ]
  },
  {
   "cell_type": "markdown",
   "metadata": {},
   "source": [
    "Применим свойства транспонирования матриц, получим:\n",
    "\n",
    "$$\n",
    "a_{2} = (XP)((P^{T}X^{T})(XP))^{-1}(P^{T}X^{T}))(X(X^{T}X)^{-1}X^{T})^{-1}a_{1}\n",
    "$$\n",
    "\n",
    "Примем:\n",
    "\n",
    "$$\n",
    "XP = C_{1}\n",
    "$$\n",
    "$$\n",
    "P^{T}X^{T} = C_{2}\n",
    "$$\n",
    "\n",
    "Сделаем подстановку:\n",
    "\n",
    "$$\n",
    "a_{2} = C_{1}(C_{2}C_{1})^{-1}(C_{2}))(X(X^{T}X)^{-1}X^{T})^{-1}a_{1}\n",
    "$$\n",
    "\n",
    "Применим свойство обратных матриц, получим:\n",
    "\n",
    "$$\n",
    "a_{2} = (C_{1}C_{1}^{-1}C_{2}^{-1}C_{2})(X(X^{T}X)^{-1}X^{T})^{-1}a_{1}\n",
    "$$\n",
    "\n",
    "$$\n",
    "a_{2} = EE(X(X^{T}X)^{-1}X^{T})^{-1}a_{1}\n",
    "$$\n",
    "\n",
    "Сократим еденичные матрицы, получим:\n",
    "\n",
    "$$\n",
    "a_{2} = (XX^{-1}X^{T,-1}X^{T})^{-1}a_{1}\n",
    "$$\n",
    "$$\n",
    "a_{2} = (EE)^{-1}a_{1}\n",
    "$$\n",
    "$$\n",
    "a_{2} = a_{1}\n",
    "$$\n",
    "\n",
    "Мы теоритические доказали, что домножение матрицы признаков не влияет на предсказания, ввиду того, что вектор целевых признаков в обоих ситуациях одинаков и изменения коснуться только вектора весов."
   ]
  },
  {
   "cell_type": "markdown",
   "metadata": {},
   "source": [
    "## Алгоритм преобразования"
   ]
  },
  {
   "cell_type": "markdown",
   "metadata": {},
   "source": [
    "**Алгоритм**\n",
    "\n",
    "1. Разделим исходную выборку на обучающую и тестовую (отделив целевой признак)\n",
    "2. Создадим матрицу, размером 4х4 (для созранения возможности умножения и размерности обучающих данных), обратимую.\n",
    "3. Преобразуем датафреймы в матрицы/вектора;\n",
    "4. Домножим матрично обучающий и тестовый датафреймы признаков на созданную матрицу справо.\n",
    "5. Обучим модель на обучающей матрице;\n",
    "6. Рассчитаем метрику R2 на тестовой выборке;"
   ]
  },
  {
   "cell_type": "markdown",
   "metadata": {},
   "source": [
    "**Обоснование**\n",
    "\n",
    "В качестве обоснования, будем использовать выведенные формулы из пункта 2. В ходе преобразований, было доказано, что при условии постоянства вектора целевых признаков, предсказания линейной регрессии, использующей в качестве признаков изначальную матрицу признаков, и домноженную справа на дополнительную матрицу, будут одинаковы.\n",
    "\n",
    "Следовательно, мы можем применить предложенный алгоритм."
   ]
  },
  {
   "cell_type": "markdown",
   "metadata": {},
   "source": [
    "## Проверка алгоритма"
   ]
  },
  {
   "cell_type": "markdown",
   "metadata": {},
   "source": [
    "В соответствие с алгоритмом, разделим исходную выборку на обучающую и тестовую"
   ]
  },
  {
   "cell_type": "code",
   "execution_count": 7,
   "metadata": {},
   "outputs": [],
   "source": [
    "features = df.drop('Страховые выплаты', axis=1)\n",
    "target = df['Страховые выплаты']"
   ]
  },
  {
   "cell_type": "code",
   "execution_count": 8,
   "metadata": {},
   "outputs": [],
   "source": [
    "train_f, test_f, train_t, test_t = train_test_split(features, target, test_size=0.25, random_state=12)"
   ]
  },
  {
   "cell_type": "markdown",
   "metadata": {},
   "source": [
    "Создадим матрицу, размером 4х4."
   ]
  },
  {
   "cell_type": "code",
   "execution_count": 9,
   "metadata": {},
   "outputs": [],
   "source": [
    "B = np.random.randint(1, 10, (4,4))"
   ]
  },
  {
   "cell_type": "markdown",
   "metadata": {},
   "source": [
    "Подготовим функцию обучения и рассчёта метрики модели."
   ]
  },
  {
   "cell_type": "code",
   "execution_count": 10,
   "metadata": {},
   "outputs": [],
   "source": [
    "def prediction(model, features, target, test_f, test_t):\n",
    "    model.fit(features, target)\n",
    "    predict = model.predict(test_f)\n",
    "    score = r2_score(test_t, predict)\n",
    "    return score"
   ]
  },
  {
   "cell_type": "markdown",
   "metadata": {},
   "source": [
    "Далее, подготовим преобразованные матрицы признаков."
   ]
  },
  {
   "cell_type": "code",
   "execution_count": 11,
   "metadata": {},
   "outputs": [],
   "source": [
    "train_f_save_data = train_f.values @ B\n",
    "test_f_save_data = test_f.values @ B\n",
    "model = LinearRegression()"
   ]
  },
  {
   "cell_type": "markdown",
   "metadata": {},
   "source": [
    "Используя подготовленные данные, обучим модель и рассчитаем метрику R2 для преобразованных признаков и не приобразованных признаков."
   ]
  },
  {
   "cell_type": "code",
   "execution_count": 12,
   "metadata": {},
   "outputs": [
    {
     "name": "stdout",
     "output_type": "stream",
     "text": [
      "R2 без преобразования 0.4470952050844097\n",
      "R2 с преобразованием: 0.4470952050839776\n"
     ]
    }
   ],
   "source": [
    "print('R2 без преобразования', prediction(model, train_f, train_t, test_f, test_t))\n",
    "print('R2 с преобразованием:', prediction(model, train_f_save_data, train_t, test_f_save_data, test_t))"
   ]
  },
  {
   "cell_type": "markdown",
   "metadata": {},
   "source": [
    "### Вывод"
   ]
  },
  {
   "cell_type": "markdown",
   "metadata": {},
   "source": [
    "В работе теоритические доказали, а потом и на практике подтвердили (разработав алгоритм), что домножение исходной матрицы признаков на обратимую матрицу, не исзменяет метрики линейной регресси, что видно в предидущем пункте.\n",
    "\n",
    "Алгоритм защиты данных разработан."
   ]
  }
 ],
 "metadata": {
  "ExecuteTimeLog": [
   {
    "duration": 1661,
    "start_time": "2022-04-20T18:23:05.727Z"
   },
   {
    "duration": 16,
    "start_time": "2022-04-20T18:23:20.878Z"
   },
   {
    "duration": 4,
    "start_time": "2022-04-20T18:24:35.742Z"
   },
   {
    "duration": 49,
    "start_time": "2022-04-20T18:24:49.275Z"
   },
   {
    "duration": 5,
    "start_time": "2022-04-20T19:10:35.708Z"
   },
   {
    "duration": 7,
    "start_time": "2022-04-20T19:11:26.519Z"
   },
   {
    "duration": 8,
    "start_time": "2022-04-20T19:12:26.661Z"
   },
   {
    "duration": 16,
    "start_time": "2022-04-20T19:13:44.738Z"
   },
   {
    "duration": 105,
    "start_time": "2022-04-20T19:17:31.993Z"
   },
   {
    "duration": 142,
    "start_time": "2022-04-20T19:17:36.598Z"
   },
   {
    "duration": 1881,
    "start_time": "2022-04-20T19:19:40.080Z"
   },
   {
    "duration": 15,
    "start_time": "2022-04-20T19:19:44.129Z"
   },
   {
    "duration": 5,
    "start_time": "2022-04-20T19:19:45.226Z"
   },
   {
    "duration": 40,
    "start_time": "2022-04-20T19:19:58.112Z"
   },
   {
    "duration": 7,
    "start_time": "2022-04-20T19:20:02.265Z"
   },
   {
    "duration": 9,
    "start_time": "2022-04-20T19:20:02.886Z"
   },
   {
    "duration": 16,
    "start_time": "2022-04-20T19:20:04.169Z"
   },
   {
    "duration": 215,
    "start_time": "2022-04-20T19:20:28.268Z"
   },
   {
    "duration": 1564,
    "start_time": "2022-04-20T19:21:16.055Z"
   },
   {
    "duration": 14,
    "start_time": "2022-04-20T19:21:17.622Z"
   },
   {
    "duration": 5,
    "start_time": "2022-04-20T19:21:17.642Z"
   },
   {
    "duration": 57,
    "start_time": "2022-04-20T19:21:17.650Z"
   },
   {
    "duration": 6,
    "start_time": "2022-04-20T19:21:17.709Z"
   },
   {
    "duration": 7,
    "start_time": "2022-04-20T19:21:17.718Z"
   },
   {
    "duration": 16,
    "start_time": "2022-04-20T19:21:17.727Z"
   },
   {
    "duration": 1550,
    "start_time": "2022-04-20T19:22:29.960Z"
   },
   {
    "duration": 16,
    "start_time": "2022-04-20T19:22:31.513Z"
   },
   {
    "duration": 5,
    "start_time": "2022-04-20T19:22:31.534Z"
   },
   {
    "duration": 53,
    "start_time": "2022-04-20T19:22:31.542Z"
   },
   {
    "duration": 6,
    "start_time": "2022-04-20T19:22:31.597Z"
   },
   {
    "duration": 26,
    "start_time": "2022-04-20T19:22:31.605Z"
   },
   {
    "duration": 31,
    "start_time": "2022-04-20T19:22:31.633Z"
   },
   {
    "duration": 1511,
    "start_time": "2022-04-20T19:23:16.794Z"
   },
   {
    "duration": 15,
    "start_time": "2022-04-20T19:23:18.311Z"
   },
   {
    "duration": 5,
    "start_time": "2022-04-20T19:23:18.328Z"
   },
   {
    "duration": 50,
    "start_time": "2022-04-20T19:23:18.335Z"
   },
   {
    "duration": 5,
    "start_time": "2022-04-20T19:23:18.387Z"
   },
   {
    "duration": 9,
    "start_time": "2022-04-20T19:23:18.394Z"
   },
   {
    "duration": 16,
    "start_time": "2022-04-20T19:23:18.406Z"
   },
   {
    "duration": 1506,
    "start_time": "2022-04-20T19:23:42.005Z"
   },
   {
    "duration": 15,
    "start_time": "2022-04-20T19:23:43.514Z"
   },
   {
    "duration": 5,
    "start_time": "2022-04-20T19:23:43.531Z"
   },
   {
    "duration": 74,
    "start_time": "2022-04-20T19:23:43.538Z"
   },
   {
    "duration": 7,
    "start_time": "2022-04-20T19:23:43.616Z"
   },
   {
    "duration": 18,
    "start_time": "2022-04-20T19:23:43.625Z"
   },
   {
    "duration": 42,
    "start_time": "2022-04-20T19:23:43.647Z"
   },
   {
    "duration": 580,
    "start_time": "2022-04-20T19:23:43.692Z"
   },
   {
    "duration": 507,
    "start_time": "2022-04-20T19:24:25.286Z"
   },
   {
    "duration": 356,
    "start_time": "2022-04-20T19:24:48.343Z"
   },
   {
    "duration": 380,
    "start_time": "2022-04-20T19:25:07.617Z"
   },
   {
    "duration": 1680,
    "start_time": "2022-04-20T19:25:37.651Z"
   },
   {
    "duration": 19,
    "start_time": "2022-04-20T19:25:39.335Z"
   },
   {
    "duration": 4,
    "start_time": "2022-04-20T19:25:39.357Z"
   },
   {
    "duration": 51,
    "start_time": "2022-04-20T19:25:39.363Z"
   },
   {
    "duration": 7,
    "start_time": "2022-04-20T19:25:39.418Z"
   },
   {
    "duration": 10,
    "start_time": "2022-04-20T19:25:39.428Z"
   },
   {
    "duration": 14,
    "start_time": "2022-04-20T19:25:39.440Z"
   },
   {
    "duration": 1526,
    "start_time": "2022-04-20T19:27:15.011Z"
   },
   {
    "duration": 16,
    "start_time": "2022-04-20T19:27:16.540Z"
   },
   {
    "duration": 4,
    "start_time": "2022-04-20T19:27:16.558Z"
   },
   {
    "duration": 50,
    "start_time": "2022-04-20T19:27:16.564Z"
   },
   {
    "duration": 5,
    "start_time": "2022-04-20T19:27:16.617Z"
   },
   {
    "duration": 11,
    "start_time": "2022-04-20T19:27:16.624Z"
   },
   {
    "duration": 12,
    "start_time": "2022-04-20T19:27:16.637Z"
   },
   {
    "duration": 99081,
    "start_time": "2022-04-20T19:27:16.651Z"
   },
   {
    "duration": 386,
    "start_time": "2022-04-20T19:31:30.904Z"
   },
   {
    "duration": 476,
    "start_time": "2022-04-20T19:32:00.307Z"
   },
   {
    "duration": 12,
    "start_time": "2022-04-20T19:33:28.295Z"
   },
   {
    "duration": 14,
    "start_time": "2022-04-20T19:34:33.626Z"
   },
   {
    "duration": 13,
    "start_time": "2022-04-20T19:37:54.540Z"
   },
   {
    "duration": 12,
    "start_time": "2022-04-20T19:38:05.321Z"
   },
   {
    "duration": 13,
    "start_time": "2022-04-20T19:38:10.278Z"
   },
   {
    "duration": 14,
    "start_time": "2022-04-20T19:38:12.397Z"
   },
   {
    "duration": 4,
    "start_time": "2022-04-20T19:38:15.566Z"
   },
   {
    "duration": 22,
    "start_time": "2022-04-20T19:38:15.572Z"
   },
   {
    "duration": 5,
    "start_time": "2022-04-20T19:38:15.596Z"
   },
   {
    "duration": 28,
    "start_time": "2022-04-20T19:38:15.605Z"
   },
   {
    "duration": 6,
    "start_time": "2022-04-20T19:38:15.635Z"
   },
   {
    "duration": 39,
    "start_time": "2022-04-20T19:38:15.644Z"
   },
   {
    "duration": 12,
    "start_time": "2022-04-20T19:38:15.685Z"
   },
   {
    "duration": 12,
    "start_time": "2022-04-20T19:38:15.699Z"
   },
   {
    "duration": 21,
    "start_time": "2022-04-20T19:39:17.024Z"
   },
   {
    "duration": 13,
    "start_time": "2022-04-20T19:39:24.993Z"
   },
   {
    "duration": 9,
    "start_time": "2022-04-20T19:39:47.688Z"
   },
   {
    "duration": 5,
    "start_time": "2022-04-20T19:39:50.106Z"
   },
   {
    "duration": 20,
    "start_time": "2022-04-20T19:39:50.113Z"
   },
   {
    "duration": 5,
    "start_time": "2022-04-20T19:39:50.134Z"
   },
   {
    "duration": 34,
    "start_time": "2022-04-20T19:39:50.141Z"
   },
   {
    "duration": 6,
    "start_time": "2022-04-20T19:39:50.177Z"
   },
   {
    "duration": 10,
    "start_time": "2022-04-20T19:39:50.185Z"
   },
   {
    "duration": 10,
    "start_time": "2022-04-20T19:39:50.198Z"
   },
   {
    "duration": 12,
    "start_time": "2022-04-20T19:39:50.211Z"
   },
   {
    "duration": 7,
    "start_time": "2022-04-20T19:39:50.227Z"
   },
   {
    "duration": 9,
    "start_time": "2022-04-20T19:40:14.986Z"
   },
   {
    "duration": 4,
    "start_time": "2022-04-20T19:41:34.490Z"
   },
   {
    "duration": 23,
    "start_time": "2022-04-20T19:41:34.496Z"
   },
   {
    "duration": 4,
    "start_time": "2022-04-20T19:41:34.521Z"
   },
   {
    "duration": 30,
    "start_time": "2022-04-20T19:41:34.527Z"
   },
   {
    "duration": 5,
    "start_time": "2022-04-20T19:41:34.560Z"
   },
   {
    "duration": 17,
    "start_time": "2022-04-20T19:41:34.567Z"
   },
   {
    "duration": 14,
    "start_time": "2022-04-20T19:41:34.586Z"
   },
   {
    "duration": 12,
    "start_time": "2022-04-20T19:41:34.602Z"
   },
   {
    "duration": 8,
    "start_time": "2022-04-20T19:41:34.616Z"
   },
   {
    "duration": 62,
    "start_time": "2022-04-20T19:41:34.625Z"
   },
   {
    "duration": 5,
    "start_time": "2022-04-20T19:41:57.774Z"
   },
   {
    "duration": 18,
    "start_time": "2022-04-20T19:41:57.781Z"
   },
   {
    "duration": 10,
    "start_time": "2022-04-20T19:41:57.801Z"
   },
   {
    "duration": 35,
    "start_time": "2022-04-20T19:41:57.814Z"
   },
   {
    "duration": 5,
    "start_time": "2022-04-20T19:41:57.852Z"
   },
   {
    "duration": 24,
    "start_time": "2022-04-20T19:41:57.859Z"
   },
   {
    "duration": 14,
    "start_time": "2022-04-20T19:41:57.885Z"
   },
   {
    "duration": 8090,
    "start_time": "2022-04-20T19:41:57.901Z"
   },
   {
    "duration": 190,
    "start_time": "2022-04-20T19:42:05.994Z"
   },
   {
    "duration": 0,
    "start_time": "2022-04-20T19:42:06.186Z"
   },
   {
    "duration": 117,
    "start_time": "2022-04-20T19:42:23.937Z"
   },
   {
    "duration": 7516,
    "start_time": "2022-04-20T20:52:36.173Z"
   },
   {
    "duration": 21,
    "start_time": "2022-04-20T20:53:06.105Z"
   },
   {
    "duration": 14,
    "start_time": "2022-04-20T20:53:12.811Z"
   },
   {
    "duration": 9,
    "start_time": "2022-04-20T20:53:14.850Z"
   },
   {
    "duration": 17,
    "start_time": "2022-04-20T20:53:24.733Z"
   },
   {
    "duration": 9,
    "start_time": "2022-04-20T20:55:06.530Z"
   },
   {
    "duration": 15,
    "start_time": "2022-04-20T21:19:05.216Z"
   },
   {
    "duration": 14,
    "start_time": "2022-04-20T21:19:25.816Z"
   },
   {
    "duration": 1575,
    "start_time": "2022-04-21T08:16:41.450Z"
   },
   {
    "duration": 15,
    "start_time": "2022-04-21T08:16:43.028Z"
   },
   {
    "duration": 6,
    "start_time": "2022-04-21T08:16:43.046Z"
   },
   {
    "duration": 41,
    "start_time": "2022-04-21T08:16:43.056Z"
   },
   {
    "duration": 7,
    "start_time": "2022-04-21T08:16:43.099Z"
   },
   {
    "duration": 12,
    "start_time": "2022-04-21T08:16:43.108Z"
   },
   {
    "duration": 5,
    "start_time": "2022-04-21T08:16:43.152Z"
   },
   {
    "duration": 11,
    "start_time": "2022-04-21T08:16:43.160Z"
   },
   {
    "duration": 8,
    "start_time": "2022-04-21T08:16:43.173Z"
   },
   {
    "duration": 16,
    "start_time": "2022-04-21T08:16:43.184Z"
   },
   {
    "duration": 5,
    "start_time": "2022-04-21T08:18:15.646Z"
   },
   {
    "duration": 22,
    "start_time": "2022-04-21T08:18:15.655Z"
   },
   {
    "duration": 4,
    "start_time": "2022-04-21T08:18:15.680Z"
   },
   {
    "duration": 28,
    "start_time": "2022-04-21T08:18:15.687Z"
   },
   {
    "duration": 5,
    "start_time": "2022-04-21T08:18:15.719Z"
   },
   {
    "duration": 30,
    "start_time": "2022-04-21T08:18:15.727Z"
   },
   {
    "duration": 5,
    "start_time": "2022-04-21T08:18:15.759Z"
   },
   {
    "duration": 10,
    "start_time": "2022-04-21T08:18:15.766Z"
   },
   {
    "duration": 8,
    "start_time": "2022-04-21T08:18:15.777Z"
   },
   {
    "duration": 21,
    "start_time": "2022-04-21T08:18:15.787Z"
   },
   {
    "duration": 6,
    "start_time": "2022-04-21T08:25:27.559Z"
   },
   {
    "duration": 27,
    "start_time": "2022-04-21T08:25:35.363Z"
   },
   {
    "duration": 1460,
    "start_time": "2022-04-21T08:27:13.275Z"
   },
   {
    "duration": 15,
    "start_time": "2022-04-21T08:27:14.738Z"
   },
   {
    "duration": 4,
    "start_time": "2022-04-21T08:27:14.755Z"
   },
   {
    "duration": 43,
    "start_time": "2022-04-21T08:27:14.761Z"
   },
   {
    "duration": 6,
    "start_time": "2022-04-21T08:27:14.807Z"
   },
   {
    "duration": 51,
    "start_time": "2022-04-21T08:27:14.815Z"
   },
   {
    "duration": 6,
    "start_time": "2022-04-21T08:27:14.868Z"
   },
   {
    "duration": 9,
    "start_time": "2022-04-21T08:27:14.876Z"
   },
   {
    "duration": 5,
    "start_time": "2022-04-21T08:27:14.887Z"
   },
   {
    "duration": 9,
    "start_time": "2022-04-21T08:27:14.894Z"
   },
   {
    "duration": 7,
    "start_time": "2022-04-21T08:27:14.905Z"
   },
   {
    "duration": 48,
    "start_time": "2022-04-21T08:27:14.913Z"
   }
  ],
  "kernelspec": {
   "display_name": "Python 3 (ipykernel)",
   "language": "python",
   "name": "python3"
  },
  "language_info": {
   "codemirror_mode": {
    "name": "ipython",
    "version": 3
   },
   "file_extension": ".py",
   "mimetype": "text/x-python",
   "name": "python",
   "nbconvert_exporter": "python",
   "pygments_lexer": "ipython3",
   "version": "3.9.7"
  },
  "toc": {
   "base_numbering": 1,
   "nav_menu": {},
   "number_sections": true,
   "sideBar": true,
   "skip_h1_title": true,
   "title_cell": "Содержание",
   "title_sidebar": "Contents",
   "toc_cell": true,
   "toc_position": {},
   "toc_section_display": true,
   "toc_window_display": true
  }
 },
 "nbformat": 4,
 "nbformat_minor": 2
}
