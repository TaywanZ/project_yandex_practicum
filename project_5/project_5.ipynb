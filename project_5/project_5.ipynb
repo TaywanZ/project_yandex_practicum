{
 "cells": [
  {
   "cell_type": "markdown",
   "metadata": {},
   "source": [
    "# Рекомендация тарифов"
   ]
  },
  {
   "cell_type": "markdown",
   "metadata": {},
   "source": [
    "В вашем распоряжении данные о поведении клиентов, которые уже перешли на эти тарифы (из проекта курса «Статистический анализ данных»). Нужно построить модель для задачи классификации, которая выберет подходящий тариф. Предобработка данных не понадобится — вы её уже сделали.\n",
    "\n",
    "Постройте модель с максимально большим значением *accuracy*. Чтобы сдать проект успешно, нужно довести долю правильных ответов по крайней мере до 0.75. Проверьте *accuracy* на тестовой выборке самостоятельно."
   ]
  },
  {
   "cell_type": "markdown",
   "metadata": {},
   "source": [
    "## Откройте и изучите файл"
   ]
  },
  {
   "cell_type": "markdown",
   "metadata": {},
   "source": [
    "Для начала импортируем необходимые модули и функции."
   ]
  },
  {
   "cell_type": "code",
   "execution_count": 42,
   "metadata": {},
   "outputs": [],
   "source": [
    "import pandas as pd\n",
    "import matplotlib.pyplot as plt\n",
    "\n",
    "from sklearn.tree import DecisionTreeClassifier\n",
    "from sklearn.ensemble import RandomForestClassifier\n",
    "from sklearn.linear_model import LogisticRegression\n",
    "from sklearn.metrics import accuracy_score, confusion_matrix\n",
    "from sklearn.model_selection import train_test_split\n",
    "from sklearn.dummy import DummyClassifier"
   ]
  },
  {
   "cell_type": "markdown",
   "metadata": {},
   "source": [
    "Далее, загрузим данные и ознакомимся с ними, убедимся, что данные пригодны для работы и не требуют предообработки."
   ]
  },
  {
   "cell_type": "code",
   "execution_count": 43,
   "metadata": {},
   "outputs": [
    {
     "data": {
      "text/html": [
       "<div>\n",
       "<style scoped>\n",
       "    .dataframe tbody tr th:only-of-type {\n",
       "        vertical-align: middle;\n",
       "    }\n",
       "\n",
       "    .dataframe tbody tr th {\n",
       "        vertical-align: top;\n",
       "    }\n",
       "\n",
       "    .dataframe thead th {\n",
       "        text-align: right;\n",
       "    }\n",
       "</style>\n",
       "<table border=\"1\" class=\"dataframe\">\n",
       "  <thead>\n",
       "    <tr style=\"text-align: right;\">\n",
       "      <th></th>\n",
       "      <th>calls</th>\n",
       "      <th>minutes</th>\n",
       "      <th>messages</th>\n",
       "      <th>mb_used</th>\n",
       "      <th>is_ultra</th>\n",
       "    </tr>\n",
       "  </thead>\n",
       "  <tbody>\n",
       "    <tr>\n",
       "      <td>0</td>\n",
       "      <td>40.0</td>\n",
       "      <td>311.90</td>\n",
       "      <td>83.0</td>\n",
       "      <td>19915.42</td>\n",
       "      <td>0</td>\n",
       "    </tr>\n",
       "    <tr>\n",
       "      <td>1</td>\n",
       "      <td>85.0</td>\n",
       "      <td>516.75</td>\n",
       "      <td>56.0</td>\n",
       "      <td>22696.96</td>\n",
       "      <td>0</td>\n",
       "    </tr>\n",
       "    <tr>\n",
       "      <td>2</td>\n",
       "      <td>77.0</td>\n",
       "      <td>467.66</td>\n",
       "      <td>86.0</td>\n",
       "      <td>21060.45</td>\n",
       "      <td>0</td>\n",
       "    </tr>\n",
       "    <tr>\n",
       "      <td>3</td>\n",
       "      <td>106.0</td>\n",
       "      <td>745.53</td>\n",
       "      <td>81.0</td>\n",
       "      <td>8437.39</td>\n",
       "      <td>1</td>\n",
       "    </tr>\n",
       "    <tr>\n",
       "      <td>4</td>\n",
       "      <td>66.0</td>\n",
       "      <td>418.74</td>\n",
       "      <td>1.0</td>\n",
       "      <td>14502.75</td>\n",
       "      <td>0</td>\n",
       "    </tr>\n",
       "    <tr>\n",
       "      <td>5</td>\n",
       "      <td>58.0</td>\n",
       "      <td>344.56</td>\n",
       "      <td>21.0</td>\n",
       "      <td>15823.37</td>\n",
       "      <td>0</td>\n",
       "    </tr>\n",
       "    <tr>\n",
       "      <td>6</td>\n",
       "      <td>57.0</td>\n",
       "      <td>431.64</td>\n",
       "      <td>20.0</td>\n",
       "      <td>3738.90</td>\n",
       "      <td>1</td>\n",
       "    </tr>\n",
       "    <tr>\n",
       "      <td>7</td>\n",
       "      <td>15.0</td>\n",
       "      <td>132.40</td>\n",
       "      <td>6.0</td>\n",
       "      <td>21911.60</td>\n",
       "      <td>0</td>\n",
       "    </tr>\n",
       "    <tr>\n",
       "      <td>8</td>\n",
       "      <td>7.0</td>\n",
       "      <td>43.39</td>\n",
       "      <td>3.0</td>\n",
       "      <td>2538.67</td>\n",
       "      <td>1</td>\n",
       "    </tr>\n",
       "    <tr>\n",
       "      <td>9</td>\n",
       "      <td>90.0</td>\n",
       "      <td>665.41</td>\n",
       "      <td>38.0</td>\n",
       "      <td>17358.61</td>\n",
       "      <td>0</td>\n",
       "    </tr>\n",
       "  </tbody>\n",
       "</table>\n",
       "</div>"
      ],
      "text/plain": [
       "   calls  minutes  messages   mb_used  is_ultra\n",
       "0   40.0   311.90      83.0  19915.42         0\n",
       "1   85.0   516.75      56.0  22696.96         0\n",
       "2   77.0   467.66      86.0  21060.45         0\n",
       "3  106.0   745.53      81.0   8437.39         1\n",
       "4   66.0   418.74       1.0  14502.75         0\n",
       "5   58.0   344.56      21.0  15823.37         0\n",
       "6   57.0   431.64      20.0   3738.90         1\n",
       "7   15.0   132.40       6.0  21911.60         0\n",
       "8    7.0    43.39       3.0   2538.67         1\n",
       "9   90.0   665.41      38.0  17358.61         0"
      ]
     },
     "execution_count": 43,
     "metadata": {},
     "output_type": "execute_result"
    }
   ],
   "source": [
    "df = pd.read_csv('/datasets/users_behavior.csv')\n",
    "\n",
    "df.head(10)"
   ]
  },
  {
   "cell_type": "code",
   "execution_count": 44,
   "metadata": {},
   "outputs": [
    {
     "name": "stdout",
     "output_type": "stream",
     "text": [
      "<class 'pandas.core.frame.DataFrame'>\n",
      "RangeIndex: 3214 entries, 0 to 3213\n",
      "Data columns (total 5 columns):\n",
      "calls       3214 non-null float64\n",
      "minutes     3214 non-null float64\n",
      "messages    3214 non-null float64\n",
      "mb_used     3214 non-null float64\n",
      "is_ultra    3214 non-null int64\n",
      "dtypes: float64(4), int64(1)\n",
      "memory usage: 125.7 KB\n"
     ]
    }
   ],
   "source": [
    "df.info()"
   ]
  },
  {
   "cell_type": "code",
   "execution_count": 45,
   "metadata": {},
   "outputs": [
    {
     "data": {
      "text/html": [
       "<div>\n",
       "<style scoped>\n",
       "    .dataframe tbody tr th:only-of-type {\n",
       "        vertical-align: middle;\n",
       "    }\n",
       "\n",
       "    .dataframe tbody tr th {\n",
       "        vertical-align: top;\n",
       "    }\n",
       "\n",
       "    .dataframe thead th {\n",
       "        text-align: right;\n",
       "    }\n",
       "</style>\n",
       "<table border=\"1\" class=\"dataframe\">\n",
       "  <thead>\n",
       "    <tr style=\"text-align: right;\">\n",
       "      <th></th>\n",
       "      <th>calls</th>\n",
       "      <th>minutes</th>\n",
       "      <th>messages</th>\n",
       "      <th>mb_used</th>\n",
       "      <th>is_ultra</th>\n",
       "    </tr>\n",
       "  </thead>\n",
       "  <tbody>\n",
       "    <tr>\n",
       "      <td>count</td>\n",
       "      <td>3214.000000</td>\n",
       "      <td>3214.000000</td>\n",
       "      <td>3214.000000</td>\n",
       "      <td>3214.000000</td>\n",
       "      <td>3214.000000</td>\n",
       "    </tr>\n",
       "    <tr>\n",
       "      <td>mean</td>\n",
       "      <td>63.038892</td>\n",
       "      <td>438.208787</td>\n",
       "      <td>38.281269</td>\n",
       "      <td>17207.673836</td>\n",
       "      <td>0.306472</td>\n",
       "    </tr>\n",
       "    <tr>\n",
       "      <td>std</td>\n",
       "      <td>33.236368</td>\n",
       "      <td>234.569872</td>\n",
       "      <td>36.148326</td>\n",
       "      <td>7570.968246</td>\n",
       "      <td>0.461100</td>\n",
       "    </tr>\n",
       "    <tr>\n",
       "      <td>min</td>\n",
       "      <td>0.000000</td>\n",
       "      <td>0.000000</td>\n",
       "      <td>0.000000</td>\n",
       "      <td>0.000000</td>\n",
       "      <td>0.000000</td>\n",
       "    </tr>\n",
       "    <tr>\n",
       "      <td>25%</td>\n",
       "      <td>40.000000</td>\n",
       "      <td>274.575000</td>\n",
       "      <td>9.000000</td>\n",
       "      <td>12491.902500</td>\n",
       "      <td>0.000000</td>\n",
       "    </tr>\n",
       "    <tr>\n",
       "      <td>50%</td>\n",
       "      <td>62.000000</td>\n",
       "      <td>430.600000</td>\n",
       "      <td>30.000000</td>\n",
       "      <td>16943.235000</td>\n",
       "      <td>0.000000</td>\n",
       "    </tr>\n",
       "    <tr>\n",
       "      <td>75%</td>\n",
       "      <td>82.000000</td>\n",
       "      <td>571.927500</td>\n",
       "      <td>57.000000</td>\n",
       "      <td>21424.700000</td>\n",
       "      <td>1.000000</td>\n",
       "    </tr>\n",
       "    <tr>\n",
       "      <td>max</td>\n",
       "      <td>244.000000</td>\n",
       "      <td>1632.060000</td>\n",
       "      <td>224.000000</td>\n",
       "      <td>49745.730000</td>\n",
       "      <td>1.000000</td>\n",
       "    </tr>\n",
       "  </tbody>\n",
       "</table>\n",
       "</div>"
      ],
      "text/plain": [
       "             calls      minutes     messages       mb_used     is_ultra\n",
       "count  3214.000000  3214.000000  3214.000000   3214.000000  3214.000000\n",
       "mean     63.038892   438.208787    38.281269  17207.673836     0.306472\n",
       "std      33.236368   234.569872    36.148326   7570.968246     0.461100\n",
       "min       0.000000     0.000000     0.000000      0.000000     0.000000\n",
       "25%      40.000000   274.575000     9.000000  12491.902500     0.000000\n",
       "50%      62.000000   430.600000    30.000000  16943.235000     0.000000\n",
       "75%      82.000000   571.927500    57.000000  21424.700000     1.000000\n",
       "max     244.000000  1632.060000   224.000000  49745.730000     1.000000"
      ]
     },
     "execution_count": 45,
     "metadata": {},
     "output_type": "execute_result"
    }
   ],
   "source": [
    "df.describe()"
   ]
  },
  {
   "cell_type": "markdown",
   "metadata": {},
   "source": [
    "Числовое описание данных в норме. Показатели центральной тенденции у всех признаков в норме, нет указаний на явные выбросы.\n",
    "Однако дополнительно рассмотрим графики, что бы точно в этом убедиться."
   ]
  },
  {
   "cell_type": "code",
   "execution_count": 46,
   "metadata": {},
   "outputs": [],
   "source": [
    "df_info = df.drop('is_ultra', axis=1)"
   ]
  },
  {
   "cell_type": "code",
   "execution_count": 47,
   "metadata": {},
   "outputs": [
    {
     "data": {
      "image/png": "[encoded data removed]",
      "text/plain": [
       "<Figure size 432x288 with 1 Axes>"
      ]
     },
     "metadata": {
      "needs_background": "light"
     },
     "output_type": "display_data"
    },
    {
     "data": {
      "image/png": "[encoded data removed]",
      "text/plain": [
       "<Figure size 432x288 with 1 Axes>"
      ]
     },
     "metadata": {
      "needs_background": "light"
     },
     "output_type": "display_data"
    },
    {
     "data": {
      "image/png": "[encoded data removed]",
      "text/plain": [
       "<Figure size 432x288 with 1 Axes>"
      ]
     },
     "metadata": {
      "needs_background": "light"
     },
     "output_type": "display_data"
    },
    {
     "data": {
      "image/png": "[encoded data removed]",
      "text/plain": [
       "<Figure size 432x288 with 1 Axes>"
      ]
     },
     "metadata": {
      "needs_background": "light"
     },
     "output_type": "display_data"
    }
   ],
   "source": [
    "columns = df_info.columns\n",
    "for col in columns:\n",
    "    plt.boxplot(df_info[col])\n",
    "    plt.grid()\n",
    "    plt.title(col)\n",
    "    plt.show()"
   ]
  },
  {
   "cell_type": "markdown",
   "metadata": {},
   "source": [
    "В выборке присутствуют некоторые выборосы, однако они не критичны. Данные можно использовать для обучение и проверки моделей."
   ]
  },
  {
   "cell_type": "markdown",
   "metadata": {},
   "source": [
    "## Разбейте данные на выборки"
   ]
  },
  {
   "cell_type": "markdown",
   "metadata": {},
   "source": [
    "В данном пункте разобьем исходную выборку на три:\n",
    "\n",
    "- Обучующую;\n",
    "- Валидативную;\n",
    "- Тестовую;\n",
    "\n",
    "Разбитие выборок будем производить в пропорциях: 60% / 20% / 20%."
   ]
  },
  {
   "cell_type": "code",
   "execution_count": 48,
   "metadata": {},
   "outputs": [],
   "source": [
    "features = df.drop('is_ultra', axis=1)\n",
    "target = df['is_ultra']"
   ]
  },
  {
   "cell_type": "code",
   "execution_count": 49,
   "metadata": {},
   "outputs": [
    {
     "name": "stdout",
     "output_type": "stream",
     "text": [
      "Тренировочная база: (1928, 4) (1928,)\n",
      "Валидная база: (643, 4) (643,)\n",
      "Тестовая база: (643, 4) (643,)\n"
     ]
    }
   ],
   "source": [
    "features_train, features_valid, target_train, target_valid = train_test_split(features, target,\n",
    "                                                                               test_size=0.2, random_state=1234)\n",
    "features_train, features_test, target_train, target_test = train_test_split(features_train, target_train,\n",
    "                                                                               test_size=0.25, random_state=1234)\n",
    "print('Тренировочная база:', features_train.shape, target_train.shape)\n",
    "print('Валидная база:', features_valid.shape, target_valid.shape)\n",
    "print('Тестовая база:', features_test.shape, target_test.shape)"
   ]
  },
  {
   "cell_type": "code",
   "execution_count": 50,
   "metadata": {},
   "outputs": [
    {
     "name": "stdout",
     "output_type": "stream",
     "text": [
      "Процент объектов в обучающей выборке: 0.60\n",
      "Процент объектов в валидной выборке: 0.20\n",
      "Процент объектов в тестовой выборке: 0.20\n"
     ]
    }
   ],
   "source": [
    "all_size = df.shape[0]\n",
    "train_size = features_train.shape[0]\n",
    "valid_size = features_valid.shape[0]\n",
    "test_size = features_test.shape[0]\n",
    "\n",
    "print(f'Процент объектов в обучающей выборке: {(train_size / all_size):.2f}')\n",
    "print(f'Процент объектов в валидной выборке: {(valid_size / all_size):.2f}')\n",
    "print(f'Процент объектов в тестовой выборке: {(test_size / all_size):.2f}')"
   ]
  },
  {
   "cell_type": "markdown",
   "metadata": {},
   "source": [
    "Разбитие исходной выборки на тренировочную, валидирующую и тестовую выполнены."
   ]
  },
  {
   "cell_type": "markdown",
   "metadata": {},
   "source": [
    "## Исследуйте модели"
   ]
  },
  {
   "cell_type": "markdown",
   "metadata": {},
   "source": [
    "Теперь, исследуем три модели классификации: решающее дерево, случайный лес и логистическую регрессию.\n",
    "\n",
    "Начнём с дерева. Найдем глубину дерева, при которой модель покажет наилучший результат на валидирующей выборке и сохраним его в переменную."
   ]
  },
  {
   "cell_type": "code",
   "execution_count": 51,
   "metadata": {},
   "outputs": [
    {
     "name": "stdout",
     "output_type": "stream",
     "text": [
      "Лучшая оценка: 0.7931570762052877\n",
      "Глубина дерева: 9\n"
     ]
    }
   ],
   "source": [
    "best_score_1 = 0\n",
    "best_depth_1 = 0\n",
    "\n",
    "for depth in range(1,50):\n",
    "    model = DecisionTreeClassifier(random_state=12345, max_depth=depth)\n",
    "    model.fit(features_train, target_train)\n",
    "    result = model.predict(features_valid)\n",
    "    accuracy = accuracy_score(target_valid, result)\n",
    "    if accuracy > best_score_1:\n",
    "        best_score_1 = accuracy\n",
    "        best_depth_1 = depth\n",
    "print('Лучшая оценка:', best_score_1)\n",
    "print('Глубина дерева:', best_depth_1)"
   ]
  },
  {
   "cell_type": "markdown",
   "metadata": {},
   "source": [
    "Далее рассмотрим модель рандомного леса, найдем наилучшее сочетание глубины дерева и количества деревьем на валидирующей выборке, результаты и параметры модели сохраним в переменные."
   ]
  },
  {
   "cell_type": "code",
   "execution_count": 52,
   "metadata": {},
   "outputs": [
    {
     "name": "stdout",
     "output_type": "stream",
     "text": [
      "Лучшая оценка: 0.8242612752721618\n",
      "Глубина дерева: 11\n",
      "Количество деревьев: 27\n"
     ]
    }
   ],
   "source": [
    "best_score_2 = 0\n",
    "best_depth_2 = 0\n",
    "best_est = 0\n",
    "\n",
    "for depth in range(1,15):\n",
    "    for est in range(1,50):\n",
    "        model = RandomForestClassifier(random_state=12345, max_depth=depth, n_estimators=est)\n",
    "        model.fit(features_train, target_train)\n",
    "        result = model.predict(features_valid)\n",
    "        accuracy = accuracy_score(target_valid, result)\n",
    "        if accuracy > best_score_2:\n",
    "            best_score_2 = accuracy\n",
    "            best_depth_2 = depth\n",
    "            best_est = est\n",
    "print('Лучшая оценка:', best_score_2)\n",
    "print('Глубина дерева:', best_depth_2)\n",
    "print('Количество деревьев:', best_est)"
   ]
  },
  {
   "cell_type": "markdown",
   "metadata": {},
   "source": [
    "И в конце проверим логистическуб регрессию. Сохраним оценку модули на валидирубщей выборке в переменную."
   ]
  },
  {
   "cell_type": "code",
   "execution_count": 53,
   "metadata": {},
   "outputs": [
    {
     "name": "stdout",
     "output_type": "stream",
     "text": [
      "Лучшая оценка: 0.7293934681181959\n"
     ]
    },
    {
     "name": "stderr",
     "output_type": "stream",
     "text": [
      "/opt/conda/lib/python3.7/site-packages/sklearn/linear_model/logistic.py:432: FutureWarning: Default solver will be changed to 'lbfgs' in 0.22. Specify a solver to silence this warning.\n",
      "  FutureWarning)\n"
     ]
    }
   ],
   "source": [
    "model = LogisticRegression(random_state=12345)\n",
    "model.fit(features_train, target_train)\n",
    "result = model.predict(features_valid)\n",
    "best_score_3 = accuracy_score(target_valid, result)\n",
    "print('Лучшая оценка:', best_score_3)"
   ]
  },
  {
   "cell_type": "markdown",
   "metadata": {},
   "source": [
    "Получим таблицу с результатами и выберем наилучшую, с точки зрения оценки, модель и её параметры."
   ]
  },
  {
   "cell_type": "code",
   "execution_count": 54,
   "metadata": {},
   "outputs": [
    {
     "data": {
      "text/html": [
       "<div>\n",
       "<style scoped>\n",
       "    .dataframe tbody tr th:only-of-type {\n",
       "        vertical-align: middle;\n",
       "    }\n",
       "\n",
       "    .dataframe tbody tr th {\n",
       "        vertical-align: top;\n",
       "    }\n",
       "\n",
       "    .dataframe thead th {\n",
       "        text-align: right;\n",
       "    }\n",
       "</style>\n",
       "<table border=\"1\" class=\"dataframe\">\n",
       "  <thead>\n",
       "    <tr style=\"text-align: right;\">\n",
       "      <th></th>\n",
       "      <th>score</th>\n",
       "      <th>depth</th>\n",
       "      <th>est</th>\n",
       "    </tr>\n",
       "  </thead>\n",
       "  <tbody>\n",
       "    <tr>\n",
       "      <td>Решающее дерево</td>\n",
       "      <td>0.793157</td>\n",
       "      <td>9.0</td>\n",
       "      <td>NaN</td>\n",
       "    </tr>\n",
       "    <tr>\n",
       "      <td>Случайный Лес</td>\n",
       "      <td>0.824261</td>\n",
       "      <td>11.0</td>\n",
       "      <td>27.0</td>\n",
       "    </tr>\n",
       "    <tr>\n",
       "      <td>Логистическая Регрессия</td>\n",
       "      <td>0.729393</td>\n",
       "      <td>NaN</td>\n",
       "      <td>NaN</td>\n",
       "    </tr>\n",
       "  </tbody>\n",
       "</table>\n",
       "</div>"
      ],
      "text/plain": [
       "                            score  depth   est\n",
       "Решающее дерево          0.793157    9.0   NaN\n",
       "Случайный Лес            0.824261   11.0  27.0\n",
       "Логистическая Регрессия  0.729393    NaN   NaN"
      ]
     },
     "execution_count": 54,
     "metadata": {},
     "output_type": "execute_result"
    }
   ],
   "source": [
    "data = {\n",
    "    'score': [best_score_1, best_score_2, best_score_3],\n",
    "    'depth': [best_depth_1, best_depth_2, None],\n",
    "    'est': [None, best_est, None]\n",
    "}\n",
    "result_df = pd.DataFrame(data, index=['Решающее дерево', 'Случайный Лес', 'Логистическая Регрессия'])\n",
    "result_df"
   ]
  },
  {
   "cell_type": "markdown",
   "metadata": {},
   "source": [
    "Наилучший результат показала модель *случайный лес*."
   ]
  },
  {
   "cell_type": "markdown",
   "metadata": {},
   "source": [
    "## Проверьте модель на тестовой выборке"
   ]
  },
  {
   "cell_type": "markdown",
   "metadata": {},
   "source": [
    "Далее, проверим как покажет себя выбранная нами модель на тестовой выборке."
   ]
  },
  {
   "cell_type": "code",
   "execution_count": 55,
   "metadata": {},
   "outputs": [
    {
     "name": "stdout",
     "output_type": "stream",
     "text": [
      "Оценка модели: 0.8087091757387247\n"
     ]
    }
   ],
   "source": [
    "model = RandomForestClassifier(random_state=12345, max_depth=best_depth_2, n_estimators=best_est)\n",
    "model.fit(features_train, target_train)\n",
    "result = model.predict(features_test)\n",
    "accuracy = accuracy_score(target_test, result)\n",
    "print('Оценка модели:', accuracy)"
   ]
  },
  {
   "cell_type": "markdown",
   "metadata": {},
   "source": [
    "Результат несколько хуже, чем на валидирубщей выборке, однако удовлетворяет изначальной задаче - добиться оценки выше 0.75. Поэтому можем считать данную модель с данными гиперпараметрами удовлетворяющую условиям задачи."
   ]
  },
  {
   "cell_type": "markdown",
   "metadata": {},
   "source": [
    "## Проверка модели на адекватность"
   ]
  },
  {
   "cell_type": "markdown",
   "metadata": {},
   "source": [
    "Судя по матрице ошибок модель верно определила примерно половину категорий \"0\". Скорее всего, это говорит о необходимости доработки модели, даже при условии прохождения по требованию оценки."
   ]
  },
  {
   "cell_type": "markdown",
   "metadata": {},
   "source": [
    "Поскольку мы имеет в работе биноминальную классификацию, для проверки на адекватность можно использовать: константы 0 или 1, и рандомное присваивание меток. Оценки для этих проверок должны быть:\n",
    "\n",
    "*1) Равны долям констант в тестовой выборке.*\n",
    "\n",
    "*2) Стремиться к 0.5, если считать, что выбор производится случайно, а шанс верно присвоить метку равен P=0.5.*\n",
    "\n",
    "Применим структуру данных DummyClassifier, посчитает оценки модели для каждого случая и сравним с выбранной моделью.\n",
    "\n",
    "В первом случание, модель будет всегда присваивать наиболее часто встречающуюся метку. В нашем случание это 0."
   ]
  },
  {
   "cell_type": "code",
   "execution_count": 57,
   "metadata": {},
   "outputs": [
    {
     "name": "stdout",
     "output_type": "stream",
     "text": [
      "Оценка модели: 0.6998444790046656\n"
     ]
    }
   ],
   "source": [
    "model = DummyClassifier(strategy='most_frequent', random_state=12345)\n",
    "model.fit(features_train, target_train)\n",
    "result_test = model.predict(features_test)\n",
    "accuracy_test = accuracy_score(target_test, result_test)\n",
    "print('Оценка модели:', accuracy_test)"
   ]
  },
  {
   "cell_type": "code",
   "execution_count": 58,
   "metadata": {},
   "outputs": [
    {
     "data": {
      "text/plain": [
       "array([[450,   0],\n",
       "       [193,   0]])"
      ]
     },
     "execution_count": 58,
     "metadata": {},
     "output_type": "execute_result"
    }
   ],
   "source": [
    "confusion_matrix(target_test, result_test)"
   ]
  },
  {
   "cell_type": "markdown",
   "metadata": {},
   "source": [
    "Далее, пусть модель всегда присваивает менее встречающуюся метку."
   ]
  },
  {
   "cell_type": "code",
   "execution_count": 59,
   "metadata": {},
   "outputs": [
    {
     "name": "stdout",
     "output_type": "stream",
     "text": [
      "Оценка модели: 0.3001555209953344\n"
     ]
    }
   ],
   "source": [
    "model = DummyClassifier(strategy='constant', random_state=12345, constant=1)\n",
    "model.fit(features_train, target_train)\n",
    "result_test_2 = model.predict(features_test)\n",
    "accuracy_test_2 = accuracy_score(target_test, result_test_2)\n",
    "print('Оценка модели:', accuracy_test_2)"
   ]
  },
  {
   "cell_type": "code",
   "execution_count": 60,
   "metadata": {},
   "outputs": [
    {
     "data": {
      "text/plain": [
       "array([[  0, 450],\n",
       "       [  0, 193]])"
      ]
     },
     "execution_count": 60,
     "metadata": {},
     "output_type": "execute_result"
    }
   ],
   "source": [
    "confusion_matrix(target_test, result_test_2)"
   ]
  },
  {
   "cell_type": "markdown",
   "metadata": {},
   "source": [
    "И, наконец, случаный выбор метки."
   ]
  },
  {
   "cell_type": "code",
   "execution_count": 61,
   "metadata": {},
   "outputs": [
    {
     "name": "stdout",
     "output_type": "stream",
     "text": [
      "Оценка модели: 0.6018662519440124\n"
     ]
    }
   ],
   "source": [
    "model = DummyClassifier(strategy='stratified', random_state=12345)\n",
    "model.fit(features_train, target_train)\n",
    "result_test_3 = model.predict(features_test)\n",
    "accuracy_test_3 = accuracy_score(target_test, result_test_3)\n",
    "print('Оценка модели:', accuracy_test_3)"
   ]
  },
  {
   "cell_type": "code",
   "execution_count": 62,
   "metadata": {},
   "outputs": [
    {
     "data": {
      "text/plain": [
       "array([[323, 127],\n",
       "       [129,  64]])"
      ]
     },
     "execution_count": 62,
     "metadata": {},
     "output_type": "execute_result"
    }
   ],
   "source": [
    "confusion_matrix(target_test, result_test_3)"
   ]
  },
  {
   "cell_type": "markdown",
   "metadata": {},
   "source": [
    "Как видно из результатов, выбранная в 4 пунтке модель, выполняет классификацию с лучшей точностью, чем модели, присваивающие метки в виде констант или же случайным присваиванием. Это говорит о правильности выбранной модели."
   ]
  },
  {
   "cell_type": "markdown",
   "metadata": {},
   "source": [
    "### Общий вывод по работе"
   ]
  },
  {
   "cell_type": "markdown",
   "metadata": {},
   "source": [
    "В ходе работы был загружен и проверян на пригодность к работе датасет с информацией о клиентах компании. Далее, датасет был разбит на три выборки в пропорциях 0.6/0.2/0.2 для обучение, валидации и теста модели.\n",
    "\n",
    "Далее, был исследованы три типа модели с изменением гиперпараметров:\n",
    "\n",
    "- Решающее дерево;\n",
    "- Случайный лес;\n",
    "- Логистическая регрессия;\n",
    "\n",
    "В ходе валидации, было определено, что наилучшую оценку (0.824) показывает модель случайного леса с глубиной 11 и числом деревьев 27.\n",
    "\n",
    "Далее, выбранная модель была проверена на тестовой выборке, где показала оценку 0.808, что полностью удовлетворет условиям задачи.\n",
    "\n",
    "В конце работы была проверена адекватность модели. Результаты выбранной модели сравнили с результатами моделей, которые присваивали метки классификации в виде констант, а так же рандомно. По результатам оценки, выбранная модель признана адекватной."
   ]
  }
 ],
 "metadata": {
  "ExecuteTimeLog": [
   {
    "duration": 1707,
    "start_time": "2022-02-21T18:43:57.653Z"
   },
   {
    "duration": 3,
    "start_time": "2022-02-21T18:44:07.195Z"
   },
   {
    "duration": 23,
    "start_time": "2022-02-21T18:44:46.866Z"
   },
   {
    "duration": 7,
    "start_time": "2022-02-21T18:45:00.327Z"
   },
   {
    "duration": -95,
    "start_time": "2022-02-21T18:46:49.698Z"
   },
   {
    "duration": 22,
    "start_time": "2022-02-21T18:47:12.160Z"
   },
   {
    "duration": 11,
    "start_time": "2022-02-21T18:48:05.236Z"
   },
   {
    "duration": 196,
    "start_time": "2022-02-21T18:48:18.491Z"
   },
   {
    "duration": 171,
    "start_time": "2022-02-21T18:48:32.969Z"
   },
   {
    "duration": 4,
    "start_time": "2022-02-21T18:48:47.970Z"
   },
   {
    "duration": 174,
    "start_time": "2022-02-21T18:50:00.535Z"
   },
   {
    "duration": 180,
    "start_time": "2022-02-21T18:50:19.697Z"
   },
   {
    "duration": 573,
    "start_time": "2022-02-21T18:50:25.273Z"
   },
   {
    "duration": 611,
    "start_time": "2022-02-21T18:51:18.770Z"
   },
   {
    "duration": 481,
    "start_time": "2022-02-21T18:52:12.581Z"
   },
   {
    "duration": 476,
    "start_time": "2022-02-21T18:52:25.355Z"
   },
   {
    "duration": 163,
    "start_time": "2022-02-21T18:59:12.517Z"
   },
   {
    "duration": 4,
    "start_time": "2022-02-21T18:59:27.586Z"
   },
   {
    "duration": 169,
    "start_time": "2022-02-21T18:59:28.518Z"
   },
   {
    "duration": 193,
    "start_time": "2022-02-21T19:00:28.393Z"
   },
   {
    "duration": 56,
    "start_time": "2022-02-21T19:01:15.838Z"
   },
   {
    "duration": 166,
    "start_time": "2022-02-21T19:01:40.574Z"
   },
   {
    "duration": 5,
    "start_time": "2022-02-21T19:02:04.904Z"
   },
   {
    "duration": 176,
    "start_time": "2022-02-21T19:02:05.347Z"
   },
   {
    "duration": 8,
    "start_time": "2022-02-21T19:02:18.389Z"
   },
   {
    "duration": 7,
    "start_time": "2022-02-21T19:03:00.402Z"
   },
   {
    "duration": 221,
    "start_time": "2022-02-21T19:03:19.064Z"
   },
   {
    "duration": 10,
    "start_time": "2022-02-21T19:03:23.527Z"
   },
   {
    "duration": 8,
    "start_time": "2022-02-21T19:04:22.484Z"
   },
   {
    "duration": 46,
    "start_time": "2022-02-21T20:09:28.025Z"
   },
   {
    "duration": 84,
    "start_time": "2022-02-21T20:09:38.925Z"
   },
   {
    "duration": 187,
    "start_time": "2022-02-21T20:09:50.974Z"
   },
   {
    "duration": 85,
    "start_time": "2022-02-21T20:11:39.208Z"
   },
   {
    "duration": 406,
    "start_time": "2022-02-21T20:11:42.881Z"
   },
   {
    "duration": 514,
    "start_time": "2022-02-21T20:13:38.674Z"
   },
   {
    "duration": 427,
    "start_time": "2022-02-21T20:14:16.686Z"
   },
   {
    "duration": 119592,
    "start_time": "2022-02-21T20:17:12.634Z"
   },
   {
    "duration": 23889,
    "start_time": "2022-02-21T20:19:17.450Z"
   },
   {
    "duration": 44092,
    "start_time": "2022-02-21T20:20:03.658Z"
   },
   {
    "duration": 46909,
    "start_time": "2022-02-21T20:21:09.321Z"
   },
   {
    "duration": 43957,
    "start_time": "2022-02-21T20:22:13.409Z"
   },
   {
    "duration": 13,
    "start_time": "2022-02-21T20:25:47.311Z"
   },
   {
    "duration": 62,
    "start_time": "2022-02-21T20:29:41.970Z"
   },
   {
    "duration": 59,
    "start_time": "2022-02-21T20:29:47.878Z"
   },
   {
    "duration": 176,
    "start_time": "2022-02-21T20:29:54.225Z"
   },
   {
    "duration": 602,
    "start_time": "2022-02-21T20:30:00.393Z"
   },
   {
    "duration": 438,
    "start_time": "2022-02-21T20:30:09.223Z"
   },
   {
    "duration": 236,
    "start_time": "2022-02-21T20:30:12.380Z"
   },
   {
    "duration": 196,
    "start_time": "2022-02-21T20:30:23.735Z"
   },
   {
    "duration": 171,
    "start_time": "2022-02-21T20:30:33.392Z"
   },
   {
    "duration": 185,
    "start_time": "2022-02-21T20:30:39.742Z"
   },
   {
    "duration": 12,
    "start_time": "2022-02-21T20:30:46.398Z"
   },
   {
    "duration": 10,
    "start_time": "2022-02-21T20:31:16.788Z"
   },
   {
    "duration": 88,
    "start_time": "2022-02-21T20:32:47.041Z"
   },
   {
    "duration": 4,
    "start_time": "2022-02-21T20:48:30.153Z"
   },
   {
    "duration": 25,
    "start_time": "2022-02-21T20:48:30.159Z"
   },
   {
    "duration": 6,
    "start_time": "2022-02-21T20:48:30.185Z"
   },
   {
    "duration": 22,
    "start_time": "2022-02-21T20:48:30.193Z"
   },
   {
    "duration": 13,
    "start_time": "2022-02-21T20:48:30.217Z"
   },
   {
    "duration": 523,
    "start_time": "2022-02-21T20:48:30.232Z"
   },
   {
    "duration": 4,
    "start_time": "2022-02-21T20:48:30.756Z"
   },
   {
    "duration": 14,
    "start_time": "2022-02-21T20:48:30.761Z"
   },
   {
    "duration": 466,
    "start_time": "2022-02-21T20:48:30.778Z"
   },
   {
    "duration": 17036,
    "start_time": "2022-02-21T20:48:31.246Z"
   },
   {
    "duration": -110,
    "start_time": "2022-02-21T20:48:48.394Z"
   },
   {
    "duration": -108,
    "start_time": "2022-02-21T20:48:48.394Z"
   },
   {
    "duration": -107,
    "start_time": "2022-02-21T20:48:48.395Z"
   },
   {
    "duration": -107,
    "start_time": "2022-02-21T20:48:48.396Z"
   },
   {
    "duration": 4,
    "start_time": "2022-02-21T20:48:48.539Z"
   },
   {
    "duration": 24,
    "start_time": "2022-02-21T20:48:48.550Z"
   },
   {
    "duration": 8,
    "start_time": "2022-02-21T20:48:48.576Z"
   },
   {
    "duration": 44,
    "start_time": "2022-02-21T20:48:48.587Z"
   },
   {
    "duration": 5,
    "start_time": "2022-02-21T20:48:48.633Z"
   },
   {
    "duration": 516,
    "start_time": "2022-02-21T20:48:48.640Z"
   },
   {
    "duration": 4,
    "start_time": "2022-02-21T20:48:49.157Z"
   },
   {
    "duration": 11,
    "start_time": "2022-02-21T20:48:49.162Z"
   },
   {
    "duration": 452,
    "start_time": "2022-02-21T20:48:49.175Z"
   },
   {
    "duration": 43842,
    "start_time": "2022-02-21T20:48:49.631Z"
   },
   {
    "duration": 16,
    "start_time": "2022-02-21T20:49:33.475Z"
   },
   {
    "duration": 10,
    "start_time": "2022-02-21T20:49:33.493Z"
   },
   {
    "duration": 88,
    "start_time": "2022-02-21T20:49:33.531Z"
   },
   {
    "duration": 6,
    "start_time": "2022-02-21T20:49:33.630Z"
   },
   {
    "duration": 5,
    "start_time": "2022-02-21T21:04:43.704Z"
   },
   {
    "duration": 221,
    "start_time": "2022-02-21T21:04:56.729Z"
   },
   {
    "duration": 73,
    "start_time": "2022-02-21T21:05:09.553Z"
   },
   {
    "duration": 71,
    "start_time": "2022-02-21T21:05:17.926Z"
   },
   {
    "duration": 66,
    "start_time": "2022-02-21T21:05:26.117Z"
   },
   {
    "duration": 19,
    "start_time": "2022-02-21T21:06:49.243Z"
   },
   {
    "duration": 3,
    "start_time": "2022-02-21T21:06:53.525Z"
   },
   {
    "duration": 28,
    "start_time": "2022-02-21T21:06:53.531Z"
   },
   {
    "duration": 6,
    "start_time": "2022-02-21T21:06:53.561Z"
   },
   {
    "duration": 21,
    "start_time": "2022-02-21T21:06:53.569Z"
   },
   {
    "duration": 3,
    "start_time": "2022-02-21T21:06:53.592Z"
   },
   {
    "duration": 648,
    "start_time": "2022-02-21T21:06:53.596Z"
   },
   {
    "duration": 4,
    "start_time": "2022-02-21T21:06:54.245Z"
   },
   {
    "duration": 10,
    "start_time": "2022-02-21T21:06:54.251Z"
   },
   {
    "duration": 115,
    "start_time": "2022-02-21T21:06:54.263Z"
   },
   {
    "duration": -45,
    "start_time": "2022-02-21T21:06:54.425Z"
   },
   {
    "duration": -45,
    "start_time": "2022-02-21T21:06:54.426Z"
   },
   {
    "duration": -47,
    "start_time": "2022-02-21T21:06:54.429Z"
   },
   {
    "duration": -48,
    "start_time": "2022-02-21T21:06:54.431Z"
   },
   {
    "duration": -48,
    "start_time": "2022-02-21T21:06:54.432Z"
   },
   {
    "duration": -51,
    "start_time": "2022-02-21T21:06:54.436Z"
   },
   {
    "duration": 5,
    "start_time": "2022-02-21T21:07:04.050Z"
   },
   {
    "duration": 26,
    "start_time": "2022-02-21T21:07:14.813Z"
   },
   {
    "duration": 91,
    "start_time": "2022-02-21T21:07:24.155Z"
   },
   {
    "duration": 76,
    "start_time": "2022-02-21T21:07:29.528Z"
   },
   {
    "duration": 75,
    "start_time": "2022-02-21T21:07:31.847Z"
   },
   {
    "duration": 5,
    "start_time": "2022-02-21T21:07:47.414Z"
   },
   {
    "duration": 466,
    "start_time": "2022-02-21T21:07:53.450Z"
   },
   {
    "duration": 5,
    "start_time": "2022-02-21T21:08:15.553Z"
   },
   {
    "duration": 5,
    "start_time": "2022-02-21T21:08:59.543Z"
   },
   {
    "duration": 5,
    "start_time": "2022-02-21T21:09:23.113Z"
   },
   {
    "duration": 4,
    "start_time": "2022-02-21T21:13:53.357Z"
   },
   {
    "duration": 19,
    "start_time": "2022-02-21T21:13:53.363Z"
   },
   {
    "duration": 5,
    "start_time": "2022-02-21T21:13:53.384Z"
   },
   {
    "duration": 21,
    "start_time": "2022-02-21T21:13:53.391Z"
   },
   {
    "duration": 3,
    "start_time": "2022-02-21T21:13:53.414Z"
   },
   {
    "duration": 527,
    "start_time": "2022-02-21T21:13:53.418Z"
   },
   {
    "duration": 4,
    "start_time": "2022-02-21T21:13:53.947Z"
   },
   {
    "duration": 10,
    "start_time": "2022-02-21T21:13:53.953Z"
   },
   {
    "duration": 4,
    "start_time": "2022-02-21T21:13:53.965Z"
   },
   {
    "duration": 463,
    "start_time": "2022-02-21T21:13:53.971Z"
   },
   {
    "duration": 45532,
    "start_time": "2022-02-21T21:13:54.435Z"
   },
   {
    "duration": 16,
    "start_time": "2022-02-21T21:14:39.970Z"
   },
   {
    "duration": 9,
    "start_time": "2022-02-21T21:14:39.988Z"
   },
   {
    "duration": 127,
    "start_time": "2022-02-21T21:14:39.998Z"
   },
   {
    "duration": 8,
    "start_time": "2022-02-21T21:14:40.133Z"
   },
   {
    "duration": 430,
    "start_time": "2022-02-21T21:15:18.593Z"
   },
   {
    "duration": 425,
    "start_time": "2022-02-21T21:15:30.188Z"
   },
   {
    "duration": 6,
    "start_time": "2022-02-21T21:20:51.677Z"
   },
   {
    "duration": 4,
    "start_time": "2022-02-21T21:21:07.331Z"
   },
   {
    "duration": 23,
    "start_time": "2022-02-21T21:21:07.342Z"
   },
   {
    "duration": 6,
    "start_time": "2022-02-21T21:21:07.367Z"
   },
   {
    "duration": 18,
    "start_time": "2022-02-21T21:21:07.375Z"
   },
   {
    "duration": 3,
    "start_time": "2022-02-21T21:21:07.395Z"
   },
   {
    "duration": 522,
    "start_time": "2022-02-21T21:21:07.400Z"
   },
   {
    "duration": 7,
    "start_time": "2022-02-21T21:21:07.924Z"
   },
   {
    "duration": 22,
    "start_time": "2022-02-21T21:21:07.933Z"
   },
   {
    "duration": 7,
    "start_time": "2022-02-21T21:21:07.957Z"
   },
   {
    "duration": 442,
    "start_time": "2022-02-21T21:21:07.965Z"
   },
   {
    "duration": 44840,
    "start_time": "2022-02-21T21:21:08.409Z"
   },
   {
    "duration": 14,
    "start_time": "2022-02-21T21:21:53.251Z"
   },
   {
    "duration": 10,
    "start_time": "2022-02-21T21:21:53.267Z"
   },
   {
    "duration": 122,
    "start_time": "2022-02-21T21:21:53.278Z"
   },
   {
    "duration": 5,
    "start_time": "2022-02-21T21:21:53.402Z"
   },
   {
    "duration": 9,
    "start_time": "2022-02-21T21:29:14.506Z"
   },
   {
    "duration": 4,
    "start_time": "2022-02-21T21:30:04.483Z"
   },
   {
    "duration": 20,
    "start_time": "2022-02-21T21:30:04.489Z"
   },
   {
    "duration": 8,
    "start_time": "2022-02-21T21:30:04.511Z"
   },
   {
    "duration": 24,
    "start_time": "2022-02-21T21:30:04.521Z"
   },
   {
    "duration": 4,
    "start_time": "2022-02-21T21:30:04.547Z"
   },
   {
    "duration": 580,
    "start_time": "2022-02-21T21:30:04.553Z"
   },
   {
    "duration": 4,
    "start_time": "2022-02-21T21:30:05.135Z"
   },
   {
    "duration": 19,
    "start_time": "2022-02-21T21:30:05.141Z"
   },
   {
    "duration": 7,
    "start_time": "2022-02-21T21:30:05.162Z"
   },
   {
    "duration": 459,
    "start_time": "2022-02-21T21:30:05.171Z"
   },
   {
    "duration": 44914,
    "start_time": "2022-02-21T21:30:05.632Z"
   },
   {
    "duration": 13,
    "start_time": "2022-02-21T21:30:50.548Z"
   },
   {
    "duration": 8,
    "start_time": "2022-02-21T21:30:50.563Z"
   },
   {
    "duration": 125,
    "start_time": "2022-02-21T21:30:50.573Z"
   },
   {
    "duration": 5,
    "start_time": "2022-02-21T21:30:50.700Z"
   },
   {
    "duration": 1087,
    "start_time": "2022-02-22T06:27:43.719Z"
   },
   {
    "duration": 32,
    "start_time": "2022-02-22T06:27:44.808Z"
   },
   {
    "duration": 7,
    "start_time": "2022-02-22T06:27:44.842Z"
   },
   {
    "duration": 29,
    "start_time": "2022-02-22T06:27:44.851Z"
   },
   {
    "duration": 4,
    "start_time": "2022-02-22T06:27:44.882Z"
   },
   {
    "duration": 577,
    "start_time": "2022-02-22T06:27:44.888Z"
   },
   {
    "duration": 4,
    "start_time": "2022-02-22T06:27:45.467Z"
   },
   {
    "duration": 11,
    "start_time": "2022-02-22T06:27:45.472Z"
   },
   {
    "duration": 4,
    "start_time": "2022-02-22T06:27:45.486Z"
   },
   {
    "duration": 450,
    "start_time": "2022-02-22T06:27:45.492Z"
   },
   {
    "duration": 44323,
    "start_time": "2022-02-22T06:27:45.944Z"
   },
   {
    "duration": 15,
    "start_time": "2022-02-22T06:28:30.269Z"
   },
   {
    "duration": 10,
    "start_time": "2022-02-22T06:28:30.286Z"
   },
   {
    "duration": 121,
    "start_time": "2022-02-22T06:28:30.298Z"
   },
   {
    "duration": 5,
    "start_time": "2022-02-22T06:30:22.791Z"
   },
   {
    "duration": 7,
    "start_time": "2022-02-22T06:30:30.403Z"
   },
   {
    "duration": 9,
    "start_time": "2022-02-22T06:31:17.943Z"
   },
   {
    "duration": 9,
    "start_time": "2022-02-22T06:31:52.763Z"
   },
   {
    "duration": 9,
    "start_time": "2022-02-22T06:32:06.979Z"
   },
   {
    "duration": 10,
    "start_time": "2022-02-22T06:32:36.444Z"
   },
   {
    "duration": 9,
    "start_time": "2022-02-22T06:33:13.539Z"
   },
   {
    "duration": 8,
    "start_time": "2022-02-22T06:33:21.416Z"
   },
   {
    "duration": 279,
    "start_time": "2022-02-22T06:35:35.783Z"
   },
   {
    "duration": 5,
    "start_time": "2022-02-22T06:35:52.143Z"
   },
   {
    "duration": 6,
    "start_time": "2022-02-22T06:36:32.231Z"
   },
   {
    "duration": 6,
    "start_time": "2022-02-22T06:39:54.884Z"
   },
   {
    "duration": 6,
    "start_time": "2022-02-22T06:40:16.224Z"
   },
   {
    "duration": 7,
    "start_time": "2022-02-22T06:40:51.952Z"
   },
   {
    "duration": 6,
    "start_time": "2022-02-22T06:48:58.039Z"
   },
   {
    "duration": 179,
    "start_time": "2022-02-22T06:49:03.184Z"
   },
   {
    "duration": 7,
    "start_time": "2022-02-22T06:49:24.648Z"
   },
   {
    "duration": 6,
    "start_time": "2022-02-22T06:49:26.216Z"
   },
   {
    "duration": 7,
    "start_time": "2022-02-22T06:49:38.472Z"
   },
   {
    "duration": 6,
    "start_time": "2022-02-22T06:49:48.084Z"
   },
   {
    "duration": 7,
    "start_time": "2022-02-22T06:50:12.024Z"
   },
   {
    "duration": 5,
    "start_time": "2022-02-22T06:50:14.764Z"
   },
   {
    "duration": 7,
    "start_time": "2022-02-22T06:50:52.484Z"
   },
   {
    "duration": 6,
    "start_time": "2022-02-22T06:51:01.524Z"
   },
   {
    "duration": 192,
    "start_time": "2022-02-22T06:51:29.423Z"
   },
   {
    "duration": 7,
    "start_time": "2022-02-22T06:51:31.292Z"
   },
   {
    "duration": 6,
    "start_time": "2022-02-22T06:51:32.008Z"
   },
   {
    "duration": 3,
    "start_time": "2022-02-22T07:10:05.594Z"
   },
   {
    "duration": 29,
    "start_time": "2022-02-22T07:10:05.600Z"
   },
   {
    "duration": 6,
    "start_time": "2022-02-22T07:10:05.632Z"
   },
   {
    "duration": 27,
    "start_time": "2022-02-22T07:10:05.640Z"
   },
   {
    "duration": 3,
    "start_time": "2022-02-22T07:10:05.669Z"
   },
   {
    "duration": 585,
    "start_time": "2022-02-22T07:10:05.674Z"
   },
   {
    "duration": 4,
    "start_time": "2022-02-22T07:10:06.261Z"
   },
   {
    "duration": 13,
    "start_time": "2022-02-22T07:10:06.267Z"
   },
   {
    "duration": 5,
    "start_time": "2022-02-22T07:10:06.283Z"
   },
   {
    "duration": 464,
    "start_time": "2022-02-22T07:10:06.290Z"
   },
   {
    "duration": 43590,
    "start_time": "2022-02-22T07:10:06.756Z"
   },
   {
    "duration": 20,
    "start_time": "2022-02-22T07:10:50.348Z"
   },
   {
    "duration": 9,
    "start_time": "2022-02-22T07:10:50.370Z"
   },
   {
    "duration": 116,
    "start_time": "2022-02-22T07:10:50.381Z"
   },
   {
    "duration": 5,
    "start_time": "2022-02-22T07:10:50.499Z"
   },
   {
    "duration": 19,
    "start_time": "2022-02-22T07:10:50.505Z"
   },
   {
    "duration": 16,
    "start_time": "2022-02-22T07:10:50.525Z"
   },
   {
    "duration": 16,
    "start_time": "2022-02-22T07:10:50.543Z"
   },
   {
    "duration": 10,
    "start_time": "2022-02-22T07:10:50.561Z"
   },
   {
    "duration": 7,
    "start_time": "2022-02-22T07:10:50.573Z"
   },
   {
    "duration": 8,
    "start_time": "2022-02-22T07:10:50.581Z"
   }
  ],
  "kernelspec": {
   "display_name": "Python 3 (ipykernel)",
   "language": "python",
   "name": "python3"
  },
  "language_info": {
   "codemirror_mode": {
    "name": "ipython",
    "version": 3
   },
   "file_extension": ".py",
   "mimetype": "text/x-python",
   "name": "python",
   "nbconvert_exporter": "python",
   "pygments_lexer": "ipython3",
   "version": "3.9.7"
  },
  "toc": {
   "base_numbering": 1,
   "nav_menu": {},
   "number_sections": true,
   "sideBar": true,
   "skip_h1_title": true,
   "title_cell": "Table of Contents",
   "title_sidebar": "Contents",
   "toc_cell": false,
   "toc_position": {},
   "toc_section_display": true,
   "toc_window_display": false
  }
 },
 "nbformat": 4,
 "nbformat_minor": 2
}
