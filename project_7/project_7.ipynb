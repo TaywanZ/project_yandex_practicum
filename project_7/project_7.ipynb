{
 "cells": [
  {
   "cell_type": "markdown",
   "metadata": {},
   "source": [
    "# Выбор локации для скважины"
   ]
  },
  {
   "cell_type": "markdown",
   "metadata": {},
   "source": [
    "## Загрузка и подготовка данных"
   ]
  },
  {
   "cell_type": "markdown",
   "metadata": {},
   "source": [
    "На первом этапе импортируем необходимые библиотеки."
   ]
  },
  {
   "cell_type": "code",
   "execution_count": 256,
   "metadata": {},
   "outputs": [],
   "source": [
    "import pandas as pd\n",
    "import numpy as np\n",
    "from sklearn.model_selection import train_test_split\n",
    "from sklearn.metrics import mean_squared_error\n",
    "from sklearn.linear_model import LinearRegression\n",
    "from scipy.stats import norm"
   ]
  },
  {
   "cell_type": "markdown",
   "metadata": {},
   "source": [
    "Далее подгрузим данные."
   ]
  },
  {
   "cell_type": "code",
   "execution_count": 257,
   "metadata": {},
   "outputs": [],
   "source": [
    "df1 = pd.read_csv('/datasets/geo_data_0.csv')\n",
    "df2 = pd.read_csv('/datasets/geo_data_1.csv')\n",
    "df3 = pd.read_csv('/datasets/geo_data_2.csv')"
   ]
  },
  {
   "cell_type": "markdown",
   "metadata": {},
   "source": [
    "Для упрощения работы создадим функцию, которая будет принимать на вход датасет, на выходе предоставлять всю необходимую информацию по нему."
   ]
  },
  {
   "cell_type": "code",
   "execution_count": 258,
   "metadata": {},
   "outputs": [],
   "source": [
    "def info(df_number):\n",
    "    \n",
    "    print(df_number.info())\n",
    "    print(df_number.shape)\n",
    "    display(df_number.head(10))"
   ]
  },
  {
   "cell_type": "markdown",
   "metadata": {},
   "source": [
    "Ознакомимся с каждым датасетом отдельно."
   ]
  },
  {
   "cell_type": "code",
   "execution_count": 259,
   "metadata": {},
   "outputs": [
    {
     "name": "stdout",
     "output_type": "stream",
     "text": [
      "<class 'pandas.core.frame.DataFrame'>\n",
      "RangeIndex: 100000 entries, 0 to 99999\n",
      "Data columns (total 5 columns):\n",
      " #   Column   Non-Null Count   Dtype  \n",
      "---  ------   --------------   -----  \n",
      " 0   id       100000 non-null  object \n",
      " 1   f0       100000 non-null  float64\n",
      " 2   f1       100000 non-null  float64\n",
      " 3   f2       100000 non-null  float64\n",
      " 4   product  100000 non-null  float64\n",
      "dtypes: float64(4), object(1)\n",
      "memory usage: 3.8+ MB\n",
      "None\n",
      "(100000, 5)\n"
     ]
    },
    {
     "data": {
      "text/html": [
       "<div>\n",
       "<style scoped>\n",
       "    .dataframe tbody tr th:only-of-type {\n",
       "        vertical-align: middle;\n",
       "    }\n",
       "\n",
       "    .dataframe tbody tr th {\n",
       "        vertical-align: top;\n",
       "    }\n",
       "\n",
       "    .dataframe thead th {\n",
       "        text-align: right;\n",
       "    }\n",
       "</style>\n",
       "<table border=\"1\" class=\"dataframe\">\n",
       "  <thead>\n",
       "    <tr style=\"text-align: right;\">\n",
       "      <th></th>\n",
       "      <th>id</th>\n",
       "      <th>f0</th>\n",
       "      <th>f1</th>\n",
       "      <th>f2</th>\n",
       "      <th>product</th>\n",
       "    </tr>\n",
       "  </thead>\n",
       "  <tbody>\n",
       "    <tr>\n",
       "      <th>0</th>\n",
       "      <td>txEyH</td>\n",
       "      <td>0.705745</td>\n",
       "      <td>-0.497823</td>\n",
       "      <td>1.221170</td>\n",
       "      <td>105.280062</td>\n",
       "    </tr>\n",
       "    <tr>\n",
       "      <th>1</th>\n",
       "      <td>2acmU</td>\n",
       "      <td>1.334711</td>\n",
       "      <td>-0.340164</td>\n",
       "      <td>4.365080</td>\n",
       "      <td>73.037750</td>\n",
       "    </tr>\n",
       "    <tr>\n",
       "      <th>2</th>\n",
       "      <td>409Wp</td>\n",
       "      <td>1.022732</td>\n",
       "      <td>0.151990</td>\n",
       "      <td>1.419926</td>\n",
       "      <td>85.265647</td>\n",
       "    </tr>\n",
       "    <tr>\n",
       "      <th>3</th>\n",
       "      <td>iJLyR</td>\n",
       "      <td>-0.032172</td>\n",
       "      <td>0.139033</td>\n",
       "      <td>2.978566</td>\n",
       "      <td>168.620776</td>\n",
       "    </tr>\n",
       "    <tr>\n",
       "      <th>4</th>\n",
       "      <td>Xdl7t</td>\n",
       "      <td>1.988431</td>\n",
       "      <td>0.155413</td>\n",
       "      <td>4.751769</td>\n",
       "      <td>154.036647</td>\n",
       "    </tr>\n",
       "    <tr>\n",
       "      <th>5</th>\n",
       "      <td>wX4Hy</td>\n",
       "      <td>0.969570</td>\n",
       "      <td>0.489775</td>\n",
       "      <td>-0.735383</td>\n",
       "      <td>64.741541</td>\n",
       "    </tr>\n",
       "    <tr>\n",
       "      <th>6</th>\n",
       "      <td>tL6pL</td>\n",
       "      <td>0.645075</td>\n",
       "      <td>0.530656</td>\n",
       "      <td>1.780266</td>\n",
       "      <td>49.055285</td>\n",
       "    </tr>\n",
       "    <tr>\n",
       "      <th>7</th>\n",
       "      <td>BYPU6</td>\n",
       "      <td>-0.400648</td>\n",
       "      <td>0.808337</td>\n",
       "      <td>-5.624670</td>\n",
       "      <td>72.943292</td>\n",
       "    </tr>\n",
       "    <tr>\n",
       "      <th>8</th>\n",
       "      <td>j9Oui</td>\n",
       "      <td>0.643105</td>\n",
       "      <td>-0.551583</td>\n",
       "      <td>2.372141</td>\n",
       "      <td>113.356160</td>\n",
       "    </tr>\n",
       "    <tr>\n",
       "      <th>9</th>\n",
       "      <td>OLuZU</td>\n",
       "      <td>2.173381</td>\n",
       "      <td>0.563698</td>\n",
       "      <td>9.441852</td>\n",
       "      <td>127.910945</td>\n",
       "    </tr>\n",
       "  </tbody>\n",
       "</table>\n",
       "</div>"
      ],
      "text/plain": [
       "      id        f0        f1        f2     product\n",
       "0  txEyH  0.705745 -0.497823  1.221170  105.280062\n",
       "1  2acmU  1.334711 -0.340164  4.365080   73.037750\n",
       "2  409Wp  1.022732  0.151990  1.419926   85.265647\n",
       "3  iJLyR -0.032172  0.139033  2.978566  168.620776\n",
       "4  Xdl7t  1.988431  0.155413  4.751769  154.036647\n",
       "5  wX4Hy  0.969570  0.489775 -0.735383   64.741541\n",
       "6  tL6pL  0.645075  0.530656  1.780266   49.055285\n",
       "7  BYPU6 -0.400648  0.808337 -5.624670   72.943292\n",
       "8  j9Oui  0.643105 -0.551583  2.372141  113.356160\n",
       "9  OLuZU  2.173381  0.563698  9.441852  127.910945"
      ]
     },
     "metadata": {},
     "output_type": "display_data"
    }
   ],
   "source": [
    "info(df1)"
   ]
  },
  {
   "cell_type": "code",
   "execution_count": 260,
   "metadata": {},
   "outputs": [
    {
     "name": "stdout",
     "output_type": "stream",
     "text": [
      "<class 'pandas.core.frame.DataFrame'>\n",
      "RangeIndex: 100000 entries, 0 to 99999\n",
      "Data columns (total 5 columns):\n",
      " #   Column   Non-Null Count   Dtype  \n",
      "---  ------   --------------   -----  \n",
      " 0   id       100000 non-null  object \n",
      " 1   f0       100000 non-null  float64\n",
      " 2   f1       100000 non-null  float64\n",
      " 3   f2       100000 non-null  float64\n",
      " 4   product  100000 non-null  float64\n",
      "dtypes: float64(4), object(1)\n",
      "memory usage: 3.8+ MB\n",
      "None\n",
      "(100000, 5)\n"
     ]
    },
    {
     "data": {
      "text/html": [
       "<div>\n",
       "<style scoped>\n",
       "    .dataframe tbody tr th:only-of-type {\n",
       "        vertical-align: middle;\n",
       "    }\n",
       "\n",
       "    .dataframe tbody tr th {\n",
       "        vertical-align: top;\n",
       "    }\n",
       "\n",
       "    .dataframe thead th {\n",
       "        text-align: right;\n",
       "    }\n",
       "</style>\n",
       "<table border=\"1\" class=\"dataframe\">\n",
       "  <thead>\n",
       "    <tr style=\"text-align: right;\">\n",
       "      <th></th>\n",
       "      <th>id</th>\n",
       "      <th>f0</th>\n",
       "      <th>f1</th>\n",
       "      <th>f2</th>\n",
       "      <th>product</th>\n",
       "    </tr>\n",
       "  </thead>\n",
       "  <tbody>\n",
       "    <tr>\n",
       "      <th>0</th>\n",
       "      <td>kBEdx</td>\n",
       "      <td>-15.001348</td>\n",
       "      <td>-8.276000</td>\n",
       "      <td>-0.005876</td>\n",
       "      <td>3.179103</td>\n",
       "    </tr>\n",
       "    <tr>\n",
       "      <th>1</th>\n",
       "      <td>62mP7</td>\n",
       "      <td>14.272088</td>\n",
       "      <td>-3.475083</td>\n",
       "      <td>0.999183</td>\n",
       "      <td>26.953261</td>\n",
       "    </tr>\n",
       "    <tr>\n",
       "      <th>2</th>\n",
       "      <td>vyE1P</td>\n",
       "      <td>6.263187</td>\n",
       "      <td>-5.948386</td>\n",
       "      <td>5.001160</td>\n",
       "      <td>134.766305</td>\n",
       "    </tr>\n",
       "    <tr>\n",
       "      <th>3</th>\n",
       "      <td>KcrkZ</td>\n",
       "      <td>-13.081196</td>\n",
       "      <td>-11.506057</td>\n",
       "      <td>4.999415</td>\n",
       "      <td>137.945408</td>\n",
       "    </tr>\n",
       "    <tr>\n",
       "      <th>4</th>\n",
       "      <td>AHL4O</td>\n",
       "      <td>12.702195</td>\n",
       "      <td>-8.147433</td>\n",
       "      <td>5.004363</td>\n",
       "      <td>134.766305</td>\n",
       "    </tr>\n",
       "    <tr>\n",
       "      <th>5</th>\n",
       "      <td>HHckp</td>\n",
       "      <td>-3.327590</td>\n",
       "      <td>-2.205276</td>\n",
       "      <td>3.003647</td>\n",
       "      <td>84.038886</td>\n",
       "    </tr>\n",
       "    <tr>\n",
       "      <th>6</th>\n",
       "      <td>h5Ujo</td>\n",
       "      <td>-11.142655</td>\n",
       "      <td>-10.133399</td>\n",
       "      <td>4.002382</td>\n",
       "      <td>110.992147</td>\n",
       "    </tr>\n",
       "    <tr>\n",
       "      <th>7</th>\n",
       "      <td>muH9x</td>\n",
       "      <td>4.234715</td>\n",
       "      <td>-0.001354</td>\n",
       "      <td>2.004588</td>\n",
       "      <td>53.906522</td>\n",
       "    </tr>\n",
       "    <tr>\n",
       "      <th>8</th>\n",
       "      <td>YiRkx</td>\n",
       "      <td>13.355129</td>\n",
       "      <td>-0.332068</td>\n",
       "      <td>4.998647</td>\n",
       "      <td>134.766305</td>\n",
       "    </tr>\n",
       "    <tr>\n",
       "      <th>9</th>\n",
       "      <td>jG6Gi</td>\n",
       "      <td>1.069227</td>\n",
       "      <td>-11.025667</td>\n",
       "      <td>4.997844</td>\n",
       "      <td>137.945408</td>\n",
       "    </tr>\n",
       "  </tbody>\n",
       "</table>\n",
       "</div>"
      ],
      "text/plain": [
       "      id         f0         f1        f2     product\n",
       "0  kBEdx -15.001348  -8.276000 -0.005876    3.179103\n",
       "1  62mP7  14.272088  -3.475083  0.999183   26.953261\n",
       "2  vyE1P   6.263187  -5.948386  5.001160  134.766305\n",
       "3  KcrkZ -13.081196 -11.506057  4.999415  137.945408\n",
       "4  AHL4O  12.702195  -8.147433  5.004363  134.766305\n",
       "5  HHckp  -3.327590  -2.205276  3.003647   84.038886\n",
       "6  h5Ujo -11.142655 -10.133399  4.002382  110.992147\n",
       "7  muH9x   4.234715  -0.001354  2.004588   53.906522\n",
       "8  YiRkx  13.355129  -0.332068  4.998647  134.766305\n",
       "9  jG6Gi   1.069227 -11.025667  4.997844  137.945408"
      ]
     },
     "metadata": {},
     "output_type": "display_data"
    }
   ],
   "source": [
    "info(df2)"
   ]
  },
  {
   "cell_type": "code",
   "execution_count": 261,
   "metadata": {},
   "outputs": [
    {
     "name": "stdout",
     "output_type": "stream",
     "text": [
      "<class 'pandas.core.frame.DataFrame'>\n",
      "RangeIndex: 100000 entries, 0 to 99999\n",
      "Data columns (total 5 columns):\n",
      " #   Column   Non-Null Count   Dtype  \n",
      "---  ------   --------------   -----  \n",
      " 0   id       100000 non-null  object \n",
      " 1   f0       100000 non-null  float64\n",
      " 2   f1       100000 non-null  float64\n",
      " 3   f2       100000 non-null  float64\n",
      " 4   product  100000 non-null  float64\n",
      "dtypes: float64(4), object(1)\n",
      "memory usage: 3.8+ MB\n",
      "None\n",
      "(100000, 5)\n"
     ]
    },
    {
     "data": {
      "text/html": [
       "<div>\n",
       "<style scoped>\n",
       "    .dataframe tbody tr th:only-of-type {\n",
       "        vertical-align: middle;\n",
       "    }\n",
       "\n",
       "    .dataframe tbody tr th {\n",
       "        vertical-align: top;\n",
       "    }\n",
       "\n",
       "    .dataframe thead th {\n",
       "        text-align: right;\n",
       "    }\n",
       "</style>\n",
       "<table border=\"1\" class=\"dataframe\">\n",
       "  <thead>\n",
       "    <tr style=\"text-align: right;\">\n",
       "      <th></th>\n",
       "      <th>id</th>\n",
       "      <th>f0</th>\n",
       "      <th>f1</th>\n",
       "      <th>f2</th>\n",
       "      <th>product</th>\n",
       "    </tr>\n",
       "  </thead>\n",
       "  <tbody>\n",
       "    <tr>\n",
       "      <th>0</th>\n",
       "      <td>fwXo0</td>\n",
       "      <td>-1.146987</td>\n",
       "      <td>0.963328</td>\n",
       "      <td>-0.828965</td>\n",
       "      <td>27.758673</td>\n",
       "    </tr>\n",
       "    <tr>\n",
       "      <th>1</th>\n",
       "      <td>WJtFt</td>\n",
       "      <td>0.262778</td>\n",
       "      <td>0.269839</td>\n",
       "      <td>-2.530187</td>\n",
       "      <td>56.069697</td>\n",
       "    </tr>\n",
       "    <tr>\n",
       "      <th>2</th>\n",
       "      <td>ovLUW</td>\n",
       "      <td>0.194587</td>\n",
       "      <td>0.289035</td>\n",
       "      <td>-5.586433</td>\n",
       "      <td>62.871910</td>\n",
       "    </tr>\n",
       "    <tr>\n",
       "      <th>3</th>\n",
       "      <td>q6cA6</td>\n",
       "      <td>2.236060</td>\n",
       "      <td>-0.553760</td>\n",
       "      <td>0.930038</td>\n",
       "      <td>114.572842</td>\n",
       "    </tr>\n",
       "    <tr>\n",
       "      <th>4</th>\n",
       "      <td>WPMUX</td>\n",
       "      <td>-0.515993</td>\n",
       "      <td>1.716266</td>\n",
       "      <td>5.899011</td>\n",
       "      <td>149.600746</td>\n",
       "    </tr>\n",
       "    <tr>\n",
       "      <th>5</th>\n",
       "      <td>LzZXx</td>\n",
       "      <td>-0.758092</td>\n",
       "      <td>0.710691</td>\n",
       "      <td>2.585887</td>\n",
       "      <td>90.222465</td>\n",
       "    </tr>\n",
       "    <tr>\n",
       "      <th>6</th>\n",
       "      <td>WBHRv</td>\n",
       "      <td>-0.574891</td>\n",
       "      <td>0.317727</td>\n",
       "      <td>1.773745</td>\n",
       "      <td>45.641478</td>\n",
       "    </tr>\n",
       "    <tr>\n",
       "      <th>7</th>\n",
       "      <td>XO8fn</td>\n",
       "      <td>-1.906649</td>\n",
       "      <td>-2.458350</td>\n",
       "      <td>-0.177097</td>\n",
       "      <td>72.480640</td>\n",
       "    </tr>\n",
       "    <tr>\n",
       "      <th>8</th>\n",
       "      <td>ybmQ5</td>\n",
       "      <td>1.776292</td>\n",
       "      <td>-0.279356</td>\n",
       "      <td>3.004156</td>\n",
       "      <td>106.616832</td>\n",
       "    </tr>\n",
       "    <tr>\n",
       "      <th>9</th>\n",
       "      <td>OilcN</td>\n",
       "      <td>-1.214452</td>\n",
       "      <td>-0.439314</td>\n",
       "      <td>5.922514</td>\n",
       "      <td>52.954532</td>\n",
       "    </tr>\n",
       "  </tbody>\n",
       "</table>\n",
       "</div>"
      ],
      "text/plain": [
       "      id        f0        f1        f2     product\n",
       "0  fwXo0 -1.146987  0.963328 -0.828965   27.758673\n",
       "1  WJtFt  0.262778  0.269839 -2.530187   56.069697\n",
       "2  ovLUW  0.194587  0.289035 -5.586433   62.871910\n",
       "3  q6cA6  2.236060 -0.553760  0.930038  114.572842\n",
       "4  WPMUX -0.515993  1.716266  5.899011  149.600746\n",
       "5  LzZXx -0.758092  0.710691  2.585887   90.222465\n",
       "6  WBHRv -0.574891  0.317727  1.773745   45.641478\n",
       "7  XO8fn -1.906649 -2.458350 -0.177097   72.480640\n",
       "8  ybmQ5  1.776292 -0.279356  3.004156  106.616832\n",
       "9  OilcN -1.214452 -0.439314  5.922514   52.954532"
      ]
     },
     "metadata": {},
     "output_type": "display_data"
    }
   ],
   "source": [
    "info(df3)"
   ]
  },
  {
   "cell_type": "markdown",
   "metadata": {},
   "source": [
    "В данных нет пропуском, тип данных удовлетворителен, можно начать подготовку к работе.\n",
    "\n",
    "Для начала удалим *id* скважин. При обучение модели эти данные будут мешать, а при необходимости их можно будет восстановить по изначальным датасетам и числовым индексам."
   ]
  },
  {
   "cell_type": "code",
   "execution_count": 262,
   "metadata": {},
   "outputs": [
    {
     "data": {
      "text/html": [
       "<div>\n",
       "<style scoped>\n",
       "    .dataframe tbody tr th:only-of-type {\n",
       "        vertical-align: middle;\n",
       "    }\n",
       "\n",
       "    .dataframe tbody tr th {\n",
       "        vertical-align: top;\n",
       "    }\n",
       "\n",
       "    .dataframe thead th {\n",
       "        text-align: right;\n",
       "    }\n",
       "</style>\n",
       "<table border=\"1\" class=\"dataframe\">\n",
       "  <thead>\n",
       "    <tr style=\"text-align: right;\">\n",
       "      <th></th>\n",
       "      <th>f0</th>\n",
       "      <th>f1</th>\n",
       "      <th>f2</th>\n",
       "      <th>product</th>\n",
       "    </tr>\n",
       "  </thead>\n",
       "  <tbody>\n",
       "    <tr>\n",
       "      <th>0</th>\n",
       "      <td>0.705745</td>\n",
       "      <td>-0.497823</td>\n",
       "      <td>1.221170</td>\n",
       "      <td>105.280062</td>\n",
       "    </tr>\n",
       "    <tr>\n",
       "      <th>1</th>\n",
       "      <td>1.334711</td>\n",
       "      <td>-0.340164</td>\n",
       "      <td>4.365080</td>\n",
       "      <td>73.037750</td>\n",
       "    </tr>\n",
       "    <tr>\n",
       "      <th>2</th>\n",
       "      <td>1.022732</td>\n",
       "      <td>0.151990</td>\n",
       "      <td>1.419926</td>\n",
       "      <td>85.265647</td>\n",
       "    </tr>\n",
       "    <tr>\n",
       "      <th>3</th>\n",
       "      <td>-0.032172</td>\n",
       "      <td>0.139033</td>\n",
       "      <td>2.978566</td>\n",
       "      <td>168.620776</td>\n",
       "    </tr>\n",
       "    <tr>\n",
       "      <th>4</th>\n",
       "      <td>1.988431</td>\n",
       "      <td>0.155413</td>\n",
       "      <td>4.751769</td>\n",
       "      <td>154.036647</td>\n",
       "    </tr>\n",
       "    <tr>\n",
       "      <th>...</th>\n",
       "      <td>...</td>\n",
       "      <td>...</td>\n",
       "      <td>...</td>\n",
       "      <td>...</td>\n",
       "    </tr>\n",
       "    <tr>\n",
       "      <th>99995</th>\n",
       "      <td>0.971957</td>\n",
       "      <td>0.370953</td>\n",
       "      <td>6.075346</td>\n",
       "      <td>110.744026</td>\n",
       "    </tr>\n",
       "    <tr>\n",
       "      <th>99996</th>\n",
       "      <td>1.392429</td>\n",
       "      <td>-0.382606</td>\n",
       "      <td>1.273912</td>\n",
       "      <td>122.346843</td>\n",
       "    </tr>\n",
       "    <tr>\n",
       "      <th>99997</th>\n",
       "      <td>1.029585</td>\n",
       "      <td>0.018787</td>\n",
       "      <td>-1.348308</td>\n",
       "      <td>64.375443</td>\n",
       "    </tr>\n",
       "    <tr>\n",
       "      <th>99998</th>\n",
       "      <td>0.998163</td>\n",
       "      <td>-0.528582</td>\n",
       "      <td>1.583869</td>\n",
       "      <td>74.040764</td>\n",
       "    </tr>\n",
       "    <tr>\n",
       "      <th>99999</th>\n",
       "      <td>1.764754</td>\n",
       "      <td>-0.266417</td>\n",
       "      <td>5.722849</td>\n",
       "      <td>149.633246</td>\n",
       "    </tr>\n",
       "  </tbody>\n",
       "</table>\n",
       "<p>100000 rows × 4 columns</p>\n",
       "</div>"
      ],
      "text/plain": [
       "             f0        f1        f2     product\n",
       "0      0.705745 -0.497823  1.221170  105.280062\n",
       "1      1.334711 -0.340164  4.365080   73.037750\n",
       "2      1.022732  0.151990  1.419926   85.265647\n",
       "3     -0.032172  0.139033  2.978566  168.620776\n",
       "4      1.988431  0.155413  4.751769  154.036647\n",
       "...         ...       ...       ...         ...\n",
       "99995  0.971957  0.370953  6.075346  110.744026\n",
       "99996  1.392429 -0.382606  1.273912  122.346843\n",
       "99997  1.029585  0.018787 -1.348308   64.375443\n",
       "99998  0.998163 -0.528582  1.583869   74.040764\n",
       "99999  1.764754 -0.266417  5.722849  149.633246\n",
       "\n",
       "[100000 rows x 4 columns]"
      ]
     },
     "metadata": {},
     "output_type": "display_data"
    },
    {
     "data": {
      "text/html": [
       "<div>\n",
       "<style scoped>\n",
       "    .dataframe tbody tr th:only-of-type {\n",
       "        vertical-align: middle;\n",
       "    }\n",
       "\n",
       "    .dataframe tbody tr th {\n",
       "        vertical-align: top;\n",
       "    }\n",
       "\n",
       "    .dataframe thead th {\n",
       "        text-align: right;\n",
       "    }\n",
       "</style>\n",
       "<table border=\"1\" class=\"dataframe\">\n",
       "  <thead>\n",
       "    <tr style=\"text-align: right;\">\n",
       "      <th></th>\n",
       "      <th>f0</th>\n",
       "      <th>f1</th>\n",
       "      <th>f2</th>\n",
       "      <th>product</th>\n",
       "    </tr>\n",
       "  </thead>\n",
       "  <tbody>\n",
       "    <tr>\n",
       "      <th>0</th>\n",
       "      <td>-15.001348</td>\n",
       "      <td>-8.276000</td>\n",
       "      <td>-0.005876</td>\n",
       "      <td>3.179103</td>\n",
       "    </tr>\n",
       "    <tr>\n",
       "      <th>1</th>\n",
       "      <td>14.272088</td>\n",
       "      <td>-3.475083</td>\n",
       "      <td>0.999183</td>\n",
       "      <td>26.953261</td>\n",
       "    </tr>\n",
       "    <tr>\n",
       "      <th>2</th>\n",
       "      <td>6.263187</td>\n",
       "      <td>-5.948386</td>\n",
       "      <td>5.001160</td>\n",
       "      <td>134.766305</td>\n",
       "    </tr>\n",
       "    <tr>\n",
       "      <th>3</th>\n",
       "      <td>-13.081196</td>\n",
       "      <td>-11.506057</td>\n",
       "      <td>4.999415</td>\n",
       "      <td>137.945408</td>\n",
       "    </tr>\n",
       "    <tr>\n",
       "      <th>4</th>\n",
       "      <td>12.702195</td>\n",
       "      <td>-8.147433</td>\n",
       "      <td>5.004363</td>\n",
       "      <td>134.766305</td>\n",
       "    </tr>\n",
       "    <tr>\n",
       "      <th>...</th>\n",
       "      <td>...</td>\n",
       "      <td>...</td>\n",
       "      <td>...</td>\n",
       "      <td>...</td>\n",
       "    </tr>\n",
       "    <tr>\n",
       "      <th>99995</th>\n",
       "      <td>9.535637</td>\n",
       "      <td>-6.878139</td>\n",
       "      <td>1.998296</td>\n",
       "      <td>53.906522</td>\n",
       "    </tr>\n",
       "    <tr>\n",
       "      <th>99996</th>\n",
       "      <td>-10.160631</td>\n",
       "      <td>-12.558096</td>\n",
       "      <td>5.005581</td>\n",
       "      <td>137.945408</td>\n",
       "    </tr>\n",
       "    <tr>\n",
       "      <th>99997</th>\n",
       "      <td>-7.378891</td>\n",
       "      <td>-3.084104</td>\n",
       "      <td>4.998651</td>\n",
       "      <td>137.945408</td>\n",
       "    </tr>\n",
       "    <tr>\n",
       "      <th>99998</th>\n",
       "      <td>0.665714</td>\n",
       "      <td>-6.152593</td>\n",
       "      <td>1.000146</td>\n",
       "      <td>30.132364</td>\n",
       "    </tr>\n",
       "    <tr>\n",
       "      <th>99999</th>\n",
       "      <td>-3.426139</td>\n",
       "      <td>-7.794274</td>\n",
       "      <td>-0.003299</td>\n",
       "      <td>3.179103</td>\n",
       "    </tr>\n",
       "  </tbody>\n",
       "</table>\n",
       "<p>100000 rows × 4 columns</p>\n",
       "</div>"
      ],
      "text/plain": [
       "              f0         f1        f2     product\n",
       "0     -15.001348  -8.276000 -0.005876    3.179103\n",
       "1      14.272088  -3.475083  0.999183   26.953261\n",
       "2       6.263187  -5.948386  5.001160  134.766305\n",
       "3     -13.081196 -11.506057  4.999415  137.945408\n",
       "4      12.702195  -8.147433  5.004363  134.766305\n",
       "...          ...        ...       ...         ...\n",
       "99995   9.535637  -6.878139  1.998296   53.906522\n",
       "99996 -10.160631 -12.558096  5.005581  137.945408\n",
       "99997  -7.378891  -3.084104  4.998651  137.945408\n",
       "99998   0.665714  -6.152593  1.000146   30.132364\n",
       "99999  -3.426139  -7.794274 -0.003299    3.179103\n",
       "\n",
       "[100000 rows x 4 columns]"
      ]
     },
     "metadata": {},
     "output_type": "display_data"
    },
    {
     "data": {
      "text/html": [
       "<div>\n",
       "<style scoped>\n",
       "    .dataframe tbody tr th:only-of-type {\n",
       "        vertical-align: middle;\n",
       "    }\n",
       "\n",
       "    .dataframe tbody tr th {\n",
       "        vertical-align: top;\n",
       "    }\n",
       "\n",
       "    .dataframe thead th {\n",
       "        text-align: right;\n",
       "    }\n",
       "</style>\n",
       "<table border=\"1\" class=\"dataframe\">\n",
       "  <thead>\n",
       "    <tr style=\"text-align: right;\">\n",
       "      <th></th>\n",
       "      <th>f0</th>\n",
       "      <th>f1</th>\n",
       "      <th>f2</th>\n",
       "      <th>product</th>\n",
       "    </tr>\n",
       "  </thead>\n",
       "  <tbody>\n",
       "    <tr>\n",
       "      <th>0</th>\n",
       "      <td>-1.146987</td>\n",
       "      <td>0.963328</td>\n",
       "      <td>-0.828965</td>\n",
       "      <td>27.758673</td>\n",
       "    </tr>\n",
       "    <tr>\n",
       "      <th>1</th>\n",
       "      <td>0.262778</td>\n",
       "      <td>0.269839</td>\n",
       "      <td>-2.530187</td>\n",
       "      <td>56.069697</td>\n",
       "    </tr>\n",
       "    <tr>\n",
       "      <th>2</th>\n",
       "      <td>0.194587</td>\n",
       "      <td>0.289035</td>\n",
       "      <td>-5.586433</td>\n",
       "      <td>62.871910</td>\n",
       "    </tr>\n",
       "    <tr>\n",
       "      <th>3</th>\n",
       "      <td>2.236060</td>\n",
       "      <td>-0.553760</td>\n",
       "      <td>0.930038</td>\n",
       "      <td>114.572842</td>\n",
       "    </tr>\n",
       "    <tr>\n",
       "      <th>4</th>\n",
       "      <td>-0.515993</td>\n",
       "      <td>1.716266</td>\n",
       "      <td>5.899011</td>\n",
       "      <td>149.600746</td>\n",
       "    </tr>\n",
       "    <tr>\n",
       "      <th>...</th>\n",
       "      <td>...</td>\n",
       "      <td>...</td>\n",
       "      <td>...</td>\n",
       "      <td>...</td>\n",
       "    </tr>\n",
       "    <tr>\n",
       "      <th>99995</th>\n",
       "      <td>-1.777037</td>\n",
       "      <td>1.125220</td>\n",
       "      <td>6.263374</td>\n",
       "      <td>172.327046</td>\n",
       "    </tr>\n",
       "    <tr>\n",
       "      <th>99996</th>\n",
       "      <td>-1.261523</td>\n",
       "      <td>-0.894828</td>\n",
       "      <td>2.524545</td>\n",
       "      <td>138.748846</td>\n",
       "    </tr>\n",
       "    <tr>\n",
       "      <th>99997</th>\n",
       "      <td>-1.199934</td>\n",
       "      <td>-2.957637</td>\n",
       "      <td>5.219411</td>\n",
       "      <td>157.080080</td>\n",
       "    </tr>\n",
       "    <tr>\n",
       "      <th>99998</th>\n",
       "      <td>-2.419896</td>\n",
       "      <td>2.417221</td>\n",
       "      <td>-5.548444</td>\n",
       "      <td>51.795253</td>\n",
       "    </tr>\n",
       "    <tr>\n",
       "      <th>99999</th>\n",
       "      <td>-2.551421</td>\n",
       "      <td>-2.025625</td>\n",
       "      <td>6.090891</td>\n",
       "      <td>102.775767</td>\n",
       "    </tr>\n",
       "  </tbody>\n",
       "</table>\n",
       "<p>100000 rows × 4 columns</p>\n",
       "</div>"
      ],
      "text/plain": [
       "             f0        f1        f2     product\n",
       "0     -1.146987  0.963328 -0.828965   27.758673\n",
       "1      0.262778  0.269839 -2.530187   56.069697\n",
       "2      0.194587  0.289035 -5.586433   62.871910\n",
       "3      2.236060 -0.553760  0.930038  114.572842\n",
       "4     -0.515993  1.716266  5.899011  149.600746\n",
       "...         ...       ...       ...         ...\n",
       "99995 -1.777037  1.125220  6.263374  172.327046\n",
       "99996 -1.261523 -0.894828  2.524545  138.748846\n",
       "99997 -1.199934 -2.957637  5.219411  157.080080\n",
       "99998 -2.419896  2.417221 -5.548444   51.795253\n",
       "99999 -2.551421 -2.025625  6.090891  102.775767\n",
       "\n",
       "[100000 rows x 4 columns]"
      ]
     },
     "metadata": {},
     "output_type": "display_data"
    }
   ],
   "source": [
    "df1 = df1.drop(columns='id', axis=1)\n",
    "display(df1)\n",
    "df2 = df2.drop(columns='id', axis=1)\n",
    "display(df2)\n",
    "df3 = df3.drop(columns='id', axis=1)\n",
    "display(df3)"
   ]
  },
  {
   "cell_type": "markdown",
   "metadata": {},
   "source": [
    "### Вывод"
   ]
  },
  {
   "cell_type": "markdown",
   "metadata": {},
   "source": [
    "Необходимые библиотеки загружены, данные проверены - замечаний нет. Можно переходить ко второму этапу работы."
   ]
  },
  {
   "cell_type": "markdown",
   "metadata": {},
   "source": [
    "## Обучение и проверка модели"
   ]
  },
  {
   "cell_type": "markdown",
   "metadata": {},
   "source": [
    "Подготовим две функции:\n",
    "\n",
    "1. Первая будет получать на вход датасет и разделять его на тренировочную и валидационную выборки.\n",
    "\n",
    "2. Вторая будет на вход получать выборки из первой функции, обучать модель, делать предсказания, рассчитывать средний запас сырья и RMSE модели. Функция будет возвращать: обученную модель, предсказания, информацию об результатах предсказания."
   ]
  },
  {
   "cell_type": "code",
   "execution_count": 263,
   "metadata": {},
   "outputs": [],
   "source": [
    "def train_valid(df):\n",
    "    # функция разбивки датасетов на выборки\n",
    "    \n",
    "    features = df.drop(columns='product', axis=1)\n",
    "    target = df['product']\n",
    "    features_train, features_valid, target_train, target_valid = train_test_split(\n",
    "        features, target, test_size=0.25, random_state=12345)\n",
    "    \n",
    "    return features_train, target_train, features_valid, target_valid"
   ]
  },
  {
   "cell_type": "code",
   "execution_count": 264,
   "metadata": {},
   "outputs": [],
   "source": [
    "def predict_model(f_t, t_t, f_v, t_v):\n",
    "    #функция обучения модели\n",
    "    \n",
    "    model = LinearRegression()\n",
    "    model.fit(f_t, t_t)\n",
    "    predict = model.predict(f_v)\n",
    "    mean_p = predict.mean()\n",
    "    rmse = mean_squared_error(predict, t_v) ** 0.5\n",
    "    list_info = [mean_p, rmse]\n",
    "    \n",
    "    print('Средний запас сырья:', mean_p)\n",
    "    print('RMSE', rmse)\n",
    "    \n",
    "    return model, predict, list_info"
   ]
  },
  {
   "cell_type": "markdown",
   "metadata": {},
   "source": [
    "Теперь прогоним через функции каждый датасет в отдельности, параллельно сформируем таблицу, с оценками предсказаний моделей."
   ]
  },
  {
   "cell_type": "code",
   "execution_count": 265,
   "metadata": {},
   "outputs": [
    {
     "name": "stdout",
     "output_type": "stream",
     "text": [
      "Средний запас сырья: 92.59256778438035\n",
      "RMSE 37.5794217150813\n"
     ]
    }
   ],
   "source": [
    "info_all = []\n",
    "features_t_1, target_t_1, features_v_1, target_v_1 = train_valid(df1)\n",
    "model_1, predict_1, info_1 = predict_model(features_t_1, target_t_1, features_v_1, target_v_1)\n",
    "info_all.append(info_1)"
   ]
  },
  {
   "cell_type": "code",
   "execution_count": 266,
   "metadata": {},
   "outputs": [
    {
     "name": "stdout",
     "output_type": "stream",
     "text": [
      "Средний запас сырья: 68.728546895446\n",
      "RMSE 0.893099286775617\n"
     ]
    }
   ],
   "source": [
    "features_t_2, target_t_2, features_v_2, target_v_2 = train_valid(df2)\n",
    "model_2, predict_2, info_2 = predict_model(features_t_2, target_t_2, features_v_2, target_v_2)\n",
    "info_all.append(info_2)"
   ]
  },
  {
   "cell_type": "code",
   "execution_count": 267,
   "metadata": {},
   "outputs": [
    {
     "name": "stdout",
     "output_type": "stream",
     "text": [
      "Средний запас сырья: 94.96504596800489\n",
      "RMSE 40.02970873393434\n"
     ]
    }
   ],
   "source": [
    "features_t_3, target_t_3, features_v_3, target_v_3 = train_valid(df3)\n",
    "model_3, predict_3, info_3 = predict_model(features_t_3, target_t_3, features_v_3, target_v_3)\n",
    "info_all.append(info_3)"
   ]
  },
  {
   "cell_type": "markdown",
   "metadata": {},
   "source": [
    "Ознакомимся с полученными средними предсказанными значениями объёмов скважин и оценкой предсказаний."
   ]
  },
  {
   "cell_type": "code",
   "execution_count": 268,
   "metadata": {},
   "outputs": [
    {
     "data": {
      "text/html": [
       "<div>\n",
       "<style scoped>\n",
       "    .dataframe tbody tr th:only-of-type {\n",
       "        vertical-align: middle;\n",
       "    }\n",
       "\n",
       "    .dataframe tbody tr th {\n",
       "        vertical-align: top;\n",
       "    }\n",
       "\n",
       "    .dataframe thead th {\n",
       "        text-align: right;\n",
       "    }\n",
       "</style>\n",
       "<table border=\"1\" class=\"dataframe\">\n",
       "  <thead>\n",
       "    <tr style=\"text-align: right;\">\n",
       "      <th></th>\n",
       "      <th>mean</th>\n",
       "      <th>rmse</th>\n",
       "    </tr>\n",
       "  </thead>\n",
       "  <tbody>\n",
       "    <tr>\n",
       "      <th>Скважина 1</th>\n",
       "      <td>92.592568</td>\n",
       "      <td>37.579422</td>\n",
       "    </tr>\n",
       "    <tr>\n",
       "      <th>Скважина 2</th>\n",
       "      <td>68.728547</td>\n",
       "      <td>0.893099</td>\n",
       "    </tr>\n",
       "    <tr>\n",
       "      <th>Скважина 3</th>\n",
       "      <td>94.965046</td>\n",
       "      <td>40.029709</td>\n",
       "    </tr>\n",
       "  </tbody>\n",
       "</table>\n",
       "</div>"
      ],
      "text/plain": [
       "                 mean       rmse\n",
       "Скважина 1  92.592568  37.579422\n",
       "Скважина 2  68.728547   0.893099\n",
       "Скважина 3  94.965046  40.029709"
      ]
     },
     "execution_count": 268,
     "metadata": {},
     "output_type": "execute_result"
    }
   ],
   "source": [
    "info_all = pd.DataFrame(data=info_all, columns=['mean', 'rmse'], index=['Скважина 1', 'Скважина 2', 'Скважина 3'])\n",
    "info_all"
   ]
  },
  {
   "cell_type": "markdown",
   "metadata": {},
   "source": [
    "### Вывод"
   ]
  },
  {
   "cell_type": "markdown",
   "metadata": {},
   "source": [
    "На данном этапе были подготовленны вспомагательные фукнции по разбивке датасетов на выборке и обучению модели. Далее, через функции были прогнанны все три датасета. В результате сформирована информационная таблица из которой видно, что:\n",
    "\n",
    "1. По предсказаниям модели, наибольший средний объем скважин находится в третьем регионе.\n",
    "2. Наилучшие предсказания модель сделала для второго региона."
   ]
  },
  {
   "cell_type": "markdown",
   "metadata": {},
   "source": [
    "## Подготовка к расчёту прибыли"
   ]
  },
  {
   "cell_type": "markdown",
   "metadata": {},
   "source": [
    "Введем все необходимые константы из условий задачи."
   ]
  },
  {
   "cell_type": "code",
   "execution_count": 269,
   "metadata": {},
   "outputs": [],
   "source": [
    "count_oilwell = 500\n",
    "develop_oilwell = 200\n",
    "profit_for_oilwell = 450000\n",
    "budget = 10 ** 10"
   ]
  },
  {
   "cell_type": "markdown",
   "metadata": {},
   "source": [
    "Рассчитаем средний потребный объем скважин в регионе, для неубыточности компании."
   ]
  },
  {
   "cell_type": "code",
   "execution_count": 270,
   "metadata": {},
   "outputs": [
    {
     "name": "stdout",
     "output_type": "stream",
     "text": [
      "Потребный средний объем скважины: 111.111\n"
     ]
    }
   ],
   "source": [
    "mean_volume = budget/ (profit_for_oilwell * develop_oilwell)\n",
    "print(f'Потребный средний объем скважины: {mean_volume:.3f}')"
   ]
  },
  {
   "cell_type": "markdown",
   "metadata": {},
   "source": [
    "Подготовим функцию расчёта прибыли, на вход функция получает предсказанные объемы скважин, и правильные ответы. Выводит на экран размер прибыли, а возвращает объект Series с предсказаниями, для дальнейшей работы."
   ]
  },
  {
   "cell_type": "code",
   "execution_count": 271,
   "metadata": {},
   "outputs": [],
   "source": [
    "def sum_profit(predict, target):\n",
    "    pr = pd.Series(predict, index=target.index)\n",
    "    profit = pr.sort_values(ascending=False).iloc[:200].sum()\n",
    "    profit = (profit * profit_for_oilwell) - 10 ** 10\n",
    "    print(f'Прибыль составит: {profit:.3f}')\n",
    "    return pr"
   ]
  },
  {
   "cell_type": "markdown",
   "metadata": {},
   "source": [
    "## Расчёт прибыли и рисков "
   ]
  },
  {
   "cell_type": "markdown",
   "metadata": {},
   "source": [
    "С помощью функии, из прошлой части работы, рассчитаем прибыль по скважинам для каждого региона."
   ]
  },
  {
   "cell_type": "code",
   "execution_count": 272,
   "metadata": {},
   "outputs": [
    {
     "name": "stdout",
     "output_type": "stream",
     "text": [
      "Прибыль составит: 3996048877.465\n"
     ]
    }
   ],
   "source": [
    "pr1 = sum_profit(predict_1, target_v_1)"
   ]
  },
  {
   "cell_type": "code",
   "execution_count": 273,
   "metadata": {},
   "outputs": [
    {
     "name": "stdout",
     "output_type": "stream",
     "text": [
      "Прибыль составит: 2485712051.974\n"
     ]
    }
   ],
   "source": [
    "pr2 = sum_profit(predict_2, target_v_2)"
   ]
  },
  {
   "cell_type": "code",
   "execution_count": 274,
   "metadata": {},
   "outputs": [
    {
     "name": "stdout",
     "output_type": "stream",
     "text": [
      "Прибыль составит: 3321754396.243\n"
     ]
    }
   ],
   "source": [
    "pr3 = sum_profit(predict_3, target_v_3)"
   ]
  },
  {
   "cell_type": "markdown",
   "metadata": {},
   "source": [
    "В данном формате расчётов, во всех регионах, компании дальная получить прибыль. Теперь проведем такой же рассчёт используя Bootstrap. Найдем доверительный интервал 95% и вероятность получить убыток в каждом регионе.\n",
    "\n",
    "Для этого подготовим две фукнции."
   ]
  },
  {
   "cell_type": "code",
   "execution_count": 275,
   "metadata": {},
   "outputs": [],
   "source": [
    "def revenue(target, prob, count):\n",
    "    #функция отбирает из 500 скважин 200 лучшие и по ним считаем прибыль\\убыток\n",
    "    probs_sorted = prob.sort_values(ascending=False)\n",
    "    selected = target[probs_sorted.index][:count]\n",
    "    return 450000 * selected.sum() - 10**10\n",
    "\n",
    "def sum_profit(target, prob):\n",
    "    # функция выполняет bootstrap на 1000 выборок, считает доверительные интервалы и вероятность убытка.\n",
    "    state = np.random.RandomState(12345)\n",
    "    values = []\n",
    "    \n",
    "    for i in range(1000):\n",
    "        # используются переменные от прошлой части работы (count_oilwell and develop_oilwell)\n",
    "        target_subsample = target.sample(n=count_oilwell, replace=True, random_state=state)\n",
    "        probs_subsample = prob[target_subsample.index]\n",
    "        values.append(revenue(target_subsample, probs_subsample, develop_oilwell))\n",
    "\n",
    "    values = pd.Series(values)\n",
    "    lower = values.quantile(.025)\n",
    "    upper = values.quantile(.975)\n",
    "    mean = values.mean()\n",
    "    nr = norm(values.mean(), values.std())\n",
    "    percent = nr.cdf(0)\n",
    "    \n",
    "    print(f\"Средняя выручка: {mean:.3f}\")\n",
    "    print(f\"2.5%-квантиль: {lower:.3f}\")\n",
    "    print(f\"97.5%-квантиль: {upper:.3f}\")\n",
    "    print(f\"Вероятность убытка: {(percent * 100):.3f}%\")"
   ]
  },
  {
   "cell_type": "markdown",
   "metadata": {},
   "source": [
    "Разчитаем для каждого региона: среднюю выручку, доверительный 95% интервал и вероятность получить убыток."
   ]
  },
  {
   "cell_type": "code",
   "execution_count": 276,
   "metadata": {},
   "outputs": [
    {
     "name": "stdout",
     "output_type": "stream",
     "text": [
      "Средняя выручка: 425938526.911\n",
      "2.5%-квантиль: -102090094.838\n",
      "97.5%-квантиль: 947976353.358\n",
      "Вероятность убытка: 6.225%\n"
     ]
    }
   ],
   "source": [
    "sum_profit(target_v_1, pr1)"
   ]
  },
  {
   "cell_type": "code",
   "execution_count": 277,
   "metadata": {},
   "outputs": [
    {
     "name": "stdout",
     "output_type": "stream",
     "text": [
      "Средняя выручка: 515222773.443\n",
      "2.5%-квантиль: 68873225.371\n",
      "97.5%-квантиль: 931547591.257\n",
      "Вероятность убытка: 0.937%\n"
     ]
    }
   ],
   "source": [
    "sum_profit(target_v_2, pr2)"
   ]
  },
  {
   "cell_type": "code",
   "execution_count": 278,
   "metadata": {},
   "outputs": [
    {
     "name": "stdout",
     "output_type": "stream",
     "text": [
      "Средняя выручка: 435008362.783\n",
      "2.5%-квантиль: -128880547.330\n",
      "97.5%-квантиль: 969706954.180\n",
      "Вероятность убытка: 6.206%\n"
     ]
    }
   ],
   "source": [
    "sum_profit(target_v_3, pr3)"
   ]
  },
  {
   "cell_type": "markdown",
   "metadata": {},
   "source": [
    "### Выводы"
   ]
  },
  {
   "cell_type": "markdown",
   "metadata": {},
   "source": [
    "В данной части работы, была посчитана прибыль компании, для каждого региона, на основе обучении модели без технологии Bootstrap. В результате, получили, что в каждом регионе, компания получит прибыль.\n",
    "\n",
    "Далее, была проделана таже работа, но с технологией Bootstrap. Так же были посчитаны доверительные интервалы и вероятности получения убытка.\n",
    "\n",
    "Как видно из расчётов, только в регионе 2 в 95% доверительном интервале компания не получает убытки, а их вероятность равна 0,937%. В остальных регионах и выроятность заметно выше, и в 95% доверительном интервале есть убытки. Таким образом следует выбрать для разработки регион №2."
   ]
  }
 ],
 "metadata": {
  "ExecuteTimeLog": [
   {
    "duration": 379,
    "start_time": "2022-04-04T18:19:30.690Z"
   },
   {
    "duration": 328,
    "start_time": "2022-04-04T18:20:17.951Z"
   },
   {
    "duration": 3,
    "start_time": "2022-04-04T18:21:50.062Z"
   },
   {
    "duration": 3,
    "start_time": "2022-04-04T18:22:11.139Z"
   },
   {
    "duration": 26,
    "start_time": "2022-04-04T18:22:15.844Z"
   },
   {
    "duration": 19,
    "start_time": "2022-04-04T18:22:46.637Z"
   },
   {
    "duration": 20,
    "start_time": "2022-04-04T18:22:55.793Z"
   },
   {
    "duration": 58,
    "start_time": "2022-04-04T18:26:27.343Z"
   },
   {
    "duration": 0,
    "start_time": "2022-04-04T18:29:02.498Z"
   },
   {
    "duration": 0,
    "start_time": "2022-04-04T18:29:02.500Z"
   },
   {
    "duration": 0,
    "start_time": "2022-04-04T18:29:02.502Z"
   },
   {
    "duration": 0,
    "start_time": "2022-04-04T18:29:02.503Z"
   },
   {
    "duration": 0,
    "start_time": "2022-04-04T18:29:02.505Z"
   },
   {
    "duration": 0,
    "start_time": "2022-04-04T18:29:02.507Z"
   },
   {
    "duration": 3,
    "start_time": "2022-04-04T18:29:08.820Z"
   },
   {
    "duration": 333,
    "start_time": "2022-04-04T18:29:09.631Z"
   },
   {
    "duration": 3,
    "start_time": "2022-04-04T18:29:10.754Z"
   },
   {
    "duration": 20,
    "start_time": "2022-04-04T18:29:11.825Z"
   },
   {
    "duration": 20,
    "start_time": "2022-04-04T18:29:12.848Z"
   },
   {
    "duration": 19,
    "start_time": "2022-04-04T18:29:15.405Z"
   },
   {
    "duration": 16,
    "start_time": "2022-04-04T18:29:17.814Z"
   },
   {
    "duration": 3,
    "start_time": "2022-04-04T18:30:47.514Z"
   },
   {
    "duration": 327,
    "start_time": "2022-04-04T18:30:47.519Z"
   },
   {
    "duration": 3,
    "start_time": "2022-04-04T18:30:47.848Z"
   },
   {
    "duration": 29,
    "start_time": "2022-04-04T18:30:47.853Z"
   },
   {
    "duration": 18,
    "start_time": "2022-04-04T18:30:47.884Z"
   },
   {
    "duration": 17,
    "start_time": "2022-04-04T18:30:47.903Z"
   },
   {
    "duration": 70,
    "start_time": "2022-04-04T18:30:47.922Z"
   },
   {
    "duration": 42,
    "start_time": "2022-04-04T18:31:14.169Z"
   },
   {
    "duration": 32,
    "start_time": "2022-04-04T18:31:49.943Z"
   },
   {
    "duration": 133,
    "start_time": "2022-04-04T18:32:55.029Z"
   },
   {
    "duration": 9,
    "start_time": "2022-04-04T18:33:00.336Z"
   },
   {
    "duration": 701,
    "start_time": "2022-04-04T18:33:06.217Z"
   },
   {
    "duration": 4,
    "start_time": "2022-04-04T18:37:17.227Z"
   },
   {
    "duration": 4,
    "start_time": "2022-04-04T18:45:56.741Z"
   },
   {
    "duration": 40,
    "start_time": "2022-04-04T18:46:00.061Z"
   },
   {
    "duration": 0,
    "start_time": "2022-04-04T18:46:00.103Z"
   },
   {
    "duration": 0,
    "start_time": "2022-04-04T18:46:00.105Z"
   },
   {
    "duration": 0,
    "start_time": "2022-04-04T18:46:00.106Z"
   },
   {
    "duration": 0,
    "start_time": "2022-04-04T18:46:00.108Z"
   },
   {
    "duration": 0,
    "start_time": "2022-04-04T18:46:00.109Z"
   },
   {
    "duration": 0,
    "start_time": "2022-04-04T18:46:00.110Z"
   },
   {
    "duration": 3,
    "start_time": "2022-04-04T18:46:00.447Z"
   },
   {
    "duration": 11,
    "start_time": "2022-04-04T18:46:00.452Z"
   },
   {
    "duration": 2,
    "start_time": "2022-04-04T18:46:12.505Z"
   },
   {
    "duration": 2,
    "start_time": "2022-04-04T18:46:14.979Z"
   },
   {
    "duration": 331,
    "start_time": "2022-04-04T18:46:14.983Z"
   },
   {
    "duration": 3,
    "start_time": "2022-04-04T18:46:15.316Z"
   },
   {
    "duration": 28,
    "start_time": "2022-04-04T18:46:15.320Z"
   },
   {
    "duration": 21,
    "start_time": "2022-04-04T18:46:15.350Z"
   },
   {
    "duration": 20,
    "start_time": "2022-04-04T18:46:15.373Z"
   },
   {
    "duration": 37,
    "start_time": "2022-04-04T18:46:15.394Z"
   },
   {
    "duration": 4,
    "start_time": "2022-04-04T18:46:15.432Z"
   },
   {
    "duration": 26,
    "start_time": "2022-04-04T18:46:15.437Z"
   },
   {
    "duration": 12,
    "start_time": "2022-04-04T18:50:54.267Z"
   },
   {
    "duration": 4,
    "start_time": "2022-04-04T18:52:04.093Z"
   },
   {
    "duration": 16,
    "start_time": "2022-04-04T18:52:05.774Z"
   },
   {
    "duration": 3,
    "start_time": "2022-04-04T18:52:21.192Z"
   },
   {
    "duration": 15,
    "start_time": "2022-04-04T18:52:23.345Z"
   },
   {
    "duration": 3,
    "start_time": "2022-04-04T18:52:32.134Z"
   },
   {
    "duration": 39,
    "start_time": "2022-04-04T18:52:34.326Z"
   },
   {
    "duration": 30,
    "start_time": "2022-04-04T18:52:49.207Z"
   },
   {
    "duration": 36,
    "start_time": "2022-04-04T18:53:18.799Z"
   },
   {
    "duration": 3,
    "start_time": "2022-04-04T18:53:41.799Z"
   },
   {
    "duration": 339,
    "start_time": "2022-04-04T18:53:41.803Z"
   },
   {
    "duration": 3,
    "start_time": "2022-04-04T18:53:42.144Z"
   },
   {
    "duration": 24,
    "start_time": "2022-04-04T18:53:42.148Z"
   },
   {
    "duration": 23,
    "start_time": "2022-04-04T18:53:42.174Z"
   },
   {
    "duration": 20,
    "start_time": "2022-04-04T18:53:42.198Z"
   },
   {
    "duration": 72,
    "start_time": "2022-04-04T18:53:42.219Z"
   },
   {
    "duration": 3,
    "start_time": "2022-04-04T18:53:42.294Z"
   },
   {
    "duration": 5,
    "start_time": "2022-04-04T18:53:42.299Z"
   },
   {
    "duration": 87,
    "start_time": "2022-04-04T18:53:42.306Z"
   },
   {
    "duration": 16,
    "start_time": "2022-04-04T18:53:52.603Z"
   },
   {
    "duration": 10,
    "start_time": "2022-04-04T18:55:06.344Z"
   },
   {
    "duration": 131,
    "start_time": "2022-04-04T18:56:13.950Z"
   },
   {
    "duration": 35,
    "start_time": "2022-04-04T18:56:17.557Z"
   },
   {
    "duration": 11,
    "start_time": "2022-04-04T18:56:23.132Z"
   },
   {
    "duration": 55,
    "start_time": "2022-04-04T18:57:22.841Z"
   },
   {
    "duration": 15,
    "start_time": "2022-04-04T18:57:26.056Z"
   },
   {
    "duration": 3,
    "start_time": "2022-04-04T18:57:31.451Z"
   },
   {
    "duration": 345,
    "start_time": "2022-04-04T18:57:31.456Z"
   },
   {
    "duration": 4,
    "start_time": "2022-04-04T18:57:31.803Z"
   },
   {
    "duration": 44,
    "start_time": "2022-04-04T18:57:31.809Z"
   },
   {
    "duration": 22,
    "start_time": "2022-04-04T18:57:31.856Z"
   },
   {
    "duration": 22,
    "start_time": "2022-04-04T18:57:31.880Z"
   },
   {
    "duration": 69,
    "start_time": "2022-04-04T18:57:31.903Z"
   },
   {
    "duration": 3,
    "start_time": "2022-04-04T18:57:31.974Z"
   },
   {
    "duration": 19,
    "start_time": "2022-04-04T18:57:31.979Z"
   },
   {
    "duration": 50,
    "start_time": "2022-04-04T18:57:32.000Z"
   },
   {
    "duration": 40,
    "start_time": "2022-04-04T18:58:17.854Z"
   },
   {
    "duration": 20,
    "start_time": "2022-04-04T18:58:57.870Z"
   },
   {
    "duration": 3,
    "start_time": "2022-04-04T18:59:00.583Z"
   },
   {
    "duration": 343,
    "start_time": "2022-04-04T18:59:00.588Z"
   },
   {
    "duration": 3,
    "start_time": "2022-04-04T18:59:00.933Z"
   },
   {
    "duration": 32,
    "start_time": "2022-04-04T18:59:00.938Z"
   },
   {
    "duration": 18,
    "start_time": "2022-04-04T18:59:00.972Z"
   },
   {
    "duration": 19,
    "start_time": "2022-04-04T18:59:00.991Z"
   },
   {
    "duration": 65,
    "start_time": "2022-04-04T18:59:01.011Z"
   },
   {
    "duration": 4,
    "start_time": "2022-04-04T18:59:01.077Z"
   },
   {
    "duration": 6,
    "start_time": "2022-04-04T18:59:01.082Z"
   },
   {
    "duration": 50,
    "start_time": "2022-04-04T18:59:01.090Z"
   },
   {
    "duration": 3,
    "start_time": "2022-04-04T19:00:13.729Z"
   },
   {
    "duration": 45,
    "start_time": "2022-04-04T19:00:15.316Z"
   },
   {
    "duration": 50,
    "start_time": "2022-04-04T19:00:45.903Z"
   },
   {
    "duration": 49,
    "start_time": "2022-04-04T19:01:06.905Z"
   },
   {
    "duration": 53,
    "start_time": "2022-04-04T19:02:02.865Z"
   },
   {
    "duration": 4,
    "start_time": "2022-04-04T19:02:25.016Z"
   },
   {
    "duration": 3,
    "start_time": "2022-04-04T19:02:26.173Z"
   },
   {
    "duration": 53,
    "start_time": "2022-04-04T19:02:26.791Z"
   },
   {
    "duration": 2,
    "start_time": "2022-04-04T19:07:35.093Z"
   },
   {
    "duration": 330,
    "start_time": "2022-04-04T19:07:35.097Z"
   },
   {
    "duration": 3,
    "start_time": "2022-04-04T19:07:35.429Z"
   },
   {
    "duration": 30,
    "start_time": "2022-04-04T19:07:35.433Z"
   },
   {
    "duration": 22,
    "start_time": "2022-04-04T19:07:35.464Z"
   },
   {
    "duration": 19,
    "start_time": "2022-04-04T19:07:35.487Z"
   },
   {
    "duration": 63,
    "start_time": "2022-04-04T19:07:35.508Z"
   },
   {
    "duration": 4,
    "start_time": "2022-04-04T19:07:35.572Z"
   },
   {
    "duration": 5,
    "start_time": "2022-04-04T19:07:35.578Z"
   },
   {
    "duration": 47,
    "start_time": "2022-04-04T19:07:35.584Z"
   },
   {
    "duration": 4,
    "start_time": "2022-04-04T19:07:52.354Z"
   },
   {
    "duration": 47,
    "start_time": "2022-04-04T19:07:52.881Z"
   },
   {
    "duration": 4,
    "start_time": "2022-04-04T19:08:00.019Z"
   },
   {
    "duration": 69,
    "start_time": "2022-04-04T19:08:00.398Z"
   },
   {
    "duration": 43,
    "start_time": "2022-04-04T19:08:20.302Z"
   },
   {
    "duration": 41,
    "start_time": "2022-04-04T19:08:49.479Z"
   },
   {
    "duration": 51,
    "start_time": "2022-04-04T19:09:23.953Z"
   },
   {
    "duration": 2,
    "start_time": "2022-04-04T19:12:00.142Z"
   },
   {
    "duration": 348,
    "start_time": "2022-04-04T19:12:00.149Z"
   },
   {
    "duration": 2,
    "start_time": "2022-04-04T19:12:00.499Z"
   },
   {
    "duration": 43,
    "start_time": "2022-04-04T19:12:00.503Z"
   },
   {
    "duration": 27,
    "start_time": "2022-04-04T19:12:00.548Z"
   },
   {
    "duration": 21,
    "start_time": "2022-04-04T19:12:00.578Z"
   },
   {
    "duration": 38,
    "start_time": "2022-04-04T19:12:00.600Z"
   },
   {
    "duration": 23,
    "start_time": "2022-04-04T19:12:00.640Z"
   },
   {
    "duration": 3,
    "start_time": "2022-04-04T19:12:00.665Z"
   },
   {
    "duration": 101,
    "start_time": "2022-04-04T19:12:00.670Z"
   },
   {
    "duration": 0,
    "start_time": "2022-04-04T19:12:00.863Z"
   },
   {
    "duration": 0,
    "start_time": "2022-04-04T19:12:00.865Z"
   },
   {
    "duration": 2,
    "start_time": "2022-04-04T19:12:15.897Z"
   },
   {
    "duration": 324,
    "start_time": "2022-04-04T19:12:15.902Z"
   },
   {
    "duration": 2,
    "start_time": "2022-04-04T19:12:16.228Z"
   },
   {
    "duration": 28,
    "start_time": "2022-04-04T19:12:16.232Z"
   },
   {
    "duration": 18,
    "start_time": "2022-04-04T19:12:16.262Z"
   },
   {
    "duration": 18,
    "start_time": "2022-04-04T19:12:16.282Z"
   },
   {
    "duration": 63,
    "start_time": "2022-04-04T19:12:16.301Z"
   },
   {
    "duration": 4,
    "start_time": "2022-04-04T19:12:16.365Z"
   },
   {
    "duration": 7,
    "start_time": "2022-04-04T19:12:16.371Z"
   },
   {
    "duration": 89,
    "start_time": "2022-04-04T19:12:16.380Z"
   },
   {
    "duration": 0,
    "start_time": "2022-04-04T19:12:16.471Z"
   },
   {
    "duration": 0,
    "start_time": "2022-04-04T19:12:16.563Z"
   },
   {
    "duration": 43,
    "start_time": "2022-04-04T19:12:29.594Z"
   },
   {
    "duration": 49,
    "start_time": "2022-04-04T19:12:30.382Z"
   },
   {
    "duration": 87,
    "start_time": "2022-04-04T19:12:30.884Z"
   },
   {
    "duration": 43,
    "start_time": "2022-04-04T19:12:35.468Z"
   },
   {
    "duration": 8,
    "start_time": "2022-04-04T19:13:30.688Z"
   },
   {
    "duration": 66,
    "start_time": "2022-04-04T19:13:53.796Z"
   },
   {
    "duration": 8,
    "start_time": "2022-04-04T19:14:00.869Z"
   },
   {
    "duration": 113,
    "start_time": "2022-04-04T19:14:19.651Z"
   },
   {
    "duration": 3,
    "start_time": "2022-04-04T19:14:26.059Z"
   },
   {
    "duration": 333,
    "start_time": "2022-04-04T19:14:26.064Z"
   },
   {
    "duration": 4,
    "start_time": "2022-04-04T19:14:26.399Z"
   },
   {
    "duration": 32,
    "start_time": "2022-04-04T19:14:26.404Z"
   },
   {
    "duration": 25,
    "start_time": "2022-04-04T19:14:26.439Z"
   },
   {
    "duration": 19,
    "start_time": "2022-04-04T19:14:26.465Z"
   },
   {
    "duration": 40,
    "start_time": "2022-04-04T19:14:26.486Z"
   },
   {
    "duration": 4,
    "start_time": "2022-04-04T19:14:26.528Z"
   },
   {
    "duration": 33,
    "start_time": "2022-04-04T19:14:26.533Z"
   },
   {
    "duration": 96,
    "start_time": "2022-04-04T19:14:26.568Z"
   },
   {
    "duration": 197,
    "start_time": "2022-04-04T19:14:26.666Z"
   },
   {
    "duration": 136,
    "start_time": "2022-04-04T19:14:26.865Z"
   },
   {
    "duration": 100,
    "start_time": "2022-04-04T19:14:27.064Z"
   },
   {
    "duration": 8,
    "start_time": "2022-04-04T19:14:56.415Z"
   },
   {
    "duration": 3,
    "start_time": "2022-04-04T19:15:02.143Z"
   },
   {
    "duration": 342,
    "start_time": "2022-04-04T19:15:02.148Z"
   },
   {
    "duration": 4,
    "start_time": "2022-04-04T19:15:02.492Z"
   },
   {
    "duration": 30,
    "start_time": "2022-04-04T19:15:02.497Z"
   },
   {
    "duration": 18,
    "start_time": "2022-04-04T19:15:02.529Z"
   },
   {
    "duration": 19,
    "start_time": "2022-04-04T19:15:02.562Z"
   },
   {
    "duration": 38,
    "start_time": "2022-04-04T19:15:02.582Z"
   },
   {
    "duration": 4,
    "start_time": "2022-04-04T19:15:02.621Z"
   },
   {
    "duration": 36,
    "start_time": "2022-04-04T19:15:02.627Z"
   },
   {
    "duration": 100,
    "start_time": "2022-04-04T19:15:02.665Z"
   },
   {
    "duration": 136,
    "start_time": "2022-04-04T19:15:02.768Z"
   },
   {
    "duration": 139,
    "start_time": "2022-04-04T19:15:02.964Z"
   },
   {
    "duration": 99,
    "start_time": "2022-04-04T19:15:03.164Z"
   },
   {
    "duration": 3,
    "start_time": "2022-04-04T19:15:14.109Z"
   },
   {
    "duration": 331,
    "start_time": "2022-04-04T19:15:14.114Z"
   },
   {
    "duration": 4,
    "start_time": "2022-04-04T19:15:14.447Z"
   },
   {
    "duration": 25,
    "start_time": "2022-04-04T19:15:14.453Z"
   },
   {
    "duration": 20,
    "start_time": "2022-04-04T19:15:14.480Z"
   },
   {
    "duration": 21,
    "start_time": "2022-04-04T19:15:14.502Z"
   },
   {
    "duration": 70,
    "start_time": "2022-04-04T19:15:14.525Z"
   },
   {
    "duration": 3,
    "start_time": "2022-04-04T19:15:14.597Z"
   },
   {
    "duration": 7,
    "start_time": "2022-04-04T19:15:14.602Z"
   },
   {
    "duration": 67,
    "start_time": "2022-04-04T19:15:14.610Z"
   },
   {
    "duration": 218,
    "start_time": "2022-04-04T19:15:14.679Z"
   },
   {
    "duration": 140,
    "start_time": "2022-04-04T19:15:14.964Z"
   },
   {
    "duration": 100,
    "start_time": "2022-04-04T19:15:15.165Z"
   },
   {
    "duration": 8,
    "start_time": "2022-04-05T06:24:44.212Z"
   },
   {
    "duration": 4,
    "start_time": "2022-04-05T06:26:52.361Z"
   },
   {
    "duration": 3,
    "start_time": "2022-04-05T06:27:07.491Z"
   },
   {
    "duration": 3,
    "start_time": "2022-04-05T06:27:55.104Z"
   },
   {
    "duration": 4,
    "start_time": "2022-04-05T06:27:57.589Z"
   },
   {
    "duration": 12,
    "start_time": "2022-04-05T06:28:13.155Z"
   },
   {
    "duration": 54,
    "start_time": "2022-04-05T06:29:38.024Z"
   },
   {
    "duration": 1169,
    "start_time": "2022-04-05T06:29:45.968Z"
   },
   {
    "duration": 394,
    "start_time": "2022-04-05T06:29:47.139Z"
   },
   {
    "duration": 4,
    "start_time": "2022-04-05T06:29:47.536Z"
   },
   {
    "duration": 46,
    "start_time": "2022-04-05T06:29:47.544Z"
   },
   {
    "duration": 21,
    "start_time": "2022-04-05T06:29:47.592Z"
   },
   {
    "duration": 30,
    "start_time": "2022-04-05T06:29:47.614Z"
   },
   {
    "duration": 50,
    "start_time": "2022-04-05T06:29:47.646Z"
   },
   {
    "duration": 4,
    "start_time": "2022-04-05T06:29:47.697Z"
   },
   {
    "duration": 5,
    "start_time": "2022-04-05T06:29:47.702Z"
   },
   {
    "duration": 137,
    "start_time": "2022-04-05T06:29:47.709Z"
   },
   {
    "duration": 139,
    "start_time": "2022-04-05T06:29:47.848Z"
   },
   {
    "duration": 146,
    "start_time": "2022-04-05T06:29:48.040Z"
   },
   {
    "duration": 16,
    "start_time": "2022-04-05T06:29:48.238Z"
   },
   {
    "duration": 29,
    "start_time": "2022-04-05T06:29:48.334Z"
   },
   {
    "duration": 10,
    "start_time": "2022-04-05T06:29:48.364Z"
   },
   {
    "duration": 8,
    "start_time": "2022-04-05T06:29:48.375Z"
   },
   {
    "duration": 64,
    "start_time": "2022-04-05T06:30:11.546Z"
   },
   {
    "duration": 5,
    "start_time": "2022-04-05T06:30:17.283Z"
   },
   {
    "duration": 4,
    "start_time": "2022-04-05T06:30:59.261Z"
   },
   {
    "duration": 11,
    "start_time": "2022-04-05T06:31:52.166Z"
   },
   {
    "duration": 12,
    "start_time": "2022-04-05T06:32:11.382Z"
   },
   {
    "duration": 13,
    "start_time": "2022-04-05T06:33:20.150Z"
   },
   {
    "duration": 8,
    "start_time": "2022-04-05T06:33:26.474Z"
   },
   {
    "duration": 18,
    "start_time": "2022-04-05T06:33:39.043Z"
   },
   {
    "duration": 14,
    "start_time": "2022-04-05T06:34:00.252Z"
   },
   {
    "duration": 165,
    "start_time": "2022-04-05T06:34:25.394Z"
   },
   {
    "duration": 14,
    "start_time": "2022-04-05T06:34:29.903Z"
   },
   {
    "duration": 21,
    "start_time": "2022-04-05T06:34:35.526Z"
   },
   {
    "duration": 17,
    "start_time": "2022-04-05T06:34:40.862Z"
   },
   {
    "duration": 42,
    "start_time": "2022-04-05T06:35:23.326Z"
   },
   {
    "duration": 11,
    "start_time": "2022-04-05T06:35:36.849Z"
   },
   {
    "duration": 24,
    "start_time": "2022-04-05T06:36:09.329Z"
   },
   {
    "duration": 14,
    "start_time": "2022-04-05T06:45:45.809Z"
   },
   {
    "duration": 19,
    "start_time": "2022-04-05T06:46:23.720Z"
   },
   {
    "duration": 19,
    "start_time": "2022-04-05T06:46:31.086Z"
   },
   {
    "duration": 14,
    "start_time": "2022-04-05T06:46:36.558Z"
   },
   {
    "duration": 20,
    "start_time": "2022-04-05T06:47:11.321Z"
   },
   {
    "duration": 15,
    "start_time": "2022-04-05T06:47:24.796Z"
   },
   {
    "duration": 4,
    "start_time": "2022-04-05T06:49:22.881Z"
   },
   {
    "duration": 3,
    "start_time": "2022-04-05T08:58:38.546Z"
   },
   {
    "duration": 204,
    "start_time": "2022-04-05T09:02:45.687Z"
   },
   {
    "duration": 5,
    "start_time": "2022-04-05T09:02:51.549Z"
   },
   {
    "duration": 13,
    "start_time": "2022-04-05T09:03:56.756Z"
   },
   {
    "duration": 6,
    "start_time": "2022-04-05T09:04:20.428Z"
   },
   {
    "duration": 12,
    "start_time": "2022-04-05T09:04:20.901Z"
   },
   {
    "duration": 15,
    "start_time": "2022-04-05T09:05:46.394Z"
   },
   {
    "duration": 7,
    "start_time": "2022-04-05T09:06:10.646Z"
   },
   {
    "duration": 4,
    "start_time": "2022-04-05T09:06:19.977Z"
   },
   {
    "duration": 8,
    "start_time": "2022-04-05T09:06:23.152Z"
   },
   {
    "duration": 3,
    "start_time": "2022-04-05T09:08:26.573Z"
   },
   {
    "duration": 384,
    "start_time": "2022-04-05T09:08:26.577Z"
   },
   {
    "duration": 3,
    "start_time": "2022-04-05T09:08:26.963Z"
   },
   {
    "duration": 23,
    "start_time": "2022-04-05T09:08:26.968Z"
   },
   {
    "duration": 44,
    "start_time": "2022-04-05T09:08:26.993Z"
   },
   {
    "duration": 23,
    "start_time": "2022-04-05T09:08:27.040Z"
   },
   {
    "duration": 3,
    "start_time": "2022-04-05T09:08:27.065Z"
   },
   {
    "duration": 64,
    "start_time": "2022-04-05T09:08:27.069Z"
   },
   {
    "duration": 5,
    "start_time": "2022-04-05T09:08:27.137Z"
   },
   {
    "duration": 10,
    "start_time": "2022-04-05T09:08:27.144Z"
   },
   {
    "duration": 82,
    "start_time": "2022-04-05T09:08:27.156Z"
   },
   {
    "duration": 119,
    "start_time": "2022-04-05T09:08:27.240Z"
   },
   {
    "duration": 129,
    "start_time": "2022-04-05T09:08:27.434Z"
   },
   {
    "duration": 79,
    "start_time": "2022-04-05T09:08:27.566Z"
   },
   {
    "duration": 13,
    "start_time": "2022-04-05T09:08:27.734Z"
   },
   {
    "duration": 5,
    "start_time": "2022-04-05T09:08:27.749Z"
   },
   {
    "duration": 9,
    "start_time": "2022-04-05T09:08:27.755Z"
   },
   {
    "duration": 10,
    "start_time": "2022-04-05T09:08:27.765Z"
   },
   {
    "duration": 10,
    "start_time": "2022-04-05T09:08:27.776Z"
   },
   {
    "duration": 4,
    "start_time": "2022-04-05T09:08:27.787Z"
   },
   {
    "duration": 41,
    "start_time": "2022-04-05T09:08:27.792Z"
   },
   {
    "duration": 37,
    "start_time": "2022-04-05T09:08:27.835Z"
   },
   {
    "duration": 0,
    "start_time": "2022-04-05T09:08:27.874Z"
   },
   {
    "duration": 0,
    "start_time": "2022-04-05T09:08:27.875Z"
   },
   {
    "duration": 14,
    "start_time": "2022-04-05T09:08:45.802Z"
   },
   {
    "duration": 6,
    "start_time": "2022-04-05T09:09:43.278Z"
   },
   {
    "duration": 17,
    "start_time": "2022-04-05T09:09:44.839Z"
   },
   {
    "duration": 253,
    "start_time": "2022-04-05T09:09:54.979Z"
   },
   {
    "duration": 18,
    "start_time": "2022-04-05T09:09:56.534Z"
   },
   {
    "duration": 4,
    "start_time": "2022-04-05T09:10:02.258Z"
   },
   {
    "duration": 14,
    "start_time": "2022-04-05T09:10:03.354Z"
   },
   {
    "duration": 5,
    "start_time": "2022-04-05T09:10:30.392Z"
   },
   {
    "duration": 19,
    "start_time": "2022-04-05T09:10:31.645Z"
   },
   {
    "duration": 5,
    "start_time": "2022-04-05T09:10:45.826Z"
   },
   {
    "duration": 22,
    "start_time": "2022-04-05T09:10:46.828Z"
   },
   {
    "duration": 8,
    "start_time": "2022-04-05T09:10:55.584Z"
   },
   {
    "duration": 16,
    "start_time": "2022-04-05T09:10:57.705Z"
   },
   {
    "duration": 5,
    "start_time": "2022-04-05T09:11:55.635Z"
   },
   {
    "duration": 4,
    "start_time": "2022-04-05T09:12:03.311Z"
   },
   {
    "duration": 11,
    "start_time": "2022-04-05T09:13:03.553Z"
   },
   {
    "duration": 4,
    "start_time": "2022-04-05T09:13:06.800Z"
   },
   {
    "duration": 17,
    "start_time": "2022-04-05T09:13:24.261Z"
   },
   {
    "duration": 5,
    "start_time": "2022-04-05T09:13:54.916Z"
   },
   {
    "duration": 9,
    "start_time": "2022-04-05T09:14:45.918Z"
   },
   {
    "duration": 11,
    "start_time": "2022-04-05T09:15:10.958Z"
   },
   {
    "duration": 10,
    "start_time": "2022-04-05T09:16:04.844Z"
   },
   {
    "duration": 37,
    "start_time": "2022-04-05T09:16:09.262Z"
   },
   {
    "duration": 6,
    "start_time": "2022-04-05T09:19:36.419Z"
   },
   {
    "duration": 32,
    "start_time": "2022-04-05T09:19:37.285Z"
   },
   {
    "duration": 5,
    "start_time": "2022-04-05T09:19:58.061Z"
   },
   {
    "duration": 33,
    "start_time": "2022-04-05T09:19:58.894Z"
   },
   {
    "duration": 8,
    "start_time": "2022-04-05T09:20:03.931Z"
   },
   {
    "duration": 32,
    "start_time": "2022-04-05T09:20:04.462Z"
   },
   {
    "duration": 5,
    "start_time": "2022-04-05T09:20:27.645Z"
   },
   {
    "duration": 26,
    "start_time": "2022-04-05T09:20:28.018Z"
   },
   {
    "duration": 5,
    "start_time": "2022-04-05T09:21:30.459Z"
   },
   {
    "duration": 20,
    "start_time": "2022-04-05T09:21:33.865Z"
   },
   {
    "duration": 6,
    "start_time": "2022-04-05T09:22:17.569Z"
   },
   {
    "duration": 21,
    "start_time": "2022-04-05T09:22:18.610Z"
   },
   {
    "duration": 6,
    "start_time": "2022-04-05T09:22:52.747Z"
   },
   {
    "duration": 16,
    "start_time": "2022-04-05T09:22:54.609Z"
   },
   {
    "duration": 8,
    "start_time": "2022-04-05T09:23:08.654Z"
   },
   {
    "duration": 16,
    "start_time": "2022-04-05T09:23:08.976Z"
   },
   {
    "duration": 5,
    "start_time": "2022-04-05T09:23:23.010Z"
   },
   {
    "duration": 16,
    "start_time": "2022-04-05T09:23:23.375Z"
   },
   {
    "duration": 6,
    "start_time": "2022-04-05T09:24:16.501Z"
   },
   {
    "duration": 21,
    "start_time": "2022-04-05T09:24:17.519Z"
   },
   {
    "duration": 162,
    "start_time": "2022-04-05T09:24:26.085Z"
   },
   {
    "duration": 25,
    "start_time": "2022-04-05T09:24:26.520Z"
   },
   {
    "duration": 5,
    "start_time": "2022-04-05T09:24:31.474Z"
   },
   {
    "duration": 22,
    "start_time": "2022-04-05T09:24:31.728Z"
   },
   {
    "duration": 5,
    "start_time": "2022-04-05T09:24:48.917Z"
   },
   {
    "duration": 17,
    "start_time": "2022-04-05T09:24:49.274Z"
   },
   {
    "duration": 13,
    "start_time": "2022-04-05T09:25:37.046Z"
   },
   {
    "duration": 11,
    "start_time": "2022-04-05T09:26:41.645Z"
   },
   {
    "duration": 13,
    "start_time": "2022-04-05T09:26:53.767Z"
   },
   {
    "duration": 15,
    "start_time": "2022-04-05T09:27:22.278Z"
   },
   {
    "duration": 123,
    "start_time": "2022-04-05T09:27:44.828Z"
   },
   {
    "duration": 202,
    "start_time": "2022-04-05T09:27:52.263Z"
   },
   {
    "duration": 15,
    "start_time": "2022-04-05T09:28:09.685Z"
   },
   {
    "duration": 4,
    "start_time": "2022-04-05T09:30:13.673Z"
   },
   {
    "duration": 41,
    "start_time": "2022-04-05T09:30:17.414Z"
   },
   {
    "duration": 4,
    "start_time": "2022-04-05T09:31:29.847Z"
   },
   {
    "duration": 81,
    "start_time": "2022-04-05T09:31:29.853Z"
   },
   {
    "duration": 4,
    "start_time": "2022-04-05T09:31:46.088Z"
   },
   {
    "duration": 5509,
    "start_time": "2022-04-05T09:31:46.469Z"
   },
   {
    "duration": 3,
    "start_time": "2022-04-05T09:32:02.428Z"
   },
   {
    "duration": 128,
    "start_time": "2022-04-05T09:32:02.706Z"
   },
   {
    "duration": 19,
    "start_time": "2022-04-05T09:32:10.033Z"
   },
   {
    "duration": 12,
    "start_time": "2022-04-05T09:32:18.045Z"
   },
   {
    "duration": 12,
    "start_time": "2022-04-05T09:33:22.198Z"
   },
   {
    "duration": 16,
    "start_time": "2022-04-05T09:33:41.391Z"
   },
   {
    "duration": 11,
    "start_time": "2022-04-05T09:33:53.245Z"
   },
   {
    "duration": 15,
    "start_time": "2022-04-05T09:34:05.982Z"
   },
   {
    "duration": 77,
    "start_time": "2022-04-05T09:35:00.093Z"
   },
   {
    "duration": 23,
    "start_time": "2022-04-05T09:35:27.390Z"
   },
   {
    "duration": 26,
    "start_time": "2022-04-05T09:35:44.561Z"
   },
   {
    "duration": 6,
    "start_time": "2022-04-05T09:35:53.523Z"
   },
   {
    "duration": 22,
    "start_time": "2022-04-05T09:35:54.017Z"
   },
   {
    "duration": 5,
    "start_time": "2022-04-05T09:37:06.700Z"
   },
   {
    "duration": 19,
    "start_time": "2022-04-05T09:37:11.955Z"
   },
   {
    "duration": 6,
    "start_time": "2022-04-05T09:37:56.598Z"
   },
   {
    "duration": 23,
    "start_time": "2022-04-05T09:37:57.547Z"
   },
   {
    "duration": 6,
    "start_time": "2022-04-05T09:38:26.567Z"
   },
   {
    "duration": 5686,
    "start_time": "2022-04-05T09:38:27.276Z"
   },
   {
    "duration": 4,
    "start_time": "2022-04-05T09:39:54.209Z"
   },
   {
    "duration": 387,
    "start_time": "2022-04-05T09:39:54.215Z"
   },
   {
    "duration": 3,
    "start_time": "2022-04-05T09:39:54.603Z"
   },
   {
    "duration": 38,
    "start_time": "2022-04-05T09:39:54.608Z"
   },
   {
    "duration": 20,
    "start_time": "2022-04-05T09:39:54.648Z"
   },
   {
    "duration": 20,
    "start_time": "2022-04-05T09:39:54.669Z"
   },
   {
    "duration": 2,
    "start_time": "2022-04-05T09:39:54.690Z"
   },
   {
    "duration": 72,
    "start_time": "2022-04-05T09:39:54.694Z"
   },
   {
    "duration": 4,
    "start_time": "2022-04-05T09:39:54.768Z"
   },
   {
    "duration": 6,
    "start_time": "2022-04-05T09:39:54.773Z"
   },
   {
    "duration": 62,
    "start_time": "2022-04-05T09:39:54.780Z"
   },
   {
    "duration": 116,
    "start_time": "2022-04-05T09:39:54.844Z"
   },
   {
    "duration": 194,
    "start_time": "2022-04-05T09:39:54.962Z"
   },
   {
    "duration": 79,
    "start_time": "2022-04-05T09:39:55.161Z"
   },
   {
    "duration": 13,
    "start_time": "2022-04-05T09:39:55.242Z"
   },
   {
    "duration": 91,
    "start_time": "2022-04-05T09:39:55.257Z"
   },
   {
    "duration": 28,
    "start_time": "2022-04-05T09:39:55.349Z"
   },
   {
    "duration": 0,
    "start_time": "2022-04-05T09:39:55.379Z"
   },
   {
    "duration": 0,
    "start_time": "2022-04-05T09:39:55.380Z"
   },
   {
    "duration": 0,
    "start_time": "2022-04-05T09:39:55.381Z"
   },
   {
    "duration": 0,
    "start_time": "2022-04-05T09:39:55.382Z"
   },
   {
    "duration": 0,
    "start_time": "2022-04-05T09:39:55.383Z"
   },
   {
    "duration": 0,
    "start_time": "2022-04-05T09:39:55.384Z"
   },
   {
    "duration": 10,
    "start_time": "2022-04-05T09:40:03.302Z"
   },
   {
    "duration": 10,
    "start_time": "2022-04-05T09:40:03.663Z"
   },
   {
    "duration": 4,
    "start_time": "2022-04-05T09:40:04.176Z"
   },
   {
    "duration": 9,
    "start_time": "2022-04-05T09:40:04.732Z"
   },
   {
    "duration": 1880,
    "start_time": "2022-04-05T09:40:05.157Z"
   },
   {
    "duration": 6,
    "start_time": "2022-04-05T09:40:26.863Z"
   },
   {
    "duration": 1213,
    "start_time": "2022-04-05T09:40:27.204Z"
   },
   {
    "duration": 9,
    "start_time": "2022-04-05T09:41:16.800Z"
   },
   {
    "duration": 6400,
    "start_time": "2022-04-05T09:41:23.368Z"
   },
   {
    "duration": 8,
    "start_time": "2022-04-05T09:41:36.354Z"
   },
   {
    "duration": 14,
    "start_time": "2022-04-05T09:42:27.538Z"
   },
   {
    "duration": 9,
    "start_time": "2022-04-05T09:42:44.393Z"
   },
   {
    "duration": 8,
    "start_time": "2022-04-05T09:42:50.247Z"
   },
   {
    "duration": 11,
    "start_time": "2022-04-05T09:43:14.127Z"
   },
   {
    "duration": 8,
    "start_time": "2022-04-05T09:43:29.479Z"
   },
   {
    "duration": 4,
    "start_time": "2022-04-05T09:43:46.055Z"
   },
   {
    "duration": 5,
    "start_time": "2022-04-05T09:43:49.628Z"
   },
   {
    "duration": 1237,
    "start_time": "2022-04-05T09:43:50.221Z"
   },
   {
    "duration": 1241,
    "start_time": "2022-04-05T09:44:01.114Z"
   },
   {
    "duration": 1223,
    "start_time": "2022-04-05T09:44:09.028Z"
   },
   {
    "duration": 5,
    "start_time": "2022-04-05T09:44:25.492Z"
   },
   {
    "duration": 1240,
    "start_time": "2022-04-05T09:44:26.078Z"
   },
   {
    "duration": 1257,
    "start_time": "2022-04-05T09:44:27.320Z"
   },
   {
    "duration": 1223,
    "start_time": "2022-04-05T09:44:28.579Z"
   },
   {
    "duration": 5,
    "start_time": "2022-04-05T09:45:39.271Z"
   },
   {
    "duration": 1228,
    "start_time": "2022-04-05T09:45:39.767Z"
   },
   {
    "duration": 1439,
    "start_time": "2022-04-05T09:45:40.997Z"
   },
   {
    "duration": 1265,
    "start_time": "2022-04-05T09:45:42.438Z"
   },
   {
    "duration": 10,
    "start_time": "2022-04-05T13:48:39.124Z"
   },
   {
    "duration": 3,
    "start_time": "2022-04-05T13:48:46.862Z"
   },
   {
    "duration": 5,
    "start_time": "2022-04-05T13:50:28.516Z"
   },
   {
    "duration": 1253,
    "start_time": "2022-04-05T13:50:29.759Z"
   },
   {
    "duration": 6,
    "start_time": "2022-04-05T13:50:48.562Z"
   },
   {
    "duration": 1235,
    "start_time": "2022-04-05T13:50:49.044Z"
   },
   {
    "duration": 1246,
    "start_time": "2022-04-05T13:50:53.478Z"
   },
   {
    "duration": 1266,
    "start_time": "2022-04-05T13:50:56.868Z"
   },
   {
    "duration": 5,
    "start_time": "2022-04-05T13:55:20.468Z"
   },
   {
    "duration": 1380,
    "start_time": "2022-04-05T13:55:21.722Z"
   },
   {
    "duration": 6,
    "start_time": "2022-04-05T13:59:35.456Z"
   },
   {
    "duration": 1132,
    "start_time": "2022-04-05T13:59:36.482Z"
   },
   {
    "duration": 6,
    "start_time": "2022-04-05T14:00:02.562Z"
   },
   {
    "duration": 1150,
    "start_time": "2022-04-05T14:00:03.298Z"
   },
   {
    "duration": 1141,
    "start_time": "2022-04-05T14:00:15.042Z"
   },
   {
    "duration": 1149,
    "start_time": "2022-04-05T14:00:17.657Z"
   },
   {
    "duration": 7,
    "start_time": "2022-04-05T14:00:58.422Z"
   },
   {
    "duration": 1171,
    "start_time": "2022-04-05T14:00:58.867Z"
   },
   {
    "duration": 5,
    "start_time": "2022-04-05T14:01:36.293Z"
   },
   {
    "duration": 1236,
    "start_time": "2022-04-05T14:01:36.821Z"
   },
   {
    "duration": 124,
    "start_time": "2022-04-05T14:02:09.453Z"
   },
   {
    "duration": 5,
    "start_time": "2022-04-05T14:02:17.907Z"
   },
   {
    "duration": 1169,
    "start_time": "2022-04-05T14:02:19.475Z"
   },
   {
    "duration": 5,
    "start_time": "2022-04-05T14:03:43.673Z"
   },
   {
    "duration": 1224,
    "start_time": "2022-04-05T14:03:44.345Z"
   },
   {
    "duration": 126,
    "start_time": "2022-04-05T14:07:19.695Z"
   },
   {
    "duration": 9,
    "start_time": "2022-04-05T14:08:04.149Z"
   },
   {
    "duration": 1659,
    "start_time": "2022-04-05T14:08:04.833Z"
   },
   {
    "duration": 6,
    "start_time": "2022-04-05T14:08:15.319Z"
   },
   {
    "duration": 1323,
    "start_time": "2022-04-05T14:08:15.920Z"
   },
   {
    "duration": 115,
    "start_time": "2022-04-05T14:09:14.072Z"
   },
   {
    "duration": 1228,
    "start_time": "2022-04-05T14:09:14.363Z"
   },
   {
    "duration": 122,
    "start_time": "2022-04-05T14:09:23.062Z"
   },
   {
    "duration": 9,
    "start_time": "2022-04-05T14:09:30.635Z"
   },
   {
    "duration": 1300,
    "start_time": "2022-04-05T14:09:31.161Z"
   },
   {
    "duration": 1793,
    "start_time": "2022-04-05T14:09:37.171Z"
   },
   {
    "duration": 1350,
    "start_time": "2022-04-05T14:09:38.966Z"
   },
   {
    "duration": 4,
    "start_time": "2022-04-05T14:23:47.449Z"
   },
   {
    "duration": 3,
    "start_time": "2022-04-05T14:24:00.120Z"
   },
   {
    "duration": 4,
    "start_time": "2022-04-05T14:24:10.622Z"
   },
   {
    "duration": 4,
    "start_time": "2022-04-05T14:24:12.302Z"
   },
   {
    "duration": 4,
    "start_time": "2022-04-05T14:28:49.013Z"
   },
   {
    "duration": 3,
    "start_time": "2022-04-05T14:33:36.156Z"
   },
   {
    "duration": 3,
    "start_time": "2022-04-05T14:33:36.899Z"
   },
   {
    "duration": 4,
    "start_time": "2022-04-05T14:35:17.413Z"
   },
   {
    "duration": 7,
    "start_time": "2022-04-05T14:35:48.882Z"
   },
   {
    "duration": 7,
    "start_time": "2022-04-05T14:36:20.846Z"
   },
   {
    "duration": 8,
    "start_time": "2022-04-05T14:36:50.049Z"
   },
   {
    "duration": 6,
    "start_time": "2022-04-05T14:39:29.348Z"
   },
   {
    "duration": 6,
    "start_time": "2022-04-05T14:39:30.183Z"
   },
   {
    "duration": 11,
    "start_time": "2022-04-05T14:39:30.339Z"
   },
   {
    "duration": 3,
    "start_time": "2022-04-05T14:49:47.663Z"
   },
   {
    "duration": 381,
    "start_time": "2022-04-05T14:49:47.668Z"
   },
   {
    "duration": 4,
    "start_time": "2022-04-05T14:49:48.051Z"
   },
   {
    "duration": 25,
    "start_time": "2022-04-05T14:49:48.057Z"
   },
   {
    "duration": 21,
    "start_time": "2022-04-05T14:49:48.084Z"
   },
   {
    "duration": 44,
    "start_time": "2022-04-05T14:49:48.107Z"
   },
   {
    "duration": 36,
    "start_time": "2022-04-05T14:49:48.153Z"
   },
   {
    "duration": 3,
    "start_time": "2022-04-05T14:49:48.191Z"
   },
   {
    "duration": 36,
    "start_time": "2022-04-05T14:49:48.197Z"
   },
   {
    "duration": 99,
    "start_time": "2022-04-05T14:49:48.235Z"
   },
   {
    "duration": 113,
    "start_time": "2022-04-05T14:49:48.336Z"
   },
   {
    "duration": 283,
    "start_time": "2022-04-05T14:49:48.451Z"
   },
   {
    "duration": 98,
    "start_time": "2022-04-05T14:49:48.737Z"
   },
   {
    "duration": 4,
    "start_time": "2022-04-05T14:49:48.837Z"
   },
   {
    "duration": 7,
    "start_time": "2022-04-05T14:49:48.842Z"
   },
   {
    "duration": 5,
    "start_time": "2022-04-05T14:49:48.850Z"
   },
   {
    "duration": 8,
    "start_time": "2022-04-05T14:49:48.856Z"
   },
   {
    "duration": 7,
    "start_time": "2022-04-05T14:49:48.865Z"
   },
   {
    "duration": 7,
    "start_time": "2022-04-05T14:49:48.873Z"
   },
   {
    "duration": 51,
    "start_time": "2022-04-05T14:49:48.882Z"
   },
   {
    "duration": 1202,
    "start_time": "2022-04-05T14:49:48.935Z"
   },
   {
    "duration": 1208,
    "start_time": "2022-04-05T14:49:50.139Z"
   },
   {
    "duration": 1159,
    "start_time": "2022-04-05T14:49:51.349Z"
   }
  ],
  "kernelspec": {
   "display_name": "Python 3 (ipykernel)",
   "language": "python",
   "name": "python3"
  },
  "language_info": {
   "codemirror_mode": {
    "name": "ipython",
    "version": 3
   },
   "file_extension": ".py",
   "mimetype": "text/x-python",
   "name": "python",
   "nbconvert_exporter": "python",
   "pygments_lexer": "ipython3",
   "version": "3.9.7"
  },
  "toc": {
   "base_numbering": 1,
   "nav_menu": {},
   "number_sections": true,
   "sideBar": true,
   "skip_h1_title": true,
   "title_cell": "Table of Contents",
   "title_sidebar": "Contents",
   "toc_cell": false,
   "toc_position": {},
   "toc_section_display": true,
   "toc_window_display": false
  }
 },
 "nbformat": 4,
 "nbformat_minor": 2
}
