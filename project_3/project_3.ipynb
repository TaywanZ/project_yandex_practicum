{
 "cells": [
  {
   "cell_type": "markdown",
   "metadata": {},
   "source": [
    "# Оглавление\n",
    "\n",
    "1. Загрузка и ознакомление с данными;\n",
    "2. Подготовака данных;\n",
    "3. Рассчёт помесячной выручки;\n",
    "4. Анализ данных;\n",
    "5. Проверка гипотез;\n",
    "6. Вывод"
   ]
  },
  {
   "cell_type": "markdown",
   "metadata": {},
   "source": [
    "## Загрузка и ознакомление с данными"
   ]
  },
  {
   "cell_type": "markdown",
   "metadata": {},
   "source": [
    "**Постановка задачи:**\n",
    "\n",
    "Необходимо сделать предварительный анализ тарифов на небольшой выборке клиентов. В распоряжении имеются данные 500 пользователей «Мегалайна»: кто они, откуда, каким тарифом пользуются, сколько звонков и сообщений каждый отправил за 2018 год. Нужно проанализировать поведение клиентов и сделать вывод — какой тариф лучше."
   ]
  },
  {
   "cell_type": "markdown",
   "metadata": {},
   "source": [
    "Получим данные и ознакомимся с ними."
   ]
  },
  {
   "cell_type": "code",
   "execution_count": 217,
   "metadata": {},
   "outputs": [],
   "source": [
    "import pandas as pd\n",
    "import numpy as np\n",
    "import scipy.stats as st\n",
    "import matplotlib.pyplot as plt\n",
    "\n",
    "data_calls = pd.read_csv('calls.csv')\n",
    "data_internet = pd.read_csv('internet.csv')\n",
    "data_messages = pd.read_csv('messages.csv')\n",
    "data_tariffs = pd.read_csv('tariffs.csv')\n",
    "data_users = pd.read_csv('users.csv')\n",
    "\n",
    "list_data = [data_calls, data_internet, data_messages, data_tariffs, data_users]"
   ]
  },
  {
   "cell_type": "code",
   "execution_count": 218,
   "metadata": {},
   "outputs": [],
   "source": [
    "def data_info(index, flag=0):\n",
    "    if not flag:\n",
    "        return list_data[index]\n",
    "    elif flag == 1:\n",
    "        return list_data[index].info()\n",
    "    elif flag == 2:\n",
    "        return list_data[index].isna().sum()"
   ]
  },
  {
   "cell_type": "code",
   "execution_count": 219,
   "metadata": {},
   "outputs": [
    {
     "data": {
      "text/html": [
       "<div>\n",
       "<style scoped>\n",
       "    .dataframe tbody tr th:only-of-type {\n",
       "        vertical-align: middle;\n",
       "    }\n",
       "\n",
       "    .dataframe tbody tr th {\n",
       "        vertical-align: top;\n",
       "    }\n",
       "\n",
       "    .dataframe thead th {\n",
       "        text-align: right;\n",
       "    }\n",
       "</style>\n",
       "<table border=\"1\" class=\"dataframe\">\n",
       "  <thead>\n",
       "    <tr style=\"text-align: right;\">\n",
       "      <th></th>\n",
       "      <th>id</th>\n",
       "      <th>call_date</th>\n",
       "      <th>duration</th>\n",
       "      <th>user_id</th>\n",
       "    </tr>\n",
       "  </thead>\n",
       "  <tbody>\n",
       "    <tr>\n",
       "      <td>0</td>\n",
       "      <td>1000_0</td>\n",
       "      <td>2018-07-25</td>\n",
       "      <td>0.00</td>\n",
       "      <td>1000</td>\n",
       "    </tr>\n",
       "    <tr>\n",
       "      <td>1</td>\n",
       "      <td>1000_1</td>\n",
       "      <td>2018-08-17</td>\n",
       "      <td>0.00</td>\n",
       "      <td>1000</td>\n",
       "    </tr>\n",
       "    <tr>\n",
       "      <td>2</td>\n",
       "      <td>1000_2</td>\n",
       "      <td>2018-06-11</td>\n",
       "      <td>2.85</td>\n",
       "      <td>1000</td>\n",
       "    </tr>\n",
       "    <tr>\n",
       "      <td>3</td>\n",
       "      <td>1000_3</td>\n",
       "      <td>2018-09-21</td>\n",
       "      <td>13.80</td>\n",
       "      <td>1000</td>\n",
       "    </tr>\n",
       "    <tr>\n",
       "      <td>4</td>\n",
       "      <td>1000_4</td>\n",
       "      <td>2018-12-15</td>\n",
       "      <td>5.18</td>\n",
       "      <td>1000</td>\n",
       "    </tr>\n",
       "    <tr>\n",
       "      <td>...</td>\n",
       "      <td>...</td>\n",
       "      <td>...</td>\n",
       "      <td>...</td>\n",
       "      <td>...</td>\n",
       "    </tr>\n",
       "    <tr>\n",
       "      <td>202602</td>\n",
       "      <td>1499_215</td>\n",
       "      <td>2018-12-26</td>\n",
       "      <td>0.76</td>\n",
       "      <td>1499</td>\n",
       "    </tr>\n",
       "    <tr>\n",
       "      <td>202603</td>\n",
       "      <td>1499_216</td>\n",
       "      <td>2018-10-18</td>\n",
       "      <td>18.83</td>\n",
       "      <td>1499</td>\n",
       "    </tr>\n",
       "    <tr>\n",
       "      <td>202604</td>\n",
       "      <td>1499_217</td>\n",
       "      <td>2018-11-10</td>\n",
       "      <td>10.81</td>\n",
       "      <td>1499</td>\n",
       "    </tr>\n",
       "    <tr>\n",
       "      <td>202605</td>\n",
       "      <td>1499_218</td>\n",
       "      <td>2018-10-06</td>\n",
       "      <td>4.27</td>\n",
       "      <td>1499</td>\n",
       "    </tr>\n",
       "    <tr>\n",
       "      <td>202606</td>\n",
       "      <td>1499_219</td>\n",
       "      <td>2018-12-14</td>\n",
       "      <td>19.62</td>\n",
       "      <td>1499</td>\n",
       "    </tr>\n",
       "  </tbody>\n",
       "</table>\n",
       "<p>202607 rows × 4 columns</p>\n",
       "</div>"
      ],
      "text/plain": [
       "              id   call_date  duration  user_id\n",
       "0         1000_0  2018-07-25      0.00     1000\n",
       "1         1000_1  2018-08-17      0.00     1000\n",
       "2         1000_2  2018-06-11      2.85     1000\n",
       "3         1000_3  2018-09-21     13.80     1000\n",
       "4         1000_4  2018-12-15      5.18     1000\n",
       "...          ...         ...       ...      ...\n",
       "202602  1499_215  2018-12-26      0.76     1499\n",
       "202603  1499_216  2018-10-18     18.83     1499\n",
       "202604  1499_217  2018-11-10     10.81     1499\n",
       "202605  1499_218  2018-10-06      4.27     1499\n",
       "202606  1499_219  2018-12-14     19.62     1499\n",
       "\n",
       "[202607 rows x 4 columns]"
      ]
     },
     "metadata": {},
     "output_type": "display_data"
    },
    {
     "name": "stdout",
     "output_type": "stream",
     "text": [
      "<class 'pandas.core.frame.DataFrame'>\n",
      "RangeIndex: 202607 entries, 0 to 202606\n",
      "Data columns (total 4 columns):\n",
      "id           202607 non-null object\n",
      "call_date    202607 non-null object\n",
      "duration     202607 non-null float64\n",
      "user_id      202607 non-null int64\n",
      "dtypes: float64(1), int64(1), object(2)\n",
      "memory usage: 6.2+ MB\n"
     ]
    },
    {
     "data": {
      "text/plain": [
       "id           0\n",
       "call_date    0\n",
       "duration     0\n",
       "user_id      0\n",
       "dtype: int64"
      ]
     },
     "execution_count": 219,
     "metadata": {},
     "output_type": "execute_result"
    }
   ],
   "source": [
    "display(data_info(0))\n",
    "data_info(0, 1)\n",
    "data_info(0, 2)"
   ]
  },
  {
   "cell_type": "markdown",
   "metadata": {},
   "source": [
    "Данные в порядке, ни пропусков, ни ошибок не видно. Столбец `call_date` необходимо привести к формату datetime."
   ]
  },
  {
   "cell_type": "code",
   "execution_count": 220,
   "metadata": {},
   "outputs": [
    {
     "data": {
      "text/html": [
       "<div>\n",
       "<style scoped>\n",
       "    .dataframe tbody tr th:only-of-type {\n",
       "        vertical-align: middle;\n",
       "    }\n",
       "\n",
       "    .dataframe tbody tr th {\n",
       "        vertical-align: top;\n",
       "    }\n",
       "\n",
       "    .dataframe thead th {\n",
       "        text-align: right;\n",
       "    }\n",
       "</style>\n",
       "<table border=\"1\" class=\"dataframe\">\n",
       "  <thead>\n",
       "    <tr style=\"text-align: right;\">\n",
       "      <th></th>\n",
       "      <th>Unnamed: 0</th>\n",
       "      <th>id</th>\n",
       "      <th>mb_used</th>\n",
       "      <th>session_date</th>\n",
       "      <th>user_id</th>\n",
       "    </tr>\n",
       "  </thead>\n",
       "  <tbody>\n",
       "    <tr>\n",
       "      <td>0</td>\n",
       "      <td>0</td>\n",
       "      <td>1000_0</td>\n",
       "      <td>112.95</td>\n",
       "      <td>2018-11-25</td>\n",
       "      <td>1000</td>\n",
       "    </tr>\n",
       "    <tr>\n",
       "      <td>1</td>\n",
       "      <td>1</td>\n",
       "      <td>1000_1</td>\n",
       "      <td>1052.81</td>\n",
       "      <td>2018-09-07</td>\n",
       "      <td>1000</td>\n",
       "    </tr>\n",
       "    <tr>\n",
       "      <td>2</td>\n",
       "      <td>2</td>\n",
       "      <td>1000_2</td>\n",
       "      <td>1197.26</td>\n",
       "      <td>2018-06-25</td>\n",
       "      <td>1000</td>\n",
       "    </tr>\n",
       "    <tr>\n",
       "      <td>3</td>\n",
       "      <td>3</td>\n",
       "      <td>1000_3</td>\n",
       "      <td>550.27</td>\n",
       "      <td>2018-08-22</td>\n",
       "      <td>1000</td>\n",
       "    </tr>\n",
       "    <tr>\n",
       "      <td>4</td>\n",
       "      <td>4</td>\n",
       "      <td>1000_4</td>\n",
       "      <td>302.56</td>\n",
       "      <td>2018-09-24</td>\n",
       "      <td>1000</td>\n",
       "    </tr>\n",
       "    <tr>\n",
       "      <td>...</td>\n",
       "      <td>...</td>\n",
       "      <td>...</td>\n",
       "      <td>...</td>\n",
       "      <td>...</td>\n",
       "      <td>...</td>\n",
       "    </tr>\n",
       "    <tr>\n",
       "      <td>149391</td>\n",
       "      <td>149391</td>\n",
       "      <td>1499_152</td>\n",
       "      <td>318.90</td>\n",
       "      <td>2018-10-03</td>\n",
       "      <td>1499</td>\n",
       "    </tr>\n",
       "    <tr>\n",
       "      <td>149392</td>\n",
       "      <td>149392</td>\n",
       "      <td>1499_153</td>\n",
       "      <td>490.13</td>\n",
       "      <td>2018-12-14</td>\n",
       "      <td>1499</td>\n",
       "    </tr>\n",
       "    <tr>\n",
       "      <td>149393</td>\n",
       "      <td>149393</td>\n",
       "      <td>1499_154</td>\n",
       "      <td>0.00</td>\n",
       "      <td>2018-10-27</td>\n",
       "      <td>1499</td>\n",
       "    </tr>\n",
       "    <tr>\n",
       "      <td>149394</td>\n",
       "      <td>149394</td>\n",
       "      <td>1499_155</td>\n",
       "      <td>1246.32</td>\n",
       "      <td>2018-11-26</td>\n",
       "      <td>1499</td>\n",
       "    </tr>\n",
       "    <tr>\n",
       "      <td>149395</td>\n",
       "      <td>149395</td>\n",
       "      <td>1499_156</td>\n",
       "      <td>544.37</td>\n",
       "      <td>2018-10-26</td>\n",
       "      <td>1499</td>\n",
       "    </tr>\n",
       "  </tbody>\n",
       "</table>\n",
       "<p>149396 rows × 5 columns</p>\n",
       "</div>"
      ],
      "text/plain": [
       "        Unnamed: 0        id  mb_used session_date  user_id\n",
       "0                0    1000_0   112.95   2018-11-25     1000\n",
       "1                1    1000_1  1052.81   2018-09-07     1000\n",
       "2                2    1000_2  1197.26   2018-06-25     1000\n",
       "3                3    1000_3   550.27   2018-08-22     1000\n",
       "4                4    1000_4   302.56   2018-09-24     1000\n",
       "...            ...       ...      ...          ...      ...\n",
       "149391      149391  1499_152   318.90   2018-10-03     1499\n",
       "149392      149392  1499_153   490.13   2018-12-14     1499\n",
       "149393      149393  1499_154     0.00   2018-10-27     1499\n",
       "149394      149394  1499_155  1246.32   2018-11-26     1499\n",
       "149395      149395  1499_156   544.37   2018-10-26     1499\n",
       "\n",
       "[149396 rows x 5 columns]"
      ]
     },
     "metadata": {},
     "output_type": "display_data"
    },
    {
     "name": "stdout",
     "output_type": "stream",
     "text": [
      "<class 'pandas.core.frame.DataFrame'>\n",
      "RangeIndex: 149396 entries, 0 to 149395\n",
      "Data columns (total 5 columns):\n",
      "Unnamed: 0      149396 non-null int64\n",
      "id              149396 non-null object\n",
      "mb_used         149396 non-null float64\n",
      "session_date    149396 non-null object\n",
      "user_id         149396 non-null int64\n",
      "dtypes: float64(1), int64(2), object(2)\n",
      "memory usage: 5.7+ MB\n"
     ]
    },
    {
     "data": {
      "text/plain": [
       "Unnamed: 0      0\n",
       "id              0\n",
       "mb_used         0\n",
       "session_date    0\n",
       "user_id         0\n",
       "dtype: int64"
      ]
     },
     "execution_count": 220,
     "metadata": {},
     "output_type": "execute_result"
    }
   ],
   "source": [
    "display(data_info(1))\n",
    "data_info(1, 1)\n",
    "data_info(1, 2)"
   ]
  },
  {
   "cell_type": "markdown",
   "metadata": {},
   "source": [
    "В данных присутствует лишний столбц. Скорее всего он образовался при подготовке выборки из-за не удаленных индексов. Столбец необходимо удалить, столюец `session_date` привести к формату datatime."
   ]
  },
  {
   "cell_type": "code",
   "execution_count": 221,
   "metadata": {},
   "outputs": [
    {
     "data": {
      "text/html": [
       "<div>\n",
       "<style scoped>\n",
       "    .dataframe tbody tr th:only-of-type {\n",
       "        vertical-align: middle;\n",
       "    }\n",
       "\n",
       "    .dataframe tbody tr th {\n",
       "        vertical-align: top;\n",
       "    }\n",
       "\n",
       "    .dataframe thead th {\n",
       "        text-align: right;\n",
       "    }\n",
       "</style>\n",
       "<table border=\"1\" class=\"dataframe\">\n",
       "  <thead>\n",
       "    <tr style=\"text-align: right;\">\n",
       "      <th></th>\n",
       "      <th>id</th>\n",
       "      <th>message_date</th>\n",
       "      <th>user_id</th>\n",
       "    </tr>\n",
       "  </thead>\n",
       "  <tbody>\n",
       "    <tr>\n",
       "      <td>0</td>\n",
       "      <td>1000_0</td>\n",
       "      <td>2018-06-27</td>\n",
       "      <td>1000</td>\n",
       "    </tr>\n",
       "    <tr>\n",
       "      <td>1</td>\n",
       "      <td>1000_1</td>\n",
       "      <td>2018-10-08</td>\n",
       "      <td>1000</td>\n",
       "    </tr>\n",
       "    <tr>\n",
       "      <td>2</td>\n",
       "      <td>1000_2</td>\n",
       "      <td>2018-08-04</td>\n",
       "      <td>1000</td>\n",
       "    </tr>\n",
       "    <tr>\n",
       "      <td>3</td>\n",
       "      <td>1000_3</td>\n",
       "      <td>2018-06-16</td>\n",
       "      <td>1000</td>\n",
       "    </tr>\n",
       "    <tr>\n",
       "      <td>4</td>\n",
       "      <td>1000_4</td>\n",
       "      <td>2018-12-05</td>\n",
       "      <td>1000</td>\n",
       "    </tr>\n",
       "    <tr>\n",
       "      <td>...</td>\n",
       "      <td>...</td>\n",
       "      <td>...</td>\n",
       "      <td>...</td>\n",
       "    </tr>\n",
       "    <tr>\n",
       "      <td>123031</td>\n",
       "      <td>1499_179</td>\n",
       "      <td>2018-12-12</td>\n",
       "      <td>1499</td>\n",
       "    </tr>\n",
       "    <tr>\n",
       "      <td>123032</td>\n",
       "      <td>1499_180</td>\n",
       "      <td>2018-09-28</td>\n",
       "      <td>1499</td>\n",
       "    </tr>\n",
       "    <tr>\n",
       "      <td>123033</td>\n",
       "      <td>1499_181</td>\n",
       "      <td>2018-09-27</td>\n",
       "      <td>1499</td>\n",
       "    </tr>\n",
       "    <tr>\n",
       "      <td>123034</td>\n",
       "      <td>1499_182</td>\n",
       "      <td>2018-11-15</td>\n",
       "      <td>1499</td>\n",
       "    </tr>\n",
       "    <tr>\n",
       "      <td>123035</td>\n",
       "      <td>1499_183</td>\n",
       "      <td>2018-11-16</td>\n",
       "      <td>1499</td>\n",
       "    </tr>\n",
       "  </tbody>\n",
       "</table>\n",
       "<p>123036 rows × 3 columns</p>\n",
       "</div>"
      ],
      "text/plain": [
       "              id message_date  user_id\n",
       "0         1000_0   2018-06-27     1000\n",
       "1         1000_1   2018-10-08     1000\n",
       "2         1000_2   2018-08-04     1000\n",
       "3         1000_3   2018-06-16     1000\n",
       "4         1000_4   2018-12-05     1000\n",
       "...          ...          ...      ...\n",
       "123031  1499_179   2018-12-12     1499\n",
       "123032  1499_180   2018-09-28     1499\n",
       "123033  1499_181   2018-09-27     1499\n",
       "123034  1499_182   2018-11-15     1499\n",
       "123035  1499_183   2018-11-16     1499\n",
       "\n",
       "[123036 rows x 3 columns]"
      ]
     },
     "metadata": {},
     "output_type": "display_data"
    },
    {
     "name": "stdout",
     "output_type": "stream",
     "text": [
      "<class 'pandas.core.frame.DataFrame'>\n",
      "RangeIndex: 123036 entries, 0 to 123035\n",
      "Data columns (total 3 columns):\n",
      "id              123036 non-null object\n",
      "message_date    123036 non-null object\n",
      "user_id         123036 non-null int64\n",
      "dtypes: int64(1), object(2)\n",
      "memory usage: 2.8+ MB\n"
     ]
    },
    {
     "data": {
      "text/plain": [
       "id              0\n",
       "message_date    0\n",
       "user_id         0\n",
       "dtype: int64"
      ]
     },
     "execution_count": 221,
     "metadata": {},
     "output_type": "execute_result"
    }
   ],
   "source": [
    "display(data_info(2))\n",
    "data_info(2, 1)\n",
    "data_info(2, 2)"
   ]
  },
  {
   "cell_type": "markdown",
   "metadata": {},
   "source": [
    "Данные в порядке, ни пропусков, ни ошибок не видно. Столбец `message_date` необходимо привести к формату datetime."
   ]
  },
  {
   "cell_type": "code",
   "execution_count": 222,
   "metadata": {},
   "outputs": [
    {
     "data": {
      "text/html": [
       "<div>\n",
       "<style scoped>\n",
       "    .dataframe tbody tr th:only-of-type {\n",
       "        vertical-align: middle;\n",
       "    }\n",
       "\n",
       "    .dataframe tbody tr th {\n",
       "        vertical-align: top;\n",
       "    }\n",
       "\n",
       "    .dataframe thead th {\n",
       "        text-align: right;\n",
       "    }\n",
       "</style>\n",
       "<table border=\"1\" class=\"dataframe\">\n",
       "  <thead>\n",
       "    <tr style=\"text-align: right;\">\n",
       "      <th></th>\n",
       "      <th>messages_included</th>\n",
       "      <th>mb_per_month_included</th>\n",
       "      <th>minutes_included</th>\n",
       "      <th>rub_monthly_fee</th>\n",
       "      <th>rub_per_gb</th>\n",
       "      <th>rub_per_message</th>\n",
       "      <th>rub_per_minute</th>\n",
       "      <th>tariff_name</th>\n",
       "    </tr>\n",
       "  </thead>\n",
       "  <tbody>\n",
       "    <tr>\n",
       "      <td>0</td>\n",
       "      <td>50</td>\n",
       "      <td>15360</td>\n",
       "      <td>500</td>\n",
       "      <td>550</td>\n",
       "      <td>200</td>\n",
       "      <td>3</td>\n",
       "      <td>3</td>\n",
       "      <td>smart</td>\n",
       "    </tr>\n",
       "    <tr>\n",
       "      <td>1</td>\n",
       "      <td>1000</td>\n",
       "      <td>30720</td>\n",
       "      <td>3000</td>\n",
       "      <td>1950</td>\n",
       "      <td>150</td>\n",
       "      <td>1</td>\n",
       "      <td>1</td>\n",
       "      <td>ultra</td>\n",
       "    </tr>\n",
       "  </tbody>\n",
       "</table>\n",
       "</div>"
      ],
      "text/plain": [
       "   messages_included  mb_per_month_included  minutes_included  \\\n",
       "0                 50                  15360               500   \n",
       "1               1000                  30720              3000   \n",
       "\n",
       "   rub_monthly_fee  rub_per_gb  rub_per_message  rub_per_minute tariff_name  \n",
       "0              550         200                3               3       smart  \n",
       "1             1950         150                1               1       ultra  "
      ]
     },
     "metadata": {},
     "output_type": "display_data"
    },
    {
     "name": "stdout",
     "output_type": "stream",
     "text": [
      "<class 'pandas.core.frame.DataFrame'>\n",
      "RangeIndex: 2 entries, 0 to 1\n",
      "Data columns (total 8 columns):\n",
      "messages_included        2 non-null int64\n",
      "mb_per_month_included    2 non-null int64\n",
      "minutes_included         2 non-null int64\n",
      "rub_monthly_fee          2 non-null int64\n",
      "rub_per_gb               2 non-null int64\n",
      "rub_per_message          2 non-null int64\n",
      "rub_per_minute           2 non-null int64\n",
      "tariff_name              2 non-null object\n",
      "dtypes: int64(7), object(1)\n",
      "memory usage: 256.0+ bytes\n"
     ]
    },
    {
     "data": {
      "text/plain": [
       "messages_included        0\n",
       "mb_per_month_included    0\n",
       "minutes_included         0\n",
       "rub_monthly_fee          0\n",
       "rub_per_gb               0\n",
       "rub_per_message          0\n",
       "rub_per_minute           0\n",
       "tariff_name              0\n",
       "dtype: int64"
      ]
     },
     "execution_count": 222,
     "metadata": {},
     "output_type": "execute_result"
    }
   ],
   "source": [
    "display(data_info(3))\n",
    "data_info(3, 1)\n",
    "data_info(3, 2)"
   ]
  },
  {
   "cell_type": "markdown",
   "metadata": {},
   "source": [
    "Данные в порядке, ни пропусков, ни ошибок не видно."
   ]
  },
  {
   "cell_type": "code",
   "execution_count": 223,
   "metadata": {},
   "outputs": [
    {
     "data": {
      "text/html": [
       "<div>\n",
       "<style scoped>\n",
       "    .dataframe tbody tr th:only-of-type {\n",
       "        vertical-align: middle;\n",
       "    }\n",
       "\n",
       "    .dataframe tbody tr th {\n",
       "        vertical-align: top;\n",
       "    }\n",
       "\n",
       "    .dataframe thead th {\n",
       "        text-align: right;\n",
       "    }\n",
       "</style>\n",
       "<table border=\"1\" class=\"dataframe\">\n",
       "  <thead>\n",
       "    <tr style=\"text-align: right;\">\n",
       "      <th></th>\n",
       "      <th>user_id</th>\n",
       "      <th>age</th>\n",
       "      <th>churn_date</th>\n",
       "      <th>city</th>\n",
       "      <th>first_name</th>\n",
       "      <th>last_name</th>\n",
       "      <th>reg_date</th>\n",
       "      <th>tariff</th>\n",
       "    </tr>\n",
       "  </thead>\n",
       "  <tbody>\n",
       "    <tr>\n",
       "      <td>0</td>\n",
       "      <td>1000</td>\n",
       "      <td>52</td>\n",
       "      <td>NaN</td>\n",
       "      <td>Краснодар</td>\n",
       "      <td>Рафаил</td>\n",
       "      <td>Верещагин</td>\n",
       "      <td>2018-05-25</td>\n",
       "      <td>ultra</td>\n",
       "    </tr>\n",
       "    <tr>\n",
       "      <td>1</td>\n",
       "      <td>1001</td>\n",
       "      <td>41</td>\n",
       "      <td>NaN</td>\n",
       "      <td>Москва</td>\n",
       "      <td>Иван</td>\n",
       "      <td>Ежов</td>\n",
       "      <td>2018-11-01</td>\n",
       "      <td>smart</td>\n",
       "    </tr>\n",
       "    <tr>\n",
       "      <td>2</td>\n",
       "      <td>1002</td>\n",
       "      <td>59</td>\n",
       "      <td>NaN</td>\n",
       "      <td>Стерлитамак</td>\n",
       "      <td>Евгений</td>\n",
       "      <td>Абрамович</td>\n",
       "      <td>2018-06-17</td>\n",
       "      <td>smart</td>\n",
       "    </tr>\n",
       "    <tr>\n",
       "      <td>3</td>\n",
       "      <td>1003</td>\n",
       "      <td>23</td>\n",
       "      <td>NaN</td>\n",
       "      <td>Москва</td>\n",
       "      <td>Белла</td>\n",
       "      <td>Белякова</td>\n",
       "      <td>2018-08-17</td>\n",
       "      <td>ultra</td>\n",
       "    </tr>\n",
       "    <tr>\n",
       "      <td>4</td>\n",
       "      <td>1004</td>\n",
       "      <td>68</td>\n",
       "      <td>NaN</td>\n",
       "      <td>Новокузнецк</td>\n",
       "      <td>Татьяна</td>\n",
       "      <td>Авдеенко</td>\n",
       "      <td>2018-05-14</td>\n",
       "      <td>ultra</td>\n",
       "    </tr>\n",
       "    <tr>\n",
       "      <td>...</td>\n",
       "      <td>...</td>\n",
       "      <td>...</td>\n",
       "      <td>...</td>\n",
       "      <td>...</td>\n",
       "      <td>...</td>\n",
       "      <td>...</td>\n",
       "      <td>...</td>\n",
       "      <td>...</td>\n",
       "    </tr>\n",
       "    <tr>\n",
       "      <td>495</td>\n",
       "      <td>1495</td>\n",
       "      <td>65</td>\n",
       "      <td>NaN</td>\n",
       "      <td>Иркутск</td>\n",
       "      <td>Авксентий</td>\n",
       "      <td>Фокин</td>\n",
       "      <td>2018-08-28</td>\n",
       "      <td>ultra</td>\n",
       "    </tr>\n",
       "    <tr>\n",
       "      <td>496</td>\n",
       "      <td>1496</td>\n",
       "      <td>36</td>\n",
       "      <td>NaN</td>\n",
       "      <td>Вологда</td>\n",
       "      <td>Трифон</td>\n",
       "      <td>Блохин</td>\n",
       "      <td>2018-01-27</td>\n",
       "      <td>smart</td>\n",
       "    </tr>\n",
       "    <tr>\n",
       "      <td>497</td>\n",
       "      <td>1497</td>\n",
       "      <td>32</td>\n",
       "      <td>NaN</td>\n",
       "      <td>Челябинск</td>\n",
       "      <td>Каролина</td>\n",
       "      <td>Агеева</td>\n",
       "      <td>2018-10-09</td>\n",
       "      <td>smart</td>\n",
       "    </tr>\n",
       "    <tr>\n",
       "      <td>498</td>\n",
       "      <td>1498</td>\n",
       "      <td>68</td>\n",
       "      <td>2018-10-25</td>\n",
       "      <td>Владикавказ</td>\n",
       "      <td>Всеволод</td>\n",
       "      <td>Акимчин</td>\n",
       "      <td>2018-07-19</td>\n",
       "      <td>smart</td>\n",
       "    </tr>\n",
       "    <tr>\n",
       "      <td>499</td>\n",
       "      <td>1499</td>\n",
       "      <td>35</td>\n",
       "      <td>NaN</td>\n",
       "      <td>Пермь</td>\n",
       "      <td>Гектор</td>\n",
       "      <td>Корнилов</td>\n",
       "      <td>2018-09-27</td>\n",
       "      <td>smart</td>\n",
       "    </tr>\n",
       "  </tbody>\n",
       "</table>\n",
       "<p>500 rows × 8 columns</p>\n",
       "</div>"
      ],
      "text/plain": [
       "     user_id  age  churn_date         city first_name  last_name    reg_date  \\\n",
       "0       1000   52         NaN    Краснодар     Рафаил  Верещагин  2018-05-25   \n",
       "1       1001   41         NaN       Москва       Иван       Ежов  2018-11-01   \n",
       "2       1002   59         NaN  Стерлитамак    Евгений  Абрамович  2018-06-17   \n",
       "3       1003   23         NaN       Москва      Белла   Белякова  2018-08-17   \n",
       "4       1004   68         NaN  Новокузнецк    Татьяна   Авдеенко  2018-05-14   \n",
       "..       ...  ...         ...          ...        ...        ...         ...   \n",
       "495     1495   65         NaN      Иркутск  Авксентий      Фокин  2018-08-28   \n",
       "496     1496   36         NaN      Вологда     Трифон     Блохин  2018-01-27   \n",
       "497     1497   32         NaN    Челябинск   Каролина     Агеева  2018-10-09   \n",
       "498     1498   68  2018-10-25  Владикавказ   Всеволод    Акимчин  2018-07-19   \n",
       "499     1499   35         NaN        Пермь     Гектор   Корнилов  2018-09-27   \n",
       "\n",
       "    tariff  \n",
       "0    ultra  \n",
       "1    smart  \n",
       "2    smart  \n",
       "3    ultra  \n",
       "4    ultra  \n",
       "..     ...  \n",
       "495  ultra  \n",
       "496  smart  \n",
       "497  smart  \n",
       "498  smart  \n",
       "499  smart  \n",
       "\n",
       "[500 rows x 8 columns]"
      ]
     },
     "metadata": {},
     "output_type": "display_data"
    },
    {
     "name": "stdout",
     "output_type": "stream",
     "text": [
      "<class 'pandas.core.frame.DataFrame'>\n",
      "RangeIndex: 500 entries, 0 to 499\n",
      "Data columns (total 8 columns):\n",
      "user_id       500 non-null int64\n",
      "age           500 non-null int64\n",
      "churn_date    38 non-null object\n",
      "city          500 non-null object\n",
      "first_name    500 non-null object\n",
      "last_name     500 non-null object\n",
      "reg_date      500 non-null object\n",
      "tariff        500 non-null object\n",
      "dtypes: int64(2), object(6)\n",
      "memory usage: 31.4+ KB\n"
     ]
    },
    {
     "data": {
      "text/plain": [
       "user_id         0\n",
       "age             0\n",
       "churn_date    462\n",
       "city            0\n",
       "first_name      0\n",
       "last_name       0\n",
       "reg_date        0\n",
       "tariff          0\n",
       "dtype: int64"
      ]
     },
     "execution_count": 223,
     "metadata": {},
     "output_type": "execute_result"
    }
   ],
   "source": [
    "display(data_info(4))\n",
    "data_info(4, 1)\n",
    "data_info(4, 2)"
   ]
  },
  {
   "cell_type": "markdown",
   "metadata": {},
   "source": [
    "Данные в порядке. Имеются пропуски в столбце `churn_date`, но по вводной информации, в этом столбце есть данные только если клиент отказался от использования тарифа."
   ]
  },
  {
   "cell_type": "markdown",
   "metadata": {},
   "source": [
    "## Подготовка данных"
   ]
  },
  {
   "cell_type": "markdown",
   "metadata": {},
   "source": [
    "Для дальнейшей работы подготовим данные. Нам необходимо:\n",
    "\n",
    "- привести даты в соответсвтующий формат;\n",
    "- на основе приведенных дат, выделить месяц, в котором пользователи совершали действия по тарифу;\n",
    "- сгруппировать данные по пользователям и месяцам, когда они пользовались тарифами.\n",
    "- округлить продолжительность разговора в большую сторону для сравнения с лимитом минут на тарифах;\n",
    "- перевести мб траффика в гигабайты, с округлением в большую сторону, для сравнения с лимитом на тарифах;\n",
    "- объединить получившиеся таблицы для анализа поведения пользователей."
   ]
  },
  {
   "cell_type": "markdown",
   "metadata": {},
   "source": [
    "Сформируем сводную таблицу по id пользователей и месяцам. Посчитаем для каждого пользователя и месяца сумму использованных минут, с округлинием в верх. Так же посчитаем количество звонков."
   ]
  },
  {
   "cell_type": "code",
   "execution_count": 224,
   "metadata": {},
   "outputs": [
    {
     "data": {
      "text/html": [
       "<div>\n",
       "<style scoped>\n",
       "    .dataframe tbody tr th:only-of-type {\n",
       "        vertical-align: middle;\n",
       "    }\n",
       "\n",
       "    .dataframe tbody tr th {\n",
       "        vertical-align: top;\n",
       "    }\n",
       "\n",
       "    .dataframe thead th {\n",
       "        text-align: right;\n",
       "    }\n",
       "</style>\n",
       "<table border=\"1\" class=\"dataframe\">\n",
       "  <thead>\n",
       "    <tr style=\"text-align: right;\">\n",
       "      <th></th>\n",
       "      <th></th>\n",
       "      <th>duration_call</th>\n",
       "      <th>count_call</th>\n",
       "    </tr>\n",
       "    <tr>\n",
       "      <th>user_id</th>\n",
       "      <th>month</th>\n",
       "      <th></th>\n",
       "      <th></th>\n",
       "    </tr>\n",
       "  </thead>\n",
       "  <tbody>\n",
       "    <tr>\n",
       "      <td rowspan=\"5\" valign=\"top\">1000</td>\n",
       "      <td>5</td>\n",
       "      <td>151.0</td>\n",
       "      <td>22.0</td>\n",
       "    </tr>\n",
       "    <tr>\n",
       "      <td>6</td>\n",
       "      <td>159.0</td>\n",
       "      <td>43.0</td>\n",
       "    </tr>\n",
       "    <tr>\n",
       "      <td>7</td>\n",
       "      <td>319.0</td>\n",
       "      <td>47.0</td>\n",
       "    </tr>\n",
       "    <tr>\n",
       "      <td>8</td>\n",
       "      <td>390.0</td>\n",
       "      <td>52.0</td>\n",
       "    </tr>\n",
       "    <tr>\n",
       "      <td>9</td>\n",
       "      <td>441.0</td>\n",
       "      <td>58.0</td>\n",
       "    </tr>\n",
       "    <tr>\n",
       "      <td>...</td>\n",
       "      <td>...</td>\n",
       "      <td>...</td>\n",
       "      <td>...</td>\n",
       "    </tr>\n",
       "    <tr>\n",
       "      <td>1498</td>\n",
       "      <td>10</td>\n",
       "      <td>233.0</td>\n",
       "      <td>41.0</td>\n",
       "    </tr>\n",
       "    <tr>\n",
       "      <td rowspan=\"4\" valign=\"top\">1499</td>\n",
       "      <td>9</td>\n",
       "      <td>65.0</td>\n",
       "      <td>9.0</td>\n",
       "    </tr>\n",
       "    <tr>\n",
       "      <td>10</td>\n",
       "      <td>430.0</td>\n",
       "      <td>68.0</td>\n",
       "    </tr>\n",
       "    <tr>\n",
       "      <td>11</td>\n",
       "      <td>577.0</td>\n",
       "      <td>74.0</td>\n",
       "    </tr>\n",
       "    <tr>\n",
       "      <td>12</td>\n",
       "      <td>466.0</td>\n",
       "      <td>69.0</td>\n",
       "    </tr>\n",
       "  </tbody>\n",
       "</table>\n",
       "<p>3174 rows × 2 columns</p>\n",
       "</div>"
      ],
      "text/plain": [
       "               duration_call  count_call\n",
       "user_id month                           \n",
       "1000    5              151.0        22.0\n",
       "        6              159.0        43.0\n",
       "        7              319.0        47.0\n",
       "        8              390.0        52.0\n",
       "        9              441.0        58.0\n",
       "...                      ...         ...\n",
       "1498    10             233.0        41.0\n",
       "1499    9               65.0         9.0\n",
       "        10             430.0        68.0\n",
       "        11             577.0        74.0\n",
       "        12             466.0        69.0\n",
       "\n",
       "[3174 rows x 2 columns]"
      ]
     },
     "execution_count": 224,
     "metadata": {},
     "output_type": "execute_result"
    }
   ],
   "source": [
    "data_calls['call_date'] = pd.to_datetime(data_calls['call_date'], format='%Y-%m-%d')\n",
    "data_calls['month'] = data_calls['call_date'].dt.month\n",
    "    \n",
    "data_c = data_calls.pivot_table(index=['user_id','month'], values='duration', aggfunc=['sum', 'count'])\n",
    "data_c = data_c.apply(np.ceil)\n",
    "data_c.columns = ['duration_call', 'count_call']\n",
    "data_c"
   ]
  },
  {
   "cell_type": "markdown",
   "metadata": {},
   "source": [
    "Далее, сформирует сводную таблицу по id пользователей и месяцам для смс сообщейний. Посчитаем количество сообщейний в месяц для каждого пользователя."
   ]
  },
  {
   "cell_type": "code",
   "execution_count": 225,
   "metadata": {},
   "outputs": [
    {
     "data": {
      "text/html": [
       "<div>\n",
       "<style scoped>\n",
       "    .dataframe tbody tr th:only-of-type {\n",
       "        vertical-align: middle;\n",
       "    }\n",
       "\n",
       "    .dataframe tbody tr th {\n",
       "        vertical-align: top;\n",
       "    }\n",
       "\n",
       "    .dataframe thead th {\n",
       "        text-align: right;\n",
       "    }\n",
       "</style>\n",
       "<table border=\"1\" class=\"dataframe\">\n",
       "  <thead>\n",
       "    <tr style=\"text-align: right;\">\n",
       "      <th></th>\n",
       "      <th></th>\n",
       "      <th>message_count</th>\n",
       "    </tr>\n",
       "    <tr>\n",
       "      <th>user_id</th>\n",
       "      <th>month</th>\n",
       "      <th></th>\n",
       "    </tr>\n",
       "  </thead>\n",
       "  <tbody>\n",
       "    <tr>\n",
       "      <td rowspan=\"5\" valign=\"top\">1000</td>\n",
       "      <td>5</td>\n",
       "      <td>22</td>\n",
       "    </tr>\n",
       "    <tr>\n",
       "      <td>6</td>\n",
       "      <td>60</td>\n",
       "    </tr>\n",
       "    <tr>\n",
       "      <td>7</td>\n",
       "      <td>75</td>\n",
       "    </tr>\n",
       "    <tr>\n",
       "      <td>8</td>\n",
       "      <td>81</td>\n",
       "    </tr>\n",
       "    <tr>\n",
       "      <td>9</td>\n",
       "      <td>57</td>\n",
       "    </tr>\n",
       "    <tr>\n",
       "      <td>...</td>\n",
       "      <td>...</td>\n",
       "      <td>...</td>\n",
       "    </tr>\n",
       "    <tr>\n",
       "      <td>1498</td>\n",
       "      <td>10</td>\n",
       "      <td>42</td>\n",
       "    </tr>\n",
       "    <tr>\n",
       "      <td rowspan=\"4\" valign=\"top\">1499</td>\n",
       "      <td>9</td>\n",
       "      <td>11</td>\n",
       "    </tr>\n",
       "    <tr>\n",
       "      <td>10</td>\n",
       "      <td>48</td>\n",
       "    </tr>\n",
       "    <tr>\n",
       "      <td>11</td>\n",
       "      <td>59</td>\n",
       "    </tr>\n",
       "    <tr>\n",
       "      <td>12</td>\n",
       "      <td>66</td>\n",
       "    </tr>\n",
       "  </tbody>\n",
       "</table>\n",
       "<p>2717 rows × 1 columns</p>\n",
       "</div>"
      ],
      "text/plain": [
       "               message_count\n",
       "user_id month               \n",
       "1000    5                 22\n",
       "        6                 60\n",
       "        7                 75\n",
       "        8                 81\n",
       "        9                 57\n",
       "...                      ...\n",
       "1498    10                42\n",
       "1499    9                 11\n",
       "        10                48\n",
       "        11                59\n",
       "        12                66\n",
       "\n",
       "[2717 rows x 1 columns]"
      ]
     },
     "execution_count": 225,
     "metadata": {},
     "output_type": "execute_result"
    }
   ],
   "source": [
    "data_messages['message_date'] = pd.to_datetime(data_messages['message_date'], format='%Y-%m-%d')\n",
    "data_messages['month'] = data_messages['message_date'].dt.month\n",
    "data_m = data_messages.pivot_table(index=['user_id','month'], values='id', aggfunc='count')\n",
    "data_m.columns = ['message_count']\n",
    "data_m"
   ]
  },
  {
   "cell_type": "markdown",
   "metadata": {},
   "source": [
    "Для данных об интернет траффике, удалим лишний столбец."
   ]
  },
  {
   "cell_type": "code",
   "execution_count": 226,
   "metadata": {},
   "outputs": [
    {
     "data": {
      "text/html": [
       "<div>\n",
       "<style scoped>\n",
       "    .dataframe tbody tr th:only-of-type {\n",
       "        vertical-align: middle;\n",
       "    }\n",
       "\n",
       "    .dataframe tbody tr th {\n",
       "        vertical-align: top;\n",
       "    }\n",
       "\n",
       "    .dataframe thead th {\n",
       "        text-align: right;\n",
       "    }\n",
       "</style>\n",
       "<table border=\"1\" class=\"dataframe\">\n",
       "  <thead>\n",
       "    <tr style=\"text-align: right;\">\n",
       "      <th></th>\n",
       "      <th>id</th>\n",
       "      <th>mb_used</th>\n",
       "      <th>session_date</th>\n",
       "      <th>user_id</th>\n",
       "      <th>month</th>\n",
       "    </tr>\n",
       "  </thead>\n",
       "  <tbody>\n",
       "    <tr>\n",
       "      <td>0</td>\n",
       "      <td>1000_0</td>\n",
       "      <td>112.95</td>\n",
       "      <td>2018-11-25</td>\n",
       "      <td>1000</td>\n",
       "      <td>11</td>\n",
       "    </tr>\n",
       "    <tr>\n",
       "      <td>1</td>\n",
       "      <td>1000_1</td>\n",
       "      <td>1052.81</td>\n",
       "      <td>2018-09-07</td>\n",
       "      <td>1000</td>\n",
       "      <td>9</td>\n",
       "    </tr>\n",
       "    <tr>\n",
       "      <td>2</td>\n",
       "      <td>1000_2</td>\n",
       "      <td>1197.26</td>\n",
       "      <td>2018-06-25</td>\n",
       "      <td>1000</td>\n",
       "      <td>6</td>\n",
       "    </tr>\n",
       "    <tr>\n",
       "      <td>3</td>\n",
       "      <td>1000_3</td>\n",
       "      <td>550.27</td>\n",
       "      <td>2018-08-22</td>\n",
       "      <td>1000</td>\n",
       "      <td>8</td>\n",
       "    </tr>\n",
       "    <tr>\n",
       "      <td>4</td>\n",
       "      <td>1000_4</td>\n",
       "      <td>302.56</td>\n",
       "      <td>2018-09-24</td>\n",
       "      <td>1000</td>\n",
       "      <td>9</td>\n",
       "    </tr>\n",
       "    <tr>\n",
       "      <td>...</td>\n",
       "      <td>...</td>\n",
       "      <td>...</td>\n",
       "      <td>...</td>\n",
       "      <td>...</td>\n",
       "      <td>...</td>\n",
       "    </tr>\n",
       "    <tr>\n",
       "      <td>149391</td>\n",
       "      <td>1499_152</td>\n",
       "      <td>318.90</td>\n",
       "      <td>2018-10-03</td>\n",
       "      <td>1499</td>\n",
       "      <td>10</td>\n",
       "    </tr>\n",
       "    <tr>\n",
       "      <td>149392</td>\n",
       "      <td>1499_153</td>\n",
       "      <td>490.13</td>\n",
       "      <td>2018-12-14</td>\n",
       "      <td>1499</td>\n",
       "      <td>12</td>\n",
       "    </tr>\n",
       "    <tr>\n",
       "      <td>149393</td>\n",
       "      <td>1499_154</td>\n",
       "      <td>0.00</td>\n",
       "      <td>2018-10-27</td>\n",
       "      <td>1499</td>\n",
       "      <td>10</td>\n",
       "    </tr>\n",
       "    <tr>\n",
       "      <td>149394</td>\n",
       "      <td>1499_155</td>\n",
       "      <td>1246.32</td>\n",
       "      <td>2018-11-26</td>\n",
       "      <td>1499</td>\n",
       "      <td>11</td>\n",
       "    </tr>\n",
       "    <tr>\n",
       "      <td>149395</td>\n",
       "      <td>1499_156</td>\n",
       "      <td>544.37</td>\n",
       "      <td>2018-10-26</td>\n",
       "      <td>1499</td>\n",
       "      <td>10</td>\n",
       "    </tr>\n",
       "  </tbody>\n",
       "</table>\n",
       "<p>149396 rows × 5 columns</p>\n",
       "</div>"
      ],
      "text/plain": [
       "              id  mb_used session_date  user_id  month\n",
       "0         1000_0   112.95   2018-11-25     1000     11\n",
       "1         1000_1  1052.81   2018-09-07     1000      9\n",
       "2         1000_2  1197.26   2018-06-25     1000      6\n",
       "3         1000_3   550.27   2018-08-22     1000      8\n",
       "4         1000_4   302.56   2018-09-24     1000      9\n",
       "...          ...      ...          ...      ...    ...\n",
       "149391  1499_152   318.90   2018-10-03     1499     10\n",
       "149392  1499_153   490.13   2018-12-14     1499     12\n",
       "149393  1499_154     0.00   2018-10-27     1499     10\n",
       "149394  1499_155  1246.32   2018-11-26     1499     11\n",
       "149395  1499_156   544.37   2018-10-26     1499     10\n",
       "\n",
       "[149396 rows x 5 columns]"
      ]
     },
     "execution_count": 226,
     "metadata": {},
     "output_type": "execute_result"
    }
   ],
   "source": [
    "data_internet['session_date'] = pd.to_datetime(data_internet['session_date'], format='%Y-%m-%d')\n",
    "data_internet['month'] = data_internet['session_date'].dt.month\n",
    "data_internet = data_internet.drop(columns='Unnamed: 0')\n",
    "data_internet"
   ]
  },
  {
   "cell_type": "markdown",
   "metadata": {},
   "source": [
    "Далее, свормируем сводную таблицу по пользователям и месяцам. Переведем мб трафика в гб. Округлим вверх."
   ]
  },
  {
   "cell_type": "code",
   "execution_count": 227,
   "metadata": {},
   "outputs": [
    {
     "data": {
      "text/html": [
       "<div>\n",
       "<style scoped>\n",
       "    .dataframe tbody tr th:only-of-type {\n",
       "        vertical-align: middle;\n",
       "    }\n",
       "\n",
       "    .dataframe tbody tr th {\n",
       "        vertical-align: top;\n",
       "    }\n",
       "\n",
       "    .dataframe thead th {\n",
       "        text-align: right;\n",
       "    }\n",
       "</style>\n",
       "<table border=\"1\" class=\"dataframe\">\n",
       "  <thead>\n",
       "    <tr style=\"text-align: right;\">\n",
       "      <th></th>\n",
       "      <th></th>\n",
       "      <th>gb_used</th>\n",
       "    </tr>\n",
       "    <tr>\n",
       "      <th>user_id</th>\n",
       "      <th>month</th>\n",
       "      <th></th>\n",
       "    </tr>\n",
       "  </thead>\n",
       "  <tbody>\n",
       "    <tr>\n",
       "      <td rowspan=\"5\" valign=\"top\">1000</td>\n",
       "      <td>5</td>\n",
       "      <td>3.0</td>\n",
       "    </tr>\n",
       "    <tr>\n",
       "      <td>6</td>\n",
       "      <td>23.0</td>\n",
       "    </tr>\n",
       "    <tr>\n",
       "      <td>7</td>\n",
       "      <td>14.0</td>\n",
       "    </tr>\n",
       "    <tr>\n",
       "      <td>8</td>\n",
       "      <td>14.0</td>\n",
       "    </tr>\n",
       "    <tr>\n",
       "      <td>9</td>\n",
       "      <td>15.0</td>\n",
       "    </tr>\n",
       "    <tr>\n",
       "      <td>...</td>\n",
       "      <td>...</td>\n",
       "      <td>...</td>\n",
       "    </tr>\n",
       "    <tr>\n",
       "      <td>1498</td>\n",
       "      <td>10</td>\n",
       "      <td>21.0</td>\n",
       "    </tr>\n",
       "    <tr>\n",
       "      <td rowspan=\"4\" valign=\"top\">1499</td>\n",
       "      <td>9</td>\n",
       "      <td>2.0</td>\n",
       "    </tr>\n",
       "    <tr>\n",
       "      <td>10</td>\n",
       "      <td>18.0</td>\n",
       "    </tr>\n",
       "    <tr>\n",
       "      <td>11</td>\n",
       "      <td>18.0</td>\n",
       "    </tr>\n",
       "    <tr>\n",
       "      <td>12</td>\n",
       "      <td>13.0</td>\n",
       "    </tr>\n",
       "  </tbody>\n",
       "</table>\n",
       "<p>3203 rows × 1 columns</p>\n",
       "</div>"
      ],
      "text/plain": [
       "               gb_used\n",
       "user_id month         \n",
       "1000    5          3.0\n",
       "        6         23.0\n",
       "        7         14.0\n",
       "        8         14.0\n",
       "        9         15.0\n",
       "...                ...\n",
       "1498    10        21.0\n",
       "1499    9          2.0\n",
       "        10        18.0\n",
       "        11        18.0\n",
       "        12        13.0\n",
       "\n",
       "[3203 rows x 1 columns]"
      ]
     },
     "metadata": {},
     "output_type": "display_data"
    }
   ],
   "source": [
    "def sum_mb(row):\n",
    "    value = sum(row)\n",
    "    value_round = value // 1024\n",
    "    if value_round != 0:\n",
    "        return int(value_round + 1)\n",
    "    else:\n",
    "        return int(value_round)\n",
    "\n",
    "data_i = data_internet.pivot_table(index=['user_id','month'], values='mb_used', aggfunc=sum_mb)\n",
    "data_i.columns = ['gb_used']\n",
    "\n",
    "display(data_i)\n"
   ]
  },
  {
   "cell_type": "markdown",
   "metadata": {},
   "source": [
    "Для дальнейшей работы подготовим таблицу с данными о пользователям. Отберем столбцы, которые могут пригодиться в анализе."
   ]
  },
  {
   "cell_type": "code",
   "execution_count": 228,
   "metadata": {},
   "outputs": [
    {
     "data": {
      "text/html": [
       "<div>\n",
       "<style scoped>\n",
       "    .dataframe tbody tr th:only-of-type {\n",
       "        vertical-align: middle;\n",
       "    }\n",
       "\n",
       "    .dataframe tbody tr th {\n",
       "        vertical-align: top;\n",
       "    }\n",
       "\n",
       "    .dataframe thead th {\n",
       "        text-align: right;\n",
       "    }\n",
       "</style>\n",
       "<table border=\"1\" class=\"dataframe\">\n",
       "  <thead>\n",
       "    <tr style=\"text-align: right;\">\n",
       "      <th></th>\n",
       "      <th>user_id</th>\n",
       "      <th>age</th>\n",
       "      <th>city</th>\n",
       "      <th>tariff</th>\n",
       "    </tr>\n",
       "  </thead>\n",
       "  <tbody>\n",
       "    <tr>\n",
       "      <td>0</td>\n",
       "      <td>1000</td>\n",
       "      <td>52</td>\n",
       "      <td>Краснодар</td>\n",
       "      <td>ultra</td>\n",
       "    </tr>\n",
       "    <tr>\n",
       "      <td>1</td>\n",
       "      <td>1001</td>\n",
       "      <td>41</td>\n",
       "      <td>Москва</td>\n",
       "      <td>smart</td>\n",
       "    </tr>\n",
       "    <tr>\n",
       "      <td>2</td>\n",
       "      <td>1002</td>\n",
       "      <td>59</td>\n",
       "      <td>Стерлитамак</td>\n",
       "      <td>smart</td>\n",
       "    </tr>\n",
       "    <tr>\n",
       "      <td>3</td>\n",
       "      <td>1003</td>\n",
       "      <td>23</td>\n",
       "      <td>Москва</td>\n",
       "      <td>ultra</td>\n",
       "    </tr>\n",
       "    <tr>\n",
       "      <td>4</td>\n",
       "      <td>1004</td>\n",
       "      <td>68</td>\n",
       "      <td>Новокузнецк</td>\n",
       "      <td>ultra</td>\n",
       "    </tr>\n",
       "    <tr>\n",
       "      <td>...</td>\n",
       "      <td>...</td>\n",
       "      <td>...</td>\n",
       "      <td>...</td>\n",
       "      <td>...</td>\n",
       "    </tr>\n",
       "    <tr>\n",
       "      <td>495</td>\n",
       "      <td>1495</td>\n",
       "      <td>65</td>\n",
       "      <td>Иркутск</td>\n",
       "      <td>ultra</td>\n",
       "    </tr>\n",
       "    <tr>\n",
       "      <td>496</td>\n",
       "      <td>1496</td>\n",
       "      <td>36</td>\n",
       "      <td>Вологда</td>\n",
       "      <td>smart</td>\n",
       "    </tr>\n",
       "    <tr>\n",
       "      <td>497</td>\n",
       "      <td>1497</td>\n",
       "      <td>32</td>\n",
       "      <td>Челябинск</td>\n",
       "      <td>smart</td>\n",
       "    </tr>\n",
       "    <tr>\n",
       "      <td>498</td>\n",
       "      <td>1498</td>\n",
       "      <td>68</td>\n",
       "      <td>Владикавказ</td>\n",
       "      <td>smart</td>\n",
       "    </tr>\n",
       "    <tr>\n",
       "      <td>499</td>\n",
       "      <td>1499</td>\n",
       "      <td>35</td>\n",
       "      <td>Пермь</td>\n",
       "      <td>smart</td>\n",
       "    </tr>\n",
       "  </tbody>\n",
       "</table>\n",
       "<p>500 rows × 4 columns</p>\n",
       "</div>"
      ],
      "text/plain": [
       "     user_id  age         city tariff\n",
       "0       1000   52    Краснодар  ultra\n",
       "1       1001   41       Москва  smart\n",
       "2       1002   59  Стерлитамак  smart\n",
       "3       1003   23       Москва  ultra\n",
       "4       1004   68  Новокузнецк  ultra\n",
       "..       ...  ...          ...    ...\n",
       "495     1495   65      Иркутск  ultra\n",
       "496     1496   36      Вологда  smart\n",
       "497     1497   32    Челябинск  smart\n",
       "498     1498   68  Владикавказ  smart\n",
       "499     1499   35        Пермь  smart\n",
       "\n",
       "[500 rows x 4 columns]"
      ]
     },
     "execution_count": 228,
     "metadata": {},
     "output_type": "execute_result"
    }
   ],
   "source": [
    "data_u = data_users[['user_id', 'age', 'city', 'tariff']]\n",
    "data_u"
   ]
  },
  {
   "cell_type": "markdown",
   "metadata": {},
   "source": [
    "В завершение подготовки данных, склеим таблицы. Получим общую сводную таблицу, где для каждого пользователя в каждом месяце указаны:\n",
    "\n",
    "- количество использованных минту;\n",
    "- количество звонков;\n",
    "- количество смс сообщений;\n",
    "- количество использованного интернет траффика в гб."
   ]
  },
  {
   "cell_type": "code",
   "execution_count": 229,
   "metadata": {},
   "outputs": [
    {
     "data": {
      "text/html": [
       "<div>\n",
       "<style scoped>\n",
       "    .dataframe tbody tr th:only-of-type {\n",
       "        vertical-align: middle;\n",
       "    }\n",
       "\n",
       "    .dataframe tbody tr th {\n",
       "        vertical-align: top;\n",
       "    }\n",
       "\n",
       "    .dataframe thead th {\n",
       "        text-align: right;\n",
       "    }\n",
       "</style>\n",
       "<table border=\"1\" class=\"dataframe\">\n",
       "  <thead>\n",
       "    <tr style=\"text-align: right;\">\n",
       "      <th></th>\n",
       "      <th></th>\n",
       "      <th>duration_call</th>\n",
       "      <th>count_call</th>\n",
       "      <th>message_count</th>\n",
       "      <th>gb_used</th>\n",
       "    </tr>\n",
       "    <tr>\n",
       "      <th>user_id</th>\n",
       "      <th>month</th>\n",
       "      <th></th>\n",
       "      <th></th>\n",
       "      <th></th>\n",
       "      <th></th>\n",
       "    </tr>\n",
       "  </thead>\n",
       "  <tbody>\n",
       "    <tr>\n",
       "      <td rowspan=\"5\" valign=\"top\">1000</td>\n",
       "      <td>5</td>\n",
       "      <td>151.0</td>\n",
       "      <td>22.0</td>\n",
       "      <td>22.0</td>\n",
       "      <td>3.0</td>\n",
       "    </tr>\n",
       "    <tr>\n",
       "      <td>6</td>\n",
       "      <td>159.0</td>\n",
       "      <td>43.0</td>\n",
       "      <td>60.0</td>\n",
       "      <td>23.0</td>\n",
       "    </tr>\n",
       "    <tr>\n",
       "      <td>7</td>\n",
       "      <td>319.0</td>\n",
       "      <td>47.0</td>\n",
       "      <td>75.0</td>\n",
       "      <td>14.0</td>\n",
       "    </tr>\n",
       "    <tr>\n",
       "      <td>8</td>\n",
       "      <td>390.0</td>\n",
       "      <td>52.0</td>\n",
       "      <td>81.0</td>\n",
       "      <td>14.0</td>\n",
       "    </tr>\n",
       "    <tr>\n",
       "      <td>9</td>\n",
       "      <td>441.0</td>\n",
       "      <td>58.0</td>\n",
       "      <td>57.0</td>\n",
       "      <td>15.0</td>\n",
       "    </tr>\n",
       "    <tr>\n",
       "      <td>...</td>\n",
       "      <td>...</td>\n",
       "      <td>...</td>\n",
       "      <td>...</td>\n",
       "      <td>...</td>\n",
       "      <td>...</td>\n",
       "    </tr>\n",
       "    <tr>\n",
       "      <td rowspan=\"4\" valign=\"top\">1489</td>\n",
       "      <td>9</td>\n",
       "      <td>NaN</td>\n",
       "      <td>NaN</td>\n",
       "      <td>32.0</td>\n",
       "      <td>17.0</td>\n",
       "    </tr>\n",
       "    <tr>\n",
       "      <td>10</td>\n",
       "      <td>NaN</td>\n",
       "      <td>NaN</td>\n",
       "      <td>21.0</td>\n",
       "      <td>20.0</td>\n",
       "    </tr>\n",
       "    <tr>\n",
       "      <td>11</td>\n",
       "      <td>NaN</td>\n",
       "      <td>NaN</td>\n",
       "      <td>20.0</td>\n",
       "      <td>18.0</td>\n",
       "    </tr>\n",
       "    <tr>\n",
       "      <td>12</td>\n",
       "      <td>NaN</td>\n",
       "      <td>NaN</td>\n",
       "      <td>35.0</td>\n",
       "      <td>17.0</td>\n",
       "    </tr>\n",
       "    <tr>\n",
       "      <td>1476</td>\n",
       "      <td>4</td>\n",
       "      <td>NaN</td>\n",
       "      <td>NaN</td>\n",
       "      <td>NaN</td>\n",
       "      <td>0.0</td>\n",
       "    </tr>\n",
       "  </tbody>\n",
       "</table>\n",
       "<p>3214 rows × 4 columns</p>\n",
       "</div>"
      ],
      "text/plain": [
       "               duration_call  count_call  message_count  gb_used\n",
       "user_id month                                                   \n",
       "1000    5              151.0        22.0           22.0      3.0\n",
       "        6              159.0        43.0           60.0     23.0\n",
       "        7              319.0        47.0           75.0     14.0\n",
       "        8              390.0        52.0           81.0     14.0\n",
       "        9              441.0        58.0           57.0     15.0\n",
       "...                      ...         ...            ...      ...\n",
       "1489    9                NaN         NaN           32.0     17.0\n",
       "        10               NaN         NaN           21.0     20.0\n",
       "        11               NaN         NaN           20.0     18.0\n",
       "        12               NaN         NaN           35.0     17.0\n",
       "1476    4                NaN         NaN            NaN      0.0\n",
       "\n",
       "[3214 rows x 4 columns]"
      ]
     },
     "execution_count": 229,
     "metadata": {},
     "output_type": "execute_result"
    }
   ],
   "source": [
    "data_cm = data_c.merge(data_m, on=['user_id','month'], how='outer')\n",
    "data_cmi = data_cm.merge(data_i, on=['user_id','month'], how='outer')\n",
    "data_cmi"
   ]
  },
  {
   "cell_type": "markdown",
   "metadata": {},
   "source": [
    "Убедимся, что все пользователи, которые совершали действия по тарифу, вошли в таблицу. Для этого получим список уникальных значений `user_id` и выведим количество строк из начальных фреймов с `user_id`, которых нет в нашей таблице."
   ]
  },
  {
   "cell_type": "code",
   "execution_count": 230,
   "metadata": {},
   "outputs": [
    {
     "data": {
      "text/plain": [
       "0"
      ]
     },
     "metadata": {},
     "output_type": "display_data"
    },
    {
     "data": {
      "text/plain": [
       "0"
      ]
     },
     "metadata": {},
     "output_type": "display_data"
    },
    {
     "data": {
      "text/plain": [
       "0"
      ]
     },
     "metadata": {},
     "output_type": "display_data"
    }
   ],
   "source": [
    "df0 = data_cmi.index.to_list()\n",
    "list_id = []\n",
    "for k in range(len(df0)):\n",
    "    list_id.append(df0[k][0])\n",
    "ls = pd.Series(list_id)\n",
    "ls.unique().shape\n",
    "\n",
    "# list_data - список с начальными dataframe, 0-2 индексы фреймов с звонками,смс и интернет трафиком\n",
    "for k in range(0,3):\n",
    "    display(list_data[k].query(\"user_id not in @ls\").shape[0])\n"
   ]
  },
  {
   "cell_type": "markdown",
   "metadata": {},
   "source": [
    "## Рассчёт помесячной выручки"
   ]
  },
  {
   "cell_type": "markdown",
   "metadata": {},
   "source": [
    "Рассчитаем помесячную выручку для каждого пользователя.\n",
    "Для этого в таблицу `data_cmi` методом `apply` добавим:\n",
    "\n",
    "- тарифный план пользователя;\n",
    "- город пользователя;\n",
    "- сумму, которую в каждом месяце пользователь платил за тариф, а так же за использование услуг вне лимитов по тарифу;"
   ]
  },
  {
   "cell_type": "code",
   "execution_count": 231,
   "metadata": {
    "scrolled": false
   },
   "outputs": [
    {
     "data": {
      "text/html": [
       "<div>\n",
       "<style scoped>\n",
       "    .dataframe tbody tr th:only-of-type {\n",
       "        vertical-align: middle;\n",
       "    }\n",
       "\n",
       "    .dataframe tbody tr th {\n",
       "        vertical-align: top;\n",
       "    }\n",
       "\n",
       "    .dataframe thead th {\n",
       "        text-align: right;\n",
       "    }\n",
       "</style>\n",
       "<table border=\"1\" class=\"dataframe\">\n",
       "  <thead>\n",
       "    <tr style=\"text-align: right;\">\n",
       "      <th></th>\n",
       "      <th></th>\n",
       "      <th>duration_call</th>\n",
       "      <th>count_call</th>\n",
       "      <th>message_count</th>\n",
       "      <th>gb_used</th>\n",
       "      <th>sum_call</th>\n",
       "      <th>sum_messages</th>\n",
       "      <th>sum_internet</th>\n",
       "      <th>amount_tariff</th>\n",
       "      <th>tariff</th>\n",
       "      <th>city</th>\n",
       "    </tr>\n",
       "    <tr>\n",
       "      <th>user_id</th>\n",
       "      <th>month</th>\n",
       "      <th></th>\n",
       "      <th></th>\n",
       "      <th></th>\n",
       "      <th></th>\n",
       "      <th></th>\n",
       "      <th></th>\n",
       "      <th></th>\n",
       "      <th></th>\n",
       "      <th></th>\n",
       "      <th></th>\n",
       "    </tr>\n",
       "  </thead>\n",
       "  <tbody>\n",
       "    <tr>\n",
       "      <td rowspan=\"5\" valign=\"top\">1000</td>\n",
       "      <td>5</td>\n",
       "      <td>151.0</td>\n",
       "      <td>22.0</td>\n",
       "      <td>22.0</td>\n",
       "      <td>3.0</td>\n",
       "      <td>0.0</td>\n",
       "      <td>0.0</td>\n",
       "      <td>0.0</td>\n",
       "      <td>1950.0</td>\n",
       "      <td>ultra</td>\n",
       "      <td>Краснодар</td>\n",
       "    </tr>\n",
       "    <tr>\n",
       "      <td>6</td>\n",
       "      <td>159.0</td>\n",
       "      <td>43.0</td>\n",
       "      <td>60.0</td>\n",
       "      <td>23.0</td>\n",
       "      <td>0.0</td>\n",
       "      <td>0.0</td>\n",
       "      <td>0.0</td>\n",
       "      <td>1950.0</td>\n",
       "      <td>ultra</td>\n",
       "      <td>Краснодар</td>\n",
       "    </tr>\n",
       "    <tr>\n",
       "      <td>7</td>\n",
       "      <td>319.0</td>\n",
       "      <td>47.0</td>\n",
       "      <td>75.0</td>\n",
       "      <td>14.0</td>\n",
       "      <td>0.0</td>\n",
       "      <td>0.0</td>\n",
       "      <td>0.0</td>\n",
       "      <td>1950.0</td>\n",
       "      <td>ultra</td>\n",
       "      <td>Краснодар</td>\n",
       "    </tr>\n",
       "    <tr>\n",
       "      <td>8</td>\n",
       "      <td>390.0</td>\n",
       "      <td>52.0</td>\n",
       "      <td>81.0</td>\n",
       "      <td>14.0</td>\n",
       "      <td>0.0</td>\n",
       "      <td>0.0</td>\n",
       "      <td>0.0</td>\n",
       "      <td>1950.0</td>\n",
       "      <td>ultra</td>\n",
       "      <td>Краснодар</td>\n",
       "    </tr>\n",
       "    <tr>\n",
       "      <td>9</td>\n",
       "      <td>441.0</td>\n",
       "      <td>58.0</td>\n",
       "      <td>57.0</td>\n",
       "      <td>15.0</td>\n",
       "      <td>0.0</td>\n",
       "      <td>0.0</td>\n",
       "      <td>0.0</td>\n",
       "      <td>1950.0</td>\n",
       "      <td>ultra</td>\n",
       "      <td>Краснодар</td>\n",
       "    </tr>\n",
       "    <tr>\n",
       "      <td>...</td>\n",
       "      <td>...</td>\n",
       "      <td>...</td>\n",
       "      <td>...</td>\n",
       "      <td>...</td>\n",
       "      <td>...</td>\n",
       "      <td>...</td>\n",
       "      <td>...</td>\n",
       "      <td>...</td>\n",
       "      <td>...</td>\n",
       "      <td>...</td>\n",
       "      <td>...</td>\n",
       "    </tr>\n",
       "    <tr>\n",
       "      <td rowspan=\"4\" valign=\"top\">1489</td>\n",
       "      <td>9</td>\n",
       "      <td>NaN</td>\n",
       "      <td>NaN</td>\n",
       "      <td>32.0</td>\n",
       "      <td>17.0</td>\n",
       "      <td>0.0</td>\n",
       "      <td>0.0</td>\n",
       "      <td>400.0</td>\n",
       "      <td>550.0</td>\n",
       "      <td>smart</td>\n",
       "      <td>Санкт-Петербург</td>\n",
       "    </tr>\n",
       "    <tr>\n",
       "      <td>10</td>\n",
       "      <td>NaN</td>\n",
       "      <td>NaN</td>\n",
       "      <td>21.0</td>\n",
       "      <td>20.0</td>\n",
       "      <td>0.0</td>\n",
       "      <td>0.0</td>\n",
       "      <td>1000.0</td>\n",
       "      <td>550.0</td>\n",
       "      <td>smart</td>\n",
       "      <td>Санкт-Петербург</td>\n",
       "    </tr>\n",
       "    <tr>\n",
       "      <td>11</td>\n",
       "      <td>NaN</td>\n",
       "      <td>NaN</td>\n",
       "      <td>20.0</td>\n",
       "      <td>18.0</td>\n",
       "      <td>0.0</td>\n",
       "      <td>0.0</td>\n",
       "      <td>600.0</td>\n",
       "      <td>550.0</td>\n",
       "      <td>smart</td>\n",
       "      <td>Санкт-Петербург</td>\n",
       "    </tr>\n",
       "    <tr>\n",
       "      <td>12</td>\n",
       "      <td>NaN</td>\n",
       "      <td>NaN</td>\n",
       "      <td>35.0</td>\n",
       "      <td>17.0</td>\n",
       "      <td>0.0</td>\n",
       "      <td>0.0</td>\n",
       "      <td>400.0</td>\n",
       "      <td>550.0</td>\n",
       "      <td>smart</td>\n",
       "      <td>Санкт-Петербург</td>\n",
       "    </tr>\n",
       "    <tr>\n",
       "      <td>1476</td>\n",
       "      <td>4</td>\n",
       "      <td>NaN</td>\n",
       "      <td>NaN</td>\n",
       "      <td>NaN</td>\n",
       "      <td>0.0</td>\n",
       "      <td>0.0</td>\n",
       "      <td>0.0</td>\n",
       "      <td>0.0</td>\n",
       "      <td>1950.0</td>\n",
       "      <td>ultra</td>\n",
       "      <td>Москва</td>\n",
       "    </tr>\n",
       "  </tbody>\n",
       "</table>\n",
       "<p>3214 rows × 10 columns</p>\n",
       "</div>"
      ],
      "text/plain": [
       "               duration_call  count_call  message_count  gb_used  sum_call  \\\n",
       "user_id month                                                                \n",
       "1000    5              151.0        22.0           22.0      3.0       0.0   \n",
       "        6              159.0        43.0           60.0     23.0       0.0   \n",
       "        7              319.0        47.0           75.0     14.0       0.0   \n",
       "        8              390.0        52.0           81.0     14.0       0.0   \n",
       "        9              441.0        58.0           57.0     15.0       0.0   \n",
       "...                      ...         ...            ...      ...       ...   \n",
       "1489    9                NaN         NaN           32.0     17.0       0.0   \n",
       "        10               NaN         NaN           21.0     20.0       0.0   \n",
       "        11               NaN         NaN           20.0     18.0       0.0   \n",
       "        12               NaN         NaN           35.0     17.0       0.0   \n",
       "1476    4                NaN         NaN            NaN      0.0       0.0   \n",
       "\n",
       "               sum_messages  sum_internet  amount_tariff tariff  \\\n",
       "user_id month                                                     \n",
       "1000    5               0.0           0.0         1950.0  ultra   \n",
       "        6               0.0           0.0         1950.0  ultra   \n",
       "        7               0.0           0.0         1950.0  ultra   \n",
       "        8               0.0           0.0         1950.0  ultra   \n",
       "        9               0.0           0.0         1950.0  ultra   \n",
       "...                     ...           ...            ...    ...   \n",
       "1489    9               0.0         400.0          550.0  smart   \n",
       "        10              0.0        1000.0          550.0  smart   \n",
       "        11              0.0         600.0          550.0  smart   \n",
       "        12              0.0         400.0          550.0  smart   \n",
       "1476    4               0.0           0.0         1950.0  ultra   \n",
       "\n",
       "                          city  \n",
       "user_id month                   \n",
       "1000    5            Краснодар  \n",
       "        6            Краснодар  \n",
       "        7            Краснодар  \n",
       "        8            Краснодар  \n",
       "        9            Краснодар  \n",
       "...                        ...  \n",
       "1489    9      Санкт-Петербург  \n",
       "        10     Санкт-Петербург  \n",
       "        11     Санкт-Петербург  \n",
       "        12     Санкт-Петербург  \n",
       "1476    4               Москва  \n",
       "\n",
       "[3214 rows x 10 columns]"
      ]
     },
     "execution_count": 231,
     "metadata": {},
     "output_type": "execute_result"
    }
   ],
   "source": [
    "def ref(row):\n",
    "    # получим название тарифа пользователя по его user_id\n",
    "    tariff = (data_u[data_u['user_id'] == row.name[0]]['tariff']).reset_index(drop=True)\n",
    "    \n",
    "    # определим лимиты минту, смс и траффика в соответствие с тарифом пользователя\n",
    "    minuts = (data_tariffs[data_tariffs['tariff_name'] == tariff[0]]['minutes_included']).reset_index(drop=True)\n",
    "    messages = (data_tariffs[data_tariffs['tariff_name'] == tariff[0]]['messages_included']).reset_index(drop=True)\n",
    "    # переведем мб лимита в гб лимита\n",
    "    internet = (data_tariffs[data_tariffs['tariff_name'] == tariff[0]]['mb_per_month_included']).reset_index(drop=True) / 1024\n",
    "\n",
    "    # если пользователь вышел из рамок лимита по тарифу, произведем рассчёт стоимости услуг\n",
    "    if minuts[0] < row['duration_call']:\n",
    "        row['sum_call'] = (row['duration_call'] - minuts[0]) * (data_tariffs[data_tariffs['tariff_name'] == tariff[0]]['rub_per_minute']).reset_index(drop=True)[0]\n",
    "    else:\n",
    "        row['sum_call'] = 0\n",
    "    if messages[0] < row['message_count']:\n",
    "        row['sum_messages'] = (row['message_count'] - messages[0]) * (data_tariffs[data_tariffs['tariff_name'] == tariff[0]]['rub_per_message']).reset_index(drop=True)[0]\n",
    "    else:\n",
    "        row['sum_messages'] = 0\n",
    "    if internet[0] < row['gb_used']:\n",
    "        row['sum_internet'] = (row['gb_used'] - internet[0]) * (data_tariffs[data_tariffs['tariff_name'] == tariff[0]]['rub_per_gb']).reset_index(drop=True)[0]\n",
    "    else:\n",
    "        row['sum_internet'] = 0\n",
    "    \n",
    "    # добавим столбы с ежемесячной платой по тарифу, названием тарифа и городом пользователя\n",
    "    row['amount_tariff'] = (data_tariffs[data_tariffs['tariff_name'] == tariff[0]]['rub_monthly_fee']).reset_index(drop=True)[0]\n",
    "    row['tariff'] = tariff[0]\n",
    "    row['city'] = (data_u[data_u['user_id'] == row.name[0]]['city']).reset_index(drop=True)[0]\n",
    "    return row\n",
    "        \n",
    "\n",
    "#messages_included mb_per_month_included minutes_included rub_monthly_fee rub_per_gb rub_per_message rub_per_minute\n",
    "data_cmi = data_cmi.apply(ref, axis=1)\n",
    "data_cmi"
   ]
  },
  {
   "cell_type": "markdown",
   "metadata": {},
   "source": [
    "Далее, рассчитаем, какую сумму в месяц пользователь должен заплатить за услуги оператора."
   ]
  },
  {
   "cell_type": "code",
   "execution_count": 232,
   "metadata": {},
   "outputs": [
    {
     "data": {
      "text/html": [
       "<div>\n",
       "<style scoped>\n",
       "    .dataframe tbody tr th:only-of-type {\n",
       "        vertical-align: middle;\n",
       "    }\n",
       "\n",
       "    .dataframe tbody tr th {\n",
       "        vertical-align: top;\n",
       "    }\n",
       "\n",
       "    .dataframe thead th {\n",
       "        text-align: right;\n",
       "    }\n",
       "</style>\n",
       "<table border=\"1\" class=\"dataframe\">\n",
       "  <thead>\n",
       "    <tr style=\"text-align: right;\">\n",
       "      <th></th>\n",
       "      <th></th>\n",
       "      <th>duration_call</th>\n",
       "      <th>count_call</th>\n",
       "      <th>message_count</th>\n",
       "      <th>gb_used</th>\n",
       "      <th>sum_call</th>\n",
       "      <th>sum_messages</th>\n",
       "      <th>sum_internet</th>\n",
       "      <th>amount_tariff</th>\n",
       "      <th>tariff</th>\n",
       "      <th>city</th>\n",
       "      <th>amount_per_month</th>\n",
       "    </tr>\n",
       "    <tr>\n",
       "      <th>user_id</th>\n",
       "      <th>month</th>\n",
       "      <th></th>\n",
       "      <th></th>\n",
       "      <th></th>\n",
       "      <th></th>\n",
       "      <th></th>\n",
       "      <th></th>\n",
       "      <th></th>\n",
       "      <th></th>\n",
       "      <th></th>\n",
       "      <th></th>\n",
       "      <th></th>\n",
       "    </tr>\n",
       "  </thead>\n",
       "  <tbody>\n",
       "    <tr>\n",
       "      <td rowspan=\"5\" valign=\"top\">1000</td>\n",
       "      <td>5</td>\n",
       "      <td>151.0</td>\n",
       "      <td>22.0</td>\n",
       "      <td>22.0</td>\n",
       "      <td>3.0</td>\n",
       "      <td>0.0</td>\n",
       "      <td>0.0</td>\n",
       "      <td>0.0</td>\n",
       "      <td>1950.0</td>\n",
       "      <td>ultra</td>\n",
       "      <td>Краснодар</td>\n",
       "      <td>1950.0</td>\n",
       "    </tr>\n",
       "    <tr>\n",
       "      <td>6</td>\n",
       "      <td>159.0</td>\n",
       "      <td>43.0</td>\n",
       "      <td>60.0</td>\n",
       "      <td>23.0</td>\n",
       "      <td>0.0</td>\n",
       "      <td>0.0</td>\n",
       "      <td>0.0</td>\n",
       "      <td>1950.0</td>\n",
       "      <td>ultra</td>\n",
       "      <td>Краснодар</td>\n",
       "      <td>1950.0</td>\n",
       "    </tr>\n",
       "    <tr>\n",
       "      <td>7</td>\n",
       "      <td>319.0</td>\n",
       "      <td>47.0</td>\n",
       "      <td>75.0</td>\n",
       "      <td>14.0</td>\n",
       "      <td>0.0</td>\n",
       "      <td>0.0</td>\n",
       "      <td>0.0</td>\n",
       "      <td>1950.0</td>\n",
       "      <td>ultra</td>\n",
       "      <td>Краснодар</td>\n",
       "      <td>1950.0</td>\n",
       "    </tr>\n",
       "    <tr>\n",
       "      <td>8</td>\n",
       "      <td>390.0</td>\n",
       "      <td>52.0</td>\n",
       "      <td>81.0</td>\n",
       "      <td>14.0</td>\n",
       "      <td>0.0</td>\n",
       "      <td>0.0</td>\n",
       "      <td>0.0</td>\n",
       "      <td>1950.0</td>\n",
       "      <td>ultra</td>\n",
       "      <td>Краснодар</td>\n",
       "      <td>1950.0</td>\n",
       "    </tr>\n",
       "    <tr>\n",
       "      <td>9</td>\n",
       "      <td>441.0</td>\n",
       "      <td>58.0</td>\n",
       "      <td>57.0</td>\n",
       "      <td>15.0</td>\n",
       "      <td>0.0</td>\n",
       "      <td>0.0</td>\n",
       "      <td>0.0</td>\n",
       "      <td>1950.0</td>\n",
       "      <td>ultra</td>\n",
       "      <td>Краснодар</td>\n",
       "      <td>1950.0</td>\n",
       "    </tr>\n",
       "    <tr>\n",
       "      <td>...</td>\n",
       "      <td>...</td>\n",
       "      <td>...</td>\n",
       "      <td>...</td>\n",
       "      <td>...</td>\n",
       "      <td>...</td>\n",
       "      <td>...</td>\n",
       "      <td>...</td>\n",
       "      <td>...</td>\n",
       "      <td>...</td>\n",
       "      <td>...</td>\n",
       "      <td>...</td>\n",
       "      <td>...</td>\n",
       "    </tr>\n",
       "    <tr>\n",
       "      <td rowspan=\"4\" valign=\"top\">1489</td>\n",
       "      <td>9</td>\n",
       "      <td>NaN</td>\n",
       "      <td>NaN</td>\n",
       "      <td>32.0</td>\n",
       "      <td>17.0</td>\n",
       "      <td>0.0</td>\n",
       "      <td>0.0</td>\n",
       "      <td>400.0</td>\n",
       "      <td>550.0</td>\n",
       "      <td>smart</td>\n",
       "      <td>Санкт-Петербург</td>\n",
       "      <td>950.0</td>\n",
       "    </tr>\n",
       "    <tr>\n",
       "      <td>10</td>\n",
       "      <td>NaN</td>\n",
       "      <td>NaN</td>\n",
       "      <td>21.0</td>\n",
       "      <td>20.0</td>\n",
       "      <td>0.0</td>\n",
       "      <td>0.0</td>\n",
       "      <td>1000.0</td>\n",
       "      <td>550.0</td>\n",
       "      <td>smart</td>\n",
       "      <td>Санкт-Петербург</td>\n",
       "      <td>1550.0</td>\n",
       "    </tr>\n",
       "    <tr>\n",
       "      <td>11</td>\n",
       "      <td>NaN</td>\n",
       "      <td>NaN</td>\n",
       "      <td>20.0</td>\n",
       "      <td>18.0</td>\n",
       "      <td>0.0</td>\n",
       "      <td>0.0</td>\n",
       "      <td>600.0</td>\n",
       "      <td>550.0</td>\n",
       "      <td>smart</td>\n",
       "      <td>Санкт-Петербург</td>\n",
       "      <td>1150.0</td>\n",
       "    </tr>\n",
       "    <tr>\n",
       "      <td>12</td>\n",
       "      <td>NaN</td>\n",
       "      <td>NaN</td>\n",
       "      <td>35.0</td>\n",
       "      <td>17.0</td>\n",
       "      <td>0.0</td>\n",
       "      <td>0.0</td>\n",
       "      <td>400.0</td>\n",
       "      <td>550.0</td>\n",
       "      <td>smart</td>\n",
       "      <td>Санкт-Петербург</td>\n",
       "      <td>950.0</td>\n",
       "    </tr>\n",
       "    <tr>\n",
       "      <td>1476</td>\n",
       "      <td>4</td>\n",
       "      <td>NaN</td>\n",
       "      <td>NaN</td>\n",
       "      <td>NaN</td>\n",
       "      <td>0.0</td>\n",
       "      <td>0.0</td>\n",
       "      <td>0.0</td>\n",
       "      <td>0.0</td>\n",
       "      <td>1950.0</td>\n",
       "      <td>ultra</td>\n",
       "      <td>Москва</td>\n",
       "      <td>1950.0</td>\n",
       "    </tr>\n",
       "  </tbody>\n",
       "</table>\n",
       "<p>3214 rows × 11 columns</p>\n",
       "</div>"
      ],
      "text/plain": [
       "               duration_call  count_call  message_count  gb_used  sum_call  \\\n",
       "user_id month                                                                \n",
       "1000    5              151.0        22.0           22.0      3.0       0.0   \n",
       "        6              159.0        43.0           60.0     23.0       0.0   \n",
       "        7              319.0        47.0           75.0     14.0       0.0   \n",
       "        8              390.0        52.0           81.0     14.0       0.0   \n",
       "        9              441.0        58.0           57.0     15.0       0.0   \n",
       "...                      ...         ...            ...      ...       ...   \n",
       "1489    9                NaN         NaN           32.0     17.0       0.0   \n",
       "        10               NaN         NaN           21.0     20.0       0.0   \n",
       "        11               NaN         NaN           20.0     18.0       0.0   \n",
       "        12               NaN         NaN           35.0     17.0       0.0   \n",
       "1476    4                NaN         NaN            NaN      0.0       0.0   \n",
       "\n",
       "               sum_messages  sum_internet  amount_tariff tariff  \\\n",
       "user_id month                                                     \n",
       "1000    5               0.0           0.0         1950.0  ultra   \n",
       "        6               0.0           0.0         1950.0  ultra   \n",
       "        7               0.0           0.0         1950.0  ultra   \n",
       "        8               0.0           0.0         1950.0  ultra   \n",
       "        9               0.0           0.0         1950.0  ultra   \n",
       "...                     ...           ...            ...    ...   \n",
       "1489    9               0.0         400.0          550.0  smart   \n",
       "        10              0.0        1000.0          550.0  smart   \n",
       "        11              0.0         600.0          550.0  smart   \n",
       "        12              0.0         400.0          550.0  smart   \n",
       "1476    4               0.0           0.0         1950.0  ultra   \n",
       "\n",
       "                          city  amount_per_month  \n",
       "user_id month                                     \n",
       "1000    5            Краснодар            1950.0  \n",
       "        6            Краснодар            1950.0  \n",
       "        7            Краснодар            1950.0  \n",
       "        8            Краснодар            1950.0  \n",
       "        9            Краснодар            1950.0  \n",
       "...                        ...               ...  \n",
       "1489    9      Санкт-Петербург             950.0  \n",
       "        10     Санкт-Петербург            1550.0  \n",
       "        11     Санкт-Петербург            1150.0  \n",
       "        12     Санкт-Петербург             950.0  \n",
       "1476    4               Москва            1950.0  \n",
       "\n",
       "[3214 rows x 11 columns]"
      ]
     },
     "execution_count": 232,
     "metadata": {},
     "output_type": "execute_result"
    }
   ],
   "source": [
    "data_cmi['amount_per_month'] = data_cmi['sum_call'] + data_cmi['sum_messages'] + data_cmi['sum_internet'] + data_cmi['amount_tariff']\n",
    "data_cmi"
   ]
  },
  {
   "cell_type": "markdown",
   "metadata": {},
   "source": [
    "## Анализ данных"
   ]
  },
  {
   "cell_type": "markdown",
   "metadata": {},
   "source": [
    "Для выполнения анализа поведения клиентов из полученной в предидущем разделе выборки, сформируем две новые. В первой будут пользователи с тарифом *ultra* во воторой пользователи с тарифом *smart*.\n",
    "\n",
    "Ознакомимся с числовым описанием данных для каждой выборки."
   ]
  },
  {
   "cell_type": "code",
   "execution_count": 233,
   "metadata": {},
   "outputs": [
    {
     "data": {
      "text/html": [
       "<div>\n",
       "<style scoped>\n",
       "    .dataframe tbody tr th:only-of-type {\n",
       "        vertical-align: middle;\n",
       "    }\n",
       "\n",
       "    .dataframe tbody tr th {\n",
       "        vertical-align: top;\n",
       "    }\n",
       "\n",
       "    .dataframe thead th {\n",
       "        text-align: right;\n",
       "    }\n",
       "</style>\n",
       "<table border=\"1\" class=\"dataframe\">\n",
       "  <thead>\n",
       "    <tr style=\"text-align: right;\">\n",
       "      <th></th>\n",
       "      <th></th>\n",
       "      <th>duration_call</th>\n",
       "      <th>count_call</th>\n",
       "      <th>message_count</th>\n",
       "      <th>gb_used</th>\n",
       "      <th>sum_call</th>\n",
       "      <th>sum_messages</th>\n",
       "      <th>sum_internet</th>\n",
       "      <th>amount_tariff</th>\n",
       "      <th>tariff</th>\n",
       "      <th>city</th>\n",
       "      <th>amount_per_month</th>\n",
       "    </tr>\n",
       "    <tr>\n",
       "      <th>user_id</th>\n",
       "      <th>month</th>\n",
       "      <th></th>\n",
       "      <th></th>\n",
       "      <th></th>\n",
       "      <th></th>\n",
       "      <th></th>\n",
       "      <th></th>\n",
       "      <th></th>\n",
       "      <th></th>\n",
       "      <th></th>\n",
       "      <th></th>\n",
       "      <th></th>\n",
       "    </tr>\n",
       "  </thead>\n",
       "  <tbody>\n",
       "    <tr>\n",
       "      <td rowspan=\"5\" valign=\"top\">1000</td>\n",
       "      <td>5</td>\n",
       "      <td>151.0</td>\n",
       "      <td>22.0</td>\n",
       "      <td>22.0</td>\n",
       "      <td>3.0</td>\n",
       "      <td>0.0</td>\n",
       "      <td>0.0</td>\n",
       "      <td>0.0</td>\n",
       "      <td>1950.0</td>\n",
       "      <td>ultra</td>\n",
       "      <td>Краснодар</td>\n",
       "      <td>1950.0</td>\n",
       "    </tr>\n",
       "    <tr>\n",
       "      <td>6</td>\n",
       "      <td>159.0</td>\n",
       "      <td>43.0</td>\n",
       "      <td>60.0</td>\n",
       "      <td>23.0</td>\n",
       "      <td>0.0</td>\n",
       "      <td>0.0</td>\n",
       "      <td>0.0</td>\n",
       "      <td>1950.0</td>\n",
       "      <td>ultra</td>\n",
       "      <td>Краснодар</td>\n",
       "      <td>1950.0</td>\n",
       "    </tr>\n",
       "    <tr>\n",
       "      <td>7</td>\n",
       "      <td>319.0</td>\n",
       "      <td>47.0</td>\n",
       "      <td>75.0</td>\n",
       "      <td>14.0</td>\n",
       "      <td>0.0</td>\n",
       "      <td>0.0</td>\n",
       "      <td>0.0</td>\n",
       "      <td>1950.0</td>\n",
       "      <td>ultra</td>\n",
       "      <td>Краснодар</td>\n",
       "      <td>1950.0</td>\n",
       "    </tr>\n",
       "    <tr>\n",
       "      <td>8</td>\n",
       "      <td>390.0</td>\n",
       "      <td>52.0</td>\n",
       "      <td>81.0</td>\n",
       "      <td>14.0</td>\n",
       "      <td>0.0</td>\n",
       "      <td>0.0</td>\n",
       "      <td>0.0</td>\n",
       "      <td>1950.0</td>\n",
       "      <td>ultra</td>\n",
       "      <td>Краснодар</td>\n",
       "      <td>1950.0</td>\n",
       "    </tr>\n",
       "    <tr>\n",
       "      <td>9</td>\n",
       "      <td>441.0</td>\n",
       "      <td>58.0</td>\n",
       "      <td>57.0</td>\n",
       "      <td>15.0</td>\n",
       "      <td>0.0</td>\n",
       "      <td>0.0</td>\n",
       "      <td>0.0</td>\n",
       "      <td>1950.0</td>\n",
       "      <td>ultra</td>\n",
       "      <td>Краснодар</td>\n",
       "      <td>1950.0</td>\n",
       "    </tr>\n",
       "    <tr>\n",
       "      <td>...</td>\n",
       "      <td>...</td>\n",
       "      <td>...</td>\n",
       "      <td>...</td>\n",
       "      <td>...</td>\n",
       "      <td>...</td>\n",
       "      <td>...</td>\n",
       "      <td>...</td>\n",
       "      <td>...</td>\n",
       "      <td>...</td>\n",
       "      <td>...</td>\n",
       "      <td>...</td>\n",
       "      <td>...</td>\n",
       "    </tr>\n",
       "    <tr>\n",
       "      <td rowspan=\"4\" valign=\"top\">1473</td>\n",
       "      <td>9</td>\n",
       "      <td>NaN</td>\n",
       "      <td>NaN</td>\n",
       "      <td>19.0</td>\n",
       "      <td>17.0</td>\n",
       "      <td>0.0</td>\n",
       "      <td>0.0</td>\n",
       "      <td>0.0</td>\n",
       "      <td>1950.0</td>\n",
       "      <td>ultra</td>\n",
       "      <td>Красноярск</td>\n",
       "      <td>1950.0</td>\n",
       "    </tr>\n",
       "    <tr>\n",
       "      <td>10</td>\n",
       "      <td>NaN</td>\n",
       "      <td>NaN</td>\n",
       "      <td>20.0</td>\n",
       "      <td>14.0</td>\n",
       "      <td>0.0</td>\n",
       "      <td>0.0</td>\n",
       "      <td>0.0</td>\n",
       "      <td>1950.0</td>\n",
       "      <td>ultra</td>\n",
       "      <td>Красноярск</td>\n",
       "      <td>1950.0</td>\n",
       "    </tr>\n",
       "    <tr>\n",
       "      <td>11</td>\n",
       "      <td>NaN</td>\n",
       "      <td>NaN</td>\n",
       "      <td>14.0</td>\n",
       "      <td>22.0</td>\n",
       "      <td>0.0</td>\n",
       "      <td>0.0</td>\n",
       "      <td>0.0</td>\n",
       "      <td>1950.0</td>\n",
       "      <td>ultra</td>\n",
       "      <td>Красноярск</td>\n",
       "      <td>1950.0</td>\n",
       "    </tr>\n",
       "    <tr>\n",
       "      <td>12</td>\n",
       "      <td>NaN</td>\n",
       "      <td>NaN</td>\n",
       "      <td>20.0</td>\n",
       "      <td>18.0</td>\n",
       "      <td>0.0</td>\n",
       "      <td>0.0</td>\n",
       "      <td>0.0</td>\n",
       "      <td>1950.0</td>\n",
       "      <td>ultra</td>\n",
       "      <td>Красноярск</td>\n",
       "      <td>1950.0</td>\n",
       "    </tr>\n",
       "    <tr>\n",
       "      <td>1476</td>\n",
       "      <td>4</td>\n",
       "      <td>NaN</td>\n",
       "      <td>NaN</td>\n",
       "      <td>NaN</td>\n",
       "      <td>0.0</td>\n",
       "      <td>0.0</td>\n",
       "      <td>0.0</td>\n",
       "      <td>0.0</td>\n",
       "      <td>1950.0</td>\n",
       "      <td>ultra</td>\n",
       "      <td>Москва</td>\n",
       "      <td>1950.0</td>\n",
       "    </tr>\n",
       "  </tbody>\n",
       "</table>\n",
       "<p>985 rows × 11 columns</p>\n",
       "</div>"
      ],
      "text/plain": [
       "               duration_call  count_call  message_count  gb_used  sum_call  \\\n",
       "user_id month                                                                \n",
       "1000    5              151.0        22.0           22.0      3.0       0.0   \n",
       "        6              159.0        43.0           60.0     23.0       0.0   \n",
       "        7              319.0        47.0           75.0     14.0       0.0   \n",
       "        8              390.0        52.0           81.0     14.0       0.0   \n",
       "        9              441.0        58.0           57.0     15.0       0.0   \n",
       "...                      ...         ...            ...      ...       ...   \n",
       "1473    9                NaN         NaN           19.0     17.0       0.0   \n",
       "        10               NaN         NaN           20.0     14.0       0.0   \n",
       "        11               NaN         NaN           14.0     22.0       0.0   \n",
       "        12               NaN         NaN           20.0     18.0       0.0   \n",
       "1476    4                NaN         NaN            NaN      0.0       0.0   \n",
       "\n",
       "               sum_messages  sum_internet  amount_tariff tariff        city  \\\n",
       "user_id month                                                                 \n",
       "1000    5               0.0           0.0         1950.0  ultra   Краснодар   \n",
       "        6               0.0           0.0         1950.0  ultra   Краснодар   \n",
       "        7               0.0           0.0         1950.0  ultra   Краснодар   \n",
       "        8               0.0           0.0         1950.0  ultra   Краснодар   \n",
       "        9               0.0           0.0         1950.0  ultra   Краснодар   \n",
       "...                     ...           ...            ...    ...         ...   \n",
       "1473    9               0.0           0.0         1950.0  ultra  Красноярск   \n",
       "        10              0.0           0.0         1950.0  ultra  Красноярск   \n",
       "        11              0.0           0.0         1950.0  ultra  Красноярск   \n",
       "        12              0.0           0.0         1950.0  ultra  Красноярск   \n",
       "1476    4               0.0           0.0         1950.0  ultra      Москва   \n",
       "\n",
       "               amount_per_month  \n",
       "user_id month                    \n",
       "1000    5                1950.0  \n",
       "        6                1950.0  \n",
       "        7                1950.0  \n",
       "        8                1950.0  \n",
       "        9                1950.0  \n",
       "...                         ...  \n",
       "1473    9                1950.0  \n",
       "        10               1950.0  \n",
       "        11               1950.0  \n",
       "        12               1950.0  \n",
       "1476    4                1950.0  \n",
       "\n",
       "[985 rows x 11 columns]"
      ]
     },
     "metadata": {},
     "output_type": "display_data"
    },
    {
     "data": {
      "text/html": [
       "<div>\n",
       "<style scoped>\n",
       "    .dataframe tbody tr th:only-of-type {\n",
       "        vertical-align: middle;\n",
       "    }\n",
       "\n",
       "    .dataframe tbody tr th {\n",
       "        vertical-align: top;\n",
       "    }\n",
       "\n",
       "    .dataframe thead th {\n",
       "        text-align: right;\n",
       "    }\n",
       "</style>\n",
       "<table border=\"1\" class=\"dataframe\">\n",
       "  <thead>\n",
       "    <tr style=\"text-align: right;\">\n",
       "      <th></th>\n",
       "      <th>duration_call</th>\n",
       "      <th>count_call</th>\n",
       "      <th>message_count</th>\n",
       "      <th>gb_used</th>\n",
       "      <th>sum_call</th>\n",
       "      <th>sum_messages</th>\n",
       "      <th>sum_internet</th>\n",
       "      <th>amount_tariff</th>\n",
       "      <th>amount_per_month</th>\n",
       "    </tr>\n",
       "  </thead>\n",
       "  <tbody>\n",
       "    <tr>\n",
       "      <td>count</td>\n",
       "      <td>951.0</td>\n",
       "      <td>951.0</td>\n",
       "      <td>795.0</td>\n",
       "      <td>975.0</td>\n",
       "      <td>985.0</td>\n",
       "      <td>985.0</td>\n",
       "      <td>985.0</td>\n",
       "      <td>985.0</td>\n",
       "      <td>985.0</td>\n",
       "    </tr>\n",
       "    <tr>\n",
       "      <td>mean</td>\n",
       "      <td>515.0</td>\n",
       "      <td>76.0</td>\n",
       "      <td>61.0</td>\n",
       "      <td>20.0</td>\n",
       "      <td>0.0</td>\n",
       "      <td>0.0</td>\n",
       "      <td>120.0</td>\n",
       "      <td>1950.0</td>\n",
       "      <td>2070.0</td>\n",
       "    </tr>\n",
       "    <tr>\n",
       "      <td>std</td>\n",
       "      <td>290.0</td>\n",
       "      <td>42.0</td>\n",
       "      <td>46.0</td>\n",
       "      <td>10.0</td>\n",
       "      <td>0.0</td>\n",
       "      <td>0.0</td>\n",
       "      <td>376.0</td>\n",
       "      <td>0.0</td>\n",
       "      <td>376.0</td>\n",
       "    </tr>\n",
       "    <tr>\n",
       "      <td>min</td>\n",
       "      <td>0.0</td>\n",
       "      <td>1.0</td>\n",
       "      <td>1.0</td>\n",
       "      <td>0.0</td>\n",
       "      <td>0.0</td>\n",
       "      <td>0.0</td>\n",
       "      <td>0.0</td>\n",
       "      <td>1950.0</td>\n",
       "      <td>1950.0</td>\n",
       "    </tr>\n",
       "    <tr>\n",
       "      <td>25%</td>\n",
       "      <td>292.0</td>\n",
       "      <td>43.0</td>\n",
       "      <td>24.0</td>\n",
       "      <td>12.0</td>\n",
       "      <td>0.0</td>\n",
       "      <td>0.0</td>\n",
       "      <td>0.0</td>\n",
       "      <td>1950.0</td>\n",
       "      <td>1950.0</td>\n",
       "    </tr>\n",
       "    <tr>\n",
       "      <td>50%</td>\n",
       "      <td>498.0</td>\n",
       "      <td>75.0</td>\n",
       "      <td>51.0</td>\n",
       "      <td>19.0</td>\n",
       "      <td>0.0</td>\n",
       "      <td>0.0</td>\n",
       "      <td>0.0</td>\n",
       "      <td>1950.0</td>\n",
       "      <td>1950.0</td>\n",
       "    </tr>\n",
       "    <tr>\n",
       "      <td>75%</td>\n",
       "      <td>715.0</td>\n",
       "      <td>105.0</td>\n",
       "      <td>88.0</td>\n",
       "      <td>27.0</td>\n",
       "      <td>0.0</td>\n",
       "      <td>0.0</td>\n",
       "      <td>0.0</td>\n",
       "      <td>1950.0</td>\n",
       "      <td>1950.0</td>\n",
       "    </tr>\n",
       "    <tr>\n",
       "      <td>max</td>\n",
       "      <td>1579.0</td>\n",
       "      <td>244.0</td>\n",
       "      <td>224.0</td>\n",
       "      <td>49.0</td>\n",
       "      <td>0.0</td>\n",
       "      <td>0.0</td>\n",
       "      <td>2850.0</td>\n",
       "      <td>1950.0</td>\n",
       "      <td>4800.0</td>\n",
       "    </tr>\n",
       "  </tbody>\n",
       "</table>\n",
       "</div>"
      ],
      "text/plain": [
       "       duration_call  count_call  message_count  gb_used  sum_call  \\\n",
       "count          951.0       951.0          795.0    975.0     985.0   \n",
       "mean           515.0        76.0           61.0     20.0       0.0   \n",
       "std            290.0        42.0           46.0     10.0       0.0   \n",
       "min              0.0         1.0            1.0      0.0       0.0   \n",
       "25%            292.0        43.0           24.0     12.0       0.0   \n",
       "50%            498.0        75.0           51.0     19.0       0.0   \n",
       "75%            715.0       105.0           88.0     27.0       0.0   \n",
       "max           1579.0       244.0          224.0     49.0       0.0   \n",
       "\n",
       "       sum_messages  sum_internet  amount_tariff  amount_per_month  \n",
       "count         985.0         985.0          985.0             985.0  \n",
       "mean            0.0         120.0         1950.0            2070.0  \n",
       "std             0.0         376.0            0.0             376.0  \n",
       "min             0.0           0.0         1950.0            1950.0  \n",
       "25%             0.0           0.0         1950.0            1950.0  \n",
       "50%             0.0           0.0         1950.0            1950.0  \n",
       "75%             0.0           0.0         1950.0            1950.0  \n",
       "max             0.0        2850.0         1950.0            4800.0  "
      ]
     },
     "execution_count": 233,
     "metadata": {},
     "output_type": "execute_result"
    }
   ],
   "source": [
    "data_cmi_tf_0 = data_cmi.query('tariff == \"ultra\"')\n",
    "display(data_cmi_tf_0)\n",
    "data_cmi_tf_0.describe().round(0)"
   ]
  },
  {
   "cell_type": "markdown",
   "metadata": {},
   "source": [
    "Из числового описание данных видно, что средние и медианы по каждому из параметром очень близки, что говорит об отсутствие большого количества выборосов в данных.\n",
    "Так же, можно стразу отметить, что в среднем, пользователи не полностью используют лимиты на тарифе по всем видам связи.\n",
    "\n",
    "Далее повторим действия для пользователей тарифа *smart*."
   ]
  },
  {
   "cell_type": "code",
   "execution_count": 234,
   "metadata": {},
   "outputs": [
    {
     "data": {
      "text/html": [
       "<div>\n",
       "<style scoped>\n",
       "    .dataframe tbody tr th:only-of-type {\n",
       "        vertical-align: middle;\n",
       "    }\n",
       "\n",
       "    .dataframe tbody tr th {\n",
       "        vertical-align: top;\n",
       "    }\n",
       "\n",
       "    .dataframe thead th {\n",
       "        text-align: right;\n",
       "    }\n",
       "</style>\n",
       "<table border=\"1\" class=\"dataframe\">\n",
       "  <thead>\n",
       "    <tr style=\"text-align: right;\">\n",
       "      <th></th>\n",
       "      <th></th>\n",
       "      <th>duration_call</th>\n",
       "      <th>count_call</th>\n",
       "      <th>message_count</th>\n",
       "      <th>gb_used</th>\n",
       "      <th>sum_call</th>\n",
       "      <th>sum_messages</th>\n",
       "      <th>sum_internet</th>\n",
       "      <th>amount_tariff</th>\n",
       "      <th>tariff</th>\n",
       "      <th>city</th>\n",
       "      <th>amount_per_month</th>\n",
       "    </tr>\n",
       "    <tr>\n",
       "      <th>user_id</th>\n",
       "      <th>month</th>\n",
       "      <th></th>\n",
       "      <th></th>\n",
       "      <th></th>\n",
       "      <th></th>\n",
       "      <th></th>\n",
       "      <th></th>\n",
       "      <th></th>\n",
       "      <th></th>\n",
       "      <th></th>\n",
       "      <th></th>\n",
       "      <th></th>\n",
       "    </tr>\n",
       "  </thead>\n",
       "  <tbody>\n",
       "    <tr>\n",
       "      <td rowspan=\"2\" valign=\"top\">1001</td>\n",
       "      <td>11</td>\n",
       "      <td>409.0</td>\n",
       "      <td>59.0</td>\n",
       "      <td>NaN</td>\n",
       "      <td>18.0</td>\n",
       "      <td>0.0</td>\n",
       "      <td>0.0</td>\n",
       "      <td>600.0</td>\n",
       "      <td>550.0</td>\n",
       "      <td>smart</td>\n",
       "      <td>Москва</td>\n",
       "      <td>1150.0</td>\n",
       "    </tr>\n",
       "    <tr>\n",
       "      <td>12</td>\n",
       "      <td>392.0</td>\n",
       "      <td>63.0</td>\n",
       "      <td>NaN</td>\n",
       "      <td>14.0</td>\n",
       "      <td>0.0</td>\n",
       "      <td>0.0</td>\n",
       "      <td>0.0</td>\n",
       "      <td>550.0</td>\n",
       "      <td>smart</td>\n",
       "      <td>Москва</td>\n",
       "      <td>550.0</td>\n",
       "    </tr>\n",
       "    <tr>\n",
       "      <td rowspan=\"3\" valign=\"top\">1002</td>\n",
       "      <td>6</td>\n",
       "      <td>111.0</td>\n",
       "      <td>15.0</td>\n",
       "      <td>4.0</td>\n",
       "      <td>11.0</td>\n",
       "      <td>0.0</td>\n",
       "      <td>0.0</td>\n",
       "      <td>0.0</td>\n",
       "      <td>550.0</td>\n",
       "      <td>smart</td>\n",
       "      <td>Стерлитамак</td>\n",
       "      <td>550.0</td>\n",
       "    </tr>\n",
       "    <tr>\n",
       "      <td>7</td>\n",
       "      <td>205.0</td>\n",
       "      <td>26.0</td>\n",
       "      <td>11.0</td>\n",
       "      <td>18.0</td>\n",
       "      <td>0.0</td>\n",
       "      <td>0.0</td>\n",
       "      <td>600.0</td>\n",
       "      <td>550.0</td>\n",
       "      <td>smart</td>\n",
       "      <td>Стерлитамак</td>\n",
       "      <td>1150.0</td>\n",
       "    </tr>\n",
       "    <tr>\n",
       "      <td>8</td>\n",
       "      <td>270.0</td>\n",
       "      <td>42.0</td>\n",
       "      <td>13.0</td>\n",
       "      <td>20.0</td>\n",
       "      <td>0.0</td>\n",
       "      <td>0.0</td>\n",
       "      <td>1000.0</td>\n",
       "      <td>550.0</td>\n",
       "      <td>smart</td>\n",
       "      <td>Стерлитамак</td>\n",
       "      <td>1550.0</td>\n",
       "    </tr>\n",
       "    <tr>\n",
       "      <td>...</td>\n",
       "      <td>...</td>\n",
       "      <td>...</td>\n",
       "      <td>...</td>\n",
       "      <td>...</td>\n",
       "      <td>...</td>\n",
       "      <td>...</td>\n",
       "      <td>...</td>\n",
       "      <td>...</td>\n",
       "      <td>...</td>\n",
       "      <td>...</td>\n",
       "      <td>...</td>\n",
       "      <td>...</td>\n",
       "    </tr>\n",
       "    <tr>\n",
       "      <td rowspan=\"5\" valign=\"top\">1489</td>\n",
       "      <td>8</td>\n",
       "      <td>NaN</td>\n",
       "      <td>NaN</td>\n",
       "      <td>17.0</td>\n",
       "      <td>11.0</td>\n",
       "      <td>0.0</td>\n",
       "      <td>0.0</td>\n",
       "      <td>0.0</td>\n",
       "      <td>550.0</td>\n",
       "      <td>smart</td>\n",
       "      <td>Санкт-Петербург</td>\n",
       "      <td>550.0</td>\n",
       "    </tr>\n",
       "    <tr>\n",
       "      <td>9</td>\n",
       "      <td>NaN</td>\n",
       "      <td>NaN</td>\n",
       "      <td>32.0</td>\n",
       "      <td>17.0</td>\n",
       "      <td>0.0</td>\n",
       "      <td>0.0</td>\n",
       "      <td>400.0</td>\n",
       "      <td>550.0</td>\n",
       "      <td>smart</td>\n",
       "      <td>Санкт-Петербург</td>\n",
       "      <td>950.0</td>\n",
       "    </tr>\n",
       "    <tr>\n",
       "      <td>10</td>\n",
       "      <td>NaN</td>\n",
       "      <td>NaN</td>\n",
       "      <td>21.0</td>\n",
       "      <td>20.0</td>\n",
       "      <td>0.0</td>\n",
       "      <td>0.0</td>\n",
       "      <td>1000.0</td>\n",
       "      <td>550.0</td>\n",
       "      <td>smart</td>\n",
       "      <td>Санкт-Петербург</td>\n",
       "      <td>1550.0</td>\n",
       "    </tr>\n",
       "    <tr>\n",
       "      <td>11</td>\n",
       "      <td>NaN</td>\n",
       "      <td>NaN</td>\n",
       "      <td>20.0</td>\n",
       "      <td>18.0</td>\n",
       "      <td>0.0</td>\n",
       "      <td>0.0</td>\n",
       "      <td>600.0</td>\n",
       "      <td>550.0</td>\n",
       "      <td>smart</td>\n",
       "      <td>Санкт-Петербург</td>\n",
       "      <td>1150.0</td>\n",
       "    </tr>\n",
       "    <tr>\n",
       "      <td>12</td>\n",
       "      <td>NaN</td>\n",
       "      <td>NaN</td>\n",
       "      <td>35.0</td>\n",
       "      <td>17.0</td>\n",
       "      <td>0.0</td>\n",
       "      <td>0.0</td>\n",
       "      <td>400.0</td>\n",
       "      <td>550.0</td>\n",
       "      <td>smart</td>\n",
       "      <td>Санкт-Петербург</td>\n",
       "      <td>950.0</td>\n",
       "    </tr>\n",
       "  </tbody>\n",
       "</table>\n",
       "<p>2229 rows × 11 columns</p>\n",
       "</div>"
      ],
      "text/plain": [
       "               duration_call  count_call  message_count  gb_used  sum_call  \\\n",
       "user_id month                                                                \n",
       "1001    11             409.0        59.0            NaN     18.0       0.0   \n",
       "        12             392.0        63.0            NaN     14.0       0.0   \n",
       "1002    6              111.0        15.0            4.0     11.0       0.0   \n",
       "        7              205.0        26.0           11.0     18.0       0.0   \n",
       "        8              270.0        42.0           13.0     20.0       0.0   \n",
       "...                      ...         ...            ...      ...       ...   \n",
       "1489    8                NaN         NaN           17.0     11.0       0.0   \n",
       "        9                NaN         NaN           32.0     17.0       0.0   \n",
       "        10               NaN         NaN           21.0     20.0       0.0   \n",
       "        11               NaN         NaN           20.0     18.0       0.0   \n",
       "        12               NaN         NaN           35.0     17.0       0.0   \n",
       "\n",
       "               sum_messages  sum_internet  amount_tariff tariff  \\\n",
       "user_id month                                                     \n",
       "1001    11              0.0         600.0          550.0  smart   \n",
       "        12              0.0           0.0          550.0  smart   \n",
       "1002    6               0.0           0.0          550.0  smart   \n",
       "        7               0.0         600.0          550.0  smart   \n",
       "        8               0.0        1000.0          550.0  smart   \n",
       "...                     ...           ...            ...    ...   \n",
       "1489    8               0.0           0.0          550.0  smart   \n",
       "        9               0.0         400.0          550.0  smart   \n",
       "        10              0.0        1000.0          550.0  smart   \n",
       "        11              0.0         600.0          550.0  smart   \n",
       "        12              0.0         400.0          550.0  smart   \n",
       "\n",
       "                          city  amount_per_month  \n",
       "user_id month                                     \n",
       "1001    11              Москва            1150.0  \n",
       "        12              Москва             550.0  \n",
       "1002    6          Стерлитамак             550.0  \n",
       "        7          Стерлитамак            1150.0  \n",
       "        8          Стерлитамак            1550.0  \n",
       "...                        ...               ...  \n",
       "1489    8      Санкт-Петербург             550.0  \n",
       "        9      Санкт-Петербург             950.0  \n",
       "        10     Санкт-Петербург            1550.0  \n",
       "        11     Санкт-Петербург            1150.0  \n",
       "        12     Санкт-Петербург             950.0  \n",
       "\n",
       "[2229 rows x 11 columns]"
      ]
     },
     "metadata": {},
     "output_type": "display_data"
    },
    {
     "data": {
      "text/html": [
       "<div>\n",
       "<style scoped>\n",
       "    .dataframe tbody tr th:only-of-type {\n",
       "        vertical-align: middle;\n",
       "    }\n",
       "\n",
       "    .dataframe tbody tr th {\n",
       "        vertical-align: top;\n",
       "    }\n",
       "\n",
       "    .dataframe thead th {\n",
       "        text-align: right;\n",
       "    }\n",
       "</style>\n",
       "<table border=\"1\" class=\"dataframe\">\n",
       "  <thead>\n",
       "    <tr style=\"text-align: right;\">\n",
       "      <th></th>\n",
       "      <th>duration_call</th>\n",
       "      <th>count_call</th>\n",
       "      <th>message_count</th>\n",
       "      <th>gb_used</th>\n",
       "      <th>sum_call</th>\n",
       "      <th>sum_messages</th>\n",
       "      <th>sum_internet</th>\n",
       "      <th>amount_tariff</th>\n",
       "      <th>amount_per_month</th>\n",
       "    </tr>\n",
       "  </thead>\n",
       "  <tbody>\n",
       "    <tr>\n",
       "      <td>count</td>\n",
       "      <td>2223.0</td>\n",
       "      <td>2223.0</td>\n",
       "      <td>1922.0</td>\n",
       "      <td>2228.0</td>\n",
       "      <td>2229.0</td>\n",
       "      <td>2229.0</td>\n",
       "      <td>2229.0</td>\n",
       "      <td>2229.0</td>\n",
       "      <td>2229.0</td>\n",
       "    </tr>\n",
       "    <tr>\n",
       "      <td>mean</td>\n",
       "      <td>396.0</td>\n",
       "      <td>59.0</td>\n",
       "      <td>39.0</td>\n",
       "      <td>16.0</td>\n",
       "      <td>92.0</td>\n",
       "      <td>17.0</td>\n",
       "      <td>598.0</td>\n",
       "      <td>550.0</td>\n",
       "      <td>1258.0</td>\n",
       "    </tr>\n",
       "    <tr>\n",
       "      <td>std</td>\n",
       "      <td>179.0</td>\n",
       "      <td>26.0</td>\n",
       "      <td>27.0</td>\n",
       "      <td>6.0</td>\n",
       "      <td>215.0</td>\n",
       "      <td>40.0</td>\n",
       "      <td>737.0</td>\n",
       "      <td>0.0</td>\n",
       "      <td>801.0</td>\n",
       "    </tr>\n",
       "    <tr>\n",
       "      <td>min</td>\n",
       "      <td>0.0</td>\n",
       "      <td>1.0</td>\n",
       "      <td>1.0</td>\n",
       "      <td>0.0</td>\n",
       "      <td>0.0</td>\n",
       "      <td>0.0</td>\n",
       "      <td>0.0</td>\n",
       "      <td>550.0</td>\n",
       "      <td>550.0</td>\n",
       "    </tr>\n",
       "    <tr>\n",
       "      <td>25%</td>\n",
       "      <td>269.0</td>\n",
       "      <td>40.0</td>\n",
       "      <td>17.0</td>\n",
       "      <td>13.0</td>\n",
       "      <td>0.0</td>\n",
       "      <td>0.0</td>\n",
       "      <td>0.0</td>\n",
       "      <td>550.0</td>\n",
       "      <td>550.0</td>\n",
       "    </tr>\n",
       "    <tr>\n",
       "      <td>50%</td>\n",
       "      <td>399.0</td>\n",
       "      <td>60.0</td>\n",
       "      <td>34.0</td>\n",
       "      <td>17.0</td>\n",
       "      <td>0.0</td>\n",
       "      <td>0.0</td>\n",
       "      <td>400.0</td>\n",
       "      <td>550.0</td>\n",
       "      <td>962.0</td>\n",
       "    </tr>\n",
       "    <tr>\n",
       "      <td>75%</td>\n",
       "      <td>516.0</td>\n",
       "      <td>76.0</td>\n",
       "      <td>55.0</td>\n",
       "      <td>20.0</td>\n",
       "      <td>48.0</td>\n",
       "      <td>3.0</td>\n",
       "      <td>1000.0</td>\n",
       "      <td>550.0</td>\n",
       "      <td>1733.0</td>\n",
       "    </tr>\n",
       "    <tr>\n",
       "      <td>max</td>\n",
       "      <td>1355.0</td>\n",
       "      <td>198.0</td>\n",
       "      <td>143.0</td>\n",
       "      <td>38.0</td>\n",
       "      <td>2565.0</td>\n",
       "      <td>279.0</td>\n",
       "      <td>4600.0</td>\n",
       "      <td>550.0</td>\n",
       "      <td>6614.0</td>\n",
       "    </tr>\n",
       "  </tbody>\n",
       "</table>\n",
       "</div>"
      ],
      "text/plain": [
       "       duration_call  count_call  message_count  gb_used  sum_call  \\\n",
       "count         2223.0      2223.0         1922.0   2228.0    2229.0   \n",
       "mean           396.0        59.0           39.0     16.0      92.0   \n",
       "std            179.0        26.0           27.0      6.0     215.0   \n",
       "min              0.0         1.0            1.0      0.0       0.0   \n",
       "25%            269.0        40.0           17.0     13.0       0.0   \n",
       "50%            399.0        60.0           34.0     17.0       0.0   \n",
       "75%            516.0        76.0           55.0     20.0      48.0   \n",
       "max           1355.0       198.0          143.0     38.0    2565.0   \n",
       "\n",
       "       sum_messages  sum_internet  amount_tariff  amount_per_month  \n",
       "count        2229.0        2229.0         2229.0            2229.0  \n",
       "mean           17.0         598.0          550.0            1258.0  \n",
       "std            40.0         737.0            0.0             801.0  \n",
       "min             0.0           0.0          550.0             550.0  \n",
       "25%             0.0           0.0          550.0             550.0  \n",
       "50%             0.0         400.0          550.0             962.0  \n",
       "75%             3.0        1000.0          550.0            1733.0  \n",
       "max           279.0        4600.0          550.0            6614.0  "
      ]
     },
     "execution_count": 234,
     "metadata": {},
     "output_type": "execute_result"
    }
   ],
   "source": [
    "data_cmi_tf_1 = data_cmi.query('tariff == \"smart\"')\n",
    "display(data_cmi_tf_1)\n",
    "data_cmi_tf_1.describe().round(0)"
   ]
  },
  {
   "cell_type": "markdown",
   "metadata": {},
   "source": [
    "В данной выборке среднее и медиана так же близки друг к другу, можем утверждать, что количество выборосов минимально.\n",
    "\n",
    "Во числовому описания данных можно отметить, что пользователи тарифа смарт, в среднем, выходят за лимиты по тарифу только для интернет траффика. Однако, если 75% пользователей тарифа *ultra* укладывались в лимиты, то 75% пользователей тарифа *smart* в лимиты уже не укладываются."
   ]
  },
  {
   "cell_type": "markdown",
   "metadata": {},
   "source": [
    "Построим гистограммы и рассчитаем среднее, дисперсию и стандартное отклонение для каждого вида связи."
   ]
  },
  {
   "cell_type": "code",
   "execution_count": 235,
   "metadata": {},
   "outputs": [
    {
     "data": {
      "image/png": "[encoded data removed]",
      "text/plain": [
       "<Figure size 720x432 with 1 Axes>"
      ]
     },
     "metadata": {
      "needs_background": "light"
     },
     "output_type": "display_data"
    }
   ],
   "source": [
    "plt.figure(figsize=(10, 6))\n",
    "n, bins, patches = plt.hist(\n",
    "    data_cmi_tf_1['duration_call'], bins=[x for x in range(0,1500,50)],\n",
    "    alpha=0.7, label='Smart', linewidth=5, histtype='step')\n",
    "n, bins, patches = plt.hist(\n",
    "    data_cmi_tf_0['duration_call'], bins=[x for x in range(0,1500,50)],\n",
    "    alpha=0.7, label='Ultra', linewidth=5, histtype='step')\n",
    "\n",
    "plt.ylabel('Count')\n",
    "plt.title('Histogram of Duration Call')\n",
    "plt.grid(True)\n",
    "plt.legend()\n",
    "plt.show()"
   ]
  },
  {
   "cell_type": "markdown",
   "metadata": {},
   "source": [
    "Распределение минут на звонки и пользователей соответствует нормальному распределение, по обоим тарифам. Однако для тарифа *smart* имеется ярко выраженный пик, и стремление гистограммы к среднему, что говорит, о маленькой дисперсии, и следовательно о маленьком стандартном отклонении. Для тарифа *ultra* напротив, гистограмма не имеет ярко выраженного пика, а гистограмма более палогая, что говорит о большой дисперсии и большом стандартном отклонении."
   ]
  },
  {
   "cell_type": "code",
   "execution_count": 236,
   "metadata": {},
   "outputs": [
    {
     "data": {
      "image/png": "[encoded data removed]",
      "text/plain": [
       "<Figure size 720x432 with 1 Axes>"
      ]
     },
     "metadata": {
      "needs_background": "light"
     },
     "output_type": "display_data"
    }
   ],
   "source": [
    "plt.figure(figsize=(10, 6))\n",
    "n, bins, patches = plt.hist(\n",
    "    data_cmi_tf_1['count_call'], bins=[x for x in range(0,250,10)],\n",
    "    alpha=0.7, label='Smart', linewidth=5, histtype='step')\n",
    "n, bins, patches = plt.hist(\n",
    "    data_cmi_tf_0['count_call'], bins=[x for x in range(0,250,10)],\n",
    "    alpha=0.7, label='Ultra', linewidth=5, histtype='step')\n",
    "\n",
    "plt.ylabel('Count')\n",
    "plt.title('Histogram of Count Call')\n",
    "plt.grid(True)\n",
    "plt.legend()\n",
    "plt.show()"
   ]
  },
  {
   "cell_type": "markdown",
   "metadata": {},
   "source": [
    "Точно такую же картину, как и для количества минут, можем наблюдать и для количества звонков."
   ]
  },
  {
   "cell_type": "code",
   "execution_count": 237,
   "metadata": {},
   "outputs": [
    {
     "data": {
      "image/png": "[encoded data removed]",
      "text/plain": [
       "<Figure size 720x432 with 1 Axes>"
      ]
     },
     "metadata": {
      "needs_background": "light"
     },
     "output_type": "display_data"
    }
   ],
   "source": [
    "plt.figure(figsize=(10, 6))\n",
    "n, bins, patches = plt.hist(\n",
    "    data_cmi_tf_1['message_count'], bins=[x for x in range(0,200,5)],\n",
    "    alpha=0.7, label='Smart', linewidth=5, histtype='step')\n",
    "n, bins, patches = plt.hist(\n",
    "    data_cmi_tf_0['message_count'], bins=[x for x in range(0,200,5)],\n",
    "    alpha=0.7, label='Ultra', linewidth=5, histtype='step')\n",
    "\n",
    "plt.ylabel('Count')\n",
    "plt.title('Histogram of Message Count')\n",
    "plt.grid(True)\n",
    "plt.legend()\n",
    "plt.show()"
   ]
  },
  {
   "cell_type": "markdown",
   "metadata": {},
   "source": [
    "Для смс сообщейний, видим заметное смещение гистограммы (нормального распределения) тарифа *smart* влево. Что говорит о небольшом среднем числе отправляемых пользователями сообщений. При этом, сохраняется соответствие дисперсий и стандартных отклонений - у тарифа *smart* меньше, у тарифа *ultra* больше."
   ]
  },
  {
   "cell_type": "code",
   "execution_count": 238,
   "metadata": {},
   "outputs": [
    {
     "data": {
      "image/png": "[encoded data removed]",
      "text/plain": [
       "<Figure size 720x432 with 1 Axes>"
      ]
     },
     "metadata": {
      "needs_background": "light"
     },
     "output_type": "display_data"
    }
   ],
   "source": [
    "plt.figure(figsize=(10, 6))\n",
    "n, bins, patches = plt.hist(\n",
    "    data_cmi_tf_1['gb_used'], bins=[x for x in range(0,50,1)],\n",
    "    alpha=0.7, label='Smart', linewidth=5, histtype='step')\n",
    "n, bins, patches = plt.hist(\n",
    "    data_cmi_tf_0['gb_used'], bins=[x for x in range(0,50,1)],\n",
    "    alpha=0.7, label='Ultra', linewidth=5, histtype='step')\n",
    "\n",
    "plt.ylabel('Count')\n",
    "plt.title('Histogram of Internet trafаic')\n",
    "plt.grid(True)\n",
    "plt.legend()\n",
    "plt.show()"
   ]
  },
  {
   "cell_type": "markdown",
   "metadata": {},
   "source": [
    "Для интернет траффика стоит отметить два момента:\n",
    "\n",
    "- в среднем, пользователи тарифа *smart* превышают допустимый лимит;\n",
    "- большинство пользователей тарифа *ultra* не превышают допустимый лимит по тарифу\n",
    "\n",
    "В остальном, данные имеют схожие признаки распределения, что и для звонков.\n",
    "\n",
    "\n",
    "Отдельно ознакомимся с распределением помесячных платежей."
   ]
  },
  {
   "cell_type": "code",
   "execution_count": 239,
   "metadata": {
    "scrolled": false
   },
   "outputs": [
    {
     "data": {
      "image/png": "[encoded data removed]",
      "text/plain": [
       "<Figure size 720x432 with 1 Axes>"
      ]
     },
     "metadata": {
      "needs_background": "light"
     },
     "output_type": "display_data"
    }
   ],
   "source": [
    "plt.figure(figsize=(10, 6))\n",
    "n, bins, patches = plt.hist(\n",
    "    data_cmi_tf_1['amount_per_month'], bins=[x for x in range(550,3000,100)],\n",
    "    alpha=0.7, label='Smart', linewidth=5, histtype='step')\n",
    "n, bins, patches = plt.hist(\n",
    "    data_cmi_tf_0['amount_per_month'], bins=[x for x in range(550,3000,100)],\n",
    "    alpha=0.7, label='Ultra', linewidth=5, histtype='step')\n",
    "\n",
    "plt.ylabel('Count')\n",
    "plt.title('Histogram of Internet trafаic')\n",
    "plt.grid(True)\n",
    "plt.legend()\n",
    "plt.show()"
   ]
  },
  {
   "cell_type": "markdown",
   "metadata": {},
   "source": [
    "Получим численные подтверждения нашим выводам, на основе гистограмм."
   ]
  },
  {
   "cell_type": "code",
   "execution_count": 240,
   "metadata": {},
   "outputs": [
    {
     "data": {
      "text/html": [
       "<div>\n",
       "<style scoped>\n",
       "    .dataframe tbody tr th:only-of-type {\n",
       "        vertical-align: middle;\n",
       "    }\n",
       "\n",
       "    .dataframe tbody tr th {\n",
       "        vertical-align: top;\n",
       "    }\n",
       "\n",
       "    .dataframe thead tr th {\n",
       "        text-align: left;\n",
       "    }\n",
       "\n",
       "    .dataframe thead tr:last-of-type th {\n",
       "        text-align: right;\n",
       "    }\n",
       "</style>\n",
       "<table border=\"1\" class=\"dataframe\">\n",
       "  <thead>\n",
       "    <tr>\n",
       "      <th></th>\n",
       "      <th colspan=\"5\" halign=\"left\">mean</th>\n",
       "      <th colspan=\"5\" halign=\"left\">std</th>\n",
       "      <th colspan=\"5\" halign=\"left\">var</th>\n",
       "    </tr>\n",
       "    <tr>\n",
       "      <th></th>\n",
       "      <th>amount_per_month</th>\n",
       "      <th>count_call</th>\n",
       "      <th>duration_call</th>\n",
       "      <th>gb_used</th>\n",
       "      <th>message_count</th>\n",
       "      <th>amount_per_month</th>\n",
       "      <th>count_call</th>\n",
       "      <th>duration_call</th>\n",
       "      <th>gb_used</th>\n",
       "      <th>message_count</th>\n",
       "      <th>amount_per_month</th>\n",
       "      <th>count_call</th>\n",
       "      <th>duration_call</th>\n",
       "      <th>gb_used</th>\n",
       "      <th>message_count</th>\n",
       "    </tr>\n",
       "    <tr>\n",
       "      <th>tariff</th>\n",
       "      <th></th>\n",
       "      <th></th>\n",
       "      <th></th>\n",
       "      <th></th>\n",
       "      <th></th>\n",
       "      <th></th>\n",
       "      <th></th>\n",
       "      <th></th>\n",
       "      <th></th>\n",
       "      <th></th>\n",
       "      <th></th>\n",
       "      <th></th>\n",
       "      <th></th>\n",
       "      <th></th>\n",
       "      <th></th>\n",
       "    </tr>\n",
       "  </thead>\n",
       "  <tbody>\n",
       "    <tr>\n",
       "      <td>smart</td>\n",
       "      <td>1258.0</td>\n",
       "      <td>59.0</td>\n",
       "      <td>396.0</td>\n",
       "      <td>16.0</td>\n",
       "      <td>39.0</td>\n",
       "      <td>801.0</td>\n",
       "      <td>26.0</td>\n",
       "      <td>179.0</td>\n",
       "      <td>6.0</td>\n",
       "      <td>27.0</td>\n",
       "      <td>641466.0</td>\n",
       "      <td>665.0</td>\n",
       "      <td>32058.0</td>\n",
       "      <td>33.0</td>\n",
       "      <td>718.0</td>\n",
       "    </tr>\n",
       "    <tr>\n",
       "      <td>ultra</td>\n",
       "      <td>2070.0</td>\n",
       "      <td>76.0</td>\n",
       "      <td>515.0</td>\n",
       "      <td>20.0</td>\n",
       "      <td>61.0</td>\n",
       "      <td>376.0</td>\n",
       "      <td>42.0</td>\n",
       "      <td>290.0</td>\n",
       "      <td>10.0</td>\n",
       "      <td>46.0</td>\n",
       "      <td>141517.0</td>\n",
       "      <td>1798.0</td>\n",
       "      <td>84001.0</td>\n",
       "      <td>95.0</td>\n",
       "      <td>2110.0</td>\n",
       "    </tr>\n",
       "  </tbody>\n",
       "</table>\n",
       "</div>"
      ],
      "text/plain": [
       "                   mean                                                 \\\n",
       "       amount_per_month count_call duration_call gb_used message_count   \n",
       "tariff                                                                   \n",
       "smart            1258.0       59.0         396.0    16.0          39.0   \n",
       "ultra            2070.0       76.0         515.0    20.0          61.0   \n",
       "\n",
       "                    std                                                 \\\n",
       "       amount_per_month count_call duration_call gb_used message_count   \n",
       "tariff                                                                   \n",
       "smart             801.0       26.0         179.0     6.0          27.0   \n",
       "ultra             376.0       42.0         290.0    10.0          46.0   \n",
       "\n",
       "                    var                                                 \n",
       "       amount_per_month count_call duration_call gb_used message_count  \n",
       "tariff                                                                  \n",
       "smart          641466.0      665.0       32058.0    33.0         718.0  \n",
       "ultra          141517.0     1798.0       84001.0    95.0        2110.0  "
      ]
     },
     "metadata": {},
     "output_type": "display_data"
    }
   ],
   "source": [
    "data_result = (data_cmi\n",
    "               .pivot_table(index='tariff',\n",
    "                            values=['duration_call', 'count_call', 'message_count', 'gb_used', 'amount_per_month'],\n",
    "                           aggfunc=['mean', 'std', 'var']).round())\n",
    "display(data_result)"
   ]
  },
  {
   "cell_type": "markdown",
   "metadata": {},
   "source": [
    "Под конец, рассчитаем вероятно получить помесячную прибыль, равную или больше средней прибыли тарифа *ultra* для тарифа *smart*."
   ]
  },
  {
   "cell_type": "code",
   "execution_count": 241,
   "metadata": {
    "scrolled": true
   },
   "outputs": [
    {
     "name": "stdout",
     "output_type": "stream",
     "text": [
      "Вероятность получить прибыль для тарифа смарт более 2070.0 равна: 15.54%\n"
     ]
    }
   ],
   "source": [
    "dist = st.norm(data_result['mean']['amount_per_month']['smart'], data_result['std']['amount_per_month']['smart'])\n",
    "p = dist.cdf(data_result['mean']['amount_per_month']['ultra'])\n",
    "print(f'Вероятность получить прибыль для тарифа смарт более {data_result[\"mean\"][\"amount_per_month\"][\"ultra\"]} равна: {((1 - p) * 100):.2f}%')"
   ]
  },
  {
   "cell_type": "markdown",
   "metadata": {},
   "source": [
    "### Вывод по анализу данных"
   ]
  },
  {
   "cell_type": "markdown",
   "metadata": {},
   "source": [
    "В ходе анализа данных выборки было обнаруженно:\n",
    "\n",
    "1. Пользователи тарифа *smart* в среднем выходят за рамки лимита по интернет трафику;\n",
    "2. Пользователи тарифа *smart* по всем видям связи имеют меньшее стандартное отклонение от среднего, чем пользователи тарифа *ultra*;\n",
    "3. Пользователи тарифа *smart*, при меньшем стандартном отклонении, бОльшей долей выходят за рамки лимитов по видам связи, чем пользователи тарифа *ultra*;\n",
    "4. Пользователи тариа *ultra* в среднем платят больше на ~800 рублей, чем пользователи тарифа *smart*;\n",
    "5. Вероятно того, что случайный пользователь тарифа *smart* в месяц заплатит больше, чем средний платеж по тарифу *ultra* составлет 16.3%.\n",
    "\n",
    "Таким образом тариф сматр, в среднем, приносит меньше дохода, и при этом его пользователи часто выходят за рамки лимитов на виды связи, что может оборачиваться черезмерной нагрузкой на инфраструктуру оператора связи. Эти позволяет сделать вывод, что оператору предпочтительнее продвигать тариф *ultra*, как более доходный и более прогнозируемый, в плане нагрузки."
   ]
  },
  {
   "cell_type": "markdown",
   "metadata": {},
   "source": [
    "## Проверка гипотез"
   ]
  },
  {
   "cell_type": "markdown",
   "metadata": {},
   "source": [
    "Необходимо проверить две гипотезы:\n",
    "\n",
    "**средняя выручка пользователей тарифов «Ультра» и «Смарт» различаются;**\n",
    "\n",
    "**средняя выручка пользователей из Москвы отличается от выручки пользователей из других регионов;**\n",
    "\n",
    "Сформулируем нулевые гипотезы:\n",
    "\n",
    "*Средняя выручка тарифа \"Смарт\" **не равна** средней выручке тарифа \"Ультра\"*\n",
    "\n",
    "*Средняя выручка пользователей из Москвы **не равна** выручке пользоватлей из других регионов*\n",
    "\n",
    "Сформулируем альтернативные гипотезы:\n",
    "\n",
    "*Средняя выручка тарифа \"Смарт\" **равна** средней выручке тарифа \"Ультра\"*\n",
    "\n",
    "*Средняя выручка пользователей из Москвы **равна** выручке пользоватлей из других регионов*\n",
    "\n",
    "Проверим данные гипотезы используя средние значиния каждой выборки. Пороговое значение задамим равное **0.05**"
   ]
  },
  {
   "cell_type": "code",
   "execution_count": 242,
   "metadata": {},
   "outputs": [
    {
     "name": "stdout",
     "output_type": "stream",
     "text": [
      "p-значение:  1.513773301175091e-178\n",
      "Нулевая гипотеза не отвергнута\n"
     ]
    }
   ],
   "source": [
    "result = st.ttest_ind(data_cmi_tf_1['amount_per_month'], data_cmi_tf_0['amount_per_month'])\n",
    "alpha = 0.05\n",
    "print('p-значение: ', result.pvalue)\n",
    "if result.pvalue > alpha:\n",
    "    print('Отвергаем нулевую гипотезу')\n",
    "else:\n",
    "    print('Нулевая гипотеза не отвергнута')\n",
    "\n"
   ]
  },
  {
   "cell_type": "code",
   "execution_count": 243,
   "metadata": {},
   "outputs": [
    {
     "name": "stdout",
     "output_type": "stream",
     "text": [
      "p-значение:  0.4836504757759247\n",
      "Отвергаем нулевую гипотезу\n"
     ]
    }
   ],
   "source": [
    "data_for_Moscow = data_cmi.query('city == \"Москва\"')['amount_per_month']\n",
    "data_for_not_Moscow = data_cmi.query('city != \"Москва\"')['amount_per_month']\n",
    "\n",
    "\n",
    "result = st.ttest_ind(data_for_Moscow, data_for_not_Moscow)\n",
    "alpha = 0.01\n",
    "print('p-значение: ', result.pvalue)\n",
    "if result.pvalue > alpha:\n",
    "    print('Отвергаем нулевую гипотезу')\n",
    "else:\n",
    "    print('Гипотеза не отвергнута')\n"
   ]
  },
  {
   "cell_type": "markdown",
   "metadata": {},
   "source": [
    "## Вывод"
   ]
  },
  {
   "cell_type": "markdown",
   "metadata": {},
   "source": [
    "В данной работе были полученны данные по выборке пользоваталей, являющихся клиентами одного оператора связи.\n",
    "В ходе работы, при загруженны данных, произведен первичный осмотр и подготовка данных.\n",
    "Далее был проведен анализ пользовательского поведения и определен наиболее выгодный для оператора связи тариф.\n",
    "В конце работы были проверены две гипотезы, методом сравнения средних выручек для двух выборок пользователей.\n",
    "\n"
   ]
  },
  {
   "cell_type": "markdown",
   "metadata": {},
   "source": [
    "Дополнение к выводу:\n",
    "\n",
    "1) Разница дисперсий для тарифов, скорее всего связана с разницей количества наблюдейний для каждого тарифа.\n",
    "\n",
    "2) Среднее значения по месяцам слабо зависят от количестве пользователей (так как по ЦПТ средние показатели по месяцам будут нормально распределены отностительно среднего генеральной совокупности), а вот дисперсия и стандартное отклонение будут тем больше, чем меньше выборка.\n",
    "\n",
    "3) Для оператора, лучше будет тариф Ultra, ввиду того, что он будет приносить большую прибыль, а так же позволит эффективнее использовать аппаратные мощности, ввиду того, что польователи этого тарифа реже выходят за лимиты тарифа, тем самым позволя точнее расчитать нагрузку на инфраструктуру и потребные мощности."
   ]
  }
 ],
 "metadata": {
  "ExecuteTimeLog": [
   {
    "duration": 2771,
    "start_time": "2022-01-27T14:53:21.637Z"
   },
   {
    "duration": 461,
    "start_time": "2022-01-27T14:53:30.424Z"
   },
   {
    "duration": 728,
    "start_time": "2022-01-27T14:54:27.050Z"
   },
   {
    "duration": 433,
    "start_time": "2022-01-27T14:54:32.464Z"
   },
   {
    "duration": 4,
    "start_time": "2022-01-27T14:58:01.922Z"
   },
   {
    "duration": 18,
    "start_time": "2022-01-27T14:58:18.629Z"
   },
   {
    "duration": 26,
    "start_time": "2022-01-27T14:58:50.440Z"
   },
   {
    "duration": 3,
    "start_time": "2022-01-27T14:59:16.325Z"
   },
   {
    "duration": 11,
    "start_time": "2022-01-27T14:59:17.567Z"
   },
   {
    "duration": 56,
    "start_time": "2022-01-27T14:59:19.501Z"
   },
   {
    "duration": 56,
    "start_time": "2022-01-27T14:59:54.445Z"
   },
   {
    "duration": 57,
    "start_time": "2022-01-27T15:00:04.436Z"
   },
   {
    "duration": 55,
    "start_time": "2022-01-27T15:00:23.298Z"
   },
   {
    "duration": 4,
    "start_time": "2022-01-27T15:00:52.755Z"
   },
   {
    "duration": 12,
    "start_time": "2022-01-27T15:00:54.472Z"
   },
   {
    "duration": 41,
    "start_time": "2022-01-27T15:00:58.282Z"
   },
   {
    "duration": 39,
    "start_time": "2022-01-27T15:01:57.207Z"
   },
   {
    "duration": 45,
    "start_time": "2022-01-27T15:02:00.604Z"
   },
   {
    "duration": 56,
    "start_time": "2022-01-27T15:02:49.982Z"
   },
   {
    "duration": 4,
    "start_time": "2022-01-27T15:03:31.011Z"
   },
   {
    "duration": 23,
    "start_time": "2022-01-27T15:03:33.352Z"
   },
   {
    "duration": 22,
    "start_time": "2022-01-27T15:03:38.693Z"
   },
   {
    "duration": 22,
    "start_time": "2022-01-27T15:03:48.616Z"
   },
   {
    "duration": 40,
    "start_time": "2022-01-27T15:04:02.967Z"
   },
   {
    "duration": 47,
    "start_time": "2022-01-27T15:04:32.912Z"
   },
   {
    "duration": 44,
    "start_time": "2022-01-27T15:04:47.887Z"
   },
   {
    "duration": 34,
    "start_time": "2022-01-27T15:04:59.031Z"
   },
   {
    "duration": 15,
    "start_time": "2022-01-27T15:05:10.555Z"
   },
   {
    "duration": 23,
    "start_time": "2022-01-27T15:06:42.967Z"
   },
   {
    "duration": 13,
    "start_time": "2022-01-27T15:14:03.123Z"
   },
   {
    "duration": 42,
    "start_time": "2022-01-27T15:15:05.998Z"
   },
   {
    "duration": 22,
    "start_time": "2022-01-27T15:15:11.213Z"
   },
   {
    "duration": 269,
    "start_time": "2022-01-27T15:16:15.451Z"
   },
   {
    "duration": 1732,
    "start_time": "2022-01-27T15:16:24.168Z"
   },
   {
    "duration": 1737,
    "start_time": "2022-01-27T15:16:38.136Z"
   },
   {
    "duration": 45,
    "start_time": "2022-01-27T15:17:34.592Z"
   },
   {
    "duration": 291,
    "start_time": "2022-01-27T15:17:53.739Z"
   },
   {
    "duration": 327,
    "start_time": "2022-01-27T15:18:03.580Z"
   },
   {
    "duration": 280,
    "start_time": "2022-01-27T15:18:11.036Z"
   },
   {
    "duration": 49,
    "start_time": "2022-01-27T15:18:41.115Z"
   },
   {
    "duration": 252,
    "start_time": "2022-01-27T15:18:58.836Z"
   },
   {
    "duration": 47,
    "start_time": "2022-01-27T15:19:00.931Z"
   },
   {
    "duration": 48,
    "start_time": "2022-01-27T15:19:06.572Z"
   },
   {
    "duration": 43,
    "start_time": "2022-01-27T15:19:16.433Z"
   },
   {
    "duration": 121,
    "start_time": "2022-01-27T15:20:13.187Z"
   },
   {
    "duration": 42,
    "start_time": "2022-01-27T15:20:23.000Z"
   },
   {
    "duration": 5,
    "start_time": "2022-01-27T15:21:32.677Z"
   },
   {
    "duration": 248,
    "start_time": "2022-01-27T15:23:19.220Z"
   },
   {
    "duration": 28,
    "start_time": "2022-01-27T15:23:24.611Z"
   },
   {
    "duration": 27,
    "start_time": "2022-01-27T15:24:16.850Z"
   },
   {
    "duration": 25,
    "start_time": "2022-01-27T15:24:26.147Z"
   },
   {
    "duration": 29,
    "start_time": "2022-01-27T15:25:15.968Z"
   },
   {
    "duration": 37,
    "start_time": "2022-01-27T15:33:52.192Z"
   },
   {
    "duration": 44,
    "start_time": "2022-01-27T15:34:42.855Z"
   },
   {
    "duration": 543,
    "start_time": "2022-01-27T15:39:28.928Z"
   },
   {
    "duration": 5966,
    "start_time": "2022-01-27T15:39:31.278Z"
   },
   {
    "duration": 91,
    "start_time": "2022-01-27T15:39:49.530Z"
   },
   {
    "duration": 90,
    "start_time": "2022-01-27T15:40:09.445Z"
   },
   {
    "duration": 239,
    "start_time": "2022-01-27T15:41:24.469Z"
   },
   {
    "duration": 47,
    "start_time": "2022-01-27T15:41:27.940Z"
   },
   {
    "duration": 51,
    "start_time": "2022-01-27T15:41:29.605Z"
   },
   {
    "duration": 55,
    "start_time": "2022-01-27T15:41:31.688Z"
   },
   {
    "duration": 37,
    "start_time": "2022-01-27T15:41:47.755Z"
   },
   {
    "duration": 19,
    "start_time": "2022-01-27T15:43:49.295Z"
   },
   {
    "duration": 23,
    "start_time": "2022-01-27T15:44:12.632Z"
   },
   {
    "duration": 6159,
    "start_time": "2022-01-27T15:46:03.624Z"
   },
   {
    "duration": 315,
    "start_time": "2022-01-27T15:46:21.658Z"
   },
   {
    "duration": 9,
    "start_time": "2022-01-27T15:46:57.491Z"
   },
   {
    "duration": 257,
    "start_time": "2022-01-27T15:47:19.950Z"
   },
   {
    "duration": 6616,
    "start_time": "2022-01-27T15:47:25.545Z"
   },
   {
    "duration": 6306,
    "start_time": "2022-01-27T15:47:40.179Z"
   },
   {
    "duration": 255,
    "start_time": "2022-01-27T15:48:03.837Z"
   },
   {
    "duration": 275,
    "start_time": "2022-01-27T15:48:07.313Z"
   },
   {
    "duration": 3,
    "start_time": "2022-01-27T15:48:13.551Z"
   },
   {
    "duration": 253,
    "start_time": "2022-01-27T15:48:16.733Z"
   },
   {
    "duration": 7,
    "start_time": "2022-01-27T15:48:21.472Z"
   },
   {
    "duration": 5,
    "start_time": "2022-01-27T15:48:25.907Z"
   },
   {
    "duration": 5,
    "start_time": "2022-01-27T15:48:29.097Z"
   },
   {
    "duration": 6762,
    "start_time": "2022-01-27T15:48:56.001Z"
   },
   {
    "duration": 6442,
    "start_time": "2022-01-27T15:49:52.307Z"
   },
   {
    "duration": 223,
    "start_time": "2022-01-27T15:50:08.454Z"
   },
   {
    "duration": 313,
    "start_time": "2022-01-27T15:50:26.364Z"
   },
   {
    "duration": 72,
    "start_time": "2022-01-27T15:54:08.883Z"
   },
   {
    "duration": 35,
    "start_time": "2022-01-27T15:54:14.124Z"
   },
   {
    "duration": 28,
    "start_time": "2022-01-27T15:54:27.376Z"
   },
   {
    "duration": 324,
    "start_time": "2022-01-27T15:55:18.986Z"
   },
   {
    "duration": 284,
    "start_time": "2022-01-27T15:55:25.590Z"
   },
   {
    "duration": 43,
    "start_time": "2022-01-27T15:55:34.851Z"
   },
   {
    "duration": 350,
    "start_time": "2022-01-27T15:55:45.376Z"
   },
   {
    "duration": 108,
    "start_time": "2022-01-27T15:56:28.138Z"
   },
   {
    "duration": 34,
    "start_time": "2022-01-27T15:56:37.323Z"
   },
   {
    "duration": 80,
    "start_time": "2022-01-27T15:56:54.074Z"
   },
   {
    "duration": 38,
    "start_time": "2022-01-27T15:56:59.296Z"
   },
   {
    "duration": 261,
    "start_time": "2022-01-27T15:57:29.462Z"
   },
   {
    "duration": 260,
    "start_time": "2022-01-27T15:57:50.585Z"
   },
   {
    "duration": 445,
    "start_time": "2022-01-27T15:58:03.216Z"
   },
   {
    "duration": 3,
    "start_time": "2022-01-27T15:58:03.664Z"
   },
   {
    "duration": 59,
    "start_time": "2022-01-27T15:58:03.669Z"
   },
   {
    "duration": 46,
    "start_time": "2022-01-27T15:58:03.730Z"
   },
   {
    "duration": 58,
    "start_time": "2022-01-27T15:58:03.778Z"
   },
   {
    "duration": 16,
    "start_time": "2022-01-27T15:58:03.838Z"
   },
   {
    "duration": 24,
    "start_time": "2022-01-27T15:58:03.856Z"
   },
   {
    "duration": 13,
    "start_time": "2022-01-27T15:58:03.907Z"
   },
   {
    "duration": 88,
    "start_time": "2022-01-27T15:58:03.924Z"
   },
   {
    "duration": 36,
    "start_time": "2022-01-27T15:58:04.015Z"
   },
   {
    "duration": 93,
    "start_time": "2022-01-27T15:58:04.053Z"
   },
   {
    "duration": 22,
    "start_time": "2022-01-27T15:58:04.148Z"
   },
   {
    "duration": 340,
    "start_time": "2022-01-27T15:58:04.172Z"
   },
   {
    "duration": 437,
    "start_time": "2022-01-27T15:58:07.786Z"
   },
   {
    "duration": 338,
    "start_time": "2022-01-27T15:58:24.133Z"
   },
   {
    "duration": 416,
    "start_time": "2022-01-27T15:59:11.404Z"
   },
   {
    "duration": 4,
    "start_time": "2022-01-27T15:59:11.822Z"
   },
   {
    "duration": 62,
    "start_time": "2022-01-27T15:59:11.829Z"
   },
   {
    "duration": 47,
    "start_time": "2022-01-27T15:59:11.893Z"
   },
   {
    "duration": 38,
    "start_time": "2022-01-27T15:59:11.942Z"
   },
   {
    "duration": 37,
    "start_time": "2022-01-27T15:59:11.982Z"
   },
   {
    "duration": 23,
    "start_time": "2022-01-27T15:59:12.021Z"
   },
   {
    "duration": 17,
    "start_time": "2022-01-27T15:59:12.046Z"
   },
   {
    "duration": 104,
    "start_time": "2022-01-27T15:59:12.066Z"
   },
   {
    "duration": 39,
    "start_time": "2022-01-27T15:59:12.172Z"
   },
   {
    "duration": 65,
    "start_time": "2022-01-27T15:59:12.213Z"
   },
   {
    "duration": 41,
    "start_time": "2022-01-27T15:59:12.280Z"
   },
   {
    "duration": 303,
    "start_time": "2022-01-27T15:59:12.323Z"
   },
   {
    "duration": 45,
    "start_time": "2022-01-27T15:59:12.628Z"
   },
   {
    "duration": 35,
    "start_time": "2022-01-27T15:59:15.636Z"
   },
   {
    "duration": 281,
    "start_time": "2022-01-27T16:03:08.490Z"
   },
   {
    "duration": 28,
    "start_time": "2022-01-27T16:03:21.684Z"
   },
   {
    "duration": 37,
    "start_time": "2022-01-27T16:03:26.232Z"
   },
   {
    "duration": 35,
    "start_time": "2022-01-27T16:03:32.491Z"
   },
   {
    "duration": 38,
    "start_time": "2022-01-27T16:03:42.662Z"
   },
   {
    "duration": 37,
    "start_time": "2022-01-27T16:03:50.017Z"
   },
   {
    "duration": 364,
    "start_time": "2022-01-27T16:03:58.083Z"
   },
   {
    "duration": 240,
    "start_time": "2022-01-27T16:04:26.061Z"
   },
   {
    "duration": 432,
    "start_time": "2022-01-27T16:04:31.626Z"
   },
   {
    "duration": 428,
    "start_time": "2022-01-27T16:04:39.480Z"
   },
   {
    "duration": 4,
    "start_time": "2022-01-27T16:04:39.910Z"
   },
   {
    "duration": 54,
    "start_time": "2022-01-27T16:04:39.917Z"
   },
   {
    "duration": 62,
    "start_time": "2022-01-27T16:04:39.973Z"
   },
   {
    "duration": 39,
    "start_time": "2022-01-27T16:04:40.037Z"
   },
   {
    "duration": 42,
    "start_time": "2022-01-27T16:04:40.078Z"
   },
   {
    "duration": 20,
    "start_time": "2022-01-27T16:04:40.121Z"
   },
   {
    "duration": 11,
    "start_time": "2022-01-27T16:04:40.142Z"
   },
   {
    "duration": 99,
    "start_time": "2022-01-27T16:04:40.155Z"
   },
   {
    "duration": 29,
    "start_time": "2022-01-27T16:04:40.256Z"
   },
   {
    "duration": 76,
    "start_time": "2022-01-27T16:04:40.287Z"
   },
   {
    "duration": 24,
    "start_time": "2022-01-27T16:04:40.365Z"
   },
   {
    "duration": 336,
    "start_time": "2022-01-27T16:04:40.390Z"
   },
   {
    "duration": 46,
    "start_time": "2022-01-27T16:04:40.728Z"
   },
   {
    "duration": 454,
    "start_time": "2022-01-27T16:04:43.279Z"
   },
   {
    "duration": 255,
    "start_time": "2022-01-27T16:05:03.532Z"
   },
   {
    "duration": 357,
    "start_time": "2022-01-27T16:07:05.942Z"
   },
   {
    "duration": 79,
    "start_time": "2022-01-27T16:08:07.716Z"
   },
   {
    "duration": 25,
    "start_time": "2022-01-27T16:08:12.500Z"
   },
   {
    "duration": 44,
    "start_time": "2022-01-27T16:13:29.646Z"
   },
   {
    "duration": 83,
    "start_time": "2022-01-27T16:13:43.814Z"
   },
   {
    "duration": 251,
    "start_time": "2022-01-27T16:13:48.680Z"
   },
   {
    "duration": 80,
    "start_time": "2022-01-27T16:13:55.547Z"
   },
   {
    "duration": 31,
    "start_time": "2022-01-27T16:14:05.785Z"
   },
   {
    "duration": 268,
    "start_time": "2022-01-27T16:14:51.485Z"
   },
   {
    "duration": 393,
    "start_time": "2022-01-27T16:25:25.764Z"
   },
   {
    "duration": 31,
    "start_time": "2022-01-27T16:25:43.418Z"
   },
   {
    "duration": 30,
    "start_time": "2022-01-27T16:27:01.607Z"
   },
   {
    "duration": 342,
    "start_time": "2022-01-27T16:27:12.668Z"
   },
   {
    "duration": 16,
    "start_time": "2022-01-27T16:27:30.091Z"
   },
   {
    "duration": 242,
    "start_time": "2022-01-27T16:27:35.043Z"
   },
   {
    "duration": 247,
    "start_time": "2022-01-27T16:27:44.137Z"
   },
   {
    "duration": 10,
    "start_time": "2022-01-27T16:28:28.040Z"
   },
   {
    "duration": 261,
    "start_time": "2022-01-27T16:28:39.880Z"
   },
   {
    "duration": 10,
    "start_time": "2022-01-27T16:28:43.607Z"
   },
   {
    "duration": 130,
    "start_time": "2022-01-27T16:31:02.891Z"
   },
   {
    "duration": 252,
    "start_time": "2022-01-27T16:35:38.767Z"
   },
   {
    "duration": 332,
    "start_time": "2022-01-27T16:35:58.033Z"
   },
   {
    "duration": 267,
    "start_time": "2022-01-27T16:36:30.761Z"
   },
   {
    "duration": 259,
    "start_time": "2022-01-27T16:36:39.004Z"
   },
   {
    "duration": 229,
    "start_time": "2022-01-27T16:36:53.877Z"
   },
   {
    "duration": 250,
    "start_time": "2022-01-27T16:37:12.765Z"
   },
   {
    "duration": 406,
    "start_time": "2022-01-27T16:38:28.308Z"
   },
   {
    "duration": 4,
    "start_time": "2022-01-27T16:38:28.716Z"
   },
   {
    "duration": 51,
    "start_time": "2022-01-27T16:38:28.721Z"
   },
   {
    "duration": 65,
    "start_time": "2022-01-27T16:38:28.774Z"
   },
   {
    "duration": 36,
    "start_time": "2022-01-27T16:38:28.841Z"
   },
   {
    "duration": 37,
    "start_time": "2022-01-27T16:38:28.879Z"
   },
   {
    "duration": 21,
    "start_time": "2022-01-27T16:38:28.917Z"
   },
   {
    "duration": 86,
    "start_time": "2022-01-27T16:38:33.103Z"
   },
   {
    "duration": 63,
    "start_time": "2022-01-27T16:38:54.229Z"
   },
   {
    "duration": 73,
    "start_time": "2022-01-27T16:39:03.858Z"
   },
   {
    "duration": 57,
    "start_time": "2022-01-27T16:39:18.633Z"
   },
   {
    "duration": 62,
    "start_time": "2022-01-27T16:39:30.127Z"
   },
   {
    "duration": 45,
    "start_time": "2022-01-27T16:39:45.325Z"
   },
   {
    "duration": 3351,
    "start_time": "2022-01-27T16:39:58.463Z"
   },
   {
    "duration": 77,
    "start_time": "2022-01-27T16:41:33.985Z"
   },
   {
    "duration": 545,
    "start_time": "2022-01-27T16:41:48.718Z"
   },
   {
    "duration": 3340,
    "start_time": "2022-01-27T16:42:08.277Z"
   },
   {
    "duration": 392,
    "start_time": "2022-01-27T16:43:02.649Z"
   },
   {
    "duration": 430,
    "start_time": "2022-01-27T16:43:08.481Z"
   },
   {
    "duration": 3,
    "start_time": "2022-01-27T16:43:08.913Z"
   },
   {
    "duration": 52,
    "start_time": "2022-01-27T16:43:08.918Z"
   },
   {
    "duration": 65,
    "start_time": "2022-01-27T16:43:08.972Z"
   },
   {
    "duration": 35,
    "start_time": "2022-01-27T16:43:09.039Z"
   },
   {
    "duration": 41,
    "start_time": "2022-01-27T16:43:09.076Z"
   },
   {
    "duration": 21,
    "start_time": "2022-01-27T16:43:09.119Z"
   },
   {
    "duration": 114,
    "start_time": "2022-01-27T16:43:09.142Z"
   },
   {
    "duration": 85,
    "start_time": "2022-01-27T16:43:09.259Z"
   },
   {
    "duration": 54,
    "start_time": "2022-01-27T16:43:11.222Z"
   },
   {
    "duration": 3283,
    "start_time": "2022-01-27T16:43:54.579Z"
   },
   {
    "duration": 40,
    "start_time": "2022-01-27T16:45:07.520Z"
   },
   {
    "duration": 284,
    "start_time": "2022-01-27T16:48:14.681Z"
   },
   {
    "duration": 2407,
    "start_time": "2022-01-27T16:53:19.965Z"
   },
   {
    "duration": 129,
    "start_time": "2022-01-27T16:53:56.207Z"
   },
   {
    "duration": 370,
    "start_time": "2022-01-27T16:54:48.216Z"
   },
   {
    "duration": 187,
    "start_time": "2022-01-27T16:54:59.983Z"
   },
   {
    "duration": 133,
    "start_time": "2022-01-27T16:55:54.888Z"
   },
   {
    "duration": 90,
    "start_time": "2022-01-27T16:56:26.844Z"
   },
   {
    "duration": 92,
    "start_time": "2022-01-27T16:56:34.148Z"
   },
   {
    "duration": 7924,
    "start_time": "2022-01-27T17:01:10.855Z"
   },
   {
    "duration": 252,
    "start_time": "2022-01-27T17:01:22.688Z"
   },
   {
    "duration": 11,
    "start_time": "2022-01-27T17:01:33.484Z"
   },
   {
    "duration": 8,
    "start_time": "2022-01-27T17:01:50.173Z"
   },
   {
    "duration": 13,
    "start_time": "2022-01-27T17:01:53.712Z"
   },
   {
    "duration": 28,
    "start_time": "2022-01-27T17:02:18.934Z"
   },
   {
    "duration": 61,
    "start_time": "2022-01-27T17:03:26.047Z"
   },
   {
    "duration": 97,
    "start_time": "2022-01-27T17:03:57.145Z"
   },
   {
    "duration": 59,
    "start_time": "2022-01-27T17:04:30.977Z"
   },
   {
    "duration": 11,
    "start_time": "2022-01-27T17:06:19.280Z"
   },
   {
    "duration": 32,
    "start_time": "2022-01-27T17:06:24.434Z"
   },
   {
    "duration": 9,
    "start_time": "2022-01-27T17:07:07.825Z"
   },
   {
    "duration": 255,
    "start_time": "2022-01-27T17:11:34.222Z"
   },
   {
    "duration": 9,
    "start_time": "2022-01-27T17:11:57.448Z"
   },
   {
    "duration": 32,
    "start_time": "2022-01-27T17:12:00.236Z"
   },
   {
    "duration": 28,
    "start_time": "2022-01-27T17:12:14.062Z"
   },
   {
    "duration": 203,
    "start_time": "2022-01-27T17:17:55.190Z"
   },
   {
    "duration": 421,
    "start_time": "2022-01-27T17:18:18.457Z"
   },
   {
    "duration": 4,
    "start_time": "2022-01-27T17:18:18.880Z"
   },
   {
    "duration": 57,
    "start_time": "2022-01-27T17:18:18.886Z"
   },
   {
    "duration": 63,
    "start_time": "2022-01-27T17:18:18.945Z"
   },
   {
    "duration": 35,
    "start_time": "2022-01-27T17:18:19.010Z"
   },
   {
    "duration": 15,
    "start_time": "2022-01-27T17:18:19.047Z"
   },
   {
    "duration": 50,
    "start_time": "2022-01-27T17:18:19.064Z"
   },
   {
    "duration": 145,
    "start_time": "2022-01-27T17:18:23.305Z"
   },
   {
    "duration": 2109,
    "start_time": "2022-01-27T17:18:42.673Z"
   },
   {
    "duration": 126,
    "start_time": "2022-01-27T17:20:29.919Z"
   },
   {
    "duration": 435,
    "start_time": "2022-01-27T17:21:21.470Z"
   },
   {
    "duration": 3,
    "start_time": "2022-01-27T17:21:21.907Z"
   },
   {
    "duration": 51,
    "start_time": "2022-01-27T17:21:21.913Z"
   },
   {
    "duration": 65,
    "start_time": "2022-01-27T17:21:21.967Z"
   },
   {
    "duration": 37,
    "start_time": "2022-01-27T17:21:22.034Z"
   },
   {
    "duration": 41,
    "start_time": "2022-01-27T17:21:22.073Z"
   },
   {
    "duration": 21,
    "start_time": "2022-01-27T17:21:22.116Z"
   },
   {
    "duration": 399,
    "start_time": "2022-01-27T17:21:25.375Z"
   },
   {
    "duration": 295,
    "start_time": "2022-01-27T17:21:29.835Z"
   },
   {
    "duration": 77,
    "start_time": "2022-01-27T17:21:41.804Z"
   },
   {
    "duration": 70,
    "start_time": "2022-01-27T17:21:46.886Z"
   },
   {
    "duration": 73,
    "start_time": "2022-01-27T17:22:21.415Z"
   },
   {
    "duration": 70,
    "start_time": "2022-01-27T17:23:05.128Z"
   },
   {
    "duration": 71,
    "start_time": "2022-01-27T17:23:30.944Z"
   },
   {
    "duration": 69,
    "start_time": "2022-01-27T17:23:41.871Z"
   },
   {
    "duration": 56,
    "start_time": "2022-01-27T17:23:44.861Z"
   },
   {
    "duration": 87,
    "start_time": "2022-01-27T17:23:53.221Z"
   },
   {
    "duration": 13,
    "start_time": "2022-01-27T17:23:57.335Z"
   },
   {
    "duration": 59,
    "start_time": "2022-01-27T17:23:59.830Z"
   },
   {
    "duration": 10,
    "start_time": "2022-01-27T17:24:03.468Z"
   },
   {
    "duration": 42,
    "start_time": "2022-01-27T17:24:05.021Z"
   },
   {
    "duration": 4,
    "start_time": "2022-01-27T17:24:57.319Z"
   },
   {
    "duration": 4,
    "start_time": "2022-01-27T17:25:26.503Z"
   },
   {
    "duration": 5,
    "start_time": "2022-01-27T17:25:39.526Z"
   },
   {
    "duration": 31,
    "start_time": "2022-01-27T17:27:14.412Z"
   },
   {
    "duration": 34,
    "start_time": "2022-01-27T17:27:51.141Z"
   },
   {
    "duration": 328,
    "start_time": "2022-01-27T17:31:13.095Z"
   },
   {
    "duration": 320,
    "start_time": "2022-01-27T17:32:15.381Z"
   },
   {
    "duration": 317,
    "start_time": "2022-01-27T17:32:24.366Z"
   },
   {
    "duration": 412,
    "start_time": "2022-01-27T17:33:41.048Z"
   },
   {
    "duration": 3,
    "start_time": "2022-01-27T17:33:41.462Z"
   },
   {
    "duration": 53,
    "start_time": "2022-01-27T17:33:41.468Z"
   },
   {
    "duration": 48,
    "start_time": "2022-01-27T17:33:41.524Z"
   },
   {
    "duration": 59,
    "start_time": "2022-01-27T17:33:41.574Z"
   },
   {
    "duration": 16,
    "start_time": "2022-01-27T17:33:41.635Z"
   },
   {
    "duration": 20,
    "start_time": "2022-01-27T17:33:41.653Z"
   },
   {
    "duration": 102,
    "start_time": "2022-01-27T17:33:41.707Z"
   },
   {
    "duration": 76,
    "start_time": "2022-01-27T17:33:41.812Z"
   },
   {
    "duration": 70,
    "start_time": "2022-01-27T17:33:41.891Z"
   },
   {
    "duration": 101,
    "start_time": "2022-01-27T17:33:41.963Z"
   },
   {
    "duration": 12,
    "start_time": "2022-01-27T17:33:42.066Z"
   },
   {
    "duration": 70,
    "start_time": "2022-01-27T17:33:42.080Z"
   },
   {
    "duration": 9,
    "start_time": "2022-01-27T17:33:42.152Z"
   },
   {
    "duration": 54,
    "start_time": "2022-01-27T17:33:42.163Z"
   },
   {
    "duration": 347,
    "start_time": "2022-01-27T17:33:45.252Z"
   },
   {
    "duration": 40,
    "start_time": "2022-01-27T17:34:50.216Z"
   },
   {
    "duration": 335,
    "start_time": "2022-01-27T17:35:24.736Z"
   },
   {
    "duration": 27,
    "start_time": "2022-01-27T17:35:58.334Z"
   },
   {
    "duration": 277,
    "start_time": "2022-01-27T17:36:03.609Z"
   },
   {
    "duration": 411,
    "start_time": "2022-01-27T17:36:23.633Z"
   },
   {
    "duration": 3,
    "start_time": "2022-01-27T17:36:24.046Z"
   },
   {
    "duration": 52,
    "start_time": "2022-01-27T17:36:24.052Z"
   },
   {
    "duration": 45,
    "start_time": "2022-01-27T17:36:24.106Z"
   },
   {
    "duration": 55,
    "start_time": "2022-01-27T17:36:24.153Z"
   },
   {
    "duration": 15,
    "start_time": "2022-01-27T17:36:24.210Z"
   },
   {
    "duration": 20,
    "start_time": "2022-01-27T17:36:24.227Z"
   },
   {
    "duration": 119,
    "start_time": "2022-01-27T17:36:24.248Z"
   },
   {
    "duration": 79,
    "start_time": "2022-01-27T17:36:24.369Z"
   },
   {
    "duration": 73,
    "start_time": "2022-01-27T17:36:24.450Z"
   },
   {
    "duration": 94,
    "start_time": "2022-01-27T17:36:24.525Z"
   },
   {
    "duration": 12,
    "start_time": "2022-01-27T17:36:24.621Z"
   },
   {
    "duration": 75,
    "start_time": "2022-01-27T17:36:24.634Z"
   },
   {
    "duration": 9,
    "start_time": "2022-01-27T17:36:24.710Z"
   },
   {
    "duration": 35,
    "start_time": "2022-01-27T17:36:24.721Z"
   },
   {
    "duration": 333,
    "start_time": "2022-01-27T17:36:24.758Z"
   },
   {
    "duration": 37,
    "start_time": "2022-01-27T17:36:25.094Z"
   },
   {
    "duration": 277,
    "start_time": "2022-01-27T17:36:28.152Z"
   },
   {
    "duration": 277,
    "start_time": "2022-01-27T17:36:44.033Z"
   },
   {
    "duration": 28,
    "start_time": "2022-01-27T17:37:18.201Z"
   },
   {
    "duration": 323,
    "start_time": "2022-01-27T17:38:34.733Z"
   },
   {
    "duration": 255,
    "start_time": "2022-01-27T17:45:44.771Z"
   },
   {
    "duration": 79,
    "start_time": "2022-01-27T17:46:06.825Z"
   },
   {
    "duration": 307,
    "start_time": "2022-01-27T17:46:25.376Z"
   },
   {
    "duration": 252,
    "start_time": "2022-01-27T17:46:51.489Z"
   },
   {
    "duration": 53,
    "start_time": "2022-01-27T17:47:17.619Z"
   },
   {
    "duration": 260,
    "start_time": "2022-01-27T17:48:48.194Z"
   },
   {
    "duration": 6,
    "start_time": "2022-01-27T17:48:51.590Z"
   },
   {
    "duration": 5,
    "start_time": "2022-01-27T17:48:59.733Z"
   },
   {
    "duration": 8,
    "start_time": "2022-01-27T17:55:01.873Z"
   },
   {
    "duration": 274,
    "start_time": "2022-01-27T17:55:12.668Z"
   },
   {
    "duration": 434,
    "start_time": "2022-01-27T17:55:25.513Z"
   },
   {
    "duration": 3,
    "start_time": "2022-01-27T17:55:25.950Z"
   },
   {
    "duration": 68,
    "start_time": "2022-01-27T17:55:25.956Z"
   },
   {
    "duration": 47,
    "start_time": "2022-01-27T17:55:26.026Z"
   },
   {
    "duration": 61,
    "start_time": "2022-01-27T17:55:26.074Z"
   },
   {
    "duration": 15,
    "start_time": "2022-01-27T17:55:26.137Z"
   },
   {
    "duration": 21,
    "start_time": "2022-01-27T17:55:26.154Z"
   },
   {
    "duration": 99,
    "start_time": "2022-01-27T17:55:26.208Z"
   },
   {
    "duration": 77,
    "start_time": "2022-01-27T17:55:26.310Z"
   },
   {
    "duration": 72,
    "start_time": "2022-01-27T17:55:26.389Z"
   },
   {
    "duration": 105,
    "start_time": "2022-01-27T17:55:26.463Z"
   },
   {
    "duration": 11,
    "start_time": "2022-01-27T17:55:26.570Z"
   },
   {
    "duration": 74,
    "start_time": "2022-01-27T17:55:26.583Z"
   },
   {
    "duration": 8,
    "start_time": "2022-01-27T17:55:26.659Z"
   },
   {
    "duration": 47,
    "start_time": "2022-01-27T17:55:26.669Z"
   },
   {
    "duration": 334,
    "start_time": "2022-01-27T17:55:26.718Z"
   },
   {
    "duration": 27,
    "start_time": "2022-01-27T17:55:27.053Z"
   },
   {
    "duration": 306,
    "start_time": "2022-01-27T17:55:27.082Z"
   },
   {
    "duration": 38,
    "start_time": "2022-01-27T17:55:27.390Z"
   },
   {
    "duration": 377,
    "start_time": "2022-01-27T17:55:27.430Z"
   },
   {
    "duration": 260,
    "start_time": "2022-01-27T17:55:30.385Z"
   },
   {
    "duration": 64,
    "start_time": "2022-01-27T18:05:09.346Z"
   },
   {
    "duration": 381,
    "start_time": "2022-01-27T18:05:37.636Z"
   },
   {
    "duration": 263,
    "start_time": "2022-01-27T18:05:53.419Z"
   },
   {
    "duration": 247,
    "start_time": "2022-01-27T18:06:13.630Z"
   },
   {
    "duration": 242,
    "start_time": "2022-01-27T18:06:27.207Z"
   },
   {
    "duration": 24,
    "start_time": "2022-01-27T18:06:49.112Z"
   },
   {
    "duration": 84,
    "start_time": "2022-01-27T18:08:01.292Z"
   },
   {
    "duration": 237,
    "start_time": "2022-01-27T18:08:45.671Z"
   },
   {
    "duration": 21,
    "start_time": "2022-01-27T18:08:51.341Z"
   },
   {
    "duration": 79,
    "start_time": "2022-01-27T18:18:48.193Z"
   },
   {
    "duration": 72,
    "start_time": "2022-01-27T18:19:01.780Z"
   },
   {
    "duration": 267,
    "start_time": "2022-01-27T18:19:14.910Z"
   },
   {
    "duration": 404,
    "start_time": "2022-01-27T18:19:24.986Z"
   },
   {
    "duration": 3,
    "start_time": "2022-01-27T18:19:25.392Z"
   },
   {
    "duration": 53,
    "start_time": "2022-01-27T18:19:25.398Z"
   },
   {
    "duration": 61,
    "start_time": "2022-01-27T18:19:25.453Z"
   },
   {
    "duration": 35,
    "start_time": "2022-01-27T18:19:25.516Z"
   },
   {
    "duration": 16,
    "start_time": "2022-01-27T18:19:25.553Z"
   },
   {
    "duration": 22,
    "start_time": "2022-01-27T18:19:25.607Z"
   },
   {
    "duration": 101,
    "start_time": "2022-01-27T18:19:25.631Z"
   },
   {
    "duration": 74,
    "start_time": "2022-01-27T18:19:25.735Z"
   },
   {
    "duration": 57,
    "start_time": "2022-01-27T18:19:28.039Z"
   },
   {
    "duration": 78,
    "start_time": "2022-01-27T18:19:54.813Z"
   },
   {
    "duration": 14,
    "start_time": "2022-01-27T18:19:59.983Z"
   },
   {
    "duration": 37,
    "start_time": "2022-01-27T18:20:09.243Z"
   },
   {
    "duration": 253,
    "start_time": "2022-01-27T18:20:43.314Z"
   },
   {
    "duration": 35,
    "start_time": "2022-01-27T18:20:55.810Z"
   },
   {
    "duration": 42,
    "start_time": "2022-01-27T18:21:12.310Z"
   },
   {
    "duration": 8,
    "start_time": "2022-01-27T18:21:31.783Z"
   },
   {
    "duration": 25,
    "start_time": "2022-01-27T18:21:36.020Z"
   },
   {
    "duration": 42,
    "start_time": "2022-01-27T18:23:07.313Z"
   },
   {
    "duration": 59,
    "start_time": "2022-01-27T18:24:16.022Z"
   },
   {
    "duration": 240,
    "start_time": "2022-01-27T18:24:34.775Z"
   },
   {
    "duration": 247,
    "start_time": "2022-01-27T18:26:25.641Z"
   },
   {
    "duration": 276,
    "start_time": "2022-01-27T18:26:41.538Z"
   },
   {
    "duration": 260,
    "start_time": "2022-01-27T18:26:44.892Z"
   },
   {
    "duration": 30,
    "start_time": "2022-01-27T18:37:00.163Z"
   },
   {
    "duration": 5,
    "start_time": "2022-01-27T18:37:49.160Z"
   },
   {
    "duration": 6,
    "start_time": "2022-01-27T18:38:00.179Z"
   },
   {
    "duration": 1678,
    "start_time": "2022-01-27T18:38:46.494Z"
   },
   {
    "duration": 1723,
    "start_time": "2022-01-27T18:39:02.119Z"
   },
   {
    "duration": 247,
    "start_time": "2022-01-27T18:39:07.275Z"
   },
   {
    "duration": 1638,
    "start_time": "2022-01-27T18:39:18.166Z"
   },
   {
    "duration": 6117,
    "start_time": "2022-01-27T18:39:25.916Z"
   },
   {
    "duration": 542,
    "start_time": "2022-01-27T18:46:25.052Z"
   },
   {
    "duration": 7269,
    "start_time": "2022-01-27T18:46:42.157Z"
   },
   {
    "duration": 7511,
    "start_time": "2022-01-27T18:49:14.243Z"
   },
   {
    "duration": 2268,
    "start_time": "2022-01-27T18:51:25.967Z"
   },
   {
    "duration": 82,
    "start_time": "2022-01-27T18:51:59.044Z"
   },
   {
    "duration": 991,
    "start_time": "2022-01-27T18:52:05.860Z"
   },
   {
    "duration": 1054,
    "start_time": "2022-01-27T18:53:03.697Z"
   },
   {
    "duration": 1025,
    "start_time": "2022-01-27T18:53:16.451Z"
   },
   {
    "duration": 472,
    "start_time": "2022-01-27T18:54:23.051Z"
   },
   {
    "duration": 3,
    "start_time": "2022-01-27T18:54:23.526Z"
   },
   {
    "duration": 57,
    "start_time": "2022-01-27T18:54:23.532Z"
   },
   {
    "duration": 57,
    "start_time": "2022-01-27T18:54:23.591Z"
   },
   {
    "duration": 59,
    "start_time": "2022-01-27T18:54:23.650Z"
   },
   {
    "duration": 16,
    "start_time": "2022-01-27T18:54:23.711Z"
   },
   {
    "duration": 22,
    "start_time": "2022-01-27T18:54:23.729Z"
   },
   {
    "duration": 116,
    "start_time": "2022-01-27T18:54:23.753Z"
   },
   {
    "duration": 76,
    "start_time": "2022-01-27T18:54:23.871Z"
   },
   {
    "duration": 68,
    "start_time": "2022-01-27T18:54:23.950Z"
   },
   {
    "duration": 75,
    "start_time": "2022-01-27T18:54:24.020Z"
   },
   {
    "duration": 20,
    "start_time": "2022-01-27T18:54:24.096Z"
   },
   {
    "duration": 44,
    "start_time": "2022-01-27T18:54:24.118Z"
   },
   {
    "duration": 634,
    "start_time": "2022-01-27T18:54:26.616Z"
   },
   {
    "duration": 953,
    "start_time": "2022-01-27T18:54:37.524Z"
   },
   {
    "duration": 427,
    "start_time": "2022-01-27T18:54:43.541Z"
   },
   {
    "duration": 4,
    "start_time": "2022-01-27T18:54:43.970Z"
   },
   {
    "duration": 52,
    "start_time": "2022-01-27T18:54:43.976Z"
   },
   {
    "duration": 44,
    "start_time": "2022-01-27T18:54:44.031Z"
   },
   {
    "duration": 57,
    "start_time": "2022-01-27T18:54:44.077Z"
   },
   {
    "duration": 16,
    "start_time": "2022-01-27T18:54:44.136Z"
   },
   {
    "duration": 21,
    "start_time": "2022-01-27T18:54:44.153Z"
   },
   {
    "duration": 85,
    "start_time": "2022-01-27T18:54:44.209Z"
   },
   {
    "duration": 64,
    "start_time": "2022-01-27T18:54:44.308Z"
   },
   {
    "duration": 71,
    "start_time": "2022-01-27T18:54:44.374Z"
   },
   {
    "duration": 87,
    "start_time": "2022-01-27T18:54:44.447Z"
   },
   {
    "duration": 12,
    "start_time": "2022-01-27T18:54:44.536Z"
   },
   {
    "duration": 32,
    "start_time": "2022-01-27T18:54:44.550Z"
   },
   {
    "duration": 558,
    "start_time": "2022-01-27T18:54:47.264Z"
   },
   {
    "duration": 946,
    "start_time": "2022-01-27T18:54:54.812Z"
   },
   {
    "duration": 427,
    "start_time": "2022-01-27T18:54:58.022Z"
   },
   {
    "duration": 3,
    "start_time": "2022-01-27T18:54:58.451Z"
   },
   {
    "duration": 66,
    "start_time": "2022-01-27T18:54:58.456Z"
   },
   {
    "duration": 44,
    "start_time": "2022-01-27T18:54:58.524Z"
   },
   {
    "duration": 50,
    "start_time": "2022-01-27T18:54:58.570Z"
   },
   {
    "duration": 15,
    "start_time": "2022-01-27T18:54:58.622Z"
   },
   {
    "duration": 22,
    "start_time": "2022-01-27T18:54:58.638Z"
   },
   {
    "duration": 112,
    "start_time": "2022-01-27T18:54:58.663Z"
   },
   {
    "duration": 74,
    "start_time": "2022-01-27T18:54:58.778Z"
   },
   {
    "duration": 69,
    "start_time": "2022-01-27T18:54:58.854Z"
   },
   {
    "duration": 89,
    "start_time": "2022-01-27T18:54:58.925Z"
   },
   {
    "duration": 13,
    "start_time": "2022-01-27T18:54:59.015Z"
   },
   {
    "duration": 36,
    "start_time": "2022-01-27T18:54:59.030Z"
   },
   {
    "duration": 603,
    "start_time": "2022-01-27T18:54:59.068Z"
   },
   {
    "duration": 430,
    "start_time": "2022-01-27T18:55:11.753Z"
   },
   {
    "duration": 4,
    "start_time": "2022-01-27T18:55:12.185Z"
   },
   {
    "duration": 53,
    "start_time": "2022-01-27T18:55:12.191Z"
   },
   {
    "duration": 62,
    "start_time": "2022-01-27T18:55:12.247Z"
   },
   {
    "duration": 37,
    "start_time": "2022-01-27T18:55:12.311Z"
   },
   {
    "duration": 17,
    "start_time": "2022-01-27T18:55:12.351Z"
   },
   {
    "duration": 57,
    "start_time": "2022-01-27T18:55:12.370Z"
   },
   {
    "duration": 101,
    "start_time": "2022-01-27T18:55:12.429Z"
   },
   {
    "duration": 76,
    "start_time": "2022-01-27T18:55:12.533Z"
   },
   {
    "duration": 57,
    "start_time": "2022-01-27T18:55:12.612Z"
   },
   {
    "duration": 99,
    "start_time": "2022-01-27T18:55:12.672Z"
   },
   {
    "duration": 13,
    "start_time": "2022-01-27T18:55:12.773Z"
   },
   {
    "duration": 30,
    "start_time": "2022-01-27T18:55:12.808Z"
   },
   {
    "duration": 1550,
    "start_time": "2022-01-27T18:55:14.986Z"
   },
   {
    "duration": 841,
    "start_time": "2022-01-27T18:56:59.926Z"
   },
   {
    "duration": 414,
    "start_time": "2022-01-27T18:57:44.645Z"
   },
   {
    "duration": 403,
    "start_time": "2022-01-27T18:57:48.078Z"
   },
   {
    "duration": 409,
    "start_time": "2022-01-27T18:58:42.332Z"
   },
   {
    "duration": 3905,
    "start_time": "2022-01-27T18:59:23.876Z"
   },
   {
    "duration": 447,
    "start_time": "2022-01-27T18:59:40.299Z"
   },
   {
    "duration": 433,
    "start_time": "2022-01-27T19:01:01.988Z"
   },
   {
    "duration": 424,
    "start_time": "2022-01-27T19:01:22.965Z"
   },
   {
    "duration": 549,
    "start_time": "2022-01-27T19:01:32.357Z"
   },
   {
    "duration": 4656,
    "start_time": "2022-01-27T19:02:01.154Z"
   },
   {
    "duration": 10926,
    "start_time": "2022-01-27T19:04:41.265Z"
   },
   {
    "duration": 6494,
    "start_time": "2022-01-27T19:05:34.235Z"
   },
   {
    "duration": 4725,
    "start_time": "2022-01-27T19:05:55.336Z"
   },
   {
    "duration": 90,
    "start_time": "2022-01-27T19:13:24.558Z"
   },
   {
    "duration": 17697,
    "start_time": "2022-01-27T19:13:36.573Z"
   },
   {
    "duration": 13613,
    "start_time": "2022-01-27T19:14:19.870Z"
   },
   {
    "duration": 24,
    "start_time": "2022-01-27T19:19:17.513Z"
   },
   {
    "duration": 80,
    "start_time": "2022-01-27T19:21:04.725Z"
   },
   {
    "duration": 71,
    "start_time": "2022-01-27T19:21:29.336Z"
   },
   {
    "duration": 54,
    "start_time": "2022-01-27T19:21:53.914Z"
   },
   {
    "duration": 264,
    "start_time": "2022-01-27T19:21:58.179Z"
   },
   {
    "duration": 441,
    "start_time": "2022-01-27T19:22:38.318Z"
   },
   {
    "duration": 4,
    "start_time": "2022-01-27T19:22:38.761Z"
   },
   {
    "duration": 54,
    "start_time": "2022-01-27T19:22:38.768Z"
   },
   {
    "duration": 42,
    "start_time": "2022-01-27T19:22:38.825Z"
   },
   {
    "duration": 63,
    "start_time": "2022-01-27T19:22:38.869Z"
   },
   {
    "duration": 16,
    "start_time": "2022-01-27T19:22:38.934Z"
   },
   {
    "duration": 21,
    "start_time": "2022-01-27T19:22:38.952Z"
   },
   {
    "duration": 110,
    "start_time": "2022-01-27T19:22:39.007Z"
   },
   {
    "duration": 64,
    "start_time": "2022-01-27T19:22:39.120Z"
   },
   {
    "duration": 68,
    "start_time": "2022-01-27T19:22:39.186Z"
   },
   {
    "duration": 95,
    "start_time": "2022-01-27T19:22:39.257Z"
   },
   {
    "duration": 12,
    "start_time": "2022-01-27T19:22:39.355Z"
   },
   {
    "duration": 31,
    "start_time": "2022-01-27T19:22:42.422Z"
   },
   {
    "duration": 452,
    "start_time": "2022-01-27T19:24:03.561Z"
   },
   {
    "duration": 3,
    "start_time": "2022-01-27T19:24:04.015Z"
   },
   {
    "duration": 56,
    "start_time": "2022-01-27T19:24:04.021Z"
   },
   {
    "duration": 57,
    "start_time": "2022-01-27T19:24:04.079Z"
   },
   {
    "duration": 34,
    "start_time": "2022-01-27T19:24:04.138Z"
   },
   {
    "duration": 38,
    "start_time": "2022-01-27T19:24:04.174Z"
   },
   {
    "duration": 20,
    "start_time": "2022-01-27T19:24:04.214Z"
   },
   {
    "duration": 128,
    "start_time": "2022-01-27T19:24:04.236Z"
   },
   {
    "duration": 73,
    "start_time": "2022-01-27T19:24:04.367Z"
   },
   {
    "duration": 68,
    "start_time": "2022-01-27T19:24:04.443Z"
   },
   {
    "duration": 80,
    "start_time": "2022-01-27T19:24:04.514Z"
   },
   {
    "duration": 20,
    "start_time": "2022-01-27T19:24:04.596Z"
   },
   {
    "duration": 33,
    "start_time": "2022-01-27T19:24:04.619Z"
   },
   {
    "duration": 19483,
    "start_time": "2022-01-27T19:24:04.654Z"
   },
   {
    "duration": 25,
    "start_time": "2022-01-27T19:24:44.158Z"
   },
   {
    "duration": 15046,
    "start_time": "2022-01-27T19:27:13.753Z"
   },
   {
    "duration": 24,
    "start_time": "2022-01-27T19:28:23.247Z"
   },
   {
    "duration": 26,
    "start_time": "2022-01-27T19:28:49.388Z"
   },
   {
    "duration": 27,
    "start_time": "2022-01-27T19:29:16.951Z"
   },
   {
    "duration": 196,
    "start_time": "2022-01-27T19:30:15.481Z"
   },
   {
    "duration": 210,
    "start_time": "2022-01-27T19:30:52.089Z"
   },
   {
    "duration": 212,
    "start_time": "2022-01-27T19:31:35.741Z"
   },
   {
    "duration": 79,
    "start_time": "2022-01-27T19:32:21.758Z"
   },
   {
    "duration": 124,
    "start_time": "2022-01-27T19:32:42.332Z"
   },
   {
    "duration": 216,
    "start_time": "2022-01-27T19:32:46.505Z"
   },
   {
    "duration": 213,
    "start_time": "2022-01-27T19:33:01.844Z"
   },
   {
    "duration": 235,
    "start_time": "2022-01-27T19:33:10.412Z"
   },
   {
    "duration": 288,
    "start_time": "2022-01-27T19:33:36.782Z"
   },
   {
    "duration": 309,
    "start_time": "2022-01-27T19:34:44.932Z"
   },
   {
    "duration": 544,
    "start_time": "2022-01-27T19:34:57.700Z"
   },
   {
    "duration": 285,
    "start_time": "2022-01-27T19:36:15.259Z"
   },
   {
    "duration": 7073,
    "start_time": "2022-01-27T19:36:59.840Z"
   },
   {
    "duration": 280,
    "start_time": "2022-01-27T19:37:21.681Z"
   },
   {
    "duration": 258,
    "start_time": "2022-01-27T19:37:38.180Z"
   },
   {
    "duration": 271,
    "start_time": "2022-01-27T19:38:40.804Z"
   },
   {
    "duration": 269,
    "start_time": "2022-01-27T19:38:43.057Z"
   },
   {
    "duration": 334,
    "start_time": "2022-01-27T19:38:57.679Z"
   },
   {
    "duration": 429,
    "start_time": "2022-01-27T19:39:33.550Z"
   },
   {
    "duration": 369,
    "start_time": "2022-01-27T19:39:50.369Z"
   },
   {
    "duration": 307,
    "start_time": "2022-01-27T20:07:34.704Z"
   },
   {
    "duration": 239,
    "start_time": "2022-01-27T20:10:38.794Z"
   },
   {
    "duration": 311,
    "start_time": "2022-01-27T20:10:45.968Z"
   },
   {
    "duration": 304,
    "start_time": "2022-01-27T20:12:15.413Z"
   },
   {
    "duration": 276,
    "start_time": "2022-01-27T20:12:33.969Z"
   },
   {
    "duration": 404,
    "start_time": "2022-01-27T20:13:54.796Z"
   },
   {
    "duration": 301,
    "start_time": "2022-01-27T20:14:18.880Z"
   },
   {
    "duration": 242,
    "start_time": "2022-01-27T20:16:15.173Z"
   },
   {
    "duration": 296,
    "start_time": "2022-01-27T20:16:27.214Z"
   },
   {
    "duration": 431,
    "start_time": "2022-01-27T20:20:11.278Z"
   },
   {
    "duration": 366,
    "start_time": "2022-01-27T20:20:26.597Z"
   },
   {
    "duration": 303,
    "start_time": "2022-01-27T20:20:42.739Z"
   },
   {
    "duration": 305,
    "start_time": "2022-01-27T20:21:39.362Z"
   },
   {
    "duration": 814,
    "start_time": "2022-01-27T20:22:10.648Z"
   },
   {
    "duration": 306,
    "start_time": "2022-01-27T20:22:15.711Z"
   },
   {
    "duration": 301,
    "start_time": "2022-01-27T20:22:31.676Z"
   },
   {
    "duration": 242,
    "start_time": "2022-01-27T20:22:36.261Z"
   },
   {
    "duration": 312,
    "start_time": "2022-01-27T20:22:43.333Z"
   },
   {
    "duration": 310,
    "start_time": "2022-01-27T20:22:50.459Z"
   },
   {
    "duration": 470,
    "start_time": "2022-01-27T20:23:40.191Z"
   },
   {
    "duration": 322,
    "start_time": "2022-01-27T20:23:59.407Z"
   },
   {
    "duration": 300,
    "start_time": "2022-01-27T20:24:07.833Z"
   },
   {
    "duration": 754,
    "start_time": "2022-01-27T20:24:38.098Z"
   },
   {
    "duration": 416,
    "start_time": "2022-01-27T20:25:07.910Z"
   },
   {
    "duration": 306,
    "start_time": "2022-01-27T20:25:15.927Z"
   },
   {
    "duration": 266,
    "start_time": "2022-01-27T20:25:19.279Z"
   },
   {
    "duration": 247,
    "start_time": "2022-01-27T20:25:28.152Z"
   },
   {
    "duration": 198,
    "start_time": "2022-01-27T20:25:42.652Z"
   },
   {
    "duration": 252,
    "start_time": "2022-01-27T20:30:16.520Z"
   },
   {
    "duration": 248,
    "start_time": "2022-01-27T20:30:37.429Z"
   },
   {
    "duration": 251,
    "start_time": "2022-01-27T20:31:50.358Z"
   },
   {
    "duration": 215,
    "start_time": "2022-01-27T20:31:55.930Z"
   },
   {
    "duration": 232,
    "start_time": "2022-01-27T20:32:47.359Z"
   },
   {
    "duration": 238,
    "start_time": "2022-01-27T20:33:01.730Z"
   },
   {
    "duration": 117,
    "start_time": "2022-01-27T20:34:47.754Z"
   },
   {
    "duration": 249,
    "start_time": "2022-01-27T20:35:08.088Z"
   },
   {
    "duration": 265,
    "start_time": "2022-01-27T20:35:40.713Z"
   },
   {
    "duration": 233,
    "start_time": "2022-01-27T20:38:09.917Z"
   },
   {
    "duration": 452,
    "start_time": "2022-01-27T20:38:36.149Z"
   },
   {
    "duration": 3,
    "start_time": "2022-01-27T20:38:36.603Z"
   },
   {
    "duration": 52,
    "start_time": "2022-01-27T20:38:36.608Z"
   },
   {
    "duration": 49,
    "start_time": "2022-01-27T20:38:36.662Z"
   },
   {
    "duration": 36,
    "start_time": "2022-01-27T20:38:36.713Z"
   },
   {
    "duration": 15,
    "start_time": "2022-01-27T20:38:36.751Z"
   },
   {
    "duration": 21,
    "start_time": "2022-01-27T20:38:36.767Z"
   },
   {
    "duration": 113,
    "start_time": "2022-01-27T20:38:36.790Z"
   },
   {
    "duration": 68,
    "start_time": "2022-01-27T20:38:36.909Z"
   },
   {
    "duration": 64,
    "start_time": "2022-01-27T20:38:36.979Z"
   },
   {
    "duration": 87,
    "start_time": "2022-01-27T20:38:37.045Z"
   },
   {
    "duration": 12,
    "start_time": "2022-01-27T20:38:37.134Z"
   },
   {
    "duration": 36,
    "start_time": "2022-01-27T20:38:37.148Z"
   },
   {
    "duration": 21745,
    "start_time": "2022-01-27T20:38:37.186Z"
   },
   {
    "duration": 26,
    "start_time": "2022-01-27T20:38:58.932Z"
   },
   {
    "duration": 51,
    "start_time": "2022-01-27T20:38:58.960Z"
   },
   {
    "duration": 29,
    "start_time": "2022-01-27T20:38:59.013Z"
   },
   {
    "duration": 257,
    "start_time": "2022-01-27T20:38:59.044Z"
   },
   {
    "duration": 240,
    "start_time": "2022-01-27T20:38:59.307Z"
   },
   {
    "duration": 260,
    "start_time": "2022-01-27T20:38:59.549Z"
   },
   {
    "duration": 233,
    "start_time": "2022-01-27T20:39:24.875Z"
   },
   {
    "duration": 388,
    "start_time": "2022-01-27T20:46:30.777Z"
   },
   {
    "duration": 5,
    "start_time": "2022-01-27T20:47:42.932Z"
   },
   {
    "duration": 441,
    "start_time": "2022-01-27T20:49:59.581Z"
   },
   {
    "duration": 4,
    "start_time": "2022-01-27T20:50:00.025Z"
   },
   {
    "duration": 59,
    "start_time": "2022-01-27T20:50:00.031Z"
   },
   {
    "duration": 58,
    "start_time": "2022-01-27T20:50:00.092Z"
   },
   {
    "duration": 68,
    "start_time": "2022-01-27T20:50:00.153Z"
   },
   {
    "duration": 18,
    "start_time": "2022-01-27T20:50:00.224Z"
   },
   {
    "duration": 23,
    "start_time": "2022-01-27T20:50:00.244Z"
   },
   {
    "duration": 144,
    "start_time": "2022-01-27T20:50:00.269Z"
   },
   {
    "duration": 68,
    "start_time": "2022-01-27T20:50:00.416Z"
   },
   {
    "duration": 74,
    "start_time": "2022-01-27T20:50:00.486Z"
   },
   {
    "duration": 100,
    "start_time": "2022-01-27T20:50:00.562Z"
   },
   {
    "duration": 14,
    "start_time": "2022-01-27T20:50:00.663Z"
   },
   {
    "duration": 49,
    "start_time": "2022-01-27T20:50:00.679Z"
   },
   {
    "duration": 25604,
    "start_time": "2022-01-27T20:50:00.730Z"
   },
   {
    "duration": 35,
    "start_time": "2022-01-27T20:50:26.337Z"
   },
   {
    "duration": 51,
    "start_time": "2022-01-27T20:50:26.374Z"
   },
   {
    "duration": 31,
    "start_time": "2022-01-27T20:50:26.427Z"
   },
   {
    "duration": 262,
    "start_time": "2022-01-27T20:50:26.460Z"
   },
   {
    "duration": 255,
    "start_time": "2022-01-27T20:50:26.724Z"
   },
   {
    "duration": 464,
    "start_time": "2022-01-27T20:50:26.981Z"
   },
   {
    "duration": 269,
    "start_time": "2022-01-27T20:50:27.447Z"
   },
   {
    "duration": 5,
    "start_time": "2022-01-27T20:50:27.718Z"
   },
   {
    "duration": 12,
    "start_time": "2022-01-27T20:50:27.725Z"
   },
   {
    "duration": 574,
    "start_time": "2022-01-27T20:50:49.650Z"
   },
   {
    "duration": 4,
    "start_time": "2022-01-27T20:50:50.226Z"
   },
   {
    "duration": 58,
    "start_time": "2022-01-27T20:50:50.232Z"
   },
   {
    "duration": 62,
    "start_time": "2022-01-27T20:50:50.292Z"
   },
   {
    "duration": 53,
    "start_time": "2022-01-27T20:50:50.355Z"
   },
   {
    "duration": 15,
    "start_time": "2022-01-27T20:50:50.410Z"
   },
   {
    "duration": 21,
    "start_time": "2022-01-27T20:50:50.427Z"
   },
   {
    "duration": 142,
    "start_time": "2022-01-27T20:50:50.450Z"
   },
   {
    "duration": 75,
    "start_time": "2022-01-27T20:50:50.596Z"
   },
   {
    "duration": 72,
    "start_time": "2022-01-27T20:50:50.673Z"
   },
   {
    "duration": 89,
    "start_time": "2022-01-27T20:50:50.746Z"
   },
   {
    "duration": 12,
    "start_time": "2022-01-27T20:50:50.837Z"
   },
   {
    "duration": 34,
    "start_time": "2022-01-27T20:50:50.851Z"
   },
   {
    "duration": 26889,
    "start_time": "2022-01-27T20:50:50.887Z"
   },
   {
    "duration": 38,
    "start_time": "2022-01-27T20:51:17.779Z"
   },
   {
    "duration": 46,
    "start_time": "2022-01-27T20:51:17.819Z"
   },
   {
    "duration": 28,
    "start_time": "2022-01-27T20:51:17.866Z"
   },
   {
    "duration": 250,
    "start_time": "2022-01-27T20:51:17.896Z"
   },
   {
    "duration": 261,
    "start_time": "2022-01-27T20:51:18.148Z"
   },
   {
    "duration": 270,
    "start_time": "2022-01-27T20:51:18.411Z"
   },
   {
    "duration": 263,
    "start_time": "2022-01-27T20:51:18.684Z"
   },
   {
    "duration": 12,
    "start_time": "2022-01-27T20:56:26.237Z"
   },
   {
    "duration": 291,
    "start_time": "2022-01-27T20:57:07.578Z"
   },
   {
    "duration": 14,
    "start_time": "2022-01-27T20:57:42.705Z"
   },
   {
    "duration": 13,
    "start_time": "2022-01-27T20:57:44.744Z"
   },
   {
    "duration": 296,
    "start_time": "2022-01-27T21:00:14.216Z"
   },
   {
    "duration": 59,
    "start_time": "2022-01-27T21:00:20.966Z"
   },
   {
    "duration": 64,
    "start_time": "2022-01-27T21:00:32.410Z"
   },
   {
    "duration": 58,
    "start_time": "2022-01-27T21:02:14.229Z"
   },
   {
    "duration": 62,
    "start_time": "2022-01-27T21:03:25.378Z"
   },
   {
    "duration": 6,
    "start_time": "2022-01-27T21:06:21.801Z"
   },
   {
    "duration": 13,
    "start_time": "2022-01-27T21:07:21.420Z"
   },
   {
    "duration": 13,
    "start_time": "2022-01-27T21:07:50.640Z"
   },
   {
    "duration": 13,
    "start_time": "2022-01-27T21:07:55.504Z"
   },
   {
    "duration": 13,
    "start_time": "2022-01-27T21:08:01.635Z"
   },
   {
    "duration": 16,
    "start_time": "2022-01-27T21:20:49.906Z"
   },
   {
    "duration": 224,
    "start_time": "2022-01-27T22:00:30.461Z"
   },
   {
    "duration": 232,
    "start_time": "2022-01-27T22:01:35.869Z"
   },
   {
    "duration": 453,
    "start_time": "2022-01-27T22:01:53.068Z"
   },
   {
    "duration": 4,
    "start_time": "2022-01-27T22:01:53.523Z"
   },
   {
    "duration": 95,
    "start_time": "2022-01-27T22:01:53.530Z"
   },
   {
    "duration": 84,
    "start_time": "2022-01-27T22:01:53.628Z"
   },
   {
    "duration": 38,
    "start_time": "2022-01-27T22:01:53.714Z"
   },
   {
    "duration": 17,
    "start_time": "2022-01-27T22:01:53.754Z"
   },
   {
    "duration": 51,
    "start_time": "2022-01-27T22:01:53.773Z"
   },
   {
    "duration": 127,
    "start_time": "2022-01-27T22:01:53.826Z"
   },
   {
    "duration": 80,
    "start_time": "2022-01-27T22:01:53.956Z"
   },
   {
    "duration": 69,
    "start_time": "2022-01-27T22:01:54.038Z"
   },
   {
    "duration": 84,
    "start_time": "2022-01-27T22:01:54.110Z"
   },
   {
    "duration": 21,
    "start_time": "2022-01-27T22:01:54.195Z"
   },
   {
    "duration": 32,
    "start_time": "2022-01-27T22:01:54.218Z"
   },
   {
    "duration": 25429,
    "start_time": "2022-01-27T22:01:54.252Z"
   },
   {
    "duration": 40,
    "start_time": "2022-01-27T22:02:19.683Z"
   },
   {
    "duration": 62,
    "start_time": "2022-01-27T22:02:19.725Z"
   },
   {
    "duration": 81,
    "start_time": "2022-01-27T22:02:19.789Z"
   },
   {
    "duration": 318,
    "start_time": "2022-01-27T22:02:19.872Z"
   },
   {
    "duration": 365,
    "start_time": "2022-01-27T22:02:20.193Z"
   },
   {
    "duration": 288,
    "start_time": "2022-01-27T22:02:20.560Z"
   },
   {
    "duration": 381,
    "start_time": "2022-01-27T22:08:10.037Z"
   },
   {
    "duration": 475,
    "start_time": "2022-01-27T22:11:00.467Z"
   },
   {
    "duration": 4,
    "start_time": "2022-01-27T22:11:00.944Z"
   },
   {
    "duration": 75,
    "start_time": "2022-01-27T22:11:00.951Z"
   },
   {
    "duration": 47,
    "start_time": "2022-01-27T22:11:01.029Z"
   },
   {
    "duration": 56,
    "start_time": "2022-01-27T22:11:01.079Z"
   },
   {
    "duration": 19,
    "start_time": "2022-01-27T22:11:01.138Z"
   },
   {
    "duration": 58,
    "start_time": "2022-01-27T22:11:01.160Z"
   },
   {
    "duration": 124,
    "start_time": "2022-01-27T22:11:01.221Z"
   },
   {
    "duration": 86,
    "start_time": "2022-01-27T22:11:01.349Z"
   },
   {
    "duration": 76,
    "start_time": "2022-01-27T22:11:01.438Z"
   },
   {
    "duration": 100,
    "start_time": "2022-01-27T22:11:01.517Z"
   },
   {
    "duration": 14,
    "start_time": "2022-01-27T22:11:01.620Z"
   },
   {
    "duration": 69,
    "start_time": "2022-01-27T22:11:01.636Z"
   },
   {
    "duration": 26352,
    "start_time": "2022-01-27T22:11:01.707Z"
   },
   {
    "duration": 28,
    "start_time": "2022-01-27T22:11:28.061Z"
   },
   {
    "duration": 65,
    "start_time": "2022-01-27T22:11:28.107Z"
   },
   {
    "duration": 87,
    "start_time": "2022-01-27T22:11:28.174Z"
   },
   {
    "duration": 270,
    "start_time": "2022-01-27T22:11:28.264Z"
   },
   {
    "duration": 262,
    "start_time": "2022-01-27T22:11:46.677Z"
   },
   {
    "duration": 253,
    "start_time": "2022-01-27T22:12:57.941Z"
   },
   {
    "duration": 244,
    "start_time": "2022-01-27T22:17:10.234Z"
   },
   {
    "duration": 253,
    "start_time": "2022-01-27T22:33:03.703Z"
   },
   {
    "duration": 262,
    "start_time": "2022-01-27T22:34:07.612Z"
   },
   {
    "duration": 5,
    "start_time": "2022-01-27T22:43:54.625Z"
   },
   {
    "duration": 7,
    "start_time": "2022-01-27T22:45:48.068Z"
   },
   {
    "duration": 5,
    "start_time": "2022-01-27T22:46:03.650Z"
   },
   {
    "duration": 6,
    "start_time": "2022-01-27T22:46:32.764Z"
   },
   {
    "duration": 8,
    "start_time": "2022-01-27T22:47:31.490Z"
   },
   {
    "duration": 9,
    "start_time": "2022-01-27T22:48:39.187Z"
   },
   {
    "duration": 241,
    "start_time": "2022-01-27T22:55:48.396Z"
   },
   {
    "duration": 5,
    "start_time": "2022-01-27T22:55:52.896Z"
   },
   {
    "duration": 5,
    "start_time": "2022-01-27T22:56:38.744Z"
   },
   {
    "duration": 5,
    "start_time": "2022-01-27T22:56:49.611Z"
   },
   {
    "duration": 5,
    "start_time": "2022-01-27T22:56:53.269Z"
   },
   {
    "duration": 257,
    "start_time": "2022-01-27T22:59:30.888Z"
   },
   {
    "duration": 6,
    "start_time": "2022-01-27T23:00:11.070Z"
   },
   {
    "duration": 5,
    "start_time": "2022-01-27T23:00:17.583Z"
   },
   {
    "duration": 9,
    "start_time": "2022-01-27T23:01:03.765Z"
   },
   {
    "duration": 8,
    "start_time": "2022-01-27T23:01:18.360Z"
   },
   {
    "duration": 8,
    "start_time": "2022-01-27T23:01:55.908Z"
   },
   {
    "duration": 8,
    "start_time": "2022-01-27T23:02:01.114Z"
   },
   {
    "duration": 6,
    "start_time": "2022-01-27T23:04:46.875Z"
   },
   {
    "duration": 5,
    "start_time": "2022-01-27T23:05:50.280Z"
   },
   {
    "duration": 6,
    "start_time": "2022-01-27T23:06:04.086Z"
   },
   {
    "duration": 5,
    "start_time": "2022-01-27T23:06:17.265Z"
   },
   {
    "duration": 6,
    "start_time": "2022-01-27T23:06:21.085Z"
   },
   {
    "duration": 4,
    "start_time": "2022-01-27T23:06:23.158Z"
   },
   {
    "duration": 5,
    "start_time": "2022-01-27T23:07:21.530Z"
   },
   {
    "duration": 6,
    "start_time": "2022-01-27T23:07:38.551Z"
   },
   {
    "duration": 7,
    "start_time": "2022-01-27T23:24:31.615Z"
   },
   {
    "duration": 14,
    "start_time": "2022-01-27T23:25:02.763Z"
   },
   {
    "duration": 6,
    "start_time": "2022-01-27T23:25:12.427Z"
   },
   {
    "duration": 459,
    "start_time": "2022-01-27T23:32:53.012Z"
   },
   {
    "duration": 4,
    "start_time": "2022-01-27T23:32:53.473Z"
   },
   {
    "duration": 61,
    "start_time": "2022-01-27T23:32:53.480Z"
   },
   {
    "duration": 45,
    "start_time": "2022-01-27T23:32:53.544Z"
   },
   {
    "duration": 51,
    "start_time": "2022-01-27T23:32:53.591Z"
   },
   {
    "duration": 15,
    "start_time": "2022-01-27T23:32:53.644Z"
   },
   {
    "duration": 64,
    "start_time": "2022-01-27T23:32:53.661Z"
   },
   {
    "duration": 123,
    "start_time": "2022-01-27T23:32:53.727Z"
   },
   {
    "duration": 85,
    "start_time": "2022-01-27T23:32:53.853Z"
   },
   {
    "duration": 69,
    "start_time": "2022-01-27T23:32:53.941Z"
   },
   {
    "duration": 94,
    "start_time": "2022-01-27T23:32:54.013Z"
   },
   {
    "duration": 13,
    "start_time": "2022-01-27T23:32:54.109Z"
   },
   {
    "duration": 37,
    "start_time": "2022-01-27T23:32:54.124Z"
   },
   {
    "duration": 26072,
    "start_time": "2022-01-27T23:32:54.163Z"
   },
   {
    "duration": 27,
    "start_time": "2022-01-27T23:33:20.237Z"
   },
   {
    "duration": 95,
    "start_time": "2022-01-27T23:33:20.266Z"
   },
   {
    "duration": 84,
    "start_time": "2022-01-27T23:33:20.363Z"
   },
   {
    "duration": 274,
    "start_time": "2022-01-27T23:33:20.448Z"
   },
   {
    "duration": 269,
    "start_time": "2022-01-27T23:33:20.725Z"
   },
   {
    "duration": 280,
    "start_time": "2022-01-27T23:33:20.996Z"
   },
   {
    "duration": 278,
    "start_time": "2022-01-27T23:33:21.280Z"
   },
   {
    "duration": 273,
    "start_time": "2022-01-27T23:33:21.560Z"
   },
   {
    "duration": 5,
    "start_time": "2022-01-27T23:33:21.835Z"
   },
   {
    "duration": 13,
    "start_time": "2022-01-27T23:33:21.843Z"
   },
   {
    "duration": 26,
    "start_time": "2022-01-27T23:33:21.858Z"
   },
   {
    "duration": 34,
    "start_time": "2022-01-27T23:33:21.886Z"
   },
   {
    "duration": 1741,
    "start_time": "2022-02-05T18:33:21.037Z"
   },
   {
    "duration": 4,
    "start_time": "2022-02-05T18:33:22.779Z"
   },
   {
    "duration": 60,
    "start_time": "2022-02-05T18:33:22.784Z"
   },
   {
    "duration": 53,
    "start_time": "2022-02-05T18:33:22.846Z"
   },
   {
    "duration": 33,
    "start_time": "2022-02-05T18:33:22.901Z"
   },
   {
    "duration": 13,
    "start_time": "2022-02-05T18:33:22.936Z"
   },
   {
    "duration": 53,
    "start_time": "2022-02-05T18:33:22.951Z"
   },
   {
    "duration": 131,
    "start_time": "2022-02-05T18:33:23.007Z"
   },
   {
    "duration": 80,
    "start_time": "2022-02-05T18:33:23.142Z"
   },
   {
    "duration": 57,
    "start_time": "2022-02-05T18:33:23.224Z"
   },
   {
    "duration": 100,
    "start_time": "2022-02-05T18:33:23.283Z"
   },
   {
    "duration": 22,
    "start_time": "2022-02-05T18:33:23.385Z"
   },
   {
    "duration": 30,
    "start_time": "2022-02-05T18:33:23.409Z"
   },
   {
    "duration": 23648,
    "start_time": "2022-02-05T18:33:23.441Z"
   },
   {
    "duration": 32,
    "start_time": "2022-02-05T18:33:47.091Z"
   },
   {
    "duration": 87,
    "start_time": "2022-02-05T18:33:47.125Z"
   },
   {
    "duration": 65,
    "start_time": "2022-02-05T18:33:47.214Z"
   },
   {
    "duration": 348,
    "start_time": "2022-02-05T18:33:47.281Z"
   },
   {
    "duration": 268,
    "start_time": "2022-02-05T18:33:47.632Z"
   },
   {
    "duration": 285,
    "start_time": "2022-02-05T18:33:47.902Z"
   },
   {
    "duration": 328,
    "start_time": "2022-02-05T18:33:48.189Z"
   },
   {
    "duration": 270,
    "start_time": "2022-02-05T18:33:48.519Z"
   },
   {
    "duration": 8,
    "start_time": "2022-02-05T18:33:48.791Z"
   },
   {
    "duration": 6,
    "start_time": "2022-02-05T18:33:48.801Z"
   },
   {
    "duration": 11,
    "start_time": "2022-02-05T18:33:48.809Z"
   },
   {
    "duration": 12,
    "start_time": "2022-02-05T18:33:48.822Z"
   },
   {
    "duration": 23,
    "start_time": "2022-02-05T18:48:26.508Z"
   },
   {
    "duration": 7,
    "start_time": "2022-02-05T18:48:36.097Z"
   },
   {
    "duration": 1351,
    "start_time": "2022-02-06T14:20:31.244Z"
   },
   {
    "duration": 3,
    "start_time": "2022-02-06T14:20:32.596Z"
   },
   {
    "duration": 56,
    "start_time": "2022-02-06T14:20:32.601Z"
   },
   {
    "duration": 35,
    "start_time": "2022-02-06T14:20:32.658Z"
   },
   {
    "duration": 27,
    "start_time": "2022-02-06T14:20:32.695Z"
   },
   {
    "duration": 11,
    "start_time": "2022-02-06T14:20:32.724Z"
   },
   {
    "duration": 41,
    "start_time": "2022-02-06T14:20:32.736Z"
   },
   {
    "duration": 107,
    "start_time": "2022-02-06T14:20:32.778Z"
   },
   {
    "duration": 54,
    "start_time": "2022-02-06T14:20:32.887Z"
   },
   {
    "duration": 61,
    "start_time": "2022-02-06T14:20:32.943Z"
   },
   {
    "duration": 77,
    "start_time": "2022-02-06T14:20:33.006Z"
   },
   {
    "duration": 13,
    "start_time": "2022-02-06T14:20:33.085Z"
   },
   {
    "duration": 39,
    "start_time": "2022-02-06T14:20:36.708Z"
   },
   {
    "duration": 389,
    "start_time": "2022-02-06T14:20:54.310Z"
   },
   {
    "duration": 10,
    "start_time": "2022-02-06T14:21:02.751Z"
   },
   {
    "duration": 313,
    "start_time": "2022-02-06T14:21:25.787Z"
   },
   {
    "duration": 3,
    "start_time": "2022-02-06T14:21:35.756Z"
   },
   {
    "duration": 8483,
    "start_time": "2022-02-06T14:21:47.207Z"
   },
   {
    "duration": 7706,
    "start_time": "2022-02-06T14:22:03.251Z"
   },
   {
    "duration": 320,
    "start_time": "2022-02-06T14:22:22.651Z"
   },
   {
    "duration": 5,
    "start_time": "2022-02-06T14:22:28.234Z"
   },
   {
    "duration": 317,
    "start_time": "2022-02-06T14:22:43.003Z"
   },
   {
    "duration": 4,
    "start_time": "2022-02-06T14:22:53.905Z"
   },
   {
    "duration": 4,
    "start_time": "2022-02-06T14:22:58.199Z"
   },
   {
    "duration": 4,
    "start_time": "2022-02-06T14:23:02.769Z"
   },
   {
    "duration": 325,
    "start_time": "2022-02-06T14:23:46.075Z"
   },
   {
    "duration": 4,
    "start_time": "2022-02-06T14:23:51.219Z"
   },
   {
    "duration": 5,
    "start_time": "2022-02-06T14:23:53.671Z"
   },
   {
    "duration": 326,
    "start_time": "2022-02-06T14:25:20.946Z"
   },
   {
    "duration": 337,
    "start_time": "2022-02-06T14:30:30.617Z"
   },
   {
    "duration": 7,
    "start_time": "2022-02-06T14:30:41.459Z"
   },
   {
    "duration": 3,
    "start_time": "2022-02-06T14:31:30.144Z"
   },
   {
    "duration": 33,
    "start_time": "2022-02-06T14:31:34.341Z"
   },
   {
    "duration": 3,
    "start_time": "2022-02-06T14:31:40.662Z"
   },
   {
    "duration": 7,
    "start_time": "2022-02-06T14:32:50.749Z"
   },
   {
    "duration": 6,
    "start_time": "2022-02-06T14:32:57.183Z"
   },
   {
    "duration": 351,
    "start_time": "2022-02-06T14:33:03.815Z"
   },
   {
    "duration": 6,
    "start_time": "2022-02-06T14:33:21.905Z"
   },
   {
    "duration": 25,
    "start_time": "2022-02-06T14:34:28.793Z"
   },
   {
    "duration": 11,
    "start_time": "2022-02-06T14:34:32.826Z"
   },
   {
    "duration": 6,
    "start_time": "2022-02-06T14:35:29.467Z"
   },
   {
    "duration": 8,
    "start_time": "2022-02-06T14:36:19.380Z"
   },
   {
    "duration": 45,
    "start_time": "2022-02-06T14:36:25.628Z"
   },
   {
    "duration": 7,
    "start_time": "2022-02-06T14:36:29.394Z"
   },
   {
    "duration": 6,
    "start_time": "2022-02-06T14:36:35.618Z"
   },
   {
    "duration": 6,
    "start_time": "2022-02-06T14:36:39.234Z"
   },
   {
    "duration": 6,
    "start_time": "2022-02-06T14:36:42.803Z"
   },
   {
    "duration": 7,
    "start_time": "2022-02-06T14:37:08.687Z"
   },
   {
    "duration": 333,
    "start_time": "2022-02-06T14:37:40.286Z"
   },
   {
    "duration": 10,
    "start_time": "2022-02-06T14:37:51.411Z"
   },
   {
    "duration": 9,
    "start_time": "2022-02-06T14:37:57.047Z"
   },
   {
    "duration": 10,
    "start_time": "2022-02-06T14:38:01.757Z"
   },
   {
    "duration": 10,
    "start_time": "2022-02-06T14:38:13.641Z"
   },
   {
    "duration": 12,
    "start_time": "2022-02-06T14:38:46.549Z"
   },
   {
    "duration": 11,
    "start_time": "2022-02-06T14:38:52.945Z"
   },
   {
    "duration": 11,
    "start_time": "2022-02-06T14:38:57.792Z"
   },
   {
    "duration": 11,
    "start_time": "2022-02-06T14:38:59.700Z"
   },
   {
    "duration": 12,
    "start_time": "2022-02-06T14:39:02.181Z"
   },
   {
    "duration": 10,
    "start_time": "2022-02-06T14:39:09.068Z"
   },
   {
    "duration": 12,
    "start_time": "2022-02-06T14:39:20.457Z"
   },
   {
    "duration": 12,
    "start_time": "2022-02-06T14:39:24.685Z"
   },
   {
    "duration": 11,
    "start_time": "2022-02-06T14:39:27.293Z"
   },
   {
    "duration": 12,
    "start_time": "2022-02-06T14:39:29.807Z"
   },
   {
    "duration": 10,
    "start_time": "2022-02-06T14:39:34.368Z"
   },
   {
    "duration": 384,
    "start_time": "2022-02-06T14:40:38.647Z"
   },
   {
    "duration": 3,
    "start_time": "2022-02-06T14:40:39.033Z"
   },
   {
    "duration": 44,
    "start_time": "2022-02-06T14:40:39.037Z"
   },
   {
    "duration": 34,
    "start_time": "2022-02-06T14:40:39.083Z"
   },
   {
    "duration": 27,
    "start_time": "2022-02-06T14:40:39.118Z"
   },
   {
    "duration": 28,
    "start_time": "2022-02-06T14:40:39.146Z"
   },
   {
    "duration": 18,
    "start_time": "2022-02-06T14:40:39.175Z"
   },
   {
    "duration": 116,
    "start_time": "2022-02-06T14:40:39.194Z"
   },
   {
    "duration": 59,
    "start_time": "2022-02-06T14:40:39.313Z"
   },
   {
    "duration": 45,
    "start_time": "2022-02-06T14:40:39.374Z"
   },
   {
    "duration": 78,
    "start_time": "2022-02-06T14:40:39.420Z"
   },
   {
    "duration": 8,
    "start_time": "2022-02-06T14:40:39.500Z"
   },
   {
    "duration": 23,
    "start_time": "2022-02-06T14:40:39.510Z"
   },
   {
    "duration": 10,
    "start_time": "2022-02-06T14:40:39.535Z"
   },
   {
    "duration": 24416,
    "start_time": "2022-02-06T14:40:39.546Z"
   },
   {
    "duration": 22,
    "start_time": "2022-02-06T14:41:03.964Z"
   },
   {
    "duration": 46,
    "start_time": "2022-02-06T14:41:03.987Z"
   },
   {
    "duration": 72,
    "start_time": "2022-02-06T14:41:04.034Z"
   },
   {
    "duration": 347,
    "start_time": "2022-02-06T14:41:04.107Z"
   },
   {
    "duration": 200,
    "start_time": "2022-02-06T14:41:04.456Z"
   },
   {
    "duration": 225,
    "start_time": "2022-02-06T14:41:04.657Z"
   },
   {
    "duration": 210,
    "start_time": "2022-02-06T14:41:04.884Z"
   },
   {
    "duration": 208,
    "start_time": "2022-02-06T14:41:05.096Z"
   },
   {
    "duration": 7,
    "start_time": "2022-02-06T14:41:05.305Z"
   },
   {
    "duration": 4,
    "start_time": "2022-02-06T14:41:05.313Z"
   },
   {
    "duration": 7,
    "start_time": "2022-02-06T14:41:05.319Z"
   },
   {
    "duration": 9,
    "start_time": "2022-02-06T14:41:05.329Z"
   },
   {
    "duration": 21,
    "start_time": "2022-02-06T14:49:59.232Z"
   },
   {
    "duration": 16,
    "start_time": "2022-02-06T14:51:25.002Z"
   },
   {
    "duration": 286,
    "start_time": "2022-02-06T14:52:21.423Z"
   },
   {
    "duration": 26,
    "start_time": "2022-02-06T14:52:27.585Z"
   },
   {
    "duration": 17,
    "start_time": "2022-02-06T14:53:37.909Z"
   },
   {
    "duration": 23,
    "start_time": "2022-02-06T15:01:46.998Z"
   },
   {
    "duration": 47,
    "start_time": "2022-02-06T15:01:57.158Z"
   },
   {
    "duration": 13,
    "start_time": "2022-02-06T15:02:18.593Z"
   },
   {
    "duration": 109,
    "start_time": "2022-02-06T15:03:13.831Z"
   },
   {
    "duration": 31,
    "start_time": "2022-02-06T15:03:22.372Z"
   },
   {
    "duration": 338,
    "start_time": "2022-02-06T15:04:08.172Z"
   },
   {
    "duration": 35,
    "start_time": "2022-02-06T15:06:53.259Z"
   },
   {
    "duration": 23,
    "start_time": "2022-02-06T15:09:28.088Z"
   },
   {
    "duration": 34,
    "start_time": "2022-02-06T15:09:33.881Z"
   },
   {
    "duration": 225,
    "start_time": "2022-02-06T15:10:25.963Z"
   },
   {
    "duration": 187,
    "start_time": "2022-02-06T15:10:38.096Z"
   },
   {
    "duration": 189,
    "start_time": "2022-02-06T15:10:43.628Z"
   },
   {
    "duration": 184,
    "start_time": "2022-02-06T15:10:49.178Z"
   },
   {
    "duration": 185,
    "start_time": "2022-02-06T15:10:54.850Z"
   },
   {
    "duration": 190,
    "start_time": "2022-02-06T15:11:13.795Z"
   },
   {
    "duration": 36,
    "start_time": "2022-02-06T15:11:18.495Z"
   },
   {
    "duration": 403,
    "start_time": "2022-02-06T15:14:57.922Z"
   },
   {
    "duration": 2,
    "start_time": "2022-02-06T15:14:58.327Z"
   },
   {
    "duration": 45,
    "start_time": "2022-02-06T15:14:58.331Z"
   },
   {
    "duration": 36,
    "start_time": "2022-02-06T15:14:58.378Z"
   },
   {
    "duration": 30,
    "start_time": "2022-02-06T15:14:58.415Z"
   },
   {
    "duration": 11,
    "start_time": "2022-02-06T15:14:58.471Z"
   },
   {
    "duration": 89,
    "start_time": "2022-02-06T15:14:58.483Z"
   },
   {
    "duration": 79,
    "start_time": "2022-02-06T15:14:58.574Z"
   },
   {
    "duration": 60,
    "start_time": "2022-02-06T15:14:58.655Z"
   },
   {
    "duration": 58,
    "start_time": "2022-02-06T15:14:58.717Z"
   },
   {
    "duration": 67,
    "start_time": "2022-02-06T15:14:58.776Z"
   },
   {
    "duration": 9,
    "start_time": "2022-02-06T15:14:58.845Z"
   },
   {
    "duration": 39,
    "start_time": "2022-02-06T15:14:58.855Z"
   },
   {
    "duration": 16,
    "start_time": "2022-02-06T15:14:58.896Z"
   },
   {
    "duration": 24549,
    "start_time": "2022-02-06T15:14:58.914Z"
   },
   {
    "duration": 27,
    "start_time": "2022-02-06T15:15:23.465Z"
   },
   {
    "duration": 49,
    "start_time": "2022-02-06T15:15:23.493Z"
   },
   {
    "duration": 68,
    "start_time": "2022-02-06T15:15:23.543Z"
   },
   {
    "duration": 191,
    "start_time": "2022-02-06T15:19:56.005Z"
   },
   {
    "duration": 200,
    "start_time": "2022-02-06T15:20:36.374Z"
   },
   {
    "duration": 189,
    "start_time": "2022-02-06T15:20:58.644Z"
   },
   {
    "duration": 806,
    "start_time": "2022-02-06T15:21:12.049Z"
   },
   {
    "duration": 486,
    "start_time": "2022-02-06T15:21:20.581Z"
   },
   {
    "duration": 246,
    "start_time": "2022-02-06T15:21:39.404Z"
   },
   {
    "duration": 189,
    "start_time": "2022-02-06T15:22:21.157Z"
   },
   {
    "duration": 220,
    "start_time": "2022-02-06T15:22:40.424Z"
   },
   {
    "duration": 159,
    "start_time": "2022-02-06T15:23:04.820Z"
   },
   {
    "duration": 624,
    "start_time": "2022-02-06T15:23:16.849Z"
   },
   {
    "duration": 153,
    "start_time": "2022-02-06T15:23:44.010Z"
   },
   {
    "duration": 515,
    "start_time": "2022-02-06T15:23:55.924Z"
   },
   {
    "duration": 443,
    "start_time": "2022-02-06T15:24:03.452Z"
   },
   {
    "duration": 461,
    "start_time": "2022-02-06T15:24:13.071Z"
   },
   {
    "duration": 150,
    "start_time": "2022-02-06T15:24:25.153Z"
   },
   {
    "duration": 685,
    "start_time": "2022-02-06T15:24:36.753Z"
   },
   {
    "duration": 929,
    "start_time": "2022-02-06T15:24:44.597Z"
   },
   {
    "duration": 158,
    "start_time": "2022-02-06T15:24:51.000Z"
   },
   {
    "duration": 707,
    "start_time": "2022-02-06T15:28:24.488Z"
   },
   {
    "duration": 167,
    "start_time": "2022-02-06T15:28:39.959Z"
   },
   {
    "duration": 163,
    "start_time": "2022-02-06T15:28:50.419Z"
   },
   {
    "duration": 638,
    "start_time": "2022-02-06T15:29:10.952Z"
   },
   {
    "duration": 747,
    "start_time": "2022-02-06T15:29:16.928Z"
   },
   {
    "duration": 734,
    "start_time": "2022-02-06T15:32:47.524Z"
   },
   {
    "duration": 173,
    "start_time": "2022-02-06T15:32:58.032Z"
   },
   {
    "duration": 176,
    "start_time": "2022-02-06T15:33:06.536Z"
   },
   {
    "duration": 264,
    "start_time": "2022-02-06T15:33:12.893Z"
   },
   {
    "duration": 579,
    "start_time": "2022-02-06T15:33:27.531Z"
   },
   {
    "duration": 162,
    "start_time": "2022-02-06T15:33:38.586Z"
   },
   {
    "duration": 785,
    "start_time": "2022-02-06T15:34:45.457Z"
   },
   {
    "duration": 313,
    "start_time": "2022-02-06T15:34:55.926Z"
   },
   {
    "duration": 188,
    "start_time": "2022-02-06T15:35:17.661Z"
   },
   {
    "duration": 188,
    "start_time": "2022-02-06T15:35:24.484Z"
   },
   {
    "duration": 206,
    "start_time": "2022-02-06T15:35:33.208Z"
   },
   {
    "duration": 201,
    "start_time": "2022-02-06T15:36:43.524Z"
   },
   {
    "duration": 192,
    "start_time": "2022-02-06T15:37:40.360Z"
   },
   {
    "duration": 232,
    "start_time": "2022-02-06T15:38:24.756Z"
   },
   {
    "duration": 202,
    "start_time": "2022-02-06T15:39:50.812Z"
   },
   {
    "duration": 198,
    "start_time": "2022-02-06T15:40:39.791Z"
   },
   {
    "duration": 200,
    "start_time": "2022-02-06T15:41:48.391Z"
   },
   {
    "duration": 4,
    "start_time": "2022-02-06T15:45:05.767Z"
   },
   {
    "duration": 387,
    "start_time": "2022-02-06T15:45:37.149Z"
   },
   {
    "duration": 3,
    "start_time": "2022-02-06T15:45:37.538Z"
   },
   {
    "duration": 42,
    "start_time": "2022-02-06T15:45:37.543Z"
   },
   {
    "duration": 35,
    "start_time": "2022-02-06T15:45:37.586Z"
   },
   {
    "duration": 28,
    "start_time": "2022-02-06T15:45:37.623Z"
   },
   {
    "duration": 12,
    "start_time": "2022-02-06T15:45:37.672Z"
   },
   {
    "duration": 17,
    "start_time": "2022-02-06T15:45:37.685Z"
   },
   {
    "duration": 100,
    "start_time": "2022-02-06T15:45:37.704Z"
   },
   {
    "duration": 54,
    "start_time": "2022-02-06T15:45:37.806Z"
   },
   {
    "duration": 45,
    "start_time": "2022-02-06T15:45:37.872Z"
   },
   {
    "duration": 83,
    "start_time": "2022-02-06T15:45:37.919Z"
   },
   {
    "duration": 9,
    "start_time": "2022-02-06T15:45:38.003Z"
   },
   {
    "duration": 26,
    "start_time": "2022-02-06T15:45:38.013Z"
   },
   {
    "duration": 38,
    "start_time": "2022-02-06T15:45:38.041Z"
   },
   {
    "duration": 25142,
    "start_time": "2022-02-06T15:45:38.081Z"
   },
   {
    "duration": 20,
    "start_time": "2022-02-06T15:46:03.224Z"
   },
   {
    "duration": 65,
    "start_time": "2022-02-06T15:46:03.246Z"
   },
   {
    "duration": 64,
    "start_time": "2022-02-06T15:46:03.313Z"
   },
   {
    "duration": 205,
    "start_time": "2022-02-06T15:46:03.379Z"
   },
   {
    "duration": 209,
    "start_time": "2022-02-06T15:46:03.585Z"
   },
   {
    "duration": 228,
    "start_time": "2022-02-06T15:46:03.796Z"
   },
   {
    "duration": 208,
    "start_time": "2022-02-06T15:46:04.025Z"
   },
   {
    "duration": 211,
    "start_time": "2022-02-06T15:46:04.236Z"
   },
   {
    "duration": 44,
    "start_time": "2022-02-06T15:46:04.449Z"
   },
   {
    "duration": 4,
    "start_time": "2022-02-06T15:46:04.495Z"
   },
   {
    "duration": 8,
    "start_time": "2022-02-06T15:46:04.500Z"
   },
   {
    "duration": 10,
    "start_time": "2022-02-06T15:46:04.510Z"
   },
   {
    "duration": 5,
    "start_time": "2022-02-06T15:49:47.774Z"
   },
   {
    "duration": 7,
    "start_time": "2022-02-06T15:52:10.076Z"
   },
   {
    "duration": 9,
    "start_time": "2022-02-06T15:52:18.685Z"
   },
   {
    "duration": 9,
    "start_time": "2022-02-06T15:52:47.123Z"
   },
   {
    "duration": 7,
    "start_time": "2022-02-06T15:52:53.007Z"
   },
   {
    "duration": 6,
    "start_time": "2022-02-06T16:00:17.146Z"
   },
   {
    "duration": 6,
    "start_time": "2022-02-06T16:00:25.194Z"
   },
   {
    "duration": 12,
    "start_time": "2022-02-06T16:00:37.486Z"
   },
   {
    "duration": 72,
    "start_time": "2022-02-06T16:00:43.597Z"
   },
   {
    "duration": 5,
    "start_time": "2022-02-06T16:01:29.212Z"
   },
   {
    "duration": 5,
    "start_time": "2022-02-06T16:01:31.304Z"
   },
   {
    "duration": 155,
    "start_time": "2022-02-06T16:01:42.798Z"
   },
   {
    "duration": 162,
    "start_time": "2022-02-06T16:01:50.495Z"
   },
   {
    "duration": 183,
    "start_time": "2022-02-06T16:02:47.792Z"
   },
   {
    "duration": 177,
    "start_time": "2022-02-06T16:03:10.833Z"
   },
   {
    "duration": 189,
    "start_time": "2022-02-06T16:03:13.755Z"
   },
   {
    "duration": 189,
    "start_time": "2022-02-06T16:03:24.722Z"
   },
   {
    "duration": 173,
    "start_time": "2022-02-06T16:03:31.717Z"
   },
   {
    "duration": 354,
    "start_time": "2022-02-06T16:43:55.597Z"
   },
   {
    "duration": 2,
    "start_time": "2022-02-06T16:43:55.953Z"
   },
   {
    "duration": 42,
    "start_time": "2022-02-06T16:43:55.957Z"
   },
   {
    "duration": 35,
    "start_time": "2022-02-06T16:43:56.000Z"
   },
   {
    "duration": 52,
    "start_time": "2022-02-06T16:43:56.037Z"
   },
   {
    "duration": 13,
    "start_time": "2022-02-06T16:43:56.090Z"
   },
   {
    "duration": 16,
    "start_time": "2022-02-06T16:43:56.105Z"
   },
   {
    "duration": 109,
    "start_time": "2022-02-06T16:43:56.123Z"
   },
   {
    "duration": 60,
    "start_time": "2022-02-06T16:43:56.235Z"
   },
   {
    "duration": 44,
    "start_time": "2022-02-06T16:43:56.297Z"
   },
   {
    "duration": 76,
    "start_time": "2022-02-06T16:43:56.342Z"
   },
   {
    "duration": 9,
    "start_time": "2022-02-06T16:43:56.419Z"
   },
   {
    "duration": 24,
    "start_time": "2022-02-06T16:43:56.430Z"
   },
   {
    "duration": 33,
    "start_time": "2022-02-06T16:43:56.455Z"
   },
   {
    "duration": 25139,
    "start_time": "2022-02-06T16:43:56.489Z"
   },
   {
    "duration": 22,
    "start_time": "2022-02-06T16:44:21.629Z"
   },
   {
    "duration": 68,
    "start_time": "2022-02-06T16:44:21.652Z"
   },
   {
    "duration": 64,
    "start_time": "2022-02-06T16:44:21.721Z"
   },
   {
    "duration": 202,
    "start_time": "2022-02-06T16:44:21.787Z"
   },
   {
    "duration": 200,
    "start_time": "2022-02-06T16:44:21.991Z"
   },
   {
    "duration": 218,
    "start_time": "2022-02-06T16:44:22.193Z"
   },
   {
    "duration": 200,
    "start_time": "2022-02-06T16:44:22.412Z"
   },
   {
    "duration": 200,
    "start_time": "2022-02-06T16:44:22.614Z"
   },
   {
    "duration": 34,
    "start_time": "2022-02-06T16:44:22.815Z"
   },
   {
    "duration": 6,
    "start_time": "2022-02-06T16:44:22.850Z"
   },
   {
    "duration": 5,
    "start_time": "2022-02-06T16:44:22.871Z"
   },
   {
    "duration": 9,
    "start_time": "2022-02-06T16:44:22.879Z"
   }
  ],
  "kernelspec": {
   "display_name": "Python 3 (ipykernel)",
   "language": "python",
   "name": "python3"
  },
  "language_info": {
   "codemirror_mode": {
    "name": "ipython",
    "version": 3
   },
   "file_extension": ".py",
   "mimetype": "text/x-python",
   "name": "python",
   "nbconvert_exporter": "python",
   "pygments_lexer": "ipython3",
   "version": "3.9.7"
  },
  "toc": {
   "base_numbering": 1,
   "nav_menu": {},
   "number_sections": true,
   "sideBar": true,
   "skip_h1_title": true,
   "title_cell": "Table of Contents",
   "title_sidebar": "Contents",
   "toc_cell": false,
   "toc_position": {},
   "toc_section_display": true,
   "toc_window_display": false
  }
 },
 "nbformat": 4,
 "nbformat_minor": 2
}
