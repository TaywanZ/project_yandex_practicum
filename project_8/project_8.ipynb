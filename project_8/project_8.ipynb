{
 "cells": [
  {
   "cell_type": "markdown",
   "metadata": {
    "toc": true
   },
   "source": [
    "<h1>Содержание<span class=\"tocSkip\"></span></h1>\n",
    "<div class=\"toc\"><ul class=\"toc-item\"><li><span><a href=\"#Подготовка-данных\" data-toc-modified-id=\"Подготовка-данных-1\"><span class=\"toc-item-num\">1&nbsp;&nbsp;</span>Подготовка данных</a></span><ul class=\"toc-item\"><li><span><a href=\"#Импорт-данных-и-первизное-ознакомление\" data-toc-modified-id=\"Импорт-данных-и-первизное-ознакомление-1.1\"><span class=\"toc-item-num\">1.1&nbsp;&nbsp;</span>Импорт данных и первизное ознакомление</a></span></li><li><span><a href=\"#Проверка-рассчёта-эффективности-обогащения\" data-toc-modified-id=\"Проверка-рассчёта-эффективности-обогащения-1.2\"><span class=\"toc-item-num\">1.2&nbsp;&nbsp;</span>Проверка рассчёта эффективности обогащения</a></span></li><li><span><a href=\"#Анализ-признаков\" data-toc-modified-id=\"Анализ-признаков-1.3\"><span class=\"toc-item-num\">1.3&nbsp;&nbsp;</span>Анализ признаков</a></span></li><li><span><a href=\"#Предобработка-данных\" data-toc-modified-id=\"Предобработка-данных-1.4\"><span class=\"toc-item-num\">1.4&nbsp;&nbsp;</span>Предобработка данных</a></span></li><li><span><a href=\"#Вывод\" data-toc-modified-id=\"Вывод-1.5\"><span class=\"toc-item-num\">1.5&nbsp;&nbsp;</span>Вывод</a></span></li></ul></li><li><span><a href=\"#Анализ-данных\" data-toc-modified-id=\"Анализ-данных-2\"><span class=\"toc-item-num\">2&nbsp;&nbsp;</span>Анализ данных</a></span><ul class=\"toc-item\"><li><span><a href=\"#Исследование-изменения-конентрации-металлов\" data-toc-modified-id=\"Исследование-изменения-конентрации-металлов-2.1\"><span class=\"toc-item-num\">2.1&nbsp;&nbsp;</span>Исследование изменения конентрации металлов</a></span></li><li><span><a href=\"#Исследование-распределения-гранул\" data-toc-modified-id=\"Исследование-распределения-гранул-2.2\"><span class=\"toc-item-num\">2.2&nbsp;&nbsp;</span>Исследование распределения гранул</a></span></li><li><span><a href=\"#Исследование-суммарной-концентрации-веществ.\" data-toc-modified-id=\"Исследование-суммарной-концентрации-веществ.-2.3\"><span class=\"toc-item-num\">2.3&nbsp;&nbsp;</span>Исследование суммарной концентрации веществ.</a></span></li><li><span><a href=\"#Выводы\" data-toc-modified-id=\"Выводы-2.4\"><span class=\"toc-item-num\">2.4&nbsp;&nbsp;</span>Выводы</a></span></li></ul></li><li><span><a href=\"#Модель\" data-toc-modified-id=\"Модель-3\"><span class=\"toc-item-num\">3&nbsp;&nbsp;</span>Модель</a></span><ul class=\"toc-item\"><li><span><a href=\"#Подготовка-признаков-и-функции-оценки\" data-toc-modified-id=\"Подготовка-признаков-и-функции-оценки-3.1\"><span class=\"toc-item-num\">3.1&nbsp;&nbsp;</span>Подготовка признаков и функции оценки</a></span></li><li><span><a href=\"#Обучение-моделей-и-поиск-наилучшей\" data-toc-modified-id=\"Обучение-моделей-и-поиск-наилучшей-3.2\"><span class=\"toc-item-num\">3.2&nbsp;&nbsp;</span>Обучение моделей и поиск наилучшей</a></span></li><li><span><a href=\"#Проверка-на-тестовой-выборке\" data-toc-modified-id=\"Проверка-на-тестовой-выборке-3.3\"><span class=\"toc-item-num\">3.3&nbsp;&nbsp;</span>Проверка на тестовой выборке</a></span></li></ul></li><li><span><a href=\"#Выводы\" data-toc-modified-id=\"Выводы-4\"><span class=\"toc-item-num\">4&nbsp;&nbsp;</span>Выводы</a></span></li><li><span><a href=\"#Чек-лист-готовности-проекта\" data-toc-modified-id=\"Чек-лист-готовности-проекта-5\"><span class=\"toc-item-num\">5&nbsp;&nbsp;</span>Чек-лист готовности проекта</a></span></li></ul></div>"
   ]
  },
  {
   "cell_type": "markdown",
   "metadata": {},
   "source": [
    "# Восстановление золота из руды"
   ]
  },
  {
   "cell_type": "markdown",
   "metadata": {},
   "source": [
    "## Подготовка данных"
   ]
  },
  {
   "cell_type": "markdown",
   "metadata": {},
   "source": [
    "### Импорт данных и первичное ознакомление"
   ]
  },
  {
   "cell_type": "markdown",
   "metadata": {},
   "source": [
    "Произведем импорт необходимых библиотек."
   ]
  },
  {
   "cell_type": "code",
   "execution_count": 1,
   "metadata": {},
   "outputs": [],
   "source": [
    "import pandas as pd\n",
    "import numpy as np\n",
    "import seaborn as sns\n",
    "import matplotlib.pyplot as plt\n",
    "import copy\n",
    "from scipy import stats as st\n",
    "from sklearn.metrics import mean_absolute_error, make_scorer\n",
    "from sklearn.model_selection import train_test_split, cross_val_score, GridSearchCV\n",
    "from sklearn.linear_model import LinearRegression\n",
    "from sklearn.ensemble import RandomForestRegressor\n",
    "from sklearn.tree import DecisionTreeRegressor\n",
    "from sklearn.dummy import DummyRegressor"
   ]
  },
  {
   "cell_type": "markdown",
   "metadata": {},
   "source": [
    "Далее, произведем подгрзуку данных, и настройку отображения."
   ]
  },
  {
   "cell_type": "code",
   "execution_count": 2,
   "metadata": {},
   "outputs": [],
   "source": [
    "pd.set_option('display.max_columns', None)\n",
    "pd.set_option('display.max_rows', None)\n",
    "pd.set_option('display.float_format', '{:.2f}'.format)"
   ]
  },
  {
   "cell_type": "code",
   "execution_count": 3,
   "metadata": {},
   "outputs": [],
   "source": [
    "data_train = pd.read_csv('/datasets/gold_recovery_train_new.csv')\n",
    "data_test = pd.read_csv('/datasets/gold_recovery_test_new.csv')\n",
    "data_all = pd.read_csv('/datasets/gold_recovery_full_new.csv')"
   ]
  },
  {
   "cell_type": "markdown",
   "metadata": {},
   "source": [
    "Подготовим функию, которая будет выводить основные данные о подгруженных фреймов."
   ]
  },
  {
   "cell_type": "code",
   "execution_count": 4,
   "metadata": {},
   "outputs": [],
   "source": [
    "def data_info(data):\n",
    "    print(data.info())\n",
    "    print((data.isna().sum() / data.shape[0]) * 100)\n",
    "    display(data.head())"
   ]
  },
  {
   "cell_type": "markdown",
   "metadata": {},
   "source": [
    "Автоматизируем процесс вывода данных цикл. Ознакомимся с данными."
   ]
  },
  {
   "cell_type": "code",
   "execution_count": 5,
   "metadata": {
    "scrolled": false
   },
   "outputs": [
    {
     "name": "stdout",
     "output_type": "stream",
     "text": [
      "<class 'pandas.core.frame.DataFrame'>\n",
      "RangeIndex: 14149 entries, 0 to 14148\n",
      "Data columns (total 87 columns):\n",
      " #   Column                                              Non-Null Count  Dtype  \n",
      "---  ------                                              --------------  -----  \n",
      " 0   date                                                14149 non-null  object \n",
      " 1   final.output.concentrate_ag                         14148 non-null  float64\n",
      " 2   final.output.concentrate_pb                         14148 non-null  float64\n",
      " 3   final.output.concentrate_sol                        13938 non-null  float64\n",
      " 4   final.output.concentrate_au                         14149 non-null  float64\n",
      " 5   final.output.recovery                               14149 non-null  float64\n",
      " 6   final.output.tail_ag                                14149 non-null  float64\n",
      " 7   final.output.tail_pb                                14049 non-null  float64\n",
      " 8   final.output.tail_sol                               14144 non-null  float64\n",
      " 9   final.output.tail_au                                14149 non-null  float64\n",
      " 10  primary_cleaner.input.sulfate                       14129 non-null  float64\n",
      " 11  primary_cleaner.input.depressant                    14117 non-null  float64\n",
      " 12  primary_cleaner.input.feed_size                     14149 non-null  float64\n",
      " 13  primary_cleaner.input.xanthate                      14049 non-null  float64\n",
      " 14  primary_cleaner.output.concentrate_ag               14149 non-null  float64\n",
      " 15  primary_cleaner.output.concentrate_pb               14063 non-null  float64\n",
      " 16  primary_cleaner.output.concentrate_sol              13863 non-null  float64\n",
      " 17  primary_cleaner.output.concentrate_au               14149 non-null  float64\n",
      " 18  primary_cleaner.output.tail_ag                      14148 non-null  float64\n",
      " 19  primary_cleaner.output.tail_pb                      14134 non-null  float64\n",
      " 20  primary_cleaner.output.tail_sol                     14103 non-null  float64\n",
      " 21  primary_cleaner.output.tail_au                      14149 non-null  float64\n",
      " 22  primary_cleaner.state.floatbank8_a_air              14145 non-null  float64\n",
      " 23  primary_cleaner.state.floatbank8_a_level            14148 non-null  float64\n",
      " 24  primary_cleaner.state.floatbank8_b_air              14145 non-null  float64\n",
      " 25  primary_cleaner.state.floatbank8_b_level            14148 non-null  float64\n",
      " 26  primary_cleaner.state.floatbank8_c_air              14147 non-null  float64\n",
      " 27  primary_cleaner.state.floatbank8_c_level            14148 non-null  float64\n",
      " 28  primary_cleaner.state.floatbank8_d_air              14146 non-null  float64\n",
      " 29  primary_cleaner.state.floatbank8_d_level            14148 non-null  float64\n",
      " 30  rougher.calculation.sulfate_to_au_concentrate       14148 non-null  float64\n",
      " 31  rougher.calculation.floatbank10_sulfate_to_au_feed  14148 non-null  float64\n",
      " 32  rougher.calculation.floatbank11_sulfate_to_au_feed  14148 non-null  float64\n",
      " 33  rougher.calculation.au_pb_ratio                     14149 non-null  float64\n",
      " 34  rougher.input.feed_ag                               14149 non-null  float64\n",
      " 35  rougher.input.feed_pb                               14049 non-null  float64\n",
      " 36  rougher.input.feed_rate                             14141 non-null  float64\n",
      " 37  rougher.input.feed_size                             14005 non-null  float64\n",
      " 38  rougher.input.feed_sol                              14071 non-null  float64\n",
      " 39  rougher.input.feed_au                               14149 non-null  float64\n",
      " 40  rougher.input.floatbank10_sulfate                   14120 non-null  float64\n",
      " 41  rougher.input.floatbank10_xanthate                  14141 non-null  float64\n",
      " 42  rougher.input.floatbank11_sulfate                   14113 non-null  float64\n",
      " 43  rougher.input.floatbank11_xanthate                  13721 non-null  float64\n",
      " 44  rougher.output.concentrate_ag                       14149 non-null  float64\n",
      " 45  rougher.output.concentrate_pb                       14149 non-null  float64\n",
      " 46  rougher.output.concentrate_sol                      14127 non-null  float64\n",
      " 47  rougher.output.concentrate_au                       14149 non-null  float64\n",
      " 48  rougher.output.recovery                             14149 non-null  float64\n",
      " 49  rougher.output.tail_ag                              14148 non-null  float64\n",
      " 50  rougher.output.tail_pb                              14149 non-null  float64\n",
      " 51  rougher.output.tail_sol                             14149 non-null  float64\n",
      " 52  rougher.output.tail_au                              14149 non-null  float64\n",
      " 53  rougher.state.floatbank10_a_air                     14148 non-null  float64\n",
      " 54  rougher.state.floatbank10_a_level                   14148 non-null  float64\n",
      " 55  rougher.state.floatbank10_b_air                     14148 non-null  float64\n",
      " 56  rougher.state.floatbank10_b_level                   14148 non-null  float64\n",
      " 57  rougher.state.floatbank10_c_air                     14148 non-null  float64\n",
      " 58  rougher.state.floatbank10_c_level                   14148 non-null  float64\n",
      " 59  rougher.state.floatbank10_d_air                     14149 non-null  float64\n",
      " 60  rougher.state.floatbank10_d_level                   14149 non-null  float64\n",
      " 61  rougher.state.floatbank10_e_air                     13713 non-null  float64\n",
      " 62  rougher.state.floatbank10_e_level                   14149 non-null  float64\n",
      " 63  rougher.state.floatbank10_f_air                     14149 non-null  float64\n",
      " 64  rougher.state.floatbank10_f_level                   14149 non-null  float64\n",
      " 65  secondary_cleaner.output.tail_ag                    14147 non-null  float64\n",
      " 66  secondary_cleaner.output.tail_pb                    14139 non-null  float64\n",
      " 67  secondary_cleaner.output.tail_sol                   12544 non-null  float64\n",
      " 68  secondary_cleaner.output.tail_au                    14149 non-null  float64\n",
      " 69  secondary_cleaner.state.floatbank2_a_air            13932 non-null  float64\n",
      " 70  secondary_cleaner.state.floatbank2_a_level          14148 non-null  float64\n",
      " 71  secondary_cleaner.state.floatbank2_b_air            14128 non-null  float64\n",
      " 72  secondary_cleaner.state.floatbank2_b_level          14148 non-null  float64\n",
      " 73  secondary_cleaner.state.floatbank3_a_air            14145 non-null  float64\n",
      " 74  secondary_cleaner.state.floatbank3_a_level          14148 non-null  float64\n",
      " 75  secondary_cleaner.state.floatbank3_b_air            14148 non-null  float64\n",
      " 76  secondary_cleaner.state.floatbank3_b_level          14148 non-null  float64\n",
      " 77  secondary_cleaner.state.floatbank4_a_air            14143 non-null  float64\n",
      " 78  secondary_cleaner.state.floatbank4_a_level          14148 non-null  float64\n",
      " 79  secondary_cleaner.state.floatbank4_b_air            14148 non-null  float64\n",
      " 80  secondary_cleaner.state.floatbank4_b_level          14148 non-null  float64\n",
      " 81  secondary_cleaner.state.floatbank5_a_air            14148 non-null  float64\n",
      " 82  secondary_cleaner.state.floatbank5_a_level          14148 non-null  float64\n",
      " 83  secondary_cleaner.state.floatbank5_b_air            14148 non-null  float64\n",
      " 84  secondary_cleaner.state.floatbank5_b_level          14148 non-null  float64\n",
      " 85  secondary_cleaner.state.floatbank6_a_air            14147 non-null  float64\n",
      " 86  secondary_cleaner.state.floatbank6_a_level          14148 non-null  float64\n",
      "dtypes: float64(86), object(1)\n",
      "memory usage: 9.4+ MB\n",
      "None\n",
      "date                                                  0.00\n",
      "final.output.concentrate_ag                           0.01\n",
      "final.output.concentrate_pb                           0.01\n",
      "final.output.concentrate_sol                          1.49\n",
      "final.output.concentrate_au                           0.00\n",
      "final.output.recovery                                 0.00\n",
      "final.output.tail_ag                                  0.00\n",
      "final.output.tail_pb                                  0.71\n",
      "final.output.tail_sol                                 0.04\n",
      "final.output.tail_au                                  0.00\n",
      "primary_cleaner.input.sulfate                         0.14\n",
      "primary_cleaner.input.depressant                      0.23\n",
      "primary_cleaner.input.feed_size                       0.00\n",
      "primary_cleaner.input.xanthate                        0.71\n",
      "primary_cleaner.output.concentrate_ag                 0.00\n",
      "primary_cleaner.output.concentrate_pb                 0.61\n",
      "primary_cleaner.output.concentrate_sol                2.02\n",
      "primary_cleaner.output.concentrate_au                 0.00\n",
      "primary_cleaner.output.tail_ag                        0.01\n",
      "primary_cleaner.output.tail_pb                        0.11\n",
      "primary_cleaner.output.tail_sol                       0.33\n",
      "primary_cleaner.output.tail_au                        0.00\n",
      "primary_cleaner.state.floatbank8_a_air                0.03\n",
      "primary_cleaner.state.floatbank8_a_level              0.01\n",
      "primary_cleaner.state.floatbank8_b_air                0.03\n",
      "primary_cleaner.state.floatbank8_b_level              0.01\n",
      "primary_cleaner.state.floatbank8_c_air                0.01\n",
      "primary_cleaner.state.floatbank8_c_level              0.01\n",
      "primary_cleaner.state.floatbank8_d_air                0.02\n",
      "primary_cleaner.state.floatbank8_d_level              0.01\n",
      "rougher.calculation.sulfate_to_au_concentrate         0.01\n",
      "rougher.calculation.floatbank10_sulfate_to_au_feed    0.01\n",
      "rougher.calculation.floatbank11_sulfate_to_au_feed    0.01\n",
      "rougher.calculation.au_pb_ratio                       0.00\n",
      "rougher.input.feed_ag                                 0.00\n",
      "rougher.input.feed_pb                                 0.71\n",
      "rougher.input.feed_rate                               0.06\n",
      "rougher.input.feed_size                               1.02\n",
      "rougher.input.feed_sol                                0.55\n",
      "rougher.input.feed_au                                 0.00\n",
      "rougher.input.floatbank10_sulfate                     0.20\n",
      "rougher.input.floatbank10_xanthate                    0.06\n",
      "rougher.input.floatbank11_sulfate                     0.25\n",
      "rougher.input.floatbank11_xanthate                    3.02\n",
      "rougher.output.concentrate_ag                         0.00\n",
      "rougher.output.concentrate_pb                         0.00\n",
      "rougher.output.concentrate_sol                        0.16\n",
      "rougher.output.concentrate_au                         0.00\n",
      "rougher.output.recovery                               0.00\n",
      "rougher.output.tail_ag                                0.01\n",
      "rougher.output.tail_pb                                0.00\n",
      "rougher.output.tail_sol                               0.00\n",
      "rougher.output.tail_au                                0.00\n",
      "rougher.state.floatbank10_a_air                       0.01\n",
      "rougher.state.floatbank10_a_level                     0.01\n",
      "rougher.state.floatbank10_b_air                       0.01\n",
      "rougher.state.floatbank10_b_level                     0.01\n",
      "rougher.state.floatbank10_c_air                       0.01\n",
      "rougher.state.floatbank10_c_level                     0.01\n",
      "rougher.state.floatbank10_d_air                       0.00\n",
      "rougher.state.floatbank10_d_level                     0.00\n",
      "rougher.state.floatbank10_e_air                       3.08\n",
      "rougher.state.floatbank10_e_level                     0.00\n",
      "rougher.state.floatbank10_f_air                       0.00\n",
      "rougher.state.floatbank10_f_level                     0.00\n",
      "secondary_cleaner.output.tail_ag                      0.01\n",
      "secondary_cleaner.output.tail_pb                      0.07\n",
      "secondary_cleaner.output.tail_sol                    11.34\n",
      "secondary_cleaner.output.tail_au                      0.00\n",
      "secondary_cleaner.state.floatbank2_a_air              1.53\n",
      "secondary_cleaner.state.floatbank2_a_level            0.01\n",
      "secondary_cleaner.state.floatbank2_b_air              0.15\n",
      "secondary_cleaner.state.floatbank2_b_level            0.01\n",
      "secondary_cleaner.state.floatbank3_a_air              0.03\n",
      "secondary_cleaner.state.floatbank3_a_level            0.01\n",
      "secondary_cleaner.state.floatbank3_b_air              0.01\n",
      "secondary_cleaner.state.floatbank3_b_level            0.01\n",
      "secondary_cleaner.state.floatbank4_a_air              0.04\n",
      "secondary_cleaner.state.floatbank4_a_level            0.01\n",
      "secondary_cleaner.state.floatbank4_b_air              0.01\n",
      "secondary_cleaner.state.floatbank4_b_level            0.01\n",
      "secondary_cleaner.state.floatbank5_a_air              0.01\n",
      "secondary_cleaner.state.floatbank5_a_level            0.01\n",
      "secondary_cleaner.state.floatbank5_b_air              0.01\n",
      "secondary_cleaner.state.floatbank5_b_level            0.01\n",
      "secondary_cleaner.state.floatbank6_a_air              0.01\n",
      "secondary_cleaner.state.floatbank6_a_level            0.01\n",
      "dtype: float64\n"
     ]
    },
    {
     "data": {
      "text/html": [
       "<div>\n",
       "<style scoped>\n",
       "    .dataframe tbody tr th:only-of-type {\n",
       "        vertical-align: middle;\n",
       "    }\n",
       "\n",
       "    .dataframe tbody tr th {\n",
       "        vertical-align: top;\n",
       "    }\n",
       "\n",
       "    .dataframe thead th {\n",
       "        text-align: right;\n",
       "    }\n",
       "</style>\n",
       "<table border=\"1\" class=\"dataframe\">\n",
       "  <thead>\n",
       "    <tr style=\"text-align: right;\">\n",
       "      <th></th>\n",
       "      <th>date</th>\n",
       "      <th>final.output.concentrate_ag</th>\n",
       "      <th>final.output.concentrate_pb</th>\n",
       "      <th>final.output.concentrate_sol</th>\n",
       "      <th>final.output.concentrate_au</th>\n",
       "      <th>final.output.recovery</th>\n",
       "      <th>final.output.tail_ag</th>\n",
       "      <th>final.output.tail_pb</th>\n",
       "      <th>final.output.tail_sol</th>\n",
       "      <th>final.output.tail_au</th>\n",
       "      <th>primary_cleaner.input.sulfate</th>\n",
       "      <th>primary_cleaner.input.depressant</th>\n",
       "      <th>primary_cleaner.input.feed_size</th>\n",
       "      <th>primary_cleaner.input.xanthate</th>\n",
       "      <th>primary_cleaner.output.concentrate_ag</th>\n",
       "      <th>primary_cleaner.output.concentrate_pb</th>\n",
       "      <th>primary_cleaner.output.concentrate_sol</th>\n",
       "      <th>primary_cleaner.output.concentrate_au</th>\n",
       "      <th>primary_cleaner.output.tail_ag</th>\n",
       "      <th>primary_cleaner.output.tail_pb</th>\n",
       "      <th>primary_cleaner.output.tail_sol</th>\n",
       "      <th>primary_cleaner.output.tail_au</th>\n",
       "      <th>primary_cleaner.state.floatbank8_a_air</th>\n",
       "      <th>primary_cleaner.state.floatbank8_a_level</th>\n",
       "      <th>primary_cleaner.state.floatbank8_b_air</th>\n",
       "      <th>primary_cleaner.state.floatbank8_b_level</th>\n",
       "      <th>primary_cleaner.state.floatbank8_c_air</th>\n",
       "      <th>primary_cleaner.state.floatbank8_c_level</th>\n",
       "      <th>primary_cleaner.state.floatbank8_d_air</th>\n",
       "      <th>primary_cleaner.state.floatbank8_d_level</th>\n",
       "      <th>rougher.calculation.sulfate_to_au_concentrate</th>\n",
       "      <th>rougher.calculation.floatbank10_sulfate_to_au_feed</th>\n",
       "      <th>rougher.calculation.floatbank11_sulfate_to_au_feed</th>\n",
       "      <th>rougher.calculation.au_pb_ratio</th>\n",
       "      <th>rougher.input.feed_ag</th>\n",
       "      <th>rougher.input.feed_pb</th>\n",
       "      <th>rougher.input.feed_rate</th>\n",
       "      <th>rougher.input.feed_size</th>\n",
       "      <th>rougher.input.feed_sol</th>\n",
       "      <th>rougher.input.feed_au</th>\n",
       "      <th>rougher.input.floatbank10_sulfate</th>\n",
       "      <th>rougher.input.floatbank10_xanthate</th>\n",
       "      <th>rougher.input.floatbank11_sulfate</th>\n",
       "      <th>rougher.input.floatbank11_xanthate</th>\n",
       "      <th>rougher.output.concentrate_ag</th>\n",
       "      <th>rougher.output.concentrate_pb</th>\n",
       "      <th>rougher.output.concentrate_sol</th>\n",
       "      <th>rougher.output.concentrate_au</th>\n",
       "      <th>rougher.output.recovery</th>\n",
       "      <th>rougher.output.tail_ag</th>\n",
       "      <th>rougher.output.tail_pb</th>\n",
       "      <th>rougher.output.tail_sol</th>\n",
       "      <th>rougher.output.tail_au</th>\n",
       "      <th>rougher.state.floatbank10_a_air</th>\n",
       "      <th>rougher.state.floatbank10_a_level</th>\n",
       "      <th>rougher.state.floatbank10_b_air</th>\n",
       "      <th>rougher.state.floatbank10_b_level</th>\n",
       "      <th>rougher.state.floatbank10_c_air</th>\n",
       "      <th>rougher.state.floatbank10_c_level</th>\n",
       "      <th>rougher.state.floatbank10_d_air</th>\n",
       "      <th>rougher.state.floatbank10_d_level</th>\n",
       "      <th>rougher.state.floatbank10_e_air</th>\n",
       "      <th>rougher.state.floatbank10_e_level</th>\n",
       "      <th>rougher.state.floatbank10_f_air</th>\n",
       "      <th>rougher.state.floatbank10_f_level</th>\n",
       "      <th>secondary_cleaner.output.tail_ag</th>\n",
       "      <th>secondary_cleaner.output.tail_pb</th>\n",
       "      <th>secondary_cleaner.output.tail_sol</th>\n",
       "      <th>secondary_cleaner.output.tail_au</th>\n",
       "      <th>secondary_cleaner.state.floatbank2_a_air</th>\n",
       "      <th>secondary_cleaner.state.floatbank2_a_level</th>\n",
       "      <th>secondary_cleaner.state.floatbank2_b_air</th>\n",
       "      <th>secondary_cleaner.state.floatbank2_b_level</th>\n",
       "      <th>secondary_cleaner.state.floatbank3_a_air</th>\n",
       "      <th>secondary_cleaner.state.floatbank3_a_level</th>\n",
       "      <th>secondary_cleaner.state.floatbank3_b_air</th>\n",
       "      <th>secondary_cleaner.state.floatbank3_b_level</th>\n",
       "      <th>secondary_cleaner.state.floatbank4_a_air</th>\n",
       "      <th>secondary_cleaner.state.floatbank4_a_level</th>\n",
       "      <th>secondary_cleaner.state.floatbank4_b_air</th>\n",
       "      <th>secondary_cleaner.state.floatbank4_b_level</th>\n",
       "      <th>secondary_cleaner.state.floatbank5_a_air</th>\n",
       "      <th>secondary_cleaner.state.floatbank5_a_level</th>\n",
       "      <th>secondary_cleaner.state.floatbank5_b_air</th>\n",
       "      <th>secondary_cleaner.state.floatbank5_b_level</th>\n",
       "      <th>secondary_cleaner.state.floatbank6_a_air</th>\n",
       "      <th>secondary_cleaner.state.floatbank6_a_level</th>\n",
       "    </tr>\n",
       "  </thead>\n",
       "  <tbody>\n",
       "    <tr>\n",
       "      <th>0</th>\n",
       "      <td>2016-01-15 00:00:00</td>\n",
       "      <td>6.06</td>\n",
       "      <td>9.89</td>\n",
       "      <td>5.51</td>\n",
       "      <td>42.19</td>\n",
       "      <td>70.54</td>\n",
       "      <td>10.41</td>\n",
       "      <td>0.90</td>\n",
       "      <td>16.90</td>\n",
       "      <td>2.14</td>\n",
       "      <td>127.09</td>\n",
       "      <td>10.13</td>\n",
       "      <td>7.25</td>\n",
       "      <td>0.99</td>\n",
       "      <td>8.55</td>\n",
       "      <td>10.39</td>\n",
       "      <td>19.53</td>\n",
       "      <td>34.17</td>\n",
       "      <td>14.94</td>\n",
       "      <td>2.53</td>\n",
       "      <td>7.48</td>\n",
       "      <td>2.11</td>\n",
       "      <td>1549.78</td>\n",
       "      <td>-498.91</td>\n",
       "      <td>1551.43</td>\n",
       "      <td>-516.40</td>\n",
       "      <td>1549.87</td>\n",
       "      <td>-498.67</td>\n",
       "      <td>1554.37</td>\n",
       "      <td>-493.43</td>\n",
       "      <td>41885.71</td>\n",
       "      <td>3481.78</td>\n",
       "      <td>3520.34</td>\n",
       "      <td>2.84</td>\n",
       "      <td>6.10</td>\n",
       "      <td>2.28</td>\n",
       "      <td>523.55</td>\n",
       "      <td>55.49</td>\n",
       "      <td>36.81</td>\n",
       "      <td>6.49</td>\n",
       "      <td>11.99</td>\n",
       "      <td>6.01</td>\n",
       "      <td>11.84</td>\n",
       "      <td>6.01</td>\n",
       "      <td>11.50</td>\n",
       "      <td>7.10</td>\n",
       "      <td>28.03</td>\n",
       "      <td>19.79</td>\n",
       "      <td>87.11</td>\n",
       "      <td>5.01</td>\n",
       "      <td>0.51</td>\n",
       "      <td>19.15</td>\n",
       "      <td>1.17</td>\n",
       "      <td>999.71</td>\n",
       "      <td>-404.07</td>\n",
       "      <td>1603.01</td>\n",
       "      <td>-434.72</td>\n",
       "      <td>1602.38</td>\n",
       "      <td>-442.20</td>\n",
       "      <td>1598.94</td>\n",
       "      <td>-451.29</td>\n",
       "      <td>1404.47</td>\n",
       "      <td>-455.46</td>\n",
       "      <td>1416.35</td>\n",
       "      <td>-451.94</td>\n",
       "      <td>14.50</td>\n",
       "      <td>4.69</td>\n",
       "      <td>8.76</td>\n",
       "      <td>2.61</td>\n",
       "      <td>25.85</td>\n",
       "      <td>-498.53</td>\n",
       "      <td>23.89</td>\n",
       "      <td>-501.41</td>\n",
       "      <td>23.96</td>\n",
       "      <td>-495.26</td>\n",
       "      <td>21.94</td>\n",
       "      <td>-499.34</td>\n",
       "      <td>14.02</td>\n",
       "      <td>-502.49</td>\n",
       "      <td>12.10</td>\n",
       "      <td>-504.72</td>\n",
       "      <td>9.93</td>\n",
       "      <td>-498.31</td>\n",
       "      <td>8.08</td>\n",
       "      <td>-500.47</td>\n",
       "      <td>14.15</td>\n",
       "      <td>-605.84</td>\n",
       "    </tr>\n",
       "    <tr>\n",
       "      <th>1</th>\n",
       "      <td>2016-01-15 01:00:00</td>\n",
       "      <td>6.03</td>\n",
       "      <td>9.97</td>\n",
       "      <td>5.26</td>\n",
       "      <td>42.70</td>\n",
       "      <td>69.27</td>\n",
       "      <td>10.46</td>\n",
       "      <td>0.93</td>\n",
       "      <td>16.63</td>\n",
       "      <td>2.22</td>\n",
       "      <td>125.63</td>\n",
       "      <td>10.30</td>\n",
       "      <td>7.25</td>\n",
       "      <td>1.00</td>\n",
       "      <td>8.56</td>\n",
       "      <td>10.50</td>\n",
       "      <td>19.37</td>\n",
       "      <td>34.12</td>\n",
       "      <td>16.25</td>\n",
       "      <td>3.05</td>\n",
       "      <td>6.73</td>\n",
       "      <td>2.35</td>\n",
       "      <td>1576.17</td>\n",
       "      <td>-500.90</td>\n",
       "      <td>1575.95</td>\n",
       "      <td>-499.87</td>\n",
       "      <td>1575.99</td>\n",
       "      <td>-499.32</td>\n",
       "      <td>1574.48</td>\n",
       "      <td>-498.93</td>\n",
       "      <td>42050.86</td>\n",
       "      <td>3498.37</td>\n",
       "      <td>3489.98</td>\n",
       "      <td>2.86</td>\n",
       "      <td>6.16</td>\n",
       "      <td>2.27</td>\n",
       "      <td>525.29</td>\n",
       "      <td>57.28</td>\n",
       "      <td>35.75</td>\n",
       "      <td>6.48</td>\n",
       "      <td>11.97</td>\n",
       "      <td>6.01</td>\n",
       "      <td>12.00</td>\n",
       "      <td>6.01</td>\n",
       "      <td>11.62</td>\n",
       "      <td>7.28</td>\n",
       "      <td>28.07</td>\n",
       "      <td>20.05</td>\n",
       "      <td>86.84</td>\n",
       "      <td>4.96</td>\n",
       "      <td>0.54</td>\n",
       "      <td>18.97</td>\n",
       "      <td>1.18</td>\n",
       "      <td>1000.29</td>\n",
       "      <td>-400.07</td>\n",
       "      <td>1600.75</td>\n",
       "      <td>-449.95</td>\n",
       "      <td>1600.48</td>\n",
       "      <td>-449.83</td>\n",
       "      <td>1600.53</td>\n",
       "      <td>-449.95</td>\n",
       "      <td>1399.23</td>\n",
       "      <td>-450.87</td>\n",
       "      <td>1399.72</td>\n",
       "      <td>-450.12</td>\n",
       "      <td>14.27</td>\n",
       "      <td>4.59</td>\n",
       "      <td>9.00</td>\n",
       "      <td>2.49</td>\n",
       "      <td>25.88</td>\n",
       "      <td>-499.99</td>\n",
       "      <td>23.89</td>\n",
       "      <td>-500.37</td>\n",
       "      <td>23.97</td>\n",
       "      <td>-500.09</td>\n",
       "      <td>22.09</td>\n",
       "      <td>-499.45</td>\n",
       "      <td>13.99</td>\n",
       "      <td>-505.50</td>\n",
       "      <td>11.95</td>\n",
       "      <td>-501.33</td>\n",
       "      <td>10.04</td>\n",
       "      <td>-500.17</td>\n",
       "      <td>7.98</td>\n",
       "      <td>-500.58</td>\n",
       "      <td>14.00</td>\n",
       "      <td>-599.79</td>\n",
       "    </tr>\n",
       "    <tr>\n",
       "      <th>2</th>\n",
       "      <td>2016-01-15 02:00:00</td>\n",
       "      <td>6.06</td>\n",
       "      <td>10.21</td>\n",
       "      <td>5.38</td>\n",
       "      <td>42.66</td>\n",
       "      <td>68.12</td>\n",
       "      <td>10.51</td>\n",
       "      <td>0.95</td>\n",
       "      <td>16.21</td>\n",
       "      <td>2.26</td>\n",
       "      <td>123.82</td>\n",
       "      <td>11.32</td>\n",
       "      <td>7.25</td>\n",
       "      <td>0.99</td>\n",
       "      <td>8.60</td>\n",
       "      <td>10.35</td>\n",
       "      <td>19.17</td>\n",
       "      <td>33.97</td>\n",
       "      <td>16.49</td>\n",
       "      <td>3.12</td>\n",
       "      <td>6.47</td>\n",
       "      <td>2.42</td>\n",
       "      <td>1601.56</td>\n",
       "      <td>-500.00</td>\n",
       "      <td>1600.39</td>\n",
       "      <td>-500.61</td>\n",
       "      <td>1602.00</td>\n",
       "      <td>-500.87</td>\n",
       "      <td>1599.54</td>\n",
       "      <td>-499.83</td>\n",
       "      <td>42018.10</td>\n",
       "      <td>3495.35</td>\n",
       "      <td>3502.36</td>\n",
       "      <td>2.95</td>\n",
       "      <td>6.12</td>\n",
       "      <td>2.16</td>\n",
       "      <td>530.03</td>\n",
       "      <td>57.51</td>\n",
       "      <td>35.97</td>\n",
       "      <td>6.36</td>\n",
       "      <td>11.92</td>\n",
       "      <td>6.20</td>\n",
       "      <td>11.92</td>\n",
       "      <td>6.20</td>\n",
       "      <td>11.70</td>\n",
       "      <td>7.22</td>\n",
       "      <td>27.45</td>\n",
       "      <td>19.74</td>\n",
       "      <td>86.84</td>\n",
       "      <td>4.84</td>\n",
       "      <td>0.55</td>\n",
       "      <td>18.81</td>\n",
       "      <td>1.16</td>\n",
       "      <td>999.72</td>\n",
       "      <td>-400.07</td>\n",
       "      <td>1599.34</td>\n",
       "      <td>-450.01</td>\n",
       "      <td>1599.67</td>\n",
       "      <td>-449.95</td>\n",
       "      <td>1599.85</td>\n",
       "      <td>-449.95</td>\n",
       "      <td>1399.18</td>\n",
       "      <td>-449.94</td>\n",
       "      <td>1400.32</td>\n",
       "      <td>-450.53</td>\n",
       "      <td>14.12</td>\n",
       "      <td>4.62</td>\n",
       "      <td>8.84</td>\n",
       "      <td>2.46</td>\n",
       "      <td>26.01</td>\n",
       "      <td>-499.93</td>\n",
       "      <td>23.89</td>\n",
       "      <td>-499.95</td>\n",
       "      <td>23.91</td>\n",
       "      <td>-499.44</td>\n",
       "      <td>23.96</td>\n",
       "      <td>-499.90</td>\n",
       "      <td>14.02</td>\n",
       "      <td>-502.52</td>\n",
       "      <td>11.91</td>\n",
       "      <td>-501.13</td>\n",
       "      <td>10.07</td>\n",
       "      <td>-500.13</td>\n",
       "      <td>8.01</td>\n",
       "      <td>-500.52</td>\n",
       "      <td>14.03</td>\n",
       "      <td>-601.43</td>\n",
       "    </tr>\n",
       "    <tr>\n",
       "      <th>3</th>\n",
       "      <td>2016-01-15 03:00:00</td>\n",
       "      <td>6.05</td>\n",
       "      <td>9.98</td>\n",
       "      <td>4.86</td>\n",
       "      <td>42.69</td>\n",
       "      <td>68.35</td>\n",
       "      <td>10.42</td>\n",
       "      <td>0.88</td>\n",
       "      <td>16.53</td>\n",
       "      <td>2.15</td>\n",
       "      <td>122.27</td>\n",
       "      <td>11.32</td>\n",
       "      <td>7.25</td>\n",
       "      <td>1.00</td>\n",
       "      <td>7.22</td>\n",
       "      <td>8.50</td>\n",
       "      <td>15.98</td>\n",
       "      <td>28.26</td>\n",
       "      <td>16.02</td>\n",
       "      <td>2.96</td>\n",
       "      <td>6.84</td>\n",
       "      <td>2.26</td>\n",
       "      <td>1599.97</td>\n",
       "      <td>-500.95</td>\n",
       "      <td>1600.66</td>\n",
       "      <td>-499.68</td>\n",
       "      <td>1600.30</td>\n",
       "      <td>-500.73</td>\n",
       "      <td>1600.45</td>\n",
       "      <td>-500.05</td>\n",
       "      <td>42029.45</td>\n",
       "      <td>3498.58</td>\n",
       "      <td>3499.16</td>\n",
       "      <td>3.00</td>\n",
       "      <td>6.04</td>\n",
       "      <td>2.04</td>\n",
       "      <td>542.59</td>\n",
       "      <td>57.79</td>\n",
       "      <td>36.86</td>\n",
       "      <td>6.12</td>\n",
       "      <td>11.63</td>\n",
       "      <td>6.20</td>\n",
       "      <td>11.69</td>\n",
       "      <td>6.20</td>\n",
       "      <td>11.92</td>\n",
       "      <td>7.18</td>\n",
       "      <td>27.34</td>\n",
       "      <td>19.32</td>\n",
       "      <td>87.23</td>\n",
       "      <td>4.66</td>\n",
       "      <td>0.54</td>\n",
       "      <td>19.33</td>\n",
       "      <td>1.08</td>\n",
       "      <td>999.81</td>\n",
       "      <td>-400.20</td>\n",
       "      <td>1600.06</td>\n",
       "      <td>-450.62</td>\n",
       "      <td>1600.01</td>\n",
       "      <td>-449.91</td>\n",
       "      <td>1597.73</td>\n",
       "      <td>-450.13</td>\n",
       "      <td>1400.94</td>\n",
       "      <td>-450.03</td>\n",
       "      <td>1400.23</td>\n",
       "      <td>-449.79</td>\n",
       "      <td>13.73</td>\n",
       "      <td>4.48</td>\n",
       "      <td>9.12</td>\n",
       "      <td>2.32</td>\n",
       "      <td>25.94</td>\n",
       "      <td>-499.18</td>\n",
       "      <td>23.96</td>\n",
       "      <td>-499.85</td>\n",
       "      <td>23.97</td>\n",
       "      <td>-500.01</td>\n",
       "      <td>23.95</td>\n",
       "      <td>-499.94</td>\n",
       "      <td>14.04</td>\n",
       "      <td>-500.86</td>\n",
       "      <td>12.00</td>\n",
       "      <td>-501.19</td>\n",
       "      <td>9.97</td>\n",
       "      <td>-499.20</td>\n",
       "      <td>7.98</td>\n",
       "      <td>-500.26</td>\n",
       "      <td>14.01</td>\n",
       "      <td>-600.00</td>\n",
       "    </tr>\n",
       "    <tr>\n",
       "      <th>4</th>\n",
       "      <td>2016-01-15 04:00:00</td>\n",
       "      <td>6.15</td>\n",
       "      <td>10.14</td>\n",
       "      <td>4.94</td>\n",
       "      <td>42.77</td>\n",
       "      <td>66.93</td>\n",
       "      <td>10.36</td>\n",
       "      <td>0.79</td>\n",
       "      <td>16.53</td>\n",
       "      <td>2.06</td>\n",
       "      <td>117.99</td>\n",
       "      <td>11.91</td>\n",
       "      <td>7.25</td>\n",
       "      <td>1.01</td>\n",
       "      <td>9.09</td>\n",
       "      <td>9.99</td>\n",
       "      <td>19.20</td>\n",
       "      <td>33.04</td>\n",
       "      <td>16.48</td>\n",
       "      <td>3.11</td>\n",
       "      <td>6.55</td>\n",
       "      <td>2.28</td>\n",
       "      <td>1601.34</td>\n",
       "      <td>-498.98</td>\n",
       "      <td>1601.44</td>\n",
       "      <td>-500.32</td>\n",
       "      <td>1599.58</td>\n",
       "      <td>-500.89</td>\n",
       "      <td>1602.65</td>\n",
       "      <td>-500.59</td>\n",
       "      <td>42125.35</td>\n",
       "      <td>3494.80</td>\n",
       "      <td>3506.68</td>\n",
       "      <td>3.17</td>\n",
       "      <td>6.06</td>\n",
       "      <td>1.79</td>\n",
       "      <td>540.53</td>\n",
       "      <td>56.05</td>\n",
       "      <td>34.35</td>\n",
       "      <td>5.66</td>\n",
       "      <td>10.96</td>\n",
       "      <td>6.20</td>\n",
       "      <td>10.96</td>\n",
       "      <td>6.19</td>\n",
       "      <td>12.41</td>\n",
       "      <td>7.24</td>\n",
       "      <td>27.04</td>\n",
       "      <td>19.22</td>\n",
       "      <td>86.69</td>\n",
       "      <td>4.55</td>\n",
       "      <td>0.52</td>\n",
       "      <td>19.27</td>\n",
       "      <td>1.01</td>\n",
       "      <td>999.68</td>\n",
       "      <td>-399.75</td>\n",
       "      <td>1600.21</td>\n",
       "      <td>-449.60</td>\n",
       "      <td>1600.36</td>\n",
       "      <td>-450.03</td>\n",
       "      <td>1599.76</td>\n",
       "      <td>-449.91</td>\n",
       "      <td>1401.56</td>\n",
       "      <td>-448.88</td>\n",
       "      <td>1401.16</td>\n",
       "      <td>-450.41</td>\n",
       "      <td>14.08</td>\n",
       "      <td>4.47</td>\n",
       "      <td>8.87</td>\n",
       "      <td>2.33</td>\n",
       "      <td>26.02</td>\n",
       "      <td>-500.28</td>\n",
       "      <td>23.96</td>\n",
       "      <td>-500.59</td>\n",
       "      <td>23.99</td>\n",
       "      <td>-500.08</td>\n",
       "      <td>23.96</td>\n",
       "      <td>-499.99</td>\n",
       "      <td>14.03</td>\n",
       "      <td>-499.84</td>\n",
       "      <td>11.95</td>\n",
       "      <td>-501.05</td>\n",
       "      <td>9.93</td>\n",
       "      <td>-501.69</td>\n",
       "      <td>7.89</td>\n",
       "      <td>-500.36</td>\n",
       "      <td>14.00</td>\n",
       "      <td>-601.50</td>\n",
       "    </tr>\n",
       "  </tbody>\n",
       "</table>\n",
       "</div>"
      ],
      "text/plain": [
       "                  date  final.output.concentrate_ag  \\\n",
       "0  2016-01-15 00:00:00                         6.06   \n",
       "1  2016-01-15 01:00:00                         6.03   \n",
       "2  2016-01-15 02:00:00                         6.06   \n",
       "3  2016-01-15 03:00:00                         6.05   \n",
       "4  2016-01-15 04:00:00                         6.15   \n",
       "\n",
       "   final.output.concentrate_pb  final.output.concentrate_sol  \\\n",
       "0                         9.89                          5.51   \n",
       "1                         9.97                          5.26   \n",
       "2                        10.21                          5.38   \n",
       "3                         9.98                          4.86   \n",
       "4                        10.14                          4.94   \n",
       "\n",
       "   final.output.concentrate_au  final.output.recovery  final.output.tail_ag  \\\n",
       "0                        42.19                  70.54                 10.41   \n",
       "1                        42.70                  69.27                 10.46   \n",
       "2                        42.66                  68.12                 10.51   \n",
       "3                        42.69                  68.35                 10.42   \n",
       "4                        42.77                  66.93                 10.36   \n",
       "\n",
       "   final.output.tail_pb  final.output.tail_sol  final.output.tail_au  \\\n",
       "0                  0.90                  16.90                  2.14   \n",
       "1                  0.93                  16.63                  2.22   \n",
       "2                  0.95                  16.21                  2.26   \n",
       "3                  0.88                  16.53                  2.15   \n",
       "4                  0.79                  16.53                  2.06   \n",
       "\n",
       "   primary_cleaner.input.sulfate  primary_cleaner.input.depressant  \\\n",
       "0                         127.09                             10.13   \n",
       "1                         125.63                             10.30   \n",
       "2                         123.82                             11.32   \n",
       "3                         122.27                             11.32   \n",
       "4                         117.99                             11.91   \n",
       "\n",
       "   primary_cleaner.input.feed_size  primary_cleaner.input.xanthate  \\\n",
       "0                             7.25                            0.99   \n",
       "1                             7.25                            1.00   \n",
       "2                             7.25                            0.99   \n",
       "3                             7.25                            1.00   \n",
       "4                             7.25                            1.01   \n",
       "\n",
       "   primary_cleaner.output.concentrate_ag  \\\n",
       "0                                   8.55   \n",
       "1                                   8.56   \n",
       "2                                   8.60   \n",
       "3                                   7.22   \n",
       "4                                   9.09   \n",
       "\n",
       "   primary_cleaner.output.concentrate_pb  \\\n",
       "0                                  10.39   \n",
       "1                                  10.50   \n",
       "2                                  10.35   \n",
       "3                                   8.50   \n",
       "4                                   9.99   \n",
       "\n",
       "   primary_cleaner.output.concentrate_sol  \\\n",
       "0                                   19.53   \n",
       "1                                   19.37   \n",
       "2                                   19.17   \n",
       "3                                   15.98   \n",
       "4                                   19.20   \n",
       "\n",
       "   primary_cleaner.output.concentrate_au  primary_cleaner.output.tail_ag  \\\n",
       "0                                  34.17                           14.94   \n",
       "1                                  34.12                           16.25   \n",
       "2                                  33.97                           16.49   \n",
       "3                                  28.26                           16.02   \n",
       "4                                  33.04                           16.48   \n",
       "\n",
       "   primary_cleaner.output.tail_pb  primary_cleaner.output.tail_sol  \\\n",
       "0                            2.53                             7.48   \n",
       "1                            3.05                             6.73   \n",
       "2                            3.12                             6.47   \n",
       "3                            2.96                             6.84   \n",
       "4                            3.11                             6.55   \n",
       "\n",
       "   primary_cleaner.output.tail_au  primary_cleaner.state.floatbank8_a_air  \\\n",
       "0                            2.11                                 1549.78   \n",
       "1                            2.35                                 1576.17   \n",
       "2                            2.42                                 1601.56   \n",
       "3                            2.26                                 1599.97   \n",
       "4                            2.28                                 1601.34   \n",
       "\n",
       "   primary_cleaner.state.floatbank8_a_level  \\\n",
       "0                                   -498.91   \n",
       "1                                   -500.90   \n",
       "2                                   -500.00   \n",
       "3                                   -500.95   \n",
       "4                                   -498.98   \n",
       "\n",
       "   primary_cleaner.state.floatbank8_b_air  \\\n",
       "0                                 1551.43   \n",
       "1                                 1575.95   \n",
       "2                                 1600.39   \n",
       "3                                 1600.66   \n",
       "4                                 1601.44   \n",
       "\n",
       "   primary_cleaner.state.floatbank8_b_level  \\\n",
       "0                                   -516.40   \n",
       "1                                   -499.87   \n",
       "2                                   -500.61   \n",
       "3                                   -499.68   \n",
       "4                                   -500.32   \n",
       "\n",
       "   primary_cleaner.state.floatbank8_c_air  \\\n",
       "0                                 1549.87   \n",
       "1                                 1575.99   \n",
       "2                                 1602.00   \n",
       "3                                 1600.30   \n",
       "4                                 1599.58   \n",
       "\n",
       "   primary_cleaner.state.floatbank8_c_level  \\\n",
       "0                                   -498.67   \n",
       "1                                   -499.32   \n",
       "2                                   -500.87   \n",
       "3                                   -500.73   \n",
       "4                                   -500.89   \n",
       "\n",
       "   primary_cleaner.state.floatbank8_d_air  \\\n",
       "0                                 1554.37   \n",
       "1                                 1574.48   \n",
       "2                                 1599.54   \n",
       "3                                 1600.45   \n",
       "4                                 1602.65   \n",
       "\n",
       "   primary_cleaner.state.floatbank8_d_level  \\\n",
       "0                                   -493.43   \n",
       "1                                   -498.93   \n",
       "2                                   -499.83   \n",
       "3                                   -500.05   \n",
       "4                                   -500.59   \n",
       "\n",
       "   rougher.calculation.sulfate_to_au_concentrate  \\\n",
       "0                                       41885.71   \n",
       "1                                       42050.86   \n",
       "2                                       42018.10   \n",
       "3                                       42029.45   \n",
       "4                                       42125.35   \n",
       "\n",
       "   rougher.calculation.floatbank10_sulfate_to_au_feed  \\\n",
       "0                                            3481.78    \n",
       "1                                            3498.37    \n",
       "2                                            3495.35    \n",
       "3                                            3498.58    \n",
       "4                                            3494.80    \n",
       "\n",
       "   rougher.calculation.floatbank11_sulfate_to_au_feed  \\\n",
       "0                                            3520.34    \n",
       "1                                            3489.98    \n",
       "2                                            3502.36    \n",
       "3                                            3499.16    \n",
       "4                                            3506.68    \n",
       "\n",
       "   rougher.calculation.au_pb_ratio  rougher.input.feed_ag  \\\n",
       "0                             2.84                   6.10   \n",
       "1                             2.86                   6.16   \n",
       "2                             2.95                   6.12   \n",
       "3                             3.00                   6.04   \n",
       "4                             3.17                   6.06   \n",
       "\n",
       "   rougher.input.feed_pb  rougher.input.feed_rate  rougher.input.feed_size  \\\n",
       "0                   2.28                   523.55                    55.49   \n",
       "1                   2.27                   525.29                    57.28   \n",
       "2                   2.16                   530.03                    57.51   \n",
       "3                   2.04                   542.59                    57.79   \n",
       "4                   1.79                   540.53                    56.05   \n",
       "\n",
       "   rougher.input.feed_sol  rougher.input.feed_au  \\\n",
       "0                   36.81                   6.49   \n",
       "1                   35.75                   6.48   \n",
       "2                   35.97                   6.36   \n",
       "3                   36.86                   6.12   \n",
       "4                   34.35                   5.66   \n",
       "\n",
       "   rougher.input.floatbank10_sulfate  rougher.input.floatbank10_xanthate  \\\n",
       "0                              11.99                                6.01   \n",
       "1                              11.97                                6.01   \n",
       "2                              11.92                                6.20   \n",
       "3                              11.63                                6.20   \n",
       "4                              10.96                                6.20   \n",
       "\n",
       "   rougher.input.floatbank11_sulfate  rougher.input.floatbank11_xanthate  \\\n",
       "0                              11.84                                6.01   \n",
       "1                              12.00                                6.01   \n",
       "2                              11.92                                6.20   \n",
       "3                              11.69                                6.20   \n",
       "4                              10.96                                6.19   \n",
       "\n",
       "   rougher.output.concentrate_ag  rougher.output.concentrate_pb  \\\n",
       "0                          11.50                           7.10   \n",
       "1                          11.62                           7.28   \n",
       "2                          11.70                           7.22   \n",
       "3                          11.92                           7.18   \n",
       "4                          12.41                           7.24   \n",
       "\n",
       "   rougher.output.concentrate_sol  rougher.output.concentrate_au  \\\n",
       "0                           28.03                          19.79   \n",
       "1                           28.07                          20.05   \n",
       "2                           27.45                          19.74   \n",
       "3                           27.34                          19.32   \n",
       "4                           27.04                          19.22   \n",
       "\n",
       "   rougher.output.recovery  rougher.output.tail_ag  rougher.output.tail_pb  \\\n",
       "0                    87.11                    5.01                    0.51   \n",
       "1                    86.84                    4.96                    0.54   \n",
       "2                    86.84                    4.84                    0.55   \n",
       "3                    87.23                    4.66                    0.54   \n",
       "4                    86.69                    4.55                    0.52   \n",
       "\n",
       "   rougher.output.tail_sol  rougher.output.tail_au  \\\n",
       "0                    19.15                    1.17   \n",
       "1                    18.97                    1.18   \n",
       "2                    18.81                    1.16   \n",
       "3                    19.33                    1.08   \n",
       "4                    19.27                    1.01   \n",
       "\n",
       "   rougher.state.floatbank10_a_air  rougher.state.floatbank10_a_level  \\\n",
       "0                           999.71                            -404.07   \n",
       "1                          1000.29                            -400.07   \n",
       "2                           999.72                            -400.07   \n",
       "3                           999.81                            -400.20   \n",
       "4                           999.68                            -399.75   \n",
       "\n",
       "   rougher.state.floatbank10_b_air  rougher.state.floatbank10_b_level  \\\n",
       "0                          1603.01                            -434.72   \n",
       "1                          1600.75                            -449.95   \n",
       "2                          1599.34                            -450.01   \n",
       "3                          1600.06                            -450.62   \n",
       "4                          1600.21                            -449.60   \n",
       "\n",
       "   rougher.state.floatbank10_c_air  rougher.state.floatbank10_c_level  \\\n",
       "0                          1602.38                            -442.20   \n",
       "1                          1600.48                            -449.83   \n",
       "2                          1599.67                            -449.95   \n",
       "3                          1600.01                            -449.91   \n",
       "4                          1600.36                            -450.03   \n",
       "\n",
       "   rougher.state.floatbank10_d_air  rougher.state.floatbank10_d_level  \\\n",
       "0                          1598.94                            -451.29   \n",
       "1                          1600.53                            -449.95   \n",
       "2                          1599.85                            -449.95   \n",
       "3                          1597.73                            -450.13   \n",
       "4                          1599.76                            -449.91   \n",
       "\n",
       "   rougher.state.floatbank10_e_air  rougher.state.floatbank10_e_level  \\\n",
       "0                          1404.47                            -455.46   \n",
       "1                          1399.23                            -450.87   \n",
       "2                          1399.18                            -449.94   \n",
       "3                          1400.94                            -450.03   \n",
       "4                          1401.56                            -448.88   \n",
       "\n",
       "   rougher.state.floatbank10_f_air  rougher.state.floatbank10_f_level  \\\n",
       "0                          1416.35                            -451.94   \n",
       "1                          1399.72                            -450.12   \n",
       "2                          1400.32                            -450.53   \n",
       "3                          1400.23                            -449.79   \n",
       "4                          1401.16                            -450.41   \n",
       "\n",
       "   secondary_cleaner.output.tail_ag  secondary_cleaner.output.tail_pb  \\\n",
       "0                             14.50                              4.69   \n",
       "1                             14.27                              4.59   \n",
       "2                             14.12                              4.62   \n",
       "3                             13.73                              4.48   \n",
       "4                             14.08                              4.47   \n",
       "\n",
       "   secondary_cleaner.output.tail_sol  secondary_cleaner.output.tail_au  \\\n",
       "0                               8.76                              2.61   \n",
       "1                               9.00                              2.49   \n",
       "2                               8.84                              2.46   \n",
       "3                               9.12                              2.32   \n",
       "4                               8.87                              2.33   \n",
       "\n",
       "   secondary_cleaner.state.floatbank2_a_air  \\\n",
       "0                                     25.85   \n",
       "1                                     25.88   \n",
       "2                                     26.01   \n",
       "3                                     25.94   \n",
       "4                                     26.02   \n",
       "\n",
       "   secondary_cleaner.state.floatbank2_a_level  \\\n",
       "0                                     -498.53   \n",
       "1                                     -499.99   \n",
       "2                                     -499.93   \n",
       "3                                     -499.18   \n",
       "4                                     -500.28   \n",
       "\n",
       "   secondary_cleaner.state.floatbank2_b_air  \\\n",
       "0                                     23.89   \n",
       "1                                     23.89   \n",
       "2                                     23.89   \n",
       "3                                     23.96   \n",
       "4                                     23.96   \n",
       "\n",
       "   secondary_cleaner.state.floatbank2_b_level  \\\n",
       "0                                     -501.41   \n",
       "1                                     -500.37   \n",
       "2                                     -499.95   \n",
       "3                                     -499.85   \n",
       "4                                     -500.59   \n",
       "\n",
       "   secondary_cleaner.state.floatbank3_a_air  \\\n",
       "0                                     23.96   \n",
       "1                                     23.97   \n",
       "2                                     23.91   \n",
       "3                                     23.97   \n",
       "4                                     23.99   \n",
       "\n",
       "   secondary_cleaner.state.floatbank3_a_level  \\\n",
       "0                                     -495.26   \n",
       "1                                     -500.09   \n",
       "2                                     -499.44   \n",
       "3                                     -500.01   \n",
       "4                                     -500.08   \n",
       "\n",
       "   secondary_cleaner.state.floatbank3_b_air  \\\n",
       "0                                     21.94   \n",
       "1                                     22.09   \n",
       "2                                     23.96   \n",
       "3                                     23.95   \n",
       "4                                     23.96   \n",
       "\n",
       "   secondary_cleaner.state.floatbank3_b_level  \\\n",
       "0                                     -499.34   \n",
       "1                                     -499.45   \n",
       "2                                     -499.90   \n",
       "3                                     -499.94   \n",
       "4                                     -499.99   \n",
       "\n",
       "   secondary_cleaner.state.floatbank4_a_air  \\\n",
       "0                                     14.02   \n",
       "1                                     13.99   \n",
       "2                                     14.02   \n",
       "3                                     14.04   \n",
       "4                                     14.03   \n",
       "\n",
       "   secondary_cleaner.state.floatbank4_a_level  \\\n",
       "0                                     -502.49   \n",
       "1                                     -505.50   \n",
       "2                                     -502.52   \n",
       "3                                     -500.86   \n",
       "4                                     -499.84   \n",
       "\n",
       "   secondary_cleaner.state.floatbank4_b_air  \\\n",
       "0                                     12.10   \n",
       "1                                     11.95   \n",
       "2                                     11.91   \n",
       "3                                     12.00   \n",
       "4                                     11.95   \n",
       "\n",
       "   secondary_cleaner.state.floatbank4_b_level  \\\n",
       "0                                     -504.72   \n",
       "1                                     -501.33   \n",
       "2                                     -501.13   \n",
       "3                                     -501.19   \n",
       "4                                     -501.05   \n",
       "\n",
       "   secondary_cleaner.state.floatbank5_a_air  \\\n",
       "0                                      9.93   \n",
       "1                                     10.04   \n",
       "2                                     10.07   \n",
       "3                                      9.97   \n",
       "4                                      9.93   \n",
       "\n",
       "   secondary_cleaner.state.floatbank5_a_level  \\\n",
       "0                                     -498.31   \n",
       "1                                     -500.17   \n",
       "2                                     -500.13   \n",
       "3                                     -499.20   \n",
       "4                                     -501.69   \n",
       "\n",
       "   secondary_cleaner.state.floatbank5_b_air  \\\n",
       "0                                      8.08   \n",
       "1                                      7.98   \n",
       "2                                      8.01   \n",
       "3                                      7.98   \n",
       "4                                      7.89   \n",
       "\n",
       "   secondary_cleaner.state.floatbank5_b_level  \\\n",
       "0                                     -500.47   \n",
       "1                                     -500.58   \n",
       "2                                     -500.52   \n",
       "3                                     -500.26   \n",
       "4                                     -500.36   \n",
       "\n",
       "   secondary_cleaner.state.floatbank6_a_air  \\\n",
       "0                                     14.15   \n",
       "1                                     14.00   \n",
       "2                                     14.03   \n",
       "3                                     14.01   \n",
       "4                                     14.00   \n",
       "\n",
       "   secondary_cleaner.state.floatbank6_a_level  \n",
       "0                                     -605.84  \n",
       "1                                     -599.79  \n",
       "2                                     -601.43  \n",
       "3                                     -600.00  \n",
       "4                                     -601.50  "
      ]
     },
     "metadata": {},
     "output_type": "display_data"
    },
    {
     "name": "stdout",
     "output_type": "stream",
     "text": [
      "<class 'pandas.core.frame.DataFrame'>\n",
      "RangeIndex: 5290 entries, 0 to 5289\n",
      "Data columns (total 53 columns):\n",
      " #   Column                                      Non-Null Count  Dtype  \n",
      "---  ------                                      --------------  -----  \n",
      " 0   date                                        5290 non-null   object \n",
      " 1   primary_cleaner.input.sulfate               5286 non-null   float64\n",
      " 2   primary_cleaner.input.depressant            5285 non-null   float64\n",
      " 3   primary_cleaner.input.feed_size             5290 non-null   float64\n",
      " 4   primary_cleaner.input.xanthate              5286 non-null   float64\n",
      " 5   primary_cleaner.state.floatbank8_a_air      5290 non-null   float64\n",
      " 6   primary_cleaner.state.floatbank8_a_level    5290 non-null   float64\n",
      " 7   primary_cleaner.state.floatbank8_b_air      5290 non-null   float64\n",
      " 8   primary_cleaner.state.floatbank8_b_level    5290 non-null   float64\n",
      " 9   primary_cleaner.state.floatbank8_c_air      5290 non-null   float64\n",
      " 10  primary_cleaner.state.floatbank8_c_level    5290 non-null   float64\n",
      " 11  primary_cleaner.state.floatbank8_d_air      5290 non-null   float64\n",
      " 12  primary_cleaner.state.floatbank8_d_level    5290 non-null   float64\n",
      " 13  rougher.input.feed_ag                       5290 non-null   float64\n",
      " 14  rougher.input.feed_pb                       5290 non-null   float64\n",
      " 15  rougher.input.feed_rate                     5287 non-null   float64\n",
      " 16  rougher.input.feed_size                     5289 non-null   float64\n",
      " 17  rougher.input.feed_sol                      5269 non-null   float64\n",
      " 18  rougher.input.feed_au                       5290 non-null   float64\n",
      " 19  rougher.input.floatbank10_sulfate           5285 non-null   float64\n",
      " 20  rougher.input.floatbank10_xanthate          5290 non-null   float64\n",
      " 21  rougher.input.floatbank11_sulfate           5282 non-null   float64\n",
      " 22  rougher.input.floatbank11_xanthate          5265 non-null   float64\n",
      " 23  rougher.state.floatbank10_a_air             5290 non-null   float64\n",
      " 24  rougher.state.floatbank10_a_level           5290 non-null   float64\n",
      " 25  rougher.state.floatbank10_b_air             5290 non-null   float64\n",
      " 26  rougher.state.floatbank10_b_level           5290 non-null   float64\n",
      " 27  rougher.state.floatbank10_c_air             5290 non-null   float64\n",
      " 28  rougher.state.floatbank10_c_level           5290 non-null   float64\n",
      " 29  rougher.state.floatbank10_d_air             5290 non-null   float64\n",
      " 30  rougher.state.floatbank10_d_level           5290 non-null   float64\n",
      " 31  rougher.state.floatbank10_e_air             5290 non-null   float64\n",
      " 32  rougher.state.floatbank10_e_level           5290 non-null   float64\n",
      " 33  rougher.state.floatbank10_f_air             5290 non-null   float64\n",
      " 34  rougher.state.floatbank10_f_level           5290 non-null   float64\n",
      " 35  secondary_cleaner.state.floatbank2_a_air    5287 non-null   float64\n",
      " 36  secondary_cleaner.state.floatbank2_a_level  5290 non-null   float64\n",
      " 37  secondary_cleaner.state.floatbank2_b_air    5288 non-null   float64\n",
      " 38  secondary_cleaner.state.floatbank2_b_level  5290 non-null   float64\n",
      " 39  secondary_cleaner.state.floatbank3_a_air    5281 non-null   float64\n",
      " 40  secondary_cleaner.state.floatbank3_a_level  5290 non-null   float64\n",
      " 41  secondary_cleaner.state.floatbank3_b_air    5290 non-null   float64\n",
      " 42  secondary_cleaner.state.floatbank3_b_level  5290 non-null   float64\n",
      " 43  secondary_cleaner.state.floatbank4_a_air    5290 non-null   float64\n",
      " 44  secondary_cleaner.state.floatbank4_a_level  5290 non-null   float64\n",
      " 45  secondary_cleaner.state.floatbank4_b_air    5290 non-null   float64\n",
      " 46  secondary_cleaner.state.floatbank4_b_level  5290 non-null   float64\n",
      " 47  secondary_cleaner.state.floatbank5_a_air    5290 non-null   float64\n",
      " 48  secondary_cleaner.state.floatbank5_a_level  5290 non-null   float64\n",
      " 49  secondary_cleaner.state.floatbank5_b_air    5290 non-null   float64\n",
      " 50  secondary_cleaner.state.floatbank5_b_level  5290 non-null   float64\n",
      " 51  secondary_cleaner.state.floatbank6_a_air    5290 non-null   float64\n",
      " 52  secondary_cleaner.state.floatbank6_a_level  5290 non-null   float64\n",
      "dtypes: float64(52), object(1)\n",
      "memory usage: 2.1+ MB\n",
      "None\n",
      "date                                         0.00\n",
      "primary_cleaner.input.sulfate                0.08\n",
      "primary_cleaner.input.depressant             0.09\n",
      "primary_cleaner.input.feed_size              0.00\n",
      "primary_cleaner.input.xanthate               0.08\n",
      "primary_cleaner.state.floatbank8_a_air       0.00\n",
      "primary_cleaner.state.floatbank8_a_level     0.00\n",
      "primary_cleaner.state.floatbank8_b_air       0.00\n",
      "primary_cleaner.state.floatbank8_b_level     0.00\n",
      "primary_cleaner.state.floatbank8_c_air       0.00\n",
      "primary_cleaner.state.floatbank8_c_level     0.00\n",
      "primary_cleaner.state.floatbank8_d_air       0.00\n",
      "primary_cleaner.state.floatbank8_d_level     0.00\n",
      "rougher.input.feed_ag                        0.00\n",
      "rougher.input.feed_pb                        0.00\n",
      "rougher.input.feed_rate                      0.06\n",
      "rougher.input.feed_size                      0.02\n",
      "rougher.input.feed_sol                       0.40\n",
      "rougher.input.feed_au                        0.00\n",
      "rougher.input.floatbank10_sulfate            0.09\n",
      "rougher.input.floatbank10_xanthate           0.00\n",
      "rougher.input.floatbank11_sulfate            0.15\n",
      "rougher.input.floatbank11_xanthate           0.47\n",
      "rougher.state.floatbank10_a_air              0.00\n",
      "rougher.state.floatbank10_a_level            0.00\n",
      "rougher.state.floatbank10_b_air              0.00\n",
      "rougher.state.floatbank10_b_level            0.00\n",
      "rougher.state.floatbank10_c_air              0.00\n",
      "rougher.state.floatbank10_c_level            0.00\n",
      "rougher.state.floatbank10_d_air              0.00\n",
      "rougher.state.floatbank10_d_level            0.00\n",
      "rougher.state.floatbank10_e_air              0.00\n",
      "rougher.state.floatbank10_e_level            0.00\n",
      "rougher.state.floatbank10_f_air              0.00\n",
      "rougher.state.floatbank10_f_level            0.00\n",
      "secondary_cleaner.state.floatbank2_a_air     0.06\n",
      "secondary_cleaner.state.floatbank2_a_level   0.00\n",
      "secondary_cleaner.state.floatbank2_b_air     0.04\n",
      "secondary_cleaner.state.floatbank2_b_level   0.00\n",
      "secondary_cleaner.state.floatbank3_a_air     0.17\n",
      "secondary_cleaner.state.floatbank3_a_level   0.00\n",
      "secondary_cleaner.state.floatbank3_b_air     0.00\n",
      "secondary_cleaner.state.floatbank3_b_level   0.00\n",
      "secondary_cleaner.state.floatbank4_a_air     0.00\n",
      "secondary_cleaner.state.floatbank4_a_level   0.00\n",
      "secondary_cleaner.state.floatbank4_b_air     0.00\n",
      "secondary_cleaner.state.floatbank4_b_level   0.00\n",
      "secondary_cleaner.state.floatbank5_a_air     0.00\n",
      "secondary_cleaner.state.floatbank5_a_level   0.00\n",
      "secondary_cleaner.state.floatbank5_b_air     0.00\n",
      "secondary_cleaner.state.floatbank5_b_level   0.00\n",
      "secondary_cleaner.state.floatbank6_a_air     0.00\n",
      "secondary_cleaner.state.floatbank6_a_level   0.00\n",
      "dtype: float64\n"
     ]
    },
    {
     "data": {
      "text/html": [
       "<div>\n",
       "<style scoped>\n",
       "    .dataframe tbody tr th:only-of-type {\n",
       "        vertical-align: middle;\n",
       "    }\n",
       "\n",
       "    .dataframe tbody tr th {\n",
       "        vertical-align: top;\n",
       "    }\n",
       "\n",
       "    .dataframe thead th {\n",
       "        text-align: right;\n",
       "    }\n",
       "</style>\n",
       "<table border=\"1\" class=\"dataframe\">\n",
       "  <thead>\n",
       "    <tr style=\"text-align: right;\">\n",
       "      <th></th>\n",
       "      <th>date</th>\n",
       "      <th>primary_cleaner.input.sulfate</th>\n",
       "      <th>primary_cleaner.input.depressant</th>\n",
       "      <th>primary_cleaner.input.feed_size</th>\n",
       "      <th>primary_cleaner.input.xanthate</th>\n",
       "      <th>primary_cleaner.state.floatbank8_a_air</th>\n",
       "      <th>primary_cleaner.state.floatbank8_a_level</th>\n",
       "      <th>primary_cleaner.state.floatbank8_b_air</th>\n",
       "      <th>primary_cleaner.state.floatbank8_b_level</th>\n",
       "      <th>primary_cleaner.state.floatbank8_c_air</th>\n",
       "      <th>primary_cleaner.state.floatbank8_c_level</th>\n",
       "      <th>primary_cleaner.state.floatbank8_d_air</th>\n",
       "      <th>primary_cleaner.state.floatbank8_d_level</th>\n",
       "      <th>rougher.input.feed_ag</th>\n",
       "      <th>rougher.input.feed_pb</th>\n",
       "      <th>rougher.input.feed_rate</th>\n",
       "      <th>rougher.input.feed_size</th>\n",
       "      <th>rougher.input.feed_sol</th>\n",
       "      <th>rougher.input.feed_au</th>\n",
       "      <th>rougher.input.floatbank10_sulfate</th>\n",
       "      <th>rougher.input.floatbank10_xanthate</th>\n",
       "      <th>rougher.input.floatbank11_sulfate</th>\n",
       "      <th>rougher.input.floatbank11_xanthate</th>\n",
       "      <th>rougher.state.floatbank10_a_air</th>\n",
       "      <th>rougher.state.floatbank10_a_level</th>\n",
       "      <th>rougher.state.floatbank10_b_air</th>\n",
       "      <th>rougher.state.floatbank10_b_level</th>\n",
       "      <th>rougher.state.floatbank10_c_air</th>\n",
       "      <th>rougher.state.floatbank10_c_level</th>\n",
       "      <th>rougher.state.floatbank10_d_air</th>\n",
       "      <th>rougher.state.floatbank10_d_level</th>\n",
       "      <th>rougher.state.floatbank10_e_air</th>\n",
       "      <th>rougher.state.floatbank10_e_level</th>\n",
       "      <th>rougher.state.floatbank10_f_air</th>\n",
       "      <th>rougher.state.floatbank10_f_level</th>\n",
       "      <th>secondary_cleaner.state.floatbank2_a_air</th>\n",
       "      <th>secondary_cleaner.state.floatbank2_a_level</th>\n",
       "      <th>secondary_cleaner.state.floatbank2_b_air</th>\n",
       "      <th>secondary_cleaner.state.floatbank2_b_level</th>\n",
       "      <th>secondary_cleaner.state.floatbank3_a_air</th>\n",
       "      <th>secondary_cleaner.state.floatbank3_a_level</th>\n",
       "      <th>secondary_cleaner.state.floatbank3_b_air</th>\n",
       "      <th>secondary_cleaner.state.floatbank3_b_level</th>\n",
       "      <th>secondary_cleaner.state.floatbank4_a_air</th>\n",
       "      <th>secondary_cleaner.state.floatbank4_a_level</th>\n",
       "      <th>secondary_cleaner.state.floatbank4_b_air</th>\n",
       "      <th>secondary_cleaner.state.floatbank4_b_level</th>\n",
       "      <th>secondary_cleaner.state.floatbank5_a_air</th>\n",
       "      <th>secondary_cleaner.state.floatbank5_a_level</th>\n",
       "      <th>secondary_cleaner.state.floatbank5_b_air</th>\n",
       "      <th>secondary_cleaner.state.floatbank5_b_level</th>\n",
       "      <th>secondary_cleaner.state.floatbank6_a_air</th>\n",
       "      <th>secondary_cleaner.state.floatbank6_a_level</th>\n",
       "    </tr>\n",
       "  </thead>\n",
       "  <tbody>\n",
       "    <tr>\n",
       "      <th>0</th>\n",
       "      <td>2016-09-01 00:59:59</td>\n",
       "      <td>210.80</td>\n",
       "      <td>14.99</td>\n",
       "      <td>8.08</td>\n",
       "      <td>1.01</td>\n",
       "      <td>1398.98</td>\n",
       "      <td>-500.23</td>\n",
       "      <td>1399.14</td>\n",
       "      <td>-499.92</td>\n",
       "      <td>1400.10</td>\n",
       "      <td>-500.70</td>\n",
       "      <td>1399.00</td>\n",
       "      <td>-499.49</td>\n",
       "      <td>13.13</td>\n",
       "      <td>5.64</td>\n",
       "      <td>489.79</td>\n",
       "      <td>62.71</td>\n",
       "      <td>42.02</td>\n",
       "      <td>12.08</td>\n",
       "      <td>16.92</td>\n",
       "      <td>6.15</td>\n",
       "      <td>16.87</td>\n",
       "      <td>6.15</td>\n",
       "      <td>1001.85</td>\n",
       "      <td>-350.30</td>\n",
       "      <td>1249.74</td>\n",
       "      <td>-399.11</td>\n",
       "      <td>1249.75</td>\n",
       "      <td>-399.40</td>\n",
       "      <td>1198.29</td>\n",
       "      <td>-399.49</td>\n",
       "      <td>999.47</td>\n",
       "      <td>-399.53</td>\n",
       "      <td>949.57</td>\n",
       "      <td>-398.18</td>\n",
       "      <td>24.94</td>\n",
       "      <td>-500.49</td>\n",
       "      <td>14.95</td>\n",
       "      <td>-500.01</td>\n",
       "      <td>20.02</td>\n",
       "      <td>-450.40</td>\n",
       "      <td>13.99</td>\n",
       "      <td>-449.83</td>\n",
       "      <td>12.02</td>\n",
       "      <td>-497.80</td>\n",
       "      <td>8.02</td>\n",
       "      <td>-501.29</td>\n",
       "      <td>7.95</td>\n",
       "      <td>-432.32</td>\n",
       "      <td>4.87</td>\n",
       "      <td>-500.04</td>\n",
       "      <td>26.71</td>\n",
       "      <td>-499.71</td>\n",
       "    </tr>\n",
       "    <tr>\n",
       "      <th>1</th>\n",
       "      <td>2016-09-01 01:59:59</td>\n",
       "      <td>215.39</td>\n",
       "      <td>14.99</td>\n",
       "      <td>8.08</td>\n",
       "      <td>0.99</td>\n",
       "      <td>1398.78</td>\n",
       "      <td>-500.06</td>\n",
       "      <td>1398.06</td>\n",
       "      <td>-499.78</td>\n",
       "      <td>1396.15</td>\n",
       "      <td>-499.24</td>\n",
       "      <td>1399.51</td>\n",
       "      <td>-500.42</td>\n",
       "      <td>13.04</td>\n",
       "      <td>5.53</td>\n",
       "      <td>490.10</td>\n",
       "      <td>61.96</td>\n",
       "      <td>41.19</td>\n",
       "      <td>11.92</td>\n",
       "      <td>17.00</td>\n",
       "      <td>6.00</td>\n",
       "      <td>17.00</td>\n",
       "      <td>6.00</td>\n",
       "      <td>998.69</td>\n",
       "      <td>-350.43</td>\n",
       "      <td>1248.40</td>\n",
       "      <td>-399.95</td>\n",
       "      <td>1249.51</td>\n",
       "      <td>-399.63</td>\n",
       "      <td>1200.51</td>\n",
       "      <td>-399.94</td>\n",
       "      <td>1000.00</td>\n",
       "      <td>-399.49</td>\n",
       "      <td>950.20</td>\n",
       "      <td>-405.79</td>\n",
       "      <td>24.92</td>\n",
       "      <td>-499.81</td>\n",
       "      <td>14.93</td>\n",
       "      <td>-500.76</td>\n",
       "      <td>19.99</td>\n",
       "      <td>-450.11</td>\n",
       "      <td>14.09</td>\n",
       "      <td>-450.06</td>\n",
       "      <td>12.06</td>\n",
       "      <td>-498.70</td>\n",
       "      <td>8.13</td>\n",
       "      <td>-499.63</td>\n",
       "      <td>7.96</td>\n",
       "      <td>-525.84</td>\n",
       "      <td>4.88</td>\n",
       "      <td>-500.16</td>\n",
       "      <td>25.02</td>\n",
       "      <td>-499.82</td>\n",
       "    </tr>\n",
       "    <tr>\n",
       "      <th>2</th>\n",
       "      <td>2016-09-01 02:59:59</td>\n",
       "      <td>215.26</td>\n",
       "      <td>12.88</td>\n",
       "      <td>7.79</td>\n",
       "      <td>1.00</td>\n",
       "      <td>1398.49</td>\n",
       "      <td>-500.87</td>\n",
       "      <td>1398.86</td>\n",
       "      <td>-499.76</td>\n",
       "      <td>1398.08</td>\n",
       "      <td>-502.15</td>\n",
       "      <td>1399.50</td>\n",
       "      <td>-499.72</td>\n",
       "      <td>13.14</td>\n",
       "      <td>5.43</td>\n",
       "      <td>489.62</td>\n",
       "      <td>66.90</td>\n",
       "      <td>42.55</td>\n",
       "      <td>12.09</td>\n",
       "      <td>16.99</td>\n",
       "      <td>5.85</td>\n",
       "      <td>16.98</td>\n",
       "      <td>5.85</td>\n",
       "      <td>998.52</td>\n",
       "      <td>-349.78</td>\n",
       "      <td>1247.44</td>\n",
       "      <td>-400.26</td>\n",
       "      <td>1248.21</td>\n",
       "      <td>-401.07</td>\n",
       "      <td>1199.77</td>\n",
       "      <td>-400.79</td>\n",
       "      <td>999.93</td>\n",
       "      <td>-399.24</td>\n",
       "      <td>950.32</td>\n",
       "      <td>-400.86</td>\n",
       "      <td>24.91</td>\n",
       "      <td>-500.30</td>\n",
       "      <td>15.00</td>\n",
       "      <td>-500.99</td>\n",
       "      <td>20.04</td>\n",
       "      <td>-450.26</td>\n",
       "      <td>14.08</td>\n",
       "      <td>-449.66</td>\n",
       "      <td>11.96</td>\n",
       "      <td>-498.77</td>\n",
       "      <td>8.10</td>\n",
       "      <td>-500.83</td>\n",
       "      <td>8.07</td>\n",
       "      <td>-500.80</td>\n",
       "      <td>4.91</td>\n",
       "      <td>-499.83</td>\n",
       "      <td>24.99</td>\n",
       "      <td>-500.62</td>\n",
       "    </tr>\n",
       "    <tr>\n",
       "      <th>3</th>\n",
       "      <td>2016-09-01 03:59:59</td>\n",
       "      <td>215.34</td>\n",
       "      <td>12.01</td>\n",
       "      <td>7.64</td>\n",
       "      <td>0.86</td>\n",
       "      <td>1399.62</td>\n",
       "      <td>-498.86</td>\n",
       "      <td>1397.44</td>\n",
       "      <td>-499.21</td>\n",
       "      <td>1400.13</td>\n",
       "      <td>-498.36</td>\n",
       "      <td>1401.07</td>\n",
       "      <td>-501.04</td>\n",
       "      <td>12.40</td>\n",
       "      <td>5.11</td>\n",
       "      <td>476.62</td>\n",
       "      <td>59.87</td>\n",
       "      <td>41.06</td>\n",
       "      <td>12.18</td>\n",
       "      <td>16.53</td>\n",
       "      <td>5.80</td>\n",
       "      <td>16.52</td>\n",
       "      <td>5.80</td>\n",
       "      <td>1000.28</td>\n",
       "      <td>-350.17</td>\n",
       "      <td>1251.32</td>\n",
       "      <td>-398.66</td>\n",
       "      <td>1250.49</td>\n",
       "      <td>-399.75</td>\n",
       "      <td>1199.40</td>\n",
       "      <td>-397.50</td>\n",
       "      <td>1001.93</td>\n",
       "      <td>-400.44</td>\n",
       "      <td>950.74</td>\n",
       "      <td>-399.80</td>\n",
       "      <td>24.89</td>\n",
       "      <td>-499.38</td>\n",
       "      <td>14.92</td>\n",
       "      <td>-499.86</td>\n",
       "      <td>20.03</td>\n",
       "      <td>-449.37</td>\n",
       "      <td>14.01</td>\n",
       "      <td>-449.53</td>\n",
       "      <td>12.03</td>\n",
       "      <td>-498.35</td>\n",
       "      <td>8.07</td>\n",
       "      <td>-499.47</td>\n",
       "      <td>7.90</td>\n",
       "      <td>-500.87</td>\n",
       "      <td>4.93</td>\n",
       "      <td>-499.96</td>\n",
       "      <td>24.95</td>\n",
       "      <td>-498.71</td>\n",
       "    </tr>\n",
       "    <tr>\n",
       "      <th>4</th>\n",
       "      <td>2016-09-01 04:59:59</td>\n",
       "      <td>199.10</td>\n",
       "      <td>10.68</td>\n",
       "      <td>7.53</td>\n",
       "      <td>0.81</td>\n",
       "      <td>1401.27</td>\n",
       "      <td>-500.81</td>\n",
       "      <td>1398.13</td>\n",
       "      <td>-499.50</td>\n",
       "      <td>1402.17</td>\n",
       "      <td>-500.81</td>\n",
       "      <td>1399.48</td>\n",
       "      <td>-499.37</td>\n",
       "      <td>11.33</td>\n",
       "      <td>4.77</td>\n",
       "      <td>488.25</td>\n",
       "      <td>63.32</td>\n",
       "      <td>41.27</td>\n",
       "      <td>11.29</td>\n",
       "      <td>13.61</td>\n",
       "      <td>5.74</td>\n",
       "      <td>13.65</td>\n",
       "      <td>5.74</td>\n",
       "      <td>996.54</td>\n",
       "      <td>-350.56</td>\n",
       "      <td>1304.66</td>\n",
       "      <td>-399.51</td>\n",
       "      <td>1306.46</td>\n",
       "      <td>-399.05</td>\n",
       "      <td>1248.70</td>\n",
       "      <td>-400.88</td>\n",
       "      <td>1058.84</td>\n",
       "      <td>-398.99</td>\n",
       "      <td>949.65</td>\n",
       "      <td>-399.28</td>\n",
       "      <td>24.89</td>\n",
       "      <td>-499.36</td>\n",
       "      <td>14.98</td>\n",
       "      <td>-500.19</td>\n",
       "      <td>19.96</td>\n",
       "      <td>-450.64</td>\n",
       "      <td>14.01</td>\n",
       "      <td>-450.02</td>\n",
       "      <td>12.03</td>\n",
       "      <td>-500.79</td>\n",
       "      <td>8.05</td>\n",
       "      <td>-500.40</td>\n",
       "      <td>8.11</td>\n",
       "      <td>-509.53</td>\n",
       "      <td>4.96</td>\n",
       "      <td>-500.36</td>\n",
       "      <td>25.00</td>\n",
       "      <td>-500.86</td>\n",
       "    </tr>\n",
       "  </tbody>\n",
       "</table>\n",
       "</div>"
      ],
      "text/plain": [
       "                  date  primary_cleaner.input.sulfate  \\\n",
       "0  2016-09-01 00:59:59                         210.80   \n",
       "1  2016-09-01 01:59:59                         215.39   \n",
       "2  2016-09-01 02:59:59                         215.26   \n",
       "3  2016-09-01 03:59:59                         215.34   \n",
       "4  2016-09-01 04:59:59                         199.10   \n",
       "\n",
       "   primary_cleaner.input.depressant  primary_cleaner.input.feed_size  \\\n",
       "0                             14.99                             8.08   \n",
       "1                             14.99                             8.08   \n",
       "2                             12.88                             7.79   \n",
       "3                             12.01                             7.64   \n",
       "4                             10.68                             7.53   \n",
       "\n",
       "   primary_cleaner.input.xanthate  primary_cleaner.state.floatbank8_a_air  \\\n",
       "0                            1.01                                 1398.98   \n",
       "1                            0.99                                 1398.78   \n",
       "2                            1.00                                 1398.49   \n",
       "3                            0.86                                 1399.62   \n",
       "4                            0.81                                 1401.27   \n",
       "\n",
       "   primary_cleaner.state.floatbank8_a_level  \\\n",
       "0                                   -500.23   \n",
       "1                                   -500.06   \n",
       "2                                   -500.87   \n",
       "3                                   -498.86   \n",
       "4                                   -500.81   \n",
       "\n",
       "   primary_cleaner.state.floatbank8_b_air  \\\n",
       "0                                 1399.14   \n",
       "1                                 1398.06   \n",
       "2                                 1398.86   \n",
       "3                                 1397.44   \n",
       "4                                 1398.13   \n",
       "\n",
       "   primary_cleaner.state.floatbank8_b_level  \\\n",
       "0                                   -499.92   \n",
       "1                                   -499.78   \n",
       "2                                   -499.76   \n",
       "3                                   -499.21   \n",
       "4                                   -499.50   \n",
       "\n",
       "   primary_cleaner.state.floatbank8_c_air  \\\n",
       "0                                 1400.10   \n",
       "1                                 1396.15   \n",
       "2                                 1398.08   \n",
       "3                                 1400.13   \n",
       "4                                 1402.17   \n",
       "\n",
       "   primary_cleaner.state.floatbank8_c_level  \\\n",
       "0                                   -500.70   \n",
       "1                                   -499.24   \n",
       "2                                   -502.15   \n",
       "3                                   -498.36   \n",
       "4                                   -500.81   \n",
       "\n",
       "   primary_cleaner.state.floatbank8_d_air  \\\n",
       "0                                 1399.00   \n",
       "1                                 1399.51   \n",
       "2                                 1399.50   \n",
       "3                                 1401.07   \n",
       "4                                 1399.48   \n",
       "\n",
       "   primary_cleaner.state.floatbank8_d_level  rougher.input.feed_ag  \\\n",
       "0                                   -499.49                  13.13   \n",
       "1                                   -500.42                  13.04   \n",
       "2                                   -499.72                  13.14   \n",
       "3                                   -501.04                  12.40   \n",
       "4                                   -499.37                  11.33   \n",
       "\n",
       "   rougher.input.feed_pb  rougher.input.feed_rate  rougher.input.feed_size  \\\n",
       "0                   5.64                   489.79                    62.71   \n",
       "1                   5.53                   490.10                    61.96   \n",
       "2                   5.43                   489.62                    66.90   \n",
       "3                   5.11                   476.62                    59.87   \n",
       "4                   4.77                   488.25                    63.32   \n",
       "\n",
       "   rougher.input.feed_sol  rougher.input.feed_au  \\\n",
       "0                   42.02                  12.08   \n",
       "1                   41.19                  11.92   \n",
       "2                   42.55                  12.09   \n",
       "3                   41.06                  12.18   \n",
       "4                   41.27                  11.29   \n",
       "\n",
       "   rougher.input.floatbank10_sulfate  rougher.input.floatbank10_xanthate  \\\n",
       "0                              16.92                                6.15   \n",
       "1                              17.00                                6.00   \n",
       "2                              16.99                                5.85   \n",
       "3                              16.53                                5.80   \n",
       "4                              13.61                                5.74   \n",
       "\n",
       "   rougher.input.floatbank11_sulfate  rougher.input.floatbank11_xanthate  \\\n",
       "0                              16.87                                6.15   \n",
       "1                              17.00                                6.00   \n",
       "2                              16.98                                5.85   \n",
       "3                              16.52                                5.80   \n",
       "4                              13.65                                5.74   \n",
       "\n",
       "   rougher.state.floatbank10_a_air  rougher.state.floatbank10_a_level  \\\n",
       "0                          1001.85                            -350.30   \n",
       "1                           998.69                            -350.43   \n",
       "2                           998.52                            -349.78   \n",
       "3                          1000.28                            -350.17   \n",
       "4                           996.54                            -350.56   \n",
       "\n",
       "   rougher.state.floatbank10_b_air  rougher.state.floatbank10_b_level  \\\n",
       "0                          1249.74                            -399.11   \n",
       "1                          1248.40                            -399.95   \n",
       "2                          1247.44                            -400.26   \n",
       "3                          1251.32                            -398.66   \n",
       "4                          1304.66                            -399.51   \n",
       "\n",
       "   rougher.state.floatbank10_c_air  rougher.state.floatbank10_c_level  \\\n",
       "0                          1249.75                            -399.40   \n",
       "1                          1249.51                            -399.63   \n",
       "2                          1248.21                            -401.07   \n",
       "3                          1250.49                            -399.75   \n",
       "4                          1306.46                            -399.05   \n",
       "\n",
       "   rougher.state.floatbank10_d_air  rougher.state.floatbank10_d_level  \\\n",
       "0                          1198.29                            -399.49   \n",
       "1                          1200.51                            -399.94   \n",
       "2                          1199.77                            -400.79   \n",
       "3                          1199.40                            -397.50   \n",
       "4                          1248.70                            -400.88   \n",
       "\n",
       "   rougher.state.floatbank10_e_air  rougher.state.floatbank10_e_level  \\\n",
       "0                           999.47                            -399.53   \n",
       "1                          1000.00                            -399.49   \n",
       "2                           999.93                            -399.24   \n",
       "3                          1001.93                            -400.44   \n",
       "4                          1058.84                            -398.99   \n",
       "\n",
       "   rougher.state.floatbank10_f_air  rougher.state.floatbank10_f_level  \\\n",
       "0                           949.57                            -398.18   \n",
       "1                           950.20                            -405.79   \n",
       "2                           950.32                            -400.86   \n",
       "3                           950.74                            -399.80   \n",
       "4                           949.65                            -399.28   \n",
       "\n",
       "   secondary_cleaner.state.floatbank2_a_air  \\\n",
       "0                                     24.94   \n",
       "1                                     24.92   \n",
       "2                                     24.91   \n",
       "3                                     24.89   \n",
       "4                                     24.89   \n",
       "\n",
       "   secondary_cleaner.state.floatbank2_a_level  \\\n",
       "0                                     -500.49   \n",
       "1                                     -499.81   \n",
       "2                                     -500.30   \n",
       "3                                     -499.38   \n",
       "4                                     -499.36   \n",
       "\n",
       "   secondary_cleaner.state.floatbank2_b_air  \\\n",
       "0                                     14.95   \n",
       "1                                     14.93   \n",
       "2                                     15.00   \n",
       "3                                     14.92   \n",
       "4                                     14.98   \n",
       "\n",
       "   secondary_cleaner.state.floatbank2_b_level  \\\n",
       "0                                     -500.01   \n",
       "1                                     -500.76   \n",
       "2                                     -500.99   \n",
       "3                                     -499.86   \n",
       "4                                     -500.19   \n",
       "\n",
       "   secondary_cleaner.state.floatbank3_a_air  \\\n",
       "0                                     20.02   \n",
       "1                                     19.99   \n",
       "2                                     20.04   \n",
       "3                                     20.03   \n",
       "4                                     19.96   \n",
       "\n",
       "   secondary_cleaner.state.floatbank3_a_level  \\\n",
       "0                                     -450.40   \n",
       "1                                     -450.11   \n",
       "2                                     -450.26   \n",
       "3                                     -449.37   \n",
       "4                                     -450.64   \n",
       "\n",
       "   secondary_cleaner.state.floatbank3_b_air  \\\n",
       "0                                     13.99   \n",
       "1                                     14.09   \n",
       "2                                     14.08   \n",
       "3                                     14.01   \n",
       "4                                     14.01   \n",
       "\n",
       "   secondary_cleaner.state.floatbank3_b_level  \\\n",
       "0                                     -449.83   \n",
       "1                                     -450.06   \n",
       "2                                     -449.66   \n",
       "3                                     -449.53   \n",
       "4                                     -450.02   \n",
       "\n",
       "   secondary_cleaner.state.floatbank4_a_air  \\\n",
       "0                                     12.02   \n",
       "1                                     12.06   \n",
       "2                                     11.96   \n",
       "3                                     12.03   \n",
       "4                                     12.03   \n",
       "\n",
       "   secondary_cleaner.state.floatbank4_a_level  \\\n",
       "0                                     -497.80   \n",
       "1                                     -498.70   \n",
       "2                                     -498.77   \n",
       "3                                     -498.35   \n",
       "4                                     -500.79   \n",
       "\n",
       "   secondary_cleaner.state.floatbank4_b_air  \\\n",
       "0                                      8.02   \n",
       "1                                      8.13   \n",
       "2                                      8.10   \n",
       "3                                      8.07   \n",
       "4                                      8.05   \n",
       "\n",
       "   secondary_cleaner.state.floatbank4_b_level  \\\n",
       "0                                     -501.29   \n",
       "1                                     -499.63   \n",
       "2                                     -500.83   \n",
       "3                                     -499.47   \n",
       "4                                     -500.40   \n",
       "\n",
       "   secondary_cleaner.state.floatbank5_a_air  \\\n",
       "0                                      7.95   \n",
       "1                                      7.96   \n",
       "2                                      8.07   \n",
       "3                                      7.90   \n",
       "4                                      8.11   \n",
       "\n",
       "   secondary_cleaner.state.floatbank5_a_level  \\\n",
       "0                                     -432.32   \n",
       "1                                     -525.84   \n",
       "2                                     -500.80   \n",
       "3                                     -500.87   \n",
       "4                                     -509.53   \n",
       "\n",
       "   secondary_cleaner.state.floatbank5_b_air  \\\n",
       "0                                      4.87   \n",
       "1                                      4.88   \n",
       "2                                      4.91   \n",
       "3                                      4.93   \n",
       "4                                      4.96   \n",
       "\n",
       "   secondary_cleaner.state.floatbank5_b_level  \\\n",
       "0                                     -500.04   \n",
       "1                                     -500.16   \n",
       "2                                     -499.83   \n",
       "3                                     -499.96   \n",
       "4                                     -500.36   \n",
       "\n",
       "   secondary_cleaner.state.floatbank6_a_air  \\\n",
       "0                                     26.71   \n",
       "1                                     25.02   \n",
       "2                                     24.99   \n",
       "3                                     24.95   \n",
       "4                                     25.00   \n",
       "\n",
       "   secondary_cleaner.state.floatbank6_a_level  \n",
       "0                                     -499.71  \n",
       "1                                     -499.82  \n",
       "2                                     -500.62  \n",
       "3                                     -498.71  \n",
       "4                                     -500.86  "
      ]
     },
     "metadata": {},
     "output_type": "display_data"
    },
    {
     "name": "stdout",
     "output_type": "stream",
     "text": [
      "<class 'pandas.core.frame.DataFrame'>\n",
      "RangeIndex: 19439 entries, 0 to 19438\n",
      "Data columns (total 87 columns):\n",
      " #   Column                                              Non-Null Count  Dtype  \n",
      "---  ------                                              --------------  -----  \n",
      " 0   date                                                19439 non-null  object \n",
      " 1   final.output.concentrate_ag                         19438 non-null  float64\n",
      " 2   final.output.concentrate_pb                         19438 non-null  float64\n",
      " 3   final.output.concentrate_sol                        19228 non-null  float64\n",
      " 4   final.output.concentrate_au                         19439 non-null  float64\n",
      " 5   final.output.recovery                               19439 non-null  float64\n",
      " 6   final.output.tail_ag                                19438 non-null  float64\n",
      " 7   final.output.tail_pb                                19338 non-null  float64\n",
      " 8   final.output.tail_sol                               19433 non-null  float64\n",
      " 9   final.output.tail_au                                19439 non-null  float64\n",
      " 10  primary_cleaner.input.sulfate                       19415 non-null  float64\n",
      " 11  primary_cleaner.input.depressant                    19402 non-null  float64\n",
      " 12  primary_cleaner.input.feed_size                     19439 non-null  float64\n",
      " 13  primary_cleaner.input.xanthate                      19335 non-null  float64\n",
      " 14  primary_cleaner.output.concentrate_ag               19439 non-null  float64\n",
      " 15  primary_cleaner.output.concentrate_pb               19323 non-null  float64\n",
      " 16  primary_cleaner.output.concentrate_sol              19069 non-null  float64\n",
      " 17  primary_cleaner.output.concentrate_au               19439 non-null  float64\n",
      " 18  primary_cleaner.output.tail_ag                      19435 non-null  float64\n",
      " 19  primary_cleaner.output.tail_pb                      19418 non-null  float64\n",
      " 20  primary_cleaner.output.tail_sol                     19377 non-null  float64\n",
      " 21  primary_cleaner.output.tail_au                      19439 non-null  float64\n",
      " 22  primary_cleaner.state.floatbank8_a_air              19435 non-null  float64\n",
      " 23  primary_cleaner.state.floatbank8_a_level            19438 non-null  float64\n",
      " 24  primary_cleaner.state.floatbank8_b_air              19435 non-null  float64\n",
      " 25  primary_cleaner.state.floatbank8_b_level            19438 non-null  float64\n",
      " 26  primary_cleaner.state.floatbank8_c_air              19437 non-null  float64\n",
      " 27  primary_cleaner.state.floatbank8_c_level            19438 non-null  float64\n",
      " 28  primary_cleaner.state.floatbank8_d_air              19436 non-null  float64\n",
      " 29  primary_cleaner.state.floatbank8_d_level            19438 non-null  float64\n",
      " 30  rougher.calculation.sulfate_to_au_concentrate       19437 non-null  float64\n",
      " 31  rougher.calculation.floatbank10_sulfate_to_au_feed  19437 non-null  float64\n",
      " 32  rougher.calculation.floatbank11_sulfate_to_au_feed  19437 non-null  float64\n",
      " 33  rougher.calculation.au_pb_ratio                     19439 non-null  float64\n",
      " 34  rougher.input.feed_ag                               19439 non-null  float64\n",
      " 35  rougher.input.feed_pb                               19339 non-null  float64\n",
      " 36  rougher.input.feed_rate                             19428 non-null  float64\n",
      " 37  rougher.input.feed_size                             19294 non-null  float64\n",
      " 38  rougher.input.feed_sol                              19340 non-null  float64\n",
      " 39  rougher.input.feed_au                               19439 non-null  float64\n",
      " 40  rougher.input.floatbank10_sulfate                   19405 non-null  float64\n",
      " 41  rougher.input.floatbank10_xanthate                  19431 non-null  float64\n",
      " 42  rougher.input.floatbank11_sulfate                   19395 non-null  float64\n",
      " 43  rougher.input.floatbank11_xanthate                  18986 non-null  float64\n",
      " 44  rougher.output.concentrate_ag                       19439 non-null  float64\n",
      " 45  rougher.output.concentrate_pb                       19439 non-null  float64\n",
      " 46  rougher.output.concentrate_sol                      19416 non-null  float64\n",
      " 47  rougher.output.concentrate_au                       19439 non-null  float64\n",
      " 48  rougher.output.recovery                             19439 non-null  float64\n",
      " 49  rougher.output.tail_ag                              19438 non-null  float64\n",
      " 50  rougher.output.tail_pb                              19439 non-null  float64\n",
      " 51  rougher.output.tail_sol                             19439 non-null  float64\n",
      " 52  rougher.output.tail_au                              19439 non-null  float64\n",
      " 53  rougher.state.floatbank10_a_air                     19438 non-null  float64\n",
      " 54  rougher.state.floatbank10_a_level                   19438 non-null  float64\n",
      " 55  rougher.state.floatbank10_b_air                     19438 non-null  float64\n",
      " 56  rougher.state.floatbank10_b_level                   19438 non-null  float64\n",
      " 57  rougher.state.floatbank10_c_air                     19438 non-null  float64\n",
      " 58  rougher.state.floatbank10_c_level                   19438 non-null  float64\n",
      " 59  rougher.state.floatbank10_d_air                     19439 non-null  float64\n",
      " 60  rougher.state.floatbank10_d_level                   19439 non-null  float64\n",
      " 61  rougher.state.floatbank10_e_air                     19003 non-null  float64\n",
      " 62  rougher.state.floatbank10_e_level                   19439 non-null  float64\n",
      " 63  rougher.state.floatbank10_f_air                     19439 non-null  float64\n",
      " 64  rougher.state.floatbank10_f_level                   19439 non-null  float64\n",
      " 65  secondary_cleaner.output.tail_ag                    19437 non-null  float64\n",
      " 66  secondary_cleaner.output.tail_pb                    19427 non-null  float64\n",
      " 67  secondary_cleaner.output.tail_sol                   17691 non-null  float64\n",
      " 68  secondary_cleaner.output.tail_au                    19439 non-null  float64\n",
      " 69  secondary_cleaner.state.floatbank2_a_air            19219 non-null  float64\n",
      " 70  secondary_cleaner.state.floatbank2_a_level          19438 non-null  float64\n",
      " 71  secondary_cleaner.state.floatbank2_b_air            19416 non-null  float64\n",
      " 72  secondary_cleaner.state.floatbank2_b_level          19438 non-null  float64\n",
      " 73  secondary_cleaner.state.floatbank3_a_air            19426 non-null  float64\n",
      " 74  secondary_cleaner.state.floatbank3_a_level          19438 non-null  float64\n",
      " 75  secondary_cleaner.state.floatbank3_b_air            19438 non-null  float64\n",
      " 76  secondary_cleaner.state.floatbank3_b_level          19438 non-null  float64\n",
      " 77  secondary_cleaner.state.floatbank4_a_air            19433 non-null  float64\n",
      " 78  secondary_cleaner.state.floatbank4_a_level          19438 non-null  float64\n",
      " 79  secondary_cleaner.state.floatbank4_b_air            19438 non-null  float64\n",
      " 80  secondary_cleaner.state.floatbank4_b_level          19438 non-null  float64\n",
      " 81  secondary_cleaner.state.floatbank5_a_air            19438 non-null  float64\n",
      " 82  secondary_cleaner.state.floatbank5_a_level          19438 non-null  float64\n",
      " 83  secondary_cleaner.state.floatbank5_b_air            19438 non-null  float64\n",
      " 84  secondary_cleaner.state.floatbank5_b_level          19438 non-null  float64\n",
      " 85  secondary_cleaner.state.floatbank6_a_air            19437 non-null  float64\n",
      " 86  secondary_cleaner.state.floatbank6_a_level          19438 non-null  float64\n",
      "dtypes: float64(86), object(1)\n",
      "memory usage: 12.9+ MB\n",
      "None\n",
      "date                                                 0.00\n",
      "final.output.concentrate_ag                          0.01\n",
      "final.output.concentrate_pb                          0.01\n",
      "final.output.concentrate_sol                         1.09\n",
      "final.output.concentrate_au                          0.00\n",
      "final.output.recovery                                0.00\n",
      "final.output.tail_ag                                 0.01\n",
      "final.output.tail_pb                                 0.52\n",
      "final.output.tail_sol                                0.03\n",
      "final.output.tail_au                                 0.00\n",
      "primary_cleaner.input.sulfate                        0.12\n",
      "primary_cleaner.input.depressant                     0.19\n",
      "primary_cleaner.input.feed_size                      0.00\n",
      "primary_cleaner.input.xanthate                       0.54\n",
      "primary_cleaner.output.concentrate_ag                0.00\n",
      "primary_cleaner.output.concentrate_pb                0.60\n",
      "primary_cleaner.output.concentrate_sol               1.90\n",
      "primary_cleaner.output.concentrate_au                0.00\n",
      "primary_cleaner.output.tail_ag                       0.02\n",
      "primary_cleaner.output.tail_pb                       0.11\n",
      "primary_cleaner.output.tail_sol                      0.32\n",
      "primary_cleaner.output.tail_au                       0.00\n",
      "primary_cleaner.state.floatbank8_a_air               0.02\n",
      "primary_cleaner.state.floatbank8_a_level             0.01\n",
      "primary_cleaner.state.floatbank8_b_air               0.02\n",
      "primary_cleaner.state.floatbank8_b_level             0.01\n",
      "primary_cleaner.state.floatbank8_c_air               0.01\n",
      "primary_cleaner.state.floatbank8_c_level             0.01\n",
      "primary_cleaner.state.floatbank8_d_air               0.02\n",
      "primary_cleaner.state.floatbank8_d_level             0.01\n",
      "rougher.calculation.sulfate_to_au_concentrate        0.01\n",
      "rougher.calculation.floatbank10_sulfate_to_au_feed   0.01\n",
      "rougher.calculation.floatbank11_sulfate_to_au_feed   0.01\n",
      "rougher.calculation.au_pb_ratio                      0.00\n",
      "rougher.input.feed_ag                                0.00\n",
      "rougher.input.feed_pb                                0.51\n",
      "rougher.input.feed_rate                              0.06\n",
      "rougher.input.feed_size                              0.75\n",
      "rougher.input.feed_sol                               0.51\n",
      "rougher.input.feed_au                                0.00\n",
      "rougher.input.floatbank10_sulfate                    0.17\n",
      "rougher.input.floatbank10_xanthate                   0.04\n",
      "rougher.input.floatbank11_sulfate                    0.23\n",
      "rougher.input.floatbank11_xanthate                   2.33\n",
      "rougher.output.concentrate_ag                        0.00\n",
      "rougher.output.concentrate_pb                        0.00\n",
      "rougher.output.concentrate_sol                       0.12\n",
      "rougher.output.concentrate_au                        0.00\n",
      "rougher.output.recovery                              0.00\n",
      "rougher.output.tail_ag                               0.01\n",
      "rougher.output.tail_pb                               0.00\n",
      "rougher.output.tail_sol                              0.00\n",
      "rougher.output.tail_au                               0.00\n",
      "rougher.state.floatbank10_a_air                      0.01\n",
      "rougher.state.floatbank10_a_level                    0.01\n",
      "rougher.state.floatbank10_b_air                      0.01\n",
      "rougher.state.floatbank10_b_level                    0.01\n",
      "rougher.state.floatbank10_c_air                      0.01\n",
      "rougher.state.floatbank10_c_level                    0.01\n",
      "rougher.state.floatbank10_d_air                      0.00\n",
      "rougher.state.floatbank10_d_level                    0.00\n",
      "rougher.state.floatbank10_e_air                      2.24\n",
      "rougher.state.floatbank10_e_level                    0.00\n",
      "rougher.state.floatbank10_f_air                      0.00\n",
      "rougher.state.floatbank10_f_level                    0.00\n",
      "secondary_cleaner.output.tail_ag                     0.01\n",
      "secondary_cleaner.output.tail_pb                     0.06\n",
      "secondary_cleaner.output.tail_sol                    8.99\n",
      "secondary_cleaner.output.tail_au                     0.00\n",
      "secondary_cleaner.state.floatbank2_a_air             1.13\n",
      "secondary_cleaner.state.floatbank2_a_level           0.01\n",
      "secondary_cleaner.state.floatbank2_b_air             0.12\n",
      "secondary_cleaner.state.floatbank2_b_level           0.01\n",
      "secondary_cleaner.state.floatbank3_a_air             0.07\n",
      "secondary_cleaner.state.floatbank3_a_level           0.01\n",
      "secondary_cleaner.state.floatbank3_b_air             0.01\n",
      "secondary_cleaner.state.floatbank3_b_level           0.01\n",
      "secondary_cleaner.state.floatbank4_a_air             0.03\n",
      "secondary_cleaner.state.floatbank4_a_level           0.01\n",
      "secondary_cleaner.state.floatbank4_b_air             0.01\n",
      "secondary_cleaner.state.floatbank4_b_level           0.01\n",
      "secondary_cleaner.state.floatbank5_a_air             0.01\n",
      "secondary_cleaner.state.floatbank5_a_level           0.01\n",
      "secondary_cleaner.state.floatbank5_b_air             0.01\n",
      "secondary_cleaner.state.floatbank5_b_level           0.01\n",
      "secondary_cleaner.state.floatbank6_a_air             0.01\n",
      "secondary_cleaner.state.floatbank6_a_level           0.01\n",
      "dtype: float64\n"
     ]
    },
    {
     "data": {
      "text/html": [
       "<div>\n",
       "<style scoped>\n",
       "    .dataframe tbody tr th:only-of-type {\n",
       "        vertical-align: middle;\n",
       "    }\n",
       "\n",
       "    .dataframe tbody tr th {\n",
       "        vertical-align: top;\n",
       "    }\n",
       "\n",
       "    .dataframe thead th {\n",
       "        text-align: right;\n",
       "    }\n",
       "</style>\n",
       "<table border=\"1\" class=\"dataframe\">\n",
       "  <thead>\n",
       "    <tr style=\"text-align: right;\">\n",
       "      <th></th>\n",
       "      <th>date</th>\n",
       "      <th>final.output.concentrate_ag</th>\n",
       "      <th>final.output.concentrate_pb</th>\n",
       "      <th>final.output.concentrate_sol</th>\n",
       "      <th>final.output.concentrate_au</th>\n",
       "      <th>final.output.recovery</th>\n",
       "      <th>final.output.tail_ag</th>\n",
       "      <th>final.output.tail_pb</th>\n",
       "      <th>final.output.tail_sol</th>\n",
       "      <th>final.output.tail_au</th>\n",
       "      <th>primary_cleaner.input.sulfate</th>\n",
       "      <th>primary_cleaner.input.depressant</th>\n",
       "      <th>primary_cleaner.input.feed_size</th>\n",
       "      <th>primary_cleaner.input.xanthate</th>\n",
       "      <th>primary_cleaner.output.concentrate_ag</th>\n",
       "      <th>primary_cleaner.output.concentrate_pb</th>\n",
       "      <th>primary_cleaner.output.concentrate_sol</th>\n",
       "      <th>primary_cleaner.output.concentrate_au</th>\n",
       "      <th>primary_cleaner.output.tail_ag</th>\n",
       "      <th>primary_cleaner.output.tail_pb</th>\n",
       "      <th>primary_cleaner.output.tail_sol</th>\n",
       "      <th>primary_cleaner.output.tail_au</th>\n",
       "      <th>primary_cleaner.state.floatbank8_a_air</th>\n",
       "      <th>primary_cleaner.state.floatbank8_a_level</th>\n",
       "      <th>primary_cleaner.state.floatbank8_b_air</th>\n",
       "      <th>primary_cleaner.state.floatbank8_b_level</th>\n",
       "      <th>primary_cleaner.state.floatbank8_c_air</th>\n",
       "      <th>primary_cleaner.state.floatbank8_c_level</th>\n",
       "      <th>primary_cleaner.state.floatbank8_d_air</th>\n",
       "      <th>primary_cleaner.state.floatbank8_d_level</th>\n",
       "      <th>rougher.calculation.sulfate_to_au_concentrate</th>\n",
       "      <th>rougher.calculation.floatbank10_sulfate_to_au_feed</th>\n",
       "      <th>rougher.calculation.floatbank11_sulfate_to_au_feed</th>\n",
       "      <th>rougher.calculation.au_pb_ratio</th>\n",
       "      <th>rougher.input.feed_ag</th>\n",
       "      <th>rougher.input.feed_pb</th>\n",
       "      <th>rougher.input.feed_rate</th>\n",
       "      <th>rougher.input.feed_size</th>\n",
       "      <th>rougher.input.feed_sol</th>\n",
       "      <th>rougher.input.feed_au</th>\n",
       "      <th>rougher.input.floatbank10_sulfate</th>\n",
       "      <th>rougher.input.floatbank10_xanthate</th>\n",
       "      <th>rougher.input.floatbank11_sulfate</th>\n",
       "      <th>rougher.input.floatbank11_xanthate</th>\n",
       "      <th>rougher.output.concentrate_ag</th>\n",
       "      <th>rougher.output.concentrate_pb</th>\n",
       "      <th>rougher.output.concentrate_sol</th>\n",
       "      <th>rougher.output.concentrate_au</th>\n",
       "      <th>rougher.output.recovery</th>\n",
       "      <th>rougher.output.tail_ag</th>\n",
       "      <th>rougher.output.tail_pb</th>\n",
       "      <th>rougher.output.tail_sol</th>\n",
       "      <th>rougher.output.tail_au</th>\n",
       "      <th>rougher.state.floatbank10_a_air</th>\n",
       "      <th>rougher.state.floatbank10_a_level</th>\n",
       "      <th>rougher.state.floatbank10_b_air</th>\n",
       "      <th>rougher.state.floatbank10_b_level</th>\n",
       "      <th>rougher.state.floatbank10_c_air</th>\n",
       "      <th>rougher.state.floatbank10_c_level</th>\n",
       "      <th>rougher.state.floatbank10_d_air</th>\n",
       "      <th>rougher.state.floatbank10_d_level</th>\n",
       "      <th>rougher.state.floatbank10_e_air</th>\n",
       "      <th>rougher.state.floatbank10_e_level</th>\n",
       "      <th>rougher.state.floatbank10_f_air</th>\n",
       "      <th>rougher.state.floatbank10_f_level</th>\n",
       "      <th>secondary_cleaner.output.tail_ag</th>\n",
       "      <th>secondary_cleaner.output.tail_pb</th>\n",
       "      <th>secondary_cleaner.output.tail_sol</th>\n",
       "      <th>secondary_cleaner.output.tail_au</th>\n",
       "      <th>secondary_cleaner.state.floatbank2_a_air</th>\n",
       "      <th>secondary_cleaner.state.floatbank2_a_level</th>\n",
       "      <th>secondary_cleaner.state.floatbank2_b_air</th>\n",
       "      <th>secondary_cleaner.state.floatbank2_b_level</th>\n",
       "      <th>secondary_cleaner.state.floatbank3_a_air</th>\n",
       "      <th>secondary_cleaner.state.floatbank3_a_level</th>\n",
       "      <th>secondary_cleaner.state.floatbank3_b_air</th>\n",
       "      <th>secondary_cleaner.state.floatbank3_b_level</th>\n",
       "      <th>secondary_cleaner.state.floatbank4_a_air</th>\n",
       "      <th>secondary_cleaner.state.floatbank4_a_level</th>\n",
       "      <th>secondary_cleaner.state.floatbank4_b_air</th>\n",
       "      <th>secondary_cleaner.state.floatbank4_b_level</th>\n",
       "      <th>secondary_cleaner.state.floatbank5_a_air</th>\n",
       "      <th>secondary_cleaner.state.floatbank5_a_level</th>\n",
       "      <th>secondary_cleaner.state.floatbank5_b_air</th>\n",
       "      <th>secondary_cleaner.state.floatbank5_b_level</th>\n",
       "      <th>secondary_cleaner.state.floatbank6_a_air</th>\n",
       "      <th>secondary_cleaner.state.floatbank6_a_level</th>\n",
       "    </tr>\n",
       "  </thead>\n",
       "  <tbody>\n",
       "    <tr>\n",
       "      <th>0</th>\n",
       "      <td>2016-01-15 00:00:00</td>\n",
       "      <td>6.06</td>\n",
       "      <td>9.89</td>\n",
       "      <td>5.51</td>\n",
       "      <td>42.19</td>\n",
       "      <td>70.54</td>\n",
       "      <td>10.41</td>\n",
       "      <td>0.90</td>\n",
       "      <td>16.90</td>\n",
       "      <td>2.14</td>\n",
       "      <td>127.09</td>\n",
       "      <td>10.13</td>\n",
       "      <td>7.25</td>\n",
       "      <td>0.99</td>\n",
       "      <td>8.55</td>\n",
       "      <td>10.39</td>\n",
       "      <td>19.53</td>\n",
       "      <td>34.17</td>\n",
       "      <td>14.94</td>\n",
       "      <td>2.53</td>\n",
       "      <td>7.48</td>\n",
       "      <td>2.11</td>\n",
       "      <td>1549.78</td>\n",
       "      <td>-498.91</td>\n",
       "      <td>1551.43</td>\n",
       "      <td>-516.40</td>\n",
       "      <td>1549.87</td>\n",
       "      <td>-498.67</td>\n",
       "      <td>1554.37</td>\n",
       "      <td>-493.43</td>\n",
       "      <td>41885.71</td>\n",
       "      <td>3481.78</td>\n",
       "      <td>3520.34</td>\n",
       "      <td>2.84</td>\n",
       "      <td>6.10</td>\n",
       "      <td>2.28</td>\n",
       "      <td>523.55</td>\n",
       "      <td>55.49</td>\n",
       "      <td>36.81</td>\n",
       "      <td>6.49</td>\n",
       "      <td>11.99</td>\n",
       "      <td>6.01</td>\n",
       "      <td>11.84</td>\n",
       "      <td>6.01</td>\n",
       "      <td>11.50</td>\n",
       "      <td>7.10</td>\n",
       "      <td>28.03</td>\n",
       "      <td>19.79</td>\n",
       "      <td>87.11</td>\n",
       "      <td>5.01</td>\n",
       "      <td>0.51</td>\n",
       "      <td>19.15</td>\n",
       "      <td>1.17</td>\n",
       "      <td>999.71</td>\n",
       "      <td>-404.07</td>\n",
       "      <td>1603.01</td>\n",
       "      <td>-434.72</td>\n",
       "      <td>1602.38</td>\n",
       "      <td>-442.20</td>\n",
       "      <td>1598.94</td>\n",
       "      <td>-451.29</td>\n",
       "      <td>1404.47</td>\n",
       "      <td>-455.46</td>\n",
       "      <td>1416.35</td>\n",
       "      <td>-451.94</td>\n",
       "      <td>14.50</td>\n",
       "      <td>4.69</td>\n",
       "      <td>8.76</td>\n",
       "      <td>2.61</td>\n",
       "      <td>25.85</td>\n",
       "      <td>-498.53</td>\n",
       "      <td>23.89</td>\n",
       "      <td>-501.41</td>\n",
       "      <td>23.96</td>\n",
       "      <td>-495.26</td>\n",
       "      <td>21.94</td>\n",
       "      <td>-499.34</td>\n",
       "      <td>14.02</td>\n",
       "      <td>-502.49</td>\n",
       "      <td>12.10</td>\n",
       "      <td>-504.72</td>\n",
       "      <td>9.93</td>\n",
       "      <td>-498.31</td>\n",
       "      <td>8.08</td>\n",
       "      <td>-500.47</td>\n",
       "      <td>14.15</td>\n",
       "      <td>-605.84</td>\n",
       "    </tr>\n",
       "    <tr>\n",
       "      <th>1</th>\n",
       "      <td>2016-01-15 01:00:00</td>\n",
       "      <td>6.03</td>\n",
       "      <td>9.97</td>\n",
       "      <td>5.26</td>\n",
       "      <td>42.70</td>\n",
       "      <td>69.27</td>\n",
       "      <td>10.46</td>\n",
       "      <td>0.93</td>\n",
       "      <td>16.63</td>\n",
       "      <td>2.22</td>\n",
       "      <td>125.63</td>\n",
       "      <td>10.30</td>\n",
       "      <td>7.25</td>\n",
       "      <td>1.00</td>\n",
       "      <td>8.56</td>\n",
       "      <td>10.50</td>\n",
       "      <td>19.37</td>\n",
       "      <td>34.12</td>\n",
       "      <td>16.25</td>\n",
       "      <td>3.05</td>\n",
       "      <td>6.73</td>\n",
       "      <td>2.35</td>\n",
       "      <td>1576.17</td>\n",
       "      <td>-500.90</td>\n",
       "      <td>1575.95</td>\n",
       "      <td>-499.87</td>\n",
       "      <td>1575.99</td>\n",
       "      <td>-499.32</td>\n",
       "      <td>1574.48</td>\n",
       "      <td>-498.93</td>\n",
       "      <td>42050.86</td>\n",
       "      <td>3498.37</td>\n",
       "      <td>3489.98</td>\n",
       "      <td>2.86</td>\n",
       "      <td>6.16</td>\n",
       "      <td>2.27</td>\n",
       "      <td>525.29</td>\n",
       "      <td>57.28</td>\n",
       "      <td>35.75</td>\n",
       "      <td>6.48</td>\n",
       "      <td>11.97</td>\n",
       "      <td>6.01</td>\n",
       "      <td>12.00</td>\n",
       "      <td>6.01</td>\n",
       "      <td>11.62</td>\n",
       "      <td>7.28</td>\n",
       "      <td>28.07</td>\n",
       "      <td>20.05</td>\n",
       "      <td>86.84</td>\n",
       "      <td>4.96</td>\n",
       "      <td>0.54</td>\n",
       "      <td>18.97</td>\n",
       "      <td>1.18</td>\n",
       "      <td>1000.29</td>\n",
       "      <td>-400.07</td>\n",
       "      <td>1600.75</td>\n",
       "      <td>-449.95</td>\n",
       "      <td>1600.48</td>\n",
       "      <td>-449.83</td>\n",
       "      <td>1600.53</td>\n",
       "      <td>-449.95</td>\n",
       "      <td>1399.23</td>\n",
       "      <td>-450.87</td>\n",
       "      <td>1399.72</td>\n",
       "      <td>-450.12</td>\n",
       "      <td>14.27</td>\n",
       "      <td>4.59</td>\n",
       "      <td>9.00</td>\n",
       "      <td>2.49</td>\n",
       "      <td>25.88</td>\n",
       "      <td>-499.99</td>\n",
       "      <td>23.89</td>\n",
       "      <td>-500.37</td>\n",
       "      <td>23.97</td>\n",
       "      <td>-500.09</td>\n",
       "      <td>22.09</td>\n",
       "      <td>-499.45</td>\n",
       "      <td>13.99</td>\n",
       "      <td>-505.50</td>\n",
       "      <td>11.95</td>\n",
       "      <td>-501.33</td>\n",
       "      <td>10.04</td>\n",
       "      <td>-500.17</td>\n",
       "      <td>7.98</td>\n",
       "      <td>-500.58</td>\n",
       "      <td>14.00</td>\n",
       "      <td>-599.79</td>\n",
       "    </tr>\n",
       "    <tr>\n",
       "      <th>2</th>\n",
       "      <td>2016-01-15 02:00:00</td>\n",
       "      <td>6.06</td>\n",
       "      <td>10.21</td>\n",
       "      <td>5.38</td>\n",
       "      <td>42.66</td>\n",
       "      <td>68.12</td>\n",
       "      <td>10.51</td>\n",
       "      <td>0.95</td>\n",
       "      <td>16.21</td>\n",
       "      <td>2.26</td>\n",
       "      <td>123.82</td>\n",
       "      <td>11.32</td>\n",
       "      <td>7.25</td>\n",
       "      <td>0.99</td>\n",
       "      <td>8.60</td>\n",
       "      <td>10.35</td>\n",
       "      <td>19.17</td>\n",
       "      <td>33.97</td>\n",
       "      <td>16.49</td>\n",
       "      <td>3.12</td>\n",
       "      <td>6.47</td>\n",
       "      <td>2.42</td>\n",
       "      <td>1601.56</td>\n",
       "      <td>-500.00</td>\n",
       "      <td>1600.39</td>\n",
       "      <td>-500.61</td>\n",
       "      <td>1602.00</td>\n",
       "      <td>-500.87</td>\n",
       "      <td>1599.54</td>\n",
       "      <td>-499.83</td>\n",
       "      <td>42018.10</td>\n",
       "      <td>3495.35</td>\n",
       "      <td>3502.36</td>\n",
       "      <td>2.95</td>\n",
       "      <td>6.12</td>\n",
       "      <td>2.16</td>\n",
       "      <td>530.03</td>\n",
       "      <td>57.51</td>\n",
       "      <td>35.97</td>\n",
       "      <td>6.36</td>\n",
       "      <td>11.92</td>\n",
       "      <td>6.20</td>\n",
       "      <td>11.92</td>\n",
       "      <td>6.20</td>\n",
       "      <td>11.70</td>\n",
       "      <td>7.22</td>\n",
       "      <td>27.45</td>\n",
       "      <td>19.74</td>\n",
       "      <td>86.84</td>\n",
       "      <td>4.84</td>\n",
       "      <td>0.55</td>\n",
       "      <td>18.81</td>\n",
       "      <td>1.16</td>\n",
       "      <td>999.72</td>\n",
       "      <td>-400.07</td>\n",
       "      <td>1599.34</td>\n",
       "      <td>-450.01</td>\n",
       "      <td>1599.67</td>\n",
       "      <td>-449.95</td>\n",
       "      <td>1599.85</td>\n",
       "      <td>-449.95</td>\n",
       "      <td>1399.18</td>\n",
       "      <td>-449.94</td>\n",
       "      <td>1400.32</td>\n",
       "      <td>-450.53</td>\n",
       "      <td>14.12</td>\n",
       "      <td>4.62</td>\n",
       "      <td>8.84</td>\n",
       "      <td>2.46</td>\n",
       "      <td>26.01</td>\n",
       "      <td>-499.93</td>\n",
       "      <td>23.89</td>\n",
       "      <td>-499.95</td>\n",
       "      <td>23.91</td>\n",
       "      <td>-499.44</td>\n",
       "      <td>23.96</td>\n",
       "      <td>-499.90</td>\n",
       "      <td>14.02</td>\n",
       "      <td>-502.52</td>\n",
       "      <td>11.91</td>\n",
       "      <td>-501.13</td>\n",
       "      <td>10.07</td>\n",
       "      <td>-500.13</td>\n",
       "      <td>8.01</td>\n",
       "      <td>-500.52</td>\n",
       "      <td>14.03</td>\n",
       "      <td>-601.43</td>\n",
       "    </tr>\n",
       "    <tr>\n",
       "      <th>3</th>\n",
       "      <td>2016-01-15 03:00:00</td>\n",
       "      <td>6.05</td>\n",
       "      <td>9.98</td>\n",
       "      <td>4.86</td>\n",
       "      <td>42.69</td>\n",
       "      <td>68.35</td>\n",
       "      <td>10.42</td>\n",
       "      <td>0.88</td>\n",
       "      <td>16.53</td>\n",
       "      <td>2.15</td>\n",
       "      <td>122.27</td>\n",
       "      <td>11.32</td>\n",
       "      <td>7.25</td>\n",
       "      <td>1.00</td>\n",
       "      <td>7.22</td>\n",
       "      <td>8.50</td>\n",
       "      <td>15.98</td>\n",
       "      <td>28.26</td>\n",
       "      <td>16.02</td>\n",
       "      <td>2.96</td>\n",
       "      <td>6.84</td>\n",
       "      <td>2.26</td>\n",
       "      <td>1599.97</td>\n",
       "      <td>-500.95</td>\n",
       "      <td>1600.66</td>\n",
       "      <td>-499.68</td>\n",
       "      <td>1600.30</td>\n",
       "      <td>-500.73</td>\n",
       "      <td>1600.45</td>\n",
       "      <td>-500.05</td>\n",
       "      <td>42029.45</td>\n",
       "      <td>3498.58</td>\n",
       "      <td>3499.16</td>\n",
       "      <td>3.00</td>\n",
       "      <td>6.04</td>\n",
       "      <td>2.04</td>\n",
       "      <td>542.59</td>\n",
       "      <td>57.79</td>\n",
       "      <td>36.86</td>\n",
       "      <td>6.12</td>\n",
       "      <td>11.63</td>\n",
       "      <td>6.20</td>\n",
       "      <td>11.69</td>\n",
       "      <td>6.20</td>\n",
       "      <td>11.92</td>\n",
       "      <td>7.18</td>\n",
       "      <td>27.34</td>\n",
       "      <td>19.32</td>\n",
       "      <td>87.23</td>\n",
       "      <td>4.66</td>\n",
       "      <td>0.54</td>\n",
       "      <td>19.33</td>\n",
       "      <td>1.08</td>\n",
       "      <td>999.81</td>\n",
       "      <td>-400.20</td>\n",
       "      <td>1600.06</td>\n",
       "      <td>-450.62</td>\n",
       "      <td>1600.01</td>\n",
       "      <td>-449.91</td>\n",
       "      <td>1597.73</td>\n",
       "      <td>-450.13</td>\n",
       "      <td>1400.94</td>\n",
       "      <td>-450.03</td>\n",
       "      <td>1400.23</td>\n",
       "      <td>-449.79</td>\n",
       "      <td>13.73</td>\n",
       "      <td>4.48</td>\n",
       "      <td>9.12</td>\n",
       "      <td>2.32</td>\n",
       "      <td>25.94</td>\n",
       "      <td>-499.18</td>\n",
       "      <td>23.96</td>\n",
       "      <td>-499.85</td>\n",
       "      <td>23.97</td>\n",
       "      <td>-500.01</td>\n",
       "      <td>23.95</td>\n",
       "      <td>-499.94</td>\n",
       "      <td>14.04</td>\n",
       "      <td>-500.86</td>\n",
       "      <td>12.00</td>\n",
       "      <td>-501.19</td>\n",
       "      <td>9.97</td>\n",
       "      <td>-499.20</td>\n",
       "      <td>7.98</td>\n",
       "      <td>-500.26</td>\n",
       "      <td>14.01</td>\n",
       "      <td>-600.00</td>\n",
       "    </tr>\n",
       "    <tr>\n",
       "      <th>4</th>\n",
       "      <td>2016-01-15 04:00:00</td>\n",
       "      <td>6.15</td>\n",
       "      <td>10.14</td>\n",
       "      <td>4.94</td>\n",
       "      <td>42.77</td>\n",
       "      <td>66.93</td>\n",
       "      <td>10.36</td>\n",
       "      <td>0.79</td>\n",
       "      <td>16.53</td>\n",
       "      <td>2.06</td>\n",
       "      <td>117.99</td>\n",
       "      <td>11.91</td>\n",
       "      <td>7.25</td>\n",
       "      <td>1.01</td>\n",
       "      <td>9.09</td>\n",
       "      <td>9.99</td>\n",
       "      <td>19.20</td>\n",
       "      <td>33.04</td>\n",
       "      <td>16.48</td>\n",
       "      <td>3.11</td>\n",
       "      <td>6.55</td>\n",
       "      <td>2.28</td>\n",
       "      <td>1601.34</td>\n",
       "      <td>-498.98</td>\n",
       "      <td>1601.44</td>\n",
       "      <td>-500.32</td>\n",
       "      <td>1599.58</td>\n",
       "      <td>-500.89</td>\n",
       "      <td>1602.65</td>\n",
       "      <td>-500.59</td>\n",
       "      <td>42125.35</td>\n",
       "      <td>3494.80</td>\n",
       "      <td>3506.68</td>\n",
       "      <td>3.17</td>\n",
       "      <td>6.06</td>\n",
       "      <td>1.79</td>\n",
       "      <td>540.53</td>\n",
       "      <td>56.05</td>\n",
       "      <td>34.35</td>\n",
       "      <td>5.66</td>\n",
       "      <td>10.96</td>\n",
       "      <td>6.20</td>\n",
       "      <td>10.96</td>\n",
       "      <td>6.19</td>\n",
       "      <td>12.41</td>\n",
       "      <td>7.24</td>\n",
       "      <td>27.04</td>\n",
       "      <td>19.22</td>\n",
       "      <td>86.69</td>\n",
       "      <td>4.55</td>\n",
       "      <td>0.52</td>\n",
       "      <td>19.27</td>\n",
       "      <td>1.01</td>\n",
       "      <td>999.68</td>\n",
       "      <td>-399.75</td>\n",
       "      <td>1600.21</td>\n",
       "      <td>-449.60</td>\n",
       "      <td>1600.36</td>\n",
       "      <td>-450.03</td>\n",
       "      <td>1599.76</td>\n",
       "      <td>-449.91</td>\n",
       "      <td>1401.56</td>\n",
       "      <td>-448.88</td>\n",
       "      <td>1401.16</td>\n",
       "      <td>-450.41</td>\n",
       "      <td>14.08</td>\n",
       "      <td>4.47</td>\n",
       "      <td>8.87</td>\n",
       "      <td>2.33</td>\n",
       "      <td>26.02</td>\n",
       "      <td>-500.28</td>\n",
       "      <td>23.96</td>\n",
       "      <td>-500.59</td>\n",
       "      <td>23.99</td>\n",
       "      <td>-500.08</td>\n",
       "      <td>23.96</td>\n",
       "      <td>-499.99</td>\n",
       "      <td>14.03</td>\n",
       "      <td>-499.84</td>\n",
       "      <td>11.95</td>\n",
       "      <td>-501.05</td>\n",
       "      <td>9.93</td>\n",
       "      <td>-501.69</td>\n",
       "      <td>7.89</td>\n",
       "      <td>-500.36</td>\n",
       "      <td>14.00</td>\n",
       "      <td>-601.50</td>\n",
       "    </tr>\n",
       "  </tbody>\n",
       "</table>\n",
       "</div>"
      ],
      "text/plain": [
       "                  date  final.output.concentrate_ag  \\\n",
       "0  2016-01-15 00:00:00                         6.06   \n",
       "1  2016-01-15 01:00:00                         6.03   \n",
       "2  2016-01-15 02:00:00                         6.06   \n",
       "3  2016-01-15 03:00:00                         6.05   \n",
       "4  2016-01-15 04:00:00                         6.15   \n",
       "\n",
       "   final.output.concentrate_pb  final.output.concentrate_sol  \\\n",
       "0                         9.89                          5.51   \n",
       "1                         9.97                          5.26   \n",
       "2                        10.21                          5.38   \n",
       "3                         9.98                          4.86   \n",
       "4                        10.14                          4.94   \n",
       "\n",
       "   final.output.concentrate_au  final.output.recovery  final.output.tail_ag  \\\n",
       "0                        42.19                  70.54                 10.41   \n",
       "1                        42.70                  69.27                 10.46   \n",
       "2                        42.66                  68.12                 10.51   \n",
       "3                        42.69                  68.35                 10.42   \n",
       "4                        42.77                  66.93                 10.36   \n",
       "\n",
       "   final.output.tail_pb  final.output.tail_sol  final.output.tail_au  \\\n",
       "0                  0.90                  16.90                  2.14   \n",
       "1                  0.93                  16.63                  2.22   \n",
       "2                  0.95                  16.21                  2.26   \n",
       "3                  0.88                  16.53                  2.15   \n",
       "4                  0.79                  16.53                  2.06   \n",
       "\n",
       "   primary_cleaner.input.sulfate  primary_cleaner.input.depressant  \\\n",
       "0                         127.09                             10.13   \n",
       "1                         125.63                             10.30   \n",
       "2                         123.82                             11.32   \n",
       "3                         122.27                             11.32   \n",
       "4                         117.99                             11.91   \n",
       "\n",
       "   primary_cleaner.input.feed_size  primary_cleaner.input.xanthate  \\\n",
       "0                             7.25                            0.99   \n",
       "1                             7.25                            1.00   \n",
       "2                             7.25                            0.99   \n",
       "3                             7.25                            1.00   \n",
       "4                             7.25                            1.01   \n",
       "\n",
       "   primary_cleaner.output.concentrate_ag  \\\n",
       "0                                   8.55   \n",
       "1                                   8.56   \n",
       "2                                   8.60   \n",
       "3                                   7.22   \n",
       "4                                   9.09   \n",
       "\n",
       "   primary_cleaner.output.concentrate_pb  \\\n",
       "0                                  10.39   \n",
       "1                                  10.50   \n",
       "2                                  10.35   \n",
       "3                                   8.50   \n",
       "4                                   9.99   \n",
       "\n",
       "   primary_cleaner.output.concentrate_sol  \\\n",
       "0                                   19.53   \n",
       "1                                   19.37   \n",
       "2                                   19.17   \n",
       "3                                   15.98   \n",
       "4                                   19.20   \n",
       "\n",
       "   primary_cleaner.output.concentrate_au  primary_cleaner.output.tail_ag  \\\n",
       "0                                  34.17                           14.94   \n",
       "1                                  34.12                           16.25   \n",
       "2                                  33.97                           16.49   \n",
       "3                                  28.26                           16.02   \n",
       "4                                  33.04                           16.48   \n",
       "\n",
       "   primary_cleaner.output.tail_pb  primary_cleaner.output.tail_sol  \\\n",
       "0                            2.53                             7.48   \n",
       "1                            3.05                             6.73   \n",
       "2                            3.12                             6.47   \n",
       "3                            2.96                             6.84   \n",
       "4                            3.11                             6.55   \n",
       "\n",
       "   primary_cleaner.output.tail_au  primary_cleaner.state.floatbank8_a_air  \\\n",
       "0                            2.11                                 1549.78   \n",
       "1                            2.35                                 1576.17   \n",
       "2                            2.42                                 1601.56   \n",
       "3                            2.26                                 1599.97   \n",
       "4                            2.28                                 1601.34   \n",
       "\n",
       "   primary_cleaner.state.floatbank8_a_level  \\\n",
       "0                                   -498.91   \n",
       "1                                   -500.90   \n",
       "2                                   -500.00   \n",
       "3                                   -500.95   \n",
       "4                                   -498.98   \n",
       "\n",
       "   primary_cleaner.state.floatbank8_b_air  \\\n",
       "0                                 1551.43   \n",
       "1                                 1575.95   \n",
       "2                                 1600.39   \n",
       "3                                 1600.66   \n",
       "4                                 1601.44   \n",
       "\n",
       "   primary_cleaner.state.floatbank8_b_level  \\\n",
       "0                                   -516.40   \n",
       "1                                   -499.87   \n",
       "2                                   -500.61   \n",
       "3                                   -499.68   \n",
       "4                                   -500.32   \n",
       "\n",
       "   primary_cleaner.state.floatbank8_c_air  \\\n",
       "0                                 1549.87   \n",
       "1                                 1575.99   \n",
       "2                                 1602.00   \n",
       "3                                 1600.30   \n",
       "4                                 1599.58   \n",
       "\n",
       "   primary_cleaner.state.floatbank8_c_level  \\\n",
       "0                                   -498.67   \n",
       "1                                   -499.32   \n",
       "2                                   -500.87   \n",
       "3                                   -500.73   \n",
       "4                                   -500.89   \n",
       "\n",
       "   primary_cleaner.state.floatbank8_d_air  \\\n",
       "0                                 1554.37   \n",
       "1                                 1574.48   \n",
       "2                                 1599.54   \n",
       "3                                 1600.45   \n",
       "4                                 1602.65   \n",
       "\n",
       "   primary_cleaner.state.floatbank8_d_level  \\\n",
       "0                                   -493.43   \n",
       "1                                   -498.93   \n",
       "2                                   -499.83   \n",
       "3                                   -500.05   \n",
       "4                                   -500.59   \n",
       "\n",
       "   rougher.calculation.sulfate_to_au_concentrate  \\\n",
       "0                                       41885.71   \n",
       "1                                       42050.86   \n",
       "2                                       42018.10   \n",
       "3                                       42029.45   \n",
       "4                                       42125.35   \n",
       "\n",
       "   rougher.calculation.floatbank10_sulfate_to_au_feed  \\\n",
       "0                                            3481.78    \n",
       "1                                            3498.37    \n",
       "2                                            3495.35    \n",
       "3                                            3498.58    \n",
       "4                                            3494.80    \n",
       "\n",
       "   rougher.calculation.floatbank11_sulfate_to_au_feed  \\\n",
       "0                                            3520.34    \n",
       "1                                            3489.98    \n",
       "2                                            3502.36    \n",
       "3                                            3499.16    \n",
       "4                                            3506.68    \n",
       "\n",
       "   rougher.calculation.au_pb_ratio  rougher.input.feed_ag  \\\n",
       "0                             2.84                   6.10   \n",
       "1                             2.86                   6.16   \n",
       "2                             2.95                   6.12   \n",
       "3                             3.00                   6.04   \n",
       "4                             3.17                   6.06   \n",
       "\n",
       "   rougher.input.feed_pb  rougher.input.feed_rate  rougher.input.feed_size  \\\n",
       "0                   2.28                   523.55                    55.49   \n",
       "1                   2.27                   525.29                    57.28   \n",
       "2                   2.16                   530.03                    57.51   \n",
       "3                   2.04                   542.59                    57.79   \n",
       "4                   1.79                   540.53                    56.05   \n",
       "\n",
       "   rougher.input.feed_sol  rougher.input.feed_au  \\\n",
       "0                   36.81                   6.49   \n",
       "1                   35.75                   6.48   \n",
       "2                   35.97                   6.36   \n",
       "3                   36.86                   6.12   \n",
       "4                   34.35                   5.66   \n",
       "\n",
       "   rougher.input.floatbank10_sulfate  rougher.input.floatbank10_xanthate  \\\n",
       "0                              11.99                                6.01   \n",
       "1                              11.97                                6.01   \n",
       "2                              11.92                                6.20   \n",
       "3                              11.63                                6.20   \n",
       "4                              10.96                                6.20   \n",
       "\n",
       "   rougher.input.floatbank11_sulfate  rougher.input.floatbank11_xanthate  \\\n",
       "0                              11.84                                6.01   \n",
       "1                              12.00                                6.01   \n",
       "2                              11.92                                6.20   \n",
       "3                              11.69                                6.20   \n",
       "4                              10.96                                6.19   \n",
       "\n",
       "   rougher.output.concentrate_ag  rougher.output.concentrate_pb  \\\n",
       "0                          11.50                           7.10   \n",
       "1                          11.62                           7.28   \n",
       "2                          11.70                           7.22   \n",
       "3                          11.92                           7.18   \n",
       "4                          12.41                           7.24   \n",
       "\n",
       "   rougher.output.concentrate_sol  rougher.output.concentrate_au  \\\n",
       "0                           28.03                          19.79   \n",
       "1                           28.07                          20.05   \n",
       "2                           27.45                          19.74   \n",
       "3                           27.34                          19.32   \n",
       "4                           27.04                          19.22   \n",
       "\n",
       "   rougher.output.recovery  rougher.output.tail_ag  rougher.output.tail_pb  \\\n",
       "0                    87.11                    5.01                    0.51   \n",
       "1                    86.84                    4.96                    0.54   \n",
       "2                    86.84                    4.84                    0.55   \n",
       "3                    87.23                    4.66                    0.54   \n",
       "4                    86.69                    4.55                    0.52   \n",
       "\n",
       "   rougher.output.tail_sol  rougher.output.tail_au  \\\n",
       "0                    19.15                    1.17   \n",
       "1                    18.97                    1.18   \n",
       "2                    18.81                    1.16   \n",
       "3                    19.33                    1.08   \n",
       "4                    19.27                    1.01   \n",
       "\n",
       "   rougher.state.floatbank10_a_air  rougher.state.floatbank10_a_level  \\\n",
       "0                           999.71                            -404.07   \n",
       "1                          1000.29                            -400.07   \n",
       "2                           999.72                            -400.07   \n",
       "3                           999.81                            -400.20   \n",
       "4                           999.68                            -399.75   \n",
       "\n",
       "   rougher.state.floatbank10_b_air  rougher.state.floatbank10_b_level  \\\n",
       "0                          1603.01                            -434.72   \n",
       "1                          1600.75                            -449.95   \n",
       "2                          1599.34                            -450.01   \n",
       "3                          1600.06                            -450.62   \n",
       "4                          1600.21                            -449.60   \n",
       "\n",
       "   rougher.state.floatbank10_c_air  rougher.state.floatbank10_c_level  \\\n",
       "0                          1602.38                            -442.20   \n",
       "1                          1600.48                            -449.83   \n",
       "2                          1599.67                            -449.95   \n",
       "3                          1600.01                            -449.91   \n",
       "4                          1600.36                            -450.03   \n",
       "\n",
       "   rougher.state.floatbank10_d_air  rougher.state.floatbank10_d_level  \\\n",
       "0                          1598.94                            -451.29   \n",
       "1                          1600.53                            -449.95   \n",
       "2                          1599.85                            -449.95   \n",
       "3                          1597.73                            -450.13   \n",
       "4                          1599.76                            -449.91   \n",
       "\n",
       "   rougher.state.floatbank10_e_air  rougher.state.floatbank10_e_level  \\\n",
       "0                          1404.47                            -455.46   \n",
       "1                          1399.23                            -450.87   \n",
       "2                          1399.18                            -449.94   \n",
       "3                          1400.94                            -450.03   \n",
       "4                          1401.56                            -448.88   \n",
       "\n",
       "   rougher.state.floatbank10_f_air  rougher.state.floatbank10_f_level  \\\n",
       "0                          1416.35                            -451.94   \n",
       "1                          1399.72                            -450.12   \n",
       "2                          1400.32                            -450.53   \n",
       "3                          1400.23                            -449.79   \n",
       "4                          1401.16                            -450.41   \n",
       "\n",
       "   secondary_cleaner.output.tail_ag  secondary_cleaner.output.tail_pb  \\\n",
       "0                             14.50                              4.69   \n",
       "1                             14.27                              4.59   \n",
       "2                             14.12                              4.62   \n",
       "3                             13.73                              4.48   \n",
       "4                             14.08                              4.47   \n",
       "\n",
       "   secondary_cleaner.output.tail_sol  secondary_cleaner.output.tail_au  \\\n",
       "0                               8.76                              2.61   \n",
       "1                               9.00                              2.49   \n",
       "2                               8.84                              2.46   \n",
       "3                               9.12                              2.32   \n",
       "4                               8.87                              2.33   \n",
       "\n",
       "   secondary_cleaner.state.floatbank2_a_air  \\\n",
       "0                                     25.85   \n",
       "1                                     25.88   \n",
       "2                                     26.01   \n",
       "3                                     25.94   \n",
       "4                                     26.02   \n",
       "\n",
       "   secondary_cleaner.state.floatbank2_a_level  \\\n",
       "0                                     -498.53   \n",
       "1                                     -499.99   \n",
       "2                                     -499.93   \n",
       "3                                     -499.18   \n",
       "4                                     -500.28   \n",
       "\n",
       "   secondary_cleaner.state.floatbank2_b_air  \\\n",
       "0                                     23.89   \n",
       "1                                     23.89   \n",
       "2                                     23.89   \n",
       "3                                     23.96   \n",
       "4                                     23.96   \n",
       "\n",
       "   secondary_cleaner.state.floatbank2_b_level  \\\n",
       "0                                     -501.41   \n",
       "1                                     -500.37   \n",
       "2                                     -499.95   \n",
       "3                                     -499.85   \n",
       "4                                     -500.59   \n",
       "\n",
       "   secondary_cleaner.state.floatbank3_a_air  \\\n",
       "0                                     23.96   \n",
       "1                                     23.97   \n",
       "2                                     23.91   \n",
       "3                                     23.97   \n",
       "4                                     23.99   \n",
       "\n",
       "   secondary_cleaner.state.floatbank3_a_level  \\\n",
       "0                                     -495.26   \n",
       "1                                     -500.09   \n",
       "2                                     -499.44   \n",
       "3                                     -500.01   \n",
       "4                                     -500.08   \n",
       "\n",
       "   secondary_cleaner.state.floatbank3_b_air  \\\n",
       "0                                     21.94   \n",
       "1                                     22.09   \n",
       "2                                     23.96   \n",
       "3                                     23.95   \n",
       "4                                     23.96   \n",
       "\n",
       "   secondary_cleaner.state.floatbank3_b_level  \\\n",
       "0                                     -499.34   \n",
       "1                                     -499.45   \n",
       "2                                     -499.90   \n",
       "3                                     -499.94   \n",
       "4                                     -499.99   \n",
       "\n",
       "   secondary_cleaner.state.floatbank4_a_air  \\\n",
       "0                                     14.02   \n",
       "1                                     13.99   \n",
       "2                                     14.02   \n",
       "3                                     14.04   \n",
       "4                                     14.03   \n",
       "\n",
       "   secondary_cleaner.state.floatbank4_a_level  \\\n",
       "0                                     -502.49   \n",
       "1                                     -505.50   \n",
       "2                                     -502.52   \n",
       "3                                     -500.86   \n",
       "4                                     -499.84   \n",
       "\n",
       "   secondary_cleaner.state.floatbank4_b_air  \\\n",
       "0                                     12.10   \n",
       "1                                     11.95   \n",
       "2                                     11.91   \n",
       "3                                     12.00   \n",
       "4                                     11.95   \n",
       "\n",
       "   secondary_cleaner.state.floatbank4_b_level  \\\n",
       "0                                     -504.72   \n",
       "1                                     -501.33   \n",
       "2                                     -501.13   \n",
       "3                                     -501.19   \n",
       "4                                     -501.05   \n",
       "\n",
       "   secondary_cleaner.state.floatbank5_a_air  \\\n",
       "0                                      9.93   \n",
       "1                                     10.04   \n",
       "2                                     10.07   \n",
       "3                                      9.97   \n",
       "4                                      9.93   \n",
       "\n",
       "   secondary_cleaner.state.floatbank5_a_level  \\\n",
       "0                                     -498.31   \n",
       "1                                     -500.17   \n",
       "2                                     -500.13   \n",
       "3                                     -499.20   \n",
       "4                                     -501.69   \n",
       "\n",
       "   secondary_cleaner.state.floatbank5_b_air  \\\n",
       "0                                      8.08   \n",
       "1                                      7.98   \n",
       "2                                      8.01   \n",
       "3                                      7.98   \n",
       "4                                      7.89   \n",
       "\n",
       "   secondary_cleaner.state.floatbank5_b_level  \\\n",
       "0                                     -500.47   \n",
       "1                                     -500.58   \n",
       "2                                     -500.52   \n",
       "3                                     -500.26   \n",
       "4                                     -500.36   \n",
       "\n",
       "   secondary_cleaner.state.floatbank6_a_air  \\\n",
       "0                                     14.15   \n",
       "1                                     14.00   \n",
       "2                                     14.03   \n",
       "3                                     14.01   \n",
       "4                                     14.00   \n",
       "\n",
       "   secondary_cleaner.state.floatbank6_a_level  \n",
       "0                                     -605.84  \n",
       "1                                     -599.79  \n",
       "2                                     -601.43  \n",
       "3                                     -600.00  \n",
       "4                                     -601.50  "
      ]
     },
     "metadata": {},
     "output_type": "display_data"
    }
   ],
   "source": [
    "list_data = [data_train, data_test, data_all]\n",
    "\n",
    "for data in list_data:\n",
    "    data_info(data)"
   ]
  },
  {
   "cell_type": "markdown",
   "metadata": {},
   "source": [
    "Из информаии о фреймах видно, что в данных имеются пропуски, а датасет data_test не имеет ряд столбцов, которые есть в других датасетах."
   ]
  },
  {
   "cell_type": "markdown",
   "metadata": {},
   "source": [
    "### Проверка рассчёта эффективности обогащения"
   ]
  },
  {
   "cell_type": "markdown",
   "metadata": {},
   "source": [
    "Выполним проверку расчёта эффективности обогащение по формуле из ТЗ. Для локоничности созданим новые объекты Pandas и рассчитаем MAE."
   ]
  },
  {
   "cell_type": "code",
   "execution_count": 6,
   "metadata": {
    "scrolled": false
   },
   "outputs": [
    {
     "name": "stdout",
     "output_type": "stream",
     "text": [
      "MAE: 9.73512347450521e-15\n"
     ]
    }
   ],
   "source": [
    "c_rec = data_train['rougher.output.concentrate_au']\n",
    "f_rec = data_train['rougher.input.feed_au']\n",
    "t_rec = data_train['rougher.output.tail_au']\n",
    "\n",
    "data_train_1 = pd.DataFrame()\n",
    "data_train_1['recovery'] = data_train['rougher.output.recovery']\n",
    "data_train_1['calculate_recovery'] = ((c_rec * (f_rec - t_rec)) / (f_rec * (c_rec - t_rec))) * 100\n",
    "\n",
    "print('MAE:', mean_absolute_error(data_train_1['calculate_recovery'], data_train_1['recovery']))"
   ]
  },
  {
   "cell_type": "markdown",
   "metadata": {},
   "source": [
    "Значение MAE очень мало, из этого следует, что рассчёт верен."
   ]
  },
  {
   "cell_type": "markdown",
   "metadata": {},
   "source": [
    "### Анализ признаков"
   ]
  },
  {
   "cell_type": "markdown",
   "metadata": {},
   "source": [
    "Изпользуя инструменты работы со множествами, ознакомимся с признаками, которые отсутствуют в тестовой выборке."
   ]
  },
  {
   "cell_type": "code",
   "execution_count": 7,
   "metadata": {},
   "outputs": [
    {
     "name": "stdout",
     "output_type": "stream",
     "text": [
      "{'final.output.tail_pb', 'rougher.output.tail_ag', 'primary_cleaner.output.tail_pb', 'rougher.output.concentrate_ag', 'secondary_cleaner.output.tail_pb', 'final.output.concentrate_sol', 'final.output.tail_au', 'primary_cleaner.output.tail_sol', 'final.output.concentrate_au', 'rougher.calculation.floatbank11_sulfate_to_au_feed', 'rougher.output.concentrate_sol', 'secondary_cleaner.output.tail_au', 'secondary_cleaner.output.tail_ag', 'rougher.output.tail_sol', 'primary_cleaner.output.concentrate_sol', 'rougher.output.concentrate_pb', 'final.output.tail_sol', 'rougher.calculation.sulfate_to_au_concentrate', 'rougher.calculation.au_pb_ratio', 'rougher.output.concentrate_au', 'final.output.concentrate_pb', 'primary_cleaner.output.concentrate_pb', 'primary_cleaner.output.tail_ag', 'final.output.recovery', 'primary_cleaner.output.concentrate_ag', 'rougher.calculation.floatbank10_sulfate_to_au_feed', 'final.output.concentrate_ag', 'secondary_cleaner.output.tail_sol', 'rougher.output.recovery', 'rougher.output.tail_pb', 'primary_cleaner.output.tail_au', 'rougher.output.tail_au', 'final.output.tail_ag', 'primary_cleaner.output.concentrate_au'}\n"
     ]
    }
   ],
   "source": [
    "set_train = set(data_train.columns)\n",
    "set_valid = set(data_test.columns)\n",
    "\n",
    "drop_col = set_train.difference(set_valid)\n",
    "print(drop_col)"
   ]
  },
  {
   "cell_type": "markdown",
   "metadata": {},
   "source": [
    "Как видно из списка, в тестовой выборке нет елевых призаков *final.output.recovery* и *rougher.output.recovery*, а так же целого набора признаков. Судя по наименованиям, они становятся известны в хоже выполнения тех. процесса. При подготовке данных для обучения модели, **необходимо будет из тренировочной выборки удалить данные признаки**, дабы модель училась только на актуальных к моменту предсказания данных."
   ]
  },
  {
   "cell_type": "markdown",
   "metadata": {},
   "source": [
    "### Предобработка данных"
   ]
  },
  {
   "cell_type": "markdown",
   "metadata": {},
   "source": [
    "Из первичного ознакомления с датасетами известно, что в них имеются пропуски, а так же, неверно определен формат столбца `date`.\n",
    "\n",
    "Пропуски заполним средним арифметических по столбу, формат столбца `date` приведем к формату `datetime`."
   ]
  },
  {
   "cell_type": "code",
   "execution_count": 8,
   "metadata": {},
   "outputs": [],
   "source": [
    "def eda(data):\n",
    "    list_columns = data.columns\n",
    "    # проидёмся по каждому столбцу инд. что бы получить среднее\n",
    "    \n",
    "    for col in list_columns:\n",
    "        \n",
    "        if data[col].isna().sum() > 0:\n",
    "            mean = data[col].mean()\n",
    "            data[col] = data[col].ffill(axis=0)\n",
    "        else:\n",
    "            continue\n",
    "            \n",
    "    # в каждом датасете приведем дату к верному формату\n",
    "    data['date'] = pd.to_datetime(data['date'], format='%Y-%m-%d %H:%M:%S')\n",
    "    return data\n",
    "\n",
    "data_train = eda(data_train)\n",
    "data_test = eda(data_test)\n",
    "data_all = eda(data_all)"
   ]
  },
  {
   "cell_type": "markdown",
   "metadata": {},
   "source": [
    "### Вывод"
   ]
  },
  {
   "cell_type": "markdown",
   "metadata": {},
   "source": [
    "В первой части работы мы подгрузили необходимые бибилиотеки, первично ознакомились с датасетами, убедились, что рассчёт эффективности выполнен в фреймах корректно, и произвели первичную обработку данных."
   ]
  },
  {
   "cell_type": "markdown",
   "metadata": {},
   "source": [
    "## Анализ данных"
   ]
  },
  {
   "cell_type": "markdown",
   "metadata": {},
   "source": [
    "### Исследование изменения конентрации металлов"
   ]
  },
  {
   "cell_type": "markdown",
   "metadata": {},
   "source": [
    "Нам необходимо исследовать изменение концентрации металоов на трех этапах:\n",
    "\n",
    "- Флотация\n",
    "- Очистка\n",
    "- Итог\n",
    "\n",
    "Для этого, подготовим три датасета, каждом из которых будут содержаться данных по трём этапам по каждому металлу отдельно.\n",
    "Так же сразу подготовим данных для следующего этапа - создадим датасеты с данными о размерах зерен на двух этапах в тренировочной и тестовой выборках."
   ]
  },
  {
   "cell_type": "code",
   "execution_count": 9,
   "metadata": {},
   "outputs": [],
   "source": [
    "data_au = data_all[['rougher.output.concentrate_au',\n",
    "                     'primary_cleaner.output.concentrate_au', 'final.output.concentrate_au']]\n",
    "data_ag = data_all[['rougher.output.concentrate_ag',\n",
    "                     'primary_cleaner.output.concentrate_ag', 'final.output.concentrate_ag']]\n",
    "data_pb = data_all[['rougher.output.concentrate_pb',\n",
    "                     'primary_cleaner.output.concentrate_pb', 'final.output.concentrate_pb']]"
   ]
  },
  {
   "cell_type": "markdown",
   "metadata": {},
   "source": [
    "Для автоматизации проесса, подготовим функцию, которая будет принимать на вход датасет, и информационные параметры, строить графическое изобраение распределения и возвращать его.\n",
    "\n",
    "Для визуализации распределений будем использовать гистограммы и графики типа boxplot."
   ]
  },
  {
   "cell_type": "code",
   "execution_count": 10,
   "metadata": {},
   "outputs": [],
   "source": [
    "def histplot_con(data, titles, labels):\n",
    "    fig = plt.figure(figsize=(12,7))\n",
    "    fig = plt.xlabel(labels)\n",
    "    fig = plt.title(titles)\n",
    "    fig = plt.grid()\n",
    "    ax = sns.histplot(data, alpha=0.4, figure=fig)\n",
    "    plt.show()\n",
    "    data.boxplot(figsize=(12,7), grid=True)\n",
    "    plt.ylabel(labels)\n",
    "    plt.title(titles)"
   ]
  },
  {
   "cell_type": "markdown",
   "metadata": {},
   "source": [
    "Поочередно выведем визуализацию распределения для каждого металла."
   ]
  },
  {
   "cell_type": "code",
   "execution_count": 11,
   "metadata": {},
   "outputs": [
    {
     "data": {
      "image/png": "[encoded data removed]",
      "text/plain": [
       "<Figure size 864x504 with 1 Axes>"
      ]
     },
     "metadata": {
      "needs_background": "light"
     },
     "output_type": "display_data"
    },
    {
     "data": {
      "image/png": "[encoded data removed]",
      "text/plain": [
       "<Figure size 864x504 with 1 Axes>"
      ]
     },
     "metadata": {
      "needs_background": "light"
     },
     "output_type": "display_data"
    }
   ],
   "source": [
    "histplot_con(data_au,'Изменение концентрации Au', 'Концентрация')"
   ]
  },
  {
   "cell_type": "code",
   "execution_count": 12,
   "metadata": {},
   "outputs": [
    {
     "data": {
      "image/png": "[encoded data removed]",
      "text/plain": [
       "<Figure size 864x504 with 1 Axes>"
      ]
     },
     "metadata": {
      "needs_background": "light"
     },
     "output_type": "display_data"
    },
    {
     "data": {
      "image/png": "[encoded data removed]",
      "text/plain": [
       "<Figure size 864x504 with 1 Axes>"
      ]
     },
     "metadata": {
      "needs_background": "light"
     },
     "output_type": "display_data"
    }
   ],
   "source": [
    "histplot_con(data_ag,'Изменение концентрации Ag', 'Концентрация')"
   ]
  },
  {
   "cell_type": "code",
   "execution_count": 13,
   "metadata": {},
   "outputs": [
    {
     "data": {
      "image/png": "[encoded data removed]",
      "text/plain": [
       "<Figure size 864x504 with 1 Axes>"
      ]
     },
     "metadata": {
      "needs_background": "light"
     },
     "output_type": "display_data"
    },
    {
     "data": {
      "image/png": "[encoded data removed]",
      "text/plain": [
       "<Figure size 864x504 with 1 Axes>"
      ]
     },
     "metadata": {
      "needs_background": "light"
     },
     "output_type": "display_data"
    }
   ],
   "source": [
    "histplot_con(data_pb,'Изменение концентрации Pb', 'Концентрация')"
   ]
  },
  {
   "cell_type": "markdown",
   "metadata": {},
   "source": [
    "Из графиков распределение может сделать следубщие выводы:\n",
    "\n",
    "1. Концентрация золота растет по мере прохождения тех. процесса;\n",
    "2. Концентрация серебра падает;\n",
    "3. Концетрация свинца скорее имеет тренд к росту, но незначительному.\n",
    "\n",
    "Данные выводы ложатся не протиречат логике о тех. проессе. Замечаний нет.\n",
    "\n",
    "Отдельно необходимо отметить аномалии - большое количество наблюдений с 0 концентрацией. Причины данной аномалии предположить сложно, но устранить её будет необходимо после уточнений (рассмотрения суммарной концетрации)."
   ]
  },
  {
   "cell_type": "markdown",
   "metadata": {},
   "source": [
    "### Исследование распределения гранул"
   ]
  },
  {
   "cell_type": "markdown",
   "metadata": {},
   "source": [
    "Воспользуемся заранее подготовленными датасетами и исследуем распределение размеров гранул. В качестве визуализаии ограничемся гистограммами, но ещё ознакомимся и с числовым описанием данных."
   ]
  },
  {
   "cell_type": "code",
   "execution_count": 14,
   "metadata": {},
   "outputs": [
    {
     "data": {
      "image/png": "[encoded data removed]",
      "text/plain": [
       "<Figure size 1080x576 with 1 Axes>"
      ]
     },
     "metadata": {
      "needs_background": "light"
     },
     "output_type": "display_data"
    }
   ],
   "source": [
    "fig = plt.figure(figsize=(15,8))\n",
    "fig = plt.xlabel('Размер зерен')\n",
    "fig = plt.title('Распределение размеров зерен, этап флотации')\n",
    "fig = plt.grid()\n",
    "ax = sns.histplot(data=data_train['rougher.input.feed_size'], alpha=0.7, figure=fig, element='step', fill=False, log_scale=True)\n",
    "ax = sns.histplot(data=data_test['rougher.input.feed_size'], alpha=0.7, figure=fig, element='step', fill=False, log_scale=True)"
   ]
  },
  {
   "cell_type": "code",
   "execution_count": 15,
   "metadata": {},
   "outputs": [
    {
     "data": {
      "image/png": "[encoded data removed]",
      "text/plain": [
       "<Figure size 1080x576 with 1 Axes>"
      ]
     },
     "metadata": {
      "needs_background": "light"
     },
     "output_type": "display_data"
    }
   ],
   "source": [
    "fig = plt.figure(figsize=(15,8))\n",
    "fig = plt.xlabel('Размер зерен')\n",
    "fig = plt.title('Распределение размеров зерен, этап очистки')\n",
    "fig = plt.grid()\n",
    "ax = sns.histplot(data=data_train['primary_cleaner.input.feed_size'], alpha=0.7, figure=fig, element='step', fill=False)\n",
    "ax = sns.histplot(data=data_test['primary_cleaner.input.feed_size'], alpha=0.7, figure=fig, element='step', fill=False)"
   ]
  },
  {
   "cell_type": "markdown",
   "metadata": {},
   "source": [
    "Визуально, распределения очень схожи, средние будут явно отличаться, но их расличие не критично, так же схожи и \"ширина\" гистограмм для двух выборок. Подтвердим предположения, взглянув на числовое описание."
   ]
  },
  {
   "cell_type": "code",
   "execution_count": 16,
   "metadata": {},
   "outputs": [
    {
     "name": "stdout",
     "output_type": "stream",
     "text": [
      "count   14149.00\n",
      "mean       60.24\n",
      "std        23.01\n",
      "min         9.66\n",
      "25%        48.97\n",
      "50%        55.27\n",
      "75%        66.01\n",
      "max       484.97\n",
      "Name: rougher.input.feed_size, dtype: float64\n",
      "___________\n",
      "count   5290.00\n",
      "mean      55.95\n",
      "std       19.08\n",
      "min        0.05\n",
      "25%       43.91\n",
      "50%       50.85\n",
      "75%       62.45\n",
      "max      392.49\n",
      "Name: rougher.input.feed_size, dtype: float64\n"
     ]
    }
   ],
   "source": [
    "print(data_train['rougher.input.feed_size'].describe())\n",
    "print('___________')\n",
    "print(data_test['rougher.input.feed_size'].describe())"
   ]
  },
  {
   "cell_type": "markdown",
   "metadata": {},
   "source": [
    "На этапе флотации данные тестовой и тренировочной выборки очень близки, замечаний нет."
   ]
  },
  {
   "cell_type": "code",
   "execution_count": 17,
   "metadata": {},
   "outputs": [
    {
     "name": "stdout",
     "output_type": "stream",
     "text": [
      "count   14149.00\n",
      "mean        7.32\n",
      "std         0.61\n",
      "min         1.08\n",
      "25%         6.96\n",
      "50%         7.29\n",
      "75%         7.70\n",
      "max        10.47\n",
      "Name: primary_cleaner.input.feed_size, dtype: float64\n",
      "___________\n",
      "count   5290.00\n",
      "mean       7.27\n",
      "std        0.61\n",
      "min        5.65\n",
      "25%        6.89\n",
      "50%        7.25\n",
      "75%        7.60\n",
      "max       15.50\n",
      "Name: primary_cleaner.input.feed_size, dtype: float64\n"
     ]
    }
   ],
   "source": [
    "print(data_train['primary_cleaner.input.feed_size'].describe())\n",
    "print('___________')\n",
    "print(data_test['primary_cleaner.input.feed_size'].describe())"
   ]
  },
  {
   "cell_type": "markdown",
   "metadata": {},
   "source": [
    "На этапе очистки тоже."
   ]
  },
  {
   "cell_type": "markdown",
   "metadata": {},
   "source": [
    "### Исследование суммарной концентрации веществ."
   ]
  },
  {
   "cell_type": "markdown",
   "metadata": {},
   "source": [
    "Для выполнения исследование, создадим новые признаки - концентрация веществ на каждом из трех основных этапов. Получим значения признаков путем суммирования.\n",
    "\n",
    "Далее, построим гистограммы и графики типа boxplot, что бы визуализировать распределения."
   ]
  },
  {
   "cell_type": "code",
   "execution_count": 18,
   "metadata": {
    "scrolled": false
   },
   "outputs": [
    {
     "data": {
      "image/png": "[encoded data removed]",
      "text/plain": [
       "<Figure size 864x504 with 1 Axes>"
      ]
     },
     "metadata": {
      "needs_background": "light"
     },
     "output_type": "display_data"
    },
    {
     "data": {
      "image/png": "[encoded data removed]",
      "text/plain": [
       "<Figure size 864x504 with 1 Axes>"
      ]
     },
     "metadata": {
      "needs_background": "light"
     },
     "output_type": "display_data"
    }
   ],
   "source": [
    "list_columns_1 = ['rougher.input.feed_au', 'rougher.input.feed_ag', 'rougher.input.feed_pb', 'rougher.input.feed_sol']\n",
    "list_columns_2 = ['rougher.output.concentrate_au', 'rougher.output.concentrate_ag',\n",
    "                  'rougher.output.concentrate_pb', 'rougher.output.concentrate_sol']\n",
    "list_columns_3 = ['final.output.concentrate_au', 'final.output.concentrate_ag',\n",
    "                  'final.output.concentrate_pb', 'final.output.concentrate_sol']\n",
    "list_columns = [list_columns_1, list_columns_2, list_columns_3]\n",
    "\n",
    "stage_int = 0\n",
    "list_cont = list()\n",
    "for stage in list_columns:\n",
    "    stage_int +=1\n",
    "    name_col = 'stage' + str(stage_int)\n",
    "    data_all[name_col] = data_all[stage].sum(axis=1)\n",
    "    list_cont.append(name_col)\n",
    "\n",
    "histplot_con(data_all[['stage1', 'stage2', 'stage3']],'Распределение суммарных концентраций', 'Концентрация')"
   ]
  },
  {
   "cell_type": "markdown",
   "metadata": {},
   "source": [
    "Главное, что ообращает на себя внимание - наличие наблюдений с 0 суммарной концентрацией, это явное следние такого же явления из пункта 2.1. Для дальнейшей работы необходимо удалить из выборок данные наблюдения.\n",
    "\n",
    "Что касается самих распределенией, явных проблем не видно.\n",
    "\n",
    "Для дальнейшей работы заменим числовые индексы на значения столбов `date` у всех датасетов."
   ]
  },
  {
   "cell_type": "code",
   "execution_count": 19,
   "metadata": {},
   "outputs": [],
   "source": [
    "def setindex(data):\n",
    "    data = data.set_index('date')\n",
    "    return data\n",
    "\n",
    "data_train = setindex(data_train)\n",
    "data_test = setindex(data_test)\n",
    "data_all = setindex(data_all)"
   ]
  },
  {
   "cell_type": "markdown",
   "metadata": {},
   "source": [
    "Далее, отберем наблюдения с 0 суммарной концентрацией. Сгрупппируем их в новый датасет."
   ]
  },
  {
   "cell_type": "code",
   "execution_count": 20,
   "metadata": {},
   "outputs": [
    {
     "data": {
      "text/html": [
       "<div>\n",
       "<style scoped>\n",
       "    .dataframe tbody tr th:only-of-type {\n",
       "        vertical-align: middle;\n",
       "    }\n",
       "\n",
       "    .dataframe tbody tr th {\n",
       "        vertical-align: top;\n",
       "    }\n",
       "\n",
       "    .dataframe thead th {\n",
       "        text-align: right;\n",
       "    }\n",
       "</style>\n",
       "<table border=\"1\" class=\"dataframe\">\n",
       "  <thead>\n",
       "    <tr style=\"text-align: right;\">\n",
       "      <th></th>\n",
       "      <th>final.output.concentrate_ag</th>\n",
       "      <th>final.output.concentrate_pb</th>\n",
       "      <th>final.output.concentrate_sol</th>\n",
       "      <th>final.output.concentrate_au</th>\n",
       "      <th>final.output.recovery</th>\n",
       "      <th>final.output.tail_ag</th>\n",
       "      <th>final.output.tail_pb</th>\n",
       "      <th>final.output.tail_sol</th>\n",
       "      <th>final.output.tail_au</th>\n",
       "      <th>primary_cleaner.input.sulfate</th>\n",
       "      <th>primary_cleaner.input.depressant</th>\n",
       "      <th>primary_cleaner.input.feed_size</th>\n",
       "      <th>primary_cleaner.input.xanthate</th>\n",
       "      <th>primary_cleaner.output.concentrate_ag</th>\n",
       "      <th>primary_cleaner.output.concentrate_pb</th>\n",
       "      <th>primary_cleaner.output.concentrate_sol</th>\n",
       "      <th>primary_cleaner.output.concentrate_au</th>\n",
       "      <th>primary_cleaner.output.tail_ag</th>\n",
       "      <th>primary_cleaner.output.tail_pb</th>\n",
       "      <th>primary_cleaner.output.tail_sol</th>\n",
       "      <th>primary_cleaner.output.tail_au</th>\n",
       "      <th>primary_cleaner.state.floatbank8_a_air</th>\n",
       "      <th>primary_cleaner.state.floatbank8_a_level</th>\n",
       "      <th>primary_cleaner.state.floatbank8_b_air</th>\n",
       "      <th>primary_cleaner.state.floatbank8_b_level</th>\n",
       "      <th>primary_cleaner.state.floatbank8_c_air</th>\n",
       "      <th>primary_cleaner.state.floatbank8_c_level</th>\n",
       "      <th>primary_cleaner.state.floatbank8_d_air</th>\n",
       "      <th>primary_cleaner.state.floatbank8_d_level</th>\n",
       "      <th>rougher.calculation.sulfate_to_au_concentrate</th>\n",
       "      <th>rougher.calculation.floatbank10_sulfate_to_au_feed</th>\n",
       "      <th>rougher.calculation.floatbank11_sulfate_to_au_feed</th>\n",
       "      <th>rougher.calculation.au_pb_ratio</th>\n",
       "      <th>rougher.input.feed_ag</th>\n",
       "      <th>rougher.input.feed_pb</th>\n",
       "      <th>rougher.input.feed_rate</th>\n",
       "      <th>rougher.input.feed_size</th>\n",
       "      <th>rougher.input.feed_sol</th>\n",
       "      <th>rougher.input.feed_au</th>\n",
       "      <th>rougher.input.floatbank10_sulfate</th>\n",
       "      <th>rougher.input.floatbank10_xanthate</th>\n",
       "      <th>rougher.input.floatbank11_sulfate</th>\n",
       "      <th>rougher.input.floatbank11_xanthate</th>\n",
       "      <th>rougher.output.concentrate_ag</th>\n",
       "      <th>rougher.output.concentrate_pb</th>\n",
       "      <th>rougher.output.concentrate_sol</th>\n",
       "      <th>rougher.output.concentrate_au</th>\n",
       "      <th>rougher.output.recovery</th>\n",
       "      <th>rougher.output.tail_ag</th>\n",
       "      <th>rougher.output.tail_pb</th>\n",
       "      <th>rougher.output.tail_sol</th>\n",
       "      <th>rougher.output.tail_au</th>\n",
       "      <th>rougher.state.floatbank10_a_air</th>\n",
       "      <th>rougher.state.floatbank10_a_level</th>\n",
       "      <th>rougher.state.floatbank10_b_air</th>\n",
       "      <th>rougher.state.floatbank10_b_level</th>\n",
       "      <th>rougher.state.floatbank10_c_air</th>\n",
       "      <th>rougher.state.floatbank10_c_level</th>\n",
       "      <th>rougher.state.floatbank10_d_air</th>\n",
       "      <th>rougher.state.floatbank10_d_level</th>\n",
       "      <th>rougher.state.floatbank10_e_air</th>\n",
       "      <th>rougher.state.floatbank10_e_level</th>\n",
       "      <th>rougher.state.floatbank10_f_air</th>\n",
       "      <th>rougher.state.floatbank10_f_level</th>\n",
       "      <th>secondary_cleaner.output.tail_ag</th>\n",
       "      <th>secondary_cleaner.output.tail_pb</th>\n",
       "      <th>secondary_cleaner.output.tail_sol</th>\n",
       "      <th>secondary_cleaner.output.tail_au</th>\n",
       "      <th>secondary_cleaner.state.floatbank2_a_air</th>\n",
       "      <th>secondary_cleaner.state.floatbank2_a_level</th>\n",
       "      <th>secondary_cleaner.state.floatbank2_b_air</th>\n",
       "      <th>secondary_cleaner.state.floatbank2_b_level</th>\n",
       "      <th>secondary_cleaner.state.floatbank3_a_air</th>\n",
       "      <th>secondary_cleaner.state.floatbank3_a_level</th>\n",
       "      <th>secondary_cleaner.state.floatbank3_b_air</th>\n",
       "      <th>secondary_cleaner.state.floatbank3_b_level</th>\n",
       "      <th>secondary_cleaner.state.floatbank4_a_air</th>\n",
       "      <th>secondary_cleaner.state.floatbank4_a_level</th>\n",
       "      <th>secondary_cleaner.state.floatbank4_b_air</th>\n",
       "      <th>secondary_cleaner.state.floatbank4_b_level</th>\n",
       "      <th>secondary_cleaner.state.floatbank5_a_air</th>\n",
       "      <th>secondary_cleaner.state.floatbank5_a_level</th>\n",
       "      <th>secondary_cleaner.state.floatbank5_b_air</th>\n",
       "      <th>secondary_cleaner.state.floatbank5_b_level</th>\n",
       "      <th>secondary_cleaner.state.floatbank6_a_air</th>\n",
       "      <th>secondary_cleaner.state.floatbank6_a_level</th>\n",
       "      <th>stage1</th>\n",
       "      <th>stage2</th>\n",
       "      <th>stage3</th>\n",
       "    </tr>\n",
       "    <tr>\n",
       "      <th>date</th>\n",
       "      <th></th>\n",
       "      <th></th>\n",
       "      <th></th>\n",
       "      <th></th>\n",
       "      <th></th>\n",
       "      <th></th>\n",
       "      <th></th>\n",
       "      <th></th>\n",
       "      <th></th>\n",
       "      <th></th>\n",
       "      <th></th>\n",
       "      <th></th>\n",
       "      <th></th>\n",
       "      <th></th>\n",
       "      <th></th>\n",
       "      <th></th>\n",
       "      <th></th>\n",
       "      <th></th>\n",
       "      <th></th>\n",
       "      <th></th>\n",
       "      <th></th>\n",
       "      <th></th>\n",
       "      <th></th>\n",
       "      <th></th>\n",
       "      <th></th>\n",
       "      <th></th>\n",
       "      <th></th>\n",
       "      <th></th>\n",
       "      <th></th>\n",
       "      <th></th>\n",
       "      <th></th>\n",
       "      <th></th>\n",
       "      <th></th>\n",
       "      <th></th>\n",
       "      <th></th>\n",
       "      <th></th>\n",
       "      <th></th>\n",
       "      <th></th>\n",
       "      <th></th>\n",
       "      <th></th>\n",
       "      <th></th>\n",
       "      <th></th>\n",
       "      <th></th>\n",
       "      <th></th>\n",
       "      <th></th>\n",
       "      <th></th>\n",
       "      <th></th>\n",
       "      <th></th>\n",
       "      <th></th>\n",
       "      <th></th>\n",
       "      <th></th>\n",
       "      <th></th>\n",
       "      <th></th>\n",
       "      <th></th>\n",
       "      <th></th>\n",
       "      <th></th>\n",
       "      <th></th>\n",
       "      <th></th>\n",
       "      <th></th>\n",
       "      <th></th>\n",
       "      <th></th>\n",
       "      <th></th>\n",
       "      <th></th>\n",
       "      <th></th>\n",
       "      <th></th>\n",
       "      <th></th>\n",
       "      <th></th>\n",
       "      <th></th>\n",
       "      <th></th>\n",
       "      <th></th>\n",
       "      <th></th>\n",
       "      <th></th>\n",
       "      <th></th>\n",
       "      <th></th>\n",
       "      <th></th>\n",
       "      <th></th>\n",
       "      <th></th>\n",
       "      <th></th>\n",
       "      <th></th>\n",
       "      <th></th>\n",
       "      <th></th>\n",
       "      <th></th>\n",
       "      <th></th>\n",
       "      <th></th>\n",
       "      <th></th>\n",
       "      <th></th>\n",
       "      <th></th>\n",
       "      <th></th>\n",
       "      <th></th>\n",
       "    </tr>\n",
       "  </thead>\n",
       "  <tbody>\n",
       "    <tr>\n",
       "      <th>2016-01-16 21:00:00</th>\n",
       "      <td>4.57</td>\n",
       "      <td>10.41</td>\n",
       "      <td>4.59</td>\n",
       "      <td>46.61</td>\n",
       "      <td>68.40</td>\n",
       "      <td>10.71</td>\n",
       "      <td>1.51</td>\n",
       "      <td>17.88</td>\n",
       "      <td>2.51</td>\n",
       "      <td>131.25</td>\n",
       "      <td>13.97</td>\n",
       "      <td>7.25</td>\n",
       "      <td>1.20</td>\n",
       "      <td>8.51</td>\n",
       "      <td>9.72</td>\n",
       "      <td>19.12</td>\n",
       "      <td>37.63</td>\n",
       "      <td>16.46</td>\n",
       "      <td>3.37</td>\n",
       "      <td>6.86</td>\n",
       "      <td>3.43</td>\n",
       "      <td>1601.67</td>\n",
       "      <td>-500.29</td>\n",
       "      <td>1600.15</td>\n",
       "      <td>-499.63</td>\n",
       "      <td>1599.54</td>\n",
       "      <td>-499.50</td>\n",
       "      <td>1599.34</td>\n",
       "      <td>-500.36</td>\n",
       "      <td>41359.06</td>\n",
       "      <td>3196.13</td>\n",
       "      <td>3205.72</td>\n",
       "      <td>2.53</td>\n",
       "      <td>7.52</td>\n",
       "      <td>2.81</td>\n",
       "      <td>581.61</td>\n",
       "      <td>65.62</td>\n",
       "      <td>41.15</td>\n",
       "      <td>7.11</td>\n",
       "      <td>13.32</td>\n",
       "      <td>7.50</td>\n",
       "      <td>13.31</td>\n",
       "      <td>7.49</td>\n",
       "      <td>0.00</td>\n",
       "      <td>0.00</td>\n",
       "      <td>0.00</td>\n",
       "      <td>0.00</td>\n",
       "      <td>0.00</td>\n",
       "      <td>4.78</td>\n",
       "      <td>0.82</td>\n",
       "      <td>20.05</td>\n",
       "      <td>1.94</td>\n",
       "      <td>999.03</td>\n",
       "      <td>-499.85</td>\n",
       "      <td>1600.61</td>\n",
       "      <td>-500.33</td>\n",
       "      <td>1598.65</td>\n",
       "      <td>-500.36</td>\n",
       "      <td>1398.39</td>\n",
       "      <td>-501.54</td>\n",
       "      <td>1197.18</td>\n",
       "      <td>-500.21</td>\n",
       "      <td>1198.54</td>\n",
       "      <td>-499.65</td>\n",
       "      <td>13.61</td>\n",
       "      <td>4.98</td>\n",
       "      <td>9.55</td>\n",
       "      <td>3.10</td>\n",
       "      <td>25.96</td>\n",
       "      <td>-498.10</td>\n",
       "      <td>23.90</td>\n",
       "      <td>-500.05</td>\n",
       "      <td>24.96</td>\n",
       "      <td>-500.21</td>\n",
       "      <td>23.98</td>\n",
       "      <td>-500.61</td>\n",
       "      <td>14.03</td>\n",
       "      <td>-550.40</td>\n",
       "      <td>12.03</td>\n",
       "      <td>-550.57</td>\n",
       "      <td>10.05</td>\n",
       "      <td>-500.80</td>\n",
       "      <td>7.98</td>\n",
       "      <td>-499.58</td>\n",
       "      <td>11.98</td>\n",
       "      <td>-599.16</td>\n",
       "      <td>58.60</td>\n",
       "      <td>0.00</td>\n",
       "      <td>66.18</td>\n",
       "    </tr>\n",
       "    <tr>\n",
       "      <th>2016-01-16 22:00:00</th>\n",
       "      <td>4.58</td>\n",
       "      <td>10.69</td>\n",
       "      <td>5.27</td>\n",
       "      <td>46.25</td>\n",
       "      <td>70.68</td>\n",
       "      <td>10.73</td>\n",
       "      <td>1.64</td>\n",
       "      <td>18.35</td>\n",
       "      <td>2.54</td>\n",
       "      <td>141.18</td>\n",
       "      <td>13.98</td>\n",
       "      <td>7.25</td>\n",
       "      <td>1.25</td>\n",
       "      <td>8.47</td>\n",
       "      <td>9.78</td>\n",
       "      <td>19.22</td>\n",
       "      <td>37.72</td>\n",
       "      <td>15.52</td>\n",
       "      <td>3.08</td>\n",
       "      <td>7.32</td>\n",
       "      <td>3.10</td>\n",
       "      <td>1604.85</td>\n",
       "      <td>-500.92</td>\n",
       "      <td>1603.01</td>\n",
       "      <td>-499.63</td>\n",
       "      <td>1599.31</td>\n",
       "      <td>-501.20</td>\n",
       "      <td>1599.44</td>\n",
       "      <td>-499.31</td>\n",
       "      <td>41274.20</td>\n",
       "      <td>3196.96</td>\n",
       "      <td>3205.15</td>\n",
       "      <td>2.57</td>\n",
       "      <td>7.31</td>\n",
       "      <td>2.97</td>\n",
       "      <td>562.97</td>\n",
       "      <td>66.01</td>\n",
       "      <td>41.98</td>\n",
       "      <td>7.65</td>\n",
       "      <td>14.43</td>\n",
       "      <td>7.58</td>\n",
       "      <td>14.48</td>\n",
       "      <td>7.58</td>\n",
       "      <td>0.00</td>\n",
       "      <td>0.00</td>\n",
       "      <td>0.00</td>\n",
       "      <td>0.00</td>\n",
       "      <td>0.00</td>\n",
       "      <td>4.96</td>\n",
       "      <td>0.89</td>\n",
       "      <td>19.63</td>\n",
       "      <td>2.09</td>\n",
       "      <td>999.85</td>\n",
       "      <td>-500.08</td>\n",
       "      <td>1599.41</td>\n",
       "      <td>-500.19</td>\n",
       "      <td>1598.92</td>\n",
       "      <td>-498.78</td>\n",
       "      <td>1398.97</td>\n",
       "      <td>-500.94</td>\n",
       "      <td>1198.63</td>\n",
       "      <td>-501.34</td>\n",
       "      <td>1198.72</td>\n",
       "      <td>-500.31</td>\n",
       "      <td>13.13</td>\n",
       "      <td>5.04</td>\n",
       "      <td>9.73</td>\n",
       "      <td>2.92</td>\n",
       "      <td>25.95</td>\n",
       "      <td>-502.05</td>\n",
       "      <td>23.90</td>\n",
       "      <td>-500.25</td>\n",
       "      <td>25.03</td>\n",
       "      <td>-499.90</td>\n",
       "      <td>23.96</td>\n",
       "      <td>-499.79</td>\n",
       "      <td>14.09</td>\n",
       "      <td>-550.68</td>\n",
       "      <td>12.00</td>\n",
       "      <td>-550.50</td>\n",
       "      <td>9.95</td>\n",
       "      <td>-500.33</td>\n",
       "      <td>8.01</td>\n",
       "      <td>-500.13</td>\n",
       "      <td>11.98</td>\n",
       "      <td>-598.84</td>\n",
       "      <td>59.92</td>\n",
       "      <td>0.00</td>\n",
       "      <td>66.79</td>\n",
       "    </tr>\n",
       "    <tr>\n",
       "      <th>2016-01-16 23:00:00</th>\n",
       "      <td>4.59</td>\n",
       "      <td>10.63</td>\n",
       "      <td>5.69</td>\n",
       "      <td>46.66</td>\n",
       "      <td>55.09</td>\n",
       "      <td>10.69</td>\n",
       "      <td>1.67</td>\n",
       "      <td>17.91</td>\n",
       "      <td>2.69</td>\n",
       "      <td>126.40</td>\n",
       "      <td>12.71</td>\n",
       "      <td>7.25</td>\n",
       "      <td>1.23</td>\n",
       "      <td>8.09</td>\n",
       "      <td>9.72</td>\n",
       "      <td>19.08</td>\n",
       "      <td>38.62</td>\n",
       "      <td>15.91</td>\n",
       "      <td>3.27</td>\n",
       "      <td>7.10</td>\n",
       "      <td>3.51</td>\n",
       "      <td>1601.30</td>\n",
       "      <td>-498.73</td>\n",
       "      <td>1605.37</td>\n",
       "      <td>-500.64</td>\n",
       "      <td>1598.36</td>\n",
       "      <td>-500.46</td>\n",
       "      <td>1604.01</td>\n",
       "      <td>-501.82</td>\n",
       "      <td>35990.04</td>\n",
       "      <td>3220.71</td>\n",
       "      <td>3206.90</td>\n",
       "      <td>3.17</td>\n",
       "      <td>7.93</td>\n",
       "      <td>1.76</td>\n",
       "      <td>229.38</td>\n",
       "      <td>40.60</td>\n",
       "      <td>41.98</td>\n",
       "      <td>5.59</td>\n",
       "      <td>10.87</td>\n",
       "      <td>5.65</td>\n",
       "      <td>10.79</td>\n",
       "      <td>5.64</td>\n",
       "      <td>0.00</td>\n",
       "      <td>0.00</td>\n",
       "      <td>0.00</td>\n",
       "      <td>0.00</td>\n",
       "      <td>0.00</td>\n",
       "      <td>4.99</td>\n",
       "      <td>0.90</td>\n",
       "      <td>19.10</td>\n",
       "      <td>2.13</td>\n",
       "      <td>1003.35</td>\n",
       "      <td>-501.08</td>\n",
       "      <td>1603.65</td>\n",
       "      <td>-498.00</td>\n",
       "      <td>1603.49</td>\n",
       "      <td>-495.58</td>\n",
       "      <td>1402.00</td>\n",
       "      <td>-497.12</td>\n",
       "      <td>1203.39</td>\n",
       "      <td>-494.39</td>\n",
       "      <td>1202.59</td>\n",
       "      <td>-500.17</td>\n",
       "      <td>13.65</td>\n",
       "      <td>5.15</td>\n",
       "      <td>9.60</td>\n",
       "      <td>3.11</td>\n",
       "      <td>26.07</td>\n",
       "      <td>-502.18</td>\n",
       "      <td>24.04</td>\n",
       "      <td>-502.25</td>\n",
       "      <td>25.02</td>\n",
       "      <td>-499.42</td>\n",
       "      <td>23.98</td>\n",
       "      <td>-499.93</td>\n",
       "      <td>14.00</td>\n",
       "      <td>-551.22</td>\n",
       "      <td>11.97</td>\n",
       "      <td>-550.10</td>\n",
       "      <td>9.98</td>\n",
       "      <td>-502.87</td>\n",
       "      <td>7.94</td>\n",
       "      <td>-500.62</td>\n",
       "      <td>12.02</td>\n",
       "      <td>-600.92</td>\n",
       "      <td>57.27</td>\n",
       "      <td>0.00</td>\n",
       "      <td>67.57</td>\n",
       "    </tr>\n",
       "    <tr>\n",
       "      <th>2016-01-17 00:00:00</th>\n",
       "      <td>5.30</td>\n",
       "      <td>10.60</td>\n",
       "      <td>5.69</td>\n",
       "      <td>44.02</td>\n",
       "      <td>41.96</td>\n",
       "      <td>11.98</td>\n",
       "      <td>1.85</td>\n",
       "      <td>8.14</td>\n",
       "      <td>2.89</td>\n",
       "      <td>69.41</td>\n",
       "      <td>7.44</td>\n",
       "      <td>7.25</td>\n",
       "      <td>0.93</td>\n",
       "      <td>7.68</td>\n",
       "      <td>9.04</td>\n",
       "      <td>18.69</td>\n",
       "      <td>40.09</td>\n",
       "      <td>16.40</td>\n",
       "      <td>3.18</td>\n",
       "      <td>5.90</td>\n",
       "      <td>3.23</td>\n",
       "      <td>1600.85</td>\n",
       "      <td>-502.60</td>\n",
       "      <td>1600.92</td>\n",
       "      <td>-497.88</td>\n",
       "      <td>1598.66</td>\n",
       "      <td>-502.33</td>\n",
       "      <td>1597.78</td>\n",
       "      <td>-499.05</td>\n",
       "      <td>33615.71</td>\n",
       "      <td>5345.10</td>\n",
       "      <td>5341.85</td>\n",
       "      <td>4.63</td>\n",
       "      <td>7.76</td>\n",
       "      <td>1.03</td>\n",
       "      <td>228.51</td>\n",
       "      <td>41.25</td>\n",
       "      <td>11.82</td>\n",
       "      <td>4.75</td>\n",
       "      <td>5.91</td>\n",
       "      <td>5.05</td>\n",
       "      <td>5.89</td>\n",
       "      <td>5.05</td>\n",
       "      <td>0.00</td>\n",
       "      <td>0.00</td>\n",
       "      <td>0.00</td>\n",
       "      <td>0.00</td>\n",
       "      <td>0.00</td>\n",
       "      <td>4.71</td>\n",
       "      <td>0.64</td>\n",
       "      <td>12.72</td>\n",
       "      <td>1.94</td>\n",
       "      <td>998.55</td>\n",
       "      <td>-500.17</td>\n",
       "      <td>1599.76</td>\n",
       "      <td>-501.89</td>\n",
       "      <td>1598.62</td>\n",
       "      <td>-503.59</td>\n",
       "      <td>1399.02</td>\n",
       "      <td>-503.36</td>\n",
       "      <td>1198.55</td>\n",
       "      <td>-503.24</td>\n",
       "      <td>1197.73</td>\n",
       "      <td>-503.00</td>\n",
       "      <td>13.67</td>\n",
       "      <td>5.25</td>\n",
       "      <td>6.81</td>\n",
       "      <td>3.39</td>\n",
       "      <td>25.95</td>\n",
       "      <td>-489.11</td>\n",
       "      <td>23.94</td>\n",
       "      <td>-498.53</td>\n",
       "      <td>24.97</td>\n",
       "      <td>-500.54</td>\n",
       "      <td>24.02</td>\n",
       "      <td>-499.97</td>\n",
       "      <td>14.01</td>\n",
       "      <td>-549.39</td>\n",
       "      <td>11.98</td>\n",
       "      <td>-550.78</td>\n",
       "      <td>9.99</td>\n",
       "      <td>-499.61</td>\n",
       "      <td>7.96</td>\n",
       "      <td>-498.88</td>\n",
       "      <td>11.97</td>\n",
       "      <td>-599.44</td>\n",
       "      <td>25.35</td>\n",
       "      <td>0.00</td>\n",
       "      <td>65.60</td>\n",
       "    </tr>\n",
       "    <tr>\n",
       "      <th>2016-01-17 02:00:00</th>\n",
       "      <td>8.16</td>\n",
       "      <td>8.88</td>\n",
       "      <td>5.69</td>\n",
       "      <td>40.72</td>\n",
       "      <td>49.88</td>\n",
       "      <td>10.38</td>\n",
       "      <td>1.02</td>\n",
       "      <td>12.97</td>\n",
       "      <td>2.74</td>\n",
       "      <td>116.52</td>\n",
       "      <td>13.26</td>\n",
       "      <td>7.25</td>\n",
       "      <td>1.16</td>\n",
       "      <td>10.55</td>\n",
       "      <td>8.21</td>\n",
       "      <td>19.19</td>\n",
       "      <td>33.90</td>\n",
       "      <td>16.91</td>\n",
       "      <td>2.74</td>\n",
       "      <td>1.90</td>\n",
       "      <td>4.26</td>\n",
       "      <td>1598.33</td>\n",
       "      <td>-500.08</td>\n",
       "      <td>1600.02</td>\n",
       "      <td>-500.98</td>\n",
       "      <td>1599.56</td>\n",
       "      <td>-498.49</td>\n",
       "      <td>1599.41</td>\n",
       "      <td>-500.34</td>\n",
       "      <td>92479.19</td>\n",
       "      <td>3176.67</td>\n",
       "      <td>3179.89</td>\n",
       "      <td>2.81</td>\n",
       "      <td>5.39</td>\n",
       "      <td>1.82</td>\n",
       "      <td>550.61</td>\n",
       "      <td>45.33</td>\n",
       "      <td>28.38</td>\n",
       "      <td>5.12</td>\n",
       "      <td>10.06</td>\n",
       "      <td>7.76</td>\n",
       "      <td>10.06</td>\n",
       "      <td>7.75</td>\n",
       "      <td>0.00</td>\n",
       "      <td>0.00</td>\n",
       "      <td>0.00</td>\n",
       "      <td>0.00</td>\n",
       "      <td>0.00</td>\n",
       "      <td>4.93</td>\n",
       "      <td>0.78</td>\n",
       "      <td>16.77</td>\n",
       "      <td>2.05</td>\n",
       "      <td>1000.01</td>\n",
       "      <td>-499.52</td>\n",
       "      <td>1599.88</td>\n",
       "      <td>-499.57</td>\n",
       "      <td>1601.24</td>\n",
       "      <td>-500.39</td>\n",
       "      <td>1400.70</td>\n",
       "      <td>-500.22</td>\n",
       "      <td>1199.65</td>\n",
       "      <td>-500.46</td>\n",
       "      <td>1199.75</td>\n",
       "      <td>-501.21</td>\n",
       "      <td>12.52</td>\n",
       "      <td>4.64</td>\n",
       "      <td>5.18</td>\n",
       "      <td>4.56</td>\n",
       "      <td>26.00</td>\n",
       "      <td>-484.74</td>\n",
       "      <td>23.94</td>\n",
       "      <td>-499.30</td>\n",
       "      <td>24.93</td>\n",
       "      <td>-499.53</td>\n",
       "      <td>24.05</td>\n",
       "      <td>-500.13</td>\n",
       "      <td>13.98</td>\n",
       "      <td>-550.56</td>\n",
       "      <td>12.00</td>\n",
       "      <td>-550.55</td>\n",
       "      <td>9.94</td>\n",
       "      <td>-503.28</td>\n",
       "      <td>8.02</td>\n",
       "      <td>-500.97</td>\n",
       "      <td>11.99</td>\n",
       "      <td>-598.48</td>\n",
       "      <td>40.72</td>\n",
       "      <td>0.00</td>\n",
       "      <td>63.45</td>\n",
       "    </tr>\n",
       "    <tr>\n",
       "      <th>2016-01-17 03:00:00</th>\n",
       "      <td>5.76</td>\n",
       "      <td>9.54</td>\n",
       "      <td>4.00</td>\n",
       "      <td>45.27</td>\n",
       "      <td>68.64</td>\n",
       "      <td>10.62</td>\n",
       "      <td>1.22</td>\n",
       "      <td>16.07</td>\n",
       "      <td>2.47</td>\n",
       "      <td>118.90</td>\n",
       "      <td>13.52</td>\n",
       "      <td>7.25</td>\n",
       "      <td>1.19</td>\n",
       "      <td>9.88</td>\n",
       "      <td>8.93</td>\n",
       "      <td>19.11</td>\n",
       "      <td>34.82</td>\n",
       "      <td>15.96</td>\n",
       "      <td>2.83</td>\n",
       "      <td>5.54</td>\n",
       "      <td>3.24</td>\n",
       "      <td>1598.54</td>\n",
       "      <td>-498.70</td>\n",
       "      <td>1599.95</td>\n",
       "      <td>-500.61</td>\n",
       "      <td>1600.36</td>\n",
       "      <td>-499.91</td>\n",
       "      <td>1601.44</td>\n",
       "      <td>-500.00</td>\n",
       "      <td>46240.43</td>\n",
       "      <td>3195.23</td>\n",
       "      <td>3207.78</td>\n",
       "      <td>2.54</td>\n",
       "      <td>7.84</td>\n",
       "      <td>2.77</td>\n",
       "      <td>565.34</td>\n",
       "      <td>45.33</td>\n",
       "      <td>38.01</td>\n",
       "      <td>7.04</td>\n",
       "      <td>12.79</td>\n",
       "      <td>7.80</td>\n",
       "      <td>12.76</td>\n",
       "      <td>7.80</td>\n",
       "      <td>0.00</td>\n",
       "      <td>0.00</td>\n",
       "      <td>0.00</td>\n",
       "      <td>0.00</td>\n",
       "      <td>0.00</td>\n",
       "      <td>5.01</td>\n",
       "      <td>0.82</td>\n",
       "      <td>19.10</td>\n",
       "      <td>2.05</td>\n",
       "      <td>1000.76</td>\n",
       "      <td>-500.03</td>\n",
       "      <td>1600.00</td>\n",
       "      <td>-499.71</td>\n",
       "      <td>1600.16</td>\n",
       "      <td>-500.15</td>\n",
       "      <td>1402.09</td>\n",
       "      <td>-498.96</td>\n",
       "      <td>1201.87</td>\n",
       "      <td>-499.65</td>\n",
       "      <td>1200.87</td>\n",
       "      <td>-500.87</td>\n",
       "      <td>12.99</td>\n",
       "      <td>4.59</td>\n",
       "      <td>8.74</td>\n",
       "      <td>3.22</td>\n",
       "      <td>26.04</td>\n",
       "      <td>-500.33</td>\n",
       "      <td>23.94</td>\n",
       "      <td>-500.51</td>\n",
       "      <td>25.03</td>\n",
       "      <td>-500.04</td>\n",
       "      <td>24.02</td>\n",
       "      <td>-499.99</td>\n",
       "      <td>14.16</td>\n",
       "      <td>-552.96</td>\n",
       "      <td>11.92</td>\n",
       "      <td>-549.42</td>\n",
       "      <td>10.02</td>\n",
       "      <td>-497.64</td>\n",
       "      <td>8.00</td>\n",
       "      <td>-500.11</td>\n",
       "      <td>12.04</td>\n",
       "      <td>-599.63</td>\n",
       "      <td>55.66</td>\n",
       "      <td>0.00</td>\n",
       "      <td>64.56</td>\n",
       "    </tr>\n",
       "    <tr>\n",
       "      <th>2016-01-17 04:00:00</th>\n",
       "      <td>5.81</td>\n",
       "      <td>10.44</td>\n",
       "      <td>6.51</td>\n",
       "      <td>43.24</td>\n",
       "      <td>72.14</td>\n",
       "      <td>10.52</td>\n",
       "      <td>1.34</td>\n",
       "      <td>17.75</td>\n",
       "      <td>2.32</td>\n",
       "      <td>126.80</td>\n",
       "      <td>13.56</td>\n",
       "      <td>7.25</td>\n",
       "      <td>1.21</td>\n",
       "      <td>10.81</td>\n",
       "      <td>9.38</td>\n",
       "      <td>19.50</td>\n",
       "      <td>32.41</td>\n",
       "      <td>15.07</td>\n",
       "      <td>2.56</td>\n",
       "      <td>6.39</td>\n",
       "      <td>2.80</td>\n",
       "      <td>1599.07</td>\n",
       "      <td>-500.91</td>\n",
       "      <td>1598.95</td>\n",
       "      <td>-500.19</td>\n",
       "      <td>1603.23</td>\n",
       "      <td>-498.90</td>\n",
       "      <td>1598.88</td>\n",
       "      <td>-499.62</td>\n",
       "      <td>39633.73</td>\n",
       "      <td>3195.08</td>\n",
       "      <td>3197.47</td>\n",
       "      <td>2.38</td>\n",
       "      <td>8.03</td>\n",
       "      <td>3.07</td>\n",
       "      <td>588.80</td>\n",
       "      <td>45.33</td>\n",
       "      <td>39.42</td>\n",
       "      <td>7.32</td>\n",
       "      <td>14.03</td>\n",
       "      <td>7.80</td>\n",
       "      <td>14.01</td>\n",
       "      <td>7.80</td>\n",
       "      <td>0.00</td>\n",
       "      <td>0.00</td>\n",
       "      <td>0.00</td>\n",
       "      <td>0.00</td>\n",
       "      <td>0.00</td>\n",
       "      <td>4.92</td>\n",
       "      <td>0.83</td>\n",
       "      <td>19.08</td>\n",
       "      <td>2.01</td>\n",
       "      <td>1000.03</td>\n",
       "      <td>-499.72</td>\n",
       "      <td>1600.31</td>\n",
       "      <td>-498.36</td>\n",
       "      <td>1599.39</td>\n",
       "      <td>-497.09</td>\n",
       "      <td>1397.02</td>\n",
       "      <td>-500.66</td>\n",
       "      <td>1197.18</td>\n",
       "      <td>-499.67</td>\n",
       "      <td>1197.88</td>\n",
       "      <td>-493.11</td>\n",
       "      <td>12.22</td>\n",
       "      <td>4.54</td>\n",
       "      <td>9.30</td>\n",
       "      <td>2.86</td>\n",
       "      <td>26.06</td>\n",
       "      <td>-500.68</td>\n",
       "      <td>23.93</td>\n",
       "      <td>-499.70</td>\n",
       "      <td>24.95</td>\n",
       "      <td>-500.17</td>\n",
       "      <td>23.95</td>\n",
       "      <td>-500.11</td>\n",
       "      <td>14.10</td>\n",
       "      <td>-549.29</td>\n",
       "      <td>12.00</td>\n",
       "      <td>-550.31</td>\n",
       "      <td>9.93</td>\n",
       "      <td>-501.99</td>\n",
       "      <td>7.95</td>\n",
       "      <td>-500.06</td>\n",
       "      <td>12.01</td>\n",
       "      <td>-601.75</td>\n",
       "      <td>57.84</td>\n",
       "      <td>0.00</td>\n",
       "      <td>66.00</td>\n",
       "    </tr>\n",
       "    <tr>\n",
       "      <th>2016-02-13 11:00:00</th>\n",
       "      <td>0.00</td>\n",
       "      <td>0.00</td>\n",
       "      <td>0.00</td>\n",
       "      <td>0.00</td>\n",
       "      <td>0.00</td>\n",
       "      <td>8.89</td>\n",
       "      <td>0.84</td>\n",
       "      <td>15.42</td>\n",
       "      <td>1.78</td>\n",
       "      <td>133.61</td>\n",
       "      <td>14.03</td>\n",
       "      <td>7.32</td>\n",
       "      <td>1.55</td>\n",
       "      <td>8.99</td>\n",
       "      <td>6.53</td>\n",
       "      <td>11.97</td>\n",
       "      <td>26.24</td>\n",
       "      <td>13.85</td>\n",
       "      <td>2.16</td>\n",
       "      <td>8.17</td>\n",
       "      <td>1.97</td>\n",
       "      <td>1800.65</td>\n",
       "      <td>-349.52</td>\n",
       "      <td>1799.35</td>\n",
       "      <td>-350.93</td>\n",
       "      <td>1798.83</td>\n",
       "      <td>-349.61</td>\n",
       "      <td>1456.71</td>\n",
       "      <td>-350.52</td>\n",
       "      <td>45778.31</td>\n",
       "      <td>2952.20</td>\n",
       "      <td>2943.14</td>\n",
       "      <td>2.89</td>\n",
       "      <td>7.41</td>\n",
       "      <td>1.93</td>\n",
       "      <td>500.09</td>\n",
       "      <td>51.97</td>\n",
       "      <td>31.76</td>\n",
       "      <td>5.60</td>\n",
       "      <td>10.25</td>\n",
       "      <td>6.62</td>\n",
       "      <td>10.26</td>\n",
       "      <td>6.62</td>\n",
       "      <td>11.80</td>\n",
       "      <td>7.14</td>\n",
       "      <td>21.69</td>\n",
       "      <td>15.94</td>\n",
       "      <td>68.96</td>\n",
       "      <td>5.11</td>\n",
       "      <td>0.93</td>\n",
       "      <td>20.70</td>\n",
       "      <td>2.29</td>\n",
       "      <td>999.88</td>\n",
       "      <td>-499.97</td>\n",
       "      <td>1499.29</td>\n",
       "      <td>-399.55</td>\n",
       "      <td>1499.16</td>\n",
       "      <td>-398.63</td>\n",
       "      <td>1499.04</td>\n",
       "      <td>-399.39</td>\n",
       "      <td>1501.88</td>\n",
       "      <td>-397.23</td>\n",
       "      <td>1501.06</td>\n",
       "      <td>-400.60</td>\n",
       "      <td>11.84</td>\n",
       "      <td>3.91</td>\n",
       "      <td>10.65</td>\n",
       "      <td>2.28</td>\n",
       "      <td>32.05</td>\n",
       "      <td>-400.83</td>\n",
       "      <td>31.00</td>\n",
       "      <td>-401.05</td>\n",
       "      <td>30.90</td>\n",
       "      <td>-400.95</td>\n",
       "      <td>29.00</td>\n",
       "      <td>-401.03</td>\n",
       "      <td>21.99</td>\n",
       "      <td>-399.59</td>\n",
       "      <td>21.99</td>\n",
       "      <td>-401.37</td>\n",
       "      <td>23.00</td>\n",
       "      <td>-399.37</td>\n",
       "      <td>20.97</td>\n",
       "      <td>-399.31</td>\n",
       "      <td>24.99</td>\n",
       "      <td>-399.62</td>\n",
       "      <td>46.70</td>\n",
       "      <td>56.57</td>\n",
       "      <td>0.00</td>\n",
       "    </tr>\n",
       "    <tr>\n",
       "      <th>2016-02-18 20:00:00</th>\n",
       "      <td>8.48</td>\n",
       "      <td>11.30</td>\n",
       "      <td>10.55</td>\n",
       "      <td>35.78</td>\n",
       "      <td>80.04</td>\n",
       "      <td>12.96</td>\n",
       "      <td>2.37</td>\n",
       "      <td>9.84</td>\n",
       "      <td>3.07</td>\n",
       "      <td>223.38</td>\n",
       "      <td>13.07</td>\n",
       "      <td>7.58</td>\n",
       "      <td>1.51</td>\n",
       "      <td>11.68</td>\n",
       "      <td>7.38</td>\n",
       "      <td>13.42</td>\n",
       "      <td>28.54</td>\n",
       "      <td>16.30</td>\n",
       "      <td>3.47</td>\n",
       "      <td>8.57</td>\n",
       "      <td>2.67</td>\n",
       "      <td>1582.58</td>\n",
       "      <td>-349.54</td>\n",
       "      <td>1583.74</td>\n",
       "      <td>-351.18</td>\n",
       "      <td>1582.10</td>\n",
       "      <td>-368.28</td>\n",
       "      <td>1406.69</td>\n",
       "      <td>-350.23</td>\n",
       "      <td>52967.62</td>\n",
       "      <td>3215.80</td>\n",
       "      <td>3201.13</td>\n",
       "      <td>2.08</td>\n",
       "      <td>13.85</td>\n",
       "      <td>5.50</td>\n",
       "      <td>400.20</td>\n",
       "      <td>48.55</td>\n",
       "      <td>34.95</td>\n",
       "      <td>11.43</td>\n",
       "      <td>14.47</td>\n",
       "      <td>9.52</td>\n",
       "      <td>14.52</td>\n",
       "      <td>9.51</td>\n",
       "      <td>0.00</td>\n",
       "      <td>0.00</td>\n",
       "      <td>0.00</td>\n",
       "      <td>0.00</td>\n",
       "      <td>0.00</td>\n",
       "      <td>5.31</td>\n",
       "      <td>0.35</td>\n",
       "      <td>13.59</td>\n",
       "      <td>1.45</td>\n",
       "      <td>997.78</td>\n",
       "      <td>-499.81</td>\n",
       "      <td>1398.26</td>\n",
       "      <td>-500.40</td>\n",
       "      <td>1398.23</td>\n",
       "      <td>-498.95</td>\n",
       "      <td>1199.65</td>\n",
       "      <td>-499.30</td>\n",
       "      <td>1200.74</td>\n",
       "      <td>-499.66</td>\n",
       "      <td>1000.17</td>\n",
       "      <td>-499.47</td>\n",
       "      <td>14.19</td>\n",
       "      <td>4.34</td>\n",
       "      <td>11.02</td>\n",
       "      <td>2.10</td>\n",
       "      <td>29.01</td>\n",
       "      <td>-399.48</td>\n",
       "      <td>27.98</td>\n",
       "      <td>-400.21</td>\n",
       "      <td>28.98</td>\n",
       "      <td>-252.88</td>\n",
       "      <td>27.96</td>\n",
       "      <td>-378.36</td>\n",
       "      <td>23.71</td>\n",
       "      <td>-412.03</td>\n",
       "      <td>22.64</td>\n",
       "      <td>-412.90</td>\n",
       "      <td>25.02</td>\n",
       "      <td>-428.54</td>\n",
       "      <td>21.01</td>\n",
       "      <td>-400.29</td>\n",
       "      <td>30.00</td>\n",
       "      <td>-396.68</td>\n",
       "      <td>65.74</td>\n",
       "      <td>0.00</td>\n",
       "      <td>66.11</td>\n",
       "    </tr>\n",
       "    <tr>\n",
       "      <th>2016-03-11 10:00:00</th>\n",
       "      <td>0.00</td>\n",
       "      <td>0.00</td>\n",
       "      <td>0.00</td>\n",
       "      <td>0.00</td>\n",
       "      <td>0.00</td>\n",
       "      <td>10.82</td>\n",
       "      <td>1.46</td>\n",
       "      <td>16.41</td>\n",
       "      <td>2.98</td>\n",
       "      <td>111.50</td>\n",
       "      <td>11.93</td>\n",
       "      <td>7.79</td>\n",
       "      <td>0.99</td>\n",
       "      <td>8.70</td>\n",
       "      <td>7.23</td>\n",
       "      <td>10.75</td>\n",
       "      <td>34.56</td>\n",
       "      <td>13.67</td>\n",
       "      <td>2.57</td>\n",
       "      <td>9.19</td>\n",
       "      <td>4.01</td>\n",
       "      <td>1600.25</td>\n",
       "      <td>-402.17</td>\n",
       "      <td>1601.73</td>\n",
       "      <td>-398.91</td>\n",
       "      <td>1595.11</td>\n",
       "      <td>-401.69</td>\n",
       "      <td>627.59</td>\n",
       "      <td>-398.87</td>\n",
       "      <td>32559.33</td>\n",
       "      <td>2098.78</td>\n",
       "      <td>2097.79</td>\n",
       "      <td>3.01</td>\n",
       "      <td>8.10</td>\n",
       "      <td>2.59</td>\n",
       "      <td>502.31</td>\n",
       "      <td>49.99</td>\n",
       "      <td>34.90</td>\n",
       "      <td>7.79</td>\n",
       "      <td>8.84</td>\n",
       "      <td>7.27</td>\n",
       "      <td>8.84</td>\n",
       "      <td>7.27</td>\n",
       "      <td>10.64</td>\n",
       "      <td>7.57</td>\n",
       "      <td>24.79</td>\n",
       "      <td>18.68</td>\n",
       "      <td>82.79</td>\n",
       "      <td>6.10</td>\n",
       "      <td>0.79</td>\n",
       "      <td>21.10</td>\n",
       "      <td>2.05</td>\n",
       "      <td>1000.62</td>\n",
       "      <td>-499.59</td>\n",
       "      <td>1500.98</td>\n",
       "      <td>-499.67</td>\n",
       "      <td>1501.03</td>\n",
       "      <td>-500.95</td>\n",
       "      <td>1498.67</td>\n",
       "      <td>-501.88</td>\n",
       "      <td>1297.62</td>\n",
       "      <td>-501.78</td>\n",
       "      <td>1197.47</td>\n",
       "      <td>-500.65</td>\n",
       "      <td>11.64</td>\n",
       "      <td>4.03</td>\n",
       "      <td>11.88</td>\n",
       "      <td>3.63</td>\n",
       "      <td>30.03</td>\n",
       "      <td>-449.47</td>\n",
       "      <td>28.04</td>\n",
       "      <td>-450.18</td>\n",
       "      <td>27.04</td>\n",
       "      <td>-449.39</td>\n",
       "      <td>24.88</td>\n",
       "      <td>-449.37</td>\n",
       "      <td>11.98</td>\n",
       "      <td>-453.43</td>\n",
       "      <td>12.00</td>\n",
       "      <td>-450.18</td>\n",
       "      <td>11.98</td>\n",
       "      <td>-449.86</td>\n",
       "      <td>9.93</td>\n",
       "      <td>-450.52</td>\n",
       "      <td>19.97</td>\n",
       "      <td>-500.69</td>\n",
       "      <td>53.37</td>\n",
       "      <td>61.68</td>\n",
       "      <td>0.00</td>\n",
       "    </tr>\n",
       "  </tbody>\n",
       "</table>\n",
       "</div>"
      ],
      "text/plain": [
       "                     final.output.concentrate_ag  final.output.concentrate_pb  \\\n",
       "date                                                                            \n",
       "2016-01-16 21:00:00                         4.57                        10.41   \n",
       "2016-01-16 22:00:00                         4.58                        10.69   \n",
       "2016-01-16 23:00:00                         4.59                        10.63   \n",
       "2016-01-17 00:00:00                         5.30                        10.60   \n",
       "2016-01-17 02:00:00                         8.16                         8.88   \n",
       "2016-01-17 03:00:00                         5.76                         9.54   \n",
       "2016-01-17 04:00:00                         5.81                        10.44   \n",
       "2016-02-13 11:00:00                         0.00                         0.00   \n",
       "2016-02-18 20:00:00                         8.48                        11.30   \n",
       "2016-03-11 10:00:00                         0.00                         0.00   \n",
       "\n",
       "                     final.output.concentrate_sol  \\\n",
       "date                                                \n",
       "2016-01-16 21:00:00                          4.59   \n",
       "2016-01-16 22:00:00                          5.27   \n",
       "2016-01-16 23:00:00                          5.69   \n",
       "2016-01-17 00:00:00                          5.69   \n",
       "2016-01-17 02:00:00                          5.69   \n",
       "2016-01-17 03:00:00                          4.00   \n",
       "2016-01-17 04:00:00                          6.51   \n",
       "2016-02-13 11:00:00                          0.00   \n",
       "2016-02-18 20:00:00                         10.55   \n",
       "2016-03-11 10:00:00                          0.00   \n",
       "\n",
       "                     final.output.concentrate_au  final.output.recovery  \\\n",
       "date                                                                      \n",
       "2016-01-16 21:00:00                        46.61                  68.40   \n",
       "2016-01-16 22:00:00                        46.25                  70.68   \n",
       "2016-01-16 23:00:00                        46.66                  55.09   \n",
       "2016-01-17 00:00:00                        44.02                  41.96   \n",
       "2016-01-17 02:00:00                        40.72                  49.88   \n",
       "2016-01-17 03:00:00                        45.27                  68.64   \n",
       "2016-01-17 04:00:00                        43.24                  72.14   \n",
       "2016-02-13 11:00:00                         0.00                   0.00   \n",
       "2016-02-18 20:00:00                        35.78                  80.04   \n",
       "2016-03-11 10:00:00                         0.00                   0.00   \n",
       "\n",
       "                     final.output.tail_ag  final.output.tail_pb  \\\n",
       "date                                                              \n",
       "2016-01-16 21:00:00                 10.71                  1.51   \n",
       "2016-01-16 22:00:00                 10.73                  1.64   \n",
       "2016-01-16 23:00:00                 10.69                  1.67   \n",
       "2016-01-17 00:00:00                 11.98                  1.85   \n",
       "2016-01-17 02:00:00                 10.38                  1.02   \n",
       "2016-01-17 03:00:00                 10.62                  1.22   \n",
       "2016-01-17 04:00:00                 10.52                  1.34   \n",
       "2016-02-13 11:00:00                  8.89                  0.84   \n",
       "2016-02-18 20:00:00                 12.96                  2.37   \n",
       "2016-03-11 10:00:00                 10.82                  1.46   \n",
       "\n",
       "                     final.output.tail_sol  final.output.tail_au  \\\n",
       "date                                                               \n",
       "2016-01-16 21:00:00                  17.88                  2.51   \n",
       "2016-01-16 22:00:00                  18.35                  2.54   \n",
       "2016-01-16 23:00:00                  17.91                  2.69   \n",
       "2016-01-17 00:00:00                   8.14                  2.89   \n",
       "2016-01-17 02:00:00                  12.97                  2.74   \n",
       "2016-01-17 03:00:00                  16.07                  2.47   \n",
       "2016-01-17 04:00:00                  17.75                  2.32   \n",
       "2016-02-13 11:00:00                  15.42                  1.78   \n",
       "2016-02-18 20:00:00                   9.84                  3.07   \n",
       "2016-03-11 10:00:00                  16.41                  2.98   \n",
       "\n",
       "                     primary_cleaner.input.sulfate  \\\n",
       "date                                                 \n",
       "2016-01-16 21:00:00                         131.25   \n",
       "2016-01-16 22:00:00                         141.18   \n",
       "2016-01-16 23:00:00                         126.40   \n",
       "2016-01-17 00:00:00                          69.41   \n",
       "2016-01-17 02:00:00                         116.52   \n",
       "2016-01-17 03:00:00                         118.90   \n",
       "2016-01-17 04:00:00                         126.80   \n",
       "2016-02-13 11:00:00                         133.61   \n",
       "2016-02-18 20:00:00                         223.38   \n",
       "2016-03-11 10:00:00                         111.50   \n",
       "\n",
       "                     primary_cleaner.input.depressant  \\\n",
       "date                                                    \n",
       "2016-01-16 21:00:00                             13.97   \n",
       "2016-01-16 22:00:00                             13.98   \n",
       "2016-01-16 23:00:00                             12.71   \n",
       "2016-01-17 00:00:00                              7.44   \n",
       "2016-01-17 02:00:00                             13.26   \n",
       "2016-01-17 03:00:00                             13.52   \n",
       "2016-01-17 04:00:00                             13.56   \n",
       "2016-02-13 11:00:00                             14.03   \n",
       "2016-02-18 20:00:00                             13.07   \n",
       "2016-03-11 10:00:00                             11.93   \n",
       "\n",
       "                     primary_cleaner.input.feed_size  \\\n",
       "date                                                   \n",
       "2016-01-16 21:00:00                             7.25   \n",
       "2016-01-16 22:00:00                             7.25   \n",
       "2016-01-16 23:00:00                             7.25   \n",
       "2016-01-17 00:00:00                             7.25   \n",
       "2016-01-17 02:00:00                             7.25   \n",
       "2016-01-17 03:00:00                             7.25   \n",
       "2016-01-17 04:00:00                             7.25   \n",
       "2016-02-13 11:00:00                             7.32   \n",
       "2016-02-18 20:00:00                             7.58   \n",
       "2016-03-11 10:00:00                             7.79   \n",
       "\n",
       "                     primary_cleaner.input.xanthate  \\\n",
       "date                                                  \n",
       "2016-01-16 21:00:00                            1.20   \n",
       "2016-01-16 22:00:00                            1.25   \n",
       "2016-01-16 23:00:00                            1.23   \n",
       "2016-01-17 00:00:00                            0.93   \n",
       "2016-01-17 02:00:00                            1.16   \n",
       "2016-01-17 03:00:00                            1.19   \n",
       "2016-01-17 04:00:00                            1.21   \n",
       "2016-02-13 11:00:00                            1.55   \n",
       "2016-02-18 20:00:00                            1.51   \n",
       "2016-03-11 10:00:00                            0.99   \n",
       "\n",
       "                     primary_cleaner.output.concentrate_ag  \\\n",
       "date                                                         \n",
       "2016-01-16 21:00:00                                   8.51   \n",
       "2016-01-16 22:00:00                                   8.47   \n",
       "2016-01-16 23:00:00                                   8.09   \n",
       "2016-01-17 00:00:00                                   7.68   \n",
       "2016-01-17 02:00:00                                  10.55   \n",
       "2016-01-17 03:00:00                                   9.88   \n",
       "2016-01-17 04:00:00                                  10.81   \n",
       "2016-02-13 11:00:00                                   8.99   \n",
       "2016-02-18 20:00:00                                  11.68   \n",
       "2016-03-11 10:00:00                                   8.70   \n",
       "\n",
       "                     primary_cleaner.output.concentrate_pb  \\\n",
       "date                                                         \n",
       "2016-01-16 21:00:00                                   9.72   \n",
       "2016-01-16 22:00:00                                   9.78   \n",
       "2016-01-16 23:00:00                                   9.72   \n",
       "2016-01-17 00:00:00                                   9.04   \n",
       "2016-01-17 02:00:00                                   8.21   \n",
       "2016-01-17 03:00:00                                   8.93   \n",
       "2016-01-17 04:00:00                                   9.38   \n",
       "2016-02-13 11:00:00                                   6.53   \n",
       "2016-02-18 20:00:00                                   7.38   \n",
       "2016-03-11 10:00:00                                   7.23   \n",
       "\n",
       "                     primary_cleaner.output.concentrate_sol  \\\n",
       "date                                                          \n",
       "2016-01-16 21:00:00                                   19.12   \n",
       "2016-01-16 22:00:00                                   19.22   \n",
       "2016-01-16 23:00:00                                   19.08   \n",
       "2016-01-17 00:00:00                                   18.69   \n",
       "2016-01-17 02:00:00                                   19.19   \n",
       "2016-01-17 03:00:00                                   19.11   \n",
       "2016-01-17 04:00:00                                   19.50   \n",
       "2016-02-13 11:00:00                                   11.97   \n",
       "2016-02-18 20:00:00                                   13.42   \n",
       "2016-03-11 10:00:00                                   10.75   \n",
       "\n",
       "                     primary_cleaner.output.concentrate_au  \\\n",
       "date                                                         \n",
       "2016-01-16 21:00:00                                  37.63   \n",
       "2016-01-16 22:00:00                                  37.72   \n",
       "2016-01-16 23:00:00                                  38.62   \n",
       "2016-01-17 00:00:00                                  40.09   \n",
       "2016-01-17 02:00:00                                  33.90   \n",
       "2016-01-17 03:00:00                                  34.82   \n",
       "2016-01-17 04:00:00                                  32.41   \n",
       "2016-02-13 11:00:00                                  26.24   \n",
       "2016-02-18 20:00:00                                  28.54   \n",
       "2016-03-11 10:00:00                                  34.56   \n",
       "\n",
       "                     primary_cleaner.output.tail_ag  \\\n",
       "date                                                  \n",
       "2016-01-16 21:00:00                           16.46   \n",
       "2016-01-16 22:00:00                           15.52   \n",
       "2016-01-16 23:00:00                           15.91   \n",
       "2016-01-17 00:00:00                           16.40   \n",
       "2016-01-17 02:00:00                           16.91   \n",
       "2016-01-17 03:00:00                           15.96   \n",
       "2016-01-17 04:00:00                           15.07   \n",
       "2016-02-13 11:00:00                           13.85   \n",
       "2016-02-18 20:00:00                           16.30   \n",
       "2016-03-11 10:00:00                           13.67   \n",
       "\n",
       "                     primary_cleaner.output.tail_pb  \\\n",
       "date                                                  \n",
       "2016-01-16 21:00:00                            3.37   \n",
       "2016-01-16 22:00:00                            3.08   \n",
       "2016-01-16 23:00:00                            3.27   \n",
       "2016-01-17 00:00:00                            3.18   \n",
       "2016-01-17 02:00:00                            2.74   \n",
       "2016-01-17 03:00:00                            2.83   \n",
       "2016-01-17 04:00:00                            2.56   \n",
       "2016-02-13 11:00:00                            2.16   \n",
       "2016-02-18 20:00:00                            3.47   \n",
       "2016-03-11 10:00:00                            2.57   \n",
       "\n",
       "                     primary_cleaner.output.tail_sol  \\\n",
       "date                                                   \n",
       "2016-01-16 21:00:00                             6.86   \n",
       "2016-01-16 22:00:00                             7.32   \n",
       "2016-01-16 23:00:00                             7.10   \n",
       "2016-01-17 00:00:00                             5.90   \n",
       "2016-01-17 02:00:00                             1.90   \n",
       "2016-01-17 03:00:00                             5.54   \n",
       "2016-01-17 04:00:00                             6.39   \n",
       "2016-02-13 11:00:00                             8.17   \n",
       "2016-02-18 20:00:00                             8.57   \n",
       "2016-03-11 10:00:00                             9.19   \n",
       "\n",
       "                     primary_cleaner.output.tail_au  \\\n",
       "date                                                  \n",
       "2016-01-16 21:00:00                            3.43   \n",
       "2016-01-16 22:00:00                            3.10   \n",
       "2016-01-16 23:00:00                            3.51   \n",
       "2016-01-17 00:00:00                            3.23   \n",
       "2016-01-17 02:00:00                            4.26   \n",
       "2016-01-17 03:00:00                            3.24   \n",
       "2016-01-17 04:00:00                            2.80   \n",
       "2016-02-13 11:00:00                            1.97   \n",
       "2016-02-18 20:00:00                            2.67   \n",
       "2016-03-11 10:00:00                            4.01   \n",
       "\n",
       "                     primary_cleaner.state.floatbank8_a_air  \\\n",
       "date                                                          \n",
       "2016-01-16 21:00:00                                 1601.67   \n",
       "2016-01-16 22:00:00                                 1604.85   \n",
       "2016-01-16 23:00:00                                 1601.30   \n",
       "2016-01-17 00:00:00                                 1600.85   \n",
       "2016-01-17 02:00:00                                 1598.33   \n",
       "2016-01-17 03:00:00                                 1598.54   \n",
       "2016-01-17 04:00:00                                 1599.07   \n",
       "2016-02-13 11:00:00                                 1800.65   \n",
       "2016-02-18 20:00:00                                 1582.58   \n",
       "2016-03-11 10:00:00                                 1600.25   \n",
       "\n",
       "                     primary_cleaner.state.floatbank8_a_level  \\\n",
       "date                                                            \n",
       "2016-01-16 21:00:00                                   -500.29   \n",
       "2016-01-16 22:00:00                                   -500.92   \n",
       "2016-01-16 23:00:00                                   -498.73   \n",
       "2016-01-17 00:00:00                                   -502.60   \n",
       "2016-01-17 02:00:00                                   -500.08   \n",
       "2016-01-17 03:00:00                                   -498.70   \n",
       "2016-01-17 04:00:00                                   -500.91   \n",
       "2016-02-13 11:00:00                                   -349.52   \n",
       "2016-02-18 20:00:00                                   -349.54   \n",
       "2016-03-11 10:00:00                                   -402.17   \n",
       "\n",
       "                     primary_cleaner.state.floatbank8_b_air  \\\n",
       "date                                                          \n",
       "2016-01-16 21:00:00                                 1600.15   \n",
       "2016-01-16 22:00:00                                 1603.01   \n",
       "2016-01-16 23:00:00                                 1605.37   \n",
       "2016-01-17 00:00:00                                 1600.92   \n",
       "2016-01-17 02:00:00                                 1600.02   \n",
       "2016-01-17 03:00:00                                 1599.95   \n",
       "2016-01-17 04:00:00                                 1598.95   \n",
       "2016-02-13 11:00:00                                 1799.35   \n",
       "2016-02-18 20:00:00                                 1583.74   \n",
       "2016-03-11 10:00:00                                 1601.73   \n",
       "\n",
       "                     primary_cleaner.state.floatbank8_b_level  \\\n",
       "date                                                            \n",
       "2016-01-16 21:00:00                                   -499.63   \n",
       "2016-01-16 22:00:00                                   -499.63   \n",
       "2016-01-16 23:00:00                                   -500.64   \n",
       "2016-01-17 00:00:00                                   -497.88   \n",
       "2016-01-17 02:00:00                                   -500.98   \n",
       "2016-01-17 03:00:00                                   -500.61   \n",
       "2016-01-17 04:00:00                                   -500.19   \n",
       "2016-02-13 11:00:00                                   -350.93   \n",
       "2016-02-18 20:00:00                                   -351.18   \n",
       "2016-03-11 10:00:00                                   -398.91   \n",
       "\n",
       "                     primary_cleaner.state.floatbank8_c_air  \\\n",
       "date                                                          \n",
       "2016-01-16 21:00:00                                 1599.54   \n",
       "2016-01-16 22:00:00                                 1599.31   \n",
       "2016-01-16 23:00:00                                 1598.36   \n",
       "2016-01-17 00:00:00                                 1598.66   \n",
       "2016-01-17 02:00:00                                 1599.56   \n",
       "2016-01-17 03:00:00                                 1600.36   \n",
       "2016-01-17 04:00:00                                 1603.23   \n",
       "2016-02-13 11:00:00                                 1798.83   \n",
       "2016-02-18 20:00:00                                 1582.10   \n",
       "2016-03-11 10:00:00                                 1595.11   \n",
       "\n",
       "                     primary_cleaner.state.floatbank8_c_level  \\\n",
       "date                                                            \n",
       "2016-01-16 21:00:00                                   -499.50   \n",
       "2016-01-16 22:00:00                                   -501.20   \n",
       "2016-01-16 23:00:00                                   -500.46   \n",
       "2016-01-17 00:00:00                                   -502.33   \n",
       "2016-01-17 02:00:00                                   -498.49   \n",
       "2016-01-17 03:00:00                                   -499.91   \n",
       "2016-01-17 04:00:00                                   -498.90   \n",
       "2016-02-13 11:00:00                                   -349.61   \n",
       "2016-02-18 20:00:00                                   -368.28   \n",
       "2016-03-11 10:00:00                                   -401.69   \n",
       "\n",
       "                     primary_cleaner.state.floatbank8_d_air  \\\n",
       "date                                                          \n",
       "2016-01-16 21:00:00                                 1599.34   \n",
       "2016-01-16 22:00:00                                 1599.44   \n",
       "2016-01-16 23:00:00                                 1604.01   \n",
       "2016-01-17 00:00:00                                 1597.78   \n",
       "2016-01-17 02:00:00                                 1599.41   \n",
       "2016-01-17 03:00:00                                 1601.44   \n",
       "2016-01-17 04:00:00                                 1598.88   \n",
       "2016-02-13 11:00:00                                 1456.71   \n",
       "2016-02-18 20:00:00                                 1406.69   \n",
       "2016-03-11 10:00:00                                  627.59   \n",
       "\n",
       "                     primary_cleaner.state.floatbank8_d_level  \\\n",
       "date                                                            \n",
       "2016-01-16 21:00:00                                   -500.36   \n",
       "2016-01-16 22:00:00                                   -499.31   \n",
       "2016-01-16 23:00:00                                   -501.82   \n",
       "2016-01-17 00:00:00                                   -499.05   \n",
       "2016-01-17 02:00:00                                   -500.34   \n",
       "2016-01-17 03:00:00                                   -500.00   \n",
       "2016-01-17 04:00:00                                   -499.62   \n",
       "2016-02-13 11:00:00                                   -350.52   \n",
       "2016-02-18 20:00:00                                   -350.23   \n",
       "2016-03-11 10:00:00                                   -398.87   \n",
       "\n",
       "                     rougher.calculation.sulfate_to_au_concentrate  \\\n",
       "date                                                                 \n",
       "2016-01-16 21:00:00                                       41359.06   \n",
       "2016-01-16 22:00:00                                       41274.20   \n",
       "2016-01-16 23:00:00                                       35990.04   \n",
       "2016-01-17 00:00:00                                       33615.71   \n",
       "2016-01-17 02:00:00                                       92479.19   \n",
       "2016-01-17 03:00:00                                       46240.43   \n",
       "2016-01-17 04:00:00                                       39633.73   \n",
       "2016-02-13 11:00:00                                       45778.31   \n",
       "2016-02-18 20:00:00                                       52967.62   \n",
       "2016-03-11 10:00:00                                       32559.33   \n",
       "\n",
       "                     rougher.calculation.floatbank10_sulfate_to_au_feed  \\\n",
       "date                                                                      \n",
       "2016-01-16 21:00:00                                            3196.13    \n",
       "2016-01-16 22:00:00                                            3196.96    \n",
       "2016-01-16 23:00:00                                            3220.71    \n",
       "2016-01-17 00:00:00                                            5345.10    \n",
       "2016-01-17 02:00:00                                            3176.67    \n",
       "2016-01-17 03:00:00                                            3195.23    \n",
       "2016-01-17 04:00:00                                            3195.08    \n",
       "2016-02-13 11:00:00                                            2952.20    \n",
       "2016-02-18 20:00:00                                            3215.80    \n",
       "2016-03-11 10:00:00                                            2098.78    \n",
       "\n",
       "                     rougher.calculation.floatbank11_sulfate_to_au_feed  \\\n",
       "date                                                                      \n",
       "2016-01-16 21:00:00                                            3205.72    \n",
       "2016-01-16 22:00:00                                            3205.15    \n",
       "2016-01-16 23:00:00                                            3206.90    \n",
       "2016-01-17 00:00:00                                            5341.85    \n",
       "2016-01-17 02:00:00                                            3179.89    \n",
       "2016-01-17 03:00:00                                            3207.78    \n",
       "2016-01-17 04:00:00                                            3197.47    \n",
       "2016-02-13 11:00:00                                            2943.14    \n",
       "2016-02-18 20:00:00                                            3201.13    \n",
       "2016-03-11 10:00:00                                            2097.79    \n",
       "\n",
       "                     rougher.calculation.au_pb_ratio  rougher.input.feed_ag  \\\n",
       "date                                                                          \n",
       "2016-01-16 21:00:00                             2.53                   7.52   \n",
       "2016-01-16 22:00:00                             2.57                   7.31   \n",
       "2016-01-16 23:00:00                             3.17                   7.93   \n",
       "2016-01-17 00:00:00                             4.63                   7.76   \n",
       "2016-01-17 02:00:00                             2.81                   5.39   \n",
       "2016-01-17 03:00:00                             2.54                   7.84   \n",
       "2016-01-17 04:00:00                             2.38                   8.03   \n",
       "2016-02-13 11:00:00                             2.89                   7.41   \n",
       "2016-02-18 20:00:00                             2.08                  13.85   \n",
       "2016-03-11 10:00:00                             3.01                   8.10   \n",
       "\n",
       "                     rougher.input.feed_pb  rougher.input.feed_rate  \\\n",
       "date                                                                  \n",
       "2016-01-16 21:00:00                   2.81                   581.61   \n",
       "2016-01-16 22:00:00                   2.97                   562.97   \n",
       "2016-01-16 23:00:00                   1.76                   229.38   \n",
       "2016-01-17 00:00:00                   1.03                   228.51   \n",
       "2016-01-17 02:00:00                   1.82                   550.61   \n",
       "2016-01-17 03:00:00                   2.77                   565.34   \n",
       "2016-01-17 04:00:00                   3.07                   588.80   \n",
       "2016-02-13 11:00:00                   1.93                   500.09   \n",
       "2016-02-18 20:00:00                   5.50                   400.20   \n",
       "2016-03-11 10:00:00                   2.59                   502.31   \n",
       "\n",
       "                     rougher.input.feed_size  rougher.input.feed_sol  \\\n",
       "date                                                                   \n",
       "2016-01-16 21:00:00                    65.62                   41.15   \n",
       "2016-01-16 22:00:00                    66.01                   41.98   \n",
       "2016-01-16 23:00:00                    40.60                   41.98   \n",
       "2016-01-17 00:00:00                    41.25                   11.82   \n",
       "2016-01-17 02:00:00                    45.33                   28.38   \n",
       "2016-01-17 03:00:00                    45.33                   38.01   \n",
       "2016-01-17 04:00:00                    45.33                   39.42   \n",
       "2016-02-13 11:00:00                    51.97                   31.76   \n",
       "2016-02-18 20:00:00                    48.55                   34.95   \n",
       "2016-03-11 10:00:00                    49.99                   34.90   \n",
       "\n",
       "                     rougher.input.feed_au  rougher.input.floatbank10_sulfate  \\\n",
       "date                                                                            \n",
       "2016-01-16 21:00:00                   7.11                              13.32   \n",
       "2016-01-16 22:00:00                   7.65                              14.43   \n",
       "2016-01-16 23:00:00                   5.59                              10.87   \n",
       "2016-01-17 00:00:00                   4.75                               5.91   \n",
       "2016-01-17 02:00:00                   5.12                              10.06   \n",
       "2016-01-17 03:00:00                   7.04                              12.79   \n",
       "2016-01-17 04:00:00                   7.32                              14.03   \n",
       "2016-02-13 11:00:00                   5.60                              10.25   \n",
       "2016-02-18 20:00:00                  11.43                              14.47   \n",
       "2016-03-11 10:00:00                   7.79                               8.84   \n",
       "\n",
       "                     rougher.input.floatbank10_xanthate  \\\n",
       "date                                                      \n",
       "2016-01-16 21:00:00                                7.50   \n",
       "2016-01-16 22:00:00                                7.58   \n",
       "2016-01-16 23:00:00                                5.65   \n",
       "2016-01-17 00:00:00                                5.05   \n",
       "2016-01-17 02:00:00                                7.76   \n",
       "2016-01-17 03:00:00                                7.80   \n",
       "2016-01-17 04:00:00                                7.80   \n",
       "2016-02-13 11:00:00                                6.62   \n",
       "2016-02-18 20:00:00                                9.52   \n",
       "2016-03-11 10:00:00                                7.27   \n",
       "\n",
       "                     rougher.input.floatbank11_sulfate  \\\n",
       "date                                                     \n",
       "2016-01-16 21:00:00                              13.31   \n",
       "2016-01-16 22:00:00                              14.48   \n",
       "2016-01-16 23:00:00                              10.79   \n",
       "2016-01-17 00:00:00                               5.89   \n",
       "2016-01-17 02:00:00                              10.06   \n",
       "2016-01-17 03:00:00                              12.76   \n",
       "2016-01-17 04:00:00                              14.01   \n",
       "2016-02-13 11:00:00                              10.26   \n",
       "2016-02-18 20:00:00                              14.52   \n",
       "2016-03-11 10:00:00                               8.84   \n",
       "\n",
       "                     rougher.input.floatbank11_xanthate  \\\n",
       "date                                                      \n",
       "2016-01-16 21:00:00                                7.49   \n",
       "2016-01-16 22:00:00                                7.58   \n",
       "2016-01-16 23:00:00                                5.64   \n",
       "2016-01-17 00:00:00                                5.05   \n",
       "2016-01-17 02:00:00                                7.75   \n",
       "2016-01-17 03:00:00                                7.80   \n",
       "2016-01-17 04:00:00                                7.80   \n",
       "2016-02-13 11:00:00                                6.62   \n",
       "2016-02-18 20:00:00                                9.51   \n",
       "2016-03-11 10:00:00                                7.27   \n",
       "\n",
       "                     rougher.output.concentrate_ag  \\\n",
       "date                                                 \n",
       "2016-01-16 21:00:00                           0.00   \n",
       "2016-01-16 22:00:00                           0.00   \n",
       "2016-01-16 23:00:00                           0.00   \n",
       "2016-01-17 00:00:00                           0.00   \n",
       "2016-01-17 02:00:00                           0.00   \n",
       "2016-01-17 03:00:00                           0.00   \n",
       "2016-01-17 04:00:00                           0.00   \n",
       "2016-02-13 11:00:00                          11.80   \n",
       "2016-02-18 20:00:00                           0.00   \n",
       "2016-03-11 10:00:00                          10.64   \n",
       "\n",
       "                     rougher.output.concentrate_pb  \\\n",
       "date                                                 \n",
       "2016-01-16 21:00:00                           0.00   \n",
       "2016-01-16 22:00:00                           0.00   \n",
       "2016-01-16 23:00:00                           0.00   \n",
       "2016-01-17 00:00:00                           0.00   \n",
       "2016-01-17 02:00:00                           0.00   \n",
       "2016-01-17 03:00:00                           0.00   \n",
       "2016-01-17 04:00:00                           0.00   \n",
       "2016-02-13 11:00:00                           7.14   \n",
       "2016-02-18 20:00:00                           0.00   \n",
       "2016-03-11 10:00:00                           7.57   \n",
       "\n",
       "                     rougher.output.concentrate_sol  \\\n",
       "date                                                  \n",
       "2016-01-16 21:00:00                            0.00   \n",
       "2016-01-16 22:00:00                            0.00   \n",
       "2016-01-16 23:00:00                            0.00   \n",
       "2016-01-17 00:00:00                            0.00   \n",
       "2016-01-17 02:00:00                            0.00   \n",
       "2016-01-17 03:00:00                            0.00   \n",
       "2016-01-17 04:00:00                            0.00   \n",
       "2016-02-13 11:00:00                           21.69   \n",
       "2016-02-18 20:00:00                            0.00   \n",
       "2016-03-11 10:00:00                           24.79   \n",
       "\n",
       "                     rougher.output.concentrate_au  rougher.output.recovery  \\\n",
       "date                                                                          \n",
       "2016-01-16 21:00:00                           0.00                     0.00   \n",
       "2016-01-16 22:00:00                           0.00                     0.00   \n",
       "2016-01-16 23:00:00                           0.00                     0.00   \n",
       "2016-01-17 00:00:00                           0.00                     0.00   \n",
       "2016-01-17 02:00:00                           0.00                     0.00   \n",
       "2016-01-17 03:00:00                           0.00                     0.00   \n",
       "2016-01-17 04:00:00                           0.00                     0.00   \n",
       "2016-02-13 11:00:00                          15.94                    68.96   \n",
       "2016-02-18 20:00:00                           0.00                     0.00   \n",
       "2016-03-11 10:00:00                          18.68                    82.79   \n",
       "\n",
       "                     rougher.output.tail_ag  rougher.output.tail_pb  \\\n",
       "date                                                                  \n",
       "2016-01-16 21:00:00                    4.78                    0.82   \n",
       "2016-01-16 22:00:00                    4.96                    0.89   \n",
       "2016-01-16 23:00:00                    4.99                    0.90   \n",
       "2016-01-17 00:00:00                    4.71                    0.64   \n",
       "2016-01-17 02:00:00                    4.93                    0.78   \n",
       "2016-01-17 03:00:00                    5.01                    0.82   \n",
       "2016-01-17 04:00:00                    4.92                    0.83   \n",
       "2016-02-13 11:00:00                    5.11                    0.93   \n",
       "2016-02-18 20:00:00                    5.31                    0.35   \n",
       "2016-03-11 10:00:00                    6.10                    0.79   \n",
       "\n",
       "                     rougher.output.tail_sol  rougher.output.tail_au  \\\n",
       "date                                                                   \n",
       "2016-01-16 21:00:00                    20.05                    1.94   \n",
       "2016-01-16 22:00:00                    19.63                    2.09   \n",
       "2016-01-16 23:00:00                    19.10                    2.13   \n",
       "2016-01-17 00:00:00                    12.72                    1.94   \n",
       "2016-01-17 02:00:00                    16.77                    2.05   \n",
       "2016-01-17 03:00:00                    19.10                    2.05   \n",
       "2016-01-17 04:00:00                    19.08                    2.01   \n",
       "2016-02-13 11:00:00                    20.70                    2.29   \n",
       "2016-02-18 20:00:00                    13.59                    1.45   \n",
       "2016-03-11 10:00:00                    21.10                    2.05   \n",
       "\n",
       "                     rougher.state.floatbank10_a_air  \\\n",
       "date                                                   \n",
       "2016-01-16 21:00:00                           999.03   \n",
       "2016-01-16 22:00:00                           999.85   \n",
       "2016-01-16 23:00:00                          1003.35   \n",
       "2016-01-17 00:00:00                           998.55   \n",
       "2016-01-17 02:00:00                          1000.01   \n",
       "2016-01-17 03:00:00                          1000.76   \n",
       "2016-01-17 04:00:00                          1000.03   \n",
       "2016-02-13 11:00:00                           999.88   \n",
       "2016-02-18 20:00:00                           997.78   \n",
       "2016-03-11 10:00:00                          1000.62   \n",
       "\n",
       "                     rougher.state.floatbank10_a_level  \\\n",
       "date                                                     \n",
       "2016-01-16 21:00:00                            -499.85   \n",
       "2016-01-16 22:00:00                            -500.08   \n",
       "2016-01-16 23:00:00                            -501.08   \n",
       "2016-01-17 00:00:00                            -500.17   \n",
       "2016-01-17 02:00:00                            -499.52   \n",
       "2016-01-17 03:00:00                            -500.03   \n",
       "2016-01-17 04:00:00                            -499.72   \n",
       "2016-02-13 11:00:00                            -499.97   \n",
       "2016-02-18 20:00:00                            -499.81   \n",
       "2016-03-11 10:00:00                            -499.59   \n",
       "\n",
       "                     rougher.state.floatbank10_b_air  \\\n",
       "date                                                   \n",
       "2016-01-16 21:00:00                          1600.61   \n",
       "2016-01-16 22:00:00                          1599.41   \n",
       "2016-01-16 23:00:00                          1603.65   \n",
       "2016-01-17 00:00:00                          1599.76   \n",
       "2016-01-17 02:00:00                          1599.88   \n",
       "2016-01-17 03:00:00                          1600.00   \n",
       "2016-01-17 04:00:00                          1600.31   \n",
       "2016-02-13 11:00:00                          1499.29   \n",
       "2016-02-18 20:00:00                          1398.26   \n",
       "2016-03-11 10:00:00                          1500.98   \n",
       "\n",
       "                     rougher.state.floatbank10_b_level  \\\n",
       "date                                                     \n",
       "2016-01-16 21:00:00                            -500.33   \n",
       "2016-01-16 22:00:00                            -500.19   \n",
       "2016-01-16 23:00:00                            -498.00   \n",
       "2016-01-17 00:00:00                            -501.89   \n",
       "2016-01-17 02:00:00                            -499.57   \n",
       "2016-01-17 03:00:00                            -499.71   \n",
       "2016-01-17 04:00:00                            -498.36   \n",
       "2016-02-13 11:00:00                            -399.55   \n",
       "2016-02-18 20:00:00                            -500.40   \n",
       "2016-03-11 10:00:00                            -499.67   \n",
       "\n",
       "                     rougher.state.floatbank10_c_air  \\\n",
       "date                                                   \n",
       "2016-01-16 21:00:00                          1598.65   \n",
       "2016-01-16 22:00:00                          1598.92   \n",
       "2016-01-16 23:00:00                          1603.49   \n",
       "2016-01-17 00:00:00                          1598.62   \n",
       "2016-01-17 02:00:00                          1601.24   \n",
       "2016-01-17 03:00:00                          1600.16   \n",
       "2016-01-17 04:00:00                          1599.39   \n",
       "2016-02-13 11:00:00                          1499.16   \n",
       "2016-02-18 20:00:00                          1398.23   \n",
       "2016-03-11 10:00:00                          1501.03   \n",
       "\n",
       "                     rougher.state.floatbank10_c_level  \\\n",
       "date                                                     \n",
       "2016-01-16 21:00:00                            -500.36   \n",
       "2016-01-16 22:00:00                            -498.78   \n",
       "2016-01-16 23:00:00                            -495.58   \n",
       "2016-01-17 00:00:00                            -503.59   \n",
       "2016-01-17 02:00:00                            -500.39   \n",
       "2016-01-17 03:00:00                            -500.15   \n",
       "2016-01-17 04:00:00                            -497.09   \n",
       "2016-02-13 11:00:00                            -398.63   \n",
       "2016-02-18 20:00:00                            -498.95   \n",
       "2016-03-11 10:00:00                            -500.95   \n",
       "\n",
       "                     rougher.state.floatbank10_d_air  \\\n",
       "date                                                   \n",
       "2016-01-16 21:00:00                          1398.39   \n",
       "2016-01-16 22:00:00                          1398.97   \n",
       "2016-01-16 23:00:00                          1402.00   \n",
       "2016-01-17 00:00:00                          1399.02   \n",
       "2016-01-17 02:00:00                          1400.70   \n",
       "2016-01-17 03:00:00                          1402.09   \n",
       "2016-01-17 04:00:00                          1397.02   \n",
       "2016-02-13 11:00:00                          1499.04   \n",
       "2016-02-18 20:00:00                          1199.65   \n",
       "2016-03-11 10:00:00                          1498.67   \n",
       "\n",
       "                     rougher.state.floatbank10_d_level  \\\n",
       "date                                                     \n",
       "2016-01-16 21:00:00                            -501.54   \n",
       "2016-01-16 22:00:00                            -500.94   \n",
       "2016-01-16 23:00:00                            -497.12   \n",
       "2016-01-17 00:00:00                            -503.36   \n",
       "2016-01-17 02:00:00                            -500.22   \n",
       "2016-01-17 03:00:00                            -498.96   \n",
       "2016-01-17 04:00:00                            -500.66   \n",
       "2016-02-13 11:00:00                            -399.39   \n",
       "2016-02-18 20:00:00                            -499.30   \n",
       "2016-03-11 10:00:00                            -501.88   \n",
       "\n",
       "                     rougher.state.floatbank10_e_air  \\\n",
       "date                                                   \n",
       "2016-01-16 21:00:00                          1197.18   \n",
       "2016-01-16 22:00:00                          1198.63   \n",
       "2016-01-16 23:00:00                          1203.39   \n",
       "2016-01-17 00:00:00                          1198.55   \n",
       "2016-01-17 02:00:00                          1199.65   \n",
       "2016-01-17 03:00:00                          1201.87   \n",
       "2016-01-17 04:00:00                          1197.18   \n",
       "2016-02-13 11:00:00                          1501.88   \n",
       "2016-02-18 20:00:00                          1200.74   \n",
       "2016-03-11 10:00:00                          1297.62   \n",
       "\n",
       "                     rougher.state.floatbank10_e_level  \\\n",
       "date                                                     \n",
       "2016-01-16 21:00:00                            -500.21   \n",
       "2016-01-16 22:00:00                            -501.34   \n",
       "2016-01-16 23:00:00                            -494.39   \n",
       "2016-01-17 00:00:00                            -503.24   \n",
       "2016-01-17 02:00:00                            -500.46   \n",
       "2016-01-17 03:00:00                            -499.65   \n",
       "2016-01-17 04:00:00                            -499.67   \n",
       "2016-02-13 11:00:00                            -397.23   \n",
       "2016-02-18 20:00:00                            -499.66   \n",
       "2016-03-11 10:00:00                            -501.78   \n",
       "\n",
       "                     rougher.state.floatbank10_f_air  \\\n",
       "date                                                   \n",
       "2016-01-16 21:00:00                          1198.54   \n",
       "2016-01-16 22:00:00                          1198.72   \n",
       "2016-01-16 23:00:00                          1202.59   \n",
       "2016-01-17 00:00:00                          1197.73   \n",
       "2016-01-17 02:00:00                          1199.75   \n",
       "2016-01-17 03:00:00                          1200.87   \n",
       "2016-01-17 04:00:00                          1197.88   \n",
       "2016-02-13 11:00:00                          1501.06   \n",
       "2016-02-18 20:00:00                          1000.17   \n",
       "2016-03-11 10:00:00                          1197.47   \n",
       "\n",
       "                     rougher.state.floatbank10_f_level  \\\n",
       "date                                                     \n",
       "2016-01-16 21:00:00                            -499.65   \n",
       "2016-01-16 22:00:00                            -500.31   \n",
       "2016-01-16 23:00:00                            -500.17   \n",
       "2016-01-17 00:00:00                            -503.00   \n",
       "2016-01-17 02:00:00                            -501.21   \n",
       "2016-01-17 03:00:00                            -500.87   \n",
       "2016-01-17 04:00:00                            -493.11   \n",
       "2016-02-13 11:00:00                            -400.60   \n",
       "2016-02-18 20:00:00                            -499.47   \n",
       "2016-03-11 10:00:00                            -500.65   \n",
       "\n",
       "                     secondary_cleaner.output.tail_ag  \\\n",
       "date                                                    \n",
       "2016-01-16 21:00:00                             13.61   \n",
       "2016-01-16 22:00:00                             13.13   \n",
       "2016-01-16 23:00:00                             13.65   \n",
       "2016-01-17 00:00:00                             13.67   \n",
       "2016-01-17 02:00:00                             12.52   \n",
       "2016-01-17 03:00:00                             12.99   \n",
       "2016-01-17 04:00:00                             12.22   \n",
       "2016-02-13 11:00:00                             11.84   \n",
       "2016-02-18 20:00:00                             14.19   \n",
       "2016-03-11 10:00:00                             11.64   \n",
       "\n",
       "                     secondary_cleaner.output.tail_pb  \\\n",
       "date                                                    \n",
       "2016-01-16 21:00:00                              4.98   \n",
       "2016-01-16 22:00:00                              5.04   \n",
       "2016-01-16 23:00:00                              5.15   \n",
       "2016-01-17 00:00:00                              5.25   \n",
       "2016-01-17 02:00:00                              4.64   \n",
       "2016-01-17 03:00:00                              4.59   \n",
       "2016-01-17 04:00:00                              4.54   \n",
       "2016-02-13 11:00:00                              3.91   \n",
       "2016-02-18 20:00:00                              4.34   \n",
       "2016-03-11 10:00:00                              4.03   \n",
       "\n",
       "                     secondary_cleaner.output.tail_sol  \\\n",
       "date                                                     \n",
       "2016-01-16 21:00:00                               9.55   \n",
       "2016-01-16 22:00:00                               9.73   \n",
       "2016-01-16 23:00:00                               9.60   \n",
       "2016-01-17 00:00:00                               6.81   \n",
       "2016-01-17 02:00:00                               5.18   \n",
       "2016-01-17 03:00:00                               8.74   \n",
       "2016-01-17 04:00:00                               9.30   \n",
       "2016-02-13 11:00:00                              10.65   \n",
       "2016-02-18 20:00:00                              11.02   \n",
       "2016-03-11 10:00:00                              11.88   \n",
       "\n",
       "                     secondary_cleaner.output.tail_au  \\\n",
       "date                                                    \n",
       "2016-01-16 21:00:00                              3.10   \n",
       "2016-01-16 22:00:00                              2.92   \n",
       "2016-01-16 23:00:00                              3.11   \n",
       "2016-01-17 00:00:00                              3.39   \n",
       "2016-01-17 02:00:00                              4.56   \n",
       "2016-01-17 03:00:00                              3.22   \n",
       "2016-01-17 04:00:00                              2.86   \n",
       "2016-02-13 11:00:00                              2.28   \n",
       "2016-02-18 20:00:00                              2.10   \n",
       "2016-03-11 10:00:00                              3.63   \n",
       "\n",
       "                     secondary_cleaner.state.floatbank2_a_air  \\\n",
       "date                                                            \n",
       "2016-01-16 21:00:00                                     25.96   \n",
       "2016-01-16 22:00:00                                     25.95   \n",
       "2016-01-16 23:00:00                                     26.07   \n",
       "2016-01-17 00:00:00                                     25.95   \n",
       "2016-01-17 02:00:00                                     26.00   \n",
       "2016-01-17 03:00:00                                     26.04   \n",
       "2016-01-17 04:00:00                                     26.06   \n",
       "2016-02-13 11:00:00                                     32.05   \n",
       "2016-02-18 20:00:00                                     29.01   \n",
       "2016-03-11 10:00:00                                     30.03   \n",
       "\n",
       "                     secondary_cleaner.state.floatbank2_a_level  \\\n",
       "date                                                              \n",
       "2016-01-16 21:00:00                                     -498.10   \n",
       "2016-01-16 22:00:00                                     -502.05   \n",
       "2016-01-16 23:00:00                                     -502.18   \n",
       "2016-01-17 00:00:00                                     -489.11   \n",
       "2016-01-17 02:00:00                                     -484.74   \n",
       "2016-01-17 03:00:00                                     -500.33   \n",
       "2016-01-17 04:00:00                                     -500.68   \n",
       "2016-02-13 11:00:00                                     -400.83   \n",
       "2016-02-18 20:00:00                                     -399.48   \n",
       "2016-03-11 10:00:00                                     -449.47   \n",
       "\n",
       "                     secondary_cleaner.state.floatbank2_b_air  \\\n",
       "date                                                            \n",
       "2016-01-16 21:00:00                                     23.90   \n",
       "2016-01-16 22:00:00                                     23.90   \n",
       "2016-01-16 23:00:00                                     24.04   \n",
       "2016-01-17 00:00:00                                     23.94   \n",
       "2016-01-17 02:00:00                                     23.94   \n",
       "2016-01-17 03:00:00                                     23.94   \n",
       "2016-01-17 04:00:00                                     23.93   \n",
       "2016-02-13 11:00:00                                     31.00   \n",
       "2016-02-18 20:00:00                                     27.98   \n",
       "2016-03-11 10:00:00                                     28.04   \n",
       "\n",
       "                     secondary_cleaner.state.floatbank2_b_level  \\\n",
       "date                                                              \n",
       "2016-01-16 21:00:00                                     -500.05   \n",
       "2016-01-16 22:00:00                                     -500.25   \n",
       "2016-01-16 23:00:00                                     -502.25   \n",
       "2016-01-17 00:00:00                                     -498.53   \n",
       "2016-01-17 02:00:00                                     -499.30   \n",
       "2016-01-17 03:00:00                                     -500.51   \n",
       "2016-01-17 04:00:00                                     -499.70   \n",
       "2016-02-13 11:00:00                                     -401.05   \n",
       "2016-02-18 20:00:00                                     -400.21   \n",
       "2016-03-11 10:00:00                                     -450.18   \n",
       "\n",
       "                     secondary_cleaner.state.floatbank3_a_air  \\\n",
       "date                                                            \n",
       "2016-01-16 21:00:00                                     24.96   \n",
       "2016-01-16 22:00:00                                     25.03   \n",
       "2016-01-16 23:00:00                                     25.02   \n",
       "2016-01-17 00:00:00                                     24.97   \n",
       "2016-01-17 02:00:00                                     24.93   \n",
       "2016-01-17 03:00:00                                     25.03   \n",
       "2016-01-17 04:00:00                                     24.95   \n",
       "2016-02-13 11:00:00                                     30.90   \n",
       "2016-02-18 20:00:00                                     28.98   \n",
       "2016-03-11 10:00:00                                     27.04   \n",
       "\n",
       "                     secondary_cleaner.state.floatbank3_a_level  \\\n",
       "date                                                              \n",
       "2016-01-16 21:00:00                                     -500.21   \n",
       "2016-01-16 22:00:00                                     -499.90   \n",
       "2016-01-16 23:00:00                                     -499.42   \n",
       "2016-01-17 00:00:00                                     -500.54   \n",
       "2016-01-17 02:00:00                                     -499.53   \n",
       "2016-01-17 03:00:00                                     -500.04   \n",
       "2016-01-17 04:00:00                                     -500.17   \n",
       "2016-02-13 11:00:00                                     -400.95   \n",
       "2016-02-18 20:00:00                                     -252.88   \n",
       "2016-03-11 10:00:00                                     -449.39   \n",
       "\n",
       "                     secondary_cleaner.state.floatbank3_b_air  \\\n",
       "date                                                            \n",
       "2016-01-16 21:00:00                                     23.98   \n",
       "2016-01-16 22:00:00                                     23.96   \n",
       "2016-01-16 23:00:00                                     23.98   \n",
       "2016-01-17 00:00:00                                     24.02   \n",
       "2016-01-17 02:00:00                                     24.05   \n",
       "2016-01-17 03:00:00                                     24.02   \n",
       "2016-01-17 04:00:00                                     23.95   \n",
       "2016-02-13 11:00:00                                     29.00   \n",
       "2016-02-18 20:00:00                                     27.96   \n",
       "2016-03-11 10:00:00                                     24.88   \n",
       "\n",
       "                     secondary_cleaner.state.floatbank3_b_level  \\\n",
       "date                                                              \n",
       "2016-01-16 21:00:00                                     -500.61   \n",
       "2016-01-16 22:00:00                                     -499.79   \n",
       "2016-01-16 23:00:00                                     -499.93   \n",
       "2016-01-17 00:00:00                                     -499.97   \n",
       "2016-01-17 02:00:00                                     -500.13   \n",
       "2016-01-17 03:00:00                                     -499.99   \n",
       "2016-01-17 04:00:00                                     -500.11   \n",
       "2016-02-13 11:00:00                                     -401.03   \n",
       "2016-02-18 20:00:00                                     -378.36   \n",
       "2016-03-11 10:00:00                                     -449.37   \n",
       "\n",
       "                     secondary_cleaner.state.floatbank4_a_air  \\\n",
       "date                                                            \n",
       "2016-01-16 21:00:00                                     14.03   \n",
       "2016-01-16 22:00:00                                     14.09   \n",
       "2016-01-16 23:00:00                                     14.00   \n",
       "2016-01-17 00:00:00                                     14.01   \n",
       "2016-01-17 02:00:00                                     13.98   \n",
       "2016-01-17 03:00:00                                     14.16   \n",
       "2016-01-17 04:00:00                                     14.10   \n",
       "2016-02-13 11:00:00                                     21.99   \n",
       "2016-02-18 20:00:00                                     23.71   \n",
       "2016-03-11 10:00:00                                     11.98   \n",
       "\n",
       "                     secondary_cleaner.state.floatbank4_a_level  \\\n",
       "date                                                              \n",
       "2016-01-16 21:00:00                                     -550.40   \n",
       "2016-01-16 22:00:00                                     -550.68   \n",
       "2016-01-16 23:00:00                                     -551.22   \n",
       "2016-01-17 00:00:00                                     -549.39   \n",
       "2016-01-17 02:00:00                                     -550.56   \n",
       "2016-01-17 03:00:00                                     -552.96   \n",
       "2016-01-17 04:00:00                                     -549.29   \n",
       "2016-02-13 11:00:00                                     -399.59   \n",
       "2016-02-18 20:00:00                                     -412.03   \n",
       "2016-03-11 10:00:00                                     -453.43   \n",
       "\n",
       "                     secondary_cleaner.state.floatbank4_b_air  \\\n",
       "date                                                            \n",
       "2016-01-16 21:00:00                                     12.03   \n",
       "2016-01-16 22:00:00                                     12.00   \n",
       "2016-01-16 23:00:00                                     11.97   \n",
       "2016-01-17 00:00:00                                     11.98   \n",
       "2016-01-17 02:00:00                                     12.00   \n",
       "2016-01-17 03:00:00                                     11.92   \n",
       "2016-01-17 04:00:00                                     12.00   \n",
       "2016-02-13 11:00:00                                     21.99   \n",
       "2016-02-18 20:00:00                                     22.64   \n",
       "2016-03-11 10:00:00                                     12.00   \n",
       "\n",
       "                     secondary_cleaner.state.floatbank4_b_level  \\\n",
       "date                                                              \n",
       "2016-01-16 21:00:00                                     -550.57   \n",
       "2016-01-16 22:00:00                                     -550.50   \n",
       "2016-01-16 23:00:00                                     -550.10   \n",
       "2016-01-17 00:00:00                                     -550.78   \n",
       "2016-01-17 02:00:00                                     -550.55   \n",
       "2016-01-17 03:00:00                                     -549.42   \n",
       "2016-01-17 04:00:00                                     -550.31   \n",
       "2016-02-13 11:00:00                                     -401.37   \n",
       "2016-02-18 20:00:00                                     -412.90   \n",
       "2016-03-11 10:00:00                                     -450.18   \n",
       "\n",
       "                     secondary_cleaner.state.floatbank5_a_air  \\\n",
       "date                                                            \n",
       "2016-01-16 21:00:00                                     10.05   \n",
       "2016-01-16 22:00:00                                      9.95   \n",
       "2016-01-16 23:00:00                                      9.98   \n",
       "2016-01-17 00:00:00                                      9.99   \n",
       "2016-01-17 02:00:00                                      9.94   \n",
       "2016-01-17 03:00:00                                     10.02   \n",
       "2016-01-17 04:00:00                                      9.93   \n",
       "2016-02-13 11:00:00                                     23.00   \n",
       "2016-02-18 20:00:00                                     25.02   \n",
       "2016-03-11 10:00:00                                     11.98   \n",
       "\n",
       "                     secondary_cleaner.state.floatbank5_a_level  \\\n",
       "date                                                              \n",
       "2016-01-16 21:00:00                                     -500.80   \n",
       "2016-01-16 22:00:00                                     -500.33   \n",
       "2016-01-16 23:00:00                                     -502.87   \n",
       "2016-01-17 00:00:00                                     -499.61   \n",
       "2016-01-17 02:00:00                                     -503.28   \n",
       "2016-01-17 03:00:00                                     -497.64   \n",
       "2016-01-17 04:00:00                                     -501.99   \n",
       "2016-02-13 11:00:00                                     -399.37   \n",
       "2016-02-18 20:00:00                                     -428.54   \n",
       "2016-03-11 10:00:00                                     -449.86   \n",
       "\n",
       "                     secondary_cleaner.state.floatbank5_b_air  \\\n",
       "date                                                            \n",
       "2016-01-16 21:00:00                                      7.98   \n",
       "2016-01-16 22:00:00                                      8.01   \n",
       "2016-01-16 23:00:00                                      7.94   \n",
       "2016-01-17 00:00:00                                      7.96   \n",
       "2016-01-17 02:00:00                                      8.02   \n",
       "2016-01-17 03:00:00                                      8.00   \n",
       "2016-01-17 04:00:00                                      7.95   \n",
       "2016-02-13 11:00:00                                     20.97   \n",
       "2016-02-18 20:00:00                                     21.01   \n",
       "2016-03-11 10:00:00                                      9.93   \n",
       "\n",
       "                     secondary_cleaner.state.floatbank5_b_level  \\\n",
       "date                                                              \n",
       "2016-01-16 21:00:00                                     -499.58   \n",
       "2016-01-16 22:00:00                                     -500.13   \n",
       "2016-01-16 23:00:00                                     -500.62   \n",
       "2016-01-17 00:00:00                                     -498.88   \n",
       "2016-01-17 02:00:00                                     -500.97   \n",
       "2016-01-17 03:00:00                                     -500.11   \n",
       "2016-01-17 04:00:00                                     -500.06   \n",
       "2016-02-13 11:00:00                                     -399.31   \n",
       "2016-02-18 20:00:00                                     -400.29   \n",
       "2016-03-11 10:00:00                                     -450.52   \n",
       "\n",
       "                     secondary_cleaner.state.floatbank6_a_air  \\\n",
       "date                                                            \n",
       "2016-01-16 21:00:00                                     11.98   \n",
       "2016-01-16 22:00:00                                     11.98   \n",
       "2016-01-16 23:00:00                                     12.02   \n",
       "2016-01-17 00:00:00                                     11.97   \n",
       "2016-01-17 02:00:00                                     11.99   \n",
       "2016-01-17 03:00:00                                     12.04   \n",
       "2016-01-17 04:00:00                                     12.01   \n",
       "2016-02-13 11:00:00                                     24.99   \n",
       "2016-02-18 20:00:00                                     30.00   \n",
       "2016-03-11 10:00:00                                     19.97   \n",
       "\n",
       "                     secondary_cleaner.state.floatbank6_a_level  stage1  \\\n",
       "date                                                                      \n",
       "2016-01-16 21:00:00                                     -599.16   58.60   \n",
       "2016-01-16 22:00:00                                     -598.84   59.92   \n",
       "2016-01-16 23:00:00                                     -600.92   57.27   \n",
       "2016-01-17 00:00:00                                     -599.44   25.35   \n",
       "2016-01-17 02:00:00                                     -598.48   40.72   \n",
       "2016-01-17 03:00:00                                     -599.63   55.66   \n",
       "2016-01-17 04:00:00                                     -601.75   57.84   \n",
       "2016-02-13 11:00:00                                     -399.62   46.70   \n",
       "2016-02-18 20:00:00                                     -396.68   65.74   \n",
       "2016-03-11 10:00:00                                     -500.69   53.37   \n",
       "\n",
       "                     stage2  stage3  \n",
       "date                                 \n",
       "2016-01-16 21:00:00    0.00   66.18  \n",
       "2016-01-16 22:00:00    0.00   66.79  \n",
       "2016-01-16 23:00:00    0.00   67.57  \n",
       "2016-01-17 00:00:00    0.00   65.60  \n",
       "2016-01-17 02:00:00    0.00   63.45  \n",
       "2016-01-17 03:00:00    0.00   64.56  \n",
       "2016-01-17 04:00:00    0.00   66.00  \n",
       "2016-02-13 11:00:00   56.57    0.00  \n",
       "2016-02-18 20:00:00    0.00   66.11  \n",
       "2016-03-11 10:00:00   61.68    0.00  "
      ]
     },
     "execution_count": 20,
     "metadata": {},
     "output_type": "execute_result"
    }
   ],
   "source": [
    "del_data = data_all.loc[(data_all['stage1'] == 0) | (data_all['stage2'] == 0) | (data_all['stage3'] ==0)]\n",
    "del_data.head(10)"
   ]
  },
  {
   "cell_type": "markdown",
   "metadata": {},
   "source": [
    "Используя индексы нового датасета, удалить из всех выборок наблюдения с 0 суммарной концентрацией."
   ]
  },
  {
   "cell_type": "code",
   "execution_count": 21,
   "metadata": {
    "scrolled": true
   },
   "outputs": [],
   "source": [
    "def dropnull(data):\n",
    "    set_index_1 = set(data.index)\n",
    "    set_index_2 = set(del_data.index)\n",
    "    set_drop = set_index_1.intersection(set_index_2)\n",
    "    data = data.drop(set_drop, axis=0)\n",
    "    return data\n",
    "\n",
    "data_train = dropnull(data_train)\n",
    "data_test = dropnull(data_test)\n",
    "data_all = dropnull(data_all)"
   ]
  },
  {
   "cell_type": "markdown",
   "metadata": {},
   "source": [
    "Убедимся, что шаг выполнен успешно."
   ]
  },
  {
   "cell_type": "code",
   "execution_count": 22,
   "metadata": {
    "scrolled": false
   },
   "outputs": [
    {
     "data": {
      "image/png": "[encoded data removed]",
      "text/plain": [
       "<Figure size 864x504 with 1 Axes>"
      ]
     },
     "metadata": {
      "needs_background": "light"
     },
     "output_type": "display_data"
    },
    {
     "data": {
      "image/png": "[encoded data removed]",
      "text/plain": [
       "<Figure size 864x504 with 1 Axes>"
      ]
     },
     "metadata": {
      "needs_background": "light"
     },
     "output_type": "display_data"
    }
   ],
   "source": [
    "histplot_con(data_all[['stage1', 'stage2', 'stage3']],'Распределение суммарный концентраций UPD', 'Концентрация')"
   ]
  },
  {
   "cell_type": "markdown",
   "metadata": {},
   "source": [
    "Как видим, шаг выполнен успешно, хотя, судя по графикам, имеются наблюдения с суммарной концентрацией, близкой к 0, пока что трогать их не будем."
   ]
  },
  {
   "cell_type": "markdown",
   "metadata": {},
   "source": [
    "### Выводы"
   ]
  },
  {
   "cell_type": "markdown",
   "metadata": {},
   "source": [
    "На данном шаге:\n",
    "\n",
    "1. Были исследованы распределения концентраций металлов на разных этапах;\n",
    "2. Исследованы распределения размеров зерен у тестовой и тренировочной выборках;\n",
    "3. Рассмотрены распределения суммарных концентраций веществ на разных этапах.\n",
    "\n",
    "Были выявлены и устранены аномалии с 0 суммарной концентрацией, а так же мы получили подтвержение, что распределением размеров зерен у тестовой и обучающей выборки схожи - разбивна на выборки корректна."
   ]
  },
  {
   "cell_type": "markdown",
   "metadata": {},
   "source": [
    "## Модель"
   ]
  },
  {
   "cell_type": "markdown",
   "metadata": {},
   "source": [
    "### Подготовка признаков и функции оценки"
   ]
  },
  {
   "cell_type": "markdown",
   "metadata": {},
   "source": [
    "Для начала разобьем исходные выборки. Проверим корректность разбивки."
   ]
  },
  {
   "cell_type": "code",
   "execution_count": 23,
   "metadata": {},
   "outputs": [
    {
     "name": "stdout",
     "output_type": "stream",
     "text": [
      "Размер целевого признака 1 тестовой выборки: (5154,)\n",
      "Размер целевого признака 2 тестовой выборки: (5154,)\n",
      "Размер тестовой выборки: (5154, 52)\n",
      "Размер целевого признака 1 обучающей выборки: (13795,)\n",
      "Размер целевого признака 1 обучающей выборки: (13795,)\n",
      "Размер обучающей выборки: (13795, 52)\n"
     ]
    }
   ],
   "source": [
    "target_r = data_all.loc[data_test.index, 'rougher.output.recovery']\n",
    "target_f = data_all.loc[data_test.index, 'final.output.recovery']\n",
    "target_f_t = data_train['final.output.recovery']\n",
    "target_r_t = data_train['rougher.output.recovery']\n",
    "features = data_train.drop(list(drop_col), axis=1)\n",
    "\n",
    "print('Размер целевого признака 1 тестовой выборки:', target_r.shape)\n",
    "print('Размер целевого признака 2 тестовой выборки:', target_f.shape)\n",
    "print('Размер тестовой выборки:', data_test.shape)\n",
    "\n",
    "print('Размер целевого признака 1 обучающей выборки:', target_f_t.shape)\n",
    "print('Размер целевого признака 1 обучающей выборки:', target_r_t.shape)\n",
    "print('Размер обучающей выборки:', features.shape)\n"
   ]
  },
  {
   "cell_type": "markdown",
   "metadata": {},
   "source": [
    "Разбивка выполнена корректно. Теперь подготовим функцию рассчёта оценки предсказаний."
   ]
  },
  {
   "cell_type": "code",
   "execution_count": 24,
   "metadata": {},
   "outputs": [],
   "source": [
    "def smape(target, predict):\n",
    "    # функция вычисляет sMAPE, на вход получает предсказание и ответы, возвращает оценку.\n",
    "    \n",
    "    multipliter = (target - predict).abs()\n",
    "    delimiter = (target.abs() + predict)\n",
    "    smape = ((multipliter / delimiter).sum() / multipliter.shape[0]) * 100\n",
    "    \n",
    "    return smape\n",
    "\n",
    "\n",
    "def all_smape(features, target, model, param):\n",
    "    # функция считает среднюю оценку кросс валидации\n",
    "    #на вход получает признаки, целевые признаки и модель, возвращает ср. оценку\n",
    "    \n",
    "    model_def = copy.deepcopy(model)\n",
    "    my_score = make_scorer(smape, greater_is_better=False)\n",
    "    scores = GridSearchCV(model, param, cv=5, n_jobs=-1, scoring=my_score)\n",
    "    scores.fit(features, target)\n",
    "    \n",
    "    return scores"
   ]
  },
  {
   "cell_type": "markdown",
   "metadata": {},
   "source": [
    "### Обучение моделей и поиск наилучшей"
   ]
  },
  {
   "cell_type": "markdown",
   "metadata": {},
   "source": [
    "Теперь поочередно обучим модели линейной регресси, решающего дерева и случайного леса. Выведем наилучшие оценки."
   ]
  },
  {
   "cell_type": "code",
   "execution_count": 25,
   "metadata": {},
   "outputs": [
    {
     "name": "stdout",
     "output_type": "stream",
     "text": [
      "Линейная регрессия\n",
      "------------\n",
      "Rougher sMAPE\n",
      "Лучная оценка -3.6339033654501476\n",
      "{}\n",
      "Final sMAPE\n",
      "Лучшая оценка: -5.495100257579004\n",
      "{}\n",
      "Итоговая sMAPE: -5.02980103454679\n",
      "-------------\n",
      "Решающее дерево\n",
      "------------\n",
      "Rougher sMAPE\n",
      "Лучная оценка -3.5355690048397816\n",
      "{'max_depth': 3}\n",
      "Final sMAPE\n",
      "Лучшая оценка: -4.693057338487276\n",
      "{'max_depth': 2}\n",
      "Итоговая sMAPE: -4.403685255075403\n",
      "-------------\n",
      "Рандомный лес\n",
      "------------\n",
      "Rougher sMAPE\n",
      "Лучная оценка -3.2913393759577603\n",
      "{'max_depth': 5, 'n_estimators': 5}\n",
      "Final sMAPE\n",
      "Лучшая оценка: -4.59834228007205\n",
      "{'max_depth': 4, 'n_estimators': 5}\n",
      "Итоговая sMAPE: -4.271591554043478\n",
      "-------------\n"
     ]
    }
   ],
   "source": [
    "list_model = [LinearRegression(), DecisionTreeRegressor(), RandomForestRegressor()]\n",
    "list_name_model = ['Линейная регрессия', 'Решающее дерево', 'Рандомный лес']\n",
    "list_params = [{}, {'max_depth': range(1,11)}, {'max_depth': range(1,6), 'n_estimators': range(1,6)}]\n",
    "\n",
    "for i in range(len(list_model)):\n",
    "    model = list_model[i]\n",
    "    name_model = list_name_model[i]\n",
    "    param = list_params[i]\n",
    "    score = all_smape(features, target_r_t, model, param)\n",
    "    score_2 = all_smape(features, target_f_t, model, param)\n",
    "    \n",
    "    print(name_model)\n",
    "    print('------------')\n",
    "    print('Rougher sMAPE')\n",
    "    print('Лучная оценка', score.best_score_)\n",
    "    print(score.best_params_)\n",
    "    print('Final sMAPE')\n",
    "    print('Лучшая оценка:', score_2.best_score_)\n",
    "    print(score_2.best_params_)\n",
    "    print('Итоговая sMAPE:', 0.25 * score.best_score_ + 0.75 * score_2.best_score_)\n",
    "    print('-------------')"
   ]
  },
  {
   "cell_type": "markdown",
   "metadata": {},
   "source": [
    "Наилучшая оценка у рандомного леса в гиперпараметрами - глубина: 4 и 5, число деревьев: 2 и 4. Данную модель проверим на тестовой выборке."
   ]
  },
  {
   "cell_type": "markdown",
   "metadata": {},
   "source": [
    "### Проверка на тестовой выборке"
   ]
  },
  {
   "cell_type": "markdown",
   "metadata": {},
   "source": [
    "Проверим наилучшую модель из предидущего пункта на тестовой выборке. Воспользуемся функцией написанной `smape`, для рассчёта части итоговой оценки."
   ]
  },
  {
   "cell_type": "code",
   "execution_count": 26,
   "metadata": {},
   "outputs": [
    {
     "name": "stdout",
     "output_type": "stream",
     "text": [
      "Итоговая sMAPE: 3.746272456231198\n"
     ]
    }
   ],
   "source": [
    "model = RandomForestRegressor(max_depth=4, n_estimators=2)\n",
    "model_2 = RandomForestRegressor(max_depth=5, n_estimators=4)\n",
    "model.fit(features, target_r_t)\n",
    "predict_1 = model.predict(data_test)\n",
    "smape_1 = smape(target_r, predict_1)\n",
    "model_2.fit(features, target_f_t)\n",
    "predict_2 = model_2.predict(data_test)\n",
    "smape_2 = smape(target_f, predict_2)\n",
    "ismape = 0.25 * smape_1 + 0.75 * smape_2\n",
    "print('Итоговая sMAPE:', ismape)"
   ]
  },
  {
   "cell_type": "markdown",
   "metadata": {},
   "source": [
    "Результаты лучше, чем на обучающей выборке, проверим адекватность модели, сравнив её с моделью, которая всегда предсказывает среднее значение."
   ]
  },
  {
   "cell_type": "code",
   "execution_count": 27,
   "metadata": {},
   "outputs": [
    {
     "name": "stdout",
     "output_type": "stream",
     "text": [
      "Итоговая sMAPE: 3.883302033694264\n"
     ]
    }
   ],
   "source": [
    "model = DummyRegressor(strategy='mean')\n",
    "model.fit(features, target_r_t)\n",
    "predict_1 = model.predict(data_test)\n",
    "smape_1 = smape(target_r, predict_1)\n",
    "model.fit(features, target_f_t)\n",
    "predict_2 = model.predict(data_test)\n",
    "smape_2 = smape(target_f, predict_2)\n",
    "ismape = 0.25 * smape_1 + 0.75 * smape_2\n",
    "print('Итоговая sMAPE:', ismape)"
   ]
  },
  {
   "cell_type": "markdown",
   "metadata": {},
   "source": [
    "Выбранная модель показала бОльшую адекватность, что валидирующая, задача выполнена."
   ]
  },
  {
   "cell_type": "markdown",
   "metadata": {},
   "source": [
    "## Выводы"
   ]
  },
  {
   "cell_type": "markdown",
   "metadata": {},
   "source": [
    "В ходе выполнения работы, была проведения предварительная обработка данных, исследованы распределния ряда признаков, обнаружены и устранены аномалии в распределениях. Были обучены три типа моделей, выбрана модель с наилучшей оценкой и проверена на тестовой выборке с использованием валидирубщей модели. \n",
    "\n",
    "Выбрана модель прошла проверку на адекватность. Можно утверждать, что задача выполнена."
   ]
  }
 ],
 "metadata": {
  "ExecuteTimeLog": [
   {
    "duration": 404,
    "start_time": "2022-04-09T18:07:37.545Z"
   },
   {
    "duration": 215,
    "start_time": "2022-04-09T18:08:40.683Z"
   },
   {
    "duration": 11,
    "start_time": "2022-04-09T18:08:51.321Z"
   },
   {
    "duration": 734,
    "start_time": "2022-04-09T18:09:18.979Z"
   },
   {
    "duration": 739,
    "start_time": "2022-04-09T18:09:23.129Z"
   },
   {
    "duration": 2,
    "start_time": "2022-04-09T18:16:16.400Z"
   },
   {
    "duration": 22,
    "start_time": "2022-04-09T18:16:56.407Z"
   },
   {
    "duration": 3,
    "start_time": "2022-04-09T18:17:27.117Z"
   },
   {
    "duration": 101,
    "start_time": "2022-04-09T18:17:27.706Z"
   },
   {
    "duration": 3,
    "start_time": "2022-04-09T18:19:18.507Z"
   },
   {
    "duration": 122,
    "start_time": "2022-04-09T18:19:18.906Z"
   },
   {
    "duration": 3,
    "start_time": "2022-04-09T18:19:27.966Z"
   },
   {
    "duration": 112,
    "start_time": "2022-04-09T18:19:28.378Z"
   },
   {
    "duration": 2,
    "start_time": "2022-04-09T18:22:34.359Z"
   },
   {
    "duration": 97,
    "start_time": "2022-04-09T18:22:34.802Z"
   },
   {
    "duration": 775,
    "start_time": "2022-04-09T18:23:26.830Z"
   },
   {
    "duration": 3,
    "start_time": "2022-04-09T18:23:29.317Z"
   },
   {
    "duration": 217,
    "start_time": "2022-04-09T18:23:29.799Z"
   },
   {
    "duration": 8,
    "start_time": "2022-04-09T18:26:16.807Z"
   },
   {
    "duration": 690,
    "start_time": "2022-04-09T18:26:25.106Z"
   },
   {
    "duration": 3,
    "start_time": "2022-04-09T18:26:26.553Z"
   },
   {
    "duration": 176,
    "start_time": "2022-04-09T18:26:27.188Z"
   },
   {
    "duration": 2,
    "start_time": "2022-04-09T18:33:25.700Z"
   },
   {
    "duration": 121,
    "start_time": "2022-04-09T18:33:26.035Z"
   },
   {
    "duration": 3,
    "start_time": "2022-04-09T18:46:12.576Z"
   },
   {
    "duration": 641,
    "start_time": "2022-04-09T18:46:13.178Z"
   },
   {
    "duration": 3,
    "start_time": "2022-04-09T18:48:48.699Z"
   },
   {
    "duration": 146,
    "start_time": "2022-04-09T18:48:49.151Z"
   },
   {
    "duration": 191,
    "start_time": "2022-04-09T18:52:20.991Z"
   },
   {
    "duration": 3211,
    "start_time": "2022-04-09T18:52:26.467Z"
   },
   {
    "duration": 3082,
    "start_time": "2022-04-09T18:52:46.899Z"
   },
   {
    "duration": 5,
    "start_time": "2022-04-09T18:52:57.646Z"
   },
   {
    "duration": 3551,
    "start_time": "2022-04-09T18:55:12.767Z"
   },
   {
    "duration": 165,
    "start_time": "2022-04-09T18:55:23.312Z"
   },
   {
    "duration": 156,
    "start_time": "2022-04-09T18:55:59.806Z"
   },
   {
    "duration": 182,
    "start_time": "2022-04-09T18:56:55.104Z"
   },
   {
    "duration": 12,
    "start_time": "2022-04-09T18:57:03.337Z"
   },
   {
    "duration": 15,
    "start_time": "2022-04-09T18:57:25.369Z"
   },
   {
    "duration": 524,
    "start_time": "2022-04-09T18:57:29.539Z"
   },
   {
    "duration": 764,
    "start_time": "2022-04-09T18:58:45.195Z"
   },
   {
    "duration": 9,
    "start_time": "2022-04-09T18:59:35.929Z"
   },
   {
    "duration": 10,
    "start_time": "2022-04-09T19:00:08.903Z"
   },
   {
    "duration": 3,
    "start_time": "2022-04-09T19:10:50.576Z"
   },
   {
    "duration": 627,
    "start_time": "2022-04-09T19:10:50.581Z"
   },
   {
    "duration": 4,
    "start_time": "2022-04-09T19:10:51.210Z"
   },
   {
    "duration": 143,
    "start_time": "2022-04-09T19:10:51.216Z"
   },
   {
    "duration": 27,
    "start_time": "2022-04-09T19:10:51.361Z"
   },
   {
    "duration": 2,
    "start_time": "2022-04-09T19:10:51.390Z"
   },
   {
    "duration": 5,
    "start_time": "2022-04-09T19:12:00.607Z"
   },
   {
    "duration": 50,
    "start_time": "2022-04-09T19:20:43.594Z"
   },
   {
    "duration": 38,
    "start_time": "2022-04-09T19:27:08.061Z"
   },
   {
    "duration": 12,
    "start_time": "2022-04-09T19:27:15.538Z"
   },
   {
    "duration": 9,
    "start_time": "2022-04-09T19:27:45.632Z"
   },
   {
    "duration": 20,
    "start_time": "2022-04-09T19:27:53.527Z"
   },
   {
    "duration": 3391,
    "start_time": "2022-04-09T19:34:45.201Z"
   },
   {
    "duration": 3,
    "start_time": "2022-04-09T19:35:21.708Z"
   },
   {
    "duration": 669,
    "start_time": "2022-04-09T19:35:21.713Z"
   },
   {
    "duration": 4,
    "start_time": "2022-04-09T19:35:22.384Z"
   },
   {
    "duration": 143,
    "start_time": "2022-04-09T19:35:22.389Z"
   },
   {
    "duration": 8,
    "start_time": "2022-04-09T19:35:22.534Z"
   },
   {
    "duration": 4,
    "start_time": "2022-04-09T19:35:22.543Z"
   },
   {
    "duration": 80,
    "start_time": "2022-04-09T19:35:22.549Z"
   },
   {
    "duration": 15,
    "start_time": "2022-04-09T19:35:22.631Z"
   },
   {
    "duration": 5395,
    "start_time": "2022-04-09T19:35:22.648Z"
   },
   {
    "duration": 15452,
    "start_time": "2022-04-09T19:35:50.277Z"
   },
   {
    "duration": 13,
    "start_time": "2022-04-09T19:37:54.196Z"
   },
   {
    "duration": 3690,
    "start_time": "2022-04-09T19:38:09.686Z"
   },
   {
    "duration": 3845,
    "start_time": "2022-04-09T19:38:29.877Z"
   },
   {
    "duration": 5,
    "start_time": "2022-04-09T19:38:47.526Z"
   },
   {
    "duration": 245891,
    "start_time": "2022-04-09T19:39:12.799Z"
   },
   {
    "duration": 70,
    "start_time": "2022-04-09T19:44:26.658Z"
   },
   {
    "duration": 495,
    "start_time": "2022-04-09T19:45:58.173Z"
   },
   {
    "duration": 492,
    "start_time": "2022-04-09T19:46:06.457Z"
   },
   {
    "duration": 484,
    "start_time": "2022-04-09T19:46:14.752Z"
   },
   {
    "duration": 506,
    "start_time": "2022-04-09T19:46:24.410Z"
   },
   {
    "duration": 3,
    "start_time": "2022-04-09T19:48:49.838Z"
   },
   {
    "duration": 477,
    "start_time": "2022-04-09T19:50:58.164Z"
   },
   {
    "duration": 501,
    "start_time": "2022-04-09T19:51:04.503Z"
   },
   {
    "duration": 459,
    "start_time": "2022-04-09T19:51:20.615Z"
   },
   {
    "duration": 4,
    "start_time": "2022-04-09T19:51:30.832Z"
   },
   {
    "duration": 480,
    "start_time": "2022-04-09T19:51:35.263Z"
   },
   {
    "duration": 500,
    "start_time": "2022-04-09T19:51:44.354Z"
   },
   {
    "duration": 471,
    "start_time": "2022-04-09T19:51:51.869Z"
   },
   {
    "duration": 12,
    "start_time": "2022-04-09T19:52:14.544Z"
   },
   {
    "duration": 469,
    "start_time": "2022-04-09T19:52:29.823Z"
   },
   {
    "duration": 461,
    "start_time": "2022-04-09T19:52:52.615Z"
   },
   {
    "duration": 469,
    "start_time": "2022-04-09T19:52:57.495Z"
   },
   {
    "duration": 3,
    "start_time": "2022-04-09T19:53:30.768Z"
   },
   {
    "duration": 474,
    "start_time": "2022-04-09T19:53:36.054Z"
   },
   {
    "duration": 8,
    "start_time": "2022-04-09T19:55:14.450Z"
   },
   {
    "duration": 502,
    "start_time": "2022-04-09T19:55:24.653Z"
   },
   {
    "duration": 9,
    "start_time": "2022-04-09T19:55:46.119Z"
   },
   {
    "duration": 519,
    "start_time": "2022-04-09T19:55:52.358Z"
   },
   {
    "duration": 544,
    "start_time": "2022-04-09T19:56:31.033Z"
   },
   {
    "duration": 534,
    "start_time": "2022-04-09T19:56:36.407Z"
   },
   {
    "duration": 506,
    "start_time": "2022-04-09T19:57:47.117Z"
   },
   {
    "duration": 486,
    "start_time": "2022-04-09T19:59:55.210Z"
   },
   {
    "duration": 531,
    "start_time": "2022-04-09T19:59:58.854Z"
   },
   {
    "duration": 548,
    "start_time": "2022-04-09T20:00:02.152Z"
   },
   {
    "duration": 816,
    "start_time": "2022-04-09T20:00:10.471Z"
   },
   {
    "duration": 806,
    "start_time": "2022-04-09T20:00:23.977Z"
   },
   {
    "duration": 786,
    "start_time": "2022-04-09T20:00:54.859Z"
   },
   {
    "duration": 784,
    "start_time": "2022-04-09T20:00:58.468Z"
   },
   {
    "duration": 1043,
    "start_time": "2022-04-09T20:02:46.525Z"
   },
   {
    "duration": 687,
    "start_time": "2022-04-09T20:03:24.564Z"
   },
   {
    "duration": 725,
    "start_time": "2022-04-09T20:03:33.217Z"
   },
   {
    "duration": 527,
    "start_time": "2022-04-09T20:03:44.573Z"
   },
   {
    "duration": 488,
    "start_time": "2022-04-09T20:03:56.406Z"
   },
   {
    "duration": 471,
    "start_time": "2022-04-09T20:04:06.552Z"
   },
   {
    "duration": 473,
    "start_time": "2022-04-09T20:04:09.902Z"
   },
   {
    "duration": 517,
    "start_time": "2022-04-09T20:04:14.697Z"
   },
   {
    "duration": 480,
    "start_time": "2022-04-09T20:04:32.077Z"
   },
   {
    "duration": 872,
    "start_time": "2022-04-09T20:04:57.435Z"
   },
   {
    "duration": 229,
    "start_time": "2022-04-09T20:05:28.067Z"
   },
   {
    "duration": 11,
    "start_time": "2022-04-09T20:05:33.405Z"
   },
   {
    "duration": 12,
    "start_time": "2022-04-09T20:05:47.306Z"
   },
   {
    "duration": 237,
    "start_time": "2022-04-09T20:06:25.153Z"
   },
   {
    "duration": 231,
    "start_time": "2022-04-09T20:06:37.327Z"
   },
   {
    "duration": 208,
    "start_time": "2022-04-09T20:06:40.411Z"
   },
   {
    "duration": 223,
    "start_time": "2022-04-09T20:06:43.462Z"
   },
   {
    "duration": 18,
    "start_time": "2022-04-09T20:06:47.675Z"
   },
   {
    "duration": 16,
    "start_time": "2022-04-09T20:07:00.705Z"
   },
   {
    "duration": 224,
    "start_time": "2022-04-09T20:07:39.439Z"
   },
   {
    "duration": 515,
    "start_time": "2022-04-09T20:07:44.239Z"
   },
   {
    "duration": 498,
    "start_time": "2022-04-09T20:07:57.139Z"
   },
   {
    "duration": 493,
    "start_time": "2022-04-09T20:08:11.597Z"
   },
   {
    "duration": 486,
    "start_time": "2022-04-09T20:08:20.127Z"
   },
   {
    "duration": 10,
    "start_time": "2022-04-09T20:20:27.206Z"
   },
   {
    "duration": 225,
    "start_time": "2022-04-09T20:20:34.336Z"
   },
   {
    "duration": 117,
    "start_time": "2022-04-09T20:21:00.584Z"
   },
   {
    "duration": 114,
    "start_time": "2022-04-09T20:21:15.050Z"
   },
   {
    "duration": 132,
    "start_time": "2022-04-09T20:21:31.000Z"
   },
   {
    "duration": 123,
    "start_time": "2022-04-09T20:21:51.309Z"
   },
   {
    "duration": 194,
    "start_time": "2022-04-09T20:21:56.587Z"
   },
   {
    "duration": 131,
    "start_time": "2022-04-09T20:22:33.437Z"
   },
   {
    "duration": 152,
    "start_time": "2022-04-09T20:22:46.136Z"
   },
   {
    "duration": 136,
    "start_time": "2022-04-09T20:23:09.520Z"
   },
   {
    "duration": 139,
    "start_time": "2022-04-09T20:23:54.020Z"
   },
   {
    "duration": 143,
    "start_time": "2022-04-09T20:24:17.468Z"
   },
   {
    "duration": 132,
    "start_time": "2022-04-09T20:24:27.224Z"
   },
   {
    "duration": 164,
    "start_time": "2022-04-09T20:25:36.569Z"
   },
   {
    "duration": 139,
    "start_time": "2022-04-09T20:25:48.214Z"
   },
   {
    "duration": 8,
    "start_time": "2022-04-09T20:27:07.450Z"
   },
   {
    "duration": 10,
    "start_time": "2022-04-09T20:27:45.882Z"
   },
   {
    "duration": 12391,
    "start_time": "2022-04-09T20:29:03.153Z"
   },
   {
    "duration": 9,
    "start_time": "2022-04-09T20:29:57.922Z"
   },
   {
    "duration": 196,
    "start_time": "2022-04-09T20:30:57.434Z"
   },
   {
    "duration": 145,
    "start_time": "2022-04-09T20:31:06.122Z"
   },
   {
    "duration": 9,
    "start_time": "2022-04-09T20:31:34.031Z"
   },
   {
    "duration": 3,
    "start_time": "2022-04-09T20:38:54.353Z"
   },
   {
    "duration": 6,
    "start_time": "2022-04-09T20:39:53.266Z"
   },
   {
    "duration": 5,
    "start_time": "2022-04-09T20:39:58.920Z"
   },
   {
    "duration": 4,
    "start_time": "2022-04-09T20:40:23.793Z"
   },
   {
    "duration": 694,
    "start_time": "2022-04-09T20:40:23.798Z"
   },
   {
    "duration": 4,
    "start_time": "2022-04-09T20:40:24.495Z"
   },
   {
    "duration": 150,
    "start_time": "2022-04-09T20:40:24.500Z"
   },
   {
    "duration": 37,
    "start_time": "2022-04-09T20:40:24.653Z"
   },
   {
    "duration": 5,
    "start_time": "2022-04-09T20:40:24.692Z"
   },
   {
    "duration": 56,
    "start_time": "2022-04-09T20:40:24.699Z"
   },
   {
    "duration": 27,
    "start_time": "2022-04-09T20:40:24.757Z"
   },
   {
    "duration": 7,
    "start_time": "2022-04-09T20:40:24.786Z"
   },
   {
    "duration": 480,
    "start_time": "2022-04-09T20:40:24.795Z"
   },
   {
    "duration": 481,
    "start_time": "2022-04-09T20:40:25.277Z"
   },
   {
    "duration": 464,
    "start_time": "2022-04-09T20:40:25.760Z"
   },
   {
    "duration": 136,
    "start_time": "2022-04-09T20:40:26.226Z"
   },
   {
    "duration": 17,
    "start_time": "2022-04-09T20:40:26.364Z"
   },
   {
    "duration": 5,
    "start_time": "2022-04-09T20:40:26.389Z"
   },
   {
    "duration": 152,
    "start_time": "2022-04-09T20:40:26.395Z"
   },
   {
    "duration": 9,
    "start_time": "2022-04-09T20:40:26.549Z"
   },
   {
    "duration": 265,
    "start_time": "2022-04-09T20:40:57.952Z"
   },
   {
    "duration": 10,
    "start_time": "2022-04-09T20:41:00.642Z"
   },
   {
    "duration": 5,
    "start_time": "2022-04-09T20:41:09.528Z"
   },
   {
    "duration": 9,
    "start_time": "2022-04-09T20:41:37.942Z"
   },
   {
    "duration": 9,
    "start_time": "2022-04-09T20:41:53.696Z"
   },
   {
    "duration": 14,
    "start_time": "2022-04-09T20:42:02.686Z"
   },
   {
    "duration": 3,
    "start_time": "2022-04-09T20:42:06.867Z"
   },
   {
    "duration": 11,
    "start_time": "2022-04-09T20:42:16.602Z"
   },
   {
    "duration": 10,
    "start_time": "2022-04-09T20:42:31.563Z"
   },
   {
    "duration": 4,
    "start_time": "2022-04-09T20:48:19.524Z"
   },
   {
    "duration": 5,
    "start_time": "2022-04-09T20:49:53.798Z"
   },
   {
    "duration": 4,
    "start_time": "2022-04-09T20:50:22.451Z"
   },
   {
    "duration": 4,
    "start_time": "2022-04-09T20:50:46.618Z"
   },
   {
    "duration": 12,
    "start_time": "2022-04-09T20:53:27.975Z"
   },
   {
    "duration": 6,
    "start_time": "2022-04-09T20:53:42.278Z"
   },
   {
    "duration": 5,
    "start_time": "2022-04-09T20:54:21.702Z"
   },
   {
    "duration": 6,
    "start_time": "2022-04-09T20:54:27.622Z"
   },
   {
    "duration": 195,
    "start_time": "2022-04-09T21:01:45.552Z"
   },
   {
    "duration": 10,
    "start_time": "2022-04-09T21:01:48.255Z"
   },
   {
    "duration": 9,
    "start_time": "2022-04-09T21:01:56.973Z"
   },
   {
    "duration": 3,
    "start_time": "2022-04-09T21:04:48.566Z"
   },
   {
    "duration": 16,
    "start_time": "2022-04-09T21:05:52.551Z"
   },
   {
    "duration": 7,
    "start_time": "2022-04-09T21:06:35.518Z"
   },
   {
    "duration": 8,
    "start_time": "2022-04-09T21:07:20.284Z"
   },
   {
    "duration": 9,
    "start_time": "2022-04-09T21:07:27.890Z"
   },
   {
    "duration": 9,
    "start_time": "2022-04-09T21:07:35.256Z"
   },
   {
    "duration": 9,
    "start_time": "2022-04-09T21:07:41.090Z"
   },
   {
    "duration": 9,
    "start_time": "2022-04-09T21:09:31.596Z"
   },
   {
    "duration": 9,
    "start_time": "2022-04-09T21:14:12.113Z"
   },
   {
    "duration": 8,
    "start_time": "2022-04-09T21:20:53.920Z"
   },
   {
    "duration": 49,
    "start_time": "2022-04-11T07:21:11.905Z"
   },
   {
    "duration": 9,
    "start_time": "2022-04-11T07:21:25.702Z"
   },
   {
    "duration": 1890,
    "start_time": "2022-04-11T07:21:34.695Z"
   },
   {
    "duration": 647,
    "start_time": "2022-04-11T07:21:36.587Z"
   },
   {
    "duration": 4,
    "start_time": "2022-04-11T07:21:37.235Z"
   },
   {
    "duration": 174,
    "start_time": "2022-04-11T07:21:37.240Z"
   },
   {
    "duration": 21,
    "start_time": "2022-04-11T07:21:37.417Z"
   },
   {
    "duration": 4,
    "start_time": "2022-04-11T07:21:37.440Z"
   },
   {
    "duration": 56,
    "start_time": "2022-04-11T07:21:37.458Z"
   },
   {
    "duration": 18,
    "start_time": "2022-04-11T07:21:37.515Z"
   },
   {
    "duration": 6,
    "start_time": "2022-04-11T07:21:37.557Z"
   },
   {
    "duration": 495,
    "start_time": "2022-04-11T07:21:37.565Z"
   },
   {
    "duration": 472,
    "start_time": "2022-04-11T07:21:38.062Z"
   },
   {
    "duration": 468,
    "start_time": "2022-04-11T07:21:38.536Z"
   },
   {
    "duration": 163,
    "start_time": "2022-04-11T07:21:39.006Z"
   },
   {
    "duration": 11,
    "start_time": "2022-04-11T07:21:39.172Z"
   },
   {
    "duration": 181,
    "start_time": "2022-04-11T07:21:39.185Z"
   },
   {
    "duration": 13,
    "start_time": "2022-04-11T07:21:39.368Z"
   },
   {
    "duration": 104,
    "start_time": "2022-04-11T07:21:39.383Z"
   },
   {
    "duration": 0,
    "start_time": "2022-04-11T07:21:39.490Z"
   },
   {
    "duration": 12,
    "start_time": "2022-04-11T07:22:05.751Z"
   },
   {
    "duration": 10,
    "start_time": "2022-04-11T07:23:02.093Z"
   },
   {
    "duration": 10,
    "start_time": "2022-04-11T07:23:05.644Z"
   },
   {
    "duration": 6,
    "start_time": "2022-04-11T07:25:51.452Z"
   },
   {
    "duration": 365,
    "start_time": "2022-04-11T07:25:51.836Z"
   },
   {
    "duration": 458,
    "start_time": "2022-04-11T07:25:54.369Z"
   },
   {
    "duration": 388,
    "start_time": "2022-04-11T07:25:56.367Z"
   },
   {
    "duration": 149,
    "start_time": "2022-04-11T07:26:05.043Z"
   },
   {
    "duration": 195,
    "start_time": "2022-04-11T07:26:09.629Z"
   },
   {
    "duration": 2265,
    "start_time": "2022-04-11T08:02:01.463Z"
   },
   {
    "duration": 85,
    "start_time": "2022-04-11T08:04:33.524Z"
   },
   {
    "duration": 25,
    "start_time": "2022-04-11T08:05:32.637Z"
   },
   {
    "duration": 170,
    "start_time": "2022-04-11T08:05:54.539Z"
   },
   {
    "duration": 56,
    "start_time": "2022-04-11T08:06:10.714Z"
   },
   {
    "duration": 1329,
    "start_time": "2022-04-11T08:12:31.276Z"
   },
   {
    "duration": 1533,
    "start_time": "2022-04-11T08:12:41.678Z"
   },
   {
    "duration": 14,
    "start_time": "2022-04-11T08:12:51.028Z"
   },
   {
    "duration": 56,
    "start_time": "2022-04-11T08:13:01.766Z"
   },
   {
    "duration": 53,
    "start_time": "2022-04-11T08:13:55.762Z"
   },
   {
    "duration": 16,
    "start_time": "2022-04-11T08:15:02.163Z"
   },
   {
    "duration": 3,
    "start_time": "2022-04-11T08:18:50.088Z"
   },
   {
    "duration": 443,
    "start_time": "2022-04-11T08:19:04.121Z"
   },
   {
    "duration": 3,
    "start_time": "2022-04-11T08:21:42.693Z"
   },
   {
    "duration": 357,
    "start_time": "2022-04-11T08:21:43.612Z"
   },
   {
    "duration": 3,
    "start_time": "2022-04-11T08:21:52.629Z"
   },
   {
    "duration": 192,
    "start_time": "2022-04-11T08:21:52.983Z"
   },
   {
    "duration": 3,
    "start_time": "2022-04-11T08:22:06.862Z"
   },
   {
    "duration": 187,
    "start_time": "2022-04-11T08:22:07.193Z"
   },
   {
    "duration": 3,
    "start_time": "2022-04-11T08:23:24.706Z"
   },
   {
    "duration": 469,
    "start_time": "2022-04-11T08:23:24.711Z"
   },
   {
    "duration": 4,
    "start_time": "2022-04-11T08:23:30.314Z"
   },
   {
    "duration": 361,
    "start_time": "2022-04-11T08:23:30.782Z"
   },
   {
    "duration": 3,
    "start_time": "2022-04-11T08:24:51.688Z"
   },
   {
    "duration": 485,
    "start_time": "2022-04-11T08:24:52.049Z"
   },
   {
    "duration": 3,
    "start_time": "2022-04-11T08:24:59.121Z"
   },
   {
    "duration": 376,
    "start_time": "2022-04-11T08:24:59.409Z"
   },
   {
    "duration": 3,
    "start_time": "2022-04-11T08:26:22.755Z"
   },
   {
    "duration": 175,
    "start_time": "2022-04-11T08:26:23.377Z"
   },
   {
    "duration": 3,
    "start_time": "2022-04-11T08:26:43.691Z"
   },
   {
    "duration": 363,
    "start_time": "2022-04-11T08:26:44.374Z"
   },
   {
    "duration": 11,
    "start_time": "2022-04-11T08:27:42.832Z"
   },
   {
    "duration": 4,
    "start_time": "2022-04-11T08:27:44.910Z"
   },
   {
    "duration": 189,
    "start_time": "2022-04-11T08:27:45.263Z"
   },
   {
    "duration": 4,
    "start_time": "2022-04-11T08:28:03.900Z"
   },
   {
    "duration": 192,
    "start_time": "2022-04-11T08:28:04.443Z"
   },
   {
    "duration": 3,
    "start_time": "2022-04-11T08:28:17.807Z"
   },
   {
    "duration": 179,
    "start_time": "2022-04-11T08:28:18.244Z"
   },
   {
    "duration": 181,
    "start_time": "2022-04-11T08:28:24.609Z"
   },
   {
    "duration": 4,
    "start_time": "2022-04-11T08:28:26.499Z"
   },
   {
    "duration": 476,
    "start_time": "2022-04-11T08:28:26.744Z"
   },
   {
    "duration": 3,
    "start_time": "2022-04-11T08:28:31.079Z"
   },
   {
    "duration": 195,
    "start_time": "2022-04-11T08:28:31.439Z"
   },
   {
    "duration": 4,
    "start_time": "2022-04-11T08:28:46.175Z"
   },
   {
    "duration": 179,
    "start_time": "2022-04-11T08:28:46.626Z"
   },
   {
    "duration": 3,
    "start_time": "2022-04-11T08:29:02.256Z"
   },
   {
    "duration": 185,
    "start_time": "2022-04-11T08:29:02.706Z"
   },
   {
    "duration": 3,
    "start_time": "2022-04-11T08:29:12.504Z"
   },
   {
    "duration": 378,
    "start_time": "2022-04-11T08:29:12.934Z"
   },
   {
    "duration": 4,
    "start_time": "2022-04-11T08:29:29.934Z"
   },
   {
    "duration": 538,
    "start_time": "2022-04-11T08:29:34.243Z"
   },
   {
    "duration": 372,
    "start_time": "2022-04-11T08:29:44.425Z"
   },
   {
    "duration": 645,
    "start_time": "2022-04-11T08:30:03.823Z"
   },
   {
    "duration": 599,
    "start_time": "2022-04-11T08:31:18.563Z"
   },
   {
    "duration": 4,
    "start_time": "2022-04-11T08:31:45.955Z"
   },
   {
    "duration": 390,
    "start_time": "2022-04-11T08:31:46.686Z"
   },
   {
    "duration": 660,
    "start_time": "2022-04-11T08:31:48.992Z"
   },
   {
    "duration": 628,
    "start_time": "2022-04-11T08:31:50.987Z"
   },
   {
    "duration": 3,
    "start_time": "2022-04-11T08:34:09.652Z"
   },
   {
    "duration": 397,
    "start_time": "2022-04-11T08:34:10.072Z"
   },
   {
    "duration": 4,
    "start_time": "2022-04-11T08:34:25.313Z"
   },
   {
    "duration": 530,
    "start_time": "2022-04-11T08:34:25.720Z"
   },
   {
    "duration": 4,
    "start_time": "2022-04-11T08:34:52.385Z"
   },
   {
    "duration": 397,
    "start_time": "2022-04-11T08:34:53.006Z"
   },
   {
    "duration": 4,
    "start_time": "2022-04-11T08:34:58.442Z"
   },
   {
    "duration": 391,
    "start_time": "2022-04-11T08:34:58.717Z"
   },
   {
    "duration": 3,
    "start_time": "2022-04-11T08:35:08.881Z"
   },
   {
    "duration": 435,
    "start_time": "2022-04-11T08:35:09.659Z"
   },
   {
    "duration": 4,
    "start_time": "2022-04-11T08:35:24.633Z"
   },
   {
    "duration": 507,
    "start_time": "2022-04-11T08:35:24.639Z"
   },
   {
    "duration": 3,
    "start_time": "2022-04-11T08:35:39.645Z"
   },
   {
    "duration": 624,
    "start_time": "2022-04-11T08:35:40.062Z"
   },
   {
    "duration": 5,
    "start_time": "2022-04-11T08:36:11.483Z"
   },
   {
    "duration": 530,
    "start_time": "2022-04-11T08:36:12.232Z"
   },
   {
    "duration": 4,
    "start_time": "2022-04-11T08:36:35.979Z"
   },
   {
    "duration": 496,
    "start_time": "2022-04-11T08:36:36.430Z"
   },
   {
    "duration": 4,
    "start_time": "2022-04-11T08:36:45.255Z"
   },
   {
    "duration": 652,
    "start_time": "2022-04-11T08:36:45.762Z"
   },
   {
    "duration": 3,
    "start_time": "2022-04-11T08:37:10.814Z"
   },
   {
    "duration": 535,
    "start_time": "2022-04-11T08:37:11.112Z"
   },
   {
    "duration": 4,
    "start_time": "2022-04-11T08:37:36.834Z"
   },
   {
    "duration": 936,
    "start_time": "2022-04-11T08:37:37.210Z"
   },
   {
    "duration": 825,
    "start_time": "2022-04-11T08:37:43.169Z"
   },
   {
    "duration": 788,
    "start_time": "2022-04-11T08:38:07.479Z"
   },
   {
    "duration": 4,
    "start_time": "2022-04-11T08:42:10.543Z"
   },
   {
    "duration": 541,
    "start_time": "2022-04-11T08:42:10.938Z"
   },
   {
    "duration": 851,
    "start_time": "2022-04-11T08:42:11.551Z"
   },
   {
    "duration": 793,
    "start_time": "2022-04-11T08:42:12.403Z"
   },
   {
    "duration": 13,
    "start_time": "2022-04-11T08:44:50.006Z"
   },
   {
    "duration": 19,
    "start_time": "2022-04-11T08:45:08.446Z"
   },
   {
    "duration": 7,
    "start_time": "2022-04-11T08:46:11.399Z"
   },
   {
    "duration": 9,
    "start_time": "2022-04-11T08:47:11.085Z"
   },
   {
    "duration": 9,
    "start_time": "2022-04-11T08:47:31.323Z"
   },
   {
    "duration": 128,
    "start_time": "2022-04-11T08:47:34.895Z"
   },
   {
    "duration": 4,
    "start_time": "2022-04-11T08:47:51.979Z"
   },
   {
    "duration": 250,
    "start_time": "2022-04-11T08:47:55.795Z"
   },
   {
    "duration": 4,
    "start_time": "2022-04-11T08:48:10.176Z"
   },
   {
    "duration": 590,
    "start_time": "2022-04-11T08:48:10.850Z"
   },
   {
    "duration": 12,
    "start_time": "2022-04-11T08:49:15.086Z"
   },
   {
    "duration": 492,
    "start_time": "2022-04-11T08:49:22.341Z"
   },
   {
    "duration": 517,
    "start_time": "2022-04-11T08:49:30.932Z"
   },
   {
    "duration": 687,
    "start_time": "2022-04-11T08:50:11.376Z"
   },
   {
    "duration": 213,
    "start_time": "2022-04-11T08:50:56.319Z"
   },
   {
    "duration": 650,
    "start_time": "2022-04-11T08:51:00.446Z"
   },
   {
    "duration": 148,
    "start_time": "2022-04-11T08:51:10.583Z"
   },
   {
    "duration": 134,
    "start_time": "2022-04-11T08:52:18.449Z"
   },
   {
    "duration": 141,
    "start_time": "2022-04-11T08:52:26.756Z"
   },
   {
    "duration": 121,
    "start_time": "2022-04-11T08:55:48.064Z"
   },
   {
    "duration": 144,
    "start_time": "2022-04-11T08:55:59.672Z"
   },
   {
    "duration": 150,
    "start_time": "2022-04-11T08:57:39.239Z"
   },
   {
    "duration": 145,
    "start_time": "2022-04-11T08:57:48.105Z"
   },
   {
    "duration": 408,
    "start_time": "2022-04-11T08:58:08.977Z"
   },
   {
    "duration": 345,
    "start_time": "2022-04-11T08:58:20.123Z"
   },
   {
    "duration": 510,
    "start_time": "2022-04-11T08:58:26.503Z"
   },
   {
    "duration": 372,
    "start_time": "2022-04-11T08:58:33.316Z"
   },
   {
    "duration": 371,
    "start_time": "2022-04-11T08:59:11.707Z"
   },
   {
    "duration": 261,
    "start_time": "2022-04-11T08:59:53.720Z"
   },
   {
    "duration": 805,
    "start_time": "2022-04-11T09:00:10.582Z"
   },
   {
    "duration": 263,
    "start_time": "2022-04-11T09:00:24.154Z"
   },
   {
    "duration": 160,
    "start_time": "2022-04-11T09:00:43.990Z"
   },
   {
    "duration": 168,
    "start_time": "2022-04-11T09:01:05.223Z"
   },
   {
    "duration": 358,
    "start_time": "2022-04-11T09:01:12.293Z"
   },
   {
    "duration": 382,
    "start_time": "2022-04-11T09:01:40.803Z"
   },
   {
    "duration": 11,
    "start_time": "2022-04-11T10:04:27.078Z"
   },
   {
    "duration": 2344,
    "start_time": "2022-04-11T10:04:36.655Z"
   },
   {
    "duration": 902,
    "start_time": "2022-04-11T10:05:15.229Z"
   },
   {
    "duration": 963,
    "start_time": "2022-04-11T10:05:40.069Z"
   },
   {
    "duration": 885,
    "start_time": "2022-04-11T10:05:57.785Z"
   },
   {
    "duration": 925,
    "start_time": "2022-04-11T10:06:59.709Z"
   },
   {
    "duration": 858,
    "start_time": "2022-04-11T10:07:16.445Z"
   },
   {
    "duration": 1111,
    "start_time": "2022-04-11T10:08:26.305Z"
   },
   {
    "duration": 1811,
    "start_time": "2022-04-11T10:08:47.682Z"
   },
   {
    "duration": 1982,
    "start_time": "2022-04-11T10:09:11.822Z"
   },
   {
    "duration": 1556,
    "start_time": "2022-04-11T10:09:44.802Z"
   },
   {
    "duration": 674,
    "start_time": "2022-04-11T10:10:10.689Z"
   },
   {
    "duration": 916,
    "start_time": "2022-04-11T10:10:26.028Z"
   },
   {
    "duration": 21,
    "start_time": "2022-04-11T10:11:49.357Z"
   },
   {
    "duration": 2221,
    "start_time": "2022-04-11T10:12:01.600Z"
   },
   {
    "duration": 31,
    "start_time": "2022-04-11T10:12:14.436Z"
   },
   {
    "duration": 2254,
    "start_time": "2022-04-11T10:12:20.993Z"
   },
   {
    "duration": 1095,
    "start_time": "2022-04-11T10:12:30.340Z"
   },
   {
    "duration": 1139,
    "start_time": "2022-04-11T10:12:42.550Z"
   },
   {
    "duration": 23,
    "start_time": "2022-04-11T10:12:47.992Z"
   },
   {
    "duration": 453,
    "start_time": "2022-04-11T10:12:54.332Z"
   },
   {
    "duration": 144,
    "start_time": "2022-04-11T10:13:05.613Z"
   },
   {
    "duration": 980,
    "start_time": "2022-04-11T10:14:17.532Z"
   },
   {
    "duration": 21616,
    "start_time": "2022-04-11T10:16:55.903Z"
   },
   {
    "duration": 407,
    "start_time": "2022-04-11T10:21:05.498Z"
   },
   {
    "duration": 1069,
    "start_time": "2022-04-11T10:21:18.233Z"
   },
   {
    "duration": 4,
    "start_time": "2022-04-11T10:32:28.560Z"
   },
   {
    "duration": 604,
    "start_time": "2022-04-11T10:32:28.566Z"
   },
   {
    "duration": 4,
    "start_time": "2022-04-11T10:32:29.172Z"
   },
   {
    "duration": 155,
    "start_time": "2022-04-11T10:32:29.177Z"
   },
   {
    "duration": 9,
    "start_time": "2022-04-11T10:32:29.334Z"
   },
   {
    "duration": 13,
    "start_time": "2022-04-11T10:32:29.357Z"
   },
   {
    "duration": 128,
    "start_time": "2022-04-11T10:32:29.372Z"
   },
   {
    "duration": 42,
    "start_time": "2022-04-11T10:32:29.502Z"
   },
   {
    "duration": 8,
    "start_time": "2022-04-11T10:32:29.558Z"
   },
   {
    "duration": 9,
    "start_time": "2022-04-11T10:32:29.567Z"
   },
   {
    "duration": 733,
    "start_time": "2022-04-11T10:32:29.577Z"
   },
   {
    "duration": 769,
    "start_time": "2022-04-11T10:32:30.311Z"
   },
   {
    "duration": 1023,
    "start_time": "2022-04-11T10:32:31.082Z"
   },
   {
    "duration": 396,
    "start_time": "2022-04-11T10:32:32.108Z"
   },
   {
    "duration": 182,
    "start_time": "2022-04-11T10:32:32.506Z"
   },
   {
    "duration": 10,
    "start_time": "2022-04-11T10:32:32.690Z"
   },
   {
    "duration": 9,
    "start_time": "2022-04-11T10:32:32.701Z"
   },
   {
    "duration": 1355,
    "start_time": "2022-04-11T10:32:32.711Z"
   },
   {
    "duration": 15,
    "start_time": "2022-04-11T10:32:34.068Z"
   },
   {
    "duration": 9157,
    "start_time": "2022-04-11T10:32:40.334Z"
   },
   {
    "duration": 40,
    "start_time": "2022-04-11T10:32:53.920Z"
   },
   {
    "duration": 41,
    "start_time": "2022-04-11T10:33:16.460Z"
   },
   {
    "duration": 45,
    "start_time": "2022-04-11T10:33:24.165Z"
   },
   {
    "duration": 95,
    "start_time": "2022-04-11T10:34:02.380Z"
   },
   {
    "duration": 576,
    "start_time": "2022-04-11T10:36:13.997Z"
   },
   {
    "duration": 7,
    "start_time": "2022-04-11T10:42:47.646Z"
   },
   {
    "duration": 53,
    "start_time": "2022-04-11T18:36:20.779Z"
   },
   {
    "duration": 21,
    "start_time": "2022-04-11T18:36:57.228Z"
   },
   {
    "duration": 22,
    "start_time": "2022-04-11T18:37:46.942Z"
   },
   {
    "duration": 654,
    "start_time": "2022-04-11T18:38:01.461Z"
   },
   {
    "duration": 46,
    "start_time": "2022-04-11T18:38:16.073Z"
   },
   {
    "duration": 52,
    "start_time": "2022-04-11T18:38:53.110Z"
   },
   {
    "duration": 5,
    "start_time": "2022-04-11T18:39:05.652Z"
   },
   {
    "duration": 4,
    "start_time": "2022-04-11T18:39:49.608Z"
   },
   {
    "duration": 21,
    "start_time": "2022-04-11T18:40:06.169Z"
   },
   {
    "duration": 4,
    "start_time": "2022-04-11T18:40:12.419Z"
   },
   {
    "duration": 4,
    "start_time": "2022-04-11T18:40:16.293Z"
   },
   {
    "duration": 13,
    "start_time": "2022-04-11T18:40:51.493Z"
   },
   {
    "duration": 18,
    "start_time": "2022-04-11T18:41:05.792Z"
   },
   {
    "duration": 26,
    "start_time": "2022-04-11T18:43:04.544Z"
   },
   {
    "duration": 3,
    "start_time": "2022-04-11T18:43:05.809Z"
   },
   {
    "duration": 3,
    "start_time": "2022-04-11T18:43:09.411Z"
   },
   {
    "duration": 21,
    "start_time": "2022-04-11T18:44:25.171Z"
   },
   {
    "duration": 12,
    "start_time": "2022-04-11T18:45:15.630Z"
   },
   {
    "duration": 9,
    "start_time": "2022-04-11T18:45:45.955Z"
   },
   {
    "duration": 12,
    "start_time": "2022-04-11T18:46:02.677Z"
   },
   {
    "duration": 8,
    "start_time": "2022-04-11T18:46:56.930Z"
   },
   {
    "duration": 22,
    "start_time": "2022-04-11T18:47:02.302Z"
   },
   {
    "duration": 20,
    "start_time": "2022-04-11T18:47:22.978Z"
   },
   {
    "duration": 19,
    "start_time": "2022-04-11T18:51:01.605Z"
   },
   {
    "duration": 4,
    "start_time": "2022-04-11T18:51:03.191Z"
   },
   {
    "duration": 3,
    "start_time": "2022-04-11T18:51:10.515Z"
   },
   {
    "duration": 19,
    "start_time": "2022-04-11T18:51:22.656Z"
   },
   {
    "duration": 4,
    "start_time": "2022-04-11T18:52:00.926Z"
   },
   {
    "duration": 25,
    "start_time": "2022-04-11T18:52:29.500Z"
   },
   {
    "duration": 41,
    "start_time": "2022-04-11T18:52:36.157Z"
   },
   {
    "duration": 6,
    "start_time": "2022-04-11T18:52:45.934Z"
   },
   {
    "duration": 34,
    "start_time": "2022-04-11T18:52:51.771Z"
   },
   {
    "duration": 4,
    "start_time": "2022-04-11T18:53:01.840Z"
   },
   {
    "duration": 860,
    "start_time": "2022-04-11T18:53:01.846Z"
   },
   {
    "duration": 3,
    "start_time": "2022-04-11T18:53:02.708Z"
   },
   {
    "duration": 168,
    "start_time": "2022-04-11T18:53:02.713Z"
   },
   {
    "duration": 11,
    "start_time": "2022-04-11T18:53:02.882Z"
   },
   {
    "duration": 5,
    "start_time": "2022-04-11T18:53:02.895Z"
   },
   {
    "duration": 137,
    "start_time": "2022-04-11T18:53:02.901Z"
   },
   {
    "duration": 57,
    "start_time": "2022-04-11T18:53:03.040Z"
   },
   {
    "duration": 10,
    "start_time": "2022-04-11T18:53:03.101Z"
   },
   {
    "duration": 7,
    "start_time": "2022-04-11T18:53:03.114Z"
   },
   {
    "duration": 649,
    "start_time": "2022-04-11T18:53:03.123Z"
   },
   {
    "duration": 983,
    "start_time": "2022-04-11T18:53:03.774Z"
   },
   {
    "duration": 864,
    "start_time": "2022-04-11T18:53:04.759Z"
   },
   {
    "duration": 468,
    "start_time": "2022-04-11T18:53:05.625Z"
   },
   {
    "duration": 309,
    "start_time": "2022-04-11T18:53:06.094Z"
   },
   {
    "duration": 10,
    "start_time": "2022-04-11T18:53:06.404Z"
   },
   {
    "duration": 9,
    "start_time": "2022-04-11T18:53:06.415Z"
   },
   {
    "duration": 1019,
    "start_time": "2022-04-11T18:53:06.425Z"
   },
   {
    "duration": 92,
    "start_time": "2022-04-11T18:53:07.446Z"
   },
   {
    "duration": 39,
    "start_time": "2022-04-11T18:53:07.554Z"
   },
   {
    "duration": 16,
    "start_time": "2022-04-11T18:53:07.594Z"
   },
   {
    "duration": 51,
    "start_time": "2022-04-11T18:53:07.611Z"
   },
   {
    "duration": 4,
    "start_time": "2022-04-11T18:53:07.664Z"
   },
   {
    "duration": 15,
    "start_time": "2022-04-11T18:53:07.669Z"
   },
   {
    "duration": 25,
    "start_time": "2022-04-11T18:53:47.930Z"
   },
   {
    "duration": 37,
    "start_time": "2022-04-11T18:53:51.244Z"
   },
   {
    "duration": 36,
    "start_time": "2022-04-11T18:54:18.430Z"
   },
   {
    "duration": 93,
    "start_time": "2022-04-11T18:54:29.031Z"
   },
   {
    "duration": 35,
    "start_time": "2022-04-11T18:54:42.607Z"
   },
   {
    "duration": 90,
    "start_time": "2022-04-11T18:54:49.589Z"
   },
   {
    "duration": 43,
    "start_time": "2022-04-11T18:54:54.007Z"
   },
   {
    "duration": 113,
    "start_time": "2022-04-11T18:55:11.102Z"
   },
   {
    "duration": 12,
    "start_time": "2022-04-11T18:55:50.192Z"
   },
   {
    "duration": 131,
    "start_time": "2022-04-11T18:56:25.782Z"
   },
   {
    "duration": 15,
    "start_time": "2022-04-11T18:58:06.462Z"
   },
   {
    "duration": 41,
    "start_time": "2022-04-11T18:58:10.439Z"
   },
   {
    "duration": 15,
    "start_time": "2022-04-11T18:58:42.160Z"
   },
   {
    "duration": 41,
    "start_time": "2022-04-11T18:58:44.882Z"
   },
   {
    "duration": 181,
    "start_time": "2022-04-11T18:59:44.797Z"
   },
   {
    "duration": 4,
    "start_time": "2022-04-11T18:59:51.308Z"
   },
   {
    "duration": 3,
    "start_time": "2022-04-11T18:59:56.496Z"
   },
   {
    "duration": 4,
    "start_time": "2022-04-11T19:00:03.131Z"
   },
   {
    "duration": 2278,
    "start_time": "2022-04-11T19:03:49.678Z"
   },
   {
    "duration": 3,
    "start_time": "2022-04-11T19:04:17.704Z"
   },
   {
    "duration": 595,
    "start_time": "2022-04-11T19:04:17.709Z"
   },
   {
    "duration": 3,
    "start_time": "2022-04-11T19:04:18.306Z"
   },
   {
    "duration": 146,
    "start_time": "2022-04-11T19:04:18.311Z"
   },
   {
    "duration": 9,
    "start_time": "2022-04-11T19:04:18.459Z"
   },
   {
    "duration": 4,
    "start_time": "2022-04-11T19:04:18.469Z"
   },
   {
    "duration": 121,
    "start_time": "2022-04-11T19:04:18.475Z"
   },
   {
    "duration": 2,
    "start_time": "2022-04-11T19:04:18.598Z"
   },
   {
    "duration": 10,
    "start_time": "2022-04-11T19:04:18.602Z"
   },
   {
    "duration": 5,
    "start_time": "2022-04-11T19:04:18.613Z"
   },
   {
    "duration": 584,
    "start_time": "2022-04-11T19:04:18.619Z"
   },
   {
    "duration": 850,
    "start_time": "2022-04-11T19:04:19.204Z"
   },
   {
    "duration": 848,
    "start_time": "2022-04-11T19:04:20.055Z"
   },
   {
    "duration": 359,
    "start_time": "2022-04-11T19:04:20.905Z"
   },
   {
    "duration": 299,
    "start_time": "2022-04-11T19:04:21.265Z"
   },
   {
    "duration": 9,
    "start_time": "2022-04-11T19:04:21.566Z"
   },
   {
    "duration": 9,
    "start_time": "2022-04-11T19:04:21.576Z"
   },
   {
    "duration": 991,
    "start_time": "2022-04-11T19:04:21.586Z"
   },
   {
    "duration": 10,
    "start_time": "2022-04-11T19:04:22.579Z"
   },
   {
    "duration": 41,
    "start_time": "2022-04-11T19:04:22.591Z"
   },
   {
    "duration": 182,
    "start_time": "2022-04-11T19:04:22.634Z"
   },
   {
    "duration": 8,
    "start_time": "2022-04-11T19:04:22.818Z"
   },
   {
    "duration": 18,
    "start_time": "2022-04-11T19:04:22.828Z"
   },
   {
    "duration": 971,
    "start_time": "2022-04-11T19:06:09.814Z"
   },
   {
    "duration": 3,
    "start_time": "2022-04-11T19:14:05.747Z"
   },
   {
    "duration": 3,
    "start_time": "2022-04-11T19:14:13.321Z"
   },
   {
    "duration": 15,
    "start_time": "2022-04-11T19:14:58.086Z"
   },
   {
    "duration": 13,
    "start_time": "2022-04-11T19:15:08.642Z"
   },
   {
    "duration": 3,
    "start_time": "2022-04-11T19:15:17.160Z"
   },
   {
    "duration": 549,
    "start_time": "2022-04-11T19:15:17.174Z"
   },
   {
    "duration": 3,
    "start_time": "2022-04-11T19:15:17.725Z"
   },
   {
    "duration": 149,
    "start_time": "2022-04-11T19:15:17.729Z"
   },
   {
    "duration": 9,
    "start_time": "2022-04-11T19:15:17.880Z"
   },
   {
    "duration": 4,
    "start_time": "2022-04-11T19:15:17.891Z"
   },
   {
    "duration": 120,
    "start_time": "2022-04-11T19:15:17.897Z"
   },
   {
    "duration": 9,
    "start_time": "2022-04-11T19:15:18.018Z"
   },
   {
    "duration": 8,
    "start_time": "2022-04-11T19:15:18.028Z"
   },
   {
    "duration": 808,
    "start_time": "2022-04-11T19:15:18.037Z"
   },
   {
    "duration": 758,
    "start_time": "2022-04-11T19:15:18.847Z"
   },
   {
    "duration": 1054,
    "start_time": "2022-04-11T19:15:19.606Z"
   },
   {
    "duration": 371,
    "start_time": "2022-04-11T19:15:20.662Z"
   },
   {
    "duration": 176,
    "start_time": "2022-04-11T19:15:21.034Z"
   },
   {
    "duration": 10,
    "start_time": "2022-04-11T19:15:21.214Z"
   },
   {
    "duration": 28,
    "start_time": "2022-04-11T19:15:21.226Z"
   },
   {
    "duration": 1100,
    "start_time": "2022-04-11T19:15:21.256Z"
   },
   {
    "duration": 10,
    "start_time": "2022-04-11T19:15:22.358Z"
   },
   {
    "duration": 44,
    "start_time": "2022-04-11T19:15:22.370Z"
   },
   {
    "duration": 65,
    "start_time": "2022-04-11T19:15:22.416Z"
   },
   {
    "duration": 1070,
    "start_time": "2022-04-11T19:15:22.483Z"
   },
   {
    "duration": 6,
    "start_time": "2022-04-11T19:15:23.555Z"
   },
   {
    "duration": 25,
    "start_time": "2022-04-11T19:15:23.562Z"
   },
   {
    "duration": 2162,
    "start_time": "2022-04-11T19:21:10.835Z"
   },
   {
    "duration": 20,
    "start_time": "2022-04-11T19:21:18.468Z"
   },
   {
    "duration": 3,
    "start_time": "2022-04-11T19:22:20.851Z"
   },
   {
    "duration": 637,
    "start_time": "2022-04-11T19:22:20.856Z"
   },
   {
    "duration": 3,
    "start_time": "2022-04-11T19:22:21.495Z"
   },
   {
    "duration": 141,
    "start_time": "2022-04-11T19:22:21.500Z"
   },
   {
    "duration": 18,
    "start_time": "2022-04-11T19:22:21.643Z"
   },
   {
    "duration": 6,
    "start_time": "2022-04-11T19:22:21.663Z"
   },
   {
    "duration": 121,
    "start_time": "2022-04-11T19:22:21.670Z"
   },
   {
    "duration": 8,
    "start_time": "2022-04-11T19:22:21.793Z"
   },
   {
    "duration": 8,
    "start_time": "2022-04-11T19:22:21.804Z"
   },
   {
    "duration": 704,
    "start_time": "2022-04-11T19:22:21.814Z"
   },
   {
    "duration": 899,
    "start_time": "2022-04-11T19:22:22.519Z"
   },
   {
    "duration": 864,
    "start_time": "2022-04-11T19:22:23.420Z"
   },
   {
    "duration": 500,
    "start_time": "2022-04-11T19:22:24.286Z"
   },
   {
    "duration": 185,
    "start_time": "2022-04-11T19:22:24.788Z"
   },
   {
    "duration": 9,
    "start_time": "2022-04-11T19:22:24.975Z"
   },
   {
    "duration": 9,
    "start_time": "2022-04-11T19:22:24.986Z"
   },
   {
    "duration": 1083,
    "start_time": "2022-04-11T19:22:24.997Z"
   },
   {
    "duration": 11,
    "start_time": "2022-04-11T19:22:26.082Z"
   },
   {
    "duration": 42,
    "start_time": "2022-04-11T19:22:26.095Z"
   },
   {
    "duration": 47,
    "start_time": "2022-04-11T19:22:26.155Z"
   },
   {
    "duration": 1091,
    "start_time": "2022-04-11T19:22:26.204Z"
   },
   {
    "duration": 19,
    "start_time": "2022-04-11T19:22:27.297Z"
   },
   {
    "duration": 13,
    "start_time": "2022-04-11T19:22:27.318Z"
   },
   {
    "duration": 13,
    "start_time": "2022-04-11T19:31:27.912Z"
   },
   {
    "duration": 97,
    "start_time": "2022-04-11T19:31:34.452Z"
   },
   {
    "duration": 67,
    "start_time": "2022-04-11T19:32:01.692Z"
   },
   {
    "duration": 70,
    "start_time": "2022-04-11T19:32:16.249Z"
   },
   {
    "duration": 16,
    "start_time": "2022-04-11T19:33:06.562Z"
   },
   {
    "duration": 8,
    "start_time": "2022-04-11T19:34:12.969Z"
   },
   {
    "duration": 3,
    "start_time": "2022-04-11T19:43:42.739Z"
   },
   {
    "duration": 3,
    "start_time": "2022-04-11T19:44:21.507Z"
   },
   {
    "duration": 608,
    "start_time": "2022-04-11T19:44:21.514Z"
   },
   {
    "duration": 3,
    "start_time": "2022-04-11T19:44:22.124Z"
   },
   {
    "duration": 151,
    "start_time": "2022-04-11T19:44:22.128Z"
   },
   {
    "duration": 8,
    "start_time": "2022-04-11T19:44:22.281Z"
   },
   {
    "duration": 4,
    "start_time": "2022-04-11T19:44:22.291Z"
   },
   {
    "duration": 121,
    "start_time": "2022-04-11T19:44:22.296Z"
   },
   {
    "duration": 8,
    "start_time": "2022-04-11T19:44:22.418Z"
   },
   {
    "duration": 20,
    "start_time": "2022-04-11T19:44:22.428Z"
   },
   {
    "duration": 590,
    "start_time": "2022-04-11T19:44:22.450Z"
   },
   {
    "duration": 732,
    "start_time": "2022-04-11T19:44:23.042Z"
   },
   {
    "duration": 1075,
    "start_time": "2022-04-11T19:44:23.776Z"
   },
   {
    "duration": 488,
    "start_time": "2022-04-11T19:44:24.854Z"
   },
   {
    "duration": 171,
    "start_time": "2022-04-11T19:44:25.344Z"
   },
   {
    "duration": 10,
    "start_time": "2022-04-11T19:44:25.516Z"
   },
   {
    "duration": 13,
    "start_time": "2022-04-11T19:44:25.527Z"
   },
   {
    "duration": 1101,
    "start_time": "2022-04-11T19:44:25.555Z"
   },
   {
    "duration": 11,
    "start_time": "2022-04-11T19:44:26.658Z"
   },
   {
    "duration": 42,
    "start_time": "2022-04-11T19:44:26.670Z"
   },
   {
    "duration": 182,
    "start_time": "2022-04-11T19:44:26.713Z"
   },
   {
    "duration": 959,
    "start_time": "2022-04-11T19:44:26.897Z"
   },
   {
    "duration": 79,
    "start_time": "2022-04-11T19:44:27.858Z"
   },
   {
    "duration": 19,
    "start_time": "2022-04-11T19:44:27.938Z"
   },
   {
    "duration": 9,
    "start_time": "2022-04-11T19:44:27.958Z"
   },
   {
    "duration": 4,
    "start_time": "2022-04-11T19:44:27.969Z"
   },
   {
    "duration": 10,
    "start_time": "2022-04-11T19:45:43.381Z"
   },
   {
    "duration": 33,
    "start_time": "2022-04-11T19:46:35.848Z"
   },
   {
    "duration": 535,
    "start_time": "2022-04-11T19:46:42.522Z"
   },
   {
    "duration": 12,
    "start_time": "2022-04-11T20:06:39.964Z"
   },
   {
    "duration": 11,
    "start_time": "2022-04-11T20:06:52.272Z"
   },
   {
    "duration": 4,
    "start_time": "2022-04-11T20:07:02.129Z"
   },
   {
    "duration": 9,
    "start_time": "2022-04-11T20:07:07.234Z"
   },
   {
    "duration": 4,
    "start_time": "2022-04-11T20:07:10.291Z"
   },
   {
    "duration": 8,
    "start_time": "2022-04-11T20:07:11.174Z"
   },
   {
    "duration": 9,
    "start_time": "2022-04-11T20:07:20.599Z"
   },
   {
    "duration": 2,
    "start_time": "2022-04-11T20:07:25.767Z"
   },
   {
    "duration": 614,
    "start_time": "2022-04-11T20:08:24.053Z"
   },
   {
    "duration": 52,
    "start_time": "2022-04-11T20:23:00.172Z"
   },
   {
    "duration": 6,
    "start_time": "2022-04-11T20:25:30.400Z"
   },
   {
    "duration": 6,
    "start_time": "2022-04-11T20:27:09.179Z"
   },
   {
    "duration": 9,
    "start_time": "2022-04-11T20:27:56.171Z"
   },
   {
    "duration": 2511,
    "start_time": "2022-04-11T20:28:04.139Z"
   },
   {
    "duration": 2501,
    "start_time": "2022-04-11T20:28:10.637Z"
   },
   {
    "duration": 3,
    "start_time": "2022-04-11T20:28:38.684Z"
   },
   {
    "duration": 572,
    "start_time": "2022-04-11T20:28:38.689Z"
   },
   {
    "duration": 3,
    "start_time": "2022-04-11T20:28:39.263Z"
   },
   {
    "duration": 149,
    "start_time": "2022-04-11T20:28:39.268Z"
   },
   {
    "duration": 11,
    "start_time": "2022-04-11T20:28:39.419Z"
   },
   {
    "duration": 5,
    "start_time": "2022-04-11T20:28:39.431Z"
   },
   {
    "duration": 110,
    "start_time": "2022-04-11T20:28:39.456Z"
   },
   {
    "duration": 9,
    "start_time": "2022-04-11T20:28:39.567Z"
   },
   {
    "duration": 6,
    "start_time": "2022-04-11T20:28:39.580Z"
   },
   {
    "duration": 694,
    "start_time": "2022-04-11T20:28:39.587Z"
   },
   {
    "duration": 748,
    "start_time": "2022-04-11T20:28:40.283Z"
   },
   {
    "duration": 994,
    "start_time": "2022-04-11T20:28:41.033Z"
   },
   {
    "duration": 373,
    "start_time": "2022-04-11T20:28:42.029Z"
   },
   {
    "duration": 177,
    "start_time": "2022-04-11T20:28:42.404Z"
   },
   {
    "duration": 10,
    "start_time": "2022-04-11T20:28:42.583Z"
   },
   {
    "duration": 9,
    "start_time": "2022-04-11T20:28:42.595Z"
   },
   {
    "duration": 1107,
    "start_time": "2022-04-11T20:28:42.606Z"
   },
   {
    "duration": 11,
    "start_time": "2022-04-11T20:28:43.715Z"
   },
   {
    "duration": 54,
    "start_time": "2022-04-11T20:28:43.727Z"
   },
   {
    "duration": 44,
    "start_time": "2022-04-11T20:28:43.782Z"
   },
   {
    "duration": 1089,
    "start_time": "2022-04-11T20:28:43.828Z"
   },
   {
    "duration": 6,
    "start_time": "2022-04-11T20:28:44.919Z"
   },
   {
    "duration": 5,
    "start_time": "2022-04-11T20:28:44.927Z"
   },
   {
    "duration": 2573,
    "start_time": "2022-04-11T20:28:44.935Z"
   },
   {
    "duration": 3,
    "start_time": "2022-04-11T20:28:47.509Z"
   },
   {
    "duration": 13,
    "start_time": "2022-04-11T20:28:47.513Z"
   },
   {
    "duration": 28,
    "start_time": "2022-04-11T20:28:47.528Z"
   },
   {
    "duration": 6,
    "start_time": "2022-04-11T20:28:47.557Z"
   },
   {
    "duration": 142,
    "start_time": "2022-04-11T20:36:43.477Z"
   },
   {
    "duration": 6,
    "start_time": "2022-04-11T20:36:48.086Z"
   },
   {
    "duration": 2033,
    "start_time": "2022-04-11T20:37:32.451Z"
   },
   {
    "duration": 5,
    "start_time": "2022-04-11T20:37:58.461Z"
   },
   {
    "duration": 1953,
    "start_time": "2022-04-11T20:38:00.006Z"
   },
   {
    "duration": 6,
    "start_time": "2022-04-11T20:38:11.116Z"
   },
   {
    "duration": 1652,
    "start_time": "2022-04-11T20:38:11.519Z"
   },
   {
    "duration": 5,
    "start_time": "2022-04-11T20:39:45.395Z"
   },
   {
    "duration": 1875,
    "start_time": "2022-04-11T20:39:46.293Z"
   },
   {
    "duration": 5,
    "start_time": "2022-04-11T20:40:00.880Z"
   },
   {
    "duration": 12,
    "start_time": "2022-04-11T20:40:03.773Z"
   },
   {
    "duration": 5,
    "start_time": "2022-04-11T20:40:14.380Z"
   },
   {
    "duration": 11,
    "start_time": "2022-04-11T20:40:15.968Z"
   },
   {
    "duration": 5,
    "start_time": "2022-04-11T20:41:03.334Z"
   },
   {
    "duration": 1790,
    "start_time": "2022-04-11T20:41:04.081Z"
   },
   {
    "duration": 5,
    "start_time": "2022-04-11T20:41:19.485Z"
   },
   {
    "duration": 2251,
    "start_time": "2022-04-11T20:41:20.017Z"
   },
   {
    "duration": 5,
    "start_time": "2022-04-11T20:47:19.787Z"
   },
   {
    "duration": 1565,
    "start_time": "2022-04-11T20:47:21.100Z"
   },
   {
    "duration": 6,
    "start_time": "2022-04-11T20:48:13.439Z"
   },
   {
    "duration": 1727,
    "start_time": "2022-04-11T20:48:14.042Z"
   },
   {
    "duration": 6,
    "start_time": "2022-04-11T20:48:40.595Z"
   },
   {
    "duration": 1849,
    "start_time": "2022-04-11T20:48:41.210Z"
   },
   {
    "duration": 9,
    "start_time": "2022-04-11T20:48:58.931Z"
   },
   {
    "duration": 2001,
    "start_time": "2022-04-11T20:48:59.374Z"
   },
   {
    "duration": 6,
    "start_time": "2022-04-11T20:50:20.372Z"
   },
   {
    "duration": 1648,
    "start_time": "2022-04-11T20:50:20.925Z"
   },
   {
    "duration": 6,
    "start_time": "2022-04-11T20:51:05.572Z"
   },
   {
    "duration": 1947,
    "start_time": "2022-04-11T20:51:05.926Z"
   },
   {
    "duration": 6,
    "start_time": "2022-04-11T20:51:39.867Z"
   },
   {
    "duration": 2216,
    "start_time": "2022-04-11T20:51:40.257Z"
   },
   {
    "duration": 5,
    "start_time": "2022-04-11T20:53:09.387Z"
   },
   {
    "duration": 1755,
    "start_time": "2022-04-11T20:53:09.806Z"
   },
   {
    "duration": 6,
    "start_time": "2022-04-11T20:56:27.073Z"
   },
   {
    "duration": 5,
    "start_time": "2022-04-11T20:56:37.850Z"
   },
   {
    "duration": 16,
    "start_time": "2022-04-11T20:56:38.582Z"
   },
   {
    "duration": 4,
    "start_time": "2022-04-11T20:56:48.832Z"
   },
   {
    "duration": 6,
    "start_time": "2022-04-11T20:56:53.988Z"
   },
   {
    "duration": 1829,
    "start_time": "2022-04-11T20:56:54.340Z"
   },
   {
    "duration": 5,
    "start_time": "2022-04-11T20:58:39.924Z"
   },
   {
    "duration": 1768,
    "start_time": "2022-04-11T20:58:40.310Z"
   },
   {
    "duration": 11,
    "start_time": "2022-04-11T20:58:57.137Z"
   },
   {
    "duration": 2022,
    "start_time": "2022-04-11T20:58:57.442Z"
   },
   {
    "duration": 12,
    "start_time": "2022-04-11T20:59:43.157Z"
   },
   {
    "duration": 35,
    "start_time": "2022-04-11T21:02:36.868Z"
   },
   {
    "duration": 10,
    "start_time": "2022-04-11T21:03:39.099Z"
   },
   {
    "duration": 4,
    "start_time": "2022-04-11T21:03:43.231Z"
   },
   {
    "duration": 4010,
    "start_time": "2022-04-11T21:03:58.968Z"
   },
   {
    "duration": 12052,
    "start_time": "2022-04-11T21:05:32.436Z"
   },
   {
    "duration": 5,
    "start_time": "2022-04-11T21:06:09.128Z"
   },
   {
    "duration": 1749,
    "start_time": "2022-04-11T21:06:10.326Z"
   },
   {
    "duration": 13420,
    "start_time": "2022-04-11T21:06:14.539Z"
   },
   {
    "duration": 151,
    "start_time": "2022-04-11T21:07:49.293Z"
   },
   {
    "duration": 141,
    "start_time": "2022-04-11T21:07:53.348Z"
   },
   {
    "duration": 571085,
    "start_time": "2022-04-11T21:08:00.006Z"
   },
   {
    "duration": 0,
    "start_time": "2022-04-11T21:17:31.092Z"
   },
   {
    "duration": 5,
    "start_time": "2022-04-11T21:17:45.572Z"
   },
   {
    "duration": 679,
    "start_time": "2022-04-11T21:17:45.579Z"
   },
   {
    "duration": 5,
    "start_time": "2022-04-11T21:17:46.260Z"
   },
   {
    "duration": 156,
    "start_time": "2022-04-11T21:17:46.269Z"
   },
   {
    "duration": 9,
    "start_time": "2022-04-11T21:17:46.427Z"
   },
   {
    "duration": 4,
    "start_time": "2022-04-11T21:17:46.455Z"
   },
   {
    "duration": 129,
    "start_time": "2022-04-11T21:17:46.461Z"
   },
   {
    "duration": 9,
    "start_time": "2022-04-11T21:17:46.592Z"
   },
   {
    "duration": 8,
    "start_time": "2022-04-11T21:17:46.603Z"
   },
   {
    "duration": 624,
    "start_time": "2022-04-11T21:17:46.613Z"
   },
   {
    "duration": 785,
    "start_time": "2022-04-11T21:17:47.239Z"
   },
   {
    "duration": 1055,
    "start_time": "2022-04-11T21:17:48.026Z"
   },
   {
    "duration": 419,
    "start_time": "2022-04-11T21:17:49.082Z"
   },
   {
    "duration": 186,
    "start_time": "2022-04-11T21:17:49.502Z"
   },
   {
    "duration": 10,
    "start_time": "2022-04-11T21:17:49.689Z"
   },
   {
    "duration": 9,
    "start_time": "2022-04-11T21:17:49.701Z"
   },
   {
    "duration": 1199,
    "start_time": "2022-04-11T21:17:49.712Z"
   },
   {
    "duration": 11,
    "start_time": "2022-04-11T21:17:50.913Z"
   },
   {
    "duration": 56,
    "start_time": "2022-04-11T21:17:50.926Z"
   },
   {
    "duration": 191,
    "start_time": "2022-04-11T21:17:50.984Z"
   },
   {
    "duration": 1039,
    "start_time": "2022-04-11T21:17:51.177Z"
   },
   {
    "duration": 6,
    "start_time": "2022-04-11T21:17:52.218Z"
   },
   {
    "duration": 23,
    "start_time": "2022-04-11T21:17:52.225Z"
   },
   {
    "duration": 2785,
    "start_time": "2022-04-11T21:17:52.251Z"
   },
   {
    "duration": 3,
    "start_time": "2022-04-11T21:17:55.038Z"
   },
   {
    "duration": 24,
    "start_time": "2022-04-11T21:17:55.044Z"
   },
   {
    "duration": 2786,
    "start_time": "2022-04-11T21:17:55.071Z"
   },
   {
    "duration": 44,
    "start_time": "2022-04-11T21:18:05.085Z"
   },
   {
    "duration": 45,
    "start_time": "2022-04-11T21:18:25.300Z"
   },
   {
    "duration": 48,
    "start_time": "2022-04-11T21:19:17.968Z"
   },
   {
    "duration": 403,
    "start_time": "2022-04-11T21:19:44.026Z"
   },
   {
    "duration": 402,
    "start_time": "2022-04-11T21:19:58.248Z"
   },
   {
    "duration": 26113,
    "start_time": "2022-04-11T21:20:17.272Z"
   },
   {
    "duration": 26136,
    "start_time": "2022-04-11T21:20:54.449Z"
   },
   {
    "duration": 458643,
    "start_time": "2022-04-11T21:23:33.137Z"
   },
   {
    "duration": 4,
    "start_time": "2022-04-11T21:31:22.314Z"
   },
   {
    "duration": 704,
    "start_time": "2022-04-11T21:31:22.319Z"
   },
   {
    "duration": 4,
    "start_time": "2022-04-11T21:31:23.024Z"
   },
   {
    "duration": 183,
    "start_time": "2022-04-11T21:31:23.030Z"
   },
   {
    "duration": 9,
    "start_time": "2022-04-11T21:31:23.215Z"
   },
   {
    "duration": 3,
    "start_time": "2022-04-11T21:31:23.226Z"
   },
   {
    "duration": 140,
    "start_time": "2022-04-11T21:31:23.231Z"
   },
   {
    "duration": 9,
    "start_time": "2022-04-11T21:31:23.372Z"
   },
   {
    "duration": 10,
    "start_time": "2022-04-11T21:31:23.382Z"
   },
   {
    "duration": 761,
    "start_time": "2022-04-11T21:31:23.394Z"
   },
   {
    "duration": 946,
    "start_time": "2022-04-11T21:31:24.156Z"
   },
   {
    "duration": 1004,
    "start_time": "2022-04-11T21:31:25.103Z"
   },
   {
    "duration": 417,
    "start_time": "2022-04-11T21:31:26.110Z"
   },
   {
    "duration": 376,
    "start_time": "2022-04-11T21:31:26.529Z"
   },
   {
    "duration": 11,
    "start_time": "2022-04-11T21:31:26.907Z"
   },
   {
    "duration": 10,
    "start_time": "2022-04-11T21:31:26.920Z"
   },
   {
    "duration": 1091,
    "start_time": "2022-04-11T21:31:26.931Z"
   },
   {
    "duration": 12,
    "start_time": "2022-04-11T21:31:28.024Z"
   },
   {
    "duration": 47,
    "start_time": "2022-04-11T21:31:28.054Z"
   },
   {
    "duration": 213,
    "start_time": "2022-04-11T21:31:28.103Z"
   },
   {
    "duration": 1122,
    "start_time": "2022-04-11T21:31:28.318Z"
   },
   {
    "duration": 13,
    "start_time": "2022-04-11T21:31:29.441Z"
   },
   {
    "duration": 9,
    "start_time": "2022-04-11T21:31:29.457Z"
   },
   {
    "duration": 2885,
    "start_time": "2022-04-11T21:31:29.469Z"
   },
   {
    "duration": 3,
    "start_time": "2022-04-11T21:31:32.357Z"
   },
   {
    "duration": 28,
    "start_time": "2022-04-11T21:31:32.362Z"
   },
   {
    "duration": 3169,
    "start_time": "2022-04-11T21:31:32.391Z"
   },
   {
    "duration": 15231,
    "start_time": "2022-04-11T21:31:35.562Z"
   },
   {
    "duration": 461078,
    "start_time": "2022-04-11T21:31:50.795Z"
   },
   {
    "duration": 0,
    "start_time": "2022-04-11T21:39:31.875Z"
   },
   {
    "duration": 20817,
    "start_time": "2022-04-11T21:40:12.111Z"
   },
   {
    "duration": 43110,
    "start_time": "2022-04-11T21:40:47.588Z"
   },
   {
    "duration": 20134,
    "start_time": "2022-04-11T21:42:06.691Z"
   },
   {
    "duration": 266,
    "start_time": "2022-04-11T21:46:26.897Z"
   },
   {
    "duration": 2660,
    "start_time": "2022-04-11T21:47:55.633Z"
   },
   {
    "duration": 2595,
    "start_time": "2022-04-11T21:49:51.090Z"
   },
   {
    "duration": 5,
    "start_time": "2022-04-11T21:50:01.458Z"
   },
   {
    "duration": 2707,
    "start_time": "2022-04-11T21:50:04.392Z"
   },
   {
    "duration": 366,
    "start_time": "2022-04-11T21:50:24.799Z"
   },
   {
    "duration": 361,
    "start_time": "2022-04-11T21:50:33.820Z"
   },
   {
    "duration": 4,
    "start_time": "2022-04-11T21:51:04.366Z"
   },
   {
    "duration": 3,
    "start_time": "2022-04-11T21:52:24.566Z"
   },
   {
    "duration": 637,
    "start_time": "2022-04-11T21:52:24.571Z"
   },
   {
    "duration": 3,
    "start_time": "2022-04-11T21:52:25.210Z"
   },
   {
    "duration": 153,
    "start_time": "2022-04-11T21:52:25.215Z"
   },
   {
    "duration": 10,
    "start_time": "2022-04-11T21:52:25.371Z"
   },
   {
    "duration": 13,
    "start_time": "2022-04-11T21:52:25.382Z"
   },
   {
    "duration": 114,
    "start_time": "2022-04-11T21:52:25.397Z"
   },
   {
    "duration": 9,
    "start_time": "2022-04-11T21:52:25.513Z"
   },
   {
    "duration": 16,
    "start_time": "2022-04-11T21:52:25.523Z"
   },
   {
    "duration": 591,
    "start_time": "2022-04-11T21:52:25.541Z"
   },
   {
    "duration": 878,
    "start_time": "2022-04-11T21:52:26.135Z"
   },
   {
    "duration": 873,
    "start_time": "2022-04-11T21:52:27.015Z"
   },
   {
    "duration": 363,
    "start_time": "2022-04-11T21:52:27.889Z"
   },
   {
    "duration": 315,
    "start_time": "2022-04-11T21:52:28.254Z"
   },
   {
    "duration": 9,
    "start_time": "2022-04-11T21:52:28.571Z"
   },
   {
    "duration": 14,
    "start_time": "2022-04-11T21:52:28.582Z"
   },
   {
    "duration": 1004,
    "start_time": "2022-04-11T21:52:28.597Z"
   },
   {
    "duration": 11,
    "start_time": "2022-04-11T21:52:29.603Z"
   },
   {
    "duration": 57,
    "start_time": "2022-04-11T21:52:29.616Z"
   },
   {
    "duration": 181,
    "start_time": "2022-04-11T21:52:29.675Z"
   },
   {
    "duration": 988,
    "start_time": "2022-04-11T21:52:29.858Z"
   },
   {
    "duration": 14,
    "start_time": "2022-04-11T21:52:30.848Z"
   },
   {
    "duration": 17,
    "start_time": "2022-04-11T21:52:30.863Z"
   },
   {
    "duration": 1376,
    "start_time": "2022-04-11T21:52:30.882Z"
   },
   {
    "duration": 13929,
    "start_time": "2022-04-11T21:52:32.261Z"
   },
   {
    "duration": 17827,
    "start_time": "2022-04-11T21:52:46.191Z"
   },
   {
    "duration": 387,
    "start_time": "2022-04-11T21:53:04.020Z"
   },
   {
    "duration": 3,
    "start_time": "2022-04-11T21:53:04.409Z"
   },
   {
    "duration": 2323,
    "start_time": "2022-04-11T22:10:55.925Z"
   },
   {
    "duration": 364,
    "start_time": "2022-04-11T22:22:58.014Z"
   },
   {
    "duration": 183,
    "start_time": "2022-04-11T22:23:02.285Z"
   },
   {
    "duration": 1088,
    "start_time": "2022-04-11T22:28:52.158Z"
   },
   {
    "duration": 1526,
    "start_time": "2022-04-11T22:33:28.366Z"
   },
   {
    "duration": 4,
    "start_time": "2022-04-11T22:51:37.049Z"
   },
   {
    "duration": 592,
    "start_time": "2022-04-11T22:51:37.055Z"
   },
   {
    "duration": 5,
    "start_time": "2022-04-11T22:51:37.649Z"
   },
   {
    "duration": 150,
    "start_time": "2022-04-11T22:51:37.656Z"
   },
   {
    "duration": 13,
    "start_time": "2022-04-11T22:51:37.808Z"
   },
   {
    "duration": 4,
    "start_time": "2022-04-11T22:51:37.822Z"
   },
   {
    "duration": 122,
    "start_time": "2022-04-11T22:51:37.828Z"
   },
   {
    "duration": 6,
    "start_time": "2022-04-11T22:51:37.955Z"
   },
   {
    "duration": 5,
    "start_time": "2022-04-11T22:51:37.963Z"
   },
   {
    "duration": 782,
    "start_time": "2022-04-11T22:51:37.970Z"
   },
   {
    "duration": 768,
    "start_time": "2022-04-11T22:51:38.756Z"
   },
   {
    "duration": 1036,
    "start_time": "2022-04-11T22:51:39.526Z"
   },
   {
    "duration": 371,
    "start_time": "2022-04-11T22:51:40.563Z"
   },
   {
    "duration": 186,
    "start_time": "2022-04-11T22:51:40.936Z"
   },
   {
    "duration": 10,
    "start_time": "2022-04-11T22:51:41.124Z"
   },
   {
    "duration": 22,
    "start_time": "2022-04-11T22:51:41.136Z"
   },
   {
    "duration": 1185,
    "start_time": "2022-04-11T22:51:41.160Z"
   },
   {
    "duration": 16,
    "start_time": "2022-04-11T22:51:42.347Z"
   },
   {
    "duration": 45,
    "start_time": "2022-04-11T22:51:42.365Z"
   },
   {
    "duration": 77,
    "start_time": "2022-04-11T22:51:42.412Z"
   },
   {
    "duration": 1145,
    "start_time": "2022-04-11T22:51:42.491Z"
   },
   {
    "duration": 17,
    "start_time": "2022-04-11T22:51:43.638Z"
   },
   {
    "duration": 5,
    "start_time": "2022-04-11T22:51:43.657Z"
   },
   {
    "duration": 1594,
    "start_time": "2022-04-11T22:51:43.664Z"
   },
   {
    "duration": 13828,
    "start_time": "2022-04-11T22:51:45.260Z"
   },
   {
    "duration": 17371,
    "start_time": "2022-04-11T22:51:59.090Z"
   },
   {
    "duration": 374,
    "start_time": "2022-04-11T22:52:16.463Z"
   },
   {
    "duration": 4,
    "start_time": "2022-04-11T22:53:43.432Z"
   },
   {
    "duration": 8,
    "start_time": "2022-04-11T22:54:52.093Z"
   },
   {
    "duration": 8,
    "start_time": "2022-04-11T22:55:43.443Z"
   },
   {
    "duration": 359,
    "start_time": "2022-04-11T22:55:46.158Z"
   },
   {
    "duration": 358,
    "start_time": "2022-04-11T22:55:49.911Z"
   },
   {
    "duration": 367,
    "start_time": "2022-04-11T22:56:09.927Z"
   },
   {
    "duration": 9,
    "start_time": "2022-04-11T22:56:17.024Z"
   },
   {
    "duration": 6,
    "start_time": "2022-04-11T23:01:41.568Z"
   },
   {
    "duration": 3,
    "start_time": "2022-04-11T23:02:01.459Z"
   },
   {
    "duration": 636,
    "start_time": "2022-04-11T23:02:01.464Z"
   },
   {
    "duration": 3,
    "start_time": "2022-04-11T23:02:02.102Z"
   },
   {
    "duration": 172,
    "start_time": "2022-04-11T23:02:02.108Z"
   },
   {
    "duration": 10,
    "start_time": "2022-04-11T23:02:02.281Z"
   },
   {
    "duration": 5,
    "start_time": "2022-04-11T23:02:02.292Z"
   },
   {
    "duration": 123,
    "start_time": "2022-04-11T23:02:02.299Z"
   },
   {
    "duration": 6,
    "start_time": "2022-04-11T23:02:02.423Z"
   },
   {
    "duration": 14,
    "start_time": "2022-04-11T23:02:02.431Z"
   },
   {
    "duration": 609,
    "start_time": "2022-04-11T23:02:02.447Z"
   },
   {
    "duration": 1018,
    "start_time": "2022-04-11T23:02:03.059Z"
   },
   {
    "duration": 892,
    "start_time": "2022-04-11T23:02:04.079Z"
   },
   {
    "duration": 522,
    "start_time": "2022-04-11T23:02:04.973Z"
   },
   {
    "duration": 176,
    "start_time": "2022-04-11T23:02:05.497Z"
   },
   {
    "duration": 9,
    "start_time": "2022-04-11T23:02:05.674Z"
   },
   {
    "duration": 17,
    "start_time": "2022-04-11T23:02:05.685Z"
   },
   {
    "duration": 1112,
    "start_time": "2022-04-11T23:02:05.704Z"
   },
   {
    "duration": 11,
    "start_time": "2022-04-11T23:02:06.818Z"
   },
   {
    "duration": 57,
    "start_time": "2022-04-11T23:02:06.831Z"
   },
   {
    "duration": 45,
    "start_time": "2022-04-11T23:02:06.889Z"
   },
   {
    "duration": 1129,
    "start_time": "2022-04-11T23:02:06.936Z"
   },
   {
    "duration": 11,
    "start_time": "2022-04-11T23:02:08.067Z"
   },
   {
    "duration": 6,
    "start_time": "2022-04-11T23:02:08.080Z"
   },
   {
    "duration": 1364,
    "start_time": "2022-04-11T23:02:08.090Z"
   },
   {
    "duration": 13759,
    "start_time": "2022-04-11T23:02:09.458Z"
   },
   {
    "duration": 17064,
    "start_time": "2022-04-11T23:02:23.219Z"
   },
   {
    "duration": 370,
    "start_time": "2022-04-11T23:02:40.284Z"
   },
   {
    "duration": 7,
    "start_time": "2022-04-11T23:02:40.656Z"
   },
   {
    "duration": 119,
    "start_time": "2022-04-12T18:30:24.296Z"
   },
   {
    "duration": 11,
    "start_time": "2022-04-12T18:35:57.883Z"
   },
   {
    "duration": 4,
    "start_time": "2022-04-12T18:36:28.848Z"
   },
   {
    "duration": 2160,
    "start_time": "2022-04-12T18:47:58.296Z"
   },
   {
    "duration": 4,
    "start_time": "2022-04-12T18:48:00.459Z"
   },
   {
    "duration": 761,
    "start_time": "2022-04-12T18:48:00.466Z"
   },
   {
    "duration": 4,
    "start_time": "2022-04-12T18:48:01.230Z"
   },
   {
    "duration": 397,
    "start_time": "2022-04-12T18:48:01.238Z"
   },
   {
    "duration": 18,
    "start_time": "2022-04-12T18:48:01.637Z"
   },
   {
    "duration": 25,
    "start_time": "2022-04-12T18:48:01.658Z"
   },
   {
    "duration": 273,
    "start_time": "2022-04-12T18:48:01.686Z"
   },
   {
    "duration": 10,
    "start_time": "2022-04-12T18:48:01.961Z"
   },
   {
    "duration": 8,
    "start_time": "2022-04-12T18:48:01.982Z"
   },
   {
    "duration": 1575,
    "start_time": "2022-04-12T18:48:01.993Z"
   },
   {
    "duration": 1638,
    "start_time": "2022-04-12T18:48:03.570Z"
   },
   {
    "duration": 1550,
    "start_time": "2022-04-12T18:48:05.210Z"
   },
   {
    "duration": 907,
    "start_time": "2022-04-12T18:48:06.763Z"
   },
   {
    "duration": 328,
    "start_time": "2022-04-12T18:48:07.672Z"
   },
   {
    "duration": 13,
    "start_time": "2022-04-12T18:48:08.003Z"
   },
   {
    "duration": 17,
    "start_time": "2022-04-12T18:48:08.018Z"
   },
   {
    "duration": 1937,
    "start_time": "2022-04-12T18:48:08.037Z"
   },
   {
    "duration": 20,
    "start_time": "2022-04-12T18:48:09.981Z"
   },
   {
    "duration": 99,
    "start_time": "2022-04-12T18:48:10.003Z"
   },
   {
    "duration": 91,
    "start_time": "2022-04-12T18:48:10.105Z"
   },
   {
    "duration": 2139,
    "start_time": "2022-04-12T18:48:10.199Z"
   },
   {
    "duration": 5,
    "start_time": "2022-04-12T18:48:39.644Z"
   },
   {
    "duration": 15,
    "start_time": "2022-04-12T18:48:52.179Z"
   },
   {
    "duration": 9,
    "start_time": "2022-04-12T18:55:05.528Z"
   },
   {
    "duration": 201,
    "start_time": "2022-04-12T18:55:11.748Z"
   },
   {
    "duration": 97,
    "start_time": "2022-04-12T18:55:32.907Z"
   },
   {
    "duration": 8,
    "start_time": "2022-04-12T18:55:37.070Z"
   },
   {
    "duration": 23,
    "start_time": "2022-04-12T18:55:37.974Z"
   },
   {
    "duration": 8,
    "start_time": "2022-04-12T18:56:05.109Z"
   },
   {
    "duration": 18270,
    "start_time": "2022-04-12T18:56:06.452Z"
   },
   {
    "duration": 18039,
    "start_time": "2022-04-12T18:57:22.401Z"
   },
   {
    "duration": 17771,
    "start_time": "2022-04-12T18:58:35.349Z"
   },
   {
    "duration": 25138,
    "start_time": "2022-04-12T18:59:26.899Z"
   },
   {
    "duration": 11,
    "start_time": "2022-04-12T19:17:36.847Z"
   },
   {
    "duration": 25,
    "start_time": "2022-04-12T19:17:39.662Z"
   },
   {
    "duration": 2287,
    "start_time": "2022-04-12T19:17:47.708Z"
   },
   {
    "duration": 412385,
    "start_time": "2022-04-12T19:18:42.115Z"
   },
   {
    "duration": 7,
    "start_time": "2022-04-12T19:28:06.944Z"
   },
   {
    "duration": 1953,
    "start_time": "2022-04-12T19:37:20.661Z"
   },
   {
    "duration": 5,
    "start_time": "2022-04-12T19:37:22.616Z"
   },
   {
    "duration": 1197,
    "start_time": "2022-04-12T19:37:22.624Z"
   },
   {
    "duration": 6,
    "start_time": "2022-04-12T19:37:23.825Z"
   },
   {
    "duration": 391,
    "start_time": "2022-04-12T19:37:23.833Z"
   },
   {
    "duration": 13,
    "start_time": "2022-04-12T19:37:24.226Z"
   },
   {
    "duration": 19,
    "start_time": "2022-04-12T19:37:24.241Z"
   },
   {
    "duration": 261,
    "start_time": "2022-04-12T19:37:24.298Z"
   },
   {
    "duration": 10,
    "start_time": "2022-04-12T19:37:24.562Z"
   },
   {
    "duration": 8,
    "start_time": "2022-04-12T19:37:24.585Z"
   },
   {
    "duration": 1606,
    "start_time": "2022-04-12T19:37:24.596Z"
   },
   {
    "duration": 1420,
    "start_time": "2022-04-12T19:37:26.205Z"
   },
   {
    "duration": 1529,
    "start_time": "2022-04-12T19:37:27.627Z"
   },
   {
    "duration": 914,
    "start_time": "2022-04-12T19:37:29.158Z"
   },
   {
    "duration": 327,
    "start_time": "2022-04-12T19:37:30.075Z"
   },
   {
    "duration": 14,
    "start_time": "2022-04-12T19:37:30.404Z"
   },
   {
    "duration": 29,
    "start_time": "2022-04-12T19:37:30.420Z"
   },
   {
    "duration": 1955,
    "start_time": "2022-04-12T19:37:30.451Z"
   },
   {
    "duration": 19,
    "start_time": "2022-04-12T19:37:32.408Z"
   },
   {
    "duration": 157,
    "start_time": "2022-04-12T19:37:32.430Z"
   },
   {
    "duration": 99,
    "start_time": "2022-04-12T19:37:32.589Z"
   },
   {
    "duration": 1958,
    "start_time": "2022-04-12T19:37:32.691Z"
   },
   {
    "duration": 32,
    "start_time": "2022-04-12T19:37:34.652Z"
   },
   {
    "duration": 8,
    "start_time": "2022-04-12T19:37:34.686Z"
   },
   {
    "duration": 140108,
    "start_time": "2022-04-12T19:37:34.697Z"
   },
   {
    "duration": 572,
    "start_time": "2022-04-12T19:39:54.807Z"
   },
   {
    "duration": 11,
    "start_time": "2022-04-12T19:39:55.382Z"
   },
   {
    "duration": 1230,
    "start_time": "2022-04-12T19:43:14.822Z"
   },
   {
    "duration": 11,
    "start_time": "2022-04-12T19:43:23.971Z"
   },
   {
    "duration": 1453,
    "start_time": "2022-04-12T19:43:39.009Z"
   },
   {
    "duration": 2134,
    "start_time": "2022-04-12T19:45:16.365Z"
   },
   {
    "duration": 5,
    "start_time": "2022-04-12T19:45:18.503Z"
   },
   {
    "duration": 1240,
    "start_time": "2022-04-12T19:45:18.511Z"
   },
   {
    "duration": 5,
    "start_time": "2022-04-12T19:45:19.756Z"
   },
   {
    "duration": 392,
    "start_time": "2022-04-12T19:45:19.764Z"
   },
   {
    "duration": 31,
    "start_time": "2022-04-12T19:45:20.158Z"
   },
   {
    "duration": 12,
    "start_time": "2022-04-12T19:45:20.192Z"
   },
   {
    "duration": 199,
    "start_time": "2022-04-12T19:45:20.206Z"
   },
   {
    "duration": 8,
    "start_time": "2022-04-12T19:45:20.407Z"
   },
   {
    "duration": 5,
    "start_time": "2022-04-12T19:45:20.419Z"
   },
   {
    "duration": 1126,
    "start_time": "2022-04-12T19:45:20.426Z"
   },
   {
    "duration": 1519,
    "start_time": "2022-04-12T19:45:21.554Z"
   },
   {
    "duration": 2474,
    "start_time": "2022-04-12T19:45:23.081Z"
   },
   {
    "duration": 985,
    "start_time": "2022-04-12T19:45:25.557Z"
   },
   {
    "duration": 348,
    "start_time": "2022-04-12T19:45:26.544Z"
   },
   {
    "duration": 14,
    "start_time": "2022-04-12T19:45:26.895Z"
   },
   {
    "duration": 15,
    "start_time": "2022-04-12T19:45:26.912Z"
   },
   {
    "duration": 3034,
    "start_time": "2022-04-12T19:45:26.930Z"
   },
   {
    "duration": 29,
    "start_time": "2022-04-12T19:45:29.966Z"
   },
   {
    "duration": 116,
    "start_time": "2022-04-12T19:45:29.999Z"
   },
   {
    "duration": 94,
    "start_time": "2022-04-12T19:45:30.117Z"
   },
   {
    "duration": 3139,
    "start_time": "2022-04-12T19:45:30.213Z"
   },
   {
    "duration": 29,
    "start_time": "2022-04-12T19:45:33.354Z"
   },
   {
    "duration": 8,
    "start_time": "2022-04-12T19:45:33.385Z"
   },
   {
    "duration": 165500,
    "start_time": "2022-04-12T19:45:33.395Z"
   },
   {
    "duration": 2172,
    "start_time": "2022-04-12T19:48:18.898Z"
   },
   {
    "duration": 23,
    "start_time": "2022-04-12T19:48:21.073Z"
   }
  ],
  "kernelspec": {
   "display_name": "Python 3 (ipykernel)",
   "language": "python",
   "name": "python3"
  },
  "language_info": {
   "codemirror_mode": {
    "name": "ipython",
    "version": 3
   },
   "file_extension": ".py",
   "mimetype": "text/x-python",
   "name": "python",
   "nbconvert_exporter": "python",
   "pygments_lexer": "ipython3",
   "version": "3.9.7"
  },
  "toc": {
   "base_numbering": 1,
   "nav_menu": {},
   "number_sections": true,
   "sideBar": true,
   "skip_h1_title": true,
   "title_cell": "Содержание",
   "title_sidebar": "Contents",
   "toc_cell": true,
   "toc_position": {},
   "toc_section_display": true,
   "toc_window_display": false
  }
 },
 "nbformat": 4,
 "nbformat_minor": 2
}
